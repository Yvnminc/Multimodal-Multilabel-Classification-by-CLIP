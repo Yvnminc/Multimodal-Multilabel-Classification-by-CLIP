{
 "cells": [
  {
   "cell_type": "code",
   "execution_count": 1,
   "id": "a1b966b3",
   "metadata": {},
   "outputs": [],
   "source": [
    "# # Code to download file into Colaboratory:\n",
    "# !pip install -U -q PyDrive > /dev/null\n",
    "# !pip install torchmetrics > /dev/null\n",
    "# from pydrive.auth import GoogleAuth\n",
    "# import torch\n",
    "# dev = \"cuda\" if torch.cuda.is_available() else \"cpu\"\n",
    "# from pydrive.drive import GoogleDrive\n",
    "# from google.colab import auth\n",
    "# from oauth2client.client import GoogleCredentials\n",
    "# # Authenticate and create the PyDrive client.\n",
    "# auth.authenticate_user()\n",
    "# gauth = GoogleAuth()\n",
    "# gauth.credentials = GoogleCredentials.get_application_default()\n",
    "# drive = GoogleDrive(gauth)\n",
    "\n",
    "# #get the data from the drive\n",
    "# def get_feature(model = \"ViT-L/14@336px\"):\n",
    "#   id = '11yXddz5j-IDcH77wkMF7dW2JctRv7YN6'\n",
    "#   size = \"B\"\n",
    "\n",
    "#   if model == 'ViT-L/14@336px':\n",
    "#     id = '1P6CgrgiIACjnhtHsUwdY8qjZ-E3Vx_0x'\n",
    "#     size = \"L336\"\n",
    "#   elif model == 'ViT-L/14':\n",
    "#     id = '1DG4J-YF57ZsfXTzwg5EFfkzUmUFfr82h'\n",
    "#     size = \"L\"\n",
    "#   elif model == 'ViT-B/32':\n",
    "#     id = '11yXddz5j-IDcH77wkMF7dW2JctRv7YN6'\n",
    "#     size = \"B\"\n",
    "\n",
    "#   downloaded = drive.CreateFile({'id':id}) \n",
    "#   downloaded.GetContentFile('clip_features.zip')\n",
    "\n",
    "#   #get the data from the drive\n",
    "#   id = '1b-ujWaLM_jOzlRMbXVb9T-3oEibKQW1r'\n",
    "#   downloaded = drive.CreateFile({'id':id}) \n",
    "#   downloaded.GetContentFile('label_onehot_tensor.pt')\n",
    "\n",
    "#   !unzip clip_features.zip > /dev/null\n",
    "\n",
    "#   test_image_features = torch.load(f\"test_image_features_vit{size}.pt\")\n",
    "#   test_text_feature = torch.load(f\"test_text_feature_vit{size}.pt\")\n",
    "#   all_image_features = torch.load(f\"all_image_features_vit{size}.pt\")\n",
    "#   all_text_feature = torch.load(f\"all_text_feature_vit{size}.pt\")\n",
    "#   label_onehot_tensor = torch.load(f\"label_onehot_tensor.pt\")\n",
    "\n",
    "#   return all_image_features, all_text_feature, test_image_features, test_text_feature, label_onehot_tensor"
   ]
  },
  {
   "cell_type": "code",
   "execution_count": null,
   "id": "ebcadba3",
   "metadata": {},
   "outputs": [],
   "source": [
    "# all_image_features, all_text_feature, test_image_features, test_text_feature, label_onehot_tensor = get_feature()"
   ]
  },
  {
   "cell_type": "code",
   "execution_count": null,
   "id": "a44e7c23",
   "metadata": {},
   "outputs": [],
   "source": [
    "# import torch\n",
    "# dev = \"cuda\" if torch.cuda.is_available() else \"cpu\"\n",
    "# test_image_features = torch.load(\"test_image_features_vitL.pt\", map_location = torch.device(dev))\n",
    "# test_text_feature = torch.load(\"test_text_feature_vitL.pt\", map_location = torch.device(dev))\n",
    "# all_image_features = torch.load(\"all_image_features_vitL.pt\", map_location = torch.device(dev))\n",
    "# all_text_feature = torch.load(\"all_text_feature_vitL.pt\", map_location = torch.device(dev))\n",
    "# label_onehot_tensor = torch.load(\"label_onehot_tensor.pt\", map_location = torch.device(dev))"
   ]
  },
  {
   "cell_type": "code",
   "execution_count": 1,
   "id": "b75871a9",
   "metadata": {},
   "outputs": [],
   "source": [
    "import torch\n",
    "dev = \"cuda\" if torch.cuda.is_available() else \"cpu\"\n",
    "test_image_features = torch.load(\"../features/test_image_features_vitL.pt\", map_location = torch.device(dev))\n",
    "test_text_feature = torch.load(\"../features/test_text_feature_vitL.pt\", map_location = torch.device(dev))\n",
    "all_image_features = torch.load(\"../features/all_image_features_vitL.pt\", map_location = torch.device(dev))\n",
    "all_text_feature = torch.load(\"../features/all_text_feature_vitL.pt\", map_location = torch.device(dev))\n",
    "label_onehot_tensor = torch.load(\"../features/label_onehot_tensor.pt\", map_location = torch.device(dev))"
   ]
  },
  {
   "cell_type": "code",
   "execution_count": 2,
   "id": "b5b99c23",
   "metadata": {},
   "outputs": [
    {
     "data": {
      "text/plain": [
       "torch.Size([10000, 768])"
      ]
     },
     "execution_count": 2,
     "metadata": {},
     "output_type": "execute_result"
    }
   ],
   "source": [
    "test_image_features.shape"
   ]
  },
  {
   "cell_type": "code",
   "execution_count": 3,
   "id": "bf0ca563",
   "metadata": {},
   "outputs": [],
   "source": [
    "def add_weight_decay(model, weight_decay=1e-4, skip_list=()):\n",
    "    decay = []\n",
    "    no_decay = []\n",
    "    for name, param in model.named_parameters():\n",
    "        if not param.requires_grad:\n",
    "            continue  # frozen weights\n",
    "        if len(param.shape) == 1 or name.endswith(\".bias\") or name in skip_list:\n",
    "            no_decay.append(param)\n",
    "        else:\n",
    "            decay.append(param)\n",
    "    return [\n",
    "        {'params': no_decay, 'weight_decay': 0.},\n",
    "        {'params': decay, 'weight_decay': weight_decay}]"
   ]
  },
  {
   "cell_type": "code",
   "execution_count": 4,
   "id": "167db1be",
   "metadata": {},
   "outputs": [],
   "source": [
    "import torch\n",
    "import torch.nn as nn\n",
    "\n",
    "\n",
    "class AsymmetricLoss(nn.Module):\n",
    "    def __init__(self, gamma_neg=4, gamma_pos=1, clip=0.05, eps=1e-8, disable_torch_grad_focal_loss=True):\n",
    "        super(AsymmetricLoss, self).__init__()\n",
    "\n",
    "        self.gamma_neg = gamma_neg\n",
    "        self.gamma_pos = gamma_pos\n",
    "        self.clip = clip\n",
    "        self.disable_torch_grad_focal_loss = disable_torch_grad_focal_loss\n",
    "        self.eps = eps\n",
    "\n",
    "    def forward(self, x, y):\n",
    "        \"\"\"\"\n",
    "        Parameters\n",
    "        ----------\n",
    "        x: input logits\n",
    "        y: targets (multi-label binarized vector)\n",
    "        \"\"\"\n",
    "\n",
    "        # Calculating Probabilities\n",
    "        \n",
    "        xs_pos = x\n",
    "        xs_neg = 1 - x\n",
    "\n",
    "        # Asymmetric Clipping\n",
    "        if self.clip is not None and self.clip > 0:\n",
    "            xs_neg = (xs_neg + self.clip).clamp(max=1)\n",
    "\n",
    "        # Basic CE calculation\n",
    "        los_pos = y * torch.log(xs_pos.clamp(min=self.eps))\n",
    "        los_neg = (1 - y) * torch.log(xs_neg.clamp(min=self.eps))\n",
    "        loss = los_pos + los_neg\n",
    "\n",
    "        # Asymmetric Focusing\n",
    "        if self.gamma_neg > 0 or self.gamma_pos > 0:\n",
    "            if self.disable_torch_grad_focal_loss:\n",
    "                torch.set_grad_enabled(False)\n",
    "            pt0 = xs_pos * y\n",
    "            pt1 = xs_neg * (1 - y)  # pt = p if t > 0 else 1-p\n",
    "            pt = pt0 + pt1\n",
    "            one_sided_gamma = self.gamma_pos * y + self.gamma_neg * (1 - y)\n",
    "            one_sided_w = torch.pow(1 - pt, one_sided_gamma)\n",
    "            if self.disable_torch_grad_focal_loss:\n",
    "                torch.set_grad_enabled(True)\n",
    "            loss *= one_sided_w\n",
    "\n",
    "        return -loss.sum()\n",
    "\n",
    "\n",
    "class AsymmetricLossOptimized(nn.Module):\n",
    "    ''' Notice - optimized version, minimizes memory allocation and gpu uploading,\n",
    "    favors inplace operations'''\n",
    "\n",
    "    def __init__(self, gamma_neg=4, gamma_pos=1, clip=0.05, eps=1e-8, disable_torch_grad_focal_loss=False):\n",
    "        super(AsymmetricLossOptimized, self).__init__()\n",
    "\n",
    "        self.gamma_neg = gamma_neg\n",
    "        self.gamma_pos = gamma_pos\n",
    "        self.clip = clip\n",
    "        self.disable_torch_grad_focal_loss = disable_torch_grad_focal_loss\n",
    "        self.eps = eps\n",
    "        # prevent memory allocation and gpu uploading every iteration, and encourages inplace operations\n",
    "        self.targets = self.anti_targets = self.xs_pos = self.xs_neg = self.asymmetric_w = self.loss = None\n",
    "\n",
    "    def forward(self, x, y):\n",
    "        \"\"\"\"\n",
    "        Parameters\n",
    "        ----------\n",
    "        x: input logits\n",
    "        y: targets (multi-label binarized vector)\n",
    "        \"\"\"\n",
    "\n",
    "        self.targets = y\n",
    "        self.anti_targets = 1 - y\n",
    "\n",
    "        # Calculating Probabilities\n",
    "        self.xs_pos = torch.sigmoid(x)\n",
    "        self.xs_neg = 1.0 - self.xs_pos\n",
    "\n",
    "        # Asymmetric Clipping\n",
    "        if self.clip is not None and self.clip > 0:\n",
    "            self.xs_neg.add_(self.clip).clamp_(max=1)\n",
    "\n",
    "        # Basic CE calculation\n",
    "        self.loss = self.targets * torch.log(self.xs_pos.clamp(min=self.eps))\n",
    "        self.loss.add_(self.anti_targets * torch.log(self.xs_neg.clamp(min=self.eps)))\n",
    "        \n",
    "        # Asymmetric Focusing\n",
    "        if self.gamma_neg > 0 or self.gamma_pos > 0:\n",
    "            if self.disable_torch_grad_focal_loss:\n",
    "                torch.set_grad_enabled(False)\n",
    "            self.xs_pos = self.xs_pos * self.targets\n",
    "            self.xs_neg = self.xs_neg * self.anti_targets\n",
    "            self.asymmetric_w = torch.pow(1 - self.xs_pos - self.xs_neg,\n",
    "                                          self.gamma_pos * self.targets + self.gamma_neg * self.anti_targets)\n",
    "            if self.disable_torch_grad_focal_loss:\n",
    "                torch.set_grad_enabled(True)\n",
    "            self.loss *= self.asymmetric_w\n",
    "\n",
    "        return -self.loss.sum()"
   ]
  },
  {
   "cell_type": "code",
   "execution_count": 5,
   "id": "6ce5204b",
   "metadata": {},
   "outputs": [],
   "source": [
    "import numpy as np\n",
    "from tqdm import tqdm\n",
    "import torch.nn.functional as F\n",
    "from torchmetrics import F1Score\n",
    "from torch import optim\n",
    "from torch.cuda.amp import GradScaler, autocast\n",
    "\n",
    "from torch.utils.data import TensorDataset\n",
    "from torch.utils.data import DataLoader\n",
    "def Trainer(model, Data, epochs, epoch_step_1, epoch_step_2, lr = 1e-3):\n",
    "    torch.manual_seed(5329)\n",
    "    train_data = DataLoader(TensorDataset(Data[:25000], label_onehot_tensor[:25000]), batch_size=25000, shuffle = True)\n",
    "    val_data = DataLoader(TensorDataset(Data[25000:], label_onehot_tensor[25000:].to(torch.int32)), batch_size=5000, shuffle = False)\n",
    "    \n",
    "    # Change here to switch to the best setting\n",
    "    # train_data = DataLoader(TensorDataset(Data, label_onehot_tensor), batch_size=30000, shuffle = True)\n",
    "    \n",
    "    model = model.to(dev)\n",
    " \n",
    "    weight_decay = 2e-4\n",
    "    criterion = AsymmetricLoss(gamma_neg=0, gamma_pos=0, clip=0, disable_torch_grad_focal_loss=True)\n",
    "    parameters = add_weight_decay(model, weight_decay)\n",
    "    opti = optim.Adam(params=parameters, lr=lr, weight_decay=0)\n",
    "    scheduler = torch.optim.lr_scheduler.MultiStepLR(opti, milestones=[epoch_step_1,epoch_step_2], gamma = 0.1)\n",
    "    f1 = F1Score(task=\"multilabel\", num_labels = 18).to(dev)\n",
    "\n",
    "    epoch = epochs\n",
    "    train_loss = []\n",
    "    val_loss = []\n",
    "    f1_list = []\n",
    "    scaler = GradScaler()\n",
    "    \n",
    "    for epoch in tqdm(range(epoch), colour = 'GREEN'):\n",
    "        for data, label in train_data:   \n",
    "            data, label = data.to(dev), label.to(dev)\n",
    "\n",
    "            with autocast():  # mixed precision\n",
    "                output = model(data).float() \n",
    "\n",
    "            loss = criterion(output, label)\n",
    "            model.zero_grad()\n",
    "            \n",
    "            scaler.scale(loss).backward()\n",
    "            scaler.step(opti)\n",
    "            scaler.update()\n",
    "            \n",
    "        train_loss.append(loss.item())\n",
    "        \n",
    "        with torch.autograd.no_grad():\n",
    "            for data_val, label_val in val_data:\n",
    "                data_val, label_val = data_val.to(dev), label_val.to(dev)\n",
    "                predict = model(data_val)\n",
    "                f1_score = f1(predict, label_val)\n",
    "                v_loss = criterion(predict, label_val)\n",
    "            val_loss.append(v_loss.item())\n",
    "            f1_list.append(f1_score.item())\n",
    "        \n",
    "        # Comment the code below if you want to switch to the best settings (i.e., no validation data)\n",
    "        if epoch % 10 == 0:\n",
    "            print('Validation F1 in epoch{} : {:.4f}'.format(epoch, f1_score.item()))\n",
    "            print('Validation loss in epoch{} : {:.4f}'.format(epoch, v_loss.item()))\n",
    "    \n",
    "    return model, train_loss, val_loss, f1_list"
   ]
  },
  {
   "cell_type": "code",
   "execution_count": 6,
   "id": "d5005d30",
   "metadata": {},
   "outputs": [],
   "source": [
    "import torch.nn as nn\n",
    "import torch.nn.functional as F\n",
    "class FEATURE_EXTRACTOR(nn.Module):\n",
    "    def __init__(self):\n",
    "        super().__init__()\n",
    "        self.fc1 = nn.Linear(768, 2048)\n",
    "        self.fc2 = nn.Linear(2048, 18)\n",
    "        self.dropout = nn.Dropout(p = 0.5)\n",
    "\n",
    "    def forward(self, inputs):\n",
    "        tensor = F.gelu(self.fc1(inputs))\n",
    "        tensor = self.dropout(tensor)\n",
    "        tensor = torch.sigmoid(self.fc2(tensor))\n",
    "        return tensor\n",
    "\n",
    "class DECISION_MODEL(nn.Module):\n",
    "    def __init__(self):\n",
    "        super().__init__()\n",
    "        self.fc1 = nn.Linear(18, 1024)\n",
    "        self.fc2 = nn.Linear(1024, 512)\n",
    "        self.fc3 = nn.Linear(512, 18)\n",
    "\n",
    "    def forward(self, inputs):\n",
    "        tensor = F.gelu(self.fc1(inputs))\n",
    "        tensor = F.gelu(self.fc2(tensor))\n",
    "        tensor = torch.sigmoid(self.fc3(tensor))\n",
    "        return tensor"
   ]
  },
  {
   "cell_type": "markdown",
   "id": "145eeb06",
   "metadata": {},
   "source": [
    "## Experiment on Fusion Methods"
   ]
  },
  {
   "cell_type": "markdown",
   "id": "c3be25a7",
   "metadata": {},
   "source": [
    "## Case 1: Use only Image Features"
   ]
  },
  {
   "cell_type": "code",
   "execution_count": 7,
   "id": "2ede35dd",
   "metadata": {},
   "outputs": [
    {
     "name": "stderr",
     "output_type": "stream",
     "text": [
      "  0%|\u001b[32m▍                                                                                 \u001b[0m| 1/200 [00:00<03:05,  1.07it/s]\u001b[0m"
     ]
    },
    {
     "name": "stdout",
     "output_type": "stream",
     "text": [
      "Validation F1 in epoch0 : 0.1666\n",
      "Validation loss in epoch0 : 63037.9883\n"
     ]
    },
    {
     "name": "stderr",
     "output_type": "stream",
     "text": [
      "  6%|\u001b[32m████▍                                                                            \u001b[0m| 11/200 [00:03<00:50,  3.73it/s]\u001b[0m"
     ]
    },
    {
     "name": "stdout",
     "output_type": "stream",
     "text": [
      "Validation F1 in epoch10 : 0.1649\n",
      "Validation loss in epoch10 : 63075.5039\n"
     ]
    },
    {
     "name": "stderr",
     "output_type": "stream",
     "text": [
      " 10%|\u001b[32m████████▌                                                                        \u001b[0m| 21/200 [00:06<00:50,  3.53it/s]\u001b[0m"
     ]
    },
    {
     "name": "stdout",
     "output_type": "stream",
     "text": [
      "Validation F1 in epoch20 : 0.6038\n",
      "Validation loss in epoch20 : 18606.1367\n"
     ]
    },
    {
     "name": "stderr",
     "output_type": "stream",
     "text": [
      " 16%|\u001b[32m████████████▌                                                                    \u001b[0m| 31/200 [00:09<00:48,  3.45it/s]\u001b[0m"
     ]
    },
    {
     "name": "stdout",
     "output_type": "stream",
     "text": [
      "Validation F1 in epoch30 : 0.7367\n",
      "Validation loss in epoch30 : 11904.4883\n"
     ]
    },
    {
     "name": "stderr",
     "output_type": "stream",
     "text": [
      " 20%|\u001b[32m████████████████▌                                                                \u001b[0m| 41/200 [00:12<00:45,  3.47it/s]\u001b[0m"
     ]
    },
    {
     "name": "stdout",
     "output_type": "stream",
     "text": [
      "Validation F1 in epoch40 : 0.7755\n",
      "Validation loss in epoch40 : 8938.7266\n"
     ]
    },
    {
     "name": "stderr",
     "output_type": "stream",
     "text": [
      " 26%|\u001b[32m████████████████████▋                                                            \u001b[0m| 51/200 [00:15<00:43,  3.46it/s]\u001b[0m"
     ]
    },
    {
     "name": "stdout",
     "output_type": "stream",
     "text": [
      "Validation F1 in epoch50 : 0.8161\n",
      "Validation loss in epoch50 : 7661.4854\n"
     ]
    },
    {
     "name": "stderr",
     "output_type": "stream",
     "text": [
      " 30%|\u001b[32m████████████████████████▋                                                        \u001b[0m| 61/200 [00:18<00:40,  3.44it/s]\u001b[0m"
     ]
    },
    {
     "name": "stdout",
     "output_type": "stream",
     "text": [
      "Validation F1 in epoch60 : 0.8289\n",
      "Validation loss in epoch60 : 7156.0430\n"
     ]
    },
    {
     "name": "stderr",
     "output_type": "stream",
     "text": [
      " 36%|\u001b[32m████████████████████████████▊                                                    \u001b[0m| 71/200 [00:21<00:37,  3.47it/s]\u001b[0m"
     ]
    },
    {
     "name": "stdout",
     "output_type": "stream",
     "text": [
      "Validation F1 in epoch70 : 0.8364\n",
      "Validation loss in epoch70 : 6900.0771\n"
     ]
    },
    {
     "name": "stderr",
     "output_type": "stream",
     "text": [
      " 40%|\u001b[32m████████████████████████████████▊                                                \u001b[0m| 81/200 [00:24<00:34,  3.47it/s]\u001b[0m"
     ]
    },
    {
     "name": "stdout",
     "output_type": "stream",
     "text": [
      "Validation F1 in epoch80 : 0.8424\n",
      "Validation loss in epoch80 : 6732.8770\n"
     ]
    },
    {
     "name": "stderr",
     "output_type": "stream",
     "text": [
      " 46%|\u001b[32m████████████████████████████████████▊                                            \u001b[0m| 91/200 [00:26<00:31,  3.46it/s]\u001b[0m"
     ]
    },
    {
     "name": "stdout",
     "output_type": "stream",
     "text": [
      "Validation F1 in epoch90 : 0.8431\n",
      "Validation loss in epoch90 : 6630.8994\n"
     ]
    },
    {
     "name": "stderr",
     "output_type": "stream",
     "text": [
      " 50%|\u001b[32m████████████████████████████████████████▍                                       \u001b[0m| 101/200 [00:29<00:28,  3.51it/s]\u001b[0m"
     ]
    },
    {
     "name": "stdout",
     "output_type": "stream",
     "text": [
      "Validation F1 in epoch100 : 0.8455\n",
      "Validation loss in epoch100 : 6545.7935\n"
     ]
    },
    {
     "name": "stderr",
     "output_type": "stream",
     "text": [
      " 56%|\u001b[32m████████████████████████████████████████████▍                                   \u001b[0m| 111/200 [00:32<00:26,  3.39it/s]\u001b[0m"
     ]
    },
    {
     "name": "stdout",
     "output_type": "stream",
     "text": [
      "Validation F1 in epoch110 : 0.8483\n",
      "Validation loss in epoch110 : 6522.8516\n"
     ]
    },
    {
     "name": "stderr",
     "output_type": "stream",
     "text": [
      " 60%|\u001b[32m████████████████████████████████████████████████▍                               \u001b[0m| 121/200 [00:35<00:26,  3.02it/s]\u001b[0m"
     ]
    },
    {
     "name": "stdout",
     "output_type": "stream",
     "text": [
      "Validation F1 in epoch120 : 0.8494\n",
      "Validation loss in epoch120 : 6453.2451\n"
     ]
    },
    {
     "name": "stderr",
     "output_type": "stream",
     "text": [
      " 66%|\u001b[32m████████████████████████████████████████████████████▍                           \u001b[0m| 131/200 [00:38<00:20,  3.37it/s]\u001b[0m"
     ]
    },
    {
     "name": "stdout",
     "output_type": "stream",
     "text": [
      "Validation F1 in epoch130 : 0.8477\n",
      "Validation loss in epoch130 : 6462.4385\n"
     ]
    },
    {
     "name": "stderr",
     "output_type": "stream",
     "text": [
      " 70%|\u001b[32m████████████████████████████████████████████████████████▍                       \u001b[0m| 141/200 [00:41<00:17,  3.29it/s]\u001b[0m"
     ]
    },
    {
     "name": "stdout",
     "output_type": "stream",
     "text": [
      "Validation F1 in epoch140 : 0.8512\n",
      "Validation loss in epoch140 : 6399.9204\n"
     ]
    },
    {
     "name": "stderr",
     "output_type": "stream",
     "text": [
      " 76%|\u001b[32m████████████████████████████████████████████████████████████▍                   \u001b[0m| 151/200 [00:44<00:13,  3.60it/s]\u001b[0m"
     ]
    },
    {
     "name": "stdout",
     "output_type": "stream",
     "text": [
      "Validation F1 in epoch150 : 0.8504\n",
      "Validation loss in epoch150 : 6374.5181\n"
     ]
    },
    {
     "name": "stderr",
     "output_type": "stream",
     "text": [
      " 80%|\u001b[32m████████████████████████████████████████████████████████████████▍               \u001b[0m| 161/200 [00:47<00:12,  3.09it/s]\u001b[0m"
     ]
    },
    {
     "name": "stdout",
     "output_type": "stream",
     "text": [
      "Validation F1 in epoch160 : 0.8516\n",
      "Validation loss in epoch160 : 6380.7710\n"
     ]
    },
    {
     "name": "stderr",
     "output_type": "stream",
     "text": [
      " 86%|\u001b[32m████████████████████████████████████████████████████████████████████▍           \u001b[0m| 171/200 [00:50<00:08,  3.45it/s]\u001b[0m"
     ]
    },
    {
     "name": "stdout",
     "output_type": "stream",
     "text": [
      "Validation F1 in epoch170 : 0.8541\n",
      "Validation loss in epoch170 : 6372.9980\n"
     ]
    },
    {
     "name": "stderr",
     "output_type": "stream",
     "text": [
      " 90%|\u001b[32m████████████████████████████████████████████████████████████████████████▍       \u001b[0m| 181/200 [00:53<00:05,  3.30it/s]\u001b[0m"
     ]
    },
    {
     "name": "stdout",
     "output_type": "stream",
     "text": [
      "Validation F1 in epoch180 : 0.8512\n",
      "Validation loss in epoch180 : 6383.0234\n"
     ]
    },
    {
     "name": "stderr",
     "output_type": "stream",
     "text": [
      " 96%|\u001b[32m████████████████████████████████████████████████████████████████████████████▍   \u001b[0m| 191/200 [00:56<00:03,  2.96it/s]\u001b[0m"
     ]
    },
    {
     "name": "stdout",
     "output_type": "stream",
     "text": [
      "Validation F1 in epoch190 : 0.8551\n",
      "Validation loss in epoch190 : 6332.7744\n"
     ]
    },
    {
     "name": "stderr",
     "output_type": "stream",
     "text": [
      "100%|\u001b[32m████████████████████████████████████████████████████████████████████████████████\u001b[0m| 200/200 [00:59<00:00,  3.37it/s]\u001b[0m\n"
     ]
    }
   ],
   "source": [
    "import os\n",
    "Net, train_image_loss, val_image_loss, f1_image_list = Trainer(FEATURE_EXTRACTOR(), all_image_features, 200, 100, 150)\n",
    "Net.eval()\n",
    "with torch.autograd.no_grad():\n",
    "    img_train = Net(all_image_features.to(dev))\n",
    "    img_test = Net(test_image_features.to(dev))"
   ]
  },
  {
   "cell_type": "code",
   "execution_count": 8,
   "id": "678b34b3",
   "metadata": {},
   "outputs": [
    {
     "data": {
      "image/png": "[encoded data removed]",
      "text/plain": [
       "<Figure size 640x480 with 1 Axes>"
      ]
     },
     "metadata": {},
     "output_type": "display_data"
    }
   ],
   "source": [
    "import matplotlib.pyplot as plt\n",
    "plt.plot(train_image_loss, label='training loss')\n",
    "plt.plot(val_image_loss, label='validation loss')\n",
    "plt.xlabel('Training Epoch')\n",
    "plt.ylabel('Loss')\n",
    "plt.legend()\n",
    "plt.savefig('visuals/image_features.png')\n",
    "plt.show()"
   ]
  },
  {
   "cell_type": "markdown",
   "id": "94e4a523",
   "metadata": {},
   "source": [
    "## Case 2: Use only Text Features"
   ]
  },
  {
   "cell_type": "code",
   "execution_count": 9,
   "id": "0641e732",
   "metadata": {},
   "outputs": [
    {
     "name": "stderr",
     "output_type": "stream",
     "text": [
      "  0%|\u001b[32m▍                                                                                 \u001b[0m| 1/200 [00:00<00:55,  3.56it/s]\u001b[0m"
     ]
    },
    {
     "name": "stdout",
     "output_type": "stream",
     "text": [
      "Validation F1 in epoch0 : 0.1386\n",
      "Validation loss in epoch0 : 62496.9648\n"
     ]
    },
    {
     "name": "stderr",
     "output_type": "stream",
     "text": [
      "  6%|\u001b[32m████▍                                                                            \u001b[0m| 11/200 [00:03<00:55,  3.43it/s]\u001b[0m"
     ]
    },
    {
     "name": "stdout",
     "output_type": "stream",
     "text": [
      "Validation F1 in epoch10 : 0.1368\n",
      "Validation loss in epoch10 : 62499.8594\n"
     ]
    },
    {
     "name": "stderr",
     "output_type": "stream",
     "text": [
      " 10%|\u001b[32m████████▌                                                                        \u001b[0m| 21/200 [00:06<00:53,  3.34it/s]\u001b[0m"
     ]
    },
    {
     "name": "stdout",
     "output_type": "stream",
     "text": [
      "Validation F1 in epoch20 : 0.5927\n",
      "Validation loss in epoch20 : 17961.6348\n"
     ]
    },
    {
     "name": "stderr",
     "output_type": "stream",
     "text": [
      " 16%|\u001b[32m████████████▌                                                                    \u001b[0m| 31/200 [00:09<00:52,  3.25it/s]\u001b[0m"
     ]
    },
    {
     "name": "stdout",
     "output_type": "stream",
     "text": [
      "Validation F1 in epoch30 : 0.6801\n",
      "Validation loss in epoch30 : 12579.6719\n"
     ]
    },
    {
     "name": "stderr",
     "output_type": "stream",
     "text": [
      " 20%|\u001b[32m████████████████▌                                                                \u001b[0m| 41/200 [00:12<00:50,  3.12it/s]\u001b[0m"
     ]
    },
    {
     "name": "stdout",
     "output_type": "stream",
     "text": [
      "Validation F1 in epoch40 : 0.7786\n",
      "Validation loss in epoch40 : 10053.8545\n"
     ]
    },
    {
     "name": "stderr",
     "output_type": "stream",
     "text": [
      " 26%|\u001b[32m████████████████████▋                                                            \u001b[0m| 51/200 [00:15<00:47,  3.15it/s]\u001b[0m"
     ]
    },
    {
     "name": "stdout",
     "output_type": "stream",
     "text": [
      "Validation F1 in epoch50 : 0.7951\n",
      "Validation loss in epoch50 : 8986.5547\n"
     ]
    },
    {
     "name": "stderr",
     "output_type": "stream",
     "text": [
      " 30%|\u001b[32m████████████████████████▋                                                        \u001b[0m| 61/200 [00:18<00:42,  3.26it/s]\u001b[0m"
     ]
    },
    {
     "name": "stdout",
     "output_type": "stream",
     "text": [
      "Validation F1 in epoch60 : 0.8096\n",
      "Validation loss in epoch60 : 8566.8662\n"
     ]
    },
    {
     "name": "stderr",
     "output_type": "stream",
     "text": [
      " 36%|\u001b[32m████████████████████████████▊                                                    \u001b[0m| 71/200 [00:22<00:38,  3.38it/s]\u001b[0m"
     ]
    },
    {
     "name": "stdout",
     "output_type": "stream",
     "text": [
      "Validation F1 in epoch70 : 0.8147\n",
      "Validation loss in epoch70 : 8308.6328\n"
     ]
    },
    {
     "name": "stderr",
     "output_type": "stream",
     "text": [
      " 40%|\u001b[32m████████████████████████████████▊                                                \u001b[0m| 81/200 [00:25<00:36,  3.25it/s]\u001b[0m"
     ]
    },
    {
     "name": "stdout",
     "output_type": "stream",
     "text": [
      "Validation F1 in epoch80 : 0.8176\n",
      "Validation loss in epoch80 : 8191.3613\n"
     ]
    },
    {
     "name": "stderr",
     "output_type": "stream",
     "text": [
      " 46%|\u001b[32m████████████████████████████████████▊                                            \u001b[0m| 91/200 [00:28<00:33,  3.23it/s]\u001b[0m"
     ]
    },
    {
     "name": "stdout",
     "output_type": "stream",
     "text": [
      "Validation F1 in epoch90 : 0.8223\n",
      "Validation loss in epoch90 : 8097.8457\n"
     ]
    },
    {
     "name": "stderr",
     "output_type": "stream",
     "text": [
      " 50%|\u001b[32m████████████████████████████████████████▍                                       \u001b[0m| 101/200 [00:31<00:31,  3.14it/s]\u001b[0m"
     ]
    },
    {
     "name": "stdout",
     "output_type": "stream",
     "text": [
      "Validation F1 in epoch100 : 0.8212\n",
      "Validation loss in epoch100 : 8049.8428\n"
     ]
    },
    {
     "name": "stderr",
     "output_type": "stream",
     "text": [
      " 56%|\u001b[32m████████████████████████████████████████████▍                                   \u001b[0m| 111/200 [00:34<00:29,  3.02it/s]\u001b[0m"
     ]
    },
    {
     "name": "stdout",
     "output_type": "stream",
     "text": [
      "Validation F1 in epoch110 : 0.8233\n",
      "Validation loss in epoch110 : 7991.7744\n"
     ]
    },
    {
     "name": "stderr",
     "output_type": "stream",
     "text": [
      " 60%|\u001b[32m████████████████████████████████████████████████▍                               \u001b[0m| 121/200 [00:37<00:24,  3.20it/s]\u001b[0m"
     ]
    },
    {
     "name": "stdout",
     "output_type": "stream",
     "text": [
      "Validation F1 in epoch120 : 0.8239\n",
      "Validation loss in epoch120 : 7953.7817\n"
     ]
    },
    {
     "name": "stderr",
     "output_type": "stream",
     "text": [
      " 66%|\u001b[32m████████████████████████████████████████████████████▍                           \u001b[0m| 131/200 [00:40<00:20,  3.44it/s]\u001b[0m"
     ]
    },
    {
     "name": "stdout",
     "output_type": "stream",
     "text": [
      "Validation F1 in epoch130 : 0.8257\n",
      "Validation loss in epoch130 : 7949.5557\n"
     ]
    },
    {
     "name": "stderr",
     "output_type": "stream",
     "text": [
      " 70%|\u001b[32m████████████████████████████████████████████████████████▍                       \u001b[0m| 141/200 [00:44<00:17,  3.34it/s]\u001b[0m"
     ]
    },
    {
     "name": "stdout",
     "output_type": "stream",
     "text": [
      "Validation F1 in epoch140 : 0.8252\n",
      "Validation loss in epoch140 : 7897.8193\n"
     ]
    },
    {
     "name": "stderr",
     "output_type": "stream",
     "text": [
      " 76%|\u001b[32m████████████████████████████████████████████████████████████▍                   \u001b[0m| 151/200 [00:47<00:14,  3.36it/s]\u001b[0m"
     ]
    },
    {
     "name": "stdout",
     "output_type": "stream",
     "text": [
      "Validation F1 in epoch150 : 0.8254\n",
      "Validation loss in epoch150 : 7862.3643\n"
     ]
    },
    {
     "name": "stderr",
     "output_type": "stream",
     "text": [
      " 80%|\u001b[32m████████████████████████████████████████████████████████████████▍               \u001b[0m| 161/200 [00:50<00:11,  3.30it/s]\u001b[0m"
     ]
    },
    {
     "name": "stdout",
     "output_type": "stream",
     "text": [
      "Validation F1 in epoch160 : 0.8242\n",
      "Validation loss in epoch160 : 7866.1943\n"
     ]
    },
    {
     "name": "stderr",
     "output_type": "stream",
     "text": [
      " 86%|\u001b[32m████████████████████████████████████████████████████████████████████▍           \u001b[0m| 171/200 [00:53<00:08,  3.36it/s]\u001b[0m"
     ]
    },
    {
     "name": "stdout",
     "output_type": "stream",
     "text": [
      "Validation F1 in epoch170 : 0.8239\n",
      "Validation loss in epoch170 : 7869.7183\n"
     ]
    },
    {
     "name": "stderr",
     "output_type": "stream",
     "text": [
      " 90%|\u001b[32m████████████████████████████████████████████████████████████████████████▍       \u001b[0m| 181/200 [00:56<00:06,  3.08it/s]\u001b[0m"
     ]
    },
    {
     "name": "stdout",
     "output_type": "stream",
     "text": [
      "Validation F1 in epoch180 : 0.8251\n",
      "Validation loss in epoch180 : 7816.0264\n"
     ]
    },
    {
     "name": "stderr",
     "output_type": "stream",
     "text": [
      " 96%|\u001b[32m████████████████████████████████████████████████████████████████████████████▍   \u001b[0m| 191/200 [00:59<00:02,  3.26it/s]\u001b[0m"
     ]
    },
    {
     "name": "stdout",
     "output_type": "stream",
     "text": [
      "Validation F1 in epoch190 : 0.8250\n",
      "Validation loss in epoch190 : 7823.6460\n"
     ]
    },
    {
     "name": "stderr",
     "output_type": "stream",
     "text": [
      "100%|\u001b[32m████████████████████████████████████████████████████████████████████████████████\u001b[0m| 200/200 [01:02<00:00,  3.19it/s]\u001b[0m\n"
     ]
    }
   ],
   "source": [
    "Net, train_text_loss, val_text_loss, f1_text_list = Trainer(FEATURE_EXTRACTOR(), all_text_feature, 200, 100, 150)\n",
    "Net.eval()\n",
    "with torch.autograd.no_grad():\n",
    "    txt_train = Net(all_text_feature.to(dev))\n",
    "    txt_test = Net(test_text_feature.to(dev))"
   ]
  },
  {
   "cell_type": "code",
   "execution_count": 10,
   "id": "b7d78302",
   "metadata": {},
   "outputs": [
    {
     "data": {
      "image/png": "[encoded data removed]",
      "text/plain": [
       "<Figure size 640x480 with 1 Axes>"
      ]
     },
     "metadata": {},
     "output_type": "display_data"
    }
   ],
   "source": [
    "import matplotlib.pyplot as plt\n",
    "plt.plot(train_text_loss, label='training loss')\n",
    "plt.plot(val_text_loss, label='validation loss')\n",
    "plt.xlabel('Training Epoch')\n",
    "plt.ylabel('Loss')\n",
    "plt.legend()\n",
    "plt.savefig('visuals/text_features.png')\n",
    "plt.show()"
   ]
  },
  {
   "cell_type": "markdown",
   "id": "6b23165c",
   "metadata": {},
   "source": [
    "## Case 3: Use sum Fusion"
   ]
  },
  {
   "cell_type": "code",
   "execution_count": 11,
   "id": "0f2e0075",
   "metadata": {},
   "outputs": [
    {
     "name": "stderr",
     "output_type": "stream",
     "text": [
      "  0%|\u001b[32m▍                                                                                 \u001b[0m| 1/200 [00:00<01:06,  2.99it/s]\u001b[0m"
     ]
    },
    {
     "name": "stdout",
     "output_type": "stream",
     "text": [
      "Validation F1 in epoch0 : 0.0849\n",
      "Validation loss in epoch0 : 62927.3750\n"
     ]
    },
    {
     "name": "stderr",
     "output_type": "stream",
     "text": [
      "  6%|\u001b[32m████▍                                                                            \u001b[0m| 11/200 [00:03<01:08,  2.75it/s]\u001b[0m"
     ]
    },
    {
     "name": "stdout",
     "output_type": "stream",
     "text": [
      "Validation F1 in epoch10 : 0.0849\n",
      "Validation loss in epoch10 : 62927.3750\n"
     ]
    },
    {
     "name": "stderr",
     "output_type": "stream",
     "text": [
      " 10%|\u001b[32m████████▌                                                                        \u001b[0m| 21/200 [00:06<00:52,  3.39it/s]\u001b[0m"
     ]
    },
    {
     "name": "stdout",
     "output_type": "stream",
     "text": [
      "Validation F1 in epoch20 : 0.5916\n",
      "Validation loss in epoch20 : 21062.7695\n"
     ]
    },
    {
     "name": "stderr",
     "output_type": "stream",
     "text": [
      " 16%|\u001b[32m████████████▌                                                                    \u001b[0m| 31/200 [00:09<00:51,  3.30it/s]\u001b[0m"
     ]
    },
    {
     "name": "stdout",
     "output_type": "stream",
     "text": [
      "Validation F1 in epoch30 : 0.6446\n",
      "Validation loss in epoch30 : 16977.2734\n"
     ]
    },
    {
     "name": "stderr",
     "output_type": "stream",
     "text": [
      " 20%|\u001b[32m████████████████▌                                                                \u001b[0m| 41/200 [00:12<00:50,  3.14it/s]\u001b[0m"
     ]
    },
    {
     "name": "stdout",
     "output_type": "stream",
     "text": [
      "Validation F1 in epoch40 : 0.7295\n",
      "Validation loss in epoch40 : 11977.9834\n"
     ]
    },
    {
     "name": "stderr",
     "output_type": "stream",
     "text": [
      " 26%|\u001b[32m████████████████████▋                                                            \u001b[0m| 51/200 [00:16<00:47,  3.12it/s]\u001b[0m"
     ]
    },
    {
     "name": "stdout",
     "output_type": "stream",
     "text": [
      "Validation F1 in epoch50 : 0.7932\n",
      "Validation loss in epoch50 : 9594.2090\n"
     ]
    },
    {
     "name": "stderr",
     "output_type": "stream",
     "text": [
      " 30%|\u001b[32m████████████████████████▋                                                        \u001b[0m| 61/200 [00:19<00:45,  3.07it/s]\u001b[0m"
     ]
    },
    {
     "name": "stdout",
     "output_type": "stream",
     "text": [
      "Validation F1 in epoch60 : 0.8192\n",
      "Validation loss in epoch60 : 8126.6353\n"
     ]
    },
    {
     "name": "stderr",
     "output_type": "stream",
     "text": [
      " 36%|\u001b[32m████████████████████████████▊                                                    \u001b[0m| 71/200 [00:22<00:42,  3.05it/s]\u001b[0m"
     ]
    },
    {
     "name": "stdout",
     "output_type": "stream",
     "text": [
      "Validation F1 in epoch70 : 0.8396\n",
      "Validation loss in epoch70 : 7283.5674\n"
     ]
    },
    {
     "name": "stderr",
     "output_type": "stream",
     "text": [
      " 40%|\u001b[32m████████████████████████████████▊                                                \u001b[0m| 81/200 [00:25<00:36,  3.23it/s]\u001b[0m"
     ]
    },
    {
     "name": "stdout",
     "output_type": "stream",
     "text": [
      "Validation F1 in epoch80 : 0.8483\n",
      "Validation loss in epoch80 : 6867.9106\n"
     ]
    },
    {
     "name": "stderr",
     "output_type": "stream",
     "text": [
      " 46%|\u001b[32m████████████████████████████████████▊                                            \u001b[0m| 91/200 [00:28<00:35,  3.11it/s]\u001b[0m"
     ]
    },
    {
     "name": "stdout",
     "output_type": "stream",
     "text": [
      "Validation F1 in epoch90 : 0.8539\n",
      "Validation loss in epoch90 : 6639.2871\n"
     ]
    },
    {
     "name": "stderr",
     "output_type": "stream",
     "text": [
      " 50%|\u001b[32m████████████████████████████████████████▍                                       \u001b[0m| 101/200 [00:31<00:29,  3.31it/s]\u001b[0m"
     ]
    },
    {
     "name": "stdout",
     "output_type": "stream",
     "text": [
      "Validation F1 in epoch100 : 0.8564\n",
      "Validation loss in epoch100 : 6504.7104\n"
     ]
    },
    {
     "name": "stderr",
     "output_type": "stream",
     "text": [
      " 56%|\u001b[32m████████████████████████████████████████████▍                                   \u001b[0m| 111/200 [00:34<00:28,  3.16it/s]\u001b[0m"
     ]
    },
    {
     "name": "stdout",
     "output_type": "stream",
     "text": [
      "Validation F1 in epoch110 : 0.8587\n",
      "Validation loss in epoch110 : 6418.1611\n"
     ]
    },
    {
     "name": "stderr",
     "output_type": "stream",
     "text": [
      " 60%|\u001b[32m████████████████████████████████████████████████▍                               \u001b[0m| 121/200 [00:38<00:25,  3.10it/s]\u001b[0m"
     ]
    },
    {
     "name": "stdout",
     "output_type": "stream",
     "text": [
      "Validation F1 in epoch120 : 0.8607\n",
      "Validation loss in epoch120 : 6374.2231\n"
     ]
    },
    {
     "name": "stderr",
     "output_type": "stream",
     "text": [
      " 66%|\u001b[32m████████████████████████████████████████████████████▍                           \u001b[0m| 131/200 [00:41<00:22,  3.12it/s]\u001b[0m"
     ]
    },
    {
     "name": "stdout",
     "output_type": "stream",
     "text": [
      "Validation F1 in epoch130 : 0.8616\n",
      "Validation loss in epoch130 : 6347.6260\n"
     ]
    },
    {
     "name": "stderr",
     "output_type": "stream",
     "text": [
      " 70%|\u001b[32m████████████████████████████████████████████████████████▍                       \u001b[0m| 141/200 [00:44<00:19,  3.05it/s]\u001b[0m"
     ]
    },
    {
     "name": "stdout",
     "output_type": "stream",
     "text": [
      "Validation F1 in epoch140 : 0.8621\n",
      "Validation loss in epoch140 : 6332.4067\n"
     ]
    },
    {
     "name": "stderr",
     "output_type": "stream",
     "text": [
      " 76%|\u001b[32m████████████████████████████████████████████████████████████▍                   \u001b[0m| 151/200 [00:47<00:14,  3.27it/s]\u001b[0m"
     ]
    },
    {
     "name": "stdout",
     "output_type": "stream",
     "text": [
      "Validation F1 in epoch150 : 0.8628\n",
      "Validation loss in epoch150 : 6322.3613\n"
     ]
    },
    {
     "name": "stderr",
     "output_type": "stream",
     "text": [
      " 80%|\u001b[32m████████████████████████████████████████████████████████████████▍               \u001b[0m| 161/200 [00:50<00:12,  3.19it/s]\u001b[0m"
     ]
    },
    {
     "name": "stdout",
     "output_type": "stream",
     "text": [
      "Validation F1 in epoch160 : 0.8629\n",
      "Validation loss in epoch160 : 6316.5308\n"
     ]
    },
    {
     "name": "stderr",
     "output_type": "stream",
     "text": [
      " 86%|\u001b[32m████████████████████████████████████████████████████████████████████▍           \u001b[0m| 171/200 [00:54<00:09,  3.16it/s]\u001b[0m"
     ]
    },
    {
     "name": "stdout",
     "output_type": "stream",
     "text": [
      "Validation F1 in epoch170 : 0.8633\n",
      "Validation loss in epoch170 : 6312.8247\n"
     ]
    },
    {
     "name": "stderr",
     "output_type": "stream",
     "text": [
      " 90%|\u001b[32m████████████████████████████████████████████████████████████████████████▍       \u001b[0m| 181/200 [00:57<00:06,  3.13it/s]\u001b[0m"
     ]
    },
    {
     "name": "stdout",
     "output_type": "stream",
     "text": [
      "Validation F1 in epoch180 : 0.8634\n",
      "Validation loss in epoch180 : 6310.0679\n"
     ]
    },
    {
     "name": "stderr",
     "output_type": "stream",
     "text": [
      " 96%|\u001b[32m████████████████████████████████████████████████████████████████████████████▍   \u001b[0m| 191/200 [01:00<00:02,  3.12it/s]\u001b[0m"
     ]
    },
    {
     "name": "stdout",
     "output_type": "stream",
     "text": [
      "Validation F1 in epoch190 : 0.8639\n",
      "Validation loss in epoch190 : 6308.1025\n"
     ]
    },
    {
     "name": "stderr",
     "output_type": "stream",
     "text": [
      "100%|\u001b[32m████████████████████████████████████████████████████████████████████████████████\u001b[0m| 200/200 [01:03<00:00,  3.16it/s]\u001b[0m\n"
     ]
    },
    {
     "data": {
      "text/plain": [
       "DECISION_MODEL(\n",
       "  (fc1): Linear(in_features=18, out_features=1024, bias=True)\n",
       "  (fc2): Linear(in_features=1024, out_features=512, bias=True)\n",
       "  (fc3): Linear(in_features=512, out_features=18, bias=True)\n",
       ")"
      ]
     },
     "execution_count": 11,
     "metadata": {},
     "output_type": "execute_result"
    }
   ],
   "source": [
    "sum_train = img_train+txt_train\n",
    "sum_test = img_test+txt_test\n",
    "Net, train_sum_loss, val_sum_loss, f1_sum_list = Trainer(DECISION_MODEL(), sum_train, 200, 100, 150)\n",
    "Net.eval()"
   ]
  },
  {
   "cell_type": "code",
   "execution_count": 12,
   "id": "700c293d",
   "metadata": {},
   "outputs": [
    {
     "data": {
      "image/png": "[encoded data removed]",
      "text/plain": [
       "<Figure size 640x480 with 1 Axes>"
      ]
     },
     "metadata": {},
     "output_type": "display_data"
    }
   ],
   "source": [
    "import matplotlib.pyplot as plt\n",
    "plt.plot(train_sum_loss, label='training loss')\n",
    "plt.plot(val_sum_loss, label='validation loss')\n",
    "plt.xlabel('Training Epoch')\n",
    "plt.ylabel('Loss')\n",
    "plt.legend()\n",
    "plt.savefig('visuals/sum_features.png')\n",
    "plt.show()"
   ]
  },
  {
   "cell_type": "markdown",
   "id": "e0df6e49",
   "metadata": {},
   "source": [
    "## Case 4: Use Concatenation"
   ]
  },
  {
   "cell_type": "code",
   "execution_count": 13,
   "id": "5b52e67d",
   "metadata": {},
   "outputs": [],
   "source": [
    "class FEATURE_EXTRACTOR_Concat(nn.Module):\n",
    "    def __init__(self):\n",
    "        super().__init__()\n",
    "        self.fc1 = nn.Linear(1536, 2048)\n",
    "        self.fc2 = nn.Linear(2048, 1024)\n",
    "        self.fc3 = nn.Linear(1024, 512)\n",
    "        self.fc4 = nn.Linear(512, 18)\n",
    "\n",
    "    def forward(self, inputs):\n",
    "        tensor = F.gelu(self.fc1(inputs))\n",
    "        tensor = F.gelu(self.fc2(tensor))\n",
    "        tensor = F.gelu(self.fc3(tensor))\n",
    "        tensor = torch.sigmoid(self.fc4(tensor))\n",
    "        return tensor"
   ]
  },
  {
   "cell_type": "code",
   "execution_count": 14,
   "id": "f4b6b9bb",
   "metadata": {},
   "outputs": [
    {
     "name": "stderr",
     "output_type": "stream",
     "text": [
      "  0%|\u001b[32m▍                                                                                 \u001b[0m| 1/200 [00:00<01:32,  2.16it/s]\u001b[0m"
     ]
    },
    {
     "name": "stdout",
     "output_type": "stream",
     "text": [
      "Validation F1 in epoch0 : 0.0655\n",
      "Validation loss in epoch0 : 62188.5820\n"
     ]
    },
    {
     "name": "stderr",
     "output_type": "stream",
     "text": [
      "  6%|\u001b[32m████▍                                                                            \u001b[0m| 11/200 [00:03<01:03,  2.98it/s]\u001b[0m"
     ]
    },
    {
     "name": "stdout",
     "output_type": "stream",
     "text": [
      "Validation F1 in epoch10 : 0.0655\n",
      "Validation loss in epoch10 : 62188.5820\n"
     ]
    },
    {
     "name": "stderr",
     "output_type": "stream",
     "text": [
      " 10%|\u001b[32m████████▌                                                                        \u001b[0m| 21/200 [00:06<00:57,  3.12it/s]\u001b[0m"
     ]
    },
    {
     "name": "stdout",
     "output_type": "stream",
     "text": [
      "Validation F1 in epoch20 : 0.5916\n",
      "Validation loss in epoch20 : 26444.5020\n"
     ]
    },
    {
     "name": "stderr",
     "output_type": "stream",
     "text": [
      " 16%|\u001b[32m████████████▌                                                                    \u001b[0m| 31/200 [00:10<00:55,  3.04it/s]\u001b[0m"
     ]
    },
    {
     "name": "stdout",
     "output_type": "stream",
     "text": [
      "Validation F1 in epoch30 : 0.6083\n",
      "Validation loss in epoch30 : 15796.8936\n"
     ]
    },
    {
     "name": "stderr",
     "output_type": "stream",
     "text": [
      " 20%|\u001b[32m████████████████▌                                                                \u001b[0m| 41/200 [00:13<00:51,  3.10it/s]\u001b[0m"
     ]
    },
    {
     "name": "stdout",
     "output_type": "stream",
     "text": [
      "Validation F1 in epoch40 : 0.6864\n",
      "Validation loss in epoch40 : 11231.4346\n"
     ]
    },
    {
     "name": "stderr",
     "output_type": "stream",
     "text": [
      " 26%|\u001b[32m████████████████████▋                                                            \u001b[0m| 51/200 [00:16<00:49,  3.00it/s]\u001b[0m"
     ]
    },
    {
     "name": "stdout",
     "output_type": "stream",
     "text": [
      "Validation F1 in epoch50 : 0.7962\n",
      "Validation loss in epoch50 : 8322.1572\n"
     ]
    },
    {
     "name": "stderr",
     "output_type": "stream",
     "text": [
      " 30%|\u001b[32m████████████████████████▋                                                        \u001b[0m| 61/200 [00:20<00:46,  2.98it/s]\u001b[0m"
     ]
    },
    {
     "name": "stdout",
     "output_type": "stream",
     "text": [
      "Validation F1 in epoch60 : 0.8275\n",
      "Validation loss in epoch60 : 7384.8550\n"
     ]
    },
    {
     "name": "stderr",
     "output_type": "stream",
     "text": [
      " 36%|\u001b[32m████████████████████████████▊                                                    \u001b[0m| 71/200 [00:23<00:43,  2.95it/s]\u001b[0m"
     ]
    },
    {
     "name": "stdout",
     "output_type": "stream",
     "text": [
      "Validation F1 in epoch70 : 0.8420\n",
      "Validation loss in epoch70 : 6729.2725\n"
     ]
    },
    {
     "name": "stderr",
     "output_type": "stream",
     "text": [
      " 40%|\u001b[32m████████████████████████████████▊                                                \u001b[0m| 81/200 [00:26<00:40,  2.94it/s]\u001b[0m"
     ]
    },
    {
     "name": "stdout",
     "output_type": "stream",
     "text": [
      "Validation F1 in epoch80 : 0.8510\n",
      "Validation loss in epoch80 : 6332.8193\n"
     ]
    },
    {
     "name": "stderr",
     "output_type": "stream",
     "text": [
      " 46%|\u001b[32m████████████████████████████████████▊                                            \u001b[0m| 91/200 [00:30<00:35,  3.08it/s]\u001b[0m"
     ]
    },
    {
     "name": "stdout",
     "output_type": "stream",
     "text": [
      "Validation F1 in epoch90 : 0.8552\n",
      "Validation loss in epoch90 : 6389.0781\n"
     ]
    },
    {
     "name": "stderr",
     "output_type": "stream",
     "text": [
      " 50%|\u001b[32m████████████████████████████████████████▍                                       \u001b[0m| 101/200 [00:33<00:32,  3.03it/s]\u001b[0m"
     ]
    },
    {
     "name": "stdout",
     "output_type": "stream",
     "text": [
      "Validation F1 in epoch100 : 0.8606\n",
      "Validation loss in epoch100 : 6044.0923\n"
     ]
    },
    {
     "name": "stderr",
     "output_type": "stream",
     "text": [
      " 56%|\u001b[32m████████████████████████████████████████████▍                                   \u001b[0m| 111/200 [00:37<00:29,  3.04it/s]\u001b[0m"
     ]
    },
    {
     "name": "stdout",
     "output_type": "stream",
     "text": [
      "Validation F1 in epoch110 : 0.8611\n",
      "Validation loss in epoch110 : 6020.3164\n"
     ]
    },
    {
     "name": "stderr",
     "output_type": "stream",
     "text": [
      " 60%|\u001b[32m████████████████████████████████████████████████▍                               \u001b[0m| 121/200 [00:40<00:26,  3.01it/s]\u001b[0m"
     ]
    },
    {
     "name": "stdout",
     "output_type": "stream",
     "text": [
      "Validation F1 in epoch120 : 0.8624\n",
      "Validation loss in epoch120 : 6026.5459\n"
     ]
    },
    {
     "name": "stderr",
     "output_type": "stream",
     "text": [
      " 66%|\u001b[32m████████████████████████████████████████████████████▍                           \u001b[0m| 131/200 [00:43<00:22,  3.06it/s]\u001b[0m"
     ]
    },
    {
     "name": "stdout",
     "output_type": "stream",
     "text": [
      "Validation F1 in epoch130 : 0.8605\n",
      "Validation loss in epoch130 : 6083.9336\n"
     ]
    },
    {
     "name": "stderr",
     "output_type": "stream",
     "text": [
      " 70%|\u001b[32m████████████████████████████████████████████████████████▍                       \u001b[0m| 141/200 [00:46<00:20,  2.91it/s]\u001b[0m"
     ]
    },
    {
     "name": "stdout",
     "output_type": "stream",
     "text": [
      "Validation F1 in epoch140 : 0.8614\n",
      "Validation loss in epoch140 : 6161.5059\n"
     ]
    },
    {
     "name": "stderr",
     "output_type": "stream",
     "text": [
      " 76%|\u001b[32m████████████████████████████████████████████████████████████▍                   \u001b[0m| 151/200 [00:50<00:16,  2.95it/s]\u001b[0m"
     ]
    },
    {
     "name": "stdout",
     "output_type": "stream",
     "text": [
      "Validation F1 in epoch150 : 0.8559\n",
      "Validation loss in epoch150 : 6517.9785\n"
     ]
    },
    {
     "name": "stderr",
     "output_type": "stream",
     "text": [
      " 80%|\u001b[32m████████████████████████████████████████████████████████████████▍               \u001b[0m| 161/200 [00:53<00:12,  3.07it/s]\u001b[0m"
     ]
    },
    {
     "name": "stdout",
     "output_type": "stream",
     "text": [
      "Validation F1 in epoch160 : 0.8587\n",
      "Validation loss in epoch160 : 6639.3071\n"
     ]
    },
    {
     "name": "stderr",
     "output_type": "stream",
     "text": [
      " 86%|\u001b[32m████████████████████████████████████████████████████████████████████▍           \u001b[0m| 171/200 [00:57<00:09,  3.00it/s]\u001b[0m"
     ]
    },
    {
     "name": "stdout",
     "output_type": "stream",
     "text": [
      "Validation F1 in epoch170 : 0.8556\n",
      "Validation loss in epoch170 : 6778.1084\n"
     ]
    },
    {
     "name": "stderr",
     "output_type": "stream",
     "text": [
      " 90%|\u001b[32m████████████████████████████████████████████████████████████████████████▍       \u001b[0m| 181/200 [01:00<00:06,  2.93it/s]\u001b[0m"
     ]
    },
    {
     "name": "stdout",
     "output_type": "stream",
     "text": [
      "Validation F1 in epoch180 : 0.8521\n",
      "Validation loss in epoch180 : 7686.9697\n"
     ]
    },
    {
     "name": "stderr",
     "output_type": "stream",
     "text": [
      " 96%|\u001b[32m████████████████████████████████████████████████████████████████████████████▍   \u001b[0m| 191/200 [01:04<00:03,  3.00it/s]\u001b[0m"
     ]
    },
    {
     "name": "stdout",
     "output_type": "stream",
     "text": [
      "Validation F1 in epoch190 : 0.8403\n",
      "Validation loss in epoch190 : 7891.8354\n"
     ]
    },
    {
     "name": "stderr",
     "output_type": "stream",
     "text": [
      "100%|\u001b[32m████████████████████████████████████████████████████████████████████████████████\u001b[0m| 200/200 [01:07<00:00,  2.98it/s]\u001b[0m\n"
     ]
    }
   ],
   "source": [
    "concatenation = torch.concat((all_text_feature,all_image_features),dim=-1)\n",
    "Net, train_concat_loss, val_concat_loss, f1_concat_list = Trainer(FEATURE_EXTRACTOR_Concat(), concatenation, 200, 100, 150)\n",
    "Net.eval()\n",
    "with torch.autograd.no_grad():\n",
    "    concatenation_fusion = Net(concatenation)"
   ]
  },
  {
   "cell_type": "code",
   "execution_count": 15,
   "id": "20307fc9",
   "metadata": {},
   "outputs": [
    {
     "data": {
      "image/png": "[encoded data removed]",
      "text/plain": [
       "<Figure size 640x480 with 1 Axes>"
      ]
     },
     "metadata": {},
     "output_type": "display_data"
    }
   ],
   "source": [
    "import matplotlib.pyplot as plt\n",
    "plt.plot(train_concat_loss, label='training loss')\n",
    "plt.plot(val_concat_loss, label='validation loss')\n",
    "plt.xlabel('Training Epoch')\n",
    "plt.ylabel('Loss')\n",
    "plt.legend()\n",
    "plt.savefig('visuals/concat_features.png')\n",
    "plt.show()"
   ]
  },
  {
   "cell_type": "markdown",
   "id": "7e5a2b84",
   "metadata": {},
   "source": [
    "## Case 5: Use Mixed Funsion"
   ]
  },
  {
   "cell_type": "code",
   "execution_count": 16,
   "id": "567a2945",
   "metadata": {},
   "outputs": [
    {
     "name": "stderr",
     "output_type": "stream",
     "text": [
      "  0%|\u001b[32m▍                                                                                 \u001b[0m| 1/200 [00:00<00:54,  3.66it/s]\u001b[0m"
     ]
    },
    {
     "name": "stdout",
     "output_type": "stream",
     "text": [
      "Validation F1 in epoch0 : 0.0857\n",
      "Validation loss in epoch0 : 62892.0312\n"
     ]
    },
    {
     "name": "stderr",
     "output_type": "stream",
     "text": [
      "  6%|\u001b[32m████▍                                                                            \u001b[0m| 11/200 [00:03<00:59,  3.18it/s]\u001b[0m"
     ]
    },
    {
     "name": "stdout",
     "output_type": "stream",
     "text": [
      "Validation F1 in epoch10 : 0.0857\n",
      "Validation loss in epoch10 : 62892.0312\n"
     ]
    },
    {
     "name": "stderr",
     "output_type": "stream",
     "text": [
      " 10%|\u001b[32m████████▌                                                                        \u001b[0m| 21/200 [00:06<00:57,  3.10it/s]\u001b[0m"
     ]
    },
    {
     "name": "stdout",
     "output_type": "stream",
     "text": [
      "Validation F1 in epoch20 : 0.6033\n",
      "Validation loss in epoch20 : 18526.6953\n"
     ]
    },
    {
     "name": "stderr",
     "output_type": "stream",
     "text": [
      " 16%|\u001b[32m████████████▌                                                                    \u001b[0m| 31/200 [00:09<00:52,  3.21it/s]\u001b[0m"
     ]
    },
    {
     "name": "stdout",
     "output_type": "stream",
     "text": [
      "Validation F1 in epoch30 : 0.6681\n",
      "Validation loss in epoch30 : 15888.6426\n"
     ]
    },
    {
     "name": "stderr",
     "output_type": "stream",
     "text": [
      " 20%|\u001b[32m████████████████▌                                                                \u001b[0m| 41/200 [00:12<00:49,  3.19it/s]\u001b[0m"
     ]
    },
    {
     "name": "stdout",
     "output_type": "stream",
     "text": [
      "Validation F1 in epoch40 : 0.8051\n",
      "Validation loss in epoch40 : 10469.4434\n"
     ]
    },
    {
     "name": "stderr",
     "output_type": "stream",
     "text": [
      " 26%|\u001b[32m████████████████████▋                                                            \u001b[0m| 51/200 [00:15<00:45,  3.26it/s]\u001b[0m"
     ]
    },
    {
     "name": "stdout",
     "output_type": "stream",
     "text": [
      "Validation F1 in epoch50 : 0.8367\n",
      "Validation loss in epoch50 : 8154.4199\n"
     ]
    },
    {
     "name": "stderr",
     "output_type": "stream",
     "text": [
      " 30%|\u001b[32m████████████████████████▋                                                        \u001b[0m| 61/200 [00:19<00:43,  3.17it/s]\u001b[0m"
     ]
    },
    {
     "name": "stdout",
     "output_type": "stream",
     "text": [
      "Validation F1 in epoch60 : 0.8521\n",
      "Validation loss in epoch60 : 7117.9863\n"
     ]
    },
    {
     "name": "stderr",
     "output_type": "stream",
     "text": [
      " 36%|\u001b[32m████████████████████████████▊                                                    \u001b[0m| 71/200 [00:22<00:40,  3.18it/s]\u001b[0m"
     ]
    },
    {
     "name": "stdout",
     "output_type": "stream",
     "text": [
      "Validation F1 in epoch70 : 0.8597\n",
      "Validation loss in epoch70 : 6792.7070\n"
     ]
    },
    {
     "name": "stderr",
     "output_type": "stream",
     "text": [
      " 40%|\u001b[32m████████████████████████████████▊                                                \u001b[0m| 81/200 [00:25<00:38,  3.11it/s]\u001b[0m"
     ]
    },
    {
     "name": "stdout",
     "output_type": "stream",
     "text": [
      "Validation F1 in epoch80 : 0.8593\n",
      "Validation loss in epoch80 : 6718.0557\n"
     ]
    },
    {
     "name": "stderr",
     "output_type": "stream",
     "text": [
      " 46%|\u001b[32m████████████████████████████████████▊                                            \u001b[0m| 91/200 [00:28<00:35,  3.10it/s]\u001b[0m"
     ]
    },
    {
     "name": "stdout",
     "output_type": "stream",
     "text": [
      "Validation F1 in epoch90 : 0.8623\n",
      "Validation loss in epoch90 : 6737.0801\n"
     ]
    },
    {
     "name": "stderr",
     "output_type": "stream",
     "text": [
      " 50%|\u001b[32m████████████████████████████████████████▍                                       \u001b[0m| 101/200 [00:31<00:29,  3.31it/s]\u001b[0m"
     ]
    },
    {
     "name": "stdout",
     "output_type": "stream",
     "text": [
      "Validation F1 in epoch100 : 0.8629\n",
      "Validation loss in epoch100 : 6815.6489\n"
     ]
    },
    {
     "name": "stderr",
     "output_type": "stream",
     "text": [
      " 56%|\u001b[32m████████████████████████████████████████████▍                                   \u001b[0m| 111/200 [00:34<00:27,  3.23it/s]\u001b[0m"
     ]
    },
    {
     "name": "stdout",
     "output_type": "stream",
     "text": [
      "Validation F1 in epoch110 : 0.8633\n",
      "Validation loss in epoch110 : 6905.7861\n"
     ]
    },
    {
     "name": "stderr",
     "output_type": "stream",
     "text": [
      " 60%|\u001b[32m████████████████████████████████████████████████▍                               \u001b[0m| 121/200 [00:37<00:24,  3.23it/s]\u001b[0m"
     ]
    },
    {
     "name": "stdout",
     "output_type": "stream",
     "text": [
      "Validation F1 in epoch120 : 0.8628\n",
      "Validation loss in epoch120 : 7009.7578\n"
     ]
    },
    {
     "name": "stderr",
     "output_type": "stream",
     "text": [
      " 66%|\u001b[32m████████████████████████████████████████████████████▍                           \u001b[0m| 131/200 [00:41<00:21,  3.19it/s]\u001b[0m"
     ]
    },
    {
     "name": "stdout",
     "output_type": "stream",
     "text": [
      "Validation F1 in epoch130 : 0.8625\n",
      "Validation loss in epoch130 : 7101.8569\n"
     ]
    },
    {
     "name": "stderr",
     "output_type": "stream",
     "text": [
      " 70%|\u001b[32m████████████████████████████████████████████████████████▍                       \u001b[0m| 141/200 [00:44<00:18,  3.21it/s]\u001b[0m"
     ]
    },
    {
     "name": "stdout",
     "output_type": "stream",
     "text": [
      "Validation F1 in epoch140 : 0.8620\n",
      "Validation loss in epoch140 : 7189.6914\n"
     ]
    },
    {
     "name": "stderr",
     "output_type": "stream",
     "text": [
      " 76%|\u001b[32m████████████████████████████████████████████████████████████▍                   \u001b[0m| 151/200 [00:47<00:16,  3.05it/s]\u001b[0m"
     ]
    },
    {
     "name": "stdout",
     "output_type": "stream",
     "text": [
      "Validation F1 in epoch150 : 0.8617\n",
      "Validation loss in epoch150 : 7273.7324\n"
     ]
    },
    {
     "name": "stderr",
     "output_type": "stream",
     "text": [
      " 80%|\u001b[32m████████████████████████████████████████████████████████████████▍               \u001b[0m| 161/200 [00:50<00:12,  3.04it/s]\u001b[0m"
     ]
    },
    {
     "name": "stdout",
     "output_type": "stream",
     "text": [
      "Validation F1 in epoch160 : 0.8611\n",
      "Validation loss in epoch160 : 7349.6904\n"
     ]
    },
    {
     "name": "stderr",
     "output_type": "stream",
     "text": [
      " 86%|\u001b[32m████████████████████████████████████████████████████████████████████▍           \u001b[0m| 171/200 [00:53<00:08,  3.37it/s]\u001b[0m"
     ]
    },
    {
     "name": "stdout",
     "output_type": "stream",
     "text": [
      "Validation F1 in epoch170 : 0.8612\n",
      "Validation loss in epoch170 : 7421.0879\n"
     ]
    },
    {
     "name": "stderr",
     "output_type": "stream",
     "text": [
      " 90%|\u001b[32m████████████████████████████████████████████████████████████████████████▍       \u001b[0m| 181/200 [00:56<00:05,  3.31it/s]\u001b[0m"
     ]
    },
    {
     "name": "stdout",
     "output_type": "stream",
     "text": [
      "Validation F1 in epoch180 : 0.8609\n",
      "Validation loss in epoch180 : 7486.0527\n"
     ]
    },
    {
     "name": "stderr",
     "output_type": "stream",
     "text": [
      " 96%|\u001b[32m████████████████████████████████████████████████████████████████████████████▍   \u001b[0m| 191/200 [00:59<00:02,  3.19it/s]\u001b[0m"
     ]
    },
    {
     "name": "stdout",
     "output_type": "stream",
     "text": [
      "Validation F1 in epoch190 : 0.8612\n",
      "Validation loss in epoch190 : 7545.2480\n"
     ]
    },
    {
     "name": "stderr",
     "output_type": "stream",
     "text": [
      "100%|\u001b[32m████████████████████████████████████████████████████████████████████████████████\u001b[0m| 200/200 [01:02<00:00,  3.19it/s]\u001b[0m\n"
     ]
    }
   ],
   "source": [
    "Mixed = concatenation_fusion + img_train + txt_train\n",
    "\n",
    "Net, train_mix_loss, val_mix_loss, f1_mix_list = Trainer(DECISION_MODEL(), Mixed, 200, 100, 150)"
   ]
  },
  {
   "cell_type": "code",
   "execution_count": 17,
   "id": "b1ae3a25",
   "metadata": {},
   "outputs": [
    {
     "data": {
      "image/png": "[encoded data removed]",
      "text/plain": [
       "<Figure size 640x480 with 1 Axes>"
      ]
     },
     "metadata": {},
     "output_type": "display_data"
    }
   ],
   "source": [
    "import matplotlib.pyplot as plt\n",
    "plt.plot(train_mix_loss, label='training loss')\n",
    "plt.plot(val_mix_loss, label='validation loss')\n",
    "plt.xlabel('Training Epoch')\n",
    "plt.ylabel('Loss')\n",
    "plt.legend()\n",
    "plt.savefig('visuals/mix_features.png')\n",
    "plt.show()"
   ]
  },
  {
   "cell_type": "code",
   "execution_count": 18,
   "id": "1c6c2b88",
   "metadata": {},
   "outputs": [
    {
     "name": "stdout",
     "output_type": "stream",
     "text": [
      "Image Features Only:  0.8534312844276428\n",
      "Text Features Only:  0.8249295949935913\n",
      "Sum Fusion:  0.8633725047111511\n",
      "Concatenation Fusion:  0.8577874898910522\n",
      "Mixed Fusion:  0.8611277341842651\n"
     ]
    }
   ],
   "source": [
    "print('Image Features Only: ', f1_image_list[-1])\n",
    "print('Text Features Only: ', f1_text_list[-1])\n",
    "print('Sum Fusion: ', f1_sum_list[-1])\n",
    "print('Concatenation Fusion: ', f1_concat_list[-1])\n",
    "print('Mixed Fusion: ', f1_mix_list[-1])"
   ]
  },
  {
   "cell_type": "markdown",
   "id": "f687c152",
   "metadata": {},
   "source": [
    "### Calculate Mean & Std"
   ]
  },
  {
   "cell_type": "code",
   "execution_count": 24,
   "id": "62baebbe",
   "metadata": {},
   "outputs": [
    {
     "name": "stdout",
     "output_type": "stream",
     "text": [
      "Mean:  85.37466666666667 82.49266666666666 86.33800000000001 85.779 86.12\n",
      "Std:  0.05054590872552281 0.00047140452078658354 0.005354126134738014 0.0 0.011343133018112654\n"
     ]
    }
   ],
   "source": [
    "import numpy as np\n",
    "\n",
    "image_only = [85.335, 85.343, 85.446]\n",
    "text_only = [82.492, 82.493, 82.493]\n",
    "sum_fusion = [86.337,86.332, 86.345]\n",
    "concat_fusion = [85.779, 85.779, 85.779]\n",
    "mixed_fusion = [86.113, 86.111, 86.136]\n",
    "\n",
    "print(\"Mean: \", np.mean(image_only), np.mean(text_only), np.mean(sum_fusion), np.mean(concat_fusion), np.mean(mixed_fusion))\n",
    "print('Std: ', np.std(image_only), np.std(text_only), np.std(sum_fusion), np.std(concat_fusion), np.std(mixed_fusion))"
   ]
  },
  {
   "cell_type": "markdown",
   "id": "b7a89c20",
   "metadata": {},
   "source": [
    "### Visualizations of F-1 score"
   ]
  },
  {
   "cell_type": "code",
   "execution_count": 19,
   "id": "aa1f3b0b",
   "metadata": {},
   "outputs": [
    {
     "data": {
      "image/png": "[encoded data removed]",
      "text/plain": [
       "<Figure size 640x480 with 1 Axes>"
      ]
     },
     "metadata": {},
     "output_type": "display_data"
    }
   ],
   "source": [
    "plt.plot(f1_image_list, label='Image Features Only')\n",
    "plt.plot(f1_text_list, label='Text Features Only')\n",
    "plt.plot(f1_sum_list, label='Sum Fusion')\n",
    "plt.plot(f1_concat_list, label='Concatenation Fusion')\n",
    "plt.plot(f1_mix_list, label='Mixed Fusion')\n",
    "plt.xlabel('Training Epoch', fontsize=15)\n",
    "plt.ylabel('Validation F1 Score', fontsize=15)\n",
    "plt.ylim(0.8,0.9)\n",
    "plt.legend()\n",
    "plt.savefig('visuals/f1_large.png')\n",
    "plt.show()"
   ]
  },
  {
   "cell_type": "code",
   "execution_count": 20,
   "id": "dfe2431b",
   "metadata": {},
   "outputs": [
    {
     "data": {
      "image/png": "[encoded data removed]",
      "text/plain": [
       "<Figure size 640x480 with 1 Axes>"
      ]
     },
     "metadata": {},
     "output_type": "display_data"
    }
   ],
   "source": [
    "plt.plot(f1_image_list, label='Image Features Only')\n",
    "plt.plot(f1_text_list, label='Text Features Only')\n",
    "plt.plot(f1_sum_list, label='Sum Fusion')\n",
    "plt.plot(f1_concat_list, label='Concatenation Fusion')\n",
    "plt.plot(f1_mix_list, label='Mixed Fusion')\n",
    "plt.xlabel('Training Epoch', fontsize=15)\n",
    "plt.ylabel('Validation F1 Score', fontsize=15)\n",
    "plt.legend()\n",
    "plt.savefig('visuals/f1.png')\n",
    "plt.show()"
   ]
  },
  {
   "cell_type": "code",
   "execution_count": 21,
   "id": "fd282ea5",
   "metadata": {},
   "outputs": [
    {
     "ename": "NameError",
     "evalue": "name 'stop' is not defined",
     "output_type": "error",
     "traceback": [
      "\u001b[1;31m---------------------------------------------------------------------------\u001b[0m",
      "\u001b[1;31mNameError\u001b[0m                                 Traceback (most recent call last)",
      "Cell \u001b[1;32mIn[21], line 1\u001b[0m\n\u001b[1;32m----> 1\u001b[0m \u001b[43mstop\u001b[49m\n",
      "\u001b[1;31mNameError\u001b[0m: name 'stop' is not defined"
     ]
    }
   ],
   "source": [
    "stop"
   ]
  },
  {
   "cell_type": "markdown",
   "id": "5f75dbdb",
   "metadata": {},
   "source": [
    "## Best Setting"
   ]
  },
  {
   "cell_type": "code",
   "execution_count": null,
   "id": "5cce6e06",
   "metadata": {},
   "outputs": [],
   "source": [
    "import torch.nn as nn\n",
    "import torch.nn.functional as F\n",
    "class FEATURE_EXTRACTOR(nn.Module):\n",
    "    def __init__(self):\n",
    "        super().__init__()\n",
    "        self.fc1 = nn.Linear(768, 2048)\n",
    "        self.fc2 = nn.Linear(2048, 512)\n",
    "        self.fc3 = nn.Linear(512, 18)\n",
    "        self.dropout = nn.Dropout(p = 0.6)\n",
    "\n",
    "    def forward(self, inputs):\n",
    "        tensor = F.gelu(self.fc1(inputs))\n",
    "        tensor = self.dropout(tensor)\n",
    "        tensor = F.gelu(self.fc2(tensor))\n",
    "        tensor = self.dropout(tensor)\n",
    "        tensor = torch.sigmoid(self.fc3(tensor))\n",
    "        return tensor\n",
    "\n",
    "class DECISION_MODEL(nn.Module):\n",
    "    def __init__(self):\n",
    "        super().__init__()\n",
    "        self.fc1 = nn.Linear(18, 1024)\n",
    "        self.fc2 = nn.Linear(1024, 512)\n",
    "        self.fc3 = nn.Linear(512, 18)\n",
    "\n",
    "    def forward(self, inputs):\n",
    "        tensor = F.gelu(self.fc1(inputs))\n",
    "        tensor = F.gelu(self.fc2(tensor))\n",
    "        tensor = torch.sigmoid(self.fc3(tensor))\n",
    "        return tensor"
   ]
  },
  {
   "cell_type": "code",
   "execution_count": null,
   "id": "ee872338",
   "metadata": {},
   "outputs": [],
   "source": [
    "def Trainer(model, Data, epochs, epoch_step_1, epoch_step_2, lr = 1e-3):\n",
    "    torch.manual_seed(5329)\n",
    "    \n",
    "    # Change here to switch to the best setting\n",
    "    train_data = DataLoader(TensorDataset(Data, label_onehot_tensor), batch_size=30000, shuffle = True)\n",
    "    \n",
    "    model = model.to(dev)\n",
    " \n",
    "    weight_decay = 2e-4\n",
    "    criterion = AsymmetricLoss(gamma_neg=0, gamma_pos=0, clip=0, disable_torch_grad_focal_loss=True)\n",
    "    parameters = add_weight_decay(model, weight_decay)\n",
    "    opti = optim.Adam(params=parameters, lr=lr, weight_decay=0)\n",
    "    scheduler = torch.optim.lr_scheduler.MultiStepLR(opti, milestones=[epoch_step_1,epoch_step_2], gamma = 0.1)\n",
    "    f1 = F1Score(task=\"multilabel\", num_labels = 18).to(dev)\n",
    "\n",
    "    epoch = epochs\n",
    "    loss_list = []\n",
    "    f1_list = []\n",
    "    scaler = GradScaler()\n",
    "    \n",
    "    for epoch in tqdm(range(epoch), colour = 'GREEN'):\n",
    "        for data, label in train_data:   \n",
    "            data, label = data.to(dev), label.to(dev)\n",
    "\n",
    "            with autocast():  # mixed precision\n",
    "                output = model(data).float() \n",
    "\n",
    "            loss = criterion(output, label)\n",
    "            model.zero_grad()\n",
    "            \n",
    "            scaler.scale(loss).backward()\n",
    "            scaler.step(opti)\n",
    "            scaler.update()\n",
    "            \n",
    "        loss_list.append(loss)\n",
    "        \n",
    "        # Comment the code below if you want to switch to the best settings (i.e., no validation data)\n",
    "        if epoch % 10 == 0:\n",
    "            with torch.autograd.no_grad():\n",
    "                predict = model(data)\n",
    "                f1_score = f1(predict, label)\n",
    "            print('Training F1 in epoch{} : {:.4f}'.format(epoch, f1_score))\n",
    "            f1_list.append(f1_score)\n",
    "    \n",
    "    return model, loss_list, f1_list"
   ]
  },
  {
   "cell_type": "code",
   "execution_count": null,
   "id": "fdabfc05",
   "metadata": {},
   "outputs": [],
   "source": [
    "Net, loss_list, f1_list = Trainer(FEATURE_EXTRACTOR(), all_image_features, 300, 200, 250)\n",
    "Net.eval()\n",
    "with torch.autograd.no_grad():\n",
    "    img_train = Net(all_image_features.to(dev))\n",
    "    img_test = Net(test_image_features.to(dev))"
   ]
  },
  {
   "cell_type": "code",
   "execution_count": null,
   "id": "a961f1b9",
   "metadata": {},
   "outputs": [],
   "source": [
    "Net, loss_list, f1_list = Trainer(FEATURE_EXTRACTOR(), all_text_feature, 300, 200, 250)\n",
    "Net.eval()\n",
    "with torch.autograd.no_grad():\n",
    "    txt_train = Net(all_text_feature.to(dev))\n",
    "    txt_test = Net(test_text_feature.to(dev))"
   ]
  },
  {
   "cell_type": "code",
   "execution_count": null,
   "id": "581058e4",
   "metadata": {},
   "outputs": [],
   "source": [
    "sum_train = img_train+txt_train\n",
    "sum_test = img_test+txt_test\n",
    "Net, loss_list, f1_list  = Trainer(DECISION_MODEL(), sum_train, 300, 200, 250)\n",
    "Net.eval()\n",
    "with torch.autograd.no_grad():\n",
    "    final = Net(sum_test)"
   ]
  },
  {
   "cell_type": "code",
   "execution_count": null,
   "id": "f787b023",
   "metadata": {},
   "outputs": [],
   "source": [
    "import pandas as pd\n",
    "y_proba = final.cpu().numpy()\n",
    "\n",
    "resl = []\n",
    "for i in y_proba:\n",
    "    a = [x+1 for x in range(len(i)) if i[x] > 0.5]\n",
    "    for j in range(len(a)):\n",
    "        if a[j] >=12:\n",
    "            a[j] = a[j]+1\n",
    "    resl.append(a)\n",
    "test_pred = []\n",
    "for lis in resl:\n",
    "    a = [str(i) for i in lis]\n",
    "    test_pred.append(\" \".join(a))\n",
    "\n",
    "# make a csv file\n",
    "df = pd.DataFrame(columns=[\"ImageID\", \"Labels\"])\n",
    "\n",
    "# Creating the Second Dataframe using dictionary\n",
    "for index, value in enumerate(test_pred):\n",
    "    df_temp = pd.DataFrame({\"ImageID\":\"{}.jpg\".format(30000+index), \"Labels\":\" \".join([str(i) for i in [value]])}, index=[0])\n",
    "    \n",
    "    # for appending df_temp at the end of df\n",
    "    df = pd.concat([df, df_temp], ignore_index=True)\n",
    "\n",
    "df.to_csv(\"Predicted_labels.csv\", index = False)"
   ]
  },
  {
   "cell_type": "code",
   "execution_count": null,
   "id": "909fd470",
   "metadata": {},
   "outputs": [],
   "source": [
    "df"
   ]
  }
 ],
 "metadata": {
  "kernelspec": {
   "display_name": "Python 3 (ipykernel)",
   "language": "python",
   "name": "python3"
  },
  "language_info": {
   "codemirror_mode": {
    "name": "ipython",
    "version": 3
   },
   "file_extension": ".py",
   "mimetype": "text/x-python",
   "name": "python",
   "nbconvert_exporter": "python",
   "pygments_lexer": "ipython3",
   "version": "3.10.11"
  }
 },
 "nbformat": 4,
 "nbformat_minor": 5
}
