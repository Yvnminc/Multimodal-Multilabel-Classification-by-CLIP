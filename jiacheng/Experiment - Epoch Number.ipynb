{
 "cells": [
  {
   "cell_type": "code",
   "execution_count": 1,
   "id": "e5e5a12e",
   "metadata": {},
   "outputs": [],
   "source": [
    "# # Code to download file into Colaboratory:\n",
    "# !pip install -U -q PyDrive > /dev/null\n",
    "# !pip install torchmetrics > /dev/null\n",
    "# from pydrive.auth import GoogleAuth\n",
    "# import torch\n",
    "# dev = \"cuda\" if torch.cuda.is_available() else \"cpu\"\n",
    "# from pydrive.drive import GoogleDrive\n",
    "# from google.colab import auth\n",
    "# from oauth2client.client import GoogleCredentials\n",
    "# # Authenticate and create the PyDrive client.\n",
    "# auth.authenticate_user()\n",
    "# gauth = GoogleAuth()\n",
    "# gauth.credentials = GoogleCredentials.get_application_default()\n",
    "# drive = GoogleDrive(gauth)\n",
    "\n",
    "# #get the data from the drive\n",
    "# def get_feature(model = \"ViT-L/14@336px\"):\n",
    "#   id = '11yXddz5j-IDcH77wkMF7dW2JctRv7YN6'\n",
    "#   size = \"B\"\n",
    "\n",
    "#   if model == 'ViT-L/14@336px':\n",
    "#     id = '1P6CgrgiIACjnhtHsUwdY8qjZ-E3Vx_0x'\n",
    "#     size = \"L336\"\n",
    "#   elif model == 'ViT-L/14':\n",
    "#     id = '1DG4J-YF57ZsfXTzwg5EFfkzUmUFfr82h'\n",
    "#     size = \"L\"\n",
    "#   elif model == 'ViT-B/32':\n",
    "#     id = '11yXddz5j-IDcH77wkMF7dW2JctRv7YN6'\n",
    "#     size = \"B\"\n",
    "\n",
    "#   downloaded = drive.CreateFile({'id':id}) \n",
    "#   downloaded.GetContentFile('clip_features.zip')\n",
    "\n",
    "#   #get the data from the drive\n",
    "#   id = '1b-ujWaLM_jOzlRMbXVb9T-3oEibKQW1r'\n",
    "#   downloaded = drive.CreateFile({'id':id}) \n",
    "#   downloaded.GetContentFile('label_onehot_tensor.pt')\n",
    "\n",
    "#   !unzip clip_features.zip > /dev/null\n",
    "\n",
    "#   test_image_features = torch.load(f\"test_image_features_vit{size}.pt\")\n",
    "#   test_text_feature = torch.load(f\"test_text_feature_vit{size}.pt\")\n",
    "#   all_image_features = torch.load(f\"all_image_features_vit{size}.pt\")\n",
    "#   all_text_feature = torch.load(f\"all_text_feature_vit{size}.pt\")\n",
    "#   label_onehot_tensor = torch.load(f\"label_onehot_tensor.pt\")\n",
    "\n",
    "#   return all_image_features, all_text_feature, test_image_features, test_text_feature, label_onehot_tensor"
   ]
  },
  {
   "cell_type": "code",
   "execution_count": 2,
   "id": "34596d8c",
   "metadata": {},
   "outputs": [],
   "source": [
    "# all_image_features, all_text_feature, test_image_features, test_text_feature, label_onehot_tensor = get_feature()"
   ]
  },
  {
   "cell_type": "code",
   "execution_count": 3,
   "id": "440fc440",
   "metadata": {},
   "outputs": [],
   "source": [
    "# import torch\n",
    "# dev = \"cuda\" if torch.cuda.is_available() else \"cpu\"\n",
    "# test_image_features = torch.load(\"test_image_features_vitL.pt\", map_location = torch.device(dev))\n",
    "# test_text_feature = torch.load(\"test_text_feature_vitL.pt\", map_location = torch.device(dev))\n",
    "# all_image_features = torch.load(\"all_image_features_vitL.pt\", map_location = torch.device(dev))\n",
    "# all_text_feature = torch.load(\"all_text_feature_vitL.pt\", map_location = torch.device(dev))\n",
    "# label_onehot_tensor = torch.load(\"label_onehot_tensor.pt\", map_location = torch.device(dev))"
   ]
  },
  {
   "cell_type": "code",
   "execution_count": 4,
   "id": "413abab6",
   "metadata": {},
   "outputs": [],
   "source": [
    "import torch\n",
    "dev = \"cuda\" if torch.cuda.is_available() else \"cpu\"\n",
    "test_image_features = torch.load(\"../features/test_image_features_vitL.pt\", map_location = torch.device(dev))\n",
    "test_text_feature = torch.load(\"../features/test_text_feature_vitL.pt\", map_location = torch.device(dev))\n",
    "all_image_features = torch.load(\"../features/all_image_features_vitL.pt\", map_location = torch.device(dev))\n",
    "all_text_feature = torch.load(\"../features/all_text_feature_vitL.pt\", map_location = torch.device(dev))\n",
    "label_onehot_tensor = torch.load(\"../features/label_onehot_tensor.pt\", map_location = torch.device(dev))"
   ]
  },
  {
   "cell_type": "code",
   "execution_count": 5,
   "id": "301fba63",
   "metadata": {},
   "outputs": [
    {
     "data": {
      "text/plain": [
       "torch.Size([10000, 768])"
      ]
     },
     "execution_count": 5,
     "metadata": {},
     "output_type": "execute_result"
    }
   ],
   "source": [
    "test_image_features.shape"
   ]
  },
  {
   "cell_type": "code",
   "execution_count": 6,
   "id": "30a1fbaf",
   "metadata": {},
   "outputs": [],
   "source": [
    "def add_weight_decay(model, weight_decay=1e-4, skip_list=()):\n",
    "    decay = []\n",
    "    no_decay = []\n",
    "    for name, param in model.named_parameters():\n",
    "        if not param.requires_grad:\n",
    "            continue  # frozen weights\n",
    "        if len(param.shape) == 1 or name.endswith(\".bias\") or name in skip_list:\n",
    "            no_decay.append(param)\n",
    "        else:\n",
    "            decay.append(param)\n",
    "    return [\n",
    "        {'params': no_decay, 'weight_decay': 0.},\n",
    "        {'params': decay, 'weight_decay': weight_decay}]"
   ]
  },
  {
   "cell_type": "code",
   "execution_count": 7,
   "id": "beafc89f",
   "metadata": {},
   "outputs": [],
   "source": [
    "import torch\n",
    "import torch.nn as nn\n",
    "\n",
    "\n",
    "class AsymmetricLoss(nn.Module):\n",
    "    def __init__(self, gamma_neg=4, gamma_pos=1, clip=0.05, eps=1e-8, disable_torch_grad_focal_loss=True):\n",
    "        super(AsymmetricLoss, self).__init__()\n",
    "\n",
    "        self.gamma_neg = gamma_neg\n",
    "        self.gamma_pos = gamma_pos\n",
    "        self.clip = clip\n",
    "        self.disable_torch_grad_focal_loss = disable_torch_grad_focal_loss\n",
    "        self.eps = eps\n",
    "\n",
    "    def forward(self, x, y):\n",
    "        \"\"\"\"\n",
    "        Parameters\n",
    "        ----------\n",
    "        x: input logits\n",
    "        y: targets (multi-label binarized vector)\n",
    "        \"\"\"\n",
    "\n",
    "        # Calculating Probabilities\n",
    "        \n",
    "        xs_pos = x\n",
    "        xs_neg = 1 - x\n",
    "\n",
    "        # Asymmetric Clipping\n",
    "        if self.clip is not None and self.clip > 0:\n",
    "            xs_neg = (xs_neg + self.clip).clamp(max=1)\n",
    "\n",
    "        # Basic CE calculation\n",
    "        los_pos = y * torch.log(xs_pos.clamp(min=self.eps))\n",
    "        los_neg = (1 - y) * torch.log(xs_neg.clamp(min=self.eps))\n",
    "        loss = los_pos + los_neg\n",
    "\n",
    "        # Asymmetric Focusing\n",
    "        if self.gamma_neg > 0 or self.gamma_pos > 0:\n",
    "            if self.disable_torch_grad_focal_loss:\n",
    "                torch.set_grad_enabled(False)\n",
    "            pt0 = xs_pos * y\n",
    "            pt1 = xs_neg * (1 - y)  # pt = p if t > 0 else 1-p\n",
    "            pt = pt0 + pt1\n",
    "            one_sided_gamma = self.gamma_pos * y + self.gamma_neg * (1 - y)\n",
    "            one_sided_w = torch.pow(1 - pt, one_sided_gamma)\n",
    "            if self.disable_torch_grad_focal_loss:\n",
    "                torch.set_grad_enabled(True)\n",
    "            loss *= one_sided_w\n",
    "\n",
    "        return -loss.sum()\n",
    "\n",
    "\n",
    "class AsymmetricLossOptimized(nn.Module):\n",
    "    ''' Notice - optimized version, minimizes memory allocation and gpu uploading,\n",
    "    favors inplace operations'''\n",
    "\n",
    "    def __init__(self, gamma_neg=4, gamma_pos=1, clip=0.05, eps=1e-8, disable_torch_grad_focal_loss=False):\n",
    "        super(AsymmetricLossOptimized, self).__init__()\n",
    "\n",
    "        self.gamma_neg = gamma_neg\n",
    "        self.gamma_pos = gamma_pos\n",
    "        self.clip = clip\n",
    "        self.disable_torch_grad_focal_loss = disable_torch_grad_focal_loss\n",
    "        self.eps = eps\n",
    "        # prevent memory allocation and gpu uploading every iteration, and encourages inplace operations\n",
    "        self.targets = self.anti_targets = self.xs_pos = self.xs_neg = self.asymmetric_w = self.loss = None\n",
    "\n",
    "    def forward(self, x, y):\n",
    "        \"\"\"\"\n",
    "        Parameters\n",
    "        ----------\n",
    "        x: input logits\n",
    "        y: targets (multi-label binarized vector)\n",
    "        \"\"\"\n",
    "\n",
    "        self.targets = y\n",
    "        self.anti_targets = 1 - y\n",
    "\n",
    "        # Calculating Probabilities\n",
    "        self.xs_pos = torch.sigmoid(x)\n",
    "        self.xs_neg = 1.0 - self.xs_pos\n",
    "\n",
    "        # Asymmetric Clipping\n",
    "        if self.clip is not None and self.clip > 0:\n",
    "            self.xs_neg.add_(self.clip).clamp_(max=1)\n",
    "\n",
    "        # Basic CE calculation\n",
    "        self.loss = self.targets * torch.log(self.xs_pos.clamp(min=self.eps))\n",
    "        self.loss.add_(self.anti_targets * torch.log(self.xs_neg.clamp(min=self.eps)))\n",
    "        \n",
    "        # Asymmetric Focusing\n",
    "        if self.gamma_neg > 0 or self.gamma_pos > 0:\n",
    "            if self.disable_torch_grad_focal_loss:\n",
    "                torch.set_grad_enabled(False)\n",
    "            self.xs_pos = self.xs_pos * self.targets\n",
    "            self.xs_neg = self.xs_neg * self.anti_targets\n",
    "            self.asymmetric_w = torch.pow(1 - self.xs_pos - self.xs_neg,\n",
    "                                          self.gamma_pos * self.targets + self.gamma_neg * self.anti_targets)\n",
    "            if self.disable_torch_grad_focal_loss:\n",
    "                torch.set_grad_enabled(True)\n",
    "            self.loss *= self.asymmetric_w\n",
    "\n",
    "        return -self.loss.sum()"
   ]
  },
  {
   "cell_type": "code",
   "execution_count": 8,
   "id": "e0dbbdfb",
   "metadata": {},
   "outputs": [],
   "source": [
    "import numpy as np\n",
    "from tqdm import tqdm\n",
    "import torch.nn.functional as F\n",
    "from torchmetrics import F1Score\n",
    "from torch import optim\n",
    "from torch.cuda.amp import GradScaler, autocast\n",
    "\n",
    "from torch.utils.data import TensorDataset\n",
    "from torch.utils.data import DataLoader\n",
    "def Trainer(model, Data, epochs, epoch_step_1, epoch_step_2, lr = 1e-3):\n",
    "    torch.manual_seed(5329)\n",
    "    train_data = DataLoader(TensorDataset(Data[:25000], label_onehot_tensor[:25000]), batch_size=25000, shuffle = True)\n",
    "    val_data = DataLoader(TensorDataset(Data[25000:], label_onehot_tensor[25000:].to(torch.int32)), batch_size=5000, shuffle = False)\n",
    "    \n",
    "    # Change here to switch to the best setting\n",
    "    # train_data = DataLoader(TensorDataset(Data, label_onehot_tensor), batch_size=30000, shuffle = True)\n",
    "    \n",
    "    model = model.to(dev)\n",
    " \n",
    "    weight_decay = 2e-4\n",
    "    criterion = AsymmetricLoss(gamma_neg=0, gamma_pos=0, clip=0, disable_torch_grad_focal_loss=True)\n",
    "    parameters = add_weight_decay(model, weight_decay)\n",
    "    opti = optim.Adam(params=parameters, lr=lr, weight_decay=0)\n",
    "    scheduler = torch.optim.lr_scheduler.MultiStepLR(opti, milestones=[epoch_step_1,epoch_step_2], gamma = 0.1)\n",
    "    f1 = F1Score(task=\"multilabel\", num_labels = 18).to(dev)\n",
    "\n",
    "    epoch = epochs\n",
    "    train_loss = []\n",
    "    val_loss = []\n",
    "    f1_list = []\n",
    "    scaler = GradScaler()\n",
    "    \n",
    "    for epoch in tqdm(range(epoch), colour = 'GREEN'):\n",
    "        for data, label in train_data:   \n",
    "            data, label = data.to(dev), label.to(dev)\n",
    "\n",
    "            with autocast():  # mixed precision\n",
    "                output = model(data).float() \n",
    "\n",
    "            loss = criterion(output, label)\n",
    "            model.zero_grad()\n",
    "            \n",
    "            scaler.scale(loss).backward()\n",
    "            scaler.step(opti)\n",
    "            scaler.update()\n",
    "            \n",
    "        train_loss.append(loss.item())\n",
    "        \n",
    "        with torch.autograd.no_grad():\n",
    "            for data_val, label_val in val_data:\n",
    "                data_val, label_val = data_val.to(dev), label_val.to(dev)\n",
    "                predict = model(data_val)\n",
    "                f1_score = f1(predict, label_val)\n",
    "                v_loss = criterion(predict, label_val)\n",
    "            val_loss.append(v_loss.item())\n",
    "            f1_list.append(f1_score.item())\n",
    "        \n",
    "        # Comment the code below if you want to switch to the best settings (i.e., no validation data)\n",
    "        if epoch % 10 == 0:\n",
    "            print('Validation F1 in epoch{} : {:.4f}'.format(epoch, f1_score.item()))\n",
    "            print('Validation loss in epoch{} : {:.4f}'.format(epoch, v_loss.item()))\n",
    "    \n",
    "    return model, train_loss, val_loss, f1_list"
   ]
  },
  {
   "cell_type": "code",
   "execution_count": 9,
   "id": "4dd997da",
   "metadata": {},
   "outputs": [],
   "source": [
    "import torch.nn as nn\n",
    "import torch.nn.functional as F\n",
    "class FEATURE_EXTRACTOR(nn.Module):\n",
    "    \n",
    "    def __init__(self, layer_num:int=3):\n",
    "        super().__init__()\n",
    "        \n",
    "        self.layer_num = layer_num\n",
    "        \n",
    "        self.fc1 = nn.Linear(768, 2048)\n",
    "        self.fc2 = nn.Linear(2048, 18)\n",
    "        self.fc3 = nn.Linear(2048, 512)\n",
    "        self.fc4 = nn.Linear(2048, 1024)\n",
    "        self.fc5 = nn.Linear(1024, 512)\n",
    "        self.fc6 = nn.Linear(512, 18)\n",
    "        \n",
    "        self.dropout = nn.Dropout(p = 0.5)\n",
    "\n",
    "    def forward(self, inputs):\n",
    "        tensor = F.gelu(self.fc1(inputs))\n",
    "        tensor = self.dropout(tensor)\n",
    "        \n",
    "        if self.layer_num == 3:\n",
    "            tensor = torch.sigmoid(self.fc2(tensor))\n",
    "        elif self.layer_num == 4:\n",
    "            tensor = F.gelu(self.fc3(tensor))\n",
    "            tensor = self.dropout(tensor)\n",
    "            tensor = torch.sigmoid(self.fc6(tensor))\n",
    "        elif self.layer_num == 5:\n",
    "            tensor = F.gelu(self.fc4(tensor))\n",
    "            tensor = self.dropout(tensor)\n",
    "            tensor = F.gelu(self.fc5(tensor))\n",
    "            tensor = self.dropout(tensor)\n",
    "            tensor = torch.sigmoid(self.fc6(tensor))\n",
    "        return tensor\n",
    "\n",
    "class DECISION_MODEL(nn.Module):\n",
    "    def __init__(self):\n",
    "        super().__init__()\n",
    "        self.fc1 = nn.Linear(18, 1024)\n",
    "        self.fc2 = nn.Linear(1024, 512)\n",
    "        self.fc3 = nn.Linear(512, 18)\n",
    "\n",
    "    def forward(self, inputs):\n",
    "        tensor = F.gelu(self.fc1(inputs))\n",
    "        tensor = F.gelu(self.fc2(tensor))\n",
    "        tensor = torch.sigmoid(self.fc3(tensor))\n",
    "        return tensor"
   ]
  },
  {
   "cell_type": "markdown",
   "id": "562cdeee",
   "metadata": {},
   "source": [
    "## Experiments on Epoch Number"
   ]
  },
  {
   "cell_type": "code",
   "execution_count": 10,
   "id": "bcbe2fd1",
   "metadata": {},
   "outputs": [
    {
     "name": "stderr",
     "output_type": "stream",
     "text": [
      "  1%|\u001b[32m▊                                                                                 \u001b[0m| 1/100 [00:00<01:36,  1.02it/s]\u001b[0m"
     ]
    },
    {
     "name": "stdout",
     "output_type": "stream",
     "text": [
      "Validation F1 in epoch0 : 0.1439\n",
      "Validation loss in epoch0 : 63612.2188\n"
     ]
    },
    {
     "name": "stderr",
     "output_type": "stream",
     "text": [
      " 11%|\u001b[32m████████▉                                                                        \u001b[0m| 11/100 [00:03<00:24,  3.66it/s]\u001b[0m"
     ]
    },
    {
     "name": "stdout",
     "output_type": "stream",
     "text": [
      "Validation F1 in epoch10 : 0.1460\n",
      "Validation loss in epoch10 : 63587.9102\n"
     ]
    },
    {
     "name": "stderr",
     "output_type": "stream",
     "text": [
      " 21%|\u001b[32m█████████████████                                                                \u001b[0m| 21/100 [00:06<00:22,  3.55it/s]\u001b[0m"
     ]
    },
    {
     "name": "stdout",
     "output_type": "stream",
     "text": [
      "Validation F1 in epoch20 : 0.6018\n",
      "Validation loss in epoch20 : 18505.6621\n"
     ]
    },
    {
     "name": "stderr",
     "output_type": "stream",
     "text": [
      " 31%|\u001b[32m█████████████████████████                                                        \u001b[0m| 31/100 [00:09<00:20,  3.41it/s]\u001b[0m"
     ]
    },
    {
     "name": "stdout",
     "output_type": "stream",
     "text": [
      "Validation F1 in epoch30 : 0.7331\n",
      "Validation loss in epoch30 : 11897.1836\n"
     ]
    },
    {
     "name": "stderr",
     "output_type": "stream",
     "text": [
      " 41%|\u001b[32m█████████████████████████████████▏                                               \u001b[0m| 41/100 [00:12<00:16,  3.50it/s]\u001b[0m"
     ]
    },
    {
     "name": "stdout",
     "output_type": "stream",
     "text": [
      "Validation F1 in epoch40 : 0.7734\n",
      "Validation loss in epoch40 : 9005.5527\n"
     ]
    },
    {
     "name": "stderr",
     "output_type": "stream",
     "text": [
      " 51%|\u001b[32m█████████████████████████████████████████▎                                       \u001b[0m| 51/100 [00:15<00:16,  2.99it/s]\u001b[0m"
     ]
    },
    {
     "name": "stdout",
     "output_type": "stream",
     "text": [
      "Validation F1 in epoch50 : 0.8139\n",
      "Validation loss in epoch50 : 7721.7993\n"
     ]
    },
    {
     "name": "stderr",
     "output_type": "stream",
     "text": [
      " 61%|\u001b[32m█████████████████████████████████████████████████▍                               \u001b[0m| 61/100 [00:18<00:11,  3.40it/s]\u001b[0m"
     ]
    },
    {
     "name": "stdout",
     "output_type": "stream",
     "text": [
      "Validation F1 in epoch60 : 0.8296\n",
      "Validation loss in epoch60 : 7137.4824\n"
     ]
    },
    {
     "name": "stderr",
     "output_type": "stream",
     "text": [
      " 71%|\u001b[32m█████████████████████████████████████████████████████████▌                       \u001b[0m| 71/100 [00:21<00:08,  3.38it/s]\u001b[0m"
     ]
    },
    {
     "name": "stdout",
     "output_type": "stream",
     "text": [
      "Validation F1 in epoch70 : 0.8363\n",
      "Validation loss in epoch70 : 6876.5664\n"
     ]
    },
    {
     "name": "stderr",
     "output_type": "stream",
     "text": [
      " 81%|\u001b[32m█████████████████████████████████████████████████████████████████▌               \u001b[0m| 81/100 [00:24<00:05,  3.45it/s]\u001b[0m"
     ]
    },
    {
     "name": "stdout",
     "output_type": "stream",
     "text": [
      "Validation F1 in epoch80 : 0.8408\n",
      "Validation loss in epoch80 : 6756.7720\n"
     ]
    },
    {
     "name": "stderr",
     "output_type": "stream",
     "text": [
      " 91%|\u001b[32m█████████████████████████████████████████████████████████████████████████▋       \u001b[0m| 91/100 [00:27<00:02,  3.46it/s]\u001b[0m"
     ]
    },
    {
     "name": "stdout",
     "output_type": "stream",
     "text": [
      "Validation F1 in epoch90 : 0.8434\n",
      "Validation loss in epoch90 : 6677.1201\n"
     ]
    },
    {
     "name": "stderr",
     "output_type": "stream",
     "text": [
      "100%|\u001b[32m████████████████████████████████████████████████████████████████████████████████\u001b[0m| 100/100 [00:30<00:00,  3.33it/s]\u001b[0m\n",
      "  1%|\u001b[32m▊                                                                                 \u001b[0m| 1/100 [00:00<00:32,  3.09it/s]\u001b[0m"
     ]
    },
    {
     "name": "stdout",
     "output_type": "stream",
     "text": [
      "Validation F1 in epoch0 : 0.1388\n",
      "Validation loss in epoch0 : 62967.6797\n"
     ]
    },
    {
     "name": "stderr",
     "output_type": "stream",
     "text": [
      " 11%|\u001b[32m████████▉                                                                        \u001b[0m| 11/100 [00:03<00:25,  3.43it/s]\u001b[0m"
     ]
    },
    {
     "name": "stdout",
     "output_type": "stream",
     "text": [
      "Validation F1 in epoch10 : 0.1380\n",
      "Validation loss in epoch10 : 63003.5195\n"
     ]
    },
    {
     "name": "stderr",
     "output_type": "stream",
     "text": [
      " 21%|\u001b[32m█████████████████                                                                \u001b[0m| 21/100 [00:06<00:23,  3.39it/s]\u001b[0m"
     ]
    },
    {
     "name": "stdout",
     "output_type": "stream",
     "text": [
      "Validation F1 in epoch20 : 0.5923\n",
      "Validation loss in epoch20 : 18128.5625\n"
     ]
    },
    {
     "name": "stderr",
     "output_type": "stream",
     "text": [
      " 31%|\u001b[32m█████████████████████████                                                        \u001b[0m| 31/100 [00:09<00:20,  3.31it/s]\u001b[0m"
     ]
    },
    {
     "name": "stdout",
     "output_type": "stream",
     "text": [
      "Validation F1 in epoch30 : 0.6817\n",
      "Validation loss in epoch30 : 12569.6641\n"
     ]
    },
    {
     "name": "stderr",
     "output_type": "stream",
     "text": [
      " 41%|\u001b[32m█████████████████████████████████▏                                               \u001b[0m| 41/100 [00:12<00:16,  3.50it/s]\u001b[0m"
     ]
    },
    {
     "name": "stdout",
     "output_type": "stream",
     "text": [
      "Validation F1 in epoch40 : 0.7768\n",
      "Validation loss in epoch40 : 10141.6436\n"
     ]
    },
    {
     "name": "stderr",
     "output_type": "stream",
     "text": [
      " 51%|\u001b[32m█████████████████████████████████████████▎                                       \u001b[0m| 51/100 [00:15<00:14,  3.46it/s]\u001b[0m"
     ]
    },
    {
     "name": "stdout",
     "output_type": "stream",
     "text": [
      "Validation F1 in epoch50 : 0.7977\n",
      "Validation loss in epoch50 : 9035.4316\n"
     ]
    },
    {
     "name": "stderr",
     "output_type": "stream",
     "text": [
      " 61%|\u001b[32m█████████████████████████████████████████████████▍                               \u001b[0m| 61/100 [00:18<00:12,  3.02it/s]\u001b[0m"
     ]
    },
    {
     "name": "stdout",
     "output_type": "stream",
     "text": [
      "Validation F1 in epoch60 : 0.8100\n",
      "Validation loss in epoch60 : 8571.4961\n"
     ]
    },
    {
     "name": "stderr",
     "output_type": "stream",
     "text": [
      " 71%|\u001b[32m█████████████████████████████████████████████████████████▌                       \u001b[0m| 71/100 [00:21<00:08,  3.40it/s]\u001b[0m"
     ]
    },
    {
     "name": "stdout",
     "output_type": "stream",
     "text": [
      "Validation F1 in epoch70 : 0.8119\n",
      "Validation loss in epoch70 : 8338.1582\n"
     ]
    },
    {
     "name": "stderr",
     "output_type": "stream",
     "text": [
      " 81%|\u001b[32m█████████████████████████████████████████████████████████████████▌               \u001b[0m| 81/100 [00:24<00:05,  3.36it/s]\u001b[0m"
     ]
    },
    {
     "name": "stdout",
     "output_type": "stream",
     "text": [
      "Validation F1 in epoch80 : 0.8194\n",
      "Validation loss in epoch80 : 8168.1045\n"
     ]
    },
    {
     "name": "stderr",
     "output_type": "stream",
     "text": [
      " 91%|\u001b[32m█████████████████████████████████████████████████████████████████████████▋       \u001b[0m| 91/100 [00:27<00:02,  3.45it/s]\u001b[0m"
     ]
    },
    {
     "name": "stdout",
     "output_type": "stream",
     "text": [
      "Validation F1 in epoch90 : 0.8206\n",
      "Validation loss in epoch90 : 8108.6328\n"
     ]
    },
    {
     "name": "stderr",
     "output_type": "stream",
     "text": [
      "100%|\u001b[32m████████████████████████████████████████████████████████████████████████████████\u001b[0m| 100/100 [00:29<00:00,  3.34it/s]\u001b[0m\n",
      "  1%|\u001b[32m▊                                                                                 \u001b[0m| 1/100 [00:00<00:29,  3.33it/s]\u001b[0m"
     ]
    },
    {
     "name": "stdout",
     "output_type": "stream",
     "text": [
      "Validation F1 in epoch0 : 0.0757\n",
      "Validation loss in epoch0 : 62087.1602\n"
     ]
    },
    {
     "name": "stderr",
     "output_type": "stream",
     "text": [
      " 11%|\u001b[32m████████▉                                                                        \u001b[0m| 11/100 [00:03<00:24,  3.61it/s]\u001b[0m"
     ]
    },
    {
     "name": "stdout",
     "output_type": "stream",
     "text": [
      "Validation F1 in epoch10 : 0.0757\n",
      "Validation loss in epoch10 : 62087.1602\n"
     ]
    },
    {
     "name": "stderr",
     "output_type": "stream",
     "text": [
      " 21%|\u001b[32m█████████████████                                                                \u001b[0m| 21/100 [00:06<00:23,  3.36it/s]\u001b[0m"
     ]
    },
    {
     "name": "stdout",
     "output_type": "stream",
     "text": [
      "Validation F1 in epoch20 : 0.5917\n",
      "Validation loss in epoch20 : 20482.3301\n"
     ]
    },
    {
     "name": "stderr",
     "output_type": "stream",
     "text": [
      " 31%|\u001b[32m█████████████████████████                                                        \u001b[0m| 31/100 [00:09<00:20,  3.33it/s]\u001b[0m"
     ]
    },
    {
     "name": "stdout",
     "output_type": "stream",
     "text": [
      "Validation F1 in epoch30 : 0.6352\n",
      "Validation loss in epoch30 : 17092.7422\n"
     ]
    },
    {
     "name": "stderr",
     "output_type": "stream",
     "text": [
      " 41%|\u001b[32m█████████████████████████████████▏                                               \u001b[0m| 41/100 [00:12<00:17,  3.29it/s]\u001b[0m"
     ]
    },
    {
     "name": "stdout",
     "output_type": "stream",
     "text": [
      "Validation F1 in epoch40 : 0.7197\n",
      "Validation loss in epoch40 : 12386.2695\n"
     ]
    },
    {
     "name": "stderr",
     "output_type": "stream",
     "text": [
      " 51%|\u001b[32m█████████████████████████████████████████▎                                       \u001b[0m| 51/100 [00:15<00:15,  3.25it/s]\u001b[0m"
     ]
    },
    {
     "name": "stdout",
     "output_type": "stream",
     "text": [
      "Validation F1 in epoch50 : 0.7753\n",
      "Validation loss in epoch50 : 10003.7227\n"
     ]
    },
    {
     "name": "stderr",
     "output_type": "stream",
     "text": [
      " 61%|\u001b[32m█████████████████████████████████████████████████▍                               \u001b[0m| 61/100 [00:18<00:12,  3.21it/s]\u001b[0m"
     ]
    },
    {
     "name": "stdout",
     "output_type": "stream",
     "text": [
      "Validation F1 in epoch60 : 0.8059\n",
      "Validation loss in epoch60 : 8515.9473\n"
     ]
    },
    {
     "name": "stderr",
     "output_type": "stream",
     "text": [
      " 71%|\u001b[32m█████████████████████████████████████████████████████████▌                       \u001b[0m| 71/100 [00:21<00:09,  3.22it/s]\u001b[0m"
     ]
    },
    {
     "name": "stdout",
     "output_type": "stream",
     "text": [
      "Validation F1 in epoch70 : 0.8270\n",
      "Validation loss in epoch70 : 7666.7148\n"
     ]
    },
    {
     "name": "stderr",
     "output_type": "stream",
     "text": [
      " 81%|\u001b[32m█████████████████████████████████████████████████████████████████▌               \u001b[0m| 81/100 [00:24<00:05,  3.34it/s]\u001b[0m"
     ]
    },
    {
     "name": "stdout",
     "output_type": "stream",
     "text": [
      "Validation F1 in epoch80 : 0.8380\n",
      "Validation loss in epoch80 : 7230.8066\n"
     ]
    },
    {
     "name": "stderr",
     "output_type": "stream",
     "text": [
      " 91%|\u001b[32m█████████████████████████████████████████████████████████████████████████▋       \u001b[0m| 91/100 [00:27<00:02,  3.30it/s]\u001b[0m"
     ]
    },
    {
     "name": "stdout",
     "output_type": "stream",
     "text": [
      "Validation F1 in epoch90 : 0.8430\n",
      "Validation loss in epoch90 : 6967.7764\n"
     ]
    },
    {
     "name": "stderr",
     "output_type": "stream",
     "text": [
      "100%|\u001b[32m████████████████████████████████████████████████████████████████████████████████\u001b[0m| 100/100 [00:30<00:00,  3.31it/s]\u001b[0m\n",
      "  1%|\u001b[32m▊                                                                                 \u001b[0m| 1/100 [00:00<00:32,  3.05it/s]\u001b[0m"
     ]
    },
    {
     "name": "stdout",
     "output_type": "stream",
     "text": [
      "Validation F1 in epoch0 : 0.1647\n",
      "Validation loss in epoch0 : 63736.8086\n"
     ]
    },
    {
     "name": "stderr",
     "output_type": "stream",
     "text": [
      " 11%|\u001b[32m████████▉                                                                        \u001b[0m| 11/100 [00:03<00:25,  3.49it/s]\u001b[0m"
     ]
    },
    {
     "name": "stdout",
     "output_type": "stream",
     "text": [
      "Validation F1 in epoch10 : 0.1626\n",
      "Validation loss in epoch10 : 63819.3516\n"
     ]
    },
    {
     "name": "stderr",
     "output_type": "stream",
     "text": [
      " 21%|\u001b[32m█████████████████                                                                \u001b[0m| 21/100 [00:06<00:23,  3.43it/s]\u001b[0m"
     ]
    },
    {
     "name": "stdout",
     "output_type": "stream",
     "text": [
      "Validation F1 in epoch20 : 0.6029\n",
      "Validation loss in epoch20 : 18582.0391\n"
     ]
    },
    {
     "name": "stderr",
     "output_type": "stream",
     "text": [
      " 31%|\u001b[32m█████████████████████████                                                        \u001b[0m| 31/100 [00:09<00:22,  3.11it/s]\u001b[0m"
     ]
    },
    {
     "name": "stdout",
     "output_type": "stream",
     "text": [
      "Validation F1 in epoch30 : 0.7320\n",
      "Validation loss in epoch30 : 11775.1719\n"
     ]
    },
    {
     "name": "stderr",
     "output_type": "stream",
     "text": [
      " 41%|\u001b[32m█████████████████████████████████▏                                               \u001b[0m| 41/100 [00:12<00:17,  3.29it/s]\u001b[0m"
     ]
    },
    {
     "name": "stdout",
     "output_type": "stream",
     "text": [
      "Validation F1 in epoch40 : 0.7753\n",
      "Validation loss in epoch40 : 8961.6602\n"
     ]
    },
    {
     "name": "stderr",
     "output_type": "stream",
     "text": [
      " 51%|\u001b[32m█████████████████████████████████████████▎                                       \u001b[0m| 51/100 [00:15<00:13,  3.59it/s]\u001b[0m"
     ]
    },
    {
     "name": "stdout",
     "output_type": "stream",
     "text": [
      "Validation F1 in epoch50 : 0.8152\n",
      "Validation loss in epoch50 : 7688.2910\n"
     ]
    },
    {
     "name": "stderr",
     "output_type": "stream",
     "text": [
      " 61%|\u001b[32m█████████████████████████████████████████████████▍                               \u001b[0m| 61/100 [00:18<00:11,  3.37it/s]\u001b[0m"
     ]
    },
    {
     "name": "stdout",
     "output_type": "stream",
     "text": [
      "Validation F1 in epoch60 : 0.8312\n",
      "Validation loss in epoch60 : 7171.8438\n"
     ]
    },
    {
     "name": "stderr",
     "output_type": "stream",
     "text": [
      " 71%|\u001b[32m█████████████████████████████████████████████████████████▌                       \u001b[0m| 71/100 [00:21<00:09,  3.12it/s]\u001b[0m"
     ]
    },
    {
     "name": "stdout",
     "output_type": "stream",
     "text": [
      "Validation F1 in epoch70 : 0.8372\n",
      "Validation loss in epoch70 : 6862.0811\n"
     ]
    },
    {
     "name": "stderr",
     "output_type": "stream",
     "text": [
      " 81%|\u001b[32m█████████████████████████████████████████████████████████████████▌               \u001b[0m| 81/100 [00:24<00:05,  3.45it/s]\u001b[0m"
     ]
    },
    {
     "name": "stdout",
     "output_type": "stream",
     "text": [
      "Validation F1 in epoch80 : 0.8415\n",
      "Validation loss in epoch80 : 6737.1719\n"
     ]
    },
    {
     "name": "stderr",
     "output_type": "stream",
     "text": [
      " 91%|\u001b[32m█████████████████████████████████████████████████████████████████████████▋       \u001b[0m| 91/100 [00:27<00:02,  3.46it/s]\u001b[0m"
     ]
    },
    {
     "name": "stdout",
     "output_type": "stream",
     "text": [
      "Validation F1 in epoch90 : 0.8430\n",
      "Validation loss in epoch90 : 6687.5200\n"
     ]
    },
    {
     "name": "stderr",
     "output_type": "stream",
     "text": [
      "100%|\u001b[32m████████████████████████████████████████████████████████████████████████████████\u001b[0m| 100/100 [00:30<00:00,  3.32it/s]\u001b[0m\n",
      "  1%|\u001b[32m▊                                                                                 \u001b[0m| 1/100 [00:00<00:32,  3.02it/s]\u001b[0m"
     ]
    },
    {
     "name": "stdout",
     "output_type": "stream",
     "text": [
      "Validation F1 in epoch0 : 0.1388\n",
      "Validation loss in epoch0 : 62967.6797\n"
     ]
    },
    {
     "name": "stderr",
     "output_type": "stream",
     "text": [
      " 11%|\u001b[32m████████▉                                                                        \u001b[0m| 11/100 [00:03<00:26,  3.30it/s]\u001b[0m"
     ]
    },
    {
     "name": "stdout",
     "output_type": "stream",
     "text": [
      "Validation F1 in epoch10 : 0.1380\n",
      "Validation loss in epoch10 : 63003.5195\n"
     ]
    },
    {
     "name": "stderr",
     "output_type": "stream",
     "text": [
      " 21%|\u001b[32m█████████████████                                                                \u001b[0m| 21/100 [00:06<00:22,  3.53it/s]\u001b[0m"
     ]
    },
    {
     "name": "stdout",
     "output_type": "stream",
     "text": [
      "Validation F1 in epoch20 : 0.5923\n",
      "Validation loss in epoch20 : 18128.5625\n"
     ]
    },
    {
     "name": "stderr",
     "output_type": "stream",
     "text": [
      " 31%|\u001b[32m█████████████████████████                                                        \u001b[0m| 31/100 [00:09<00:19,  3.53it/s]\u001b[0m"
     ]
    },
    {
     "name": "stdout",
     "output_type": "stream",
     "text": [
      "Validation F1 in epoch30 : 0.6817\n",
      "Validation loss in epoch30 : 12569.6641\n"
     ]
    },
    {
     "name": "stderr",
     "output_type": "stream",
     "text": [
      " 41%|\u001b[32m█████████████████████████████████▏                                               \u001b[0m| 41/100 [00:12<00:16,  3.48it/s]\u001b[0m"
     ]
    },
    {
     "name": "stdout",
     "output_type": "stream",
     "text": [
      "Validation F1 in epoch40 : 0.7768\n",
      "Validation loss in epoch40 : 10141.6436\n"
     ]
    },
    {
     "name": "stderr",
     "output_type": "stream",
     "text": [
      " 51%|\u001b[32m█████████████████████████████████████████▎                                       \u001b[0m| 51/100 [00:15<00:14,  3.42it/s]\u001b[0m"
     ]
    },
    {
     "name": "stdout",
     "output_type": "stream",
     "text": [
      "Validation F1 in epoch50 : 0.7977\n",
      "Validation loss in epoch50 : 9035.4316\n"
     ]
    },
    {
     "name": "stderr",
     "output_type": "stream",
     "text": [
      " 61%|\u001b[32m█████████████████████████████████████████████████▍                               \u001b[0m| 61/100 [00:18<00:12,  3.17it/s]\u001b[0m"
     ]
    },
    {
     "name": "stdout",
     "output_type": "stream",
     "text": [
      "Validation F1 in epoch60 : 0.8100\n",
      "Validation loss in epoch60 : 8571.4961\n"
     ]
    },
    {
     "name": "stderr",
     "output_type": "stream",
     "text": [
      " 71%|\u001b[32m█████████████████████████████████████████████████████████▌                       \u001b[0m| 71/100 [00:21<00:09,  3.14it/s]\u001b[0m"
     ]
    },
    {
     "name": "stdout",
     "output_type": "stream",
     "text": [
      "Validation F1 in epoch70 : 0.8119\n",
      "Validation loss in epoch70 : 8338.1582\n"
     ]
    },
    {
     "name": "stderr",
     "output_type": "stream",
     "text": [
      " 81%|\u001b[32m█████████████████████████████████████████████████████████████████▌               \u001b[0m| 81/100 [00:24<00:05,  3.39it/s]\u001b[0m"
     ]
    },
    {
     "name": "stdout",
     "output_type": "stream",
     "text": [
      "Validation F1 in epoch80 : 0.8194\n",
      "Validation loss in epoch80 : 8168.1045\n"
     ]
    },
    {
     "name": "stderr",
     "output_type": "stream",
     "text": [
      " 91%|\u001b[32m█████████████████████████████████████████████████████████████████████████▋       \u001b[0m| 91/100 [00:27<00:02,  3.50it/s]\u001b[0m"
     ]
    },
    {
     "name": "stdout",
     "output_type": "stream",
     "text": [
      "Validation F1 in epoch90 : 0.8206\n",
      "Validation loss in epoch90 : 8108.6328\n"
     ]
    },
    {
     "name": "stderr",
     "output_type": "stream",
     "text": [
      "100%|\u001b[32m████████████████████████████████████████████████████████████████████████████████\u001b[0m| 100/100 [00:30<00:00,  3.31it/s]\u001b[0m\n",
      "  1%|\u001b[32m▊                                                                                 \u001b[0m| 1/100 [00:00<00:24,  4.03it/s]\u001b[0m"
     ]
    },
    {
     "name": "stdout",
     "output_type": "stream",
     "text": [
      "Validation F1 in epoch0 : 0.0758\n",
      "Validation loss in epoch0 : 62087.0508\n"
     ]
    },
    {
     "name": "stderr",
     "output_type": "stream",
     "text": [
      " 11%|\u001b[32m████████▉                                                                        \u001b[0m| 11/100 [00:03<00:26,  3.41it/s]\u001b[0m"
     ]
    },
    {
     "name": "stdout",
     "output_type": "stream",
     "text": [
      "Validation F1 in epoch10 : 0.0758\n",
      "Validation loss in epoch10 : 62087.0508\n"
     ]
    },
    {
     "name": "stderr",
     "output_type": "stream",
     "text": [
      " 21%|\u001b[32m█████████████████                                                                \u001b[0m| 21/100 [00:06<00:25,  3.08it/s]\u001b[0m"
     ]
    },
    {
     "name": "stdout",
     "output_type": "stream",
     "text": [
      "Validation F1 in epoch20 : 0.5917\n",
      "Validation loss in epoch20 : 20480.3477\n"
     ]
    },
    {
     "name": "stderr",
     "output_type": "stream",
     "text": [
      " 31%|\u001b[32m█████████████████████████                                                        \u001b[0m| 31/100 [00:09<00:21,  3.21it/s]\u001b[0m"
     ]
    },
    {
     "name": "stdout",
     "output_type": "stream",
     "text": [
      "Validation F1 in epoch30 : 0.6352\n",
      "Validation loss in epoch30 : 17096.7344\n"
     ]
    },
    {
     "name": "stderr",
     "output_type": "stream",
     "text": [
      " 41%|\u001b[32m█████████████████████████████████▏                                               \u001b[0m| 41/100 [00:12<00:19,  3.10it/s]\u001b[0m"
     ]
    },
    {
     "name": "stdout",
     "output_type": "stream",
     "text": [
      "Validation F1 in epoch40 : 0.7205\n",
      "Validation loss in epoch40 : 12391.0547\n"
     ]
    },
    {
     "name": "stderr",
     "output_type": "stream",
     "text": [
      " 51%|\u001b[32m█████████████████████████████████████████▎                                       \u001b[0m| 51/100 [00:15<00:15,  3.21it/s]\u001b[0m"
     ]
    },
    {
     "name": "stdout",
     "output_type": "stream",
     "text": [
      "Validation F1 in epoch50 : 0.7741\n",
      "Validation loss in epoch50 : 10009.1777\n"
     ]
    },
    {
     "name": "stderr",
     "output_type": "stream",
     "text": [
      " 61%|\u001b[32m█████████████████████████████████████████████████▍                               \u001b[0m| 61/100 [00:18<00:11,  3.38it/s]\u001b[0m"
     ]
    },
    {
     "name": "stdout",
     "output_type": "stream",
     "text": [
      "Validation F1 in epoch60 : 0.8059\n",
      "Validation loss in epoch60 : 8522.3223\n"
     ]
    },
    {
     "name": "stderr",
     "output_type": "stream",
     "text": [
      " 71%|\u001b[32m█████████████████████████████████████████████████████████▌                       \u001b[0m| 71/100 [00:21<00:08,  3.30it/s]\u001b[0m"
     ]
    },
    {
     "name": "stdout",
     "output_type": "stream",
     "text": [
      "Validation F1 in epoch70 : 0.8273\n",
      "Validation loss in epoch70 : 7675.1948\n"
     ]
    },
    {
     "name": "stderr",
     "output_type": "stream",
     "text": [
      " 81%|\u001b[32m█████████████████████████████████████████████████████████████████▌               \u001b[0m| 81/100 [00:24<00:05,  3.31it/s]\u001b[0m"
     ]
    },
    {
     "name": "stdout",
     "output_type": "stream",
     "text": [
      "Validation F1 in epoch80 : 0.8375\n",
      "Validation loss in epoch80 : 7237.8730\n"
     ]
    },
    {
     "name": "stderr",
     "output_type": "stream",
     "text": [
      " 91%|\u001b[32m█████████████████████████████████████████████████████████████████████████▋       \u001b[0m| 91/100 [00:27<00:02,  3.26it/s]\u001b[0m"
     ]
    },
    {
     "name": "stdout",
     "output_type": "stream",
     "text": [
      "Validation F1 in epoch90 : 0.8432\n",
      "Validation loss in epoch90 : 6973.2656\n"
     ]
    },
    {
     "name": "stderr",
     "output_type": "stream",
     "text": [
      "100%|\u001b[32m████████████████████████████████████████████████████████████████████████████████\u001b[0m| 100/100 [00:30<00:00,  3.28it/s]\u001b[0m\n",
      "  1%|\u001b[32m▊                                                                                 \u001b[0m| 1/100 [00:00<00:32,  3.04it/s]\u001b[0m"
     ]
    },
    {
     "name": "stdout",
     "output_type": "stream",
     "text": [
      "Validation F1 in epoch0 : 0.1647\n",
      "Validation loss in epoch0 : 63736.8086\n"
     ]
    },
    {
     "name": "stderr",
     "output_type": "stream",
     "text": [
      " 11%|\u001b[32m████████▉                                                                        \u001b[0m| 11/100 [00:03<00:29,  3.06it/s]\u001b[0m"
     ]
    },
    {
     "name": "stdout",
     "output_type": "stream",
     "text": [
      "Validation F1 in epoch10 : 0.1626\n",
      "Validation loss in epoch10 : 63819.3516\n"
     ]
    },
    {
     "name": "stderr",
     "output_type": "stream",
     "text": [
      " 21%|\u001b[32m█████████████████                                                                \u001b[0m| 21/100 [00:06<00:24,  3.20it/s]\u001b[0m"
     ]
    },
    {
     "name": "stdout",
     "output_type": "stream",
     "text": [
      "Validation F1 in epoch20 : 0.6029\n",
      "Validation loss in epoch20 : 18582.0391\n"
     ]
    },
    {
     "name": "stderr",
     "output_type": "stream",
     "text": [
      " 31%|\u001b[32m█████████████████████████                                                        \u001b[0m| 31/100 [00:09<00:19,  3.59it/s]\u001b[0m"
     ]
    },
    {
     "name": "stdout",
     "output_type": "stream",
     "text": [
      "Validation F1 in epoch30 : 0.7320\n",
      "Validation loss in epoch30 : 11775.1719\n"
     ]
    },
    {
     "name": "stderr",
     "output_type": "stream",
     "text": [
      " 41%|\u001b[32m█████████████████████████████████▏                                               \u001b[0m| 41/100 [00:12<00:19,  3.07it/s]\u001b[0m"
     ]
    },
    {
     "name": "stdout",
     "output_type": "stream",
     "text": [
      "Validation F1 in epoch40 : 0.7753\n",
      "Validation loss in epoch40 : 8961.6602\n"
     ]
    },
    {
     "name": "stderr",
     "output_type": "stream",
     "text": [
      " 51%|\u001b[32m█████████████████████████████████████████▎                                       \u001b[0m| 51/100 [00:15<00:14,  3.41it/s]\u001b[0m"
     ]
    },
    {
     "name": "stdout",
     "output_type": "stream",
     "text": [
      "Validation F1 in epoch50 : 0.8152\n",
      "Validation loss in epoch50 : 7688.2910\n"
     ]
    },
    {
     "name": "stderr",
     "output_type": "stream",
     "text": [
      " 61%|\u001b[32m█████████████████████████████████████████████████▍                               \u001b[0m| 61/100 [00:18<00:12,  3.19it/s]\u001b[0m"
     ]
    },
    {
     "name": "stdout",
     "output_type": "stream",
     "text": [
      "Validation F1 in epoch60 : 0.8312\n",
      "Validation loss in epoch60 : 7171.8438\n"
     ]
    },
    {
     "name": "stderr",
     "output_type": "stream",
     "text": [
      " 71%|\u001b[32m█████████████████████████████████████████████████████████▌                       \u001b[0m| 71/100 [00:21<00:08,  3.23it/s]\u001b[0m"
     ]
    },
    {
     "name": "stdout",
     "output_type": "stream",
     "text": [
      "Validation F1 in epoch70 : 0.8372\n",
      "Validation loss in epoch70 : 6862.0811\n"
     ]
    },
    {
     "name": "stderr",
     "output_type": "stream",
     "text": [
      " 81%|\u001b[32m█████████████████████████████████████████████████████████████████▌               \u001b[0m| 81/100 [00:24<00:05,  3.34it/s]\u001b[0m"
     ]
    },
    {
     "name": "stdout",
     "output_type": "stream",
     "text": [
      "Validation F1 in epoch80 : 0.8415\n",
      "Validation loss in epoch80 : 6737.1719\n"
     ]
    },
    {
     "name": "stderr",
     "output_type": "stream",
     "text": [
      " 91%|\u001b[32m█████████████████████████████████████████████████████████████████████████▋       \u001b[0m| 91/100 [00:27<00:02,  3.40it/s]\u001b[0m"
     ]
    },
    {
     "name": "stdout",
     "output_type": "stream",
     "text": [
      "Validation F1 in epoch90 : 0.8430\n",
      "Validation loss in epoch90 : 6687.5200\n"
     ]
    },
    {
     "name": "stderr",
     "output_type": "stream",
     "text": [
      "100%|\u001b[32m████████████████████████████████████████████████████████████████████████████████\u001b[0m| 100/100 [00:29<00:00,  3.35it/s]\u001b[0m\n",
      "  1%|\u001b[32m▊                                                                                 \u001b[0m| 1/100 [00:00<00:26,  3.73it/s]\u001b[0m"
     ]
    },
    {
     "name": "stdout",
     "output_type": "stream",
     "text": [
      "Validation F1 in epoch0 : 0.1388\n",
      "Validation loss in epoch0 : 62967.6797\n"
     ]
    },
    {
     "name": "stderr",
     "output_type": "stream",
     "text": [
      " 11%|\u001b[32m████████▉                                                                        \u001b[0m| 11/100 [00:03<00:26,  3.40it/s]\u001b[0m"
     ]
    },
    {
     "name": "stdout",
     "output_type": "stream",
     "text": [
      "Validation F1 in epoch10 : 0.1380\n",
      "Validation loss in epoch10 : 63003.5195\n"
     ]
    },
    {
     "name": "stderr",
     "output_type": "stream",
     "text": [
      " 21%|\u001b[32m█████████████████                                                                \u001b[0m| 21/100 [00:06<00:22,  3.54it/s]\u001b[0m"
     ]
    },
    {
     "name": "stdout",
     "output_type": "stream",
     "text": [
      "Validation F1 in epoch20 : 0.5923\n",
      "Validation loss in epoch20 : 18128.5625\n"
     ]
    },
    {
     "name": "stderr",
     "output_type": "stream",
     "text": [
      " 31%|\u001b[32m█████████████████████████                                                        \u001b[0m| 31/100 [00:09<00:21,  3.27it/s]\u001b[0m"
     ]
    },
    {
     "name": "stdout",
     "output_type": "stream",
     "text": [
      "Validation F1 in epoch30 : 0.6817\n",
      "Validation loss in epoch30 : 12569.6641\n"
     ]
    },
    {
     "name": "stderr",
     "output_type": "stream",
     "text": [
      " 41%|\u001b[32m█████████████████████████████████▏                                               \u001b[0m| 41/100 [00:12<00:18,  3.18it/s]\u001b[0m"
     ]
    },
    {
     "name": "stdout",
     "output_type": "stream",
     "text": [
      "Validation F1 in epoch40 : 0.7768\n",
      "Validation loss in epoch40 : 10141.6436\n"
     ]
    },
    {
     "name": "stderr",
     "output_type": "stream",
     "text": [
      " 51%|\u001b[32m█████████████████████████████████████████▎                                       \u001b[0m| 51/100 [00:15<00:15,  3.19it/s]\u001b[0m"
     ]
    },
    {
     "name": "stdout",
     "output_type": "stream",
     "text": [
      "Validation F1 in epoch50 : 0.7977\n",
      "Validation loss in epoch50 : 9035.4316\n"
     ]
    },
    {
     "name": "stderr",
     "output_type": "stream",
     "text": [
      " 61%|\u001b[32m█████████████████████████████████████████████████▍                               \u001b[0m| 61/100 [00:18<00:11,  3.26it/s]\u001b[0m"
     ]
    },
    {
     "name": "stdout",
     "output_type": "stream",
     "text": [
      "Validation F1 in epoch60 : 0.8100\n",
      "Validation loss in epoch60 : 8571.4961\n"
     ]
    },
    {
     "name": "stderr",
     "output_type": "stream",
     "text": [
      " 71%|\u001b[32m█████████████████████████████████████████████████████████▌                       \u001b[0m| 71/100 [00:21<00:09,  3.20it/s]\u001b[0m"
     ]
    },
    {
     "name": "stdout",
     "output_type": "stream",
     "text": [
      "Validation F1 in epoch70 : 0.8119\n",
      "Validation loss in epoch70 : 8338.1582\n"
     ]
    },
    {
     "name": "stderr",
     "output_type": "stream",
     "text": [
      " 81%|\u001b[32m█████████████████████████████████████████████████████████████████▌               \u001b[0m| 81/100 [00:24<00:06,  3.15it/s]\u001b[0m"
     ]
    },
    {
     "name": "stdout",
     "output_type": "stream",
     "text": [
      "Validation F1 in epoch80 : 0.8194\n",
      "Validation loss in epoch80 : 8168.1045\n"
     ]
    },
    {
     "name": "stderr",
     "output_type": "stream",
     "text": [
      " 91%|\u001b[32m█████████████████████████████████████████████████████████████████████████▋       \u001b[0m| 91/100 [00:27<00:02,  3.30it/s]\u001b[0m"
     ]
    },
    {
     "name": "stdout",
     "output_type": "stream",
     "text": [
      "Validation F1 in epoch90 : 0.8206\n",
      "Validation loss in epoch90 : 8108.6328\n"
     ]
    },
    {
     "name": "stderr",
     "output_type": "stream",
     "text": [
      "100%|\u001b[32m████████████████████████████████████████████████████████████████████████████████\u001b[0m| 100/100 [00:30<00:00,  3.29it/s]\u001b[0m\n",
      "  1%|\u001b[32m▊                                                                                 \u001b[0m| 1/100 [00:00<00:26,  3.80it/s]\u001b[0m"
     ]
    },
    {
     "name": "stdout",
     "output_type": "stream",
     "text": [
      "Validation F1 in epoch0 : 0.0758\n",
      "Validation loss in epoch0 : 62087.0508\n"
     ]
    },
    {
     "name": "stderr",
     "output_type": "stream",
     "text": [
      " 11%|\u001b[32m████████▉                                                                        \u001b[0m| 11/100 [00:03<00:27,  3.26it/s]\u001b[0m"
     ]
    },
    {
     "name": "stdout",
     "output_type": "stream",
     "text": [
      "Validation F1 in epoch10 : 0.0758\n",
      "Validation loss in epoch10 : 62087.0508\n"
     ]
    },
    {
     "name": "stderr",
     "output_type": "stream",
     "text": [
      " 21%|\u001b[32m█████████████████                                                                \u001b[0m| 21/100 [00:06<00:24,  3.16it/s]\u001b[0m"
     ]
    },
    {
     "name": "stdout",
     "output_type": "stream",
     "text": [
      "Validation F1 in epoch20 : 0.5917\n",
      "Validation loss in epoch20 : 20480.3477\n"
     ]
    },
    {
     "name": "stderr",
     "output_type": "stream",
     "text": [
      " 31%|\u001b[32m█████████████████████████                                                        \u001b[0m| 31/100 [00:09<00:21,  3.18it/s]\u001b[0m"
     ]
    },
    {
     "name": "stdout",
     "output_type": "stream",
     "text": [
      "Validation F1 in epoch30 : 0.6352\n",
      "Validation loss in epoch30 : 17096.7344\n"
     ]
    },
    {
     "name": "stderr",
     "output_type": "stream",
     "text": [
      " 41%|\u001b[32m█████████████████████████████████▏                                               \u001b[0m| 41/100 [00:12<00:17,  3.37it/s]\u001b[0m"
     ]
    },
    {
     "name": "stdout",
     "output_type": "stream",
     "text": [
      "Validation F1 in epoch40 : 0.7205\n",
      "Validation loss in epoch40 : 12391.0547\n"
     ]
    },
    {
     "name": "stderr",
     "output_type": "stream",
     "text": [
      " 51%|\u001b[32m█████████████████████████████████████████▎                                       \u001b[0m| 51/100 [00:15<00:14,  3.27it/s]\u001b[0m"
     ]
    },
    {
     "name": "stdout",
     "output_type": "stream",
     "text": [
      "Validation F1 in epoch50 : 0.7741\n",
      "Validation loss in epoch50 : 10009.1777\n"
     ]
    },
    {
     "name": "stderr",
     "output_type": "stream",
     "text": [
      " 61%|\u001b[32m█████████████████████████████████████████████████▍                               \u001b[0m| 61/100 [00:18<00:11,  3.27it/s]\u001b[0m"
     ]
    },
    {
     "name": "stdout",
     "output_type": "stream",
     "text": [
      "Validation F1 in epoch60 : 0.8059\n",
      "Validation loss in epoch60 : 8522.3223\n"
     ]
    },
    {
     "name": "stderr",
     "output_type": "stream",
     "text": [
      " 71%|\u001b[32m█████████████████████████████████████████████████████████▌                       \u001b[0m| 71/100 [00:21<00:08,  3.25it/s]\u001b[0m"
     ]
    },
    {
     "name": "stdout",
     "output_type": "stream",
     "text": [
      "Validation F1 in epoch70 : 0.8273\n",
      "Validation loss in epoch70 : 7675.1948\n"
     ]
    },
    {
     "name": "stderr",
     "output_type": "stream",
     "text": [
      " 81%|\u001b[32m█████████████████████████████████████████████████████████████████▌               \u001b[0m| 81/100 [00:24<00:05,  3.22it/s]\u001b[0m"
     ]
    },
    {
     "name": "stdout",
     "output_type": "stream",
     "text": [
      "Validation F1 in epoch80 : 0.8375\n",
      "Validation loss in epoch80 : 7237.8730\n"
     ]
    },
    {
     "name": "stderr",
     "output_type": "stream",
     "text": [
      " 91%|\u001b[32m█████████████████████████████████████████████████████████████████████████▋       \u001b[0m| 91/100 [00:27<00:02,  3.19it/s]\u001b[0m"
     ]
    },
    {
     "name": "stdout",
     "output_type": "stream",
     "text": [
      "Validation F1 in epoch90 : 0.8432\n",
      "Validation loss in epoch90 : 6973.2656\n"
     ]
    },
    {
     "name": "stderr",
     "output_type": "stream",
     "text": [
      "100%|\u001b[32m████████████████████████████████████████████████████████████████████████████████\u001b[0m| 100/100 [00:30<00:00,  3.25it/s]\u001b[0m\n",
      "  0%|\u001b[32m▍                                                                                 \u001b[0m| 1/200 [00:00<01:13,  2.70it/s]\u001b[0m"
     ]
    },
    {
     "name": "stdout",
     "output_type": "stream",
     "text": [
      "Validation F1 in epoch0 : 0.1647\n",
      "Validation loss in epoch0 : 63736.8086\n"
     ]
    },
    {
     "name": "stderr",
     "output_type": "stream",
     "text": [
      "  6%|\u001b[32m████▍                                                                            \u001b[0m| 11/200 [00:03<00:57,  3.29it/s]\u001b[0m"
     ]
    },
    {
     "name": "stdout",
     "output_type": "stream",
     "text": [
      "Validation F1 in epoch10 : 0.1626\n",
      "Validation loss in epoch10 : 63819.3516\n"
     ]
    },
    {
     "name": "stderr",
     "output_type": "stream",
     "text": [
      " 10%|\u001b[32m████████▌                                                                        \u001b[0m| 21/200 [00:06<00:54,  3.27it/s]\u001b[0m"
     ]
    },
    {
     "name": "stdout",
     "output_type": "stream",
     "text": [
      "Validation F1 in epoch20 : 0.6029\n",
      "Validation loss in epoch20 : 18582.0391\n"
     ]
    },
    {
     "name": "stderr",
     "output_type": "stream",
     "text": [
      " 16%|\u001b[32m████████████▌                                                                    \u001b[0m| 31/200 [00:09<00:52,  3.22it/s]\u001b[0m"
     ]
    },
    {
     "name": "stdout",
     "output_type": "stream",
     "text": [
      "Validation F1 in epoch30 : 0.7320\n",
      "Validation loss in epoch30 : 11775.1719\n"
     ]
    },
    {
     "name": "stderr",
     "output_type": "stream",
     "text": [
      " 20%|\u001b[32m████████████████▌                                                                \u001b[0m| 41/200 [00:12<00:46,  3.43it/s]\u001b[0m"
     ]
    },
    {
     "name": "stdout",
     "output_type": "stream",
     "text": [
      "Validation F1 in epoch40 : 0.7753\n",
      "Validation loss in epoch40 : 8961.6602\n"
     ]
    },
    {
     "name": "stderr",
     "output_type": "stream",
     "text": [
      " 26%|\u001b[32m████████████████████▋                                                            \u001b[0m| 51/200 [00:15<00:46,  3.24it/s]\u001b[0m"
     ]
    },
    {
     "name": "stdout",
     "output_type": "stream",
     "text": [
      "Validation F1 in epoch50 : 0.8152\n",
      "Validation loss in epoch50 : 7688.2910\n"
     ]
    },
    {
     "name": "stderr",
     "output_type": "stream",
     "text": [
      " 30%|\u001b[32m████████████████████████▋                                                        \u001b[0m| 61/200 [00:18<00:41,  3.35it/s]\u001b[0m"
     ]
    },
    {
     "name": "stdout",
     "output_type": "stream",
     "text": [
      "Validation F1 in epoch60 : 0.8312\n",
      "Validation loss in epoch60 : 7171.8438\n"
     ]
    },
    {
     "name": "stderr",
     "output_type": "stream",
     "text": [
      " 36%|\u001b[32m████████████████████████████▊                                                    \u001b[0m| 71/200 [00:21<00:37,  3.44it/s]\u001b[0m"
     ]
    },
    {
     "name": "stdout",
     "output_type": "stream",
     "text": [
      "Validation F1 in epoch70 : 0.8372\n",
      "Validation loss in epoch70 : 6862.0811\n"
     ]
    },
    {
     "name": "stderr",
     "output_type": "stream",
     "text": [
      " 40%|\u001b[32m████████████████████████████████▊                                                \u001b[0m| 81/200 [00:24<00:33,  3.56it/s]\u001b[0m"
     ]
    },
    {
     "name": "stdout",
     "output_type": "stream",
     "text": [
      "Validation F1 in epoch80 : 0.8415\n",
      "Validation loss in epoch80 : 6737.1719\n"
     ]
    },
    {
     "name": "stderr",
     "output_type": "stream",
     "text": [
      " 46%|\u001b[32m████████████████████████████████████▊                                            \u001b[0m| 91/200 [00:27<00:31,  3.46it/s]\u001b[0m"
     ]
    },
    {
     "name": "stdout",
     "output_type": "stream",
     "text": [
      "Validation F1 in epoch90 : 0.8430\n",
      "Validation loss in epoch90 : 6687.5200\n"
     ]
    },
    {
     "name": "stderr",
     "output_type": "stream",
     "text": [
      " 50%|\u001b[32m████████████████████████████████████████▍                                       \u001b[0m| 101/200 [00:30<00:28,  3.52it/s]\u001b[0m"
     ]
    },
    {
     "name": "stdout",
     "output_type": "stream",
     "text": [
      "Validation F1 in epoch100 : 0.8468\n",
      "Validation loss in epoch100 : 6576.2295\n"
     ]
    },
    {
     "name": "stderr",
     "output_type": "stream",
     "text": [
      " 56%|\u001b[32m████████████████████████████████████████████▍                                   \u001b[0m| 111/200 [00:33<00:27,  3.23it/s]\u001b[0m"
     ]
    },
    {
     "name": "stdout",
     "output_type": "stream",
     "text": [
      "Validation F1 in epoch110 : 0.8461\n",
      "Validation loss in epoch110 : 6520.5088\n"
     ]
    },
    {
     "name": "stderr",
     "output_type": "stream",
     "text": [
      " 60%|\u001b[32m████████████████████████████████████████████████▍                               \u001b[0m| 121/200 [00:36<00:23,  3.38it/s]\u001b[0m"
     ]
    },
    {
     "name": "stdout",
     "output_type": "stream",
     "text": [
      "Validation F1 in epoch120 : 0.8499\n",
      "Validation loss in epoch120 : 6449.9497\n"
     ]
    },
    {
     "name": "stderr",
     "output_type": "stream",
     "text": [
      " 66%|\u001b[32m████████████████████████████████████████████████████▍                           \u001b[0m| 131/200 [00:39<00:20,  3.32it/s]\u001b[0m"
     ]
    },
    {
     "name": "stdout",
     "output_type": "stream",
     "text": [
      "Validation F1 in epoch130 : 0.8483\n",
      "Validation loss in epoch130 : 6457.8252\n"
     ]
    },
    {
     "name": "stderr",
     "output_type": "stream",
     "text": [
      " 70%|\u001b[32m████████████████████████████████████████████████████████▍                       \u001b[0m| 141/200 [00:42<00:18,  3.28it/s]\u001b[0m"
     ]
    },
    {
     "name": "stdout",
     "output_type": "stream",
     "text": [
      "Validation F1 in epoch140 : 0.8521\n",
      "Validation loss in epoch140 : 6395.0698\n"
     ]
    },
    {
     "name": "stderr",
     "output_type": "stream",
     "text": [
      " 76%|\u001b[32m████████████████████████████████████████████████████████████▍                   \u001b[0m| 151/200 [00:45<00:15,  3.12it/s]\u001b[0m"
     ]
    },
    {
     "name": "stdout",
     "output_type": "stream",
     "text": [
      "Validation F1 in epoch150 : 0.8511\n",
      "Validation loss in epoch150 : 6390.8213\n"
     ]
    },
    {
     "name": "stderr",
     "output_type": "stream",
     "text": [
      " 80%|\u001b[32m████████████████████████████████████████████████████████████████▍               \u001b[0m| 161/200 [00:48<00:11,  3.48it/s]\u001b[0m"
     ]
    },
    {
     "name": "stdout",
     "output_type": "stream",
     "text": [
      "Validation F1 in epoch160 : 0.8499\n",
      "Validation loss in epoch160 : 6419.8281\n"
     ]
    },
    {
     "name": "stderr",
     "output_type": "stream",
     "text": [
      " 86%|\u001b[32m████████████████████████████████████████████████████████████████████▍           \u001b[0m| 171/200 [00:51<00:08,  3.51it/s]\u001b[0m"
     ]
    },
    {
     "name": "stdout",
     "output_type": "stream",
     "text": [
      "Validation F1 in epoch170 : 0.8538\n",
      "Validation loss in epoch170 : 6333.5400\n"
     ]
    },
    {
     "name": "stderr",
     "output_type": "stream",
     "text": [
      " 90%|\u001b[32m████████████████████████████████████████████████████████████████████████▍       \u001b[0m| 181/200 [00:54<00:05,  3.28it/s]\u001b[0m"
     ]
    },
    {
     "name": "stdout",
     "output_type": "stream",
     "text": [
      "Validation F1 in epoch180 : 0.8537\n",
      "Validation loss in epoch180 : 6407.0093\n"
     ]
    },
    {
     "name": "stderr",
     "output_type": "stream",
     "text": [
      " 96%|\u001b[32m████████████████████████████████████████████████████████████████████████████▍   \u001b[0m| 191/200 [00:57<00:02,  3.34it/s]\u001b[0m"
     ]
    },
    {
     "name": "stdout",
     "output_type": "stream",
     "text": [
      "Validation F1 in epoch190 : 0.8538\n",
      "Validation loss in epoch190 : 6357.3975\n"
     ]
    },
    {
     "name": "stderr",
     "output_type": "stream",
     "text": [
      "100%|\u001b[32m████████████████████████████████████████████████████████████████████████████████\u001b[0m| 200/200 [01:00<00:00,  3.31it/s]\u001b[0m\n",
      "  0%|\u001b[32m▍                                                                                 \u001b[0m| 1/200 [00:00<01:19,  2.51it/s]\u001b[0m"
     ]
    },
    {
     "name": "stdout",
     "output_type": "stream",
     "text": [
      "Validation F1 in epoch0 : 0.1386\n",
      "Validation loss in epoch0 : 62496.9648\n"
     ]
    },
    {
     "name": "stderr",
     "output_type": "stream",
     "text": [
      "  6%|\u001b[32m████▍                                                                            \u001b[0m| 11/200 [00:03<00:59,  3.20it/s]\u001b[0m"
     ]
    },
    {
     "name": "stdout",
     "output_type": "stream",
     "text": [
      "Validation F1 in epoch10 : 0.1368\n",
      "Validation loss in epoch10 : 62499.8594\n"
     ]
    },
    {
     "name": "stderr",
     "output_type": "stream",
     "text": [
      " 10%|\u001b[32m████████▌                                                                        \u001b[0m| 21/200 [00:06<00:51,  3.51it/s]\u001b[0m"
     ]
    },
    {
     "name": "stdout",
     "output_type": "stream",
     "text": [
      "Validation F1 in epoch20 : 0.5927\n",
      "Validation loss in epoch20 : 17961.6348\n"
     ]
    },
    {
     "name": "stderr",
     "output_type": "stream",
     "text": [
      " 16%|\u001b[32m████████████▌                                                                    \u001b[0m| 31/200 [00:09<00:47,  3.54it/s]\u001b[0m"
     ]
    },
    {
     "name": "stdout",
     "output_type": "stream",
     "text": [
      "Validation F1 in epoch30 : 0.6801\n",
      "Validation loss in epoch30 : 12579.6719\n"
     ]
    },
    {
     "name": "stderr",
     "output_type": "stream",
     "text": [
      " 20%|\u001b[32m████████████████▌                                                                \u001b[0m| 41/200 [00:12<00:47,  3.34it/s]\u001b[0m"
     ]
    },
    {
     "name": "stdout",
     "output_type": "stream",
     "text": [
      "Validation F1 in epoch40 : 0.7786\n",
      "Validation loss in epoch40 : 10053.8545\n"
     ]
    },
    {
     "name": "stderr",
     "output_type": "stream",
     "text": [
      " 26%|\u001b[32m████████████████████▋                                                            \u001b[0m| 51/200 [00:15<00:44,  3.34it/s]\u001b[0m"
     ]
    },
    {
     "name": "stdout",
     "output_type": "stream",
     "text": [
      "Validation F1 in epoch50 : 0.7951\n",
      "Validation loss in epoch50 : 8986.5547\n"
     ]
    },
    {
     "name": "stderr",
     "output_type": "stream",
     "text": [
      " 30%|\u001b[32m████████████████████████▋                                                        \u001b[0m| 61/200 [00:18<00:41,  3.34it/s]\u001b[0m"
     ]
    },
    {
     "name": "stdout",
     "output_type": "stream",
     "text": [
      "Validation F1 in epoch60 : 0.8096\n",
      "Validation loss in epoch60 : 8566.8662\n"
     ]
    },
    {
     "name": "stderr",
     "output_type": "stream",
     "text": [
      " 36%|\u001b[32m████████████████████████████▊                                                    \u001b[0m| 71/200 [00:21<00:40,  3.20it/s]\u001b[0m"
     ]
    },
    {
     "name": "stdout",
     "output_type": "stream",
     "text": [
      "Validation F1 in epoch70 : 0.8147\n",
      "Validation loss in epoch70 : 8308.6328\n"
     ]
    },
    {
     "name": "stderr",
     "output_type": "stream",
     "text": [
      " 40%|\u001b[32m████████████████████████████████▊                                                \u001b[0m| 81/200 [00:24<00:35,  3.35it/s]\u001b[0m"
     ]
    },
    {
     "name": "stdout",
     "output_type": "stream",
     "text": [
      "Validation F1 in epoch80 : 0.8176\n",
      "Validation loss in epoch80 : 8191.3613\n"
     ]
    },
    {
     "name": "stderr",
     "output_type": "stream",
     "text": [
      " 46%|\u001b[32m████████████████████████████████████▊                                            \u001b[0m| 91/200 [00:27<00:30,  3.54it/s]\u001b[0m"
     ]
    },
    {
     "name": "stdout",
     "output_type": "stream",
     "text": [
      "Validation F1 in epoch90 : 0.8223\n",
      "Validation loss in epoch90 : 8097.8457\n"
     ]
    },
    {
     "name": "stderr",
     "output_type": "stream",
     "text": [
      " 50%|\u001b[32m████████████████████████████████████████▍                                       \u001b[0m| 101/200 [00:30<00:30,  3.19it/s]\u001b[0m"
     ]
    },
    {
     "name": "stdout",
     "output_type": "stream",
     "text": [
      "Validation F1 in epoch100 : 0.8212\n",
      "Validation loss in epoch100 : 8049.8428\n"
     ]
    },
    {
     "name": "stderr",
     "output_type": "stream",
     "text": [
      " 56%|\u001b[32m████████████████████████████████████████████▍                                   \u001b[0m| 111/200 [00:33<00:25,  3.52it/s]\u001b[0m"
     ]
    },
    {
     "name": "stdout",
     "output_type": "stream",
     "text": [
      "Validation F1 in epoch110 : 0.8233\n",
      "Validation loss in epoch110 : 7991.7744\n"
     ]
    },
    {
     "name": "stderr",
     "output_type": "stream",
     "text": [
      " 60%|\u001b[32m████████████████████████████████████████████████▍                               \u001b[0m| 121/200 [00:36<00:23,  3.38it/s]\u001b[0m"
     ]
    },
    {
     "name": "stdout",
     "output_type": "stream",
     "text": [
      "Validation F1 in epoch120 : 0.8239\n",
      "Validation loss in epoch120 : 7953.7817\n"
     ]
    },
    {
     "name": "stderr",
     "output_type": "stream",
     "text": [
      " 66%|\u001b[32m████████████████████████████████████████████████████▍                           \u001b[0m| 131/200 [00:39<00:20,  3.41it/s]\u001b[0m"
     ]
    },
    {
     "name": "stdout",
     "output_type": "stream",
     "text": [
      "Validation F1 in epoch130 : 0.8257\n",
      "Validation loss in epoch130 : 7949.5557\n"
     ]
    },
    {
     "name": "stderr",
     "output_type": "stream",
     "text": [
      " 70%|\u001b[32m████████████████████████████████████████████████████████▍                       \u001b[0m| 141/200 [00:42<00:18,  3.22it/s]\u001b[0m"
     ]
    },
    {
     "name": "stdout",
     "output_type": "stream",
     "text": [
      "Validation F1 in epoch140 : 0.8252\n",
      "Validation loss in epoch140 : 7897.8193\n"
     ]
    },
    {
     "name": "stderr",
     "output_type": "stream",
     "text": [
      " 76%|\u001b[32m████████████████████████████████████████████████████████████▍                   \u001b[0m| 151/200 [00:45<00:14,  3.36it/s]\u001b[0m"
     ]
    },
    {
     "name": "stdout",
     "output_type": "stream",
     "text": [
      "Validation F1 in epoch150 : 0.8254\n",
      "Validation loss in epoch150 : 7862.3643\n"
     ]
    },
    {
     "name": "stderr",
     "output_type": "stream",
     "text": [
      " 80%|\u001b[32m████████████████████████████████████████████████████████████████▍               \u001b[0m| 161/200 [00:48<00:11,  3.53it/s]\u001b[0m"
     ]
    },
    {
     "name": "stdout",
     "output_type": "stream",
     "text": [
      "Validation F1 in epoch160 : 0.8242\n",
      "Validation loss in epoch160 : 7866.1943\n"
     ]
    },
    {
     "name": "stderr",
     "output_type": "stream",
     "text": [
      " 86%|\u001b[32m████████████████████████████████████████████████████████████████████▍           \u001b[0m| 171/200 [00:51<00:08,  3.35it/s]\u001b[0m"
     ]
    },
    {
     "name": "stdout",
     "output_type": "stream",
     "text": [
      "Validation F1 in epoch170 : 0.8239\n",
      "Validation loss in epoch170 : 7869.7183\n"
     ]
    },
    {
     "name": "stderr",
     "output_type": "stream",
     "text": [
      " 90%|\u001b[32m████████████████████████████████████████████████████████████████████████▍       \u001b[0m| 181/200 [00:54<00:06,  3.03it/s]\u001b[0m"
     ]
    },
    {
     "name": "stdout",
     "output_type": "stream",
     "text": [
      "Validation F1 in epoch180 : 0.8251\n",
      "Validation loss in epoch180 : 7816.0264\n"
     ]
    },
    {
     "name": "stderr",
     "output_type": "stream",
     "text": [
      " 96%|\u001b[32m████████████████████████████████████████████████████████████████████████████▍   \u001b[0m| 191/200 [00:57<00:02,  3.16it/s]\u001b[0m"
     ]
    },
    {
     "name": "stdout",
     "output_type": "stream",
     "text": [
      "Validation F1 in epoch190 : 0.8250\n",
      "Validation loss in epoch190 : 7823.6460\n"
     ]
    },
    {
     "name": "stderr",
     "output_type": "stream",
     "text": [
      "100%|\u001b[32m████████████████████████████████████████████████████████████████████████████████\u001b[0m| 200/200 [01:00<00:00,  3.30it/s]\u001b[0m\n",
      "  0%|\u001b[32m▍                                                                                 \u001b[0m| 1/200 [00:00<00:58,  3.40it/s]\u001b[0m"
     ]
    },
    {
     "name": "stdout",
     "output_type": "stream",
     "text": [
      "Validation F1 in epoch0 : 0.0850\n",
      "Validation loss in epoch0 : 62927.5898\n"
     ]
    },
    {
     "name": "stderr",
     "output_type": "stream",
     "text": [
      "  6%|\u001b[32m████▍                                                                            \u001b[0m| 11/200 [00:03<00:59,  3.17it/s]\u001b[0m"
     ]
    },
    {
     "name": "stdout",
     "output_type": "stream",
     "text": [
      "Validation F1 in epoch10 : 0.0850\n",
      "Validation loss in epoch10 : 62927.5898\n"
     ]
    },
    {
     "name": "stderr",
     "output_type": "stream",
     "text": [
      " 10%|\u001b[32m████████▌                                                                        \u001b[0m| 21/200 [00:06<00:56,  3.17it/s]\u001b[0m"
     ]
    },
    {
     "name": "stdout",
     "output_type": "stream",
     "text": [
      "Validation F1 in epoch20 : 0.5916\n",
      "Validation loss in epoch20 : 21059.1797\n"
     ]
    },
    {
     "name": "stderr",
     "output_type": "stream",
     "text": [
      " 16%|\u001b[32m████████████▌                                                                    \u001b[0m| 31/200 [00:09<00:50,  3.36it/s]\u001b[0m"
     ]
    },
    {
     "name": "stdout",
     "output_type": "stream",
     "text": [
      "Validation F1 in epoch30 : 0.6440\n",
      "Validation loss in epoch30 : 16984.2422\n"
     ]
    },
    {
     "name": "stderr",
     "output_type": "stream",
     "text": [
      " 20%|\u001b[32m████████████████▌                                                                \u001b[0m| 41/200 [00:12<00:48,  3.25it/s]\u001b[0m"
     ]
    },
    {
     "name": "stdout",
     "output_type": "stream",
     "text": [
      "Validation F1 in epoch40 : 0.7285\n",
      "Validation loss in epoch40 : 11981.0703\n"
     ]
    },
    {
     "name": "stderr",
     "output_type": "stream",
     "text": [
      " 26%|\u001b[32m████████████████████▋                                                            \u001b[0m| 51/200 [00:15<00:45,  3.30it/s]\u001b[0m"
     ]
    },
    {
     "name": "stdout",
     "output_type": "stream",
     "text": [
      "Validation F1 in epoch50 : 0.7923\n",
      "Validation loss in epoch50 : 9599.1055\n"
     ]
    },
    {
     "name": "stderr",
     "output_type": "stream",
     "text": [
      " 30%|\u001b[32m████████████████████████▋                                                        \u001b[0m| 61/200 [00:18<00:43,  3.19it/s]\u001b[0m"
     ]
    },
    {
     "name": "stdout",
     "output_type": "stream",
     "text": [
      "Validation F1 in epoch60 : 0.8190\n",
      "Validation loss in epoch60 : 8129.6680\n"
     ]
    },
    {
     "name": "stderr",
     "output_type": "stream",
     "text": [
      " 36%|\u001b[32m████████████████████████████▊                                                    \u001b[0m| 71/200 [00:21<00:39,  3.23it/s]\u001b[0m"
     ]
    },
    {
     "name": "stdout",
     "output_type": "stream",
     "text": [
      "Validation F1 in epoch70 : 0.8392\n",
      "Validation loss in epoch70 : 7284.8662\n"
     ]
    },
    {
     "name": "stderr",
     "output_type": "stream",
     "text": [
      " 40%|\u001b[32m████████████████████████████████▊                                                \u001b[0m| 81/200 [00:24<00:37,  3.18it/s]\u001b[0m"
     ]
    },
    {
     "name": "stdout",
     "output_type": "stream",
     "text": [
      "Validation F1 in epoch80 : 0.8475\n",
      "Validation loss in epoch80 : 6868.7832\n"
     ]
    },
    {
     "name": "stderr",
     "output_type": "stream",
     "text": [
      " 46%|\u001b[32m████████████████████████████████████▊                                            \u001b[0m| 91/200 [00:28<00:34,  3.15it/s]\u001b[0m"
     ]
    },
    {
     "name": "stdout",
     "output_type": "stream",
     "text": [
      "Validation F1 in epoch90 : 0.8541\n",
      "Validation loss in epoch90 : 6639.1680\n"
     ]
    },
    {
     "name": "stderr",
     "output_type": "stream",
     "text": [
      " 50%|\u001b[32m████████████████████████████████████████▍                                       \u001b[0m| 101/200 [00:31<00:29,  3.30it/s]\u001b[0m"
     ]
    },
    {
     "name": "stdout",
     "output_type": "stream",
     "text": [
      "Validation F1 in epoch100 : 0.8558\n",
      "Validation loss in epoch100 : 6503.9644\n"
     ]
    },
    {
     "name": "stderr",
     "output_type": "stream",
     "text": [
      " 56%|\u001b[32m████████████████████████████████████████████▍                                   \u001b[0m| 111/200 [00:34<00:27,  3.27it/s]\u001b[0m"
     ]
    },
    {
     "name": "stdout",
     "output_type": "stream",
     "text": [
      "Validation F1 in epoch110 : 0.8586\n",
      "Validation loss in epoch110 : 6416.6055\n"
     ]
    },
    {
     "name": "stderr",
     "output_type": "stream",
     "text": [
      " 60%|\u001b[32m████████████████████████████████████████████████▍                               \u001b[0m| 121/200 [00:37<00:23,  3.31it/s]\u001b[0m"
     ]
    },
    {
     "name": "stdout",
     "output_type": "stream",
     "text": [
      "Validation F1 in epoch120 : 0.8594\n",
      "Validation loss in epoch120 : 6371.5708\n"
     ]
    },
    {
     "name": "stderr",
     "output_type": "stream",
     "text": [
      " 66%|\u001b[32m████████████████████████████████████████████████████▍                           \u001b[0m| 131/200 [00:40<00:21,  3.22it/s]\u001b[0m"
     ]
    },
    {
     "name": "stdout",
     "output_type": "stream",
     "text": [
      "Validation F1 in epoch130 : 0.8609\n",
      "Validation loss in epoch130 : 6344.0605\n"
     ]
    },
    {
     "name": "stderr",
     "output_type": "stream",
     "text": [
      " 70%|\u001b[32m████████████████████████████████████████████████████████▍                       \u001b[0m| 141/200 [00:43<00:18,  3.24it/s]\u001b[0m"
     ]
    },
    {
     "name": "stdout",
     "output_type": "stream",
     "text": [
      "Validation F1 in epoch140 : 0.8611\n",
      "Validation loss in epoch140 : 6328.0601\n"
     ]
    },
    {
     "name": "stderr",
     "output_type": "stream",
     "text": [
      " 76%|\u001b[32m████████████████████████████████████████████████████████████▍                   \u001b[0m| 151/200 [00:46<00:15,  3.15it/s]\u001b[0m"
     ]
    },
    {
     "name": "stdout",
     "output_type": "stream",
     "text": [
      "Validation F1 in epoch150 : 0.8621\n",
      "Validation loss in epoch150 : 6317.3457\n"
     ]
    },
    {
     "name": "stderr",
     "output_type": "stream",
     "text": [
      " 80%|\u001b[32m████████████████████████████████████████████████████████████████▍               \u001b[0m| 161/200 [00:49<00:12,  3.17it/s]\u001b[0m"
     ]
    },
    {
     "name": "stdout",
     "output_type": "stream",
     "text": [
      "Validation F1 in epoch160 : 0.8624\n",
      "Validation loss in epoch160 : 6310.8672\n"
     ]
    },
    {
     "name": "stderr",
     "output_type": "stream",
     "text": [
      " 86%|\u001b[32m████████████████████████████████████████████████████████████████████▍           \u001b[0m| 171/200 [00:52<00:08,  3.38it/s]\u001b[0m"
     ]
    },
    {
     "name": "stdout",
     "output_type": "stream",
     "text": [
      "Validation F1 in epoch170 : 0.8631\n",
      "Validation loss in epoch170 : 6306.7085\n"
     ]
    },
    {
     "name": "stderr",
     "output_type": "stream",
     "text": [
      " 90%|\u001b[32m████████████████████████████████████████████████████████████████████████▍       \u001b[0m| 181/200 [00:55<00:05,  3.29it/s]\u001b[0m"
     ]
    },
    {
     "name": "stdout",
     "output_type": "stream",
     "text": [
      "Validation F1 in epoch180 : 0.8630\n",
      "Validation loss in epoch180 : 6303.5601\n"
     ]
    },
    {
     "name": "stderr",
     "output_type": "stream",
     "text": [
      " 96%|\u001b[32m████████████████████████████████████████████████████████████████████████████▍   \u001b[0m| 191/200 [00:58<00:02,  3.31it/s]\u001b[0m"
     ]
    },
    {
     "name": "stdout",
     "output_type": "stream",
     "text": [
      "Validation F1 in epoch190 : 0.8631\n",
      "Validation loss in epoch190 : 6301.3848\n"
     ]
    },
    {
     "name": "stderr",
     "output_type": "stream",
     "text": [
      "100%|\u001b[32m████████████████████████████████████████████████████████████████████████████████\u001b[0m| 200/200 [01:01<00:00,  3.24it/s]\u001b[0m\n",
      "  0%|\u001b[32m▍                                                                                 \u001b[0m| 1/200 [00:00<01:07,  2.97it/s]\u001b[0m"
     ]
    },
    {
     "name": "stdout",
     "output_type": "stream",
     "text": [
      "Validation F1 in epoch0 : 0.1642\n",
      "Validation loss in epoch0 : 62663.5859\n"
     ]
    },
    {
     "name": "stderr",
     "output_type": "stream",
     "text": [
      "  6%|\u001b[32m████▍                                                                            \u001b[0m| 11/200 [00:03<00:58,  3.21it/s]\u001b[0m"
     ]
    },
    {
     "name": "stdout",
     "output_type": "stream",
     "text": [
      "Validation F1 in epoch10 : 0.1640\n",
      "Validation loss in epoch10 : 62686.3438\n"
     ]
    },
    {
     "name": "stderr",
     "output_type": "stream",
     "text": [
      " 10%|\u001b[32m████████▌                                                                        \u001b[0m| 21/200 [00:06<01:00,  2.97it/s]\u001b[0m"
     ]
    },
    {
     "name": "stdout",
     "output_type": "stream",
     "text": [
      "Validation F1 in epoch20 : 0.6033\n",
      "Validation loss in epoch20 : 18592.0039\n"
     ]
    },
    {
     "name": "stderr",
     "output_type": "stream",
     "text": [
      " 16%|\u001b[32m████████████▌                                                                    \u001b[0m| 31/200 [00:09<00:54,  3.09it/s]\u001b[0m"
     ]
    },
    {
     "name": "stdout",
     "output_type": "stream",
     "text": [
      "Validation F1 in epoch30 : 0.7367\n",
      "Validation loss in epoch30 : 11837.5068\n"
     ]
    },
    {
     "name": "stderr",
     "output_type": "stream",
     "text": [
      " 20%|\u001b[32m████████████████▌                                                                \u001b[0m| 41/200 [00:12<00:48,  3.30it/s]\u001b[0m"
     ]
    },
    {
     "name": "stdout",
     "output_type": "stream",
     "text": [
      "Validation F1 in epoch40 : 0.7741\n",
      "Validation loss in epoch40 : 8904.0928\n"
     ]
    },
    {
     "name": "stderr",
     "output_type": "stream",
     "text": [
      " 26%|\u001b[32m████████████████████▋                                                            \u001b[0m| 51/200 [00:15<00:45,  3.28it/s]\u001b[0m"
     ]
    },
    {
     "name": "stdout",
     "output_type": "stream",
     "text": [
      "Validation F1 in epoch50 : 0.8166\n",
      "Validation loss in epoch50 : 7685.5088\n"
     ]
    },
    {
     "name": "stderr",
     "output_type": "stream",
     "text": [
      " 30%|\u001b[32m████████████████████████▋                                                        \u001b[0m| 61/200 [00:19<00:47,  2.94it/s]\u001b[0m"
     ]
    },
    {
     "name": "stdout",
     "output_type": "stream",
     "text": [
      "Validation F1 in epoch60 : 0.8314\n",
      "Validation loss in epoch60 : 7178.8228\n"
     ]
    },
    {
     "name": "stderr",
     "output_type": "stream",
     "text": [
      " 36%|\u001b[32m████████████████████████████▊                                                    \u001b[0m| 71/200 [00:22<00:42,  3.04it/s]\u001b[0m"
     ]
    },
    {
     "name": "stdout",
     "output_type": "stream",
     "text": [
      "Validation F1 in epoch70 : 0.8364\n",
      "Validation loss in epoch70 : 6885.9355\n"
     ]
    },
    {
     "name": "stderr",
     "output_type": "stream",
     "text": [
      " 40%|\u001b[32m████████████████████████████████▊                                                \u001b[0m| 81/200 [00:25<00:36,  3.22it/s]\u001b[0m"
     ]
    },
    {
     "name": "stdout",
     "output_type": "stream",
     "text": [
      "Validation F1 in epoch80 : 0.8410\n",
      "Validation loss in epoch80 : 6759.3979\n"
     ]
    },
    {
     "name": "stderr",
     "output_type": "stream",
     "text": [
      " 46%|\u001b[32m████████████████████████████████████▊                                            \u001b[0m| 91/200 [00:28<00:35,  3.06it/s]\u001b[0m"
     ]
    },
    {
     "name": "stdout",
     "output_type": "stream",
     "text": [
      "Validation F1 in epoch90 : 0.8430\n",
      "Validation loss in epoch90 : 6645.0166\n"
     ]
    },
    {
     "name": "stderr",
     "output_type": "stream",
     "text": [
      " 50%|\u001b[32m████████████████████████████████████████▍                                       \u001b[0m| 101/200 [00:31<00:30,  3.25it/s]\u001b[0m"
     ]
    },
    {
     "name": "stdout",
     "output_type": "stream",
     "text": [
      "Validation F1 in epoch100 : 0.8463\n",
      "Validation loss in epoch100 : 6597.9004\n"
     ]
    },
    {
     "name": "stderr",
     "output_type": "stream",
     "text": [
      " 56%|\u001b[32m████████████████████████████████████████████▍                                   \u001b[0m| 111/200 [00:34<00:25,  3.56it/s]\u001b[0m"
     ]
    },
    {
     "name": "stdout",
     "output_type": "stream",
     "text": [
      "Validation F1 in epoch110 : 0.8480\n",
      "Validation loss in epoch110 : 6555.9795\n"
     ]
    },
    {
     "name": "stderr",
     "output_type": "stream",
     "text": [
      " 60%|\u001b[32m████████████████████████████████████████████████▍                               \u001b[0m| 121/200 [00:37<00:22,  3.51it/s]\u001b[0m"
     ]
    },
    {
     "name": "stdout",
     "output_type": "stream",
     "text": [
      "Validation F1 in epoch120 : 0.8475\n",
      "Validation loss in epoch120 : 6464.5879\n"
     ]
    },
    {
     "name": "stderr",
     "output_type": "stream",
     "text": [
      " 66%|\u001b[32m████████████████████████████████████████████████████▍                           \u001b[0m| 131/200 [00:40<00:19,  3.50it/s]\u001b[0m"
     ]
    },
    {
     "name": "stdout",
     "output_type": "stream",
     "text": [
      "Validation F1 in epoch130 : 0.8507\n",
      "Validation loss in epoch130 : 6462.5327\n"
     ]
    },
    {
     "name": "stderr",
     "output_type": "stream",
     "text": [
      " 70%|\u001b[32m████████████████████████████████████████████████████████▍                       \u001b[0m| 141/200 [00:44<00:19,  3.08it/s]\u001b[0m"
     ]
    },
    {
     "name": "stdout",
     "output_type": "stream",
     "text": [
      "Validation F1 in epoch140 : 0.8498\n",
      "Validation loss in epoch140 : 6427.7935\n"
     ]
    },
    {
     "name": "stderr",
     "output_type": "stream",
     "text": [
      " 76%|\u001b[32m████████████████████████████████████████████████████████████▍                   \u001b[0m| 151/200 [00:47<00:15,  3.21it/s]\u001b[0m"
     ]
    },
    {
     "name": "stdout",
     "output_type": "stream",
     "text": [
      "Validation F1 in epoch150 : 0.8513\n",
      "Validation loss in epoch150 : 6421.6611\n"
     ]
    },
    {
     "name": "stderr",
     "output_type": "stream",
     "text": [
      " 80%|\u001b[32m████████████████████████████████████████████████████████████████▍               \u001b[0m| 161/200 [00:50<00:13,  2.97it/s]\u001b[0m"
     ]
    },
    {
     "name": "stdout",
     "output_type": "stream",
     "text": [
      "Validation F1 in epoch160 : 0.8521\n",
      "Validation loss in epoch160 : 6377.3984\n"
     ]
    },
    {
     "name": "stderr",
     "output_type": "stream",
     "text": [
      " 86%|\u001b[32m████████████████████████████████████████████████████████████████████▍           \u001b[0m| 171/200 [00:53<00:08,  3.32it/s]\u001b[0m"
     ]
    },
    {
     "name": "stdout",
     "output_type": "stream",
     "text": [
      "Validation F1 in epoch170 : 0.8528\n",
      "Validation loss in epoch170 : 6383.8193\n"
     ]
    },
    {
     "name": "stderr",
     "output_type": "stream",
     "text": [
      " 90%|\u001b[32m████████████████████████████████████████████████████████████████████████▍       \u001b[0m| 181/200 [00:56<00:05,  3.48it/s]\u001b[0m"
     ]
    },
    {
     "name": "stdout",
     "output_type": "stream",
     "text": [
      "Validation F1 in epoch180 : 0.8538\n",
      "Validation loss in epoch180 : 6338.4248\n"
     ]
    },
    {
     "name": "stderr",
     "output_type": "stream",
     "text": [
      " 96%|\u001b[32m████████████████████████████████████████████████████████████████████████████▍   \u001b[0m| 191/200 [00:59<00:02,  3.54it/s]\u001b[0m"
     ]
    },
    {
     "name": "stdout",
     "output_type": "stream",
     "text": [
      "Validation F1 in epoch190 : 0.8531\n",
      "Validation loss in epoch190 : 6363.1230\n"
     ]
    },
    {
     "name": "stderr",
     "output_type": "stream",
     "text": [
      "100%|\u001b[32m████████████████████████████████████████████████████████████████████████████████\u001b[0m| 200/200 [01:02<00:00,  3.22it/s]\u001b[0m\n",
      "  0%|\u001b[32m▍                                                                                 \u001b[0m| 1/200 [00:00<00:53,  3.74it/s]\u001b[0m"
     ]
    },
    {
     "name": "stdout",
     "output_type": "stream",
     "text": [
      "Validation F1 in epoch0 : 0.1386\n",
      "Validation loss in epoch0 : 62496.9648\n"
     ]
    },
    {
     "name": "stderr",
     "output_type": "stream",
     "text": [
      "  6%|\u001b[32m████▍                                                                            \u001b[0m| 11/200 [00:03<00:53,  3.54it/s]\u001b[0m"
     ]
    },
    {
     "name": "stdout",
     "output_type": "stream",
     "text": [
      "Validation F1 in epoch10 : 0.1368\n",
      "Validation loss in epoch10 : 62499.8594\n"
     ]
    },
    {
     "name": "stderr",
     "output_type": "stream",
     "text": [
      " 10%|\u001b[32m████████▌                                                                        \u001b[0m| 21/200 [00:06<00:52,  3.44it/s]\u001b[0m"
     ]
    },
    {
     "name": "stdout",
     "output_type": "stream",
     "text": [
      "Validation F1 in epoch20 : 0.5927\n",
      "Validation loss in epoch20 : 17961.6348\n"
     ]
    },
    {
     "name": "stderr",
     "output_type": "stream",
     "text": [
      " 16%|\u001b[32m████████████▌                                                                    \u001b[0m| 31/200 [00:09<00:50,  3.33it/s]\u001b[0m"
     ]
    },
    {
     "name": "stdout",
     "output_type": "stream",
     "text": [
      "Validation F1 in epoch30 : 0.6801\n",
      "Validation loss in epoch30 : 12579.6719\n"
     ]
    },
    {
     "name": "stderr",
     "output_type": "stream",
     "text": [
      " 20%|\u001b[32m████████████████▌                                                                \u001b[0m| 41/200 [00:12<00:49,  3.20it/s]\u001b[0m"
     ]
    },
    {
     "name": "stdout",
     "output_type": "stream",
     "text": [
      "Validation F1 in epoch40 : 0.7786\n",
      "Validation loss in epoch40 : 10053.8545\n"
     ]
    },
    {
     "name": "stderr",
     "output_type": "stream",
     "text": [
      " 26%|\u001b[32m████████████████████▋                                                            \u001b[0m| 51/200 [00:15<00:41,  3.56it/s]\u001b[0m"
     ]
    },
    {
     "name": "stdout",
     "output_type": "stream",
     "text": [
      "Validation F1 in epoch50 : 0.7951\n",
      "Validation loss in epoch50 : 8986.5547\n"
     ]
    },
    {
     "name": "stderr",
     "output_type": "stream",
     "text": [
      " 30%|\u001b[32m████████████████████████▋                                                        \u001b[0m| 61/200 [00:18<00:46,  2.98it/s]\u001b[0m"
     ]
    },
    {
     "name": "stdout",
     "output_type": "stream",
     "text": [
      "Validation F1 in epoch60 : 0.8096\n",
      "Validation loss in epoch60 : 8566.8662\n"
     ]
    },
    {
     "name": "stderr",
     "output_type": "stream",
     "text": [
      " 36%|\u001b[32m████████████████████████████▊                                                    \u001b[0m| 71/200 [00:21<00:41,  3.14it/s]\u001b[0m"
     ]
    },
    {
     "name": "stdout",
     "output_type": "stream",
     "text": [
      "Validation F1 in epoch70 : 0.8147\n",
      "Validation loss in epoch70 : 8308.6328\n"
     ]
    },
    {
     "name": "stderr",
     "output_type": "stream",
     "text": [
      " 40%|\u001b[32m████████████████████████████████▊                                                \u001b[0m| 81/200 [00:24<00:37,  3.20it/s]\u001b[0m"
     ]
    },
    {
     "name": "stdout",
     "output_type": "stream",
     "text": [
      "Validation F1 in epoch80 : 0.8176\n",
      "Validation loss in epoch80 : 8191.3613\n"
     ]
    },
    {
     "name": "stderr",
     "output_type": "stream",
     "text": [
      " 46%|\u001b[32m████████████████████████████████████▊                                            \u001b[0m| 91/200 [00:27<00:34,  3.18it/s]\u001b[0m"
     ]
    },
    {
     "name": "stdout",
     "output_type": "stream",
     "text": [
      "Validation F1 in epoch90 : 0.8223\n",
      "Validation loss in epoch90 : 8097.8457\n"
     ]
    },
    {
     "name": "stderr",
     "output_type": "stream",
     "text": [
      " 50%|\u001b[32m████████████████████████████████████████▍                                       \u001b[0m| 101/200 [00:30<00:29,  3.31it/s]\u001b[0m"
     ]
    },
    {
     "name": "stdout",
     "output_type": "stream",
     "text": [
      "Validation F1 in epoch100 : 0.8212\n",
      "Validation loss in epoch100 : 8049.8428\n"
     ]
    },
    {
     "name": "stderr",
     "output_type": "stream",
     "text": [
      " 56%|\u001b[32m████████████████████████████████████████████▍                                   \u001b[0m| 111/200 [00:33<00:26,  3.35it/s]\u001b[0m"
     ]
    },
    {
     "name": "stdout",
     "output_type": "stream",
     "text": [
      "Validation F1 in epoch110 : 0.8233\n",
      "Validation loss in epoch110 : 7991.7744\n"
     ]
    },
    {
     "name": "stderr",
     "output_type": "stream",
     "text": [
      " 60%|\u001b[32m████████████████████████████████████████████████▍                               \u001b[0m| 121/200 [00:36<00:23,  3.38it/s]\u001b[0m"
     ]
    },
    {
     "name": "stdout",
     "output_type": "stream",
     "text": [
      "Validation F1 in epoch120 : 0.8239\n",
      "Validation loss in epoch120 : 7953.7817\n"
     ]
    },
    {
     "name": "stderr",
     "output_type": "stream",
     "text": [
      " 66%|\u001b[32m████████████████████████████████████████████████████▍                           \u001b[0m| 131/200 [00:39<00:20,  3.43it/s]\u001b[0m"
     ]
    },
    {
     "name": "stdout",
     "output_type": "stream",
     "text": [
      "Validation F1 in epoch130 : 0.8257\n",
      "Validation loss in epoch130 : 7949.5557\n"
     ]
    },
    {
     "name": "stderr",
     "output_type": "stream",
     "text": [
      " 70%|\u001b[32m████████████████████████████████████████████████████████▍                       \u001b[0m| 141/200 [00:42<00:17,  3.36it/s]\u001b[0m"
     ]
    },
    {
     "name": "stdout",
     "output_type": "stream",
     "text": [
      "Validation F1 in epoch140 : 0.8252\n",
      "Validation loss in epoch140 : 7897.8193\n"
     ]
    },
    {
     "name": "stderr",
     "output_type": "stream",
     "text": [
      " 76%|\u001b[32m████████████████████████████████████████████████████████████▍                   \u001b[0m| 151/200 [00:45<00:14,  3.27it/s]\u001b[0m"
     ]
    },
    {
     "name": "stdout",
     "output_type": "stream",
     "text": [
      "Validation F1 in epoch150 : 0.8254\n",
      "Validation loss in epoch150 : 7862.3643\n"
     ]
    },
    {
     "name": "stderr",
     "output_type": "stream",
     "text": [
      " 80%|\u001b[32m████████████████████████████████████████████████████████████████▍               \u001b[0m| 161/200 [00:48<00:12,  3.06it/s]\u001b[0m"
     ]
    },
    {
     "name": "stdout",
     "output_type": "stream",
     "text": [
      "Validation F1 in epoch160 : 0.8242\n",
      "Validation loss in epoch160 : 7866.1943\n"
     ]
    },
    {
     "name": "stderr",
     "output_type": "stream",
     "text": [
      " 86%|\u001b[32m████████████████████████████████████████████████████████████████████▍           \u001b[0m| 171/200 [00:51<00:09,  3.09it/s]\u001b[0m"
     ]
    },
    {
     "name": "stdout",
     "output_type": "stream",
     "text": [
      "Validation F1 in epoch170 : 0.8239\n",
      "Validation loss in epoch170 : 7869.7183\n"
     ]
    },
    {
     "name": "stderr",
     "output_type": "stream",
     "text": [
      " 90%|\u001b[32m████████████████████████████████████████████████████████████████████████▍       \u001b[0m| 181/200 [00:54<00:05,  3.28it/s]\u001b[0m"
     ]
    },
    {
     "name": "stdout",
     "output_type": "stream",
     "text": [
      "Validation F1 in epoch180 : 0.8251\n",
      "Validation loss in epoch180 : 7816.0264\n"
     ]
    },
    {
     "name": "stderr",
     "output_type": "stream",
     "text": [
      " 96%|\u001b[32m████████████████████████████████████████████████████████████████████████████▍   \u001b[0m| 191/200 [00:57<00:02,  3.49it/s]\u001b[0m"
     ]
    },
    {
     "name": "stdout",
     "output_type": "stream",
     "text": [
      "Validation F1 in epoch190 : 0.8250\n",
      "Validation loss in epoch190 : 7823.6460\n"
     ]
    },
    {
     "name": "stderr",
     "output_type": "stream",
     "text": [
      "100%|\u001b[32m████████████████████████████████████████████████████████████████████████████████\u001b[0m| 200/200 [01:00<00:00,  3.30it/s]\u001b[0m\n",
      "  0%|\u001b[32m▍                                                                                 \u001b[0m| 1/200 [00:00<00:54,  3.68it/s]\u001b[0m"
     ]
    },
    {
     "name": "stdout",
     "output_type": "stream",
     "text": [
      "Validation F1 in epoch0 : 0.0850\n",
      "Validation loss in epoch0 : 62927.5352\n"
     ]
    },
    {
     "name": "stderr",
     "output_type": "stream",
     "text": [
      "  6%|\u001b[32m████▍                                                                            \u001b[0m| 11/200 [00:03<00:56,  3.33it/s]\u001b[0m"
     ]
    },
    {
     "name": "stdout",
     "output_type": "stream",
     "text": [
      "Validation F1 in epoch10 : 0.0850\n",
      "Validation loss in epoch10 : 62927.5352\n"
     ]
    },
    {
     "name": "stderr",
     "output_type": "stream",
     "text": [
      " 10%|\u001b[32m████████▌                                                                        \u001b[0m| 21/200 [00:06<00:55,  3.23it/s]\u001b[0m"
     ]
    },
    {
     "name": "stdout",
     "output_type": "stream",
     "text": [
      "Validation F1 in epoch20 : 0.5916\n",
      "Validation loss in epoch20 : 21055.1602\n"
     ]
    },
    {
     "name": "stderr",
     "output_type": "stream",
     "text": [
      " 16%|\u001b[32m████████████▌                                                                    \u001b[0m| 31/200 [00:09<00:52,  3.24it/s]\u001b[0m"
     ]
    },
    {
     "name": "stdout",
     "output_type": "stream",
     "text": [
      "Validation F1 in epoch30 : 0.6444\n",
      "Validation loss in epoch30 : 16983.0820\n"
     ]
    },
    {
     "name": "stderr",
     "output_type": "stream",
     "text": [
      " 20%|\u001b[32m████████████████▌                                                                \u001b[0m| 41/200 [00:12<00:50,  3.16it/s]\u001b[0m"
     ]
    },
    {
     "name": "stdout",
     "output_type": "stream",
     "text": [
      "Validation F1 in epoch40 : 0.7294\n",
      "Validation loss in epoch40 : 11980.7832\n"
     ]
    },
    {
     "name": "stderr",
     "output_type": "stream",
     "text": [
      " 26%|\u001b[32m████████████████████▋                                                            \u001b[0m| 51/200 [00:15<00:46,  3.19it/s]\u001b[0m"
     ]
    },
    {
     "name": "stdout",
     "output_type": "stream",
     "text": [
      "Validation F1 in epoch50 : 0.7927\n",
      "Validation loss in epoch50 : 9599.6133\n"
     ]
    },
    {
     "name": "stderr",
     "output_type": "stream",
     "text": [
      " 30%|\u001b[32m████████████████████████▋                                                        \u001b[0m| 61/200 [00:18<00:41,  3.37it/s]\u001b[0m"
     ]
    },
    {
     "name": "stdout",
     "output_type": "stream",
     "text": [
      "Validation F1 in epoch60 : 0.8187\n",
      "Validation loss in epoch60 : 8131.5049\n"
     ]
    },
    {
     "name": "stderr",
     "output_type": "stream",
     "text": [
      " 36%|\u001b[32m████████████████████████████▊                                                    \u001b[0m| 71/200 [00:21<00:39,  3.30it/s]\u001b[0m"
     ]
    },
    {
     "name": "stdout",
     "output_type": "stream",
     "text": [
      "Validation F1 in epoch70 : 0.8402\n",
      "Validation loss in epoch70 : 7287.1270\n"
     ]
    },
    {
     "name": "stderr",
     "output_type": "stream",
     "text": [
      " 40%|\u001b[32m████████████████████████████████▊                                                \u001b[0m| 81/200 [00:24<00:36,  3.29it/s]\u001b[0m"
     ]
    },
    {
     "name": "stdout",
     "output_type": "stream",
     "text": [
      "Validation F1 in epoch80 : 0.8477\n",
      "Validation loss in epoch80 : 6871.4365\n"
     ]
    },
    {
     "name": "stderr",
     "output_type": "stream",
     "text": [
      " 46%|\u001b[32m████████████████████████████████████▊                                            \u001b[0m| 91/200 [00:27<00:33,  3.24it/s]\u001b[0m"
     ]
    },
    {
     "name": "stdout",
     "output_type": "stream",
     "text": [
      "Validation F1 in epoch90 : 0.8538\n",
      "Validation loss in epoch90 : 6642.0889\n"
     ]
    },
    {
     "name": "stderr",
     "output_type": "stream",
     "text": [
      " 50%|\u001b[32m████████████████████████████████████████▍                                       \u001b[0m| 101/200 [00:30<00:30,  3.23it/s]\u001b[0m"
     ]
    },
    {
     "name": "stdout",
     "output_type": "stream",
     "text": [
      "Validation F1 in epoch100 : 0.8559\n",
      "Validation loss in epoch100 : 6507.1992\n"
     ]
    },
    {
     "name": "stderr",
     "output_type": "stream",
     "text": [
      " 56%|\u001b[32m████████████████████████████████████████████▍                                   \u001b[0m| 111/200 [00:34<00:28,  3.15it/s]\u001b[0m"
     ]
    },
    {
     "name": "stdout",
     "output_type": "stream",
     "text": [
      "Validation F1 in epoch110 : 0.8590\n",
      "Validation loss in epoch110 : 6420.0068\n"
     ]
    },
    {
     "name": "stderr",
     "output_type": "stream",
     "text": [
      " 60%|\u001b[32m████████████████████████████████████████████████▍                               \u001b[0m| 121/200 [00:37<00:25,  3.13it/s]\u001b[0m"
     ]
    },
    {
     "name": "stdout",
     "output_type": "stream",
     "text": [
      "Validation F1 in epoch120 : 0.8608\n",
      "Validation loss in epoch120 : 6375.1025\n"
     ]
    },
    {
     "name": "stderr",
     "output_type": "stream",
     "text": [
      " 66%|\u001b[32m████████████████████████████████████████████████████▍                           \u001b[0m| 131/200 [00:40<00:20,  3.35it/s]\u001b[0m"
     ]
    },
    {
     "name": "stdout",
     "output_type": "stream",
     "text": [
      "Validation F1 in epoch130 : 0.8609\n",
      "Validation loss in epoch130 : 6347.5518\n"
     ]
    },
    {
     "name": "stderr",
     "output_type": "stream",
     "text": [
      " 70%|\u001b[32m████████████████████████████████████████████████████████▍                       \u001b[0m| 141/200 [00:43<00:18,  3.27it/s]\u001b[0m"
     ]
    },
    {
     "name": "stdout",
     "output_type": "stream",
     "text": [
      "Validation F1 in epoch140 : 0.8613\n",
      "Validation loss in epoch140 : 6331.4390\n"
     ]
    },
    {
     "name": "stderr",
     "output_type": "stream",
     "text": [
      " 76%|\u001b[32m████████████████████████████████████████████████████████████▍                   \u001b[0m| 151/200 [00:46<00:14,  3.29it/s]\u001b[0m"
     ]
    },
    {
     "name": "stdout",
     "output_type": "stream",
     "text": [
      "Validation F1 in epoch150 : 0.8622\n",
      "Validation loss in epoch150 : 6320.5498\n"
     ]
    },
    {
     "name": "stderr",
     "output_type": "stream",
     "text": [
      " 80%|\u001b[32m████████████████████████████████████████████████████████████████▍               \u001b[0m| 161/200 [00:49<00:12,  3.23it/s]\u001b[0m"
     ]
    },
    {
     "name": "stdout",
     "output_type": "stream",
     "text": [
      "Validation F1 in epoch160 : 0.8623\n",
      "Validation loss in epoch160 : 6313.8438\n"
     ]
    },
    {
     "name": "stderr",
     "output_type": "stream",
     "text": [
      " 86%|\u001b[32m████████████████████████████████████████████████████████████████████▍           \u001b[0m| 171/200 [00:52<00:08,  3.25it/s]\u001b[0m"
     ]
    },
    {
     "name": "stdout",
     "output_type": "stream",
     "text": [
      "Validation F1 in epoch170 : 0.8628\n",
      "Validation loss in epoch170 : 6309.4048\n"
     ]
    },
    {
     "name": "stderr",
     "output_type": "stream",
     "text": [
      " 90%|\u001b[32m████████████████████████████████████████████████████████████████████████▍       \u001b[0m| 181/200 [00:55<00:05,  3.17it/s]\u001b[0m"
     ]
    },
    {
     "name": "stdout",
     "output_type": "stream",
     "text": [
      "Validation F1 in epoch180 : 0.8632\n",
      "Validation loss in epoch180 : 6306.0288\n"
     ]
    },
    {
     "name": "stderr",
     "output_type": "stream",
     "text": [
      " 96%|\u001b[32m████████████████████████████████████████████████████████████████████████████▍   \u001b[0m| 191/200 [00:58<00:02,  3.19it/s]\u001b[0m"
     ]
    },
    {
     "name": "stdout",
     "output_type": "stream",
     "text": [
      "Validation F1 in epoch190 : 0.8629\n",
      "Validation loss in epoch190 : 6303.5630\n"
     ]
    },
    {
     "name": "stderr",
     "output_type": "stream",
     "text": [
      "100%|\u001b[32m████████████████████████████████████████████████████████████████████████████████\u001b[0m| 200/200 [01:01<00:00,  3.25it/s]\u001b[0m\n",
      "  0%|\u001b[32m▍                                                                                 \u001b[0m| 1/200 [00:00<01:03,  3.13it/s]\u001b[0m"
     ]
    },
    {
     "name": "stdout",
     "output_type": "stream",
     "text": [
      "Validation F1 in epoch0 : 0.1642\n",
      "Validation loss in epoch0 : 62663.5859\n"
     ]
    },
    {
     "name": "stderr",
     "output_type": "stream",
     "text": [
      "  6%|\u001b[32m████▍                                                                            \u001b[0m| 11/200 [00:03<00:54,  3.50it/s]\u001b[0m"
     ]
    },
    {
     "name": "stdout",
     "output_type": "stream",
     "text": [
      "Validation F1 in epoch10 : 0.1640\n",
      "Validation loss in epoch10 : 62686.3438\n"
     ]
    },
    {
     "name": "stderr",
     "output_type": "stream",
     "text": [
      " 10%|\u001b[32m████████▌                                                                        \u001b[0m| 21/200 [00:06<00:57,  3.10it/s]\u001b[0m"
     ]
    },
    {
     "name": "stdout",
     "output_type": "stream",
     "text": [
      "Validation F1 in epoch20 : 0.6033\n",
      "Validation loss in epoch20 : 18592.0039\n"
     ]
    },
    {
     "name": "stderr",
     "output_type": "stream",
     "text": [
      " 16%|\u001b[32m████████████▌                                                                    \u001b[0m| 31/200 [00:09<00:50,  3.32it/s]\u001b[0m"
     ]
    },
    {
     "name": "stdout",
     "output_type": "stream",
     "text": [
      "Validation F1 in epoch30 : 0.7367\n",
      "Validation loss in epoch30 : 11837.5068\n"
     ]
    },
    {
     "name": "stderr",
     "output_type": "stream",
     "text": [
      " 20%|\u001b[32m████████████████▌                                                                \u001b[0m| 41/200 [00:12<00:47,  3.34it/s]\u001b[0m"
     ]
    },
    {
     "name": "stdout",
     "output_type": "stream",
     "text": [
      "Validation F1 in epoch40 : 0.7741\n",
      "Validation loss in epoch40 : 8904.0928\n"
     ]
    },
    {
     "name": "stderr",
     "output_type": "stream",
     "text": [
      " 26%|\u001b[32m████████████████████▋                                                            \u001b[0m| 51/200 [00:15<00:43,  3.39it/s]\u001b[0m"
     ]
    },
    {
     "name": "stdout",
     "output_type": "stream",
     "text": [
      "Validation F1 in epoch50 : 0.8166\n",
      "Validation loss in epoch50 : 7685.5088\n"
     ]
    },
    {
     "name": "stderr",
     "output_type": "stream",
     "text": [
      " 30%|\u001b[32m████████████████████████▋                                                        \u001b[0m| 61/200 [00:18<00:46,  2.98it/s]\u001b[0m"
     ]
    },
    {
     "name": "stdout",
     "output_type": "stream",
     "text": [
      "Validation F1 in epoch60 : 0.8314\n",
      "Validation loss in epoch60 : 7178.8228\n"
     ]
    },
    {
     "name": "stderr",
     "output_type": "stream",
     "text": [
      " 36%|\u001b[32m████████████████████████████▊                                                    \u001b[0m| 71/200 [00:21<00:38,  3.35it/s]\u001b[0m"
     ]
    },
    {
     "name": "stdout",
     "output_type": "stream",
     "text": [
      "Validation F1 in epoch70 : 0.8364\n",
      "Validation loss in epoch70 : 6885.9355\n"
     ]
    },
    {
     "name": "stderr",
     "output_type": "stream",
     "text": [
      " 40%|\u001b[32m████████████████████████████████▊                                                \u001b[0m| 81/200 [00:24<00:34,  3.44it/s]\u001b[0m"
     ]
    },
    {
     "name": "stdout",
     "output_type": "stream",
     "text": [
      "Validation F1 in epoch80 : 0.8410\n",
      "Validation loss in epoch80 : 6759.3979\n"
     ]
    },
    {
     "name": "stderr",
     "output_type": "stream",
     "text": [
      " 46%|\u001b[32m████████████████████████████████████▊                                            \u001b[0m| 91/200 [00:27<00:33,  3.29it/s]\u001b[0m"
     ]
    },
    {
     "name": "stdout",
     "output_type": "stream",
     "text": [
      "Validation F1 in epoch90 : 0.8430\n",
      "Validation loss in epoch90 : 6645.0166\n"
     ]
    },
    {
     "name": "stderr",
     "output_type": "stream",
     "text": [
      " 50%|\u001b[32m████████████████████████████████████████▍                                       \u001b[0m| 101/200 [00:30<00:29,  3.35it/s]\u001b[0m"
     ]
    },
    {
     "name": "stdout",
     "output_type": "stream",
     "text": [
      "Validation F1 in epoch100 : 0.8463\n",
      "Validation loss in epoch100 : 6597.9004\n"
     ]
    },
    {
     "name": "stderr",
     "output_type": "stream",
     "text": [
      " 56%|\u001b[32m████████████████████████████████████████████▍                                   \u001b[0m| 111/200 [00:33<00:28,  3.17it/s]\u001b[0m"
     ]
    },
    {
     "name": "stdout",
     "output_type": "stream",
     "text": [
      "Validation F1 in epoch110 : 0.8480\n",
      "Validation loss in epoch110 : 6555.9795\n"
     ]
    },
    {
     "name": "stderr",
     "output_type": "stream",
     "text": [
      " 60%|\u001b[32m████████████████████████████████████████████████▍                               \u001b[0m| 121/200 [00:36<00:23,  3.34it/s]\u001b[0m"
     ]
    },
    {
     "name": "stdout",
     "output_type": "stream",
     "text": [
      "Validation F1 in epoch120 : 0.8475\n",
      "Validation loss in epoch120 : 6464.5879\n"
     ]
    },
    {
     "name": "stderr",
     "output_type": "stream",
     "text": [
      " 66%|\u001b[32m████████████████████████████████████████████████████▍                           \u001b[0m| 131/200 [00:39<00:20,  3.36it/s]\u001b[0m"
     ]
    },
    {
     "name": "stdout",
     "output_type": "stream",
     "text": [
      "Validation F1 in epoch130 : 0.8507\n",
      "Validation loss in epoch130 : 6462.5327\n"
     ]
    },
    {
     "name": "stderr",
     "output_type": "stream",
     "text": [
      " 70%|\u001b[32m████████████████████████████████████████████████████████▍                       \u001b[0m| 141/200 [00:42<00:16,  3.57it/s]\u001b[0m"
     ]
    },
    {
     "name": "stdout",
     "output_type": "stream",
     "text": [
      "Validation F1 in epoch140 : 0.8498\n",
      "Validation loss in epoch140 : 6427.7935\n"
     ]
    },
    {
     "name": "stderr",
     "output_type": "stream",
     "text": [
      " 76%|\u001b[32m████████████████████████████████████████████████████████████▍                   \u001b[0m| 151/200 [00:45<00:16,  2.96it/s]\u001b[0m"
     ]
    },
    {
     "name": "stdout",
     "output_type": "stream",
     "text": [
      "Validation F1 in epoch150 : 0.8513\n",
      "Validation loss in epoch150 : 6421.6611\n"
     ]
    },
    {
     "name": "stderr",
     "output_type": "stream",
     "text": [
      " 80%|\u001b[32m████████████████████████████████████████████████████████████████▍               \u001b[0m| 161/200 [00:48<00:12,  3.01it/s]\u001b[0m"
     ]
    },
    {
     "name": "stdout",
     "output_type": "stream",
     "text": [
      "Validation F1 in epoch160 : 0.8521\n",
      "Validation loss in epoch160 : 6377.3984\n"
     ]
    },
    {
     "name": "stderr",
     "output_type": "stream",
     "text": [
      " 86%|\u001b[32m████████████████████████████████████████████████████████████████████▍           \u001b[0m| 171/200 [00:51<00:08,  3.35it/s]\u001b[0m"
     ]
    },
    {
     "name": "stdout",
     "output_type": "stream",
     "text": [
      "Validation F1 in epoch170 : 0.8528\n",
      "Validation loss in epoch170 : 6383.8193\n"
     ]
    },
    {
     "name": "stderr",
     "output_type": "stream",
     "text": [
      " 90%|\u001b[32m████████████████████████████████████████████████████████████████████████▍       \u001b[0m| 181/200 [00:54<00:05,  3.37it/s]\u001b[0m"
     ]
    },
    {
     "name": "stdout",
     "output_type": "stream",
     "text": [
      "Validation F1 in epoch180 : 0.8538\n",
      "Validation loss in epoch180 : 6338.4248\n"
     ]
    },
    {
     "name": "stderr",
     "output_type": "stream",
     "text": [
      " 96%|\u001b[32m████████████████████████████████████████████████████████████████████████████▍   \u001b[0m| 191/200 [00:57<00:02,  3.32it/s]\u001b[0m"
     ]
    },
    {
     "name": "stdout",
     "output_type": "stream",
     "text": [
      "Validation F1 in epoch190 : 0.8531\n",
      "Validation loss in epoch190 : 6363.1230\n"
     ]
    },
    {
     "name": "stderr",
     "output_type": "stream",
     "text": [
      "100%|\u001b[32m████████████████████████████████████████████████████████████████████████████████\u001b[0m| 200/200 [01:00<00:00,  3.29it/s]\u001b[0m\n",
      "  0%|\u001b[32m▍                                                                                 \u001b[0m| 1/200 [00:00<01:02,  3.16it/s]\u001b[0m"
     ]
    },
    {
     "name": "stdout",
     "output_type": "stream",
     "text": [
      "Validation F1 in epoch0 : 0.1386\n",
      "Validation loss in epoch0 : 62496.9648\n"
     ]
    },
    {
     "name": "stderr",
     "output_type": "stream",
     "text": [
      "  6%|\u001b[32m████▍                                                                            \u001b[0m| 11/200 [00:03<01:00,  3.12it/s]\u001b[0m"
     ]
    },
    {
     "name": "stdout",
     "output_type": "stream",
     "text": [
      "Validation F1 in epoch10 : 0.1368\n",
      "Validation loss in epoch10 : 62499.8594\n"
     ]
    },
    {
     "name": "stderr",
     "output_type": "stream",
     "text": [
      " 10%|\u001b[32m████████▌                                                                        \u001b[0m| 21/200 [00:06<00:51,  3.46it/s]\u001b[0m"
     ]
    },
    {
     "name": "stdout",
     "output_type": "stream",
     "text": [
      "Validation F1 in epoch20 : 0.5927\n",
      "Validation loss in epoch20 : 17961.6348\n"
     ]
    },
    {
     "name": "stderr",
     "output_type": "stream",
     "text": [
      " 16%|\u001b[32m████████████▌                                                                    \u001b[0m| 31/200 [00:09<00:48,  3.49it/s]\u001b[0m"
     ]
    },
    {
     "name": "stdout",
     "output_type": "stream",
     "text": [
      "Validation F1 in epoch30 : 0.6801\n",
      "Validation loss in epoch30 : 12579.6719\n"
     ]
    },
    {
     "name": "stderr",
     "output_type": "stream",
     "text": [
      " 20%|\u001b[32m████████████████▌                                                                \u001b[0m| 41/200 [00:12<00:47,  3.37it/s]\u001b[0m"
     ]
    },
    {
     "name": "stdout",
     "output_type": "stream",
     "text": [
      "Validation F1 in epoch40 : 0.7786\n",
      "Validation loss in epoch40 : 10053.8545\n"
     ]
    },
    {
     "name": "stderr",
     "output_type": "stream",
     "text": [
      " 26%|\u001b[32m████████████████████▋                                                            \u001b[0m| 51/200 [00:15<00:43,  3.41it/s]\u001b[0m"
     ]
    },
    {
     "name": "stdout",
     "output_type": "stream",
     "text": [
      "Validation F1 in epoch50 : 0.7951\n",
      "Validation loss in epoch50 : 8986.5547\n"
     ]
    },
    {
     "name": "stderr",
     "output_type": "stream",
     "text": [
      " 30%|\u001b[32m████████████████████████▋                                                        \u001b[0m| 61/200 [00:18<00:44,  3.15it/s]\u001b[0m"
     ]
    },
    {
     "name": "stdout",
     "output_type": "stream",
     "text": [
      "Validation F1 in epoch60 : 0.8096\n",
      "Validation loss in epoch60 : 8566.8662\n"
     ]
    },
    {
     "name": "stderr",
     "output_type": "stream",
     "text": [
      " 36%|\u001b[32m████████████████████████████▊                                                    \u001b[0m| 71/200 [00:21<00:40,  3.16it/s]\u001b[0m"
     ]
    },
    {
     "name": "stdout",
     "output_type": "stream",
     "text": [
      "Validation F1 in epoch70 : 0.8147\n",
      "Validation loss in epoch70 : 8308.6328\n"
     ]
    },
    {
     "name": "stderr",
     "output_type": "stream",
     "text": [
      " 40%|\u001b[32m████████████████████████████████▊                                                \u001b[0m| 81/200 [00:24<00:33,  3.51it/s]\u001b[0m"
     ]
    },
    {
     "name": "stdout",
     "output_type": "stream",
     "text": [
      "Validation F1 in epoch80 : 0.8176\n",
      "Validation loss in epoch80 : 8191.3613\n"
     ]
    },
    {
     "name": "stderr",
     "output_type": "stream",
     "text": [
      " 46%|\u001b[32m████████████████████████████████████▊                                            \u001b[0m| 91/200 [00:27<00:33,  3.25it/s]\u001b[0m"
     ]
    },
    {
     "name": "stdout",
     "output_type": "stream",
     "text": [
      "Validation F1 in epoch90 : 0.8223\n",
      "Validation loss in epoch90 : 8097.8457\n"
     ]
    },
    {
     "name": "stderr",
     "output_type": "stream",
     "text": [
      " 50%|\u001b[32m████████████████████████████████████████▍                                       \u001b[0m| 101/200 [00:30<00:29,  3.39it/s]\u001b[0m"
     ]
    },
    {
     "name": "stdout",
     "output_type": "stream",
     "text": [
      "Validation F1 in epoch100 : 0.8212\n",
      "Validation loss in epoch100 : 8049.8428\n"
     ]
    },
    {
     "name": "stderr",
     "output_type": "stream",
     "text": [
      " 56%|\u001b[32m████████████████████████████████████████████▍                                   \u001b[0m| 111/200 [00:33<00:27,  3.21it/s]\u001b[0m"
     ]
    },
    {
     "name": "stdout",
     "output_type": "stream",
     "text": [
      "Validation F1 in epoch110 : 0.8233\n",
      "Validation loss in epoch110 : 7991.7744\n"
     ]
    },
    {
     "name": "stderr",
     "output_type": "stream",
     "text": [
      " 60%|\u001b[32m████████████████████████████████████████████████▍                               \u001b[0m| 121/200 [00:36<00:25,  3.16it/s]\u001b[0m"
     ]
    },
    {
     "name": "stdout",
     "output_type": "stream",
     "text": [
      "Validation F1 in epoch120 : 0.8239\n",
      "Validation loss in epoch120 : 7953.7817\n"
     ]
    },
    {
     "name": "stderr",
     "output_type": "stream",
     "text": [
      " 66%|\u001b[32m████████████████████████████████████████████████████▍                           \u001b[0m| 131/200 [00:39<00:21,  3.17it/s]\u001b[0m"
     ]
    },
    {
     "name": "stdout",
     "output_type": "stream",
     "text": [
      "Validation F1 in epoch130 : 0.8257\n",
      "Validation loss in epoch130 : 7949.5557\n"
     ]
    },
    {
     "name": "stderr",
     "output_type": "stream",
     "text": [
      " 70%|\u001b[32m████████████████████████████████████████████████████████▍                       \u001b[0m| 141/200 [00:43<00:18,  3.19it/s]\u001b[0m"
     ]
    },
    {
     "name": "stdout",
     "output_type": "stream",
     "text": [
      "Validation F1 in epoch140 : 0.8252\n",
      "Validation loss in epoch140 : 7897.8193\n"
     ]
    },
    {
     "name": "stderr",
     "output_type": "stream",
     "text": [
      " 76%|\u001b[32m████████████████████████████████████████████████████████████▍                   \u001b[0m| 151/200 [00:45<00:13,  3.50it/s]\u001b[0m"
     ]
    },
    {
     "name": "stdout",
     "output_type": "stream",
     "text": [
      "Validation F1 in epoch150 : 0.8254\n",
      "Validation loss in epoch150 : 7862.3643\n"
     ]
    },
    {
     "name": "stderr",
     "output_type": "stream",
     "text": [
      " 80%|\u001b[32m████████████████████████████████████████████████████████████████▍               \u001b[0m| 161/200 [00:48<00:11,  3.52it/s]\u001b[0m"
     ]
    },
    {
     "name": "stdout",
     "output_type": "stream",
     "text": [
      "Validation F1 in epoch160 : 0.8242\n",
      "Validation loss in epoch160 : 7866.1943\n"
     ]
    },
    {
     "name": "stderr",
     "output_type": "stream",
     "text": [
      " 86%|\u001b[32m████████████████████████████████████████████████████████████████████▍           \u001b[0m| 171/200 [00:51<00:08,  3.32it/s]\u001b[0m"
     ]
    },
    {
     "name": "stdout",
     "output_type": "stream",
     "text": [
      "Validation F1 in epoch170 : 0.8239\n",
      "Validation loss in epoch170 : 7869.7183\n"
     ]
    },
    {
     "name": "stderr",
     "output_type": "stream",
     "text": [
      " 90%|\u001b[32m████████████████████████████████████████████████████████████████████████▍       \u001b[0m| 181/200 [00:54<00:05,  3.36it/s]\u001b[0m"
     ]
    },
    {
     "name": "stdout",
     "output_type": "stream",
     "text": [
      "Validation F1 in epoch180 : 0.8251\n",
      "Validation loss in epoch180 : 7816.0264\n"
     ]
    },
    {
     "name": "stderr",
     "output_type": "stream",
     "text": [
      " 96%|\u001b[32m████████████████████████████████████████████████████████████████████████████▍   \u001b[0m| 191/200 [00:57<00:02,  3.16it/s]\u001b[0m"
     ]
    },
    {
     "name": "stdout",
     "output_type": "stream",
     "text": [
      "Validation F1 in epoch190 : 0.8250\n",
      "Validation loss in epoch190 : 7823.6460\n"
     ]
    },
    {
     "name": "stderr",
     "output_type": "stream",
     "text": [
      "100%|\u001b[32m████████████████████████████████████████████████████████████████████████████████\u001b[0m| 200/200 [01:00<00:00,  3.30it/s]\u001b[0m\n",
      "  0%|\u001b[32m▍                                                                                 \u001b[0m| 1/200 [00:00<01:05,  3.04it/s]\u001b[0m"
     ]
    },
    {
     "name": "stdout",
     "output_type": "stream",
     "text": [
      "Validation F1 in epoch0 : 0.0850\n",
      "Validation loss in epoch0 : 62927.5352\n"
     ]
    },
    {
     "name": "stderr",
     "output_type": "stream",
     "text": [
      "  6%|\u001b[32m████▍                                                                            \u001b[0m| 11/200 [00:03<01:00,  3.14it/s]\u001b[0m"
     ]
    },
    {
     "name": "stdout",
     "output_type": "stream",
     "text": [
      "Validation F1 in epoch10 : 0.0850\n",
      "Validation loss in epoch10 : 62927.5352\n"
     ]
    },
    {
     "name": "stderr",
     "output_type": "stream",
     "text": [
      " 10%|\u001b[32m████████▌                                                                        \u001b[0m| 21/200 [00:06<00:53,  3.35it/s]\u001b[0m"
     ]
    },
    {
     "name": "stdout",
     "output_type": "stream",
     "text": [
      "Validation F1 in epoch20 : 0.5916\n",
      "Validation loss in epoch20 : 21055.1602\n"
     ]
    },
    {
     "name": "stderr",
     "output_type": "stream",
     "text": [
      " 16%|\u001b[32m████████████▌                                                                    \u001b[0m| 31/200 [00:09<00:51,  3.28it/s]\u001b[0m"
     ]
    },
    {
     "name": "stdout",
     "output_type": "stream",
     "text": [
      "Validation F1 in epoch30 : 0.6444\n",
      "Validation loss in epoch30 : 16983.0820\n"
     ]
    },
    {
     "name": "stderr",
     "output_type": "stream",
     "text": [
      " 20%|\u001b[32m████████████████▌                                                                \u001b[0m| 41/200 [00:12<00:48,  3.30it/s]\u001b[0m"
     ]
    },
    {
     "name": "stdout",
     "output_type": "stream",
     "text": [
      "Validation F1 in epoch40 : 0.7294\n",
      "Validation loss in epoch40 : 11980.7832\n"
     ]
    },
    {
     "name": "stderr",
     "output_type": "stream",
     "text": [
      " 26%|\u001b[32m████████████████████▋                                                            \u001b[0m| 51/200 [00:15<00:45,  3.24it/s]\u001b[0m"
     ]
    },
    {
     "name": "stdout",
     "output_type": "stream",
     "text": [
      "Validation F1 in epoch50 : 0.7927\n",
      "Validation loss in epoch50 : 9599.6133\n"
     ]
    },
    {
     "name": "stderr",
     "output_type": "stream",
     "text": [
      " 30%|\u001b[32m████████████████████████▋                                                        \u001b[0m| 61/200 [00:18<00:42,  3.25it/s]\u001b[0m"
     ]
    },
    {
     "name": "stdout",
     "output_type": "stream",
     "text": [
      "Validation F1 in epoch60 : 0.8187\n",
      "Validation loss in epoch60 : 8131.5049\n"
     ]
    },
    {
     "name": "stderr",
     "output_type": "stream",
     "text": [
      " 36%|\u001b[32m████████████████████████████▊                                                    \u001b[0m| 71/200 [00:21<00:40,  3.19it/s]\u001b[0m"
     ]
    },
    {
     "name": "stdout",
     "output_type": "stream",
     "text": [
      "Validation F1 in epoch70 : 0.8402\n",
      "Validation loss in epoch70 : 7287.1270\n"
     ]
    },
    {
     "name": "stderr",
     "output_type": "stream",
     "text": [
      " 40%|\u001b[32m████████████████████████████████▊                                                \u001b[0m| 81/200 [00:24<00:37,  3.20it/s]\u001b[0m"
     ]
    },
    {
     "name": "stdout",
     "output_type": "stream",
     "text": [
      "Validation F1 in epoch80 : 0.8477\n",
      "Validation loss in epoch80 : 6871.4365\n"
     ]
    },
    {
     "name": "stderr",
     "output_type": "stream",
     "text": [
      " 46%|\u001b[32m████████████████████████████████████▊                                            \u001b[0m| 91/200 [00:28<00:33,  3.28it/s]\u001b[0m"
     ]
    },
    {
     "name": "stdout",
     "output_type": "stream",
     "text": [
      "Validation F1 in epoch90 : 0.8538\n",
      "Validation loss in epoch90 : 6642.0889\n"
     ]
    },
    {
     "name": "stderr",
     "output_type": "stream",
     "text": [
      " 50%|\u001b[32m████████████████████████████████████████▍                                       \u001b[0m| 101/200 [00:31<00:29,  3.30it/s]\u001b[0m"
     ]
    },
    {
     "name": "stdout",
     "output_type": "stream",
     "text": [
      "Validation F1 in epoch100 : 0.8559\n",
      "Validation loss in epoch100 : 6507.1992\n"
     ]
    },
    {
     "name": "stderr",
     "output_type": "stream",
     "text": [
      " 56%|\u001b[32m████████████████████████████████████████████▍                                   \u001b[0m| 111/200 [00:34<00:27,  3.28it/s]\u001b[0m"
     ]
    },
    {
     "name": "stdout",
     "output_type": "stream",
     "text": [
      "Validation F1 in epoch110 : 0.8590\n",
      "Validation loss in epoch110 : 6420.0068\n"
     ]
    },
    {
     "name": "stderr",
     "output_type": "stream",
     "text": [
      " 60%|\u001b[32m████████████████████████████████████████████████▍                               \u001b[0m| 121/200 [00:37<00:24,  3.19it/s]\u001b[0m"
     ]
    },
    {
     "name": "stdout",
     "output_type": "stream",
     "text": [
      "Validation F1 in epoch120 : 0.8608\n",
      "Validation loss in epoch120 : 6375.1025\n"
     ]
    },
    {
     "name": "stderr",
     "output_type": "stream",
     "text": [
      " 66%|\u001b[32m████████████████████████████████████████████████████▍                           \u001b[0m| 131/200 [00:40<00:21,  3.20it/s]\u001b[0m"
     ]
    },
    {
     "name": "stdout",
     "output_type": "stream",
     "text": [
      "Validation F1 in epoch130 : 0.8609\n",
      "Validation loss in epoch130 : 6347.5518\n"
     ]
    },
    {
     "name": "stderr",
     "output_type": "stream",
     "text": [
      " 70%|\u001b[32m████████████████████████████████████████████████████████▍                       \u001b[0m| 141/200 [00:43<00:18,  3.19it/s]\u001b[0m"
     ]
    },
    {
     "name": "stdout",
     "output_type": "stream",
     "text": [
      "Validation F1 in epoch140 : 0.8613\n",
      "Validation loss in epoch140 : 6331.4390\n"
     ]
    },
    {
     "name": "stderr",
     "output_type": "stream",
     "text": [
      " 76%|\u001b[32m████████████████████████████████████████████████████████████▍                   \u001b[0m| 151/200 [00:46<00:15,  3.18it/s]\u001b[0m"
     ]
    },
    {
     "name": "stdout",
     "output_type": "stream",
     "text": [
      "Validation F1 in epoch150 : 0.8622\n",
      "Validation loss in epoch150 : 6320.5498\n"
     ]
    },
    {
     "name": "stderr",
     "output_type": "stream",
     "text": [
      " 80%|\u001b[32m████████████████████████████████████████████████████████████████▍               \u001b[0m| 161/200 [00:49<00:12,  3.23it/s]\u001b[0m"
     ]
    },
    {
     "name": "stdout",
     "output_type": "stream",
     "text": [
      "Validation F1 in epoch160 : 0.8623\n",
      "Validation loss in epoch160 : 6313.8438\n"
     ]
    },
    {
     "name": "stderr",
     "output_type": "stream",
     "text": [
      " 86%|\u001b[32m████████████████████████████████████████████████████████████████████▍           \u001b[0m| 171/200 [00:52<00:08,  3.29it/s]\u001b[0m"
     ]
    },
    {
     "name": "stdout",
     "output_type": "stream",
     "text": [
      "Validation F1 in epoch170 : 0.8628\n",
      "Validation loss in epoch170 : 6309.4048\n"
     ]
    },
    {
     "name": "stderr",
     "output_type": "stream",
     "text": [
      " 90%|\u001b[32m████████████████████████████████████████████████████████████████████████▍       \u001b[0m| 181/200 [00:55<00:05,  3.27it/s]\u001b[0m"
     ]
    },
    {
     "name": "stdout",
     "output_type": "stream",
     "text": [
      "Validation F1 in epoch180 : 0.8632\n",
      "Validation loss in epoch180 : 6306.0288\n"
     ]
    },
    {
     "name": "stderr",
     "output_type": "stream",
     "text": [
      " 96%|\u001b[32m████████████████████████████████████████████████████████████████████████████▍   \u001b[0m| 191/200 [00:58<00:02,  3.23it/s]\u001b[0m"
     ]
    },
    {
     "name": "stdout",
     "output_type": "stream",
     "text": [
      "Validation F1 in epoch190 : 0.8629\n",
      "Validation loss in epoch190 : 6303.5630\n"
     ]
    },
    {
     "name": "stderr",
     "output_type": "stream",
     "text": [
      "100%|\u001b[32m████████████████████████████████████████████████████████████████████████████████\u001b[0m| 200/200 [01:01<00:00,  3.24it/s]\u001b[0m\n",
      "  0%|\u001b[32m▎                                                                                 \u001b[0m| 1/300 [00:00<01:40,  2.98it/s]\u001b[0m"
     ]
    },
    {
     "name": "stdout",
     "output_type": "stream",
     "text": [
      "Validation F1 in epoch0 : 0.1642\n",
      "Validation loss in epoch0 : 62663.5859\n"
     ]
    },
    {
     "name": "stderr",
     "output_type": "stream",
     "text": [
      "  4%|\u001b[32m██▉                                                                              \u001b[0m| 11/300 [00:03<01:26,  3.32it/s]\u001b[0m"
     ]
    },
    {
     "name": "stdout",
     "output_type": "stream",
     "text": [
      "Validation F1 in epoch10 : 0.1640\n",
      "Validation loss in epoch10 : 62686.3438\n"
     ]
    },
    {
     "name": "stderr",
     "output_type": "stream",
     "text": [
      "  7%|\u001b[32m█████▋                                                                           \u001b[0m| 21/300 [00:06<01:31,  3.04it/s]\u001b[0m"
     ]
    },
    {
     "name": "stdout",
     "output_type": "stream",
     "text": [
      "Validation F1 in epoch20 : 0.6033\n",
      "Validation loss in epoch20 : 18592.0039\n"
     ]
    },
    {
     "name": "stderr",
     "output_type": "stream",
     "text": [
      " 10%|\u001b[32m████████▎                                                                        \u001b[0m| 31/300 [00:09<01:17,  3.49it/s]\u001b[0m"
     ]
    },
    {
     "name": "stdout",
     "output_type": "stream",
     "text": [
      "Validation F1 in epoch30 : 0.7367\n",
      "Validation loss in epoch30 : 11837.5068\n"
     ]
    },
    {
     "name": "stderr",
     "output_type": "stream",
     "text": [
      " 14%|\u001b[32m███████████                                                                      \u001b[0m| 41/300 [00:12<01:15,  3.44it/s]\u001b[0m"
     ]
    },
    {
     "name": "stdout",
     "output_type": "stream",
     "text": [
      "Validation F1 in epoch40 : 0.7741\n",
      "Validation loss in epoch40 : 8904.0928\n"
     ]
    },
    {
     "name": "stderr",
     "output_type": "stream",
     "text": [
      " 17%|\u001b[32m█████████████▊                                                                   \u001b[0m| 51/300 [00:15<01:14,  3.32it/s]\u001b[0m"
     ]
    },
    {
     "name": "stdout",
     "output_type": "stream",
     "text": [
      "Validation F1 in epoch50 : 0.8166\n",
      "Validation loss in epoch50 : 7685.5088\n"
     ]
    },
    {
     "name": "stderr",
     "output_type": "stream",
     "text": [
      " 20%|\u001b[32m████████████████▍                                                                \u001b[0m| 61/300 [00:18<01:15,  3.18it/s]\u001b[0m"
     ]
    },
    {
     "name": "stdout",
     "output_type": "stream",
     "text": [
      "Validation F1 in epoch60 : 0.8314\n",
      "Validation loss in epoch60 : 7178.8228\n"
     ]
    },
    {
     "name": "stderr",
     "output_type": "stream",
     "text": [
      " 24%|\u001b[32m███████████████████▏                                                             \u001b[0m| 71/300 [00:21<01:12,  3.16it/s]\u001b[0m"
     ]
    },
    {
     "name": "stdout",
     "output_type": "stream",
     "text": [
      "Validation F1 in epoch70 : 0.8364\n",
      "Validation loss in epoch70 : 6885.9355\n"
     ]
    },
    {
     "name": "stderr",
     "output_type": "stream",
     "text": [
      " 27%|\u001b[32m█████████████████████▊                                                           \u001b[0m| 81/300 [00:24<01:09,  3.15it/s]\u001b[0m"
     ]
    },
    {
     "name": "stdout",
     "output_type": "stream",
     "text": [
      "Validation F1 in epoch80 : 0.8410\n",
      "Validation loss in epoch80 : 6759.3979\n"
     ]
    },
    {
     "name": "stderr",
     "output_type": "stream",
     "text": [
      " 30%|\u001b[32m████████████████████████▌                                                        \u001b[0m| 91/300 [00:27<01:05,  3.17it/s]\u001b[0m"
     ]
    },
    {
     "name": "stdout",
     "output_type": "stream",
     "text": [
      "Validation F1 in epoch90 : 0.8430\n",
      "Validation loss in epoch90 : 6645.0166\n"
     ]
    },
    {
     "name": "stderr",
     "output_type": "stream",
     "text": [
      " 34%|\u001b[32m██████████████████████████▉                                                     \u001b[0m| 101/300 [00:31<00:56,  3.54it/s]\u001b[0m"
     ]
    },
    {
     "name": "stdout",
     "output_type": "stream",
     "text": [
      "Validation F1 in epoch100 : 0.8463\n",
      "Validation loss in epoch100 : 6597.9004\n"
     ]
    },
    {
     "name": "stderr",
     "output_type": "stream",
     "text": [
      " 37%|\u001b[32m█████████████████████████████▌                                                  \u001b[0m| 111/300 [00:34<00:56,  3.32it/s]\u001b[0m"
     ]
    },
    {
     "name": "stdout",
     "output_type": "stream",
     "text": [
      "Validation F1 in epoch110 : 0.8480\n",
      "Validation loss in epoch110 : 6555.9795\n"
     ]
    },
    {
     "name": "stderr",
     "output_type": "stream",
     "text": [
      " 40%|\u001b[32m████████████████████████████████▎                                               \u001b[0m| 121/300 [00:37<00:57,  3.10it/s]\u001b[0m"
     ]
    },
    {
     "name": "stdout",
     "output_type": "stream",
     "text": [
      "Validation F1 in epoch120 : 0.8475\n",
      "Validation loss in epoch120 : 6464.5879\n"
     ]
    },
    {
     "name": "stderr",
     "output_type": "stream",
     "text": [
      " 44%|\u001b[32m██████████████████████████████████▉                                             \u001b[0m| 131/300 [00:40<00:50,  3.32it/s]\u001b[0m"
     ]
    },
    {
     "name": "stdout",
     "output_type": "stream",
     "text": [
      "Validation F1 in epoch130 : 0.8507\n",
      "Validation loss in epoch130 : 6462.5327\n"
     ]
    },
    {
     "name": "stderr",
     "output_type": "stream",
     "text": [
      " 47%|\u001b[32m█████████████████████████████████████▌                                          \u001b[0m| 141/300 [00:43<00:46,  3.43it/s]\u001b[0m"
     ]
    },
    {
     "name": "stdout",
     "output_type": "stream",
     "text": [
      "Validation F1 in epoch140 : 0.8498\n",
      "Validation loss in epoch140 : 6427.7935\n"
     ]
    },
    {
     "name": "stderr",
     "output_type": "stream",
     "text": [
      " 50%|\u001b[32m████████████████████████████████████████▎                                       \u001b[0m| 151/300 [00:46<00:46,  3.20it/s]\u001b[0m"
     ]
    },
    {
     "name": "stdout",
     "output_type": "stream",
     "text": [
      "Validation F1 in epoch150 : 0.8513\n",
      "Validation loss in epoch150 : 6421.6611\n"
     ]
    },
    {
     "name": "stderr",
     "output_type": "stream",
     "text": [
      " 54%|\u001b[32m██████████████████████████████████████████▉                                     \u001b[0m| 161/300 [00:49<00:42,  3.30it/s]\u001b[0m"
     ]
    },
    {
     "name": "stdout",
     "output_type": "stream",
     "text": [
      "Validation F1 in epoch160 : 0.8521\n",
      "Validation loss in epoch160 : 6377.3984\n"
     ]
    },
    {
     "name": "stderr",
     "output_type": "stream",
     "text": [
      " 57%|\u001b[32m█████████████████████████████████████████████▌                                  \u001b[0m| 171/300 [00:52<00:37,  3.46it/s]\u001b[0m"
     ]
    },
    {
     "name": "stdout",
     "output_type": "stream",
     "text": [
      "Validation F1 in epoch170 : 0.8528\n",
      "Validation loss in epoch170 : 6383.8193\n"
     ]
    },
    {
     "name": "stderr",
     "output_type": "stream",
     "text": [
      " 60%|\u001b[32m████████████████████████████████████████████████▎                               \u001b[0m| 181/300 [00:55<00:36,  3.31it/s]\u001b[0m"
     ]
    },
    {
     "name": "stdout",
     "output_type": "stream",
     "text": [
      "Validation F1 in epoch180 : 0.8538\n",
      "Validation loss in epoch180 : 6338.4248\n"
     ]
    },
    {
     "name": "stderr",
     "output_type": "stream",
     "text": [
      " 64%|\u001b[32m██████████████████████████████████████████████████▉                             \u001b[0m| 191/300 [00:58<00:36,  3.01it/s]\u001b[0m"
     ]
    },
    {
     "name": "stdout",
     "output_type": "stream",
     "text": [
      "Validation F1 in epoch190 : 0.8531\n",
      "Validation loss in epoch190 : 6363.1230\n"
     ]
    },
    {
     "name": "stderr",
     "output_type": "stream",
     "text": [
      " 67%|\u001b[32m█████████████████████████████████████████████████████▌                          \u001b[0m| 201/300 [01:01<00:29,  3.38it/s]\u001b[0m"
     ]
    },
    {
     "name": "stdout",
     "output_type": "stream",
     "text": [
      "Validation F1 in epoch200 : 0.8545\n",
      "Validation loss in epoch200 : 6339.5479\n"
     ]
    },
    {
     "name": "stderr",
     "output_type": "stream",
     "text": [
      " 70%|\u001b[32m████████████████████████████████████████████████████████▎                       \u001b[0m| 211/300 [01:04<00:27,  3.27it/s]\u001b[0m"
     ]
    },
    {
     "name": "stdout",
     "output_type": "stream",
     "text": [
      "Validation F1 in epoch210 : 0.8544\n",
      "Validation loss in epoch210 : 6357.4941\n"
     ]
    },
    {
     "name": "stderr",
     "output_type": "stream",
     "text": [
      " 74%|\u001b[32m██████████████████████████████████████████████████████████▉                     \u001b[0m| 221/300 [01:07<00:23,  3.36it/s]\u001b[0m"
     ]
    },
    {
     "name": "stdout",
     "output_type": "stream",
     "text": [
      "Validation F1 in epoch220 : 0.8538\n",
      "Validation loss in epoch220 : 6365.6646\n"
     ]
    },
    {
     "name": "stderr",
     "output_type": "stream",
     "text": [
      " 77%|\u001b[32m█████████████████████████████████████████████████████████████▌                  \u001b[0m| 231/300 [01:10<00:20,  3.34it/s]\u001b[0m"
     ]
    },
    {
     "name": "stdout",
     "output_type": "stream",
     "text": [
      "Validation F1 in epoch230 : 0.8543\n",
      "Validation loss in epoch230 : 6393.6445\n"
     ]
    },
    {
     "name": "stderr",
     "output_type": "stream",
     "text": [
      " 80%|\u001b[32m████████████████████████████████████████████████████████████████▎               \u001b[0m| 241/300 [01:13<00:16,  3.56it/s]\u001b[0m"
     ]
    },
    {
     "name": "stdout",
     "output_type": "stream",
     "text": [
      "Validation F1 in epoch240 : 0.8538\n",
      "Validation loss in epoch240 : 6432.8638\n"
     ]
    },
    {
     "name": "stderr",
     "output_type": "stream",
     "text": [
      " 84%|\u001b[32m██████████████████████████████████████████████████████████████████▉             \u001b[0m| 251/300 [01:16<00:15,  3.15it/s]\u001b[0m"
     ]
    },
    {
     "name": "stdout",
     "output_type": "stream",
     "text": [
      "Validation F1 in epoch250 : 0.8559\n",
      "Validation loss in epoch250 : 6375.6504\n"
     ]
    },
    {
     "name": "stderr",
     "output_type": "stream",
     "text": [
      " 87%|\u001b[32m█████████████████████████████████████████████████████████████████████▌          \u001b[0m| 261/300 [01:19<00:11,  3.35it/s]\u001b[0m"
     ]
    },
    {
     "name": "stdout",
     "output_type": "stream",
     "text": [
      "Validation F1 in epoch260 : 0.8540\n",
      "Validation loss in epoch260 : 6432.3105\n"
     ]
    },
    {
     "name": "stderr",
     "output_type": "stream",
     "text": [
      " 90%|\u001b[32m████████████████████████████████████████████████████████████████████████▎       \u001b[0m| 271/300 [01:22<00:08,  3.31it/s]\u001b[0m"
     ]
    },
    {
     "name": "stdout",
     "output_type": "stream",
     "text": [
      "Validation F1 in epoch270 : 0.8534\n",
      "Validation loss in epoch270 : 6489.2715\n"
     ]
    },
    {
     "name": "stderr",
     "output_type": "stream",
     "text": [
      " 94%|\u001b[32m██████████████████████████████████████████████████████████████████████████▉     \u001b[0m| 281/300 [01:25<00:05,  3.39it/s]\u001b[0m"
     ]
    },
    {
     "name": "stdout",
     "output_type": "stream",
     "text": [
      "Validation F1 in epoch280 : 0.8554\n",
      "Validation loss in epoch280 : 6485.4033\n"
     ]
    },
    {
     "name": "stderr",
     "output_type": "stream",
     "text": [
      " 97%|\u001b[32m█████████████████████████████████████████████████████████████████████████████▌  \u001b[0m| 291/300 [01:28<00:02,  3.25it/s]\u001b[0m"
     ]
    },
    {
     "name": "stdout",
     "output_type": "stream",
     "text": [
      "Validation F1 in epoch290 : 0.8518\n",
      "Validation loss in epoch290 : 6542.2920\n"
     ]
    },
    {
     "name": "stderr",
     "output_type": "stream",
     "text": [
      "100%|\u001b[32m████████████████████████████████████████████████████████████████████████████████\u001b[0m| 300/300 [01:31<00:00,  3.27it/s]\u001b[0m\n",
      "  0%|\u001b[32m▎                                                                                 \u001b[0m| 1/300 [00:00<01:37,  3.07it/s]\u001b[0m"
     ]
    },
    {
     "name": "stdout",
     "output_type": "stream",
     "text": [
      "Validation F1 in epoch0 : 0.1423\n",
      "Validation loss in epoch0 : 62310.3945\n"
     ]
    },
    {
     "name": "stderr",
     "output_type": "stream",
     "text": [
      "  4%|\u001b[32m██▉                                                                              \u001b[0m| 11/300 [00:03<01:22,  3.49it/s]\u001b[0m"
     ]
    },
    {
     "name": "stdout",
     "output_type": "stream",
     "text": [
      "Validation F1 in epoch10 : 0.1433\n",
      "Validation loss in epoch10 : 62319.6797\n"
     ]
    },
    {
     "name": "stderr",
     "output_type": "stream",
     "text": [
      "  7%|\u001b[32m█████▋                                                                           \u001b[0m| 21/300 [00:06<01:19,  3.50it/s]\u001b[0m"
     ]
    },
    {
     "name": "stdout",
     "output_type": "stream",
     "text": [
      "Validation F1 in epoch20 : 0.5934\n",
      "Validation loss in epoch20 : 18050.3184\n"
     ]
    },
    {
     "name": "stderr",
     "output_type": "stream",
     "text": [
      " 10%|\u001b[32m████████▎                                                                        \u001b[0m| 31/300 [00:09<01:21,  3.31it/s]\u001b[0m"
     ]
    },
    {
     "name": "stdout",
     "output_type": "stream",
     "text": [
      "Validation F1 in epoch30 : 0.6790\n",
      "Validation loss in epoch30 : 12479.2305\n"
     ]
    },
    {
     "name": "stderr",
     "output_type": "stream",
     "text": [
      " 14%|\u001b[32m███████████                                                                      \u001b[0m| 41/300 [00:12<01:20,  3.23it/s]\u001b[0m"
     ]
    },
    {
     "name": "stdout",
     "output_type": "stream",
     "text": [
      "Validation F1 in epoch40 : 0.7769\n",
      "Validation loss in epoch40 : 10080.7188\n"
     ]
    },
    {
     "name": "stderr",
     "output_type": "stream",
     "text": [
      " 17%|\u001b[32m█████████████▊                                                                   \u001b[0m| 51/300 [00:15<01:16,  3.26it/s]\u001b[0m"
     ]
    },
    {
     "name": "stdout",
     "output_type": "stream",
     "text": [
      "Validation F1 in epoch50 : 0.7949\n",
      "Validation loss in epoch50 : 8957.2998\n"
     ]
    },
    {
     "name": "stderr",
     "output_type": "stream",
     "text": [
      " 20%|\u001b[32m████████████████▍                                                                \u001b[0m| 61/300 [00:18<01:15,  3.16it/s]\u001b[0m"
     ]
    },
    {
     "name": "stdout",
     "output_type": "stream",
     "text": [
      "Validation F1 in epoch60 : 0.8105\n",
      "Validation loss in epoch60 : 8534.4834\n"
     ]
    },
    {
     "name": "stderr",
     "output_type": "stream",
     "text": [
      " 24%|\u001b[32m███████████████████▏                                                             \u001b[0m| 71/300 [00:21<01:17,  2.97it/s]\u001b[0m"
     ]
    },
    {
     "name": "stdout",
     "output_type": "stream",
     "text": [
      "Validation F1 in epoch70 : 0.8177\n",
      "Validation loss in epoch70 : 8308.7305\n"
     ]
    },
    {
     "name": "stderr",
     "output_type": "stream",
     "text": [
      " 27%|\u001b[32m█████████████████████▊                                                           \u001b[0m| 81/300 [00:24<01:02,  3.49it/s]\u001b[0m"
     ]
    },
    {
     "name": "stdout",
     "output_type": "stream",
     "text": [
      "Validation F1 in epoch80 : 0.8191\n",
      "Validation loss in epoch80 : 8169.7627\n"
     ]
    },
    {
     "name": "stderr",
     "output_type": "stream",
     "text": [
      " 30%|\u001b[32m████████████████████████▌                                                        \u001b[0m| 91/300 [00:27<00:59,  3.50it/s]\u001b[0m"
     ]
    },
    {
     "name": "stdout",
     "output_type": "stream",
     "text": [
      "Validation F1 in epoch90 : 0.8225\n",
      "Validation loss in epoch90 : 8073.4873\n"
     ]
    },
    {
     "name": "stderr",
     "output_type": "stream",
     "text": [
      " 34%|\u001b[32m██████████████████████████▉                                                     \u001b[0m| 101/300 [00:30<01:02,  3.16it/s]\u001b[0m"
     ]
    },
    {
     "name": "stdout",
     "output_type": "stream",
     "text": [
      "Validation F1 in epoch100 : 0.8223\n",
      "Validation loss in epoch100 : 8040.0303\n"
     ]
    },
    {
     "name": "stderr",
     "output_type": "stream",
     "text": [
      " 37%|\u001b[32m█████████████████████████████▌                                                  \u001b[0m| 111/300 [00:33<01:00,  3.12it/s]\u001b[0m"
     ]
    },
    {
     "name": "stdout",
     "output_type": "stream",
     "text": [
      "Validation F1 in epoch110 : 0.8229\n",
      "Validation loss in epoch110 : 7991.0898\n"
     ]
    },
    {
     "name": "stderr",
     "output_type": "stream",
     "text": [
      " 40%|\u001b[32m████████████████████████████████▎                                               \u001b[0m| 121/300 [00:36<00:56,  3.18it/s]\u001b[0m"
     ]
    },
    {
     "name": "stdout",
     "output_type": "stream",
     "text": [
      "Validation F1 in epoch120 : 0.8217\n",
      "Validation loss in epoch120 : 7957.5220\n"
     ]
    },
    {
     "name": "stderr",
     "output_type": "stream",
     "text": [
      " 44%|\u001b[32m██████████████████████████████████▉                                             \u001b[0m| 131/300 [00:39<00:54,  3.10it/s]\u001b[0m"
     ]
    },
    {
     "name": "stdout",
     "output_type": "stream",
     "text": [
      "Validation F1 in epoch130 : 0.8225\n",
      "Validation loss in epoch130 : 7957.1768\n"
     ]
    },
    {
     "name": "stderr",
     "output_type": "stream",
     "text": [
      " 47%|\u001b[32m█████████████████████████████████████▌                                          \u001b[0m| 141/300 [00:42<00:50,  3.15it/s]\u001b[0m"
     ]
    },
    {
     "name": "stdout",
     "output_type": "stream",
     "text": [
      "Validation F1 in epoch140 : 0.8249\n",
      "Validation loss in epoch140 : 7905.3057\n"
     ]
    },
    {
     "name": "stderr",
     "output_type": "stream",
     "text": [
      " 50%|\u001b[32m████████████████████████████████████████▎                                       \u001b[0m| 151/300 [00:45<00:42,  3.47it/s]\u001b[0m"
     ]
    },
    {
     "name": "stdout",
     "output_type": "stream",
     "text": [
      "Validation F1 in epoch150 : 0.8270\n",
      "Validation loss in epoch150 : 7885.7715\n"
     ]
    },
    {
     "name": "stderr",
     "output_type": "stream",
     "text": [
      " 54%|\u001b[32m██████████████████████████████████████████▉                                     \u001b[0m| 161/300 [00:48<00:40,  3.46it/s]\u001b[0m"
     ]
    },
    {
     "name": "stdout",
     "output_type": "stream",
     "text": [
      "Validation F1 in epoch160 : 0.8240\n",
      "Validation loss in epoch160 : 7831.9375\n"
     ]
    },
    {
     "name": "stderr",
     "output_type": "stream",
     "text": [
      " 57%|\u001b[32m█████████████████████████████████████████████▌                                  \u001b[0m| 171/300 [00:51<00:37,  3.46it/s]\u001b[0m"
     ]
    },
    {
     "name": "stdout",
     "output_type": "stream",
     "text": [
      "Validation F1 in epoch170 : 0.8256\n",
      "Validation loss in epoch170 : 7862.5693\n"
     ]
    },
    {
     "name": "stderr",
     "output_type": "stream",
     "text": [
      " 60%|\u001b[32m████████████████████████████████████████████████▎                               \u001b[0m| 181/300 [00:54<00:34,  3.41it/s]\u001b[0m"
     ]
    },
    {
     "name": "stdout",
     "output_type": "stream",
     "text": [
      "Validation F1 in epoch180 : 0.8242\n",
      "Validation loss in epoch180 : 7861.5449\n"
     ]
    },
    {
     "name": "stderr",
     "output_type": "stream",
     "text": [
      " 64%|\u001b[32m██████████████████████████████████████████████████▉                             \u001b[0m| 191/300 [00:58<00:33,  3.30it/s]\u001b[0m"
     ]
    },
    {
     "name": "stdout",
     "output_type": "stream",
     "text": [
      "Validation F1 in epoch190 : 0.8245\n",
      "Validation loss in epoch190 : 7847.6436\n"
     ]
    },
    {
     "name": "stderr",
     "output_type": "stream",
     "text": [
      " 67%|\u001b[32m█████████████████████████████████████████████████████▌                          \u001b[0m| 201/300 [01:01<00:30,  3.25it/s]\u001b[0m"
     ]
    },
    {
     "name": "stdout",
     "output_type": "stream",
     "text": [
      "Validation F1 in epoch200 : 0.8248\n",
      "Validation loss in epoch200 : 7839.8491\n"
     ]
    },
    {
     "name": "stderr",
     "output_type": "stream",
     "text": [
      " 70%|\u001b[32m████████████████████████████████████████████████████████▎                       \u001b[0m| 211/300 [01:04<00:26,  3.36it/s]\u001b[0m"
     ]
    },
    {
     "name": "stdout",
     "output_type": "stream",
     "text": [
      "Validation F1 in epoch210 : 0.8237\n",
      "Validation loss in epoch210 : 7854.9165\n"
     ]
    },
    {
     "name": "stderr",
     "output_type": "stream",
     "text": [
      " 74%|\u001b[32m██████████████████████████████████████████████████████████▉                     \u001b[0m| 221/300 [01:07<00:24,  3.22it/s]\u001b[0m"
     ]
    },
    {
     "name": "stdout",
     "output_type": "stream",
     "text": [
      "Validation F1 in epoch220 : 0.8251\n",
      "Validation loss in epoch220 : 7831.2168\n"
     ]
    },
    {
     "name": "stderr",
     "output_type": "stream",
     "text": [
      " 77%|\u001b[32m█████████████████████████████████████████████████████████████▌                  \u001b[0m| 231/300 [01:10<00:23,  2.99it/s]\u001b[0m"
     ]
    },
    {
     "name": "stdout",
     "output_type": "stream",
     "text": [
      "Validation F1 in epoch230 : 0.8262\n",
      "Validation loss in epoch230 : 7853.2686\n"
     ]
    },
    {
     "name": "stderr",
     "output_type": "stream",
     "text": [
      " 80%|\u001b[32m████████████████████████████████████████████████████████████████▎               \u001b[0m| 241/300 [01:13<00:17,  3.37it/s]\u001b[0m"
     ]
    },
    {
     "name": "stdout",
     "output_type": "stream",
     "text": [
      "Validation F1 in epoch240 : 0.8258\n",
      "Validation loss in epoch240 : 7879.5093\n"
     ]
    },
    {
     "name": "stderr",
     "output_type": "stream",
     "text": [
      " 84%|\u001b[32m██████████████████████████████████████████████████████████████████▉             \u001b[0m| 251/300 [01:16<00:15,  3.18it/s]\u001b[0m"
     ]
    },
    {
     "name": "stdout",
     "output_type": "stream",
     "text": [
      "Validation F1 in epoch250 : 0.8256\n",
      "Validation loss in epoch250 : 7862.7036\n"
     ]
    },
    {
     "name": "stderr",
     "output_type": "stream",
     "text": [
      " 87%|\u001b[32m█████████████████████████████████████████████████████████████████████▌          \u001b[0m| 261/300 [01:19<00:11,  3.38it/s]\u001b[0m"
     ]
    },
    {
     "name": "stdout",
     "output_type": "stream",
     "text": [
      "Validation F1 in epoch260 : 0.8243\n",
      "Validation loss in epoch260 : 7858.7529\n"
     ]
    },
    {
     "name": "stderr",
     "output_type": "stream",
     "text": [
      " 90%|\u001b[32m████████████████████████████████████████████████████████████████████████▎       \u001b[0m| 271/300 [01:22<00:09,  3.08it/s]\u001b[0m"
     ]
    },
    {
     "name": "stdout",
     "output_type": "stream",
     "text": [
      "Validation F1 in epoch270 : 0.8247\n",
      "Validation loss in epoch270 : 7943.1123\n"
     ]
    },
    {
     "name": "stderr",
     "output_type": "stream",
     "text": [
      " 94%|\u001b[32m██████████████████████████████████████████████████████████████████████████▉     \u001b[0m| 281/300 [01:25<00:06,  3.16it/s]\u001b[0m"
     ]
    },
    {
     "name": "stdout",
     "output_type": "stream",
     "text": [
      "Validation F1 in epoch280 : 0.8235\n",
      "Validation loss in epoch280 : 7944.9478\n"
     ]
    },
    {
     "name": "stderr",
     "output_type": "stream",
     "text": [
      " 97%|\u001b[32m█████████████████████████████████████████████████████████████████████████████▌  \u001b[0m| 291/300 [01:28<00:02,  3.55it/s]\u001b[0m"
     ]
    },
    {
     "name": "stdout",
     "output_type": "stream",
     "text": [
      "Validation F1 in epoch290 : 0.8250\n",
      "Validation loss in epoch290 : 7922.1416\n"
     ]
    },
    {
     "name": "stderr",
     "output_type": "stream",
     "text": [
      "100%|\u001b[32m████████████████████████████████████████████████████████████████████████████████\u001b[0m| 300/300 [01:31<00:00,  3.29it/s]\u001b[0m\n",
      "  0%|\u001b[32m▎                                                                                 \u001b[0m| 1/300 [00:00<01:20,  3.73it/s]\u001b[0m"
     ]
    },
    {
     "name": "stdout",
     "output_type": "stream",
     "text": [
      "Validation F1 in epoch0 : 0.0728\n",
      "Validation loss in epoch0 : 62218.5859\n"
     ]
    },
    {
     "name": "stderr",
     "output_type": "stream",
     "text": [
      "  4%|\u001b[32m██▉                                                                              \u001b[0m| 11/300 [00:03<01:28,  3.27it/s]\u001b[0m"
     ]
    },
    {
     "name": "stdout",
     "output_type": "stream",
     "text": [
      "Validation F1 in epoch10 : 0.0728\n",
      "Validation loss in epoch10 : 62218.5859\n"
     ]
    },
    {
     "name": "stderr",
     "output_type": "stream",
     "text": [
      "  7%|\u001b[32m█████▋                                                                           \u001b[0m| 21/300 [00:06<01:26,  3.22it/s]\u001b[0m"
     ]
    },
    {
     "name": "stdout",
     "output_type": "stream",
     "text": [
      "Validation F1 in epoch20 : 0.5926\n",
      "Validation loss in epoch20 : 21107.5508\n"
     ]
    },
    {
     "name": "stderr",
     "output_type": "stream",
     "text": [
      " 10%|\u001b[32m████████▎                                                                        \u001b[0m| 31/300 [00:09<01:23,  3.22it/s]\u001b[0m"
     ]
    },
    {
     "name": "stdout",
     "output_type": "stream",
     "text": [
      "Validation F1 in epoch30 : 0.6466\n",
      "Validation loss in epoch30 : 16521.3516\n"
     ]
    },
    {
     "name": "stderr",
     "output_type": "stream",
     "text": [
      " 14%|\u001b[32m███████████                                                                      \u001b[0m| 41/300 [00:12<01:22,  3.13it/s]\u001b[0m"
     ]
    },
    {
     "name": "stdout",
     "output_type": "stream",
     "text": [
      "Validation F1 in epoch40 : 0.7452\n",
      "Validation loss in epoch40 : 11610.9219\n"
     ]
    },
    {
     "name": "stderr",
     "output_type": "stream",
     "text": [
      " 17%|\u001b[32m█████████████▊                                                                   \u001b[0m| 51/300 [00:15<01:19,  3.12it/s]\u001b[0m"
     ]
    },
    {
     "name": "stdout",
     "output_type": "stream",
     "text": [
      "Validation F1 in epoch50 : 0.8055\n",
      "Validation loss in epoch50 : 9221.0410\n"
     ]
    },
    {
     "name": "stderr",
     "output_type": "stream",
     "text": [
      " 20%|\u001b[32m████████████████▍                                                                \u001b[0m| 61/300 [00:18<01:12,  3.31it/s]\u001b[0m"
     ]
    },
    {
     "name": "stdout",
     "output_type": "stream",
     "text": [
      "Validation F1 in epoch60 : 0.8288\n",
      "Validation loss in epoch60 : 7800.5879\n"
     ]
    },
    {
     "name": "stderr",
     "output_type": "stream",
     "text": [
      " 24%|\u001b[32m███████████████████▏                                                             \u001b[0m| 71/300 [00:22<01:09,  3.28it/s]\u001b[0m"
     ]
    },
    {
     "name": "stdout",
     "output_type": "stream",
     "text": [
      "Validation F1 in epoch70 : 0.8448\n",
      "Validation loss in epoch70 : 7049.1787\n"
     ]
    },
    {
     "name": "stderr",
     "output_type": "stream",
     "text": [
      " 27%|\u001b[32m█████████████████████▊                                                           \u001b[0m| 81/300 [00:25<01:09,  3.15it/s]\u001b[0m"
     ]
    },
    {
     "name": "stdout",
     "output_type": "stream",
     "text": [
      "Validation F1 in epoch80 : 0.8526\n",
      "Validation loss in epoch80 : 6702.1553\n"
     ]
    },
    {
     "name": "stderr",
     "output_type": "stream",
     "text": [
      " 30%|\u001b[32m████████████████████████▌                                                        \u001b[0m| 91/300 [00:28<01:05,  3.20it/s]\u001b[0m"
     ]
    },
    {
     "name": "stdout",
     "output_type": "stream",
     "text": [
      "Validation F1 in epoch90 : 0.8573\n",
      "Validation loss in epoch90 : 6548.5732\n"
     ]
    },
    {
     "name": "stderr",
     "output_type": "stream",
     "text": [
      " 34%|\u001b[32m██████████████████████████▉                                                     \u001b[0m| 101/300 [00:31<01:01,  3.22it/s]\u001b[0m"
     ]
    },
    {
     "name": "stdout",
     "output_type": "stream",
     "text": [
      "Validation F1 in epoch100 : 0.8602\n",
      "Validation loss in epoch100 : 6484.3770\n"
     ]
    },
    {
     "name": "stderr",
     "output_type": "stream",
     "text": [
      " 37%|\u001b[32m█████████████████████████████▌                                                  \u001b[0m| 111/300 [00:34<00:59,  3.16it/s]\u001b[0m"
     ]
    },
    {
     "name": "stdout",
     "output_type": "stream",
     "text": [
      "Validation F1 in epoch110 : 0.8620\n",
      "Validation loss in epoch110 : 6460.3076\n"
     ]
    },
    {
     "name": "stderr",
     "output_type": "stream",
     "text": [
      " 40%|\u001b[32m████████████████████████████████▎                                               \u001b[0m| 121/300 [00:37<00:56,  3.17it/s]\u001b[0m"
     ]
    },
    {
     "name": "stdout",
     "output_type": "stream",
     "text": [
      "Validation F1 in epoch120 : 0.8634\n",
      "Validation loss in epoch120 : 6483.8398\n"
     ]
    },
    {
     "name": "stderr",
     "output_type": "stream",
     "text": [
      " 44%|\u001b[32m██████████████████████████████████▉                                             \u001b[0m| 131/300 [00:40<00:51,  3.31it/s]\u001b[0m"
     ]
    },
    {
     "name": "stdout",
     "output_type": "stream",
     "text": [
      "Validation F1 in epoch130 : 0.8638\n",
      "Validation loss in epoch130 : 6518.9980\n"
     ]
    },
    {
     "name": "stderr",
     "output_type": "stream",
     "text": [
      " 47%|\u001b[32m█████████████████████████████████████▌                                          \u001b[0m| 141/300 [00:43<00:48,  3.29it/s]\u001b[0m"
     ]
    },
    {
     "name": "stdout",
     "output_type": "stream",
     "text": [
      "Validation F1 in epoch140 : 0.8641\n",
      "Validation loss in epoch140 : 6559.0000\n"
     ]
    },
    {
     "name": "stderr",
     "output_type": "stream",
     "text": [
      " 50%|\u001b[32m████████████████████████████████████████▎                                       \u001b[0m| 151/300 [00:46<00:45,  3.31it/s]\u001b[0m"
     ]
    },
    {
     "name": "stdout",
     "output_type": "stream",
     "text": [
      "Validation F1 in epoch150 : 0.8651\n",
      "Validation loss in epoch150 : 6597.6294\n"
     ]
    },
    {
     "name": "stderr",
     "output_type": "stream",
     "text": [
      " 54%|\u001b[32m██████████████████████████████████████████▉                                     \u001b[0m| 161/300 [00:50<00:43,  3.20it/s]\u001b[0m"
     ]
    },
    {
     "name": "stdout",
     "output_type": "stream",
     "text": [
      "Validation F1 in epoch160 : 0.8650\n",
      "Validation loss in epoch160 : 6634.4648\n"
     ]
    },
    {
     "name": "stderr",
     "output_type": "stream",
     "text": [
      " 57%|\u001b[32m█████████████████████████████████████████████▌                                  \u001b[0m| 171/300 [00:53<00:40,  3.16it/s]\u001b[0m"
     ]
    },
    {
     "name": "stdout",
     "output_type": "stream",
     "text": [
      "Validation F1 in epoch170 : 0.8646\n",
      "Validation loss in epoch170 : 6668.1494\n"
     ]
    },
    {
     "name": "stderr",
     "output_type": "stream",
     "text": [
      " 60%|\u001b[32m████████████████████████████████████████████████▎                               \u001b[0m| 181/300 [00:56<00:38,  3.12it/s]\u001b[0m"
     ]
    },
    {
     "name": "stdout",
     "output_type": "stream",
     "text": [
      "Validation F1 in epoch180 : 0.8645\n",
      "Validation loss in epoch180 : 6698.7842\n"
     ]
    },
    {
     "name": "stderr",
     "output_type": "stream",
     "text": [
      " 64%|\u001b[32m██████████████████████████████████████████████████▉                             \u001b[0m| 191/300 [00:59<00:34,  3.14it/s]\u001b[0m"
     ]
    },
    {
     "name": "stdout",
     "output_type": "stream",
     "text": [
      "Validation F1 in epoch190 : 0.8645\n",
      "Validation loss in epoch190 : 6726.9199\n"
     ]
    },
    {
     "name": "stderr",
     "output_type": "stream",
     "text": [
      " 67%|\u001b[32m█████████████████████████████████████████████████████▌                          \u001b[0m| 201/300 [01:02<00:29,  3.36it/s]\u001b[0m"
     ]
    },
    {
     "name": "stdout",
     "output_type": "stream",
     "text": [
      "Validation F1 in epoch200 : 0.8645\n",
      "Validation loss in epoch200 : 6752.0820\n"
     ]
    },
    {
     "name": "stderr",
     "output_type": "stream",
     "text": [
      " 70%|\u001b[32m████████████████████████████████████████████████████████▎                       \u001b[0m| 211/300 [01:05<00:27,  3.28it/s]\u001b[0m"
     ]
    },
    {
     "name": "stdout",
     "output_type": "stream",
     "text": [
      "Validation F1 in epoch210 : 0.8648\n",
      "Validation loss in epoch210 : 6774.5366\n"
     ]
    },
    {
     "name": "stderr",
     "output_type": "stream",
     "text": [
      " 74%|\u001b[32m██████████████████████████████████████████████████████████▉                     \u001b[0m| 221/300 [01:08<00:24,  3.26it/s]\u001b[0m"
     ]
    },
    {
     "name": "stdout",
     "output_type": "stream",
     "text": [
      "Validation F1 in epoch220 : 0.8646\n",
      "Validation loss in epoch220 : 6794.4658\n"
     ]
    },
    {
     "name": "stderr",
     "output_type": "stream",
     "text": [
      " 77%|\u001b[32m█████████████████████████████████████████████████████████████▌                  \u001b[0m| 231/300 [01:11<00:21,  3.21it/s]\u001b[0m"
     ]
    },
    {
     "name": "stdout",
     "output_type": "stream",
     "text": [
      "Validation F1 in epoch230 : 0.8644\n",
      "Validation loss in epoch230 : 6811.8311\n"
     ]
    },
    {
     "name": "stderr",
     "output_type": "stream",
     "text": [
      " 80%|\u001b[32m████████████████████████████████████████████████████████████████▎               \u001b[0m| 241/300 [01:15<00:18,  3.16it/s]\u001b[0m"
     ]
    },
    {
     "name": "stdout",
     "output_type": "stream",
     "text": [
      "Validation F1 in epoch240 : 0.8645\n",
      "Validation loss in epoch240 : 6827.6689\n"
     ]
    },
    {
     "name": "stderr",
     "output_type": "stream",
     "text": [
      " 84%|\u001b[32m██████████████████████████████████████████████████████████████████▉             \u001b[0m| 251/300 [01:18<00:15,  3.18it/s]\u001b[0m"
     ]
    },
    {
     "name": "stdout",
     "output_type": "stream",
     "text": [
      "Validation F1 in epoch250 : 0.8644\n",
      "Validation loss in epoch250 : 6841.7188\n"
     ]
    },
    {
     "name": "stderr",
     "output_type": "stream",
     "text": [
      " 87%|\u001b[32m█████████████████████████████████████████████████████████████████████▌          \u001b[0m| 261/300 [01:21<00:12,  3.19it/s]\u001b[0m"
     ]
    },
    {
     "name": "stdout",
     "output_type": "stream",
     "text": [
      "Validation F1 in epoch260 : 0.8642\n",
      "Validation loss in epoch260 : 6854.8096\n"
     ]
    },
    {
     "name": "stderr",
     "output_type": "stream",
     "text": [
      " 90%|\u001b[32m████████████████████████████████████████████████████████████████████████▎       \u001b[0m| 271/300 [01:24<00:08,  3.37it/s]\u001b[0m"
     ]
    },
    {
     "name": "stdout",
     "output_type": "stream",
     "text": [
      "Validation F1 in epoch270 : 0.8642\n",
      "Validation loss in epoch270 : 6866.5972\n"
     ]
    },
    {
     "name": "stderr",
     "output_type": "stream",
     "text": [
      " 94%|\u001b[32m██████████████████████████████████████████████████████████████████████████▉     \u001b[0m| 281/300 [01:27<00:05,  3.31it/s]\u001b[0m"
     ]
    },
    {
     "name": "stdout",
     "output_type": "stream",
     "text": [
      "Validation F1 in epoch280 : 0.8638\n",
      "Validation loss in epoch280 : 6876.8125\n"
     ]
    },
    {
     "name": "stderr",
     "output_type": "stream",
     "text": [
      " 97%|\u001b[32m█████████████████████████████████████████████████████████████████████████████▌  \u001b[0m| 291/300 [01:30<00:02,  3.26it/s]\u001b[0m"
     ]
    },
    {
     "name": "stdout",
     "output_type": "stream",
     "text": [
      "Validation F1 in epoch290 : 0.8634\n",
      "Validation loss in epoch290 : 6885.5933\n"
     ]
    },
    {
     "name": "stderr",
     "output_type": "stream",
     "text": [
      "100%|\u001b[32m████████████████████████████████████████████████████████████████████████████████\u001b[0m| 300/300 [01:33<00:00,  3.22it/s]\u001b[0m\n",
      "  0%|\u001b[32m▎                                                                                 \u001b[0m| 1/300 [00:00<01:41,  2.96it/s]\u001b[0m"
     ]
    },
    {
     "name": "stdout",
     "output_type": "stream",
     "text": [
      "Validation F1 in epoch0 : 0.1326\n",
      "Validation loss in epoch0 : 63712.4141\n"
     ]
    },
    {
     "name": "stderr",
     "output_type": "stream",
     "text": [
      "  4%|\u001b[32m██▉                                                                              \u001b[0m| 11/300 [00:03<01:24,  3.41it/s]\u001b[0m"
     ]
    },
    {
     "name": "stdout",
     "output_type": "stream",
     "text": [
      "Validation F1 in epoch10 : 0.1299\n",
      "Validation loss in epoch10 : 63725.8828\n"
     ]
    },
    {
     "name": "stderr",
     "output_type": "stream",
     "text": [
      "  7%|\u001b[32m█████▋                                                                           \u001b[0m| 21/300 [00:06<01:27,  3.19it/s]\u001b[0m"
     ]
    },
    {
     "name": "stdout",
     "output_type": "stream",
     "text": [
      "Validation F1 in epoch20 : 0.6024\n",
      "Validation loss in epoch20 : 18879.6758\n"
     ]
    },
    {
     "name": "stderr",
     "output_type": "stream",
     "text": [
      " 10%|\u001b[32m████████▎                                                                        \u001b[0m| 31/300 [00:09<01:29,  3.01it/s]\u001b[0m"
     ]
    },
    {
     "name": "stdout",
     "output_type": "stream",
     "text": [
      "Validation F1 in epoch30 : 0.7318\n",
      "Validation loss in epoch30 : 12039.8711\n"
     ]
    },
    {
     "name": "stderr",
     "output_type": "stream",
     "text": [
      " 14%|\u001b[32m███████████                                                                      \u001b[0m| 41/300 [00:12<01:12,  3.55it/s]\u001b[0m"
     ]
    },
    {
     "name": "stdout",
     "output_type": "stream",
     "text": [
      "Validation F1 in epoch40 : 0.7709\n",
      "Validation loss in epoch40 : 9037.8965\n"
     ]
    },
    {
     "name": "stderr",
     "output_type": "stream",
     "text": [
      " 17%|\u001b[32m█████████████▊                                                                   \u001b[0m| 51/300 [00:15<01:16,  3.27it/s]\u001b[0m"
     ]
    },
    {
     "name": "stdout",
     "output_type": "stream",
     "text": [
      "Validation F1 in epoch50 : 0.8128\n",
      "Validation loss in epoch50 : 7719.0923\n"
     ]
    },
    {
     "name": "stderr",
     "output_type": "stream",
     "text": [
      " 20%|\u001b[32m████████████████▍                                                                \u001b[0m| 61/300 [00:18<01:14,  3.21it/s]\u001b[0m"
     ]
    },
    {
     "name": "stdout",
     "output_type": "stream",
     "text": [
      "Validation F1 in epoch60 : 0.8270\n",
      "Validation loss in epoch60 : 7190.0576\n"
     ]
    },
    {
     "name": "stderr",
     "output_type": "stream",
     "text": [
      " 24%|\u001b[32m███████████████████▏                                                             \u001b[0m| 71/300 [00:21<01:10,  3.23it/s]\u001b[0m"
     ]
    },
    {
     "name": "stdout",
     "output_type": "stream",
     "text": [
      "Validation F1 in epoch70 : 0.8375\n",
      "Validation loss in epoch70 : 6889.0078\n"
     ]
    },
    {
     "name": "stderr",
     "output_type": "stream",
     "text": [
      " 27%|\u001b[32m█████████████████████▊                                                           \u001b[0m| 81/300 [00:24<01:08,  3.20it/s]\u001b[0m"
     ]
    },
    {
     "name": "stdout",
     "output_type": "stream",
     "text": [
      "Validation F1 in epoch80 : 0.8422\n",
      "Validation loss in epoch80 : 6725.8340\n"
     ]
    },
    {
     "name": "stderr",
     "output_type": "stream",
     "text": [
      " 30%|\u001b[32m████████████████████████▌                                                        \u001b[0m| 91/300 [00:27<01:03,  3.30it/s]\u001b[0m"
     ]
    },
    {
     "name": "stdout",
     "output_type": "stream",
     "text": [
      "Validation F1 in epoch90 : 0.8424\n",
      "Validation loss in epoch90 : 6659.5400\n"
     ]
    },
    {
     "name": "stderr",
     "output_type": "stream",
     "text": [
      " 34%|\u001b[32m██████████████████████████▉                                                     \u001b[0m| 101/300 [00:30<00:58,  3.39it/s]\u001b[0m"
     ]
    },
    {
     "name": "stdout",
     "output_type": "stream",
     "text": [
      "Validation F1 in epoch100 : 0.8460\n",
      "Validation loss in epoch100 : 6582.5205\n"
     ]
    },
    {
     "name": "stderr",
     "output_type": "stream",
     "text": [
      " 37%|\u001b[32m█████████████████████████████▌                                                  \u001b[0m| 111/300 [00:33<00:56,  3.35it/s]\u001b[0m"
     ]
    },
    {
     "name": "stdout",
     "output_type": "stream",
     "text": [
      "Validation F1 in epoch110 : 0.8457\n",
      "Validation loss in epoch110 : 6527.0669\n"
     ]
    },
    {
     "name": "stderr",
     "output_type": "stream",
     "text": [
      " 40%|\u001b[32m████████████████████████████████▎                                               \u001b[0m| 121/300 [00:36<00:58,  3.05it/s]\u001b[0m"
     ]
    },
    {
     "name": "stdout",
     "output_type": "stream",
     "text": [
      "Validation F1 in epoch120 : 0.8469\n",
      "Validation loss in epoch120 : 6481.4971\n"
     ]
    },
    {
     "name": "stderr",
     "output_type": "stream",
     "text": [
      " 44%|\u001b[32m██████████████████████████████████▉                                             \u001b[0m| 131/300 [00:39<00:52,  3.21it/s]\u001b[0m"
     ]
    },
    {
     "name": "stdout",
     "output_type": "stream",
     "text": [
      "Validation F1 in epoch130 : 0.8502\n",
      "Validation loss in epoch130 : 6493.6045\n"
     ]
    },
    {
     "name": "stderr",
     "output_type": "stream",
     "text": [
      " 47%|\u001b[32m█████████████████████████████████████▌                                          \u001b[0m| 141/300 [00:42<00:46,  3.44it/s]\u001b[0m"
     ]
    },
    {
     "name": "stdout",
     "output_type": "stream",
     "text": [
      "Validation F1 in epoch140 : 0.8495\n",
      "Validation loss in epoch140 : 6425.6465\n"
     ]
    },
    {
     "name": "stderr",
     "output_type": "stream",
     "text": [
      " 50%|\u001b[32m████████████████████████████████████████▎                                       \u001b[0m| 151/300 [00:46<00:46,  3.18it/s]\u001b[0m"
     ]
    },
    {
     "name": "stdout",
     "output_type": "stream",
     "text": [
      "Validation F1 in epoch150 : 0.8503\n",
      "Validation loss in epoch150 : 6408.2773\n"
     ]
    },
    {
     "name": "stderr",
     "output_type": "stream",
     "text": [
      " 54%|\u001b[32m██████████████████████████████████████████▉                                     \u001b[0m| 161/300 [00:49<00:42,  3.26it/s]\u001b[0m"
     ]
    },
    {
     "name": "stdout",
     "output_type": "stream",
     "text": [
      "Validation F1 in epoch160 : 0.8520\n",
      "Validation loss in epoch160 : 6340.6709\n"
     ]
    },
    {
     "name": "stderr",
     "output_type": "stream",
     "text": [
      " 57%|\u001b[32m█████████████████████████████████████████████▌                                  \u001b[0m| 171/300 [00:52<00:44,  2.89it/s]\u001b[0m"
     ]
    },
    {
     "name": "stdout",
     "output_type": "stream",
     "text": [
      "Validation F1 in epoch170 : 0.8507\n",
      "Validation loss in epoch170 : 6397.9990\n"
     ]
    },
    {
     "name": "stderr",
     "output_type": "stream",
     "text": [
      " 60%|\u001b[32m████████████████████████████████████████████████▎                               \u001b[0m| 181/300 [00:55<00:34,  3.47it/s]\u001b[0m"
     ]
    },
    {
     "name": "stdout",
     "output_type": "stream",
     "text": [
      "Validation F1 in epoch180 : 0.8536\n",
      "Validation loss in epoch180 : 6355.7476\n"
     ]
    },
    {
     "name": "stderr",
     "output_type": "stream",
     "text": [
      " 64%|\u001b[32m██████████████████████████████████████████████████▉                             \u001b[0m| 191/300 [00:58<00:31,  3.50it/s]\u001b[0m"
     ]
    },
    {
     "name": "stdout",
     "output_type": "stream",
     "text": [
      "Validation F1 in epoch190 : 0.8523\n",
      "Validation loss in epoch190 : 6367.2217\n"
     ]
    },
    {
     "name": "stderr",
     "output_type": "stream",
     "text": [
      " 67%|\u001b[32m█████████████████████████████████████████████████████▌                          \u001b[0m| 201/300 [01:01<00:30,  3.27it/s]\u001b[0m"
     ]
    },
    {
     "name": "stdout",
     "output_type": "stream",
     "text": [
      "Validation F1 in epoch200 : 0.8516\n",
      "Validation loss in epoch200 : 6360.7241\n"
     ]
    },
    {
     "name": "stderr",
     "output_type": "stream",
     "text": [
      " 70%|\u001b[32m████████████████████████████████████████████████████████▎                       \u001b[0m| 211/300 [01:04<00:26,  3.34it/s]\u001b[0m"
     ]
    },
    {
     "name": "stdout",
     "output_type": "stream",
     "text": [
      "Validation F1 in epoch210 : 0.8511\n",
      "Validation loss in epoch210 : 6385.7637\n"
     ]
    },
    {
     "name": "stderr",
     "output_type": "stream",
     "text": [
      " 74%|\u001b[32m██████████████████████████████████████████████████████████▉                     \u001b[0m| 221/300 [01:07<00:25,  3.14it/s]\u001b[0m"
     ]
    },
    {
     "name": "stdout",
     "output_type": "stream",
     "text": [
      "Validation F1 in epoch220 : 0.8550\n",
      "Validation loss in epoch220 : 6330.1387\n"
     ]
    },
    {
     "name": "stderr",
     "output_type": "stream",
     "text": [
      " 77%|\u001b[32m█████████████████████████████████████████████████████████████▌                  \u001b[0m| 231/300 [01:10<00:21,  3.14it/s]\u001b[0m"
     ]
    },
    {
     "name": "stdout",
     "output_type": "stream",
     "text": [
      "Validation F1 in epoch230 : 0.8540\n",
      "Validation loss in epoch230 : 6389.7290\n"
     ]
    },
    {
     "name": "stderr",
     "output_type": "stream",
     "text": [
      " 80%|\u001b[32m████████████████████████████████████████████████████████████████▎               \u001b[0m| 241/300 [01:13<00:19,  3.02it/s]\u001b[0m"
     ]
    },
    {
     "name": "stdout",
     "output_type": "stream",
     "text": [
      "Validation F1 in epoch240 : 0.8552\n",
      "Validation loss in epoch240 : 6372.9424\n"
     ]
    },
    {
     "name": "stderr",
     "output_type": "stream",
     "text": [
      " 84%|\u001b[32m██████████████████████████████████████████████████████████████████▉             \u001b[0m| 251/300 [01:16<00:14,  3.44it/s]\u001b[0m"
     ]
    },
    {
     "name": "stdout",
     "output_type": "stream",
     "text": [
      "Validation F1 in epoch250 : 0.8543\n",
      "Validation loss in epoch250 : 6381.8037\n"
     ]
    },
    {
     "name": "stderr",
     "output_type": "stream",
     "text": [
      " 87%|\u001b[32m█████████████████████████████████████████████████████████████████████▌          \u001b[0m| 261/300 [01:19<00:11,  3.39it/s]\u001b[0m"
     ]
    },
    {
     "name": "stdout",
     "output_type": "stream",
     "text": [
      "Validation F1 in epoch260 : 0.8514\n",
      "Validation loss in epoch260 : 6471.0049\n"
     ]
    },
    {
     "name": "stderr",
     "output_type": "stream",
     "text": [
      " 90%|\u001b[32m████████████████████████████████████████████████████████████████████████▎       \u001b[0m| 271/300 [01:22<00:08,  3.39it/s]\u001b[0m"
     ]
    },
    {
     "name": "stdout",
     "output_type": "stream",
     "text": [
      "Validation F1 in epoch270 : 0.8525\n",
      "Validation loss in epoch270 : 6419.6543\n"
     ]
    },
    {
     "name": "stderr",
     "output_type": "stream",
     "text": [
      " 94%|\u001b[32m██████████████████████████████████████████████████████████████████████████▉     \u001b[0m| 281/300 [01:25<00:06,  3.07it/s]\u001b[0m"
     ]
    },
    {
     "name": "stdout",
     "output_type": "stream",
     "text": [
      "Validation F1 in epoch280 : 0.8541\n",
      "Validation loss in epoch280 : 6496.7793\n"
     ]
    },
    {
     "name": "stderr",
     "output_type": "stream",
     "text": [
      " 97%|\u001b[32m█████████████████████████████████████████████████████████████████████████████▌  \u001b[0m| 291/300 [01:28<00:02,  3.30it/s]\u001b[0m"
     ]
    },
    {
     "name": "stdout",
     "output_type": "stream",
     "text": [
      "Validation F1 in epoch290 : 0.8498\n",
      "Validation loss in epoch290 : 6579.6973\n"
     ]
    },
    {
     "name": "stderr",
     "output_type": "stream",
     "text": [
      "100%|\u001b[32m████████████████████████████████████████████████████████████████████████████████\u001b[0m| 300/300 [01:31<00:00,  3.29it/s]\u001b[0m\n",
      "  0%|\u001b[32m▎                                                                                 \u001b[0m| 1/300 [00:00<01:39,  3.00it/s]\u001b[0m"
     ]
    },
    {
     "name": "stdout",
     "output_type": "stream",
     "text": [
      "Validation F1 in epoch0 : 0.1423\n",
      "Validation loss in epoch0 : 62310.3945\n"
     ]
    },
    {
     "name": "stderr",
     "output_type": "stream",
     "text": [
      "  4%|\u001b[32m██▉                                                                              \u001b[0m| 11/300 [00:03<01:24,  3.41it/s]\u001b[0m"
     ]
    },
    {
     "name": "stdout",
     "output_type": "stream",
     "text": [
      "Validation F1 in epoch10 : 0.1433\n",
      "Validation loss in epoch10 : 62319.6797\n"
     ]
    },
    {
     "name": "stderr",
     "output_type": "stream",
     "text": [
      "  7%|\u001b[32m█████▋                                                                           \u001b[0m| 21/300 [00:06<01:25,  3.25it/s]\u001b[0m"
     ]
    },
    {
     "name": "stdout",
     "output_type": "stream",
     "text": [
      "Validation F1 in epoch20 : 0.5934\n",
      "Validation loss in epoch20 : 18050.3184\n"
     ]
    },
    {
     "name": "stderr",
     "output_type": "stream",
     "text": [
      " 10%|\u001b[32m████████▎                                                                        \u001b[0m| 31/300 [00:09<01:17,  3.49it/s]\u001b[0m"
     ]
    },
    {
     "name": "stdout",
     "output_type": "stream",
     "text": [
      "Validation F1 in epoch30 : 0.6790\n",
      "Validation loss in epoch30 : 12479.2305\n"
     ]
    },
    {
     "name": "stderr",
     "output_type": "stream",
     "text": [
      " 14%|\u001b[32m███████████                                                                      \u001b[0m| 41/300 [00:12<01:23,  3.11it/s]\u001b[0m"
     ]
    },
    {
     "name": "stdout",
     "output_type": "stream",
     "text": [
      "Validation F1 in epoch40 : 0.7769\n",
      "Validation loss in epoch40 : 10080.7188\n"
     ]
    },
    {
     "name": "stderr",
     "output_type": "stream",
     "text": [
      " 17%|\u001b[32m█████████████▊                                                                   \u001b[0m| 51/300 [00:15<01:13,  3.39it/s]\u001b[0m"
     ]
    },
    {
     "name": "stdout",
     "output_type": "stream",
     "text": [
      "Validation F1 in epoch50 : 0.7949\n",
      "Validation loss in epoch50 : 8957.2998\n"
     ]
    },
    {
     "name": "stderr",
     "output_type": "stream",
     "text": [
      " 20%|\u001b[32m████████████████▍                                                                \u001b[0m| 61/300 [00:18<01:19,  3.03it/s]\u001b[0m"
     ]
    },
    {
     "name": "stdout",
     "output_type": "stream",
     "text": [
      "Validation F1 in epoch60 : 0.8105\n",
      "Validation loss in epoch60 : 8534.4834\n"
     ]
    },
    {
     "name": "stderr",
     "output_type": "stream",
     "text": [
      " 24%|\u001b[32m███████████████████▏                                                             \u001b[0m| 71/300 [00:21<01:11,  3.20it/s]\u001b[0m"
     ]
    },
    {
     "name": "stdout",
     "output_type": "stream",
     "text": [
      "Validation F1 in epoch70 : 0.8177\n",
      "Validation loss in epoch70 : 8308.7305\n"
     ]
    },
    {
     "name": "stderr",
     "output_type": "stream",
     "text": [
      " 27%|\u001b[32m█████████████████████▊                                                           \u001b[0m| 81/300 [00:24<01:05,  3.33it/s]\u001b[0m"
     ]
    },
    {
     "name": "stdout",
     "output_type": "stream",
     "text": [
      "Validation F1 in epoch80 : 0.8191\n",
      "Validation loss in epoch80 : 8169.7627\n"
     ]
    },
    {
     "name": "stderr",
     "output_type": "stream",
     "text": [
      " 30%|\u001b[32m████████████████████████▌                                                        \u001b[0m| 91/300 [00:27<00:58,  3.57it/s]\u001b[0m"
     ]
    },
    {
     "name": "stdout",
     "output_type": "stream",
     "text": [
      "Validation F1 in epoch90 : 0.8225\n",
      "Validation loss in epoch90 : 8073.4873\n"
     ]
    },
    {
     "name": "stderr",
     "output_type": "stream",
     "text": [
      " 34%|\u001b[32m██████████████████████████▉                                                     \u001b[0m| 101/300 [00:30<00:56,  3.51it/s]\u001b[0m"
     ]
    },
    {
     "name": "stdout",
     "output_type": "stream",
     "text": [
      "Validation F1 in epoch100 : 0.8223\n",
      "Validation loss in epoch100 : 8040.0303\n"
     ]
    },
    {
     "name": "stderr",
     "output_type": "stream",
     "text": [
      " 37%|\u001b[32m█████████████████████████████▌                                                  \u001b[0m| 111/300 [00:33<00:54,  3.50it/s]\u001b[0m"
     ]
    },
    {
     "name": "stdout",
     "output_type": "stream",
     "text": [
      "Validation F1 in epoch110 : 0.8229\n",
      "Validation loss in epoch110 : 7991.0898\n"
     ]
    },
    {
     "name": "stderr",
     "output_type": "stream",
     "text": [
      " 40%|\u001b[32m████████████████████████████████▎                                               \u001b[0m| 121/300 [00:36<00:55,  3.23it/s]\u001b[0m"
     ]
    },
    {
     "name": "stdout",
     "output_type": "stream",
     "text": [
      "Validation F1 in epoch120 : 0.8217\n",
      "Validation loss in epoch120 : 7957.5220\n"
     ]
    },
    {
     "name": "stderr",
     "output_type": "stream",
     "text": [
      " 44%|\u001b[32m██████████████████████████████████▉                                             \u001b[0m| 131/300 [00:39<00:53,  3.15it/s]\u001b[0m"
     ]
    },
    {
     "name": "stdout",
     "output_type": "stream",
     "text": [
      "Validation F1 in epoch130 : 0.8225\n",
      "Validation loss in epoch130 : 7957.1768\n"
     ]
    },
    {
     "name": "stderr",
     "output_type": "stream",
     "text": [
      " 47%|\u001b[32m█████████████████████████████████████▌                                          \u001b[0m| 141/300 [00:42<00:48,  3.29it/s]\u001b[0m"
     ]
    },
    {
     "name": "stdout",
     "output_type": "stream",
     "text": [
      "Validation F1 in epoch140 : 0.8249\n",
      "Validation loss in epoch140 : 7905.3057\n"
     ]
    },
    {
     "name": "stderr",
     "output_type": "stream",
     "text": [
      " 50%|\u001b[32m████████████████████████████████████████▎                                       \u001b[0m| 151/300 [00:45<00:47,  3.11it/s]\u001b[0m"
     ]
    },
    {
     "name": "stdout",
     "output_type": "stream",
     "text": [
      "Validation F1 in epoch150 : 0.8270\n",
      "Validation loss in epoch150 : 7885.7715\n"
     ]
    },
    {
     "name": "stderr",
     "output_type": "stream",
     "text": [
      " 54%|\u001b[32m██████████████████████████████████████████▉                                     \u001b[0m| 161/300 [00:48<00:41,  3.34it/s]\u001b[0m"
     ]
    },
    {
     "name": "stdout",
     "output_type": "stream",
     "text": [
      "Validation F1 in epoch160 : 0.8240\n",
      "Validation loss in epoch160 : 7831.9375\n"
     ]
    },
    {
     "name": "stderr",
     "output_type": "stream",
     "text": [
      " 57%|\u001b[32m█████████████████████████████████████████████▌                                  \u001b[0m| 171/300 [00:51<00:37,  3.44it/s]\u001b[0m"
     ]
    },
    {
     "name": "stdout",
     "output_type": "stream",
     "text": [
      "Validation F1 in epoch170 : 0.8256\n",
      "Validation loss in epoch170 : 7862.5693\n"
     ]
    },
    {
     "name": "stderr",
     "output_type": "stream",
     "text": [
      " 60%|\u001b[32m████████████████████████████████████████████████▎                               \u001b[0m| 181/300 [00:54<00:34,  3.47it/s]\u001b[0m"
     ]
    },
    {
     "name": "stdout",
     "output_type": "stream",
     "text": [
      "Validation F1 in epoch180 : 0.8242\n",
      "Validation loss in epoch180 : 7861.5449\n"
     ]
    },
    {
     "name": "stderr",
     "output_type": "stream",
     "text": [
      " 64%|\u001b[32m██████████████████████████████████████████████████▉                             \u001b[0m| 191/300 [00:57<00:33,  3.28it/s]\u001b[0m"
     ]
    },
    {
     "name": "stdout",
     "output_type": "stream",
     "text": [
      "Validation F1 in epoch190 : 0.8245\n",
      "Validation loss in epoch190 : 7847.6436\n"
     ]
    },
    {
     "name": "stderr",
     "output_type": "stream",
     "text": [
      " 67%|\u001b[32m█████████████████████████████████████████████████████▌                          \u001b[0m| 201/300 [01:00<00:29,  3.38it/s]\u001b[0m"
     ]
    },
    {
     "name": "stdout",
     "output_type": "stream",
     "text": [
      "Validation F1 in epoch200 : 0.8248\n",
      "Validation loss in epoch200 : 7839.8491\n"
     ]
    },
    {
     "name": "stderr",
     "output_type": "stream",
     "text": [
      " 70%|\u001b[32m████████████████████████████████████████████████████████▎                       \u001b[0m| 211/300 [01:03<00:26,  3.34it/s]\u001b[0m"
     ]
    },
    {
     "name": "stdout",
     "output_type": "stream",
     "text": [
      "Validation F1 in epoch210 : 0.8237\n",
      "Validation loss in epoch210 : 7854.9165\n"
     ]
    },
    {
     "name": "stderr",
     "output_type": "stream",
     "text": [
      " 74%|\u001b[32m██████████████████████████████████████████████████████████▉                     \u001b[0m| 221/300 [01:06<00:27,  2.91it/s]\u001b[0m"
     ]
    },
    {
     "name": "stdout",
     "output_type": "stream",
     "text": [
      "Validation F1 in epoch220 : 0.8251\n",
      "Validation loss in epoch220 : 7831.2168\n"
     ]
    },
    {
     "name": "stderr",
     "output_type": "stream",
     "text": [
      " 77%|\u001b[32m█████████████████████████████████████████████████████████████▌                  \u001b[0m| 231/300 [01:09<00:20,  3.42it/s]\u001b[0m"
     ]
    },
    {
     "name": "stdout",
     "output_type": "stream",
     "text": [
      "Validation F1 in epoch230 : 0.8262\n",
      "Validation loss in epoch230 : 7853.2686\n"
     ]
    },
    {
     "name": "stderr",
     "output_type": "stream",
     "text": [
      " 80%|\u001b[32m████████████████████████████████████████████████████████████████▎               \u001b[0m| 241/300 [01:12<00:17,  3.47it/s]\u001b[0m"
     ]
    },
    {
     "name": "stdout",
     "output_type": "stream",
     "text": [
      "Validation F1 in epoch240 : 0.8258\n",
      "Validation loss in epoch240 : 7879.5093\n"
     ]
    },
    {
     "name": "stderr",
     "output_type": "stream",
     "text": [
      " 84%|\u001b[32m██████████████████████████████████████████████████████████████████▉             \u001b[0m| 251/300 [01:15<00:13,  3.51it/s]\u001b[0m"
     ]
    },
    {
     "name": "stdout",
     "output_type": "stream",
     "text": [
      "Validation F1 in epoch250 : 0.8256\n",
      "Validation loss in epoch250 : 7862.7036\n"
     ]
    },
    {
     "name": "stderr",
     "output_type": "stream",
     "text": [
      " 87%|\u001b[32m█████████████████████████████████████████████████████████████████████▌          \u001b[0m| 261/300 [01:18<00:12,  3.11it/s]\u001b[0m"
     ]
    },
    {
     "name": "stdout",
     "output_type": "stream",
     "text": [
      "Validation F1 in epoch260 : 0.8243\n",
      "Validation loss in epoch260 : 7858.7529\n"
     ]
    },
    {
     "name": "stderr",
     "output_type": "stream",
     "text": [
      " 90%|\u001b[32m████████████████████████████████████████████████████████████████████████▎       \u001b[0m| 271/300 [01:22<00:09,  3.08it/s]\u001b[0m"
     ]
    },
    {
     "name": "stdout",
     "output_type": "stream",
     "text": [
      "Validation F1 in epoch270 : 0.8247\n",
      "Validation loss in epoch270 : 7943.1123\n"
     ]
    },
    {
     "name": "stderr",
     "output_type": "stream",
     "text": [
      " 94%|\u001b[32m██████████████████████████████████████████████████████████████████████████▉     \u001b[0m| 281/300 [01:25<00:05,  3.34it/s]\u001b[0m"
     ]
    },
    {
     "name": "stdout",
     "output_type": "stream",
     "text": [
      "Validation F1 in epoch280 : 0.8235\n",
      "Validation loss in epoch280 : 7944.9478\n"
     ]
    },
    {
     "name": "stderr",
     "output_type": "stream",
     "text": [
      " 97%|\u001b[32m█████████████████████████████████████████████████████████████████████████████▌  \u001b[0m| 291/300 [01:28<00:02,  3.27it/s]\u001b[0m"
     ]
    },
    {
     "name": "stdout",
     "output_type": "stream",
     "text": [
      "Validation F1 in epoch290 : 0.8250\n",
      "Validation loss in epoch290 : 7922.1416\n"
     ]
    },
    {
     "name": "stderr",
     "output_type": "stream",
     "text": [
      "100%|\u001b[32m████████████████████████████████████████████████████████████████████████████████\u001b[0m| 300/300 [01:30<00:00,  3.30it/s]\u001b[0m\n",
      "  0%|\u001b[32m▎                                                                                 \u001b[0m| 1/300 [00:00<01:15,  3.94it/s]\u001b[0m"
     ]
    },
    {
     "name": "stdout",
     "output_type": "stream",
     "text": [
      "Validation F1 in epoch0 : 0.0727\n",
      "Validation loss in epoch0 : 62218.6094\n"
     ]
    },
    {
     "name": "stderr",
     "output_type": "stream",
     "text": [
      "  4%|\u001b[32m██▉                                                                              \u001b[0m| 11/300 [00:03<01:26,  3.33it/s]\u001b[0m"
     ]
    },
    {
     "name": "stdout",
     "output_type": "stream",
     "text": [
      "Validation F1 in epoch10 : 0.0727\n",
      "Validation loss in epoch10 : 62218.6094\n"
     ]
    },
    {
     "name": "stderr",
     "output_type": "stream",
     "text": [
      "  7%|\u001b[32m█████▋                                                                           \u001b[0m| 21/300 [00:06<01:26,  3.24it/s]\u001b[0m"
     ]
    },
    {
     "name": "stdout",
     "output_type": "stream",
     "text": [
      "Validation F1 in epoch20 : 0.5926\n",
      "Validation loss in epoch20 : 21112.7617\n"
     ]
    },
    {
     "name": "stderr",
     "output_type": "stream",
     "text": [
      " 10%|\u001b[32m████████▎                                                                        \u001b[0m| 31/300 [00:09<01:22,  3.26it/s]\u001b[0m"
     ]
    },
    {
     "name": "stdout",
     "output_type": "stream",
     "text": [
      "Validation F1 in epoch30 : 0.6465\n",
      "Validation loss in epoch30 : 16522.3945\n"
     ]
    },
    {
     "name": "stderr",
     "output_type": "stream",
     "text": [
      " 14%|\u001b[32m███████████                                                                      \u001b[0m| 41/300 [00:12<01:19,  3.26it/s]\u001b[0m"
     ]
    },
    {
     "name": "stdout",
     "output_type": "stream",
     "text": [
      "Validation F1 in epoch40 : 0.7461\n",
      "Validation loss in epoch40 : 11617.7812\n"
     ]
    },
    {
     "name": "stderr",
     "output_type": "stream",
     "text": [
      " 17%|\u001b[32m█████████████▊                                                                   \u001b[0m| 51/300 [00:15<01:19,  3.12it/s]\u001b[0m"
     ]
    },
    {
     "name": "stdout",
     "output_type": "stream",
     "text": [
      "Validation F1 in epoch50 : 0.8051\n",
      "Validation loss in epoch50 : 9227.2676\n"
     ]
    },
    {
     "name": "stderr",
     "output_type": "stream",
     "text": [
      " 20%|\u001b[32m████████████████▍                                                                \u001b[0m| 61/300 [00:18<01:15,  3.17it/s]\u001b[0m"
     ]
    },
    {
     "name": "stdout",
     "output_type": "stream",
     "text": [
      "Validation F1 in epoch60 : 0.8294\n",
      "Validation loss in epoch60 : 7810.0557\n"
     ]
    },
    {
     "name": "stderr",
     "output_type": "stream",
     "text": [
      " 24%|\u001b[32m███████████████████▏                                                             \u001b[0m| 71/300 [00:21<01:08,  3.36it/s]\u001b[0m"
     ]
    },
    {
     "name": "stdout",
     "output_type": "stream",
     "text": [
      "Validation F1 in epoch70 : 0.8452\n",
      "Validation loss in epoch70 : 7061.5659\n"
     ]
    },
    {
     "name": "stderr",
     "output_type": "stream",
     "text": [
      " 27%|\u001b[32m█████████████████████▊                                                           \u001b[0m| 81/300 [00:24<01:06,  3.31it/s]\u001b[0m"
     ]
    },
    {
     "name": "stdout",
     "output_type": "stream",
     "text": [
      "Validation F1 in epoch80 : 0.8527\n",
      "Validation loss in epoch80 : 6715.6143\n"
     ]
    },
    {
     "name": "stderr",
     "output_type": "stream",
     "text": [
      " 30%|\u001b[32m████████████████████████▌                                                        \u001b[0m| 91/300 [00:28<01:06,  3.14it/s]\u001b[0m"
     ]
    },
    {
     "name": "stdout",
     "output_type": "stream",
     "text": [
      "Validation F1 in epoch90 : 0.8570\n",
      "Validation loss in epoch90 : 6564.6899\n"
     ]
    },
    {
     "name": "stderr",
     "output_type": "stream",
     "text": [
      " 34%|\u001b[32m██████████████████████████▉                                                     \u001b[0m| 101/300 [00:31<01:01,  3.23it/s]\u001b[0m"
     ]
    },
    {
     "name": "stdout",
     "output_type": "stream",
     "text": [
      "Validation F1 in epoch100 : 0.8587\n",
      "Validation loss in epoch100 : 6501.2695\n"
     ]
    },
    {
     "name": "stderr",
     "output_type": "stream",
     "text": [
      " 37%|\u001b[32m█████████████████████████████▌                                                  \u001b[0m| 111/300 [00:34<00:58,  3.22it/s]\u001b[0m"
     ]
    },
    {
     "name": "stdout",
     "output_type": "stream",
     "text": [
      "Validation F1 in epoch110 : 0.8603\n",
      "Validation loss in epoch110 : 6478.7598\n"
     ]
    },
    {
     "name": "stderr",
     "output_type": "stream",
     "text": [
      " 40%|\u001b[32m████████████████████████████████▎                                               \u001b[0m| 121/300 [00:37<00:58,  3.06it/s]\u001b[0m"
     ]
    },
    {
     "name": "stdout",
     "output_type": "stream",
     "text": [
      "Validation F1 in epoch120 : 0.8624\n",
      "Validation loss in epoch120 : 6504.1494\n"
     ]
    },
    {
     "name": "stderr",
     "output_type": "stream",
     "text": [
      " 44%|\u001b[32m██████████████████████████████████▉                                             \u001b[0m| 131/300 [00:40<00:54,  3.11it/s]\u001b[0m"
     ]
    },
    {
     "name": "stdout",
     "output_type": "stream",
     "text": [
      "Validation F1 in epoch130 : 0.8622\n",
      "Validation loss in epoch130 : 6541.2349\n"
     ]
    },
    {
     "name": "stderr",
     "output_type": "stream",
     "text": [
      " 47%|\u001b[32m█████████████████████████████████████▌                                          \u001b[0m| 141/300 [00:43<00:48,  3.29it/s]\u001b[0m"
     ]
    },
    {
     "name": "stdout",
     "output_type": "stream",
     "text": [
      "Validation F1 in epoch140 : 0.8628\n",
      "Validation loss in epoch140 : 6583.0903\n"
     ]
    },
    {
     "name": "stderr",
     "output_type": "stream",
     "text": [
      " 50%|\u001b[32m████████████████████████████████████████▎                                       \u001b[0m| 151/300 [00:46<00:44,  3.33it/s]\u001b[0m"
     ]
    },
    {
     "name": "stdout",
     "output_type": "stream",
     "text": [
      "Validation F1 in epoch150 : 0.8639\n",
      "Validation loss in epoch150 : 6623.7319\n"
     ]
    },
    {
     "name": "stderr",
     "output_type": "stream",
     "text": [
      " 54%|\u001b[32m██████████████████████████████████████████▉                                     \u001b[0m| 161/300 [00:49<00:42,  3.28it/s]\u001b[0m"
     ]
    },
    {
     "name": "stdout",
     "output_type": "stream",
     "text": [
      "Validation F1 in epoch160 : 0.8633\n",
      "Validation loss in epoch160 : 6662.4692\n"
     ]
    },
    {
     "name": "stderr",
     "output_type": "stream",
     "text": [
      " 57%|\u001b[32m█████████████████████████████████████████████▌                                  \u001b[0m| 171/300 [00:52<00:39,  3.25it/s]\u001b[0m"
     ]
    },
    {
     "name": "stdout",
     "output_type": "stream",
     "text": [
      "Validation F1 in epoch170 : 0.8632\n",
      "Validation loss in epoch170 : 6697.8682\n"
     ]
    },
    {
     "name": "stderr",
     "output_type": "stream",
     "text": [
      " 60%|\u001b[32m████████████████████████████████████████████████▎                               \u001b[0m| 181/300 [00:56<00:36,  3.24it/s]\u001b[0m"
     ]
    },
    {
     "name": "stdout",
     "output_type": "stream",
     "text": [
      "Validation F1 in epoch180 : 0.8629\n",
      "Validation loss in epoch180 : 6729.8340\n"
     ]
    },
    {
     "name": "stderr",
     "output_type": "stream",
     "text": [
      " 64%|\u001b[32m██████████████████████████████████████████████████▉                             \u001b[0m| 191/300 [00:59<00:34,  3.19it/s]\u001b[0m"
     ]
    },
    {
     "name": "stdout",
     "output_type": "stream",
     "text": [
      "Validation F1 in epoch190 : 0.8625\n",
      "Validation loss in epoch190 : 6758.8599\n"
     ]
    },
    {
     "name": "stderr",
     "output_type": "stream",
     "text": [
      " 67%|\u001b[32m█████████████████████████████████████████████████████▌                          \u001b[0m| 201/300 [01:02<00:30,  3.21it/s]\u001b[0m"
     ]
    },
    {
     "name": "stdout",
     "output_type": "stream",
     "text": [
      "Validation F1 in epoch200 : 0.8627\n",
      "Validation loss in epoch200 : 6784.8467\n"
     ]
    },
    {
     "name": "stderr",
     "output_type": "stream",
     "text": [
      " 70%|\u001b[32m████████████████████████████████████████████████████████▎                       \u001b[0m| 211/300 [01:05<00:26,  3.33it/s]\u001b[0m"
     ]
    },
    {
     "name": "stdout",
     "output_type": "stream",
     "text": [
      "Validation F1 in epoch210 : 0.8628\n",
      "Validation loss in epoch210 : 6807.7822\n"
     ]
    },
    {
     "name": "stderr",
     "output_type": "stream",
     "text": [
      " 74%|\u001b[32m██████████████████████████████████████████████████████████▉                     \u001b[0m| 221/300 [01:08<00:23,  3.30it/s]\u001b[0m"
     ]
    },
    {
     "name": "stdout",
     "output_type": "stream",
     "text": [
      "Validation F1 in epoch220 : 0.8626\n",
      "Validation loss in epoch220 : 6827.7910\n"
     ]
    },
    {
     "name": "stderr",
     "output_type": "stream",
     "text": [
      " 77%|\u001b[32m█████████████████████████████████████████████████████████████▌                  \u001b[0m| 231/300 [01:11<00:20,  3.29it/s]\u001b[0m"
     ]
    },
    {
     "name": "stdout",
     "output_type": "stream",
     "text": [
      "Validation F1 in epoch230 : 0.8626\n",
      "Validation loss in epoch230 : 6845.3408\n"
     ]
    },
    {
     "name": "stderr",
     "output_type": "stream",
     "text": [
      " 80%|\u001b[32m████████████████████████████████████████████████████████████████▎               \u001b[0m| 241/300 [01:14<00:18,  3.23it/s]\u001b[0m"
     ]
    },
    {
     "name": "stdout",
     "output_type": "stream",
     "text": [
      "Validation F1 in epoch240 : 0.8627\n",
      "Validation loss in epoch240 : 6860.5547\n"
     ]
    },
    {
     "name": "stderr",
     "output_type": "stream",
     "text": [
      " 84%|\u001b[32m██████████████████████████████████████████████████████████████████▉             \u001b[0m| 251/300 [01:17<00:15,  3.22it/s]\u001b[0m"
     ]
    },
    {
     "name": "stdout",
     "output_type": "stream",
     "text": [
      "Validation F1 in epoch250 : 0.8625\n",
      "Validation loss in epoch250 : 6873.9707\n"
     ]
    },
    {
     "name": "stderr",
     "output_type": "stream",
     "text": [
      " 87%|\u001b[32m█████████████████████████████████████████████████████████████████████▌          \u001b[0m| 261/300 [01:20<00:12,  3.15it/s]\u001b[0m"
     ]
    },
    {
     "name": "stdout",
     "output_type": "stream",
     "text": [
      "Validation F1 in epoch260 : 0.8626\n",
      "Validation loss in epoch260 : 6885.7461\n"
     ]
    },
    {
     "name": "stderr",
     "output_type": "stream",
     "text": [
      " 90%|\u001b[32m████████████████████████████████████████████████████████████████████████▎       \u001b[0m| 271/300 [01:23<00:09,  3.21it/s]\u001b[0m"
     ]
    },
    {
     "name": "stdout",
     "output_type": "stream",
     "text": [
      "Validation F1 in epoch270 : 0.8628\n",
      "Validation loss in epoch270 : 6896.2764\n"
     ]
    },
    {
     "name": "stderr",
     "output_type": "stream",
     "text": [
      " 94%|\u001b[32m██████████████████████████████████████████████████████████████████████████▉     \u001b[0m| 281/300 [01:26<00:05,  3.30it/s]\u001b[0m"
     ]
    },
    {
     "name": "stdout",
     "output_type": "stream",
     "text": [
      "Validation F1 in epoch280 : 0.8625\n",
      "Validation loss in epoch280 : 6905.4688\n"
     ]
    },
    {
     "name": "stderr",
     "output_type": "stream",
     "text": [
      " 97%|\u001b[32m█████████████████████████████████████████████████████████████████████████████▌  \u001b[0m| 291/300 [01:29<00:02,  3.30it/s]\u001b[0m"
     ]
    },
    {
     "name": "stdout",
     "output_type": "stream",
     "text": [
      "Validation F1 in epoch290 : 0.8628\n",
      "Validation loss in epoch290 : 6913.5303\n"
     ]
    },
    {
     "name": "stderr",
     "output_type": "stream",
     "text": [
      "100%|\u001b[32m████████████████████████████████████████████████████████████████████████████████\u001b[0m| 300/300 [01:32<00:00,  3.23it/s]\u001b[0m\n",
      "  0%|\u001b[32m▎                                                                                 \u001b[0m| 1/300 [00:00<01:40,  2.97it/s]\u001b[0m"
     ]
    },
    {
     "name": "stdout",
     "output_type": "stream",
     "text": [
      "Validation F1 in epoch0 : 0.1326\n",
      "Validation loss in epoch0 : 63712.4141\n"
     ]
    },
    {
     "name": "stderr",
     "output_type": "stream",
     "text": [
      "  4%|\u001b[32m██▉                                                                              \u001b[0m| 11/300 [00:03<01:25,  3.38it/s]\u001b[0m"
     ]
    },
    {
     "name": "stdout",
     "output_type": "stream",
     "text": [
      "Validation F1 in epoch10 : 0.1299\n",
      "Validation loss in epoch10 : 63725.8828\n"
     ]
    },
    {
     "name": "stderr",
     "output_type": "stream",
     "text": [
      "  7%|\u001b[32m█████▋                                                                           \u001b[0m| 21/300 [00:06<01:21,  3.42it/s]\u001b[0m"
     ]
    },
    {
     "name": "stdout",
     "output_type": "stream",
     "text": [
      "Validation F1 in epoch20 : 0.6024\n",
      "Validation loss in epoch20 : 18879.6758\n"
     ]
    },
    {
     "name": "stderr",
     "output_type": "stream",
     "text": [
      " 10%|\u001b[32m████████▎                                                                        \u001b[0m| 31/300 [00:09<01:22,  3.26it/s]\u001b[0m"
     ]
    },
    {
     "name": "stdout",
     "output_type": "stream",
     "text": [
      "Validation F1 in epoch30 : 0.7318\n",
      "Validation loss in epoch30 : 12039.8711\n"
     ]
    },
    {
     "name": "stderr",
     "output_type": "stream",
     "text": [
      " 14%|\u001b[32m███████████                                                                      \u001b[0m| 41/300 [00:12<01:16,  3.37it/s]\u001b[0m"
     ]
    },
    {
     "name": "stdout",
     "output_type": "stream",
     "text": [
      "Validation F1 in epoch40 : 0.7709\n",
      "Validation loss in epoch40 : 9037.8965\n"
     ]
    },
    {
     "name": "stderr",
     "output_type": "stream",
     "text": [
      " 17%|\u001b[32m█████████████▊                                                                   \u001b[0m| 51/300 [00:15<01:14,  3.34it/s]\u001b[0m"
     ]
    },
    {
     "name": "stdout",
     "output_type": "stream",
     "text": [
      "Validation F1 in epoch50 : 0.8128\n",
      "Validation loss in epoch50 : 7719.0923\n"
     ]
    },
    {
     "name": "stderr",
     "output_type": "stream",
     "text": [
      " 20%|\u001b[32m████████████████▍                                                                \u001b[0m| 61/300 [00:18<01:13,  3.27it/s]\u001b[0m"
     ]
    },
    {
     "name": "stdout",
     "output_type": "stream",
     "text": [
      "Validation F1 in epoch60 : 0.8270\n",
      "Validation loss in epoch60 : 7190.0576\n"
     ]
    },
    {
     "name": "stderr",
     "output_type": "stream",
     "text": [
      " 24%|\u001b[32m███████████████████▏                                                             \u001b[0m| 71/300 [00:21<01:10,  3.27it/s]\u001b[0m"
     ]
    },
    {
     "name": "stdout",
     "output_type": "stream",
     "text": [
      "Validation F1 in epoch70 : 0.8375\n",
      "Validation loss in epoch70 : 6889.0078\n"
     ]
    },
    {
     "name": "stderr",
     "output_type": "stream",
     "text": [
      " 27%|\u001b[32m█████████████████████▊                                                           \u001b[0m| 81/300 [00:24<01:06,  3.29it/s]\u001b[0m"
     ]
    },
    {
     "name": "stdout",
     "output_type": "stream",
     "text": [
      "Validation F1 in epoch80 : 0.8422\n",
      "Validation loss in epoch80 : 6725.8340\n"
     ]
    },
    {
     "name": "stderr",
     "output_type": "stream",
     "text": [
      " 30%|\u001b[32m████████████████████████▌                                                        \u001b[0m| 91/300 [00:27<01:03,  3.29it/s]\u001b[0m"
     ]
    },
    {
     "name": "stdout",
     "output_type": "stream",
     "text": [
      "Validation F1 in epoch90 : 0.8424\n",
      "Validation loss in epoch90 : 6659.5400\n"
     ]
    },
    {
     "name": "stderr",
     "output_type": "stream",
     "text": [
      " 34%|\u001b[32m██████████████████████████▉                                                     \u001b[0m| 101/300 [00:30<01:04,  3.09it/s]\u001b[0m"
     ]
    },
    {
     "name": "stdout",
     "output_type": "stream",
     "text": [
      "Validation F1 in epoch100 : 0.8460\n",
      "Validation loss in epoch100 : 6582.5205\n"
     ]
    },
    {
     "name": "stderr",
     "output_type": "stream",
     "text": [
      " 37%|\u001b[32m█████████████████████████████▌                                                  \u001b[0m| 111/300 [00:33<00:57,  3.29it/s]\u001b[0m"
     ]
    },
    {
     "name": "stdout",
     "output_type": "stream",
     "text": [
      "Validation F1 in epoch110 : 0.8457\n",
      "Validation loss in epoch110 : 6527.0669\n"
     ]
    },
    {
     "name": "stderr",
     "output_type": "stream",
     "text": [
      " 40%|\u001b[32m████████████████████████████████▎                                               \u001b[0m| 121/300 [00:36<00:49,  3.59it/s]\u001b[0m"
     ]
    },
    {
     "name": "stdout",
     "output_type": "stream",
     "text": [
      "Validation F1 in epoch120 : 0.8469\n",
      "Validation loss in epoch120 : 6481.4971\n"
     ]
    },
    {
     "name": "stderr",
     "output_type": "stream",
     "text": [
      " 44%|\u001b[32m██████████████████████████████████▉                                             \u001b[0m| 131/300 [00:39<00:53,  3.19it/s]\u001b[0m"
     ]
    },
    {
     "name": "stdout",
     "output_type": "stream",
     "text": [
      "Validation F1 in epoch130 : 0.8502\n",
      "Validation loss in epoch130 : 6493.6045\n"
     ]
    },
    {
     "name": "stderr",
     "output_type": "stream",
     "text": [
      " 47%|\u001b[32m█████████████████████████████████████▌                                          \u001b[0m| 141/300 [00:42<00:47,  3.38it/s]\u001b[0m"
     ]
    },
    {
     "name": "stdout",
     "output_type": "stream",
     "text": [
      "Validation F1 in epoch140 : 0.8495\n",
      "Validation loss in epoch140 : 6425.6465\n"
     ]
    },
    {
     "name": "stderr",
     "output_type": "stream",
     "text": [
      " 50%|\u001b[32m████████████████████████████████████████▎                                       \u001b[0m| 151/300 [00:45<00:43,  3.41it/s]\u001b[0m"
     ]
    },
    {
     "name": "stdout",
     "output_type": "stream",
     "text": [
      "Validation F1 in epoch150 : 0.8503\n",
      "Validation loss in epoch150 : 6408.2773\n"
     ]
    },
    {
     "name": "stderr",
     "output_type": "stream",
     "text": [
      " 54%|\u001b[32m██████████████████████████████████████████▉                                     \u001b[0m| 161/300 [00:48<00:40,  3.43it/s]\u001b[0m"
     ]
    },
    {
     "name": "stdout",
     "output_type": "stream",
     "text": [
      "Validation F1 in epoch160 : 0.8520\n",
      "Validation loss in epoch160 : 6340.6709\n"
     ]
    },
    {
     "name": "stderr",
     "output_type": "stream",
     "text": [
      " 57%|\u001b[32m█████████████████████████████████████████████▌                                  \u001b[0m| 171/300 [00:51<00:41,  3.08it/s]\u001b[0m"
     ]
    },
    {
     "name": "stdout",
     "output_type": "stream",
     "text": [
      "Validation F1 in epoch170 : 0.8507\n",
      "Validation loss in epoch170 : 6397.9990\n"
     ]
    },
    {
     "name": "stderr",
     "output_type": "stream",
     "text": [
      " 60%|\u001b[32m████████████████████████████████████████████████▎                               \u001b[0m| 181/300 [00:54<00:38,  3.11it/s]\u001b[0m"
     ]
    },
    {
     "name": "stdout",
     "output_type": "stream",
     "text": [
      "Validation F1 in epoch180 : 0.8536\n",
      "Validation loss in epoch180 : 6355.7476\n"
     ]
    },
    {
     "name": "stderr",
     "output_type": "stream",
     "text": [
      " 64%|\u001b[32m██████████████████████████████████████████████████▉                             \u001b[0m| 191/300 [00:57<00:35,  3.03it/s]\u001b[0m"
     ]
    },
    {
     "name": "stdout",
     "output_type": "stream",
     "text": [
      "Validation F1 in epoch190 : 0.8523\n",
      "Validation loss in epoch190 : 6367.2217\n"
     ]
    },
    {
     "name": "stderr",
     "output_type": "stream",
     "text": [
      " 67%|\u001b[32m█████████████████████████████████████████████████████▌                          \u001b[0m| 201/300 [01:00<00:29,  3.40it/s]\u001b[0m"
     ]
    },
    {
     "name": "stdout",
     "output_type": "stream",
     "text": [
      "Validation F1 in epoch200 : 0.8516\n",
      "Validation loss in epoch200 : 6360.7241\n"
     ]
    },
    {
     "name": "stderr",
     "output_type": "stream",
     "text": [
      " 70%|\u001b[32m████████████████████████████████████████████████████████▎                       \u001b[0m| 211/300 [01:03<00:25,  3.45it/s]\u001b[0m"
     ]
    },
    {
     "name": "stdout",
     "output_type": "stream",
     "text": [
      "Validation F1 in epoch210 : 0.8511\n",
      "Validation loss in epoch210 : 6385.7637\n"
     ]
    },
    {
     "name": "stderr",
     "output_type": "stream",
     "text": [
      " 74%|\u001b[32m██████████████████████████████████████████████████████████▉                     \u001b[0m| 221/300 [01:07<00:23,  3.43it/s]\u001b[0m"
     ]
    },
    {
     "name": "stdout",
     "output_type": "stream",
     "text": [
      "Validation F1 in epoch220 : 0.8550\n",
      "Validation loss in epoch220 : 6330.1387\n"
     ]
    },
    {
     "name": "stderr",
     "output_type": "stream",
     "text": [
      " 77%|\u001b[32m█████████████████████████████████████████████████████████████▌                  \u001b[0m| 231/300 [01:10<00:20,  3.37it/s]\u001b[0m"
     ]
    },
    {
     "name": "stdout",
     "output_type": "stream",
     "text": [
      "Validation F1 in epoch230 : 0.8540\n",
      "Validation loss in epoch230 : 6389.7290\n"
     ]
    },
    {
     "name": "stderr",
     "output_type": "stream",
     "text": [
      " 80%|\u001b[32m████████████████████████████████████████████████████████████████▎               \u001b[0m| 241/300 [01:13<00:20,  2.90it/s]\u001b[0m"
     ]
    },
    {
     "name": "stdout",
     "output_type": "stream",
     "text": [
      "Validation F1 in epoch240 : 0.8552\n",
      "Validation loss in epoch240 : 6372.9424\n"
     ]
    },
    {
     "name": "stderr",
     "output_type": "stream",
     "text": [
      " 84%|\u001b[32m██████████████████████████████████████████████████████████████████▉             \u001b[0m| 251/300 [01:16<00:15,  3.23it/s]\u001b[0m"
     ]
    },
    {
     "name": "stdout",
     "output_type": "stream",
     "text": [
      "Validation F1 in epoch250 : 0.8543\n",
      "Validation loss in epoch250 : 6381.8037\n"
     ]
    },
    {
     "name": "stderr",
     "output_type": "stream",
     "text": [
      " 87%|\u001b[32m█████████████████████████████████████████████████████████████████████▌          \u001b[0m| 261/300 [01:19<00:11,  3.50it/s]\u001b[0m"
     ]
    },
    {
     "name": "stdout",
     "output_type": "stream",
     "text": [
      "Validation F1 in epoch260 : 0.8514\n",
      "Validation loss in epoch260 : 6471.0049\n"
     ]
    },
    {
     "name": "stderr",
     "output_type": "stream",
     "text": [
      " 90%|\u001b[32m████████████████████████████████████████████████████████████████████████▎       \u001b[0m| 271/300 [01:22<00:08,  3.40it/s]\u001b[0m"
     ]
    },
    {
     "name": "stdout",
     "output_type": "stream",
     "text": [
      "Validation F1 in epoch270 : 0.8525\n",
      "Validation loss in epoch270 : 6419.6543\n"
     ]
    },
    {
     "name": "stderr",
     "output_type": "stream",
     "text": [
      " 94%|\u001b[32m██████████████████████████████████████████████████████████████████████████▉     \u001b[0m| 281/300 [01:25<00:05,  3.49it/s]\u001b[0m"
     ]
    },
    {
     "name": "stdout",
     "output_type": "stream",
     "text": [
      "Validation F1 in epoch280 : 0.8541\n",
      "Validation loss in epoch280 : 6496.7793\n"
     ]
    },
    {
     "name": "stderr",
     "output_type": "stream",
     "text": [
      " 97%|\u001b[32m█████████████████████████████████████████████████████████████████████████████▌  \u001b[0m| 291/300 [01:28<00:02,  3.34it/s]\u001b[0m"
     ]
    },
    {
     "name": "stdout",
     "output_type": "stream",
     "text": [
      "Validation F1 in epoch290 : 0.8498\n",
      "Validation loss in epoch290 : 6579.6973\n"
     ]
    },
    {
     "name": "stderr",
     "output_type": "stream",
     "text": [
      "100%|\u001b[32m████████████████████████████████████████████████████████████████████████████████\u001b[0m| 300/300 [01:31<00:00,  3.29it/s]\u001b[0m\n",
      "  0%|\u001b[32m▎                                                                                 \u001b[0m| 1/300 [00:00<01:38,  3.03it/s]\u001b[0m"
     ]
    },
    {
     "name": "stdout",
     "output_type": "stream",
     "text": [
      "Validation F1 in epoch0 : 0.1423\n",
      "Validation loss in epoch0 : 62310.3945\n"
     ]
    },
    {
     "name": "stderr",
     "output_type": "stream",
     "text": [
      "  4%|\u001b[32m██▉                                                                              \u001b[0m| 11/300 [00:03<01:31,  3.15it/s]\u001b[0m"
     ]
    },
    {
     "name": "stdout",
     "output_type": "stream",
     "text": [
      "Validation F1 in epoch10 : 0.1433\n",
      "Validation loss in epoch10 : 62319.6797\n"
     ]
    },
    {
     "name": "stderr",
     "output_type": "stream",
     "text": [
      "  7%|\u001b[32m█████▋                                                                           \u001b[0m| 21/300 [00:06<01:24,  3.29it/s]\u001b[0m"
     ]
    },
    {
     "name": "stdout",
     "output_type": "stream",
     "text": [
      "Validation F1 in epoch20 : 0.5934\n",
      "Validation loss in epoch20 : 18050.3184\n"
     ]
    },
    {
     "name": "stderr",
     "output_type": "stream",
     "text": [
      " 10%|\u001b[32m████████▎                                                                        \u001b[0m| 31/300 [00:09<01:16,  3.49it/s]\u001b[0m"
     ]
    },
    {
     "name": "stdout",
     "output_type": "stream",
     "text": [
      "Validation F1 in epoch30 : 0.6790\n",
      "Validation loss in epoch30 : 12479.2305\n"
     ]
    },
    {
     "name": "stderr",
     "output_type": "stream",
     "text": [
      " 14%|\u001b[32m███████████                                                                      \u001b[0m| 41/300 [00:12<01:15,  3.43it/s]\u001b[0m"
     ]
    },
    {
     "name": "stdout",
     "output_type": "stream",
     "text": [
      "Validation F1 in epoch40 : 0.7769\n",
      "Validation loss in epoch40 : 10080.7188\n"
     ]
    },
    {
     "name": "stderr",
     "output_type": "stream",
     "text": [
      " 17%|\u001b[32m█████████████▊                                                                   \u001b[0m| 51/300 [00:15<01:11,  3.49it/s]\u001b[0m"
     ]
    },
    {
     "name": "stdout",
     "output_type": "stream",
     "text": [
      "Validation F1 in epoch50 : 0.7949\n",
      "Validation loss in epoch50 : 8957.2998\n"
     ]
    },
    {
     "name": "stderr",
     "output_type": "stream",
     "text": [
      " 20%|\u001b[32m████████████████▍                                                                \u001b[0m| 61/300 [00:18<01:09,  3.44it/s]\u001b[0m"
     ]
    },
    {
     "name": "stdout",
     "output_type": "stream",
     "text": [
      "Validation F1 in epoch60 : 0.8105\n",
      "Validation loss in epoch60 : 8534.4834\n"
     ]
    },
    {
     "name": "stderr",
     "output_type": "stream",
     "text": [
      " 24%|\u001b[32m███████████████████▏                                                             \u001b[0m| 71/300 [00:21<01:07,  3.37it/s]\u001b[0m"
     ]
    },
    {
     "name": "stdout",
     "output_type": "stream",
     "text": [
      "Validation F1 in epoch70 : 0.8177\n",
      "Validation loss in epoch70 : 8308.7305\n"
     ]
    },
    {
     "name": "stderr",
     "output_type": "stream",
     "text": [
      " 27%|\u001b[32m█████████████████████▊                                                           \u001b[0m| 81/300 [00:24<01:05,  3.36it/s]\u001b[0m"
     ]
    },
    {
     "name": "stdout",
     "output_type": "stream",
     "text": [
      "Validation F1 in epoch80 : 0.8191\n",
      "Validation loss in epoch80 : 8169.7627\n"
     ]
    },
    {
     "name": "stderr",
     "output_type": "stream",
     "text": [
      " 30%|\u001b[32m████████████████████████▌                                                        \u001b[0m| 91/300 [00:27<01:03,  3.27it/s]\u001b[0m"
     ]
    },
    {
     "name": "stdout",
     "output_type": "stream",
     "text": [
      "Validation F1 in epoch90 : 0.8225\n",
      "Validation loss in epoch90 : 8073.4873\n"
     ]
    },
    {
     "name": "stderr",
     "output_type": "stream",
     "text": [
      " 34%|\u001b[32m██████████████████████████▉                                                     \u001b[0m| 101/300 [00:30<00:55,  3.56it/s]\u001b[0m"
     ]
    },
    {
     "name": "stdout",
     "output_type": "stream",
     "text": [
      "Validation F1 in epoch100 : 0.8223\n",
      "Validation loss in epoch100 : 8040.0303\n"
     ]
    },
    {
     "name": "stderr",
     "output_type": "stream",
     "text": [
      " 37%|\u001b[32m█████████████████████████████▌                                                  \u001b[0m| 111/300 [00:33<00:57,  3.31it/s]\u001b[0m"
     ]
    },
    {
     "name": "stdout",
     "output_type": "stream",
     "text": [
      "Validation F1 in epoch110 : 0.8229\n",
      "Validation loss in epoch110 : 7991.0898\n"
     ]
    },
    {
     "name": "stderr",
     "output_type": "stream",
     "text": [
      " 40%|\u001b[32m████████████████████████████████▎                                               \u001b[0m| 121/300 [00:36<00:54,  3.29it/s]\u001b[0m"
     ]
    },
    {
     "name": "stdout",
     "output_type": "stream",
     "text": [
      "Validation F1 in epoch120 : 0.8217\n",
      "Validation loss in epoch120 : 7957.5220\n"
     ]
    },
    {
     "name": "stderr",
     "output_type": "stream",
     "text": [
      " 44%|\u001b[32m██████████████████████████████████▉                                             \u001b[0m| 131/300 [00:39<00:52,  3.23it/s]\u001b[0m"
     ]
    },
    {
     "name": "stdout",
     "output_type": "stream",
     "text": [
      "Validation F1 in epoch130 : 0.8225\n",
      "Validation loss in epoch130 : 7957.1768\n"
     ]
    },
    {
     "name": "stderr",
     "output_type": "stream",
     "text": [
      " 47%|\u001b[32m█████████████████████████████████████▌                                          \u001b[0m| 141/300 [00:42<00:47,  3.36it/s]\u001b[0m"
     ]
    },
    {
     "name": "stdout",
     "output_type": "stream",
     "text": [
      "Validation F1 in epoch140 : 0.8249\n",
      "Validation loss in epoch140 : 7905.3057\n"
     ]
    },
    {
     "name": "stderr",
     "output_type": "stream",
     "text": [
      " 50%|\u001b[32m████████████████████████████████████████▎                                       \u001b[0m| 151/300 [00:46<00:45,  3.24it/s]\u001b[0m"
     ]
    },
    {
     "name": "stdout",
     "output_type": "stream",
     "text": [
      "Validation F1 in epoch150 : 0.8270\n",
      "Validation loss in epoch150 : 7885.7715\n"
     ]
    },
    {
     "name": "stderr",
     "output_type": "stream",
     "text": [
      " 54%|\u001b[32m██████████████████████████████████████████▉                                     \u001b[0m| 161/300 [00:49<00:44,  3.11it/s]\u001b[0m"
     ]
    },
    {
     "name": "stdout",
     "output_type": "stream",
     "text": [
      "Validation F1 in epoch160 : 0.8240\n",
      "Validation loss in epoch160 : 7831.9375\n"
     ]
    },
    {
     "name": "stderr",
     "output_type": "stream",
     "text": [
      " 57%|\u001b[32m█████████████████████████████████████████████▌                                  \u001b[0m| 171/300 [00:51<00:37,  3.49it/s]\u001b[0m"
     ]
    },
    {
     "name": "stdout",
     "output_type": "stream",
     "text": [
      "Validation F1 in epoch170 : 0.8256\n",
      "Validation loss in epoch170 : 7862.5693\n"
     ]
    },
    {
     "name": "stderr",
     "output_type": "stream",
     "text": [
      " 60%|\u001b[32m████████████████████████████████████████████████▎                               \u001b[0m| 181/300 [00:55<00:33,  3.51it/s]\u001b[0m"
     ]
    },
    {
     "name": "stdout",
     "output_type": "stream",
     "text": [
      "Validation F1 in epoch180 : 0.8242\n",
      "Validation loss in epoch180 : 7861.5449\n"
     ]
    },
    {
     "name": "stderr",
     "output_type": "stream",
     "text": [
      " 64%|\u001b[32m██████████████████████████████████████████████████▉                             \u001b[0m| 191/300 [00:58<00:34,  3.20it/s]\u001b[0m"
     ]
    },
    {
     "name": "stdout",
     "output_type": "stream",
     "text": [
      "Validation F1 in epoch190 : 0.8245\n",
      "Validation loss in epoch190 : 7847.6436\n"
     ]
    },
    {
     "name": "stderr",
     "output_type": "stream",
     "text": [
      " 67%|\u001b[32m█████████████████████████████████████████████████████▌                          \u001b[0m| 201/300 [01:01<00:29,  3.30it/s]\u001b[0m"
     ]
    },
    {
     "name": "stdout",
     "output_type": "stream",
     "text": [
      "Validation F1 in epoch200 : 0.8248\n",
      "Validation loss in epoch200 : 7839.8491\n"
     ]
    },
    {
     "name": "stderr",
     "output_type": "stream",
     "text": [
      " 70%|\u001b[32m████████████████████████████████████████████████████████▎                       \u001b[0m| 211/300 [01:04<00:25,  3.44it/s]\u001b[0m"
     ]
    },
    {
     "name": "stdout",
     "output_type": "stream",
     "text": [
      "Validation F1 in epoch210 : 0.8237\n",
      "Validation loss in epoch210 : 7854.9165\n"
     ]
    },
    {
     "name": "stderr",
     "output_type": "stream",
     "text": [
      " 74%|\u001b[32m██████████████████████████████████████████████████████████▉                     \u001b[0m| 221/300 [01:07<00:24,  3.17it/s]\u001b[0m"
     ]
    },
    {
     "name": "stdout",
     "output_type": "stream",
     "text": [
      "Validation F1 in epoch220 : 0.8251\n",
      "Validation loss in epoch220 : 7831.2168\n"
     ]
    },
    {
     "name": "stderr",
     "output_type": "stream",
     "text": [
      " 77%|\u001b[32m█████████████████████████████████████████████████████████████▌                  \u001b[0m| 231/300 [01:10<00:20,  3.34it/s]\u001b[0m"
     ]
    },
    {
     "name": "stdout",
     "output_type": "stream",
     "text": [
      "Validation F1 in epoch230 : 0.8262\n",
      "Validation loss in epoch230 : 7853.2686\n"
     ]
    },
    {
     "name": "stderr",
     "output_type": "stream",
     "text": [
      " 80%|\u001b[32m████████████████████████████████████████████████████████████████▎               \u001b[0m| 241/300 [01:13<00:16,  3.57it/s]\u001b[0m"
     ]
    },
    {
     "name": "stdout",
     "output_type": "stream",
     "text": [
      "Validation F1 in epoch240 : 0.8258\n",
      "Validation loss in epoch240 : 7879.5093\n"
     ]
    },
    {
     "name": "stderr",
     "output_type": "stream",
     "text": [
      " 84%|\u001b[32m██████████████████████████████████████████████████████████████████▉             \u001b[0m| 251/300 [01:16<00:14,  3.48it/s]\u001b[0m"
     ]
    },
    {
     "name": "stdout",
     "output_type": "stream",
     "text": [
      "Validation F1 in epoch250 : 0.8256\n",
      "Validation loss in epoch250 : 7862.7036\n"
     ]
    },
    {
     "name": "stderr",
     "output_type": "stream",
     "text": [
      " 87%|\u001b[32m█████████████████████████████████████████████████████████████████████▌          \u001b[0m| 261/300 [01:19<00:11,  3.33it/s]\u001b[0m"
     ]
    },
    {
     "name": "stdout",
     "output_type": "stream",
     "text": [
      "Validation F1 in epoch260 : 0.8243\n",
      "Validation loss in epoch260 : 7858.7529\n"
     ]
    },
    {
     "name": "stderr",
     "output_type": "stream",
     "text": [
      " 90%|\u001b[32m████████████████████████████████████████████████████████████████████████▎       \u001b[0m| 271/300 [01:22<00:09,  3.15it/s]\u001b[0m"
     ]
    },
    {
     "name": "stdout",
     "output_type": "stream",
     "text": [
      "Validation F1 in epoch270 : 0.8247\n",
      "Validation loss in epoch270 : 7943.1123\n"
     ]
    },
    {
     "name": "stderr",
     "output_type": "stream",
     "text": [
      " 94%|\u001b[32m██████████████████████████████████████████████████████████████████████████▉     \u001b[0m| 281/300 [01:25<00:05,  3.38it/s]\u001b[0m"
     ]
    },
    {
     "name": "stdout",
     "output_type": "stream",
     "text": [
      "Validation F1 in epoch280 : 0.8235\n",
      "Validation loss in epoch280 : 7944.9478\n"
     ]
    },
    {
     "name": "stderr",
     "output_type": "stream",
     "text": [
      " 97%|\u001b[32m█████████████████████████████████████████████████████████████████████████████▌  \u001b[0m| 291/300 [01:28<00:02,  3.37it/s]\u001b[0m"
     ]
    },
    {
     "name": "stdout",
     "output_type": "stream",
     "text": [
      "Validation F1 in epoch290 : 0.8250\n",
      "Validation loss in epoch290 : 7922.1416\n"
     ]
    },
    {
     "name": "stderr",
     "output_type": "stream",
     "text": [
      "100%|\u001b[32m████████████████████████████████████████████████████████████████████████████████\u001b[0m| 300/300 [01:31<00:00,  3.29it/s]\u001b[0m\n",
      "  0%|\u001b[32m▎                                                                                 \u001b[0m| 1/300 [00:00<01:30,  3.29it/s]\u001b[0m"
     ]
    },
    {
     "name": "stdout",
     "output_type": "stream",
     "text": [
      "Validation F1 in epoch0 : 0.0727\n",
      "Validation loss in epoch0 : 62218.6094\n"
     ]
    },
    {
     "name": "stderr",
     "output_type": "stream",
     "text": [
      "  4%|\u001b[32m██▉                                                                              \u001b[0m| 11/300 [00:03<01:25,  3.37it/s]\u001b[0m"
     ]
    },
    {
     "name": "stdout",
     "output_type": "stream",
     "text": [
      "Validation F1 in epoch10 : 0.0727\n",
      "Validation loss in epoch10 : 62218.6094\n"
     ]
    },
    {
     "name": "stderr",
     "output_type": "stream",
     "text": [
      "  7%|\u001b[32m█████▋                                                                           \u001b[0m| 21/300 [00:06<01:24,  3.29it/s]\u001b[0m"
     ]
    },
    {
     "name": "stdout",
     "output_type": "stream",
     "text": [
      "Validation F1 in epoch20 : 0.5926\n",
      "Validation loss in epoch20 : 21112.7617\n"
     ]
    },
    {
     "name": "stderr",
     "output_type": "stream",
     "text": [
      " 10%|\u001b[32m████████▎                                                                        \u001b[0m| 31/300 [00:09<01:21,  3.29it/s]\u001b[0m"
     ]
    },
    {
     "name": "stdout",
     "output_type": "stream",
     "text": [
      "Validation F1 in epoch30 : 0.6465\n",
      "Validation loss in epoch30 : 16522.3945\n"
     ]
    },
    {
     "name": "stderr",
     "output_type": "stream",
     "text": [
      " 14%|\u001b[32m███████████                                                                      \u001b[0m| 41/300 [00:12<01:23,  3.10it/s]\u001b[0m"
     ]
    },
    {
     "name": "stdout",
     "output_type": "stream",
     "text": [
      "Validation F1 in epoch40 : 0.7461\n",
      "Validation loss in epoch40 : 11617.7812\n"
     ]
    },
    {
     "name": "stderr",
     "output_type": "stream",
     "text": [
      " 17%|\u001b[32m█████████████▊                                                                   \u001b[0m| 51/300 [00:15<01:17,  3.21it/s]\u001b[0m"
     ]
    },
    {
     "name": "stdout",
     "output_type": "stream",
     "text": [
      "Validation F1 in epoch50 : 0.8051\n",
      "Validation loss in epoch50 : 9227.2676\n"
     ]
    },
    {
     "name": "stderr",
     "output_type": "stream",
     "text": [
      " 20%|\u001b[32m████████████████▍                                                                \u001b[0m| 61/300 [00:18<01:15,  3.17it/s]\u001b[0m"
     ]
    },
    {
     "name": "stdout",
     "output_type": "stream",
     "text": [
      "Validation F1 in epoch60 : 0.8294\n",
      "Validation loss in epoch60 : 7810.0557\n"
     ]
    },
    {
     "name": "stderr",
     "output_type": "stream",
     "text": [
      " 24%|\u001b[32m███████████████████▏                                                             \u001b[0m| 71/300 [00:21<01:11,  3.18it/s]\u001b[0m"
     ]
    },
    {
     "name": "stdout",
     "output_type": "stream",
     "text": [
      "Validation F1 in epoch70 : 0.8452\n",
      "Validation loss in epoch70 : 7061.5659\n"
     ]
    },
    {
     "name": "stderr",
     "output_type": "stream",
     "text": [
      " 27%|\u001b[32m█████████████████████▊                                                           \u001b[0m| 81/300 [00:24<01:06,  3.30it/s]\u001b[0m"
     ]
    },
    {
     "name": "stdout",
     "output_type": "stream",
     "text": [
      "Validation F1 in epoch80 : 0.8527\n",
      "Validation loss in epoch80 : 6715.6143\n"
     ]
    },
    {
     "name": "stderr",
     "output_type": "stream",
     "text": [
      " 30%|\u001b[32m████████████████████████▌                                                        \u001b[0m| 91/300 [00:28<01:03,  3.27it/s]\u001b[0m"
     ]
    },
    {
     "name": "stdout",
     "output_type": "stream",
     "text": [
      "Validation F1 in epoch90 : 0.8570\n",
      "Validation loss in epoch90 : 6564.6899\n"
     ]
    },
    {
     "name": "stderr",
     "output_type": "stream",
     "text": [
      " 34%|\u001b[32m██████████████████████████▉                                                     \u001b[0m| 101/300 [00:31<01:03,  3.13it/s]\u001b[0m"
     ]
    },
    {
     "name": "stdout",
     "output_type": "stream",
     "text": [
      "Validation F1 in epoch100 : 0.8587\n",
      "Validation loss in epoch100 : 6501.2695\n"
     ]
    },
    {
     "name": "stderr",
     "output_type": "stream",
     "text": [
      " 37%|\u001b[32m█████████████████████████████▌                                                  \u001b[0m| 111/300 [00:34<00:58,  3.22it/s]\u001b[0m"
     ]
    },
    {
     "name": "stdout",
     "output_type": "stream",
     "text": [
      "Validation F1 in epoch110 : 0.8603\n",
      "Validation loss in epoch110 : 6478.7598\n"
     ]
    },
    {
     "name": "stderr",
     "output_type": "stream",
     "text": [
      " 40%|\u001b[32m████████████████████████████████▎                                               \u001b[0m| 121/300 [00:37<00:55,  3.22it/s]\u001b[0m"
     ]
    },
    {
     "name": "stdout",
     "output_type": "stream",
     "text": [
      "Validation F1 in epoch120 : 0.8624\n",
      "Validation loss in epoch120 : 6504.1494\n"
     ]
    },
    {
     "name": "stderr",
     "output_type": "stream",
     "text": [
      " 44%|\u001b[32m██████████████████████████████████▉                                             \u001b[0m| 131/300 [00:40<00:53,  3.16it/s]\u001b[0m"
     ]
    },
    {
     "name": "stdout",
     "output_type": "stream",
     "text": [
      "Validation F1 in epoch130 : 0.8622\n",
      "Validation loss in epoch130 : 6541.2349\n"
     ]
    },
    {
     "name": "stderr",
     "output_type": "stream",
     "text": [
      " 47%|\u001b[32m█████████████████████████████████████▌                                          \u001b[0m| 141/300 [00:43<00:49,  3.18it/s]\u001b[0m"
     ]
    },
    {
     "name": "stdout",
     "output_type": "stream",
     "text": [
      "Validation F1 in epoch140 : 0.8628\n",
      "Validation loss in epoch140 : 6583.0903\n"
     ]
    },
    {
     "name": "stderr",
     "output_type": "stream",
     "text": [
      " 50%|\u001b[32m████████████████████████████████████████▎                                       \u001b[0m| 151/300 [00:46<00:44,  3.39it/s]\u001b[0m"
     ]
    },
    {
     "name": "stdout",
     "output_type": "stream",
     "text": [
      "Validation F1 in epoch150 : 0.8639\n",
      "Validation loss in epoch150 : 6623.7319\n"
     ]
    },
    {
     "name": "stderr",
     "output_type": "stream",
     "text": [
      " 54%|\u001b[32m██████████████████████████████████████████▉                                     \u001b[0m| 161/300 [00:49<00:41,  3.31it/s]\u001b[0m"
     ]
    },
    {
     "name": "stdout",
     "output_type": "stream",
     "text": [
      "Validation F1 in epoch160 : 0.8633\n",
      "Validation loss in epoch160 : 6662.4692\n"
     ]
    },
    {
     "name": "stderr",
     "output_type": "stream",
     "text": [
      " 57%|\u001b[32m█████████████████████████████████████████████▌                                  \u001b[0m| 171/300 [00:52<00:40,  3.15it/s]\u001b[0m"
     ]
    },
    {
     "name": "stdout",
     "output_type": "stream",
     "text": [
      "Validation F1 in epoch170 : 0.8632\n",
      "Validation loss in epoch170 : 6697.8682\n"
     ]
    },
    {
     "name": "stderr",
     "output_type": "stream",
     "text": [
      " 60%|\u001b[32m████████████████████████████████████████████████▎                               \u001b[0m| 181/300 [00:55<00:36,  3.25it/s]\u001b[0m"
     ]
    },
    {
     "name": "stdout",
     "output_type": "stream",
     "text": [
      "Validation F1 in epoch180 : 0.8629\n",
      "Validation loss in epoch180 : 6729.8340\n"
     ]
    },
    {
     "name": "stderr",
     "output_type": "stream",
     "text": [
      " 64%|\u001b[32m██████████████████████████████████████████████████▉                             \u001b[0m| 191/300 [00:58<00:33,  3.26it/s]\u001b[0m"
     ]
    },
    {
     "name": "stdout",
     "output_type": "stream",
     "text": [
      "Validation F1 in epoch190 : 0.8625\n",
      "Validation loss in epoch190 : 6758.8599\n"
     ]
    },
    {
     "name": "stderr",
     "output_type": "stream",
     "text": [
      " 67%|\u001b[32m█████████████████████████████████████████████████████▌                          \u001b[0m| 201/300 [01:02<00:31,  3.11it/s]\u001b[0m"
     ]
    },
    {
     "name": "stdout",
     "output_type": "stream",
     "text": [
      "Validation F1 in epoch200 : 0.8627\n",
      "Validation loss in epoch200 : 6784.8467\n"
     ]
    },
    {
     "name": "stderr",
     "output_type": "stream",
     "text": [
      " 70%|\u001b[32m████████████████████████████████████████████████████████▎                       \u001b[0m| 211/300 [01:05<00:28,  3.14it/s]\u001b[0m"
     ]
    },
    {
     "name": "stdout",
     "output_type": "stream",
     "text": [
      "Validation F1 in epoch210 : 0.8628\n",
      "Validation loss in epoch210 : 6807.7822\n"
     ]
    },
    {
     "name": "stderr",
     "output_type": "stream",
     "text": [
      " 74%|\u001b[32m██████████████████████████████████████████████████████████▉                     \u001b[0m| 221/300 [01:08<00:23,  3.37it/s]\u001b[0m"
     ]
    },
    {
     "name": "stdout",
     "output_type": "stream",
     "text": [
      "Validation F1 in epoch220 : 0.8626\n",
      "Validation loss in epoch220 : 6827.7910\n"
     ]
    },
    {
     "name": "stderr",
     "output_type": "stream",
     "text": [
      " 77%|\u001b[32m█████████████████████████████████████████████████████████████▌                  \u001b[0m| 231/300 [01:11<00:20,  3.31it/s]\u001b[0m"
     ]
    },
    {
     "name": "stdout",
     "output_type": "stream",
     "text": [
      "Validation F1 in epoch230 : 0.8626\n",
      "Validation loss in epoch230 : 6845.3408\n"
     ]
    },
    {
     "name": "stderr",
     "output_type": "stream",
     "text": [
      " 80%|\u001b[32m████████████████████████████████████████████████████████████████▎               \u001b[0m| 241/300 [01:14<00:17,  3.30it/s]\u001b[0m"
     ]
    },
    {
     "name": "stdout",
     "output_type": "stream",
     "text": [
      "Validation F1 in epoch240 : 0.8627\n",
      "Validation loss in epoch240 : 6860.5547\n"
     ]
    },
    {
     "name": "stderr",
     "output_type": "stream",
     "text": [
      " 84%|\u001b[32m██████████████████████████████████████████████████████████████████▉             \u001b[0m| 251/300 [01:17<00:15,  3.20it/s]\u001b[0m"
     ]
    },
    {
     "name": "stdout",
     "output_type": "stream",
     "text": [
      "Validation F1 in epoch250 : 0.8625\n",
      "Validation loss in epoch250 : 6873.9707\n"
     ]
    },
    {
     "name": "stderr",
     "output_type": "stream",
     "text": [
      " 87%|\u001b[32m█████████████████████████████████████████████████████████████████████▌          \u001b[0m| 261/300 [01:20<00:12,  3.24it/s]\u001b[0m"
     ]
    },
    {
     "name": "stdout",
     "output_type": "stream",
     "text": [
      "Validation F1 in epoch260 : 0.8626\n",
      "Validation loss in epoch260 : 6885.7461\n"
     ]
    },
    {
     "name": "stderr",
     "output_type": "stream",
     "text": [
      " 90%|\u001b[32m████████████████████████████████████████████████████████████████████████▎       \u001b[0m| 271/300 [01:23<00:09,  3.19it/s]\u001b[0m"
     ]
    },
    {
     "name": "stdout",
     "output_type": "stream",
     "text": [
      "Validation F1 in epoch270 : 0.8628\n",
      "Validation loss in epoch270 : 6896.2764\n"
     ]
    },
    {
     "name": "stderr",
     "output_type": "stream",
     "text": [
      " 94%|\u001b[32m██████████████████████████████████████████████████████████████████████████▉     \u001b[0m| 281/300 [01:26<00:05,  3.20it/s]\u001b[0m"
     ]
    },
    {
     "name": "stdout",
     "output_type": "stream",
     "text": [
      "Validation F1 in epoch280 : 0.8625\n",
      "Validation loss in epoch280 : 6905.4688\n"
     ]
    },
    {
     "name": "stderr",
     "output_type": "stream",
     "text": [
      " 97%|\u001b[32m█████████████████████████████████████████████████████████████████████████████▌  \u001b[0m| 291/300 [01:29<00:02,  3.36it/s]\u001b[0m"
     ]
    },
    {
     "name": "stdout",
     "output_type": "stream",
     "text": [
      "Validation F1 in epoch290 : 0.8628\n",
      "Validation loss in epoch290 : 6913.5303\n"
     ]
    },
    {
     "name": "stderr",
     "output_type": "stream",
     "text": [
      "100%|\u001b[32m████████████████████████████████████████████████████████████████████████████████\u001b[0m| 300/300 [01:32<00:00,  3.24it/s]\u001b[0m\n",
      "  0%|\u001b[32m▏                                                                                 \u001b[0m| 1/400 [00:00<02:10,  3.07it/s]\u001b[0m"
     ]
    },
    {
     "name": "stdout",
     "output_type": "stream",
     "text": [
      "Validation F1 in epoch0 : 0.1326\n",
      "Validation loss in epoch0 : 63712.4141\n"
     ]
    },
    {
     "name": "stderr",
     "output_type": "stream",
     "text": [
      "  3%|\u001b[32m██▏                                                                              \u001b[0m| 11/400 [00:03<01:52,  3.44it/s]\u001b[0m"
     ]
    },
    {
     "name": "stdout",
     "output_type": "stream",
     "text": [
      "Validation F1 in epoch10 : 0.1299\n",
      "Validation loss in epoch10 : 63725.8828\n"
     ]
    },
    {
     "name": "stderr",
     "output_type": "stream",
     "text": [
      "  5%|\u001b[32m████▎                                                                            \u001b[0m| 21/400 [00:06<01:53,  3.35it/s]\u001b[0m"
     ]
    },
    {
     "name": "stdout",
     "output_type": "stream",
     "text": [
      "Validation F1 in epoch20 : 0.6024\n",
      "Validation loss in epoch20 : 18879.6758\n"
     ]
    },
    {
     "name": "stderr",
     "output_type": "stream",
     "text": [
      "  8%|\u001b[32m██████▎                                                                          \u001b[0m| 31/400 [00:09<01:58,  3.10it/s]\u001b[0m"
     ]
    },
    {
     "name": "stdout",
     "output_type": "stream",
     "text": [
      "Validation F1 in epoch30 : 0.7318\n",
      "Validation loss in epoch30 : 12039.8711\n"
     ]
    },
    {
     "name": "stderr",
     "output_type": "stream",
     "text": [
      " 10%|\u001b[32m████████▎                                                                        \u001b[0m| 41/400 [00:12<01:51,  3.21it/s]\u001b[0m"
     ]
    },
    {
     "name": "stdout",
     "output_type": "stream",
     "text": [
      "Validation F1 in epoch40 : 0.7709\n",
      "Validation loss in epoch40 : 9037.8965\n"
     ]
    },
    {
     "name": "stderr",
     "output_type": "stream",
     "text": [
      " 13%|\u001b[32m██████████▎                                                                      \u001b[0m| 51/400 [00:15<01:53,  3.07it/s]\u001b[0m"
     ]
    },
    {
     "name": "stdout",
     "output_type": "stream",
     "text": [
      "Validation F1 in epoch50 : 0.8128\n",
      "Validation loss in epoch50 : 7719.0923\n"
     ]
    },
    {
     "name": "stderr",
     "output_type": "stream",
     "text": [
      " 15%|\u001b[32m████████████▎                                                                    \u001b[0m| 61/400 [00:18<01:37,  3.48it/s]\u001b[0m"
     ]
    },
    {
     "name": "stdout",
     "output_type": "stream",
     "text": [
      "Validation F1 in epoch60 : 0.8270\n",
      "Validation loss in epoch60 : 7190.0576\n"
     ]
    },
    {
     "name": "stderr",
     "output_type": "stream",
     "text": [
      " 18%|\u001b[32m██████████████▍                                                                  \u001b[0m| 71/400 [00:21<01:34,  3.48it/s]\u001b[0m"
     ]
    },
    {
     "name": "stdout",
     "output_type": "stream",
     "text": [
      "Validation F1 in epoch70 : 0.8375\n",
      "Validation loss in epoch70 : 6889.0078\n"
     ]
    },
    {
     "name": "stderr",
     "output_type": "stream",
     "text": [
      " 20%|\u001b[32m████████████████▍                                                                \u001b[0m| 81/400 [00:24<01:39,  3.20it/s]\u001b[0m"
     ]
    },
    {
     "name": "stdout",
     "output_type": "stream",
     "text": [
      "Validation F1 in epoch80 : 0.8422\n",
      "Validation loss in epoch80 : 6725.8340\n"
     ]
    },
    {
     "name": "stderr",
     "output_type": "stream",
     "text": [
      " 23%|\u001b[32m██████████████████▍                                                              \u001b[0m| 91/400 [00:27<01:33,  3.30it/s]\u001b[0m"
     ]
    },
    {
     "name": "stdout",
     "output_type": "stream",
     "text": [
      "Validation F1 in epoch90 : 0.8424\n",
      "Validation loss in epoch90 : 6659.5400\n"
     ]
    },
    {
     "name": "stderr",
     "output_type": "stream",
     "text": [
      " 25%|\u001b[32m████████████████████▏                                                           \u001b[0m| 101/400 [00:30<01:27,  3.40it/s]\u001b[0m"
     ]
    },
    {
     "name": "stdout",
     "output_type": "stream",
     "text": [
      "Validation F1 in epoch100 : 0.8460\n",
      "Validation loss in epoch100 : 6582.5205\n"
     ]
    },
    {
     "name": "stderr",
     "output_type": "stream",
     "text": [
      " 28%|\u001b[32m██████████████████████▏                                                         \u001b[0m| 111/400 [00:33<01:25,  3.38it/s]\u001b[0m"
     ]
    },
    {
     "name": "stdout",
     "output_type": "stream",
     "text": [
      "Validation F1 in epoch110 : 0.8457\n",
      "Validation loss in epoch110 : 6527.0669\n"
     ]
    },
    {
     "name": "stderr",
     "output_type": "stream",
     "text": [
      " 30%|\u001b[32m████████████████████████▏                                                       \u001b[0m| 121/400 [00:36<01:30,  3.07it/s]\u001b[0m"
     ]
    },
    {
     "name": "stdout",
     "output_type": "stream",
     "text": [
      "Validation F1 in epoch120 : 0.8469\n",
      "Validation loss in epoch120 : 6481.4971\n"
     ]
    },
    {
     "name": "stderr",
     "output_type": "stream",
     "text": [
      " 33%|\u001b[32m██████████████████████████▏                                                     \u001b[0m| 131/400 [00:39<01:18,  3.43it/s]\u001b[0m"
     ]
    },
    {
     "name": "stdout",
     "output_type": "stream",
     "text": [
      "Validation F1 in epoch130 : 0.8502\n",
      "Validation loss in epoch130 : 6493.6045\n"
     ]
    },
    {
     "name": "stderr",
     "output_type": "stream",
     "text": [
      " 35%|\u001b[32m████████████████████████████▏                                                   \u001b[0m| 141/400 [00:42<01:15,  3.43it/s]\u001b[0m"
     ]
    },
    {
     "name": "stdout",
     "output_type": "stream",
     "text": [
      "Validation F1 in epoch140 : 0.8495\n",
      "Validation loss in epoch140 : 6425.6465\n"
     ]
    },
    {
     "name": "stderr",
     "output_type": "stream",
     "text": [
      " 38%|\u001b[32m██████████████████████████████▏                                                 \u001b[0m| 151/400 [00:45<01:11,  3.47it/s]\u001b[0m"
     ]
    },
    {
     "name": "stdout",
     "output_type": "stream",
     "text": [
      "Validation F1 in epoch150 : 0.8503\n",
      "Validation loss in epoch150 : 6408.2773\n"
     ]
    },
    {
     "name": "stderr",
     "output_type": "stream",
     "text": [
      " 40%|\u001b[32m████████████████████████████████▏                                               \u001b[0m| 161/400 [00:48<01:10,  3.38it/s]\u001b[0m"
     ]
    },
    {
     "name": "stdout",
     "output_type": "stream",
     "text": [
      "Validation F1 in epoch160 : 0.8520\n",
      "Validation loss in epoch160 : 6340.6709\n"
     ]
    },
    {
     "name": "stderr",
     "output_type": "stream",
     "text": [
      " 43%|\u001b[32m██████████████████████████████████▏                                             \u001b[0m| 171/400 [00:52<01:06,  3.45it/s]\u001b[0m"
     ]
    },
    {
     "name": "stdout",
     "output_type": "stream",
     "text": [
      "Validation F1 in epoch170 : 0.8507\n",
      "Validation loss in epoch170 : 6397.9990\n"
     ]
    },
    {
     "name": "stderr",
     "output_type": "stream",
     "text": [
      " 45%|\u001b[32m████████████████████████████████████▏                                           \u001b[0m| 181/400 [00:55<01:08,  3.18it/s]\u001b[0m"
     ]
    },
    {
     "name": "stdout",
     "output_type": "stream",
     "text": [
      "Validation F1 in epoch180 : 0.8536\n",
      "Validation loss in epoch180 : 6355.7476\n"
     ]
    },
    {
     "name": "stderr",
     "output_type": "stream",
     "text": [
      " 48%|\u001b[32m██████████████████████████████████████▏                                         \u001b[0m| 191/400 [00:58<01:09,  2.99it/s]\u001b[0m"
     ]
    },
    {
     "name": "stdout",
     "output_type": "stream",
     "text": [
      "Validation F1 in epoch190 : 0.8523\n",
      "Validation loss in epoch190 : 6367.2217\n"
     ]
    },
    {
     "name": "stderr",
     "output_type": "stream",
     "text": [
      " 50%|\u001b[32m████████████████████████████████████████▏                                       \u001b[0m| 201/400 [01:01<00:56,  3.50it/s]\u001b[0m"
     ]
    },
    {
     "name": "stdout",
     "output_type": "stream",
     "text": [
      "Validation F1 in epoch200 : 0.8516\n",
      "Validation loss in epoch200 : 6360.7241\n"
     ]
    },
    {
     "name": "stderr",
     "output_type": "stream",
     "text": [
      " 53%|\u001b[32m██████████████████████████████████████████▏                                     \u001b[0m| 211/400 [01:04<01:01,  3.09it/s]\u001b[0m"
     ]
    },
    {
     "name": "stdout",
     "output_type": "stream",
     "text": [
      "Validation F1 in epoch210 : 0.8511\n",
      "Validation loss in epoch210 : 6385.7637\n"
     ]
    },
    {
     "name": "stderr",
     "output_type": "stream",
     "text": [
      " 55%|\u001b[32m████████████████████████████████████████████▏                                   \u001b[0m| 221/400 [01:07<00:54,  3.27it/s]\u001b[0m"
     ]
    },
    {
     "name": "stdout",
     "output_type": "stream",
     "text": [
      "Validation F1 in epoch220 : 0.8550\n",
      "Validation loss in epoch220 : 6330.1387\n"
     ]
    },
    {
     "name": "stderr",
     "output_type": "stream",
     "text": [
      " 58%|\u001b[32m██████████████████████████████████████████████▏                                 \u001b[0m| 231/400 [01:10<00:50,  3.35it/s]\u001b[0m"
     ]
    },
    {
     "name": "stdout",
     "output_type": "stream",
     "text": [
      "Validation F1 in epoch230 : 0.8540\n",
      "Validation loss in epoch230 : 6389.7290\n"
     ]
    },
    {
     "name": "stderr",
     "output_type": "stream",
     "text": [
      " 60%|\u001b[32m████████████████████████████████████████████████▏                               \u001b[0m| 241/400 [01:13<00:46,  3.44it/s]\u001b[0m"
     ]
    },
    {
     "name": "stdout",
     "output_type": "stream",
     "text": [
      "Validation F1 in epoch240 : 0.8552\n",
      "Validation loss in epoch240 : 6372.9424\n"
     ]
    },
    {
     "name": "stderr",
     "output_type": "stream",
     "text": [
      " 63%|\u001b[32m██████████████████████████████████████████████████▏                             \u001b[0m| 251/400 [01:16<00:46,  3.19it/s]\u001b[0m"
     ]
    },
    {
     "name": "stdout",
     "output_type": "stream",
     "text": [
      "Validation F1 in epoch250 : 0.8543\n",
      "Validation loss in epoch250 : 6381.8037\n"
     ]
    },
    {
     "name": "stderr",
     "output_type": "stream",
     "text": [
      " 65%|\u001b[32m████████████████████████████████████████████████████▏                           \u001b[0m| 261/400 [01:19<00:46,  2.97it/s]\u001b[0m"
     ]
    },
    {
     "name": "stdout",
     "output_type": "stream",
     "text": [
      "Validation F1 in epoch260 : 0.8514\n",
      "Validation loss in epoch260 : 6471.0049\n"
     ]
    },
    {
     "name": "stderr",
     "output_type": "stream",
     "text": [
      " 68%|\u001b[32m██████████████████████████████████████████████████████▏                         \u001b[0m| 271/400 [01:22<00:37,  3.48it/s]\u001b[0m"
     ]
    },
    {
     "name": "stdout",
     "output_type": "stream",
     "text": [
      "Validation F1 in epoch270 : 0.8525\n",
      "Validation loss in epoch270 : 6419.6543\n"
     ]
    },
    {
     "name": "stderr",
     "output_type": "stream",
     "text": [
      " 70%|\u001b[32m████████████████████████████████████████████████████████▏                       \u001b[0m| 281/400 [01:25<00:37,  3.14it/s]\u001b[0m"
     ]
    },
    {
     "name": "stdout",
     "output_type": "stream",
     "text": [
      "Validation F1 in epoch280 : 0.8541\n",
      "Validation loss in epoch280 : 6496.7793\n"
     ]
    },
    {
     "name": "stderr",
     "output_type": "stream",
     "text": [
      " 73%|\u001b[32m██████████████████████████████████████████████████████████▏                     \u001b[0m| 291/400 [01:28<00:31,  3.43it/s]\u001b[0m"
     ]
    },
    {
     "name": "stdout",
     "output_type": "stream",
     "text": [
      "Validation F1 in epoch290 : 0.8498\n",
      "Validation loss in epoch290 : 6579.6973\n"
     ]
    },
    {
     "name": "stderr",
     "output_type": "stream",
     "text": [
      " 75%|\u001b[32m████████████████████████████████████████████████████████████▏                   \u001b[0m| 301/400 [01:31<00:29,  3.38it/s]\u001b[0m"
     ]
    },
    {
     "name": "stdout",
     "output_type": "stream",
     "text": [
      "Validation F1 in epoch300 : 0.8527\n",
      "Validation loss in epoch300 : 6572.5293\n"
     ]
    },
    {
     "name": "stderr",
     "output_type": "stream",
     "text": [
      " 78%|\u001b[32m██████████████████████████████████████████████████████████████▏                 \u001b[0m| 311/400 [01:34<00:26,  3.38it/s]\u001b[0m"
     ]
    },
    {
     "name": "stdout",
     "output_type": "stream",
     "text": [
      "Validation F1 in epoch310 : 0.8532\n",
      "Validation loss in epoch310 : 6630.7188\n"
     ]
    },
    {
     "name": "stderr",
     "output_type": "stream",
     "text": [
      " 80%|\u001b[32m████████████████████████████████████████████████████████████████▏               \u001b[0m| 321/400 [01:37<00:24,  3.20it/s]\u001b[0m"
     ]
    },
    {
     "name": "stdout",
     "output_type": "stream",
     "text": [
      "Validation F1 in epoch320 : 0.8536\n",
      "Validation loss in epoch320 : 6701.5078\n"
     ]
    },
    {
     "name": "stderr",
     "output_type": "stream",
     "text": [
      " 83%|\u001b[32m██████████████████████████████████████████████████████████████████▏             \u001b[0m| 331/400 [01:40<00:22,  3.01it/s]\u001b[0m"
     ]
    },
    {
     "name": "stdout",
     "output_type": "stream",
     "text": [
      "Validation F1 in epoch330 : 0.8509\n",
      "Validation loss in epoch330 : 6722.5068\n"
     ]
    },
    {
     "name": "stderr",
     "output_type": "stream",
     "text": [
      " 85%|\u001b[32m████████████████████████████████████████████████████████████████████▏           \u001b[0m| 341/400 [01:43<00:16,  3.55it/s]\u001b[0m"
     ]
    },
    {
     "name": "stdout",
     "output_type": "stream",
     "text": [
      "Validation F1 in epoch340 : 0.8510\n",
      "Validation loss in epoch340 : 6780.5850\n"
     ]
    },
    {
     "name": "stderr",
     "output_type": "stream",
     "text": [
      " 88%|\u001b[32m██████████████████████████████████████████████████████████████████████▏         \u001b[0m| 351/400 [01:46<00:14,  3.45it/s]\u001b[0m"
     ]
    },
    {
     "name": "stdout",
     "output_type": "stream",
     "text": [
      "Validation F1 in epoch350 : 0.8476\n",
      "Validation loss in epoch350 : 6874.4766\n"
     ]
    },
    {
     "name": "stderr",
     "output_type": "stream",
     "text": [
      " 90%|\u001b[32m████████████████████████████████████████████████████████████████████████▏       \u001b[0m| 361/400 [01:49<00:12,  3.04it/s]\u001b[0m"
     ]
    },
    {
     "name": "stdout",
     "output_type": "stream",
     "text": [
      "Validation F1 in epoch360 : 0.8507\n",
      "Validation loss in epoch360 : 6824.7412\n"
     ]
    },
    {
     "name": "stderr",
     "output_type": "stream",
     "text": [
      " 93%|\u001b[32m██████████████████████████████████████████████████████████████████████████▏     \u001b[0m| 371/400 [01:52<00:08,  3.24it/s]\u001b[0m"
     ]
    },
    {
     "name": "stdout",
     "output_type": "stream",
     "text": [
      "Validation F1 in epoch370 : 0.8439\n",
      "Validation loss in epoch370 : 7031.2852\n"
     ]
    },
    {
     "name": "stderr",
     "output_type": "stream",
     "text": [
      " 95%|\u001b[32m████████████████████████████████████████████████████████████████████████████▏   \u001b[0m| 381/400 [01:55<00:06,  3.00it/s]\u001b[0m"
     ]
    },
    {
     "name": "stdout",
     "output_type": "stream",
     "text": [
      "Validation F1 in epoch380 : 0.8465\n",
      "Validation loss in epoch380 : 7045.8608\n"
     ]
    },
    {
     "name": "stderr",
     "output_type": "stream",
     "text": [
      " 98%|\u001b[32m██████████████████████████████████████████████████████████████████████████████▏ \u001b[0m| 391/400 [01:59<00:03,  2.94it/s]\u001b[0m"
     ]
    },
    {
     "name": "stdout",
     "output_type": "stream",
     "text": [
      "Validation F1 in epoch390 : 0.8491\n",
      "Validation loss in epoch390 : 7096.9961\n"
     ]
    },
    {
     "name": "stderr",
     "output_type": "stream",
     "text": [
      "100%|\u001b[32m████████████████████████████████████████████████████████████████████████████████\u001b[0m| 400/400 [02:01<00:00,  3.29it/s]\u001b[0m\n",
      "  0%|\u001b[32m▏                                                                                 \u001b[0m| 1/400 [00:00<02:09,  3.09it/s]\u001b[0m"
     ]
    },
    {
     "name": "stdout",
     "output_type": "stream",
     "text": [
      "Validation F1 in epoch0 : 0.1509\n",
      "Validation loss in epoch0 : 62785.0703\n"
     ]
    },
    {
     "name": "stderr",
     "output_type": "stream",
     "text": [
      "  3%|\u001b[32m██▏                                                                              \u001b[0m| 11/400 [00:03<01:47,  3.62it/s]\u001b[0m"
     ]
    },
    {
     "name": "stdout",
     "output_type": "stream",
     "text": [
      "Validation F1 in epoch10 : 0.1496\n",
      "Validation loss in epoch10 : 62769.1641\n"
     ]
    },
    {
     "name": "stderr",
     "output_type": "stream",
     "text": [
      "  5%|\u001b[32m████▎                                                                            \u001b[0m| 21/400 [00:06<01:50,  3.42it/s]\u001b[0m"
     ]
    },
    {
     "name": "stdout",
     "output_type": "stream",
     "text": [
      "Validation F1 in epoch20 : 0.5936\n",
      "Validation loss in epoch20 : 18058.6543\n"
     ]
    },
    {
     "name": "stderr",
     "output_type": "stream",
     "text": [
      "  8%|\u001b[32m██████▎                                                                          \u001b[0m| 31/400 [00:09<01:44,  3.52it/s]\u001b[0m"
     ]
    },
    {
     "name": "stdout",
     "output_type": "stream",
     "text": [
      "Validation F1 in epoch30 : 0.6741\n",
      "Validation loss in epoch30 : 12584.1357\n"
     ]
    },
    {
     "name": "stderr",
     "output_type": "stream",
     "text": [
      " 10%|\u001b[32m████████▎                                                                        \u001b[0m| 41/400 [00:12<01:55,  3.12it/s]\u001b[0m"
     ]
    },
    {
     "name": "stdout",
     "output_type": "stream",
     "text": [
      "Validation F1 in epoch40 : 0.7761\n",
      "Validation loss in epoch40 : 10312.8477\n"
     ]
    },
    {
     "name": "stderr",
     "output_type": "stream",
     "text": [
      " 13%|\u001b[32m██████████▎                                                                      \u001b[0m| 51/400 [00:15<01:53,  3.08it/s]\u001b[0m"
     ]
    },
    {
     "name": "stdout",
     "output_type": "stream",
     "text": [
      "Validation F1 in epoch50 : 0.7944\n",
      "Validation loss in epoch50 : 9078.1895\n"
     ]
    },
    {
     "name": "stderr",
     "output_type": "stream",
     "text": [
      " 15%|\u001b[32m████████████▎                                                                    \u001b[0m| 61/400 [00:18<01:42,  3.32it/s]\u001b[0m"
     ]
    },
    {
     "name": "stdout",
     "output_type": "stream",
     "text": [
      "Validation F1 in epoch60 : 0.8098\n",
      "Validation loss in epoch60 : 8561.9180\n"
     ]
    },
    {
     "name": "stderr",
     "output_type": "stream",
     "text": [
      " 18%|\u001b[32m██████████████▍                                                                  \u001b[0m| 71/400 [00:21<01:38,  3.35it/s]\u001b[0m"
     ]
    },
    {
     "name": "stdout",
     "output_type": "stream",
     "text": [
      "Validation F1 in epoch70 : 0.8140\n",
      "Validation loss in epoch70 : 8378.9805\n"
     ]
    },
    {
     "name": "stderr",
     "output_type": "stream",
     "text": [
      " 20%|\u001b[32m████████████████▍                                                                \u001b[0m| 81/400 [00:24<01:34,  3.38it/s]\u001b[0m"
     ]
    },
    {
     "name": "stdout",
     "output_type": "stream",
     "text": [
      "Validation F1 in epoch80 : 0.8181\n",
      "Validation loss in epoch80 : 8178.0586\n"
     ]
    },
    {
     "name": "stderr",
     "output_type": "stream",
     "text": [
      " 23%|\u001b[32m██████████████████▍                                                              \u001b[0m| 91/400 [00:27<01:35,  3.25it/s]\u001b[0m"
     ]
    },
    {
     "name": "stdout",
     "output_type": "stream",
     "text": [
      "Validation F1 in epoch90 : 0.8224\n",
      "Validation loss in epoch90 : 8081.0869\n"
     ]
    },
    {
     "name": "stderr",
     "output_type": "stream",
     "text": [
      " 25%|\u001b[32m████████████████████▏                                                           \u001b[0m| 101/400 [00:30<01:30,  3.31it/s]\u001b[0m"
     ]
    },
    {
     "name": "stdout",
     "output_type": "stream",
     "text": [
      "Validation F1 in epoch100 : 0.8224\n",
      "Validation loss in epoch100 : 8049.1475\n"
     ]
    },
    {
     "name": "stderr",
     "output_type": "stream",
     "text": [
      " 28%|\u001b[32m██████████████████████▏                                                         \u001b[0m| 111/400 [00:33<01:29,  3.22it/s]\u001b[0m"
     ]
    },
    {
     "name": "stdout",
     "output_type": "stream",
     "text": [
      "Validation F1 in epoch110 : 0.8231\n",
      "Validation loss in epoch110 : 7995.7227\n"
     ]
    },
    {
     "name": "stderr",
     "output_type": "stream",
     "text": [
      " 30%|\u001b[32m████████████████████████▏                                                       \u001b[0m| 121/400 [00:36<01:26,  3.24it/s]\u001b[0m"
     ]
    },
    {
     "name": "stdout",
     "output_type": "stream",
     "text": [
      "Validation F1 in epoch120 : 0.8227\n",
      "Validation loss in epoch120 : 7940.6318\n"
     ]
    },
    {
     "name": "stderr",
     "output_type": "stream",
     "text": [
      " 33%|\u001b[32m██████████████████████████▏                                                     \u001b[0m| 131/400 [00:39<01:27,  3.07it/s]\u001b[0m"
     ]
    },
    {
     "name": "stdout",
     "output_type": "stream",
     "text": [
      "Validation F1 in epoch130 : 0.8247\n",
      "Validation loss in epoch130 : 7927.2710\n"
     ]
    },
    {
     "name": "stderr",
     "output_type": "stream",
     "text": [
      " 35%|\u001b[32m████████████████████████████▏                                                   \u001b[0m| 141/400 [00:42<01:18,  3.29it/s]\u001b[0m"
     ]
    },
    {
     "name": "stdout",
     "output_type": "stream",
     "text": [
      "Validation F1 in epoch140 : 0.8250\n",
      "Validation loss in epoch140 : 7903.7114\n"
     ]
    },
    {
     "name": "stderr",
     "output_type": "stream",
     "text": [
      " 38%|\u001b[32m██████████████████████████████▏                                                 \u001b[0m| 151/400 [00:45<01:10,  3.55it/s]\u001b[0m"
     ]
    },
    {
     "name": "stdout",
     "output_type": "stream",
     "text": [
      "Validation F1 in epoch150 : 0.8247\n",
      "Validation loss in epoch150 : 7853.7949\n"
     ]
    },
    {
     "name": "stderr",
     "output_type": "stream",
     "text": [
      " 40%|\u001b[32m████████████████████████████████▏                                               \u001b[0m| 161/400 [00:48<01:08,  3.47it/s]\u001b[0m"
     ]
    },
    {
     "name": "stdout",
     "output_type": "stream",
     "text": [
      "Validation F1 in epoch160 : 0.8249\n",
      "Validation loss in epoch160 : 7853.9521\n"
     ]
    },
    {
     "name": "stderr",
     "output_type": "stream",
     "text": [
      " 43%|\u001b[32m██████████████████████████████████▏                                             \u001b[0m| 171/400 [00:52<01:05,  3.48it/s]\u001b[0m"
     ]
    },
    {
     "name": "stdout",
     "output_type": "stream",
     "text": [
      "Validation F1 in epoch170 : 0.8239\n",
      "Validation loss in epoch170 : 7839.2427\n"
     ]
    },
    {
     "name": "stderr",
     "output_type": "stream",
     "text": [
      " 45%|\u001b[32m████████████████████████████████████▏                                           \u001b[0m| 181/400 [00:55<01:07,  3.24it/s]\u001b[0m"
     ]
    },
    {
     "name": "stdout",
     "output_type": "stream",
     "text": [
      "Validation F1 in epoch180 : 0.8239\n",
      "Validation loss in epoch180 : 7840.3833\n"
     ]
    },
    {
     "name": "stderr",
     "output_type": "stream",
     "text": [
      " 48%|\u001b[32m██████████████████████████████████████▏                                         \u001b[0m| 191/400 [00:58<01:05,  3.18it/s]\u001b[0m"
     ]
    },
    {
     "name": "stdout",
     "output_type": "stream",
     "text": [
      "Validation F1 in epoch190 : 0.8247\n",
      "Validation loss in epoch190 : 7830.2866\n"
     ]
    },
    {
     "name": "stderr",
     "output_type": "stream",
     "text": [
      " 50%|\u001b[32m████████████████████████████████████████▏                                       \u001b[0m| 201/400 [01:01<01:02,  3.17it/s]\u001b[0m"
     ]
    },
    {
     "name": "stdout",
     "output_type": "stream",
     "text": [
      "Validation F1 in epoch200 : 0.8245\n",
      "Validation loss in epoch200 : 7820.8867\n"
     ]
    },
    {
     "name": "stderr",
     "output_type": "stream",
     "text": [
      " 53%|\u001b[32m██████████████████████████████████████████▏                                     \u001b[0m| 211/400 [01:04<00:59,  3.19it/s]\u001b[0m"
     ]
    },
    {
     "name": "stdout",
     "output_type": "stream",
     "text": [
      "Validation F1 in epoch210 : 0.8260\n",
      "Validation loss in epoch210 : 7820.6128\n"
     ]
    },
    {
     "name": "stderr",
     "output_type": "stream",
     "text": [
      " 55%|\u001b[32m████████████████████████████████████████████▏                                   \u001b[0m| 221/400 [01:07<00:53,  3.37it/s]\u001b[0m"
     ]
    },
    {
     "name": "stdout",
     "output_type": "stream",
     "text": [
      "Validation F1 in epoch220 : 0.8239\n",
      "Validation loss in epoch220 : 7860.7246\n"
     ]
    },
    {
     "name": "stderr",
     "output_type": "stream",
     "text": [
      " 58%|\u001b[32m██████████████████████████████████████████████▏                                 \u001b[0m| 231/400 [01:10<00:49,  3.43it/s]\u001b[0m"
     ]
    },
    {
     "name": "stdout",
     "output_type": "stream",
     "text": [
      "Validation F1 in epoch230 : 0.8236\n",
      "Validation loss in epoch230 : 7834.0586\n"
     ]
    },
    {
     "name": "stderr",
     "output_type": "stream",
     "text": [
      " 60%|\u001b[32m████████████████████████████████████████████████▏                               \u001b[0m| 241/400 [01:13<00:49,  3.22it/s]\u001b[0m"
     ]
    },
    {
     "name": "stdout",
     "output_type": "stream",
     "text": [
      "Validation F1 in epoch240 : 0.8290\n",
      "Validation loss in epoch240 : 7805.7358\n"
     ]
    },
    {
     "name": "stderr",
     "output_type": "stream",
     "text": [
      " 63%|\u001b[32m██████████████████████████████████████████████████▏                             \u001b[0m| 251/400 [01:16<00:48,  3.10it/s]\u001b[0m"
     ]
    },
    {
     "name": "stdout",
     "output_type": "stream",
     "text": [
      "Validation F1 in epoch250 : 0.8254\n",
      "Validation loss in epoch250 : 7855.4746\n"
     ]
    },
    {
     "name": "stderr",
     "output_type": "stream",
     "text": [
      " 65%|\u001b[32m████████████████████████████████████████████████████▏                           \u001b[0m| 261/400 [01:19<00:42,  3.26it/s]\u001b[0m"
     ]
    },
    {
     "name": "stdout",
     "output_type": "stream",
     "text": [
      "Validation F1 in epoch260 : 0.8254\n",
      "Validation loss in epoch260 : 7871.6934\n"
     ]
    },
    {
     "name": "stderr",
     "output_type": "stream",
     "text": [
      " 68%|\u001b[32m██████████████████████████████████████████████████████▏                         \u001b[0m| 271/400 [01:22<00:43,  2.97it/s]\u001b[0m"
     ]
    },
    {
     "name": "stdout",
     "output_type": "stream",
     "text": [
      "Validation F1 in epoch270 : 0.8235\n",
      "Validation loss in epoch270 : 7931.9590\n"
     ]
    },
    {
     "name": "stderr",
     "output_type": "stream",
     "text": [
      " 70%|\u001b[32m████████████████████████████████████████████████████████▏                       \u001b[0m| 281/400 [01:25<00:39,  2.99it/s]\u001b[0m"
     ]
    },
    {
     "name": "stdout",
     "output_type": "stream",
     "text": [
      "Validation F1 in epoch280 : 0.8232\n",
      "Validation loss in epoch280 : 7904.3472\n"
     ]
    },
    {
     "name": "stderr",
     "output_type": "stream",
     "text": [
      " 73%|\u001b[32m██████████████████████████████████████████████████████████▏                     \u001b[0m| 291/400 [01:28<00:34,  3.14it/s]\u001b[0m"
     ]
    },
    {
     "name": "stdout",
     "output_type": "stream",
     "text": [
      "Validation F1 in epoch290 : 0.8239\n",
      "Validation loss in epoch290 : 7890.6465\n"
     ]
    },
    {
     "name": "stderr",
     "output_type": "stream",
     "text": [
      " 75%|\u001b[32m████████████████████████████████████████████████████████████▏                   \u001b[0m| 301/400 [01:31<00:28,  3.45it/s]\u001b[0m"
     ]
    },
    {
     "name": "stdout",
     "output_type": "stream",
     "text": [
      "Validation F1 in epoch300 : 0.8217\n",
      "Validation loss in epoch300 : 7971.7734\n"
     ]
    },
    {
     "name": "stderr",
     "output_type": "stream",
     "text": [
      " 78%|\u001b[32m██████████████████████████████████████████████████████████████▏                 \u001b[0m| 311/400 [01:35<00:25,  3.46it/s]\u001b[0m"
     ]
    },
    {
     "name": "stdout",
     "output_type": "stream",
     "text": [
      "Validation F1 in epoch310 : 0.8210\n",
      "Validation loss in epoch310 : 8006.0898\n"
     ]
    },
    {
     "name": "stderr",
     "output_type": "stream",
     "text": [
      " 80%|\u001b[32m████████████████████████████████████████████████████████████████▏               \u001b[0m| 321/400 [01:38<00:24,  3.23it/s]\u001b[0m"
     ]
    },
    {
     "name": "stdout",
     "output_type": "stream",
     "text": [
      "Validation F1 in epoch320 : 0.8236\n",
      "Validation loss in epoch320 : 8079.1045\n"
     ]
    },
    {
     "name": "stderr",
     "output_type": "stream",
     "text": [
      " 83%|\u001b[32m██████████████████████████████████████████████████████████████████▏             \u001b[0m| 331/400 [01:41<00:20,  3.39it/s]\u001b[0m"
     ]
    },
    {
     "name": "stdout",
     "output_type": "stream",
     "text": [
      "Validation F1 in epoch330 : 0.8204\n",
      "Validation loss in epoch330 : 8103.1284\n"
     ]
    },
    {
     "name": "stderr",
     "output_type": "stream",
     "text": [
      " 85%|\u001b[32m████████████████████████████████████████████████████████████████████▏           \u001b[0m| 341/400 [01:44<00:17,  3.33it/s]\u001b[0m"
     ]
    },
    {
     "name": "stdout",
     "output_type": "stream",
     "text": [
      "Validation F1 in epoch340 : 0.8208\n",
      "Validation loss in epoch340 : 8154.6309\n"
     ]
    },
    {
     "name": "stderr",
     "output_type": "stream",
     "text": [
      " 88%|\u001b[32m██████████████████████████████████████████████████████████████████████▏         \u001b[0m| 351/400 [01:47<00:15,  3.25it/s]\u001b[0m"
     ]
    },
    {
     "name": "stdout",
     "output_type": "stream",
     "text": [
      "Validation F1 in epoch350 : 0.8225\n",
      "Validation loss in epoch350 : 8105.2563\n"
     ]
    },
    {
     "name": "stderr",
     "output_type": "stream",
     "text": [
      " 90%|\u001b[32m████████████████████████████████████████████████████████████████████████▏       \u001b[0m| 361/400 [01:50<00:12,  3.09it/s]\u001b[0m"
     ]
    },
    {
     "name": "stdout",
     "output_type": "stream",
     "text": [
      "Validation F1 in epoch360 : 0.8211\n",
      "Validation loss in epoch360 : 8199.1123\n"
     ]
    },
    {
     "name": "stderr",
     "output_type": "stream",
     "text": [
      " 93%|\u001b[32m██████████████████████████████████████████████████████████████████████████▏     \u001b[0m| 371/400 [01:53<00:09,  3.10it/s]\u001b[0m"
     ]
    },
    {
     "name": "stdout",
     "output_type": "stream",
     "text": [
      "Validation F1 in epoch370 : 0.8189\n",
      "Validation loss in epoch370 : 8253.6543\n"
     ]
    },
    {
     "name": "stderr",
     "output_type": "stream",
     "text": [
      " 95%|\u001b[32m████████████████████████████████████████████████████████████████████████████▏   \u001b[0m| 381/400 [01:56<00:06,  3.07it/s]\u001b[0m"
     ]
    },
    {
     "name": "stdout",
     "output_type": "stream",
     "text": [
      "Validation F1 in epoch380 : 0.8184\n",
      "Validation loss in epoch380 : 8369.2988\n"
     ]
    },
    {
     "name": "stderr",
     "output_type": "stream",
     "text": [
      " 98%|\u001b[32m██████████████████████████████████████████████████████████████████████████████▏ \u001b[0m| 391/400 [01:59<00:02,  3.36it/s]\u001b[0m"
     ]
    },
    {
     "name": "stdout",
     "output_type": "stream",
     "text": [
      "Validation F1 in epoch390 : 0.8200\n",
      "Validation loss in epoch390 : 8413.8789\n"
     ]
    },
    {
     "name": "stderr",
     "output_type": "stream",
     "text": [
      "100%|\u001b[32m████████████████████████████████████████████████████████████████████████████████\u001b[0m| 400/400 [02:02<00:00,  3.27it/s]\u001b[0m\n",
      "  0%|\u001b[32m▏                                                                                 \u001b[0m| 1/400 [00:00<01:45,  3.79it/s]\u001b[0m"
     ]
    },
    {
     "name": "stdout",
     "output_type": "stream",
     "text": [
      "Validation F1 in epoch0 : 0.0867\n",
      "Validation loss in epoch0 : 62466.3320\n"
     ]
    },
    {
     "name": "stderr",
     "output_type": "stream",
     "text": [
      "  3%|\u001b[32m██▏                                                                              \u001b[0m| 11/400 [00:03<02:01,  3.19it/s]\u001b[0m"
     ]
    },
    {
     "name": "stdout",
     "output_type": "stream",
     "text": [
      "Validation F1 in epoch10 : 0.0867\n",
      "Validation loss in epoch10 : 62466.3320\n"
     ]
    },
    {
     "name": "stderr",
     "output_type": "stream",
     "text": [
      "  5%|\u001b[32m████▎                                                                            \u001b[0m| 21/400 [00:06<01:58,  3.21it/s]\u001b[0m"
     ]
    },
    {
     "name": "stdout",
     "output_type": "stream",
     "text": [
      "Validation F1 in epoch20 : 0.5916\n",
      "Validation loss in epoch20 : 21092.2500\n"
     ]
    },
    {
     "name": "stderr",
     "output_type": "stream",
     "text": [
      "  8%|\u001b[32m██████▎                                                                          \u001b[0m| 31/400 [00:09<01:49,  3.36it/s]\u001b[0m"
     ]
    },
    {
     "name": "stdout",
     "output_type": "stream",
     "text": [
      "Validation F1 in epoch30 : 0.6391\n",
      "Validation loss in epoch30 : 17407.8105\n"
     ]
    },
    {
     "name": "stderr",
     "output_type": "stream",
     "text": [
      " 10%|\u001b[32m████████▎                                                                        \u001b[0m| 41/400 [00:12<01:48,  3.29it/s]\u001b[0m"
     ]
    },
    {
     "name": "stdout",
     "output_type": "stream",
     "text": [
      "Validation F1 in epoch40 : 0.7261\n",
      "Validation loss in epoch40 : 12216.3506\n"
     ]
    },
    {
     "name": "stderr",
     "output_type": "stream",
     "text": [
      " 13%|\u001b[32m██████████▎                                                                      \u001b[0m| 51/400 [00:15<01:45,  3.30it/s]\u001b[0m"
     ]
    },
    {
     "name": "stdout",
     "output_type": "stream",
     "text": [
      "Validation F1 in epoch50 : 0.8008\n",
      "Validation loss in epoch50 : 9542.4941\n"
     ]
    },
    {
     "name": "stderr",
     "output_type": "stream",
     "text": [
      " 15%|\u001b[32m████████████▎                                                                    \u001b[0m| 61/400 [00:18<01:45,  3.22it/s]\u001b[0m"
     ]
    },
    {
     "name": "stdout",
     "output_type": "stream",
     "text": [
      "Validation F1 in epoch60 : 0.8280\n",
      "Validation loss in epoch60 : 7999.7539\n"
     ]
    },
    {
     "name": "stderr",
     "output_type": "stream",
     "text": [
      " 18%|\u001b[32m██████████████▍                                                                  \u001b[0m| 71/400 [00:21<01:42,  3.21it/s]\u001b[0m"
     ]
    },
    {
     "name": "stdout",
     "output_type": "stream",
     "text": [
      "Validation F1 in epoch70 : 0.8454\n",
      "Validation loss in epoch70 : 7277.2915\n"
     ]
    },
    {
     "name": "stderr",
     "output_type": "stream",
     "text": [
      " 20%|\u001b[32m████████████████▍                                                                \u001b[0m| 81/400 [00:24<01:41,  3.14it/s]\u001b[0m"
     ]
    },
    {
     "name": "stdout",
     "output_type": "stream",
     "text": [
      "Validation F1 in epoch80 : 0.8516\n",
      "Validation loss in epoch80 : 7004.6611\n"
     ]
    },
    {
     "name": "stderr",
     "output_type": "stream",
     "text": [
      " 23%|\u001b[32m██████████████████▍                                                              \u001b[0m| 91/400 [00:28<01:37,  3.17it/s]\u001b[0m"
     ]
    },
    {
     "name": "stdout",
     "output_type": "stream",
     "text": [
      "Validation F1 in epoch90 : 0.8551\n",
      "Validation loss in epoch90 : 6939.1279\n"
     ]
    },
    {
     "name": "stderr",
     "output_type": "stream",
     "text": [
      " 25%|\u001b[32m████████████████████▏                                                           \u001b[0m| 101/400 [00:31<01:29,  3.35it/s]\u001b[0m"
     ]
    },
    {
     "name": "stdout",
     "output_type": "stream",
     "text": [
      "Validation F1 in epoch100 : 0.8588\n",
      "Validation loss in epoch100 : 6954.7646\n"
     ]
    },
    {
     "name": "stderr",
     "output_type": "stream",
     "text": [
      " 28%|\u001b[32m██████████████████████▏                                                         \u001b[0m| 111/400 [00:34<01:28,  3.28it/s]\u001b[0m"
     ]
    },
    {
     "name": "stdout",
     "output_type": "stream",
     "text": [
      "Validation F1 in epoch110 : 0.8602\n",
      "Validation loss in epoch110 : 7042.6240\n"
     ]
    },
    {
     "name": "stderr",
     "output_type": "stream",
     "text": [
      " 30%|\u001b[32m████████████████████████▏                                                       \u001b[0m| 121/400 [00:37<01:24,  3.31it/s]\u001b[0m"
     ]
    },
    {
     "name": "stdout",
     "output_type": "stream",
     "text": [
      "Validation F1 in epoch120 : 0.8602\n",
      "Validation loss in epoch120 : 7169.7642\n"
     ]
    },
    {
     "name": "stderr",
     "output_type": "stream",
     "text": [
      " 33%|\u001b[32m██████████████████████████▏                                                     \u001b[0m| 131/400 [00:40<01:22,  3.25it/s]\u001b[0m"
     ]
    },
    {
     "name": "stdout",
     "output_type": "stream",
     "text": [
      "Validation F1 in epoch130 : 0.8605\n",
      "Validation loss in epoch130 : 7314.0640\n"
     ]
    },
    {
     "name": "stderr",
     "output_type": "stream",
     "text": [
      " 35%|\u001b[32m████████████████████████████▏                                                   \u001b[0m| 141/400 [00:43<01:19,  3.26it/s]\u001b[0m"
     ]
    },
    {
     "name": "stdout",
     "output_type": "stream",
     "text": [
      "Validation F1 in epoch140 : 0.8611\n",
      "Validation loss in epoch140 : 7467.9922\n"
     ]
    },
    {
     "name": "stderr",
     "output_type": "stream",
     "text": [
      " 38%|\u001b[32m██████████████████████████████▏                                                 \u001b[0m| 151/400 [00:46<01:20,  3.08it/s]\u001b[0m"
     ]
    },
    {
     "name": "stdout",
     "output_type": "stream",
     "text": [
      "Validation F1 in epoch150 : 0.8610\n",
      "Validation loss in epoch150 : 7614.6357\n"
     ]
    },
    {
     "name": "stderr",
     "output_type": "stream",
     "text": [
      " 40%|\u001b[32m████████████████████████████████▏                                               \u001b[0m| 161/400 [00:49<01:15,  3.19it/s]\u001b[0m"
     ]
    },
    {
     "name": "stdout",
     "output_type": "stream",
     "text": [
      "Validation F1 in epoch160 : 0.8608\n",
      "Validation loss in epoch160 : 7756.1128\n"
     ]
    },
    {
     "name": "stderr",
     "output_type": "stream",
     "text": [
      " 43%|\u001b[32m██████████████████████████████████▏                                             \u001b[0m| 171/400 [00:52<01:08,  3.36it/s]\u001b[0m"
     ]
    },
    {
     "name": "stdout",
     "output_type": "stream",
     "text": [
      "Validation F1 in epoch170 : 0.8608\n",
      "Validation loss in epoch170 : 7889.0527\n"
     ]
    },
    {
     "name": "stderr",
     "output_type": "stream",
     "text": [
      " 45%|\u001b[32m████████████████████████████████████▏                                           \u001b[0m| 181/400 [00:55<01:06,  3.31it/s]\u001b[0m"
     ]
    },
    {
     "name": "stdout",
     "output_type": "stream",
     "text": [
      "Validation F1 in epoch180 : 0.8607\n",
      "Validation loss in epoch180 : 8013.4941\n"
     ]
    },
    {
     "name": "stderr",
     "output_type": "stream",
     "text": [
      " 48%|\u001b[32m██████████████████████████████████████▏                                         \u001b[0m| 191/400 [00:58<01:04,  3.26it/s]\u001b[0m"
     ]
    },
    {
     "name": "stdout",
     "output_type": "stream",
     "text": [
      "Validation F1 in epoch190 : 0.8608\n",
      "Validation loss in epoch190 : 8128.5947\n"
     ]
    },
    {
     "name": "stderr",
     "output_type": "stream",
     "text": [
      " 50%|\u001b[32m████████████████████████████████████████▏                                       \u001b[0m| 201/400 [01:01<01:02,  3.20it/s]\u001b[0m"
     ]
    },
    {
     "name": "stdout",
     "output_type": "stream",
     "text": [
      "Validation F1 in epoch200 : 0.8601\n",
      "Validation loss in epoch200 : 8234.8789\n"
     ]
    },
    {
     "name": "stderr",
     "output_type": "stream",
     "text": [
      " 53%|\u001b[32m██████████████████████████████████████████▏                                     \u001b[0m| 211/400 [01:05<01:01,  3.09it/s]\u001b[0m"
     ]
    },
    {
     "name": "stdout",
     "output_type": "stream",
     "text": [
      "Validation F1 in epoch210 : 0.8598\n",
      "Validation loss in epoch210 : 8332.5010\n"
     ]
    },
    {
     "name": "stderr",
     "output_type": "stream",
     "text": [
      " 55%|\u001b[32m████████████████████████████████████████████▏                                   \u001b[0m| 221/400 [01:08<00:56,  3.17it/s]\u001b[0m"
     ]
    },
    {
     "name": "stdout",
     "output_type": "stream",
     "text": [
      "Validation F1 in epoch220 : 0.8594\n",
      "Validation loss in epoch220 : 8423.5137\n"
     ]
    },
    {
     "name": "stderr",
     "output_type": "stream",
     "text": [
      " 58%|\u001b[32m██████████████████████████████████████████████▏                                 \u001b[0m| 231/400 [01:11<00:52,  3.20it/s]\u001b[0m"
     ]
    },
    {
     "name": "stdout",
     "output_type": "stream",
     "text": [
      "Validation F1 in epoch230 : 0.8590\n",
      "Validation loss in epoch230 : 8505.6807\n"
     ]
    },
    {
     "name": "stderr",
     "output_type": "stream",
     "text": [
      " 60%|\u001b[32m████████████████████████████████████████████████▏                               \u001b[0m| 241/400 [01:14<00:54,  2.94it/s]\u001b[0m"
     ]
    },
    {
     "name": "stdout",
     "output_type": "stream",
     "text": [
      "Validation F1 in epoch240 : 0.8589\n",
      "Validation loss in epoch240 : 8579.8613\n"
     ]
    },
    {
     "name": "stderr",
     "output_type": "stream",
     "text": [
      " 63%|\u001b[32m██████████████████████████████████████████████████▏                             \u001b[0m| 251/400 [01:17<00:45,  3.25it/s]\u001b[0m"
     ]
    },
    {
     "name": "stdout",
     "output_type": "stream",
     "text": [
      "Validation F1 in epoch250 : 0.8589\n",
      "Validation loss in epoch250 : 8649.9189\n"
     ]
    },
    {
     "name": "stderr",
     "output_type": "stream",
     "text": [
      " 65%|\u001b[32m████████████████████████████████████████████████████▏                           \u001b[0m| 261/400 [01:20<00:42,  3.29it/s]\u001b[0m"
     ]
    },
    {
     "name": "stdout",
     "output_type": "stream",
     "text": [
      "Validation F1 in epoch260 : 0.8588\n",
      "Validation loss in epoch260 : 8711.0771\n"
     ]
    },
    {
     "name": "stderr",
     "output_type": "stream",
     "text": [
      " 68%|\u001b[32m██████████████████████████████████████████████████████▏                         \u001b[0m| 271/400 [01:23<00:39,  3.25it/s]\u001b[0m"
     ]
    },
    {
     "name": "stdout",
     "output_type": "stream",
     "text": [
      "Validation F1 in epoch270 : 0.8584\n",
      "Validation loss in epoch270 : 8767.7217\n"
     ]
    },
    {
     "name": "stderr",
     "output_type": "stream",
     "text": [
      " 70%|\u001b[32m████████████████████████████████████████████████████████▏                       \u001b[0m| 281/400 [01:27<00:36,  3.24it/s]\u001b[0m"
     ]
    },
    {
     "name": "stdout",
     "output_type": "stream",
     "text": [
      "Validation F1 in epoch280 : 0.8586\n",
      "Validation loss in epoch280 : 8818.9922\n"
     ]
    },
    {
     "name": "stderr",
     "output_type": "stream",
     "text": [
      " 73%|\u001b[32m██████████████████████████████████████████████████████████▏                     \u001b[0m| 291/400 [01:30<00:34,  3.19it/s]\u001b[0m"
     ]
    },
    {
     "name": "stdout",
     "output_type": "stream",
     "text": [
      "Validation F1 in epoch290 : 0.8585\n",
      "Validation loss in epoch290 : 8865.6504\n"
     ]
    },
    {
     "name": "stderr",
     "output_type": "stream",
     "text": [
      " 75%|\u001b[32m████████████████████████████████████████████████████████████▏                   \u001b[0m| 301/400 [01:33<00:31,  3.17it/s]\u001b[0m"
     ]
    },
    {
     "name": "stdout",
     "output_type": "stream",
     "text": [
      "Validation F1 in epoch300 : 0.8584\n",
      "Validation loss in epoch300 : 8908.2383\n"
     ]
    },
    {
     "name": "stderr",
     "output_type": "stream",
     "text": [
      " 78%|\u001b[32m██████████████████████████████████████████████████████████████▏                 \u001b[0m| 311/400 [01:36<00:26,  3.33it/s]\u001b[0m"
     ]
    },
    {
     "name": "stdout",
     "output_type": "stream",
     "text": [
      "Validation F1 in epoch310 : 0.8580\n",
      "Validation loss in epoch310 : 8947.2520\n"
     ]
    },
    {
     "name": "stderr",
     "output_type": "stream",
     "text": [
      " 80%|\u001b[32m████████████████████████████████████████████████████████████████▏               \u001b[0m| 321/400 [01:39<00:24,  3.22it/s]\u001b[0m"
     ]
    },
    {
     "name": "stdout",
     "output_type": "stream",
     "text": [
      "Validation F1 in epoch320 : 0.8582\n",
      "Validation loss in epoch320 : 8983.1172\n"
     ]
    },
    {
     "name": "stderr",
     "output_type": "stream",
     "text": [
      " 83%|\u001b[32m██████████████████████████████████████████████████████████████████▏             \u001b[0m| 331/400 [01:42<00:18,  3.63it/s]\u001b[0m"
     ]
    },
    {
     "name": "stdout",
     "output_type": "stream",
     "text": [
      "Validation F1 in epoch330 : 0.8581\n",
      "Validation loss in epoch330 : 9015.8066\n"
     ]
    },
    {
     "name": "stderr",
     "output_type": "stream",
     "text": [
      " 85%|\u001b[32m████████████████████████████████████████████████████████████████████▏           \u001b[0m| 341/400 [01:45<00:18,  3.20it/s]\u001b[0m"
     ]
    },
    {
     "name": "stdout",
     "output_type": "stream",
     "text": [
      "Validation F1 in epoch340 : 0.8579\n",
      "Validation loss in epoch340 : 9045.3652\n"
     ]
    },
    {
     "name": "stderr",
     "output_type": "stream",
     "text": [
      " 88%|\u001b[32m██████████████████████████████████████████████████████████████████████▏         \u001b[0m| 351/400 [01:48<00:16,  3.05it/s]\u001b[0m"
     ]
    },
    {
     "name": "stdout",
     "output_type": "stream",
     "text": [
      "Validation F1 in epoch350 : 0.8580\n",
      "Validation loss in epoch350 : 9072.8838\n"
     ]
    },
    {
     "name": "stderr",
     "output_type": "stream",
     "text": [
      " 90%|\u001b[32m████████████████████████████████████████████████████████████████████████▏       \u001b[0m| 361/400 [01:51<00:12,  3.18it/s]\u001b[0m"
     ]
    },
    {
     "name": "stdout",
     "output_type": "stream",
     "text": [
      "Validation F1 in epoch360 : 0.8579\n",
      "Validation loss in epoch360 : 9097.8027\n"
     ]
    },
    {
     "name": "stderr",
     "output_type": "stream",
     "text": [
      " 93%|\u001b[32m██████████████████████████████████████████████████████████████████████████▏     \u001b[0m| 371/400 [01:54<00:09,  3.18it/s]\u001b[0m"
     ]
    },
    {
     "name": "stdout",
     "output_type": "stream",
     "text": [
      "Validation F1 in epoch370 : 0.8577\n",
      "Validation loss in epoch370 : 9120.6387\n"
     ]
    },
    {
     "name": "stderr",
     "output_type": "stream",
     "text": [
      " 95%|\u001b[32m████████████████████████████████████████████████████████████████████████████▏   \u001b[0m| 381/400 [01:57<00:05,  3.37it/s]\u001b[0m"
     ]
    },
    {
     "name": "stdout",
     "output_type": "stream",
     "text": [
      "Validation F1 in epoch380 : 0.8577\n",
      "Validation loss in epoch380 : 9142.2588\n"
     ]
    },
    {
     "name": "stderr",
     "output_type": "stream",
     "text": [
      " 98%|\u001b[32m██████████████████████████████████████████████████████████████████████████████▏ \u001b[0m| 391/400 [02:00<00:02,  3.31it/s]\u001b[0m"
     ]
    },
    {
     "name": "stdout",
     "output_type": "stream",
     "text": [
      "Validation F1 in epoch390 : 0.8577\n",
      "Validation loss in epoch390 : 9162.2109\n"
     ]
    },
    {
     "name": "stderr",
     "output_type": "stream",
     "text": [
      "100%|\u001b[32m████████████████████████████████████████████████████████████████████████████████\u001b[0m| 400/400 [02:03<00:00,  3.24it/s]\u001b[0m\n",
      "  0%|\u001b[32m▏                                                                                 \u001b[0m| 1/400 [00:00<02:38,  2.53it/s]\u001b[0m"
     ]
    },
    {
     "name": "stdout",
     "output_type": "stream",
     "text": [
      "Validation F1 in epoch0 : 0.1170\n",
      "Validation loss in epoch0 : 62585.0000\n"
     ]
    },
    {
     "name": "stderr",
     "output_type": "stream",
     "text": [
      "  3%|\u001b[32m██▏                                                                              \u001b[0m| 11/400 [00:03<01:55,  3.36it/s]\u001b[0m"
     ]
    },
    {
     "name": "stdout",
     "output_type": "stream",
     "text": [
      "Validation F1 in epoch10 : 0.1159\n",
      "Validation loss in epoch10 : 62590.6875\n"
     ]
    },
    {
     "name": "stderr",
     "output_type": "stream",
     "text": [
      "  5%|\u001b[32m████▎                                                                            \u001b[0m| 21/400 [00:06<01:52,  3.38it/s]\u001b[0m"
     ]
    },
    {
     "name": "stdout",
     "output_type": "stream",
     "text": [
      "Validation F1 in epoch20 : 0.6038\n",
      "Validation loss in epoch20 : 18821.7402\n"
     ]
    },
    {
     "name": "stderr",
     "output_type": "stream",
     "text": [
      "  8%|\u001b[32m██████▎                                                                          \u001b[0m| 31/400 [00:09<01:57,  3.15it/s]\u001b[0m"
     ]
    },
    {
     "name": "stdout",
     "output_type": "stream",
     "text": [
      "Validation F1 in epoch30 : 0.7391\n",
      "Validation loss in epoch30 : 12006.7061\n"
     ]
    },
    {
     "name": "stderr",
     "output_type": "stream",
     "text": [
      " 10%|\u001b[32m████████▎                                                                        \u001b[0m| 41/400 [00:12<01:54,  3.13it/s]\u001b[0m"
     ]
    },
    {
     "name": "stdout",
     "output_type": "stream",
     "text": [
      "Validation F1 in epoch40 : 0.7674\n",
      "Validation loss in epoch40 : 9125.0156\n"
     ]
    },
    {
     "name": "stderr",
     "output_type": "stream",
     "text": [
      " 13%|\u001b[32m██████████▎                                                                      \u001b[0m| 51/400 [00:15<01:39,  3.51it/s]\u001b[0m"
     ]
    },
    {
     "name": "stdout",
     "output_type": "stream",
     "text": [
      "Validation F1 in epoch50 : 0.8148\n",
      "Validation loss in epoch50 : 7744.2754\n"
     ]
    },
    {
     "name": "stderr",
     "output_type": "stream",
     "text": [
      " 15%|\u001b[32m████████████▎                                                                    \u001b[0m| 61/400 [00:18<01:38,  3.45it/s]\u001b[0m"
     ]
    },
    {
     "name": "stdout",
     "output_type": "stream",
     "text": [
      "Validation F1 in epoch60 : 0.8301\n",
      "Validation loss in epoch60 : 7168.6836\n"
     ]
    },
    {
     "name": "stderr",
     "output_type": "stream",
     "text": [
      " 18%|\u001b[32m██████████████▍                                                                  \u001b[0m| 71/400 [00:21<01:34,  3.50it/s]\u001b[0m"
     ]
    },
    {
     "name": "stdout",
     "output_type": "stream",
     "text": [
      "Validation F1 in epoch70 : 0.8383\n",
      "Validation loss in epoch70 : 6893.2476\n"
     ]
    },
    {
     "name": "stderr",
     "output_type": "stream",
     "text": [
      " 20%|\u001b[32m████████████████▍                                                                \u001b[0m| 81/400 [00:24<01:42,  3.11it/s]\u001b[0m"
     ]
    },
    {
     "name": "stdout",
     "output_type": "stream",
     "text": [
      "Validation F1 in epoch80 : 0.8431\n",
      "Validation loss in epoch80 : 6711.3760\n"
     ]
    },
    {
     "name": "stderr",
     "output_type": "stream",
     "text": [
      " 23%|\u001b[32m██████████████████▍                                                              \u001b[0m| 91/400 [00:27<01:39,  3.12it/s]\u001b[0m"
     ]
    },
    {
     "name": "stdout",
     "output_type": "stream",
     "text": [
      "Validation F1 in epoch90 : 0.8425\n",
      "Validation loss in epoch90 : 6650.5293\n"
     ]
    },
    {
     "name": "stderr",
     "output_type": "stream",
     "text": [
      " 25%|\u001b[32m████████████████████▏                                                           \u001b[0m| 101/400 [00:31<01:38,  3.05it/s]\u001b[0m"
     ]
    },
    {
     "name": "stdout",
     "output_type": "stream",
     "text": [
      "Validation F1 in epoch100 : 0.8446\n",
      "Validation loss in epoch100 : 6575.7944\n"
     ]
    },
    {
     "name": "stderr",
     "output_type": "stream",
     "text": [
      " 28%|\u001b[32m██████████████████████▏                                                         \u001b[0m| 111/400 [00:33<01:26,  3.34it/s]\u001b[0m"
     ]
    },
    {
     "name": "stdout",
     "output_type": "stream",
     "text": [
      "Validation F1 in epoch110 : 0.8465\n",
      "Validation loss in epoch110 : 6510.6729\n"
     ]
    },
    {
     "name": "stderr",
     "output_type": "stream",
     "text": [
      " 30%|\u001b[32m████████████████████████▏                                                       \u001b[0m| 121/400 [00:37<01:18,  3.54it/s]\u001b[0m"
     ]
    },
    {
     "name": "stdout",
     "output_type": "stream",
     "text": [
      "Validation F1 in epoch120 : 0.8483\n",
      "Validation loss in epoch120 : 6476.6152\n"
     ]
    },
    {
     "name": "stderr",
     "output_type": "stream",
     "text": [
      " 33%|\u001b[32m██████████████████████████▏                                                     \u001b[0m| 131/400 [00:40<01:21,  3.30it/s]\u001b[0m"
     ]
    },
    {
     "name": "stdout",
     "output_type": "stream",
     "text": [
      "Validation F1 in epoch130 : 0.8508\n",
      "Validation loss in epoch130 : 6446.7617\n"
     ]
    },
    {
     "name": "stderr",
     "output_type": "stream",
     "text": [
      " 35%|\u001b[32m████████████████████████████▏                                                   \u001b[0m| 141/400 [00:43<01:18,  3.28it/s]\u001b[0m"
     ]
    },
    {
     "name": "stdout",
     "output_type": "stream",
     "text": [
      "Validation F1 in epoch140 : 0.8508\n",
      "Validation loss in epoch140 : 6409.2339\n"
     ]
    },
    {
     "name": "stderr",
     "output_type": "stream",
     "text": [
      " 38%|\u001b[32m██████████████████████████████▏                                                 \u001b[0m| 151/400 [00:46<01:14,  3.32it/s]\u001b[0m"
     ]
    },
    {
     "name": "stdout",
     "output_type": "stream",
     "text": [
      "Validation F1 in epoch150 : 0.8508\n",
      "Validation loss in epoch150 : 6395.6533\n"
     ]
    },
    {
     "name": "stderr",
     "output_type": "stream",
     "text": [
      " 40%|\u001b[32m████████████████████████████████▏                                               \u001b[0m| 161/400 [00:49<01:11,  3.35it/s]\u001b[0m"
     ]
    },
    {
     "name": "stdout",
     "output_type": "stream",
     "text": [
      "Validation F1 in epoch160 : 0.8537\n",
      "Validation loss in epoch160 : 6402.6406\n"
     ]
    },
    {
     "name": "stderr",
     "output_type": "stream",
     "text": [
      " 43%|\u001b[32m██████████████████████████████████▏                                             \u001b[0m| 171/400 [00:52<01:10,  3.25it/s]\u001b[0m"
     ]
    },
    {
     "name": "stdout",
     "output_type": "stream",
     "text": [
      "Validation F1 in epoch170 : 0.8520\n",
      "Validation loss in epoch170 : 6348.5059\n"
     ]
    },
    {
     "name": "stderr",
     "output_type": "stream",
     "text": [
      " 45%|\u001b[32m████████████████████████████████████▏                                           \u001b[0m| 181/400 [00:55<01:14,  2.95it/s]\u001b[0m"
     ]
    },
    {
     "name": "stdout",
     "output_type": "stream",
     "text": [
      "Validation F1 in epoch180 : 0.8536\n",
      "Validation loss in epoch180 : 6332.4780\n"
     ]
    },
    {
     "name": "stderr",
     "output_type": "stream",
     "text": [
      " 48%|\u001b[32m██████████████████████████████████████▏                                         \u001b[0m| 191/400 [00:58<01:01,  3.40it/s]\u001b[0m"
     ]
    },
    {
     "name": "stdout",
     "output_type": "stream",
     "text": [
      "Validation F1 in epoch190 : 0.8531\n",
      "Validation loss in epoch190 : 6367.9736\n"
     ]
    },
    {
     "name": "stderr",
     "output_type": "stream",
     "text": [
      " 50%|\u001b[32m████████████████████████████████████████▏                                       \u001b[0m| 201/400 [01:01<00:58,  3.39it/s]\u001b[0m"
     ]
    },
    {
     "name": "stdout",
     "output_type": "stream",
     "text": [
      "Validation F1 in epoch200 : 0.8534\n",
      "Validation loss in epoch200 : 6349.9160\n"
     ]
    },
    {
     "name": "stderr",
     "output_type": "stream",
     "text": [
      " 53%|\u001b[32m██████████████████████████████████████████▏                                     \u001b[0m| 211/400 [01:04<00:55,  3.38it/s]\u001b[0m"
     ]
    },
    {
     "name": "stdout",
     "output_type": "stream",
     "text": [
      "Validation F1 in epoch210 : 0.8526\n",
      "Validation loss in epoch210 : 6381.4111\n"
     ]
    },
    {
     "name": "stderr",
     "output_type": "stream",
     "text": [
      " 55%|\u001b[32m████████████████████████████████████████████▏                                   \u001b[0m| 221/400 [01:07<00:58,  3.08it/s]\u001b[0m"
     ]
    },
    {
     "name": "stdout",
     "output_type": "stream",
     "text": [
      "Validation F1 in epoch220 : 0.8518\n",
      "Validation loss in epoch220 : 6384.9893\n"
     ]
    },
    {
     "name": "stderr",
     "output_type": "stream",
     "text": [
      " 58%|\u001b[32m██████████████████████████████████████████████▏                                 \u001b[0m| 231/400 [01:10<00:50,  3.37it/s]\u001b[0m"
     ]
    },
    {
     "name": "stdout",
     "output_type": "stream",
     "text": [
      "Validation F1 in epoch230 : 0.8537\n",
      "Validation loss in epoch230 : 6370.6050\n"
     ]
    },
    {
     "name": "stderr",
     "output_type": "stream",
     "text": [
      " 60%|\u001b[32m████████████████████████████████████████████████▏                               \u001b[0m| 241/400 [01:13<00:47,  3.32it/s]\u001b[0m"
     ]
    },
    {
     "name": "stdout",
     "output_type": "stream",
     "text": [
      "Validation F1 in epoch240 : 0.8515\n",
      "Validation loss in epoch240 : 6385.7832\n"
     ]
    },
    {
     "name": "stderr",
     "output_type": "stream",
     "text": [
      " 63%|\u001b[32m██████████████████████████████████████████████████▏                             \u001b[0m| 251/400 [01:16<00:45,  3.29it/s]\u001b[0m"
     ]
    },
    {
     "name": "stdout",
     "output_type": "stream",
     "text": [
      "Validation F1 in epoch250 : 0.8526\n",
      "Validation loss in epoch250 : 6454.9141\n"
     ]
    },
    {
     "name": "stderr",
     "output_type": "stream",
     "text": [
      " 65%|\u001b[32m████████████████████████████████████████████████████▏                           \u001b[0m| 261/400 [01:19<00:40,  3.45it/s]\u001b[0m"
     ]
    },
    {
     "name": "stdout",
     "output_type": "stream",
     "text": [
      "Validation F1 in epoch260 : 0.8557\n",
      "Validation loss in epoch260 : 6414.4873\n"
     ]
    },
    {
     "name": "stderr",
     "output_type": "stream",
     "text": [
      " 68%|\u001b[32m██████████████████████████████████████████████████████▏                         \u001b[0m| 271/400 [01:22<00:37,  3.48it/s]\u001b[0m"
     ]
    },
    {
     "name": "stdout",
     "output_type": "stream",
     "text": [
      "Validation F1 in epoch270 : 0.8543\n",
      "Validation loss in epoch270 : 6501.3789\n"
     ]
    },
    {
     "name": "stderr",
     "output_type": "stream",
     "text": [
      " 70%|\u001b[32m████████████████████████████████████████████████████████▏                       \u001b[0m| 281/400 [01:25<00:34,  3.43it/s]\u001b[0m"
     ]
    },
    {
     "name": "stdout",
     "output_type": "stream",
     "text": [
      "Validation F1 in epoch280 : 0.8531\n",
      "Validation loss in epoch280 : 6453.3525\n"
     ]
    },
    {
     "name": "stderr",
     "output_type": "stream",
     "text": [
      " 73%|\u001b[32m██████████████████████████████████████████████████████████▏                     \u001b[0m| 291/400 [01:28<00:32,  3.37it/s]\u001b[0m"
     ]
    },
    {
     "name": "stdout",
     "output_type": "stream",
     "text": [
      "Validation F1 in epoch290 : 0.8537\n",
      "Validation loss in epoch290 : 6566.4517\n"
     ]
    },
    {
     "name": "stderr",
     "output_type": "stream",
     "text": [
      " 75%|\u001b[32m████████████████████████████████████████████████████████████▏                   \u001b[0m| 301/400 [01:31<00:29,  3.37it/s]\u001b[0m"
     ]
    },
    {
     "name": "stdout",
     "output_type": "stream",
     "text": [
      "Validation F1 in epoch300 : 0.8517\n",
      "Validation loss in epoch300 : 6596.5337\n"
     ]
    },
    {
     "name": "stderr",
     "output_type": "stream",
     "text": [
      " 78%|\u001b[32m██████████████████████████████████████████████████████████████▏                 \u001b[0m| 311/400 [01:35<00:28,  3.14it/s]\u001b[0m"
     ]
    },
    {
     "name": "stdout",
     "output_type": "stream",
     "text": [
      "Validation F1 in epoch310 : 0.8519\n",
      "Validation loss in epoch310 : 6644.1729\n"
     ]
    },
    {
     "name": "stderr",
     "output_type": "stream",
     "text": [
      " 80%|\u001b[32m████████████████████████████████████████████████████████████████▏               \u001b[0m| 321/400 [01:38<00:24,  3.26it/s]\u001b[0m"
     ]
    },
    {
     "name": "stdout",
     "output_type": "stream",
     "text": [
      "Validation F1 in epoch320 : 0.8525\n",
      "Validation loss in epoch320 : 6706.5225\n"
     ]
    },
    {
     "name": "stderr",
     "output_type": "stream",
     "text": [
      " 83%|\u001b[32m██████████████████████████████████████████████████████████████████▏             \u001b[0m| 331/400 [01:41<00:20,  3.35it/s]\u001b[0m"
     ]
    },
    {
     "name": "stdout",
     "output_type": "stream",
     "text": [
      "Validation F1 in epoch330 : 0.8493\n",
      "Validation loss in epoch330 : 6742.7422\n"
     ]
    },
    {
     "name": "stderr",
     "output_type": "stream",
     "text": [
      " 85%|\u001b[32m████████████████████████████████████████████████████████████████████▏           \u001b[0m| 341/400 [01:44<00:17,  3.36it/s]\u001b[0m"
     ]
    },
    {
     "name": "stdout",
     "output_type": "stream",
     "text": [
      "Validation F1 in epoch340 : 0.8484\n",
      "Validation loss in epoch340 : 6831.3105\n"
     ]
    },
    {
     "name": "stderr",
     "output_type": "stream",
     "text": [
      " 88%|\u001b[32m██████████████████████████████████████████████████████████████████████▏         \u001b[0m| 351/400 [01:47<00:14,  3.29it/s]\u001b[0m"
     ]
    },
    {
     "name": "stdout",
     "output_type": "stream",
     "text": [
      "Validation F1 in epoch350 : 0.8501\n",
      "Validation loss in epoch350 : 6851.3369\n"
     ]
    },
    {
     "name": "stderr",
     "output_type": "stream",
     "text": [
      " 90%|\u001b[32m████████████████████████████████████████████████████████████████████████▏       \u001b[0m| 361/400 [01:50<00:12,  3.22it/s]\u001b[0m"
     ]
    },
    {
     "name": "stdout",
     "output_type": "stream",
     "text": [
      "Validation F1 in epoch360 : 0.8497\n",
      "Validation loss in epoch360 : 6917.7500\n"
     ]
    },
    {
     "name": "stderr",
     "output_type": "stream",
     "text": [
      " 93%|\u001b[32m██████████████████████████████████████████████████████████████████████████▏     \u001b[0m| 371/400 [01:53<00:09,  3.20it/s]\u001b[0m"
     ]
    },
    {
     "name": "stdout",
     "output_type": "stream",
     "text": [
      "Validation F1 in epoch370 : 0.8500\n",
      "Validation loss in epoch370 : 6964.5811\n"
     ]
    },
    {
     "name": "stderr",
     "output_type": "stream",
     "text": [
      " 95%|\u001b[32m████████████████████████████████████████████████████████████████████████████▏   \u001b[0m| 381/400 [01:56<00:05,  3.34it/s]\u001b[0m"
     ]
    },
    {
     "name": "stdout",
     "output_type": "stream",
     "text": [
      "Validation F1 in epoch380 : 0.8510\n",
      "Validation loss in epoch380 : 7055.8438\n"
     ]
    },
    {
     "name": "stderr",
     "output_type": "stream",
     "text": [
      " 98%|\u001b[32m██████████████████████████████████████████████████████████████████████████████▏ \u001b[0m| 391/400 [01:59<00:02,  3.34it/s]\u001b[0m"
     ]
    },
    {
     "name": "stdout",
     "output_type": "stream",
     "text": [
      "Validation F1 in epoch390 : 0.8497\n",
      "Validation loss in epoch390 : 7159.4204\n"
     ]
    },
    {
     "name": "stderr",
     "output_type": "stream",
     "text": [
      "100%|\u001b[32m████████████████████████████████████████████████████████████████████████████████\u001b[0m| 400/400 [02:02<00:00,  3.27it/s]\u001b[0m\n",
      "  0%|\u001b[32m▏                                                                                 \u001b[0m| 1/400 [00:00<01:47,  3.72it/s]\u001b[0m"
     ]
    },
    {
     "name": "stdout",
     "output_type": "stream",
     "text": [
      "Validation F1 in epoch0 : 0.1509\n",
      "Validation loss in epoch0 : 62785.0703\n"
     ]
    },
    {
     "name": "stderr",
     "output_type": "stream",
     "text": [
      "  3%|\u001b[32m██▏                                                                              \u001b[0m| 11/400 [00:03<01:55,  3.36it/s]\u001b[0m"
     ]
    },
    {
     "name": "stdout",
     "output_type": "stream",
     "text": [
      "Validation F1 in epoch10 : 0.1496\n",
      "Validation loss in epoch10 : 62769.1641\n"
     ]
    },
    {
     "name": "stderr",
     "output_type": "stream",
     "text": [
      "  5%|\u001b[32m████▎                                                                            \u001b[0m| 21/400 [00:06<01:48,  3.48it/s]\u001b[0m"
     ]
    },
    {
     "name": "stdout",
     "output_type": "stream",
     "text": [
      "Validation F1 in epoch20 : 0.5936\n",
      "Validation loss in epoch20 : 18058.6543\n"
     ]
    },
    {
     "name": "stderr",
     "output_type": "stream",
     "text": [
      "  8%|\u001b[32m██████▎                                                                          \u001b[0m| 31/400 [00:09<01:50,  3.35it/s]\u001b[0m"
     ]
    },
    {
     "name": "stdout",
     "output_type": "stream",
     "text": [
      "Validation F1 in epoch30 : 0.6741\n",
      "Validation loss in epoch30 : 12584.1357\n"
     ]
    },
    {
     "name": "stderr",
     "output_type": "stream",
     "text": [
      " 10%|\u001b[32m████████▎                                                                        \u001b[0m| 41/400 [00:12<01:50,  3.24it/s]\u001b[0m"
     ]
    },
    {
     "name": "stdout",
     "output_type": "stream",
     "text": [
      "Validation F1 in epoch40 : 0.7761\n",
      "Validation loss in epoch40 : 10312.8477\n"
     ]
    },
    {
     "name": "stderr",
     "output_type": "stream",
     "text": [
      " 13%|\u001b[32m██████████▎                                                                      \u001b[0m| 51/400 [00:15<01:57,  2.98it/s]\u001b[0m"
     ]
    },
    {
     "name": "stdout",
     "output_type": "stream",
     "text": [
      "Validation F1 in epoch50 : 0.7944\n",
      "Validation loss in epoch50 : 9078.1895\n"
     ]
    },
    {
     "name": "stderr",
     "output_type": "stream",
     "text": [
      " 15%|\u001b[32m████████████▎                                                                    \u001b[0m| 61/400 [00:18<01:53,  2.98it/s]\u001b[0m"
     ]
    },
    {
     "name": "stdout",
     "output_type": "stream",
     "text": [
      "Validation F1 in epoch60 : 0.8098\n",
      "Validation loss in epoch60 : 8561.9180\n"
     ]
    },
    {
     "name": "stderr",
     "output_type": "stream",
     "text": [
      " 18%|\u001b[32m██████████████▍                                                                  \u001b[0m| 71/400 [00:21<01:32,  3.54it/s]\u001b[0m"
     ]
    },
    {
     "name": "stdout",
     "output_type": "stream",
     "text": [
      "Validation F1 in epoch70 : 0.8140\n",
      "Validation loss in epoch70 : 8378.9805\n"
     ]
    },
    {
     "name": "stderr",
     "output_type": "stream",
     "text": [
      " 20%|\u001b[32m████████████████▍                                                                \u001b[0m| 81/400 [00:24<01:31,  3.47it/s]\u001b[0m"
     ]
    },
    {
     "name": "stdout",
     "output_type": "stream",
     "text": [
      "Validation F1 in epoch80 : 0.8181\n",
      "Validation loss in epoch80 : 8178.0586\n"
     ]
    },
    {
     "name": "stderr",
     "output_type": "stream",
     "text": [
      " 23%|\u001b[32m██████████████████▍                                                              \u001b[0m| 91/400 [00:27<01:32,  3.35it/s]\u001b[0m"
     ]
    },
    {
     "name": "stdout",
     "output_type": "stream",
     "text": [
      "Validation F1 in epoch90 : 0.8224\n",
      "Validation loss in epoch90 : 8081.0869\n"
     ]
    },
    {
     "name": "stderr",
     "output_type": "stream",
     "text": [
      " 25%|\u001b[32m████████████████████▏                                                           \u001b[0m| 101/400 [00:30<01:39,  3.02it/s]\u001b[0m"
     ]
    },
    {
     "name": "stdout",
     "output_type": "stream",
     "text": [
      "Validation F1 in epoch100 : 0.8224\n",
      "Validation loss in epoch100 : 8049.1475\n"
     ]
    },
    {
     "name": "stderr",
     "output_type": "stream",
     "text": [
      " 28%|\u001b[32m██████████████████████▏                                                         \u001b[0m| 111/400 [00:33<01:32,  3.14it/s]\u001b[0m"
     ]
    },
    {
     "name": "stdout",
     "output_type": "stream",
     "text": [
      "Validation F1 in epoch110 : 0.8231\n",
      "Validation loss in epoch110 : 7995.7227\n"
     ]
    },
    {
     "name": "stderr",
     "output_type": "stream",
     "text": [
      " 30%|\u001b[32m████████████████████████▏                                                       \u001b[0m| 121/400 [00:36<01:31,  3.06it/s]\u001b[0m"
     ]
    },
    {
     "name": "stdout",
     "output_type": "stream",
     "text": [
      "Validation F1 in epoch120 : 0.8227\n",
      "Validation loss in epoch120 : 7940.6318\n"
     ]
    },
    {
     "name": "stderr",
     "output_type": "stream",
     "text": [
      " 33%|\u001b[32m██████████████████████████▏                                                     \u001b[0m| 131/400 [00:40<01:24,  3.18it/s]\u001b[0m"
     ]
    },
    {
     "name": "stdout",
     "output_type": "stream",
     "text": [
      "Validation F1 in epoch130 : 0.8247\n",
      "Validation loss in epoch130 : 7927.2710\n"
     ]
    },
    {
     "name": "stderr",
     "output_type": "stream",
     "text": [
      " 35%|\u001b[32m████████████████████████████▏                                                   \u001b[0m| 141/400 [00:42<01:19,  3.27it/s]\u001b[0m"
     ]
    },
    {
     "name": "stdout",
     "output_type": "stream",
     "text": [
      "Validation F1 in epoch140 : 0.8250\n",
      "Validation loss in epoch140 : 7903.7114\n"
     ]
    },
    {
     "name": "stderr",
     "output_type": "stream",
     "text": [
      " 38%|\u001b[32m██████████████████████████████▏                                                 \u001b[0m| 151/400 [00:46<01:13,  3.41it/s]\u001b[0m"
     ]
    },
    {
     "name": "stdout",
     "output_type": "stream",
     "text": [
      "Validation F1 in epoch150 : 0.8247\n",
      "Validation loss in epoch150 : 7853.7949\n"
     ]
    },
    {
     "name": "stderr",
     "output_type": "stream",
     "text": [
      " 40%|\u001b[32m████████████████████████████████▏                                               \u001b[0m| 161/400 [00:49<01:18,  3.05it/s]\u001b[0m"
     ]
    },
    {
     "name": "stdout",
     "output_type": "stream",
     "text": [
      "Validation F1 in epoch160 : 0.8249\n",
      "Validation loss in epoch160 : 7853.9521\n"
     ]
    },
    {
     "name": "stderr",
     "output_type": "stream",
     "text": [
      " 43%|\u001b[32m██████████████████████████████████▏                                             \u001b[0m| 171/400 [00:52<01:07,  3.40it/s]\u001b[0m"
     ]
    },
    {
     "name": "stdout",
     "output_type": "stream",
     "text": [
      "Validation F1 in epoch170 : 0.8239\n",
      "Validation loss in epoch170 : 7839.2427\n"
     ]
    },
    {
     "name": "stderr",
     "output_type": "stream",
     "text": [
      " 45%|\u001b[32m████████████████████████████████████▏                                           \u001b[0m| 181/400 [00:55<01:04,  3.39it/s]\u001b[0m"
     ]
    },
    {
     "name": "stdout",
     "output_type": "stream",
     "text": [
      "Validation F1 in epoch180 : 0.8239\n",
      "Validation loss in epoch180 : 7840.3833\n"
     ]
    },
    {
     "name": "stderr",
     "output_type": "stream",
     "text": [
      " 48%|\u001b[32m██████████████████████████████████████▏                                         \u001b[0m| 191/400 [00:58<01:05,  3.19it/s]\u001b[0m"
     ]
    },
    {
     "name": "stdout",
     "output_type": "stream",
     "text": [
      "Validation F1 in epoch190 : 0.8247\n",
      "Validation loss in epoch190 : 7830.2866\n"
     ]
    },
    {
     "name": "stderr",
     "output_type": "stream",
     "text": [
      " 50%|\u001b[32m████████████████████████████████████████▏                                       \u001b[0m| 201/400 [01:01<00:59,  3.36it/s]\u001b[0m"
     ]
    },
    {
     "name": "stdout",
     "output_type": "stream",
     "text": [
      "Validation F1 in epoch200 : 0.8245\n",
      "Validation loss in epoch200 : 7820.8867\n"
     ]
    },
    {
     "name": "stderr",
     "output_type": "stream",
     "text": [
      " 53%|\u001b[32m██████████████████████████████████████████▏                                     \u001b[0m| 211/400 [01:04<00:52,  3.57it/s]\u001b[0m"
     ]
    },
    {
     "name": "stdout",
     "output_type": "stream",
     "text": [
      "Validation F1 in epoch210 : 0.8260\n",
      "Validation loss in epoch210 : 7820.6128\n"
     ]
    },
    {
     "name": "stderr",
     "output_type": "stream",
     "text": [
      " 55%|\u001b[32m████████████████████████████████████████████▏                                   \u001b[0m| 221/400 [01:07<00:52,  3.43it/s]\u001b[0m"
     ]
    },
    {
     "name": "stdout",
     "output_type": "stream",
     "text": [
      "Validation F1 in epoch220 : 0.8239\n",
      "Validation loss in epoch220 : 7860.7246\n"
     ]
    },
    {
     "name": "stderr",
     "output_type": "stream",
     "text": [
      " 58%|\u001b[32m██████████████████████████████████████████████▏                                 \u001b[0m| 231/400 [01:10<00:49,  3.42it/s]\u001b[0m"
     ]
    },
    {
     "name": "stdout",
     "output_type": "stream",
     "text": [
      "Validation F1 in epoch230 : 0.8236\n",
      "Validation loss in epoch230 : 7834.0586\n"
     ]
    },
    {
     "name": "stderr",
     "output_type": "stream",
     "text": [
      " 60%|\u001b[32m████████████████████████████████████████████████▏                               \u001b[0m| 241/400 [01:13<00:46,  3.40it/s]\u001b[0m"
     ]
    },
    {
     "name": "stdout",
     "output_type": "stream",
     "text": [
      "Validation F1 in epoch240 : 0.8290\n",
      "Validation loss in epoch240 : 7805.7358\n"
     ]
    },
    {
     "name": "stderr",
     "output_type": "stream",
     "text": [
      " 63%|\u001b[32m██████████████████████████████████████████████████▏                             \u001b[0m| 251/400 [01:16<00:48,  3.09it/s]\u001b[0m"
     ]
    },
    {
     "name": "stdout",
     "output_type": "stream",
     "text": [
      "Validation F1 in epoch250 : 0.8254\n",
      "Validation loss in epoch250 : 7855.4746\n"
     ]
    },
    {
     "name": "stderr",
     "output_type": "stream",
     "text": [
      " 65%|\u001b[32m████████████████████████████████████████████████████▏                           \u001b[0m| 261/400 [01:19<00:46,  2.97it/s]\u001b[0m"
     ]
    },
    {
     "name": "stdout",
     "output_type": "stream",
     "text": [
      "Validation F1 in epoch260 : 0.8254\n",
      "Validation loss in epoch260 : 7871.6934\n"
     ]
    },
    {
     "name": "stderr",
     "output_type": "stream",
     "text": [
      " 68%|\u001b[32m██████████████████████████████████████████████████████▏                         \u001b[0m| 271/400 [01:22<00:39,  3.31it/s]\u001b[0m"
     ]
    },
    {
     "name": "stdout",
     "output_type": "stream",
     "text": [
      "Validation F1 in epoch270 : 0.8235\n",
      "Validation loss in epoch270 : 7931.9590\n"
     ]
    },
    {
     "name": "stderr",
     "output_type": "stream",
     "text": [
      " 70%|\u001b[32m████████████████████████████████████████████████████████▏                       \u001b[0m| 281/400 [01:25<00:33,  3.56it/s]\u001b[0m"
     ]
    },
    {
     "name": "stdout",
     "output_type": "stream",
     "text": [
      "Validation F1 in epoch280 : 0.8232\n",
      "Validation loss in epoch280 : 7904.3472\n"
     ]
    },
    {
     "name": "stderr",
     "output_type": "stream",
     "text": [
      " 73%|\u001b[32m██████████████████████████████████████████████████████████▏                     \u001b[0m| 291/400 [01:28<00:33,  3.30it/s]\u001b[0m"
     ]
    },
    {
     "name": "stdout",
     "output_type": "stream",
     "text": [
      "Validation F1 in epoch290 : 0.8239\n",
      "Validation loss in epoch290 : 7890.6465\n"
     ]
    },
    {
     "name": "stderr",
     "output_type": "stream",
     "text": [
      " 75%|\u001b[32m████████████████████████████████████████████████████████████▏                   \u001b[0m| 301/400 [01:31<00:30,  3.20it/s]\u001b[0m"
     ]
    },
    {
     "name": "stdout",
     "output_type": "stream",
     "text": [
      "Validation F1 in epoch300 : 0.8217\n",
      "Validation loss in epoch300 : 7971.7734\n"
     ]
    },
    {
     "name": "stderr",
     "output_type": "stream",
     "text": [
      " 78%|\u001b[32m██████████████████████████████████████████████████████████████▏                 \u001b[0m| 311/400 [01:34<00:27,  3.23it/s]\u001b[0m"
     ]
    },
    {
     "name": "stdout",
     "output_type": "stream",
     "text": [
      "Validation F1 in epoch310 : 0.8210\n",
      "Validation loss in epoch310 : 8006.0898\n"
     ]
    },
    {
     "name": "stderr",
     "output_type": "stream",
     "text": [
      " 80%|\u001b[32m████████████████████████████████████████████████████████████████▏               \u001b[0m| 321/400 [01:37<00:25,  3.05it/s]\u001b[0m"
     ]
    },
    {
     "name": "stdout",
     "output_type": "stream",
     "text": [
      "Validation F1 in epoch320 : 0.8236\n",
      "Validation loss in epoch320 : 8079.1045\n"
     ]
    },
    {
     "name": "stderr",
     "output_type": "stream",
     "text": [
      " 83%|\u001b[32m██████████████████████████████████████████████████████████████████▏             \u001b[0m| 331/400 [01:40<00:23,  2.92it/s]\u001b[0m"
     ]
    },
    {
     "name": "stdout",
     "output_type": "stream",
     "text": [
      "Validation F1 in epoch330 : 0.8204\n",
      "Validation loss in epoch330 : 8103.1284\n"
     ]
    },
    {
     "name": "stderr",
     "output_type": "stream",
     "text": [
      " 85%|\u001b[32m████████████████████████████████████████████████████████████████████▏           \u001b[0m| 341/400 [01:43<00:17,  3.33it/s]\u001b[0m"
     ]
    },
    {
     "name": "stdout",
     "output_type": "stream",
     "text": [
      "Validation F1 in epoch340 : 0.8208\n",
      "Validation loss in epoch340 : 8154.6309\n"
     ]
    },
    {
     "name": "stderr",
     "output_type": "stream",
     "text": [
      " 88%|\u001b[32m██████████████████████████████████████████████████████████████████████▏         \u001b[0m| 351/400 [01:46<00:14,  3.47it/s]\u001b[0m"
     ]
    },
    {
     "name": "stdout",
     "output_type": "stream",
     "text": [
      "Validation F1 in epoch350 : 0.8225\n",
      "Validation loss in epoch350 : 8105.2563\n"
     ]
    },
    {
     "name": "stderr",
     "output_type": "stream",
     "text": [
      " 90%|\u001b[32m████████████████████████████████████████████████████████████████████████▏       \u001b[0m| 361/400 [01:49<00:11,  3.45it/s]\u001b[0m"
     ]
    },
    {
     "name": "stdout",
     "output_type": "stream",
     "text": [
      "Validation F1 in epoch360 : 0.8211\n",
      "Validation loss in epoch360 : 8199.1123\n"
     ]
    },
    {
     "name": "stderr",
     "output_type": "stream",
     "text": [
      " 93%|\u001b[32m██████████████████████████████████████████████████████████████████████████▏     \u001b[0m| 371/400 [01:53<00:09,  3.13it/s]\u001b[0m"
     ]
    },
    {
     "name": "stdout",
     "output_type": "stream",
     "text": [
      "Validation F1 in epoch370 : 0.8189\n",
      "Validation loss in epoch370 : 8253.6543\n"
     ]
    },
    {
     "name": "stderr",
     "output_type": "stream",
     "text": [
      " 95%|\u001b[32m████████████████████████████████████████████████████████████████████████████▏   \u001b[0m| 381/400 [01:56<00:06,  3.06it/s]\u001b[0m"
     ]
    },
    {
     "name": "stdout",
     "output_type": "stream",
     "text": [
      "Validation F1 in epoch380 : 0.8184\n",
      "Validation loss in epoch380 : 8369.2988\n"
     ]
    },
    {
     "name": "stderr",
     "output_type": "stream",
     "text": [
      " 98%|\u001b[32m██████████████████████████████████████████████████████████████████████████████▏ \u001b[0m| 391/400 [01:59<00:02,  3.25it/s]\u001b[0m"
     ]
    },
    {
     "name": "stdout",
     "output_type": "stream",
     "text": [
      "Validation F1 in epoch390 : 0.8200\n",
      "Validation loss in epoch390 : 8413.8789\n"
     ]
    },
    {
     "name": "stderr",
     "output_type": "stream",
     "text": [
      "100%|\u001b[32m████████████████████████████████████████████████████████████████████████████████\u001b[0m| 400/400 [02:02<00:00,  3.27it/s]\u001b[0m\n",
      "  0%|\u001b[32m▏                                                                                 \u001b[0m| 1/400 [00:00<02:08,  3.12it/s]\u001b[0m"
     ]
    },
    {
     "name": "stdout",
     "output_type": "stream",
     "text": [
      "Validation F1 in epoch0 : 0.0868\n",
      "Validation loss in epoch0 : 62466.7344\n"
     ]
    },
    {
     "name": "stderr",
     "output_type": "stream",
     "text": [
      "  3%|\u001b[32m██▏                                                                              \u001b[0m| 11/400 [00:03<01:59,  3.25it/s]\u001b[0m"
     ]
    },
    {
     "name": "stdout",
     "output_type": "stream",
     "text": [
      "Validation F1 in epoch10 : 0.0868\n",
      "Validation loss in epoch10 : 62466.7344\n"
     ]
    },
    {
     "name": "stderr",
     "output_type": "stream",
     "text": [
      "  5%|\u001b[32m████▎                                                                            \u001b[0m| 21/400 [00:06<01:53,  3.33it/s]\u001b[0m"
     ]
    },
    {
     "name": "stdout",
     "output_type": "stream",
     "text": [
      "Validation F1 in epoch20 : 0.5916\n",
      "Validation loss in epoch20 : 21082.6289\n"
     ]
    },
    {
     "name": "stderr",
     "output_type": "stream",
     "text": [
      "  8%|\u001b[32m██████▎                                                                          \u001b[0m| 31/400 [00:09<01:51,  3.32it/s]\u001b[0m"
     ]
    },
    {
     "name": "stdout",
     "output_type": "stream",
     "text": [
      "Validation F1 in epoch30 : 0.6406\n",
      "Validation loss in epoch30 : 17403.3828\n"
     ]
    },
    {
     "name": "stderr",
     "output_type": "stream",
     "text": [
      " 10%|\u001b[32m████████▎                                                                        \u001b[0m| 41/400 [00:12<01:49,  3.29it/s]\u001b[0m"
     ]
    },
    {
     "name": "stdout",
     "output_type": "stream",
     "text": [
      "Validation F1 in epoch40 : 0.7243\n",
      "Validation loss in epoch40 : 12208.1084\n"
     ]
    },
    {
     "name": "stderr",
     "output_type": "stream",
     "text": [
      " 13%|\u001b[32m██████████▎                                                                      \u001b[0m| 51/400 [00:15<01:47,  3.23it/s]\u001b[0m"
     ]
    },
    {
     "name": "stdout",
     "output_type": "stream",
     "text": [
      "Validation F1 in epoch50 : 0.8025\n",
      "Validation loss in epoch50 : 9534.6992\n"
     ]
    },
    {
     "name": "stderr",
     "output_type": "stream",
     "text": [
      " 15%|\u001b[32m████████████▎                                                                    \u001b[0m| 61/400 [00:18<01:46,  3.19it/s]\u001b[0m"
     ]
    },
    {
     "name": "stdout",
     "output_type": "stream",
     "text": [
      "Validation F1 in epoch60 : 0.8295\n",
      "Validation loss in epoch60 : 7986.2334\n"
     ]
    },
    {
     "name": "stderr",
     "output_type": "stream",
     "text": [
      " 18%|\u001b[32m██████████████▍                                                                  \u001b[0m| 71/400 [00:21<01:43,  3.18it/s]\u001b[0m"
     ]
    },
    {
     "name": "stdout",
     "output_type": "stream",
     "text": [
      "Validation F1 in epoch70 : 0.8471\n",
      "Validation loss in epoch70 : 7255.4727\n"
     ]
    },
    {
     "name": "stderr",
     "output_type": "stream",
     "text": [
      " 20%|\u001b[32m████████████████▍                                                                \u001b[0m| 81/400 [00:24<01:39,  3.20it/s]\u001b[0m"
     ]
    },
    {
     "name": "stdout",
     "output_type": "stream",
     "text": [
      "Validation F1 in epoch80 : 0.8521\n",
      "Validation loss in epoch80 : 6975.7222\n"
     ]
    },
    {
     "name": "stderr",
     "output_type": "stream",
     "text": [
      " 23%|\u001b[32m██████████████████▍                                                              \u001b[0m| 91/400 [00:27<01:32,  3.33it/s]\u001b[0m"
     ]
    },
    {
     "name": "stdout",
     "output_type": "stream",
     "text": [
      "Validation F1 in epoch90 : 0.8561\n",
      "Validation loss in epoch90 : 6900.7534\n"
     ]
    },
    {
     "name": "stderr",
     "output_type": "stream",
     "text": [
      " 25%|\u001b[32m████████████████████▏                                                           \u001b[0m| 101/400 [00:31<01:31,  3.25it/s]\u001b[0m"
     ]
    },
    {
     "name": "stdout",
     "output_type": "stream",
     "text": [
      "Validation F1 in epoch100 : 0.8582\n",
      "Validation loss in epoch100 : 6911.1543\n"
     ]
    },
    {
     "name": "stderr",
     "output_type": "stream",
     "text": [
      " 28%|\u001b[32m██████████████████████▏                                                         \u001b[0m| 111/400 [00:34<01:27,  3.30it/s]\u001b[0m"
     ]
    },
    {
     "name": "stdout",
     "output_type": "stream",
     "text": [
      "Validation F1 in epoch110 : 0.8600\n",
      "Validation loss in epoch110 : 6989.5928\n"
     ]
    },
    {
     "name": "stderr",
     "output_type": "stream",
     "text": [
      " 30%|\u001b[32m████████████████████████▏                                                       \u001b[0m| 121/400 [00:37<01:26,  3.24it/s]\u001b[0m"
     ]
    },
    {
     "name": "stdout",
     "output_type": "stream",
     "text": [
      "Validation F1 in epoch120 : 0.8604\n",
      "Validation loss in epoch120 : 7109.9316\n"
     ]
    },
    {
     "name": "stderr",
     "output_type": "stream",
     "text": [
      " 33%|\u001b[32m██████████████████████████▏                                                     \u001b[0m| 131/400 [00:40<01:23,  3.24it/s]\u001b[0m"
     ]
    },
    {
     "name": "stdout",
     "output_type": "stream",
     "text": [
      "Validation F1 in epoch130 : 0.8610\n",
      "Validation loss in epoch130 : 7248.1973\n"
     ]
    },
    {
     "name": "stderr",
     "output_type": "stream",
     "text": [
      " 35%|\u001b[32m████████████████████████████▏                                                   \u001b[0m| 141/400 [00:43<01:21,  3.17it/s]\u001b[0m"
     ]
    },
    {
     "name": "stdout",
     "output_type": "stream",
     "text": [
      "Validation F1 in epoch140 : 0.8616\n",
      "Validation loss in epoch140 : 7396.2871\n"
     ]
    },
    {
     "name": "stderr",
     "output_type": "stream",
     "text": [
      " 38%|\u001b[32m██████████████████████████████▏                                                 \u001b[0m| 151/400 [00:46<01:18,  3.17it/s]\u001b[0m"
     ]
    },
    {
     "name": "stdout",
     "output_type": "stream",
     "text": [
      "Validation F1 in epoch150 : 0.8614\n",
      "Validation loss in epoch150 : 7538.4702\n"
     ]
    },
    {
     "name": "stderr",
     "output_type": "stream",
     "text": [
      " 40%|\u001b[32m████████████████████████████████▏                                               \u001b[0m| 161/400 [00:49<01:12,  3.31it/s]\u001b[0m"
     ]
    },
    {
     "name": "stdout",
     "output_type": "stream",
     "text": [
      "Validation F1 in epoch160 : 0.8613\n",
      "Validation loss in epoch160 : 7675.7715\n"
     ]
    },
    {
     "name": "stderr",
     "output_type": "stream",
     "text": [
      " 43%|\u001b[32m██████████████████████████████████▏                                             \u001b[0m| 171/400 [00:52<01:08,  3.34it/s]\u001b[0m"
     ]
    },
    {
     "name": "stdout",
     "output_type": "stream",
     "text": [
      "Validation F1 in epoch170 : 0.8618\n",
      "Validation loss in epoch170 : 7804.0225\n"
     ]
    },
    {
     "name": "stderr",
     "output_type": "stream",
     "text": [
      " 45%|\u001b[32m████████████████████████████████████▏                                           \u001b[0m| 181/400 [00:55<01:09,  3.17it/s]\u001b[0m"
     ]
    },
    {
     "name": "stdout",
     "output_type": "stream",
     "text": [
      "Validation F1 in epoch180 : 0.8614\n",
      "Validation loss in epoch180 : 7923.7012\n"
     ]
    },
    {
     "name": "stderr",
     "output_type": "stream",
     "text": [
      " 48%|\u001b[32m██████████████████████████████████████▏                                         \u001b[0m| 191/400 [00:58<01:03,  3.29it/s]\u001b[0m"
     ]
    },
    {
     "name": "stdout",
     "output_type": "stream",
     "text": [
      "Validation F1 in epoch190 : 0.8611\n",
      "Validation loss in epoch190 : 8034.8271\n"
     ]
    },
    {
     "name": "stderr",
     "output_type": "stream",
     "text": [
      " 50%|\u001b[32m████████████████████████████████████████▏                                       \u001b[0m| 201/400 [01:01<01:01,  3.24it/s]\u001b[0m"
     ]
    },
    {
     "name": "stdout",
     "output_type": "stream",
     "text": [
      "Validation F1 in epoch200 : 0.8610\n",
      "Validation loss in epoch200 : 8137.9404\n"
     ]
    },
    {
     "name": "stderr",
     "output_type": "stream",
     "text": [
      " 53%|\u001b[32m██████████████████████████████████████████▏                                     \u001b[0m| 211/400 [01:05<00:59,  3.17it/s]\u001b[0m"
     ]
    },
    {
     "name": "stdout",
     "output_type": "stream",
     "text": [
      "Validation F1 in epoch210 : 0.8607\n",
      "Validation loss in epoch210 : 8234.2422\n"
     ]
    },
    {
     "name": "stderr",
     "output_type": "stream",
     "text": [
      " 55%|\u001b[32m████████████████████████████████████████████▏                                   \u001b[0m| 221/400 [01:08<00:57,  3.12it/s]\u001b[0m"
     ]
    },
    {
     "name": "stdout",
     "output_type": "stream",
     "text": [
      "Validation F1 in epoch220 : 0.8602\n",
      "Validation loss in epoch220 : 8322.3027\n"
     ]
    },
    {
     "name": "stderr",
     "output_type": "stream",
     "text": [
      " 58%|\u001b[32m██████████████████████████████████████████████▏                                 \u001b[0m| 231/400 [01:11<00:50,  3.36it/s]\u001b[0m"
     ]
    },
    {
     "name": "stdout",
     "output_type": "stream",
     "text": [
      "Validation F1 in epoch230 : 0.8595\n",
      "Validation loss in epoch230 : 8402.7656\n"
     ]
    },
    {
     "name": "stderr",
     "output_type": "stream",
     "text": [
      " 60%|\u001b[32m████████████████████████████████████████████████▏                               \u001b[0m| 241/400 [01:14<00:48,  3.30it/s]\u001b[0m"
     ]
    },
    {
     "name": "stdout",
     "output_type": "stream",
     "text": [
      "Validation F1 in epoch240 : 0.8588\n",
      "Validation loss in epoch240 : 8475.4795\n"
     ]
    },
    {
     "name": "stderr",
     "output_type": "stream",
     "text": [
      " 63%|\u001b[32m██████████████████████████████████████████████████▏                             \u001b[0m| 251/400 [01:17<00:45,  3.26it/s]\u001b[0m"
     ]
    },
    {
     "name": "stdout",
     "output_type": "stream",
     "text": [
      "Validation F1 in epoch250 : 0.8587\n",
      "Validation loss in epoch250 : 8541.2324\n"
     ]
    },
    {
     "name": "stderr",
     "output_type": "stream",
     "text": [
      " 65%|\u001b[32m████████████████████████████████████████████████████▏                           \u001b[0m| 261/400 [01:20<00:44,  3.11it/s]\u001b[0m"
     ]
    },
    {
     "name": "stdout",
     "output_type": "stream",
     "text": [
      "Validation F1 in epoch260 : 0.8586\n",
      "Validation loss in epoch260 : 8600.5332\n"
     ]
    },
    {
     "name": "stderr",
     "output_type": "stream",
     "text": [
      " 68%|\u001b[32m██████████████████████████████████████████████████████▏                         \u001b[0m| 271/400 [01:23<00:39,  3.25it/s]\u001b[0m"
     ]
    },
    {
     "name": "stdout",
     "output_type": "stream",
     "text": [
      "Validation F1 in epoch270 : 0.8587\n",
      "Validation loss in epoch270 : 8654.8496\n"
     ]
    },
    {
     "name": "stderr",
     "output_type": "stream",
     "text": [
      " 70%|\u001b[32m████████████████████████████████████████████████████████▏                       \u001b[0m| 281/400 [01:26<00:36,  3.23it/s]\u001b[0m"
     ]
    },
    {
     "name": "stdout",
     "output_type": "stream",
     "text": [
      "Validation F1 in epoch280 : 0.8588\n",
      "Validation loss in epoch280 : 8706.1367\n"
     ]
    },
    {
     "name": "stderr",
     "output_type": "stream",
     "text": [
      " 73%|\u001b[32m██████████████████████████████████████████████████████████▏                     \u001b[0m| 291/400 [01:29<00:33,  3.22it/s]\u001b[0m"
     ]
    },
    {
     "name": "stdout",
     "output_type": "stream",
     "text": [
      "Validation F1 in epoch290 : 0.8587\n",
      "Validation loss in epoch290 : 8750.5293\n"
     ]
    },
    {
     "name": "stderr",
     "output_type": "stream",
     "text": [
      " 75%|\u001b[32m████████████████████████████████████████████████████████████▏                   \u001b[0m| 301/400 [01:32<00:29,  3.37it/s]\u001b[0m"
     ]
    },
    {
     "name": "stdout",
     "output_type": "stream",
     "text": [
      "Validation F1 in epoch300 : 0.8585\n",
      "Validation loss in epoch300 : 8790.9902\n"
     ]
    },
    {
     "name": "stderr",
     "output_type": "stream",
     "text": [
      " 78%|\u001b[32m██████████████████████████████████████████████████████████████▏                 \u001b[0m| 311/400 [01:35<00:26,  3.33it/s]\u001b[0m"
     ]
    },
    {
     "name": "stdout",
     "output_type": "stream",
     "text": [
      "Validation F1 in epoch310 : 0.8586\n",
      "Validation loss in epoch310 : 8827.7031\n"
     ]
    },
    {
     "name": "stderr",
     "output_type": "stream",
     "text": [
      " 80%|\u001b[32m████████████████████████████████████████████████████████████████▏               \u001b[0m| 321/400 [01:38<00:23,  3.31it/s]\u001b[0m"
     ]
    },
    {
     "name": "stdout",
     "output_type": "stream",
     "text": [
      "Validation F1 in epoch320 : 0.8583\n",
      "Validation loss in epoch320 : 8861.0332\n"
     ]
    },
    {
     "name": "stderr",
     "output_type": "stream",
     "text": [
      " 83%|\u001b[32m██████████████████████████████████████████████████████████████████▏             \u001b[0m| 331/400 [01:41<00:21,  3.21it/s]\u001b[0m"
     ]
    },
    {
     "name": "stdout",
     "output_type": "stream",
     "text": [
      "Validation F1 in epoch330 : 0.8581\n",
      "Validation loss in epoch330 : 8890.7480\n"
     ]
    },
    {
     "name": "stderr",
     "output_type": "stream",
     "text": [
      " 85%|\u001b[32m████████████████████████████████████████████████████████████████████▏           \u001b[0m| 341/400 [01:45<00:18,  3.20it/s]\u001b[0m"
     ]
    },
    {
     "name": "stdout",
     "output_type": "stream",
     "text": [
      "Validation F1 in epoch340 : 0.8582\n",
      "Validation loss in epoch340 : 8917.9961\n"
     ]
    },
    {
     "name": "stderr",
     "output_type": "stream",
     "text": [
      " 88%|\u001b[32m██████████████████████████████████████████████████████████████████████▏         \u001b[0m| 351/400 [01:48<00:15,  3.24it/s]\u001b[0m"
     ]
    },
    {
     "name": "stdout",
     "output_type": "stream",
     "text": [
      "Validation F1 in epoch350 : 0.8581\n",
      "Validation loss in epoch350 : 8943.4531\n"
     ]
    },
    {
     "name": "stderr",
     "output_type": "stream",
     "text": [
      " 90%|\u001b[32m████████████████████████████████████████████████████████████████████████▏       \u001b[0m| 361/400 [01:51<00:12,  3.18it/s]\u001b[0m"
     ]
    },
    {
     "name": "stdout",
     "output_type": "stream",
     "text": [
      "Validation F1 in epoch360 : 0.8580\n",
      "Validation loss in epoch360 : 8965.7129\n"
     ]
    },
    {
     "name": "stderr",
     "output_type": "stream",
     "text": [
      " 93%|\u001b[32m██████████████████████████████████████████████████████████████████████████▏     \u001b[0m| 371/400 [01:54<00:08,  3.26it/s]\u001b[0m"
     ]
    },
    {
     "name": "stdout",
     "output_type": "stream",
     "text": [
      "Validation F1 in epoch370 : 0.8579\n",
      "Validation loss in epoch370 : 8986.8818\n"
     ]
    },
    {
     "name": "stderr",
     "output_type": "stream",
     "text": [
      " 95%|\u001b[32m████████████████████████████████████████████████████████████████████████████▏   \u001b[0m| 381/400 [01:57<00:05,  3.33it/s]\u001b[0m"
     ]
    },
    {
     "name": "stdout",
     "output_type": "stream",
     "text": [
      "Validation F1 in epoch380 : 0.8580\n",
      "Validation loss in epoch380 : 9007.0234\n"
     ]
    },
    {
     "name": "stderr",
     "output_type": "stream",
     "text": [
      " 98%|\u001b[32m██████████████████████████████████████████████████████████████████████████████▏ \u001b[0m| 391/400 [02:00<00:02,  3.27it/s]\u001b[0m"
     ]
    },
    {
     "name": "stdout",
     "output_type": "stream",
     "text": [
      "Validation F1 in epoch390 : 0.8577\n",
      "Validation loss in epoch390 : 9024.8066\n"
     ]
    },
    {
     "name": "stderr",
     "output_type": "stream",
     "text": [
      "100%|\u001b[32m████████████████████████████████████████████████████████████████████████████████\u001b[0m| 400/400 [02:03<00:00,  3.25it/s]\u001b[0m\n",
      "  0%|\u001b[32m▏                                                                                 \u001b[0m| 1/400 [00:00<02:12,  3.00it/s]\u001b[0m"
     ]
    },
    {
     "name": "stdout",
     "output_type": "stream",
     "text": [
      "Validation F1 in epoch0 : 0.1170\n",
      "Validation loss in epoch0 : 62585.0000\n"
     ]
    },
    {
     "name": "stderr",
     "output_type": "stream",
     "text": [
      "  3%|\u001b[32m██▏                                                                              \u001b[0m| 11/400 [00:03<02:00,  3.23it/s]\u001b[0m"
     ]
    },
    {
     "name": "stdout",
     "output_type": "stream",
     "text": [
      "Validation F1 in epoch10 : 0.1159\n",
      "Validation loss in epoch10 : 62590.6875\n"
     ]
    },
    {
     "name": "stderr",
     "output_type": "stream",
     "text": [
      "  5%|\u001b[32m████▎                                                                            \u001b[0m| 21/400 [00:06<01:52,  3.36it/s]\u001b[0m"
     ]
    },
    {
     "name": "stdout",
     "output_type": "stream",
     "text": [
      "Validation F1 in epoch20 : 0.6038\n",
      "Validation loss in epoch20 : 18821.7402\n"
     ]
    },
    {
     "name": "stderr",
     "output_type": "stream",
     "text": [
      "  8%|\u001b[32m██████▎                                                                          \u001b[0m| 31/400 [00:09<01:49,  3.38it/s]\u001b[0m"
     ]
    },
    {
     "name": "stdout",
     "output_type": "stream",
     "text": [
      "Validation F1 in epoch30 : 0.7391\n",
      "Validation loss in epoch30 : 12006.7061\n"
     ]
    },
    {
     "name": "stderr",
     "output_type": "stream",
     "text": [
      " 10%|\u001b[32m████████▎                                                                        \u001b[0m| 41/400 [00:12<01:47,  3.34it/s]\u001b[0m"
     ]
    },
    {
     "name": "stdout",
     "output_type": "stream",
     "text": [
      "Validation F1 in epoch40 : 0.7674\n",
      "Validation loss in epoch40 : 9125.0156\n"
     ]
    },
    {
     "name": "stderr",
     "output_type": "stream",
     "text": [
      " 13%|\u001b[32m██████████▎                                                                      \u001b[0m| 51/400 [00:15<01:45,  3.29it/s]\u001b[0m"
     ]
    },
    {
     "name": "stdout",
     "output_type": "stream",
     "text": [
      "Validation F1 in epoch50 : 0.8148\n",
      "Validation loss in epoch50 : 7744.2754\n"
     ]
    },
    {
     "name": "stderr",
     "output_type": "stream",
     "text": [
      " 15%|\u001b[32m████████████▎                                                                    \u001b[0m| 61/400 [00:18<01:45,  3.22it/s]\u001b[0m"
     ]
    },
    {
     "name": "stdout",
     "output_type": "stream",
     "text": [
      "Validation F1 in epoch60 : 0.8301\n",
      "Validation loss in epoch60 : 7168.6836\n"
     ]
    },
    {
     "name": "stderr",
     "output_type": "stream",
     "text": [
      " 18%|\u001b[32m██████████████▍                                                                  \u001b[0m| 71/400 [00:21<01:36,  3.40it/s]\u001b[0m"
     ]
    },
    {
     "name": "stdout",
     "output_type": "stream",
     "text": [
      "Validation F1 in epoch70 : 0.8383\n",
      "Validation loss in epoch70 : 6893.2476\n"
     ]
    },
    {
     "name": "stderr",
     "output_type": "stream",
     "text": [
      " 20%|\u001b[32m████████████████▍                                                                \u001b[0m| 81/400 [00:24<01:32,  3.44it/s]\u001b[0m"
     ]
    },
    {
     "name": "stdout",
     "output_type": "stream",
     "text": [
      "Validation F1 in epoch80 : 0.8431\n",
      "Validation loss in epoch80 : 6711.3760\n"
     ]
    },
    {
     "name": "stderr",
     "output_type": "stream",
     "text": [
      " 23%|\u001b[32m██████████████████▍                                                              \u001b[0m| 91/400 [00:27<01:33,  3.31it/s]\u001b[0m"
     ]
    },
    {
     "name": "stdout",
     "output_type": "stream",
     "text": [
      "Validation F1 in epoch90 : 0.8425\n",
      "Validation loss in epoch90 : 6650.5293\n"
     ]
    },
    {
     "name": "stderr",
     "output_type": "stream",
     "text": [
      " 25%|\u001b[32m████████████████████▏                                                           \u001b[0m| 101/400 [00:30<01:28,  3.36it/s]\u001b[0m"
     ]
    },
    {
     "name": "stdout",
     "output_type": "stream",
     "text": [
      "Validation F1 in epoch100 : 0.8446\n",
      "Validation loss in epoch100 : 6575.7944\n"
     ]
    },
    {
     "name": "stderr",
     "output_type": "stream",
     "text": [
      " 28%|\u001b[32m██████████████████████▏                                                         \u001b[0m| 111/400 [00:33<01:24,  3.43it/s]\u001b[0m"
     ]
    },
    {
     "name": "stdout",
     "output_type": "stream",
     "text": [
      "Validation F1 in epoch110 : 0.8465\n",
      "Validation loss in epoch110 : 6510.6729\n"
     ]
    },
    {
     "name": "stderr",
     "output_type": "stream",
     "text": [
      " 30%|\u001b[32m████████████████████████▏                                                       \u001b[0m| 121/400 [00:36<01:21,  3.43it/s]\u001b[0m"
     ]
    },
    {
     "name": "stdout",
     "output_type": "stream",
     "text": [
      "Validation F1 in epoch120 : 0.8483\n",
      "Validation loss in epoch120 : 6476.6152\n"
     ]
    },
    {
     "name": "stderr",
     "output_type": "stream",
     "text": [
      " 33%|\u001b[32m██████████████████████████▏                                                     \u001b[0m| 131/400 [00:39<01:25,  3.16it/s]\u001b[0m"
     ]
    },
    {
     "name": "stdout",
     "output_type": "stream",
     "text": [
      "Validation F1 in epoch130 : 0.8508\n",
      "Validation loss in epoch130 : 6446.7617\n"
     ]
    },
    {
     "name": "stderr",
     "output_type": "stream",
     "text": [
      " 35%|\u001b[32m████████████████████████████▏                                                   \u001b[0m| 141/400 [00:42<01:18,  3.30it/s]\u001b[0m"
     ]
    },
    {
     "name": "stdout",
     "output_type": "stream",
     "text": [
      "Validation F1 in epoch140 : 0.8508\n",
      "Validation loss in epoch140 : 6409.2339\n"
     ]
    },
    {
     "name": "stderr",
     "output_type": "stream",
     "text": [
      " 38%|\u001b[32m██████████████████████████████▏                                                 \u001b[0m| 151/400 [00:45<01:18,  3.17it/s]\u001b[0m"
     ]
    },
    {
     "name": "stdout",
     "output_type": "stream",
     "text": [
      "Validation F1 in epoch150 : 0.8508\n",
      "Validation loss in epoch150 : 6395.6533\n"
     ]
    },
    {
     "name": "stderr",
     "output_type": "stream",
     "text": [
      " 40%|\u001b[32m████████████████████████████████▏                                               \u001b[0m| 161/400 [00:48<01:10,  3.39it/s]\u001b[0m"
     ]
    },
    {
     "name": "stdout",
     "output_type": "stream",
     "text": [
      "Validation F1 in epoch160 : 0.8537\n",
      "Validation loss in epoch160 : 6402.6406\n"
     ]
    },
    {
     "name": "stderr",
     "output_type": "stream",
     "text": [
      " 43%|\u001b[32m██████████████████████████████████▏                                             \u001b[0m| 171/400 [00:52<01:10,  3.25it/s]\u001b[0m"
     ]
    },
    {
     "name": "stdout",
     "output_type": "stream",
     "text": [
      "Validation F1 in epoch170 : 0.8520\n",
      "Validation loss in epoch170 : 6348.5059\n"
     ]
    },
    {
     "name": "stderr",
     "output_type": "stream",
     "text": [
      " 45%|\u001b[32m████████████████████████████████████▏                                           \u001b[0m| 181/400 [00:55<01:07,  3.27it/s]\u001b[0m"
     ]
    },
    {
     "name": "stdout",
     "output_type": "stream",
     "text": [
      "Validation F1 in epoch180 : 0.8536\n",
      "Validation loss in epoch180 : 6332.4780\n"
     ]
    },
    {
     "name": "stderr",
     "output_type": "stream",
     "text": [
      " 48%|\u001b[32m██████████████████████████████████████▏                                         \u001b[0m| 191/400 [00:58<01:01,  3.43it/s]\u001b[0m"
     ]
    },
    {
     "name": "stdout",
     "output_type": "stream",
     "text": [
      "Validation F1 in epoch190 : 0.8531\n",
      "Validation loss in epoch190 : 6367.9736\n"
     ]
    },
    {
     "name": "stderr",
     "output_type": "stream",
     "text": [
      " 50%|\u001b[32m████████████████████████████████████████▏                                       \u001b[0m| 201/400 [01:01<00:56,  3.53it/s]\u001b[0m"
     ]
    },
    {
     "name": "stdout",
     "output_type": "stream",
     "text": [
      "Validation F1 in epoch200 : 0.8534\n",
      "Validation loss in epoch200 : 6349.9160\n"
     ]
    },
    {
     "name": "stderr",
     "output_type": "stream",
     "text": [
      " 53%|\u001b[32m██████████████████████████████████████████▏                                     \u001b[0m| 211/400 [01:04<00:55,  3.41it/s]\u001b[0m"
     ]
    },
    {
     "name": "stdout",
     "output_type": "stream",
     "text": [
      "Validation F1 in epoch210 : 0.8526\n",
      "Validation loss in epoch210 : 6381.4111\n"
     ]
    },
    {
     "name": "stderr",
     "output_type": "stream",
     "text": [
      " 55%|\u001b[32m████████████████████████████████████████████▏                                   \u001b[0m| 221/400 [01:07<00:54,  3.31it/s]\u001b[0m"
     ]
    },
    {
     "name": "stdout",
     "output_type": "stream",
     "text": [
      "Validation F1 in epoch220 : 0.8518\n",
      "Validation loss in epoch220 : 6384.9893\n"
     ]
    },
    {
     "name": "stderr",
     "output_type": "stream",
     "text": [
      " 58%|\u001b[32m██████████████████████████████████████████████▏                                 \u001b[0m| 231/400 [01:10<00:49,  3.42it/s]\u001b[0m"
     ]
    },
    {
     "name": "stdout",
     "output_type": "stream",
     "text": [
      "Validation F1 in epoch230 : 0.8537\n",
      "Validation loss in epoch230 : 6370.6050\n"
     ]
    },
    {
     "name": "stderr",
     "output_type": "stream",
     "text": [
      " 60%|\u001b[32m████████████████████████████████████████████████▏                               \u001b[0m| 241/400 [01:13<00:49,  3.20it/s]\u001b[0m"
     ]
    },
    {
     "name": "stdout",
     "output_type": "stream",
     "text": [
      "Validation F1 in epoch240 : 0.8515\n",
      "Validation loss in epoch240 : 6385.7832\n"
     ]
    },
    {
     "name": "stderr",
     "output_type": "stream",
     "text": [
      " 63%|\u001b[32m██████████████████████████████████████████████████▏                             \u001b[0m| 251/400 [01:16<00:43,  3.45it/s]\u001b[0m"
     ]
    },
    {
     "name": "stdout",
     "output_type": "stream",
     "text": [
      "Validation F1 in epoch250 : 0.8526\n",
      "Validation loss in epoch250 : 6454.9141\n"
     ]
    },
    {
     "name": "stderr",
     "output_type": "stream",
     "text": [
      " 65%|\u001b[32m████████████████████████████████████████████████████▏                           \u001b[0m| 261/400 [01:19<00:39,  3.49it/s]\u001b[0m"
     ]
    },
    {
     "name": "stdout",
     "output_type": "stream",
     "text": [
      "Validation F1 in epoch260 : 0.8557\n",
      "Validation loss in epoch260 : 6414.4873\n"
     ]
    },
    {
     "name": "stderr",
     "output_type": "stream",
     "text": [
      " 68%|\u001b[32m██████████████████████████████████████████████████████▏                         \u001b[0m| 271/400 [01:22<00:39,  3.29it/s]\u001b[0m"
     ]
    },
    {
     "name": "stdout",
     "output_type": "stream",
     "text": [
      "Validation F1 in epoch270 : 0.8543\n",
      "Validation loss in epoch270 : 6501.3789\n"
     ]
    },
    {
     "name": "stderr",
     "output_type": "stream",
     "text": [
      " 70%|\u001b[32m████████████████████████████████████████████████████████▏                       \u001b[0m| 281/400 [01:25<00:36,  3.22it/s]\u001b[0m"
     ]
    },
    {
     "name": "stdout",
     "output_type": "stream",
     "text": [
      "Validation F1 in epoch280 : 0.8531\n",
      "Validation loss in epoch280 : 6453.3525\n"
     ]
    },
    {
     "name": "stderr",
     "output_type": "stream",
     "text": [
      " 73%|\u001b[32m██████████████████████████████████████████████████████████▏                     \u001b[0m| 291/400 [01:28<00:34,  3.16it/s]\u001b[0m"
     ]
    },
    {
     "name": "stdout",
     "output_type": "stream",
     "text": [
      "Validation F1 in epoch290 : 0.8537\n",
      "Validation loss in epoch290 : 6566.4517\n"
     ]
    },
    {
     "name": "stderr",
     "output_type": "stream",
     "text": [
      " 75%|\u001b[32m████████████████████████████████████████████████████████████▏                   \u001b[0m| 301/400 [01:31<00:33,  3.00it/s]\u001b[0m"
     ]
    },
    {
     "name": "stdout",
     "output_type": "stream",
     "text": [
      "Validation F1 in epoch300 : 0.8517\n",
      "Validation loss in epoch300 : 6596.5337\n"
     ]
    },
    {
     "name": "stderr",
     "output_type": "stream",
     "text": [
      " 78%|\u001b[32m██████████████████████████████████████████████████████████████▏                 \u001b[0m| 311/400 [01:34<00:27,  3.27it/s]\u001b[0m"
     ]
    },
    {
     "name": "stdout",
     "output_type": "stream",
     "text": [
      "Validation F1 in epoch310 : 0.8519\n",
      "Validation loss in epoch310 : 6644.1729\n"
     ]
    },
    {
     "name": "stderr",
     "output_type": "stream",
     "text": [
      " 80%|\u001b[32m████████████████████████████████████████████████████████████████▏               \u001b[0m| 321/400 [01:37<00:24,  3.19it/s]\u001b[0m"
     ]
    },
    {
     "name": "stdout",
     "output_type": "stream",
     "text": [
      "Validation F1 in epoch320 : 0.8525\n",
      "Validation loss in epoch320 : 6706.5225\n"
     ]
    },
    {
     "name": "stderr",
     "output_type": "stream",
     "text": [
      " 83%|\u001b[32m██████████████████████████████████████████████████████████████████▏             \u001b[0m| 331/400 [01:40<00:19,  3.48it/s]\u001b[0m"
     ]
    },
    {
     "name": "stdout",
     "output_type": "stream",
     "text": [
      "Validation F1 in epoch330 : 0.8493\n",
      "Validation loss in epoch330 : 6742.7422\n"
     ]
    },
    {
     "name": "stderr",
     "output_type": "stream",
     "text": [
      " 85%|\u001b[32m████████████████████████████████████████████████████████████████████▏           \u001b[0m| 341/400 [01:43<00:17,  3.46it/s]\u001b[0m"
     ]
    },
    {
     "name": "stdout",
     "output_type": "stream",
     "text": [
      "Validation F1 in epoch340 : 0.8484\n",
      "Validation loss in epoch340 : 6831.3105\n"
     ]
    },
    {
     "name": "stderr",
     "output_type": "stream",
     "text": [
      " 88%|\u001b[32m██████████████████████████████████████████████████████████████████████▏         \u001b[0m| 351/400 [01:46<00:15,  3.25it/s]\u001b[0m"
     ]
    },
    {
     "name": "stdout",
     "output_type": "stream",
     "text": [
      "Validation F1 in epoch350 : 0.8501\n",
      "Validation loss in epoch350 : 6851.3369\n"
     ]
    },
    {
     "name": "stderr",
     "output_type": "stream",
     "text": [
      " 90%|\u001b[32m████████████████████████████████████████████████████████████████████████▏       \u001b[0m| 361/400 [01:49<00:11,  3.39it/s]\u001b[0m"
     ]
    },
    {
     "name": "stdout",
     "output_type": "stream",
     "text": [
      "Validation F1 in epoch360 : 0.8497\n",
      "Validation loss in epoch360 : 6917.7500\n"
     ]
    },
    {
     "name": "stderr",
     "output_type": "stream",
     "text": [
      " 93%|\u001b[32m██████████████████████████████████████████████████████████████████████████▏     \u001b[0m| 371/400 [01:52<00:08,  3.47it/s]\u001b[0m"
     ]
    },
    {
     "name": "stdout",
     "output_type": "stream",
     "text": [
      "Validation F1 in epoch370 : 0.8500\n",
      "Validation loss in epoch370 : 6964.5811\n"
     ]
    },
    {
     "name": "stderr",
     "output_type": "stream",
     "text": [
      " 95%|\u001b[32m████████████████████████████████████████████████████████████████████████████▏   \u001b[0m| 381/400 [01:55<00:06,  3.08it/s]\u001b[0m"
     ]
    },
    {
     "name": "stdout",
     "output_type": "stream",
     "text": [
      "Validation F1 in epoch380 : 0.8510\n",
      "Validation loss in epoch380 : 7055.8438\n"
     ]
    },
    {
     "name": "stderr",
     "output_type": "stream",
     "text": [
      " 98%|\u001b[32m██████████████████████████████████████████████████████████████████████████████▏ \u001b[0m| 391/400 [01:58<00:02,  3.23it/s]\u001b[0m"
     ]
    },
    {
     "name": "stdout",
     "output_type": "stream",
     "text": [
      "Validation F1 in epoch390 : 0.8497\n",
      "Validation loss in epoch390 : 7159.4204\n"
     ]
    },
    {
     "name": "stderr",
     "output_type": "stream",
     "text": [
      "100%|\u001b[32m████████████████████████████████████████████████████████████████████████████████\u001b[0m| 400/400 [02:01<00:00,  3.29it/s]\u001b[0m\n",
      "  0%|\u001b[32m▏                                                                                 \u001b[0m| 1/400 [00:00<01:45,  3.77it/s]\u001b[0m"
     ]
    },
    {
     "name": "stdout",
     "output_type": "stream",
     "text": [
      "Validation F1 in epoch0 : 0.1509\n",
      "Validation loss in epoch0 : 62785.0703\n"
     ]
    },
    {
     "name": "stderr",
     "output_type": "stream",
     "text": [
      "  3%|\u001b[32m██▏                                                                              \u001b[0m| 11/400 [00:03<01:52,  3.47it/s]\u001b[0m"
     ]
    },
    {
     "name": "stdout",
     "output_type": "stream",
     "text": [
      "Validation F1 in epoch10 : 0.1496\n",
      "Validation loss in epoch10 : 62769.1641\n"
     ]
    },
    {
     "name": "stderr",
     "output_type": "stream",
     "text": [
      "  5%|\u001b[32m████▎                                                                            \u001b[0m| 21/400 [00:06<01:52,  3.38it/s]\u001b[0m"
     ]
    },
    {
     "name": "stdout",
     "output_type": "stream",
     "text": [
      "Validation F1 in epoch20 : 0.5936\n",
      "Validation loss in epoch20 : 18058.6543\n"
     ]
    },
    {
     "name": "stderr",
     "output_type": "stream",
     "text": [
      "  8%|\u001b[32m██████▎                                                                          \u001b[0m| 31/400 [00:09<01:55,  3.19it/s]\u001b[0m"
     ]
    },
    {
     "name": "stdout",
     "output_type": "stream",
     "text": [
      "Validation F1 in epoch30 : 0.6741\n",
      "Validation loss in epoch30 : 12584.1357\n"
     ]
    },
    {
     "name": "stderr",
     "output_type": "stream",
     "text": [
      " 10%|\u001b[32m████████▎                                                                        \u001b[0m| 41/400 [00:12<01:46,  3.37it/s]\u001b[0m"
     ]
    },
    {
     "name": "stdout",
     "output_type": "stream",
     "text": [
      "Validation F1 in epoch40 : 0.7761\n",
      "Validation loss in epoch40 : 10312.8477\n"
     ]
    },
    {
     "name": "stderr",
     "output_type": "stream",
     "text": [
      " 13%|\u001b[32m██████████▎                                                                      \u001b[0m| 51/400 [00:15<01:55,  3.03it/s]\u001b[0m"
     ]
    },
    {
     "name": "stdout",
     "output_type": "stream",
     "text": [
      "Validation F1 in epoch50 : 0.7944\n",
      "Validation loss in epoch50 : 9078.1895\n"
     ]
    },
    {
     "name": "stderr",
     "output_type": "stream",
     "text": [
      " 15%|\u001b[32m████████████▎                                                                    \u001b[0m| 61/400 [00:18<01:41,  3.35it/s]\u001b[0m"
     ]
    },
    {
     "name": "stdout",
     "output_type": "stream",
     "text": [
      "Validation F1 in epoch60 : 0.8098\n",
      "Validation loss in epoch60 : 8561.9180\n"
     ]
    },
    {
     "name": "stderr",
     "output_type": "stream",
     "text": [
      " 18%|\u001b[32m██████████████▍                                                                  \u001b[0m| 71/400 [00:21<01:38,  3.33it/s]\u001b[0m"
     ]
    },
    {
     "name": "stdout",
     "output_type": "stream",
     "text": [
      "Validation F1 in epoch70 : 0.8140\n",
      "Validation loss in epoch70 : 8378.9805\n"
     ]
    },
    {
     "name": "stderr",
     "output_type": "stream",
     "text": [
      " 20%|\u001b[32m████████████████▍                                                                \u001b[0m| 81/400 [00:24<01:40,  3.17it/s]\u001b[0m"
     ]
    },
    {
     "name": "stdout",
     "output_type": "stream",
     "text": [
      "Validation F1 in epoch80 : 0.8181\n",
      "Validation loss in epoch80 : 8178.0586\n"
     ]
    },
    {
     "name": "stderr",
     "output_type": "stream",
     "text": [
      " 23%|\u001b[32m██████████████████▍                                                              \u001b[0m| 91/400 [00:27<01:31,  3.37it/s]\u001b[0m"
     ]
    },
    {
     "name": "stdout",
     "output_type": "stream",
     "text": [
      "Validation F1 in epoch90 : 0.8224\n",
      "Validation loss in epoch90 : 8081.0869\n"
     ]
    },
    {
     "name": "stderr",
     "output_type": "stream",
     "text": [
      " 25%|\u001b[32m████████████████████▏                                                           \u001b[0m| 101/400 [00:30<01:28,  3.37it/s]\u001b[0m"
     ]
    },
    {
     "name": "stdout",
     "output_type": "stream",
     "text": [
      "Validation F1 in epoch100 : 0.8224\n",
      "Validation loss in epoch100 : 8049.1475\n"
     ]
    },
    {
     "name": "stderr",
     "output_type": "stream",
     "text": [
      " 28%|\u001b[32m██████████████████████▏                                                         \u001b[0m| 111/400 [00:33<01:31,  3.18it/s]\u001b[0m"
     ]
    },
    {
     "name": "stdout",
     "output_type": "stream",
     "text": [
      "Validation F1 in epoch110 : 0.8231\n",
      "Validation loss in epoch110 : 7995.7227\n"
     ]
    },
    {
     "name": "stderr",
     "output_type": "stream",
     "text": [
      " 30%|\u001b[32m████████████████████████▏                                                       \u001b[0m| 121/400 [00:36<01:23,  3.34it/s]\u001b[0m"
     ]
    },
    {
     "name": "stdout",
     "output_type": "stream",
     "text": [
      "Validation F1 in epoch120 : 0.8227\n",
      "Validation loss in epoch120 : 7940.6318\n"
     ]
    },
    {
     "name": "stderr",
     "output_type": "stream",
     "text": [
      " 33%|\u001b[32m██████████████████████████▏                                                     \u001b[0m| 131/400 [00:39<01:15,  3.57it/s]\u001b[0m"
     ]
    },
    {
     "name": "stdout",
     "output_type": "stream",
     "text": [
      "Validation F1 in epoch130 : 0.8247\n",
      "Validation loss in epoch130 : 7927.2710\n"
     ]
    },
    {
     "name": "stderr",
     "output_type": "stream",
     "text": [
      " 35%|\u001b[32m████████████████████████████▏                                                   \u001b[0m| 141/400 [00:42<01:16,  3.39it/s]\u001b[0m"
     ]
    },
    {
     "name": "stdout",
     "output_type": "stream",
     "text": [
      "Validation F1 in epoch140 : 0.8250\n",
      "Validation loss in epoch140 : 7903.7114\n"
     ]
    },
    {
     "name": "stderr",
     "output_type": "stream",
     "text": [
      " 38%|\u001b[32m██████████████████████████████▏                                                 \u001b[0m| 151/400 [00:45<01:12,  3.44it/s]\u001b[0m"
     ]
    },
    {
     "name": "stdout",
     "output_type": "stream",
     "text": [
      "Validation F1 in epoch150 : 0.8247\n",
      "Validation loss in epoch150 : 7853.7949\n"
     ]
    },
    {
     "name": "stderr",
     "output_type": "stream",
     "text": [
      " 40%|\u001b[32m████████████████████████████████▏                                               \u001b[0m| 161/400 [00:48<01:09,  3.44it/s]\u001b[0m"
     ]
    },
    {
     "name": "stdout",
     "output_type": "stream",
     "text": [
      "Validation F1 in epoch160 : 0.8249\n",
      "Validation loss in epoch160 : 7853.9521\n"
     ]
    },
    {
     "name": "stderr",
     "output_type": "stream",
     "text": [
      " 43%|\u001b[32m██████████████████████████████████▏                                             \u001b[0m| 171/400 [00:52<01:15,  3.05it/s]\u001b[0m"
     ]
    },
    {
     "name": "stdout",
     "output_type": "stream",
     "text": [
      "Validation F1 in epoch170 : 0.8239\n",
      "Validation loss in epoch170 : 7839.2427\n"
     ]
    },
    {
     "name": "stderr",
     "output_type": "stream",
     "text": [
      " 45%|\u001b[32m████████████████████████████████████▏                                           \u001b[0m| 181/400 [00:54<01:05,  3.35it/s]\u001b[0m"
     ]
    },
    {
     "name": "stdout",
     "output_type": "stream",
     "text": [
      "Validation F1 in epoch180 : 0.8239\n",
      "Validation loss in epoch180 : 7840.3833\n"
     ]
    },
    {
     "name": "stderr",
     "output_type": "stream",
     "text": [
      " 48%|\u001b[32m██████████████████████████████████████▏                                         \u001b[0m| 191/400 [00:58<01:03,  3.31it/s]\u001b[0m"
     ]
    },
    {
     "name": "stdout",
     "output_type": "stream",
     "text": [
      "Validation F1 in epoch190 : 0.8247\n",
      "Validation loss in epoch190 : 7830.2866\n"
     ]
    },
    {
     "name": "stderr",
     "output_type": "stream",
     "text": [
      " 50%|\u001b[32m████████████████████████████████████████▏                                       \u001b[0m| 201/400 [01:01<01:03,  3.13it/s]\u001b[0m"
     ]
    },
    {
     "name": "stdout",
     "output_type": "stream",
     "text": [
      "Validation F1 in epoch200 : 0.8245\n",
      "Validation loss in epoch200 : 7820.8867\n"
     ]
    },
    {
     "name": "stderr",
     "output_type": "stream",
     "text": [
      " 53%|\u001b[32m██████████████████████████████████████████▏                                     \u001b[0m| 211/400 [01:03<00:54,  3.48it/s]\u001b[0m"
     ]
    },
    {
     "name": "stdout",
     "output_type": "stream",
     "text": [
      "Validation F1 in epoch210 : 0.8260\n",
      "Validation loss in epoch210 : 7820.6128\n"
     ]
    },
    {
     "name": "stderr",
     "output_type": "stream",
     "text": [
      " 55%|\u001b[32m████████████████████████████████████████████▏                                   \u001b[0m| 221/400 [01:07<00:51,  3.50it/s]\u001b[0m"
     ]
    },
    {
     "name": "stdout",
     "output_type": "stream",
     "text": [
      "Validation F1 in epoch220 : 0.8239\n",
      "Validation loss in epoch220 : 7860.7246\n"
     ]
    },
    {
     "name": "stderr",
     "output_type": "stream",
     "text": [
      " 58%|\u001b[32m██████████████████████████████████████████████▏                                 \u001b[0m| 231/400 [01:10<00:53,  3.14it/s]\u001b[0m"
     ]
    },
    {
     "name": "stdout",
     "output_type": "stream",
     "text": [
      "Validation F1 in epoch230 : 0.8236\n",
      "Validation loss in epoch230 : 7834.0586\n"
     ]
    },
    {
     "name": "stderr",
     "output_type": "stream",
     "text": [
      " 60%|\u001b[32m████████████████████████████████████████████████▏                               \u001b[0m| 241/400 [01:13<00:46,  3.38it/s]\u001b[0m"
     ]
    },
    {
     "name": "stdout",
     "output_type": "stream",
     "text": [
      "Validation F1 in epoch240 : 0.8290\n",
      "Validation loss in epoch240 : 7805.7358\n"
     ]
    },
    {
     "name": "stderr",
     "output_type": "stream",
     "text": [
      " 63%|\u001b[32m██████████████████████████████████████████████████▏                             \u001b[0m| 251/400 [01:16<00:43,  3.40it/s]\u001b[0m"
     ]
    },
    {
     "name": "stdout",
     "output_type": "stream",
     "text": [
      "Validation F1 in epoch250 : 0.8254\n",
      "Validation loss in epoch250 : 7855.4746\n"
     ]
    },
    {
     "name": "stderr",
     "output_type": "stream",
     "text": [
      " 65%|\u001b[32m████████████████████████████████████████████████████▏                           \u001b[0m| 261/400 [01:19<00:41,  3.32it/s]\u001b[0m"
     ]
    },
    {
     "name": "stdout",
     "output_type": "stream",
     "text": [
      "Validation F1 in epoch260 : 0.8254\n",
      "Validation loss in epoch260 : 7871.6934\n"
     ]
    },
    {
     "name": "stderr",
     "output_type": "stream",
     "text": [
      " 68%|\u001b[32m██████████████████████████████████████████████████████▏                         \u001b[0m| 271/400 [01:22<00:36,  3.52it/s]\u001b[0m"
     ]
    },
    {
     "name": "stdout",
     "output_type": "stream",
     "text": [
      "Validation F1 in epoch270 : 0.8235\n",
      "Validation loss in epoch270 : 7931.9590\n"
     ]
    },
    {
     "name": "stderr",
     "output_type": "stream",
     "text": [
      " 70%|\u001b[32m████████████████████████████████████████████████████████▏                       \u001b[0m| 281/400 [01:25<00:34,  3.49it/s]\u001b[0m"
     ]
    },
    {
     "name": "stdout",
     "output_type": "stream",
     "text": [
      "Validation F1 in epoch280 : 0.8232\n",
      "Validation loss in epoch280 : 7904.3472\n"
     ]
    },
    {
     "name": "stderr",
     "output_type": "stream",
     "text": [
      " 73%|\u001b[32m██████████████████████████████████████████████████████████▏                     \u001b[0m| 291/400 [01:28<00:32,  3.37it/s]\u001b[0m"
     ]
    },
    {
     "name": "stdout",
     "output_type": "stream",
     "text": [
      "Validation F1 in epoch290 : 0.8239\n",
      "Validation loss in epoch290 : 7890.6465\n"
     ]
    },
    {
     "name": "stderr",
     "output_type": "stream",
     "text": [
      " 75%|\u001b[32m████████████████████████████████████████████████████████████▏                   \u001b[0m| 301/400 [01:31<00:32,  3.01it/s]\u001b[0m"
     ]
    },
    {
     "name": "stdout",
     "output_type": "stream",
     "text": [
      "Validation F1 in epoch300 : 0.8217\n",
      "Validation loss in epoch300 : 7971.7734\n"
     ]
    },
    {
     "name": "stderr",
     "output_type": "stream",
     "text": [
      " 78%|\u001b[32m██████████████████████████████████████████████████████████████▏                 \u001b[0m| 311/400 [01:34<00:26,  3.41it/s]\u001b[0m"
     ]
    },
    {
     "name": "stdout",
     "output_type": "stream",
     "text": [
      "Validation F1 in epoch310 : 0.8210\n",
      "Validation loss in epoch310 : 8006.0898\n"
     ]
    },
    {
     "name": "stderr",
     "output_type": "stream",
     "text": [
      " 80%|\u001b[32m████████████████████████████████████████████████████████████████▏               \u001b[0m| 321/400 [01:37<00:26,  2.98it/s]\u001b[0m"
     ]
    },
    {
     "name": "stdout",
     "output_type": "stream",
     "text": [
      "Validation F1 in epoch320 : 0.8236\n",
      "Validation loss in epoch320 : 8079.1045\n"
     ]
    },
    {
     "name": "stderr",
     "output_type": "stream",
     "text": [
      " 83%|\u001b[32m██████████████████████████████████████████████████████████████████▏             \u001b[0m| 331/400 [01:40<00:21,  3.28it/s]\u001b[0m"
     ]
    },
    {
     "name": "stdout",
     "output_type": "stream",
     "text": [
      "Validation F1 in epoch330 : 0.8204\n",
      "Validation loss in epoch330 : 8103.1284\n"
     ]
    },
    {
     "name": "stderr",
     "output_type": "stream",
     "text": [
      " 85%|\u001b[32m████████████████████████████████████████████████████████████████████▏           \u001b[0m| 341/400 [01:43<00:16,  3.54it/s]\u001b[0m"
     ]
    },
    {
     "name": "stdout",
     "output_type": "stream",
     "text": [
      "Validation F1 in epoch340 : 0.8208\n",
      "Validation loss in epoch340 : 8154.6309\n"
     ]
    },
    {
     "name": "stderr",
     "output_type": "stream",
     "text": [
      " 88%|\u001b[32m██████████████████████████████████████████████████████████████████████▏         \u001b[0m| 351/400 [01:46<00:14,  3.47it/s]\u001b[0m"
     ]
    },
    {
     "name": "stdout",
     "output_type": "stream",
     "text": [
      "Validation F1 in epoch350 : 0.8225\n",
      "Validation loss in epoch350 : 8105.2563\n"
     ]
    },
    {
     "name": "stderr",
     "output_type": "stream",
     "text": [
      " 90%|\u001b[32m████████████████████████████████████████████████████████████████████████▏       \u001b[0m| 361/400 [01:49<00:11,  3.53it/s]\u001b[0m"
     ]
    },
    {
     "name": "stdout",
     "output_type": "stream",
     "text": [
      "Validation F1 in epoch360 : 0.8211\n",
      "Validation loss in epoch360 : 8199.1123\n"
     ]
    },
    {
     "name": "stderr",
     "output_type": "stream",
     "text": [
      " 93%|\u001b[32m██████████████████████████████████████████████████████████████████████████▏     \u001b[0m| 371/400 [01:52<00:08,  3.51it/s]\u001b[0m"
     ]
    },
    {
     "name": "stdout",
     "output_type": "stream",
     "text": [
      "Validation F1 in epoch370 : 0.8189\n",
      "Validation loss in epoch370 : 8253.6543\n"
     ]
    },
    {
     "name": "stderr",
     "output_type": "stream",
     "text": [
      " 95%|\u001b[32m████████████████████████████████████████████████████████████████████████████▏   \u001b[0m| 381/400 [01:55<00:06,  3.11it/s]\u001b[0m"
     ]
    },
    {
     "name": "stdout",
     "output_type": "stream",
     "text": [
      "Validation F1 in epoch380 : 0.8184\n",
      "Validation loss in epoch380 : 8369.2988\n"
     ]
    },
    {
     "name": "stderr",
     "output_type": "stream",
     "text": [
      " 98%|\u001b[32m██████████████████████████████████████████████████████████████████████████████▏ \u001b[0m| 391/400 [01:58<00:02,  3.25it/s]\u001b[0m"
     ]
    },
    {
     "name": "stdout",
     "output_type": "stream",
     "text": [
      "Validation F1 in epoch390 : 0.8200\n",
      "Validation loss in epoch390 : 8413.8789\n"
     ]
    },
    {
     "name": "stderr",
     "output_type": "stream",
     "text": [
      "100%|\u001b[32m████████████████████████████████████████████████████████████████████████████████\u001b[0m| 400/400 [02:01<00:00,  3.30it/s]\u001b[0m\n",
      "  0%|\u001b[32m▏                                                                                 \u001b[0m| 1/400 [00:00<02:05,  3.18it/s]\u001b[0m"
     ]
    },
    {
     "name": "stdout",
     "output_type": "stream",
     "text": [
      "Validation F1 in epoch0 : 0.0868\n",
      "Validation loss in epoch0 : 62466.7344\n"
     ]
    },
    {
     "name": "stderr",
     "output_type": "stream",
     "text": [
      "  3%|\u001b[32m██▏                                                                              \u001b[0m| 11/400 [00:03<01:54,  3.39it/s]\u001b[0m"
     ]
    },
    {
     "name": "stdout",
     "output_type": "stream",
     "text": [
      "Validation F1 in epoch10 : 0.0868\n",
      "Validation loss in epoch10 : 62466.7344\n"
     ]
    },
    {
     "name": "stderr",
     "output_type": "stream",
     "text": [
      "  5%|\u001b[32m████▎                                                                            \u001b[0m| 21/400 [00:06<01:53,  3.34it/s]\u001b[0m"
     ]
    },
    {
     "name": "stdout",
     "output_type": "stream",
     "text": [
      "Validation F1 in epoch20 : 0.5916\n",
      "Validation loss in epoch20 : 21082.6289\n"
     ]
    },
    {
     "name": "stderr",
     "output_type": "stream",
     "text": [
      "  8%|\u001b[32m██████▎                                                                          \u001b[0m| 31/400 [00:09<01:58,  3.11it/s]\u001b[0m"
     ]
    },
    {
     "name": "stdout",
     "output_type": "stream",
     "text": [
      "Validation F1 in epoch30 : 0.6406\n",
      "Validation loss in epoch30 : 17403.3828\n"
     ]
    },
    {
     "name": "stderr",
     "output_type": "stream",
     "text": [
      " 10%|\u001b[32m████████▎                                                                        \u001b[0m| 41/400 [00:12<01:49,  3.27it/s]\u001b[0m"
     ]
    },
    {
     "name": "stdout",
     "output_type": "stream",
     "text": [
      "Validation F1 in epoch40 : 0.7243\n",
      "Validation loss in epoch40 : 12208.1084\n"
     ]
    },
    {
     "name": "stderr",
     "output_type": "stream",
     "text": [
      " 13%|\u001b[32m██████████▎                                                                      \u001b[0m| 51/400 [00:15<01:50,  3.17it/s]\u001b[0m"
     ]
    },
    {
     "name": "stdout",
     "output_type": "stream",
     "text": [
      "Validation F1 in epoch50 : 0.8025\n",
      "Validation loss in epoch50 : 9534.6992\n"
     ]
    },
    {
     "name": "stderr",
     "output_type": "stream",
     "text": [
      " 15%|\u001b[32m████████████▎                                                                    \u001b[0m| 61/400 [00:18<01:46,  3.18it/s]\u001b[0m"
     ]
    },
    {
     "name": "stdout",
     "output_type": "stream",
     "text": [
      "Validation F1 in epoch60 : 0.8295\n",
      "Validation loss in epoch60 : 7986.2334\n"
     ]
    },
    {
     "name": "stderr",
     "output_type": "stream",
     "text": [
      " 18%|\u001b[32m██████████████▍                                                                  \u001b[0m| 71/400 [00:21<01:42,  3.21it/s]\u001b[0m"
     ]
    },
    {
     "name": "stdout",
     "output_type": "stream",
     "text": [
      "Validation F1 in epoch70 : 0.8471\n",
      "Validation loss in epoch70 : 7255.4727\n"
     ]
    },
    {
     "name": "stderr",
     "output_type": "stream",
     "text": [
      " 20%|\u001b[32m████████████████▍                                                                \u001b[0m| 81/400 [00:24<01:34,  3.36it/s]\u001b[0m"
     ]
    },
    {
     "name": "stdout",
     "output_type": "stream",
     "text": [
      "Validation F1 in epoch80 : 0.8521\n",
      "Validation loss in epoch80 : 6975.7222\n"
     ]
    },
    {
     "name": "stderr",
     "output_type": "stream",
     "text": [
      " 23%|\u001b[32m██████████████████▍                                                              \u001b[0m| 91/400 [00:27<01:32,  3.34it/s]\u001b[0m"
     ]
    },
    {
     "name": "stdout",
     "output_type": "stream",
     "text": [
      "Validation F1 in epoch90 : 0.8561\n",
      "Validation loss in epoch90 : 6900.7534\n"
     ]
    },
    {
     "name": "stderr",
     "output_type": "stream",
     "text": [
      " 25%|\u001b[32m████████████████████▏                                                           \u001b[0m| 101/400 [00:30<01:35,  3.12it/s]\u001b[0m"
     ]
    },
    {
     "name": "stdout",
     "output_type": "stream",
     "text": [
      "Validation F1 in epoch100 : 0.8582\n",
      "Validation loss in epoch100 : 6911.1543\n"
     ]
    },
    {
     "name": "stderr",
     "output_type": "stream",
     "text": [
      " 28%|\u001b[32m██████████████████████▏                                                         \u001b[0m| 111/400 [00:33<01:29,  3.22it/s]\u001b[0m"
     ]
    },
    {
     "name": "stdout",
     "output_type": "stream",
     "text": [
      "Validation F1 in epoch110 : 0.8600\n",
      "Validation loss in epoch110 : 6989.5928\n"
     ]
    },
    {
     "name": "stderr",
     "output_type": "stream",
     "text": [
      " 30%|\u001b[32m████████████████████████▏                                                       \u001b[0m| 121/400 [00:37<01:29,  3.10it/s]\u001b[0m"
     ]
    },
    {
     "name": "stdout",
     "output_type": "stream",
     "text": [
      "Validation F1 in epoch120 : 0.8604\n",
      "Validation loss in epoch120 : 7109.9316\n"
     ]
    },
    {
     "name": "stderr",
     "output_type": "stream",
     "text": [
      " 33%|\u001b[32m██████████████████████████▏                                                     \u001b[0m| 131/400 [00:40<01:23,  3.21it/s]\u001b[0m"
     ]
    },
    {
     "name": "stdout",
     "output_type": "stream",
     "text": [
      "Validation F1 in epoch130 : 0.8610\n",
      "Validation loss in epoch130 : 7248.1973\n"
     ]
    },
    {
     "name": "stderr",
     "output_type": "stream",
     "text": [
      " 35%|\u001b[32m████████████████████████████▏                                                   \u001b[0m| 141/400 [00:43<01:21,  3.20it/s]\u001b[0m"
     ]
    },
    {
     "name": "stdout",
     "output_type": "stream",
     "text": [
      "Validation F1 in epoch140 : 0.8616\n",
      "Validation loss in epoch140 : 7396.2871\n"
     ]
    },
    {
     "name": "stderr",
     "output_type": "stream",
     "text": [
      " 38%|\u001b[32m██████████████████████████████▏                                                 \u001b[0m| 151/400 [00:46<01:13,  3.37it/s]\u001b[0m"
     ]
    },
    {
     "name": "stdout",
     "output_type": "stream",
     "text": [
      "Validation F1 in epoch150 : 0.8614\n",
      "Validation loss in epoch150 : 7538.4702\n"
     ]
    },
    {
     "name": "stderr",
     "output_type": "stream",
     "text": [
      " 40%|\u001b[32m████████████████████████████████▏                                               \u001b[0m| 161/400 [00:49<01:12,  3.31it/s]\u001b[0m"
     ]
    },
    {
     "name": "stdout",
     "output_type": "stream",
     "text": [
      "Validation F1 in epoch160 : 0.8613\n",
      "Validation loss in epoch160 : 7675.7715\n"
     ]
    },
    {
     "name": "stderr",
     "output_type": "stream",
     "text": [
      " 43%|\u001b[32m██████████████████████████████████▏                                             \u001b[0m| 171/400 [00:52<01:10,  3.26it/s]\u001b[0m"
     ]
    },
    {
     "name": "stdout",
     "output_type": "stream",
     "text": [
      "Validation F1 in epoch170 : 0.8618\n",
      "Validation loss in epoch170 : 7804.0225\n"
     ]
    },
    {
     "name": "stderr",
     "output_type": "stream",
     "text": [
      " 45%|\u001b[32m████████████████████████████████████▏                                           \u001b[0m| 181/400 [00:55<01:06,  3.29it/s]\u001b[0m"
     ]
    },
    {
     "name": "stdout",
     "output_type": "stream",
     "text": [
      "Validation F1 in epoch180 : 0.8614\n",
      "Validation loss in epoch180 : 7923.7012\n"
     ]
    },
    {
     "name": "stderr",
     "output_type": "stream",
     "text": [
      " 48%|\u001b[32m██████████████████████████████████████▏                                         \u001b[0m| 191/400 [00:58<01:04,  3.22it/s]\u001b[0m"
     ]
    },
    {
     "name": "stdout",
     "output_type": "stream",
     "text": [
      "Validation F1 in epoch190 : 0.8611\n",
      "Validation loss in epoch190 : 8034.8271\n"
     ]
    },
    {
     "name": "stderr",
     "output_type": "stream",
     "text": [
      " 50%|\u001b[32m████████████████████████████████████████▏                                       \u001b[0m| 201/400 [01:01<01:01,  3.23it/s]\u001b[0m"
     ]
    },
    {
     "name": "stdout",
     "output_type": "stream",
     "text": [
      "Validation F1 in epoch200 : 0.8610\n",
      "Validation loss in epoch200 : 8137.9404\n"
     ]
    },
    {
     "name": "stderr",
     "output_type": "stream",
     "text": [
      " 53%|\u001b[32m██████████████████████████████████████████▏                                     \u001b[0m| 211/400 [01:04<00:58,  3.22it/s]\u001b[0m"
     ]
    },
    {
     "name": "stdout",
     "output_type": "stream",
     "text": [
      "Validation F1 in epoch210 : 0.8607\n",
      "Validation loss in epoch210 : 8234.2422\n"
     ]
    },
    {
     "name": "stderr",
     "output_type": "stream",
     "text": [
      " 55%|\u001b[32m████████████████████████████████████████████▏                                   \u001b[0m| 221/400 [01:07<00:53,  3.35it/s]\u001b[0m"
     ]
    },
    {
     "name": "stdout",
     "output_type": "stream",
     "text": [
      "Validation F1 in epoch220 : 0.8602\n",
      "Validation loss in epoch220 : 8322.3027\n"
     ]
    },
    {
     "name": "stderr",
     "output_type": "stream",
     "text": [
      " 58%|\u001b[32m██████████████████████████████████████████████▏                                 \u001b[0m| 231/400 [01:10<00:51,  3.29it/s]\u001b[0m"
     ]
    },
    {
     "name": "stdout",
     "output_type": "stream",
     "text": [
      "Validation F1 in epoch230 : 0.8595\n",
      "Validation loss in epoch230 : 8402.7656\n"
     ]
    },
    {
     "name": "stderr",
     "output_type": "stream",
     "text": [
      " 60%|\u001b[32m████████████████████████████████████████████████▏                               \u001b[0m| 241/400 [01:13<00:48,  3.26it/s]\u001b[0m"
     ]
    },
    {
     "name": "stdout",
     "output_type": "stream",
     "text": [
      "Validation F1 in epoch240 : 0.8588\n",
      "Validation loss in epoch240 : 8475.4795\n"
     ]
    },
    {
     "name": "stderr",
     "output_type": "stream",
     "text": [
      " 63%|\u001b[32m██████████████████████████████████████████████████▏                             \u001b[0m| 251/400 [01:16<00:45,  3.28it/s]\u001b[0m"
     ]
    },
    {
     "name": "stdout",
     "output_type": "stream",
     "text": [
      "Validation F1 in epoch250 : 0.8587\n",
      "Validation loss in epoch250 : 8541.2324\n"
     ]
    },
    {
     "name": "stderr",
     "output_type": "stream",
     "text": [
      " 65%|\u001b[32m████████████████████████████████████████████████████▏                           \u001b[0m| 261/400 [01:20<00:42,  3.25it/s]\u001b[0m"
     ]
    },
    {
     "name": "stdout",
     "output_type": "stream",
     "text": [
      "Validation F1 in epoch260 : 0.8586\n",
      "Validation loss in epoch260 : 8600.5332\n"
     ]
    },
    {
     "name": "stderr",
     "output_type": "stream",
     "text": [
      " 68%|\u001b[32m██████████████████████████████████████████████████████▏                         \u001b[0m| 271/400 [01:23<00:39,  3.23it/s]\u001b[0m"
     ]
    },
    {
     "name": "stdout",
     "output_type": "stream",
     "text": [
      "Validation F1 in epoch270 : 0.8587\n",
      "Validation loss in epoch270 : 8654.8496\n"
     ]
    },
    {
     "name": "stderr",
     "output_type": "stream",
     "text": [
      " 70%|\u001b[32m████████████████████████████████████████████████████████▏                       \u001b[0m| 281/400 [01:26<00:37,  3.20it/s]\u001b[0m"
     ]
    },
    {
     "name": "stdout",
     "output_type": "stream",
     "text": [
      "Validation F1 in epoch280 : 0.8588\n",
      "Validation loss in epoch280 : 8706.1367\n"
     ]
    },
    {
     "name": "stderr",
     "output_type": "stream",
     "text": [
      " 73%|\u001b[32m██████████████████████████████████████████████████████████▏                     \u001b[0m| 291/400 [01:29<00:32,  3.38it/s]\u001b[0m"
     ]
    },
    {
     "name": "stdout",
     "output_type": "stream",
     "text": [
      "Validation F1 in epoch290 : 0.8587\n",
      "Validation loss in epoch290 : 8750.5293\n"
     ]
    },
    {
     "name": "stderr",
     "output_type": "stream",
     "text": [
      " 75%|\u001b[32m████████████████████████████████████████████████████████████▏                   \u001b[0m| 301/400 [01:32<00:30,  3.20it/s]\u001b[0m"
     ]
    },
    {
     "name": "stdout",
     "output_type": "stream",
     "text": [
      "Validation F1 in epoch300 : 0.8585\n",
      "Validation loss in epoch300 : 8790.9902\n"
     ]
    },
    {
     "name": "stderr",
     "output_type": "stream",
     "text": [
      " 78%|\u001b[32m██████████████████████████████████████████████████████████████▏                 \u001b[0m| 311/400 [01:35<00:26,  3.32it/s]\u001b[0m"
     ]
    },
    {
     "name": "stdout",
     "output_type": "stream",
     "text": [
      "Validation F1 in epoch310 : 0.8586\n",
      "Validation loss in epoch310 : 8827.7031\n"
     ]
    },
    {
     "name": "stderr",
     "output_type": "stream",
     "text": [
      " 80%|\u001b[32m████████████████████████████████████████████████████████████████▏               \u001b[0m| 321/400 [01:38<00:24,  3.26it/s]\u001b[0m"
     ]
    },
    {
     "name": "stdout",
     "output_type": "stream",
     "text": [
      "Validation F1 in epoch320 : 0.8583\n",
      "Validation loss in epoch320 : 8861.0332\n"
     ]
    },
    {
     "name": "stderr",
     "output_type": "stream",
     "text": [
      " 83%|\u001b[32m██████████████████████████████████████████████████████████████████▏             \u001b[0m| 331/400 [01:41<00:21,  3.25it/s]\u001b[0m"
     ]
    },
    {
     "name": "stdout",
     "output_type": "stream",
     "text": [
      "Validation F1 in epoch330 : 0.8581\n",
      "Validation loss in epoch330 : 8890.7480\n"
     ]
    },
    {
     "name": "stderr",
     "output_type": "stream",
     "text": [
      " 85%|\u001b[32m████████████████████████████████████████████████████████████████████▏           \u001b[0m| 341/400 [01:44<00:18,  3.25it/s]\u001b[0m"
     ]
    },
    {
     "name": "stdout",
     "output_type": "stream",
     "text": [
      "Validation F1 in epoch340 : 0.8582\n",
      "Validation loss in epoch340 : 8917.9961\n"
     ]
    },
    {
     "name": "stderr",
     "output_type": "stream",
     "text": [
      " 88%|\u001b[32m██████████████████████████████████████████████████████████████████████▏         \u001b[0m| 351/400 [01:47<00:15,  3.09it/s]\u001b[0m"
     ]
    },
    {
     "name": "stdout",
     "output_type": "stream",
     "text": [
      "Validation F1 in epoch350 : 0.8581\n",
      "Validation loss in epoch350 : 8943.4531\n"
     ]
    },
    {
     "name": "stderr",
     "output_type": "stream",
     "text": [
      " 90%|\u001b[32m████████████████████████████████████████████████████████████████████████▏       \u001b[0m| 361/400 [01:50<00:11,  3.32it/s]\u001b[0m"
     ]
    },
    {
     "name": "stdout",
     "output_type": "stream",
     "text": [
      "Validation F1 in epoch360 : 0.8580\n",
      "Validation loss in epoch360 : 8965.7129\n"
     ]
    },
    {
     "name": "stderr",
     "output_type": "stream",
     "text": [
      " 93%|\u001b[32m██████████████████████████████████████████████████████████████████████████▏     \u001b[0m| 371/400 [01:53<00:08,  3.34it/s]\u001b[0m"
     ]
    },
    {
     "name": "stdout",
     "output_type": "stream",
     "text": [
      "Validation F1 in epoch370 : 0.8579\n",
      "Validation loss in epoch370 : 8986.8818\n"
     ]
    },
    {
     "name": "stderr",
     "output_type": "stream",
     "text": [
      " 95%|\u001b[32m████████████████████████████████████████████████████████████████████████████▏   \u001b[0m| 381/400 [01:56<00:05,  3.31it/s]\u001b[0m"
     ]
    },
    {
     "name": "stdout",
     "output_type": "stream",
     "text": [
      "Validation F1 in epoch380 : 0.8580\n",
      "Validation loss in epoch380 : 9007.0234\n"
     ]
    },
    {
     "name": "stderr",
     "output_type": "stream",
     "text": [
      " 98%|\u001b[32m██████████████████████████████████████████████████████████████████████████████▏ \u001b[0m| 391/400 [01:59<00:02,  3.29it/s]\u001b[0m"
     ]
    },
    {
     "name": "stdout",
     "output_type": "stream",
     "text": [
      "Validation F1 in epoch390 : 0.8577\n",
      "Validation loss in epoch390 : 9024.8066\n"
     ]
    },
    {
     "name": "stderr",
     "output_type": "stream",
     "text": [
      "100%|\u001b[32m████████████████████████████████████████████████████████████████████████████████\u001b[0m| 400/400 [02:02<00:00,  3.26it/s]\u001b[0m"
     ]
    },
    {
     "name": "stdout",
     "output_type": "stream",
     "text": [
      "Mean:  [0.8458699782689413, 0.8629631598790487, 0.8628231485684713, 0.857699433962504]\n",
      "Std:  [0.00016313640163616717, 0.0002372305613183189, 0.000312757713849841, 4.4057505643387893e-05]\n"
     ]
    },
    {
     "name": "stderr",
     "output_type": "stream",
     "text": [
      "\n"
     ]
    }
   ],
   "source": [
    "import os\n",
    "import numpy as np\n",
    "epoch_number = [100, 200, 300, 400]\n",
    "epoch_step_1 = [50, 100, 200, 300]\n",
    "epoch_step_2 = [75, 150, 250, 350]\n",
    "\n",
    "mean_list = []\n",
    "std_list = []\n",
    "val_loss = []\n",
    "train_loss = []\n",
    "for i in range(len(epoch_number)):\n",
    "    f1_list = []\n",
    "    for j in range(3):\n",
    "        Net, train_image_loss, val_image_loss, f1_image_list = Trainer(FEATURE_EXTRACTOR(), all_image_features, \n",
    "                                                                       epoch_number[i], epoch_step_1[i], epoch_step_2[i])\n",
    "        Net.eval()\n",
    "        with torch.autograd.no_grad():\n",
    "            img_train = Net(all_image_features.to(dev))\n",
    "            img_test = Net(test_image_features.to(dev))\n",
    "\n",
    "        Net, train_text_loss, val_text_loss, f1_text_list = Trainer(FEATURE_EXTRACTOR(), all_text_feature, \n",
    "                                                                     epoch_number[i], epoch_step_1[i], epoch_step_2[i])\n",
    "        Net.eval()\n",
    "        with torch.autograd.no_grad():\n",
    "            txt_train = Net(all_text_feature.to(dev))\n",
    "            txt_test = Net(test_text_feature.to(dev))\n",
    "\n",
    "        sum_train = img_train + txt_train\n",
    "        sum_test = img_test + txt_test\n",
    "        Net, train_sum_loss, val_sum_loss, f1_sum_list = Trainer(DECISION_MODEL(), sum_train, \n",
    "                                                                  epoch_number[i], epoch_step_1[i], epoch_step_2[i])\n",
    "        Net.eval()\n",
    "        \n",
    "        f1_list.append(f1_sum_list[-1])\n",
    "    \n",
    "    mean_list.append(np.mean(f1_list))\n",
    "    std_list.append(np.std(f1_list))\n",
    "    \n",
    "    train_loss.append(train_sum_loss)\n",
    "    val_loss.append(val_sum_loss)\n",
    "    \n",
    "print(\"Mean: \", mean_list)\n",
    "print('Std: ', std_list)"
   ]
  },
  {
   "cell_type": "code",
   "execution_count": 11,
   "id": "2ba557ad",
   "metadata": {},
   "outputs": [
    {
     "data": {
      "image/png": "[encoded data removed]",
      "text/plain": [
       "<Figure size 640x480 with 1 Axes>"
      ]
     },
     "metadata": {},
     "output_type": "display_data"
    }
   ],
   "source": [
    "import matplotlib.pyplot as plt\n",
    "plt.plot(val_loss[0], label='Epoch Number = 100')\n",
    "plt.plot(val_loss[1], label='Epoch Number = 200')\n",
    "plt.plot(val_loss[2], label='Epoch Number = 300')\n",
    "plt.plot(val_loss[3], label='Epoch Number = 400')\n",
    "plt.xlabel('Training Epoch')\n",
    "plt.ylabel('Validation Loss')\n",
    "plt.legend()\n",
    "#plt.savefig('mlploss.png')\n",
    "plt.show()"
   ]
  }
 ],
 "metadata": {
  "kernelspec": {
   "display_name": "Python 3 (ipykernel)",
   "language": "python",
   "name": "python3"
  },
  "language_info": {
   "codemirror_mode": {
    "name": "ipython",
    "version": 3
   },
   "file_extension": ".py",
   "mimetype": "text/x-python",
   "name": "python",
   "nbconvert_exporter": "python",
   "pygments_lexer": "ipython3",
   "version": "3.10.11"
  }
 },
 "nbformat": 4,
 "nbformat_minor": 5
}
