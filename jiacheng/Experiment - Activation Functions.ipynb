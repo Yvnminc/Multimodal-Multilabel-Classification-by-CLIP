{
 "cells": [
  {
   "cell_type": "code",
   "execution_count": 1,
   "id": "1ad78427",
   "metadata": {},
   "outputs": [],
   "source": [
    "# # Code to download file into Colaboratory:\n",
    "# !pip install -U -q PyDrive > /dev/null\n",
    "# !pip install torchmetrics > /dev/null\n",
    "# from pydrive.auth import GoogleAuth\n",
    "# import torch\n",
    "# dev = \"cuda\" if torch.cuda.is_available() else \"cpu\"\n",
    "# from pydrive.drive import GoogleDrive\n",
    "# from google.colab import auth\n",
    "# from oauth2client.client import GoogleCredentials\n",
    "# # Authenticate and create the PyDrive client.\n",
    "# auth.authenticate_user()\n",
    "# gauth = GoogleAuth()\n",
    "# gauth.credentials = GoogleCredentials.get_application_default()\n",
    "# drive = GoogleDrive(gauth)\n",
    "\n",
    "# #get the data from the drive\n",
    "# def get_feature(model = \"ViT-L/14@336px\"):\n",
    "#   id = '11yXddz5j-IDcH77wkMF7dW2JctRv7YN6'\n",
    "#   size = \"B\"\n",
    "\n",
    "#   if model == 'ViT-L/14@336px':\n",
    "#     id = '1P6CgrgiIACjnhtHsUwdY8qjZ-E3Vx_0x'\n",
    "#     size = \"L336\"\n",
    "#   elif model == 'ViT-L/14':\n",
    "#     id = '1DG4J-YF57ZsfXTzwg5EFfkzUmUFfr82h'\n",
    "#     size = \"L\"\n",
    "#   elif model == 'ViT-B/32':\n",
    "#     id = '11yXddz5j-IDcH77wkMF7dW2JctRv7YN6'\n",
    "#     size = \"B\"\n",
    "\n",
    "#   downloaded = drive.CreateFile({'id':id}) \n",
    "#   downloaded.GetContentFile('clip_features.zip')\n",
    "\n",
    "#   #get the data from the drive\n",
    "#   id = '1b-ujWaLM_jOzlRMbXVb9T-3oEibKQW1r'\n",
    "#   downloaded = drive.CreateFile({'id':id}) \n",
    "#   downloaded.GetContentFile('label_onehot_tensor.pt')\n",
    "\n",
    "#   !unzip clip_features.zip > /dev/null\n",
    "\n",
    "#   test_image_features = torch.load(f\"test_image_features_vit{size}.pt\")\n",
    "#   test_text_feature = torch.load(f\"test_text_feature_vit{size}.pt\")\n",
    "#   all_image_features = torch.load(f\"all_image_features_vit{size}.pt\")\n",
    "#   all_text_feature = torch.load(f\"all_text_feature_vit{size}.pt\")\n",
    "#   label_onehot_tensor = torch.load(f\"label_onehot_tensor.pt\")\n",
    "\n",
    "#   return all_image_features, all_text_feature, test_image_features, test_text_feature, label_onehot_tensor"
   ]
  },
  {
   "cell_type": "code",
   "execution_count": 2,
   "id": "321dccc5",
   "metadata": {},
   "outputs": [],
   "source": [
    "# all_image_features, all_text_feature, test_image_features, test_text_feature, label_onehot_tensor = get_feature()"
   ]
  },
  {
   "cell_type": "code",
   "execution_count": 3,
   "id": "5db482fa",
   "metadata": {},
   "outputs": [],
   "source": [
    "# import torch\n",
    "# dev = \"cuda\" if torch.cuda.is_available() else \"cpu\"\n",
    "# test_image_features = torch.load(\"test_image_features_vitL.pt\", map_location = torch.device(dev))\n",
    "# test_text_feature = torch.load(\"test_text_feature_vitL.pt\", map_location = torch.device(dev))\n",
    "# all_image_features = torch.load(\"all_image_features_vitL.pt\", map_location = torch.device(dev))\n",
    "# all_text_feature = torch.load(\"all_text_feature_vitL.pt\", map_location = torch.device(dev))\n",
    "# label_onehot_tensor = torch.load(\"label_onehot_tensor.pt\", map_location = torch.device(dev))"
   ]
  },
  {
   "cell_type": "code",
   "execution_count": 4,
   "id": "c5628bc1",
   "metadata": {},
   "outputs": [],
   "source": [
    "import torch\n",
    "dev = \"cuda\" if torch.cuda.is_available() else \"cpu\"\n",
    "test_image_features = torch.load(\"../features/test_image_features_vitL.pt\", map_location = torch.device(dev))\n",
    "test_text_feature = torch.load(\"../features/test_text_feature_vitL.pt\", map_location = torch.device(dev))\n",
    "all_image_features = torch.load(\"../features/all_image_features_vitL.pt\", map_location = torch.device(dev))\n",
    "all_text_feature = torch.load(\"../features/all_text_feature_vitL.pt\", map_location = torch.device(dev))\n",
    "label_onehot_tensor = torch.load(\"../features/label_onehot_tensor.pt\", map_location = torch.device(dev))"
   ]
  },
  {
   "cell_type": "code",
   "execution_count": 5,
   "id": "092bde75",
   "metadata": {},
   "outputs": [
    {
     "data": {
      "text/plain": [
       "torch.Size([10000, 768])"
      ]
     },
     "execution_count": 5,
     "metadata": {},
     "output_type": "execute_result"
    }
   ],
   "source": [
    "test_image_features.shape"
   ]
  },
  {
   "cell_type": "code",
   "execution_count": 6,
   "id": "e49b108b",
   "metadata": {},
   "outputs": [],
   "source": [
    "def add_weight_decay(model, weight_decay=1e-4, skip_list=()):\n",
    "    decay = []\n",
    "    no_decay = []\n",
    "    for name, param in model.named_parameters():\n",
    "        if not param.requires_grad:\n",
    "            continue  # frozen weights\n",
    "        if len(param.shape) == 1 or name.endswith(\".bias\") or name in skip_list:\n",
    "            no_decay.append(param)\n",
    "        else:\n",
    "            decay.append(param)\n",
    "    return [\n",
    "        {'params': no_decay, 'weight_decay': 0.},\n",
    "        {'params': decay, 'weight_decay': weight_decay}]"
   ]
  },
  {
   "cell_type": "code",
   "execution_count": 7,
   "id": "89475cf0",
   "metadata": {},
   "outputs": [],
   "source": [
    "import torch\n",
    "import torch.nn as nn\n",
    "\n",
    "\n",
    "class AsymmetricLoss(nn.Module):\n",
    "    def __init__(self, gamma_neg=4, gamma_pos=1, clip=0.05, eps=1e-8, disable_torch_grad_focal_loss=True):\n",
    "        super(AsymmetricLoss, self).__init__()\n",
    "\n",
    "        self.gamma_neg = gamma_neg\n",
    "        self.gamma_pos = gamma_pos\n",
    "        self.clip = clip\n",
    "        self.disable_torch_grad_focal_loss = disable_torch_grad_focal_loss\n",
    "        self.eps = eps\n",
    "\n",
    "    def forward(self, x, y):\n",
    "        \"\"\"\"\n",
    "        Parameters\n",
    "        ----------\n",
    "        x: input logits\n",
    "        y: targets (multi-label binarized vector)\n",
    "        \"\"\"\n",
    "\n",
    "        # Calculating Probabilities\n",
    "        \n",
    "        xs_pos = x\n",
    "        xs_neg = 1 - x\n",
    "\n",
    "        # Asymmetric Clipping\n",
    "        if self.clip is not None and self.clip > 0:\n",
    "            xs_neg = (xs_neg + self.clip).clamp(max=1)\n",
    "\n",
    "        # Basic CE calculation\n",
    "        los_pos = y * torch.log(xs_pos.clamp(min=self.eps))\n",
    "        los_neg = (1 - y) * torch.log(xs_neg.clamp(min=self.eps))\n",
    "        loss = los_pos + los_neg\n",
    "\n",
    "        # Asymmetric Focusing\n",
    "        if self.gamma_neg > 0 or self.gamma_pos > 0:\n",
    "            if self.disable_torch_grad_focal_loss:\n",
    "                torch.set_grad_enabled(False)\n",
    "            pt0 = xs_pos * y\n",
    "            pt1 = xs_neg * (1 - y)  # pt = p if t > 0 else 1-p\n",
    "            pt = pt0 + pt1\n",
    "            one_sided_gamma = self.gamma_pos * y + self.gamma_neg * (1 - y)\n",
    "            one_sided_w = torch.pow(1 - pt, one_sided_gamma)\n",
    "            if self.disable_torch_grad_focal_loss:\n",
    "                torch.set_grad_enabled(True)\n",
    "            loss *= one_sided_w\n",
    "\n",
    "        return -loss.sum()\n",
    "\n",
    "\n",
    "class AsymmetricLossOptimized(nn.Module):\n",
    "    ''' Notice - optimized version, minimizes memory allocation and gpu uploading,\n",
    "    favors inplace operations'''\n",
    "\n",
    "    def __init__(self, gamma_neg=4, gamma_pos=1, clip=0.05, eps=1e-8, disable_torch_grad_focal_loss=False):\n",
    "        super(AsymmetricLossOptimized, self).__init__()\n",
    "\n",
    "        self.gamma_neg = gamma_neg\n",
    "        self.gamma_pos = gamma_pos\n",
    "        self.clip = clip\n",
    "        self.disable_torch_grad_focal_loss = disable_torch_grad_focal_loss\n",
    "        self.eps = eps\n",
    "        # prevent memory allocation and gpu uploading every iteration, and encourages inplace operations\n",
    "        self.targets = self.anti_targets = self.xs_pos = self.xs_neg = self.asymmetric_w = self.loss = None\n",
    "\n",
    "    def forward(self, x, y):\n",
    "        \"\"\"\"\n",
    "        Parameters\n",
    "        ----------\n",
    "        x: input logits\n",
    "        y: targets (multi-label binarized vector)\n",
    "        \"\"\"\n",
    "\n",
    "        self.targets = y\n",
    "        self.anti_targets = 1 - y\n",
    "\n",
    "        # Calculating Probabilities\n",
    "        self.xs_pos = torch.sigmoid(x)\n",
    "        self.xs_neg = 1.0 - self.xs_pos\n",
    "\n",
    "        # Asymmetric Clipping\n",
    "        if self.clip is not None and self.clip > 0:\n",
    "            self.xs_neg.add_(self.clip).clamp_(max=1)\n",
    "\n",
    "        # Basic CE calculation\n",
    "        self.loss = self.targets * torch.log(self.xs_pos.clamp(min=self.eps))\n",
    "        self.loss.add_(self.anti_targets * torch.log(self.xs_neg.clamp(min=self.eps)))\n",
    "        \n",
    "        # Asymmetric Focusing\n",
    "        if self.gamma_neg > 0 or self.gamma_pos > 0:\n",
    "            if self.disable_torch_grad_focal_loss:\n",
    "                torch.set_grad_enabled(False)\n",
    "            self.xs_pos = self.xs_pos * self.targets\n",
    "            self.xs_neg = self.xs_neg * self.anti_targets\n",
    "            self.asymmetric_w = torch.pow(1 - self.xs_pos - self.xs_neg,\n",
    "                                          self.gamma_pos * self.targets + self.gamma_neg * self.anti_targets)\n",
    "            if self.disable_torch_grad_focal_loss:\n",
    "                torch.set_grad_enabled(True)\n",
    "            self.loss *= self.asymmetric_w\n",
    "\n",
    "        return -self.loss.sum()"
   ]
  },
  {
   "cell_type": "code",
   "execution_count": 8,
   "id": "f319a4bd",
   "metadata": {},
   "outputs": [],
   "source": [
    "import numpy as np\n",
    "from tqdm import tqdm\n",
    "import torch.nn.functional as F\n",
    "from torchmetrics import F1Score\n",
    "from torch import optim\n",
    "from torch.cuda.amp import GradScaler, autocast\n",
    "\n",
    "from torch.utils.data import TensorDataset\n",
    "from torch.utils.data import DataLoader\n",
    "def Trainer(model, Data, epochs, epoch_step_1, epoch_step_2, lr = 1e-3):\n",
    "    torch.manual_seed(5329)\n",
    "    train_data = DataLoader(TensorDataset(Data[:25000], label_onehot_tensor[:25000]), batch_size=25000, shuffle = True)\n",
    "    val_data = DataLoader(TensorDataset(Data[25000:], label_onehot_tensor[25000:].to(torch.int32)), batch_size=5000, shuffle = False)\n",
    "    \n",
    "    # Change here to switch to the best setting\n",
    "    # train_data = DataLoader(TensorDataset(Data, label_onehot_tensor), batch_size=30000, shuffle = True)\n",
    "    \n",
    "    model = model.to(dev)\n",
    " \n",
    "    weight_decay = 2e-4\n",
    "    criterion = AsymmetricLoss(gamma_neg=0, gamma_pos=0, clip=0, disable_torch_grad_focal_loss=True)\n",
    "    parameters = add_weight_decay(model, weight_decay)\n",
    "    opti = optim.Adam(params=parameters, lr=lr, weight_decay=0)\n",
    "    scheduler = torch.optim.lr_scheduler.MultiStepLR(opti, milestones=[epoch_step_1,epoch_step_2], gamma = 0.1)\n",
    "    f1 = F1Score(task=\"multilabel\", num_labels = 18).to(dev)\n",
    "\n",
    "    epoch = epochs\n",
    "    train_loss = []\n",
    "    val_loss = []\n",
    "    f1_list = []\n",
    "    scaler = GradScaler()\n",
    "    \n",
    "    for epoch in tqdm(range(epoch), colour = 'GREEN'):\n",
    "        for data, label in train_data:   \n",
    "            data, label = data.to(dev), label.to(dev)\n",
    "\n",
    "            with autocast():  # mixed precision\n",
    "                output = model(data).float() \n",
    "\n",
    "            loss = criterion(output, label)\n",
    "            model.zero_grad()\n",
    "            \n",
    "            scaler.scale(loss).backward()\n",
    "            scaler.step(opti)\n",
    "            scaler.update()\n",
    "            \n",
    "        train_loss.append(loss.item())\n",
    "        \n",
    "        with torch.autograd.no_grad():\n",
    "            for data_val, label_val in val_data:\n",
    "                data_val, label_val = data_val.to(dev), label_val.to(dev)\n",
    "                predict = model(data_val)\n",
    "                f1_score = f1(predict, label_val)\n",
    "                v_loss = criterion(predict, label_val)\n",
    "            val_loss.append(v_loss.item())\n",
    "            f1_list.append(f1_score.item())\n",
    "        \n",
    "        # Comment the code below if you want to switch to the best settings (i.e., no validation data)\n",
    "        if epoch % 10 == 0:\n",
    "            print('Validation F1 in epoch{} : {:.4f}'.format(epoch, f1_score.item()))\n",
    "            print('Validation loss in epoch{} : {:.4f}'.format(epoch, v_loss.item()))\n",
    "    \n",
    "    return model, train_loss, val_loss, f1_list"
   ]
  },
  {
   "cell_type": "markdown",
   "id": "863b7720",
   "metadata": {},
   "source": [
    "## Experiments on Activation Functions"
   ]
  },
  {
   "cell_type": "code",
   "execution_count": 9,
   "id": "90090d02",
   "metadata": {},
   "outputs": [],
   "source": [
    "import torch.nn as nn\n",
    "import torch.nn.functional as F\n",
    "class FEATURE_EXTRACTOR(nn.Module):\n",
    "    def __init__(self, act:str='gelu'):\n",
    "        super().__init__()\n",
    "        self.act = act\n",
    "        self.fc1 = nn.Linear(768, 2048)\n",
    "        self.fc2 = nn.Linear(2048, 512)\n",
    "        self.fc3 = nn.Linear(512, 18)\n",
    "        self.dropout = nn.Dropout(p = 0.5)\n",
    "\n",
    "    def forward(self, inputs):\n",
    "        if self.act == 'gelu':\n",
    "            tensor = F.gelu(self.fc1(inputs))\n",
    "            tensor = self.dropout(tensor)\n",
    "            tensor = F.gelu(self.fc2(tensor))\n",
    "        elif self.act == 'relu':\n",
    "            tensor = F.relu(self.fc1(inputs))\n",
    "            tensor = self.dropout(tensor)\n",
    "            tensor = F.relu(self.fc2(tensor))\n",
    "        elif self.act == 'leaky_relu':\n",
    "            tensor = F.leaky_relu(self.fc1(inputs))\n",
    "            tensor = self.dropout(tensor)\n",
    "            tensor = F.leaky_relu(self.fc2(tensor))\n",
    "        tensor = self.dropout(tensor)\n",
    "        tensor = torch.sigmoid(self.fc3(tensor))\n",
    "        return tensor\n",
    "\n",
    "class DECISION_MODEL(nn.Module):\n",
    "    def __init__(self):\n",
    "        super().__init__()\n",
    "        self.fc1 = nn.Linear(18, 1024)\n",
    "        self.fc2 = nn.Linear(1024, 512)\n",
    "        self.fc3 = nn.Linear(512, 18)\n",
    "\n",
    "    def forward(self, inputs):\n",
    "        tensor = F.gelu(self.fc1(inputs))\n",
    "        tensor = F.gelu(self.fc2(tensor))\n",
    "        tensor = torch.sigmoid(self.fc3(tensor))\n",
    "        return tensor"
   ]
  },
  {
   "cell_type": "code",
   "execution_count": 10,
   "id": "f945d832",
   "metadata": {},
   "outputs": [
    {
     "name": "stderr",
     "output_type": "stream",
     "text": [
      "  0%|\u001b[32m▎                                                                                 \u001b[0m| 1/300 [00:00<04:51,  1.03it/s]\u001b[0m"
     ]
    },
    {
     "name": "stdout",
     "output_type": "stream",
     "text": [
      "Validation F1 in epoch0 : 0.1097\n",
      "Validation loss in epoch0 : 62664.8281\n"
     ]
    },
    {
     "name": "stderr",
     "output_type": "stream",
     "text": [
      "  4%|\u001b[32m██▉                                                                              \u001b[0m| 11/300 [00:03<01:19,  3.65it/s]\u001b[0m"
     ]
    },
    {
     "name": "stdout",
     "output_type": "stream",
     "text": [
      "Validation F1 in epoch10 : 0.1108\n",
      "Validation loss in epoch10 : 62688.5742\n"
     ]
    },
    {
     "name": "stderr",
     "output_type": "stream",
     "text": [
      "  7%|\u001b[32m█████▋                                                                           \u001b[0m| 21/300 [00:06<01:27,  3.20it/s]\u001b[0m"
     ]
    },
    {
     "name": "stdout",
     "output_type": "stream",
     "text": [
      "Validation F1 in epoch20 : 0.5847\n",
      "Validation loss in epoch20 : 22676.9277\n"
     ]
    },
    {
     "name": "stderr",
     "output_type": "stream",
     "text": [
      " 10%|\u001b[32m████████▎                                                                        \u001b[0m| 31/300 [00:09<01:20,  3.32it/s]\u001b[0m"
     ]
    },
    {
     "name": "stdout",
     "output_type": "stream",
     "text": [
      "Validation F1 in epoch30 : 0.6144\n",
      "Validation loss in epoch30 : 15891.6855\n"
     ]
    },
    {
     "name": "stderr",
     "output_type": "stream",
     "text": [
      " 14%|\u001b[32m███████████                                                                      \u001b[0m| 41/300 [00:12<01:22,  3.15it/s]\u001b[0m"
     ]
    },
    {
     "name": "stdout",
     "output_type": "stream",
     "text": [
      "Validation F1 in epoch40 : 0.6805\n",
      "Validation loss in epoch40 : 12157.9668\n"
     ]
    },
    {
     "name": "stderr",
     "output_type": "stream",
     "text": [
      " 17%|\u001b[32m█████████████▊                                                                   \u001b[0m| 51/300 [00:16<01:21,  3.07it/s]\u001b[0m"
     ]
    },
    {
     "name": "stdout",
     "output_type": "stream",
     "text": [
      "Validation F1 in epoch50 : 0.7691\n",
      "Validation loss in epoch50 : 9531.7666\n"
     ]
    },
    {
     "name": "stderr",
     "output_type": "stream",
     "text": [
      " 20%|\u001b[32m████████████████▍                                                                \u001b[0m| 61/300 [00:19<01:15,  3.15it/s]\u001b[0m"
     ]
    },
    {
     "name": "stdout",
     "output_type": "stream",
     "text": [
      "Validation F1 in epoch60 : 0.7995\n",
      "Validation loss in epoch60 : 8326.3350\n"
     ]
    },
    {
     "name": "stderr",
     "output_type": "stream",
     "text": [
      " 24%|\u001b[32m███████████████████▏                                                             \u001b[0m| 71/300 [00:22<01:07,  3.42it/s]\u001b[0m"
     ]
    },
    {
     "name": "stdout",
     "output_type": "stream",
     "text": [
      "Validation F1 in epoch70 : 0.8139\n",
      "Validation loss in epoch70 : 7692.4204\n"
     ]
    },
    {
     "name": "stderr",
     "output_type": "stream",
     "text": [
      " 27%|\u001b[32m█████████████████████▊                                                           \u001b[0m| 81/300 [00:25<01:04,  3.37it/s]\u001b[0m"
     ]
    },
    {
     "name": "stdout",
     "output_type": "stream",
     "text": [
      "Validation F1 in epoch80 : 0.8292\n",
      "Validation loss in epoch80 : 7315.2510\n"
     ]
    },
    {
     "name": "stderr",
     "output_type": "stream",
     "text": [
      " 30%|\u001b[32m████████████████████████▌                                                        \u001b[0m| 91/300 [00:28<00:59,  3.52it/s]\u001b[0m"
     ]
    },
    {
     "name": "stdout",
     "output_type": "stream",
     "text": [
      "Validation F1 in epoch90 : 0.8330\n",
      "Validation loss in epoch90 : 7179.8003\n"
     ]
    },
    {
     "name": "stderr",
     "output_type": "stream",
     "text": [
      " 34%|\u001b[32m██████████████████████████▉                                                     \u001b[0m| 101/300 [00:31<01:00,  3.27it/s]\u001b[0m"
     ]
    },
    {
     "name": "stdout",
     "output_type": "stream",
     "text": [
      "Validation F1 in epoch100 : 0.8388\n",
      "Validation loss in epoch100 : 7071.5029\n"
     ]
    },
    {
     "name": "stderr",
     "output_type": "stream",
     "text": [
      " 37%|\u001b[32m█████████████████████████████▌                                                  \u001b[0m| 111/300 [00:34<01:01,  3.07it/s]\u001b[0m"
     ]
    },
    {
     "name": "stdout",
     "output_type": "stream",
     "text": [
      "Validation F1 in epoch110 : 0.8385\n",
      "Validation loss in epoch110 : 6981.1914\n"
     ]
    },
    {
     "name": "stderr",
     "output_type": "stream",
     "text": [
      " 40%|\u001b[32m████████████████████████████████▎                                               \u001b[0m| 121/300 [00:37<00:56,  3.17it/s]\u001b[0m"
     ]
    },
    {
     "name": "stdout",
     "output_type": "stream",
     "text": [
      "Validation F1 in epoch120 : 0.8372\n",
      "Validation loss in epoch120 : 6899.4038\n"
     ]
    },
    {
     "name": "stderr",
     "output_type": "stream",
     "text": [
      " 44%|\u001b[32m██████████████████████████████████▉                                             \u001b[0m| 131/300 [00:40<00:51,  3.28it/s]\u001b[0m"
     ]
    },
    {
     "name": "stdout",
     "output_type": "stream",
     "text": [
      "Validation F1 in epoch130 : 0.8452\n",
      "Validation loss in epoch130 : 6773.1460\n"
     ]
    },
    {
     "name": "stderr",
     "output_type": "stream",
     "text": [
      " 47%|\u001b[32m█████████████████████████████████████▌                                          \u001b[0m| 141/300 [00:43<00:47,  3.32it/s]\u001b[0m"
     ]
    },
    {
     "name": "stdout",
     "output_type": "stream",
     "text": [
      "Validation F1 in epoch140 : 0.8460\n",
      "Validation loss in epoch140 : 6740.3125\n"
     ]
    },
    {
     "name": "stderr",
     "output_type": "stream",
     "text": [
      " 50%|\u001b[32m████████████████████████████████████████▎                                       \u001b[0m| 151/300 [00:46<00:43,  3.40it/s]\u001b[0m"
     ]
    },
    {
     "name": "stdout",
     "output_type": "stream",
     "text": [
      "Validation F1 in epoch150 : 0.8464\n",
      "Validation loss in epoch150 : 6715.2549\n"
     ]
    },
    {
     "name": "stderr",
     "output_type": "stream",
     "text": [
      " 54%|\u001b[32m██████████████████████████████████████████▉                                     \u001b[0m| 161/300 [00:50<00:44,  3.11it/s]\u001b[0m"
     ]
    },
    {
     "name": "stdout",
     "output_type": "stream",
     "text": [
      "Validation F1 in epoch160 : 0.8469\n",
      "Validation loss in epoch160 : 6677.8496\n"
     ]
    },
    {
     "name": "stderr",
     "output_type": "stream",
     "text": [
      " 57%|\u001b[32m█████████████████████████████████████████████▌                                  \u001b[0m| 171/300 [00:53<00:38,  3.34it/s]\u001b[0m"
     ]
    },
    {
     "name": "stdout",
     "output_type": "stream",
     "text": [
      "Validation F1 in epoch170 : 0.8472\n",
      "Validation loss in epoch170 : 6761.1006\n"
     ]
    },
    {
     "name": "stderr",
     "output_type": "stream",
     "text": [
      " 60%|\u001b[32m████████████████████████████████████████████████▎                               \u001b[0m| 181/300 [00:56<00:36,  3.25it/s]\u001b[0m"
     ]
    },
    {
     "name": "stdout",
     "output_type": "stream",
     "text": [
      "Validation F1 in epoch180 : 0.8475\n",
      "Validation loss in epoch180 : 6715.7368\n"
     ]
    },
    {
     "name": "stderr",
     "output_type": "stream",
     "text": [
      " 64%|\u001b[32m██████████████████████████████████████████████████▉                             \u001b[0m| 191/300 [00:59<00:35,  3.04it/s]\u001b[0m"
     ]
    },
    {
     "name": "stdout",
     "output_type": "stream",
     "text": [
      "Validation F1 in epoch190 : 0.8479\n",
      "Validation loss in epoch190 : 6734.0146\n"
     ]
    },
    {
     "name": "stderr",
     "output_type": "stream",
     "text": [
      " 67%|\u001b[32m█████████████████████████████████████████████████████▌                          \u001b[0m| 201/300 [01:02<00:30,  3.20it/s]\u001b[0m"
     ]
    },
    {
     "name": "stdout",
     "output_type": "stream",
     "text": [
      "Validation F1 in epoch200 : 0.8458\n",
      "Validation loss in epoch200 : 6830.0527\n"
     ]
    },
    {
     "name": "stderr",
     "output_type": "stream",
     "text": [
      " 70%|\u001b[32m████████████████████████████████████████████████████████▎                       \u001b[0m| 211/300 [01:05<00:25,  3.49it/s]\u001b[0m"
     ]
    },
    {
     "name": "stdout",
     "output_type": "stream",
     "text": [
      "Validation F1 in epoch210 : 0.8456\n",
      "Validation loss in epoch210 : 6886.2007\n"
     ]
    },
    {
     "name": "stderr",
     "output_type": "stream",
     "text": [
      " 74%|\u001b[32m██████████████████████████████████████████████████████████▉                     \u001b[0m| 221/300 [01:08<00:22,  3.48it/s]\u001b[0m"
     ]
    },
    {
     "name": "stdout",
     "output_type": "stream",
     "text": [
      "Validation F1 in epoch220 : 0.8462\n",
      "Validation loss in epoch220 : 6979.0562\n"
     ]
    },
    {
     "name": "stderr",
     "output_type": "stream",
     "text": [
      " 77%|\u001b[32m█████████████████████████████████████████████████████████████▌                  \u001b[0m| 231/300 [01:11<00:21,  3.27it/s]\u001b[0m"
     ]
    },
    {
     "name": "stdout",
     "output_type": "stream",
     "text": [
      "Validation F1 in epoch230 : 0.8490\n",
      "Validation loss in epoch230 : 6986.8535\n"
     ]
    },
    {
     "name": "stderr",
     "output_type": "stream",
     "text": [
      " 80%|\u001b[32m████████████████████████████████████████████████████████████████▎               \u001b[0m| 241/300 [01:14<00:17,  3.35it/s]\u001b[0m"
     ]
    },
    {
     "name": "stdout",
     "output_type": "stream",
     "text": [
      "Validation F1 in epoch240 : 0.8462\n",
      "Validation loss in epoch240 : 7148.5767\n"
     ]
    },
    {
     "name": "stderr",
     "output_type": "stream",
     "text": [
      " 84%|\u001b[32m██████████████████████████████████████████████████████████████████▉             \u001b[0m| 251/300 [01:17<00:16,  3.03it/s]\u001b[0m"
     ]
    },
    {
     "name": "stdout",
     "output_type": "stream",
     "text": [
      "Validation F1 in epoch250 : 0.8450\n",
      "Validation loss in epoch250 : 7241.6113\n"
     ]
    },
    {
     "name": "stderr",
     "output_type": "stream",
     "text": [
      " 87%|\u001b[32m█████████████████████████████████████████████████████████████████████▌          \u001b[0m| 261/300 [01:20<00:12,  3.22it/s]\u001b[0m"
     ]
    },
    {
     "name": "stdout",
     "output_type": "stream",
     "text": [
      "Validation F1 in epoch260 : 0.8441\n",
      "Validation loss in epoch260 : 7346.3154\n"
     ]
    },
    {
     "name": "stderr",
     "output_type": "stream",
     "text": [
      " 90%|\u001b[32m████████████████████████████████████████████████████████████████████████▎       \u001b[0m| 271/300 [01:23<00:09,  2.97it/s]\u001b[0m"
     ]
    },
    {
     "name": "stdout",
     "output_type": "stream",
     "text": [
      "Validation F1 in epoch270 : 0.8409\n",
      "Validation loss in epoch270 : 7645.5845\n"
     ]
    },
    {
     "name": "stderr",
     "output_type": "stream",
     "text": [
      " 94%|\u001b[32m██████████████████████████████████████████████████████████████████████████▉     \u001b[0m| 281/300 [01:26<00:05,  3.31it/s]\u001b[0m"
     ]
    },
    {
     "name": "stdout",
     "output_type": "stream",
     "text": [
      "Validation F1 in epoch280 : 0.8416\n",
      "Validation loss in epoch280 : 7805.5459\n"
     ]
    },
    {
     "name": "stderr",
     "output_type": "stream",
     "text": [
      " 97%|\u001b[32m█████████████████████████████████████████████████████████████████████████████▌  \u001b[0m| 291/300 [01:29<00:02,  3.42it/s]\u001b[0m"
     ]
    },
    {
     "name": "stdout",
     "output_type": "stream",
     "text": [
      "Validation F1 in epoch290 : 0.8446\n",
      "Validation loss in epoch290 : 7935.7402\n"
     ]
    },
    {
     "name": "stderr",
     "output_type": "stream",
     "text": [
      "100%|\u001b[32m████████████████████████████████████████████████████████████████████████████████\u001b[0m| 300/300 [01:32<00:00,  3.24it/s]\u001b[0m\n",
      "  0%|\u001b[32m▎                                                                                 \u001b[0m| 1/300 [00:00<01:21,  3.65it/s]\u001b[0m"
     ]
    },
    {
     "name": "stdout",
     "output_type": "stream",
     "text": [
      "Validation F1 in epoch0 : 0.1727\n",
      "Validation loss in epoch0 : 62262.7266\n"
     ]
    },
    {
     "name": "stderr",
     "output_type": "stream",
     "text": [
      "  4%|\u001b[32m██▉                                                                              \u001b[0m| 11/300 [00:03<01:25,  3.38it/s]\u001b[0m"
     ]
    },
    {
     "name": "stdout",
     "output_type": "stream",
     "text": [
      "Validation F1 in epoch10 : 0.1701\n",
      "Validation loss in epoch10 : 62268.7734\n"
     ]
    },
    {
     "name": "stderr",
     "output_type": "stream",
     "text": [
      "  7%|\u001b[32m█████▋                                                                           \u001b[0m| 21/300 [00:06<01:25,  3.26it/s]\u001b[0m"
     ]
    },
    {
     "name": "stdout",
     "output_type": "stream",
     "text": [
      "Validation F1 in epoch20 : 0.5805\n",
      "Validation loss in epoch20 : 22970.6152\n"
     ]
    },
    {
     "name": "stderr",
     "output_type": "stream",
     "text": [
      " 10%|\u001b[32m████████▎                                                                        \u001b[0m| 31/300 [00:09<01:21,  3.29it/s]\u001b[0m"
     ]
    },
    {
     "name": "stdout",
     "output_type": "stream",
     "text": [
      "Validation F1 in epoch30 : 0.5979\n",
      "Validation loss in epoch30 : 17531.5645\n"
     ]
    },
    {
     "name": "stderr",
     "output_type": "stream",
     "text": [
      " 14%|\u001b[32m███████████                                                                      \u001b[0m| 41/300 [00:12<01:17,  3.34it/s]\u001b[0m"
     ]
    },
    {
     "name": "stdout",
     "output_type": "stream",
     "text": [
      "Validation F1 in epoch40 : 0.6585\n",
      "Validation loss in epoch40 : 12784.7305\n"
     ]
    },
    {
     "name": "stderr",
     "output_type": "stream",
     "text": [
      " 17%|\u001b[32m█████████████▊                                                                   \u001b[0m| 51/300 [00:15<01:15,  3.31it/s]\u001b[0m"
     ]
    },
    {
     "name": "stdout",
     "output_type": "stream",
     "text": [
      "Validation F1 in epoch50 : 0.7597\n",
      "Validation loss in epoch50 : 10263.7002\n"
     ]
    },
    {
     "name": "stderr",
     "output_type": "stream",
     "text": [
      " 20%|\u001b[32m████████████████▍                                                                \u001b[0m| 61/300 [00:18<01:09,  3.44it/s]\u001b[0m"
     ]
    },
    {
     "name": "stdout",
     "output_type": "stream",
     "text": [
      "Validation F1 in epoch60 : 0.7903\n",
      "Validation loss in epoch60 : 9305.8779\n"
     ]
    },
    {
     "name": "stderr",
     "output_type": "stream",
     "text": [
      " 24%|\u001b[32m███████████████████▏                                                             \u001b[0m| 71/300 [00:21<01:09,  3.27it/s]\u001b[0m"
     ]
    },
    {
     "name": "stdout",
     "output_type": "stream",
     "text": [
      "Validation F1 in epoch70 : 0.8050\n",
      "Validation loss in epoch70 : 8856.1953\n"
     ]
    },
    {
     "name": "stderr",
     "output_type": "stream",
     "text": [
      " 27%|\u001b[32m█████████████████████▊                                                           \u001b[0m| 81/300 [00:24<01:10,  3.13it/s]\u001b[0m"
     ]
    },
    {
     "name": "stdout",
     "output_type": "stream",
     "text": [
      "Validation F1 in epoch80 : 0.8104\n",
      "Validation loss in epoch80 : 8584.6680\n"
     ]
    },
    {
     "name": "stderr",
     "output_type": "stream",
     "text": [
      " 30%|\u001b[32m████████████████████████▌                                                        \u001b[0m| 91/300 [00:27<01:05,  3.20it/s]\u001b[0m"
     ]
    },
    {
     "name": "stdout",
     "output_type": "stream",
     "text": [
      "Validation F1 in epoch90 : 0.8146\n",
      "Validation loss in epoch90 : 8390.0283\n"
     ]
    },
    {
     "name": "stderr",
     "output_type": "stream",
     "text": [
      " 34%|\u001b[32m██████████████████████████▉                                                     \u001b[0m| 101/300 [00:31<01:01,  3.24it/s]\u001b[0m"
     ]
    },
    {
     "name": "stdout",
     "output_type": "stream",
     "text": [
      "Validation F1 in epoch100 : 0.8205\n",
      "Validation loss in epoch100 : 8295.4541\n"
     ]
    },
    {
     "name": "stderr",
     "output_type": "stream",
     "text": [
      " 37%|\u001b[32m█████████████████████████████▌                                                  \u001b[0m| 111/300 [00:34<00:59,  3.17it/s]\u001b[0m"
     ]
    },
    {
     "name": "stdout",
     "output_type": "stream",
     "text": [
      "Validation F1 in epoch110 : 0.8197\n",
      "Validation loss in epoch110 : 8258.9453\n"
     ]
    },
    {
     "name": "stderr",
     "output_type": "stream",
     "text": [
      " 40%|\u001b[32m████████████████████████████████▎                                               \u001b[0m| 121/300 [00:37<00:52,  3.42it/s]\u001b[0m"
     ]
    },
    {
     "name": "stdout",
     "output_type": "stream",
     "text": [
      "Validation F1 in epoch120 : 0.8224\n",
      "Validation loss in epoch120 : 8159.1562\n"
     ]
    },
    {
     "name": "stderr",
     "output_type": "stream",
     "text": [
      " 44%|\u001b[32m██████████████████████████████████▉                                             \u001b[0m| 131/300 [00:40<00:53,  3.14it/s]\u001b[0m"
     ]
    },
    {
     "name": "stdout",
     "output_type": "stream",
     "text": [
      "Validation F1 in epoch130 : 0.8209\n",
      "Validation loss in epoch130 : 8228.5527\n"
     ]
    },
    {
     "name": "stderr",
     "output_type": "stream",
     "text": [
      " 47%|\u001b[32m█████████████████████████████████████▌                                          \u001b[0m| 141/300 [00:43<00:49,  3.21it/s]\u001b[0m"
     ]
    },
    {
     "name": "stdout",
     "output_type": "stream",
     "text": [
      "Validation F1 in epoch140 : 0.8234\n",
      "Validation loss in epoch140 : 8147.2686\n"
     ]
    },
    {
     "name": "stderr",
     "output_type": "stream",
     "text": [
      " 50%|\u001b[32m████████████████████████████████████████▎                                       \u001b[0m| 151/300 [00:46<00:50,  2.98it/s]\u001b[0m"
     ]
    },
    {
     "name": "stdout",
     "output_type": "stream",
     "text": [
      "Validation F1 in epoch150 : 0.8225\n",
      "Validation loss in epoch150 : 8098.5859\n"
     ]
    },
    {
     "name": "stderr",
     "output_type": "stream",
     "text": [
      " 54%|\u001b[32m██████████████████████████████████████████▉                                     \u001b[0m| 161/300 [00:49<00:42,  3.26it/s]\u001b[0m"
     ]
    },
    {
     "name": "stdout",
     "output_type": "stream",
     "text": [
      "Validation F1 in epoch160 : 0.8206\n",
      "Validation loss in epoch160 : 8087.8135\n"
     ]
    },
    {
     "name": "stderr",
     "output_type": "stream",
     "text": [
      " 57%|\u001b[32m█████████████████████████████████████████████▌                                  \u001b[0m| 171/300 [00:52<00:39,  3.30it/s]\u001b[0m"
     ]
    },
    {
     "name": "stdout",
     "output_type": "stream",
     "text": [
      "Validation F1 in epoch170 : 0.8217\n",
      "Validation loss in epoch170 : 8049.8213\n"
     ]
    },
    {
     "name": "stderr",
     "output_type": "stream",
     "text": [
      " 60%|\u001b[32m████████████████████████████████████████████████▎                               \u001b[0m| 181/300 [00:55<00:37,  3.18it/s]\u001b[0m"
     ]
    },
    {
     "name": "stdout",
     "output_type": "stream",
     "text": [
      "Validation F1 in epoch180 : 0.8233\n",
      "Validation loss in epoch180 : 8093.1328\n"
     ]
    },
    {
     "name": "stderr",
     "output_type": "stream",
     "text": [
      " 64%|\u001b[32m██████████████████████████████████████████████████▉                             \u001b[0m| 191/300 [00:58<00:31,  3.43it/s]\u001b[0m"
     ]
    },
    {
     "name": "stdout",
     "output_type": "stream",
     "text": [
      "Validation F1 in epoch190 : 0.8248\n",
      "Validation loss in epoch190 : 8081.6895\n"
     ]
    },
    {
     "name": "stderr",
     "output_type": "stream",
     "text": [
      " 67%|\u001b[32m█████████████████████████████████████████████████████▌                          \u001b[0m| 201/300 [01:01<00:29,  3.32it/s]\u001b[0m"
     ]
    },
    {
     "name": "stdout",
     "output_type": "stream",
     "text": [
      "Validation F1 in epoch200 : 0.8240\n",
      "Validation loss in epoch200 : 8129.9561\n"
     ]
    },
    {
     "name": "stderr",
     "output_type": "stream",
     "text": [
      " 70%|\u001b[32m████████████████████████████████████████████████████████▎                       \u001b[0m| 211/300 [01:04<00:25,  3.45it/s]\u001b[0m"
     ]
    },
    {
     "name": "stdout",
     "output_type": "stream",
     "text": [
      "Validation F1 in epoch210 : 0.8243\n",
      "Validation loss in epoch210 : 8102.6685\n"
     ]
    },
    {
     "name": "stderr",
     "output_type": "stream",
     "text": [
      " 74%|\u001b[32m██████████████████████████████████████████████████████████▉                     \u001b[0m| 221/300 [01:08<00:24,  3.29it/s]\u001b[0m"
     ]
    },
    {
     "name": "stdout",
     "output_type": "stream",
     "text": [
      "Validation F1 in epoch220 : 0.8249\n",
      "Validation loss in epoch220 : 8159.0757\n"
     ]
    },
    {
     "name": "stderr",
     "output_type": "stream",
     "text": [
      " 77%|\u001b[32m█████████████████████████████████████████████████████████████▌                  \u001b[0m| 231/300 [01:11<00:22,  3.14it/s]\u001b[0m"
     ]
    },
    {
     "name": "stdout",
     "output_type": "stream",
     "text": [
      "Validation F1 in epoch230 : 0.8245\n",
      "Validation loss in epoch230 : 8126.0850\n"
     ]
    },
    {
     "name": "stderr",
     "output_type": "stream",
     "text": [
      " 80%|\u001b[32m████████████████████████████████████████████████████████████████▎               \u001b[0m| 241/300 [01:14<00:18,  3.17it/s]\u001b[0m"
     ]
    },
    {
     "name": "stdout",
     "output_type": "stream",
     "text": [
      "Validation F1 in epoch240 : 0.8222\n",
      "Validation loss in epoch240 : 8203.1279\n"
     ]
    },
    {
     "name": "stderr",
     "output_type": "stream",
     "text": [
      " 84%|\u001b[32m██████████████████████████████████████████████████████████████████▉             \u001b[0m| 251/300 [01:17<00:15,  3.18it/s]\u001b[0m"
     ]
    },
    {
     "name": "stdout",
     "output_type": "stream",
     "text": [
      "Validation F1 in epoch250 : 0.8190\n",
      "Validation loss in epoch250 : 8320.3809\n"
     ]
    },
    {
     "name": "stderr",
     "output_type": "stream",
     "text": [
      " 87%|\u001b[32m█████████████████████████████████████████████████████████████████████▌          \u001b[0m| 261/300 [01:20<00:12,  3.17it/s]\u001b[0m"
     ]
    },
    {
     "name": "stdout",
     "output_type": "stream",
     "text": [
      "Validation F1 in epoch260 : 0.8203\n",
      "Validation loss in epoch260 : 8394.3975\n"
     ]
    },
    {
     "name": "stderr",
     "output_type": "stream",
     "text": [
      " 90%|\u001b[32m████████████████████████████████████████████████████████████████████████▎       \u001b[0m| 271/300 [01:23<00:09,  3.18it/s]\u001b[0m"
     ]
    },
    {
     "name": "stdout",
     "output_type": "stream",
     "text": [
      "Validation F1 in epoch270 : 0.8181\n",
      "Validation loss in epoch270 : 8414.2080\n"
     ]
    },
    {
     "name": "stderr",
     "output_type": "stream",
     "text": [
      " 94%|\u001b[32m██████████████████████████████████████████████████████████████████████████▉     \u001b[0m| 281/300 [01:26<00:05,  3.30it/s]\u001b[0m"
     ]
    },
    {
     "name": "stdout",
     "output_type": "stream",
     "text": [
      "Validation F1 in epoch280 : 0.8170\n",
      "Validation loss in epoch280 : 8501.8486\n"
     ]
    },
    {
     "name": "stderr",
     "output_type": "stream",
     "text": [
      " 97%|\u001b[32m█████████████████████████████████████████████████████████████████████████████▌  \u001b[0m| 291/300 [01:29<00:02,  3.39it/s]\u001b[0m"
     ]
    },
    {
     "name": "stdout",
     "output_type": "stream",
     "text": [
      "Validation F1 in epoch290 : 0.8166\n",
      "Validation loss in epoch290 : 8694.2812\n"
     ]
    },
    {
     "name": "stderr",
     "output_type": "stream",
     "text": [
      "100%|\u001b[32m████████████████████████████████████████████████████████████████████████████████\u001b[0m| 300/300 [01:33<00:00,  3.22it/s]\u001b[0m\n",
      "  0%|\u001b[32m▎                                                                                 \u001b[0m| 1/300 [00:00<01:21,  3.65it/s]\u001b[0m"
     ]
    },
    {
     "name": "stdout",
     "output_type": "stream",
     "text": [
      "Validation F1 in epoch0 : 0.0742\n",
      "Validation loss in epoch0 : 62219.4336\n"
     ]
    },
    {
     "name": "stderr",
     "output_type": "stream",
     "text": [
      "  4%|\u001b[32m██▉                                                                              \u001b[0m| 11/300 [00:03<01:28,  3.25it/s]\u001b[0m"
     ]
    },
    {
     "name": "stdout",
     "output_type": "stream",
     "text": [
      "Validation F1 in epoch10 : 0.0742\n",
      "Validation loss in epoch10 : 62219.4336\n"
     ]
    },
    {
     "name": "stderr",
     "output_type": "stream",
     "text": [
      "  7%|\u001b[32m█████▋                                                                           \u001b[0m| 21/300 [00:06<01:47,  2.60it/s]\u001b[0m"
     ]
    },
    {
     "name": "stdout",
     "output_type": "stream",
     "text": [
      "Validation F1 in epoch20 : 0.5954\n",
      "Validation loss in epoch20 : 21253.5254\n"
     ]
    },
    {
     "name": "stderr",
     "output_type": "stream",
     "text": [
      " 10%|\u001b[32m████████▎                                                                        \u001b[0m| 31/300 [00:10<01:26,  3.10it/s]\u001b[0m"
     ]
    },
    {
     "name": "stdout",
     "output_type": "stream",
     "text": [
      "Validation F1 in epoch30 : 0.6517\n",
      "Validation loss in epoch30 : 16361.7441\n"
     ]
    },
    {
     "name": "stderr",
     "output_type": "stream",
     "text": [
      " 14%|\u001b[32m███████████                                                                      \u001b[0m| 41/300 [00:13<01:24,  3.05it/s]\u001b[0m"
     ]
    },
    {
     "name": "stdout",
     "output_type": "stream",
     "text": [
      "Validation F1 in epoch40 : 0.7520\n",
      "Validation loss in epoch40 : 11491.9355\n"
     ]
    },
    {
     "name": "stderr",
     "output_type": "stream",
     "text": [
      " 17%|\u001b[32m█████████████▊                                                                   \u001b[0m| 51/300 [00:16<01:21,  3.04it/s]\u001b[0m"
     ]
    },
    {
     "name": "stdout",
     "output_type": "stream",
     "text": [
      "Validation F1 in epoch50 : 0.8101\n",
      "Validation loss in epoch50 : 9287.6152\n"
     ]
    },
    {
     "name": "stderr",
     "output_type": "stream",
     "text": [
      " 20%|\u001b[32m████████████████▍                                                                \u001b[0m| 61/300 [00:19<01:19,  2.99it/s]\u001b[0m"
     ]
    },
    {
     "name": "stdout",
     "output_type": "stream",
     "text": [
      "Validation F1 in epoch60 : 0.8341\n",
      "Validation loss in epoch60 : 7954.6055\n"
     ]
    },
    {
     "name": "stderr",
     "output_type": "stream",
     "text": [
      " 24%|\u001b[32m███████████████████▏                                                             \u001b[0m| 71/300 [00:23<01:14,  3.08it/s]\u001b[0m"
     ]
    },
    {
     "name": "stdout",
     "output_type": "stream",
     "text": [
      "Validation F1 in epoch70 : 0.8480\n",
      "Validation loss in epoch70 : 7396.4102\n"
     ]
    },
    {
     "name": "stderr",
     "output_type": "stream",
     "text": [
      " 27%|\u001b[32m█████████████████████▊                                                           \u001b[0m| 81/300 [00:26<01:14,  2.95it/s]\u001b[0m"
     ]
    },
    {
     "name": "stdout",
     "output_type": "stream",
     "text": [
      "Validation F1 in epoch80 : 0.8523\n",
      "Validation loss in epoch80 : 7191.5664\n"
     ]
    },
    {
     "name": "stderr",
     "output_type": "stream",
     "text": [
      " 30%|\u001b[32m████████████████████████▌                                                        \u001b[0m| 91/300 [00:29<01:10,  2.96it/s]\u001b[0m"
     ]
    },
    {
     "name": "stdout",
     "output_type": "stream",
     "text": [
      "Validation F1 in epoch90 : 0.8559\n",
      "Validation loss in epoch90 : 7203.1436\n"
     ]
    },
    {
     "name": "stderr",
     "output_type": "stream",
     "text": [
      " 34%|\u001b[32m██████████████████████████▉                                                     \u001b[0m| 101/300 [00:33<01:03,  3.14it/s]\u001b[0m"
     ]
    },
    {
     "name": "stdout",
     "output_type": "stream",
     "text": [
      "Validation F1 in epoch100 : 0.8583\n",
      "Validation loss in epoch100 : 7253.1538\n"
     ]
    },
    {
     "name": "stderr",
     "output_type": "stream",
     "text": [
      " 37%|\u001b[32m█████████████████████████████▌                                                  \u001b[0m| 111/300 [00:36<01:15,  2.50it/s]\u001b[0m"
     ]
    },
    {
     "name": "stdout",
     "output_type": "stream",
     "text": [
      "Validation F1 in epoch110 : 0.8606\n",
      "Validation loss in epoch110 : 7377.8467\n"
     ]
    },
    {
     "name": "stderr",
     "output_type": "stream",
     "text": [
      " 40%|\u001b[32m████████████████████████████████▎                                               \u001b[0m| 121/300 [00:40<00:56,  3.18it/s]\u001b[0m"
     ]
    },
    {
     "name": "stdout",
     "output_type": "stream",
     "text": [
      "Validation F1 in epoch120 : 0.8618\n",
      "Validation loss in epoch120 : 7516.3984\n"
     ]
    },
    {
     "name": "stderr",
     "output_type": "stream",
     "text": [
      " 44%|\u001b[32m██████████████████████████████████▉                                             \u001b[0m| 131/300 [00:43<00:52,  3.22it/s]\u001b[0m"
     ]
    },
    {
     "name": "stdout",
     "output_type": "stream",
     "text": [
      "Validation F1 in epoch130 : 0.8621\n",
      "Validation loss in epoch130 : 7682.0146\n"
     ]
    },
    {
     "name": "stderr",
     "output_type": "stream",
     "text": [
      " 47%|\u001b[32m█████████████████████████████████████▌                                          \u001b[0m| 141/300 [00:46<00:49,  3.22it/s]\u001b[0m"
     ]
    },
    {
     "name": "stdout",
     "output_type": "stream",
     "text": [
      "Validation F1 in epoch140 : 0.8626\n",
      "Validation loss in epoch140 : 7851.3599\n"
     ]
    },
    {
     "name": "stderr",
     "output_type": "stream",
     "text": [
      " 50%|\u001b[32m████████████████████████████████████████▎                                       \u001b[0m| 151/300 [00:49<00:47,  3.11it/s]\u001b[0m"
     ]
    },
    {
     "name": "stdout",
     "output_type": "stream",
     "text": [
      "Validation F1 in epoch150 : 0.8624\n",
      "Validation loss in epoch150 : 8015.2305\n"
     ]
    },
    {
     "name": "stderr",
     "output_type": "stream",
     "text": [
      " 54%|\u001b[32m██████████████████████████████████████████▉                                     \u001b[0m| 161/300 [00:52<00:45,  3.06it/s]\u001b[0m"
     ]
    },
    {
     "name": "stdout",
     "output_type": "stream",
     "text": [
      "Validation F1 in epoch160 : 0.8628\n",
      "Validation loss in epoch160 : 8173.2656\n"
     ]
    },
    {
     "name": "stderr",
     "output_type": "stream",
     "text": [
      " 57%|\u001b[32m█████████████████████████████████████████████▌                                  \u001b[0m| 171/300 [00:55<00:40,  3.19it/s]\u001b[0m"
     ]
    },
    {
     "name": "stdout",
     "output_type": "stream",
     "text": [
      "Validation F1 in epoch170 : 0.8620\n",
      "Validation loss in epoch170 : 8322.3643\n"
     ]
    },
    {
     "name": "stderr",
     "output_type": "stream",
     "text": [
      " 60%|\u001b[32m████████████████████████████████████████████████▎                               \u001b[0m| 181/300 [00:59<00:38,  3.12it/s]\u001b[0m"
     ]
    },
    {
     "name": "stdout",
     "output_type": "stream",
     "text": [
      "Validation F1 in epoch180 : 0.8612\n",
      "Validation loss in epoch180 : 8462.7119\n"
     ]
    },
    {
     "name": "stderr",
     "output_type": "stream",
     "text": [
      " 64%|\u001b[32m██████████████████████████████████████████████████▉                             \u001b[0m| 191/300 [01:02<00:35,  3.08it/s]\u001b[0m"
     ]
    },
    {
     "name": "stdout",
     "output_type": "stream",
     "text": [
      "Validation F1 in epoch190 : 0.8610\n",
      "Validation loss in epoch190 : 8593.6240\n"
     ]
    },
    {
     "name": "stderr",
     "output_type": "stream",
     "text": [
      " 67%|\u001b[32m█████████████████████████████████████████████████████▌                          \u001b[0m| 201/300 [01:05<00:33,  2.99it/s]\u001b[0m"
     ]
    },
    {
     "name": "stdout",
     "output_type": "stream",
     "text": [
      "Validation F1 in epoch200 : 0.8610\n",
      "Validation loss in epoch200 : 8715.7148\n"
     ]
    },
    {
     "name": "stderr",
     "output_type": "stream",
     "text": [
      " 70%|\u001b[32m████████████████████████████████████████████████████████▎                       \u001b[0m| 211/300 [01:09<00:31,  2.83it/s]\u001b[0m"
     ]
    },
    {
     "name": "stdout",
     "output_type": "stream",
     "text": [
      "Validation F1 in epoch210 : 0.8607\n",
      "Validation loss in epoch210 : 8830.6104\n"
     ]
    },
    {
     "name": "stderr",
     "output_type": "stream",
     "text": [
      " 74%|\u001b[32m██████████████████████████████████████████████████████████▉                     \u001b[0m| 221/300 [01:12<00:28,  2.82it/s]\u001b[0m"
     ]
    },
    {
     "name": "stdout",
     "output_type": "stream",
     "text": [
      "Validation F1 in epoch220 : 0.8607\n",
      "Validation loss in epoch220 : 8937.6084\n"
     ]
    },
    {
     "name": "stderr",
     "output_type": "stream",
     "text": [
      " 77%|\u001b[32m█████████████████████████████████████████████████████████████▌                  \u001b[0m| 231/300 [01:15<00:24,  2.84it/s]\u001b[0m"
     ]
    },
    {
     "name": "stdout",
     "output_type": "stream",
     "text": [
      "Validation F1 in epoch230 : 0.8604\n",
      "Validation loss in epoch230 : 9036.5371\n"
     ]
    },
    {
     "name": "stderr",
     "output_type": "stream",
     "text": [
      " 80%|\u001b[32m████████████████████████████████████████████████████████████████▎               \u001b[0m| 241/300 [01:18<00:17,  3.30it/s]\u001b[0m"
     ]
    },
    {
     "name": "stdout",
     "output_type": "stream",
     "text": [
      "Validation F1 in epoch240 : 0.8603\n",
      "Validation loss in epoch240 : 9127.8027\n"
     ]
    },
    {
     "name": "stderr",
     "output_type": "stream",
     "text": [
      " 84%|\u001b[32m██████████████████████████████████████████████████████████████████▉             \u001b[0m| 251/300 [01:22<00:14,  3.37it/s]\u001b[0m"
     ]
    },
    {
     "name": "stdout",
     "output_type": "stream",
     "text": [
      "Validation F1 in epoch250 : 0.8603\n",
      "Validation loss in epoch250 : 9212.3613\n"
     ]
    },
    {
     "name": "stderr",
     "output_type": "stream",
     "text": [
      " 87%|\u001b[32m█████████████████████████████████████████████████████████████████████▌          \u001b[0m| 261/300 [01:25<00:11,  3.35it/s]\u001b[0m"
     ]
    },
    {
     "name": "stdout",
     "output_type": "stream",
     "text": [
      "Validation F1 in epoch260 : 0.8601\n",
      "Validation loss in epoch260 : 9290.7070\n"
     ]
    },
    {
     "name": "stderr",
     "output_type": "stream",
     "text": [
      " 90%|\u001b[32m████████████████████████████████████████████████████████████████████████▎       \u001b[0m| 271/300 [01:28<00:08,  3.25it/s]\u001b[0m"
     ]
    },
    {
     "name": "stdout",
     "output_type": "stream",
     "text": [
      "Validation F1 in epoch270 : 0.8601\n",
      "Validation loss in epoch270 : 9361.9434\n"
     ]
    },
    {
     "name": "stderr",
     "output_type": "stream",
     "text": [
      " 94%|\u001b[32m██████████████████████████████████████████████████████████████████████████▉     \u001b[0m| 281/300 [01:31<00:05,  3.24it/s]\u001b[0m"
     ]
    },
    {
     "name": "stdout",
     "output_type": "stream",
     "text": [
      "Validation F1 in epoch280 : 0.8601\n",
      "Validation loss in epoch280 : 9429.5977\n"
     ]
    },
    {
     "name": "stderr",
     "output_type": "stream",
     "text": [
      " 97%|\u001b[32m█████████████████████████████████████████████████████████████████████████████▌  \u001b[0m| 291/300 [01:34<00:02,  3.20it/s]\u001b[0m"
     ]
    },
    {
     "name": "stdout",
     "output_type": "stream",
     "text": [
      "Validation F1 in epoch290 : 0.8601\n",
      "Validation loss in epoch290 : 9489.3584\n"
     ]
    },
    {
     "name": "stderr",
     "output_type": "stream",
     "text": [
      "100%|\u001b[32m████████████████████████████████████████████████████████████████████████████████\u001b[0m| 300/300 [01:37<00:00,  3.09it/s]\u001b[0m\n",
      "  0%|\u001b[32m▎                                                                                 \u001b[0m| 1/300 [00:00<02:00,  2.48it/s]\u001b[0m"
     ]
    },
    {
     "name": "stdout",
     "output_type": "stream",
     "text": [
      "Validation F1 in epoch0 : 0.1948\n",
      "Validation loss in epoch0 : 62050.1797\n"
     ]
    },
    {
     "name": "stderr",
     "output_type": "stream",
     "text": [
      "  4%|\u001b[32m██▉                                                                              \u001b[0m| 11/300 [00:03<01:23,  3.47it/s]\u001b[0m"
     ]
    },
    {
     "name": "stdout",
     "output_type": "stream",
     "text": [
      "Validation F1 in epoch10 : 0.1925\n",
      "Validation loss in epoch10 : 62037.9922\n"
     ]
    },
    {
     "name": "stderr",
     "output_type": "stream",
     "text": [
      "  7%|\u001b[32m█████▋                                                                           \u001b[0m| 21/300 [00:06<01:23,  3.33it/s]\u001b[0m"
     ]
    },
    {
     "name": "stdout",
     "output_type": "stream",
     "text": [
      "Validation F1 in epoch20 : 0.5179\n",
      "Validation loss in epoch20 : 23711.9766\n"
     ]
    },
    {
     "name": "stderr",
     "output_type": "stream",
     "text": [
      " 10%|\u001b[32m████████▎                                                                        \u001b[0m| 31/300 [00:09<01:18,  3.43it/s]\u001b[0m"
     ]
    },
    {
     "name": "stdout",
     "output_type": "stream",
     "text": [
      "Validation F1 in epoch30 : 0.6429\n",
      "Validation loss in epoch30 : 16490.4414\n"
     ]
    },
    {
     "name": "stderr",
     "output_type": "stream",
     "text": [
      " 14%|\u001b[32m███████████                                                                      \u001b[0m| 41/300 [00:12<01:24,  3.08it/s]\u001b[0m"
     ]
    },
    {
     "name": "stdout",
     "output_type": "stream",
     "text": [
      "Validation F1 in epoch40 : 0.6927\n",
      "Validation loss in epoch40 : 11454.8652\n"
     ]
    },
    {
     "name": "stderr",
     "output_type": "stream",
     "text": [
      " 17%|\u001b[32m█████████████▊                                                                   \u001b[0m| 51/300 [00:15<01:14,  3.33it/s]\u001b[0m"
     ]
    },
    {
     "name": "stdout",
     "output_type": "stream",
     "text": [
      "Validation F1 in epoch50 : 0.7752\n",
      "Validation loss in epoch50 : 9145.8984\n"
     ]
    },
    {
     "name": "stderr",
     "output_type": "stream",
     "text": [
      " 20%|\u001b[32m████████████████▍                                                                \u001b[0m| 61/300 [00:18<01:13,  3.25it/s]\u001b[0m"
     ]
    },
    {
     "name": "stdout",
     "output_type": "stream",
     "text": [
      "Validation F1 in epoch60 : 0.8021\n",
      "Validation loss in epoch60 : 8138.5776\n"
     ]
    },
    {
     "name": "stderr",
     "output_type": "stream",
     "text": [
      " 24%|\u001b[32m███████████████████▏                                                             \u001b[0m| 71/300 [00:21<01:19,  2.89it/s]\u001b[0m"
     ]
    },
    {
     "name": "stdout",
     "output_type": "stream",
     "text": [
      "Validation F1 in epoch70 : 0.8208\n",
      "Validation loss in epoch70 : 7609.6260\n"
     ]
    },
    {
     "name": "stderr",
     "output_type": "stream",
     "text": [
      " 27%|\u001b[32m█████████████████████▊                                                           \u001b[0m| 81/300 [00:24<01:06,  3.30it/s]\u001b[0m"
     ]
    },
    {
     "name": "stdout",
     "output_type": "stream",
     "text": [
      "Validation F1 in epoch80 : 0.8274\n",
      "Validation loss in epoch80 : 7328.0488\n"
     ]
    },
    {
     "name": "stderr",
     "output_type": "stream",
     "text": [
      " 30%|\u001b[32m████████████████████████▌                                                        \u001b[0m| 91/300 [00:27<01:02,  3.34it/s]\u001b[0m"
     ]
    },
    {
     "name": "stdout",
     "output_type": "stream",
     "text": [
      "Validation F1 in epoch90 : 0.8343\n",
      "Validation loss in epoch90 : 7075.3271\n"
     ]
    },
    {
     "name": "stderr",
     "output_type": "stream",
     "text": [
      " 34%|\u001b[32m██████████████████████████▉                                                     \u001b[0m| 101/300 [00:30<00:58,  3.42it/s]\u001b[0m"
     ]
    },
    {
     "name": "stdout",
     "output_type": "stream",
     "text": [
      "Validation F1 in epoch100 : 0.8376\n",
      "Validation loss in epoch100 : 6994.2612\n"
     ]
    },
    {
     "name": "stderr",
     "output_type": "stream",
     "text": [
      " 37%|\u001b[32m█████████████████████████████▌                                                  \u001b[0m| 111/300 [00:33<00:57,  3.29it/s]\u001b[0m"
     ]
    },
    {
     "name": "stdout",
     "output_type": "stream",
     "text": [
      "Validation F1 in epoch110 : 0.8399\n",
      "Validation loss in epoch110 : 6909.9419\n"
     ]
    },
    {
     "name": "stderr",
     "output_type": "stream",
     "text": [
      " 40%|\u001b[32m████████████████████████████████▎                                               \u001b[0m| 121/300 [00:37<00:56,  3.17it/s]\u001b[0m"
     ]
    },
    {
     "name": "stdout",
     "output_type": "stream",
     "text": [
      "Validation F1 in epoch120 : 0.8430\n",
      "Validation loss in epoch120 : 6802.5825\n"
     ]
    },
    {
     "name": "stderr",
     "output_type": "stream",
     "text": [
      " 44%|\u001b[32m██████████████████████████████████▉                                             \u001b[0m| 131/300 [00:40<00:51,  3.29it/s]\u001b[0m"
     ]
    },
    {
     "name": "stdout",
     "output_type": "stream",
     "text": [
      "Validation F1 in epoch130 : 0.8463\n",
      "Validation loss in epoch130 : 6766.9116\n"
     ]
    },
    {
     "name": "stderr",
     "output_type": "stream",
     "text": [
      " 47%|\u001b[32m█████████████████████████████████████▌                                          \u001b[0m| 141/300 [00:43<00:51,  3.07it/s]\u001b[0m"
     ]
    },
    {
     "name": "stdout",
     "output_type": "stream",
     "text": [
      "Validation F1 in epoch140 : 0.8435\n",
      "Validation loss in epoch140 : 6811.2061\n"
     ]
    },
    {
     "name": "stderr",
     "output_type": "stream",
     "text": [
      " 50%|\u001b[32m████████████████████████████████████████▎                                       \u001b[0m| 151/300 [00:47<00:49,  2.98it/s]\u001b[0m"
     ]
    },
    {
     "name": "stdout",
     "output_type": "stream",
     "text": [
      "Validation F1 in epoch150 : 0.8493\n",
      "Validation loss in epoch150 : 6679.8867\n"
     ]
    },
    {
     "name": "stderr",
     "output_type": "stream",
     "text": [
      " 54%|\u001b[32m██████████████████████████████████████████▉                                     \u001b[0m| 161/300 [00:50<00:44,  3.13it/s]\u001b[0m"
     ]
    },
    {
     "name": "stdout",
     "output_type": "stream",
     "text": [
      "Validation F1 in epoch160 : 0.8457\n",
      "Validation loss in epoch160 : 6715.9160\n"
     ]
    },
    {
     "name": "stderr",
     "output_type": "stream",
     "text": [
      " 57%|\u001b[32m█████████████████████████████████████████████▌                                  \u001b[0m| 171/300 [00:53<00:39,  3.29it/s]\u001b[0m"
     ]
    },
    {
     "name": "stdout",
     "output_type": "stream",
     "text": [
      "Validation F1 in epoch170 : 0.8482\n",
      "Validation loss in epoch170 : 6616.6084\n"
     ]
    },
    {
     "name": "stderr",
     "output_type": "stream",
     "text": [
      " 60%|\u001b[32m████████████████████████████████████████████████▎                               \u001b[0m| 181/300 [00:56<00:39,  2.98it/s]\u001b[0m"
     ]
    },
    {
     "name": "stdout",
     "output_type": "stream",
     "text": [
      "Validation F1 in epoch180 : 0.8485\n",
      "Validation loss in epoch180 : 6680.3960\n"
     ]
    },
    {
     "name": "stderr",
     "output_type": "stream",
     "text": [
      " 64%|\u001b[32m██████████████████████████████████████████████████▉                             \u001b[0m| 191/300 [00:59<00:33,  3.24it/s]\u001b[0m"
     ]
    },
    {
     "name": "stdout",
     "output_type": "stream",
     "text": [
      "Validation F1 in epoch190 : 0.8474\n",
      "Validation loss in epoch190 : 6792.7490\n"
     ]
    },
    {
     "name": "stderr",
     "output_type": "stream",
     "text": [
      " 67%|\u001b[32m█████████████████████████████████████████████████████▌                          \u001b[0m| 201/300 [01:02<00:29,  3.30it/s]\u001b[0m"
     ]
    },
    {
     "name": "stdout",
     "output_type": "stream",
     "text": [
      "Validation F1 in epoch200 : 0.8456\n",
      "Validation loss in epoch200 : 6821.7524\n"
     ]
    },
    {
     "name": "stderr",
     "output_type": "stream",
     "text": [
      " 70%|\u001b[32m████████████████████████████████████████████████████████▎                       \u001b[0m| 211/300 [01:05<00:28,  3.07it/s]\u001b[0m"
     ]
    },
    {
     "name": "stdout",
     "output_type": "stream",
     "text": [
      "Validation F1 in epoch210 : 0.8487\n",
      "Validation loss in epoch210 : 6870.5488\n"
     ]
    },
    {
     "name": "stderr",
     "output_type": "stream",
     "text": [
      " 74%|\u001b[32m██████████████████████████████████████████████████████████▉                     \u001b[0m| 221/300 [01:08<00:22,  3.45it/s]\u001b[0m"
     ]
    },
    {
     "name": "stdout",
     "output_type": "stream",
     "text": [
      "Validation F1 in epoch220 : 0.8446\n",
      "Validation loss in epoch220 : 6991.7822\n"
     ]
    },
    {
     "name": "stderr",
     "output_type": "stream",
     "text": [
      " 77%|\u001b[32m█████████████████████████████████████████████████████████████▌                  \u001b[0m| 231/300 [01:12<00:20,  3.31it/s]\u001b[0m"
     ]
    },
    {
     "name": "stdout",
     "output_type": "stream",
     "text": [
      "Validation F1 in epoch230 : 0.8448\n",
      "Validation loss in epoch230 : 7085.3901\n"
     ]
    },
    {
     "name": "stderr",
     "output_type": "stream",
     "text": [
      " 80%|\u001b[32m████████████████████████████████████████████████████████████████▎               \u001b[0m| 241/300 [01:15<00:18,  3.16it/s]\u001b[0m"
     ]
    },
    {
     "name": "stdout",
     "output_type": "stream",
     "text": [
      "Validation F1 in epoch240 : 0.8449\n",
      "Validation loss in epoch240 : 7197.8818\n"
     ]
    },
    {
     "name": "stderr",
     "output_type": "stream",
     "text": [
      " 84%|\u001b[32m██████████████████████████████████████████████████████████████████▉             \u001b[0m| 251/300 [01:18<00:15,  3.21it/s]\u001b[0m"
     ]
    },
    {
     "name": "stdout",
     "output_type": "stream",
     "text": [
      "Validation F1 in epoch250 : 0.8439\n",
      "Validation loss in epoch250 : 7386.1089\n"
     ]
    },
    {
     "name": "stderr",
     "output_type": "stream",
     "text": [
      " 87%|\u001b[32m█████████████████████████████████████████████████████████████████████▌          \u001b[0m| 261/300 [01:21<00:11,  3.33it/s]\u001b[0m"
     ]
    },
    {
     "name": "stdout",
     "output_type": "stream",
     "text": [
      "Validation F1 in epoch260 : 0.8428\n",
      "Validation loss in epoch260 : 7494.7158\n"
     ]
    },
    {
     "name": "stderr",
     "output_type": "stream",
     "text": [
      " 90%|\u001b[32m████████████████████████████████████████████████████████████████████████▎       \u001b[0m| 271/300 [01:24<00:09,  3.12it/s]\u001b[0m"
     ]
    },
    {
     "name": "stdout",
     "output_type": "stream",
     "text": [
      "Validation F1 in epoch270 : 0.8421\n",
      "Validation loss in epoch270 : 7633.8115\n"
     ]
    },
    {
     "name": "stderr",
     "output_type": "stream",
     "text": [
      " 94%|\u001b[32m██████████████████████████████████████████████████████████████████████████▉     \u001b[0m| 281/300 [01:27<00:05,  3.35it/s]\u001b[0m"
     ]
    },
    {
     "name": "stdout",
     "output_type": "stream",
     "text": [
      "Validation F1 in epoch280 : 0.8407\n",
      "Validation loss in epoch280 : 7856.1533\n"
     ]
    },
    {
     "name": "stderr",
     "output_type": "stream",
     "text": [
      " 97%|\u001b[32m█████████████████████████████████████████████████████████████████████████████▌  \u001b[0m| 291/300 [01:30<00:03,  2.96it/s]\u001b[0m"
     ]
    },
    {
     "name": "stdout",
     "output_type": "stream",
     "text": [
      "Validation F1 in epoch290 : 0.8389\n",
      "Validation loss in epoch290 : 8089.2812\n"
     ]
    },
    {
     "name": "stderr",
     "output_type": "stream",
     "text": [
      "100%|\u001b[32m████████████████████████████████████████████████████████████████████████████████\u001b[0m| 300/300 [01:33<00:00,  3.21it/s]\u001b[0m\n",
      "  0%|\u001b[32m▎                                                                                 \u001b[0m| 1/300 [00:00<01:20,  3.70it/s]\u001b[0m"
     ]
    },
    {
     "name": "stdout",
     "output_type": "stream",
     "text": [
      "Validation F1 in epoch0 : 0.1727\n",
      "Validation loss in epoch0 : 62262.7266\n"
     ]
    },
    {
     "name": "stderr",
     "output_type": "stream",
     "text": [
      "  4%|\u001b[32m██▉                                                                              \u001b[0m| 11/300 [00:03<01:29,  3.24it/s]\u001b[0m"
     ]
    },
    {
     "name": "stdout",
     "output_type": "stream",
     "text": [
      "Validation F1 in epoch10 : 0.1701\n",
      "Validation loss in epoch10 : 62268.7734\n"
     ]
    },
    {
     "name": "stderr",
     "output_type": "stream",
     "text": [
      "  7%|\u001b[32m█████▋                                                                           \u001b[0m| 21/300 [00:06<01:25,  3.28it/s]\u001b[0m"
     ]
    },
    {
     "name": "stdout",
     "output_type": "stream",
     "text": [
      "Validation F1 in epoch20 : 0.5805\n",
      "Validation loss in epoch20 : 22970.6152\n"
     ]
    },
    {
     "name": "stderr",
     "output_type": "stream",
     "text": [
      " 10%|\u001b[32m████████▎                                                                        \u001b[0m| 31/300 [00:09<01:33,  2.88it/s]\u001b[0m"
     ]
    },
    {
     "name": "stdout",
     "output_type": "stream",
     "text": [
      "Validation F1 in epoch30 : 0.5979\n",
      "Validation loss in epoch30 : 17531.5645\n"
     ]
    },
    {
     "name": "stderr",
     "output_type": "stream",
     "text": [
      " 14%|\u001b[32m███████████                                                                      \u001b[0m| 41/300 [00:12<01:20,  3.21it/s]\u001b[0m"
     ]
    },
    {
     "name": "stdout",
     "output_type": "stream",
     "text": [
      "Validation F1 in epoch40 : 0.6585\n",
      "Validation loss in epoch40 : 12784.7305\n"
     ]
    },
    {
     "name": "stderr",
     "output_type": "stream",
     "text": [
      " 17%|\u001b[32m█████████████▊                                                                   \u001b[0m| 51/300 [00:15<01:16,  3.25it/s]\u001b[0m"
     ]
    },
    {
     "name": "stdout",
     "output_type": "stream",
     "text": [
      "Validation F1 in epoch50 : 0.7597\n",
      "Validation loss in epoch50 : 10263.7002\n"
     ]
    },
    {
     "name": "stderr",
     "output_type": "stream",
     "text": [
      " 20%|\u001b[32m████████████████▍                                                                \u001b[0m| 61/300 [00:18<01:10,  3.39it/s]\u001b[0m"
     ]
    },
    {
     "name": "stdout",
     "output_type": "stream",
     "text": [
      "Validation F1 in epoch60 : 0.7903\n",
      "Validation loss in epoch60 : 9305.8779\n"
     ]
    },
    {
     "name": "stderr",
     "output_type": "stream",
     "text": [
      " 24%|\u001b[32m███████████████████▏                                                             \u001b[0m| 71/300 [00:21<01:10,  3.24it/s]\u001b[0m"
     ]
    },
    {
     "name": "stdout",
     "output_type": "stream",
     "text": [
      "Validation F1 in epoch70 : 0.8050\n",
      "Validation loss in epoch70 : 8856.1953\n"
     ]
    },
    {
     "name": "stderr",
     "output_type": "stream",
     "text": [
      " 27%|\u001b[32m█████████████████████▊                                                           \u001b[0m| 81/300 [00:24<01:07,  3.22it/s]\u001b[0m"
     ]
    },
    {
     "name": "stdout",
     "output_type": "stream",
     "text": [
      "Validation F1 in epoch80 : 0.8104\n",
      "Validation loss in epoch80 : 8584.6680\n"
     ]
    },
    {
     "name": "stderr",
     "output_type": "stream",
     "text": [
      " 30%|\u001b[32m████████████████████████▌                                                        \u001b[0m| 91/300 [00:28<01:03,  3.31it/s]\u001b[0m"
     ]
    },
    {
     "name": "stdout",
     "output_type": "stream",
     "text": [
      "Validation F1 in epoch90 : 0.8146\n",
      "Validation loss in epoch90 : 8390.0283\n"
     ]
    },
    {
     "name": "stderr",
     "output_type": "stream",
     "text": [
      " 34%|\u001b[32m██████████████████████████▉                                                     \u001b[0m| 101/300 [00:31<01:01,  3.23it/s]\u001b[0m"
     ]
    },
    {
     "name": "stdout",
     "output_type": "stream",
     "text": [
      "Validation F1 in epoch100 : 0.8205\n",
      "Validation loss in epoch100 : 8295.4541\n"
     ]
    },
    {
     "name": "stderr",
     "output_type": "stream",
     "text": [
      " 37%|\u001b[32m█████████████████████████████▌                                                  \u001b[0m| 111/300 [00:34<01:00,  3.14it/s]\u001b[0m"
     ]
    },
    {
     "name": "stdout",
     "output_type": "stream",
     "text": [
      "Validation F1 in epoch110 : 0.8197\n",
      "Validation loss in epoch110 : 8258.9453\n"
     ]
    },
    {
     "name": "stderr",
     "output_type": "stream",
     "text": [
      " 40%|\u001b[32m████████████████████████████████▎                                               \u001b[0m| 121/300 [00:37<00:55,  3.24it/s]\u001b[0m"
     ]
    },
    {
     "name": "stdout",
     "output_type": "stream",
     "text": [
      "Validation F1 in epoch120 : 0.8224\n",
      "Validation loss in epoch120 : 8159.1562\n"
     ]
    },
    {
     "name": "stderr",
     "output_type": "stream",
     "text": [
      " 44%|\u001b[32m██████████████████████████████████▉                                             \u001b[0m| 131/300 [00:40<00:52,  3.19it/s]\u001b[0m"
     ]
    },
    {
     "name": "stdout",
     "output_type": "stream",
     "text": [
      "Validation F1 in epoch130 : 0.8209\n",
      "Validation loss in epoch130 : 8228.5527\n"
     ]
    },
    {
     "name": "stderr",
     "output_type": "stream",
     "text": [
      " 47%|\u001b[32m█████████████████████████████████████▌                                          \u001b[0m| 141/300 [00:43<00:52,  3.03it/s]\u001b[0m"
     ]
    },
    {
     "name": "stdout",
     "output_type": "stream",
     "text": [
      "Validation F1 in epoch140 : 0.8234\n",
      "Validation loss in epoch140 : 8147.2686\n"
     ]
    },
    {
     "name": "stderr",
     "output_type": "stream",
     "text": [
      " 50%|\u001b[32m████████████████████████████████████████▎                                       \u001b[0m| 151/300 [00:46<00:45,  3.27it/s]\u001b[0m"
     ]
    },
    {
     "name": "stdout",
     "output_type": "stream",
     "text": [
      "Validation F1 in epoch150 : 0.8225\n",
      "Validation loss in epoch150 : 8098.5859\n"
     ]
    },
    {
     "name": "stderr",
     "output_type": "stream",
     "text": [
      " 54%|\u001b[32m██████████████████████████████████████████▉                                     \u001b[0m| 161/300 [00:49<00:45,  3.03it/s]\u001b[0m"
     ]
    },
    {
     "name": "stdout",
     "output_type": "stream",
     "text": [
      "Validation F1 in epoch160 : 0.8206\n",
      "Validation loss in epoch160 : 8087.8135\n"
     ]
    },
    {
     "name": "stderr",
     "output_type": "stream",
     "text": [
      " 57%|\u001b[32m█████████████████████████████████████████████▌                                  \u001b[0m| 171/300 [00:52<00:40,  3.19it/s]\u001b[0m"
     ]
    },
    {
     "name": "stdout",
     "output_type": "stream",
     "text": [
      "Validation F1 in epoch170 : 0.8217\n",
      "Validation loss in epoch170 : 8049.8213\n"
     ]
    },
    {
     "name": "stderr",
     "output_type": "stream",
     "text": [
      " 60%|\u001b[32m████████████████████████████████████████████████▎                               \u001b[0m| 181/300 [00:56<00:39,  3.03it/s]\u001b[0m"
     ]
    },
    {
     "name": "stdout",
     "output_type": "stream",
     "text": [
      "Validation F1 in epoch180 : 0.8233\n",
      "Validation loss in epoch180 : 8093.1328\n"
     ]
    },
    {
     "name": "stderr",
     "output_type": "stream",
     "text": [
      " 64%|\u001b[32m██████████████████████████████████████████████████▉                             \u001b[0m| 191/300 [00:59<00:33,  3.26it/s]\u001b[0m"
     ]
    },
    {
     "name": "stdout",
     "output_type": "stream",
     "text": [
      "Validation F1 in epoch190 : 0.8248\n",
      "Validation loss in epoch190 : 8081.6895\n"
     ]
    },
    {
     "name": "stderr",
     "output_type": "stream",
     "text": [
      " 67%|\u001b[32m█████████████████████████████████████████████████████▌                          \u001b[0m| 201/300 [01:02<00:29,  3.40it/s]\u001b[0m"
     ]
    },
    {
     "name": "stdout",
     "output_type": "stream",
     "text": [
      "Validation F1 in epoch200 : 0.8240\n",
      "Validation loss in epoch200 : 8129.9561\n"
     ]
    },
    {
     "name": "stderr",
     "output_type": "stream",
     "text": [
      " 70%|\u001b[32m████████████████████████████████████████████████████████▎                       \u001b[0m| 211/300 [01:05<00:27,  3.21it/s]\u001b[0m"
     ]
    },
    {
     "name": "stdout",
     "output_type": "stream",
     "text": [
      "Validation F1 in epoch210 : 0.8243\n",
      "Validation loss in epoch210 : 8102.6685\n"
     ]
    },
    {
     "name": "stderr",
     "output_type": "stream",
     "text": [
      " 74%|\u001b[32m██████████████████████████████████████████████████████████▉                     \u001b[0m| 221/300 [01:08<00:23,  3.38it/s]\u001b[0m"
     ]
    },
    {
     "name": "stdout",
     "output_type": "stream",
     "text": [
      "Validation F1 in epoch220 : 0.8249\n",
      "Validation loss in epoch220 : 8159.0757\n"
     ]
    },
    {
     "name": "stderr",
     "output_type": "stream",
     "text": [
      " 77%|\u001b[32m█████████████████████████████████████████████████████████████▌                  \u001b[0m| 231/300 [01:11<00:21,  3.16it/s]\u001b[0m"
     ]
    },
    {
     "name": "stdout",
     "output_type": "stream",
     "text": [
      "Validation F1 in epoch230 : 0.8245\n",
      "Validation loss in epoch230 : 8126.0850\n"
     ]
    },
    {
     "name": "stderr",
     "output_type": "stream",
     "text": [
      " 80%|\u001b[32m████████████████████████████████████████████████████████████████▎               \u001b[0m| 241/300 [01:14<00:17,  3.33it/s]\u001b[0m"
     ]
    },
    {
     "name": "stdout",
     "output_type": "stream",
     "text": [
      "Validation F1 in epoch240 : 0.8222\n",
      "Validation loss in epoch240 : 8203.1279\n"
     ]
    },
    {
     "name": "stderr",
     "output_type": "stream",
     "text": [
      " 84%|\u001b[32m██████████████████████████████████████████████████████████████████▉             \u001b[0m| 251/300 [01:17<00:15,  3.11it/s]\u001b[0m"
     ]
    },
    {
     "name": "stdout",
     "output_type": "stream",
     "text": [
      "Validation F1 in epoch250 : 0.8190\n",
      "Validation loss in epoch250 : 8320.3809\n"
     ]
    },
    {
     "name": "stderr",
     "output_type": "stream",
     "text": [
      " 87%|\u001b[32m█████████████████████████████████████████████████████████████████████▌          \u001b[0m| 261/300 [01:21<00:12,  3.13it/s]\u001b[0m"
     ]
    },
    {
     "name": "stdout",
     "output_type": "stream",
     "text": [
      "Validation F1 in epoch260 : 0.8203\n",
      "Validation loss in epoch260 : 8394.3975\n"
     ]
    },
    {
     "name": "stderr",
     "output_type": "stream",
     "text": [
      " 90%|\u001b[32m████████████████████████████████████████████████████████████████████████▎       \u001b[0m| 271/300 [01:24<00:09,  3.11it/s]\u001b[0m"
     ]
    },
    {
     "name": "stdout",
     "output_type": "stream",
     "text": [
      "Validation F1 in epoch270 : 0.8181\n",
      "Validation loss in epoch270 : 8414.2080\n"
     ]
    },
    {
     "name": "stderr",
     "output_type": "stream",
     "text": [
      " 94%|\u001b[32m██████████████████████████████████████████████████████████████████████████▉     \u001b[0m| 281/300 [01:27<00:05,  3.23it/s]\u001b[0m"
     ]
    },
    {
     "name": "stdout",
     "output_type": "stream",
     "text": [
      "Validation F1 in epoch280 : 0.8170\n",
      "Validation loss in epoch280 : 8501.8486\n"
     ]
    },
    {
     "name": "stderr",
     "output_type": "stream",
     "text": [
      " 97%|\u001b[32m█████████████████████████████████████████████████████████████████████████████▌  \u001b[0m| 291/300 [01:30<00:02,  3.34it/s]\u001b[0m"
     ]
    },
    {
     "name": "stdout",
     "output_type": "stream",
     "text": [
      "Validation F1 in epoch290 : 0.8166\n",
      "Validation loss in epoch290 : 8694.2812\n"
     ]
    },
    {
     "name": "stderr",
     "output_type": "stream",
     "text": [
      "100%|\u001b[32m████████████████████████████████████████████████████████████████████████████████\u001b[0m| 300/300 [01:33<00:00,  3.21it/s]\u001b[0m\n",
      "  0%|\u001b[32m▎                                                                                 \u001b[0m| 1/300 [00:00<01:19,  3.76it/s]\u001b[0m"
     ]
    },
    {
     "name": "stdout",
     "output_type": "stream",
     "text": [
      "Validation F1 in epoch0 : 0.0736\n",
      "Validation loss in epoch0 : 62219.4531\n"
     ]
    },
    {
     "name": "stderr",
     "output_type": "stream",
     "text": [
      "  4%|\u001b[32m██▉                                                                              \u001b[0m| 11/300 [00:03<01:29,  3.23it/s]\u001b[0m"
     ]
    },
    {
     "name": "stdout",
     "output_type": "stream",
     "text": [
      "Validation F1 in epoch10 : 0.0736\n",
      "Validation loss in epoch10 : 62219.4531\n"
     ]
    },
    {
     "name": "stderr",
     "output_type": "stream",
     "text": [
      "  7%|\u001b[32m█████▋                                                                           \u001b[0m| 21/300 [00:06<01:27,  3.19it/s]\u001b[0m"
     ]
    },
    {
     "name": "stdout",
     "output_type": "stream",
     "text": [
      "Validation F1 in epoch20 : 0.5955\n",
      "Validation loss in epoch20 : 21254.6660\n"
     ]
    },
    {
     "name": "stderr",
     "output_type": "stream",
     "text": [
      " 10%|\u001b[32m████████▎                                                                        \u001b[0m| 31/300 [00:09<01:24,  3.19it/s]\u001b[0m"
     ]
    },
    {
     "name": "stdout",
     "output_type": "stream",
     "text": [
      "Validation F1 in epoch30 : 0.6528\n",
      "Validation loss in epoch30 : 16334.5938\n"
     ]
    },
    {
     "name": "stderr",
     "output_type": "stream",
     "text": [
      " 14%|\u001b[32m███████████                                                                      \u001b[0m| 41/300 [00:12<01:19,  3.26it/s]\u001b[0m"
     ]
    },
    {
     "name": "stdout",
     "output_type": "stream",
     "text": [
      "Validation F1 in epoch40 : 0.7501\n",
      "Validation loss in epoch40 : 11456.4473\n"
     ]
    },
    {
     "name": "stderr",
     "output_type": "stream",
     "text": [
      " 17%|\u001b[32m█████████████▊                                                                   \u001b[0m| 51/300 [00:15<01:15,  3.30it/s]\u001b[0m"
     ]
    },
    {
     "name": "stdout",
     "output_type": "stream",
     "text": [
      "Validation F1 in epoch50 : 0.8110\n",
      "Validation loss in epoch50 : 9257.3730\n"
     ]
    },
    {
     "name": "stderr",
     "output_type": "stream",
     "text": [
      " 20%|\u001b[32m████████████████▍                                                                \u001b[0m| 61/300 [00:18<01:12,  3.28it/s]\u001b[0m"
     ]
    },
    {
     "name": "stdout",
     "output_type": "stream",
     "text": [
      "Validation F1 in epoch60 : 0.8327\n",
      "Validation loss in epoch60 : 7937.9141\n"
     ]
    },
    {
     "name": "stderr",
     "output_type": "stream",
     "text": [
      " 24%|\u001b[32m███████████████████▏                                                             \u001b[0m| 71/300 [00:21<01:10,  3.24it/s]\u001b[0m"
     ]
    },
    {
     "name": "stdout",
     "output_type": "stream",
     "text": [
      "Validation F1 in epoch70 : 0.8461\n",
      "Validation loss in epoch70 : 7399.3120\n"
     ]
    },
    {
     "name": "stderr",
     "output_type": "stream",
     "text": [
      " 27%|\u001b[32m█████████████████████▊                                                           \u001b[0m| 81/300 [00:24<01:07,  3.23it/s]\u001b[0m"
     ]
    },
    {
     "name": "stdout",
     "output_type": "stream",
     "text": [
      "Validation F1 in epoch80 : 0.8522\n",
      "Validation loss in epoch80 : 7217.2471\n"
     ]
    },
    {
     "name": "stderr",
     "output_type": "stream",
     "text": [
      " 30%|\u001b[32m████████████████████████▌                                                        \u001b[0m| 91/300 [00:27<01:06,  3.16it/s]\u001b[0m"
     ]
    },
    {
     "name": "stdout",
     "output_type": "stream",
     "text": [
      "Validation F1 in epoch90 : 0.8566\n",
      "Validation loss in epoch90 : 7245.0181\n"
     ]
    },
    {
     "name": "stderr",
     "output_type": "stream",
     "text": [
      " 34%|\u001b[32m██████████████████████████▉                                                     \u001b[0m| 101/300 [00:31<01:02,  3.17it/s]\u001b[0m"
     ]
    },
    {
     "name": "stdout",
     "output_type": "stream",
     "text": [
      "Validation F1 in epoch100 : 0.8588\n",
      "Validation loss in epoch100 : 7310.2368\n"
     ]
    },
    {
     "name": "stderr",
     "output_type": "stream",
     "text": [
      " 37%|\u001b[32m█████████████████████████████▌                                                  \u001b[0m| 111/300 [00:34<00:54,  3.49it/s]\u001b[0m"
     ]
    },
    {
     "name": "stdout",
     "output_type": "stream",
     "text": [
      "Validation F1 in epoch110 : 0.8608\n",
      "Validation loss in epoch110 : 7442.9141\n"
     ]
    },
    {
     "name": "stderr",
     "output_type": "stream",
     "text": [
      " 40%|\u001b[32m████████████████████████████████▎                                               \u001b[0m| 121/300 [00:37<00:54,  3.30it/s]\u001b[0m"
     ]
    },
    {
     "name": "stdout",
     "output_type": "stream",
     "text": [
      "Validation F1 in epoch120 : 0.8614\n",
      "Validation loss in epoch120 : 7587.7495\n"
     ]
    },
    {
     "name": "stderr",
     "output_type": "stream",
     "text": [
      " 44%|\u001b[32m██████████████████████████████████▉                                             \u001b[0m| 131/300 [00:40<00:51,  3.31it/s]\u001b[0m"
     ]
    },
    {
     "name": "stdout",
     "output_type": "stream",
     "text": [
      "Validation F1 in epoch130 : 0.8628\n",
      "Validation loss in epoch130 : 7759.2852\n"
     ]
    },
    {
     "name": "stderr",
     "output_type": "stream",
     "text": [
      " 47%|\u001b[32m█████████████████████████████████████▌                                          \u001b[0m| 141/300 [00:43<00:49,  3.23it/s]\u001b[0m"
     ]
    },
    {
     "name": "stdout",
     "output_type": "stream",
     "text": [
      "Validation F1 in epoch140 : 0.8624\n",
      "Validation loss in epoch140 : 7933.7109\n"
     ]
    },
    {
     "name": "stderr",
     "output_type": "stream",
     "text": [
      " 50%|\u001b[32m████████████████████████████████████████▎                                       \u001b[0m| 151/300 [00:46<00:44,  3.36it/s]\u001b[0m"
     ]
    },
    {
     "name": "stdout",
     "output_type": "stream",
     "text": [
      "Validation F1 in epoch150 : 0.8630\n",
      "Validation loss in epoch150 : 8105.8257\n"
     ]
    },
    {
     "name": "stderr",
     "output_type": "stream",
     "text": [
      " 54%|\u001b[32m██████████████████████████████████████████▉                                     \u001b[0m| 161/300 [00:49<00:44,  3.14it/s]\u001b[0m"
     ]
    },
    {
     "name": "stdout",
     "output_type": "stream",
     "text": [
      "Validation F1 in epoch160 : 0.8632\n",
      "Validation loss in epoch160 : 8269.4014\n"
     ]
    },
    {
     "name": "stderr",
     "output_type": "stream",
     "text": [
      " 57%|\u001b[32m█████████████████████████████████████████████▌                                  \u001b[0m| 171/300 [00:52<00:40,  3.18it/s]\u001b[0m"
     ]
    },
    {
     "name": "stdout",
     "output_type": "stream",
     "text": [
      "Validation F1 in epoch170 : 0.8626\n",
      "Validation loss in epoch170 : 8425.6641\n"
     ]
    },
    {
     "name": "stderr",
     "output_type": "stream",
     "text": [
      " 60%|\u001b[32m████████████████████████████████████████████████▎                               \u001b[0m| 181/300 [00:55<00:34,  3.41it/s]\u001b[0m"
     ]
    },
    {
     "name": "stdout",
     "output_type": "stream",
     "text": [
      "Validation F1 in epoch180 : 0.8625\n",
      "Validation loss in epoch180 : 8571.4092\n"
     ]
    },
    {
     "name": "stderr",
     "output_type": "stream",
     "text": [
      " 64%|\u001b[32m██████████████████████████████████████████████████▉                             \u001b[0m| 191/300 [00:58<00:32,  3.31it/s]\u001b[0m"
     ]
    },
    {
     "name": "stdout",
     "output_type": "stream",
     "text": [
      "Validation F1 in epoch190 : 0.8620\n",
      "Validation loss in epoch190 : 8708.6953\n"
     ]
    },
    {
     "name": "stderr",
     "output_type": "stream",
     "text": [
      " 67%|\u001b[32m█████████████████████████████████████████████████████▌                          \u001b[0m| 201/300 [01:01<00:32,  3.04it/s]\u001b[0m"
     ]
    },
    {
     "name": "stdout",
     "output_type": "stream",
     "text": [
      "Validation F1 in epoch200 : 0.8617\n",
      "Validation loss in epoch200 : 8836.8301\n"
     ]
    },
    {
     "name": "stderr",
     "output_type": "stream",
     "text": [
      " 70%|\u001b[32m████████████████████████████████████████████████████████▎                       \u001b[0m| 211/300 [01:04<00:28,  3.16it/s]\u001b[0m"
     ]
    },
    {
     "name": "stdout",
     "output_type": "stream",
     "text": [
      "Validation F1 in epoch210 : 0.8616\n",
      "Validation loss in epoch210 : 8958.2402\n"
     ]
    },
    {
     "name": "stderr",
     "output_type": "stream",
     "text": [
      " 74%|\u001b[32m██████████████████████████████████████████████████████████▉                     \u001b[0m| 221/300 [01:07<00:25,  3.14it/s]\u001b[0m"
     ]
    },
    {
     "name": "stdout",
     "output_type": "stream",
     "text": [
      "Validation F1 in epoch220 : 0.8613\n",
      "Validation loss in epoch220 : 9072.2832\n"
     ]
    },
    {
     "name": "stderr",
     "output_type": "stream",
     "text": [
      " 77%|\u001b[32m█████████████████████████████████████████████████████████████▌                  \u001b[0m| 231/300 [01:10<00:21,  3.22it/s]\u001b[0m"
     ]
    },
    {
     "name": "stdout",
     "output_type": "stream",
     "text": [
      "Validation F1 in epoch230 : 0.8615\n",
      "Validation loss in epoch230 : 9177.8281\n"
     ]
    },
    {
     "name": "stderr",
     "output_type": "stream",
     "text": [
      " 80%|\u001b[32m████████████████████████████████████████████████████████████████▎               \u001b[0m| 241/300 [01:13<00:18,  3.18it/s]\u001b[0m"
     ]
    },
    {
     "name": "stdout",
     "output_type": "stream",
     "text": [
      "Validation F1 in epoch240 : 0.8614\n",
      "Validation loss in epoch240 : 9275.9082\n"
     ]
    },
    {
     "name": "stderr",
     "output_type": "stream",
     "text": [
      " 84%|\u001b[32m██████████████████████████████████████████████████████████████████▉             \u001b[0m| 251/300 [01:17<00:14,  3.35it/s]\u001b[0m"
     ]
    },
    {
     "name": "stdout",
     "output_type": "stream",
     "text": [
      "Validation F1 in epoch250 : 0.8611\n",
      "Validation loss in epoch250 : 9365.7891\n"
     ]
    },
    {
     "name": "stderr",
     "output_type": "stream",
     "text": [
      " 87%|\u001b[32m█████████████████████████████████████████████████████████████████████▌          \u001b[0m| 261/300 [01:20<00:12,  3.22it/s]\u001b[0m"
     ]
    },
    {
     "name": "stdout",
     "output_type": "stream",
     "text": [
      "Validation F1 in epoch260 : 0.8611\n",
      "Validation loss in epoch260 : 9449.8203\n"
     ]
    },
    {
     "name": "stderr",
     "output_type": "stream",
     "text": [
      " 90%|\u001b[32m████████████████████████████████████████████████████████████████████████▎       \u001b[0m| 271/300 [01:23<00:08,  3.25it/s]\u001b[0m"
     ]
    },
    {
     "name": "stdout",
     "output_type": "stream",
     "text": [
      "Validation F1 in epoch270 : 0.8610\n",
      "Validation loss in epoch270 : 9525.6455\n"
     ]
    },
    {
     "name": "stderr",
     "output_type": "stream",
     "text": [
      " 94%|\u001b[32m██████████████████████████████████████████████████████████████████████████▉     \u001b[0m| 281/300 [01:26<00:06,  3.05it/s]\u001b[0m"
     ]
    },
    {
     "name": "stdout",
     "output_type": "stream",
     "text": [
      "Validation F1 in epoch280 : 0.8608\n",
      "Validation loss in epoch280 : 9597.0391\n"
     ]
    },
    {
     "name": "stderr",
     "output_type": "stream",
     "text": [
      " 97%|\u001b[32m█████████████████████████████████████████████████████████████████████████████▌  \u001b[0m| 291/300 [01:29<00:02,  3.23it/s]\u001b[0m"
     ]
    },
    {
     "name": "stdout",
     "output_type": "stream",
     "text": [
      "Validation F1 in epoch290 : 0.8609\n",
      "Validation loss in epoch290 : 9662.8818\n"
     ]
    },
    {
     "name": "stderr",
     "output_type": "stream",
     "text": [
      "100%|\u001b[32m████████████████████████████████████████████████████████████████████████████████\u001b[0m| 300/300 [01:32<00:00,  3.25it/s]\u001b[0m\n",
      "  0%|\u001b[32m▎                                                                                 \u001b[0m| 1/300 [00:00<02:01,  2.46it/s]\u001b[0m"
     ]
    },
    {
     "name": "stdout",
     "output_type": "stream",
     "text": [
      "Validation F1 in epoch0 : 0.1948\n",
      "Validation loss in epoch0 : 62050.1797\n"
     ]
    },
    {
     "name": "stderr",
     "output_type": "stream",
     "text": [
      "  4%|\u001b[32m██▉                                                                              \u001b[0m| 11/300 [00:03<01:28,  3.25it/s]\u001b[0m"
     ]
    },
    {
     "name": "stdout",
     "output_type": "stream",
     "text": [
      "Validation F1 in epoch10 : 0.1925\n",
      "Validation loss in epoch10 : 62037.9922\n"
     ]
    },
    {
     "name": "stderr",
     "output_type": "stream",
     "text": [
      "  7%|\u001b[32m█████▋                                                                           \u001b[0m| 21/300 [00:06<01:35,  2.93it/s]\u001b[0m"
     ]
    },
    {
     "name": "stdout",
     "output_type": "stream",
     "text": [
      "Validation F1 in epoch20 : 0.5179\n",
      "Validation loss in epoch20 : 23711.9766\n"
     ]
    },
    {
     "name": "stderr",
     "output_type": "stream",
     "text": [
      " 10%|\u001b[32m████████▎                                                                        \u001b[0m| 31/300 [00:09<01:23,  3.21it/s]\u001b[0m"
     ]
    },
    {
     "name": "stdout",
     "output_type": "stream",
     "text": [
      "Validation F1 in epoch30 : 0.6429\n",
      "Validation loss in epoch30 : 16490.4414\n"
     ]
    },
    {
     "name": "stderr",
     "output_type": "stream",
     "text": [
      " 14%|\u001b[32m███████████                                                                      \u001b[0m| 41/300 [00:12<01:19,  3.25it/s]\u001b[0m"
     ]
    },
    {
     "name": "stdout",
     "output_type": "stream",
     "text": [
      "Validation F1 in epoch40 : 0.6927\n",
      "Validation loss in epoch40 : 11454.8652\n"
     ]
    },
    {
     "name": "stderr",
     "output_type": "stream",
     "text": [
      " 17%|\u001b[32m█████████████▊                                                                   \u001b[0m| 51/300 [00:16<01:21,  3.06it/s]\u001b[0m"
     ]
    },
    {
     "name": "stdout",
     "output_type": "stream",
     "text": [
      "Validation F1 in epoch50 : 0.7752\n",
      "Validation loss in epoch50 : 9145.8984\n"
     ]
    },
    {
     "name": "stderr",
     "output_type": "stream",
     "text": [
      " 20%|\u001b[32m████████████████▍                                                                \u001b[0m| 61/300 [00:19<01:16,  3.12it/s]\u001b[0m"
     ]
    },
    {
     "name": "stdout",
     "output_type": "stream",
     "text": [
      "Validation F1 in epoch60 : 0.8021\n",
      "Validation loss in epoch60 : 8138.5776\n"
     ]
    },
    {
     "name": "stderr",
     "output_type": "stream",
     "text": [
      " 24%|\u001b[32m███████████████████▏                                                             \u001b[0m| 71/300 [00:22<01:12,  3.16it/s]\u001b[0m"
     ]
    },
    {
     "name": "stdout",
     "output_type": "stream",
     "text": [
      "Validation F1 in epoch70 : 0.8208\n",
      "Validation loss in epoch70 : 7609.6260\n"
     ]
    },
    {
     "name": "stderr",
     "output_type": "stream",
     "text": [
      " 27%|\u001b[32m█████████████████████▊                                                           \u001b[0m| 81/300 [00:25<01:19,  2.76it/s]\u001b[0m"
     ]
    },
    {
     "name": "stdout",
     "output_type": "stream",
     "text": [
      "Validation F1 in epoch80 : 0.8274\n",
      "Validation loss in epoch80 : 7328.0488\n"
     ]
    },
    {
     "name": "stderr",
     "output_type": "stream",
     "text": [
      " 30%|\u001b[32m████████████████████████▌                                                        \u001b[0m| 91/300 [00:28<01:04,  3.23it/s]\u001b[0m"
     ]
    },
    {
     "name": "stdout",
     "output_type": "stream",
     "text": [
      "Validation F1 in epoch90 : 0.8343\n",
      "Validation loss in epoch90 : 7075.3271\n"
     ]
    },
    {
     "name": "stderr",
     "output_type": "stream",
     "text": [
      " 34%|\u001b[32m██████████████████████████▉                                                     \u001b[0m| 101/300 [00:31<01:00,  3.31it/s]\u001b[0m"
     ]
    },
    {
     "name": "stdout",
     "output_type": "stream",
     "text": [
      "Validation F1 in epoch100 : 0.8376\n",
      "Validation loss in epoch100 : 6994.2612\n"
     ]
    },
    {
     "name": "stderr",
     "output_type": "stream",
     "text": [
      " 37%|\u001b[32m█████████████████████████████▌                                                  \u001b[0m| 111/300 [00:34<00:58,  3.22it/s]\u001b[0m"
     ]
    },
    {
     "name": "stdout",
     "output_type": "stream",
     "text": [
      "Validation F1 in epoch110 : 0.8399\n",
      "Validation loss in epoch110 : 6909.9419\n"
     ]
    },
    {
     "name": "stderr",
     "output_type": "stream",
     "text": [
      " 40%|\u001b[32m████████████████████████████████▎                                               \u001b[0m| 121/300 [00:38<00:55,  3.25it/s]\u001b[0m"
     ]
    },
    {
     "name": "stdout",
     "output_type": "stream",
     "text": [
      "Validation F1 in epoch120 : 0.8430\n",
      "Validation loss in epoch120 : 6802.5825\n"
     ]
    },
    {
     "name": "stderr",
     "output_type": "stream",
     "text": [
      " 44%|\u001b[32m██████████████████████████████████▉                                             \u001b[0m| 131/300 [00:41<00:53,  3.16it/s]\u001b[0m"
     ]
    },
    {
     "name": "stdout",
     "output_type": "stream",
     "text": [
      "Validation F1 in epoch130 : 0.8463\n",
      "Validation loss in epoch130 : 6766.9116\n"
     ]
    },
    {
     "name": "stderr",
     "output_type": "stream",
     "text": [
      " 47%|\u001b[32m█████████████████████████████████████▌                                          \u001b[0m| 141/300 [00:44<00:51,  3.10it/s]\u001b[0m"
     ]
    },
    {
     "name": "stdout",
     "output_type": "stream",
     "text": [
      "Validation F1 in epoch140 : 0.8435\n",
      "Validation loss in epoch140 : 6811.2061\n"
     ]
    },
    {
     "name": "stderr",
     "output_type": "stream",
     "text": [
      " 50%|\u001b[32m████████████████████████████████████████▎                                       \u001b[0m| 151/300 [00:47<00:53,  2.77it/s]\u001b[0m"
     ]
    },
    {
     "name": "stdout",
     "output_type": "stream",
     "text": [
      "Validation F1 in epoch150 : 0.8493\n",
      "Validation loss in epoch150 : 6679.8867\n"
     ]
    },
    {
     "name": "stderr",
     "output_type": "stream",
     "text": [
      " 54%|\u001b[32m██████████████████████████████████████████▉                                     \u001b[0m| 161/300 [00:50<00:41,  3.35it/s]\u001b[0m"
     ]
    },
    {
     "name": "stdout",
     "output_type": "stream",
     "text": [
      "Validation F1 in epoch160 : 0.8457\n",
      "Validation loss in epoch160 : 6715.9160\n"
     ]
    },
    {
     "name": "stderr",
     "output_type": "stream",
     "text": [
      " 57%|\u001b[32m█████████████████████████████████████████████▌                                  \u001b[0m| 171/300 [00:53<00:40,  3.20it/s]\u001b[0m"
     ]
    },
    {
     "name": "stdout",
     "output_type": "stream",
     "text": [
      "Validation F1 in epoch170 : 0.8482\n",
      "Validation loss in epoch170 : 6616.6084\n"
     ]
    },
    {
     "name": "stderr",
     "output_type": "stream",
     "text": [
      " 60%|\u001b[32m████████████████████████████████████████████████▎                               \u001b[0m| 181/300 [00:57<00:35,  3.32it/s]\u001b[0m"
     ]
    },
    {
     "name": "stdout",
     "output_type": "stream",
     "text": [
      "Validation F1 in epoch180 : 0.8485\n",
      "Validation loss in epoch180 : 6680.3960\n"
     ]
    },
    {
     "name": "stderr",
     "output_type": "stream",
     "text": [
      " 64%|\u001b[32m██████████████████████████████████████████████████▉                             \u001b[0m| 191/300 [01:00<00:34,  3.14it/s]\u001b[0m"
     ]
    },
    {
     "name": "stdout",
     "output_type": "stream",
     "text": [
      "Validation F1 in epoch190 : 0.8474\n",
      "Validation loss in epoch190 : 6792.7490\n"
     ]
    },
    {
     "name": "stderr",
     "output_type": "stream",
     "text": [
      " 67%|\u001b[32m█████████████████████████████████████████████████████▌                          \u001b[0m| 201/300 [01:03<00:30,  3.21it/s]\u001b[0m"
     ]
    },
    {
     "name": "stdout",
     "output_type": "stream",
     "text": [
      "Validation F1 in epoch200 : 0.8456\n",
      "Validation loss in epoch200 : 6821.7524\n"
     ]
    },
    {
     "name": "stderr",
     "output_type": "stream",
     "text": [
      " 70%|\u001b[32m████████████████████████████████████████████████████████▎                       \u001b[0m| 211/300 [01:06<00:28,  3.09it/s]\u001b[0m"
     ]
    },
    {
     "name": "stdout",
     "output_type": "stream",
     "text": [
      "Validation F1 in epoch210 : 0.8487\n",
      "Validation loss in epoch210 : 6870.5488\n"
     ]
    },
    {
     "name": "stderr",
     "output_type": "stream",
     "text": [
      " 74%|\u001b[32m██████████████████████████████████████████████████████████▉                     \u001b[0m| 221/300 [01:09<00:25,  3.13it/s]\u001b[0m"
     ]
    },
    {
     "name": "stdout",
     "output_type": "stream",
     "text": [
      "Validation F1 in epoch220 : 0.8446\n",
      "Validation loss in epoch220 : 6991.7822\n"
     ]
    },
    {
     "name": "stderr",
     "output_type": "stream",
     "text": [
      " 77%|\u001b[32m█████████████████████████████████████████████████████████████▌                  \u001b[0m| 231/300 [01:12<00:21,  3.27it/s]\u001b[0m"
     ]
    },
    {
     "name": "stdout",
     "output_type": "stream",
     "text": [
      "Validation F1 in epoch230 : 0.8448\n",
      "Validation loss in epoch230 : 7085.3901\n"
     ]
    },
    {
     "name": "stderr",
     "output_type": "stream",
     "text": [
      " 80%|\u001b[32m████████████████████████████████████████████████████████████████▎               \u001b[0m| 241/300 [01:16<00:18,  3.16it/s]\u001b[0m"
     ]
    },
    {
     "name": "stdout",
     "output_type": "stream",
     "text": [
      "Validation F1 in epoch240 : 0.8449\n",
      "Validation loss in epoch240 : 7197.8818\n"
     ]
    },
    {
     "name": "stderr",
     "output_type": "stream",
     "text": [
      " 84%|\u001b[32m██████████████████████████████████████████████████████████████████▉             \u001b[0m| 251/300 [01:19<00:14,  3.29it/s]\u001b[0m"
     ]
    },
    {
     "name": "stdout",
     "output_type": "stream",
     "text": [
      "Validation F1 in epoch250 : 0.8439\n",
      "Validation loss in epoch250 : 7386.1089\n"
     ]
    },
    {
     "name": "stderr",
     "output_type": "stream",
     "text": [
      " 87%|\u001b[32m█████████████████████████████████████████████████████████████████████▌          \u001b[0m| 261/300 [01:22<00:12,  3.08it/s]\u001b[0m"
     ]
    },
    {
     "name": "stdout",
     "output_type": "stream",
     "text": [
      "Validation F1 in epoch260 : 0.8428\n",
      "Validation loss in epoch260 : 7494.7158\n"
     ]
    },
    {
     "name": "stderr",
     "output_type": "stream",
     "text": [
      " 90%|\u001b[32m████████████████████████████████████████████████████████████████████████▎       \u001b[0m| 271/300 [01:25<00:09,  3.17it/s]\u001b[0m"
     ]
    },
    {
     "name": "stdout",
     "output_type": "stream",
     "text": [
      "Validation F1 in epoch270 : 0.8421\n",
      "Validation loss in epoch270 : 7633.8115\n"
     ]
    },
    {
     "name": "stderr",
     "output_type": "stream",
     "text": [
      " 94%|\u001b[32m██████████████████████████████████████████████████████████████████████████▉     \u001b[0m| 281/300 [01:29<00:06,  3.11it/s]\u001b[0m"
     ]
    },
    {
     "name": "stdout",
     "output_type": "stream",
     "text": [
      "Validation F1 in epoch280 : 0.8407\n",
      "Validation loss in epoch280 : 7856.1533\n"
     ]
    },
    {
     "name": "stderr",
     "output_type": "stream",
     "text": [
      " 97%|\u001b[32m█████████████████████████████████████████████████████████████████████████████▌  \u001b[0m| 291/300 [01:32<00:02,  3.13it/s]\u001b[0m"
     ]
    },
    {
     "name": "stdout",
     "output_type": "stream",
     "text": [
      "Validation F1 in epoch290 : 0.8389\n",
      "Validation loss in epoch290 : 8089.2812\n"
     ]
    },
    {
     "name": "stderr",
     "output_type": "stream",
     "text": [
      "100%|\u001b[32m████████████████████████████████████████████████████████████████████████████████\u001b[0m| 300/300 [01:35<00:00,  3.16it/s]\u001b[0m\n",
      "  0%|\u001b[32m▎                                                                                 \u001b[0m| 1/300 [00:00<01:24,  3.55it/s]\u001b[0m"
     ]
    },
    {
     "name": "stdout",
     "output_type": "stream",
     "text": [
      "Validation F1 in epoch0 : 0.1727\n",
      "Validation loss in epoch0 : 62262.7266\n"
     ]
    },
    {
     "name": "stderr",
     "output_type": "stream",
     "text": [
      "  4%|\u001b[32m██▉                                                                              \u001b[0m| 11/300 [00:03<01:26,  3.32it/s]\u001b[0m"
     ]
    },
    {
     "name": "stdout",
     "output_type": "stream",
     "text": [
      "Validation F1 in epoch10 : 0.1701\n",
      "Validation loss in epoch10 : 62268.7734\n"
     ]
    },
    {
     "name": "stderr",
     "output_type": "stream",
     "text": [
      "  7%|\u001b[32m█████▋                                                                           \u001b[0m| 21/300 [00:06<01:25,  3.26it/s]\u001b[0m"
     ]
    },
    {
     "name": "stdout",
     "output_type": "stream",
     "text": [
      "Validation F1 in epoch20 : 0.5805\n",
      "Validation loss in epoch20 : 22970.6152\n"
     ]
    },
    {
     "name": "stderr",
     "output_type": "stream",
     "text": [
      " 10%|\u001b[32m████████▎                                                                        \u001b[0m| 31/300 [00:09<01:19,  3.38it/s]\u001b[0m"
     ]
    },
    {
     "name": "stdout",
     "output_type": "stream",
     "text": [
      "Validation F1 in epoch30 : 0.5979\n",
      "Validation loss in epoch30 : 17531.5645\n"
     ]
    },
    {
     "name": "stderr",
     "output_type": "stream",
     "text": [
      " 14%|\u001b[32m███████████                                                                      \u001b[0m| 41/300 [00:12<01:21,  3.17it/s]\u001b[0m"
     ]
    },
    {
     "name": "stdout",
     "output_type": "stream",
     "text": [
      "Validation F1 in epoch40 : 0.6585\n",
      "Validation loss in epoch40 : 12784.7305\n"
     ]
    },
    {
     "name": "stderr",
     "output_type": "stream",
     "text": [
      " 17%|\u001b[32m█████████████▊                                                                   \u001b[0m| 51/300 [00:15<01:18,  3.16it/s]\u001b[0m"
     ]
    },
    {
     "name": "stdout",
     "output_type": "stream",
     "text": [
      "Validation F1 in epoch50 : 0.7597\n",
      "Validation loss in epoch50 : 10263.7002\n"
     ]
    },
    {
     "name": "stderr",
     "output_type": "stream",
     "text": [
      " 20%|\u001b[32m████████████████▍                                                                \u001b[0m| 61/300 [00:19<01:23,  2.86it/s]\u001b[0m"
     ]
    },
    {
     "name": "stdout",
     "output_type": "stream",
     "text": [
      "Validation F1 in epoch60 : 0.7903\n",
      "Validation loss in epoch60 : 9305.8779\n"
     ]
    },
    {
     "name": "stderr",
     "output_type": "stream",
     "text": [
      " 24%|\u001b[32m███████████████████▏                                                             \u001b[0m| 71/300 [00:22<01:07,  3.37it/s]\u001b[0m"
     ]
    },
    {
     "name": "stdout",
     "output_type": "stream",
     "text": [
      "Validation F1 in epoch70 : 0.8050\n",
      "Validation loss in epoch70 : 8856.1953\n"
     ]
    },
    {
     "name": "stderr",
     "output_type": "stream",
     "text": [
      " 27%|\u001b[32m█████████████████████▊                                                           \u001b[0m| 81/300 [00:25<01:06,  3.31it/s]\u001b[0m"
     ]
    },
    {
     "name": "stdout",
     "output_type": "stream",
     "text": [
      "Validation F1 in epoch80 : 0.8104\n",
      "Validation loss in epoch80 : 8584.6680\n"
     ]
    },
    {
     "name": "stderr",
     "output_type": "stream",
     "text": [
      " 30%|\u001b[32m████████████████████████▌                                                        \u001b[0m| 91/300 [00:28<01:13,  2.86it/s]\u001b[0m"
     ]
    },
    {
     "name": "stdout",
     "output_type": "stream",
     "text": [
      "Validation F1 in epoch90 : 0.8146\n",
      "Validation loss in epoch90 : 8390.0283\n"
     ]
    },
    {
     "name": "stderr",
     "output_type": "stream",
     "text": [
      " 34%|\u001b[32m██████████████████████████▉                                                     \u001b[0m| 101/300 [00:31<01:01,  3.22it/s]\u001b[0m"
     ]
    },
    {
     "name": "stdout",
     "output_type": "stream",
     "text": [
      "Validation F1 in epoch100 : 0.8205\n",
      "Validation loss in epoch100 : 8295.4541\n"
     ]
    },
    {
     "name": "stderr",
     "output_type": "stream",
     "text": [
      " 37%|\u001b[32m█████████████████████████████▌                                                  \u001b[0m| 111/300 [00:34<00:58,  3.26it/s]\u001b[0m"
     ]
    },
    {
     "name": "stdout",
     "output_type": "stream",
     "text": [
      "Validation F1 in epoch110 : 0.8197\n",
      "Validation loss in epoch110 : 8258.9453\n"
     ]
    },
    {
     "name": "stderr",
     "output_type": "stream",
     "text": [
      " 40%|\u001b[32m████████████████████████████████▎                                               \u001b[0m| 121/300 [00:37<00:57,  3.13it/s]\u001b[0m"
     ]
    },
    {
     "name": "stdout",
     "output_type": "stream",
     "text": [
      "Validation F1 in epoch120 : 0.8224\n",
      "Validation loss in epoch120 : 8159.1562\n"
     ]
    },
    {
     "name": "stderr",
     "output_type": "stream",
     "text": [
      " 44%|\u001b[32m██████████████████████████████████▉                                             \u001b[0m| 131/300 [00:41<00:53,  3.15it/s]\u001b[0m"
     ]
    },
    {
     "name": "stdout",
     "output_type": "stream",
     "text": [
      "Validation F1 in epoch130 : 0.8209\n",
      "Validation loss in epoch130 : 8228.5527\n"
     ]
    },
    {
     "name": "stderr",
     "output_type": "stream",
     "text": [
      " 47%|\u001b[32m█████████████████████████████████████▌                                          \u001b[0m| 141/300 [00:44<00:48,  3.30it/s]\u001b[0m"
     ]
    },
    {
     "name": "stdout",
     "output_type": "stream",
     "text": [
      "Validation F1 in epoch140 : 0.8234\n",
      "Validation loss in epoch140 : 8147.2686\n"
     ]
    },
    {
     "name": "stderr",
     "output_type": "stream",
     "text": [
      " 50%|\u001b[32m████████████████████████████████████████▎                                       \u001b[0m| 151/300 [00:47<00:49,  2.99it/s]\u001b[0m"
     ]
    },
    {
     "name": "stdout",
     "output_type": "stream",
     "text": [
      "Validation F1 in epoch150 : 0.8225\n",
      "Validation loss in epoch150 : 8098.5859\n"
     ]
    },
    {
     "name": "stderr",
     "output_type": "stream",
     "text": [
      " 54%|\u001b[32m██████████████████████████████████████████▉                                     \u001b[0m| 161/300 [00:50<00:42,  3.24it/s]\u001b[0m"
     ]
    },
    {
     "name": "stdout",
     "output_type": "stream",
     "text": [
      "Validation F1 in epoch160 : 0.8206\n",
      "Validation loss in epoch160 : 8087.8135\n"
     ]
    },
    {
     "name": "stderr",
     "output_type": "stream",
     "text": [
      " 57%|\u001b[32m█████████████████████████████████████████████▌                                  \u001b[0m| 171/300 [00:53<00:39,  3.25it/s]\u001b[0m"
     ]
    },
    {
     "name": "stdout",
     "output_type": "stream",
     "text": [
      "Validation F1 in epoch170 : 0.8217\n",
      "Validation loss in epoch170 : 8049.8213\n"
     ]
    },
    {
     "name": "stderr",
     "output_type": "stream",
     "text": [
      " 60%|\u001b[32m████████████████████████████████████████████████▎                               \u001b[0m| 181/300 [00:56<00:37,  3.13it/s]\u001b[0m"
     ]
    },
    {
     "name": "stdout",
     "output_type": "stream",
     "text": [
      "Validation F1 in epoch180 : 0.8233\n",
      "Validation loss in epoch180 : 8093.1328\n"
     ]
    },
    {
     "name": "stderr",
     "output_type": "stream",
     "text": [
      " 64%|\u001b[32m██████████████████████████████████████████████████▉                             \u001b[0m| 191/300 [00:59<00:34,  3.17it/s]\u001b[0m"
     ]
    },
    {
     "name": "stdout",
     "output_type": "stream",
     "text": [
      "Validation F1 in epoch190 : 0.8248\n",
      "Validation loss in epoch190 : 8081.6895\n"
     ]
    },
    {
     "name": "stderr",
     "output_type": "stream",
     "text": [
      " 67%|\u001b[32m█████████████████████████████████████████████████████▌                          \u001b[0m| 201/300 [01:03<00:32,  3.02it/s]\u001b[0m"
     ]
    },
    {
     "name": "stdout",
     "output_type": "stream",
     "text": [
      "Validation F1 in epoch200 : 0.8240\n",
      "Validation loss in epoch200 : 8129.9561\n"
     ]
    },
    {
     "name": "stderr",
     "output_type": "stream",
     "text": [
      " 70%|\u001b[32m████████████████████████████████████████████████████████▎                       \u001b[0m| 211/300 [01:06<00:27,  3.26it/s]\u001b[0m"
     ]
    },
    {
     "name": "stdout",
     "output_type": "stream",
     "text": [
      "Validation F1 in epoch210 : 0.8243\n",
      "Validation loss in epoch210 : 8102.6685\n"
     ]
    },
    {
     "name": "stderr",
     "output_type": "stream",
     "text": [
      " 74%|\u001b[32m██████████████████████████████████████████████████████████▉                     \u001b[0m| 221/300 [01:09<00:23,  3.32it/s]\u001b[0m"
     ]
    },
    {
     "name": "stdout",
     "output_type": "stream",
     "text": [
      "Validation F1 in epoch220 : 0.8249\n",
      "Validation loss in epoch220 : 8159.0757\n"
     ]
    },
    {
     "name": "stderr",
     "output_type": "stream",
     "text": [
      " 77%|\u001b[32m█████████████████████████████████████████████████████████████▌                  \u001b[0m| 231/300 [01:12<00:21,  3.24it/s]\u001b[0m"
     ]
    },
    {
     "name": "stdout",
     "output_type": "stream",
     "text": [
      "Validation F1 in epoch230 : 0.8245\n",
      "Validation loss in epoch230 : 8126.0850\n"
     ]
    },
    {
     "name": "stderr",
     "output_type": "stream",
     "text": [
      " 80%|\u001b[32m████████████████████████████████████████████████████████████████▎               \u001b[0m| 241/300 [01:15<00:17,  3.35it/s]\u001b[0m"
     ]
    },
    {
     "name": "stdout",
     "output_type": "stream",
     "text": [
      "Validation F1 in epoch240 : 0.8222\n",
      "Validation loss in epoch240 : 8203.1279\n"
     ]
    },
    {
     "name": "stderr",
     "output_type": "stream",
     "text": [
      " 84%|\u001b[32m██████████████████████████████████████████████████████████████████▉             \u001b[0m| 251/300 [01:18<00:14,  3.27it/s]\u001b[0m"
     ]
    },
    {
     "name": "stdout",
     "output_type": "stream",
     "text": [
      "Validation F1 in epoch250 : 0.8190\n",
      "Validation loss in epoch250 : 8320.3809\n"
     ]
    },
    {
     "name": "stderr",
     "output_type": "stream",
     "text": [
      " 87%|\u001b[32m█████████████████████████████████████████████████████████████████████▌          \u001b[0m| 261/300 [01:21<00:12,  3.13it/s]\u001b[0m"
     ]
    },
    {
     "name": "stdout",
     "output_type": "stream",
     "text": [
      "Validation F1 in epoch260 : 0.8203\n",
      "Validation loss in epoch260 : 8394.3975\n"
     ]
    },
    {
     "name": "stderr",
     "output_type": "stream",
     "text": [
      " 90%|\u001b[32m████████████████████████████████████████████████████████████████████████▎       \u001b[0m| 271/300 [01:24<00:08,  3.24it/s]\u001b[0m"
     ]
    },
    {
     "name": "stdout",
     "output_type": "stream",
     "text": [
      "Validation F1 in epoch270 : 0.8181\n",
      "Validation loss in epoch270 : 8414.2080\n"
     ]
    },
    {
     "name": "stderr",
     "output_type": "stream",
     "text": [
      " 94%|\u001b[32m██████████████████████████████████████████████████████████████████████████▉     \u001b[0m| 281/300 [01:27<00:05,  3.28it/s]\u001b[0m"
     ]
    },
    {
     "name": "stdout",
     "output_type": "stream",
     "text": [
      "Validation F1 in epoch280 : 0.8170\n",
      "Validation loss in epoch280 : 8501.8486\n"
     ]
    },
    {
     "name": "stderr",
     "output_type": "stream",
     "text": [
      " 97%|\u001b[32m█████████████████████████████████████████████████████████████████████████████▌  \u001b[0m| 291/300 [01:30<00:02,  3.26it/s]\u001b[0m"
     ]
    },
    {
     "name": "stdout",
     "output_type": "stream",
     "text": [
      "Validation F1 in epoch290 : 0.8166\n",
      "Validation loss in epoch290 : 8694.2812\n"
     ]
    },
    {
     "name": "stderr",
     "output_type": "stream",
     "text": [
      "100%|\u001b[32m████████████████████████████████████████████████████████████████████████████████\u001b[0m| 300/300 [01:33<00:00,  3.19it/s]\u001b[0m\n",
      "  0%|\u001b[32m▎                                                                                 \u001b[0m| 1/300 [00:00<01:15,  3.95it/s]\u001b[0m"
     ]
    },
    {
     "name": "stdout",
     "output_type": "stream",
     "text": [
      "Validation F1 in epoch0 : 0.0736\n",
      "Validation loss in epoch0 : 62219.4531\n"
     ]
    },
    {
     "name": "stderr",
     "output_type": "stream",
     "text": [
      "  4%|\u001b[32m██▉                                                                              \u001b[0m| 11/300 [00:03<01:29,  3.22it/s]\u001b[0m"
     ]
    },
    {
     "name": "stdout",
     "output_type": "stream",
     "text": [
      "Validation F1 in epoch10 : 0.0736\n",
      "Validation loss in epoch10 : 62219.4531\n"
     ]
    },
    {
     "name": "stderr",
     "output_type": "stream",
     "text": [
      "  7%|\u001b[32m█████▋                                                                           \u001b[0m| 21/300 [00:06<01:29,  3.11it/s]\u001b[0m"
     ]
    },
    {
     "name": "stdout",
     "output_type": "stream",
     "text": [
      "Validation F1 in epoch20 : 0.5955\n",
      "Validation loss in epoch20 : 21254.6660\n"
     ]
    },
    {
     "name": "stderr",
     "output_type": "stream",
     "text": [
      " 10%|\u001b[32m████████▎                                                                        \u001b[0m| 31/300 [00:09<01:27,  3.07it/s]\u001b[0m"
     ]
    },
    {
     "name": "stdout",
     "output_type": "stream",
     "text": [
      "Validation F1 in epoch30 : 0.6528\n",
      "Validation loss in epoch30 : 16334.5938\n"
     ]
    },
    {
     "name": "stderr",
     "output_type": "stream",
     "text": [
      " 14%|\u001b[32m███████████                                                                      \u001b[0m| 41/300 [00:12<01:22,  3.15it/s]\u001b[0m"
     ]
    },
    {
     "name": "stdout",
     "output_type": "stream",
     "text": [
      "Validation F1 in epoch40 : 0.7501\n",
      "Validation loss in epoch40 : 11456.4473\n"
     ]
    },
    {
     "name": "stderr",
     "output_type": "stream",
     "text": [
      " 17%|\u001b[32m█████████████▊                                                                   \u001b[0m| 51/300 [00:15<01:14,  3.33it/s]\u001b[0m"
     ]
    },
    {
     "name": "stdout",
     "output_type": "stream",
     "text": [
      "Validation F1 in epoch50 : 0.8110\n",
      "Validation loss in epoch50 : 9257.3730\n"
     ]
    },
    {
     "name": "stderr",
     "output_type": "stream",
     "text": [
      " 20%|\u001b[32m████████████████▍                                                                \u001b[0m| 61/300 [00:18<01:13,  3.27it/s]\u001b[0m"
     ]
    },
    {
     "name": "stdout",
     "output_type": "stream",
     "text": [
      "Validation F1 in epoch60 : 0.8327\n",
      "Validation loss in epoch60 : 7937.9141\n"
     ]
    },
    {
     "name": "stderr",
     "output_type": "stream",
     "text": [
      " 24%|\u001b[32m███████████████████▏                                                             \u001b[0m| 71/300 [00:21<01:10,  3.26it/s]\u001b[0m"
     ]
    },
    {
     "name": "stdout",
     "output_type": "stream",
     "text": [
      "Validation F1 in epoch70 : 0.8461\n",
      "Validation loss in epoch70 : 7399.3120\n"
     ]
    },
    {
     "name": "stderr",
     "output_type": "stream",
     "text": [
      " 27%|\u001b[32m█████████████████████▊                                                           \u001b[0m| 81/300 [00:25<01:07,  3.23it/s]\u001b[0m"
     ]
    },
    {
     "name": "stdout",
     "output_type": "stream",
     "text": [
      "Validation F1 in epoch80 : 0.8522\n",
      "Validation loss in epoch80 : 7217.2471\n"
     ]
    },
    {
     "name": "stderr",
     "output_type": "stream",
     "text": [
      " 30%|\u001b[32m████████████████████████▌                                                        \u001b[0m| 91/300 [00:28<01:04,  3.26it/s]\u001b[0m"
     ]
    },
    {
     "name": "stdout",
     "output_type": "stream",
     "text": [
      "Validation F1 in epoch90 : 0.8566\n",
      "Validation loss in epoch90 : 7245.0181\n"
     ]
    },
    {
     "name": "stderr",
     "output_type": "stream",
     "text": [
      " 34%|\u001b[32m██████████████████████████▉                                                     \u001b[0m| 101/300 [00:31<00:57,  3.45it/s]\u001b[0m"
     ]
    },
    {
     "name": "stdout",
     "output_type": "stream",
     "text": [
      "Validation F1 in epoch100 : 0.8588\n",
      "Validation loss in epoch100 : 7310.2368\n"
     ]
    },
    {
     "name": "stderr",
     "output_type": "stream",
     "text": [
      " 37%|\u001b[32m█████████████████████████████▌                                                  \u001b[0m| 111/300 [00:34<00:58,  3.23it/s]\u001b[0m"
     ]
    },
    {
     "name": "stdout",
     "output_type": "stream",
     "text": [
      "Validation F1 in epoch110 : 0.8608\n",
      "Validation loss in epoch110 : 7442.9141\n"
     ]
    },
    {
     "name": "stderr",
     "output_type": "stream",
     "text": [
      " 40%|\u001b[32m████████████████████████████████▎                                               \u001b[0m| 121/300 [00:37<00:53,  3.37it/s]\u001b[0m"
     ]
    },
    {
     "name": "stdout",
     "output_type": "stream",
     "text": [
      "Validation F1 in epoch120 : 0.8614\n",
      "Validation loss in epoch120 : 7587.7495\n"
     ]
    },
    {
     "name": "stderr",
     "output_type": "stream",
     "text": [
      " 44%|\u001b[32m██████████████████████████████████▉                                             \u001b[0m| 131/300 [00:40<00:50,  3.32it/s]\u001b[0m"
     ]
    },
    {
     "name": "stdout",
     "output_type": "stream",
     "text": [
      "Validation F1 in epoch130 : 0.8628\n",
      "Validation loss in epoch130 : 7759.2852\n"
     ]
    },
    {
     "name": "stderr",
     "output_type": "stream",
     "text": [
      " 47%|\u001b[32m█████████████████████████████████████▌                                          \u001b[0m| 141/300 [00:43<00:51,  3.10it/s]\u001b[0m"
     ]
    },
    {
     "name": "stdout",
     "output_type": "stream",
     "text": [
      "Validation F1 in epoch140 : 0.8624\n",
      "Validation loss in epoch140 : 7933.7109\n"
     ]
    },
    {
     "name": "stderr",
     "output_type": "stream",
     "text": [
      " 50%|\u001b[32m████████████████████████████████████████▎                                       \u001b[0m| 151/300 [00:46<00:47,  3.11it/s]\u001b[0m"
     ]
    },
    {
     "name": "stdout",
     "output_type": "stream",
     "text": [
      "Validation F1 in epoch150 : 0.8630\n",
      "Validation loss in epoch150 : 8105.8257\n"
     ]
    },
    {
     "name": "stderr",
     "output_type": "stream",
     "text": [
      " 54%|\u001b[32m██████████████████████████████████████████▉                                     \u001b[0m| 161/300 [00:49<00:42,  3.26it/s]\u001b[0m"
     ]
    },
    {
     "name": "stdout",
     "output_type": "stream",
     "text": [
      "Validation F1 in epoch160 : 0.8632\n",
      "Validation loss in epoch160 : 8269.4014\n"
     ]
    },
    {
     "name": "stderr",
     "output_type": "stream",
     "text": [
      " 57%|\u001b[32m█████████████████████████████████████████████▌                                  \u001b[0m| 171/300 [00:52<00:41,  3.12it/s]\u001b[0m"
     ]
    },
    {
     "name": "stdout",
     "output_type": "stream",
     "text": [
      "Validation F1 in epoch170 : 0.8626\n",
      "Validation loss in epoch170 : 8425.6641\n"
     ]
    },
    {
     "name": "stderr",
     "output_type": "stream",
     "text": [
      " 60%|\u001b[32m████████████████████████████████████████████████▎                               \u001b[0m| 181/300 [00:55<00:38,  3.09it/s]\u001b[0m"
     ]
    },
    {
     "name": "stdout",
     "output_type": "stream",
     "text": [
      "Validation F1 in epoch180 : 0.8625\n",
      "Validation loss in epoch180 : 8571.4092\n"
     ]
    },
    {
     "name": "stderr",
     "output_type": "stream",
     "text": [
      " 64%|\u001b[32m██████████████████████████████████████████████████▉                             \u001b[0m| 191/300 [00:58<00:32,  3.33it/s]\u001b[0m"
     ]
    },
    {
     "name": "stdout",
     "output_type": "stream",
     "text": [
      "Validation F1 in epoch190 : 0.8620\n",
      "Validation loss in epoch190 : 8708.6953\n"
     ]
    },
    {
     "name": "stderr",
     "output_type": "stream",
     "text": [
      " 67%|\u001b[32m█████████████████████████████████████████████████████▌                          \u001b[0m| 201/300 [01:02<00:31,  3.17it/s]\u001b[0m"
     ]
    },
    {
     "name": "stdout",
     "output_type": "stream",
     "text": [
      "Validation F1 in epoch200 : 0.8617\n",
      "Validation loss in epoch200 : 8836.8301\n"
     ]
    },
    {
     "name": "stderr",
     "output_type": "stream",
     "text": [
      " 70%|\u001b[32m████████████████████████████████████████████████████████▎                       \u001b[0m| 211/300 [01:05<00:27,  3.29it/s]\u001b[0m"
     ]
    },
    {
     "name": "stdout",
     "output_type": "stream",
     "text": [
      "Validation F1 in epoch210 : 0.8616\n",
      "Validation loss in epoch210 : 8958.2402\n"
     ]
    },
    {
     "name": "stderr",
     "output_type": "stream",
     "text": [
      " 74%|\u001b[32m██████████████████████████████████████████████████████████▉                     \u001b[0m| 221/300 [01:08<00:24,  3.22it/s]\u001b[0m"
     ]
    },
    {
     "name": "stdout",
     "output_type": "stream",
     "text": [
      "Validation F1 in epoch220 : 0.8613\n",
      "Validation loss in epoch220 : 9072.2832\n"
     ]
    },
    {
     "name": "stderr",
     "output_type": "stream",
     "text": [
      " 77%|\u001b[32m█████████████████████████████████████████████████████████████▌                  \u001b[0m| 231/300 [01:11<00:21,  3.25it/s]\u001b[0m"
     ]
    },
    {
     "name": "stdout",
     "output_type": "stream",
     "text": [
      "Validation F1 in epoch230 : 0.8615\n",
      "Validation loss in epoch230 : 9177.8281\n"
     ]
    },
    {
     "name": "stderr",
     "output_type": "stream",
     "text": [
      " 80%|\u001b[32m████████████████████████████████████████████████████████████████▎               \u001b[0m| 241/300 [01:14<00:18,  3.12it/s]\u001b[0m"
     ]
    },
    {
     "name": "stdout",
     "output_type": "stream",
     "text": [
      "Validation F1 in epoch240 : 0.8614\n",
      "Validation loss in epoch240 : 9275.9082\n"
     ]
    },
    {
     "name": "stderr",
     "output_type": "stream",
     "text": [
      " 84%|\u001b[32m██████████████████████████████████████████████████████████████████▉             \u001b[0m| 251/300 [01:17<00:15,  3.11it/s]\u001b[0m"
     ]
    },
    {
     "name": "stdout",
     "output_type": "stream",
     "text": [
      "Validation F1 in epoch250 : 0.8611\n",
      "Validation loss in epoch250 : 9365.7891\n"
     ]
    },
    {
     "name": "stderr",
     "output_type": "stream",
     "text": [
      " 87%|\u001b[32m█████████████████████████████████████████████████████████████████████▌          \u001b[0m| 261/300 [01:20<00:12,  3.23it/s]\u001b[0m"
     ]
    },
    {
     "name": "stdout",
     "output_type": "stream",
     "text": [
      "Validation F1 in epoch260 : 0.8611\n",
      "Validation loss in epoch260 : 9449.8203\n"
     ]
    },
    {
     "name": "stderr",
     "output_type": "stream",
     "text": [
      " 90%|\u001b[32m████████████████████████████████████████████████████████████████████████▎       \u001b[0m| 271/300 [01:23<00:09,  3.18it/s]\u001b[0m"
     ]
    },
    {
     "name": "stdout",
     "output_type": "stream",
     "text": [
      "Validation F1 in epoch270 : 0.8610\n",
      "Validation loss in epoch270 : 9525.6455\n"
     ]
    },
    {
     "name": "stderr",
     "output_type": "stream",
     "text": [
      " 94%|\u001b[32m██████████████████████████████████████████████████████████████████████████▉     \u001b[0m| 281/300 [01:27<00:05,  3.24it/s]\u001b[0m"
     ]
    },
    {
     "name": "stdout",
     "output_type": "stream",
     "text": [
      "Validation F1 in epoch280 : 0.8608\n",
      "Validation loss in epoch280 : 9597.0391\n"
     ]
    },
    {
     "name": "stderr",
     "output_type": "stream",
     "text": [
      " 97%|\u001b[32m█████████████████████████████████████████████████████████████████████████████▌  \u001b[0m| 291/300 [01:30<00:02,  3.09it/s]\u001b[0m"
     ]
    },
    {
     "name": "stdout",
     "output_type": "stream",
     "text": [
      "Validation F1 in epoch290 : 0.8609\n",
      "Validation loss in epoch290 : 9662.8818\n"
     ]
    },
    {
     "name": "stderr",
     "output_type": "stream",
     "text": [
      "100%|\u001b[32m████████████████████████████████████████████████████████████████████████████████\u001b[0m| 300/300 [01:33<00:00,  3.22it/s]\u001b[0m\n",
      "  0%|\u001b[32m▎                                                                                 \u001b[0m| 1/300 [00:00<01:47,  2.77it/s]\u001b[0m"
     ]
    },
    {
     "name": "stdout",
     "output_type": "stream",
     "text": [
      "Validation F1 in epoch0 : 0.1516\n",
      "Validation loss in epoch0 : 62490.7422\n"
     ]
    },
    {
     "name": "stderr",
     "output_type": "stream",
     "text": [
      "  4%|\u001b[32m██▉                                                                              \u001b[0m| 11/300 [00:03<01:30,  3.20it/s]\u001b[0m"
     ]
    },
    {
     "name": "stdout",
     "output_type": "stream",
     "text": [
      "Validation F1 in epoch10 : 0.1485\n",
      "Validation loss in epoch10 : 62489.7656\n"
     ]
    },
    {
     "name": "stderr",
     "output_type": "stream",
     "text": [
      "  7%|\u001b[32m█████▋                                                                           \u001b[0m| 21/300 [00:06<01:29,  3.12it/s]\u001b[0m"
     ]
    },
    {
     "name": "stdout",
     "output_type": "stream",
     "text": [
      "Validation F1 in epoch20 : 0.5653\n",
      "Validation loss in epoch20 : 24576.3770\n"
     ]
    },
    {
     "name": "stderr",
     "output_type": "stream",
     "text": [
      " 10%|\u001b[32m████████▎                                                                        \u001b[0m| 31/300 [00:09<01:19,  3.39it/s]\u001b[0m"
     ]
    },
    {
     "name": "stdout",
     "output_type": "stream",
     "text": [
      "Validation F1 in epoch30 : 0.6050\n",
      "Validation loss in epoch30 : 17067.9297\n"
     ]
    },
    {
     "name": "stderr",
     "output_type": "stream",
     "text": [
      " 14%|\u001b[32m███████████                                                                      \u001b[0m| 41/300 [00:12<01:25,  3.03it/s]\u001b[0m"
     ]
    },
    {
     "name": "stdout",
     "output_type": "stream",
     "text": [
      "Validation F1 in epoch40 : 0.6379\n",
      "Validation loss in epoch40 : 13023.2646\n"
     ]
    },
    {
     "name": "stderr",
     "output_type": "stream",
     "text": [
      " 17%|\u001b[32m█████████████▊                                                                   \u001b[0m| 51/300 [00:15<01:13,  3.37it/s]\u001b[0m"
     ]
    },
    {
     "name": "stdout",
     "output_type": "stream",
     "text": [
      "Validation F1 in epoch50 : 0.7353\n",
      "Validation loss in epoch50 : 10247.3467\n"
     ]
    },
    {
     "name": "stderr",
     "output_type": "stream",
     "text": [
      " 20%|\u001b[32m████████████████▍                                                                \u001b[0m| 61/300 [00:19<01:16,  3.13it/s]\u001b[0m"
     ]
    },
    {
     "name": "stdout",
     "output_type": "stream",
     "text": [
      "Validation F1 in epoch60 : 0.7824\n",
      "Validation loss in epoch60 : 8822.3271\n"
     ]
    },
    {
     "name": "stderr",
     "output_type": "stream",
     "text": [
      " 24%|\u001b[32m███████████████████▏                                                             \u001b[0m| 71/300 [00:22<01:11,  3.22it/s]\u001b[0m"
     ]
    },
    {
     "name": "stdout",
     "output_type": "stream",
     "text": [
      "Validation F1 in epoch70 : 0.8107\n",
      "Validation loss in epoch70 : 7989.2432\n"
     ]
    },
    {
     "name": "stderr",
     "output_type": "stream",
     "text": [
      " 27%|\u001b[32m█████████████████████▊                                                           \u001b[0m| 81/300 [00:25<01:09,  3.16it/s]\u001b[0m"
     ]
    },
    {
     "name": "stdout",
     "output_type": "stream",
     "text": [
      "Validation F1 in epoch80 : 0.8183\n",
      "Validation loss in epoch80 : 7569.2627\n"
     ]
    },
    {
     "name": "stderr",
     "output_type": "stream",
     "text": [
      " 30%|\u001b[32m████████████████████████▌                                                        \u001b[0m| 91/300 [00:28<01:06,  3.14it/s]\u001b[0m"
     ]
    },
    {
     "name": "stdout",
     "output_type": "stream",
     "text": [
      "Validation F1 in epoch90 : 0.8291\n",
      "Validation loss in epoch90 : 7235.0977\n"
     ]
    },
    {
     "name": "stderr",
     "output_type": "stream",
     "text": [
      " 34%|\u001b[32m██████████████████████████▉                                                     \u001b[0m| 101/300 [00:31<01:01,  3.26it/s]\u001b[0m"
     ]
    },
    {
     "name": "stdout",
     "output_type": "stream",
     "text": [
      "Validation F1 in epoch100 : 0.8370\n",
      "Validation loss in epoch100 : 7076.2627\n"
     ]
    },
    {
     "name": "stderr",
     "output_type": "stream",
     "text": [
      " 37%|\u001b[32m█████████████████████████████▌                                                  \u001b[0m| 111/300 [00:34<00:58,  3.21it/s]\u001b[0m"
     ]
    },
    {
     "name": "stdout",
     "output_type": "stream",
     "text": [
      "Validation F1 in epoch110 : 0.8362\n",
      "Validation loss in epoch110 : 7070.9287\n"
     ]
    },
    {
     "name": "stderr",
     "output_type": "stream",
     "text": [
      " 40%|\u001b[32m████████████████████████████████▎                                               \u001b[0m| 121/300 [00:37<00:56,  3.19it/s]\u001b[0m"
     ]
    },
    {
     "name": "stdout",
     "output_type": "stream",
     "text": [
      "Validation F1 in epoch120 : 0.8381\n",
      "Validation loss in epoch120 : 6972.5835\n"
     ]
    },
    {
     "name": "stderr",
     "output_type": "stream",
     "text": [
      " 44%|\u001b[32m██████████████████████████████████▉                                             \u001b[0m| 131/300 [00:40<00:52,  3.23it/s]\u001b[0m"
     ]
    },
    {
     "name": "stdout",
     "output_type": "stream",
     "text": [
      "Validation F1 in epoch130 : 0.8421\n",
      "Validation loss in epoch130 : 6973.0605\n"
     ]
    },
    {
     "name": "stderr",
     "output_type": "stream",
     "text": [
      " 47%|\u001b[32m█████████████████████████████████████▌                                          \u001b[0m| 141/300 [00:43<00:49,  3.19it/s]\u001b[0m"
     ]
    },
    {
     "name": "stdout",
     "output_type": "stream",
     "text": [
      "Validation F1 in epoch140 : 0.8399\n",
      "Validation loss in epoch140 : 7020.7998\n"
     ]
    },
    {
     "name": "stderr",
     "output_type": "stream",
     "text": [
      " 50%|\u001b[32m████████████████████████████████████████▎                                       \u001b[0m| 151/300 [00:46<00:45,  3.24it/s]\u001b[0m"
     ]
    },
    {
     "name": "stdout",
     "output_type": "stream",
     "text": [
      "Validation F1 in epoch150 : 0.8436\n",
      "Validation loss in epoch150 : 6971.3066\n"
     ]
    },
    {
     "name": "stderr",
     "output_type": "stream",
     "text": [
      " 54%|\u001b[32m██████████████████████████████████████████▉                                     \u001b[0m| 161/300 [00:50<00:43,  3.17it/s]\u001b[0m"
     ]
    },
    {
     "name": "stdout",
     "output_type": "stream",
     "text": [
      "Validation F1 in epoch160 : 0.8421\n",
      "Validation loss in epoch160 : 7034.2656\n"
     ]
    },
    {
     "name": "stderr",
     "output_type": "stream",
     "text": [
      " 57%|\u001b[32m█████████████████████████████████████████████▌                                  \u001b[0m| 171/300 [00:53<00:37,  3.47it/s]\u001b[0m"
     ]
    },
    {
     "name": "stdout",
     "output_type": "stream",
     "text": [
      "Validation F1 in epoch170 : 0.8434\n",
      "Validation loss in epoch170 : 7061.0244\n"
     ]
    },
    {
     "name": "stderr",
     "output_type": "stream",
     "text": [
      " 60%|\u001b[32m████████████████████████████████████████████████▎                               \u001b[0m| 181/300 [00:56<00:36,  3.30it/s]\u001b[0m"
     ]
    },
    {
     "name": "stdout",
     "output_type": "stream",
     "text": [
      "Validation F1 in epoch180 : 0.8400\n",
      "Validation loss in epoch180 : 7167.5762\n"
     ]
    },
    {
     "name": "stderr",
     "output_type": "stream",
     "text": [
      " 64%|\u001b[32m██████████████████████████████████████████████████▉                             \u001b[0m| 191/300 [00:59<00:33,  3.27it/s]\u001b[0m"
     ]
    },
    {
     "name": "stdout",
     "output_type": "stream",
     "text": [
      "Validation F1 in epoch190 : 0.8386\n",
      "Validation loss in epoch190 : 7348.8223\n"
     ]
    },
    {
     "name": "stderr",
     "output_type": "stream",
     "text": [
      " 67%|\u001b[32m█████████████████████████████████████████████████████▌                          \u001b[0m| 201/300 [01:02<00:32,  3.07it/s]\u001b[0m"
     ]
    },
    {
     "name": "stdout",
     "output_type": "stream",
     "text": [
      "Validation F1 in epoch200 : 0.8401\n",
      "Validation loss in epoch200 : 7483.0059\n"
     ]
    },
    {
     "name": "stderr",
     "output_type": "stream",
     "text": [
      " 70%|\u001b[32m████████████████████████████████████████████████████████▎                       \u001b[0m| 211/300 [01:05<00:28,  3.17it/s]\u001b[0m"
     ]
    },
    {
     "name": "stdout",
     "output_type": "stream",
     "text": [
      "Validation F1 in epoch210 : 0.8400\n",
      "Validation loss in epoch210 : 7638.9517\n"
     ]
    },
    {
     "name": "stderr",
     "output_type": "stream",
     "text": [
      " 74%|\u001b[32m██████████████████████████████████████████████████████████▉                     \u001b[0m| 221/300 [01:08<00:24,  3.22it/s]\u001b[0m"
     ]
    },
    {
     "name": "stdout",
     "output_type": "stream",
     "text": [
      "Validation F1 in epoch220 : 0.8360\n",
      "Validation loss in epoch220 : 7840.3003\n"
     ]
    },
    {
     "name": "stderr",
     "output_type": "stream",
     "text": [
      " 77%|\u001b[32m█████████████████████████████████████████████████████████████▌                  \u001b[0m| 231/300 [01:11<00:21,  3.18it/s]\u001b[0m"
     ]
    },
    {
     "name": "stdout",
     "output_type": "stream",
     "text": [
      "Validation F1 in epoch230 : 0.8418\n",
      "Validation loss in epoch230 : 7994.7080\n"
     ]
    },
    {
     "name": "stderr",
     "output_type": "stream",
     "text": [
      " 80%|\u001b[32m████████████████████████████████████████████████████████████████▎               \u001b[0m| 241/300 [01:15<00:20,  2.93it/s]\u001b[0m"
     ]
    },
    {
     "name": "stdout",
     "output_type": "stream",
     "text": [
      "Validation F1 in epoch240 : 0.8388\n",
      "Validation loss in epoch240 : 8036.8550\n"
     ]
    },
    {
     "name": "stderr",
     "output_type": "stream",
     "text": [
      " 84%|\u001b[32m██████████████████████████████████████████████████████████████████▉             \u001b[0m| 251/300 [01:18<00:14,  3.31it/s]\u001b[0m"
     ]
    },
    {
     "name": "stdout",
     "output_type": "stream",
     "text": [
      "Validation F1 in epoch250 : 0.8379\n",
      "Validation loss in epoch250 : 8205.1406\n"
     ]
    },
    {
     "name": "stderr",
     "output_type": "stream",
     "text": [
      " 87%|\u001b[32m█████████████████████████████████████████████████████████████████████▌          \u001b[0m| 261/300 [01:21<00:12,  3.18it/s]\u001b[0m"
     ]
    },
    {
     "name": "stdout",
     "output_type": "stream",
     "text": [
      "Validation F1 in epoch260 : 0.8405\n",
      "Validation loss in epoch260 : 8565.1221\n"
     ]
    },
    {
     "name": "stderr",
     "output_type": "stream",
     "text": [
      " 90%|\u001b[32m████████████████████████████████████████████████████████████████████████▎       \u001b[0m| 271/300 [01:24<00:09,  3.19it/s]\u001b[0m"
     ]
    },
    {
     "name": "stdout",
     "output_type": "stream",
     "text": [
      "Validation F1 in epoch270 : 0.8379\n",
      "Validation loss in epoch270 : 8597.4307\n"
     ]
    },
    {
     "name": "stderr",
     "output_type": "stream",
     "text": [
      " 94%|\u001b[32m██████████████████████████████████████████████████████████████████████████▉     \u001b[0m| 281/300 [01:27<00:06,  2.98it/s]\u001b[0m"
     ]
    },
    {
     "name": "stdout",
     "output_type": "stream",
     "text": [
      "Validation F1 in epoch280 : 0.8371\n",
      "Validation loss in epoch280 : 8870.2188\n"
     ]
    },
    {
     "name": "stderr",
     "output_type": "stream",
     "text": [
      " 97%|\u001b[32m█████████████████████████████████████████████████████████████████████████████▌  \u001b[0m| 291/300 [01:30<00:02,  3.22it/s]\u001b[0m"
     ]
    },
    {
     "name": "stdout",
     "output_type": "stream",
     "text": [
      "Validation F1 in epoch290 : 0.8362\n",
      "Validation loss in epoch290 : 8908.0674\n"
     ]
    },
    {
     "name": "stderr",
     "output_type": "stream",
     "text": [
      "100%|\u001b[32m████████████████████████████████████████████████████████████████████████████████\u001b[0m| 300/300 [01:33<00:00,  3.21it/s]\u001b[0m\n",
      "  0%|\u001b[32m▎                                                                                 \u001b[0m| 1/300 [00:00<01:43,  2.89it/s]\u001b[0m"
     ]
    },
    {
     "name": "stdout",
     "output_type": "stream",
     "text": [
      "Validation F1 in epoch0 : 0.1347\n",
      "Validation loss in epoch0 : 62511.5273\n"
     ]
    },
    {
     "name": "stderr",
     "output_type": "stream",
     "text": [
      "  4%|\u001b[32m██▉                                                                              \u001b[0m| 11/300 [00:03<01:27,  3.30it/s]\u001b[0m"
     ]
    },
    {
     "name": "stdout",
     "output_type": "stream",
     "text": [
      "Validation F1 in epoch10 : 0.1329\n",
      "Validation loss in epoch10 : 62520.5273\n"
     ]
    },
    {
     "name": "stderr",
     "output_type": "stream",
     "text": [
      "  7%|\u001b[32m█████▋                                                                           \u001b[0m| 21/300 [00:06<01:28,  3.15it/s]\u001b[0m"
     ]
    },
    {
     "name": "stdout",
     "output_type": "stream",
     "text": [
      "Validation F1 in epoch20 : 0.5892\n",
      "Validation loss in epoch20 : 24078.1621\n"
     ]
    },
    {
     "name": "stderr",
     "output_type": "stream",
     "text": [
      " 10%|\u001b[32m████████▎                                                                        \u001b[0m| 31/300 [00:09<01:22,  3.26it/s]\u001b[0m"
     ]
    },
    {
     "name": "stdout",
     "output_type": "stream",
     "text": [
      "Validation F1 in epoch30 : 0.5836\n",
      "Validation loss in epoch30 : 18494.4102\n"
     ]
    },
    {
     "name": "stderr",
     "output_type": "stream",
     "text": [
      " 14%|\u001b[32m███████████                                                                      \u001b[0m| 41/300 [00:13<01:22,  3.15it/s]\u001b[0m"
     ]
    },
    {
     "name": "stdout",
     "output_type": "stream",
     "text": [
      "Validation F1 in epoch40 : 0.6178\n",
      "Validation loss in epoch40 : 14174.8936\n"
     ]
    },
    {
     "name": "stderr",
     "output_type": "stream",
     "text": [
      " 17%|\u001b[32m█████████████▊                                                                   \u001b[0m| 51/300 [00:16<01:17,  3.20it/s]\u001b[0m"
     ]
    },
    {
     "name": "stdout",
     "output_type": "stream",
     "text": [
      "Validation F1 in epoch50 : 0.7219\n",
      "Validation loss in epoch50 : 11198.4375\n"
     ]
    },
    {
     "name": "stderr",
     "output_type": "stream",
     "text": [
      " 20%|\u001b[32m████████████████▍                                                                \u001b[0m| 61/300 [00:19<01:17,  3.10it/s]\u001b[0m"
     ]
    },
    {
     "name": "stdout",
     "output_type": "stream",
     "text": [
      "Validation F1 in epoch60 : 0.7693\n",
      "Validation loss in epoch60 : 9806.6729\n"
     ]
    },
    {
     "name": "stderr",
     "output_type": "stream",
     "text": [
      " 24%|\u001b[32m███████████████████▏                                                             \u001b[0m| 71/300 [00:22<01:13,  3.11it/s]\u001b[0m"
     ]
    },
    {
     "name": "stdout",
     "output_type": "stream",
     "text": [
      "Validation F1 in epoch70 : 0.7932\n",
      "Validation loss in epoch70 : 9159.4727\n"
     ]
    },
    {
     "name": "stderr",
     "output_type": "stream",
     "text": [
      " 27%|\u001b[32m█████████████████████▊                                                           \u001b[0m| 81/300 [00:25<01:05,  3.34it/s]\u001b[0m"
     ]
    },
    {
     "name": "stdout",
     "output_type": "stream",
     "text": [
      "Validation F1 in epoch80 : 0.8030\n",
      "Validation loss in epoch80 : 8774.1494\n"
     ]
    },
    {
     "name": "stderr",
     "output_type": "stream",
     "text": [
      " 30%|\u001b[32m████████████████████████▌                                                        \u001b[0m| 91/300 [00:28<01:05,  3.20it/s]\u001b[0m"
     ]
    },
    {
     "name": "stdout",
     "output_type": "stream",
     "text": [
      "Validation F1 in epoch90 : 0.8122\n",
      "Validation loss in epoch90 : 8531.6738\n"
     ]
    },
    {
     "name": "stderr",
     "output_type": "stream",
     "text": [
      " 34%|\u001b[32m██████████████████████████▉                                                     \u001b[0m| 101/300 [00:31<01:02,  3.19it/s]\u001b[0m"
     ]
    },
    {
     "name": "stdout",
     "output_type": "stream",
     "text": [
      "Validation F1 in epoch100 : 0.8143\n",
      "Validation loss in epoch100 : 8424.7441\n"
     ]
    },
    {
     "name": "stderr",
     "output_type": "stream",
     "text": [
      " 37%|\u001b[32m█████████████████████████████▌                                                  \u001b[0m| 111/300 [00:35<01:01,  3.06it/s]\u001b[0m"
     ]
    },
    {
     "name": "stdout",
     "output_type": "stream",
     "text": [
      "Validation F1 in epoch110 : 0.8161\n",
      "Validation loss in epoch110 : 8393.7324\n"
     ]
    },
    {
     "name": "stderr",
     "output_type": "stream",
     "text": [
      " 40%|\u001b[32m████████████████████████████████▎                                               \u001b[0m| 121/300 [00:38<00:56,  3.18it/s]\u001b[0m"
     ]
    },
    {
     "name": "stdout",
     "output_type": "stream",
     "text": [
      "Validation F1 in epoch120 : 0.8183\n",
      "Validation loss in epoch120 : 8267.1455\n"
     ]
    },
    {
     "name": "stderr",
     "output_type": "stream",
     "text": [
      " 44%|\u001b[32m██████████████████████████████████▉                                             \u001b[0m| 131/300 [00:41<00:58,  2.88it/s]\u001b[0m"
     ]
    },
    {
     "name": "stdout",
     "output_type": "stream",
     "text": [
      "Validation F1 in epoch130 : 0.8173\n",
      "Validation loss in epoch130 : 8330.3564\n"
     ]
    },
    {
     "name": "stderr",
     "output_type": "stream",
     "text": [
      " 47%|\u001b[32m█████████████████████████████████████▌                                          \u001b[0m| 141/300 [00:44<00:50,  3.16it/s]\u001b[0m"
     ]
    },
    {
     "name": "stdout",
     "output_type": "stream",
     "text": [
      "Validation F1 in epoch140 : 0.8204\n",
      "Validation loss in epoch140 : 8331.4473\n"
     ]
    },
    {
     "name": "stderr",
     "output_type": "stream",
     "text": [
      " 50%|\u001b[32m████████████████████████████████████████▎                                       \u001b[0m| 151/300 [00:47<00:47,  3.12it/s]\u001b[0m"
     ]
    },
    {
     "name": "stdout",
     "output_type": "stream",
     "text": [
      "Validation F1 in epoch150 : 0.8202\n",
      "Validation loss in epoch150 : 8270.3066\n"
     ]
    },
    {
     "name": "stderr",
     "output_type": "stream",
     "text": [
      " 54%|\u001b[32m██████████████████████████████████████████▉                                     \u001b[0m| 161/300 [00:50<00:42,  3.27it/s]\u001b[0m"
     ]
    },
    {
     "name": "stdout",
     "output_type": "stream",
     "text": [
      "Validation F1 in epoch160 : 0.8191\n",
      "Validation loss in epoch160 : 8296.4443\n"
     ]
    },
    {
     "name": "stderr",
     "output_type": "stream",
     "text": [
      " 57%|\u001b[32m█████████████████████████████████████████████▌                                  \u001b[0m| 171/300 [00:54<00:39,  3.23it/s]\u001b[0m"
     ]
    },
    {
     "name": "stdout",
     "output_type": "stream",
     "text": [
      "Validation F1 in epoch170 : 0.8185\n",
      "Validation loss in epoch170 : 8272.3867\n"
     ]
    },
    {
     "name": "stderr",
     "output_type": "stream",
     "text": [
      " 60%|\u001b[32m████████████████████████████████████████████████▎                               \u001b[0m| 181/300 [00:57<00:45,  2.60it/s]\u001b[0m"
     ]
    },
    {
     "name": "stdout",
     "output_type": "stream",
     "text": [
      "Validation F1 in epoch180 : 0.8172\n",
      "Validation loss in epoch180 : 8385.1289\n"
     ]
    },
    {
     "name": "stderr",
     "output_type": "stream",
     "text": [
      " 64%|\u001b[32m██████████████████████████████████████████████████▉                             \u001b[0m| 191/300 [01:00<00:35,  3.07it/s]\u001b[0m"
     ]
    },
    {
     "name": "stdout",
     "output_type": "stream",
     "text": [
      "Validation F1 in epoch190 : 0.8207\n",
      "Validation loss in epoch190 : 8415.2617\n"
     ]
    },
    {
     "name": "stderr",
     "output_type": "stream",
     "text": [
      " 67%|\u001b[32m█████████████████████████████████████████████████████▌                          \u001b[0m| 201/300 [01:03<00:31,  3.11it/s]\u001b[0m"
     ]
    },
    {
     "name": "stdout",
     "output_type": "stream",
     "text": [
      "Validation F1 in epoch200 : 0.8214\n",
      "Validation loss in epoch200 : 8529.3486\n"
     ]
    },
    {
     "name": "stderr",
     "output_type": "stream",
     "text": [
      " 70%|\u001b[32m████████████████████████████████████████████████████████▎                       \u001b[0m| 211/300 [01:06<00:26,  3.31it/s]\u001b[0m"
     ]
    },
    {
     "name": "stdout",
     "output_type": "stream",
     "text": [
      "Validation F1 in epoch210 : 0.8193\n",
      "Validation loss in epoch210 : 8585.8047\n"
     ]
    },
    {
     "name": "stderr",
     "output_type": "stream",
     "text": [
      " 74%|\u001b[32m██████████████████████████████████████████████████████████▉                     \u001b[0m| 221/300 [01:10<00:23,  3.29it/s]\u001b[0m"
     ]
    },
    {
     "name": "stdout",
     "output_type": "stream",
     "text": [
      "Validation F1 in epoch220 : 0.8194\n",
      "Validation loss in epoch220 : 8667.1797\n"
     ]
    },
    {
     "name": "stderr",
     "output_type": "stream",
     "text": [
      " 77%|\u001b[32m█████████████████████████████████████████████████████████████▌                  \u001b[0m| 231/300 [01:13<00:20,  3.32it/s]\u001b[0m"
     ]
    },
    {
     "name": "stdout",
     "output_type": "stream",
     "text": [
      "Validation F1 in epoch230 : 0.8187\n",
      "Validation loss in epoch230 : 8723.6699\n"
     ]
    },
    {
     "name": "stderr",
     "output_type": "stream",
     "text": [
      " 80%|\u001b[32m████████████████████████████████████████████████████████████████▎               \u001b[0m| 241/300 [01:16<00:18,  3.18it/s]\u001b[0m"
     ]
    },
    {
     "name": "stdout",
     "output_type": "stream",
     "text": [
      "Validation F1 in epoch240 : 0.8146\n",
      "Validation loss in epoch240 : 8782.5518\n"
     ]
    },
    {
     "name": "stderr",
     "output_type": "stream",
     "text": [
      " 84%|\u001b[32m██████████████████████████████████████████████████████████████████▉             \u001b[0m| 251/300 [01:19<00:14,  3.37it/s]\u001b[0m"
     ]
    },
    {
     "name": "stdout",
     "output_type": "stream",
     "text": [
      "Validation F1 in epoch250 : 0.8142\n",
      "Validation loss in epoch250 : 8971.3203\n"
     ]
    },
    {
     "name": "stderr",
     "output_type": "stream",
     "text": [
      " 87%|\u001b[32m█████████████████████████████████████████████████████████████████████▌          \u001b[0m| 261/300 [01:22<00:11,  3.28it/s]\u001b[0m"
     ]
    },
    {
     "name": "stdout",
     "output_type": "stream",
     "text": [
      "Validation F1 in epoch260 : 0.8143\n",
      "Validation loss in epoch260 : 9161.4805\n"
     ]
    },
    {
     "name": "stderr",
     "output_type": "stream",
     "text": [
      " 90%|\u001b[32m████████████████████████████████████████████████████████████████████████▎       \u001b[0m| 271/300 [01:26<00:10,  2.76it/s]\u001b[0m"
     ]
    },
    {
     "name": "stdout",
     "output_type": "stream",
     "text": [
      "Validation F1 in epoch270 : 0.8138\n",
      "Validation loss in epoch270 : 9165.2012\n"
     ]
    },
    {
     "name": "stderr",
     "output_type": "stream",
     "text": [
      " 94%|\u001b[32m██████████████████████████████████████████████████████████████████████████▉     \u001b[0m| 281/300 [01:29<00:06,  3.02it/s]\u001b[0m"
     ]
    },
    {
     "name": "stdout",
     "output_type": "stream",
     "text": [
      "Validation F1 in epoch280 : 0.8126\n",
      "Validation loss in epoch280 : 9421.0742\n"
     ]
    },
    {
     "name": "stderr",
     "output_type": "stream",
     "text": [
      " 97%|\u001b[32m█████████████████████████████████████████████████████████████████████████████▌  \u001b[0m| 291/300 [01:32<00:02,  3.39it/s]\u001b[0m"
     ]
    },
    {
     "name": "stdout",
     "output_type": "stream",
     "text": [
      "Validation F1 in epoch290 : 0.8084\n",
      "Validation loss in epoch290 : 9510.4922\n"
     ]
    },
    {
     "name": "stderr",
     "output_type": "stream",
     "text": [
      "100%|\u001b[32m████████████████████████████████████████████████████████████████████████████████\u001b[0m| 300/300 [01:34<00:00,  3.16it/s]\u001b[0m\n",
      "  0%|\u001b[32m▎                                                                                 \u001b[0m| 1/300 [00:00<01:15,  3.98it/s]\u001b[0m"
     ]
    },
    {
     "name": "stdout",
     "output_type": "stream",
     "text": [
      "Validation F1 in epoch0 : 0.0736\n",
      "Validation loss in epoch0 : 62222.1406\n"
     ]
    },
    {
     "name": "stderr",
     "output_type": "stream",
     "text": [
      "  4%|\u001b[32m██▉                                                                              \u001b[0m| 11/300 [00:03<01:26,  3.35it/s]\u001b[0m"
     ]
    },
    {
     "name": "stdout",
     "output_type": "stream",
     "text": [
      "Validation F1 in epoch10 : 0.0736\n",
      "Validation loss in epoch10 : 62222.1406\n"
     ]
    },
    {
     "name": "stderr",
     "output_type": "stream",
     "text": [
      "  7%|\u001b[32m█████▋                                                                           \u001b[0m| 21/300 [00:06<01:27,  3.19it/s]\u001b[0m"
     ]
    },
    {
     "name": "stdout",
     "output_type": "stream",
     "text": [
      "Validation F1 in epoch20 : 0.5975\n",
      "Validation loss in epoch20 : 21326.1523\n"
     ]
    },
    {
     "name": "stderr",
     "output_type": "stream",
     "text": [
      " 10%|\u001b[32m████████▎                                                                        \u001b[0m| 31/300 [00:09<01:23,  3.21it/s]\u001b[0m"
     ]
    },
    {
     "name": "stdout",
     "output_type": "stream",
     "text": [
      "Validation F1 in epoch30 : 0.6521\n",
      "Validation loss in epoch30 : 16354.7842\n"
     ]
    },
    {
     "name": "stderr",
     "output_type": "stream",
     "text": [
      " 14%|\u001b[32m███████████                                                                      \u001b[0m| 41/300 [00:12<01:23,  3.12it/s]\u001b[0m"
     ]
    },
    {
     "name": "stdout",
     "output_type": "stream",
     "text": [
      "Validation F1 in epoch40 : 0.7491\n",
      "Validation loss in epoch40 : 11445.7246\n"
     ]
    },
    {
     "name": "stderr",
     "output_type": "stream",
     "text": [
      " 17%|\u001b[32m█████████████▊                                                                   \u001b[0m| 51/300 [00:15<01:17,  3.22it/s]\u001b[0m"
     ]
    },
    {
     "name": "stdout",
     "output_type": "stream",
     "text": [
      "Validation F1 in epoch50 : 0.8094\n",
      "Validation loss in epoch50 : 9507.7812\n"
     ]
    },
    {
     "name": "stderr",
     "output_type": "stream",
     "text": [
      " 20%|\u001b[32m████████████████▍                                                                \u001b[0m| 61/300 [00:18<01:10,  3.38it/s]\u001b[0m"
     ]
    },
    {
     "name": "stdout",
     "output_type": "stream",
     "text": [
      "Validation F1 in epoch60 : 0.8309\n",
      "Validation loss in epoch60 : 8148.3359\n"
     ]
    },
    {
     "name": "stderr",
     "output_type": "stream",
     "text": [
      " 24%|\u001b[32m███████████████████▏                                                             \u001b[0m| 71/300 [00:21<01:12,  3.15it/s]\u001b[0m"
     ]
    },
    {
     "name": "stdout",
     "output_type": "stream",
     "text": [
      "Validation F1 in epoch70 : 0.8442\n",
      "Validation loss in epoch70 : 7775.6758\n"
     ]
    },
    {
     "name": "stderr",
     "output_type": "stream",
     "text": [
      " 27%|\u001b[32m█████████████████████▊                                                           \u001b[0m| 81/300 [00:24<01:04,  3.39it/s]\u001b[0m"
     ]
    },
    {
     "name": "stdout",
     "output_type": "stream",
     "text": [
      "Validation F1 in epoch80 : 0.8496\n",
      "Validation loss in epoch80 : 7647.3438\n"
     ]
    },
    {
     "name": "stderr",
     "output_type": "stream",
     "text": [
      " 30%|\u001b[32m████████████████████████▌                                                        \u001b[0m| 91/300 [00:27<01:04,  3.23it/s]\u001b[0m"
     ]
    },
    {
     "name": "stdout",
     "output_type": "stream",
     "text": [
      "Validation F1 in epoch90 : 0.8535\n",
      "Validation loss in epoch90 : 7671.7949\n"
     ]
    },
    {
     "name": "stderr",
     "output_type": "stream",
     "text": [
      " 34%|\u001b[32m██████████████████████████▉                                                     \u001b[0m| 101/300 [00:31<01:02,  3.18it/s]\u001b[0m"
     ]
    },
    {
     "name": "stdout",
     "output_type": "stream",
     "text": [
      "Validation F1 in epoch100 : 0.8573\n",
      "Validation loss in epoch100 : 7762.4619\n"
     ]
    },
    {
     "name": "stderr",
     "output_type": "stream",
     "text": [
      " 37%|\u001b[32m█████████████████████████████▌                                                  \u001b[0m| 111/300 [00:34<01:00,  3.11it/s]\u001b[0m"
     ]
    },
    {
     "name": "stdout",
     "output_type": "stream",
     "text": [
      "Validation F1 in epoch110 : 0.8587\n",
      "Validation loss in epoch110 : 7860.8760\n"
     ]
    },
    {
     "name": "stderr",
     "output_type": "stream",
     "text": [
      " 40%|\u001b[32m████████████████████████████████▎                                               \u001b[0m| 121/300 [00:37<00:56,  3.15it/s]\u001b[0m"
     ]
    },
    {
     "name": "stdout",
     "output_type": "stream",
     "text": [
      "Validation F1 in epoch120 : 0.8593\n",
      "Validation loss in epoch120 : 7990.5762\n"
     ]
    },
    {
     "name": "stderr",
     "output_type": "stream",
     "text": [
      " 44%|\u001b[32m██████████████████████████████████▉                                             \u001b[0m| 131/300 [00:40<00:51,  3.27it/s]\u001b[0m"
     ]
    },
    {
     "name": "stdout",
     "output_type": "stream",
     "text": [
      "Validation F1 in epoch130 : 0.8599\n",
      "Validation loss in epoch130 : 8138.2944\n"
     ]
    },
    {
     "name": "stderr",
     "output_type": "stream",
     "text": [
      " 47%|\u001b[32m█████████████████████████████████████▌                                          \u001b[0m| 141/300 [00:43<00:48,  3.28it/s]\u001b[0m"
     ]
    },
    {
     "name": "stdout",
     "output_type": "stream",
     "text": [
      "Validation F1 in epoch140 : 0.8603\n",
      "Validation loss in epoch140 : 8300.6143\n"
     ]
    },
    {
     "name": "stderr",
     "output_type": "stream",
     "text": [
      " 50%|\u001b[32m████████████████████████████████████████▎                                       \u001b[0m| 151/300 [00:46<00:45,  3.27it/s]\u001b[0m"
     ]
    },
    {
     "name": "stdout",
     "output_type": "stream",
     "text": [
      "Validation F1 in epoch150 : 0.8611\n",
      "Validation loss in epoch150 : 8462.8477\n"
     ]
    },
    {
     "name": "stderr",
     "output_type": "stream",
     "text": [
      " 54%|\u001b[32m██████████████████████████████████████████▉                                     \u001b[0m| 161/300 [00:49<00:45,  3.07it/s]\u001b[0m"
     ]
    },
    {
     "name": "stdout",
     "output_type": "stream",
     "text": [
      "Validation F1 in epoch160 : 0.8609\n",
      "Validation loss in epoch160 : 8621.5723\n"
     ]
    },
    {
     "name": "stderr",
     "output_type": "stream",
     "text": [
      " 57%|\u001b[32m█████████████████████████████████████████████▌                                  \u001b[0m| 171/300 [00:52<00:40,  3.16it/s]\u001b[0m"
     ]
    },
    {
     "name": "stdout",
     "output_type": "stream",
     "text": [
      "Validation F1 in epoch170 : 0.8610\n",
      "Validation loss in epoch170 : 8774.8330\n"
     ]
    },
    {
     "name": "stderr",
     "output_type": "stream",
     "text": [
      " 60%|\u001b[32m████████████████████████████████████████████████▎                               \u001b[0m| 181/300 [00:56<00:38,  3.12it/s]\u001b[0m"
     ]
    },
    {
     "name": "stdout",
     "output_type": "stream",
     "text": [
      "Validation F1 in epoch180 : 0.8612\n",
      "Validation loss in epoch180 : 8923.3008\n"
     ]
    },
    {
     "name": "stderr",
     "output_type": "stream",
     "text": [
      " 64%|\u001b[32m██████████████████████████████████████████████████▉                             \u001b[0m| 191/300 [00:59<00:34,  3.13it/s]\u001b[0m"
     ]
    },
    {
     "name": "stdout",
     "output_type": "stream",
     "text": [
      "Validation F1 in epoch190 : 0.8612\n",
      "Validation loss in epoch190 : 9066.1416\n"
     ]
    },
    {
     "name": "stderr",
     "output_type": "stream",
     "text": [
      " 67%|\u001b[32m█████████████████████████████████████████████████████▌                          \u001b[0m| 201/300 [01:02<00:31,  3.17it/s]\u001b[0m"
     ]
    },
    {
     "name": "stdout",
     "output_type": "stream",
     "text": [
      "Validation F1 in epoch200 : 0.8611\n",
      "Validation loss in epoch200 : 9204.4951\n"
     ]
    },
    {
     "name": "stderr",
     "output_type": "stream",
     "text": [
      " 70%|\u001b[32m████████████████████████████████████████████████████████▎                       \u001b[0m| 211/300 [01:05<00:26,  3.38it/s]\u001b[0m"
     ]
    },
    {
     "name": "stdout",
     "output_type": "stream",
     "text": [
      "Validation F1 in epoch210 : 0.8609\n",
      "Validation loss in epoch210 : 9337.2520\n"
     ]
    },
    {
     "name": "stderr",
     "output_type": "stream",
     "text": [
      " 74%|\u001b[32m██████████████████████████████████████████████████████████▉                     \u001b[0m| 221/300 [01:08<00:24,  3.27it/s]\u001b[0m"
     ]
    },
    {
     "name": "stdout",
     "output_type": "stream",
     "text": [
      "Validation F1 in epoch220 : 0.8606\n",
      "Validation loss in epoch220 : 9465.9395\n"
     ]
    },
    {
     "name": "stderr",
     "output_type": "stream",
     "text": [
      " 77%|\u001b[32m█████████████████████████████████████████████████████████████▌                  \u001b[0m| 231/300 [01:11<00:20,  3.44it/s]\u001b[0m"
     ]
    },
    {
     "name": "stdout",
     "output_type": "stream",
     "text": [
      "Validation F1 in epoch230 : 0.8608\n",
      "Validation loss in epoch230 : 9589.4346\n"
     ]
    },
    {
     "name": "stderr",
     "output_type": "stream",
     "text": [
      " 80%|\u001b[32m████████████████████████████████████████████████████████████████▎               \u001b[0m| 241/300 [01:14<00:16,  3.50it/s]\u001b[0m"
     ]
    },
    {
     "name": "stdout",
     "output_type": "stream",
     "text": [
      "Validation F1 in epoch240 : 0.8606\n",
      "Validation loss in epoch240 : 9708.5576\n"
     ]
    },
    {
     "name": "stderr",
     "output_type": "stream",
     "text": [
      " 84%|\u001b[32m██████████████████████████████████████████████████████████████████▉             \u001b[0m| 251/300 [01:17<00:14,  3.33it/s]\u001b[0m"
     ]
    },
    {
     "name": "stdout",
     "output_type": "stream",
     "text": [
      "Validation F1 in epoch250 : 0.8602\n",
      "Validation loss in epoch250 : 9825.7900\n"
     ]
    },
    {
     "name": "stderr",
     "output_type": "stream",
     "text": [
      " 87%|\u001b[32m█████████████████████████████████████████████████████████████████████▌          \u001b[0m| 261/300 [01:20<00:12,  3.09it/s]\u001b[0m"
     ]
    },
    {
     "name": "stdout",
     "output_type": "stream",
     "text": [
      "Validation F1 in epoch260 : 0.8605\n",
      "Validation loss in epoch260 : 9936.0596\n"
     ]
    },
    {
     "name": "stderr",
     "output_type": "stream",
     "text": [
      " 90%|\u001b[32m████████████████████████████████████████████████████████████████████████▎       \u001b[0m| 271/300 [01:23<00:08,  3.35it/s]\u001b[0m"
     ]
    },
    {
     "name": "stdout",
     "output_type": "stream",
     "text": [
      "Validation F1 in epoch270 : 0.8604\n",
      "Validation loss in epoch270 : 10041.5215\n"
     ]
    },
    {
     "name": "stderr",
     "output_type": "stream",
     "text": [
      " 94%|\u001b[32m██████████████████████████████████████████████████████████████████████████▉     \u001b[0m| 281/300 [01:26<00:05,  3.28it/s]\u001b[0m"
     ]
    },
    {
     "name": "stdout",
     "output_type": "stream",
     "text": [
      "Validation F1 in epoch280 : 0.8605\n",
      "Validation loss in epoch280 : 10142.5293\n"
     ]
    },
    {
     "name": "stderr",
     "output_type": "stream",
     "text": [
      " 97%|\u001b[32m█████████████████████████████████████████████████████████████████████████████▌  \u001b[0m| 291/300 [01:29<00:02,  3.41it/s]\u001b[0m"
     ]
    },
    {
     "name": "stdout",
     "output_type": "stream",
     "text": [
      "Validation F1 in epoch290 : 0.8606\n",
      "Validation loss in epoch290 : 10239.2246\n"
     ]
    },
    {
     "name": "stderr",
     "output_type": "stream",
     "text": [
      "100%|\u001b[32m████████████████████████████████████████████████████████████████████████████████\u001b[0m| 300/300 [01:32<00:00,  3.24it/s]\u001b[0m\n",
      "  0%|\u001b[32m▎                                                                                 \u001b[0m| 1/300 [00:00<01:50,  2.70it/s]\u001b[0m"
     ]
    },
    {
     "name": "stdout",
     "output_type": "stream",
     "text": [
      "Validation F1 in epoch0 : 0.1516\n",
      "Validation loss in epoch0 : 62490.7422\n"
     ]
    },
    {
     "name": "stderr",
     "output_type": "stream",
     "text": [
      "  4%|\u001b[32m██▉                                                                              \u001b[0m| 11/300 [00:03<01:28,  3.27it/s]\u001b[0m"
     ]
    },
    {
     "name": "stdout",
     "output_type": "stream",
     "text": [
      "Validation F1 in epoch10 : 0.1485\n",
      "Validation loss in epoch10 : 62489.7656\n"
     ]
    },
    {
     "name": "stderr",
     "output_type": "stream",
     "text": [
      "  7%|\u001b[32m█████▋                                                                           \u001b[0m| 21/300 [00:06<01:31,  3.06it/s]\u001b[0m"
     ]
    },
    {
     "name": "stdout",
     "output_type": "stream",
     "text": [
      "Validation F1 in epoch20 : 0.5653\n",
      "Validation loss in epoch20 : 24576.3770\n"
     ]
    },
    {
     "name": "stderr",
     "output_type": "stream",
     "text": [
      " 10%|\u001b[32m████████▎                                                                        \u001b[0m| 31/300 [00:09<01:26,  3.13it/s]\u001b[0m"
     ]
    },
    {
     "name": "stdout",
     "output_type": "stream",
     "text": [
      "Validation F1 in epoch30 : 0.6050\n",
      "Validation loss in epoch30 : 17067.9297\n"
     ]
    },
    {
     "name": "stderr",
     "output_type": "stream",
     "text": [
      " 14%|\u001b[32m███████████                                                                      \u001b[0m| 41/300 [00:12<01:17,  3.35it/s]\u001b[0m"
     ]
    },
    {
     "name": "stdout",
     "output_type": "stream",
     "text": [
      "Validation F1 in epoch40 : 0.6379\n",
      "Validation loss in epoch40 : 13023.2646\n"
     ]
    },
    {
     "name": "stderr",
     "output_type": "stream",
     "text": [
      " 17%|\u001b[32m█████████████▊                                                                   \u001b[0m| 51/300 [00:16<01:17,  3.22it/s]\u001b[0m"
     ]
    },
    {
     "name": "stdout",
     "output_type": "stream",
     "text": [
      "Validation F1 in epoch50 : 0.7353\n",
      "Validation loss in epoch50 : 10247.3467\n"
     ]
    },
    {
     "name": "stderr",
     "output_type": "stream",
     "text": [
      " 20%|\u001b[32m████████████████▍                                                                \u001b[0m| 61/300 [00:19<01:13,  3.27it/s]\u001b[0m"
     ]
    },
    {
     "name": "stdout",
     "output_type": "stream",
     "text": [
      "Validation F1 in epoch60 : 0.7824\n",
      "Validation loss in epoch60 : 8822.3271\n"
     ]
    },
    {
     "name": "stderr",
     "output_type": "stream",
     "text": [
      " 24%|\u001b[32m███████████████████▏                                                             \u001b[0m| 71/300 [00:22<01:09,  3.27it/s]\u001b[0m"
     ]
    },
    {
     "name": "stdout",
     "output_type": "stream",
     "text": [
      "Validation F1 in epoch70 : 0.8107\n",
      "Validation loss in epoch70 : 7989.2432\n"
     ]
    },
    {
     "name": "stderr",
     "output_type": "stream",
     "text": [
      " 27%|\u001b[32m█████████████████████▊                                                           \u001b[0m| 81/300 [00:25<01:08,  3.19it/s]\u001b[0m"
     ]
    },
    {
     "name": "stdout",
     "output_type": "stream",
     "text": [
      "Validation F1 in epoch80 : 0.8183\n",
      "Validation loss in epoch80 : 7569.2627\n"
     ]
    },
    {
     "name": "stderr",
     "output_type": "stream",
     "text": [
      " 30%|\u001b[32m████████████████████████▌                                                        \u001b[0m| 91/300 [00:28<01:06,  3.16it/s]\u001b[0m"
     ]
    },
    {
     "name": "stdout",
     "output_type": "stream",
     "text": [
      "Validation F1 in epoch90 : 0.8291\n",
      "Validation loss in epoch90 : 7235.0977\n"
     ]
    },
    {
     "name": "stderr",
     "output_type": "stream",
     "text": [
      " 34%|\u001b[32m██████████████████████████▉                                                     \u001b[0m| 101/300 [00:31<01:03,  3.11it/s]\u001b[0m"
     ]
    },
    {
     "name": "stdout",
     "output_type": "stream",
     "text": [
      "Validation F1 in epoch100 : 0.8370\n",
      "Validation loss in epoch100 : 7076.2627\n"
     ]
    },
    {
     "name": "stderr",
     "output_type": "stream",
     "text": [
      " 37%|\u001b[32m█████████████████████████████▌                                                  \u001b[0m| 111/300 [00:34<00:58,  3.21it/s]\u001b[0m"
     ]
    },
    {
     "name": "stdout",
     "output_type": "stream",
     "text": [
      "Validation F1 in epoch110 : 0.8362\n",
      "Validation loss in epoch110 : 7070.9287\n"
     ]
    },
    {
     "name": "stderr",
     "output_type": "stream",
     "text": [
      " 40%|\u001b[32m████████████████████████████████▎                                               \u001b[0m| 121/300 [00:37<00:58,  3.07it/s]\u001b[0m"
     ]
    },
    {
     "name": "stdout",
     "output_type": "stream",
     "text": [
      "Validation F1 in epoch120 : 0.8381\n",
      "Validation loss in epoch120 : 6972.5835\n"
     ]
    },
    {
     "name": "stderr",
     "output_type": "stream",
     "text": [
      " 44%|\u001b[32m██████████████████████████████████▉                                             \u001b[0m| 131/300 [00:40<00:51,  3.28it/s]\u001b[0m"
     ]
    },
    {
     "name": "stdout",
     "output_type": "stream",
     "text": [
      "Validation F1 in epoch130 : 0.8421\n",
      "Validation loss in epoch130 : 6973.0605\n"
     ]
    },
    {
     "name": "stderr",
     "output_type": "stream",
     "text": [
      " 47%|\u001b[32m█████████████████████████████████████▌                                          \u001b[0m| 141/300 [00:44<00:53,  2.96it/s]\u001b[0m"
     ]
    },
    {
     "name": "stdout",
     "output_type": "stream",
     "text": [
      "Validation F1 in epoch140 : 0.8399\n",
      "Validation loss in epoch140 : 7020.7998\n"
     ]
    },
    {
     "name": "stderr",
     "output_type": "stream",
     "text": [
      " 50%|\u001b[32m████████████████████████████████████████▎                                       \u001b[0m| 151/300 [00:47<00:47,  3.15it/s]\u001b[0m"
     ]
    },
    {
     "name": "stdout",
     "output_type": "stream",
     "text": [
      "Validation F1 in epoch150 : 0.8436\n",
      "Validation loss in epoch150 : 6971.3066\n"
     ]
    },
    {
     "name": "stderr",
     "output_type": "stream",
     "text": [
      " 54%|\u001b[32m██████████████████████████████████████████▉                                     \u001b[0m| 161/300 [00:50<00:42,  3.27it/s]\u001b[0m"
     ]
    },
    {
     "name": "stdout",
     "output_type": "stream",
     "text": [
      "Validation F1 in epoch160 : 0.8421\n",
      "Validation loss in epoch160 : 7034.2656\n"
     ]
    },
    {
     "name": "stderr",
     "output_type": "stream",
     "text": [
      " 57%|\u001b[32m█████████████████████████████████████████████▌                                  \u001b[0m| 171/300 [00:53<00:40,  3.15it/s]\u001b[0m"
     ]
    },
    {
     "name": "stdout",
     "output_type": "stream",
     "text": [
      "Validation F1 in epoch170 : 0.8434\n",
      "Validation loss in epoch170 : 7061.0244\n"
     ]
    },
    {
     "name": "stderr",
     "output_type": "stream",
     "text": [
      " 60%|\u001b[32m████████████████████████████████████████████████▎                               \u001b[0m| 181/300 [00:56<00:36,  3.25it/s]\u001b[0m"
     ]
    },
    {
     "name": "stdout",
     "output_type": "stream",
     "text": [
      "Validation F1 in epoch180 : 0.8400\n",
      "Validation loss in epoch180 : 7167.5762\n"
     ]
    },
    {
     "name": "stderr",
     "output_type": "stream",
     "text": [
      " 64%|\u001b[32m██████████████████████████████████████████████████▉                             \u001b[0m| 191/300 [00:59<00:33,  3.21it/s]\u001b[0m"
     ]
    },
    {
     "name": "stdout",
     "output_type": "stream",
     "text": [
      "Validation F1 in epoch190 : 0.8386\n",
      "Validation loss in epoch190 : 7348.8223\n"
     ]
    },
    {
     "name": "stderr",
     "output_type": "stream",
     "text": [
      " 67%|\u001b[32m█████████████████████████████████████████████████████▌                          \u001b[0m| 201/300 [01:02<00:28,  3.47it/s]\u001b[0m"
     ]
    },
    {
     "name": "stdout",
     "output_type": "stream",
     "text": [
      "Validation F1 in epoch200 : 0.8401\n",
      "Validation loss in epoch200 : 7483.0059\n"
     ]
    },
    {
     "name": "stderr",
     "output_type": "stream",
     "text": [
      " 70%|\u001b[32m████████████████████████████████████████████████████████▎                       \u001b[0m| 211/300 [01:06<00:29,  3.04it/s]\u001b[0m"
     ]
    },
    {
     "name": "stdout",
     "output_type": "stream",
     "text": [
      "Validation F1 in epoch210 : 0.8400\n",
      "Validation loss in epoch210 : 7638.9517\n"
     ]
    },
    {
     "name": "stderr",
     "output_type": "stream",
     "text": [
      " 74%|\u001b[32m██████████████████████████████████████████████████████████▉                     \u001b[0m| 221/300 [01:09<00:25,  3.08it/s]\u001b[0m"
     ]
    },
    {
     "name": "stdout",
     "output_type": "stream",
     "text": [
      "Validation F1 in epoch220 : 0.8360\n",
      "Validation loss in epoch220 : 7840.3003\n"
     ]
    },
    {
     "name": "stderr",
     "output_type": "stream",
     "text": [
      " 77%|\u001b[32m█████████████████████████████████████████████████████████████▌                  \u001b[0m| 231/300 [01:12<00:22,  3.10it/s]\u001b[0m"
     ]
    },
    {
     "name": "stdout",
     "output_type": "stream",
     "text": [
      "Validation F1 in epoch230 : 0.8418\n",
      "Validation loss in epoch230 : 7994.7080\n"
     ]
    },
    {
     "name": "stderr",
     "output_type": "stream",
     "text": [
      " 80%|\u001b[32m████████████████████████████████████████████████████████████████▎               \u001b[0m| 241/300 [01:15<00:19,  3.10it/s]\u001b[0m"
     ]
    },
    {
     "name": "stdout",
     "output_type": "stream",
     "text": [
      "Validation F1 in epoch240 : 0.8388\n",
      "Validation loss in epoch240 : 8036.8550\n"
     ]
    },
    {
     "name": "stderr",
     "output_type": "stream",
     "text": [
      " 84%|\u001b[32m██████████████████████████████████████████████████████████████████▉             \u001b[0m| 251/300 [01:18<00:14,  3.28it/s]\u001b[0m"
     ]
    },
    {
     "name": "stdout",
     "output_type": "stream",
     "text": [
      "Validation F1 in epoch250 : 0.8379\n",
      "Validation loss in epoch250 : 8205.1406\n"
     ]
    },
    {
     "name": "stderr",
     "output_type": "stream",
     "text": [
      " 87%|\u001b[32m█████████████████████████████████████████████████████████████████████▌          \u001b[0m| 261/300 [01:21<00:11,  3.32it/s]\u001b[0m"
     ]
    },
    {
     "name": "stdout",
     "output_type": "stream",
     "text": [
      "Validation F1 in epoch260 : 0.8405\n",
      "Validation loss in epoch260 : 8565.1221\n"
     ]
    },
    {
     "name": "stderr",
     "output_type": "stream",
     "text": [
      " 90%|\u001b[32m████████████████████████████████████████████████████████████████████████▎       \u001b[0m| 271/300 [01:25<00:10,  2.88it/s]\u001b[0m"
     ]
    },
    {
     "name": "stdout",
     "output_type": "stream",
     "text": [
      "Validation F1 in epoch270 : 0.8379\n",
      "Validation loss in epoch270 : 8597.4307\n"
     ]
    },
    {
     "name": "stderr",
     "output_type": "stream",
     "text": [
      " 94%|\u001b[32m██████████████████████████████████████████████████████████████████████████▉     \u001b[0m| 281/300 [01:28<00:05,  3.32it/s]\u001b[0m"
     ]
    },
    {
     "name": "stdout",
     "output_type": "stream",
     "text": [
      "Validation F1 in epoch280 : 0.8371\n",
      "Validation loss in epoch280 : 8870.2188\n"
     ]
    },
    {
     "name": "stderr",
     "output_type": "stream",
     "text": [
      " 97%|\u001b[32m█████████████████████████████████████████████████████████████████████████████▌  \u001b[0m| 291/300 [01:31<00:02,  3.20it/s]\u001b[0m"
     ]
    },
    {
     "name": "stdout",
     "output_type": "stream",
     "text": [
      "Validation F1 in epoch290 : 0.8362\n",
      "Validation loss in epoch290 : 8908.0674\n"
     ]
    },
    {
     "name": "stderr",
     "output_type": "stream",
     "text": [
      "100%|\u001b[32m████████████████████████████████████████████████████████████████████████████████\u001b[0m| 300/300 [01:33<00:00,  3.20it/s]\u001b[0m\n",
      "  0%|\u001b[32m▎                                                                                 \u001b[0m| 1/300 [00:00<01:40,  2.97it/s]\u001b[0m"
     ]
    },
    {
     "name": "stdout",
     "output_type": "stream",
     "text": [
      "Validation F1 in epoch0 : 0.1347\n",
      "Validation loss in epoch0 : 62511.5273\n"
     ]
    },
    {
     "name": "stderr",
     "output_type": "stream",
     "text": [
      "  4%|\u001b[32m██▉                                                                              \u001b[0m| 11/300 [00:03<01:30,  3.19it/s]\u001b[0m"
     ]
    },
    {
     "name": "stdout",
     "output_type": "stream",
     "text": [
      "Validation F1 in epoch10 : 0.1329\n",
      "Validation loss in epoch10 : 62520.5273\n"
     ]
    },
    {
     "name": "stderr",
     "output_type": "stream",
     "text": [
      "  7%|\u001b[32m█████▋                                                                           \u001b[0m| 21/300 [00:06<01:22,  3.38it/s]\u001b[0m"
     ]
    },
    {
     "name": "stdout",
     "output_type": "stream",
     "text": [
      "Validation F1 in epoch20 : 0.5892\n",
      "Validation loss in epoch20 : 24078.1621\n"
     ]
    },
    {
     "name": "stderr",
     "output_type": "stream",
     "text": [
      " 10%|\u001b[32m████████▎                                                                        \u001b[0m| 31/300 [00:09<01:20,  3.33it/s]\u001b[0m"
     ]
    },
    {
     "name": "stdout",
     "output_type": "stream",
     "text": [
      "Validation F1 in epoch30 : 0.5836\n",
      "Validation loss in epoch30 : 18494.4102\n"
     ]
    },
    {
     "name": "stderr",
     "output_type": "stream",
     "text": [
      " 14%|\u001b[32m███████████                                                                      \u001b[0m| 41/300 [00:12<01:18,  3.32it/s]\u001b[0m"
     ]
    },
    {
     "name": "stdout",
     "output_type": "stream",
     "text": [
      "Validation F1 in epoch40 : 0.6178\n",
      "Validation loss in epoch40 : 14174.8936\n"
     ]
    },
    {
     "name": "stderr",
     "output_type": "stream",
     "text": [
      " 17%|\u001b[32m█████████████▊                                                                   \u001b[0m| 51/300 [00:15<01:30,  2.74it/s]\u001b[0m"
     ]
    },
    {
     "name": "stdout",
     "output_type": "stream",
     "text": [
      "Validation F1 in epoch50 : 0.7219\n",
      "Validation loss in epoch50 : 11198.4375\n"
     ]
    },
    {
     "name": "stderr",
     "output_type": "stream",
     "text": [
      " 20%|\u001b[32m████████████████▍                                                                \u001b[0m| 61/300 [00:19<01:17,  3.08it/s]\u001b[0m"
     ]
    },
    {
     "name": "stdout",
     "output_type": "stream",
     "text": [
      "Validation F1 in epoch60 : 0.7693\n",
      "Validation loss in epoch60 : 9806.6729\n"
     ]
    },
    {
     "name": "stderr",
     "output_type": "stream",
     "text": [
      " 24%|\u001b[32m███████████████████▏                                                             \u001b[0m| 71/300 [00:22<01:10,  3.25it/s]\u001b[0m"
     ]
    },
    {
     "name": "stdout",
     "output_type": "stream",
     "text": [
      "Validation F1 in epoch70 : 0.7932\n",
      "Validation loss in epoch70 : 9159.4727\n"
     ]
    },
    {
     "name": "stderr",
     "output_type": "stream",
     "text": [
      " 27%|\u001b[32m█████████████████████▊                                                           \u001b[0m| 81/300 [00:25<01:10,  3.10it/s]\u001b[0m"
     ]
    },
    {
     "name": "stdout",
     "output_type": "stream",
     "text": [
      "Validation F1 in epoch80 : 0.8030\n",
      "Validation loss in epoch80 : 8774.1494\n"
     ]
    },
    {
     "name": "stderr",
     "output_type": "stream",
     "text": [
      " 30%|\u001b[32m████████████████████████▌                                                        \u001b[0m| 91/300 [00:28<01:00,  3.46it/s]\u001b[0m"
     ]
    },
    {
     "name": "stdout",
     "output_type": "stream",
     "text": [
      "Validation F1 in epoch90 : 0.8122\n",
      "Validation loss in epoch90 : 8531.6738\n"
     ]
    },
    {
     "name": "stderr",
     "output_type": "stream",
     "text": [
      " 34%|\u001b[32m██████████████████████████▉                                                     \u001b[0m| 101/300 [00:31<01:00,  3.32it/s]\u001b[0m"
     ]
    },
    {
     "name": "stdout",
     "output_type": "stream",
     "text": [
      "Validation F1 in epoch100 : 0.8143\n",
      "Validation loss in epoch100 : 8424.7441\n"
     ]
    },
    {
     "name": "stderr",
     "output_type": "stream",
     "text": [
      " 37%|\u001b[32m█████████████████████████████▌                                                  \u001b[0m| 111/300 [00:34<00:59,  3.20it/s]\u001b[0m"
     ]
    },
    {
     "name": "stdout",
     "output_type": "stream",
     "text": [
      "Validation F1 in epoch110 : 0.8161\n",
      "Validation loss in epoch110 : 8393.7324\n"
     ]
    },
    {
     "name": "stderr",
     "output_type": "stream",
     "text": [
      " 40%|\u001b[32m████████████████████████████████▎                                               \u001b[0m| 121/300 [00:37<00:55,  3.25it/s]\u001b[0m"
     ]
    },
    {
     "name": "stdout",
     "output_type": "stream",
     "text": [
      "Validation F1 in epoch120 : 0.8183\n",
      "Validation loss in epoch120 : 8267.1455\n"
     ]
    },
    {
     "name": "stderr",
     "output_type": "stream",
     "text": [
      " 44%|\u001b[32m██████████████████████████████████▉                                             \u001b[0m| 131/300 [00:40<00:51,  3.29it/s]\u001b[0m"
     ]
    },
    {
     "name": "stdout",
     "output_type": "stream",
     "text": [
      "Validation F1 in epoch130 : 0.8173\n",
      "Validation loss in epoch130 : 8330.3564\n"
     ]
    },
    {
     "name": "stderr",
     "output_type": "stream",
     "text": [
      " 47%|\u001b[32m█████████████████████████████████████▌                                          \u001b[0m| 141/300 [00:44<00:54,  2.94it/s]\u001b[0m"
     ]
    },
    {
     "name": "stdout",
     "output_type": "stream",
     "text": [
      "Validation F1 in epoch140 : 0.8204\n",
      "Validation loss in epoch140 : 8331.4473\n"
     ]
    },
    {
     "name": "stderr",
     "output_type": "stream",
     "text": [
      " 50%|\u001b[32m████████████████████████████████████████▎                                       \u001b[0m| 151/300 [00:47<00:46,  3.22it/s]\u001b[0m"
     ]
    },
    {
     "name": "stdout",
     "output_type": "stream",
     "text": [
      "Validation F1 in epoch150 : 0.8202\n",
      "Validation loss in epoch150 : 8270.3066\n"
     ]
    },
    {
     "name": "stderr",
     "output_type": "stream",
     "text": [
      " 54%|\u001b[32m██████████████████████████████████████████▉                                     \u001b[0m| 161/300 [00:50<00:44,  3.12it/s]\u001b[0m"
     ]
    },
    {
     "name": "stdout",
     "output_type": "stream",
     "text": [
      "Validation F1 in epoch160 : 0.8191\n",
      "Validation loss in epoch160 : 8296.4443\n"
     ]
    },
    {
     "name": "stderr",
     "output_type": "stream",
     "text": [
      " 57%|\u001b[32m█████████████████████████████████████████████▌                                  \u001b[0m| 171/300 [00:53<00:39,  3.26it/s]\u001b[0m"
     ]
    },
    {
     "name": "stdout",
     "output_type": "stream",
     "text": [
      "Validation F1 in epoch170 : 0.8185\n",
      "Validation loss in epoch170 : 8272.3867\n"
     ]
    },
    {
     "name": "stderr",
     "output_type": "stream",
     "text": [
      " 60%|\u001b[32m████████████████████████████████████████████████▎                               \u001b[0m| 181/300 [00:56<00:38,  3.08it/s]\u001b[0m"
     ]
    },
    {
     "name": "stdout",
     "output_type": "stream",
     "text": [
      "Validation F1 in epoch180 : 0.8172\n",
      "Validation loss in epoch180 : 8385.1289\n"
     ]
    },
    {
     "name": "stderr",
     "output_type": "stream",
     "text": [
      " 64%|\u001b[32m██████████████████████████████████████████████████▉                             \u001b[0m| 191/300 [00:59<00:34,  3.15it/s]\u001b[0m"
     ]
    },
    {
     "name": "stdout",
     "output_type": "stream",
     "text": [
      "Validation F1 in epoch190 : 0.8207\n",
      "Validation loss in epoch190 : 8415.2617\n"
     ]
    },
    {
     "name": "stderr",
     "output_type": "stream",
     "text": [
      " 67%|\u001b[32m█████████████████████████████████████████████████████▌                          \u001b[0m| 201/300 [01:02<00:31,  3.18it/s]\u001b[0m"
     ]
    },
    {
     "name": "stdout",
     "output_type": "stream",
     "text": [
      "Validation F1 in epoch200 : 0.8214\n",
      "Validation loss in epoch200 : 8529.3486\n"
     ]
    },
    {
     "name": "stderr",
     "output_type": "stream",
     "text": [
      " 70%|\u001b[32m████████████████████████████████████████████████████████▎                       \u001b[0m| 211/300 [01:06<00:27,  3.21it/s]\u001b[0m"
     ]
    },
    {
     "name": "stdout",
     "output_type": "stream",
     "text": [
      "Validation F1 in epoch210 : 0.8193\n",
      "Validation loss in epoch210 : 8585.8047\n"
     ]
    },
    {
     "name": "stderr",
     "output_type": "stream",
     "text": [
      " 74%|\u001b[32m██████████████████████████████████████████████████████████▉                     \u001b[0m| 221/300 [01:09<00:24,  3.17it/s]\u001b[0m"
     ]
    },
    {
     "name": "stdout",
     "output_type": "stream",
     "text": [
      "Validation F1 in epoch220 : 0.8194\n",
      "Validation loss in epoch220 : 8667.1797\n"
     ]
    },
    {
     "name": "stderr",
     "output_type": "stream",
     "text": [
      " 77%|\u001b[32m█████████████████████████████████████████████████████████████▌                  \u001b[0m| 231/300 [01:12<00:21,  3.19it/s]\u001b[0m"
     ]
    },
    {
     "name": "stdout",
     "output_type": "stream",
     "text": [
      "Validation F1 in epoch230 : 0.8187\n",
      "Validation loss in epoch230 : 8723.6699\n"
     ]
    },
    {
     "name": "stderr",
     "output_type": "stream",
     "text": [
      " 80%|\u001b[32m████████████████████████████████████████████████████████████████▎               \u001b[0m| 241/300 [01:15<00:18,  3.27it/s]\u001b[0m"
     ]
    },
    {
     "name": "stdout",
     "output_type": "stream",
     "text": [
      "Validation F1 in epoch240 : 0.8146\n",
      "Validation loss in epoch240 : 8782.5518\n"
     ]
    },
    {
     "name": "stderr",
     "output_type": "stream",
     "text": [
      " 84%|\u001b[32m██████████████████████████████████████████████████████████████████▉             \u001b[0m| 251/300 [01:18<00:15,  3.19it/s]\u001b[0m"
     ]
    },
    {
     "name": "stdout",
     "output_type": "stream",
     "text": [
      "Validation F1 in epoch250 : 0.8142\n",
      "Validation loss in epoch250 : 8971.3203\n"
     ]
    },
    {
     "name": "stderr",
     "output_type": "stream",
     "text": [
      " 87%|\u001b[32m█████████████████████████████████████████████████████████████████████▌          \u001b[0m| 261/300 [01:21<00:12,  3.12it/s]\u001b[0m"
     ]
    },
    {
     "name": "stdout",
     "output_type": "stream",
     "text": [
      "Validation F1 in epoch260 : 0.8143\n",
      "Validation loss in epoch260 : 9161.4805\n"
     ]
    },
    {
     "name": "stderr",
     "output_type": "stream",
     "text": [
      " 90%|\u001b[32m████████████████████████████████████████████████████████████████████████▎       \u001b[0m| 271/300 [01:24<00:09,  3.22it/s]\u001b[0m"
     ]
    },
    {
     "name": "stdout",
     "output_type": "stream",
     "text": [
      "Validation F1 in epoch270 : 0.8138\n",
      "Validation loss in epoch270 : 9165.2012\n"
     ]
    },
    {
     "name": "stderr",
     "output_type": "stream",
     "text": [
      " 94%|\u001b[32m██████████████████████████████████████████████████████████████████████████▉     \u001b[0m| 281/300 [01:28<00:06,  3.12it/s]\u001b[0m"
     ]
    },
    {
     "name": "stdout",
     "output_type": "stream",
     "text": [
      "Validation F1 in epoch280 : 0.8126\n",
      "Validation loss in epoch280 : 9421.0742\n"
     ]
    },
    {
     "name": "stderr",
     "output_type": "stream",
     "text": [
      " 97%|\u001b[32m█████████████████████████████████████████████████████████████████████████████▌  \u001b[0m| 291/300 [01:31<00:02,  3.06it/s]\u001b[0m"
     ]
    },
    {
     "name": "stdout",
     "output_type": "stream",
     "text": [
      "Validation F1 in epoch290 : 0.8084\n",
      "Validation loss in epoch290 : 9510.4922\n"
     ]
    },
    {
     "name": "stderr",
     "output_type": "stream",
     "text": [
      "100%|\u001b[32m████████████████████████████████████████████████████████████████████████████████\u001b[0m| 300/300 [01:33<00:00,  3.19it/s]\u001b[0m\n",
      "  0%|\u001b[32m▎                                                                                 \u001b[0m| 1/300 [00:00<01:22,  3.64it/s]\u001b[0m"
     ]
    },
    {
     "name": "stdout",
     "output_type": "stream",
     "text": [
      "Validation F1 in epoch0 : 0.0736\n",
      "Validation loss in epoch0 : 62222.1406\n"
     ]
    },
    {
     "name": "stderr",
     "output_type": "stream",
     "text": [
      "  4%|\u001b[32m██▉                                                                              \u001b[0m| 11/300 [00:03<01:28,  3.26it/s]\u001b[0m"
     ]
    },
    {
     "name": "stdout",
     "output_type": "stream",
     "text": [
      "Validation F1 in epoch10 : 0.0736\n",
      "Validation loss in epoch10 : 62222.1406\n"
     ]
    },
    {
     "name": "stderr",
     "output_type": "stream",
     "text": [
      "  7%|\u001b[32m█████▋                                                                           \u001b[0m| 21/300 [00:06<01:25,  3.24it/s]\u001b[0m"
     ]
    },
    {
     "name": "stdout",
     "output_type": "stream",
     "text": [
      "Validation F1 in epoch20 : 0.5975\n",
      "Validation loss in epoch20 : 21326.1523\n"
     ]
    },
    {
     "name": "stderr",
     "output_type": "stream",
     "text": [
      " 10%|\u001b[32m████████▎                                                                        \u001b[0m| 31/300 [00:09<01:26,  3.12it/s]\u001b[0m"
     ]
    },
    {
     "name": "stdout",
     "output_type": "stream",
     "text": [
      "Validation F1 in epoch30 : 0.6521\n",
      "Validation loss in epoch30 : 16354.7842\n"
     ]
    },
    {
     "name": "stderr",
     "output_type": "stream",
     "text": [
      " 14%|\u001b[32m███████████                                                                      \u001b[0m| 41/300 [00:12<01:14,  3.50it/s]\u001b[0m"
     ]
    },
    {
     "name": "stdout",
     "output_type": "stream",
     "text": [
      "Validation F1 in epoch40 : 0.7491\n",
      "Validation loss in epoch40 : 11445.7246\n"
     ]
    },
    {
     "name": "stderr",
     "output_type": "stream",
     "text": [
      " 17%|\u001b[32m█████████████▊                                                                   \u001b[0m| 51/300 [00:15<01:19,  3.12it/s]\u001b[0m"
     ]
    },
    {
     "name": "stdout",
     "output_type": "stream",
     "text": [
      "Validation F1 in epoch50 : 0.8094\n",
      "Validation loss in epoch50 : 9507.7812\n"
     ]
    },
    {
     "name": "stderr",
     "output_type": "stream",
     "text": [
      " 20%|\u001b[32m████████████████▍                                                                \u001b[0m| 61/300 [00:18<01:17,  3.10it/s]\u001b[0m"
     ]
    },
    {
     "name": "stdout",
     "output_type": "stream",
     "text": [
      "Validation F1 in epoch60 : 0.8309\n",
      "Validation loss in epoch60 : 8148.3359\n"
     ]
    },
    {
     "name": "stderr",
     "output_type": "stream",
     "text": [
      " 24%|\u001b[32m███████████████████▏                                                             \u001b[0m| 71/300 [00:22<01:08,  3.34it/s]\u001b[0m"
     ]
    },
    {
     "name": "stdout",
     "output_type": "stream",
     "text": [
      "Validation F1 in epoch70 : 0.8442\n",
      "Validation loss in epoch70 : 7775.6758\n"
     ]
    },
    {
     "name": "stderr",
     "output_type": "stream",
     "text": [
      " 27%|\u001b[32m█████████████████████▊                                                           \u001b[0m| 81/300 [00:25<01:06,  3.31it/s]\u001b[0m"
     ]
    },
    {
     "name": "stdout",
     "output_type": "stream",
     "text": [
      "Validation F1 in epoch80 : 0.8496\n",
      "Validation loss in epoch80 : 7647.3438\n"
     ]
    },
    {
     "name": "stderr",
     "output_type": "stream",
     "text": [
      " 30%|\u001b[32m████████████████████████▌                                                        \u001b[0m| 91/300 [00:28<01:02,  3.32it/s]\u001b[0m"
     ]
    },
    {
     "name": "stdout",
     "output_type": "stream",
     "text": [
      "Validation F1 in epoch90 : 0.8535\n",
      "Validation loss in epoch90 : 7671.7949\n"
     ]
    },
    {
     "name": "stderr",
     "output_type": "stream",
     "text": [
      " 34%|\u001b[32m██████████████████████████▉                                                     \u001b[0m| 101/300 [00:31<01:01,  3.24it/s]\u001b[0m"
     ]
    },
    {
     "name": "stdout",
     "output_type": "stream",
     "text": [
      "Validation F1 in epoch100 : 0.8573\n",
      "Validation loss in epoch100 : 7762.4619\n"
     ]
    },
    {
     "name": "stderr",
     "output_type": "stream",
     "text": [
      " 37%|\u001b[32m█████████████████████████████▌                                                  \u001b[0m| 111/300 [00:34<01:01,  3.07it/s]\u001b[0m"
     ]
    },
    {
     "name": "stdout",
     "output_type": "stream",
     "text": [
      "Validation F1 in epoch110 : 0.8587\n",
      "Validation loss in epoch110 : 7860.8760\n"
     ]
    },
    {
     "name": "stderr",
     "output_type": "stream",
     "text": [
      " 40%|\u001b[32m████████████████████████████████▎                                               \u001b[0m| 121/300 [00:37<00:57,  3.14it/s]\u001b[0m"
     ]
    },
    {
     "name": "stdout",
     "output_type": "stream",
     "text": [
      "Validation F1 in epoch120 : 0.8593\n",
      "Validation loss in epoch120 : 7990.5762\n"
     ]
    },
    {
     "name": "stderr",
     "output_type": "stream",
     "text": [
      " 44%|\u001b[32m██████████████████████████████████▉                                             \u001b[0m| 131/300 [00:40<00:53,  3.17it/s]\u001b[0m"
     ]
    },
    {
     "name": "stdout",
     "output_type": "stream",
     "text": [
      "Validation F1 in epoch130 : 0.8599\n",
      "Validation loss in epoch130 : 8138.2944\n"
     ]
    },
    {
     "name": "stderr",
     "output_type": "stream",
     "text": [
      " 47%|\u001b[32m█████████████████████████████████████▌                                          \u001b[0m| 141/300 [00:43<00:48,  3.30it/s]\u001b[0m"
     ]
    },
    {
     "name": "stdout",
     "output_type": "stream",
     "text": [
      "Validation F1 in epoch140 : 0.8603\n",
      "Validation loss in epoch140 : 8300.6143\n"
     ]
    },
    {
     "name": "stderr",
     "output_type": "stream",
     "text": [
      " 50%|\u001b[32m████████████████████████████████████████▎                                       \u001b[0m| 151/300 [00:46<00:45,  3.31it/s]\u001b[0m"
     ]
    },
    {
     "name": "stdout",
     "output_type": "stream",
     "text": [
      "Validation F1 in epoch150 : 0.8611\n",
      "Validation loss in epoch150 : 8462.8477\n"
     ]
    },
    {
     "name": "stderr",
     "output_type": "stream",
     "text": [
      " 54%|\u001b[32m██████████████████████████████████████████▉                                     \u001b[0m| 161/300 [00:49<00:42,  3.28it/s]\u001b[0m"
     ]
    },
    {
     "name": "stdout",
     "output_type": "stream",
     "text": [
      "Validation F1 in epoch160 : 0.8609\n",
      "Validation loss in epoch160 : 8621.5723\n"
     ]
    },
    {
     "name": "stderr",
     "output_type": "stream",
     "text": [
      " 57%|\u001b[32m█████████████████████████████████████████████▌                                  \u001b[0m| 171/300 [00:52<00:40,  3.17it/s]\u001b[0m"
     ]
    },
    {
     "name": "stdout",
     "output_type": "stream",
     "text": [
      "Validation F1 in epoch170 : 0.8610\n",
      "Validation loss in epoch170 : 8774.8330\n"
     ]
    },
    {
     "name": "stderr",
     "output_type": "stream",
     "text": [
      " 60%|\u001b[32m████████████████████████████████████████████████▎                               \u001b[0m| 181/300 [00:55<00:36,  3.27it/s]\u001b[0m"
     ]
    },
    {
     "name": "stdout",
     "output_type": "stream",
     "text": [
      "Validation F1 in epoch180 : 0.8612\n",
      "Validation loss in epoch180 : 8923.3008\n"
     ]
    },
    {
     "name": "stderr",
     "output_type": "stream",
     "text": [
      " 64%|\u001b[32m██████████████████████████████████████████████████▉                             \u001b[0m| 191/300 [00:59<00:34,  3.15it/s]\u001b[0m"
     ]
    },
    {
     "name": "stdout",
     "output_type": "stream",
     "text": [
      "Validation F1 in epoch190 : 0.8612\n",
      "Validation loss in epoch190 : 9066.1416\n"
     ]
    },
    {
     "name": "stderr",
     "output_type": "stream",
     "text": [
      " 67%|\u001b[32m█████████████████████████████████████████████████████▌                          \u001b[0m| 201/300 [01:02<00:32,  3.03it/s]\u001b[0m"
     ]
    },
    {
     "name": "stdout",
     "output_type": "stream",
     "text": [
      "Validation F1 in epoch200 : 0.8611\n",
      "Validation loss in epoch200 : 9204.4951\n"
     ]
    },
    {
     "name": "stderr",
     "output_type": "stream",
     "text": [
      " 70%|\u001b[32m████████████████████████████████████████████████████████▎                       \u001b[0m| 211/300 [01:05<00:25,  3.43it/s]\u001b[0m"
     ]
    },
    {
     "name": "stdout",
     "output_type": "stream",
     "text": [
      "Validation F1 in epoch210 : 0.8609\n",
      "Validation loss in epoch210 : 9337.2520\n"
     ]
    },
    {
     "name": "stderr",
     "output_type": "stream",
     "text": [
      " 74%|\u001b[32m██████████████████████████████████████████████████████████▉                     \u001b[0m| 221/300 [01:08<00:24,  3.20it/s]\u001b[0m"
     ]
    },
    {
     "name": "stdout",
     "output_type": "stream",
     "text": [
      "Validation F1 in epoch220 : 0.8606\n",
      "Validation loss in epoch220 : 9465.9395\n"
     ]
    },
    {
     "name": "stderr",
     "output_type": "stream",
     "text": [
      " 77%|\u001b[32m█████████████████████████████████████████████████████████████▌                  \u001b[0m| 231/300 [01:11<00:20,  3.32it/s]\u001b[0m"
     ]
    },
    {
     "name": "stdout",
     "output_type": "stream",
     "text": [
      "Validation F1 in epoch230 : 0.8608\n",
      "Validation loss in epoch230 : 9589.4346\n"
     ]
    },
    {
     "name": "stderr",
     "output_type": "stream",
     "text": [
      " 80%|\u001b[32m████████████████████████████████████████████████████████████████▎               \u001b[0m| 241/300 [01:14<00:17,  3.31it/s]\u001b[0m"
     ]
    },
    {
     "name": "stdout",
     "output_type": "stream",
     "text": [
      "Validation F1 in epoch240 : 0.8606\n",
      "Validation loss in epoch240 : 9708.5576\n"
     ]
    },
    {
     "name": "stderr",
     "output_type": "stream",
     "text": [
      " 84%|\u001b[32m██████████████████████████████████████████████████████████████████▉             \u001b[0m| 251/300 [01:17<00:15,  3.20it/s]\u001b[0m"
     ]
    },
    {
     "name": "stdout",
     "output_type": "stream",
     "text": [
      "Validation F1 in epoch250 : 0.8602\n",
      "Validation loss in epoch250 : 9825.7900\n"
     ]
    },
    {
     "name": "stderr",
     "output_type": "stream",
     "text": [
      " 87%|\u001b[32m█████████████████████████████████████████████████████████████████████▌          \u001b[0m| 261/300 [01:20<00:12,  3.19it/s]\u001b[0m"
     ]
    },
    {
     "name": "stdout",
     "output_type": "stream",
     "text": [
      "Validation F1 in epoch260 : 0.8605\n",
      "Validation loss in epoch260 : 9936.0596\n"
     ]
    },
    {
     "name": "stderr",
     "output_type": "stream",
     "text": [
      " 90%|\u001b[32m████████████████████████████████████████████████████████████████████████▎       \u001b[0m| 271/300 [01:23<00:09,  3.20it/s]\u001b[0m"
     ]
    },
    {
     "name": "stdout",
     "output_type": "stream",
     "text": [
      "Validation F1 in epoch270 : 0.8604\n",
      "Validation loss in epoch270 : 10041.5215\n"
     ]
    },
    {
     "name": "stderr",
     "output_type": "stream",
     "text": [
      " 94%|\u001b[32m██████████████████████████████████████████████████████████████████████████▉     \u001b[0m| 281/300 [01:26<00:05,  3.38it/s]\u001b[0m"
     ]
    },
    {
     "name": "stdout",
     "output_type": "stream",
     "text": [
      "Validation F1 in epoch280 : 0.8605\n",
      "Validation loss in epoch280 : 10142.5293\n"
     ]
    },
    {
     "name": "stderr",
     "output_type": "stream",
     "text": [
      " 97%|\u001b[32m█████████████████████████████████████████████████████████████████████████████▌  \u001b[0m| 291/300 [01:29<00:02,  3.35it/s]\u001b[0m"
     ]
    },
    {
     "name": "stdout",
     "output_type": "stream",
     "text": [
      "Validation F1 in epoch290 : 0.8606\n",
      "Validation loss in epoch290 : 10239.2246\n"
     ]
    },
    {
     "name": "stderr",
     "output_type": "stream",
     "text": [
      "100%|\u001b[32m████████████████████████████████████████████████████████████████████████████████\u001b[0m| 300/300 [01:32<00:00,  3.24it/s]\u001b[0m\n",
      "  0%|\u001b[32m▎                                                                                 \u001b[0m| 1/300 [00:00<01:46,  2.80it/s]\u001b[0m"
     ]
    },
    {
     "name": "stdout",
     "output_type": "stream",
     "text": [
      "Validation F1 in epoch0 : 0.1516\n",
      "Validation loss in epoch0 : 62490.7422\n"
     ]
    },
    {
     "name": "stderr",
     "output_type": "stream",
     "text": [
      "  4%|\u001b[32m██▉                                                                              \u001b[0m| 11/300 [00:03<01:25,  3.38it/s]\u001b[0m"
     ]
    },
    {
     "name": "stdout",
     "output_type": "stream",
     "text": [
      "Validation F1 in epoch10 : 0.1485\n",
      "Validation loss in epoch10 : 62489.7656\n"
     ]
    },
    {
     "name": "stderr",
     "output_type": "stream",
     "text": [
      "  7%|\u001b[32m█████▋                                                                           \u001b[0m| 21/300 [00:06<01:25,  3.27it/s]\u001b[0m"
     ]
    },
    {
     "name": "stdout",
     "output_type": "stream",
     "text": [
      "Validation F1 in epoch20 : 0.5653\n",
      "Validation loss in epoch20 : 24576.3770\n"
     ]
    },
    {
     "name": "stderr",
     "output_type": "stream",
     "text": [
      " 10%|\u001b[32m████████▎                                                                        \u001b[0m| 31/300 [00:09<01:21,  3.29it/s]\u001b[0m"
     ]
    },
    {
     "name": "stdout",
     "output_type": "stream",
     "text": [
      "Validation F1 in epoch30 : 0.6050\n",
      "Validation loss in epoch30 : 17067.9297\n"
     ]
    },
    {
     "name": "stderr",
     "output_type": "stream",
     "text": [
      " 14%|\u001b[32m███████████                                                                      \u001b[0m| 41/300 [00:12<01:22,  3.16it/s]\u001b[0m"
     ]
    },
    {
     "name": "stdout",
     "output_type": "stream",
     "text": [
      "Validation F1 in epoch40 : 0.6379\n",
      "Validation loss in epoch40 : 13023.2646\n"
     ]
    },
    {
     "name": "stderr",
     "output_type": "stream",
     "text": [
      " 17%|\u001b[32m█████████████▊                                                                   \u001b[0m| 51/300 [00:15<01:14,  3.36it/s]\u001b[0m"
     ]
    },
    {
     "name": "stdout",
     "output_type": "stream",
     "text": [
      "Validation F1 in epoch50 : 0.7353\n",
      "Validation loss in epoch50 : 10247.3467\n"
     ]
    },
    {
     "name": "stderr",
     "output_type": "stream",
     "text": [
      " 20%|\u001b[32m████████████████▍                                                                \u001b[0m| 61/300 [00:18<01:12,  3.28it/s]\u001b[0m"
     ]
    },
    {
     "name": "stdout",
     "output_type": "stream",
     "text": [
      "Validation F1 in epoch60 : 0.7824\n",
      "Validation loss in epoch60 : 8822.3271\n"
     ]
    },
    {
     "name": "stderr",
     "output_type": "stream",
     "text": [
      " 24%|\u001b[32m███████████████████▏                                                             \u001b[0m| 71/300 [00:21<01:08,  3.33it/s]\u001b[0m"
     ]
    },
    {
     "name": "stdout",
     "output_type": "stream",
     "text": [
      "Validation F1 in epoch70 : 0.8107\n",
      "Validation loss in epoch70 : 7989.2432\n"
     ]
    },
    {
     "name": "stderr",
     "output_type": "stream",
     "text": [
      " 27%|\u001b[32m█████████████████████▊                                                           \u001b[0m| 81/300 [00:24<01:08,  3.20it/s]\u001b[0m"
     ]
    },
    {
     "name": "stdout",
     "output_type": "stream",
     "text": [
      "Validation F1 in epoch80 : 0.8183\n",
      "Validation loss in epoch80 : 7569.2627\n"
     ]
    },
    {
     "name": "stderr",
     "output_type": "stream",
     "text": [
      " 30%|\u001b[32m████████████████████████▌                                                        \u001b[0m| 91/300 [00:28<01:02,  3.33it/s]\u001b[0m"
     ]
    },
    {
     "name": "stdout",
     "output_type": "stream",
     "text": [
      "Validation F1 in epoch90 : 0.8291\n",
      "Validation loss in epoch90 : 7235.0977\n"
     ]
    },
    {
     "name": "stderr",
     "output_type": "stream",
     "text": [
      " 34%|\u001b[32m██████████████████████████▉                                                     \u001b[0m| 101/300 [00:31<01:01,  3.21it/s]\u001b[0m"
     ]
    },
    {
     "name": "stdout",
     "output_type": "stream",
     "text": [
      "Validation F1 in epoch100 : 0.8370\n",
      "Validation loss in epoch100 : 7076.2627\n"
     ]
    },
    {
     "name": "stderr",
     "output_type": "stream",
     "text": [
      " 37%|\u001b[32m█████████████████████████████▌                                                  \u001b[0m| 111/300 [00:34<01:00,  3.13it/s]\u001b[0m"
     ]
    },
    {
     "name": "stdout",
     "output_type": "stream",
     "text": [
      "Validation F1 in epoch110 : 0.8362\n",
      "Validation loss in epoch110 : 7070.9287\n"
     ]
    },
    {
     "name": "stderr",
     "output_type": "stream",
     "text": [
      " 40%|\u001b[32m████████████████████████████████▎                                               \u001b[0m| 121/300 [00:37<00:52,  3.39it/s]\u001b[0m"
     ]
    },
    {
     "name": "stdout",
     "output_type": "stream",
     "text": [
      "Validation F1 in epoch120 : 0.8381\n",
      "Validation loss in epoch120 : 6972.5835\n"
     ]
    },
    {
     "name": "stderr",
     "output_type": "stream",
     "text": [
      " 44%|\u001b[32m██████████████████████████████████▉                                             \u001b[0m| 131/300 [00:40<00:49,  3.43it/s]\u001b[0m"
     ]
    },
    {
     "name": "stdout",
     "output_type": "stream",
     "text": [
      "Validation F1 in epoch130 : 0.8421\n",
      "Validation loss in epoch130 : 6973.0605\n"
     ]
    },
    {
     "name": "stderr",
     "output_type": "stream",
     "text": [
      " 47%|\u001b[32m█████████████████████████████████████▌                                          \u001b[0m| 141/300 [00:43<00:48,  3.26it/s]\u001b[0m"
     ]
    },
    {
     "name": "stdout",
     "output_type": "stream",
     "text": [
      "Validation F1 in epoch140 : 0.8399\n",
      "Validation loss in epoch140 : 7020.7998\n"
     ]
    },
    {
     "name": "stderr",
     "output_type": "stream",
     "text": [
      " 50%|\u001b[32m████████████████████████████████████████▎                                       \u001b[0m| 151/300 [00:46<00:44,  3.36it/s]\u001b[0m"
     ]
    },
    {
     "name": "stdout",
     "output_type": "stream",
     "text": [
      "Validation F1 in epoch150 : 0.8436\n",
      "Validation loss in epoch150 : 6971.3066\n"
     ]
    },
    {
     "name": "stderr",
     "output_type": "stream",
     "text": [
      " 54%|\u001b[32m██████████████████████████████████████████▉                                     \u001b[0m| 161/300 [00:49<00:43,  3.19it/s]\u001b[0m"
     ]
    },
    {
     "name": "stdout",
     "output_type": "stream",
     "text": [
      "Validation F1 in epoch160 : 0.8421\n",
      "Validation loss in epoch160 : 7034.2656\n"
     ]
    },
    {
     "name": "stderr",
     "output_type": "stream",
     "text": [
      " 57%|\u001b[32m█████████████████████████████████████████████▌                                  \u001b[0m| 171/300 [00:53<00:39,  3.30it/s]\u001b[0m"
     ]
    },
    {
     "name": "stdout",
     "output_type": "stream",
     "text": [
      "Validation F1 in epoch170 : 0.8434\n",
      "Validation loss in epoch170 : 7061.0244\n"
     ]
    },
    {
     "name": "stderr",
     "output_type": "stream",
     "text": [
      " 60%|\u001b[32m████████████████████████████████████████████████▎                               \u001b[0m| 181/300 [00:56<00:37,  3.17it/s]\u001b[0m"
     ]
    },
    {
     "name": "stdout",
     "output_type": "stream",
     "text": [
      "Validation F1 in epoch180 : 0.8400\n",
      "Validation loss in epoch180 : 7167.5762\n"
     ]
    },
    {
     "name": "stderr",
     "output_type": "stream",
     "text": [
      " 64%|\u001b[32m██████████████████████████████████████████████████▉                             \u001b[0m| 191/300 [00:59<00:32,  3.36it/s]\u001b[0m"
     ]
    },
    {
     "name": "stdout",
     "output_type": "stream",
     "text": [
      "Validation F1 in epoch190 : 0.8386\n",
      "Validation loss in epoch190 : 7348.8223\n"
     ]
    },
    {
     "name": "stderr",
     "output_type": "stream",
     "text": [
      " 67%|\u001b[32m█████████████████████████████████████████████████████▌                          \u001b[0m| 201/300 [01:02<00:33,  3.00it/s]\u001b[0m"
     ]
    },
    {
     "name": "stdout",
     "output_type": "stream",
     "text": [
      "Validation F1 in epoch200 : 0.8401\n",
      "Validation loss in epoch200 : 7483.0059\n"
     ]
    },
    {
     "name": "stderr",
     "output_type": "stream",
     "text": [
      " 70%|\u001b[32m████████████████████████████████████████████████████████▎                       \u001b[0m| 211/300 [01:05<00:27,  3.25it/s]\u001b[0m"
     ]
    },
    {
     "name": "stdout",
     "output_type": "stream",
     "text": [
      "Validation F1 in epoch210 : 0.8400\n",
      "Validation loss in epoch210 : 7638.9517\n"
     ]
    },
    {
     "name": "stderr",
     "output_type": "stream",
     "text": [
      " 74%|\u001b[32m██████████████████████████████████████████████████████████▉                     \u001b[0m| 221/300 [01:08<00:27,  2.89it/s]\u001b[0m"
     ]
    },
    {
     "name": "stdout",
     "output_type": "stream",
     "text": [
      "Validation F1 in epoch220 : 0.8360\n",
      "Validation loss in epoch220 : 7840.3003\n"
     ]
    },
    {
     "name": "stderr",
     "output_type": "stream",
     "text": [
      " 77%|\u001b[32m█████████████████████████████████████████████████████████████▌                  \u001b[0m| 231/300 [01:11<00:20,  3.32it/s]\u001b[0m"
     ]
    },
    {
     "name": "stdout",
     "output_type": "stream",
     "text": [
      "Validation F1 in epoch230 : 0.8418\n",
      "Validation loss in epoch230 : 7994.7080\n"
     ]
    },
    {
     "name": "stderr",
     "output_type": "stream",
     "text": [
      " 80%|\u001b[32m████████████████████████████████████████████████████████████████▎               \u001b[0m| 241/300 [01:14<00:20,  2.95it/s]\u001b[0m"
     ]
    },
    {
     "name": "stdout",
     "output_type": "stream",
     "text": [
      "Validation F1 in epoch240 : 0.8388\n",
      "Validation loss in epoch240 : 8036.8550\n"
     ]
    },
    {
     "name": "stderr",
     "output_type": "stream",
     "text": [
      " 84%|\u001b[32m██████████████████████████████████████████████████████████████████▉             \u001b[0m| 251/300 [01:17<00:15,  3.21it/s]\u001b[0m"
     ]
    },
    {
     "name": "stdout",
     "output_type": "stream",
     "text": [
      "Validation F1 in epoch250 : 0.8379\n",
      "Validation loss in epoch250 : 8205.1406\n"
     ]
    },
    {
     "name": "stderr",
     "output_type": "stream",
     "text": [
      " 87%|\u001b[32m█████████████████████████████████████████████████████████████████████▌          \u001b[0m| 261/300 [01:20<00:13,  2.99it/s]\u001b[0m"
     ]
    },
    {
     "name": "stdout",
     "output_type": "stream",
     "text": [
      "Validation F1 in epoch260 : 0.8405\n",
      "Validation loss in epoch260 : 8565.1221\n"
     ]
    },
    {
     "name": "stderr",
     "output_type": "stream",
     "text": [
      " 90%|\u001b[32m████████████████████████████████████████████████████████████████████████▎       \u001b[0m| 271/300 [01:23<00:08,  3.39it/s]\u001b[0m"
     ]
    },
    {
     "name": "stdout",
     "output_type": "stream",
     "text": [
      "Validation F1 in epoch270 : 0.8379\n",
      "Validation loss in epoch270 : 8597.4307\n"
     ]
    },
    {
     "name": "stderr",
     "output_type": "stream",
     "text": [
      " 94%|\u001b[32m██████████████████████████████████████████████████████████████████████████▉     \u001b[0m| 281/300 [01:27<00:05,  3.25it/s]\u001b[0m"
     ]
    },
    {
     "name": "stdout",
     "output_type": "stream",
     "text": [
      "Validation F1 in epoch280 : 0.8371\n",
      "Validation loss in epoch280 : 8870.2188\n"
     ]
    },
    {
     "name": "stderr",
     "output_type": "stream",
     "text": [
      " 97%|\u001b[32m█████████████████████████████████████████████████████████████████████████████▌  \u001b[0m| 291/300 [01:30<00:02,  3.29it/s]\u001b[0m"
     ]
    },
    {
     "name": "stdout",
     "output_type": "stream",
     "text": [
      "Validation F1 in epoch290 : 0.8362\n",
      "Validation loss in epoch290 : 8908.0674\n"
     ]
    },
    {
     "name": "stderr",
     "output_type": "stream",
     "text": [
      "100%|\u001b[32m████████████████████████████████████████████████████████████████████████████████\u001b[0m| 300/300 [01:33<00:00,  3.22it/s]\u001b[0m\n",
      "  0%|\u001b[32m▎                                                                                 \u001b[0m| 1/300 [00:00<01:22,  3.61it/s]\u001b[0m"
     ]
    },
    {
     "name": "stdout",
     "output_type": "stream",
     "text": [
      "Validation F1 in epoch0 : 0.1347\n",
      "Validation loss in epoch0 : 62511.5273\n"
     ]
    },
    {
     "name": "stderr",
     "output_type": "stream",
     "text": [
      "  4%|\u001b[32m██▉                                                                              \u001b[0m| 11/300 [00:03<01:29,  3.22it/s]\u001b[0m"
     ]
    },
    {
     "name": "stdout",
     "output_type": "stream",
     "text": [
      "Validation F1 in epoch10 : 0.1329\n",
      "Validation loss in epoch10 : 62520.5273\n"
     ]
    },
    {
     "name": "stderr",
     "output_type": "stream",
     "text": [
      "  7%|\u001b[32m█████▋                                                                           \u001b[0m| 21/300 [00:06<01:26,  3.22it/s]\u001b[0m"
     ]
    },
    {
     "name": "stdout",
     "output_type": "stream",
     "text": [
      "Validation F1 in epoch20 : 0.5892\n",
      "Validation loss in epoch20 : 24078.1621\n"
     ]
    },
    {
     "name": "stderr",
     "output_type": "stream",
     "text": [
      " 10%|\u001b[32m████████▎                                                                        \u001b[0m| 31/300 [00:09<01:22,  3.26it/s]\u001b[0m"
     ]
    },
    {
     "name": "stdout",
     "output_type": "stream",
     "text": [
      "Validation F1 in epoch30 : 0.5836\n",
      "Validation loss in epoch30 : 18494.4102\n"
     ]
    },
    {
     "name": "stderr",
     "output_type": "stream",
     "text": [
      " 14%|\u001b[32m███████████                                                                      \u001b[0m| 41/300 [00:12<01:17,  3.35it/s]\u001b[0m"
     ]
    },
    {
     "name": "stdout",
     "output_type": "stream",
     "text": [
      "Validation F1 in epoch40 : 0.6178\n",
      "Validation loss in epoch40 : 14174.8936\n"
     ]
    },
    {
     "name": "stderr",
     "output_type": "stream",
     "text": [
      " 17%|\u001b[32m█████████████▊                                                                   \u001b[0m| 51/300 [00:15<01:21,  3.07it/s]\u001b[0m"
     ]
    },
    {
     "name": "stdout",
     "output_type": "stream",
     "text": [
      "Validation F1 in epoch50 : 0.7219\n",
      "Validation loss in epoch50 : 11198.4375\n"
     ]
    },
    {
     "name": "stderr",
     "output_type": "stream",
     "text": [
      " 20%|\u001b[32m████████████████▍                                                                \u001b[0m| 61/300 [00:18<01:16,  3.11it/s]\u001b[0m"
     ]
    },
    {
     "name": "stdout",
     "output_type": "stream",
     "text": [
      "Validation F1 in epoch60 : 0.7693\n",
      "Validation loss in epoch60 : 9806.6729\n"
     ]
    },
    {
     "name": "stderr",
     "output_type": "stream",
     "text": [
      " 24%|\u001b[32m███████████████████▏                                                             \u001b[0m| 71/300 [00:21<01:13,  3.13it/s]\u001b[0m"
     ]
    },
    {
     "name": "stdout",
     "output_type": "stream",
     "text": [
      "Validation F1 in epoch70 : 0.7932\n",
      "Validation loss in epoch70 : 9159.4727\n"
     ]
    },
    {
     "name": "stderr",
     "output_type": "stream",
     "text": [
      " 27%|\u001b[32m█████████████████████▊                                                           \u001b[0m| 81/300 [00:25<01:06,  3.31it/s]\u001b[0m"
     ]
    },
    {
     "name": "stdout",
     "output_type": "stream",
     "text": [
      "Validation F1 in epoch80 : 0.8030\n",
      "Validation loss in epoch80 : 8774.1494\n"
     ]
    },
    {
     "name": "stderr",
     "output_type": "stream",
     "text": [
      " 30%|\u001b[32m████████████████████████▌                                                        \u001b[0m| 91/300 [00:28<01:07,  3.12it/s]\u001b[0m"
     ]
    },
    {
     "name": "stdout",
     "output_type": "stream",
     "text": [
      "Validation F1 in epoch90 : 0.8122\n",
      "Validation loss in epoch90 : 8531.6738\n"
     ]
    },
    {
     "name": "stderr",
     "output_type": "stream",
     "text": [
      " 34%|\u001b[32m██████████████████████████▉                                                     \u001b[0m| 101/300 [00:31<00:59,  3.34it/s]\u001b[0m"
     ]
    },
    {
     "name": "stdout",
     "output_type": "stream",
     "text": [
      "Validation F1 in epoch100 : 0.8143\n",
      "Validation loss in epoch100 : 8424.7441\n"
     ]
    },
    {
     "name": "stderr",
     "output_type": "stream",
     "text": [
      " 37%|\u001b[32m█████████████████████████████▌                                                  \u001b[0m| 111/300 [00:34<00:58,  3.25it/s]\u001b[0m"
     ]
    },
    {
     "name": "stdout",
     "output_type": "stream",
     "text": [
      "Validation F1 in epoch110 : 0.8161\n",
      "Validation loss in epoch110 : 8393.7324\n"
     ]
    },
    {
     "name": "stderr",
     "output_type": "stream",
     "text": [
      " 40%|\u001b[32m████████████████████████████████▎                                               \u001b[0m| 121/300 [00:37<00:55,  3.22it/s]\u001b[0m"
     ]
    },
    {
     "name": "stdout",
     "output_type": "stream",
     "text": [
      "Validation F1 in epoch120 : 0.8183\n",
      "Validation loss in epoch120 : 8267.1455\n"
     ]
    },
    {
     "name": "stderr",
     "output_type": "stream",
     "text": [
      " 44%|\u001b[32m██████████████████████████████████▉                                             \u001b[0m| 131/300 [00:41<01:00,  2.80it/s]\u001b[0m"
     ]
    },
    {
     "name": "stdout",
     "output_type": "stream",
     "text": [
      "Validation F1 in epoch130 : 0.8173\n",
      "Validation loss in epoch130 : 8330.3564\n"
     ]
    },
    {
     "name": "stderr",
     "output_type": "stream",
     "text": [
      " 47%|\u001b[32m█████████████████████████████████████▌                                          \u001b[0m| 141/300 [00:44<00:50,  3.17it/s]\u001b[0m"
     ]
    },
    {
     "name": "stdout",
     "output_type": "stream",
     "text": [
      "Validation F1 in epoch140 : 0.8204\n",
      "Validation loss in epoch140 : 8331.4473\n"
     ]
    },
    {
     "name": "stderr",
     "output_type": "stream",
     "text": [
      " 50%|\u001b[32m████████████████████████████████████████▎                                       \u001b[0m| 151/300 [00:47<00:44,  3.36it/s]\u001b[0m"
     ]
    },
    {
     "name": "stdout",
     "output_type": "stream",
     "text": [
      "Validation F1 in epoch150 : 0.8202\n",
      "Validation loss in epoch150 : 8270.3066\n"
     ]
    },
    {
     "name": "stderr",
     "output_type": "stream",
     "text": [
      " 54%|\u001b[32m██████████████████████████████████████████▉                                     \u001b[0m| 161/300 [00:50<00:44,  3.11it/s]\u001b[0m"
     ]
    },
    {
     "name": "stdout",
     "output_type": "stream",
     "text": [
      "Validation F1 in epoch160 : 0.8191\n",
      "Validation loss in epoch160 : 8296.4443\n"
     ]
    },
    {
     "name": "stderr",
     "output_type": "stream",
     "text": [
      " 57%|\u001b[32m█████████████████████████████████████████████▌                                  \u001b[0m| 171/300 [00:53<00:37,  3.40it/s]\u001b[0m"
     ]
    },
    {
     "name": "stdout",
     "output_type": "stream",
     "text": [
      "Validation F1 in epoch170 : 0.8185\n",
      "Validation loss in epoch170 : 8272.3867\n"
     ]
    },
    {
     "name": "stderr",
     "output_type": "stream",
     "text": [
      " 60%|\u001b[32m████████████████████████████████████████████████▎                               \u001b[0m| 181/300 [00:56<00:36,  3.28it/s]\u001b[0m"
     ]
    },
    {
     "name": "stdout",
     "output_type": "stream",
     "text": [
      "Validation F1 in epoch180 : 0.8172\n",
      "Validation loss in epoch180 : 8385.1289\n"
     ]
    },
    {
     "name": "stderr",
     "output_type": "stream",
     "text": [
      " 64%|\u001b[32m██████████████████████████████████████████████████▉                             \u001b[0m| 191/300 [00:59<00:33,  3.24it/s]\u001b[0m"
     ]
    },
    {
     "name": "stdout",
     "output_type": "stream",
     "text": [
      "Validation F1 in epoch190 : 0.8207\n",
      "Validation loss in epoch190 : 8415.2617\n"
     ]
    },
    {
     "name": "stderr",
     "output_type": "stream",
     "text": [
      " 67%|\u001b[32m█████████████████████████████████████████████████████▌                          \u001b[0m| 201/300 [01:02<00:29,  3.35it/s]\u001b[0m"
     ]
    },
    {
     "name": "stdout",
     "output_type": "stream",
     "text": [
      "Validation F1 in epoch200 : 0.8214\n",
      "Validation loss in epoch200 : 8529.3486\n"
     ]
    },
    {
     "name": "stderr",
     "output_type": "stream",
     "text": [
      " 70%|\u001b[32m████████████████████████████████████████████████████████▎                       \u001b[0m| 211/300 [01:05<00:29,  3.00it/s]\u001b[0m"
     ]
    },
    {
     "name": "stdout",
     "output_type": "stream",
     "text": [
      "Validation F1 in epoch210 : 0.8193\n",
      "Validation loss in epoch210 : 8585.8047\n"
     ]
    },
    {
     "name": "stderr",
     "output_type": "stream",
     "text": [
      " 74%|\u001b[32m██████████████████████████████████████████████████████████▉                     \u001b[0m| 221/300 [01:08<00:24,  3.17it/s]\u001b[0m"
     ]
    },
    {
     "name": "stdout",
     "output_type": "stream",
     "text": [
      "Validation F1 in epoch220 : 0.8194\n",
      "Validation loss in epoch220 : 8667.1797\n"
     ]
    },
    {
     "name": "stderr",
     "output_type": "stream",
     "text": [
      " 77%|\u001b[32m█████████████████████████████████████████████████████████████▌                  \u001b[0m| 231/300 [01:12<00:21,  3.16it/s]\u001b[0m"
     ]
    },
    {
     "name": "stdout",
     "output_type": "stream",
     "text": [
      "Validation F1 in epoch230 : 0.8187\n",
      "Validation loss in epoch230 : 8723.6699\n"
     ]
    },
    {
     "name": "stderr",
     "output_type": "stream",
     "text": [
      " 80%|\u001b[32m████████████████████████████████████████████████████████████████▎               \u001b[0m| 241/300 [01:15<00:17,  3.29it/s]\u001b[0m"
     ]
    },
    {
     "name": "stdout",
     "output_type": "stream",
     "text": [
      "Validation F1 in epoch240 : 0.8146\n",
      "Validation loss in epoch240 : 8782.5518\n"
     ]
    },
    {
     "name": "stderr",
     "output_type": "stream",
     "text": [
      " 84%|\u001b[32m██████████████████████████████████████████████████████████████████▉             \u001b[0m| 251/300 [01:18<00:14,  3.31it/s]\u001b[0m"
     ]
    },
    {
     "name": "stdout",
     "output_type": "stream",
     "text": [
      "Validation F1 in epoch250 : 0.8142\n",
      "Validation loss in epoch250 : 8971.3203\n"
     ]
    },
    {
     "name": "stderr",
     "output_type": "stream",
     "text": [
      " 87%|\u001b[32m█████████████████████████████████████████████████████████████████████▌          \u001b[0m| 261/300 [01:21<00:11,  3.36it/s]\u001b[0m"
     ]
    },
    {
     "name": "stdout",
     "output_type": "stream",
     "text": [
      "Validation F1 in epoch260 : 0.8143\n",
      "Validation loss in epoch260 : 9161.4805\n"
     ]
    },
    {
     "name": "stderr",
     "output_type": "stream",
     "text": [
      " 90%|\u001b[32m████████████████████████████████████████████████████████████████████████▎       \u001b[0m| 271/300 [01:24<00:08,  3.28it/s]\u001b[0m"
     ]
    },
    {
     "name": "stdout",
     "output_type": "stream",
     "text": [
      "Validation F1 in epoch270 : 0.8138\n",
      "Validation loss in epoch270 : 9165.2012\n"
     ]
    },
    {
     "name": "stderr",
     "output_type": "stream",
     "text": [
      " 94%|\u001b[32m██████████████████████████████████████████████████████████████████████████▉     \u001b[0m| 281/300 [01:27<00:05,  3.25it/s]\u001b[0m"
     ]
    },
    {
     "name": "stdout",
     "output_type": "stream",
     "text": [
      "Validation F1 in epoch280 : 0.8126\n",
      "Validation loss in epoch280 : 9421.0742\n"
     ]
    },
    {
     "name": "stderr",
     "output_type": "stream",
     "text": [
      " 97%|\u001b[32m█████████████████████████████████████████████████████████████████████████████▌  \u001b[0m| 291/300 [01:30<00:02,  3.36it/s]\u001b[0m"
     ]
    },
    {
     "name": "stdout",
     "output_type": "stream",
     "text": [
      "Validation F1 in epoch290 : 0.8084\n",
      "Validation loss in epoch290 : 9510.4922\n"
     ]
    },
    {
     "name": "stderr",
     "output_type": "stream",
     "text": [
      "100%|\u001b[32m████████████████████████████████████████████████████████████████████████████████\u001b[0m| 300/300 [01:33<00:00,  3.21it/s]\u001b[0m\n",
      "  0%|\u001b[32m▎                                                                                 \u001b[0m| 1/300 [00:00<01:33,  3.19it/s]\u001b[0m"
     ]
    },
    {
     "name": "stdout",
     "output_type": "stream",
     "text": [
      "Validation F1 in epoch0 : 0.0736\n",
      "Validation loss in epoch0 : 62222.1406\n"
     ]
    },
    {
     "name": "stderr",
     "output_type": "stream",
     "text": [
      "  4%|\u001b[32m██▉                                                                              \u001b[0m| 11/300 [00:03<01:25,  3.36it/s]\u001b[0m"
     ]
    },
    {
     "name": "stdout",
     "output_type": "stream",
     "text": [
      "Validation F1 in epoch10 : 0.0736\n",
      "Validation loss in epoch10 : 62222.1406\n"
     ]
    },
    {
     "name": "stderr",
     "output_type": "stream",
     "text": [
      "  7%|\u001b[32m█████▋                                                                           \u001b[0m| 21/300 [00:06<01:23,  3.36it/s]\u001b[0m"
     ]
    },
    {
     "name": "stdout",
     "output_type": "stream",
     "text": [
      "Validation F1 in epoch20 : 0.5975\n",
      "Validation loss in epoch20 : 21326.1523\n"
     ]
    },
    {
     "name": "stderr",
     "output_type": "stream",
     "text": [
      " 10%|\u001b[32m████████▎                                                                        \u001b[0m| 31/300 [00:09<01:22,  3.28it/s]\u001b[0m"
     ]
    },
    {
     "name": "stdout",
     "output_type": "stream",
     "text": [
      "Validation F1 in epoch30 : 0.6521\n",
      "Validation loss in epoch30 : 16354.7842\n"
     ]
    },
    {
     "name": "stderr",
     "output_type": "stream",
     "text": [
      " 14%|\u001b[32m███████████                                                                      \u001b[0m| 41/300 [00:12<01:23,  3.09it/s]\u001b[0m"
     ]
    },
    {
     "name": "stdout",
     "output_type": "stream",
     "text": [
      "Validation F1 in epoch40 : 0.7491\n",
      "Validation loss in epoch40 : 11445.7246\n"
     ]
    },
    {
     "name": "stderr",
     "output_type": "stream",
     "text": [
      " 17%|\u001b[32m█████████████▊                                                                   \u001b[0m| 51/300 [00:15<01:17,  3.22it/s]\u001b[0m"
     ]
    },
    {
     "name": "stdout",
     "output_type": "stream",
     "text": [
      "Validation F1 in epoch50 : 0.8094\n",
      "Validation loss in epoch50 : 9507.7812\n"
     ]
    },
    {
     "name": "stderr",
     "output_type": "stream",
     "text": [
      " 20%|\u001b[32m████████████████▍                                                                \u001b[0m| 61/300 [00:18<01:16,  3.14it/s]\u001b[0m"
     ]
    },
    {
     "name": "stdout",
     "output_type": "stream",
     "text": [
      "Validation F1 in epoch60 : 0.8309\n",
      "Validation loss in epoch60 : 8148.3359\n"
     ]
    },
    {
     "name": "stderr",
     "output_type": "stream",
     "text": [
      " 24%|\u001b[32m███████████████████▏                                                             \u001b[0m| 71/300 [00:21<01:13,  3.10it/s]\u001b[0m"
     ]
    },
    {
     "name": "stdout",
     "output_type": "stream",
     "text": [
      "Validation F1 in epoch70 : 0.8442\n",
      "Validation loss in epoch70 : 7775.6758\n"
     ]
    },
    {
     "name": "stderr",
     "output_type": "stream",
     "text": [
      " 27%|\u001b[32m█████████████████████▊                                                           \u001b[0m| 81/300 [00:24<01:07,  3.27it/s]\u001b[0m"
     ]
    },
    {
     "name": "stdout",
     "output_type": "stream",
     "text": [
      "Validation F1 in epoch80 : 0.8496\n",
      "Validation loss in epoch80 : 7647.3438\n"
     ]
    },
    {
     "name": "stderr",
     "output_type": "stream",
     "text": [
      " 30%|\u001b[32m████████████████████████▌                                                        \u001b[0m| 91/300 [00:28<01:03,  3.30it/s]\u001b[0m"
     ]
    },
    {
     "name": "stdout",
     "output_type": "stream",
     "text": [
      "Validation F1 in epoch90 : 0.8535\n",
      "Validation loss in epoch90 : 7671.7949\n"
     ]
    },
    {
     "name": "stderr",
     "output_type": "stream",
     "text": [
      " 34%|\u001b[32m██████████████████████████▉                                                     \u001b[0m| 101/300 [00:31<01:02,  3.17it/s]\u001b[0m"
     ]
    },
    {
     "name": "stdout",
     "output_type": "stream",
     "text": [
      "Validation F1 in epoch100 : 0.8573\n",
      "Validation loss in epoch100 : 7762.4619\n"
     ]
    },
    {
     "name": "stderr",
     "output_type": "stream",
     "text": [
      " 37%|\u001b[32m█████████████████████████████▌                                                  \u001b[0m| 111/300 [00:34<00:59,  3.17it/s]\u001b[0m"
     ]
    },
    {
     "name": "stdout",
     "output_type": "stream",
     "text": [
      "Validation F1 in epoch110 : 0.8587\n",
      "Validation loss in epoch110 : 7860.8760\n"
     ]
    },
    {
     "name": "stderr",
     "output_type": "stream",
     "text": [
      " 40%|\u001b[32m████████████████████████████████▎                                               \u001b[0m| 121/300 [00:37<00:56,  3.15it/s]\u001b[0m"
     ]
    },
    {
     "name": "stdout",
     "output_type": "stream",
     "text": [
      "Validation F1 in epoch120 : 0.8593\n",
      "Validation loss in epoch120 : 7990.5762\n"
     ]
    },
    {
     "name": "stderr",
     "output_type": "stream",
     "text": [
      " 44%|\u001b[32m██████████████████████████████████▉                                             \u001b[0m| 131/300 [00:40<00:50,  3.32it/s]\u001b[0m"
     ]
    },
    {
     "name": "stdout",
     "output_type": "stream",
     "text": [
      "Validation F1 in epoch130 : 0.8599\n",
      "Validation loss in epoch130 : 8138.2944\n"
     ]
    },
    {
     "name": "stderr",
     "output_type": "stream",
     "text": [
      " 47%|\u001b[32m█████████████████████████████████████▌                                          \u001b[0m| 141/300 [00:43<00:49,  3.21it/s]\u001b[0m"
     ]
    },
    {
     "name": "stdout",
     "output_type": "stream",
     "text": [
      "Validation F1 in epoch140 : 0.8603\n",
      "Validation loss in epoch140 : 8300.6143\n"
     ]
    },
    {
     "name": "stderr",
     "output_type": "stream",
     "text": [
      " 50%|\u001b[32m████████████████████████████████████████▎                                       \u001b[0m| 151/300 [00:46<00:46,  3.20it/s]\u001b[0m"
     ]
    },
    {
     "name": "stdout",
     "output_type": "stream",
     "text": [
      "Validation F1 in epoch150 : 0.8611\n",
      "Validation loss in epoch150 : 8462.8477\n"
     ]
    },
    {
     "name": "stderr",
     "output_type": "stream",
     "text": [
      " 54%|\u001b[32m██████████████████████████████████████████▉                                     \u001b[0m| 161/300 [00:49<00:42,  3.29it/s]\u001b[0m"
     ]
    },
    {
     "name": "stdout",
     "output_type": "stream",
     "text": [
      "Validation F1 in epoch160 : 0.8609\n",
      "Validation loss in epoch160 : 8621.5723\n"
     ]
    },
    {
     "name": "stderr",
     "output_type": "stream",
     "text": [
      " 57%|\u001b[32m█████████████████████████████████████████████▌                                  \u001b[0m| 171/300 [00:52<00:41,  3.09it/s]\u001b[0m"
     ]
    },
    {
     "name": "stdout",
     "output_type": "stream",
     "text": [
      "Validation F1 in epoch170 : 0.8610\n",
      "Validation loss in epoch170 : 8774.8330\n"
     ]
    },
    {
     "name": "stderr",
     "output_type": "stream",
     "text": [
      " 60%|\u001b[32m████████████████████████████████████████████████▎                               \u001b[0m| 181/300 [00:55<00:36,  3.25it/s]\u001b[0m"
     ]
    },
    {
     "name": "stdout",
     "output_type": "stream",
     "text": [
      "Validation F1 in epoch180 : 0.8612\n",
      "Validation loss in epoch180 : 8923.3008\n"
     ]
    },
    {
     "name": "stderr",
     "output_type": "stream",
     "text": [
      " 64%|\u001b[32m██████████████████████████████████████████████████▉                             \u001b[0m| 191/300 [00:58<00:33,  3.26it/s]\u001b[0m"
     ]
    },
    {
     "name": "stdout",
     "output_type": "stream",
     "text": [
      "Validation F1 in epoch190 : 0.8612\n",
      "Validation loss in epoch190 : 9066.1416\n"
     ]
    },
    {
     "name": "stderr",
     "output_type": "stream",
     "text": [
      " 67%|\u001b[32m█████████████████████████████████████████████████████▌                          \u001b[0m| 201/300 [01:02<00:29,  3.30it/s]\u001b[0m"
     ]
    },
    {
     "name": "stdout",
     "output_type": "stream",
     "text": [
      "Validation F1 in epoch200 : 0.8611\n",
      "Validation loss in epoch200 : 9204.4951\n"
     ]
    },
    {
     "name": "stderr",
     "output_type": "stream",
     "text": [
      " 70%|\u001b[32m████████████████████████████████████████████████████████▎                       \u001b[0m| 211/300 [01:05<00:28,  3.13it/s]\u001b[0m"
     ]
    },
    {
     "name": "stdout",
     "output_type": "stream",
     "text": [
      "Validation F1 in epoch210 : 0.8609\n",
      "Validation loss in epoch210 : 9337.2520\n"
     ]
    },
    {
     "name": "stderr",
     "output_type": "stream",
     "text": [
      " 74%|\u001b[32m██████████████████████████████████████████████████████████▉                     \u001b[0m| 221/300 [01:08<00:23,  3.31it/s]\u001b[0m"
     ]
    },
    {
     "name": "stdout",
     "output_type": "stream",
     "text": [
      "Validation F1 in epoch220 : 0.8606\n",
      "Validation loss in epoch220 : 9465.9395\n"
     ]
    },
    {
     "name": "stderr",
     "output_type": "stream",
     "text": [
      " 77%|\u001b[32m█████████████████████████████████████████████████████████████▌                  \u001b[0m| 231/300 [01:11<00:19,  3.52it/s]\u001b[0m"
     ]
    },
    {
     "name": "stdout",
     "output_type": "stream",
     "text": [
      "Validation F1 in epoch230 : 0.8608\n",
      "Validation loss in epoch230 : 9589.4346\n"
     ]
    },
    {
     "name": "stderr",
     "output_type": "stream",
     "text": [
      " 80%|\u001b[32m████████████████████████████████████████████████████████████████▎               \u001b[0m| 241/300 [01:14<00:18,  3.27it/s]\u001b[0m"
     ]
    },
    {
     "name": "stdout",
     "output_type": "stream",
     "text": [
      "Validation F1 in epoch240 : 0.8606\n",
      "Validation loss in epoch240 : 9708.5576\n"
     ]
    },
    {
     "name": "stderr",
     "output_type": "stream",
     "text": [
      " 84%|\u001b[32m██████████████████████████████████████████████████████████████████▉             \u001b[0m| 251/300 [01:17<00:14,  3.43it/s]\u001b[0m"
     ]
    },
    {
     "name": "stdout",
     "output_type": "stream",
     "text": [
      "Validation F1 in epoch250 : 0.8602\n",
      "Validation loss in epoch250 : 9825.7900\n"
     ]
    },
    {
     "name": "stderr",
     "output_type": "stream",
     "text": [
      " 87%|\u001b[32m█████████████████████████████████████████████████████████████████████▌          \u001b[0m| 261/300 [01:20<00:12,  3.13it/s]\u001b[0m"
     ]
    },
    {
     "name": "stdout",
     "output_type": "stream",
     "text": [
      "Validation F1 in epoch260 : 0.8605\n",
      "Validation loss in epoch260 : 9936.0596\n"
     ]
    },
    {
     "name": "stderr",
     "output_type": "stream",
     "text": [
      " 90%|\u001b[32m████████████████████████████████████████████████████████████████████████▎       \u001b[0m| 271/300 [01:23<00:08,  3.41it/s]\u001b[0m"
     ]
    },
    {
     "name": "stdout",
     "output_type": "stream",
     "text": [
      "Validation F1 in epoch270 : 0.8604\n",
      "Validation loss in epoch270 : 10041.5215\n"
     ]
    },
    {
     "name": "stderr",
     "output_type": "stream",
     "text": [
      " 94%|\u001b[32m██████████████████████████████████████████████████████████████████████████▉     \u001b[0m| 281/300 [01:26<00:05,  3.30it/s]\u001b[0m"
     ]
    },
    {
     "name": "stdout",
     "output_type": "stream",
     "text": [
      "Validation F1 in epoch280 : 0.8605\n",
      "Validation loss in epoch280 : 10142.5293\n"
     ]
    },
    {
     "name": "stderr",
     "output_type": "stream",
     "text": [
      " 97%|\u001b[32m█████████████████████████████████████████████████████████████████████████████▌  \u001b[0m| 291/300 [01:29<00:02,  3.20it/s]\u001b[0m"
     ]
    },
    {
     "name": "stdout",
     "output_type": "stream",
     "text": [
      "Validation F1 in epoch290 : 0.8606\n",
      "Validation loss in epoch290 : 10239.2246\n"
     ]
    },
    {
     "name": "stderr",
     "output_type": "stream",
     "text": [
      "100%|\u001b[32m████████████████████████████████████████████████████████████████████████████████\u001b[0m| 300/300 [01:32<00:00,  3.25it/s]\u001b[0m\n",
      "  0%|\u001b[32m▎                                                                                 \u001b[0m| 1/300 [00:00<01:51,  2.67it/s]\u001b[0m"
     ]
    },
    {
     "name": "stdout",
     "output_type": "stream",
     "text": [
      "Validation F1 in epoch0 : 0.1518\n",
      "Validation loss in epoch0 : 62481.2344\n"
     ]
    },
    {
     "name": "stderr",
     "output_type": "stream",
     "text": [
      "  4%|\u001b[32m██▉                                                                              \u001b[0m| 11/300 [00:03<01:26,  3.35it/s]\u001b[0m"
     ]
    },
    {
     "name": "stdout",
     "output_type": "stream",
     "text": [
      "Validation F1 in epoch10 : 0.1488\n",
      "Validation loss in epoch10 : 62479.8203\n"
     ]
    },
    {
     "name": "stderr",
     "output_type": "stream",
     "text": [
      "  7%|\u001b[32m█████▋                                                                           \u001b[0m| 21/300 [00:06<01:31,  3.06it/s]\u001b[0m"
     ]
    },
    {
     "name": "stdout",
     "output_type": "stream",
     "text": [
      "Validation F1 in epoch20 : 0.5654\n",
      "Validation loss in epoch20 : 24513.3398\n"
     ]
    },
    {
     "name": "stderr",
     "output_type": "stream",
     "text": [
      " 10%|\u001b[32m████████▎                                                                        \u001b[0m| 31/300 [00:09<01:25,  3.16it/s]\u001b[0m"
     ]
    },
    {
     "name": "stdout",
     "output_type": "stream",
     "text": [
      "Validation F1 in epoch30 : 0.6102\n",
      "Validation loss in epoch30 : 16915.0938\n"
     ]
    },
    {
     "name": "stderr",
     "output_type": "stream",
     "text": [
      " 14%|\u001b[32m███████████                                                                      \u001b[0m| 41/300 [00:12<01:20,  3.23it/s]\u001b[0m"
     ]
    },
    {
     "name": "stdout",
     "output_type": "stream",
     "text": [
      "Validation F1 in epoch40 : 0.6499\n",
      "Validation loss in epoch40 : 12608.2598\n"
     ]
    },
    {
     "name": "stderr",
     "output_type": "stream",
     "text": [
      " 17%|\u001b[32m█████████████▊                                                                   \u001b[0m| 51/300 [00:15<01:20,  3.08it/s]\u001b[0m"
     ]
    },
    {
     "name": "stdout",
     "output_type": "stream",
     "text": [
      "Validation F1 in epoch50 : 0.7554\n",
      "Validation loss in epoch50 : 9711.1650\n"
     ]
    },
    {
     "name": "stderr",
     "output_type": "stream",
     "text": [
      " 20%|\u001b[32m████████████████▍                                                                \u001b[0m| 61/300 [00:19<01:12,  3.30it/s]\u001b[0m"
     ]
    },
    {
     "name": "stdout",
     "output_type": "stream",
     "text": [
      "Validation F1 in epoch60 : 0.7946\n",
      "Validation loss in epoch60 : 8500.9414\n"
     ]
    },
    {
     "name": "stderr",
     "output_type": "stream",
     "text": [
      " 24%|\u001b[32m███████████████████▏                                                             \u001b[0m| 71/300 [00:21<01:08,  3.36it/s]\u001b[0m"
     ]
    },
    {
     "name": "stdout",
     "output_type": "stream",
     "text": [
      "Validation F1 in epoch70 : 0.8154\n",
      "Validation loss in epoch70 : 7814.9292\n"
     ]
    },
    {
     "name": "stderr",
     "output_type": "stream",
     "text": [
      " 27%|\u001b[32m█████████████████████▊                                                           \u001b[0m| 81/300 [00:25<01:14,  2.93it/s]\u001b[0m"
     ]
    },
    {
     "name": "stdout",
     "output_type": "stream",
     "text": [
      "Validation F1 in epoch80 : 0.8242\n",
      "Validation loss in epoch80 : 7404.6108\n"
     ]
    },
    {
     "name": "stderr",
     "output_type": "stream",
     "text": [
      " 30%|\u001b[32m████████████████████████▌                                                        \u001b[0m| 91/300 [00:28<01:05,  3.20it/s]\u001b[0m"
     ]
    },
    {
     "name": "stdout",
     "output_type": "stream",
     "text": [
      "Validation F1 in epoch90 : 0.8374\n",
      "Validation loss in epoch90 : 7091.6992\n"
     ]
    },
    {
     "name": "stderr",
     "output_type": "stream",
     "text": [
      " 34%|\u001b[32m██████████████████████████▉                                                     \u001b[0m| 101/300 [00:31<01:02,  3.16it/s]\u001b[0m"
     ]
    },
    {
     "name": "stdout",
     "output_type": "stream",
     "text": [
      "Validation F1 in epoch100 : 0.8412\n",
      "Validation loss in epoch100 : 6937.9155\n"
     ]
    },
    {
     "name": "stderr",
     "output_type": "stream",
     "text": [
      " 37%|\u001b[32m█████████████████████████████▌                                                  \u001b[0m| 111/300 [00:34<00:58,  3.21it/s]\u001b[0m"
     ]
    },
    {
     "name": "stdout",
     "output_type": "stream",
     "text": [
      "Validation F1 in epoch110 : 0.8412\n",
      "Validation loss in epoch110 : 6910.0830\n"
     ]
    },
    {
     "name": "stderr",
     "output_type": "stream",
     "text": [
      " 40%|\u001b[32m████████████████████████████████▎                                               \u001b[0m| 121/300 [00:37<00:55,  3.21it/s]\u001b[0m"
     ]
    },
    {
     "name": "stdout",
     "output_type": "stream",
     "text": [
      "Validation F1 in epoch120 : 0.8419\n",
      "Validation loss in epoch120 : 6798.4966\n"
     ]
    },
    {
     "name": "stderr",
     "output_type": "stream",
     "text": [
      " 44%|\u001b[32m██████████████████████████████████▉                                             \u001b[0m| 131/300 [00:40<00:52,  3.22it/s]\u001b[0m"
     ]
    },
    {
     "name": "stdout",
     "output_type": "stream",
     "text": [
      "Validation F1 in epoch130 : 0.8462\n",
      "Validation loss in epoch130 : 6866.3960\n"
     ]
    },
    {
     "name": "stderr",
     "output_type": "stream",
     "text": [
      " 47%|\u001b[32m█████████████████████████████████████▌                                          \u001b[0m| 141/300 [00:43<00:48,  3.29it/s]\u001b[0m"
     ]
    },
    {
     "name": "stdout",
     "output_type": "stream",
     "text": [
      "Validation F1 in epoch140 : 0.8435\n",
      "Validation loss in epoch140 : 6955.7852\n"
     ]
    },
    {
     "name": "stderr",
     "output_type": "stream",
     "text": [
      " 50%|\u001b[32m████████████████████████████████████████▎                                       \u001b[0m| 151/300 [00:47<00:45,  3.26it/s]\u001b[0m"
     ]
    },
    {
     "name": "stdout",
     "output_type": "stream",
     "text": [
      "Validation F1 in epoch150 : 0.8469\n",
      "Validation loss in epoch150 : 6871.1230\n"
     ]
    },
    {
     "name": "stderr",
     "output_type": "stream",
     "text": [
      " 54%|\u001b[32m██████████████████████████████████████████▉                                     \u001b[0m| 161/300 [00:49<00:40,  3.40it/s]\u001b[0m"
     ]
    },
    {
     "name": "stdout",
     "output_type": "stream",
     "text": [
      "Validation F1 in epoch160 : 0.8454\n",
      "Validation loss in epoch160 : 6977.6172\n"
     ]
    },
    {
     "name": "stderr",
     "output_type": "stream",
     "text": [
      " 57%|\u001b[32m█████████████████████████████████████████████▌                                  \u001b[0m| 171/300 [00:53<00:41,  3.08it/s]\u001b[0m"
     ]
    },
    {
     "name": "stdout",
     "output_type": "stream",
     "text": [
      "Validation F1 in epoch170 : 0.8442\n",
      "Validation loss in epoch170 : 7099.2881\n"
     ]
    },
    {
     "name": "stderr",
     "output_type": "stream",
     "text": [
      " 60%|\u001b[32m████████████████████████████████████████████████▎                               \u001b[0m| 181/300 [00:56<00:37,  3.16it/s]\u001b[0m"
     ]
    },
    {
     "name": "stdout",
     "output_type": "stream",
     "text": [
      "Validation F1 in epoch180 : 0.8471\n",
      "Validation loss in epoch180 : 7241.5781\n"
     ]
    },
    {
     "name": "stderr",
     "output_type": "stream",
     "text": [
      " 64%|\u001b[32m██████████████████████████████████████████████████▉                             \u001b[0m| 191/300 [00:59<00:33,  3.23it/s]\u001b[0m"
     ]
    },
    {
     "name": "stdout",
     "output_type": "stream",
     "text": [
      "Validation F1 in epoch190 : 0.8424\n",
      "Validation loss in epoch190 : 7561.3359\n"
     ]
    },
    {
     "name": "stderr",
     "output_type": "stream",
     "text": [
      " 67%|\u001b[32m█████████████████████████████████████████████████████▌                          \u001b[0m| 201/300 [01:02<00:30,  3.23it/s]\u001b[0m"
     ]
    },
    {
     "name": "stdout",
     "output_type": "stream",
     "text": [
      "Validation F1 in epoch200 : 0.8394\n",
      "Validation loss in epoch200 : 7713.7695\n"
     ]
    },
    {
     "name": "stderr",
     "output_type": "stream",
     "text": [
      " 70%|\u001b[32m████████████████████████████████████████████████████████▎                       \u001b[0m| 211/300 [01:05<00:25,  3.45it/s]\u001b[0m"
     ]
    },
    {
     "name": "stdout",
     "output_type": "stream",
     "text": [
      "Validation F1 in epoch210 : 0.8434\n",
      "Validation loss in epoch210 : 7857.4629\n"
     ]
    },
    {
     "name": "stderr",
     "output_type": "stream",
     "text": [
      " 74%|\u001b[32m██████████████████████████████████████████████████████████▉                     \u001b[0m| 221/300 [01:08<00:24,  3.27it/s]\u001b[0m"
     ]
    },
    {
     "name": "stdout",
     "output_type": "stream",
     "text": [
      "Validation F1 in epoch220 : 0.8388\n",
      "Validation loss in epoch220 : 8230.1826\n"
     ]
    },
    {
     "name": "stderr",
     "output_type": "stream",
     "text": [
      " 77%|\u001b[32m█████████████████████████████████████████████████████████████▌                  \u001b[0m| 231/300 [01:11<00:21,  3.23it/s]\u001b[0m"
     ]
    },
    {
     "name": "stdout",
     "output_type": "stream",
     "text": [
      "Validation F1 in epoch230 : 0.8406\n",
      "Validation loss in epoch230 : 8586.4160\n"
     ]
    },
    {
     "name": "stderr",
     "output_type": "stream",
     "text": [
      " 80%|\u001b[32m████████████████████████████████████████████████████████████████▎               \u001b[0m| 241/300 [01:14<00:19,  3.08it/s]\u001b[0m"
     ]
    },
    {
     "name": "stdout",
     "output_type": "stream",
     "text": [
      "Validation F1 in epoch240 : 0.8397\n",
      "Validation loss in epoch240 : 8736.8496\n"
     ]
    },
    {
     "name": "stderr",
     "output_type": "stream",
     "text": [
      " 84%|\u001b[32m██████████████████████████████████████████████████████████████████▉             \u001b[0m| 251/300 [01:17<00:16,  2.99it/s]\u001b[0m"
     ]
    },
    {
     "name": "stdout",
     "output_type": "stream",
     "text": [
      "Validation F1 in epoch250 : 0.8368\n",
      "Validation loss in epoch250 : 9001.4121\n"
     ]
    },
    {
     "name": "stderr",
     "output_type": "stream",
     "text": [
      " 87%|\u001b[32m█████████████████████████████████████████████████████████████████████▌          \u001b[0m| 261/300 [01:20<00:12,  3.06it/s]\u001b[0m"
     ]
    },
    {
     "name": "stdout",
     "output_type": "stream",
     "text": [
      "Validation F1 in epoch260 : 0.8385\n",
      "Validation loss in epoch260 : 9349.5801\n"
     ]
    },
    {
     "name": "stderr",
     "output_type": "stream",
     "text": [
      " 90%|\u001b[32m████████████████████████████████████████████████████████████████████████▎       \u001b[0m| 271/300 [01:23<00:08,  3.24it/s]\u001b[0m"
     ]
    },
    {
     "name": "stdout",
     "output_type": "stream",
     "text": [
      "Validation F1 in epoch270 : 0.8358\n",
      "Validation loss in epoch270 : 9638.4912\n"
     ]
    },
    {
     "name": "stderr",
     "output_type": "stream",
     "text": [
      " 94%|\u001b[32m██████████████████████████████████████████████████████████████████████████▉     \u001b[0m| 281/300 [01:26<00:05,  3.34it/s]\u001b[0m"
     ]
    },
    {
     "name": "stdout",
     "output_type": "stream",
     "text": [
      "Validation F1 in epoch280 : 0.8362\n",
      "Validation loss in epoch280 : 9808.0371\n"
     ]
    },
    {
     "name": "stderr",
     "output_type": "stream",
     "text": [
      " 97%|\u001b[32m█████████████████████████████████████████████████████████████████████████████▌  \u001b[0m| 291/300 [01:30<00:03,  2.92it/s]\u001b[0m"
     ]
    },
    {
     "name": "stdout",
     "output_type": "stream",
     "text": [
      "Validation F1 in epoch290 : 0.8383\n",
      "Validation loss in epoch290 : 10076.3438\n"
     ]
    },
    {
     "name": "stderr",
     "output_type": "stream",
     "text": [
      "100%|\u001b[32m████████████████████████████████████████████████████████████████████████████████\u001b[0m| 300/300 [01:32<00:00,  3.23it/s]\u001b[0m\n",
      "  0%|\u001b[32m▎                                                                                 \u001b[0m| 1/300 [00:00<01:29,  3.32it/s]\u001b[0m"
     ]
    },
    {
     "name": "stdout",
     "output_type": "stream",
     "text": [
      "Validation F1 in epoch0 : 0.1345\n",
      "Validation loss in epoch0 : 62509.1094\n"
     ]
    },
    {
     "name": "stderr",
     "output_type": "stream",
     "text": [
      "  4%|\u001b[32m██▉                                                                              \u001b[0m| 11/300 [00:03<01:40,  2.89it/s]\u001b[0m"
     ]
    },
    {
     "name": "stdout",
     "output_type": "stream",
     "text": [
      "Validation F1 in epoch10 : 0.1329\n",
      "Validation loss in epoch10 : 62518.2109\n"
     ]
    },
    {
     "name": "stderr",
     "output_type": "stream",
     "text": [
      "  7%|\u001b[32m█████▋                                                                           \u001b[0m| 21/300 [00:06<01:26,  3.24it/s]\u001b[0m"
     ]
    },
    {
     "name": "stdout",
     "output_type": "stream",
     "text": [
      "Validation F1 in epoch20 : 0.5887\n",
      "Validation loss in epoch20 : 24041.6367\n"
     ]
    },
    {
     "name": "stderr",
     "output_type": "stream",
     "text": [
      " 10%|\u001b[32m████████▎                                                                        \u001b[0m| 31/300 [00:09<01:27,  3.06it/s]\u001b[0m"
     ]
    },
    {
     "name": "stdout",
     "output_type": "stream",
     "text": [
      "Validation F1 in epoch30 : 0.5861\n",
      "Validation loss in epoch30 : 18351.2500\n"
     ]
    },
    {
     "name": "stderr",
     "output_type": "stream",
     "text": [
      " 14%|\u001b[32m███████████                                                                      \u001b[0m| 41/300 [00:12<01:24,  3.06it/s]\u001b[0m"
     ]
    },
    {
     "name": "stdout",
     "output_type": "stream",
     "text": [
      "Validation F1 in epoch40 : 0.6240\n",
      "Validation loss in epoch40 : 13903.4932\n"
     ]
    },
    {
     "name": "stderr",
     "output_type": "stream",
     "text": [
      " 17%|\u001b[32m█████████████▊                                                                   \u001b[0m| 51/300 [00:15<01:13,  3.38it/s]\u001b[0m"
     ]
    },
    {
     "name": "stdout",
     "output_type": "stream",
     "text": [
      "Validation F1 in epoch50 : 0.7246\n",
      "Validation loss in epoch50 : 11125.7314\n"
     ]
    },
    {
     "name": "stderr",
     "output_type": "stream",
     "text": [
      " 20%|\u001b[32m████████████████▍                                                                \u001b[0m| 61/300 [00:18<01:13,  3.25it/s]\u001b[0m"
     ]
    },
    {
     "name": "stdout",
     "output_type": "stream",
     "text": [
      "Validation F1 in epoch60 : 0.7746\n",
      "Validation loss in epoch60 : 9767.6777\n"
     ]
    },
    {
     "name": "stderr",
     "output_type": "stream",
     "text": [
      " 24%|\u001b[32m███████████████████▏                                                             \u001b[0m| 71/300 [00:22<01:09,  3.28it/s]\u001b[0m"
     ]
    },
    {
     "name": "stdout",
     "output_type": "stream",
     "text": [
      "Validation F1 in epoch70 : 0.7960\n",
      "Validation loss in epoch70 : 9089.8555\n"
     ]
    },
    {
     "name": "stderr",
     "output_type": "stream",
     "text": [
      " 27%|\u001b[32m█████████████████████▊                                                           \u001b[0m| 81/300 [00:25<01:10,  3.10it/s]\u001b[0m"
     ]
    },
    {
     "name": "stdout",
     "output_type": "stream",
     "text": [
      "Validation F1 in epoch80 : 0.8063\n",
      "Validation loss in epoch80 : 8689.3027\n"
     ]
    },
    {
     "name": "stderr",
     "output_type": "stream",
     "text": [
      " 30%|\u001b[32m████████████████████████▌                                                        \u001b[0m| 91/300 [00:28<01:07,  3.09it/s]\u001b[0m"
     ]
    },
    {
     "name": "stdout",
     "output_type": "stream",
     "text": [
      "Validation F1 in epoch90 : 0.8134\n",
      "Validation loss in epoch90 : 8455.8828\n"
     ]
    },
    {
     "name": "stderr",
     "output_type": "stream",
     "text": [
      " 34%|\u001b[32m██████████████████████████▉                                                     \u001b[0m| 101/300 [00:31<01:02,  3.17it/s]\u001b[0m"
     ]
    },
    {
     "name": "stdout",
     "output_type": "stream",
     "text": [
      "Validation F1 in epoch100 : 0.8177\n",
      "Validation loss in epoch100 : 8350.2930\n"
     ]
    },
    {
     "name": "stderr",
     "output_type": "stream",
     "text": [
      " 37%|\u001b[32m█████████████████████████████▌                                                  \u001b[0m| 111/300 [00:34<00:57,  3.28it/s]\u001b[0m"
     ]
    },
    {
     "name": "stdout",
     "output_type": "stream",
     "text": [
      "Validation F1 in epoch110 : 0.8199\n",
      "Validation loss in epoch110 : 8277.7676\n"
     ]
    },
    {
     "name": "stderr",
     "output_type": "stream",
     "text": [
      " 40%|\u001b[32m████████████████████████████████▎                                               \u001b[0m| 121/300 [00:37<00:53,  3.38it/s]\u001b[0m"
     ]
    },
    {
     "name": "stdout",
     "output_type": "stream",
     "text": [
      "Validation F1 in epoch120 : 0.8224\n",
      "Validation loss in epoch120 : 8178.5811\n"
     ]
    },
    {
     "name": "stderr",
     "output_type": "stream",
     "text": [
      " 44%|\u001b[32m██████████████████████████████████▉                                             \u001b[0m| 131/300 [00:41<00:52,  3.19it/s]\u001b[0m"
     ]
    },
    {
     "name": "stdout",
     "output_type": "stream",
     "text": [
      "Validation F1 in epoch130 : 0.8191\n",
      "Validation loss in epoch130 : 8252.9131\n"
     ]
    },
    {
     "name": "stderr",
     "output_type": "stream",
     "text": [
      " 47%|\u001b[32m█████████████████████████████████████▌                                          \u001b[0m| 141/300 [00:44<00:48,  3.28it/s]\u001b[0m"
     ]
    },
    {
     "name": "stdout",
     "output_type": "stream",
     "text": [
      "Validation F1 in epoch140 : 0.8208\n",
      "Validation loss in epoch140 : 8244.4023\n"
     ]
    },
    {
     "name": "stderr",
     "output_type": "stream",
     "text": [
      " 50%|\u001b[32m████████████████████████████████████████▎                                       \u001b[0m| 151/300 [00:47<00:49,  2.99it/s]\u001b[0m"
     ]
    },
    {
     "name": "stdout",
     "output_type": "stream",
     "text": [
      "Validation F1 in epoch150 : 0.8202\n",
      "Validation loss in epoch150 : 8201.3027\n"
     ]
    },
    {
     "name": "stderr",
     "output_type": "stream",
     "text": [
      " 54%|\u001b[32m██████████████████████████████████████████▉                                     \u001b[0m| 161/300 [00:50<00:43,  3.23it/s]\u001b[0m"
     ]
    },
    {
     "name": "stdout",
     "output_type": "stream",
     "text": [
      "Validation F1 in epoch160 : 0.8221\n",
      "Validation loss in epoch160 : 8191.3872\n"
     ]
    },
    {
     "name": "stderr",
     "output_type": "stream",
     "text": [
      " 57%|\u001b[32m█████████████████████████████████████████████▌                                  \u001b[0m| 171/300 [00:53<00:39,  3.24it/s]\u001b[0m"
     ]
    },
    {
     "name": "stdout",
     "output_type": "stream",
     "text": [
      "Validation F1 in epoch170 : 0.8204\n",
      "Validation loss in epoch170 : 8223.4141\n"
     ]
    },
    {
     "name": "stderr",
     "output_type": "stream",
     "text": [
      " 60%|\u001b[32m████████████████████████████████████████████████▎                               \u001b[0m| 181/300 [00:56<00:36,  3.26it/s]\u001b[0m"
     ]
    },
    {
     "name": "stdout",
     "output_type": "stream",
     "text": [
      "Validation F1 in epoch180 : 0.8188\n",
      "Validation loss in epoch180 : 8351.3281\n"
     ]
    },
    {
     "name": "stderr",
     "output_type": "stream",
     "text": [
      " 64%|\u001b[32m██████████████████████████████████████████████████▉                             \u001b[0m| 191/300 [00:59<00:31,  3.41it/s]\u001b[0m"
     ]
    },
    {
     "name": "stdout",
     "output_type": "stream",
     "text": [
      "Validation F1 in epoch190 : 0.8197\n",
      "Validation loss in epoch190 : 8435.0391\n"
     ]
    },
    {
     "name": "stderr",
     "output_type": "stream",
     "text": [
      " 67%|\u001b[32m█████████████████████████████████████████████████████▌                          \u001b[0m| 201/300 [01:02<00:31,  3.18it/s]\u001b[0m"
     ]
    },
    {
     "name": "stdout",
     "output_type": "stream",
     "text": [
      "Validation F1 in epoch200 : 0.8177\n",
      "Validation loss in epoch200 : 8593.9209\n"
     ]
    },
    {
     "name": "stderr",
     "output_type": "stream",
     "text": [
      " 70%|\u001b[32m████████████████████████████████████████████████████████▎                       \u001b[0m| 211/300 [01:05<00:27,  3.28it/s]\u001b[0m"
     ]
    },
    {
     "name": "stdout",
     "output_type": "stream",
     "text": [
      "Validation F1 in epoch210 : 0.8171\n",
      "Validation loss in epoch210 : 8656.0439\n"
     ]
    },
    {
     "name": "stderr",
     "output_type": "stream",
     "text": [
      " 74%|\u001b[32m██████████████████████████████████████████████████████████▉                     \u001b[0m| 221/300 [01:09<00:24,  3.29it/s]\u001b[0m"
     ]
    },
    {
     "name": "stdout",
     "output_type": "stream",
     "text": [
      "Validation F1 in epoch220 : 0.8127\n",
      "Validation loss in epoch220 : 8870.7998\n"
     ]
    },
    {
     "name": "stderr",
     "output_type": "stream",
     "text": [
      " 77%|\u001b[32m█████████████████████████████████████████████████████████████▌                  \u001b[0m| 231/300 [01:12<00:21,  3.20it/s]\u001b[0m"
     ]
    },
    {
     "name": "stdout",
     "output_type": "stream",
     "text": [
      "Validation F1 in epoch230 : 0.8168\n",
      "Validation loss in epoch230 : 8981.4443\n"
     ]
    },
    {
     "name": "stderr",
     "output_type": "stream",
     "text": [
      " 80%|\u001b[32m████████████████████████████████████████████████████████████████▎               \u001b[0m| 241/300 [01:15<00:17,  3.32it/s]\u001b[0m"
     ]
    },
    {
     "name": "stdout",
     "output_type": "stream",
     "text": [
      "Validation F1 in epoch240 : 0.8142\n",
      "Validation loss in epoch240 : 9011.9961\n"
     ]
    },
    {
     "name": "stderr",
     "output_type": "stream",
     "text": [
      " 84%|\u001b[32m██████████████████████████████████████████████████████████████████▉             \u001b[0m| 251/300 [01:18<00:14,  3.32it/s]\u001b[0m"
     ]
    },
    {
     "name": "stdout",
     "output_type": "stream",
     "text": [
      "Validation F1 in epoch250 : 0.8098\n",
      "Validation loss in epoch250 : 9387.4551\n"
     ]
    },
    {
     "name": "stderr",
     "output_type": "stream",
     "text": [
      " 87%|\u001b[32m█████████████████████████████████████████████████████████████████████▌          \u001b[0m| 261/300 [01:21<00:12,  3.15it/s]\u001b[0m"
     ]
    },
    {
     "name": "stdout",
     "output_type": "stream",
     "text": [
      "Validation F1 in epoch260 : 0.8111\n",
      "Validation loss in epoch260 : 9543.2725\n"
     ]
    },
    {
     "name": "stderr",
     "output_type": "stream",
     "text": [
      " 90%|\u001b[32m████████████████████████████████████████████████████████████████████████▎       \u001b[0m| 271/300 [01:24<00:09,  3.16it/s]\u001b[0m"
     ]
    },
    {
     "name": "stdout",
     "output_type": "stream",
     "text": [
      "Validation F1 in epoch270 : 0.8105\n",
      "Validation loss in epoch270 : 9797.2207\n"
     ]
    },
    {
     "name": "stderr",
     "output_type": "stream",
     "text": [
      " 94%|\u001b[32m██████████████████████████████████████████████████████████████████████████▉     \u001b[0m| 281/300 [01:27<00:05,  3.19it/s]\u001b[0m"
     ]
    },
    {
     "name": "stdout",
     "output_type": "stream",
     "text": [
      "Validation F1 in epoch280 : 0.8087\n",
      "Validation loss in epoch280 : 9960.1133\n"
     ]
    },
    {
     "name": "stderr",
     "output_type": "stream",
     "text": [
      " 97%|\u001b[32m█████████████████████████████████████████████████████████████████████████████▌  \u001b[0m| 291/300 [01:30<00:03,  2.94it/s]\u001b[0m"
     ]
    },
    {
     "name": "stdout",
     "output_type": "stream",
     "text": [
      "Validation F1 in epoch290 : 0.8057\n",
      "Validation loss in epoch290 : 10266.1602\n"
     ]
    },
    {
     "name": "stderr",
     "output_type": "stream",
     "text": [
      "100%|\u001b[32m████████████████████████████████████████████████████████████████████████████████\u001b[0m| 300/300 [01:33<00:00,  3.21it/s]\u001b[0m\n",
      "  0%|\u001b[32m▎                                                                                 \u001b[0m| 1/300 [00:00<01:33,  3.21it/s]\u001b[0m"
     ]
    },
    {
     "name": "stdout",
     "output_type": "stream",
     "text": [
      "Validation F1 in epoch0 : 0.0741\n",
      "Validation loss in epoch0 : 62223.9922\n"
     ]
    },
    {
     "name": "stderr",
     "output_type": "stream",
     "text": [
      "  4%|\u001b[32m██▉                                                                              \u001b[0m| 11/300 [00:03<01:34,  3.06it/s]\u001b[0m"
     ]
    },
    {
     "name": "stdout",
     "output_type": "stream",
     "text": [
      "Validation F1 in epoch10 : 0.0741\n",
      "Validation loss in epoch10 : 62223.9922\n"
     ]
    },
    {
     "name": "stderr",
     "output_type": "stream",
     "text": [
      "  7%|\u001b[32m█████▋                                                                           \u001b[0m| 21/300 [00:06<01:23,  3.32it/s]\u001b[0m"
     ]
    },
    {
     "name": "stdout",
     "output_type": "stream",
     "text": [
      "Validation F1 in epoch20 : 0.5986\n",
      "Validation loss in epoch20 : 21403.1309\n"
     ]
    },
    {
     "name": "stderr",
     "output_type": "stream",
     "text": [
      " 10%|\u001b[32m████████▎                                                                        \u001b[0m| 31/300 [00:09<01:20,  3.35it/s]\u001b[0m"
     ]
    },
    {
     "name": "stdout",
     "output_type": "stream",
     "text": [
      "Validation F1 in epoch30 : 0.6530\n",
      "Validation loss in epoch30 : 16161.2754\n"
     ]
    },
    {
     "name": "stderr",
     "output_type": "stream",
     "text": [
      " 14%|\u001b[32m███████████                                                                      \u001b[0m| 41/300 [00:12<01:13,  3.50it/s]\u001b[0m"
     ]
    },
    {
     "name": "stdout",
     "output_type": "stream",
     "text": [
      "Validation F1 in epoch40 : 0.7511\n",
      "Validation loss in epoch40 : 11271.3438\n"
     ]
    },
    {
     "name": "stderr",
     "output_type": "stream",
     "text": [
      " 17%|\u001b[32m█████████████▊                                                                   \u001b[0m| 51/300 [00:15<01:10,  3.52it/s]\u001b[0m"
     ]
    },
    {
     "name": "stdout",
     "output_type": "stream",
     "text": [
      "Validation F1 in epoch50 : 0.8132\n",
      "Validation loss in epoch50 : 9470.1348\n"
     ]
    },
    {
     "name": "stderr",
     "output_type": "stream",
     "text": [
      " 20%|\u001b[32m████████████████▍                                                                \u001b[0m| 61/300 [00:18<01:16,  3.12it/s]\u001b[0m"
     ]
    },
    {
     "name": "stdout",
     "output_type": "stream",
     "text": [
      "Validation F1 in epoch60 : 0.8358\n",
      "Validation loss in epoch60 : 8160.6699\n"
     ]
    },
    {
     "name": "stderr",
     "output_type": "stream",
     "text": [
      " 24%|\u001b[32m███████████████████▏                                                             \u001b[0m| 71/300 [00:21<01:11,  3.21it/s]\u001b[0m"
     ]
    },
    {
     "name": "stdout",
     "output_type": "stream",
     "text": [
      "Validation F1 in epoch70 : 0.8454\n",
      "Validation loss in epoch70 : 7902.7793\n"
     ]
    },
    {
     "name": "stderr",
     "output_type": "stream",
     "text": [
      " 27%|\u001b[32m█████████████████████▊                                                           \u001b[0m| 81/300 [00:24<01:14,  2.96it/s]\u001b[0m"
     ]
    },
    {
     "name": "stdout",
     "output_type": "stream",
     "text": [
      "Validation F1 in epoch80 : 0.8495\n",
      "Validation loss in epoch80 : 7995.7725\n"
     ]
    },
    {
     "name": "stderr",
     "output_type": "stream",
     "text": [
      " 30%|\u001b[32m████████████████████████▌                                                        \u001b[0m| 91/300 [00:27<01:01,  3.43it/s]\u001b[0m"
     ]
    },
    {
     "name": "stdout",
     "output_type": "stream",
     "text": [
      "Validation F1 in epoch90 : 0.8539\n",
      "Validation loss in epoch90 : 8051.7979\n"
     ]
    },
    {
     "name": "stderr",
     "output_type": "stream",
     "text": [
      " 34%|\u001b[32m██████████████████████████▉                                                     \u001b[0m| 101/300 [00:30<01:03,  3.14it/s]\u001b[0m"
     ]
    },
    {
     "name": "stdout",
     "output_type": "stream",
     "text": [
      "Validation F1 in epoch100 : 0.8565\n",
      "Validation loss in epoch100 : 8224.8477\n"
     ]
    },
    {
     "name": "stderr",
     "output_type": "stream",
     "text": [
      " 37%|\u001b[32m█████████████████████████████▌                                                  \u001b[0m| 111/300 [00:33<00:52,  3.62it/s]\u001b[0m"
     ]
    },
    {
     "name": "stdout",
     "output_type": "stream",
     "text": [
      "Validation F1 in epoch110 : 0.8579\n",
      "Validation loss in epoch110 : 8404.7803\n"
     ]
    },
    {
     "name": "stderr",
     "output_type": "stream",
     "text": [
      " 40%|\u001b[32m████████████████████████████████▎                                               \u001b[0m| 121/300 [00:36<00:54,  3.29it/s]\u001b[0m"
     ]
    },
    {
     "name": "stdout",
     "output_type": "stream",
     "text": [
      "Validation F1 in epoch120 : 0.8594\n",
      "Validation loss in epoch120 : 8572.3779\n"
     ]
    },
    {
     "name": "stderr",
     "output_type": "stream",
     "text": [
      " 44%|\u001b[32m██████████████████████████████████▉                                             \u001b[0m| 131/300 [00:39<00:53,  3.16it/s]\u001b[0m"
     ]
    },
    {
     "name": "stdout",
     "output_type": "stream",
     "text": [
      "Validation F1 in epoch130 : 0.8597\n",
      "Validation loss in epoch130 : 8748.4795\n"
     ]
    },
    {
     "name": "stderr",
     "output_type": "stream",
     "text": [
      " 47%|\u001b[32m█████████████████████████████████████▌                                          \u001b[0m| 141/300 [00:42<00:50,  3.15it/s]\u001b[0m"
     ]
    },
    {
     "name": "stdout",
     "output_type": "stream",
     "text": [
      "Validation F1 in epoch140 : 0.8605\n",
      "Validation loss in epoch140 : 8943.3379\n"
     ]
    },
    {
     "name": "stderr",
     "output_type": "stream",
     "text": [
      " 50%|\u001b[32m████████████████████████████████████████▎                                       \u001b[0m| 151/300 [00:46<00:47,  3.16it/s]\u001b[0m"
     ]
    },
    {
     "name": "stdout",
     "output_type": "stream",
     "text": [
      "Validation F1 in epoch150 : 0.8612\n",
      "Validation loss in epoch150 : 9121.8164\n"
     ]
    },
    {
     "name": "stderr",
     "output_type": "stream",
     "text": [
      " 54%|\u001b[32m██████████████████████████████████████████▉                                     \u001b[0m| 161/300 [00:49<00:41,  3.33it/s]\u001b[0m"
     ]
    },
    {
     "name": "stdout",
     "output_type": "stream",
     "text": [
      "Validation F1 in epoch160 : 0.8616\n",
      "Validation loss in epoch160 : 9301.3662\n"
     ]
    },
    {
     "name": "stderr",
     "output_type": "stream",
     "text": [
      " 57%|\u001b[32m█████████████████████████████████████████████▌                                  \u001b[0m| 171/300 [00:52<00:38,  3.33it/s]\u001b[0m"
     ]
    },
    {
     "name": "stdout",
     "output_type": "stream",
     "text": [
      "Validation F1 in epoch170 : 0.8617\n",
      "Validation loss in epoch170 : 9473.2158\n"
     ]
    },
    {
     "name": "stderr",
     "output_type": "stream",
     "text": [
      " 60%|\u001b[32m████████████████████████████████████████████████▎                               \u001b[0m| 181/300 [00:55<00:36,  3.25it/s]\u001b[0m"
     ]
    },
    {
     "name": "stdout",
     "output_type": "stream",
     "text": [
      "Validation F1 in epoch180 : 0.8623\n",
      "Validation loss in epoch180 : 9637.9326\n"
     ]
    },
    {
     "name": "stderr",
     "output_type": "stream",
     "text": [
      " 64%|\u001b[32m██████████████████████████████████████████████████▉                             \u001b[0m| 191/300 [00:58<00:33,  3.27it/s]\u001b[0m"
     ]
    },
    {
     "name": "stdout",
     "output_type": "stream",
     "text": [
      "Validation F1 in epoch190 : 0.8625\n",
      "Validation loss in epoch190 : 9797.3555\n"
     ]
    },
    {
     "name": "stderr",
     "output_type": "stream",
     "text": [
      " 67%|\u001b[32m█████████████████████████████████████████████████████▌                          \u001b[0m| 201/300 [01:01<00:30,  3.21it/s]\u001b[0m"
     ]
    },
    {
     "name": "stdout",
     "output_type": "stream",
     "text": [
      "Validation F1 in epoch200 : 0.8624\n",
      "Validation loss in epoch200 : 9951.0762\n"
     ]
    },
    {
     "name": "stderr",
     "output_type": "stream",
     "text": [
      " 70%|\u001b[32m████████████████████████████████████████████████████████▎                       \u001b[0m| 211/300 [01:04<00:27,  3.27it/s]\u001b[0m"
     ]
    },
    {
     "name": "stdout",
     "output_type": "stream",
     "text": [
      "Validation F1 in epoch210 : 0.8630\n",
      "Validation loss in epoch210 : 10099.9004\n"
     ]
    },
    {
     "name": "stderr",
     "output_type": "stream",
     "text": [
      " 74%|\u001b[32m██████████████████████████████████████████████████████████▉                     \u001b[0m| 221/300 [01:07<00:25,  3.08it/s]\u001b[0m"
     ]
    },
    {
     "name": "stdout",
     "output_type": "stream",
     "text": [
      "Validation F1 in epoch220 : 0.8629\n",
      "Validation loss in epoch220 : 10244.3945\n"
     ]
    },
    {
     "name": "stderr",
     "output_type": "stream",
     "text": [
      " 77%|\u001b[32m█████████████████████████████████████████████████████████████▌                  \u001b[0m| 231/300 [01:10<00:20,  3.31it/s]\u001b[0m"
     ]
    },
    {
     "name": "stdout",
     "output_type": "stream",
     "text": [
      "Validation F1 in epoch230 : 0.8631\n",
      "Validation loss in epoch230 : 10384.1465\n"
     ]
    },
    {
     "name": "stderr",
     "output_type": "stream",
     "text": [
      " 80%|\u001b[32m████████████████████████████████████████████████████████████████▎               \u001b[0m| 241/300 [01:13<00:17,  3.36it/s]\u001b[0m"
     ]
    },
    {
     "name": "stdout",
     "output_type": "stream",
     "text": [
      "Validation F1 in epoch240 : 0.8631\n",
      "Validation loss in epoch240 : 10520.3203\n"
     ]
    },
    {
     "name": "stderr",
     "output_type": "stream",
     "text": [
      " 84%|\u001b[32m██████████████████████████████████████████████████████████████████▉             \u001b[0m| 251/300 [01:16<00:16,  3.02it/s]\u001b[0m"
     ]
    },
    {
     "name": "stdout",
     "output_type": "stream",
     "text": [
      "Validation F1 in epoch250 : 0.8628\n",
      "Validation loss in epoch250 : 10653.1045\n"
     ]
    },
    {
     "name": "stderr",
     "output_type": "stream",
     "text": [
      " 87%|\u001b[32m█████████████████████████████████████████████████████████████████████▌          \u001b[0m| 261/300 [01:20<00:12,  3.17it/s]\u001b[0m"
     ]
    },
    {
     "name": "stdout",
     "output_type": "stream",
     "text": [
      "Validation F1 in epoch260 : 0.8625\n",
      "Validation loss in epoch260 : 10780.9727\n"
     ]
    },
    {
     "name": "stderr",
     "output_type": "stream",
     "text": [
      " 90%|\u001b[32m████████████████████████████████████████████████████████████████████████▎       \u001b[0m| 271/300 [01:22<00:08,  3.28it/s]\u001b[0m"
     ]
    },
    {
     "name": "stdout",
     "output_type": "stream",
     "text": [
      "Validation F1 in epoch270 : 0.8626\n",
      "Validation loss in epoch270 : 10905.5352\n"
     ]
    },
    {
     "name": "stderr",
     "output_type": "stream",
     "text": [
      " 94%|\u001b[32m██████████████████████████████████████████████████████████████████████████▉     \u001b[0m| 281/300 [01:25<00:05,  3.19it/s]\u001b[0m"
     ]
    },
    {
     "name": "stdout",
     "output_type": "stream",
     "text": [
      "Validation F1 in epoch280 : 0.8627\n",
      "Validation loss in epoch280 : 11026.7598\n"
     ]
    },
    {
     "name": "stderr",
     "output_type": "stream",
     "text": [
      " 97%|\u001b[32m█████████████████████████████████████████████████████████████████████████████▌  \u001b[0m| 291/300 [01:29<00:02,  3.21it/s]\u001b[0m"
     ]
    },
    {
     "name": "stdout",
     "output_type": "stream",
     "text": [
      "Validation F1 in epoch290 : 0.8627\n",
      "Validation loss in epoch290 : 11147.0488\n"
     ]
    },
    {
     "name": "stderr",
     "output_type": "stream",
     "text": [
      "100%|\u001b[32m████████████████████████████████████████████████████████████████████████████████\u001b[0m| 300/300 [01:31<00:00,  3.27it/s]\u001b[0m\n",
      "  0%|\u001b[32m▎                                                                                 \u001b[0m| 1/300 [00:00<01:44,  2.87it/s]\u001b[0m"
     ]
    },
    {
     "name": "stdout",
     "output_type": "stream",
     "text": [
      "Validation F1 in epoch0 : 0.1518\n",
      "Validation loss in epoch0 : 62481.2344\n"
     ]
    },
    {
     "name": "stderr",
     "output_type": "stream",
     "text": [
      "  4%|\u001b[32m██▉                                                                              \u001b[0m| 11/300 [00:03<01:30,  3.21it/s]\u001b[0m"
     ]
    },
    {
     "name": "stdout",
     "output_type": "stream",
     "text": [
      "Validation F1 in epoch10 : 0.1488\n",
      "Validation loss in epoch10 : 62479.8203\n"
     ]
    },
    {
     "name": "stderr",
     "output_type": "stream",
     "text": [
      "  7%|\u001b[32m█████▋                                                                           \u001b[0m| 21/300 [00:06<01:27,  3.18it/s]\u001b[0m"
     ]
    },
    {
     "name": "stdout",
     "output_type": "stream",
     "text": [
      "Validation F1 in epoch20 : 0.5654\n",
      "Validation loss in epoch20 : 24513.3398\n"
     ]
    },
    {
     "name": "stderr",
     "output_type": "stream",
     "text": [
      " 10%|\u001b[32m████████▎                                                                        \u001b[0m| 31/300 [00:09<01:19,  3.37it/s]\u001b[0m"
     ]
    },
    {
     "name": "stdout",
     "output_type": "stream",
     "text": [
      "Validation F1 in epoch30 : 0.6102\n",
      "Validation loss in epoch30 : 16915.0938\n"
     ]
    },
    {
     "name": "stderr",
     "output_type": "stream",
     "text": [
      " 14%|\u001b[32m███████████                                                                      \u001b[0m| 41/300 [00:12<01:21,  3.16it/s]\u001b[0m"
     ]
    },
    {
     "name": "stdout",
     "output_type": "stream",
     "text": [
      "Validation F1 in epoch40 : 0.6499\n",
      "Validation loss in epoch40 : 12608.2598\n"
     ]
    },
    {
     "name": "stderr",
     "output_type": "stream",
     "text": [
      " 17%|\u001b[32m█████████████▊                                                                   \u001b[0m| 51/300 [00:16<01:15,  3.28it/s]\u001b[0m"
     ]
    },
    {
     "name": "stdout",
     "output_type": "stream",
     "text": [
      "Validation F1 in epoch50 : 0.7554\n",
      "Validation loss in epoch50 : 9711.1650\n"
     ]
    },
    {
     "name": "stderr",
     "output_type": "stream",
     "text": [
      " 20%|\u001b[32m████████████████▍                                                                \u001b[0m| 61/300 [00:19<01:15,  3.17it/s]\u001b[0m"
     ]
    },
    {
     "name": "stdout",
     "output_type": "stream",
     "text": [
      "Validation F1 in epoch60 : 0.7946\n",
      "Validation loss in epoch60 : 8500.9414\n"
     ]
    },
    {
     "name": "stderr",
     "output_type": "stream",
     "text": [
      " 24%|\u001b[32m███████████████████▏                                                             \u001b[0m| 71/300 [00:22<01:09,  3.28it/s]\u001b[0m"
     ]
    },
    {
     "name": "stdout",
     "output_type": "stream",
     "text": [
      "Validation F1 in epoch70 : 0.8154\n",
      "Validation loss in epoch70 : 7814.9292\n"
     ]
    },
    {
     "name": "stderr",
     "output_type": "stream",
     "text": [
      " 27%|\u001b[32m█████████████████████▊                                                           \u001b[0m| 81/300 [00:25<01:08,  3.18it/s]\u001b[0m"
     ]
    },
    {
     "name": "stdout",
     "output_type": "stream",
     "text": [
      "Validation F1 in epoch80 : 0.8242\n",
      "Validation loss in epoch80 : 7404.6108\n"
     ]
    },
    {
     "name": "stderr",
     "output_type": "stream",
     "text": [
      " 30%|\u001b[32m████████████████████████▌                                                        \u001b[0m| 91/300 [00:28<01:03,  3.29it/s]\u001b[0m"
     ]
    },
    {
     "name": "stdout",
     "output_type": "stream",
     "text": [
      "Validation F1 in epoch90 : 0.8374\n",
      "Validation loss in epoch90 : 7091.6992\n"
     ]
    },
    {
     "name": "stderr",
     "output_type": "stream",
     "text": [
      " 34%|\u001b[32m██████████████████████████▉                                                     \u001b[0m| 101/300 [00:31<01:02,  3.20it/s]\u001b[0m"
     ]
    },
    {
     "name": "stdout",
     "output_type": "stream",
     "text": [
      "Validation F1 in epoch100 : 0.8412\n",
      "Validation loss in epoch100 : 6937.9155\n"
     ]
    },
    {
     "name": "stderr",
     "output_type": "stream",
     "text": [
      " 37%|\u001b[32m█████████████████████████████▌                                                  \u001b[0m| 111/300 [00:34<00:59,  3.20it/s]\u001b[0m"
     ]
    },
    {
     "name": "stdout",
     "output_type": "stream",
     "text": [
      "Validation F1 in epoch110 : 0.8412\n",
      "Validation loss in epoch110 : 6910.0830\n"
     ]
    },
    {
     "name": "stderr",
     "output_type": "stream",
     "text": [
      " 40%|\u001b[32m████████████████████████████████▎                                               \u001b[0m| 121/300 [00:37<00:55,  3.21it/s]\u001b[0m"
     ]
    },
    {
     "name": "stdout",
     "output_type": "stream",
     "text": [
      "Validation F1 in epoch120 : 0.8419\n",
      "Validation loss in epoch120 : 6798.4966\n"
     ]
    },
    {
     "name": "stderr",
     "output_type": "stream",
     "text": [
      " 44%|\u001b[32m██████████████████████████████████▉                                             \u001b[0m| 131/300 [00:41<00:53,  3.18it/s]\u001b[0m"
     ]
    },
    {
     "name": "stdout",
     "output_type": "stream",
     "text": [
      "Validation F1 in epoch130 : 0.8462\n",
      "Validation loss in epoch130 : 6866.3960\n"
     ]
    },
    {
     "name": "stderr",
     "output_type": "stream",
     "text": [
      " 47%|\u001b[32m█████████████████████████████████████▌                                          \u001b[0m| 141/300 [00:44<00:53,  2.97it/s]\u001b[0m"
     ]
    },
    {
     "name": "stdout",
     "output_type": "stream",
     "text": [
      "Validation F1 in epoch140 : 0.8435\n",
      "Validation loss in epoch140 : 6955.7852\n"
     ]
    },
    {
     "name": "stderr",
     "output_type": "stream",
     "text": [
      " 50%|\u001b[32m████████████████████████████████████████▎                                       \u001b[0m| 151/300 [00:47<00:45,  3.30it/s]\u001b[0m"
     ]
    },
    {
     "name": "stdout",
     "output_type": "stream",
     "text": [
      "Validation F1 in epoch150 : 0.8469\n",
      "Validation loss in epoch150 : 6871.1230\n"
     ]
    },
    {
     "name": "stderr",
     "output_type": "stream",
     "text": [
      " 54%|\u001b[32m██████████████████████████████████████████▉                                     \u001b[0m| 161/300 [00:50<00:42,  3.30it/s]\u001b[0m"
     ]
    },
    {
     "name": "stdout",
     "output_type": "stream",
     "text": [
      "Validation F1 in epoch160 : 0.8454\n",
      "Validation loss in epoch160 : 6977.6172\n"
     ]
    },
    {
     "name": "stderr",
     "output_type": "stream",
     "text": [
      " 57%|\u001b[32m█████████████████████████████████████████████▌                                  \u001b[0m| 171/300 [00:53<00:40,  3.17it/s]\u001b[0m"
     ]
    },
    {
     "name": "stdout",
     "output_type": "stream",
     "text": [
      "Validation F1 in epoch170 : 0.8442\n",
      "Validation loss in epoch170 : 7099.2881\n"
     ]
    },
    {
     "name": "stderr",
     "output_type": "stream",
     "text": [
      " 60%|\u001b[32m████████████████████████████████████████████████▎                               \u001b[0m| 181/300 [00:56<00:37,  3.20it/s]\u001b[0m"
     ]
    },
    {
     "name": "stdout",
     "output_type": "stream",
     "text": [
      "Validation F1 in epoch180 : 0.8471\n",
      "Validation loss in epoch180 : 7241.5781\n"
     ]
    },
    {
     "name": "stderr",
     "output_type": "stream",
     "text": [
      " 64%|\u001b[32m██████████████████████████████████████████████████▉                             \u001b[0m| 191/300 [00:59<00:34,  3.15it/s]\u001b[0m"
     ]
    },
    {
     "name": "stdout",
     "output_type": "stream",
     "text": [
      "Validation F1 in epoch190 : 0.8424\n",
      "Validation loss in epoch190 : 7561.3359\n"
     ]
    },
    {
     "name": "stderr",
     "output_type": "stream",
     "text": [
      " 67%|\u001b[32m█████████████████████████████████████████████████████▌                          \u001b[0m| 201/300 [01:02<00:31,  3.11it/s]\u001b[0m"
     ]
    },
    {
     "name": "stdout",
     "output_type": "stream",
     "text": [
      "Validation F1 in epoch200 : 0.8394\n",
      "Validation loss in epoch200 : 7713.7695\n"
     ]
    },
    {
     "name": "stderr",
     "output_type": "stream",
     "text": [
      " 70%|\u001b[32m████████████████████████████████████████████████████████▎                       \u001b[0m| 211/300 [01:06<00:27,  3.22it/s]\u001b[0m"
     ]
    },
    {
     "name": "stdout",
     "output_type": "stream",
     "text": [
      "Validation F1 in epoch210 : 0.8434\n",
      "Validation loss in epoch210 : 7857.4629\n"
     ]
    },
    {
     "name": "stderr",
     "output_type": "stream",
     "text": [
      " 74%|\u001b[32m██████████████████████████████████████████████████████████▉                     \u001b[0m| 221/300 [01:09<00:23,  3.34it/s]\u001b[0m"
     ]
    },
    {
     "name": "stdout",
     "output_type": "stream",
     "text": [
      "Validation F1 in epoch220 : 0.8388\n",
      "Validation loss in epoch220 : 8230.1826\n"
     ]
    },
    {
     "name": "stderr",
     "output_type": "stream",
     "text": [
      " 77%|\u001b[32m█████████████████████████████████████████████████████████████▌                  \u001b[0m| 231/300 [01:12<00:23,  2.92it/s]\u001b[0m"
     ]
    },
    {
     "name": "stdout",
     "output_type": "stream",
     "text": [
      "Validation F1 in epoch230 : 0.8406\n",
      "Validation loss in epoch230 : 8586.4160\n"
     ]
    },
    {
     "name": "stderr",
     "output_type": "stream",
     "text": [
      " 80%|\u001b[32m████████████████████████████████████████████████████████████████▎               \u001b[0m| 241/300 [01:15<00:17,  3.29it/s]\u001b[0m"
     ]
    },
    {
     "name": "stdout",
     "output_type": "stream",
     "text": [
      "Validation F1 in epoch240 : 0.8397\n",
      "Validation loss in epoch240 : 8736.8496\n"
     ]
    },
    {
     "name": "stderr",
     "output_type": "stream",
     "text": [
      " 84%|\u001b[32m██████████████████████████████████████████████████████████████████▉             \u001b[0m| 251/300 [01:18<00:15,  3.16it/s]\u001b[0m"
     ]
    },
    {
     "name": "stdout",
     "output_type": "stream",
     "text": [
      "Validation F1 in epoch250 : 0.8368\n",
      "Validation loss in epoch250 : 9001.4121\n"
     ]
    },
    {
     "name": "stderr",
     "output_type": "stream",
     "text": [
      " 87%|\u001b[32m█████████████████████████████████████████████████████████████████████▌          \u001b[0m| 261/300 [01:21<00:12,  3.11it/s]\u001b[0m"
     ]
    },
    {
     "name": "stdout",
     "output_type": "stream",
     "text": [
      "Validation F1 in epoch260 : 0.8385\n",
      "Validation loss in epoch260 : 9349.5801\n"
     ]
    },
    {
     "name": "stderr",
     "output_type": "stream",
     "text": [
      " 90%|\u001b[32m████████████████████████████████████████████████████████████████████████▎       \u001b[0m| 271/300 [01:25<00:09,  3.08it/s]\u001b[0m"
     ]
    },
    {
     "name": "stdout",
     "output_type": "stream",
     "text": [
      "Validation F1 in epoch270 : 0.8358\n",
      "Validation loss in epoch270 : 9638.4912\n"
     ]
    },
    {
     "name": "stderr",
     "output_type": "stream",
     "text": [
      " 94%|\u001b[32m██████████████████████████████████████████████████████████████████████████▉     \u001b[0m| 281/300 [01:28<00:06,  3.00it/s]\u001b[0m"
     ]
    },
    {
     "name": "stdout",
     "output_type": "stream",
     "text": [
      "Validation F1 in epoch280 : 0.8362\n",
      "Validation loss in epoch280 : 9808.0371\n"
     ]
    },
    {
     "name": "stderr",
     "output_type": "stream",
     "text": [
      " 97%|\u001b[32m█████████████████████████████████████████████████████████████████████████████▌  \u001b[0m| 291/300 [01:31<00:02,  3.24it/s]\u001b[0m"
     ]
    },
    {
     "name": "stdout",
     "output_type": "stream",
     "text": [
      "Validation F1 in epoch290 : 0.8383\n",
      "Validation loss in epoch290 : 10076.3438\n"
     ]
    },
    {
     "name": "stderr",
     "output_type": "stream",
     "text": [
      "100%|\u001b[32m████████████████████████████████████████████████████████████████████████████████\u001b[0m| 300/300 [01:34<00:00,  3.18it/s]\u001b[0m\n",
      "  0%|\u001b[32m▎                                                                                 \u001b[0m| 1/300 [00:00<01:30,  3.29it/s]\u001b[0m"
     ]
    },
    {
     "name": "stdout",
     "output_type": "stream",
     "text": [
      "Validation F1 in epoch0 : 0.1345\n",
      "Validation loss in epoch0 : 62509.1094\n"
     ]
    },
    {
     "name": "stderr",
     "output_type": "stream",
     "text": [
      "  4%|\u001b[32m██▉                                                                              \u001b[0m| 11/300 [00:03<01:39,  2.89it/s]\u001b[0m"
     ]
    },
    {
     "name": "stdout",
     "output_type": "stream",
     "text": [
      "Validation F1 in epoch10 : 0.1329\n",
      "Validation loss in epoch10 : 62518.2109\n"
     ]
    },
    {
     "name": "stderr",
     "output_type": "stream",
     "text": [
      "  7%|\u001b[32m█████▋                                                                           \u001b[0m| 21/300 [00:06<01:28,  3.16it/s]\u001b[0m"
     ]
    },
    {
     "name": "stdout",
     "output_type": "stream",
     "text": [
      "Validation F1 in epoch20 : 0.5887\n",
      "Validation loss in epoch20 : 24041.6367\n"
     ]
    },
    {
     "name": "stderr",
     "output_type": "stream",
     "text": [
      " 10%|\u001b[32m████████▎                                                                        \u001b[0m| 31/300 [00:09<01:30,  2.98it/s]\u001b[0m"
     ]
    },
    {
     "name": "stdout",
     "output_type": "stream",
     "text": [
      "Validation F1 in epoch30 : 0.5861\n",
      "Validation loss in epoch30 : 18351.2500\n"
     ]
    },
    {
     "name": "stderr",
     "output_type": "stream",
     "text": [
      " 14%|\u001b[32m███████████                                                                      \u001b[0m| 41/300 [00:13<01:20,  3.22it/s]\u001b[0m"
     ]
    },
    {
     "name": "stdout",
     "output_type": "stream",
     "text": [
      "Validation F1 in epoch40 : 0.6240\n",
      "Validation loss in epoch40 : 13903.4932\n"
     ]
    },
    {
     "name": "stderr",
     "output_type": "stream",
     "text": [
      " 17%|\u001b[32m█████████████▊                                                                   \u001b[0m| 51/300 [00:16<01:12,  3.44it/s]\u001b[0m"
     ]
    },
    {
     "name": "stdout",
     "output_type": "stream",
     "text": [
      "Validation F1 in epoch50 : 0.7246\n",
      "Validation loss in epoch50 : 11125.7314\n"
     ]
    },
    {
     "name": "stderr",
     "output_type": "stream",
     "text": [
      " 20%|\u001b[32m████████████████▍                                                                \u001b[0m| 61/300 [00:19<01:14,  3.22it/s]\u001b[0m"
     ]
    },
    {
     "name": "stdout",
     "output_type": "stream",
     "text": [
      "Validation F1 in epoch60 : 0.7746\n",
      "Validation loss in epoch60 : 9767.6777\n"
     ]
    },
    {
     "name": "stderr",
     "output_type": "stream",
     "text": [
      " 24%|\u001b[32m███████████████████▏                                                             \u001b[0m| 71/300 [00:22<01:09,  3.31it/s]\u001b[0m"
     ]
    },
    {
     "name": "stdout",
     "output_type": "stream",
     "text": [
      "Validation F1 in epoch70 : 0.7960\n",
      "Validation loss in epoch70 : 9089.8555\n"
     ]
    },
    {
     "name": "stderr",
     "output_type": "stream",
     "text": [
      " 27%|\u001b[32m█████████████████████▊                                                           \u001b[0m| 81/300 [00:25<01:06,  3.29it/s]\u001b[0m"
     ]
    },
    {
     "name": "stdout",
     "output_type": "stream",
     "text": [
      "Validation F1 in epoch80 : 0.8063\n",
      "Validation loss in epoch80 : 8689.3027\n"
     ]
    },
    {
     "name": "stderr",
     "output_type": "stream",
     "text": [
      " 30%|\u001b[32m████████████████████████▌                                                        \u001b[0m| 91/300 [00:28<01:05,  3.20it/s]\u001b[0m"
     ]
    },
    {
     "name": "stdout",
     "output_type": "stream",
     "text": [
      "Validation F1 in epoch90 : 0.8134\n",
      "Validation loss in epoch90 : 8455.8828\n"
     ]
    },
    {
     "name": "stderr",
     "output_type": "stream",
     "text": [
      " 34%|\u001b[32m██████████████████████████▉                                                     \u001b[0m| 101/300 [00:31<01:00,  3.26it/s]\u001b[0m"
     ]
    },
    {
     "name": "stdout",
     "output_type": "stream",
     "text": [
      "Validation F1 in epoch100 : 0.8177\n",
      "Validation loss in epoch100 : 8350.2930\n"
     ]
    },
    {
     "name": "stderr",
     "output_type": "stream",
     "text": [
      " 37%|\u001b[32m█████████████████████████████▌                                                  \u001b[0m| 111/300 [00:34<01:00,  3.13it/s]\u001b[0m"
     ]
    },
    {
     "name": "stdout",
     "output_type": "stream",
     "text": [
      "Validation F1 in epoch110 : 0.8199\n",
      "Validation loss in epoch110 : 8277.7676\n"
     ]
    },
    {
     "name": "stderr",
     "output_type": "stream",
     "text": [
      " 40%|\u001b[32m████████████████████████████████▎                                               \u001b[0m| 121/300 [00:37<00:53,  3.35it/s]\u001b[0m"
     ]
    },
    {
     "name": "stdout",
     "output_type": "stream",
     "text": [
      "Validation F1 in epoch120 : 0.8224\n",
      "Validation loss in epoch120 : 8178.5811\n"
     ]
    },
    {
     "name": "stderr",
     "output_type": "stream",
     "text": [
      " 44%|\u001b[32m██████████████████████████████████▉                                             \u001b[0m| 131/300 [00:41<00:50,  3.36it/s]\u001b[0m"
     ]
    },
    {
     "name": "stdout",
     "output_type": "stream",
     "text": [
      "Validation F1 in epoch130 : 0.8191\n",
      "Validation loss in epoch130 : 8252.9131\n"
     ]
    },
    {
     "name": "stderr",
     "output_type": "stream",
     "text": [
      " 47%|\u001b[32m█████████████████████████████████████▌                                          \u001b[0m| 141/300 [00:44<00:49,  3.23it/s]\u001b[0m"
     ]
    },
    {
     "name": "stdout",
     "output_type": "stream",
     "text": [
      "Validation F1 in epoch140 : 0.8208\n",
      "Validation loss in epoch140 : 8244.4023\n"
     ]
    },
    {
     "name": "stderr",
     "output_type": "stream",
     "text": [
      " 50%|\u001b[32m████████████████████████████████████████▎                                       \u001b[0m| 151/300 [00:47<00:46,  3.21it/s]\u001b[0m"
     ]
    },
    {
     "name": "stdout",
     "output_type": "stream",
     "text": [
      "Validation F1 in epoch150 : 0.8202\n",
      "Validation loss in epoch150 : 8201.3027\n"
     ]
    },
    {
     "name": "stderr",
     "output_type": "stream",
     "text": [
      " 54%|\u001b[32m██████████████████████████████████████████▉                                     \u001b[0m| 161/300 [00:50<00:41,  3.35it/s]\u001b[0m"
     ]
    },
    {
     "name": "stdout",
     "output_type": "stream",
     "text": [
      "Validation F1 in epoch160 : 0.8221\n",
      "Validation loss in epoch160 : 8191.3872\n"
     ]
    },
    {
     "name": "stderr",
     "output_type": "stream",
     "text": [
      " 57%|\u001b[32m█████████████████████████████████████████████▌                                  \u001b[0m| 171/300 [00:53<00:40,  3.16it/s]\u001b[0m"
     ]
    },
    {
     "name": "stdout",
     "output_type": "stream",
     "text": [
      "Validation F1 in epoch170 : 0.8204\n",
      "Validation loss in epoch170 : 8223.4141\n"
     ]
    },
    {
     "name": "stderr",
     "output_type": "stream",
     "text": [
      " 60%|\u001b[32m████████████████████████████████████████████████▎                               \u001b[0m| 181/300 [00:56<00:36,  3.23it/s]\u001b[0m"
     ]
    },
    {
     "name": "stdout",
     "output_type": "stream",
     "text": [
      "Validation F1 in epoch180 : 0.8188\n",
      "Validation loss in epoch180 : 8351.3281\n"
     ]
    },
    {
     "name": "stderr",
     "output_type": "stream",
     "text": [
      " 64%|\u001b[32m██████████████████████████████████████████████████▉                             \u001b[0m| 191/300 [00:59<00:32,  3.32it/s]\u001b[0m"
     ]
    },
    {
     "name": "stdout",
     "output_type": "stream",
     "text": [
      "Validation F1 in epoch190 : 0.8197\n",
      "Validation loss in epoch190 : 8435.0391\n"
     ]
    },
    {
     "name": "stderr",
     "output_type": "stream",
     "text": [
      " 67%|\u001b[32m█████████████████████████████████████████████████████▌                          \u001b[0m| 201/300 [01:02<00:29,  3.37it/s]\u001b[0m"
     ]
    },
    {
     "name": "stdout",
     "output_type": "stream",
     "text": [
      "Validation F1 in epoch200 : 0.8177\n",
      "Validation loss in epoch200 : 8593.9209\n"
     ]
    },
    {
     "name": "stderr",
     "output_type": "stream",
     "text": [
      " 70%|\u001b[32m████████████████████████████████████████████████████████▎                       \u001b[0m| 211/300 [01:06<00:28,  3.12it/s]\u001b[0m"
     ]
    },
    {
     "name": "stdout",
     "output_type": "stream",
     "text": [
      "Validation F1 in epoch210 : 0.8171\n",
      "Validation loss in epoch210 : 8656.0439\n"
     ]
    },
    {
     "name": "stderr",
     "output_type": "stream",
     "text": [
      " 74%|\u001b[32m██████████████████████████████████████████████████████████▉                     \u001b[0m| 221/300 [01:09<00:24,  3.25it/s]\u001b[0m"
     ]
    },
    {
     "name": "stdout",
     "output_type": "stream",
     "text": [
      "Validation F1 in epoch220 : 0.8127\n",
      "Validation loss in epoch220 : 8870.7998\n"
     ]
    },
    {
     "name": "stderr",
     "output_type": "stream",
     "text": [
      " 77%|\u001b[32m█████████████████████████████████████████████████████████████▌                  \u001b[0m| 231/300 [01:12<00:21,  3.17it/s]\u001b[0m"
     ]
    },
    {
     "name": "stdout",
     "output_type": "stream",
     "text": [
      "Validation F1 in epoch230 : 0.8168\n",
      "Validation loss in epoch230 : 8981.4443\n"
     ]
    },
    {
     "name": "stderr",
     "output_type": "stream",
     "text": [
      " 80%|\u001b[32m████████████████████████████████████████████████████████████████▎               \u001b[0m| 241/300 [01:15<00:18,  3.25it/s]\u001b[0m"
     ]
    },
    {
     "name": "stdout",
     "output_type": "stream",
     "text": [
      "Validation F1 in epoch240 : 0.8142\n",
      "Validation loss in epoch240 : 9011.9961\n"
     ]
    },
    {
     "name": "stderr",
     "output_type": "stream",
     "text": [
      " 84%|\u001b[32m██████████████████████████████████████████████████████████████████▉             \u001b[0m| 251/300 [01:18<00:15,  3.11it/s]\u001b[0m"
     ]
    },
    {
     "name": "stdout",
     "output_type": "stream",
     "text": [
      "Validation F1 in epoch250 : 0.8098\n",
      "Validation loss in epoch250 : 9387.4551\n"
     ]
    },
    {
     "name": "stderr",
     "output_type": "stream",
     "text": [
      " 87%|\u001b[32m█████████████████████████████████████████████████████████████████████▌          \u001b[0m| 261/300 [01:21<00:11,  3.38it/s]\u001b[0m"
     ]
    },
    {
     "name": "stdout",
     "output_type": "stream",
     "text": [
      "Validation F1 in epoch260 : 0.8111\n",
      "Validation loss in epoch260 : 9543.2725\n"
     ]
    },
    {
     "name": "stderr",
     "output_type": "stream",
     "text": [
      " 90%|\u001b[32m████████████████████████████████████████████████████████████████████████▎       \u001b[0m| 271/300 [01:24<00:08,  3.23it/s]\u001b[0m"
     ]
    },
    {
     "name": "stdout",
     "output_type": "stream",
     "text": [
      "Validation F1 in epoch270 : 0.8105\n",
      "Validation loss in epoch270 : 9797.2207\n"
     ]
    },
    {
     "name": "stderr",
     "output_type": "stream",
     "text": [
      " 94%|\u001b[32m██████████████████████████████████████████████████████████████████████████▉     \u001b[0m| 281/300 [01:27<00:05,  3.20it/s]\u001b[0m"
     ]
    },
    {
     "name": "stdout",
     "output_type": "stream",
     "text": [
      "Validation F1 in epoch280 : 0.8087\n",
      "Validation loss in epoch280 : 9960.1133\n"
     ]
    },
    {
     "name": "stderr",
     "output_type": "stream",
     "text": [
      " 97%|\u001b[32m█████████████████████████████████████████████████████████████████████████████▌  \u001b[0m| 291/300 [01:31<00:02,  3.06it/s]\u001b[0m"
     ]
    },
    {
     "name": "stdout",
     "output_type": "stream",
     "text": [
      "Validation F1 in epoch290 : 0.8057\n",
      "Validation loss in epoch290 : 10266.1602\n"
     ]
    },
    {
     "name": "stderr",
     "output_type": "stream",
     "text": [
      "100%|\u001b[32m████████████████████████████████████████████████████████████████████████████████\u001b[0m| 300/300 [01:33<00:00,  3.20it/s]\u001b[0m\n",
      "  0%|\u001b[32m▎                                                                                 \u001b[0m| 1/300 [00:00<01:21,  3.65it/s]\u001b[0m"
     ]
    },
    {
     "name": "stdout",
     "output_type": "stream",
     "text": [
      "Validation F1 in epoch0 : 0.0741\n",
      "Validation loss in epoch0 : 62223.9922\n"
     ]
    },
    {
     "name": "stderr",
     "output_type": "stream",
     "text": [
      "  4%|\u001b[32m██▉                                                                              \u001b[0m| 11/300 [00:03<01:32,  3.11it/s]\u001b[0m"
     ]
    },
    {
     "name": "stdout",
     "output_type": "stream",
     "text": [
      "Validation F1 in epoch10 : 0.0741\n",
      "Validation loss in epoch10 : 62223.9922\n"
     ]
    },
    {
     "name": "stderr",
     "output_type": "stream",
     "text": [
      "  7%|\u001b[32m█████▋                                                                           \u001b[0m| 21/300 [00:06<01:31,  3.06it/s]\u001b[0m"
     ]
    },
    {
     "name": "stdout",
     "output_type": "stream",
     "text": [
      "Validation F1 in epoch20 : 0.5986\n",
      "Validation loss in epoch20 : 21403.1309\n"
     ]
    },
    {
     "name": "stderr",
     "output_type": "stream",
     "text": [
      " 10%|\u001b[32m████████▎                                                                        \u001b[0m| 31/300 [00:09<01:22,  3.25it/s]\u001b[0m"
     ]
    },
    {
     "name": "stdout",
     "output_type": "stream",
     "text": [
      "Validation F1 in epoch30 : 0.6530\n",
      "Validation loss in epoch30 : 16161.2754\n"
     ]
    },
    {
     "name": "stderr",
     "output_type": "stream",
     "text": [
      " 14%|\u001b[32m███████████                                                                      \u001b[0m| 41/300 [00:12<01:20,  3.23it/s]\u001b[0m"
     ]
    },
    {
     "name": "stdout",
     "output_type": "stream",
     "text": [
      "Validation F1 in epoch40 : 0.7511\n",
      "Validation loss in epoch40 : 11271.3438\n"
     ]
    },
    {
     "name": "stderr",
     "output_type": "stream",
     "text": [
      " 17%|\u001b[32m█████████████▊                                                                   \u001b[0m| 51/300 [00:15<01:12,  3.42it/s]\u001b[0m"
     ]
    },
    {
     "name": "stdout",
     "output_type": "stream",
     "text": [
      "Validation F1 in epoch50 : 0.8132\n",
      "Validation loss in epoch50 : 9470.1348\n"
     ]
    },
    {
     "name": "stderr",
     "output_type": "stream",
     "text": [
      " 20%|\u001b[32m████████████████▍                                                                \u001b[0m| 61/300 [00:18<01:14,  3.20it/s]\u001b[0m"
     ]
    },
    {
     "name": "stdout",
     "output_type": "stream",
     "text": [
      "Validation F1 in epoch60 : 0.8358\n",
      "Validation loss in epoch60 : 8160.6699\n"
     ]
    },
    {
     "name": "stderr",
     "output_type": "stream",
     "text": [
      " 24%|\u001b[32m███████████████████▏                                                             \u001b[0m| 71/300 [00:21<01:06,  3.45it/s]\u001b[0m"
     ]
    },
    {
     "name": "stdout",
     "output_type": "stream",
     "text": [
      "Validation F1 in epoch70 : 0.8454\n",
      "Validation loss in epoch70 : 7902.7793\n"
     ]
    },
    {
     "name": "stderr",
     "output_type": "stream",
     "text": [
      " 27%|\u001b[32m█████████████████████▊                                                           \u001b[0m| 81/300 [00:24<01:05,  3.32it/s]\u001b[0m"
     ]
    },
    {
     "name": "stdout",
     "output_type": "stream",
     "text": [
      "Validation F1 in epoch80 : 0.8495\n",
      "Validation loss in epoch80 : 7995.7725\n"
     ]
    },
    {
     "name": "stderr",
     "output_type": "stream",
     "text": [
      " 30%|\u001b[32m████████████████████████▌                                                        \u001b[0m| 91/300 [00:27<01:08,  3.06it/s]\u001b[0m"
     ]
    },
    {
     "name": "stdout",
     "output_type": "stream",
     "text": [
      "Validation F1 in epoch90 : 0.8539\n",
      "Validation loss in epoch90 : 8051.7979\n"
     ]
    },
    {
     "name": "stderr",
     "output_type": "stream",
     "text": [
      " 34%|\u001b[32m██████████████████████████▉                                                     \u001b[0m| 101/300 [00:30<01:01,  3.26it/s]\u001b[0m"
     ]
    },
    {
     "name": "stdout",
     "output_type": "stream",
     "text": [
      "Validation F1 in epoch100 : 0.8565\n",
      "Validation loss in epoch100 : 8224.8477\n"
     ]
    },
    {
     "name": "stderr",
     "output_type": "stream",
     "text": [
      " 37%|\u001b[32m█████████████████████████████▌                                                  \u001b[0m| 111/300 [00:34<00:59,  3.15it/s]\u001b[0m"
     ]
    },
    {
     "name": "stdout",
     "output_type": "stream",
     "text": [
      "Validation F1 in epoch110 : 0.8579\n",
      "Validation loss in epoch110 : 8404.7803\n"
     ]
    },
    {
     "name": "stderr",
     "output_type": "stream",
     "text": [
      " 40%|\u001b[32m████████████████████████████████▎                                               \u001b[0m| 121/300 [00:37<00:55,  3.21it/s]\u001b[0m"
     ]
    },
    {
     "name": "stdout",
     "output_type": "stream",
     "text": [
      "Validation F1 in epoch120 : 0.8594\n",
      "Validation loss in epoch120 : 8572.3779\n"
     ]
    },
    {
     "name": "stderr",
     "output_type": "stream",
     "text": [
      " 44%|\u001b[32m██████████████████████████████████▉                                             \u001b[0m| 131/300 [00:40<00:52,  3.23it/s]\u001b[0m"
     ]
    },
    {
     "name": "stdout",
     "output_type": "stream",
     "text": [
      "Validation F1 in epoch130 : 0.8597\n",
      "Validation loss in epoch130 : 8748.4795\n"
     ]
    },
    {
     "name": "stderr",
     "output_type": "stream",
     "text": [
      " 47%|\u001b[32m█████████████████████████████████████▌                                          \u001b[0m| 141/300 [00:43<00:48,  3.25it/s]\u001b[0m"
     ]
    },
    {
     "name": "stdout",
     "output_type": "stream",
     "text": [
      "Validation F1 in epoch140 : 0.8605\n",
      "Validation loss in epoch140 : 8943.3379\n"
     ]
    },
    {
     "name": "stderr",
     "output_type": "stream",
     "text": [
      " 50%|\u001b[32m████████████████████████████████████████▎                                       \u001b[0m| 151/300 [00:46<00:46,  3.24it/s]\u001b[0m"
     ]
    },
    {
     "name": "stdout",
     "output_type": "stream",
     "text": [
      "Validation F1 in epoch150 : 0.8612\n",
      "Validation loss in epoch150 : 9121.8164\n"
     ]
    },
    {
     "name": "stderr",
     "output_type": "stream",
     "text": [
      " 54%|\u001b[32m██████████████████████████████████████████▉                                     \u001b[0m| 161/300 [00:49<00:43,  3.18it/s]\u001b[0m"
     ]
    },
    {
     "name": "stdout",
     "output_type": "stream",
     "text": [
      "Validation F1 in epoch160 : 0.8616\n",
      "Validation loss in epoch160 : 9301.3662\n"
     ]
    },
    {
     "name": "stderr",
     "output_type": "stream",
     "text": [
      " 57%|\u001b[32m█████████████████████████████████████████████▌                                  \u001b[0m| 171/300 [00:52<00:38,  3.37it/s]\u001b[0m"
     ]
    },
    {
     "name": "stdout",
     "output_type": "stream",
     "text": [
      "Validation F1 in epoch170 : 0.8617\n",
      "Validation loss in epoch170 : 9473.2158\n"
     ]
    },
    {
     "name": "stderr",
     "output_type": "stream",
     "text": [
      " 60%|\u001b[32m████████████████████████████████████████████████▎                               \u001b[0m| 181/300 [00:55<00:35,  3.33it/s]\u001b[0m"
     ]
    },
    {
     "name": "stdout",
     "output_type": "stream",
     "text": [
      "Validation F1 in epoch180 : 0.8623\n",
      "Validation loss in epoch180 : 9637.9326\n"
     ]
    },
    {
     "name": "stderr",
     "output_type": "stream",
     "text": [
      " 64%|\u001b[32m██████████████████████████████████████████████████▉                             \u001b[0m| 191/300 [00:58<00:31,  3.43it/s]\u001b[0m"
     ]
    },
    {
     "name": "stdout",
     "output_type": "stream",
     "text": [
      "Validation F1 in epoch190 : 0.8625\n",
      "Validation loss in epoch190 : 9797.3555\n"
     ]
    },
    {
     "name": "stderr",
     "output_type": "stream",
     "text": [
      " 67%|\u001b[32m█████████████████████████████████████████████████████▌                          \u001b[0m| 201/300 [01:01<00:28,  3.42it/s]\u001b[0m"
     ]
    },
    {
     "name": "stdout",
     "output_type": "stream",
     "text": [
      "Validation F1 in epoch200 : 0.8624\n",
      "Validation loss in epoch200 : 9951.0762\n"
     ]
    },
    {
     "name": "stderr",
     "output_type": "stream",
     "text": [
      " 70%|\u001b[32m████████████████████████████████████████████████████████▎                       \u001b[0m| 211/300 [01:04<00:28,  3.12it/s]\u001b[0m"
     ]
    },
    {
     "name": "stdout",
     "output_type": "stream",
     "text": [
      "Validation F1 in epoch210 : 0.8630\n",
      "Validation loss in epoch210 : 10099.9004\n"
     ]
    },
    {
     "name": "stderr",
     "output_type": "stream",
     "text": [
      " 74%|\u001b[32m██████████████████████████████████████████████████████████▉                     \u001b[0m| 221/300 [01:08<00:23,  3.33it/s]\u001b[0m"
     ]
    },
    {
     "name": "stdout",
     "output_type": "stream",
     "text": [
      "Validation F1 in epoch220 : 0.8629\n",
      "Validation loss in epoch220 : 10244.3945\n"
     ]
    },
    {
     "name": "stderr",
     "output_type": "stream",
     "text": [
      " 77%|\u001b[32m█████████████████████████████████████████████████████████████▌                  \u001b[0m| 231/300 [01:11<00:22,  3.04it/s]\u001b[0m"
     ]
    },
    {
     "name": "stdout",
     "output_type": "stream",
     "text": [
      "Validation F1 in epoch230 : 0.8631\n",
      "Validation loss in epoch230 : 10384.1465\n"
     ]
    },
    {
     "name": "stderr",
     "output_type": "stream",
     "text": [
      " 80%|\u001b[32m████████████████████████████████████████████████████████████████▎               \u001b[0m| 241/300 [01:14<00:17,  3.34it/s]\u001b[0m"
     ]
    },
    {
     "name": "stdout",
     "output_type": "stream",
     "text": [
      "Validation F1 in epoch240 : 0.8631\n",
      "Validation loss in epoch240 : 10520.3203\n"
     ]
    },
    {
     "name": "stderr",
     "output_type": "stream",
     "text": [
      " 84%|\u001b[32m██████████████████████████████████████████████████████████████████▉             \u001b[0m| 251/300 [01:17<00:15,  3.17it/s]\u001b[0m"
     ]
    },
    {
     "name": "stdout",
     "output_type": "stream",
     "text": [
      "Validation F1 in epoch250 : 0.8628\n",
      "Validation loss in epoch250 : 10653.1045\n"
     ]
    },
    {
     "name": "stderr",
     "output_type": "stream",
     "text": [
      " 87%|\u001b[32m█████████████████████████████████████████████████████████████████████▌          \u001b[0m| 261/300 [01:20<00:12,  3.17it/s]\u001b[0m"
     ]
    },
    {
     "name": "stdout",
     "output_type": "stream",
     "text": [
      "Validation F1 in epoch260 : 0.8625\n",
      "Validation loss in epoch260 : 10780.9727\n"
     ]
    },
    {
     "name": "stderr",
     "output_type": "stream",
     "text": [
      " 90%|\u001b[32m████████████████████████████████████████████████████████████████████████▎       \u001b[0m| 271/300 [01:23<00:09,  3.17it/s]\u001b[0m"
     ]
    },
    {
     "name": "stdout",
     "output_type": "stream",
     "text": [
      "Validation F1 in epoch270 : 0.8626\n",
      "Validation loss in epoch270 : 10905.5352\n"
     ]
    },
    {
     "name": "stderr",
     "output_type": "stream",
     "text": [
      " 94%|\u001b[32m██████████████████████████████████████████████████████████████████████████▉     \u001b[0m| 281/300 [01:26<00:05,  3.52it/s]\u001b[0m"
     ]
    },
    {
     "name": "stdout",
     "output_type": "stream",
     "text": [
      "Validation F1 in epoch280 : 0.8627\n",
      "Validation loss in epoch280 : 11026.7598\n"
     ]
    },
    {
     "name": "stderr",
     "output_type": "stream",
     "text": [
      " 97%|\u001b[32m█████████████████████████████████████████████████████████████████████████████▌  \u001b[0m| 291/300 [01:29<00:02,  3.10it/s]\u001b[0m"
     ]
    },
    {
     "name": "stdout",
     "output_type": "stream",
     "text": [
      "Validation F1 in epoch290 : 0.8627\n",
      "Validation loss in epoch290 : 11147.0488\n"
     ]
    },
    {
     "name": "stderr",
     "output_type": "stream",
     "text": [
      "100%|\u001b[32m████████████████████████████████████████████████████████████████████████████████\u001b[0m| 300/300 [01:32<00:00,  3.24it/s]\u001b[0m\n",
      "  0%|\u001b[32m▎                                                                                 \u001b[0m| 1/300 [00:00<02:02,  2.44it/s]\u001b[0m"
     ]
    },
    {
     "name": "stdout",
     "output_type": "stream",
     "text": [
      "Validation F1 in epoch0 : 0.1518\n",
      "Validation loss in epoch0 : 62481.2344\n"
     ]
    },
    {
     "name": "stderr",
     "output_type": "stream",
     "text": [
      "  4%|\u001b[32m██▉                                                                              \u001b[0m| 11/300 [00:03<01:26,  3.34it/s]\u001b[0m"
     ]
    },
    {
     "name": "stdout",
     "output_type": "stream",
     "text": [
      "Validation F1 in epoch10 : 0.1488\n",
      "Validation loss in epoch10 : 62479.8203\n"
     ]
    },
    {
     "name": "stderr",
     "output_type": "stream",
     "text": [
      "  7%|\u001b[32m█████▋                                                                           \u001b[0m| 21/300 [00:06<01:33,  3.00it/s]\u001b[0m"
     ]
    },
    {
     "name": "stdout",
     "output_type": "stream",
     "text": [
      "Validation F1 in epoch20 : 0.5654\n",
      "Validation loss in epoch20 : 24513.3398\n"
     ]
    },
    {
     "name": "stderr",
     "output_type": "stream",
     "text": [
      " 10%|\u001b[32m████████▎                                                                        \u001b[0m| 31/300 [00:10<01:27,  3.09it/s]\u001b[0m"
     ]
    },
    {
     "name": "stdout",
     "output_type": "stream",
     "text": [
      "Validation F1 in epoch30 : 0.6102\n",
      "Validation loss in epoch30 : 16915.0938\n"
     ]
    },
    {
     "name": "stderr",
     "output_type": "stream",
     "text": [
      " 14%|\u001b[32m███████████                                                                      \u001b[0m| 41/300 [00:13<01:20,  3.21it/s]\u001b[0m"
     ]
    },
    {
     "name": "stdout",
     "output_type": "stream",
     "text": [
      "Validation F1 in epoch40 : 0.6499\n",
      "Validation loss in epoch40 : 12608.2598\n"
     ]
    },
    {
     "name": "stderr",
     "output_type": "stream",
     "text": [
      " 17%|\u001b[32m█████████████▊                                                                   \u001b[0m| 51/300 [00:16<01:19,  3.12it/s]\u001b[0m"
     ]
    },
    {
     "name": "stdout",
     "output_type": "stream",
     "text": [
      "Validation F1 in epoch50 : 0.7554\n",
      "Validation loss in epoch50 : 9711.1650\n"
     ]
    },
    {
     "name": "stderr",
     "output_type": "stream",
     "text": [
      " 20%|\u001b[32m████████████████▍                                                                \u001b[0m| 61/300 [00:19<01:13,  3.24it/s]\u001b[0m"
     ]
    },
    {
     "name": "stdout",
     "output_type": "stream",
     "text": [
      "Validation F1 in epoch60 : 0.7946\n",
      "Validation loss in epoch60 : 8500.9414\n"
     ]
    },
    {
     "name": "stderr",
     "output_type": "stream",
     "text": [
      " 24%|\u001b[32m███████████████████▏                                                             \u001b[0m| 71/300 [00:22<01:14,  3.06it/s]\u001b[0m"
     ]
    },
    {
     "name": "stdout",
     "output_type": "stream",
     "text": [
      "Validation F1 in epoch70 : 0.8154\n",
      "Validation loss in epoch70 : 7814.9292\n"
     ]
    },
    {
     "name": "stderr",
     "output_type": "stream",
     "text": [
      " 27%|\u001b[32m█████████████████████▊                                                           \u001b[0m| 81/300 [00:25<01:07,  3.22it/s]\u001b[0m"
     ]
    },
    {
     "name": "stdout",
     "output_type": "stream",
     "text": [
      "Validation F1 in epoch80 : 0.8242\n",
      "Validation loss in epoch80 : 7404.6108\n"
     ]
    },
    {
     "name": "stderr",
     "output_type": "stream",
     "text": [
      " 30%|\u001b[32m████████████████████████▌                                                        \u001b[0m| 91/300 [00:28<01:04,  3.22it/s]\u001b[0m"
     ]
    },
    {
     "name": "stdout",
     "output_type": "stream",
     "text": [
      "Validation F1 in epoch90 : 0.8374\n",
      "Validation loss in epoch90 : 7091.6992\n"
     ]
    },
    {
     "name": "stderr",
     "output_type": "stream",
     "text": [
      " 34%|\u001b[32m██████████████████████████▉                                                     \u001b[0m| 101/300 [00:32<01:00,  3.31it/s]\u001b[0m"
     ]
    },
    {
     "name": "stdout",
     "output_type": "stream",
     "text": [
      "Validation F1 in epoch100 : 0.8412\n",
      "Validation loss in epoch100 : 6937.9155\n"
     ]
    },
    {
     "name": "stderr",
     "output_type": "stream",
     "text": [
      " 37%|\u001b[32m█████████████████████████████▌                                                  \u001b[0m| 111/300 [00:35<00:58,  3.22it/s]\u001b[0m"
     ]
    },
    {
     "name": "stdout",
     "output_type": "stream",
     "text": [
      "Validation F1 in epoch110 : 0.8412\n",
      "Validation loss in epoch110 : 6910.0830\n"
     ]
    },
    {
     "name": "stderr",
     "output_type": "stream",
     "text": [
      " 40%|\u001b[32m████████████████████████████████▎                                               \u001b[0m| 121/300 [00:38<00:54,  3.28it/s]\u001b[0m"
     ]
    },
    {
     "name": "stdout",
     "output_type": "stream",
     "text": [
      "Validation F1 in epoch120 : 0.8419\n",
      "Validation loss in epoch120 : 6798.4966\n"
     ]
    },
    {
     "name": "stderr",
     "output_type": "stream",
     "text": [
      " 44%|\u001b[32m██████████████████████████████████▉                                             \u001b[0m| 131/300 [00:41<00:52,  3.20it/s]\u001b[0m"
     ]
    },
    {
     "name": "stdout",
     "output_type": "stream",
     "text": [
      "Validation F1 in epoch130 : 0.8462\n",
      "Validation loss in epoch130 : 6866.3960\n"
     ]
    },
    {
     "name": "stderr",
     "output_type": "stream",
     "text": [
      " 47%|\u001b[32m█████████████████████████████████████▌                                          \u001b[0m| 141/300 [00:44<00:49,  3.23it/s]\u001b[0m"
     ]
    },
    {
     "name": "stdout",
     "output_type": "stream",
     "text": [
      "Validation F1 in epoch140 : 0.8435\n",
      "Validation loss in epoch140 : 6955.7852\n"
     ]
    },
    {
     "name": "stderr",
     "output_type": "stream",
     "text": [
      " 50%|\u001b[32m████████████████████████████████████████▎                                       \u001b[0m| 151/300 [00:47<00:42,  3.49it/s]\u001b[0m"
     ]
    },
    {
     "name": "stdout",
     "output_type": "stream",
     "text": [
      "Validation F1 in epoch150 : 0.8469\n",
      "Validation loss in epoch150 : 6871.1230\n"
     ]
    },
    {
     "name": "stderr",
     "output_type": "stream",
     "text": [
      " 54%|\u001b[32m██████████████████████████████████████████▉                                     \u001b[0m| 161/300 [00:50<00:43,  3.20it/s]\u001b[0m"
     ]
    },
    {
     "name": "stdout",
     "output_type": "stream",
     "text": [
      "Validation F1 in epoch160 : 0.8454\n",
      "Validation loss in epoch160 : 6977.6172\n"
     ]
    },
    {
     "name": "stderr",
     "output_type": "stream",
     "text": [
      " 57%|\u001b[32m█████████████████████████████████████████████▌                                  \u001b[0m| 171/300 [00:54<00:40,  3.18it/s]\u001b[0m"
     ]
    },
    {
     "name": "stdout",
     "output_type": "stream",
     "text": [
      "Validation F1 in epoch170 : 0.8442\n",
      "Validation loss in epoch170 : 7099.2881\n"
     ]
    },
    {
     "name": "stderr",
     "output_type": "stream",
     "text": [
      " 60%|\u001b[32m████████████████████████████████████████████████▎                               \u001b[0m| 181/300 [00:57<00:38,  3.08it/s]\u001b[0m"
     ]
    },
    {
     "name": "stdout",
     "output_type": "stream",
     "text": [
      "Validation F1 in epoch180 : 0.8471\n",
      "Validation loss in epoch180 : 7241.5781\n"
     ]
    },
    {
     "name": "stderr",
     "output_type": "stream",
     "text": [
      " 64%|\u001b[32m██████████████████████████████████████████████████▉                             \u001b[0m| 191/300 [01:00<00:37,  2.89it/s]\u001b[0m"
     ]
    },
    {
     "name": "stdout",
     "output_type": "stream",
     "text": [
      "Validation F1 in epoch190 : 0.8424\n",
      "Validation loss in epoch190 : 7561.3359\n"
     ]
    },
    {
     "name": "stderr",
     "output_type": "stream",
     "text": [
      " 67%|\u001b[32m█████████████████████████████████████████████████████▌                          \u001b[0m| 201/300 [01:03<00:31,  3.15it/s]\u001b[0m"
     ]
    },
    {
     "name": "stdout",
     "output_type": "stream",
     "text": [
      "Validation F1 in epoch200 : 0.8394\n",
      "Validation loss in epoch200 : 7713.7695\n"
     ]
    },
    {
     "name": "stderr",
     "output_type": "stream",
     "text": [
      " 70%|\u001b[32m████████████████████████████████████████████████████████▎                       \u001b[0m| 211/300 [01:06<00:29,  3.03it/s]\u001b[0m"
     ]
    },
    {
     "name": "stdout",
     "output_type": "stream",
     "text": [
      "Validation F1 in epoch210 : 0.8434\n",
      "Validation loss in epoch210 : 7857.4629\n"
     ]
    },
    {
     "name": "stderr",
     "output_type": "stream",
     "text": [
      " 74%|\u001b[32m██████████████████████████████████████████████████████████▉                     \u001b[0m| 221/300 [01:09<00:23,  3.37it/s]\u001b[0m"
     ]
    },
    {
     "name": "stdout",
     "output_type": "stream",
     "text": [
      "Validation F1 in epoch220 : 0.8388\n",
      "Validation loss in epoch220 : 8230.1826\n"
     ]
    },
    {
     "name": "stderr",
     "output_type": "stream",
     "text": [
      " 77%|\u001b[32m█████████████████████████████████████████████████████████████▌                  \u001b[0m| 231/300 [01:12<00:21,  3.19it/s]\u001b[0m"
     ]
    },
    {
     "name": "stdout",
     "output_type": "stream",
     "text": [
      "Validation F1 in epoch230 : 0.8406\n",
      "Validation loss in epoch230 : 8586.4160\n"
     ]
    },
    {
     "name": "stderr",
     "output_type": "stream",
     "text": [
      " 80%|\u001b[32m████████████████████████████████████████████████████████████████▎               \u001b[0m| 241/300 [01:15<00:18,  3.24it/s]\u001b[0m"
     ]
    },
    {
     "name": "stdout",
     "output_type": "stream",
     "text": [
      "Validation F1 in epoch240 : 0.8397\n",
      "Validation loss in epoch240 : 8736.8496\n"
     ]
    },
    {
     "name": "stderr",
     "output_type": "stream",
     "text": [
      " 84%|\u001b[32m██████████████████████████████████████████████████████████████████▉             \u001b[0m| 251/300 [01:19<00:14,  3.41it/s]\u001b[0m"
     ]
    },
    {
     "name": "stdout",
     "output_type": "stream",
     "text": [
      "Validation F1 in epoch250 : 0.8368\n",
      "Validation loss in epoch250 : 9001.4121\n"
     ]
    },
    {
     "name": "stderr",
     "output_type": "stream",
     "text": [
      " 87%|\u001b[32m█████████████████████████████████████████████████████████████████████▌          \u001b[0m| 261/300 [01:22<00:13,  2.90it/s]\u001b[0m"
     ]
    },
    {
     "name": "stdout",
     "output_type": "stream",
     "text": [
      "Validation F1 in epoch260 : 0.8385\n",
      "Validation loss in epoch260 : 9349.5801\n"
     ]
    },
    {
     "name": "stderr",
     "output_type": "stream",
     "text": [
      " 90%|\u001b[32m████████████████████████████████████████████████████████████████████████▎       \u001b[0m| 271/300 [01:25<00:09,  3.20it/s]\u001b[0m"
     ]
    },
    {
     "name": "stdout",
     "output_type": "stream",
     "text": [
      "Validation F1 in epoch270 : 0.8358\n",
      "Validation loss in epoch270 : 9638.4912\n"
     ]
    },
    {
     "name": "stderr",
     "output_type": "stream",
     "text": [
      " 94%|\u001b[32m██████████████████████████████████████████████████████████████████████████▉     \u001b[0m| 281/300 [01:28<00:06,  3.12it/s]\u001b[0m"
     ]
    },
    {
     "name": "stdout",
     "output_type": "stream",
     "text": [
      "Validation F1 in epoch280 : 0.8362\n",
      "Validation loss in epoch280 : 9808.0371\n"
     ]
    },
    {
     "name": "stderr",
     "output_type": "stream",
     "text": [
      " 97%|\u001b[32m█████████████████████████████████████████████████████████████████████████████▌  \u001b[0m| 291/300 [01:31<00:02,  3.30it/s]\u001b[0m"
     ]
    },
    {
     "name": "stdout",
     "output_type": "stream",
     "text": [
      "Validation F1 in epoch290 : 0.8383\n",
      "Validation loss in epoch290 : 10076.3438\n"
     ]
    },
    {
     "name": "stderr",
     "output_type": "stream",
     "text": [
      "100%|\u001b[32m████████████████████████████████████████████████████████████████████████████████\u001b[0m| 300/300 [01:34<00:00,  3.18it/s]\u001b[0m\n",
      "  0%|\u001b[32m▎                                                                                 \u001b[0m| 1/300 [00:00<01:20,  3.70it/s]\u001b[0m"
     ]
    },
    {
     "name": "stdout",
     "output_type": "stream",
     "text": [
      "Validation F1 in epoch0 : 0.1345\n",
      "Validation loss in epoch0 : 62509.1094\n"
     ]
    },
    {
     "name": "stderr",
     "output_type": "stream",
     "text": [
      "  4%|\u001b[32m██▉                                                                              \u001b[0m| 11/300 [00:03<01:30,  3.19it/s]\u001b[0m"
     ]
    },
    {
     "name": "stdout",
     "output_type": "stream",
     "text": [
      "Validation F1 in epoch10 : 0.1329\n",
      "Validation loss in epoch10 : 62518.2109\n"
     ]
    },
    {
     "name": "stderr",
     "output_type": "stream",
     "text": [
      "  7%|\u001b[32m█████▋                                                                           \u001b[0m| 21/300 [00:06<01:26,  3.23it/s]\u001b[0m"
     ]
    },
    {
     "name": "stdout",
     "output_type": "stream",
     "text": [
      "Validation F1 in epoch20 : 0.5887\n",
      "Validation loss in epoch20 : 24041.6367\n"
     ]
    },
    {
     "name": "stderr",
     "output_type": "stream",
     "text": [
      " 10%|\u001b[32m████████▎                                                                        \u001b[0m| 31/300 [00:09<01:24,  3.17it/s]\u001b[0m"
     ]
    },
    {
     "name": "stdout",
     "output_type": "stream",
     "text": [
      "Validation F1 in epoch30 : 0.5861\n",
      "Validation loss in epoch30 : 18351.2500\n"
     ]
    },
    {
     "name": "stderr",
     "output_type": "stream",
     "text": [
      " 14%|\u001b[32m███████████                                                                      \u001b[0m| 41/300 [00:12<01:19,  3.24it/s]\u001b[0m"
     ]
    },
    {
     "name": "stdout",
     "output_type": "stream",
     "text": [
      "Validation F1 in epoch40 : 0.6240\n",
      "Validation loss in epoch40 : 13903.4932\n"
     ]
    },
    {
     "name": "stderr",
     "output_type": "stream",
     "text": [
      " 17%|\u001b[32m█████████████▊                                                                   \u001b[0m| 51/300 [00:16<01:28,  2.82it/s]\u001b[0m"
     ]
    },
    {
     "name": "stdout",
     "output_type": "stream",
     "text": [
      "Validation F1 in epoch50 : 0.7246\n",
      "Validation loss in epoch50 : 11125.7314\n"
     ]
    },
    {
     "name": "stderr",
     "output_type": "stream",
     "text": [
      " 20%|\u001b[32m████████████████▍                                                                \u001b[0m| 61/300 [00:19<01:14,  3.21it/s]\u001b[0m"
     ]
    },
    {
     "name": "stdout",
     "output_type": "stream",
     "text": [
      "Validation F1 in epoch60 : 0.7746\n",
      "Validation loss in epoch60 : 9767.6777\n"
     ]
    },
    {
     "name": "stderr",
     "output_type": "stream",
     "text": [
      " 24%|\u001b[32m███████████████████▏                                                             \u001b[0m| 71/300 [00:22<01:14,  3.08it/s]\u001b[0m"
     ]
    },
    {
     "name": "stdout",
     "output_type": "stream",
     "text": [
      "Validation F1 in epoch70 : 0.7960\n",
      "Validation loss in epoch70 : 9089.8555\n"
     ]
    },
    {
     "name": "stderr",
     "output_type": "stream",
     "text": [
      " 27%|\u001b[32m█████████████████████▊                                                           \u001b[0m| 81/300 [00:25<01:08,  3.20it/s]\u001b[0m"
     ]
    },
    {
     "name": "stdout",
     "output_type": "stream",
     "text": [
      "Validation F1 in epoch80 : 0.8063\n",
      "Validation loss in epoch80 : 8689.3027\n"
     ]
    },
    {
     "name": "stderr",
     "output_type": "stream",
     "text": [
      " 30%|\u001b[32m████████████████████████▌                                                        \u001b[0m| 91/300 [00:29<01:09,  3.01it/s]\u001b[0m"
     ]
    },
    {
     "name": "stdout",
     "output_type": "stream",
     "text": [
      "Validation F1 in epoch90 : 0.8134\n",
      "Validation loss in epoch90 : 8455.8828\n"
     ]
    },
    {
     "name": "stderr",
     "output_type": "stream",
     "text": [
      " 34%|\u001b[32m██████████████████████████▉                                                     \u001b[0m| 101/300 [00:32<01:02,  3.17it/s]\u001b[0m"
     ]
    },
    {
     "name": "stdout",
     "output_type": "stream",
     "text": [
      "Validation F1 in epoch100 : 0.8177\n",
      "Validation loss in epoch100 : 8350.2930\n"
     ]
    },
    {
     "name": "stderr",
     "output_type": "stream",
     "text": [
      " 37%|\u001b[32m█████████████████████████████▌                                                  \u001b[0m| 111/300 [00:35<01:05,  2.90it/s]\u001b[0m"
     ]
    },
    {
     "name": "stdout",
     "output_type": "stream",
     "text": [
      "Validation F1 in epoch110 : 0.8199\n",
      "Validation loss in epoch110 : 8277.7676\n"
     ]
    },
    {
     "name": "stderr",
     "output_type": "stream",
     "text": [
      " 40%|\u001b[32m████████████████████████████████▎                                               \u001b[0m| 121/300 [00:39<00:59,  3.03it/s]\u001b[0m"
     ]
    },
    {
     "name": "stdout",
     "output_type": "stream",
     "text": [
      "Validation F1 in epoch120 : 0.8224\n",
      "Validation loss in epoch120 : 8178.5811\n"
     ]
    },
    {
     "name": "stderr",
     "output_type": "stream",
     "text": [
      " 44%|\u001b[32m██████████████████████████████████▉                                             \u001b[0m| 131/300 [00:42<00:53,  3.17it/s]\u001b[0m"
     ]
    },
    {
     "name": "stdout",
     "output_type": "stream",
     "text": [
      "Validation F1 in epoch130 : 0.8191\n",
      "Validation loss in epoch130 : 8252.9131\n"
     ]
    },
    {
     "name": "stderr",
     "output_type": "stream",
     "text": [
      " 47%|\u001b[32m█████████████████████████████████████▌                                          \u001b[0m| 141/300 [00:45<00:52,  3.02it/s]\u001b[0m"
     ]
    },
    {
     "name": "stdout",
     "output_type": "stream",
     "text": [
      "Validation F1 in epoch140 : 0.8208\n",
      "Validation loss in epoch140 : 8244.4023\n"
     ]
    },
    {
     "name": "stderr",
     "output_type": "stream",
     "text": [
      " 50%|\u001b[32m████████████████████████████████████████▎                                       \u001b[0m| 151/300 [00:48<00:50,  2.95it/s]\u001b[0m"
     ]
    },
    {
     "name": "stdout",
     "output_type": "stream",
     "text": [
      "Validation F1 in epoch150 : 0.8202\n",
      "Validation loss in epoch150 : 8201.3027\n"
     ]
    },
    {
     "name": "stderr",
     "output_type": "stream",
     "text": [
      " 54%|\u001b[32m██████████████████████████████████████████▉                                     \u001b[0m| 161/300 [00:52<00:42,  3.31it/s]\u001b[0m"
     ]
    },
    {
     "name": "stdout",
     "output_type": "stream",
     "text": [
      "Validation F1 in epoch160 : 0.8221\n",
      "Validation loss in epoch160 : 8191.3872\n"
     ]
    },
    {
     "name": "stderr",
     "output_type": "stream",
     "text": [
      " 57%|\u001b[32m█████████████████████████████████████████████▌                                  \u001b[0m| 171/300 [00:55<00:41,  3.14it/s]\u001b[0m"
     ]
    },
    {
     "name": "stdout",
     "output_type": "stream",
     "text": [
      "Validation F1 in epoch170 : 0.8204\n",
      "Validation loss in epoch170 : 8223.4141\n"
     ]
    },
    {
     "name": "stderr",
     "output_type": "stream",
     "text": [
      " 60%|\u001b[32m████████████████████████████████████████████████▎                               \u001b[0m| 181/300 [00:58<00:36,  3.29it/s]\u001b[0m"
     ]
    },
    {
     "name": "stdout",
     "output_type": "stream",
     "text": [
      "Validation F1 in epoch180 : 0.8188\n",
      "Validation loss in epoch180 : 8351.3281\n"
     ]
    },
    {
     "name": "stderr",
     "output_type": "stream",
     "text": [
      " 64%|\u001b[32m██████████████████████████████████████████████████▉                             \u001b[0m| 191/300 [01:01<00:32,  3.31it/s]\u001b[0m"
     ]
    },
    {
     "name": "stdout",
     "output_type": "stream",
     "text": [
      "Validation F1 in epoch190 : 0.8197\n",
      "Validation loss in epoch190 : 8435.0391\n"
     ]
    },
    {
     "name": "stderr",
     "output_type": "stream",
     "text": [
      " 67%|\u001b[32m█████████████████████████████████████████████████████▌                          \u001b[0m| 201/300 [01:04<00:31,  3.13it/s]\u001b[0m"
     ]
    },
    {
     "name": "stdout",
     "output_type": "stream",
     "text": [
      "Validation F1 in epoch200 : 0.8177\n",
      "Validation loss in epoch200 : 8593.9209\n"
     ]
    },
    {
     "name": "stderr",
     "output_type": "stream",
     "text": [
      " 70%|\u001b[32m████████████████████████████████████████████████████████▎                       \u001b[0m| 211/300 [01:07<00:26,  3.38it/s]\u001b[0m"
     ]
    },
    {
     "name": "stdout",
     "output_type": "stream",
     "text": [
      "Validation F1 in epoch210 : 0.8171\n",
      "Validation loss in epoch210 : 8656.0439\n"
     ]
    },
    {
     "name": "stderr",
     "output_type": "stream",
     "text": [
      " 74%|\u001b[32m██████████████████████████████████████████████████████████▉                     \u001b[0m| 221/300 [01:10<00:24,  3.19it/s]\u001b[0m"
     ]
    },
    {
     "name": "stdout",
     "output_type": "stream",
     "text": [
      "Validation F1 in epoch220 : 0.8127\n",
      "Validation loss in epoch220 : 8870.7998\n"
     ]
    },
    {
     "name": "stderr",
     "output_type": "stream",
     "text": [
      " 77%|\u001b[32m█████████████████████████████████████████████████████████████▌                  \u001b[0m| 231/300 [01:14<00:22,  3.02it/s]\u001b[0m"
     ]
    },
    {
     "name": "stdout",
     "output_type": "stream",
     "text": [
      "Validation F1 in epoch230 : 0.8168\n",
      "Validation loss in epoch230 : 8981.4443\n"
     ]
    },
    {
     "name": "stderr",
     "output_type": "stream",
     "text": [
      " 80%|\u001b[32m████████████████████████████████████████████████████████████████▎               \u001b[0m| 241/300 [01:17<00:18,  3.19it/s]\u001b[0m"
     ]
    },
    {
     "name": "stdout",
     "output_type": "stream",
     "text": [
      "Validation F1 in epoch240 : 0.8142\n",
      "Validation loss in epoch240 : 9011.9961\n"
     ]
    },
    {
     "name": "stderr",
     "output_type": "stream",
     "text": [
      " 84%|\u001b[32m██████████████████████████████████████████████████████████████████▉             \u001b[0m| 251/300 [01:20<00:15,  3.11it/s]\u001b[0m"
     ]
    },
    {
     "name": "stdout",
     "output_type": "stream",
     "text": [
      "Validation F1 in epoch250 : 0.8098\n",
      "Validation loss in epoch250 : 9387.4551\n"
     ]
    },
    {
     "name": "stderr",
     "output_type": "stream",
     "text": [
      " 87%|\u001b[32m█████████████████████████████████████████████████████████████████████▌          \u001b[0m| 261/300 [01:23<00:12,  3.24it/s]\u001b[0m"
     ]
    },
    {
     "name": "stdout",
     "output_type": "stream",
     "text": [
      "Validation F1 in epoch260 : 0.8111\n",
      "Validation loss in epoch260 : 9543.2725\n"
     ]
    },
    {
     "name": "stderr",
     "output_type": "stream",
     "text": [
      " 90%|\u001b[32m████████████████████████████████████████████████████████████████████████▎       \u001b[0m| 271/300 [01:26<00:08,  3.25it/s]\u001b[0m"
     ]
    },
    {
     "name": "stdout",
     "output_type": "stream",
     "text": [
      "Validation F1 in epoch270 : 0.8105\n",
      "Validation loss in epoch270 : 9797.2207\n"
     ]
    },
    {
     "name": "stderr",
     "output_type": "stream",
     "text": [
      " 94%|\u001b[32m██████████████████████████████████████████████████████████████████████████▉     \u001b[0m| 281/300 [01:29<00:05,  3.23it/s]\u001b[0m"
     ]
    },
    {
     "name": "stdout",
     "output_type": "stream",
     "text": [
      "Validation F1 in epoch280 : 0.8087\n",
      "Validation loss in epoch280 : 9960.1133\n"
     ]
    },
    {
     "name": "stderr",
     "output_type": "stream",
     "text": [
      " 97%|\u001b[32m█████████████████████████████████████████████████████████████████████████████▌  \u001b[0m| 291/300 [01:33<00:03,  2.88it/s]\u001b[0m"
     ]
    },
    {
     "name": "stdout",
     "output_type": "stream",
     "text": [
      "Validation F1 in epoch290 : 0.8057\n",
      "Validation loss in epoch290 : 10266.1602\n"
     ]
    },
    {
     "name": "stderr",
     "output_type": "stream",
     "text": [
      "100%|\u001b[32m████████████████████████████████████████████████████████████████████████████████\u001b[0m| 300/300 [01:35<00:00,  3.13it/s]\u001b[0m\n",
      "  0%|\u001b[32m▎                                                                                 \u001b[0m| 1/300 [00:00<01:28,  3.37it/s]\u001b[0m"
     ]
    },
    {
     "name": "stdout",
     "output_type": "stream",
     "text": [
      "Validation F1 in epoch0 : 0.0741\n",
      "Validation loss in epoch0 : 62223.9922\n"
     ]
    },
    {
     "name": "stderr",
     "output_type": "stream",
     "text": [
      "  4%|\u001b[32m██▉                                                                              \u001b[0m| 11/300 [00:03<01:32,  3.11it/s]\u001b[0m"
     ]
    },
    {
     "name": "stdout",
     "output_type": "stream",
     "text": [
      "Validation F1 in epoch10 : 0.0741\n",
      "Validation loss in epoch10 : 62223.9922\n"
     ]
    },
    {
     "name": "stderr",
     "output_type": "stream",
     "text": [
      "  7%|\u001b[32m█████▋                                                                           \u001b[0m| 21/300 [00:06<01:29,  3.11it/s]\u001b[0m"
     ]
    },
    {
     "name": "stdout",
     "output_type": "stream",
     "text": [
      "Validation F1 in epoch20 : 0.5986\n",
      "Validation loss in epoch20 : 21403.1309\n"
     ]
    },
    {
     "name": "stderr",
     "output_type": "stream",
     "text": [
      " 10%|\u001b[32m████████▎                                                                        \u001b[0m| 31/300 [00:09<01:22,  3.24it/s]\u001b[0m"
     ]
    },
    {
     "name": "stdout",
     "output_type": "stream",
     "text": [
      "Validation F1 in epoch30 : 0.6530\n",
      "Validation loss in epoch30 : 16161.2754\n"
     ]
    },
    {
     "name": "stderr",
     "output_type": "stream",
     "text": [
      " 14%|\u001b[32m███████████                                                                      \u001b[0m| 41/300 [00:12<01:21,  3.16it/s]\u001b[0m"
     ]
    },
    {
     "name": "stdout",
     "output_type": "stream",
     "text": [
      "Validation F1 in epoch40 : 0.7511\n",
      "Validation loss in epoch40 : 11271.3438\n"
     ]
    },
    {
     "name": "stderr",
     "output_type": "stream",
     "text": [
      " 17%|\u001b[32m█████████████▊                                                                   \u001b[0m| 51/300 [00:16<01:16,  3.24it/s]\u001b[0m"
     ]
    },
    {
     "name": "stdout",
     "output_type": "stream",
     "text": [
      "Validation F1 in epoch50 : 0.8132\n",
      "Validation loss in epoch50 : 9470.1348\n"
     ]
    },
    {
     "name": "stderr",
     "output_type": "stream",
     "text": [
      " 20%|\u001b[32m████████████████▍                                                                \u001b[0m| 61/300 [00:19<01:15,  3.18it/s]\u001b[0m"
     ]
    },
    {
     "name": "stdout",
     "output_type": "stream",
     "text": [
      "Validation F1 in epoch60 : 0.8358\n",
      "Validation loss in epoch60 : 8160.6699\n"
     ]
    },
    {
     "name": "stderr",
     "output_type": "stream",
     "text": [
      " 24%|\u001b[32m███████████████████▏                                                             \u001b[0m| 71/300 [00:22<01:13,  3.10it/s]\u001b[0m"
     ]
    },
    {
     "name": "stdout",
     "output_type": "stream",
     "text": [
      "Validation F1 in epoch70 : 0.8454\n",
      "Validation loss in epoch70 : 7902.7793\n"
     ]
    },
    {
     "name": "stderr",
     "output_type": "stream",
     "text": [
      " 27%|\u001b[32m█████████████████████▊                                                           \u001b[0m| 81/300 [00:25<01:09,  3.14it/s]\u001b[0m"
     ]
    },
    {
     "name": "stdout",
     "output_type": "stream",
     "text": [
      "Validation F1 in epoch80 : 0.8495\n",
      "Validation loss in epoch80 : 7995.7725\n"
     ]
    },
    {
     "name": "stderr",
     "output_type": "stream",
     "text": [
      " 30%|\u001b[32m████████████████████████▌                                                        \u001b[0m| 91/300 [00:28<01:09,  3.02it/s]\u001b[0m"
     ]
    },
    {
     "name": "stdout",
     "output_type": "stream",
     "text": [
      "Validation F1 in epoch90 : 0.8539\n",
      "Validation loss in epoch90 : 8051.7979\n"
     ]
    },
    {
     "name": "stderr",
     "output_type": "stream",
     "text": [
      " 34%|\u001b[32m██████████████████████████▉                                                     \u001b[0m| 101/300 [00:31<01:01,  3.25it/s]\u001b[0m"
     ]
    },
    {
     "name": "stdout",
     "output_type": "stream",
     "text": [
      "Validation F1 in epoch100 : 0.8565\n",
      "Validation loss in epoch100 : 8224.8477\n"
     ]
    },
    {
     "name": "stderr",
     "output_type": "stream",
     "text": [
      " 37%|\u001b[32m█████████████████████████████▌                                                  \u001b[0m| 111/300 [00:34<00:59,  3.19it/s]\u001b[0m"
     ]
    },
    {
     "name": "stdout",
     "output_type": "stream",
     "text": [
      "Validation F1 in epoch110 : 0.8579\n",
      "Validation loss in epoch110 : 8404.7803\n"
     ]
    },
    {
     "name": "stderr",
     "output_type": "stream",
     "text": [
      " 40%|\u001b[32m████████████████████████████████▎                                               \u001b[0m| 121/300 [00:38<00:55,  3.25it/s]\u001b[0m"
     ]
    },
    {
     "name": "stdout",
     "output_type": "stream",
     "text": [
      "Validation F1 in epoch120 : 0.8594\n",
      "Validation loss in epoch120 : 8572.3779\n"
     ]
    },
    {
     "name": "stderr",
     "output_type": "stream",
     "text": [
      " 44%|\u001b[32m██████████████████████████████████▉                                             \u001b[0m| 131/300 [00:41<00:55,  3.06it/s]\u001b[0m"
     ]
    },
    {
     "name": "stdout",
     "output_type": "stream",
     "text": [
      "Validation F1 in epoch130 : 0.8597\n",
      "Validation loss in epoch130 : 8748.4795\n"
     ]
    },
    {
     "name": "stderr",
     "output_type": "stream",
     "text": [
      " 47%|\u001b[32m█████████████████████████████████████▌                                          \u001b[0m| 141/300 [00:44<00:49,  3.20it/s]\u001b[0m"
     ]
    },
    {
     "name": "stdout",
     "output_type": "stream",
     "text": [
      "Validation F1 in epoch140 : 0.8605\n",
      "Validation loss in epoch140 : 8943.3379\n"
     ]
    },
    {
     "name": "stderr",
     "output_type": "stream",
     "text": [
      " 50%|\u001b[32m████████████████████████████████████████▎                                       \u001b[0m| 151/300 [00:47<00:48,  3.10it/s]\u001b[0m"
     ]
    },
    {
     "name": "stdout",
     "output_type": "stream",
     "text": [
      "Validation F1 in epoch150 : 0.8612\n",
      "Validation loss in epoch150 : 9121.8164\n"
     ]
    },
    {
     "name": "stderr",
     "output_type": "stream",
     "text": [
      " 54%|\u001b[32m██████████████████████████████████████████▉                                     \u001b[0m| 161/300 [00:50<00:43,  3.17it/s]\u001b[0m"
     ]
    },
    {
     "name": "stdout",
     "output_type": "stream",
     "text": [
      "Validation F1 in epoch160 : 0.8616\n",
      "Validation loss in epoch160 : 9301.3662\n"
     ]
    },
    {
     "name": "stderr",
     "output_type": "stream",
     "text": [
      " 57%|\u001b[32m█████████████████████████████████████████████▌                                  \u001b[0m| 171/300 [00:53<00:39,  3.29it/s]\u001b[0m"
     ]
    },
    {
     "name": "stdout",
     "output_type": "stream",
     "text": [
      "Validation F1 in epoch170 : 0.8617\n",
      "Validation loss in epoch170 : 9473.2158\n"
     ]
    },
    {
     "name": "stderr",
     "output_type": "stream",
     "text": [
      " 60%|\u001b[32m████████████████████████████████████████████████▎                               \u001b[0m| 181/300 [00:56<00:34,  3.48it/s]\u001b[0m"
     ]
    },
    {
     "name": "stdout",
     "output_type": "stream",
     "text": [
      "Validation F1 in epoch180 : 0.8623\n",
      "Validation loss in epoch180 : 9637.9326\n"
     ]
    },
    {
     "name": "stderr",
     "output_type": "stream",
     "text": [
      " 64%|\u001b[32m██████████████████████████████████████████████████▉                             \u001b[0m| 191/300 [00:59<00:32,  3.40it/s]\u001b[0m"
     ]
    },
    {
     "name": "stdout",
     "output_type": "stream",
     "text": [
      "Validation F1 in epoch190 : 0.8625\n",
      "Validation loss in epoch190 : 9797.3555\n"
     ]
    },
    {
     "name": "stderr",
     "output_type": "stream",
     "text": [
      " 67%|\u001b[32m█████████████████████████████████████████████████████▌                          \u001b[0m| 201/300 [01:02<00:30,  3.25it/s]\u001b[0m"
     ]
    },
    {
     "name": "stdout",
     "output_type": "stream",
     "text": [
      "Validation F1 in epoch200 : 0.8624\n",
      "Validation loss in epoch200 : 9951.0762\n"
     ]
    },
    {
     "name": "stderr",
     "output_type": "stream",
     "text": [
      " 70%|\u001b[32m████████████████████████████████████████████████████████▎                       \u001b[0m| 211/300 [01:05<00:27,  3.25it/s]\u001b[0m"
     ]
    },
    {
     "name": "stdout",
     "output_type": "stream",
     "text": [
      "Validation F1 in epoch210 : 0.8630\n",
      "Validation loss in epoch210 : 10099.9004\n"
     ]
    },
    {
     "name": "stderr",
     "output_type": "stream",
     "text": [
      " 74%|\u001b[32m██████████████████████████████████████████████████████████▉                     \u001b[0m| 221/300 [01:08<00:25,  3.11it/s]\u001b[0m"
     ]
    },
    {
     "name": "stdout",
     "output_type": "stream",
     "text": [
      "Validation F1 in epoch220 : 0.8629\n",
      "Validation loss in epoch220 : 10244.3945\n"
     ]
    },
    {
     "name": "stderr",
     "output_type": "stream",
     "text": [
      " 77%|\u001b[32m█████████████████████████████████████████████████████████████▌                  \u001b[0m| 231/300 [01:12<00:21,  3.15it/s]\u001b[0m"
     ]
    },
    {
     "name": "stdout",
     "output_type": "stream",
     "text": [
      "Validation F1 in epoch230 : 0.8631\n",
      "Validation loss in epoch230 : 10384.1465\n"
     ]
    },
    {
     "name": "stderr",
     "output_type": "stream",
     "text": [
      " 80%|\u001b[32m████████████████████████████████████████████████████████████████▎               \u001b[0m| 241/300 [01:15<00:18,  3.25it/s]\u001b[0m"
     ]
    },
    {
     "name": "stdout",
     "output_type": "stream",
     "text": [
      "Validation F1 in epoch240 : 0.8631\n",
      "Validation loss in epoch240 : 10520.3203\n"
     ]
    },
    {
     "name": "stderr",
     "output_type": "stream",
     "text": [
      " 84%|\u001b[32m██████████████████████████████████████████████████████████████████▉             \u001b[0m| 251/300 [01:18<00:14,  3.46it/s]\u001b[0m"
     ]
    },
    {
     "name": "stdout",
     "output_type": "stream",
     "text": [
      "Validation F1 in epoch250 : 0.8628\n",
      "Validation loss in epoch250 : 10653.1045\n"
     ]
    },
    {
     "name": "stderr",
     "output_type": "stream",
     "text": [
      " 87%|\u001b[32m█████████████████████████████████████████████████████████████████████▌          \u001b[0m| 261/300 [01:21<00:11,  3.29it/s]\u001b[0m"
     ]
    },
    {
     "name": "stdout",
     "output_type": "stream",
     "text": [
      "Validation F1 in epoch260 : 0.8625\n",
      "Validation loss in epoch260 : 10780.9727\n"
     ]
    },
    {
     "name": "stderr",
     "output_type": "stream",
     "text": [
      " 90%|\u001b[32m████████████████████████████████████████████████████████████████████████▎       \u001b[0m| 271/300 [01:24<00:09,  3.14it/s]\u001b[0m"
     ]
    },
    {
     "name": "stdout",
     "output_type": "stream",
     "text": [
      "Validation F1 in epoch270 : 0.8626\n",
      "Validation loss in epoch270 : 10905.5352\n"
     ]
    },
    {
     "name": "stderr",
     "output_type": "stream",
     "text": [
      " 94%|\u001b[32m██████████████████████████████████████████████████████████████████████████▉     \u001b[0m| 281/300 [01:27<00:05,  3.34it/s]\u001b[0m"
     ]
    },
    {
     "name": "stdout",
     "output_type": "stream",
     "text": [
      "Validation F1 in epoch280 : 0.8627\n",
      "Validation loss in epoch280 : 11026.7598\n"
     ]
    },
    {
     "name": "stderr",
     "output_type": "stream",
     "text": [
      " 97%|\u001b[32m█████████████████████████████████████████████████████████████████████████████▌  \u001b[0m| 291/300 [01:30<00:02,  3.04it/s]\u001b[0m"
     ]
    },
    {
     "name": "stdout",
     "output_type": "stream",
     "text": [
      "Validation F1 in epoch290 : 0.8627\n",
      "Validation loss in epoch290 : 11147.0488\n"
     ]
    },
    {
     "name": "stderr",
     "output_type": "stream",
     "text": [
      "100%|\u001b[32m████████████████████████████████████████████████████████████████████████████████\u001b[0m| 300/300 [01:33<00:00,  3.22it/s]\u001b[0m"
     ]
    },
    {
     "name": "stdout",
     "output_type": "stream",
     "text": [
      "Mean:  [0.860907236735026, 0.8605008125305176, 0.8623324632644653]\n",
      "Std:  [0.0006145291491878423, 0.0, 0.0]\n"
     ]
    },
    {
     "name": "stderr",
     "output_type": "stream",
     "text": [
      "\n"
     ]
    }
   ],
   "source": [
    "import os\n",
    "import numpy as np\n",
    "activation_function = ['gelu','relu','leaky_relu']\n",
    "mean_list = []\n",
    "std_list = []\n",
    "val_loss = []\n",
    "train_loss = []\n",
    "for i in range(len(activation_function)):\n",
    "    f1_list = []\n",
    "    for j in range(3):\n",
    "        Net, train_image_loss, val_image_loss, f1_image_list = Trainer(FEATURE_EXTRACTOR(act=activation_function[i]), \n",
    "                                                                       all_image_features, 300, 200, 250)\n",
    "        Net.eval()\n",
    "        with torch.autograd.no_grad():\n",
    "            img_train = Net(all_image_features.to(dev))\n",
    "            img_test = Net(test_image_features.to(dev))\n",
    "\n",
    "        Net, train_text_loss, val_text_loss, f1_text_list = Trainer(FEATURE_EXTRACTOR(act=activation_function[i]), \n",
    "                                                                    all_text_feature, 300, 200, 250)\n",
    "        Net.eval()\n",
    "        with torch.autograd.no_grad():\n",
    "            txt_train = Net(all_text_feature.to(dev))\n",
    "            txt_test = Net(test_text_feature.to(dev))\n",
    "\n",
    "        sum_train = img_train + txt_train\n",
    "        sum_test = img_test + txt_test\n",
    "        Net, train_sum_loss, val_sum_loss, f1_sum_list = Trainer(DECISION_MODEL(), sum_train, 300, 200, 250)\n",
    "        Net.eval()\n",
    "        \n",
    "        f1_list.append(f1_sum_list[-1])\n",
    "    \n",
    "    mean_list.append(np.mean(f1_list))\n",
    "    std_list.append(np.std(f1_list))\n",
    "    \n",
    "    train_loss.append(train_sum_loss)\n",
    "    val_loss.append(val_sum_loss)\n",
    "    \n",
    "print(\"Mean: \", mean_list)\n",
    "print('Std: ', std_list)"
   ]
  },
  {
   "cell_type": "code",
   "execution_count": 11,
   "id": "ba2db9ed",
   "metadata": {},
   "outputs": [
    {
     "data": {
      "image/png": "[encoded data removed]",
      "text/plain": [
       "<Figure size 640x480 with 1 Axes>"
      ]
     },
     "metadata": {},
     "output_type": "display_data"
    }
   ],
   "source": [
    "import matplotlib.pyplot as plt\n",
    "plt.plot(val_loss[0], label='GeLU')\n",
    "plt.plot(val_loss[1], label='ReLU')\n",
    "plt.plot(val_loss[2], label='Leaky ReLU')\n",
    "plt.xlabel('Training Epoch')\n",
    "plt.ylabel('Validation Loss')\n",
    "plt.legend()\n",
    "#plt.savefig('mlploss.png')\n",
    "plt.show()"
   ]
  }
 ],
 "metadata": {
  "kernelspec": {
   "display_name": "Python 3 (ipykernel)",
   "language": "python",
   "name": "python3"
  },
  "language_info": {
   "codemirror_mode": {
    "name": "ipython",
    "version": 3
   },
   "file_extension": ".py",
   "mimetype": "text/x-python",
   "name": "python",
   "nbconvert_exporter": "python",
   "pygments_lexer": "ipython3",
   "version": "3.10.11"
  }
 },
 "nbformat": 4,
 "nbformat_minor": 5
}
