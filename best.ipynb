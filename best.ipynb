{
  "cells": [
    {
      "cell_type": "markdown",
      "metadata": {
        "id": "view-in-github",
        "colab_type": "text"
      },
      "source": [
        "<a href=\"https://colab.research.google.com/github/Yvnminc/COMP5329_A2/blob/main/best.ipynb\" target=\"_parent\"><img src=\"https://colab.research.google.com/assets/colab-badge.svg\" alt=\"Open In Colab\"/></a>"
      ]
    },
    {
      "cell_type": "code",
      "source": [
        "# Code to download file into Colaboratory:\n",
        "!pip install -U -q PyDrive > /dev/null\n",
        "!pip install torchmetrics > /dev/null\n",
        "from pydrive.auth import GoogleAuth\n",
        "import torch\n",
        "dev = \"cuda\" if torch.cuda.is_available() else \"cpu\"\n",
        "from pydrive.drive import GoogleDrive\n",
        "from google.colab import auth\n",
        "from oauth2client.client import GoogleCredentials\n",
        "# Authenticate and create the PyDrive client.\n",
        "auth.authenticate_user()\n",
        "gauth = GoogleAuth()\n",
        "gauth.credentials = GoogleCredentials.get_application_default()\n",
        "drive = GoogleDrive(gauth)\n",
        "\n",
        "#get the data from the drive\n",
        "def get_feature(model = \"ViT-L/14@336px\"):\n",
        "  id = '11yXddz5j-IDcH77wkMF7dW2JctRv7YN6'\n",
        "  size = \"B\"\n",
        "\n",
        "  if model == 'ViT-L/14@336px':\n",
        "    id = '1P6CgrgiIACjnhtHsUwdY8qjZ-E3Vx_0x'\n",
        "    size = \"L336\"\n",
        "  elif model == 'ViT-L/14':\n",
        "    id = '1DG4J-YF57ZsfXTzwg5EFfkzUmUFfr82h'\n",
        "    size = \"L\"\n",
        "  elif model == 'ViT-B/32':\n",
        "    id = '11yXddz5j-IDcH77wkMF7dW2JctRv7YN6'\n",
        "    size = \"B\"\n",
        "\n",
        "  downloaded = drive.CreateFile({'id':id}) \n",
        "  downloaded.GetContentFile('clip_features.zip')\n",
        "\n",
        "  #get the data from the drive\n",
        "  id = '1b-ujWaLM_jOzlRMbXVb9T-3oEibKQW1r'\n",
        "  downloaded = drive.CreateFile({'id':id}) \n",
        "  downloaded.GetContentFile('label_onehot_tensor.pt')\n",
        "\n",
        "  !unzip clip_features.zip > /dev/null\n",
        "\n",
        "  test_image_features = torch.load(f\"test_image_features_vit{size}.pt\")\n",
        "  test_text_feature = torch.load(f\"test_text_feature_vit{size}.pt\")\n",
        "  all_image_features = torch.load(f\"all_image_features_vit{size}.pt\")\n",
        "  all_text_feature = torch.load(f\"all_text_feature_vit{size}.pt\")\n",
        "  label_onehot_tensor = torch.load(f\"label_onehot_tensor.pt\")\n",
        "\n",
        "  return all_image_features, all_text_feature, test_image_features, test_text_feature, label_onehot_tensor"
      ],
      "metadata": {
        "id": "oC_cy8gEhIgT"
      },
      "execution_count": 1,
      "outputs": []
    },
    {
      "cell_type": "code",
      "source": [
        "all_image_features, all_text_feature, test_image_features, test_text_feature, label_onehot_tensor = get_feature()"
      ],
      "metadata": {
        "id": "FdrqPKLPhhYd"
      },
      "execution_count": 2,
      "outputs": []
    },
    {
      "cell_type": "code",
      "execution_count": 1,
      "metadata": {
        "_cell_guid": "b1076dfc-b9ad-4769-8c92-a6c4dae69d19",
        "_uuid": "8f2839f25d086af736a60e9eeb907d3b93b6e0e5",
        "execution": {
          "iopub.execute_input": "2023-05-01T05:51:22.610324Z",
          "iopub.status.busy": "2023-05-01T05:51:22.609561Z",
          "iopub.status.idle": "2023-05-01T05:51:22.823435Z",
          "shell.execute_reply": "2023-05-01T05:51:22.822401Z",
          "shell.execute_reply.started": "2023-05-01T05:51:22.610278Z"
        },
        "colab": {
          "base_uri": "https://localhost:8080/",
          "height": 393
        },
        "id": "E18vYL8Yg_-r",
        "outputId": "a09433e5-0b32-45e0-b52e-8913c4906a36"
      },
      "outputs": [
        {
          "output_type": "error",
          "ename": "FileNotFoundError",
          "evalue": "ignored",
          "traceback": [
            "\u001b[0;31m---------------------------------------------------------------------------\u001b[0m",
            "\u001b[0;31mFileNotFoundError\u001b[0m                         Traceback (most recent call last)",
            "\u001b[0;32m<ipython-input-1-7c2411471cc1>\u001b[0m in \u001b[0;36m<cell line: 3>\u001b[0;34m()\u001b[0m\n\u001b[1;32m      1\u001b[0m \u001b[0;32mimport\u001b[0m \u001b[0mtorch\u001b[0m\u001b[0;34m\u001b[0m\u001b[0;34m\u001b[0m\u001b[0m\n\u001b[1;32m      2\u001b[0m \u001b[0mdev\u001b[0m \u001b[0;34m=\u001b[0m \u001b[0;34m\"cuda\"\u001b[0m \u001b[0;32mif\u001b[0m \u001b[0mtorch\u001b[0m\u001b[0;34m.\u001b[0m\u001b[0mcuda\u001b[0m\u001b[0;34m.\u001b[0m\u001b[0mis_available\u001b[0m\u001b[0;34m(\u001b[0m\u001b[0;34m)\u001b[0m \u001b[0;32melse\u001b[0m \u001b[0;34m\"cpu\"\u001b[0m\u001b[0;34m\u001b[0m\u001b[0;34m\u001b[0m\u001b[0m\n\u001b[0;32m----> 3\u001b[0;31m \u001b[0mtest_image_features\u001b[0m \u001b[0;34m=\u001b[0m \u001b[0mtorch\u001b[0m\u001b[0;34m.\u001b[0m\u001b[0mload\u001b[0m\u001b[0;34m(\u001b[0m\u001b[0;34m\"test_image_features_vitL.pt\"\u001b[0m\u001b[0;34m,\u001b[0m \u001b[0mmap_location\u001b[0m \u001b[0;34m=\u001b[0m \u001b[0mtorch\u001b[0m\u001b[0;34m.\u001b[0m\u001b[0mdevice\u001b[0m\u001b[0;34m(\u001b[0m\u001b[0mdev\u001b[0m\u001b[0;34m)\u001b[0m\u001b[0;34m)\u001b[0m\u001b[0;34m\u001b[0m\u001b[0;34m\u001b[0m\u001b[0m\n\u001b[0m\u001b[1;32m      4\u001b[0m \u001b[0mtest_text_feature\u001b[0m \u001b[0;34m=\u001b[0m \u001b[0mtorch\u001b[0m\u001b[0;34m.\u001b[0m\u001b[0mload\u001b[0m\u001b[0;34m(\u001b[0m\u001b[0;34m\"test_text_feature_vitL.pt\"\u001b[0m\u001b[0;34m,\u001b[0m \u001b[0mmap_location\u001b[0m \u001b[0;34m=\u001b[0m \u001b[0mtorch\u001b[0m\u001b[0;34m.\u001b[0m\u001b[0mdevice\u001b[0m\u001b[0;34m(\u001b[0m\u001b[0mdev\u001b[0m\u001b[0;34m)\u001b[0m\u001b[0;34m)\u001b[0m\u001b[0;34m\u001b[0m\u001b[0;34m\u001b[0m\u001b[0m\n\u001b[1;32m      5\u001b[0m \u001b[0mall_image_features\u001b[0m \u001b[0;34m=\u001b[0m \u001b[0mtorch\u001b[0m\u001b[0;34m.\u001b[0m\u001b[0mload\u001b[0m\u001b[0;34m(\u001b[0m\u001b[0;34m\"all_image_features_vitL.pt\"\u001b[0m\u001b[0;34m,\u001b[0m \u001b[0mmap_location\u001b[0m \u001b[0;34m=\u001b[0m \u001b[0mtorch\u001b[0m\u001b[0;34m.\u001b[0m\u001b[0mdevice\u001b[0m\u001b[0;34m(\u001b[0m\u001b[0mdev\u001b[0m\u001b[0;34m)\u001b[0m\u001b[0;34m)\u001b[0m\u001b[0;34m\u001b[0m\u001b[0;34m\u001b[0m\u001b[0m\n",
            "\u001b[0;32m/usr/local/lib/python3.10/dist-packages/torch/serialization.py\u001b[0m in \u001b[0;36mload\u001b[0;34m(f, map_location, pickle_module, weights_only, **pickle_load_args)\u001b[0m\n\u001b[1;32m    789\u001b[0m         \u001b[0mpickle_load_args\u001b[0m\u001b[0;34m[\u001b[0m\u001b[0;34m'encoding'\u001b[0m\u001b[0;34m]\u001b[0m \u001b[0;34m=\u001b[0m \u001b[0;34m'utf-8'\u001b[0m\u001b[0;34m\u001b[0m\u001b[0;34m\u001b[0m\u001b[0m\n\u001b[1;32m    790\u001b[0m \u001b[0;34m\u001b[0m\u001b[0m\n\u001b[0;32m--> 791\u001b[0;31m     \u001b[0;32mwith\u001b[0m \u001b[0m_open_file_like\u001b[0m\u001b[0;34m(\u001b[0m\u001b[0mf\u001b[0m\u001b[0;34m,\u001b[0m \u001b[0;34m'rb'\u001b[0m\u001b[0;34m)\u001b[0m \u001b[0;32mas\u001b[0m \u001b[0mopened_file\u001b[0m\u001b[0;34m:\u001b[0m\u001b[0;34m\u001b[0m\u001b[0;34m\u001b[0m\u001b[0m\n\u001b[0m\u001b[1;32m    792\u001b[0m         \u001b[0;32mif\u001b[0m \u001b[0m_is_zipfile\u001b[0m\u001b[0;34m(\u001b[0m\u001b[0mopened_file\u001b[0m\u001b[0;34m)\u001b[0m\u001b[0;34m:\u001b[0m\u001b[0;34m\u001b[0m\u001b[0;34m\u001b[0m\u001b[0m\n\u001b[1;32m    793\u001b[0m             \u001b[0;31m# The zipfile reader is going to advance the current file position.\u001b[0m\u001b[0;34m\u001b[0m\u001b[0;34m\u001b[0m\u001b[0m\n",
            "\u001b[0;32m/usr/local/lib/python3.10/dist-packages/torch/serialization.py\u001b[0m in \u001b[0;36m_open_file_like\u001b[0;34m(name_or_buffer, mode)\u001b[0m\n\u001b[1;32m    269\u001b[0m \u001b[0;32mdef\u001b[0m \u001b[0m_open_file_like\u001b[0m\u001b[0;34m(\u001b[0m\u001b[0mname_or_buffer\u001b[0m\u001b[0;34m,\u001b[0m \u001b[0mmode\u001b[0m\u001b[0;34m)\u001b[0m\u001b[0;34m:\u001b[0m\u001b[0;34m\u001b[0m\u001b[0;34m\u001b[0m\u001b[0m\n\u001b[1;32m    270\u001b[0m     \u001b[0;32mif\u001b[0m \u001b[0m_is_path\u001b[0m\u001b[0;34m(\u001b[0m\u001b[0mname_or_buffer\u001b[0m\u001b[0;34m)\u001b[0m\u001b[0;34m:\u001b[0m\u001b[0;34m\u001b[0m\u001b[0;34m\u001b[0m\u001b[0m\n\u001b[0;32m--> 271\u001b[0;31m         \u001b[0;32mreturn\u001b[0m \u001b[0m_open_file\u001b[0m\u001b[0;34m(\u001b[0m\u001b[0mname_or_buffer\u001b[0m\u001b[0;34m,\u001b[0m \u001b[0mmode\u001b[0m\u001b[0;34m)\u001b[0m\u001b[0;34m\u001b[0m\u001b[0;34m\u001b[0m\u001b[0m\n\u001b[0m\u001b[1;32m    272\u001b[0m     \u001b[0;32melse\u001b[0m\u001b[0;34m:\u001b[0m\u001b[0;34m\u001b[0m\u001b[0;34m\u001b[0m\u001b[0m\n\u001b[1;32m    273\u001b[0m         \u001b[0;32mif\u001b[0m \u001b[0;34m'w'\u001b[0m \u001b[0;32min\u001b[0m \u001b[0mmode\u001b[0m\u001b[0;34m:\u001b[0m\u001b[0;34m\u001b[0m\u001b[0;34m\u001b[0m\u001b[0m\n",
            "\u001b[0;32m/usr/local/lib/python3.10/dist-packages/torch/serialization.py\u001b[0m in \u001b[0;36m__init__\u001b[0;34m(self, name, mode)\u001b[0m\n\u001b[1;32m    250\u001b[0m \u001b[0;32mclass\u001b[0m \u001b[0m_open_file\u001b[0m\u001b[0;34m(\u001b[0m\u001b[0m_opener\u001b[0m\u001b[0;34m)\u001b[0m\u001b[0;34m:\u001b[0m\u001b[0;34m\u001b[0m\u001b[0;34m\u001b[0m\u001b[0m\n\u001b[1;32m    251\u001b[0m     \u001b[0;32mdef\u001b[0m \u001b[0m__init__\u001b[0m\u001b[0;34m(\u001b[0m\u001b[0mself\u001b[0m\u001b[0;34m,\u001b[0m \u001b[0mname\u001b[0m\u001b[0;34m,\u001b[0m \u001b[0mmode\u001b[0m\u001b[0;34m)\u001b[0m\u001b[0;34m:\u001b[0m\u001b[0;34m\u001b[0m\u001b[0;34m\u001b[0m\u001b[0m\n\u001b[0;32m--> 252\u001b[0;31m         \u001b[0msuper\u001b[0m\u001b[0;34m(\u001b[0m\u001b[0;34m)\u001b[0m\u001b[0;34m.\u001b[0m\u001b[0m__init__\u001b[0m\u001b[0;34m(\u001b[0m\u001b[0mopen\u001b[0m\u001b[0;34m(\u001b[0m\u001b[0mname\u001b[0m\u001b[0;34m,\u001b[0m \u001b[0mmode\u001b[0m\u001b[0;34m)\u001b[0m\u001b[0;34m)\u001b[0m\u001b[0;34m\u001b[0m\u001b[0;34m\u001b[0m\u001b[0m\n\u001b[0m\u001b[1;32m    253\u001b[0m \u001b[0;34m\u001b[0m\u001b[0m\n\u001b[1;32m    254\u001b[0m     \u001b[0;32mdef\u001b[0m \u001b[0m__exit__\u001b[0m\u001b[0;34m(\u001b[0m\u001b[0mself\u001b[0m\u001b[0;34m,\u001b[0m \u001b[0;34m*\u001b[0m\u001b[0margs\u001b[0m\u001b[0;34m)\u001b[0m\u001b[0;34m:\u001b[0m\u001b[0;34m\u001b[0m\u001b[0;34m\u001b[0m\u001b[0m\n",
            "\u001b[0;31mFileNotFoundError\u001b[0m: [Errno 2] No such file or directory: 'test_image_features_vitL.pt'"
          ]
        }
      ],
      "source": [
        "import torch\n",
        "dev = \"cuda\" if torch.cuda.is_available() else \"cpu\"\n",
        "test_image_features = torch.load(\"test_image_features_vitL.pt\", map_location = torch.device(dev))\n",
        "test_text_feature = torch.load(\"test_text_feature_vitL.pt\", map_location = torch.device(dev))\n",
        "all_image_features = torch.load(\"all_image_features_vitL.pt\", map_location = torch.device(dev))\n",
        "all_text_feature = torch.load(\"all_text_feature_vitL.pt\", map_location = torch.device(dev))\n",
        "label_onehot_tensor = torch.load(\"label_onehot_tensor.pt\", map_location = torch.device(dev))"
      ]
    },
    {
      "cell_type": "code",
      "execution_count": 3,
      "metadata": {
        "execution": {
          "iopub.execute_input": "2023-05-01T05:51:22.826083Z",
          "iopub.status.busy": "2023-05-01T05:51:22.825618Z",
          "iopub.status.idle": "2023-05-01T05:51:22.833769Z",
          "shell.execute_reply": "2023-05-01T05:51:22.832765Z",
          "shell.execute_reply.started": "2023-05-01T05:51:22.826044Z"
        },
        "colab": {
          "base_uri": "https://localhost:8080/"
        },
        "id": "0Q7j_GGug_-u",
        "outputId": "07b197b5-ff83-42e7-d1cd-f92538ab14f0"
      },
      "outputs": [
        {
          "output_type": "execute_result",
          "data": {
            "text/plain": [
              "torch.Size([10000, 768])"
            ]
          },
          "metadata": {},
          "execution_count": 3
        }
      ],
      "source": [
        "test_image_features.shape"
      ]
    },
    {
      "cell_type": "code",
      "execution_count": 4,
      "metadata": {
        "execution": {
          "iopub.execute_input": "2023-05-01T05:51:22.835862Z",
          "iopub.status.busy": "2023-05-01T05:51:22.835097Z",
          "iopub.status.idle": "2023-05-01T05:51:22.843484Z",
          "shell.execute_reply": "2023-05-01T05:51:22.842316Z",
          "shell.execute_reply.started": "2023-05-01T05:51:22.835823Z"
        },
        "id": "6fC_dAPxg_-v"
      },
      "outputs": [],
      "source": [
        "def add_weight_decay(model, weight_decay=1e-4, skip_list=()):\n",
        "    decay = []\n",
        "    no_decay = []\n",
        "    for name, param in model.named_parameters():\n",
        "        if not param.requires_grad:\n",
        "            continue  # frozen weights\n",
        "        if len(param.shape) == 1 or name.endswith(\".bias\") or name in skip_list:\n",
        "            no_decay.append(param)\n",
        "        else:\n",
        "            decay.append(param)\n",
        "    return [\n",
        "        {'params': no_decay, 'weight_decay': 0.},\n",
        "        {'params': decay, 'weight_decay': weight_decay}]"
      ]
    },
    {
      "cell_type": "code",
      "execution_count": 5,
      "metadata": {
        "execution": {
          "iopub.execute_input": "2023-05-01T05:51:22.846727Z",
          "iopub.status.busy": "2023-05-01T05:51:22.846011Z",
          "iopub.status.idle": "2023-05-01T05:51:22.865251Z",
          "shell.execute_reply": "2023-05-01T05:51:22.864278Z",
          "shell.execute_reply.started": "2023-05-01T05:51:22.846690Z"
        },
        "id": "FGNCi1-7g_-v"
      },
      "outputs": [],
      "source": [
        "import torch\n",
        "import torch.nn as nn\n",
        "\n",
        "\n",
        "class AsymmetricLoss(nn.Module):\n",
        "    def __init__(self, gamma_neg=4, gamma_pos=1, clip=0.05, eps=1e-8, disable_torch_grad_focal_loss=True):\n",
        "        super(AsymmetricLoss, self).__init__()\n",
        "\n",
        "        self.gamma_neg = gamma_neg\n",
        "        self.gamma_pos = gamma_pos\n",
        "        self.clip = clip\n",
        "        self.disable_torch_grad_focal_loss = disable_torch_grad_focal_loss\n",
        "        self.eps = eps\n",
        "\n",
        "    def forward(self, x, y):\n",
        "        \"\"\"\"\n",
        "        Parameters\n",
        "        ----------\n",
        "        x: input logits\n",
        "        y: targets (multi-label binarized vector)\n",
        "        \"\"\"\n",
        "\n",
        "        # Calculating Probabilities\n",
        "        \n",
        "        xs_pos = x\n",
        "        xs_neg = 1 - x\n",
        "\n",
        "        # Asymmetric Clipping\n",
        "        if self.clip is not None and self.clip > 0:\n",
        "            xs_neg = (xs_neg + self.clip).clamp(max=1)\n",
        "\n",
        "        # Basic CE calculation\n",
        "        los_pos = y * torch.log(xs_pos.clamp(min=self.eps))\n",
        "        los_neg = (1 - y) * torch.log(xs_neg.clamp(min=self.eps))\n",
        "        loss = los_pos + los_neg\n",
        "\n",
        "        # Asymmetric Focusing\n",
        "        if self.gamma_neg > 0 or self.gamma_pos > 0:\n",
        "            if self.disable_torch_grad_focal_loss:\n",
        "                torch.set_grad_enabled(False)\n",
        "            pt0 = xs_pos * y\n",
        "            pt1 = xs_neg * (1 - y)  # pt = p if t > 0 else 1-p\n",
        "            pt = pt0 + pt1\n",
        "            one_sided_gamma = self.gamma_pos * y + self.gamma_neg * (1 - y)\n",
        "            one_sided_w = torch.pow(1 - pt, one_sided_gamma)\n",
        "            if self.disable_torch_grad_focal_loss:\n",
        "                torch.set_grad_enabled(True)\n",
        "            loss *= one_sided_w\n",
        "\n",
        "        return -loss.sum()\n",
        "\n",
        "\n",
        "class AsymmetricLossOptimized(nn.Module):\n",
        "    ''' Notice - optimized version, minimizes memory allocation and gpu uploading,\n",
        "    favors inplace operations'''\n",
        "\n",
        "    def __init__(self, gamma_neg=4, gamma_pos=1, clip=0.05, eps=1e-8, disable_torch_grad_focal_loss=False):\n",
        "        super(AsymmetricLossOptimized, self).__init__()\n",
        "\n",
        "        self.gamma_neg = gamma_neg\n",
        "        self.gamma_pos = gamma_pos\n",
        "        self.clip = clip\n",
        "        self.disable_torch_grad_focal_loss = disable_torch_grad_focal_loss\n",
        "        self.eps = eps\n",
        "\n",
        "        # prevent memory allocation and gpu uploading every iteration, and encourages inplace operations\n",
        "        self.targets = self.anti_targets = self.xs_pos = self.xs_neg = self.asymmetric_w = self.loss = None\n",
        "\n",
        "    def forward(self, x, y):\n",
        "        \"\"\"\"\n",
        "        Parameters\n",
        "        ----------\n",
        "        x: input logits\n",
        "        y: targets (multi-label binarized vector)\n",
        "        \"\"\"\n",
        "\n",
        "        self.targets = y\n",
        "        self.anti_targets = 1 - y\n",
        "\n",
        "        # Calculating Probabilities\n",
        "        self.xs_pos = torch.sigmoid(x)\n",
        "        self.xs_neg = 1.0 - self.xs_pos\n",
        "\n",
        "        # Asymmetric Clipping\n",
        "        if self.clip is not None and self.clip > 0:\n",
        "            self.xs_neg.add_(self.clip).clamp_(max=1)\n",
        "\n",
        "        # Basic CE calculation\n",
        "        self.loss = self.targets * torch.log(self.xs_pos.clamp(min=self.eps))\n",
        "        self.loss.add_(self.anti_targets * torch.log(self.xs_neg.clamp(min=self.eps)))\n",
        "\n",
        "        # Asymmetric Focusing\n",
        "        if self.gamma_neg > 0 or self.gamma_pos > 0:\n",
        "            if self.disable_torch_grad_focal_loss:\n",
        "                torch.set_grad_enabled(False)\n",
        "            self.xs_pos = self.xs_pos * self.targets\n",
        "            self.xs_neg = self.xs_neg * self.anti_targets\n",
        "            self.asymmetric_w = torch.pow(1 - self.xs_pos - self.xs_neg,\n",
        "                                          self.gamma_pos * self.targets + self.gamma_neg * self.anti_targets)\n",
        "            if self.disable_torch_grad_focal_loss:\n",
        "                torch.set_grad_enabled(True)\n",
        "            self.loss *= self.asymmetric_w\n",
        "\n",
        "        return -self.loss.sum()"
      ]
    },
    {
      "cell_type": "code",
      "execution_count": 6,
      "metadata": {
        "execution": {
          "iopub.execute_input": "2023-05-01T05:51:22.867113Z",
          "iopub.status.busy": "2023-05-01T05:51:22.866514Z",
          "iopub.status.idle": "2023-05-01T05:51:22.879780Z",
          "shell.execute_reply": "2023-05-01T05:51:22.879006Z",
          "shell.execute_reply.started": "2023-05-01T05:51:22.867076Z"
        },
        "id": "qKiFEgw3g_-w"
      },
      "outputs": [],
      "source": [
        "import numpy as np\n",
        "from tqdm import tqdm\n",
        "import torch.nn.functional as F\n",
        "from torchmetrics import F1Score\n",
        "from torch import optim\n",
        "from torch.cuda.amp import GradScaler, autocast\n",
        "\n",
        "from torch.utils.data import TensorDataset\n",
        "from torch.utils.data import DataLoader\n",
        "def Trainer(model, Data, epochs, epoch_step_1, epoch_step_2, lr = 1e-3):\n",
        "    torch.manual_seed(5329)\n",
        "    train_data = DataLoader(TensorDataset(Data, label_onehot_tensor), batch_size=30000, shuffle = True)\n",
        "    model = model.to(dev)\n",
        " \n",
        "    weight_decay = 1e-4\n",
        "    criterion = AsymmetricLoss(gamma_neg=0, gamma_pos=0, clip=0, disable_torch_grad_focal_loss=True)\n",
        "    parameters = add_weight_decay(model, weight_decay)\n",
        "    opti = optim.Adam(params=parameters, lr=lr, weight_decay=0)\n",
        "    scheduler = torch.optim.lr_scheduler.MultiStepLR(opti, milestones=[epoch_step_1,epoch_step_2], gamma = 0.1)\n",
        "\n",
        "    epoch = epochs\n",
        "    loss_list = []\n",
        "    f1_list = []\n",
        "    scaler = GradScaler()\n",
        "\n",
        "    for epoch in tqdm(range(epoch), colour = 'GREEN'):\n",
        "        for data, label in train_data:   \n",
        "            data, label = data.to(dev), label.to(dev)\n",
        "\n",
        "            with autocast():  # mixed precision\n",
        "                output = model(data).float() \n",
        "\n",
        "            loss = criterion(output, label)\n",
        "            model.zero_grad()\n",
        "            scaler.scale(loss).backward()\n",
        "            scaler.step(opti)\n",
        "            scaler.update()\n",
        "            scheduler.step()\n",
        "        loss_list.append(loss)\n",
        "        \n",
        "        if epoch % 10 == 0:\n",
        "            print('Train Epoch: {}\\tLoss: {:.6f}'.format(\n",
        "                epoch, loss.item()))\n",
        "    \n",
        "    return model, loss_list"
      ]
    },
    {
      "cell_type": "code",
      "execution_count": 26,
      "metadata": {
        "execution": {
          "iopub.execute_input": "2023-05-01T06:38:15.291189Z",
          "iopub.status.busy": "2023-05-01T06:38:15.290007Z",
          "iopub.status.idle": "2023-05-01T06:38:15.300838Z",
          "shell.execute_reply": "2023-05-01T06:38:15.299745Z",
          "shell.execute_reply.started": "2023-05-01T06:38:15.291122Z"
        },
        "id": "Ppt2iU32g_-w"
      },
      "outputs": [],
      "source": [
        "import torch.nn as nn\n",
        "import torch.nn.functional as F\n",
        "\n",
        "class SpatialGatingUnit(nn.Module):\n",
        "    def __init__(self, d_ffn):\n",
        "        super().__init__()\n",
        "        self.layer_norm = nn.LayerNorm(d_ffn)\n",
        "        self.fc = nn.Linear(d_ffn, d_ffn)\n",
        "        \n",
        "    def forward(self, x):\n",
        "        u = self.layer_norm(x)\n",
        "        g = torch.sigmoid(self.fc(u))\n",
        "        return x * g\n",
        "\n",
        "class gMLPBlock(nn.Module):\n",
        "    def __init__(self, d_model, d_ffn):\n",
        "        super().__init__()\n",
        "        self.fc1 = nn.Linear(d_model, d_ffn)\n",
        "        self.bn1 = nn.BatchNorm1d(d_ffn)\n",
        "        self.sgu = SpatialGatingUnit(d_ffn)\n",
        "        self.fc2 = nn.Linear(d_ffn, d_model)\n",
        "\n",
        "        # He initialization\n",
        "        nn.init.kaiming_normal_(self.fc1.weight, nonlinearity='relu')\n",
        "        nn.init.kaiming_normal_(self.fc2.weight, nonlinearity='relu')\n",
        "\n",
        "    def forward(self, x):\n",
        "        residual = x\n",
        "        x = self.fc1(x)\n",
        "        x = self.bn1(x)\n",
        "        x = F.gelu(x)\n",
        "        x = self.sgu(x)\n",
        "        x = self.fc2(x)\n",
        "        return x + residual\n",
        "\n",
        "\n",
        "class FEATURE_EXTRACTOR(nn.Module):\n",
        "    def __init__(self):\n",
        "        super().__init__()\n",
        "        self.fc1 = nn.Linear(768, 2048)\n",
        "        self.fc2 = nn.Linear(2048, 512)\n",
        "        self.fc3 = nn.Linear(512, 18)\n",
        "        self.dropout = nn.Dropout(p = 0.6)\n",
        "\n",
        "    def forward(self, inputs):\n",
        "        tensor = F.gelu(self.fc1(inputs))\n",
        "        tensor = self.dropout(tensor)\n",
        "        tensor = F.gelu(self.fc2(tensor))\n",
        "        tensor = self.dropout(tensor)\n",
        "        tensor = torch.sigmoid(self.fc3(tensor))\n",
        "        return tensor\n",
        "\n",
        "class DECISION_MODEL(nn.Module):\n",
        "    def __init__(self):\n",
        "        super().__init__()\n",
        "        self.fc1 = nn.Linear(18, 1024)\n",
        "        self.fc2 = nn.Linear(1024, 512)\n",
        "        self.fc3 = nn.Linear(512, 18)\n",
        "\n",
        "    def forward(self, inputs):\n",
        "        tensor = F.gelu(self.fc1(inputs))\n",
        "        tensor = F.gelu(self.fc2(tensor))\n",
        "        tensor = torch.sigmoid(self.fc3(tensor))\n",
        "        return tensor"
      ]
    },
    {
      "cell_type": "code",
      "source": [
        "import torch.nn as nn\n",
        "import torch.nn.functional as F\n",
        "\n",
        "class SpatialGatingUnit(nn.Module):\n",
        "    def __init__(self, d_ffn):\n",
        "        super().__init__()\n",
        "        self.layer_norm = nn.LayerNorm(d_ffn)\n",
        "        self.fc = nn.Linear(d_ffn, d_ffn)\n",
        "        \n",
        "    def forward(self, x):\n",
        "        u = self.layer_norm(x)\n",
        "        g = torch.sigmoid(self.fc(u))\n",
        "        return x * g\n",
        "\n",
        "class gMLPBlock(nn.Module):\n",
        "    def __init__(self, d_model, d_ffn):\n",
        "        super().__init__()\n",
        "        self.fc1 = nn.Linear(d_model, d_ffn)\n",
        "        self.bn1 = nn.BatchNorm1d(d_ffn)\n",
        "        self.sgu = SpatialGatingUnit(d_ffn)\n",
        "        self.fc2 = nn.Linear(d_ffn, d_model)\n",
        "\n",
        "        # He initialization\n",
        "        nn.init.kaiming_normal_(self.fc1.weight, nonlinearity='relu')\n",
        "        nn.init.kaiming_normal_(self.fc2.weight, nonlinearity='relu')\n",
        "\n",
        "    def forward(self, x):\n",
        "        residual = x\n",
        "        x = self.fc1(x)\n",
        "        x = self.bn1(x)\n",
        "        x = F.gelu(x)\n",
        "        x = self.sgu(x)\n",
        "        x = self.fc2(x)\n",
        "        return x + residual\n",
        "\n",
        "\n",
        "class FEATURE_EXTRACTOR(nn.Module):\n",
        "    def __init__(self):\n",
        "        super().__init__()\n",
        "        self.block1 = gMLPBlock(768, 768)\n",
        "        self.fc1 = nn.Linear(768, 2048)\n",
        "        self.fc2 = nn.Linear(2048, 512)\n",
        "        self.fc3 = nn.Linear(512, 18)\n",
        "        self.dropout = nn.Dropout(p = 0.6)\n",
        "\n",
        "    def forward(self, inputs):\n",
        "        tensor = self.block1(inputs)\n",
        "        tensor = F.gelu(self.fc1(tensor))\n",
        "        tensor = self.dropout(tensor)\n",
        "        tensor = F.gelu(self.fc2(tensor))\n",
        "        tensor = self.dropout(tensor)\n",
        "        tensor = torch.sigmoid(self.fc3(tensor))\n",
        "        return tensor\n",
        "\n",
        "class DECISION_MODEL(nn.Module):\n",
        "    def __init__(self):\n",
        "        super().__init__()\n",
        "        self.fc1 = nn.Linear(18, 1024)\n",
        "        self.fc2 = nn.Linear(1024, 512)\n",
        "        self.fc3 = nn.Linear(512, 18)\n",
        "\n",
        "    def forward(self, inputs):\n",
        "        tensor = F.gelu(self.fc1(inputs))\n",
        "        tensor = F.gelu(self.fc2(tensor))\n",
        "        tensor = torch.sigmoid(self.fc3(tensor))\n",
        "        return tensor"
      ],
      "metadata": {
        "id": "hBmacRI92gVY"
      },
      "execution_count": 58,
      "outputs": []
    },
    {
      "cell_type": "code",
      "source": [
        "import torch\n",
        "import torch.nn as nn\n",
        "import torch.nn.functional as F\n",
        "\n",
        "class SpatialGatingUnit(nn.Module):\n",
        "    def __init__(self, d_ffn):\n",
        "        super().__init__()\n",
        "        self.layer_norm = nn.LayerNorm(d_ffn)\n",
        "        self.fc = nn.Linear(d_ffn, d_ffn)\n",
        "        \n",
        "    def forward(self, x):\n",
        "        u = self.layer_norm(x)\n",
        "        g = torch.sigmoid(self.fc(u))\n",
        "        return x * g\n",
        "\n",
        "class gMLPBlock(nn.Module):\n",
        "    def __init__(self, d_model, d_ffn):\n",
        "        super().__init__()\n",
        "        self.fc1 = nn.Linear(d_model, d_ffn)\n",
        "        self.bn1 = nn.BatchNorm1d(d_ffn)\n",
        "        self.sgu = SpatialGatingUnit(d_ffn)\n",
        "        self.fc2 = nn.Linear(d_ffn, d_model)\n",
        "\n",
        "        # He initialization\n",
        "        nn.init.kaiming_normal_(self.fc1.weight, nonlinearity='relu')\n",
        "        nn.init.kaiming_normal_(self.fc2.weight, nonlinearity='relu')\n",
        "\n",
        "    def forward(self, x):\n",
        "        residual = x\n",
        "        x = self.fc1(x)\n",
        "        x = self.bn1(x)\n",
        "        x = F.gelu(x)\n",
        "        x = self.sgu(x)\n",
        "        x = self.fc2(x)\n",
        "        return x + residual\n",
        "\n",
        "class gMLP_feature(nn.Module):\n",
        "    def __init__(self):\n",
        "        super().__init__()\n",
        "        self.block1 = gMLPBlock(1536, 1536)\n",
        "        self.block2 = gMLPBlock(1536, 1536)\n",
        "        self.fc = nn.Linear(1536, 18)\n",
        "\n",
        "    def forward(self, inputs):\n",
        "        tensor = self.block1(inputs)\n",
        "        tensor = self.block2(tensor)\n",
        "        tensor = torch.sigmoid(self.fc(tensor))\n",
        "        return tensor\n",
        "\n",
        "class gMLP_decision(nn.Module):\n",
        "    def __init__(self):\n",
        "        super().__init__()\n",
        "        self.block1 = gMLPBlock(18, 18)\n",
        "        self.block2 = gMLPBlock(18, 18)\n",
        "        self.fc = nn.Linear(18, 18)\n",
        "\n",
        "    def forward(self, inputs):\n",
        "        tensor = self.block1(inputs)\n",
        "        tensor = self.block2(tensor)\n",
        "        tensor = torch.sigmoid(self.fc(tensor))\n",
        "        return tensor\n"
      ],
      "metadata": {
        "id": "coMjGqzMmqHq"
      },
      "execution_count": 54,
      "outputs": []
    },
    {
      "cell_type": "code",
      "source": [
        "all_image_features.shape"
      ],
      "metadata": {
        "colab": {
          "base_uri": "https://localhost:8080/"
        },
        "id": "fCLRn-tHyAA1",
        "outputId": "cfe45d0c-95b1-4f52-b269-dd74d9aba3ce"
      },
      "execution_count": 46,
      "outputs": [
        {
          "output_type": "execute_result",
          "data": {
            "text/plain": [
              "torch.Size([30000, 768])"
            ]
          },
          "metadata": {},
          "execution_count": 46
        }
      ]
    },
    {
      "cell_type": "code",
      "source": [
        "all_text_feature.shape"
      ],
      "metadata": {
        "colab": {
          "base_uri": "https://localhost:8080/"
        },
        "id": "VPc3dKkSyC8T",
        "outputId": "9e1e2eb7-9a2f-49ce-8d61-61fb4cf9ba70"
      },
      "execution_count": 48,
      "outputs": [
        {
          "output_type": "execute_result",
          "data": {
            "text/plain": [
              "torch.Size([30000, 768])"
            ]
          },
          "metadata": {},
          "execution_count": 48
        }
      ]
    },
    {
      "cell_type": "code",
      "source": [
        "all_feature = torch.cat((all_image_features, all_text_feature), dim = 1)\n",
        "all_feature.shape"
      ],
      "metadata": {
        "colab": {
          "base_uri": "https://localhost:8080/"
        },
        "id": "eJl3vuwDyKtK",
        "outputId": "b85ccef5-4925-4df7-f638-03544e579e18"
      },
      "execution_count": 51,
      "outputs": [
        {
          "output_type": "execute_result",
          "data": {
            "text/plain": [
              "torch.Size([30000, 1536])"
            ]
          },
          "metadata": {},
          "execution_count": 51
        }
      ]
    },
    {
      "cell_type": "code",
      "source": [
        "test = torch.cat((test_image_features, test_text_feature), dim = 1)\n",
        "test.shape"
      ],
      "metadata": {
        "colab": {
          "base_uri": "https://localhost:8080/"
        },
        "id": "7gnkfccfzHiF",
        "outputId": "81241c12-3a6f-48a1-c377-4c2fe65f926e"
      },
      "execution_count": 52,
      "outputs": [
        {
          "output_type": "execute_result",
          "data": {
            "text/plain": [
              "torch.Size([10000, 1536])"
            ]
          },
          "metadata": {},
          "execution_count": 52
        }
      ]
    },
    {
      "cell_type": "code",
      "source": [
        "Net, loss_list = Trainer(FEATURE_EXTRACTOR(), all_image_features, 400, 350, 400)\n",
        "Net.eval()\n",
        "with torch.autograd.no_grad():\n",
        "    img_train = Net(all_image_features.to(dev))\n",
        "    img_test = Net(test_image_features.to(dev))"
      ],
      "metadata": {
        "colab": {
          "base_uri": "https://localhost:8080/"
        },
        "id": "DPqhgySBzXX7",
        "outputId": "e8875722-1b04-4e07-fd9b-2095d7dbb35a"
      },
      "execution_count": 60,
      "outputs": [
        {
          "output_type": "stream",
          "name": "stderr",
          "text": [
            "  0%|\u001b[32m          \u001b[0m| 0/400 [00:00<?, ?it/s]/usr/local/lib/python3.10/dist-packages/torch/optim/lr_scheduler.py:139: UserWarning: Detected call of `lr_scheduler.step()` before `optimizer.step()`. In PyTorch 1.1.0 and later, you should call them in the opposite order: `optimizer.step()` before `lr_scheduler.step()`.  Failure to do this will result in PyTorch skipping the first value of the learning rate schedule. See more details at https://pytorch.org/docs/stable/optim.html#how-to-adjust-learning-rate\n",
            "  warnings.warn(\"Detected call of `lr_scheduler.step()` before `optimizer.step()`. \"\n",
            "  0%|\u001b[32m          \u001b[0m| 1/400 [00:00<03:05,  2.15it/s]"
          ]
        },
        {
          "output_type": "stream",
          "name": "stdout",
          "text": [
            "Train Epoch: 0\tLoss: 375067.500000\n"
          ]
        },
        {
          "output_type": "stream",
          "name": "stderr",
          "text": [
            "  3%|\u001b[32m▎         \u001b[0m| 11/400 [00:04<02:47,  2.32it/s]"
          ]
        },
        {
          "output_type": "stream",
          "name": "stdout",
          "text": [
            "Train Epoch: 10\tLoss: 375091.593750\n"
          ]
        },
        {
          "output_type": "stream",
          "name": "stderr",
          "text": [
            "  5%|\u001b[32m▌         \u001b[0m| 21/400 [00:09<02:44,  2.31it/s]"
          ]
        },
        {
          "output_type": "stream",
          "name": "stdout",
          "text": [
            "Train Epoch: 20\tLoss: 131155.250000\n"
          ]
        },
        {
          "output_type": "stream",
          "name": "stderr",
          "text": [
            "  8%|\u001b[32m▊         \u001b[0m| 31/400 [00:14<03:02,  2.02it/s]"
          ]
        },
        {
          "output_type": "stream",
          "name": "stdout",
          "text": [
            "Train Epoch: 30\tLoss: 125361.890625\n"
          ]
        },
        {
          "output_type": "stream",
          "name": "stderr",
          "text": [
            " 10%|\u001b[32m█         \u001b[0m| 41/400 [00:18<02:36,  2.30it/s]"
          ]
        },
        {
          "output_type": "stream",
          "name": "stdout",
          "text": [
            "Train Epoch: 40\tLoss: 73971.023438\n"
          ]
        },
        {
          "output_type": "stream",
          "name": "stderr",
          "text": [
            " 13%|\u001b[32m█▎        \u001b[0m| 51/400 [00:23<02:49,  2.06it/s]"
          ]
        },
        {
          "output_type": "stream",
          "name": "stdout",
          "text": [
            "Train Epoch: 50\tLoss: 52909.953125\n"
          ]
        },
        {
          "output_type": "stream",
          "name": "stderr",
          "text": [
            " 15%|\u001b[32m█▌        \u001b[0m| 61/400 [00:27<02:25,  2.33it/s]"
          ]
        },
        {
          "output_type": "stream",
          "name": "stdout",
          "text": [
            "Train Epoch: 60\tLoss: 44316.281250\n"
          ]
        },
        {
          "output_type": "stream",
          "name": "stderr",
          "text": [
            " 18%|\u001b[32m█▊        \u001b[0m| 71/400 [00:32<02:19,  2.36it/s]"
          ]
        },
        {
          "output_type": "stream",
          "name": "stdout",
          "text": [
            "Train Epoch: 70\tLoss: 38388.386719\n"
          ]
        },
        {
          "output_type": "stream",
          "name": "stderr",
          "text": [
            " 20%|\u001b[32m██        \u001b[0m| 81/400 [00:37<02:49,  1.88it/s]"
          ]
        },
        {
          "output_type": "stream",
          "name": "stdout",
          "text": [
            "Train Epoch: 80\tLoss: 33590.289062\n"
          ]
        },
        {
          "output_type": "stream",
          "name": "stderr",
          "text": [
            " 23%|\u001b[32m██▎       \u001b[0m| 91/400 [00:41<02:21,  2.19it/s]"
          ]
        },
        {
          "output_type": "stream",
          "name": "stdout",
          "text": [
            "Train Epoch: 90\tLoss: 28978.371094\n"
          ]
        },
        {
          "output_type": "stream",
          "name": "stderr",
          "text": [
            " 25%|\u001b[32m██▌       \u001b[0m| 101/400 [00:46<02:10,  2.29it/s]"
          ]
        },
        {
          "output_type": "stream",
          "name": "stdout",
          "text": [
            "Train Epoch: 100\tLoss: 23939.978516\n"
          ]
        },
        {
          "output_type": "stream",
          "name": "stderr",
          "text": [
            " 28%|\u001b[32m██▊       \u001b[0m| 111/400 [00:52<02:39,  1.81it/s]"
          ]
        },
        {
          "output_type": "stream",
          "name": "stdout",
          "text": [
            "Train Epoch: 110\tLoss: 18443.121094\n"
          ]
        },
        {
          "output_type": "stream",
          "name": "stderr",
          "text": [
            " 30%|\u001b[32m███       \u001b[0m| 121/400 [00:56<02:02,  2.28it/s]"
          ]
        },
        {
          "output_type": "stream",
          "name": "stdout",
          "text": [
            "Train Epoch: 120\tLoss: 13399.167969\n"
          ]
        },
        {
          "output_type": "stream",
          "name": "stderr",
          "text": [
            " 33%|\u001b[32m███▎      \u001b[0m| 131/400 [01:01<02:21,  1.90it/s]"
          ]
        },
        {
          "output_type": "stream",
          "name": "stdout",
          "text": [
            "Train Epoch: 130\tLoss: 9540.285156\n"
          ]
        },
        {
          "output_type": "stream",
          "name": "stderr",
          "text": [
            " 35%|\u001b[32m███▌      \u001b[0m| 141/400 [01:06<01:55,  2.25it/s]"
          ]
        },
        {
          "output_type": "stream",
          "name": "stdout",
          "text": [
            "Train Epoch: 140\tLoss: 6597.442383\n"
          ]
        },
        {
          "output_type": "stream",
          "name": "stderr",
          "text": [
            " 38%|\u001b[32m███▊      \u001b[0m| 151/400 [01:10<01:46,  2.34it/s]"
          ]
        },
        {
          "output_type": "stream",
          "name": "stdout",
          "text": [
            "Train Epoch: 150\tLoss: 4698.842773\n"
          ]
        },
        {
          "output_type": "stream",
          "name": "stderr",
          "text": [
            " 40%|\u001b[32m████      \u001b[0m| 161/400 [01:15<01:54,  2.09it/s]"
          ]
        },
        {
          "output_type": "stream",
          "name": "stdout",
          "text": [
            "Train Epoch: 160\tLoss: 3291.112793\n"
          ]
        },
        {
          "output_type": "stream",
          "name": "stderr",
          "text": [
            " 43%|\u001b[32m████▎     \u001b[0m| 171/400 [01:19<01:37,  2.35it/s]"
          ]
        },
        {
          "output_type": "stream",
          "name": "stdout",
          "text": [
            "Train Epoch: 170\tLoss: 2475.130859\n"
          ]
        },
        {
          "output_type": "stream",
          "name": "stderr",
          "text": [
            " 45%|\u001b[32m████▌     \u001b[0m| 181/400 [01:23<01:35,  2.30it/s]"
          ]
        },
        {
          "output_type": "stream",
          "name": "stdout",
          "text": [
            "Train Epoch: 180\tLoss: 1970.672607\n"
          ]
        },
        {
          "output_type": "stream",
          "name": "stderr",
          "text": [
            " 48%|\u001b[32m████▊     \u001b[0m| 191/400 [01:28<01:38,  2.12it/s]"
          ]
        },
        {
          "output_type": "stream",
          "name": "stdout",
          "text": [
            "Train Epoch: 190\tLoss: 1516.086670\n"
          ]
        },
        {
          "output_type": "stream",
          "name": "stderr",
          "text": [
            " 50%|\u001b[32m█████     \u001b[0m| 201/400 [01:33<01:24,  2.36it/s]"
          ]
        },
        {
          "output_type": "stream",
          "name": "stdout",
          "text": [
            "Train Epoch: 200\tLoss: 1314.781982\n"
          ]
        },
        {
          "output_type": "stream",
          "name": "stderr",
          "text": [
            " 53%|\u001b[32m█████▎    \u001b[0m| 211/400 [01:37<01:35,  1.98it/s]"
          ]
        },
        {
          "output_type": "stream",
          "name": "stdout",
          "text": [
            "Train Epoch: 210\tLoss: 1156.022339\n"
          ]
        },
        {
          "output_type": "stream",
          "name": "stderr",
          "text": [
            " 55%|\u001b[32m█████▌    \u001b[0m| 221/400 [01:42<01:22,  2.17it/s]"
          ]
        },
        {
          "output_type": "stream",
          "name": "stdout",
          "text": [
            "Train Epoch: 220\tLoss: 1032.231934\n"
          ]
        },
        {
          "output_type": "stream",
          "name": "stderr",
          "text": [
            " 58%|\u001b[32m█████▊    \u001b[0m| 231/400 [01:46<01:12,  2.33it/s]"
          ]
        },
        {
          "output_type": "stream",
          "name": "stdout",
          "text": [
            "Train Epoch: 230\tLoss: 890.580750\n"
          ]
        },
        {
          "output_type": "stream",
          "name": "stderr",
          "text": [
            " 60%|\u001b[32m██████    \u001b[0m| 241/400 [01:51<01:25,  1.85it/s]"
          ]
        },
        {
          "output_type": "stream",
          "name": "stdout",
          "text": [
            "Train Epoch: 240\tLoss: 817.536560\n"
          ]
        },
        {
          "output_type": "stream",
          "name": "stderr",
          "text": [
            " 63%|\u001b[32m██████▎   \u001b[0m| 251/400 [01:55<01:02,  2.39it/s]"
          ]
        },
        {
          "output_type": "stream",
          "name": "stdout",
          "text": [
            "Train Epoch: 250\tLoss: 750.621948\n"
          ]
        },
        {
          "output_type": "stream",
          "name": "stderr",
          "text": [
            " 65%|\u001b[32m██████▌   \u001b[0m| 261/400 [02:00<00:59,  2.35it/s]"
          ]
        },
        {
          "output_type": "stream",
          "name": "stdout",
          "text": [
            "Train Epoch: 260\tLoss: 666.729614\n"
          ]
        },
        {
          "output_type": "stream",
          "name": "stderr",
          "text": [
            " 68%|\u001b[32m██████▊   \u001b[0m| 271/400 [02:05<01:17,  1.66it/s]"
          ]
        },
        {
          "output_type": "stream",
          "name": "stdout",
          "text": [
            "Train Epoch: 270\tLoss: 666.722412\n"
          ]
        },
        {
          "output_type": "stream",
          "name": "stderr",
          "text": [
            " 70%|\u001b[32m███████   \u001b[0m| 281/400 [02:12<01:06,  1.78it/s]"
          ]
        },
        {
          "output_type": "stream",
          "name": "stdout",
          "text": [
            "Train Epoch: 280\tLoss: 591.440613\n"
          ]
        },
        {
          "output_type": "stream",
          "name": "stderr",
          "text": [
            " 73%|\u001b[32m███████▎  \u001b[0m| 291/400 [02:17<00:53,  2.05it/s]"
          ]
        },
        {
          "output_type": "stream",
          "name": "stdout",
          "text": [
            "Train Epoch: 290\tLoss: 593.156128\n"
          ]
        },
        {
          "output_type": "stream",
          "name": "stderr",
          "text": [
            " 75%|\u001b[32m███████▌  \u001b[0m| 301/400 [02:22<00:49,  2.00it/s]"
          ]
        },
        {
          "output_type": "stream",
          "name": "stdout",
          "text": [
            "Train Epoch: 300\tLoss: 556.706299\n"
          ]
        },
        {
          "output_type": "stream",
          "name": "stderr",
          "text": [
            " 78%|\u001b[32m███████▊  \u001b[0m| 311/400 [02:26<00:42,  2.10it/s]"
          ]
        },
        {
          "output_type": "stream",
          "name": "stdout",
          "text": [
            "Train Epoch: 310\tLoss: 506.139618\n"
          ]
        },
        {
          "output_type": "stream",
          "name": "stderr",
          "text": [
            " 80%|\u001b[32m████████  \u001b[0m| 321/400 [02:31<00:33,  2.33it/s]"
          ]
        },
        {
          "output_type": "stream",
          "name": "stdout",
          "text": [
            "Train Epoch: 320\tLoss: 464.812195\n"
          ]
        },
        {
          "output_type": "stream",
          "name": "stderr",
          "text": [
            " 83%|\u001b[32m████████▎ \u001b[0m| 331/400 [02:35<00:29,  2.37it/s]"
          ]
        },
        {
          "output_type": "stream",
          "name": "stdout",
          "text": [
            "Train Epoch: 330\tLoss: 466.034241\n"
          ]
        },
        {
          "output_type": "stream",
          "name": "stderr",
          "text": [
            " 85%|\u001b[32m████████▌ \u001b[0m| 341/400 [02:40<00:33,  1.76it/s]"
          ]
        },
        {
          "output_type": "stream",
          "name": "stdout",
          "text": [
            "Train Epoch: 340\tLoss: 445.463745\n"
          ]
        },
        {
          "output_type": "stream",
          "name": "stderr",
          "text": [
            " 88%|\u001b[32m████████▊ \u001b[0m| 351/400 [02:44<00:21,  2.32it/s]"
          ]
        },
        {
          "output_type": "stream",
          "name": "stdout",
          "text": [
            "Train Epoch: 350\tLoss: 423.557617\n"
          ]
        },
        {
          "output_type": "stream",
          "name": "stderr",
          "text": [
            " 90%|\u001b[32m█████████ \u001b[0m| 361/400 [02:49<00:17,  2.24it/s]"
          ]
        },
        {
          "output_type": "stream",
          "name": "stdout",
          "text": [
            "Train Epoch: 360\tLoss: 405.247009\n"
          ]
        },
        {
          "output_type": "stream",
          "name": "stderr",
          "text": [
            " 93%|\u001b[32m█████████▎\u001b[0m| 371/400 [02:54<00:13,  2.10it/s]"
          ]
        },
        {
          "output_type": "stream",
          "name": "stdout",
          "text": [
            "Train Epoch: 370\tLoss: 362.100586\n"
          ]
        },
        {
          "output_type": "stream",
          "name": "stderr",
          "text": [
            " 95%|\u001b[32m█████████▌\u001b[0m| 381/400 [02:58<00:07,  2.41it/s]"
          ]
        },
        {
          "output_type": "stream",
          "name": "stdout",
          "text": [
            "Train Epoch: 380\tLoss: 333.303864\n"
          ]
        },
        {
          "output_type": "stream",
          "name": "stderr",
          "text": [
            " 98%|\u001b[32m█████████▊\u001b[0m| 391/400 [03:02<00:03,  2.34it/s]"
          ]
        },
        {
          "output_type": "stream",
          "name": "stdout",
          "text": [
            "Train Epoch: 390\tLoss: 319.794128\n"
          ]
        },
        {
          "output_type": "stream",
          "name": "stderr",
          "text": [
            "100%|\u001b[32m██████████\u001b[0m| 400/400 [03:07<00:00,  2.13it/s]\n"
          ]
        }
      ]
    },
    {
      "cell_type": "code",
      "source": [
        "Net, loss_list = Trainer(FEATURE_EXTRACTOR(), all_text_feature, 400, 350, 400)\n",
        "Net.eval()\n",
        "with torch.autograd.no_grad():\n",
        "    img_train = Net(all_image_features.to(dev))\n",
        "    img_test = Net(test_image_features.to(dev))"
      ],
      "metadata": {
        "colab": {
          "base_uri": "https://localhost:8080/"
        },
        "id": "kce35x0l3rUk",
        "outputId": "539c89b5-63c5-448c-9293-004ec6089dbb"
      },
      "execution_count": 61,
      "outputs": [
        {
          "output_type": "stream",
          "name": "stderr",
          "text": [
            "  0%|\u001b[32m          \u001b[0m| 1/400 [00:00<02:44,  2.43it/s]"
          ]
        },
        {
          "output_type": "stream",
          "name": "stdout",
          "text": [
            "Train Epoch: 0\tLoss: 372142.812500\n"
          ]
        },
        {
          "output_type": "stream",
          "name": "stderr",
          "text": [
            "  3%|\u001b[32m▎         \u001b[0m| 11/400 [00:06<03:11,  2.03it/s]"
          ]
        },
        {
          "output_type": "stream",
          "name": "stdout",
          "text": [
            "Train Epoch: 10\tLoss: 372100.250000\n"
          ]
        },
        {
          "output_type": "stream",
          "name": "stderr",
          "text": [
            "  5%|\u001b[32m▌         \u001b[0m| 21/400 [00:10<02:39,  2.37it/s]"
          ]
        },
        {
          "output_type": "stream",
          "name": "stdout",
          "text": [
            "Train Epoch: 20\tLoss: 139810.562500\n"
          ]
        },
        {
          "output_type": "stream",
          "name": "stderr",
          "text": [
            "  8%|\u001b[32m▊         \u001b[0m| 31/400 [00:15<03:13,  1.91it/s]"
          ]
        },
        {
          "output_type": "stream",
          "name": "stdout",
          "text": [
            "Train Epoch: 30\tLoss: 126126.007812\n"
          ]
        },
        {
          "output_type": "stream",
          "name": "stderr",
          "text": [
            " 10%|\u001b[32m█         \u001b[0m| 41/400 [00:20<02:50,  2.11it/s]"
          ]
        },
        {
          "output_type": "stream",
          "name": "stdout",
          "text": [
            "Train Epoch: 40\tLoss: 72483.000000\n"
          ]
        },
        {
          "output_type": "stream",
          "name": "stderr",
          "text": [
            " 13%|\u001b[32m█▎        \u001b[0m| 51/400 [00:24<02:26,  2.38it/s]"
          ]
        },
        {
          "output_type": "stream",
          "name": "stdout",
          "text": [
            "Train Epoch: 50\tLoss: 55813.441406\n"
          ]
        },
        {
          "output_type": "stream",
          "name": "stderr",
          "text": [
            " 15%|\u001b[32m█▌        \u001b[0m| 61/400 [00:29<02:50,  1.98it/s]"
          ]
        },
        {
          "output_type": "stream",
          "name": "stdout",
          "text": [
            "Train Epoch: 60\tLoss: 49588.773438\n"
          ]
        },
        {
          "output_type": "stream",
          "name": "stderr",
          "text": [
            " 18%|\u001b[32m█▊        \u001b[0m| 71/400 [00:34<02:17,  2.39it/s]"
          ]
        },
        {
          "output_type": "stream",
          "name": "stdout",
          "text": [
            "Train Epoch: 70\tLoss: 45958.839844\n"
          ]
        },
        {
          "output_type": "stream",
          "name": "stderr",
          "text": [
            " 20%|\u001b[32m██        \u001b[0m| 81/400 [00:39<03:10,  1.68it/s]"
          ]
        },
        {
          "output_type": "stream",
          "name": "stdout",
          "text": [
            "Train Epoch: 80\tLoss: 43144.867188\n"
          ]
        },
        {
          "output_type": "stream",
          "name": "stderr",
          "text": [
            " 23%|\u001b[32m██▎       \u001b[0m| 91/400 [00:43<02:10,  2.36it/s]"
          ]
        },
        {
          "output_type": "stream",
          "name": "stdout",
          "text": [
            "Train Epoch: 90\tLoss: 40121.164062\n"
          ]
        },
        {
          "output_type": "stream",
          "name": "stderr",
          "text": [
            " 25%|\u001b[32m██▌       \u001b[0m| 101/400 [00:48<02:09,  2.31it/s]"
          ]
        },
        {
          "output_type": "stream",
          "name": "stdout",
          "text": [
            "Train Epoch: 100\tLoss: 36477.050781\n"
          ]
        },
        {
          "output_type": "stream",
          "name": "stderr",
          "text": [
            " 28%|\u001b[32m██▊       \u001b[0m| 111/400 [00:53<02:40,  1.80it/s]"
          ]
        },
        {
          "output_type": "stream",
          "name": "stdout",
          "text": [
            "Train Epoch: 110\tLoss: 31765.484375\n"
          ]
        },
        {
          "output_type": "stream",
          "name": "stderr",
          "text": [
            " 30%|\u001b[32m███       \u001b[0m| 121/400 [00:57<01:59,  2.33it/s]"
          ]
        },
        {
          "output_type": "stream",
          "name": "stdout",
          "text": [
            "Train Epoch: 120\tLoss: 27002.542969\n"
          ]
        },
        {
          "output_type": "stream",
          "name": "stderr",
          "text": [
            " 33%|\u001b[32m███▎      \u001b[0m| 131/400 [01:01<01:57,  2.28it/s]"
          ]
        },
        {
          "output_type": "stream",
          "name": "stdout",
          "text": [
            "Train Epoch: 130\tLoss: 22137.591797\n"
          ]
        },
        {
          "output_type": "stream",
          "name": "stderr",
          "text": [
            " 35%|\u001b[32m███▌      \u001b[0m| 141/400 [01:06<02:05,  2.06it/s]"
          ]
        },
        {
          "output_type": "stream",
          "name": "stdout",
          "text": [
            "Train Epoch: 140\tLoss: 18321.384766\n"
          ]
        },
        {
          "output_type": "stream",
          "name": "stderr",
          "text": [
            " 38%|\u001b[32m███▊      \u001b[0m| 151/400 [01:10<01:47,  2.31it/s]"
          ]
        },
        {
          "output_type": "stream",
          "name": "stdout",
          "text": [
            "Train Epoch: 150\tLoss: 14495.120117\n"
          ]
        },
        {
          "output_type": "stream",
          "name": "stderr",
          "text": [
            " 40%|\u001b[32m████      \u001b[0m| 161/400 [01:15<01:40,  2.38it/s]"
          ]
        },
        {
          "output_type": "stream",
          "name": "stdout",
          "text": [
            "Train Epoch: 160\tLoss: 11587.825195\n"
          ]
        },
        {
          "output_type": "stream",
          "name": "stderr",
          "text": [
            " 43%|\u001b[32m████▎     \u001b[0m| 171/400 [01:20<01:42,  2.24it/s]"
          ]
        },
        {
          "output_type": "stream",
          "name": "stdout",
          "text": [
            "Train Epoch: 170\tLoss: 8860.021484\n"
          ]
        },
        {
          "output_type": "stream",
          "name": "stderr",
          "text": [
            " 45%|\u001b[32m████▌     \u001b[0m| 181/400 [01:24<01:31,  2.39it/s]"
          ]
        },
        {
          "output_type": "stream",
          "name": "stdout",
          "text": [
            "Train Epoch: 180\tLoss: 6949.799805\n"
          ]
        },
        {
          "output_type": "stream",
          "name": "stderr",
          "text": [
            " 48%|\u001b[32m████▊     \u001b[0m| 191/400 [01:28<01:36,  2.17it/s]"
          ]
        },
        {
          "output_type": "stream",
          "name": "stdout",
          "text": [
            "Train Epoch: 190\tLoss: 5679.852539\n"
          ]
        },
        {
          "output_type": "stream",
          "name": "stderr",
          "text": [
            " 50%|\u001b[32m█████     \u001b[0m| 201/400 [01:33<01:24,  2.37it/s]"
          ]
        },
        {
          "output_type": "stream",
          "name": "stdout",
          "text": [
            "Train Epoch: 200\tLoss: 4540.612305\n"
          ]
        },
        {
          "output_type": "stream",
          "name": "stderr",
          "text": [
            " 53%|\u001b[32m█████▎    \u001b[0m| 211/400 [01:37<01:17,  2.45it/s]"
          ]
        },
        {
          "output_type": "stream",
          "name": "stdout",
          "text": [
            "Train Epoch: 210\tLoss: 3853.249512\n"
          ]
        },
        {
          "output_type": "stream",
          "name": "stderr",
          "text": [
            " 55%|\u001b[32m█████▌    \u001b[0m| 221/400 [01:42<01:33,  1.91it/s]"
          ]
        },
        {
          "output_type": "stream",
          "name": "stdout",
          "text": [
            "Train Epoch: 220\tLoss: 3318.895996\n"
          ]
        },
        {
          "output_type": "stream",
          "name": "stderr",
          "text": [
            " 58%|\u001b[32m█████▊    \u001b[0m| 231/400 [01:46<01:17,  2.17it/s]"
          ]
        },
        {
          "output_type": "stream",
          "name": "stdout",
          "text": [
            "Train Epoch: 230\tLoss: 2946.861816\n"
          ]
        },
        {
          "output_type": "stream",
          "name": "stderr",
          "text": [
            " 60%|\u001b[32m██████    \u001b[0m| 241/400 [01:51<01:05,  2.44it/s]"
          ]
        },
        {
          "output_type": "stream",
          "name": "stdout",
          "text": [
            "Train Epoch: 240\tLoss: 2629.257812\n"
          ]
        },
        {
          "output_type": "stream",
          "name": "stderr",
          "text": [
            " 63%|\u001b[32m██████▎   \u001b[0m| 251/400 [01:56<01:15,  1.98it/s]"
          ]
        },
        {
          "output_type": "stream",
          "name": "stdout",
          "text": [
            "Train Epoch: 250\tLoss: 2415.392090\n"
          ]
        },
        {
          "output_type": "stream",
          "name": "stderr",
          "text": [
            " 65%|\u001b[32m██████▌   \u001b[0m| 261/400 [02:00<00:56,  2.45it/s]"
          ]
        },
        {
          "output_type": "stream",
          "name": "stdout",
          "text": [
            "Train Epoch: 260\tLoss: 2133.852051\n"
          ]
        },
        {
          "output_type": "stream",
          "name": "stderr",
          "text": [
            " 68%|\u001b[32m██████▊   \u001b[0m| 271/400 [02:04<00:55,  2.31it/s]"
          ]
        },
        {
          "output_type": "stream",
          "name": "stdout",
          "text": [
            "Train Epoch: 270\tLoss: 2082.558105\n"
          ]
        },
        {
          "output_type": "stream",
          "name": "stderr",
          "text": [
            " 70%|\u001b[32m███████   \u001b[0m| 281/400 [02:09<00:52,  2.26it/s]"
          ]
        },
        {
          "output_type": "stream",
          "name": "stdout",
          "text": [
            "Train Epoch: 280\tLoss: 1941.816650\n"
          ]
        },
        {
          "output_type": "stream",
          "name": "stderr",
          "text": [
            " 73%|\u001b[32m███████▎  \u001b[0m| 291/400 [02:13<00:47,  2.32it/s]"
          ]
        },
        {
          "output_type": "stream",
          "name": "stdout",
          "text": [
            "Train Epoch: 290\tLoss: 1804.134766\n"
          ]
        },
        {
          "output_type": "stream",
          "name": "stderr",
          "text": [
            " 75%|\u001b[32m███████▌  \u001b[0m| 301/400 [02:18<00:48,  2.04it/s]"
          ]
        },
        {
          "output_type": "stream",
          "name": "stdout",
          "text": [
            "Train Epoch: 300\tLoss: 1774.302734\n"
          ]
        },
        {
          "output_type": "stream",
          "name": "stderr",
          "text": [
            " 78%|\u001b[32m███████▊  \u001b[0m| 311/400 [02:22<00:38,  2.30it/s]"
          ]
        },
        {
          "output_type": "stream",
          "name": "stdout",
          "text": [
            "Train Epoch: 310\tLoss: 1640.850952\n"
          ]
        },
        {
          "output_type": "stream",
          "name": "stderr",
          "text": [
            " 80%|\u001b[32m████████  \u001b[0m| 321/400 [02:27<00:34,  2.27it/s]"
          ]
        },
        {
          "output_type": "stream",
          "name": "stdout",
          "text": [
            "Train Epoch: 320\tLoss: 1599.251709\n"
          ]
        },
        {
          "output_type": "stream",
          "name": "stderr",
          "text": [
            " 83%|\u001b[32m████████▎ \u001b[0m| 331/400 [02:31<00:37,  1.86it/s]"
          ]
        },
        {
          "output_type": "stream",
          "name": "stdout",
          "text": [
            "Train Epoch: 330\tLoss: 1504.814941\n"
          ]
        },
        {
          "output_type": "stream",
          "name": "stderr",
          "text": [
            " 85%|\u001b[32m████████▌ \u001b[0m| 341/400 [02:36<00:25,  2.33it/s]"
          ]
        },
        {
          "output_type": "stream",
          "name": "stdout",
          "text": [
            "Train Epoch: 340\tLoss: 1498.489014\n"
          ]
        },
        {
          "output_type": "stream",
          "name": "stderr",
          "text": [
            " 88%|\u001b[32m████████▊ \u001b[0m| 351/400 [02:40<00:20,  2.36it/s]"
          ]
        },
        {
          "output_type": "stream",
          "name": "stdout",
          "text": [
            "Train Epoch: 350\tLoss: 1428.893311\n"
          ]
        },
        {
          "output_type": "stream",
          "name": "stderr",
          "text": [
            " 90%|\u001b[32m█████████ \u001b[0m| 361/400 [02:45<00:18,  2.06it/s]"
          ]
        },
        {
          "output_type": "stream",
          "name": "stdout",
          "text": [
            "Train Epoch: 360\tLoss: 1344.787231\n"
          ]
        },
        {
          "output_type": "stream",
          "name": "stderr",
          "text": [
            " 93%|\u001b[32m█████████▎\u001b[0m| 371/400 [02:49<00:12,  2.38it/s]"
          ]
        },
        {
          "output_type": "stream",
          "name": "stdout",
          "text": [
            "Train Epoch: 370\tLoss: 1243.599854\n"
          ]
        },
        {
          "output_type": "stream",
          "name": "stderr",
          "text": [
            " 95%|\u001b[32m█████████▌\u001b[0m| 381/400 [02:53<00:08,  2.30it/s]"
          ]
        },
        {
          "output_type": "stream",
          "name": "stdout",
          "text": [
            "Train Epoch: 380\tLoss: 1237.836914\n"
          ]
        },
        {
          "output_type": "stream",
          "name": "stderr",
          "text": [
            " 98%|\u001b[32m█████████▊\u001b[0m| 391/400 [02:58<00:03,  2.26it/s]"
          ]
        },
        {
          "output_type": "stream",
          "name": "stdout",
          "text": [
            "Train Epoch: 390\tLoss: 1264.764648\n"
          ]
        },
        {
          "output_type": "stream",
          "name": "stderr",
          "text": [
            "100%|\u001b[32m██████████\u001b[0m| 400/400 [03:02<00:00,  2.19it/s]\n"
          ]
        }
      ]
    },
    {
      "cell_type": "code",
      "source": [
        "sum_train = img_train+txt_train\n",
        "sum_test = img_test+txt_test\n",
        "Net, loss_list = Trainer(DECISION_MODEL(), sum_train, 1200, 800, 1000)\n",
        "Net.eval()\n",
        "with torch.autograd.no_grad():\n",
        "    final = Net(sum_test)"
      ],
      "metadata": {
        "colab": {
          "base_uri": "https://localhost:8080/"
        },
        "id": "ECPQ4svJ4F9M",
        "outputId": "c5afb774-11f3-4e69-da23-fe88e387b489"
      },
      "execution_count": null,
      "outputs": [
        {
          "output_type": "stream",
          "name": "stderr",
          "text": [
            "  0%|\u001b[32m          \u001b[0m| 1/1200 [00:00<07:02,  2.84it/s]"
          ]
        },
        {
          "output_type": "stream",
          "name": "stdout",
          "text": [
            "Train Epoch: 0\tLoss: 373638.312500\n"
          ]
        },
        {
          "output_type": "stream",
          "name": "stderr",
          "text": [
            "  1%|\u001b[32m          \u001b[0m| 11/1200 [00:04<07:03,  2.81it/s]"
          ]
        },
        {
          "output_type": "stream",
          "name": "stdout",
          "text": [
            "Train Epoch: 10\tLoss: 373638.281250\n"
          ]
        },
        {
          "output_type": "stream",
          "name": "stderr",
          "text": [
            "  2%|\u001b[32m▏         \u001b[0m| 21/1200 [00:08<09:43,  2.02it/s]"
          ]
        },
        {
          "output_type": "stream",
          "name": "stdout",
          "text": [
            "Train Epoch: 20\tLoss: 139381.015625\n"
          ]
        },
        {
          "output_type": "stream",
          "name": "stderr",
          "text": [
            "  3%|\u001b[32m▎         \u001b[0m| 31/1200 [00:12<07:05,  2.75it/s]"
          ]
        },
        {
          "output_type": "stream",
          "name": "stdout",
          "text": [
            "Train Epoch: 30\tLoss: 98379.625000\n"
          ]
        },
        {
          "output_type": "stream",
          "name": "stderr",
          "text": [
            "  3%|\u001b[32m▎         \u001b[0m| 41/1200 [00:16<07:41,  2.51it/s]"
          ]
        },
        {
          "output_type": "stream",
          "name": "stdout",
          "text": [
            "Train Epoch: 40\tLoss: 66142.250000\n"
          ]
        },
        {
          "output_type": "stream",
          "name": "stderr",
          "text": [
            "  4%|\u001b[32m▍         \u001b[0m| 51/1200 [00:20<09:15,  2.07it/s]"
          ]
        },
        {
          "output_type": "stream",
          "name": "stdout",
          "text": [
            "Train Epoch: 50\tLoss: 48041.382812\n"
          ]
        },
        {
          "output_type": "stream",
          "name": "stderr",
          "text": [
            "  5%|\u001b[32m▌         \u001b[0m| 61/1200 [00:24<07:26,  2.55it/s]"
          ]
        },
        {
          "output_type": "stream",
          "name": "stdout",
          "text": [
            "Train Epoch: 60\tLoss: 35261.480469\n"
          ]
        },
        {
          "output_type": "stream",
          "name": "stderr",
          "text": [
            "  6%|\u001b[32m▌         \u001b[0m| 71/1200 [00:27<06:42,  2.80it/s]"
          ]
        },
        {
          "output_type": "stream",
          "name": "stdout",
          "text": [
            "Train Epoch: 70\tLoss: 27467.410156\n"
          ]
        },
        {
          "output_type": "stream",
          "name": "stderr",
          "text": [
            "  7%|\u001b[32m▋         \u001b[0m| 81/1200 [00:32<09:05,  2.05it/s]"
          ]
        },
        {
          "output_type": "stream",
          "name": "stdout",
          "text": [
            "Train Epoch: 80\tLoss: 22669.939453\n"
          ]
        },
        {
          "output_type": "stream",
          "name": "stderr",
          "text": [
            "  8%|\u001b[32m▊         \u001b[0m| 91/1200 [00:36<07:24,  2.50it/s]"
          ]
        },
        {
          "output_type": "stream",
          "name": "stdout",
          "text": [
            "Train Epoch: 90\tLoss: 19686.837891\n"
          ]
        },
        {
          "output_type": "stream",
          "name": "stderr",
          "text": [
            "  8%|\u001b[32m▊         \u001b[0m| 101/1200 [00:39<06:45,  2.71it/s]"
          ]
        },
        {
          "output_type": "stream",
          "name": "stdout",
          "text": [
            "Train Epoch: 100\tLoss: 17760.248047\n"
          ]
        },
        {
          "output_type": "stream",
          "name": "stderr",
          "text": [
            "  9%|\u001b[32m▉         \u001b[0m| 111/1200 [00:43<08:15,  2.20it/s]"
          ]
        },
        {
          "output_type": "stream",
          "name": "stdout",
          "text": [
            "Train Epoch: 110\tLoss: 16493.214844\n"
          ]
        },
        {
          "output_type": "stream",
          "name": "stderr",
          "text": [
            " 10%|\u001b[32m█         \u001b[0m| 121/1200 [00:48<06:51,  2.62it/s]"
          ]
        },
        {
          "output_type": "stream",
          "name": "stdout",
          "text": [
            "Train Epoch: 120\tLoss: 15646.582031\n"
          ]
        },
        {
          "output_type": "stream",
          "name": "stderr",
          "text": [
            " 11%|\u001b[32m█         \u001b[0m| 131/1200 [00:51<06:38,  2.68it/s]"
          ]
        },
        {
          "output_type": "stream",
          "name": "stdout",
          "text": [
            "Train Epoch: 130\tLoss: 15075.250000\n"
          ]
        },
        {
          "output_type": "stream",
          "name": "stderr",
          "text": [
            " 12%|\u001b[32m█▏        \u001b[0m| 141/1200 [00:55<06:50,  2.58it/s]"
          ]
        },
        {
          "output_type": "stream",
          "name": "stdout",
          "text": [
            "Train Epoch: 140\tLoss: 14673.364258\n"
          ]
        },
        {
          "output_type": "stream",
          "name": "stderr",
          "text": [
            " 13%|\u001b[32m█▎        \u001b[0m| 151/1200 [00:59<06:37,  2.64it/s]"
          ]
        },
        {
          "output_type": "stream",
          "name": "stdout",
          "text": [
            "Train Epoch: 150\tLoss: 14382.318359\n"
          ]
        },
        {
          "output_type": "stream",
          "name": "stderr",
          "text": [
            " 13%|\u001b[32m█▎        \u001b[0m| 161/1200 [01:03<07:42,  2.25it/s]"
          ]
        },
        {
          "output_type": "stream",
          "name": "stdout",
          "text": [
            "Train Epoch: 160\tLoss: 14164.234375\n"
          ]
        },
        {
          "output_type": "stream",
          "name": "stderr",
          "text": [
            " 14%|\u001b[32m█▍        \u001b[0m| 171/1200 [01:07<06:11,  2.77it/s]"
          ]
        },
        {
          "output_type": "stream",
          "name": "stdout",
          "text": [
            "Train Epoch: 170\tLoss: 13993.286133\n"
          ]
        },
        {
          "output_type": "stream",
          "name": "stderr",
          "text": [
            " 15%|\u001b[32m█▌        \u001b[0m| 181/1200 [01:12<06:29,  2.62it/s]"
          ]
        },
        {
          "output_type": "stream",
          "name": "stdout",
          "text": [
            "Train Epoch: 180\tLoss: 13854.916016\n"
          ]
        },
        {
          "output_type": "stream",
          "name": "stderr",
          "text": [
            " 16%|\u001b[32m█▌        \u001b[0m| 191/1200 [01:15<06:12,  2.71it/s]"
          ]
        },
        {
          "output_type": "stream",
          "name": "stdout",
          "text": [
            "Train Epoch: 190\tLoss: 13734.932617\n"
          ]
        },
        {
          "output_type": "stream",
          "name": "stderr",
          "text": [
            " 17%|\u001b[32m█▋        \u001b[0m| 201/1200 [01:19<05:58,  2.79it/s]"
          ]
        },
        {
          "output_type": "stream",
          "name": "stdout",
          "text": [
            "Train Epoch: 200\tLoss: 13634.433594\n"
          ]
        },
        {
          "output_type": "stream",
          "name": "stderr",
          "text": [
            " 18%|\u001b[32m█▊        \u001b[0m| 211/1200 [01:23<07:03,  2.34it/s]"
          ]
        },
        {
          "output_type": "stream",
          "name": "stdout",
          "text": [
            "Train Epoch: 210\tLoss: 13548.367188\n"
          ]
        },
        {
          "output_type": "stream",
          "name": "stderr",
          "text": [
            " 18%|\u001b[32m█▊        \u001b[0m| 221/1200 [01:27<05:54,  2.76it/s]"
          ]
        },
        {
          "output_type": "stream",
          "name": "stdout",
          "text": [
            "Train Epoch: 220\tLoss: 13471.571289\n"
          ]
        },
        {
          "output_type": "stream",
          "name": "stderr",
          "text": [
            " 19%|\u001b[32m█▉        \u001b[0m| 231/1200 [01:32<06:35,  2.45it/s]"
          ]
        },
        {
          "output_type": "stream",
          "name": "stdout",
          "text": [
            "Train Epoch: 230\tLoss: 13402.033203\n"
          ]
        },
        {
          "output_type": "stream",
          "name": "stderr",
          "text": [
            " 20%|\u001b[32m██        \u001b[0m| 241/1200 [01:36<06:03,  2.64it/s]"
          ]
        },
        {
          "output_type": "stream",
          "name": "stdout",
          "text": [
            "Train Epoch: 240\tLoss: 13338.445312\n"
          ]
        },
        {
          "output_type": "stream",
          "name": "stderr",
          "text": [
            " 21%|\u001b[32m██        \u001b[0m| 251/1200 [01:40<06:02,  2.62it/s]"
          ]
        },
        {
          "output_type": "stream",
          "name": "stdout",
          "text": [
            "Train Epoch: 250\tLoss: 13279.847656\n"
          ]
        },
        {
          "output_type": "stream",
          "name": "stderr",
          "text": [
            " 22%|\u001b[32m██▏       \u001b[0m| 261/1200 [01:43<05:30,  2.84it/s]"
          ]
        },
        {
          "output_type": "stream",
          "name": "stdout",
          "text": [
            "Train Epoch: 260\tLoss: 13225.332031\n"
          ]
        },
        {
          "output_type": "stream",
          "name": "stderr",
          "text": [
            " 23%|\u001b[32m██▎       \u001b[0m| 271/1200 [01:48<06:38,  2.33it/s]"
          ]
        },
        {
          "output_type": "stream",
          "name": "stdout",
          "text": [
            "Train Epoch: 270\tLoss: 13173.697266\n"
          ]
        },
        {
          "output_type": "stream",
          "name": "stderr",
          "text": [
            " 23%|\u001b[32m██▎       \u001b[0m| 281/1200 [01:52<05:59,  2.55it/s]"
          ]
        },
        {
          "output_type": "stream",
          "name": "stdout",
          "text": [
            "Train Epoch: 280\tLoss: 13125.030273\n"
          ]
        },
        {
          "output_type": "stream",
          "name": "stderr",
          "text": [
            " 24%|\u001b[32m██▍       \u001b[0m| 291/1200 [01:55<05:38,  2.69it/s]"
          ]
        },
        {
          "output_type": "stream",
          "name": "stdout",
          "text": [
            "Train Epoch: 290\tLoss: 13078.816406\n"
          ]
        },
        {
          "output_type": "stream",
          "name": "stderr",
          "text": [
            " 25%|\u001b[32m██▌       \u001b[0m| 301/1200 [02:00<06:43,  2.23it/s]"
          ]
        },
        {
          "output_type": "stream",
          "name": "stdout",
          "text": [
            "Train Epoch: 300\tLoss: 13033.927734\n"
          ]
        },
        {
          "output_type": "stream",
          "name": "stderr",
          "text": [
            " 26%|\u001b[32m██▌       \u001b[0m| 311/1200 [02:04<05:30,  2.69it/s]"
          ]
        },
        {
          "output_type": "stream",
          "name": "stdout",
          "text": [
            "Train Epoch: 310\tLoss: 12991.492188\n"
          ]
        },
        {
          "output_type": "stream",
          "name": "stderr",
          "text": [
            " 27%|\u001b[32m██▋       \u001b[0m| 321/1200 [02:07<05:29,  2.67it/s]"
          ]
        },
        {
          "output_type": "stream",
          "name": "stdout",
          "text": [
            "Train Epoch: 320\tLoss: 12950.361328\n"
          ]
        },
        {
          "output_type": "stream",
          "name": "stderr",
          "text": [
            " 28%|\u001b[32m██▊       \u001b[0m| 331/1200 [02:12<06:33,  2.21it/s]"
          ]
        },
        {
          "output_type": "stream",
          "name": "stdout",
          "text": [
            "Train Epoch: 330\tLoss: 12914.033203\n"
          ]
        },
        {
          "output_type": "stream",
          "name": "stderr",
          "text": [
            " 28%|\u001b[32m██▊       \u001b[0m| 341/1200 [02:15<05:26,  2.63it/s]"
          ]
        },
        {
          "output_type": "stream",
          "name": "stdout",
          "text": [
            "Train Epoch: 340\tLoss: 12875.226562\n"
          ]
        },
        {
          "output_type": "stream",
          "name": "stderr",
          "text": [
            " 29%|\u001b[32m██▉       \u001b[0m| 351/1200 [02:19<05:20,  2.65it/s]"
          ]
        },
        {
          "output_type": "stream",
          "name": "stdout",
          "text": [
            "Train Epoch: 350\tLoss: 12837.230469\n"
          ]
        },
        {
          "output_type": "stream",
          "name": "stderr",
          "text": [
            " 30%|\u001b[32m███       \u001b[0m| 361/1200 [02:24<07:06,  1.97it/s]"
          ]
        },
        {
          "output_type": "stream",
          "name": "stdout",
          "text": [
            "Train Epoch: 360\tLoss: 12800.311523\n"
          ]
        },
        {
          "output_type": "stream",
          "name": "stderr",
          "text": [
            " 31%|\u001b[32m███       \u001b[0m| 371/1200 [02:28<05:05,  2.71it/s]"
          ]
        },
        {
          "output_type": "stream",
          "name": "stdout",
          "text": [
            "Train Epoch: 370\tLoss: 12764.730469\n"
          ]
        },
        {
          "output_type": "stream",
          "name": "stderr",
          "text": [
            " 32%|\u001b[32m███▏      \u001b[0m| 381/1200 [02:31<04:54,  2.78it/s]"
          ]
        },
        {
          "output_type": "stream",
          "name": "stdout",
          "text": [
            "Train Epoch: 380\tLoss: 12729.251953\n"
          ]
        },
        {
          "output_type": "stream",
          "name": "stderr",
          "text": [
            " 33%|\u001b[32m███▎      \u001b[0m| 391/1200 [02:36<06:20,  2.13it/s]"
          ]
        },
        {
          "output_type": "stream",
          "name": "stdout",
          "text": [
            "Train Epoch: 390\tLoss: 12698.300781\n"
          ]
        },
        {
          "output_type": "stream",
          "name": "stderr",
          "text": [
            " 33%|\u001b[32m███▎      \u001b[0m| 401/1200 [02:40<05:20,  2.50it/s]"
          ]
        },
        {
          "output_type": "stream",
          "name": "stdout",
          "text": [
            "Train Epoch: 400\tLoss: 12664.216797\n"
          ]
        },
        {
          "output_type": "stream",
          "name": "stderr",
          "text": [
            " 34%|\u001b[32m███▍      \u001b[0m| 411/1200 [02:43<04:41,  2.81it/s]"
          ]
        },
        {
          "output_type": "stream",
          "name": "stdout",
          "text": [
            "Train Epoch: 410\tLoss: 12631.093750\n"
          ]
        },
        {
          "output_type": "stream",
          "name": "stderr",
          "text": [
            " 35%|\u001b[32m███▌      \u001b[0m| 421/1200 [02:47<06:05,  2.13it/s]"
          ]
        },
        {
          "output_type": "stream",
          "name": "stdout",
          "text": [
            "Train Epoch: 420\tLoss: 12598.306641\n"
          ]
        },
        {
          "output_type": "stream",
          "name": "stderr",
          "text": [
            " 36%|\u001b[32m███▌      \u001b[0m| 431/1200 [02:51<04:40,  2.74it/s]"
          ]
        },
        {
          "output_type": "stream",
          "name": "stdout",
          "text": [
            "Train Epoch: 430\tLoss: 12567.591797\n"
          ]
        },
        {
          "output_type": "stream",
          "name": "stderr",
          "text": [
            " 37%|\u001b[32m███▋      \u001b[0m| 441/1200 [02:55<05:03,  2.50it/s]"
          ]
        },
        {
          "output_type": "stream",
          "name": "stdout",
          "text": [
            "Train Epoch: 440\tLoss: 12535.929688\n"
          ]
        },
        {
          "output_type": "stream",
          "name": "stderr",
          "text": [
            " 38%|\u001b[32m███▊      \u001b[0m| 451/1200 [02:59<04:51,  2.57it/s]"
          ]
        },
        {
          "output_type": "stream",
          "name": "stdout",
          "text": [
            "Train Epoch: 450\tLoss: 12504.960938\n"
          ]
        },
        {
          "output_type": "stream",
          "name": "stderr",
          "text": [
            " 38%|\u001b[32m███▊      \u001b[0m| 461/1200 [03:03<04:47,  2.57it/s]"
          ]
        },
        {
          "output_type": "stream",
          "name": "stdout",
          "text": [
            "Train Epoch: 460\tLoss: 12474.291016\n"
          ]
        },
        {
          "output_type": "stream",
          "name": "stderr",
          "text": [
            " 39%|\u001b[32m███▉      \u001b[0m| 471/1200 [03:07<04:44,  2.57it/s]"
          ]
        },
        {
          "output_type": "stream",
          "name": "stdout",
          "text": [
            "Train Epoch: 470\tLoss: 12448.066406\n"
          ]
        },
        {
          "output_type": "stream",
          "name": "stderr",
          "text": [
            " 40%|\u001b[32m████      \u001b[0m| 481/1200 [03:11<04:32,  2.64it/s]"
          ]
        },
        {
          "output_type": "stream",
          "name": "stdout",
          "text": [
            "Train Epoch: 480\tLoss: 12418.882812\n"
          ]
        },
        {
          "output_type": "stream",
          "name": "stderr",
          "text": [
            " 41%|\u001b[32m████      \u001b[0m| 491/1200 [03:16<05:03,  2.33it/s]"
          ]
        },
        {
          "output_type": "stream",
          "name": "stdout",
          "text": [
            "Train Epoch: 490\tLoss: 12389.687500\n"
          ]
        },
        {
          "output_type": "stream",
          "name": "stderr",
          "text": [
            " 42%|\u001b[32m████▏     \u001b[0m| 501/1200 [03:20<04:37,  2.52it/s]"
          ]
        },
        {
          "output_type": "stream",
          "name": "stdout",
          "text": [
            "Train Epoch: 500\tLoss: 12361.036133\n"
          ]
        },
        {
          "output_type": "stream",
          "name": "stderr",
          "text": [
            " 43%|\u001b[32m████▎     \u001b[0m| 511/1200 [03:23<04:28,  2.56it/s]"
          ]
        },
        {
          "output_type": "stream",
          "name": "stdout",
          "text": [
            "Train Epoch: 510\tLoss: 12332.718750\n"
          ]
        },
        {
          "output_type": "stream",
          "name": "stderr",
          "text": [
            " 43%|\u001b[32m████▎     \u001b[0m| 521/1200 [03:28<04:43,  2.40it/s]"
          ]
        },
        {
          "output_type": "stream",
          "name": "stdout",
          "text": [
            "Train Epoch: 520\tLoss: 12305.177734\n"
          ]
        },
        {
          "output_type": "stream",
          "name": "stderr",
          "text": [
            " 44%|\u001b[32m████▍     \u001b[0m| 531/1200 [03:32<04:25,  2.52it/s]"
          ]
        },
        {
          "output_type": "stream",
          "name": "stdout",
          "text": [
            "Train Epoch: 530\tLoss: 12277.998047\n"
          ]
        },
        {
          "output_type": "stream",
          "name": "stderr",
          "text": [
            " 45%|\u001b[32m████▌     \u001b[0m| 541/1200 [03:36<04:14,  2.59it/s]"
          ]
        },
        {
          "output_type": "stream",
          "name": "stdout",
          "text": [
            "Train Epoch: 540\tLoss: 12251.036133\n"
          ]
        },
        {
          "output_type": "stream",
          "name": "stderr",
          "text": [
            " 46%|\u001b[32m████▌     \u001b[0m| 551/1200 [03:41<04:14,  2.55it/s]"
          ]
        },
        {
          "output_type": "stream",
          "name": "stdout",
          "text": [
            "Train Epoch: 550\tLoss: 12226.784180\n"
          ]
        },
        {
          "output_type": "stream",
          "name": "stderr",
          "text": [
            " 47%|\u001b[32m████▋     \u001b[0m| 561/1200 [03:45<04:02,  2.64it/s]"
          ]
        },
        {
          "output_type": "stream",
          "name": "stdout",
          "text": [
            "Train Epoch: 560\tLoss: 12200.224609\n"
          ]
        },
        {
          "output_type": "stream",
          "name": "stderr",
          "text": [
            " 48%|\u001b[32m████▊     \u001b[0m| 571/1200 [03:48<03:56,  2.66it/s]"
          ]
        },
        {
          "output_type": "stream",
          "name": "stdout",
          "text": [
            "Train Epoch: 570\tLoss: 12174.558594\n"
          ]
        },
        {
          "output_type": "stream",
          "name": "stderr",
          "text": [
            " 48%|\u001b[32m████▊     \u001b[0m| 581/1200 [03:53<04:20,  2.38it/s]"
          ]
        },
        {
          "output_type": "stream",
          "name": "stdout",
          "text": [
            "Train Epoch: 580\tLoss: 12159.510742\n"
          ]
        },
        {
          "output_type": "stream",
          "name": "stderr",
          "text": [
            " 49%|\u001b[32m████▉     \u001b[0m| 591/1200 [03:57<04:20,  2.34it/s]"
          ]
        },
        {
          "output_type": "stream",
          "name": "stdout",
          "text": [
            "Train Epoch: 590\tLoss: 12134.613281\n"
          ]
        },
        {
          "output_type": "stream",
          "name": "stderr",
          "text": [
            " 50%|\u001b[32m█████     \u001b[0m| 601/1200 [04:01<04:10,  2.39it/s]"
          ]
        },
        {
          "output_type": "stream",
          "name": "stdout",
          "text": [
            "Train Epoch: 600\tLoss: 12109.035156\n"
          ]
        },
        {
          "output_type": "stream",
          "name": "stderr",
          "text": [
            " 51%|\u001b[32m█████     \u001b[0m| 611/1200 [04:06<04:16,  2.29it/s]"
          ]
        },
        {
          "output_type": "stream",
          "name": "stdout",
          "text": [
            "Train Epoch: 610\tLoss: 12083.683594\n"
          ]
        },
        {
          "output_type": "stream",
          "name": "stderr",
          "text": [
            " 52%|\u001b[32m█████▏    \u001b[0m| 621/1200 [04:10<03:38,  2.64it/s]"
          ]
        },
        {
          "output_type": "stream",
          "name": "stdout",
          "text": [
            "Train Epoch: 620\tLoss: 12058.912109\n"
          ]
        },
        {
          "output_type": "stream",
          "name": "stderr",
          "text": [
            " 53%|\u001b[32m█████▎    \u001b[0m| 631/1200 [04:14<03:55,  2.42it/s]"
          ]
        },
        {
          "output_type": "stream",
          "name": "stdout",
          "text": [
            "Train Epoch: 630\tLoss: 12033.763672\n"
          ]
        },
        {
          "output_type": "stream",
          "name": "stderr",
          "text": [
            " 53%|\u001b[32m█████▎    \u001b[0m| 641/1200 [04:19<03:56,  2.36it/s]"
          ]
        },
        {
          "output_type": "stream",
          "name": "stdout",
          "text": [
            "Train Epoch: 640\tLoss: 12008.936523\n"
          ]
        },
        {
          "output_type": "stream",
          "name": "stderr",
          "text": [
            " 54%|\u001b[32m█████▍    \u001b[0m| 651/1200 [04:22<03:36,  2.54it/s]"
          ]
        },
        {
          "output_type": "stream",
          "name": "stdout",
          "text": [
            "Train Epoch: 650\tLoss: 11984.632812\n"
          ]
        },
        {
          "output_type": "stream",
          "name": "stderr",
          "text": [
            " 55%|\u001b[32m█████▌    \u001b[0m| 661/1200 [04:26<03:38,  2.47it/s]"
          ]
        },
        {
          "output_type": "stream",
          "name": "stdout",
          "text": [
            "Train Epoch: 660\tLoss: 11960.438477\n"
          ]
        },
        {
          "output_type": "stream",
          "name": "stderr",
          "text": [
            " 56%|\u001b[32m█████▌    \u001b[0m| 671/1200 [04:31<03:31,  2.50it/s]"
          ]
        },
        {
          "output_type": "stream",
          "name": "stdout",
          "text": [
            "Train Epoch: 670\tLoss: 11936.453125\n"
          ]
        },
        {
          "output_type": "stream",
          "name": "stderr",
          "text": [
            " 57%|\u001b[32m█████▋    \u001b[0m| 681/1200 [04:35<03:17,  2.63it/s]"
          ]
        },
        {
          "output_type": "stream",
          "name": "stdout",
          "text": [
            "Train Epoch: 680\tLoss: 11915.326172\n"
          ]
        },
        {
          "output_type": "stream",
          "name": "stderr",
          "text": [
            " 58%|\u001b[32m█████▊    \u001b[0m| 691/1200 [04:39<03:13,  2.64it/s]"
          ]
        },
        {
          "output_type": "stream",
          "name": "stdout",
          "text": [
            "Train Epoch: 690\tLoss: 11891.972656\n"
          ]
        },
        {
          "output_type": "stream",
          "name": "stderr",
          "text": [
            " 58%|\u001b[32m█████▊    \u001b[0m| 701/1200 [04:43<03:23,  2.46it/s]"
          ]
        },
        {
          "output_type": "stream",
          "name": "stdout",
          "text": [
            "Train Epoch: 700\tLoss: 11868.499023\n"
          ]
        },
        {
          "output_type": "stream",
          "name": "stderr",
          "text": [
            " 59%|\u001b[32m█████▉    \u001b[0m| 711/1200 [04:47<03:09,  2.58it/s]"
          ]
        },
        {
          "output_type": "stream",
          "name": "stdout",
          "text": [
            "Train Epoch: 710\tLoss: 11845.240234\n"
          ]
        },
        {
          "output_type": "stream",
          "name": "stderr",
          "text": [
            " 60%|\u001b[32m██████    \u001b[0m| 721/1200 [04:51<03:04,  2.59it/s]"
          ]
        },
        {
          "output_type": "stream",
          "name": "stdout",
          "text": [
            "Train Epoch: 720\tLoss: 11822.326172\n"
          ]
        },
        {
          "output_type": "stream",
          "name": "stderr",
          "text": [
            " 61%|\u001b[32m██████    \u001b[0m| 731/1200 [04:56<03:12,  2.44it/s]"
          ]
        },
        {
          "output_type": "stream",
          "name": "stdout",
          "text": [
            "Train Epoch: 730\tLoss: 11799.589844\n"
          ]
        },
        {
          "output_type": "stream",
          "name": "stderr",
          "text": [
            " 62%|\u001b[32m██████▏   \u001b[0m| 741/1200 [05:00<02:51,  2.68it/s]"
          ]
        },
        {
          "output_type": "stream",
          "name": "stdout",
          "text": [
            "Train Epoch: 740\tLoss: 11777.029297\n"
          ]
        },
        {
          "output_type": "stream",
          "name": "stderr",
          "text": [
            " 63%|\u001b[32m██████▎   \u001b[0m| 751/1200 [05:03<02:50,  2.64it/s]"
          ]
        },
        {
          "output_type": "stream",
          "name": "stdout",
          "text": [
            "Train Epoch: 750\tLoss: 11754.630859\n"
          ]
        },
        {
          "output_type": "stream",
          "name": "stderr",
          "text": [
            " 63%|\u001b[32m██████▎   \u001b[0m| 761/1200 [05:08<03:10,  2.31it/s]"
          ]
        },
        {
          "output_type": "stream",
          "name": "stdout",
          "text": [
            "Train Epoch: 760\tLoss: 11733.130859\n"
          ]
        },
        {
          "output_type": "stream",
          "name": "stderr",
          "text": [
            " 64%|\u001b[32m██████▍   \u001b[0m| 771/1200 [05:12<02:40,  2.67it/s]"
          ]
        },
        {
          "output_type": "stream",
          "name": "stdout",
          "text": [
            "Train Epoch: 770\tLoss: 11711.005859\n"
          ]
        },
        {
          "output_type": "stream",
          "name": "stderr",
          "text": [
            " 65%|\u001b[32m██████▌   \u001b[0m| 781/1200 [05:16<02:49,  2.48it/s]"
          ]
        },
        {
          "output_type": "stream",
          "name": "stdout",
          "text": [
            "Train Epoch: 780\tLoss: 11689.097656\n"
          ]
        },
        {
          "output_type": "stream",
          "name": "stderr",
          "text": [
            " 66%|\u001b[32m██████▌   \u001b[0m| 791/1200 [05:20<02:37,  2.60it/s]"
          ]
        },
        {
          "output_type": "stream",
          "name": "stdout",
          "text": [
            "Train Epoch: 790\tLoss: 11667.474609\n"
          ]
        },
        {
          "output_type": "stream",
          "name": "stderr",
          "text": [
            " 67%|\u001b[32m██████▋   \u001b[0m| 801/1200 [05:24<02:38,  2.52it/s]"
          ]
        },
        {
          "output_type": "stream",
          "name": "stdout",
          "text": [
            "Train Epoch: 800\tLoss: 11656.077148\n"
          ]
        },
        {
          "output_type": "stream",
          "name": "stderr",
          "text": [
            " 68%|\u001b[32m██████▊   \u001b[0m| 811/1200 [05:28<02:26,  2.66it/s]"
          ]
        },
        {
          "output_type": "stream",
          "name": "stdout",
          "text": [
            "Train Epoch: 810\tLoss: 11653.824219\n"
          ]
        },
        {
          "output_type": "stream",
          "name": "stderr",
          "text": [
            " 68%|\u001b[32m██████▊   \u001b[0m| 821/1200 [05:33<02:32,  2.48it/s]"
          ]
        },
        {
          "output_type": "stream",
          "name": "stdout",
          "text": [
            "Train Epoch: 820\tLoss: 11651.691406\n"
          ]
        },
        {
          "output_type": "stream",
          "name": "stderr",
          "text": [
            " 69%|\u001b[32m██████▉   \u001b[0m| 831/1200 [05:36<02:25,  2.54it/s]"
          ]
        },
        {
          "output_type": "stream",
          "name": "stdout",
          "text": [
            "Train Epoch: 830\tLoss: 11649.420898\n"
          ]
        },
        {
          "output_type": "stream",
          "name": "stderr",
          "text": [
            " 70%|\u001b[32m███████   \u001b[0m| 841/1200 [05:40<02:13,  2.68it/s]"
          ]
        },
        {
          "output_type": "stream",
          "name": "stdout",
          "text": [
            "Train Epoch: 840\tLoss: 11647.042969\n"
          ]
        },
        {
          "output_type": "stream",
          "name": "stderr",
          "text": [
            " 71%|\u001b[32m███████   \u001b[0m| 851/1200 [05:45<02:19,  2.50it/s]"
          ]
        },
        {
          "output_type": "stream",
          "name": "stdout",
          "text": [
            "Train Epoch: 850\tLoss: 11644.982422\n"
          ]
        },
        {
          "output_type": "stream",
          "name": "stderr",
          "text": [
            " 72%|\u001b[32m███████▏  \u001b[0m| 861/1200 [05:48<02:18,  2.46it/s]"
          ]
        },
        {
          "output_type": "stream",
          "name": "stdout",
          "text": [
            "Train Epoch: 860\tLoss: 11642.494141\n"
          ]
        },
        {
          "output_type": "stream",
          "name": "stderr",
          "text": [
            " 73%|\u001b[32m███████▎  \u001b[0m| 871/1200 [05:52<02:01,  2.70it/s]"
          ]
        },
        {
          "output_type": "stream",
          "name": "stdout",
          "text": [
            "Train Epoch: 870\tLoss: 11640.238281\n"
          ]
        },
        {
          "output_type": "stream",
          "name": "stderr",
          "text": [
            " 73%|\u001b[32m███████▎  \u001b[0m| 881/1200 [05:57<02:23,  2.23it/s]"
          ]
        },
        {
          "output_type": "stream",
          "name": "stdout",
          "text": [
            "Train Epoch: 880\tLoss: 11637.859375\n"
          ]
        },
        {
          "output_type": "stream",
          "name": "stderr",
          "text": [
            " 74%|\u001b[32m███████▍  \u001b[0m| 891/1200 [06:01<01:59,  2.59it/s]"
          ]
        },
        {
          "output_type": "stream",
          "name": "stdout",
          "text": [
            "Train Epoch: 890\tLoss: 11635.798828\n"
          ]
        },
        {
          "output_type": "stream",
          "name": "stderr",
          "text": [
            " 75%|\u001b[32m███████▌  \u001b[0m| 901/1200 [06:04<01:58,  2.53it/s]"
          ]
        },
        {
          "output_type": "stream",
          "name": "stdout",
          "text": [
            "Train Epoch: 900\tLoss: 11633.571289\n"
          ]
        },
        {
          "output_type": "stream",
          "name": "stderr",
          "text": [
            " 76%|\u001b[32m███████▌  \u001b[0m| 911/1200 [06:09<01:58,  2.43it/s]"
          ]
        },
        {
          "output_type": "stream",
          "name": "stdout",
          "text": [
            "Train Epoch: 910\tLoss: 11631.218750\n"
          ]
        },
        {
          "output_type": "stream",
          "name": "stderr",
          "text": [
            " 77%|\u001b[32m███████▋  \u001b[0m| 921/1200 [06:12<01:40,  2.79it/s]"
          ]
        },
        {
          "output_type": "stream",
          "name": "stdout",
          "text": [
            "Train Epoch: 920\tLoss: 11628.833008\n"
          ]
        },
        {
          "output_type": "stream",
          "name": "stderr",
          "text": [
            " 78%|\u001b[32m███████▊  \u001b[0m| 931/1200 [06:16<01:38,  2.73it/s]"
          ]
        },
        {
          "output_type": "stream",
          "name": "stdout",
          "text": [
            "Train Epoch: 930\tLoss: 11626.544922\n"
          ]
        },
        {
          "output_type": "stream",
          "name": "stderr",
          "text": [
            " 78%|\u001b[32m███████▊  \u001b[0m| 941/1200 [06:21<01:55,  2.24it/s]"
          ]
        },
        {
          "output_type": "stream",
          "name": "stdout",
          "text": [
            "Train Epoch: 940\tLoss: 11624.119141\n"
          ]
        },
        {
          "output_type": "stream",
          "name": "stderr",
          "text": [
            " 79%|\u001b[32m███████▉  \u001b[0m| 951/1200 [06:25<01:41,  2.46it/s]"
          ]
        },
        {
          "output_type": "stream",
          "name": "stdout",
          "text": [
            "Train Epoch: 950\tLoss: 11621.490234\n"
          ]
        },
        {
          "output_type": "stream",
          "name": "stderr",
          "text": [
            " 80%|\u001b[32m████████  \u001b[0m| 961/1200 [06:28<01:30,  2.65it/s]"
          ]
        },
        {
          "output_type": "stream",
          "name": "stdout",
          "text": [
            "Train Epoch: 960\tLoss: 11619.081055\n"
          ]
        },
        {
          "output_type": "stream",
          "name": "stderr",
          "text": [
            " 81%|\u001b[32m████████  \u001b[0m| 971/1200 [06:33<01:48,  2.11it/s]"
          ]
        },
        {
          "output_type": "stream",
          "name": "stdout",
          "text": [
            "Train Epoch: 970\tLoss: 11616.472656\n"
          ]
        },
        {
          "output_type": "stream",
          "name": "stderr",
          "text": [
            " 82%|\u001b[32m████████▏ \u001b[0m| 981/1200 [06:37<01:28,  2.47it/s]"
          ]
        },
        {
          "output_type": "stream",
          "name": "stdout",
          "text": [
            "Train Epoch: 980\tLoss: 11614.203125\n"
          ]
        },
        {
          "output_type": "stream",
          "name": "stderr",
          "text": [
            " 82%|\u001b[32m████████▏ \u001b[0m| 987/1200 [06:39<01:18,  2.72it/s]"
          ]
        }
      ]
    },
    {
      "cell_type": "code",
      "execution_count": 33,
      "metadata": {
        "execution": {
          "iopub.execute_input": "2023-05-01T06:38:18.595330Z",
          "iopub.status.busy": "2023-05-01T06:38:18.594561Z",
          "iopub.status.idle": "2023-05-01T06:40:46.126853Z",
          "shell.execute_reply": "2023-05-01T06:40:46.125766Z",
          "shell.execute_reply.started": "2023-05-01T06:38:18.595292Z"
        },
        "colab": {
          "base_uri": "https://localhost:8080/"
        },
        "id": "9SyUOFxAg_-x",
        "outputId": "1f755c5d-84c9-4fa8-d3fd-ca60f59ee9b7"
      },
      "outputs": [
        {
          "output_type": "stream",
          "name": "stderr",
          "text": [
            "  0%|\u001b[32m          \u001b[0m| 0/300 [00:00<?, ?it/s]/usr/local/lib/python3.10/dist-packages/torch/optim/lr_scheduler.py:139: UserWarning: Detected call of `lr_scheduler.step()` before `optimizer.step()`. In PyTorch 1.1.0 and later, you should call them in the opposite order: `optimizer.step()` before `lr_scheduler.step()`.  Failure to do this will result in PyTorch skipping the first value of the learning rate schedule. See more details at https://pytorch.org/docs/stable/optim.html#how-to-adjust-learning-rate\n",
            "  warnings.warn(\"Detected call of `lr_scheduler.step()` before `optimizer.step()`. \"\n",
            "  0%|\u001b[32m          \u001b[0m| 1/300 [00:00<02:02,  2.44it/s]"
          ]
        },
        {
          "output_type": "stream",
          "name": "stdout",
          "text": [
            "Train Epoch: 0\tLoss: 401288.937500\n"
          ]
        },
        {
          "output_type": "stream",
          "name": "stderr",
          "text": [
            "  4%|\u001b[32m▎         \u001b[0m| 11/300 [00:05<02:07,  2.27it/s]"
          ]
        },
        {
          "output_type": "stream",
          "name": "stdout",
          "text": [
            "Train Epoch: 10\tLoss: 401288.812500\n"
          ]
        },
        {
          "output_type": "stream",
          "name": "stderr",
          "text": [
            "  7%|\u001b[32m▋         \u001b[0m| 21/300 [00:09<02:06,  2.20it/s]"
          ]
        },
        {
          "output_type": "stream",
          "name": "stdout",
          "text": [
            "Train Epoch: 20\tLoss: 112316.234375\n"
          ]
        },
        {
          "output_type": "stream",
          "name": "stderr",
          "text": [
            " 10%|\u001b[32m█         \u001b[0m| 31/300 [00:14<02:21,  1.89it/s]"
          ]
        },
        {
          "output_type": "stream",
          "name": "stdout",
          "text": [
            "Train Epoch: 30\tLoss: 56164.562500\n"
          ]
        },
        {
          "output_type": "stream",
          "name": "stderr",
          "text": [
            " 14%|\u001b[32m█▎        \u001b[0m| 41/300 [00:19<02:04,  2.08it/s]"
          ]
        },
        {
          "output_type": "stream",
          "name": "stdout",
          "text": [
            "Train Epoch: 40\tLoss: 40716.578125\n"
          ]
        },
        {
          "output_type": "stream",
          "name": "stderr",
          "text": [
            " 17%|\u001b[32m█▋        \u001b[0m| 51/300 [00:23<01:46,  2.34it/s]"
          ]
        },
        {
          "output_type": "stream",
          "name": "stdout",
          "text": [
            "Train Epoch: 50\tLoss: 34424.828125\n"
          ]
        },
        {
          "output_type": "stream",
          "name": "stderr",
          "text": [
            " 20%|\u001b[32m██        \u001b[0m| 61/300 [00:28<02:01,  1.97it/s]"
          ]
        },
        {
          "output_type": "stream",
          "name": "stdout",
          "text": [
            "Train Epoch: 60\tLoss: 29473.218750\n"
          ]
        },
        {
          "output_type": "stream",
          "name": "stderr",
          "text": [
            " 24%|\u001b[32m██▎       \u001b[0m| 71/300 [00:32<01:35,  2.40it/s]"
          ]
        },
        {
          "output_type": "stream",
          "name": "stdout",
          "text": [
            "Train Epoch: 70\tLoss: 25277.359375\n"
          ]
        },
        {
          "output_type": "stream",
          "name": "stderr",
          "text": [
            " 27%|\u001b[32m██▋       \u001b[0m| 81/300 [00:37<01:38,  2.23it/s]"
          ]
        },
        {
          "output_type": "stream",
          "name": "stdout",
          "text": [
            "Train Epoch: 80\tLoss: 20827.160156\n"
          ]
        },
        {
          "output_type": "stream",
          "name": "stderr",
          "text": [
            " 30%|\u001b[32m███       \u001b[0m| 91/300 [00:42<01:40,  2.07it/s]"
          ]
        },
        {
          "output_type": "stream",
          "name": "stdout",
          "text": [
            "Train Epoch: 90\tLoss: 15591.783203\n"
          ]
        },
        {
          "output_type": "stream",
          "name": "stderr",
          "text": [
            " 34%|\u001b[32m███▎      \u001b[0m| 101/300 [00:46<01:28,  2.25it/s]"
          ]
        },
        {
          "output_type": "stream",
          "name": "stdout",
          "text": [
            "Train Epoch: 100\tLoss: 9946.664062\n"
          ]
        },
        {
          "output_type": "stream",
          "name": "stderr",
          "text": [
            " 37%|\u001b[32m███▋      \u001b[0m| 111/300 [00:51<01:32,  2.03it/s]"
          ]
        },
        {
          "output_type": "stream",
          "name": "stdout",
          "text": [
            "Train Epoch: 110\tLoss: 5135.351074\n"
          ]
        },
        {
          "output_type": "stream",
          "name": "stderr",
          "text": [
            " 40%|\u001b[32m████      \u001b[0m| 121/300 [00:55<01:17,  2.31it/s]"
          ]
        },
        {
          "output_type": "stream",
          "name": "stdout",
          "text": [
            "Train Epoch: 120\tLoss: 2190.536621\n"
          ]
        },
        {
          "output_type": "stream",
          "name": "stderr",
          "text": [
            " 44%|\u001b[32m████▎     \u001b[0m| 131/300 [01:00<01:10,  2.40it/s]"
          ]
        },
        {
          "output_type": "stream",
          "name": "stdout",
          "text": [
            "Train Epoch: 130\tLoss: 960.276245\n"
          ]
        },
        {
          "output_type": "stream",
          "name": "stderr",
          "text": [
            " 47%|\u001b[32m████▋     \u001b[0m| 141/300 [01:05<01:25,  1.87it/s]"
          ]
        },
        {
          "output_type": "stream",
          "name": "stdout",
          "text": [
            "Train Epoch: 140\tLoss: 492.462189\n"
          ]
        },
        {
          "output_type": "stream",
          "name": "stderr",
          "text": [
            " 50%|\u001b[32m█████     \u001b[0m| 151/300 [01:09<01:06,  2.23it/s]"
          ]
        },
        {
          "output_type": "stream",
          "name": "stdout",
          "text": [
            "Train Epoch: 150\tLoss: 302.516327\n"
          ]
        },
        {
          "output_type": "stream",
          "name": "stderr",
          "text": [
            " 54%|\u001b[32m█████▎    \u001b[0m| 161/300 [01:13<01:01,  2.25it/s]"
          ]
        },
        {
          "output_type": "stream",
          "name": "stdout",
          "text": [
            "Train Epoch: 160\tLoss: 213.036346\n"
          ]
        },
        {
          "output_type": "stream",
          "name": "stderr",
          "text": [
            " 57%|\u001b[32m█████▋    \u001b[0m| 171/300 [01:18<01:00,  2.12it/s]"
          ]
        },
        {
          "output_type": "stream",
          "name": "stdout",
          "text": [
            "Train Epoch: 170\tLoss: 163.959412\n"
          ]
        },
        {
          "output_type": "stream",
          "name": "stderr",
          "text": [
            " 60%|\u001b[32m██████    \u001b[0m| 181/300 [01:23<00:51,  2.33it/s]"
          ]
        },
        {
          "output_type": "stream",
          "name": "stdout",
          "text": [
            "Train Epoch: 180\tLoss: 133.468079\n"
          ]
        },
        {
          "output_type": "stream",
          "name": "stderr",
          "text": [
            " 64%|\u001b[32m██████▎   \u001b[0m| 191/300 [01:27<00:45,  2.39it/s]"
          ]
        },
        {
          "output_type": "stream",
          "name": "stdout",
          "text": [
            "Train Epoch: 190\tLoss: 112.489632\n"
          ]
        },
        {
          "output_type": "stream",
          "name": "stderr",
          "text": [
            " 67%|\u001b[32m██████▋   \u001b[0m| 201/300 [01:32<00:43,  2.26it/s]"
          ]
        },
        {
          "output_type": "stream",
          "name": "stdout",
          "text": [
            "Train Epoch: 200\tLoss: 97.002998\n"
          ]
        },
        {
          "output_type": "stream",
          "name": "stderr",
          "text": [
            " 70%|\u001b[32m███████   \u001b[0m| 211/300 [01:36<00:37,  2.37it/s]"
          ]
        },
        {
          "output_type": "stream",
          "name": "stdout",
          "text": [
            "Train Epoch: 210\tLoss: 95.726929\n"
          ]
        },
        {
          "output_type": "stream",
          "name": "stderr",
          "text": [
            " 74%|\u001b[32m███████▎  \u001b[0m| 221/300 [01:41<00:42,  1.84it/s]"
          ]
        },
        {
          "output_type": "stream",
          "name": "stdout",
          "text": [
            "Train Epoch: 220\tLoss: 94.503090\n"
          ]
        },
        {
          "output_type": "stream",
          "name": "stderr",
          "text": [
            " 77%|\u001b[32m███████▋  \u001b[0m| 231/300 [01:46<00:32,  2.12it/s]"
          ]
        },
        {
          "output_type": "stream",
          "name": "stdout",
          "text": [
            "Train Epoch: 230\tLoss: 93.288910\n"
          ]
        },
        {
          "output_type": "stream",
          "name": "stderr",
          "text": [
            " 80%|\u001b[32m████████  \u001b[0m| 241/300 [01:50<00:24,  2.38it/s]"
          ]
        },
        {
          "output_type": "stream",
          "name": "stdout",
          "text": [
            "Train Epoch: 240\tLoss: 92.090286\n"
          ]
        },
        {
          "output_type": "stream",
          "name": "stderr",
          "text": [
            " 84%|\u001b[32m████████▎ \u001b[0m| 251/300 [01:55<00:24,  1.96it/s]"
          ]
        },
        {
          "output_type": "stream",
          "name": "stdout",
          "text": [
            "Train Epoch: 250\tLoss: 90.886375\n"
          ]
        },
        {
          "output_type": "stream",
          "name": "stderr",
          "text": [
            " 87%|\u001b[32m████████▋ \u001b[0m| 261/300 [01:59<00:17,  2.26it/s]"
          ]
        },
        {
          "output_type": "stream",
          "name": "stdout",
          "text": [
            "Train Epoch: 260\tLoss: 90.760384\n"
          ]
        },
        {
          "output_type": "stream",
          "name": "stderr",
          "text": [
            " 90%|\u001b[32m█████████ \u001b[0m| 271/300 [02:04<00:12,  2.29it/s]"
          ]
        },
        {
          "output_type": "stream",
          "name": "stdout",
          "text": [
            "Train Epoch: 270\tLoss: 90.640686\n"
          ]
        },
        {
          "output_type": "stream",
          "name": "stderr",
          "text": [
            " 94%|\u001b[32m█████████▎\u001b[0m| 281/300 [02:09<00:08,  2.27it/s]"
          ]
        },
        {
          "output_type": "stream",
          "name": "stdout",
          "text": [
            "Train Epoch: 280\tLoss: 90.524445\n"
          ]
        },
        {
          "output_type": "stream",
          "name": "stderr",
          "text": [
            " 97%|\u001b[32m█████████▋\u001b[0m| 291/300 [02:13<00:03,  2.35it/s]"
          ]
        },
        {
          "output_type": "stream",
          "name": "stdout",
          "text": [
            "Train Epoch: 290\tLoss: 90.402260\n"
          ]
        },
        {
          "output_type": "stream",
          "name": "stderr",
          "text": [
            "100%|\u001b[32m██████████\u001b[0m| 300/300 [02:17<00:00,  2.18it/s]\n"
          ]
        }
      ],
      "source": [
        "Net, loss_list = Trainer(gMLP_feature(), all_feature, 300, 200, 250)\n",
        "Net.eval()\n",
        "with torch.autograd.no_grad():\n",
        "    img_train = Net(all_image_features.to(dev))\n",
        "    img_test = Net(test_image_features.to(dev))"
      ]
    },
    {
      "cell_type": "code",
      "execution_count": 42,
      "metadata": {
        "execution": {
          "iopub.execute_input": "2023-05-01T06:40:46.129649Z",
          "iopub.status.busy": "2023-05-01T06:40:46.129013Z",
          "iopub.status.idle": "2023-05-01T06:43:12.937146Z",
          "shell.execute_reply": "2023-05-01T06:43:12.936093Z",
          "shell.execute_reply.started": "2023-05-01T06:40:46.129608Z"
        },
        "colab": {
          "base_uri": "https://localhost:8080/"
        },
        "id": "wEWeJGJTg_-x",
        "outputId": "03a127bd-41fd-4ab1-a2ec-2ffbf138122b"
      },
      "outputs": [
        {
          "output_type": "stream",
          "name": "stderr",
          "text": [
            "  0%|\u001b[32m          \u001b[0m| 0/600 [00:00<?, ?it/s]/usr/local/lib/python3.10/dist-packages/torch/optim/lr_scheduler.py:139: UserWarning: Detected call of `lr_scheduler.step()` before `optimizer.step()`. In PyTorch 1.1.0 and later, you should call them in the opposite order: `optimizer.step()` before `lr_scheduler.step()`.  Failure to do this will result in PyTorch skipping the first value of the learning rate schedule. See more details at https://pytorch.org/docs/stable/optim.html#how-to-adjust-learning-rate\n",
            "  warnings.warn(\"Detected call of `lr_scheduler.step()` before `optimizer.step()`. \"\n",
            "  0%|\u001b[32m          \u001b[0m| 1/600 [00:00<04:19,  2.31it/s]"
          ]
        },
        {
          "output_type": "stream",
          "name": "stdout",
          "text": [
            "Train Epoch: 0\tLoss: 423676.937500\n"
          ]
        },
        {
          "output_type": "stream",
          "name": "stderr",
          "text": [
            "  2%|\u001b[32m▏         \u001b[0m| 11/600 [00:04<04:21,  2.26it/s]"
          ]
        },
        {
          "output_type": "stream",
          "name": "stdout",
          "text": [
            "Train Epoch: 10\tLoss: 423676.968750\n"
          ]
        },
        {
          "output_type": "stream",
          "name": "stderr",
          "text": [
            "  4%|\u001b[32m▎         \u001b[0m| 21/600 [00:09<05:04,  1.90it/s]"
          ]
        },
        {
          "output_type": "stream",
          "name": "stdout",
          "text": [
            "Train Epoch: 20\tLoss: 78961.734375\n"
          ]
        },
        {
          "output_type": "stream",
          "name": "stderr",
          "text": [
            "  5%|\u001b[32m▌         \u001b[0m| 31/600 [00:14<04:03,  2.33it/s]"
          ]
        },
        {
          "output_type": "stream",
          "name": "stdout",
          "text": [
            "Train Epoch: 30\tLoss: 53978.921875\n"
          ]
        },
        {
          "output_type": "stream",
          "name": "stderr",
          "text": [
            "  7%|\u001b[32m▋         \u001b[0m| 41/600 [00:18<04:03,  2.30it/s]"
          ]
        },
        {
          "output_type": "stream",
          "name": "stdout",
          "text": [
            "Train Epoch: 40\tLoss: 48332.070312\n"
          ]
        },
        {
          "output_type": "stream",
          "name": "stderr",
          "text": [
            "  8%|\u001b[32m▊         \u001b[0m| 51/600 [00:23<04:39,  1.97it/s]"
          ]
        },
        {
          "output_type": "stream",
          "name": "stdout",
          "text": [
            "Train Epoch: 50\tLoss: 43184.226562\n"
          ]
        },
        {
          "output_type": "stream",
          "name": "stderr",
          "text": [
            " 10%|\u001b[32m█         \u001b[0m| 61/600 [00:27<03:52,  2.32it/s]"
          ]
        },
        {
          "output_type": "stream",
          "name": "stdout",
          "text": [
            "Train Epoch: 60\tLoss: 39964.085938\n"
          ]
        },
        {
          "output_type": "stream",
          "name": "stderr",
          "text": [
            " 12%|\u001b[32m█▏        \u001b[0m| 71/600 [00:31<03:41,  2.39it/s]"
          ]
        },
        {
          "output_type": "stream",
          "name": "stdout",
          "text": [
            "Train Epoch: 70\tLoss: 37320.007812\n"
          ]
        },
        {
          "output_type": "stream",
          "name": "stderr",
          "text": [
            " 14%|\u001b[32m█▎        \u001b[0m| 81/600 [00:36<03:52,  2.23it/s]"
          ]
        },
        {
          "output_type": "stream",
          "name": "stdout",
          "text": [
            "Train Epoch: 80\tLoss: 34197.886719\n"
          ]
        },
        {
          "output_type": "stream",
          "name": "stderr",
          "text": [
            " 15%|\u001b[32m█▌        \u001b[0m| 91/600 [00:41<03:34,  2.37it/s]"
          ]
        },
        {
          "output_type": "stream",
          "name": "stdout",
          "text": [
            "Train Epoch: 90\tLoss: 30050.824219\n"
          ]
        },
        {
          "output_type": "stream",
          "name": "stderr",
          "text": [
            " 17%|\u001b[32m█▋        \u001b[0m| 101/600 [00:45<03:54,  2.13it/s]"
          ]
        },
        {
          "output_type": "stream",
          "name": "stdout",
          "text": [
            "Train Epoch: 100\tLoss: 24500.906250\n"
          ]
        },
        {
          "output_type": "stream",
          "name": "stderr",
          "text": [
            " 18%|\u001b[32m█▊        \u001b[0m| 111/600 [00:51<03:43,  2.19it/s]"
          ]
        },
        {
          "output_type": "stream",
          "name": "stdout",
          "text": [
            "Train Epoch: 110\tLoss: 19428.753906\n"
          ]
        },
        {
          "output_type": "stream",
          "name": "stderr",
          "text": [
            " 20%|\u001b[32m██        \u001b[0m| 121/600 [00:55<03:29,  2.29it/s]"
          ]
        },
        {
          "output_type": "stream",
          "name": "stdout",
          "text": [
            "Train Epoch: 120\tLoss: 14037.964844\n"
          ]
        },
        {
          "output_type": "stream",
          "name": "stderr",
          "text": [
            " 22%|\u001b[32m██▏       \u001b[0m| 131/600 [01:00<03:55,  1.99it/s]"
          ]
        },
        {
          "output_type": "stream",
          "name": "stdout",
          "text": [
            "Train Epoch: 130\tLoss: 9376.313477\n"
          ]
        },
        {
          "output_type": "stream",
          "name": "stderr",
          "text": [
            " 24%|\u001b[32m██▎       \u001b[0m| 141/600 [01:04<03:19,  2.31it/s]"
          ]
        },
        {
          "output_type": "stream",
          "name": "stdout",
          "text": [
            "Train Epoch: 140\tLoss: 5632.676270\n"
          ]
        },
        {
          "output_type": "stream",
          "name": "stderr",
          "text": [
            " 25%|\u001b[32m██▌       \u001b[0m| 151/600 [01:08<03:03,  2.45it/s]"
          ]
        },
        {
          "output_type": "stream",
          "name": "stdout",
          "text": [
            "Train Epoch: 150\tLoss: 3387.762207\n"
          ]
        },
        {
          "output_type": "stream",
          "name": "stderr",
          "text": [
            " 27%|\u001b[32m██▋       \u001b[0m| 161/600 [01:13<03:24,  2.15it/s]"
          ]
        },
        {
          "output_type": "stream",
          "name": "stdout",
          "text": [
            "Train Epoch: 160\tLoss: 6254.399902\n"
          ]
        },
        {
          "output_type": "stream",
          "name": "stderr",
          "text": [
            " 28%|\u001b[32m██▊       \u001b[0m| 171/600 [01:18<03:12,  2.23it/s]"
          ]
        },
        {
          "output_type": "stream",
          "name": "stdout",
          "text": [
            "Train Epoch: 170\tLoss: 3579.845215\n"
          ]
        },
        {
          "output_type": "stream",
          "name": "stderr",
          "text": [
            " 30%|\u001b[32m███       \u001b[0m| 181/600 [01:22<02:59,  2.33it/s]"
          ]
        },
        {
          "output_type": "stream",
          "name": "stdout",
          "text": [
            "Train Epoch: 180\tLoss: 2122.661865\n"
          ]
        },
        {
          "output_type": "stream",
          "name": "stderr",
          "text": [
            " 32%|\u001b[32m███▏      \u001b[0m| 191/600 [01:27<03:05,  2.20it/s]"
          ]
        },
        {
          "output_type": "stream",
          "name": "stdout",
          "text": [
            "Train Epoch: 190\tLoss: 1487.459961\n"
          ]
        },
        {
          "output_type": "stream",
          "name": "stderr",
          "text": [
            " 34%|\u001b[32m███▎      \u001b[0m| 201/600 [01:31<02:43,  2.44it/s]"
          ]
        },
        {
          "output_type": "stream",
          "name": "stdout",
          "text": [
            "Train Epoch: 200\tLoss: 1178.636230\n"
          ]
        },
        {
          "output_type": "stream",
          "name": "stderr",
          "text": [
            " 35%|\u001b[32m███▌      \u001b[0m| 211/600 [01:36<03:26,  1.89it/s]"
          ]
        },
        {
          "output_type": "stream",
          "name": "stdout",
          "text": [
            "Train Epoch: 210\tLoss: 1015.794128\n"
          ]
        },
        {
          "output_type": "stream",
          "name": "stderr",
          "text": [
            " 37%|\u001b[32m███▋      \u001b[0m| 221/600 [01:40<02:42,  2.33it/s]"
          ]
        },
        {
          "output_type": "stream",
          "name": "stdout",
          "text": [
            "Train Epoch: 220\tLoss: 922.561768\n"
          ]
        },
        {
          "output_type": "stream",
          "name": "stderr",
          "text": [
            " 38%|\u001b[32m███▊      \u001b[0m| 231/600 [01:45<02:37,  2.34it/s]"
          ]
        },
        {
          "output_type": "stream",
          "name": "stdout",
          "text": [
            "Train Epoch: 230\tLoss: 863.988892\n"
          ]
        },
        {
          "output_type": "stream",
          "name": "stderr",
          "text": [
            " 40%|\u001b[32m████      \u001b[0m| 241/600 [01:50<03:00,  1.99it/s]"
          ]
        },
        {
          "output_type": "stream",
          "name": "stdout",
          "text": [
            "Train Epoch: 240\tLoss: 824.101868\n"
          ]
        },
        {
          "output_type": "stream",
          "name": "stderr",
          "text": [
            " 42%|\u001b[32m████▏     \u001b[0m| 251/600 [01:54<02:26,  2.38it/s]"
          ]
        },
        {
          "output_type": "stream",
          "name": "stdout",
          "text": [
            "Train Epoch: 250\tLoss: 795.177429\n"
          ]
        },
        {
          "output_type": "stream",
          "name": "stderr",
          "text": [
            " 44%|\u001b[32m████▎     \u001b[0m| 261/600 [01:58<02:22,  2.39it/s]"
          ]
        },
        {
          "output_type": "stream",
          "name": "stdout",
          "text": [
            "Train Epoch: 260\tLoss: 775.956787\n"
          ]
        },
        {
          "output_type": "stream",
          "name": "stderr",
          "text": [
            " 45%|\u001b[32m████▌     \u001b[0m| 271/600 [02:03<02:25,  2.26it/s]"
          ]
        },
        {
          "output_type": "stream",
          "name": "stdout",
          "text": [
            "Train Epoch: 270\tLoss: 786.695618\n"
          ]
        },
        {
          "output_type": "stream",
          "name": "stderr",
          "text": [
            " 47%|\u001b[32m████▋     \u001b[0m| 281/600 [02:07<02:14,  2.38it/s]"
          ]
        },
        {
          "output_type": "stream",
          "name": "stdout",
          "text": [
            "Train Epoch: 280\tLoss: 761.339539\n"
          ]
        },
        {
          "output_type": "stream",
          "name": "stderr",
          "text": [
            " 48%|\u001b[32m████▊     \u001b[0m| 291/600 [02:12<02:28,  2.08it/s]"
          ]
        },
        {
          "output_type": "stream",
          "name": "stdout",
          "text": [
            "Train Epoch: 290\tLoss: 740.798340\n"
          ]
        },
        {
          "output_type": "stream",
          "name": "stderr",
          "text": [
            " 50%|\u001b[32m█████     \u001b[0m| 301/600 [02:16<02:07,  2.34it/s]"
          ]
        },
        {
          "output_type": "stream",
          "name": "stdout",
          "text": [
            "Train Epoch: 300\tLoss: 727.939941\n"
          ]
        },
        {
          "output_type": "stream",
          "name": "stderr",
          "text": [
            " 52%|\u001b[32m█████▏    \u001b[0m| 311/600 [02:21<02:09,  2.24it/s]"
          ]
        },
        {
          "output_type": "stream",
          "name": "stdout",
          "text": [
            "Train Epoch: 310\tLoss: 717.889038\n"
          ]
        },
        {
          "output_type": "stream",
          "name": "stderr",
          "text": [
            " 54%|\u001b[32m█████▎    \u001b[0m| 321/600 [02:25<02:23,  1.95it/s]"
          ]
        },
        {
          "output_type": "stream",
          "name": "stdout",
          "text": [
            "Train Epoch: 320\tLoss: 707.879395\n"
          ]
        },
        {
          "output_type": "stream",
          "name": "stderr",
          "text": [
            " 55%|\u001b[32m█████▌    \u001b[0m| 331/600 [02:30<01:59,  2.25it/s]"
          ]
        },
        {
          "output_type": "stream",
          "name": "stdout",
          "text": [
            "Train Epoch: 330\tLoss: 705.485901\n"
          ]
        },
        {
          "output_type": "stream",
          "name": "stderr",
          "text": [
            " 57%|\u001b[32m█████▋    \u001b[0m| 341/600 [02:34<01:46,  2.44it/s]"
          ]
        },
        {
          "output_type": "stream",
          "name": "stdout",
          "text": [
            "Train Epoch: 340\tLoss: 708.432983\n"
          ]
        },
        {
          "output_type": "stream",
          "name": "stderr",
          "text": [
            " 58%|\u001b[32m█████▊    \u001b[0m| 351/600 [02:39<02:04,  2.00it/s]"
          ]
        },
        {
          "output_type": "stream",
          "name": "stdout",
          "text": [
            "Train Epoch: 350\tLoss: 751.892090\n"
          ]
        },
        {
          "output_type": "stream",
          "name": "stderr",
          "text": [
            " 60%|\u001b[32m██████    \u001b[0m| 361/600 [02:43<01:47,  2.23it/s]"
          ]
        },
        {
          "output_type": "stream",
          "name": "stdout",
          "text": [
            "Train Epoch: 360\tLoss: 713.187500\n"
          ]
        },
        {
          "output_type": "stream",
          "name": "stderr",
          "text": [
            " 62%|\u001b[32m██████▏   \u001b[0m| 371/600 [02:48<01:37,  2.34it/s]"
          ]
        },
        {
          "output_type": "stream",
          "name": "stdout",
          "text": [
            "Train Epoch: 370\tLoss: 697.107178\n"
          ]
        },
        {
          "output_type": "stream",
          "name": "stderr",
          "text": [
            " 64%|\u001b[32m██████▎   \u001b[0m| 381/600 [02:53<01:40,  2.17it/s]"
          ]
        },
        {
          "output_type": "stream",
          "name": "stdout",
          "text": [
            "Train Epoch: 380\tLoss: 692.717529\n"
          ]
        },
        {
          "output_type": "stream",
          "name": "stderr",
          "text": [
            " 65%|\u001b[32m██████▌   \u001b[0m| 391/600 [02:57<01:27,  2.39it/s]"
          ]
        },
        {
          "output_type": "stream",
          "name": "stdout",
          "text": [
            "Train Epoch: 390\tLoss: 696.014038\n"
          ]
        },
        {
          "output_type": "stream",
          "name": "stderr",
          "text": [
            " 67%|\u001b[32m██████▋   \u001b[0m| 401/600 [03:01<01:36,  2.06it/s]"
          ]
        },
        {
          "output_type": "stream",
          "name": "stdout",
          "text": [
            "Train Epoch: 400\tLoss: 681.252869\n"
          ]
        },
        {
          "output_type": "stream",
          "name": "stderr",
          "text": [
            " 68%|\u001b[32m██████▊   \u001b[0m| 411/600 [03:06<01:22,  2.29it/s]"
          ]
        },
        {
          "output_type": "stream",
          "name": "stdout",
          "text": [
            "Train Epoch: 410\tLoss: 676.140991\n"
          ]
        },
        {
          "output_type": "stream",
          "name": "stderr",
          "text": [
            " 70%|\u001b[32m███████   \u001b[0m| 421/600 [03:10<01:15,  2.37it/s]"
          ]
        },
        {
          "output_type": "stream",
          "name": "stdout",
          "text": [
            "Train Epoch: 420\tLoss: 674.991882\n"
          ]
        },
        {
          "output_type": "stream",
          "name": "stderr",
          "text": [
            " 72%|\u001b[32m███████▏  \u001b[0m| 431/600 [03:15<01:31,  1.84it/s]"
          ]
        },
        {
          "output_type": "stream",
          "name": "stdout",
          "text": [
            "Train Epoch: 430\tLoss: 674.198303\n"
          ]
        },
        {
          "output_type": "stream",
          "name": "stderr",
          "text": [
            " 74%|\u001b[32m███████▎  \u001b[0m| 441/600 [03:19<01:07,  2.36it/s]"
          ]
        },
        {
          "output_type": "stream",
          "name": "stdout",
          "text": [
            "Train Epoch: 440\tLoss: 673.751587\n"
          ]
        },
        {
          "output_type": "stream",
          "name": "stderr",
          "text": [
            " 75%|\u001b[32m███████▌  \u001b[0m| 451/600 [03:24<01:02,  2.37it/s]"
          ]
        },
        {
          "output_type": "stream",
          "name": "stdout",
          "text": [
            "Train Epoch: 450\tLoss: 673.327637\n"
          ]
        },
        {
          "output_type": "stream",
          "name": "stderr",
          "text": [
            " 77%|\u001b[32m███████▋  \u001b[0m| 461/600 [03:29<01:04,  2.15it/s]"
          ]
        },
        {
          "output_type": "stream",
          "name": "stdout",
          "text": [
            "Train Epoch: 460\tLoss: 672.983887\n"
          ]
        },
        {
          "output_type": "stream",
          "name": "stderr",
          "text": [
            " 78%|\u001b[32m███████▊  \u001b[0m| 471/600 [03:33<00:54,  2.38it/s]"
          ]
        },
        {
          "output_type": "stream",
          "name": "stdout",
          "text": [
            "Train Epoch: 470\tLoss: 672.638428\n"
          ]
        },
        {
          "output_type": "stream",
          "name": "stderr",
          "text": [
            " 80%|\u001b[32m████████  \u001b[0m| 481/600 [03:37<00:54,  2.20it/s]"
          ]
        },
        {
          "output_type": "stream",
          "name": "stdout",
          "text": [
            "Train Epoch: 480\tLoss: 672.298645\n"
          ]
        },
        {
          "output_type": "stream",
          "name": "stderr",
          "text": [
            " 82%|\u001b[32m████████▏ \u001b[0m| 491/600 [03:42<00:47,  2.30it/s]"
          ]
        },
        {
          "output_type": "stream",
          "name": "stdout",
          "text": [
            "Train Epoch: 490\tLoss: 671.974670\n"
          ]
        },
        {
          "output_type": "stream",
          "name": "stderr",
          "text": [
            " 84%|\u001b[32m████████▎ \u001b[0m| 501/600 [03:47<00:44,  2.22it/s]"
          ]
        },
        {
          "output_type": "stream",
          "name": "stdout",
          "text": [
            "Train Epoch: 500\tLoss: 671.663452\n"
          ]
        },
        {
          "output_type": "stream",
          "name": "stderr",
          "text": [
            " 85%|\u001b[32m████████▌ \u001b[0m| 511/600 [03:51<00:45,  1.94it/s]"
          ]
        },
        {
          "output_type": "stream",
          "name": "stdout",
          "text": [
            "Train Epoch: 510\tLoss: 671.641602\n"
          ]
        },
        {
          "output_type": "stream",
          "name": "stderr",
          "text": [
            " 87%|\u001b[32m████████▋ \u001b[0m| 521/600 [03:56<00:36,  2.18it/s]"
          ]
        },
        {
          "output_type": "stream",
          "name": "stdout",
          "text": [
            "Train Epoch: 520\tLoss: 671.596558\n"
          ]
        },
        {
          "output_type": "stream",
          "name": "stderr",
          "text": [
            " 88%|\u001b[32m████████▊ \u001b[0m| 531/600 [04:00<00:28,  2.40it/s]"
          ]
        },
        {
          "output_type": "stream",
          "name": "stdout",
          "text": [
            "Train Epoch: 530\tLoss: 671.572144\n"
          ]
        },
        {
          "output_type": "stream",
          "name": "stderr",
          "text": [
            " 90%|\u001b[32m█████████ \u001b[0m| 541/600 [04:05<00:29,  1.99it/s]"
          ]
        },
        {
          "output_type": "stream",
          "name": "stdout",
          "text": [
            "Train Epoch: 540\tLoss: 671.545532\n"
          ]
        },
        {
          "output_type": "stream",
          "name": "stderr",
          "text": [
            " 92%|\u001b[32m█████████▏\u001b[0m| 551/600 [04:10<00:22,  2.22it/s]"
          ]
        },
        {
          "output_type": "stream",
          "name": "stdout",
          "text": [
            "Train Epoch: 550\tLoss: 671.503479\n"
          ]
        },
        {
          "output_type": "stream",
          "name": "stderr",
          "text": [
            " 94%|\u001b[32m█████████▎\u001b[0m| 561/600 [04:14<00:16,  2.30it/s]"
          ]
        },
        {
          "output_type": "stream",
          "name": "stdout",
          "text": [
            "Train Epoch: 560\tLoss: 671.482117\n"
          ]
        },
        {
          "output_type": "stream",
          "name": "stderr",
          "text": [
            " 95%|\u001b[32m█████████▌\u001b[0m| 571/600 [04:19<00:13,  2.14it/s]"
          ]
        },
        {
          "output_type": "stream",
          "name": "stdout",
          "text": [
            "Train Epoch: 570\tLoss: 671.443481\n"
          ]
        },
        {
          "output_type": "stream",
          "name": "stderr",
          "text": [
            " 97%|\u001b[32m█████████▋\u001b[0m| 581/600 [04:23<00:08,  2.34it/s]"
          ]
        },
        {
          "output_type": "stream",
          "name": "stdout",
          "text": [
            "Train Epoch: 580\tLoss: 671.401123\n"
          ]
        },
        {
          "output_type": "stream",
          "name": "stderr",
          "text": [
            " 98%|\u001b[32m█████████▊\u001b[0m| 591/600 [04:28<00:04,  1.98it/s]"
          ]
        },
        {
          "output_type": "stream",
          "name": "stdout",
          "text": [
            "Train Epoch: 590\tLoss: 671.370361\n"
          ]
        },
        {
          "output_type": "stream",
          "name": "stderr",
          "text": [
            "100%|\u001b[32m██████████\u001b[0m| 600/600 [04:32<00:00,  2.20it/s]\n"
          ]
        }
      ],
      "source": [
        "Net, loss_list= Trainer(gMLP_feature(), all_text_feature, 600, 400, 500)\n",
        "Net.eval()\n",
        "with torch.autograd.no_grad():\n",
        "    txt_train = Net(all_text_feature.to(dev))\n",
        "    txt_test = Net(test_text_feature.to(dev))"
      ]
    },
    {
      "cell_type": "code",
      "execution_count": 43,
      "metadata": {
        "execution": {
          "iopub.execute_input": "2023-05-01T06:43:12.939468Z",
          "iopub.status.busy": "2023-05-01T06:43:12.938803Z",
          "iopub.status.idle": "2023-05-01T06:45:15.748503Z",
          "shell.execute_reply": "2023-05-01T06:45:15.747403Z",
          "shell.execute_reply.started": "2023-05-01T06:43:12.939426Z"
        },
        "colab": {
          "base_uri": "https://localhost:8080/"
        },
        "id": "-RJIMXu7g_-x",
        "outputId": "4232b76f-75a1-4cd7-aae3-6eea02294428"
      },
      "outputs": [
        {
          "metadata": {
            "tags": null
          },
          "name": "stderr",
          "output_type": "stream",
          "text": [
            "  0%|\u001b[32m          \u001b[0m| 1/1200 [00:00<07:10,  2.79it/s]"
          ]
        },
        {
          "metadata": {
            "tags": null
          },
          "name": "stdout",
          "output_type": "stream",
          "text": [
            "Train Epoch: 0\tLoss: 402181.875000\n"
          ]
        },
        {
          "metadata": {
            "tags": null
          },
          "name": "stderr",
          "output_type": "stream",
          "text": [
            "  1%|\u001b[32m          \u001b[0m| 11/1200 [00:04<07:21,  2.69it/s]"
          ]
        },
        {
          "metadata": {
            "tags": null
          },
          "name": "stdout",
          "output_type": "stream",
          "text": [
            "Train Epoch: 10\tLoss: 402181.937500\n"
          ]
        },
        {
          "metadata": {
            "tags": null
          },
          "name": "stderr",
          "output_type": "stream",
          "text": [
            "  2%|\u001b[32m▏         \u001b[0m| 21/1200 [00:07<07:30,  2.62it/s]"
          ]
        },
        {
          "metadata": {
            "tags": null
          },
          "name": "stdout",
          "output_type": "stream",
          "text": [
            "Train Epoch: 20\tLoss: 387817.812500\n"
          ]
        },
        {
          "metadata": {
            "tags": null
          },
          "name": "stderr",
          "output_type": "stream",
          "text": [
            "  3%|\u001b[32m▎         \u001b[0m| 31/1200 [00:12<08:23,  2.32it/s]"
          ]
        },
        {
          "metadata": {
            "tags": null
          },
          "name": "stdout",
          "output_type": "stream",
          "text": [
            "Train Epoch: 30\tLoss: 360368.281250\n"
          ]
        },
        {
          "metadata": {
            "tags": null
          },
          "name": "stderr",
          "output_type": "stream",
          "text": [
            "  3%|\u001b[32m▎         \u001b[0m| 41/1200 [00:15<07:17,  2.65it/s]"
          ]
        },
        {
          "metadata": {
            "tags": null
          },
          "name": "stdout",
          "output_type": "stream",
          "text": [
            "Train Epoch: 40\tLoss: 332819.437500\n"
          ]
        },
        {
          "metadata": {
            "tags": null
          },
          "name": "stderr",
          "output_type": "stream",
          "text": [
            "  4%|\u001b[32m▍         \u001b[0m| 51/1200 [00:19<06:55,  2.77it/s]"
          ]
        },
        {
          "metadata": {
            "tags": null
          },
          "name": "stdout",
          "output_type": "stream",
          "text": [
            "Train Epoch: 50\tLoss: 303239.812500\n"
          ]
        },
        {
          "metadata": {
            "tags": null
          },
          "name": "stderr",
          "output_type": "stream",
          "text": [
            "  5%|\u001b[32m▌         \u001b[0m| 61/1200 [00:23<09:05,  2.09it/s]"
          ]
        },
        {
          "metadata": {
            "tags": null
          },
          "name": "stdout",
          "output_type": "stream",
          "text": [
            "Train Epoch: 60\tLoss: 270230.125000\n"
          ]
        },
        {
          "metadata": {
            "tags": null
          },
          "name": "stderr",
          "output_type": "stream",
          "text": [
            "  6%|\u001b[32m▌         \u001b[0m| 71/1200 [00:27<06:54,  2.72it/s]"
          ]
        },
        {
          "metadata": {
            "tags": null
          },
          "name": "stdout",
          "output_type": "stream",
          "text": [
            "Train Epoch: 70\tLoss: 233761.296875\n"
          ]
        },
        {
          "metadata": {
            "tags": null
          },
          "name": "stderr",
          "output_type": "stream",
          "text": [
            "  7%|\u001b[32m▋         \u001b[0m| 81/1200 [00:31<06:44,  2.76it/s]"
          ]
        },
        {
          "metadata": {
            "tags": null
          },
          "name": "stdout",
          "output_type": "stream",
          "text": [
            "Train Epoch: 80\tLoss: 195583.968750\n"
          ]
        },
        {
          "metadata": {
            "tags": null
          },
          "name": "stderr",
          "output_type": "stream",
          "text": [
            "  8%|\u001b[32m▊         \u001b[0m| 91/1200 [00:35<08:44,  2.11it/s]"
          ]
        },
        {
          "metadata": {
            "tags": null
          },
          "name": "stdout",
          "output_type": "stream",
          "text": [
            "Train Epoch: 90\tLoss: 159714.078125\n"
          ]
        },
        {
          "metadata": {
            "tags": null
          },
          "name": "stderr",
          "output_type": "stream",
          "text": [
            "  8%|\u001b[32m▊         \u001b[0m| 101/1200 [00:39<06:37,  2.76it/s]"
          ]
        },
        {
          "metadata": {
            "tags": null
          },
          "name": "stdout",
          "output_type": "stream",
          "text": [
            "Train Epoch: 100\tLoss: 130571.085938\n"
          ]
        },
        {
          "metadata": {
            "tags": null
          },
          "name": "stderr",
          "output_type": "stream",
          "text": [
            "  9%|\u001b[32m▉         \u001b[0m| 111/1200 [00:43<06:31,  2.78it/s]"
          ]
        },
        {
          "metadata": {
            "tags": null
          },
          "name": "stdout",
          "output_type": "stream",
          "text": [
            "Train Epoch: 110\tLoss: 109715.515625\n"
          ]
        },
        {
          "metadata": {
            "tags": null
          },
          "name": "stderr",
          "output_type": "stream",
          "text": [
            " 10%|\u001b[32m█         \u001b[0m| 121/1200 [00:47<08:38,  2.08it/s]"
          ]
        },
        {
          "metadata": {
            "tags": null
          },
          "name": "stdout",
          "output_type": "stream",
          "text": [
            "Train Epoch: 120\tLoss: 95683.093750\n"
          ]
        },
        {
          "metadata": {
            "tags": null
          },
          "name": "stderr",
          "output_type": "stream",
          "text": [
            " 11%|\u001b[32m█         \u001b[0m| 131/1200 [00:51<06:29,  2.74it/s]"
          ]
        },
        {
          "metadata": {
            "tags": null
          },
          "name": "stdout",
          "output_type": "stream",
          "text": [
            "Train Epoch: 130\tLoss: 86081.546875\n"
          ]
        },
        {
          "metadata": {
            "tags": null
          },
          "name": "stderr",
          "output_type": "stream",
          "text": [
            " 12%|\u001b[32m█▏        \u001b[0m| 141/1200 [00:54<06:51,  2.57it/s]"
          ]
        },
        {
          "metadata": {
            "tags": null
          },
          "name": "stdout",
          "output_type": "stream",
          "text": [
            "Train Epoch: 140\tLoss: 79109.070312\n"
          ]
        },
        {
          "metadata": {
            "tags": null
          },
          "name": "stderr",
          "output_type": "stream",
          "text": [
            " 13%|\u001b[32m█▎        \u001b[0m| 151/1200 [00:58<06:26,  2.72it/s]"
          ]
        },
        {
          "metadata": {
            "tags": null
          },
          "name": "stdout",
          "output_type": "stream",
          "text": [
            "Train Epoch: 150\tLoss: 73651.375000\n"
          ]
        },
        {
          "metadata": {
            "tags": null
          },
          "name": "stderr",
          "output_type": "stream",
          "text": [
            " 13%|\u001b[32m█▎        \u001b[0m| 161/1200 [01:03<06:55,  2.50it/s]"
          ]
        },
        {
          "metadata": {
            "tags": null
          },
          "name": "stdout",
          "output_type": "stream",
          "text": [
            "Train Epoch: 160\tLoss: 69097.804688\n"
          ]
        },
        {
          "metadata": {
            "tags": null
          },
          "name": "stderr",
          "output_type": "stream",
          "text": [
            " 14%|\u001b[32m█▍        \u001b[0m| 171/1200 [01:06<06:06,  2.80it/s]"
          ]
        },
        {
          "metadata": {
            "tags": null
          },
          "name": "stdout",
          "output_type": "stream",
          "text": [
            "Train Epoch: 170\tLoss: 65093.257812\n"
          ]
        },
        {
          "metadata": {
            "tags": null
          },
          "name": "stderr",
          "output_type": "stream",
          "text": [
            " 15%|\u001b[32m█▌        \u001b[0m| 181/1200 [01:10<06:25,  2.64it/s]"
          ]
        },
        {
          "metadata": {
            "tags": null
          },
          "name": "stdout",
          "output_type": "stream",
          "text": [
            "Train Epoch: 180\tLoss: 61445.570312\n"
          ]
        },
        {
          "metadata": {
            "tags": null
          },
          "name": "stderr",
          "output_type": "stream",
          "text": [
            " 16%|\u001b[32m█▌        \u001b[0m| 191/1200 [01:14<06:55,  2.43it/s]"
          ]
        },
        {
          "metadata": {
            "tags": null
          },
          "name": "stdout",
          "output_type": "stream",
          "text": [
            "Train Epoch: 190\tLoss: 58053.507812\n"
          ]
        },
        {
          "metadata": {
            "tags": null
          },
          "name": "stderr",
          "output_type": "stream",
          "text": [
            " 17%|\u001b[32m█▋        \u001b[0m| 201/1200 [01:18<06:06,  2.73it/s]"
          ]
        },
        {
          "metadata": {
            "tags": null
          },
          "name": "stdout",
          "output_type": "stream",
          "text": [
            "Train Epoch: 200\tLoss: 54890.734375\n"
          ]
        },
        {
          "metadata": {
            "tags": null
          },
          "name": "stderr",
          "output_type": "stream",
          "text": [
            " 18%|\u001b[32m█▊        \u001b[0m| 211/1200 [01:22<06:16,  2.63it/s]"
          ]
        },
        {
          "metadata": {
            "tags": null
          },
          "name": "stdout",
          "output_type": "stream",
          "text": [
            "Train Epoch: 210\tLoss: 51918.679688\n"
          ]
        },
        {
          "metadata": {
            "tags": null
          },
          "name": "stderr",
          "output_type": "stream",
          "text": [
            " 18%|\u001b[32m█▊        \u001b[0m| 221/1200 [01:26<06:33,  2.49it/s]"
          ]
        },
        {
          "metadata": {
            "tags": null
          },
          "name": "stdout",
          "output_type": "stream",
          "text": [
            "Train Epoch: 220\tLoss: 49135.953125\n"
          ]
        },
        {
          "metadata": {
            "tags": null
          },
          "name": "stderr",
          "output_type": "stream",
          "text": [
            " 19%|\u001b[32m█▉        \u001b[0m| 231/1200 [01:30<06:00,  2.69it/s]"
          ]
        },
        {
          "metadata": {
            "tags": null
          },
          "name": "stdout",
          "output_type": "stream",
          "text": [
            "Train Epoch: 230\tLoss: 46537.847656\n"
          ]
        },
        {
          "metadata": {
            "tags": null
          },
          "name": "stderr",
          "output_type": "stream",
          "text": [
            " 20%|\u001b[32m██        \u001b[0m| 241/1200 [01:34<06:00,  2.66it/s]"
          ]
        },
        {
          "metadata": {
            "tags": null
          },
          "name": "stdout",
          "output_type": "stream",
          "text": [
            "Train Epoch: 240\tLoss: 44082.816406\n"
          ]
        },
        {
          "metadata": {
            "tags": null
          },
          "name": "stderr",
          "output_type": "stream",
          "text": [
            " 21%|\u001b[32m██        \u001b[0m| 251/1200 [01:38<06:40,  2.37it/s]"
          ]
        },
        {
          "metadata": {
            "tags": null
          },
          "name": "stdout",
          "output_type": "stream",
          "text": [
            "Train Epoch: 250\tLoss: 41777.707031\n"
          ]
        },
        {
          "metadata": {
            "tags": null
          },
          "name": "stderr",
          "output_type": "stream",
          "text": [
            " 22%|\u001b[32m██▏       \u001b[0m| 261/1200 [01:42<05:43,  2.73it/s]"
          ]
        },
        {
          "metadata": {
            "tags": null
          },
          "name": "stdout",
          "output_type": "stream",
          "text": [
            "Train Epoch: 260\tLoss: 39576.992188\n"
          ]
        },
        {
          "metadata": {
            "tags": null
          },
          "name": "stderr",
          "output_type": "stream",
          "text": [
            " 23%|\u001b[32m██▎       \u001b[0m| 271/1200 [01:45<05:35,  2.77it/s]"
          ]
        },
        {
          "metadata": {
            "tags": null
          },
          "name": "stdout",
          "output_type": "stream",
          "text": [
            "Train Epoch: 270\tLoss: 37480.906250\n"
          ]
        },
        {
          "metadata": {
            "tags": null
          },
          "name": "stderr",
          "output_type": "stream",
          "text": [
            " 23%|\u001b[32m██▎       \u001b[0m| 281/1200 [01:50<06:51,  2.24it/s]"
          ]
        },
        {
          "metadata": {
            "tags": null
          },
          "name": "stdout",
          "output_type": "stream",
          "text": [
            "Train Epoch: 280\tLoss: 35478.734375\n"
          ]
        },
        {
          "metadata": {
            "tags": null
          },
          "name": "stderr",
          "output_type": "stream",
          "text": [
            " 24%|\u001b[32m██▍       \u001b[0m| 291/1200 [01:54<05:34,  2.72it/s]"
          ]
        },
        {
          "metadata": {
            "tags": null
          },
          "name": "stdout",
          "output_type": "stream",
          "text": [
            "Train Epoch: 290\tLoss: 33555.957031\n"
          ]
        },
        {
          "metadata": {
            "tags": null
          },
          "name": "stderr",
          "output_type": "stream",
          "text": [
            " 25%|\u001b[32m██▌       \u001b[0m| 301/1200 [01:57<05:30,  2.72it/s]"
          ]
        },
        {
          "metadata": {
            "tags": null
          },
          "name": "stdout",
          "output_type": "stream",
          "text": [
            "Train Epoch: 300\tLoss: 31714.091797\n"
          ]
        },
        {
          "metadata": {
            "tags": null
          },
          "name": "stderr",
          "output_type": "stream",
          "text": [
            " 26%|\u001b[32m██▌       \u001b[0m| 311/1200 [02:02<07:43,  1.92it/s]"
          ]
        },
        {
          "metadata": {
            "tags": null
          },
          "name": "stdout",
          "output_type": "stream",
          "text": [
            "Train Epoch: 310\tLoss: 29956.970703\n"
          ]
        },
        {
          "metadata": {
            "tags": null
          },
          "name": "stderr",
          "output_type": "stream",
          "text": [
            " 27%|\u001b[32m██▋       \u001b[0m| 321/1200 [02:06<05:15,  2.79it/s]"
          ]
        },
        {
          "metadata": {
            "tags": null
          },
          "name": "stdout",
          "output_type": "stream",
          "text": [
            "Train Epoch: 320\tLoss: 28281.544922\n"
          ]
        },
        {
          "metadata": {
            "tags": null
          },
          "name": "stderr",
          "output_type": "stream",
          "text": [
            " 28%|\u001b[32m██▊       \u001b[0m| 331/1200 [02:09<05:37,  2.58it/s]"
          ]
        },
        {
          "metadata": {
            "tags": null
          },
          "name": "stdout",
          "output_type": "stream",
          "text": [
            "Train Epoch: 330\tLoss: 26695.250000\n"
          ]
        },
        {
          "metadata": {
            "tags": null
          },
          "name": "stderr",
          "output_type": "stream",
          "text": [
            " 28%|\u001b[32m██▊       \u001b[0m| 341/1200 [02:13<06:38,  2.16it/s]"
          ]
        },
        {
          "metadata": {
            "tags": null
          },
          "name": "stdout",
          "output_type": "stream",
          "text": [
            "Train Epoch: 340\tLoss: 25187.255859\n"
          ]
        },
        {
          "metadata": {
            "tags": null
          },
          "name": "stderr",
          "output_type": "stream",
          "text": [
            " 29%|\u001b[32m██▉       \u001b[0m| 351/1200 [02:17<05:27,  2.59it/s]"
          ]
        },
        {
          "metadata": {
            "tags": null
          },
          "name": "stdout",
          "output_type": "stream",
          "text": [
            "Train Epoch: 350\tLoss: 23755.267578\n"
          ]
        },
        {
          "metadata": {
            "tags": null
          },
          "name": "stderr",
          "output_type": "stream",
          "text": [
            " 30%|\u001b[32m███       \u001b[0m| 361/1200 [02:21<04:53,  2.86it/s]"
          ]
        },
        {
          "metadata": {
            "tags": null
          },
          "name": "stdout",
          "output_type": "stream",
          "text": [
            "Train Epoch: 360\tLoss: 22409.431641\n"
          ]
        },
        {
          "metadata": {
            "tags": null
          },
          "name": "stderr",
          "output_type": "stream",
          "text": [
            " 31%|\u001b[32m███       \u001b[0m| 371/1200 [02:25<05:57,  2.32it/s]"
          ]
        },
        {
          "metadata": {
            "tags": null
          },
          "name": "stdout",
          "output_type": "stream",
          "text": [
            "Train Epoch: 370\tLoss: 21122.296875\n"
          ]
        },
        {
          "metadata": {
            "tags": null
          },
          "name": "stderr",
          "output_type": "stream",
          "text": [
            " 32%|\u001b[32m███▏      \u001b[0m| 381/1200 [02:29<05:23,  2.53it/s]"
          ]
        },
        {
          "metadata": {
            "tags": null
          },
          "name": "stdout",
          "output_type": "stream",
          "text": [
            "Train Epoch: 380\tLoss: 19908.898438\n"
          ]
        },
        {
          "metadata": {
            "tags": null
          },
          "name": "stderr",
          "output_type": "stream",
          "text": [
            " 33%|\u001b[32m███▎      \u001b[0m| 391/1200 [02:33<04:59,  2.70it/s]"
          ]
        },
        {
          "metadata": {
            "tags": null
          },
          "name": "stdout",
          "output_type": "stream",
          "text": [
            "Train Epoch: 390\tLoss: 18759.542969\n"
          ]
        },
        {
          "metadata": {
            "tags": null
          },
          "name": "stderr",
          "output_type": "stream",
          "text": [
            " 33%|\u001b[32m███▎      \u001b[0m| 401/1200 [02:37<05:05,  2.61it/s]"
          ]
        },
        {
          "metadata": {
            "tags": null
          },
          "name": "stdout",
          "output_type": "stream",
          "text": [
            "Train Epoch: 400\tLoss: 17667.224609\n"
          ]
        },
        {
          "metadata": {
            "tags": null
          },
          "name": "stderr",
          "output_type": "stream",
          "text": [
            " 34%|\u001b[32m███▍      \u001b[0m| 411/1200 [02:41<05:09,  2.55it/s]"
          ]
        },
        {
          "metadata": {
            "tags": null
          },
          "name": "stdout",
          "output_type": "stream",
          "text": [
            "Train Epoch: 410\tLoss: 16647.326172\n"
          ]
        },
        {
          "metadata": {
            "tags": null
          },
          "name": "stderr",
          "output_type": "stream",
          "text": [
            " 35%|\u001b[32m███▌      \u001b[0m| 421/1200 [02:45<04:50,  2.68it/s]"
          ]
        },
        {
          "metadata": {
            "tags": null
          },
          "name": "stdout",
          "output_type": "stream",
          "text": [
            "Train Epoch: 420\tLoss: 15681.595703\n"
          ]
        },
        {
          "metadata": {
            "tags": null
          },
          "name": "stderr",
          "output_type": "stream",
          "text": [
            " 36%|\u001b[32m███▌      \u001b[0m| 431/1200 [02:48<04:38,  2.76it/s]"
          ]
        },
        {
          "metadata": {
            "tags": null
          },
          "name": "stdout",
          "output_type": "stream",
          "text": [
            "Train Epoch: 430\tLoss: 14782.676758\n"
          ]
        },
        {
          "metadata": {
            "tags": null
          },
          "name": "stderr",
          "output_type": "stream",
          "text": [
            " 37%|\u001b[32m███▋      \u001b[0m| 441/1200 [02:53<05:03,  2.50it/s]"
          ]
        },
        {
          "metadata": {
            "tags": null
          },
          "name": "stdout",
          "output_type": "stream",
          "text": [
            "Train Epoch: 440\tLoss: 13939.433594\n"
          ]
        },
        {
          "metadata": {
            "tags": null
          },
          "name": "stderr",
          "output_type": "stream",
          "text": [
            " 38%|\u001b[32m███▊      \u001b[0m| 451/1200 [02:56<04:34,  2.73it/s]"
          ]
        },
        {
          "metadata": {
            "tags": null
          },
          "name": "stdout",
          "output_type": "stream",
          "text": [
            "Train Epoch: 450\tLoss: 13154.689453\n"
          ]
        },
        {
          "metadata": {
            "tags": null
          },
          "name": "stderr",
          "output_type": "stream",
          "text": [
            " 38%|\u001b[32m███▊      \u001b[0m| 461/1200 [03:00<04:25,  2.79it/s]"
          ]
        },
        {
          "metadata": {
            "tags": null
          },
          "name": "stdout",
          "output_type": "stream",
          "text": [
            "Train Epoch: 460\tLoss: 12414.551758\n"
          ]
        },
        {
          "metadata": {
            "tags": null
          },
          "name": "stderr",
          "output_type": "stream",
          "text": [
            " 39%|\u001b[32m███▉      \u001b[0m| 471/1200 [03:04<04:59,  2.43it/s]"
          ]
        },
        {
          "metadata": {
            "tags": null
          },
          "name": "stdout",
          "output_type": "stream",
          "text": [
            "Train Epoch: 470\tLoss: 11730.761719\n"
          ]
        },
        {
          "metadata": {
            "tags": null
          },
          "name": "stderr",
          "output_type": "stream",
          "text": [
            " 40%|\u001b[32m████      \u001b[0m| 481/1200 [03:08<04:18,  2.78it/s]"
          ]
        },
        {
          "metadata": {
            "tags": null
          },
          "name": "stdout",
          "output_type": "stream",
          "text": [
            "Train Epoch: 480\tLoss: 11093.238281\n"
          ]
        },
        {
          "metadata": {
            "tags": null
          },
          "name": "stderr",
          "output_type": "stream",
          "text": [
            " 41%|\u001b[32m████      \u001b[0m| 491/1200 [03:12<04:16,  2.77it/s]"
          ]
        },
        {
          "metadata": {
            "tags": null
          },
          "name": "stdout",
          "output_type": "stream",
          "text": [
            "Train Epoch: 490\tLoss: 10498.305664\n"
          ]
        },
        {
          "metadata": {
            "tags": null
          },
          "name": "stderr",
          "output_type": "stream",
          "text": [
            " 42%|\u001b[32m████▏     \u001b[0m| 501/1200 [03:16<05:29,  2.12it/s]"
          ]
        },
        {
          "metadata": {
            "tags": null
          },
          "name": "stdout",
          "output_type": "stream",
          "text": [
            "Train Epoch: 500\tLoss: 9938.794922\n"
          ]
        },
        {
          "metadata": {
            "tags": null
          },
          "name": "stderr",
          "output_type": "stream",
          "text": [
            " 43%|\u001b[32m████▎     \u001b[0m| 511/1200 [03:20<04:07,  2.78it/s]"
          ]
        },
        {
          "metadata": {
            "tags": null
          },
          "name": "stdout",
          "output_type": "stream",
          "text": [
            "Train Epoch: 510\tLoss: 9421.671875\n"
          ]
        },
        {
          "metadata": {
            "tags": null
          },
          "name": "stderr",
          "output_type": "stream",
          "text": [
            " 43%|\u001b[32m████▎     \u001b[0m| 521/1200 [03:24<04:25,  2.56it/s]"
          ]
        },
        {
          "metadata": {
            "tags": null
          },
          "name": "stdout",
          "output_type": "stream",
          "text": [
            "Train Epoch: 520\tLoss: 8938.132812\n"
          ]
        },
        {
          "metadata": {
            "tags": null
          },
          "name": "stderr",
          "output_type": "stream",
          "text": [
            " 44%|\u001b[32m████▍     \u001b[0m| 531/1200 [03:28<05:13,  2.13it/s]"
          ]
        },
        {
          "metadata": {
            "tags": null
          },
          "name": "stdout",
          "output_type": "stream",
          "text": [
            "Train Epoch: 530\tLoss: 8485.863281\n"
          ]
        },
        {
          "metadata": {
            "tags": null
          },
          "name": "stderr",
          "output_type": "stream",
          "text": [
            " 45%|\u001b[32m████▌     \u001b[0m| 541/1200 [03:32<04:14,  2.59it/s]"
          ]
        },
        {
          "metadata": {
            "tags": null
          },
          "name": "stdout",
          "output_type": "stream",
          "text": [
            "Train Epoch: 540\tLoss: 8062.733398\n"
          ]
        },
        {
          "metadata": {
            "tags": null
          },
          "name": "stderr",
          "output_type": "stream",
          "text": [
            " 46%|\u001b[32m████▌     \u001b[0m| 551/1200 [03:36<03:51,  2.80it/s]"
          ]
        },
        {
          "metadata": {
            "tags": null
          },
          "name": "stdout",
          "output_type": "stream",
          "text": [
            "Train Epoch: 550\tLoss: 7663.766602\n"
          ]
        },
        {
          "metadata": {
            "tags": null
          },
          "name": "stderr",
          "output_type": "stream",
          "text": [
            " 47%|\u001b[32m████▋     \u001b[0m| 561/1200 [03:40<05:11,  2.05it/s]"
          ]
        },
        {
          "metadata": {
            "tags": null
          },
          "name": "stdout",
          "output_type": "stream",
          "text": [
            "Train Epoch: 560\tLoss: 7282.469238\n"
          ]
        },
        {
          "metadata": {
            "tags": null
          },
          "name": "stderr",
          "output_type": "stream",
          "text": [
            " 48%|\u001b[32m████▊     \u001b[0m| 571/1200 [03:44<04:06,  2.55it/s]"
          ]
        },
        {
          "metadata": {
            "tags": null
          },
          "name": "stdout",
          "output_type": "stream",
          "text": [
            "Train Epoch: 570\tLoss: 6931.314941\n"
          ]
        },
        {
          "metadata": {
            "tags": null
          },
          "name": "stderr",
          "output_type": "stream",
          "text": [
            " 48%|\u001b[32m████▊     \u001b[0m| 581/1200 [03:47<03:50,  2.69it/s]"
          ]
        },
        {
          "metadata": {
            "tags": null
          },
          "name": "stdout",
          "output_type": "stream",
          "text": [
            "Train Epoch: 580\tLoss: 6600.565918\n"
          ]
        },
        {
          "metadata": {
            "tags": null
          },
          "name": "stderr",
          "output_type": "stream",
          "text": [
            " 49%|\u001b[32m████▉     \u001b[0m| 591/1200 [03:51<04:50,  2.09it/s]"
          ]
        },
        {
          "metadata": {
            "tags": null
          },
          "name": "stdout",
          "output_type": "stream",
          "text": [
            "Train Epoch: 590\tLoss: 6289.976562\n"
          ]
        },
        {
          "metadata": {
            "tags": null
          },
          "name": "stderr",
          "output_type": "stream",
          "text": [
            " 50%|\u001b[32m█████     \u001b[0m| 601/1200 [03:55<03:43,  2.68it/s]"
          ]
        },
        {
          "metadata": {
            "tags": null
          },
          "name": "stdout",
          "output_type": "stream",
          "text": [
            "Train Epoch: 600\tLoss: 5996.968750\n"
          ]
        },
        {
          "metadata": {
            "tags": null
          },
          "name": "stderr",
          "output_type": "stream",
          "text": [
            " 51%|\u001b[32m█████     \u001b[0m| 611/1200 [03:59<03:39,  2.68it/s]"
          ]
        },
        {
          "metadata": {
            "tags": null
          },
          "name": "stdout",
          "output_type": "stream",
          "text": [
            "Train Epoch: 610\tLoss: 5722.303223\n"
          ]
        },
        {
          "metadata": {
            "tags": null
          },
          "name": "stderr",
          "output_type": "stream",
          "text": [
            " 52%|\u001b[32m█████▏    \u001b[0m| 621/1200 [04:03<03:59,  2.42it/s]"
          ]
        },
        {
          "metadata": {
            "tags": null
          },
          "name": "stdout",
          "output_type": "stream",
          "text": [
            "Train Epoch: 620\tLoss: 5462.820312\n"
          ]
        },
        {
          "metadata": {
            "tags": null
          },
          "name": "stderr",
          "output_type": "stream",
          "text": [
            " 53%|\u001b[32m█████▎    \u001b[0m| 631/1200 [04:07<03:37,  2.62it/s]"
          ]
        },
        {
          "metadata": {
            "tags": null
          },
          "name": "stdout",
          "output_type": "stream",
          "text": [
            "Train Epoch: 630\tLoss: 5220.807617\n"
          ]
        },
        {
          "metadata": {
            "tags": null
          },
          "name": "stderr",
          "output_type": "stream",
          "text": [
            " 53%|\u001b[32m█████▎    \u001b[0m| 641/1200 [04:11<03:23,  2.75it/s]"
          ]
        },
        {
          "metadata": {
            "tags": null
          },
          "name": "stdout",
          "output_type": "stream",
          "text": [
            "Train Epoch: 640\tLoss: 4990.556641\n"
          ]
        },
        {
          "metadata": {
            "tags": null
          },
          "name": "stderr",
          "output_type": "stream",
          "text": [
            " 54%|\u001b[32m█████▍    \u001b[0m| 651/1200 [04:15<03:18,  2.77it/s]"
          ]
        },
        {
          "metadata": {
            "tags": null
          },
          "name": "stdout",
          "output_type": "stream",
          "text": [
            "Train Epoch: 650\tLoss: 4770.646484\n"
          ]
        },
        {
          "metadata": {
            "tags": null
          },
          "name": "stderr",
          "output_type": "stream",
          "text": [
            " 55%|\u001b[32m█████▌    \u001b[0m| 661/1200 [04:19<03:24,  2.63it/s]"
          ]
        },
        {
          "metadata": {
            "tags": null
          },
          "name": "stdout",
          "output_type": "stream",
          "text": [
            "Train Epoch: 660\tLoss: 4568.356445\n"
          ]
        },
        {
          "metadata": {
            "tags": null
          },
          "name": "stderr",
          "output_type": "stream",
          "text": [
            " 56%|\u001b[32m█████▌    \u001b[0m| 671/1200 [04:23<03:09,  2.79it/s]"
          ]
        },
        {
          "metadata": {
            "tags": null
          },
          "name": "stdout",
          "output_type": "stream",
          "text": [
            "Train Epoch: 670\tLoss: 4378.593262\n"
          ]
        },
        {
          "metadata": {
            "tags": null
          },
          "name": "stderr",
          "output_type": "stream",
          "text": [
            " 57%|\u001b[32m█████▋    \u001b[0m| 681/1200 [04:26<03:06,  2.78it/s]"
          ]
        },
        {
          "metadata": {
            "tags": null
          },
          "name": "stdout",
          "output_type": "stream",
          "text": [
            "Train Epoch: 680\tLoss: 4199.274414\n"
          ]
        },
        {
          "metadata": {
            "tags": null
          },
          "name": "stderr",
          "output_type": "stream",
          "text": [
            " 58%|\u001b[32m█████▊    \u001b[0m| 691/1200 [04:31<03:20,  2.54it/s]"
          ]
        },
        {
          "metadata": {
            "tags": null
          },
          "name": "stdout",
          "output_type": "stream",
          "text": [
            "Train Epoch: 690\tLoss: 4030.902832\n"
          ]
        },
        {
          "metadata": {
            "tags": null
          },
          "name": "stderr",
          "output_type": "stream",
          "text": [
            " 58%|\u001b[32m█████▊    \u001b[0m| 701/1200 [04:35<03:03,  2.72it/s]"
          ]
        },
        {
          "metadata": {
            "tags": null
          },
          "name": "stdout",
          "output_type": "stream",
          "text": [
            "Train Epoch: 700\tLoss: 3871.501953\n"
          ]
        },
        {
          "metadata": {
            "tags": null
          },
          "name": "stderr",
          "output_type": "stream",
          "text": [
            " 59%|\u001b[32m█████▉    \u001b[0m| 711/1200 [04:39<03:13,  2.52it/s]"
          ]
        },
        {
          "metadata": {
            "tags": null
          },
          "name": "stdout",
          "output_type": "stream",
          "text": [
            "Train Epoch: 710\tLoss: 3722.357422\n"
          ]
        },
        {
          "metadata": {
            "tags": null
          },
          "name": "stderr",
          "output_type": "stream",
          "text": [
            " 60%|\u001b[32m██████    \u001b[0m| 721/1200 [04:43<03:13,  2.47it/s]"
          ]
        },
        {
          "metadata": {
            "tags": null
          },
          "name": "stdout",
          "output_type": "stream",
          "text": [
            "Train Epoch: 720\tLoss: 3579.307129\n"
          ]
        },
        {
          "metadata": {
            "tags": null
          },
          "name": "stderr",
          "output_type": "stream",
          "text": [
            " 61%|\u001b[32m██████    \u001b[0m| 731/1200 [04:47<03:00,  2.60it/s]"
          ]
        },
        {
          "metadata": {
            "tags": null
          },
          "name": "stdout",
          "output_type": "stream",
          "text": [
            "Train Epoch: 730\tLoss: 3445.437256\n"
          ]
        },
        {
          "metadata": {
            "tags": null
          },
          "name": "stderr",
          "output_type": "stream",
          "text": [
            " 62%|\u001b[32m██████▏   \u001b[0m| 741/1200 [04:50<02:41,  2.83it/s]"
          ]
        },
        {
          "metadata": {
            "tags": null
          },
          "name": "stdout",
          "output_type": "stream",
          "text": [
            "Train Epoch: 740\tLoss: 3318.959473\n"
          ]
        },
        {
          "metadata": {
            "tags": null
          },
          "name": "stderr",
          "output_type": "stream",
          "text": [
            " 63%|\u001b[32m██████▎   \u001b[0m| 751/1200 [04:55<03:11,  2.34it/s]"
          ]
        },
        {
          "metadata": {
            "tags": null
          },
          "name": "stdout",
          "output_type": "stream",
          "text": [
            "Train Epoch: 750\tLoss: 3198.704834\n"
          ]
        },
        {
          "metadata": {
            "tags": null
          },
          "name": "stderr",
          "output_type": "stream",
          "text": [
            " 63%|\u001b[32m██████▎   \u001b[0m| 761/1200 [04:59<02:52,  2.55it/s]"
          ]
        },
        {
          "metadata": {
            "tags": null
          },
          "name": "stdout",
          "output_type": "stream",
          "text": [
            "Train Epoch: 760\tLoss: 3085.801758\n"
          ]
        },
        {
          "metadata": {
            "tags": null
          },
          "name": "stderr",
          "output_type": "stream",
          "text": [
            " 64%|\u001b[32m██████▍   \u001b[0m| 771/1200 [05:02<02:40,  2.67it/s]"
          ]
        },
        {
          "metadata": {
            "tags": null
          },
          "name": "stdout",
          "output_type": "stream",
          "text": [
            "Train Epoch: 770\tLoss: 2978.188477\n"
          ]
        },
        {
          "metadata": {
            "tags": null
          },
          "name": "stderr",
          "output_type": "stream",
          "text": [
            " 65%|\u001b[32m██████▌   \u001b[0m| 781/1200 [05:07<03:11,  2.18it/s]"
          ]
        },
        {
          "metadata": {
            "tags": null
          },
          "name": "stdout",
          "output_type": "stream",
          "text": [
            "Train Epoch: 780\tLoss: 2876.088135\n"
          ]
        },
        {
          "metadata": {
            "tags": null
          },
          "name": "stderr",
          "output_type": "stream",
          "text": [
            " 66%|\u001b[32m██████▌   \u001b[0m| 791/1200 [05:10<02:30,  2.72it/s]"
          ]
        },
        {
          "metadata": {
            "tags": null
          },
          "name": "stdout",
          "output_type": "stream",
          "text": [
            "Train Epoch: 790\tLoss: 2772.655762\n"
          ]
        },
        {
          "metadata": {
            "tags": null
          },
          "name": "stderr",
          "output_type": "stream",
          "text": [
            " 67%|\u001b[32m██████▋   \u001b[0m| 801/1200 [05:14<02:28,  2.69it/s]"
          ]
        },
        {
          "metadata": {
            "tags": null
          },
          "name": "stdout",
          "output_type": "stream",
          "text": [
            "Train Epoch: 800\tLoss: 2680.437988\n"
          ]
        },
        {
          "metadata": {
            "tags": null
          },
          "name": "stderr",
          "output_type": "stream",
          "text": [
            " 68%|\u001b[32m██████▊   \u001b[0m| 811/1200 [05:19<03:06,  2.09it/s]"
          ]
        },
        {
          "metadata": {
            "tags": null
          },
          "name": "stdout",
          "output_type": "stream",
          "text": [
            "Train Epoch: 810\tLoss: 2671.298096\n"
          ]
        },
        {
          "metadata": {
            "tags": null
          },
          "name": "stderr",
          "output_type": "stream",
          "text": [
            " 68%|\u001b[32m██████▊   \u001b[0m| 821/1200 [05:22<02:21,  2.69it/s]"
          ]
        },
        {
          "metadata": {
            "tags": null
          },
          "name": "stdout",
          "output_type": "stream",
          "text": [
            "Train Epoch: 820\tLoss: 2661.860107\n"
          ]
        },
        {
          "metadata": {
            "tags": null
          },
          "name": "stderr",
          "output_type": "stream",
          "text": [
            " 69%|\u001b[32m██████▉   \u001b[0m| 831/1200 [05:26<02:14,  2.75it/s]"
          ]
        },
        {
          "metadata": {
            "tags": null
          },
          "name": "stdout",
          "output_type": "stream",
          "text": [
            "Train Epoch: 830\tLoss: 2653.415527\n"
          ]
        },
        {
          "metadata": {
            "tags": null
          },
          "name": "stderr",
          "output_type": "stream",
          "text": [
            " 70%|\u001b[32m███████   \u001b[0m| 841/1200 [05:30<02:53,  2.07it/s]"
          ]
        },
        {
          "metadata": {
            "tags": null
          },
          "name": "stdout",
          "output_type": "stream",
          "text": [
            "Train Epoch: 840\tLoss: 2644.204834\n"
          ]
        },
        {
          "metadata": {
            "tags": null
          },
          "name": "stderr",
          "output_type": "stream",
          "text": [
            " 71%|\u001b[32m███████   \u001b[0m| 851/1200 [05:34<02:08,  2.72it/s]"
          ]
        },
        {
          "metadata": {
            "tags": null
          },
          "name": "stdout",
          "output_type": "stream",
          "text": [
            "Train Epoch: 850\tLoss: 2635.611572\n"
          ]
        },
        {
          "output_type": "stream",
          "name": "stderr",
          "text": [
            " 72%|\u001b[32m███████▏  \u001b[0m| 861/1200 [05:38<02:03,  2.74it/s]"
          ]
        },
        {
          "output_type": "stream",
          "name": "stdout",
          "text": [
            "Train Epoch: 860\tLoss: 2626.894531\n"
          ]
        },
        {
          "output_type": "stream",
          "name": "stderr",
          "text": [
            " 73%|\u001b[32m███████▎  \u001b[0m| 871/1200 [05:42<02:32,  2.15it/s]"
          ]
        },
        {
          "output_type": "stream",
          "name": "stdout",
          "text": [
            "Train Epoch: 870\tLoss: 2617.314453\n"
          ]
        },
        {
          "output_type": "stream",
          "name": "stderr",
          "text": [
            " 73%|\u001b[32m███████▎  \u001b[0m| 881/1200 [05:46<02:10,  2.44it/s]"
          ]
        },
        {
          "output_type": "stream",
          "name": "stdout",
          "text": [
            "Train Epoch: 880\tLoss: 2608.095703\n"
          ]
        },
        {
          "output_type": "stream",
          "name": "stderr",
          "text": [
            " 74%|\u001b[32m███████▍  \u001b[0m| 891/1200 [05:50<01:51,  2.76it/s]"
          ]
        },
        {
          "output_type": "stream",
          "name": "stdout",
          "text": [
            "Train Epoch: 890\tLoss: 2599.466064\n"
          ]
        },
        {
          "output_type": "stream",
          "name": "stderr",
          "text": [
            " 75%|\u001b[32m███████▌  \u001b[0m| 901/1200 [05:54<02:21,  2.11it/s]"
          ]
        },
        {
          "output_type": "stream",
          "name": "stdout",
          "text": [
            "Train Epoch: 900\tLoss: 2590.686523\n"
          ]
        },
        {
          "output_type": "stream",
          "name": "stderr",
          "text": [
            " 76%|\u001b[32m███████▌  \u001b[0m| 911/1200 [05:58<01:47,  2.69it/s]"
          ]
        },
        {
          "output_type": "stream",
          "name": "stdout",
          "text": [
            "Train Epoch: 910\tLoss: 2581.575195\n"
          ]
        },
        {
          "output_type": "stream",
          "name": "stderr",
          "text": [
            " 77%|\u001b[32m███████▋  \u001b[0m| 921/1200 [06:02<01:47,  2.60it/s]"
          ]
        },
        {
          "output_type": "stream",
          "name": "stdout",
          "text": [
            "Train Epoch: 920\tLoss: 2572.608887\n"
          ]
        },
        {
          "output_type": "stream",
          "name": "stderr",
          "text": [
            " 78%|\u001b[32m███████▊  \u001b[0m| 931/1200 [06:06<01:52,  2.39it/s]"
          ]
        },
        {
          "output_type": "stream",
          "name": "stdout",
          "text": [
            "Train Epoch: 930\tLoss: 2563.577148\n"
          ]
        },
        {
          "output_type": "stream",
          "name": "stderr",
          "text": [
            " 78%|\u001b[32m███████▊  \u001b[0m| 941/1200 [06:10<01:41,  2.54it/s]"
          ]
        },
        {
          "output_type": "stream",
          "name": "stdout",
          "text": [
            "Train Epoch: 940\tLoss: 2554.613281\n"
          ]
        },
        {
          "output_type": "stream",
          "name": "stderr",
          "text": [
            " 79%|\u001b[32m███████▉  \u001b[0m| 951/1200 [06:14<01:38,  2.52it/s]"
          ]
        },
        {
          "output_type": "stream",
          "name": "stdout",
          "text": [
            "Train Epoch: 950\tLoss: 2545.553711\n"
          ]
        },
        {
          "output_type": "stream",
          "name": "stderr",
          "text": [
            " 80%|\u001b[32m████████  \u001b[0m| 961/1200 [06:18<01:39,  2.40it/s]"
          ]
        },
        {
          "output_type": "stream",
          "name": "stdout",
          "text": [
            "Train Epoch: 960\tLoss: 2536.357422\n"
          ]
        },
        {
          "output_type": "stream",
          "name": "stderr",
          "text": [
            " 81%|\u001b[32m████████  \u001b[0m| 971/1200 [06:22<01:29,  2.56it/s]"
          ]
        },
        {
          "output_type": "stream",
          "name": "stdout",
          "text": [
            "Train Epoch: 970\tLoss: 2527.753662\n"
          ]
        },
        {
          "output_type": "stream",
          "name": "stderr",
          "text": [
            " 82%|\u001b[32m████████▏ \u001b[0m| 981/1200 [06:26<01:22,  2.66it/s]"
          ]
        },
        {
          "output_type": "stream",
          "name": "stdout",
          "text": [
            "Train Epoch: 980\tLoss: 2518.540527\n"
          ]
        },
        {
          "output_type": "stream",
          "name": "stderr",
          "text": [
            " 83%|\u001b[32m████████▎ \u001b[0m| 991/1200 [06:30<01:30,  2.32it/s]"
          ]
        },
        {
          "output_type": "stream",
          "name": "stdout",
          "text": [
            "Train Epoch: 990\tLoss: 2509.706543\n"
          ]
        },
        {
          "output_type": "stream",
          "name": "stderr",
          "text": [
            " 83%|\u001b[32m████████▎ \u001b[0m| 1001/1200 [06:34<01:15,  2.64it/s]"
          ]
        },
        {
          "output_type": "stream",
          "name": "stdout",
          "text": [
            "Train Epoch: 1000\tLoss: 2500.729980\n"
          ]
        },
        {
          "output_type": "stream",
          "name": "stderr",
          "text": [
            " 84%|\u001b[32m████████▍ \u001b[0m| 1011/1200 [06:37<01:10,  2.67it/s]"
          ]
        },
        {
          "output_type": "stream",
          "name": "stdout",
          "text": [
            "Train Epoch: 1010\tLoss: 2499.587891\n"
          ]
        },
        {
          "output_type": "stream",
          "name": "stderr",
          "text": [
            " 85%|\u001b[32m████████▌ \u001b[0m| 1021/1200 [06:41<01:18,  2.28it/s]"
          ]
        },
        {
          "output_type": "stream",
          "name": "stdout",
          "text": [
            "Train Epoch: 1020\tLoss: 2498.819336\n"
          ]
        },
        {
          "output_type": "stream",
          "name": "stderr",
          "text": [
            " 86%|\u001b[32m████████▌ \u001b[0m| 1031/1200 [06:45<01:03,  2.65it/s]"
          ]
        },
        {
          "output_type": "stream",
          "name": "stdout",
          "text": [
            "Train Epoch: 1030\tLoss: 2498.097900\n"
          ]
        },
        {
          "output_type": "stream",
          "name": "stderr",
          "text": [
            " 87%|\u001b[32m████████▋ \u001b[0m| 1041/1200 [06:49<00:59,  2.69it/s]"
          ]
        },
        {
          "output_type": "stream",
          "name": "stdout",
          "text": [
            "Train Epoch: 1040\tLoss: 2497.101074\n"
          ]
        },
        {
          "output_type": "stream",
          "name": "stderr",
          "text": [
            " 88%|\u001b[32m████████▊ \u001b[0m| 1051/1200 [06:53<01:07,  2.22it/s]"
          ]
        },
        {
          "output_type": "stream",
          "name": "stdout",
          "text": [
            "Train Epoch: 1050\tLoss: 2496.052002\n"
          ]
        },
        {
          "output_type": "stream",
          "name": "stderr",
          "text": [
            " 88%|\u001b[32m████████▊ \u001b[0m| 1061/1200 [06:57<00:51,  2.67it/s]"
          ]
        },
        {
          "output_type": "stream",
          "name": "stdout",
          "text": [
            "Train Epoch: 1060\tLoss: 2495.095215\n"
          ]
        },
        {
          "output_type": "stream",
          "name": "stderr",
          "text": [
            " 89%|\u001b[32m████████▉ \u001b[0m| 1071/1200 [07:01<00:51,  2.49it/s]"
          ]
        },
        {
          "output_type": "stream",
          "name": "stdout",
          "text": [
            "Train Epoch: 1070\tLoss: 2494.449219\n"
          ]
        },
        {
          "output_type": "stream",
          "name": "stderr",
          "text": [
            " 90%|\u001b[32m█████████ \u001b[0m| 1081/1200 [07:05<00:55,  2.15it/s]"
          ]
        },
        {
          "output_type": "stream",
          "name": "stdout",
          "text": [
            "Train Epoch: 1080\tLoss: 2493.230957\n"
          ]
        },
        {
          "output_type": "stream",
          "name": "stderr",
          "text": [
            " 91%|\u001b[32m█████████ \u001b[0m| 1091/1200 [07:09<00:43,  2.52it/s]"
          ]
        },
        {
          "output_type": "stream",
          "name": "stdout",
          "text": [
            "Train Epoch: 1090\tLoss: 2492.341797\n"
          ]
        },
        {
          "output_type": "stream",
          "name": "stderr",
          "text": [
            " 92%|\u001b[32m█████████▏\u001b[0m| 1101/1200 [07:13<00:35,  2.76it/s]"
          ]
        },
        {
          "output_type": "stream",
          "name": "stdout",
          "text": [
            "Train Epoch: 1100\tLoss: 2491.551514\n"
          ]
        },
        {
          "output_type": "stream",
          "name": "stderr",
          "text": [
            " 93%|\u001b[32m█████████▎\u001b[0m| 1111/1200 [07:17<00:41,  2.15it/s]"
          ]
        },
        {
          "output_type": "stream",
          "name": "stdout",
          "text": [
            "Train Epoch: 1110\tLoss: 2490.371582\n"
          ]
        },
        {
          "output_type": "stream",
          "name": "stderr",
          "text": [
            " 93%|\u001b[32m█████████▎\u001b[0m| 1121/1200 [07:21<00:29,  2.71it/s]"
          ]
        },
        {
          "output_type": "stream",
          "name": "stdout",
          "text": [
            "Train Epoch: 1120\tLoss: 2489.365723\n"
          ]
        },
        {
          "output_type": "stream",
          "name": "stderr",
          "text": [
            " 94%|\u001b[32m█████████▍\u001b[0m| 1131/1200 [07:25<00:26,  2.61it/s]"
          ]
        },
        {
          "output_type": "stream",
          "name": "stdout",
          "text": [
            "Train Epoch: 1130\tLoss: 2488.413086\n"
          ]
        },
        {
          "output_type": "stream",
          "name": "stderr",
          "text": [
            " 95%|\u001b[32m█████████▌\u001b[0m| 1141/1200 [07:29<00:27,  2.16it/s]"
          ]
        },
        {
          "output_type": "stream",
          "name": "stdout",
          "text": [
            "Train Epoch: 1140\tLoss: 2487.290039\n"
          ]
        },
        {
          "output_type": "stream",
          "name": "stderr",
          "text": [
            " 96%|\u001b[32m█████████▌\u001b[0m| 1151/1200 [07:33<00:18,  2.59it/s]"
          ]
        },
        {
          "output_type": "stream",
          "name": "stdout",
          "text": [
            "Train Epoch: 1150\tLoss: 2486.354736\n"
          ]
        },
        {
          "output_type": "stream",
          "name": "stderr",
          "text": [
            " 97%|\u001b[32m█████████▋\u001b[0m| 1161/1200 [07:37<00:15,  2.59it/s]"
          ]
        },
        {
          "output_type": "stream",
          "name": "stdout",
          "text": [
            "Train Epoch: 1160\tLoss: 2485.400635\n"
          ]
        },
        {
          "output_type": "stream",
          "name": "stderr",
          "text": [
            " 98%|\u001b[32m█████████▊\u001b[0m| 1171/1200 [07:41<00:12,  2.38it/s]"
          ]
        },
        {
          "output_type": "stream",
          "name": "stdout",
          "text": [
            "Train Epoch: 1170\tLoss: 2484.573486\n"
          ]
        },
        {
          "output_type": "stream",
          "name": "stderr",
          "text": [
            " 98%|\u001b[32m█████████▊\u001b[0m| 1181/1200 [07:45<00:07,  2.58it/s]"
          ]
        },
        {
          "output_type": "stream",
          "name": "stdout",
          "text": [
            "Train Epoch: 1180\tLoss: 2483.550293\n"
          ]
        },
        {
          "output_type": "stream",
          "name": "stderr",
          "text": [
            " 99%|\u001b[32m█████████▉\u001b[0m| 1191/1200 [07:49<00:03,  2.66it/s]"
          ]
        },
        {
          "output_type": "stream",
          "name": "stdout",
          "text": [
            "Train Epoch: 1190\tLoss: 2482.453613\n"
          ]
        },
        {
          "output_type": "stream",
          "name": "stderr",
          "text": [
            "100%|\u001b[32m██████████\u001b[0m| 1200/1200 [07:52<00:00,  2.54it/s]\n"
          ]
        }
      ],
      "source": [
        "sum_train = img_train+txt_train\n",
        "sum_test = img_test+txt_test\n",
        "Net, loss_list = Trainer(gMLP_decision(), sum_train, 1200, 800, 1000)\n",
        "Net.eval()\n",
        "with torch.autograd.no_grad():\n",
        "    final = Net(sum_test)"
      ]
    },
    {
      "cell_type": "code",
      "execution_count": 56,
      "metadata": {
        "execution": {
          "iopub.execute_input": "2023-05-01T06:45:31.806624Z",
          "iopub.status.busy": "2023-05-01T06:45:31.805902Z",
          "iopub.status.idle": "2023-05-01T06:45:39.761943Z",
          "shell.execute_reply": "2023-05-01T06:45:39.760925Z",
          "shell.execute_reply.started": "2023-05-01T06:45:31.806584Z"
        },
        "colab": {
          "base_uri": "https://localhost:8080/"
        },
        "id": "2BpeM3Vig_-y",
        "outputId": "0a5ce814-d867-4911-981c-db21294a4758"
      },
      "outputs": [
        {
          "output_type": "stream",
          "name": "stderr",
          "text": [
            "\u001b[1;30;43mStreaming output truncated to the last 5000 lines.\u001b[0m\n",
            "<ipython-input-56-108931f1cf20>:23: FutureWarning: The frame.append method is deprecated and will be removed from pandas in a future version. Use pandas.concat instead.\n",
            "  df = df.append(df_temp, ignore_index = True)\n",
            "<ipython-input-56-108931f1cf20>:23: FutureWarning: The frame.append method is deprecated and will be removed from pandas in a future version. Use pandas.concat instead.\n",
            "  df = df.append(df_temp, ignore_index = True)\n",
            "<ipython-input-56-108931f1cf20>:23: FutureWarning: The frame.append method is deprecated and will be removed from pandas in a future version. Use pandas.concat instead.\n",
            "  df = df.append(df_temp, ignore_index = True)\n",
            "<ipython-input-56-108931f1cf20>:23: FutureWarning: The frame.append method is deprecated and will be removed from pandas in a future version. Use pandas.concat instead.\n",
            "  df = df.append(df_temp, ignore_index = True)\n",
            "<ipython-input-56-108931f1cf20>:23: FutureWarning: The frame.append method is deprecated and will be removed from pandas in a future version. Use pandas.concat instead.\n",
            "  df = df.append(df_temp, ignore_index = True)\n",
            "<ipython-input-56-108931f1cf20>:23: FutureWarning: The frame.append method is deprecated and will be removed from pandas in a future version. Use pandas.concat instead.\n",
            "  df = df.append(df_temp, ignore_index = True)\n",
            "<ipython-input-56-108931f1cf20>:23: FutureWarning: The frame.append method is deprecated and will be removed from pandas in a future version. Use pandas.concat instead.\n",
            "  df = df.append(df_temp, ignore_index = True)\n",
            "<ipython-input-56-108931f1cf20>:23: FutureWarning: The frame.append method is deprecated and will be removed from pandas in a future version. Use pandas.concat instead.\n",
            "  df = df.append(df_temp, ignore_index = True)\n",
            "<ipython-input-56-108931f1cf20>:23: FutureWarning: The frame.append method is deprecated and will be removed from pandas in a future version. Use pandas.concat instead.\n",
            "  df = df.append(df_temp, ignore_index = True)\n",
            "<ipython-input-56-108931f1cf20>:23: FutureWarning: The frame.append method is deprecated and will be removed from pandas in a future version. Use pandas.concat instead.\n",
            "  df = df.append(df_temp, ignore_index = True)\n",
            "<ipython-input-56-108931f1cf20>:23: FutureWarning: The frame.append method is deprecated and will be removed from pandas in a future version. Use pandas.concat instead.\n",
            "  df = df.append(df_temp, ignore_index = True)\n",
            "<ipython-input-56-108931f1cf20>:23: FutureWarning: The frame.append method is deprecated and will be removed from pandas in a future version. Use pandas.concat instead.\n",
            "  df = df.append(df_temp, ignore_index = True)\n",
            "<ipython-input-56-108931f1cf20>:23: FutureWarning: The frame.append method is deprecated and will be removed from pandas in a future version. Use pandas.concat instead.\n",
            "  df = df.append(df_temp, ignore_index = True)\n",
            "<ipython-input-56-108931f1cf20>:23: FutureWarning: The frame.append method is deprecated and will be removed from pandas in a future version. Use pandas.concat instead.\n",
            "  df = df.append(df_temp, ignore_index = True)\n",
            "<ipython-input-56-108931f1cf20>:23: FutureWarning: The frame.append method is deprecated and will be removed from pandas in a future version. Use pandas.concat instead.\n",
            "  df = df.append(df_temp, ignore_index = True)\n",
            "<ipython-input-56-108931f1cf20>:23: FutureWarning: The frame.append method is deprecated and will be removed from pandas in a future version. Use pandas.concat instead.\n",
            "  df = df.append(df_temp, ignore_index = True)\n",
            "<ipython-input-56-108931f1cf20>:23: FutureWarning: The frame.append method is deprecated and will be removed from pandas in a future version. Use pandas.concat instead.\n",
            "  df = df.append(df_temp, ignore_index = True)\n",
            "<ipython-input-56-108931f1cf20>:23: FutureWarning: The frame.append method is deprecated and will be removed from pandas in a future version. Use pandas.concat instead.\n",
            "  df = df.append(df_temp, ignore_index = True)\n",
            "<ipython-input-56-108931f1cf20>:23: FutureWarning: The frame.append method is deprecated and will be removed from pandas in a future version. Use pandas.concat instead.\n",
            "  df = df.append(df_temp, ignore_index = True)\n",
            "<ipython-input-56-108931f1cf20>:23: FutureWarning: The frame.append method is deprecated and will be removed from pandas in a future version. Use pandas.concat instead.\n",
            "  df = df.append(df_temp, ignore_index = True)\n",
            "<ipython-input-56-108931f1cf20>:23: FutureWarning: The frame.append method is deprecated and will be removed from pandas in a future version. Use pandas.concat instead.\n",
            "  df = df.append(df_temp, ignore_index = True)\n",
            "<ipython-input-56-108931f1cf20>:23: FutureWarning: The frame.append method is deprecated and will be removed from pandas in a future version. Use pandas.concat instead.\n",
            "  df = df.append(df_temp, ignore_index = True)\n",
            "<ipython-input-56-108931f1cf20>:23: FutureWarning: The frame.append method is deprecated and will be removed from pandas in a future version. Use pandas.concat instead.\n",
            "  df = df.append(df_temp, ignore_index = True)\n",
            "<ipython-input-56-108931f1cf20>:23: FutureWarning: The frame.append method is deprecated and will be removed from pandas in a future version. Use pandas.concat instead.\n",
            "  df = df.append(df_temp, ignore_index = True)\n",
            "<ipython-input-56-108931f1cf20>:23: FutureWarning: The frame.append method is deprecated and will be removed from pandas in a future version. Use pandas.concat instead.\n",
            "  df = df.append(df_temp, ignore_index = True)\n",
            "<ipython-input-56-108931f1cf20>:23: FutureWarning: The frame.append method is deprecated and will be removed from pandas in a future version. Use pandas.concat instead.\n",
            "  df = df.append(df_temp, ignore_index = True)\n",
            "<ipython-input-56-108931f1cf20>:23: FutureWarning: The frame.append method is deprecated and will be removed from pandas in a future version. Use pandas.concat instead.\n",
            "  df = df.append(df_temp, ignore_index = True)\n",
            "<ipython-input-56-108931f1cf20>:23: FutureWarning: The frame.append method is deprecated and will be removed from pandas in a future version. Use pandas.concat instead.\n",
            "  df = df.append(df_temp, ignore_index = True)\n",
            "<ipython-input-56-108931f1cf20>:23: FutureWarning: The frame.append method is deprecated and will be removed from pandas in a future version. Use pandas.concat instead.\n",
            "  df = df.append(df_temp, ignore_index = True)\n",
            "<ipython-input-56-108931f1cf20>:23: FutureWarning: The frame.append method is deprecated and will be removed from pandas in a future version. Use pandas.concat instead.\n",
            "  df = df.append(df_temp, ignore_index = True)\n",
            "<ipython-input-56-108931f1cf20>:23: FutureWarning: The frame.append method is deprecated and will be removed from pandas in a future version. Use pandas.concat instead.\n",
            "  df = df.append(df_temp, ignore_index = True)\n",
            "<ipython-input-56-108931f1cf20>:23: FutureWarning: The frame.append method is deprecated and will be removed from pandas in a future version. Use pandas.concat instead.\n",
            "  df = df.append(df_temp, ignore_index = True)\n",
            "<ipython-input-56-108931f1cf20>:23: FutureWarning: The frame.append method is deprecated and will be removed from pandas in a future version. Use pandas.concat instead.\n",
            "  df = df.append(df_temp, ignore_index = True)\n",
            "<ipython-input-56-108931f1cf20>:23: FutureWarning: The frame.append method is deprecated and will be removed from pandas in a future version. Use pandas.concat instead.\n",
            "  df = df.append(df_temp, ignore_index = True)\n",
            "<ipython-input-56-108931f1cf20>:23: FutureWarning: The frame.append method is deprecated and will be removed from pandas in a future version. Use pandas.concat instead.\n",
            "  df = df.append(df_temp, ignore_index = True)\n",
            "<ipython-input-56-108931f1cf20>:23: FutureWarning: The frame.append method is deprecated and will be removed from pandas in a future version. Use pandas.concat instead.\n",
            "  df = df.append(df_temp, ignore_index = True)\n",
            "<ipython-input-56-108931f1cf20>:23: FutureWarning: The frame.append method is deprecated and will be removed from pandas in a future version. Use pandas.concat instead.\n",
            "  df = df.append(df_temp, ignore_index = True)\n",
            "<ipython-input-56-108931f1cf20>:23: FutureWarning: The frame.append method is deprecated and will be removed from pandas in a future version. Use pandas.concat instead.\n",
            "  df = df.append(df_temp, ignore_index = True)\n",
            "<ipython-input-56-108931f1cf20>:23: FutureWarning: The frame.append method is deprecated and will be removed from pandas in a future version. Use pandas.concat instead.\n",
            "  df = df.append(df_temp, ignore_index = True)\n",
            "<ipython-input-56-108931f1cf20>:23: FutureWarning: The frame.append method is deprecated and will be removed from pandas in a future version. Use pandas.concat instead.\n",
            "  df = df.append(df_temp, ignore_index = True)\n",
            "<ipython-input-56-108931f1cf20>:23: FutureWarning: The frame.append method is deprecated and will be removed from pandas in a future version. Use pandas.concat instead.\n",
            "  df = df.append(df_temp, ignore_index = True)\n",
            "<ipython-input-56-108931f1cf20>:23: FutureWarning: The frame.append method is deprecated and will be removed from pandas in a future version. Use pandas.concat instead.\n",
            "  df = df.append(df_temp, ignore_index = True)\n",
            "<ipython-input-56-108931f1cf20>:23: FutureWarning: The frame.append method is deprecated and will be removed from pandas in a future version. Use pandas.concat instead.\n",
            "  df = df.append(df_temp, ignore_index = True)\n",
            "<ipython-input-56-108931f1cf20>:23: FutureWarning: The frame.append method is deprecated and will be removed from pandas in a future version. Use pandas.concat instead.\n",
            "  df = df.append(df_temp, ignore_index = True)\n",
            "<ipython-input-56-108931f1cf20>:23: FutureWarning: The frame.append method is deprecated and will be removed from pandas in a future version. Use pandas.concat instead.\n",
            "  df = df.append(df_temp, ignore_index = True)\n",
            "<ipython-input-56-108931f1cf20>:23: FutureWarning: The frame.append method is deprecated and will be removed from pandas in a future version. Use pandas.concat instead.\n",
            "  df = df.append(df_temp, ignore_index = True)\n",
            "<ipython-input-56-108931f1cf20>:23: FutureWarning: The frame.append method is deprecated and will be removed from pandas in a future version. Use pandas.concat instead.\n",
            "  df = df.append(df_temp, ignore_index = True)\n",
            "<ipython-input-56-108931f1cf20>:23: FutureWarning: The frame.append method is deprecated and will be removed from pandas in a future version. Use pandas.concat instead.\n",
            "  df = df.append(df_temp, ignore_index = True)\n",
            "<ipython-input-56-108931f1cf20>:23: FutureWarning: The frame.append method is deprecated and will be removed from pandas in a future version. Use pandas.concat instead.\n",
            "  df = df.append(df_temp, ignore_index = True)\n",
            "<ipython-input-56-108931f1cf20>:23: FutureWarning: The frame.append method is deprecated and will be removed from pandas in a future version. Use pandas.concat instead.\n",
            "  df = df.append(df_temp, ignore_index = True)\n",
            "<ipython-input-56-108931f1cf20>:23: FutureWarning: The frame.append method is deprecated and will be removed from pandas in a future version. Use pandas.concat instead.\n",
            "  df = df.append(df_temp, ignore_index = True)\n",
            "<ipython-input-56-108931f1cf20>:23: FutureWarning: The frame.append method is deprecated and will be removed from pandas in a future version. Use pandas.concat instead.\n",
            "  df = df.append(df_temp, ignore_index = True)\n",
            "<ipython-input-56-108931f1cf20>:23: FutureWarning: The frame.append method is deprecated and will be removed from pandas in a future version. Use pandas.concat instead.\n",
            "  df = df.append(df_temp, ignore_index = True)\n",
            "<ipython-input-56-108931f1cf20>:23: FutureWarning: The frame.append method is deprecated and will be removed from pandas in a future version. Use pandas.concat instead.\n",
            "  df = df.append(df_temp, ignore_index = True)\n",
            "<ipython-input-56-108931f1cf20>:23: FutureWarning: The frame.append method is deprecated and will be removed from pandas in a future version. Use pandas.concat instead.\n",
            "  df = df.append(df_temp, ignore_index = True)\n",
            "<ipython-input-56-108931f1cf20>:23: FutureWarning: The frame.append method is deprecated and will be removed from pandas in a future version. Use pandas.concat instead.\n",
            "  df = df.append(df_temp, ignore_index = True)\n",
            "<ipython-input-56-108931f1cf20>:23: FutureWarning: The frame.append method is deprecated and will be removed from pandas in a future version. Use pandas.concat instead.\n",
            "  df = df.append(df_temp, ignore_index = True)\n",
            "<ipython-input-56-108931f1cf20>:23: FutureWarning: The frame.append method is deprecated and will be removed from pandas in a future version. Use pandas.concat instead.\n",
            "  df = df.append(df_temp, ignore_index = True)\n",
            "<ipython-input-56-108931f1cf20>:23: FutureWarning: The frame.append method is deprecated and will be removed from pandas in a future version. Use pandas.concat instead.\n",
            "  df = df.append(df_temp, ignore_index = True)\n",
            "<ipython-input-56-108931f1cf20>:23: FutureWarning: The frame.append method is deprecated and will be removed from pandas in a future version. Use pandas.concat instead.\n",
            "  df = df.append(df_temp, ignore_index = True)\n",
            "<ipython-input-56-108931f1cf20>:23: FutureWarning: The frame.append method is deprecated and will be removed from pandas in a future version. Use pandas.concat instead.\n",
            "  df = df.append(df_temp, ignore_index = True)\n",
            "<ipython-input-56-108931f1cf20>:23: FutureWarning: The frame.append method is deprecated and will be removed from pandas in a future version. Use pandas.concat instead.\n",
            "  df = df.append(df_temp, ignore_index = True)\n",
            "<ipython-input-56-108931f1cf20>:23: FutureWarning: The frame.append method is deprecated and will be removed from pandas in a future version. Use pandas.concat instead.\n",
            "  df = df.append(df_temp, ignore_index = True)\n",
            "<ipython-input-56-108931f1cf20>:23: FutureWarning: The frame.append method is deprecated and will be removed from pandas in a future version. Use pandas.concat instead.\n",
            "  df = df.append(df_temp, ignore_index = True)\n",
            "<ipython-input-56-108931f1cf20>:23: FutureWarning: The frame.append method is deprecated and will be removed from pandas in a future version. Use pandas.concat instead.\n",
            "  df = df.append(df_temp, ignore_index = True)\n",
            "<ipython-input-56-108931f1cf20>:23: FutureWarning: The frame.append method is deprecated and will be removed from pandas in a future version. Use pandas.concat instead.\n",
            "  df = df.append(df_temp, ignore_index = True)\n",
            "<ipython-input-56-108931f1cf20>:23: FutureWarning: The frame.append method is deprecated and will be removed from pandas in a future version. Use pandas.concat instead.\n",
            "  df = df.append(df_temp, ignore_index = True)\n",
            "<ipython-input-56-108931f1cf20>:23: FutureWarning: The frame.append method is deprecated and will be removed from pandas in a future version. Use pandas.concat instead.\n",
            "  df = df.append(df_temp, ignore_index = True)\n",
            "<ipython-input-56-108931f1cf20>:23: FutureWarning: The frame.append method is deprecated and will be removed from pandas in a future version. Use pandas.concat instead.\n",
            "  df = df.append(df_temp, ignore_index = True)\n",
            "<ipython-input-56-108931f1cf20>:23: FutureWarning: The frame.append method is deprecated and will be removed from pandas in a future version. Use pandas.concat instead.\n",
            "  df = df.append(df_temp, ignore_index = True)\n",
            "<ipython-input-56-108931f1cf20>:23: FutureWarning: The frame.append method is deprecated and will be removed from pandas in a future version. Use pandas.concat instead.\n",
            "  df = df.append(df_temp, ignore_index = True)\n",
            "<ipython-input-56-108931f1cf20>:23: FutureWarning: The frame.append method is deprecated and will be removed from pandas in a future version. Use pandas.concat instead.\n",
            "  df = df.append(df_temp, ignore_index = True)\n",
            "<ipython-input-56-108931f1cf20>:23: FutureWarning: The frame.append method is deprecated and will be removed from pandas in a future version. Use pandas.concat instead.\n",
            "  df = df.append(df_temp, ignore_index = True)\n",
            "<ipython-input-56-108931f1cf20>:23: FutureWarning: The frame.append method is deprecated and will be removed from pandas in a future version. Use pandas.concat instead.\n",
            "  df = df.append(df_temp, ignore_index = True)\n",
            "<ipython-input-56-108931f1cf20>:23: FutureWarning: The frame.append method is deprecated and will be removed from pandas in a future version. Use pandas.concat instead.\n",
            "  df = df.append(df_temp, ignore_index = True)\n",
            "<ipython-input-56-108931f1cf20>:23: FutureWarning: The frame.append method is deprecated and will be removed from pandas in a future version. Use pandas.concat instead.\n",
            "  df = df.append(df_temp, ignore_index = True)\n",
            "<ipython-input-56-108931f1cf20>:23: FutureWarning: The frame.append method is deprecated and will be removed from pandas in a future version. Use pandas.concat instead.\n",
            "  df = df.append(df_temp, ignore_index = True)\n",
            "<ipython-input-56-108931f1cf20>:23: FutureWarning: The frame.append method is deprecated and will be removed from pandas in a future version. Use pandas.concat instead.\n",
            "  df = df.append(df_temp, ignore_index = True)\n",
            "<ipython-input-56-108931f1cf20>:23: FutureWarning: The frame.append method is deprecated and will be removed from pandas in a future version. Use pandas.concat instead.\n",
            "  df = df.append(df_temp, ignore_index = True)\n",
            "<ipython-input-56-108931f1cf20>:23: FutureWarning: The frame.append method is deprecated and will be removed from pandas in a future version. Use pandas.concat instead.\n",
            "  df = df.append(df_temp, ignore_index = True)\n",
            "<ipython-input-56-108931f1cf20>:23: FutureWarning: The frame.append method is deprecated and will be removed from pandas in a future version. Use pandas.concat instead.\n",
            "  df = df.append(df_temp, ignore_index = True)\n",
            "<ipython-input-56-108931f1cf20>:23: FutureWarning: The frame.append method is deprecated and will be removed from pandas in a future version. Use pandas.concat instead.\n",
            "  df = df.append(df_temp, ignore_index = True)\n",
            "<ipython-input-56-108931f1cf20>:23: FutureWarning: The frame.append method is deprecated and will be removed from pandas in a future version. Use pandas.concat instead.\n",
            "  df = df.append(df_temp, ignore_index = True)\n",
            "<ipython-input-56-108931f1cf20>:23: FutureWarning: The frame.append method is deprecated and will be removed from pandas in a future version. Use pandas.concat instead.\n",
            "  df = df.append(df_temp, ignore_index = True)\n",
            "<ipython-input-56-108931f1cf20>:23: FutureWarning: The frame.append method is deprecated and will be removed from pandas in a future version. Use pandas.concat instead.\n",
            "  df = df.append(df_temp, ignore_index = True)\n",
            "<ipython-input-56-108931f1cf20>:23: FutureWarning: The frame.append method is deprecated and will be removed from pandas in a future version. Use pandas.concat instead.\n",
            "  df = df.append(df_temp, ignore_index = True)\n",
            "<ipython-input-56-108931f1cf20>:23: FutureWarning: The frame.append method is deprecated and will be removed from pandas in a future version. Use pandas.concat instead.\n",
            "  df = df.append(df_temp, ignore_index = True)\n",
            "<ipython-input-56-108931f1cf20>:23: FutureWarning: The frame.append method is deprecated and will be removed from pandas in a future version. Use pandas.concat instead.\n",
            "  df = df.append(df_temp, ignore_index = True)\n",
            "<ipython-input-56-108931f1cf20>:23: FutureWarning: The frame.append method is deprecated and will be removed from pandas in a future version. Use pandas.concat instead.\n",
            "  df = df.append(df_temp, ignore_index = True)\n",
            "<ipython-input-56-108931f1cf20>:23: FutureWarning: The frame.append method is deprecated and will be removed from pandas in a future version. Use pandas.concat instead.\n",
            "  df = df.append(df_temp, ignore_index = True)\n",
            "<ipython-input-56-108931f1cf20>:23: FutureWarning: The frame.append method is deprecated and will be removed from pandas in a future version. Use pandas.concat instead.\n",
            "  df = df.append(df_temp, ignore_index = True)\n",
            "<ipython-input-56-108931f1cf20>:23: FutureWarning: The frame.append method is deprecated and will be removed from pandas in a future version. Use pandas.concat instead.\n",
            "  df = df.append(df_temp, ignore_index = True)\n",
            "<ipython-input-56-108931f1cf20>:23: FutureWarning: The frame.append method is deprecated and will be removed from pandas in a future version. Use pandas.concat instead.\n",
            "  df = df.append(df_temp, ignore_index = True)\n",
            "<ipython-input-56-108931f1cf20>:23: FutureWarning: The frame.append method is deprecated and will be removed from pandas in a future version. Use pandas.concat instead.\n",
            "  df = df.append(df_temp, ignore_index = True)\n",
            "<ipython-input-56-108931f1cf20>:23: FutureWarning: The frame.append method is deprecated and will be removed from pandas in a future version. Use pandas.concat instead.\n",
            "  df = df.append(df_temp, ignore_index = True)\n",
            "<ipython-input-56-108931f1cf20>:23: FutureWarning: The frame.append method is deprecated and will be removed from pandas in a future version. Use pandas.concat instead.\n",
            "  df = df.append(df_temp, ignore_index = True)\n",
            "<ipython-input-56-108931f1cf20>:23: FutureWarning: The frame.append method is deprecated and will be removed from pandas in a future version. Use pandas.concat instead.\n",
            "  df = df.append(df_temp, ignore_index = True)\n",
            "<ipython-input-56-108931f1cf20>:23: FutureWarning: The frame.append method is deprecated and will be removed from pandas in a future version. Use pandas.concat instead.\n",
            "  df = df.append(df_temp, ignore_index = True)\n",
            "<ipython-input-56-108931f1cf20>:23: FutureWarning: The frame.append method is deprecated and will be removed from pandas in a future version. Use pandas.concat instead.\n",
            "  df = df.append(df_temp, ignore_index = True)\n",
            "<ipython-input-56-108931f1cf20>:23: FutureWarning: The frame.append method is deprecated and will be removed from pandas in a future version. Use pandas.concat instead.\n",
            "  df = df.append(df_temp, ignore_index = True)\n",
            "<ipython-input-56-108931f1cf20>:23: FutureWarning: The frame.append method is deprecated and will be removed from pandas in a future version. Use pandas.concat instead.\n",
            "  df = df.append(df_temp, ignore_index = True)\n",
            "<ipython-input-56-108931f1cf20>:23: FutureWarning: The frame.append method is deprecated and will be removed from pandas in a future version. Use pandas.concat instead.\n",
            "  df = df.append(df_temp, ignore_index = True)\n",
            "<ipython-input-56-108931f1cf20>:23: FutureWarning: The frame.append method is deprecated and will be removed from pandas in a future version. Use pandas.concat instead.\n",
            "  df = df.append(df_temp, ignore_index = True)\n",
            "<ipython-input-56-108931f1cf20>:23: FutureWarning: The frame.append method is deprecated and will be removed from pandas in a future version. Use pandas.concat instead.\n",
            "  df = df.append(df_temp, ignore_index = True)\n",
            "<ipython-input-56-108931f1cf20>:23: FutureWarning: The frame.append method is deprecated and will be removed from pandas in a future version. Use pandas.concat instead.\n",
            "  df = df.append(df_temp, ignore_index = True)\n",
            "<ipython-input-56-108931f1cf20>:23: FutureWarning: The frame.append method is deprecated and will be removed from pandas in a future version. Use pandas.concat instead.\n",
            "  df = df.append(df_temp, ignore_index = True)\n",
            "<ipython-input-56-108931f1cf20>:23: FutureWarning: The frame.append method is deprecated and will be removed from pandas in a future version. Use pandas.concat instead.\n",
            "  df = df.append(df_temp, ignore_index = True)\n",
            "<ipython-input-56-108931f1cf20>:23: FutureWarning: The frame.append method is deprecated and will be removed from pandas in a future version. Use pandas.concat instead.\n",
            "  df = df.append(df_temp, ignore_index = True)\n",
            "<ipython-input-56-108931f1cf20>:23: FutureWarning: The frame.append method is deprecated and will be removed from pandas in a future version. Use pandas.concat instead.\n",
            "  df = df.append(df_temp, ignore_index = True)\n",
            "<ipython-input-56-108931f1cf20>:23: FutureWarning: The frame.append method is deprecated and will be removed from pandas in a future version. Use pandas.concat instead.\n",
            "  df = df.append(df_temp, ignore_index = True)\n",
            "<ipython-input-56-108931f1cf20>:23: FutureWarning: The frame.append method is deprecated and will be removed from pandas in a future version. Use pandas.concat instead.\n",
            "  df = df.append(df_temp, ignore_index = True)\n",
            "<ipython-input-56-108931f1cf20>:23: FutureWarning: The frame.append method is deprecated and will be removed from pandas in a future version. Use pandas.concat instead.\n",
            "  df = df.append(df_temp, ignore_index = True)\n",
            "<ipython-input-56-108931f1cf20>:23: FutureWarning: The frame.append method is deprecated and will be removed from pandas in a future version. Use pandas.concat instead.\n",
            "  df = df.append(df_temp, ignore_index = True)\n",
            "<ipython-input-56-108931f1cf20>:23: FutureWarning: The frame.append method is deprecated and will be removed from pandas in a future version. Use pandas.concat instead.\n",
            "  df = df.append(df_temp, ignore_index = True)\n",
            "<ipython-input-56-108931f1cf20>:23: FutureWarning: The frame.append method is deprecated and will be removed from pandas in a future version. Use pandas.concat instead.\n",
            "  df = df.append(df_temp, ignore_index = True)\n",
            "<ipython-input-56-108931f1cf20>:23: FutureWarning: The frame.append method is deprecated and will be removed from pandas in a future version. Use pandas.concat instead.\n",
            "  df = df.append(df_temp, ignore_index = True)\n",
            "<ipython-input-56-108931f1cf20>:23: FutureWarning: The frame.append method is deprecated and will be removed from pandas in a future version. Use pandas.concat instead.\n",
            "  df = df.append(df_temp, ignore_index = True)\n",
            "<ipython-input-56-108931f1cf20>:23: FutureWarning: The frame.append method is deprecated and will be removed from pandas in a future version. Use pandas.concat instead.\n",
            "  df = df.append(df_temp, ignore_index = True)\n",
            "<ipython-input-56-108931f1cf20>:23: FutureWarning: The frame.append method is deprecated and will be removed from pandas in a future version. Use pandas.concat instead.\n",
            "  df = df.append(df_temp, ignore_index = True)\n",
            "<ipython-input-56-108931f1cf20>:23: FutureWarning: The frame.append method is deprecated and will be removed from pandas in a future version. Use pandas.concat instead.\n",
            "  df = df.append(df_temp, ignore_index = True)\n",
            "<ipython-input-56-108931f1cf20>:23: FutureWarning: The frame.append method is deprecated and will be removed from pandas in a future version. Use pandas.concat instead.\n",
            "  df = df.append(df_temp, ignore_index = True)\n",
            "<ipython-input-56-108931f1cf20>:23: FutureWarning: The frame.append method is deprecated and will be removed from pandas in a future version. Use pandas.concat instead.\n",
            "  df = df.append(df_temp, ignore_index = True)\n",
            "<ipython-input-56-108931f1cf20>:23: FutureWarning: The frame.append method is deprecated and will be removed from pandas in a future version. Use pandas.concat instead.\n",
            "  df = df.append(df_temp, ignore_index = True)\n",
            "<ipython-input-56-108931f1cf20>:23: FutureWarning: The frame.append method is deprecated and will be removed from pandas in a future version. Use pandas.concat instead.\n",
            "  df = df.append(df_temp, ignore_index = True)\n",
            "<ipython-input-56-108931f1cf20>:23: FutureWarning: The frame.append method is deprecated and will be removed from pandas in a future version. Use pandas.concat instead.\n",
            "  df = df.append(df_temp, ignore_index = True)\n",
            "<ipython-input-56-108931f1cf20>:23: FutureWarning: The frame.append method is deprecated and will be removed from pandas in a future version. Use pandas.concat instead.\n",
            "  df = df.append(df_temp, ignore_index = True)\n",
            "<ipython-input-56-108931f1cf20>:23: FutureWarning: The frame.append method is deprecated and will be removed from pandas in a future version. Use pandas.concat instead.\n",
            "  df = df.append(df_temp, ignore_index = True)\n",
            "<ipython-input-56-108931f1cf20>:23: FutureWarning: The frame.append method is deprecated and will be removed from pandas in a future version. Use pandas.concat instead.\n",
            "  df = df.append(df_temp, ignore_index = True)\n",
            "<ipython-input-56-108931f1cf20>:23: FutureWarning: The frame.append method is deprecated and will be removed from pandas in a future version. Use pandas.concat instead.\n",
            "  df = df.append(df_temp, ignore_index = True)\n",
            "<ipython-input-56-108931f1cf20>:23: FutureWarning: The frame.append method is deprecated and will be removed from pandas in a future version. Use pandas.concat instead.\n",
            "  df = df.append(df_temp, ignore_index = True)\n",
            "<ipython-input-56-108931f1cf20>:23: FutureWarning: The frame.append method is deprecated and will be removed from pandas in a future version. Use pandas.concat instead.\n",
            "  df = df.append(df_temp, ignore_index = True)\n",
            "<ipython-input-56-108931f1cf20>:23: FutureWarning: The frame.append method is deprecated and will be removed from pandas in a future version. Use pandas.concat instead.\n",
            "  df = df.append(df_temp, ignore_index = True)\n",
            "<ipython-input-56-108931f1cf20>:23: FutureWarning: The frame.append method is deprecated and will be removed from pandas in a future version. Use pandas.concat instead.\n",
            "  df = df.append(df_temp, ignore_index = True)\n",
            "<ipython-input-56-108931f1cf20>:23: FutureWarning: The frame.append method is deprecated and will be removed from pandas in a future version. Use pandas.concat instead.\n",
            "  df = df.append(df_temp, ignore_index = True)\n",
            "<ipython-input-56-108931f1cf20>:23: FutureWarning: The frame.append method is deprecated and will be removed from pandas in a future version. Use pandas.concat instead.\n",
            "  df = df.append(df_temp, ignore_index = True)\n",
            "<ipython-input-56-108931f1cf20>:23: FutureWarning: The frame.append method is deprecated and will be removed from pandas in a future version. Use pandas.concat instead.\n",
            "  df = df.append(df_temp, ignore_index = True)\n",
            "<ipython-input-56-108931f1cf20>:23: FutureWarning: The frame.append method is deprecated and will be removed from pandas in a future version. Use pandas.concat instead.\n",
            "  df = df.append(df_temp, ignore_index = True)\n",
            "<ipython-input-56-108931f1cf20>:23: FutureWarning: The frame.append method is deprecated and will be removed from pandas in a future version. Use pandas.concat instead.\n",
            "  df = df.append(df_temp, ignore_index = True)\n",
            "<ipython-input-56-108931f1cf20>:23: FutureWarning: The frame.append method is deprecated and will be removed from pandas in a future version. Use pandas.concat instead.\n",
            "  df = df.append(df_temp, ignore_index = True)\n",
            "<ipython-input-56-108931f1cf20>:23: FutureWarning: The frame.append method is deprecated and will be removed from pandas in a future version. Use pandas.concat instead.\n",
            "  df = df.append(df_temp, ignore_index = True)\n",
            "<ipython-input-56-108931f1cf20>:23: FutureWarning: The frame.append method is deprecated and will be removed from pandas in a future version. Use pandas.concat instead.\n",
            "  df = df.append(df_temp, ignore_index = True)\n",
            "<ipython-input-56-108931f1cf20>:23: FutureWarning: The frame.append method is deprecated and will be removed from pandas in a future version. Use pandas.concat instead.\n",
            "  df = df.append(df_temp, ignore_index = True)\n",
            "<ipython-input-56-108931f1cf20>:23: FutureWarning: The frame.append method is deprecated and will be removed from pandas in a future version. Use pandas.concat instead.\n",
            "  df = df.append(df_temp, ignore_index = True)\n",
            "<ipython-input-56-108931f1cf20>:23: FutureWarning: The frame.append method is deprecated and will be removed from pandas in a future version. Use pandas.concat instead.\n",
            "  df = df.append(df_temp, ignore_index = True)\n",
            "<ipython-input-56-108931f1cf20>:23: FutureWarning: The frame.append method is deprecated and will be removed from pandas in a future version. Use pandas.concat instead.\n",
            "  df = df.append(df_temp, ignore_index = True)\n",
            "<ipython-input-56-108931f1cf20>:23: FutureWarning: The frame.append method is deprecated and will be removed from pandas in a future version. Use pandas.concat instead.\n",
            "  df = df.append(df_temp, ignore_index = True)\n",
            "<ipython-input-56-108931f1cf20>:23: FutureWarning: The frame.append method is deprecated and will be removed from pandas in a future version. Use pandas.concat instead.\n",
            "  df = df.append(df_temp, ignore_index = True)\n",
            "<ipython-input-56-108931f1cf20>:23: FutureWarning: The frame.append method is deprecated and will be removed from pandas in a future version. Use pandas.concat instead.\n",
            "  df = df.append(df_temp, ignore_index = True)\n",
            "<ipython-input-56-108931f1cf20>:23: FutureWarning: The frame.append method is deprecated and will be removed from pandas in a future version. Use pandas.concat instead.\n",
            "  df = df.append(df_temp, ignore_index = True)\n",
            "<ipython-input-56-108931f1cf20>:23: FutureWarning: The frame.append method is deprecated and will be removed from pandas in a future version. Use pandas.concat instead.\n",
            "  df = df.append(df_temp, ignore_index = True)\n",
            "<ipython-input-56-108931f1cf20>:23: FutureWarning: The frame.append method is deprecated and will be removed from pandas in a future version. Use pandas.concat instead.\n",
            "  df = df.append(df_temp, ignore_index = True)\n",
            "<ipython-input-56-108931f1cf20>:23: FutureWarning: The frame.append method is deprecated and will be removed from pandas in a future version. Use pandas.concat instead.\n",
            "  df = df.append(df_temp, ignore_index = True)\n",
            "<ipython-input-56-108931f1cf20>:23: FutureWarning: The frame.append method is deprecated and will be removed from pandas in a future version. Use pandas.concat instead.\n",
            "  df = df.append(df_temp, ignore_index = True)\n",
            "<ipython-input-56-108931f1cf20>:23: FutureWarning: The frame.append method is deprecated and will be removed from pandas in a future version. Use pandas.concat instead.\n",
            "  df = df.append(df_temp, ignore_index = True)\n",
            "<ipython-input-56-108931f1cf20>:23: FutureWarning: The frame.append method is deprecated and will be removed from pandas in a future version. Use pandas.concat instead.\n",
            "  df = df.append(df_temp, ignore_index = True)\n",
            "<ipython-input-56-108931f1cf20>:23: FutureWarning: The frame.append method is deprecated and will be removed from pandas in a future version. Use pandas.concat instead.\n",
            "  df = df.append(df_temp, ignore_index = True)\n",
            "<ipython-input-56-108931f1cf20>:23: FutureWarning: The frame.append method is deprecated and will be removed from pandas in a future version. Use pandas.concat instead.\n",
            "  df = df.append(df_temp, ignore_index = True)\n",
            "<ipython-input-56-108931f1cf20>:23: FutureWarning: The frame.append method is deprecated and will be removed from pandas in a future version. Use pandas.concat instead.\n",
            "  df = df.append(df_temp, ignore_index = True)\n",
            "<ipython-input-56-108931f1cf20>:23: FutureWarning: The frame.append method is deprecated and will be removed from pandas in a future version. Use pandas.concat instead.\n",
            "  df = df.append(df_temp, ignore_index = True)\n",
            "<ipython-input-56-108931f1cf20>:23: FutureWarning: The frame.append method is deprecated and will be removed from pandas in a future version. Use pandas.concat instead.\n",
            "  df = df.append(df_temp, ignore_index = True)\n",
            "<ipython-input-56-108931f1cf20>:23: FutureWarning: The frame.append method is deprecated and will be removed from pandas in a future version. Use pandas.concat instead.\n",
            "  df = df.append(df_temp, ignore_index = True)\n",
            "<ipython-input-56-108931f1cf20>:23: FutureWarning: The frame.append method is deprecated and will be removed from pandas in a future version. Use pandas.concat instead.\n",
            "  df = df.append(df_temp, ignore_index = True)\n",
            "<ipython-input-56-108931f1cf20>:23: FutureWarning: The frame.append method is deprecated and will be removed from pandas in a future version. Use pandas.concat instead.\n",
            "  df = df.append(df_temp, ignore_index = True)\n",
            "<ipython-input-56-108931f1cf20>:23: FutureWarning: The frame.append method is deprecated and will be removed from pandas in a future version. Use pandas.concat instead.\n",
            "  df = df.append(df_temp, ignore_index = True)\n",
            "<ipython-input-56-108931f1cf20>:23: FutureWarning: The frame.append method is deprecated and will be removed from pandas in a future version. Use pandas.concat instead.\n",
            "  df = df.append(df_temp, ignore_index = True)\n",
            "<ipython-input-56-108931f1cf20>:23: FutureWarning: The frame.append method is deprecated and will be removed from pandas in a future version. Use pandas.concat instead.\n",
            "  df = df.append(df_temp, ignore_index = True)\n",
            "<ipython-input-56-108931f1cf20>:23: FutureWarning: The frame.append method is deprecated and will be removed from pandas in a future version. Use pandas.concat instead.\n",
            "  df = df.append(df_temp, ignore_index = True)\n",
            "<ipython-input-56-108931f1cf20>:23: FutureWarning: The frame.append method is deprecated and will be removed from pandas in a future version. Use pandas.concat instead.\n",
            "  df = df.append(df_temp, ignore_index = True)\n",
            "<ipython-input-56-108931f1cf20>:23: FutureWarning: The frame.append method is deprecated and will be removed from pandas in a future version. Use pandas.concat instead.\n",
            "  df = df.append(df_temp, ignore_index = True)\n",
            "<ipython-input-56-108931f1cf20>:23: FutureWarning: The frame.append method is deprecated and will be removed from pandas in a future version. Use pandas.concat instead.\n",
            "  df = df.append(df_temp, ignore_index = True)\n",
            "<ipython-input-56-108931f1cf20>:23: FutureWarning: The frame.append method is deprecated and will be removed from pandas in a future version. Use pandas.concat instead.\n",
            "  df = df.append(df_temp, ignore_index = True)\n",
            "<ipython-input-56-108931f1cf20>:23: FutureWarning: The frame.append method is deprecated and will be removed from pandas in a future version. Use pandas.concat instead.\n",
            "  df = df.append(df_temp, ignore_index = True)\n",
            "<ipython-input-56-108931f1cf20>:23: FutureWarning: The frame.append method is deprecated and will be removed from pandas in a future version. Use pandas.concat instead.\n",
            "  df = df.append(df_temp, ignore_index = True)\n",
            "<ipython-input-56-108931f1cf20>:23: FutureWarning: The frame.append method is deprecated and will be removed from pandas in a future version. Use pandas.concat instead.\n",
            "  df = df.append(df_temp, ignore_index = True)\n",
            "<ipython-input-56-108931f1cf20>:23: FutureWarning: The frame.append method is deprecated and will be removed from pandas in a future version. Use pandas.concat instead.\n",
            "  df = df.append(df_temp, ignore_index = True)\n",
            "<ipython-input-56-108931f1cf20>:23: FutureWarning: The frame.append method is deprecated and will be removed from pandas in a future version. Use pandas.concat instead.\n",
            "  df = df.append(df_temp, ignore_index = True)\n",
            "<ipython-input-56-108931f1cf20>:23: FutureWarning: The frame.append method is deprecated and will be removed from pandas in a future version. Use pandas.concat instead.\n",
            "  df = df.append(df_temp, ignore_index = True)\n",
            "<ipython-input-56-108931f1cf20>:23: FutureWarning: The frame.append method is deprecated and will be removed from pandas in a future version. Use pandas.concat instead.\n",
            "  df = df.append(df_temp, ignore_index = True)\n",
            "<ipython-input-56-108931f1cf20>:23: FutureWarning: The frame.append method is deprecated and will be removed from pandas in a future version. Use pandas.concat instead.\n",
            "  df = df.append(df_temp, ignore_index = True)\n",
            "<ipython-input-56-108931f1cf20>:23: FutureWarning: The frame.append method is deprecated and will be removed from pandas in a future version. Use pandas.concat instead.\n",
            "  df = df.append(df_temp, ignore_index = True)\n",
            "<ipython-input-56-108931f1cf20>:23: FutureWarning: The frame.append method is deprecated and will be removed from pandas in a future version. Use pandas.concat instead.\n",
            "  df = df.append(df_temp, ignore_index = True)\n",
            "<ipython-input-56-108931f1cf20>:23: FutureWarning: The frame.append method is deprecated and will be removed from pandas in a future version. Use pandas.concat instead.\n",
            "  df = df.append(df_temp, ignore_index = True)\n",
            "<ipython-input-56-108931f1cf20>:23: FutureWarning: The frame.append method is deprecated and will be removed from pandas in a future version. Use pandas.concat instead.\n",
            "  df = df.append(df_temp, ignore_index = True)\n",
            "<ipython-input-56-108931f1cf20>:23: FutureWarning: The frame.append method is deprecated and will be removed from pandas in a future version. Use pandas.concat instead.\n",
            "  df = df.append(df_temp, ignore_index = True)\n",
            "<ipython-input-56-108931f1cf20>:23: FutureWarning: The frame.append method is deprecated and will be removed from pandas in a future version. Use pandas.concat instead.\n",
            "  df = df.append(df_temp, ignore_index = True)\n",
            "<ipython-input-56-108931f1cf20>:23: FutureWarning: The frame.append method is deprecated and will be removed from pandas in a future version. Use pandas.concat instead.\n",
            "  df = df.append(df_temp, ignore_index = True)\n",
            "<ipython-input-56-108931f1cf20>:23: FutureWarning: The frame.append method is deprecated and will be removed from pandas in a future version. Use pandas.concat instead.\n",
            "  df = df.append(df_temp, ignore_index = True)\n",
            "<ipython-input-56-108931f1cf20>:23: FutureWarning: The frame.append method is deprecated and will be removed from pandas in a future version. Use pandas.concat instead.\n",
            "  df = df.append(df_temp, ignore_index = True)\n",
            "<ipython-input-56-108931f1cf20>:23: FutureWarning: The frame.append method is deprecated and will be removed from pandas in a future version. Use pandas.concat instead.\n",
            "  df = df.append(df_temp, ignore_index = True)\n",
            "<ipython-input-56-108931f1cf20>:23: FutureWarning: The frame.append method is deprecated and will be removed from pandas in a future version. Use pandas.concat instead.\n",
            "  df = df.append(df_temp, ignore_index = True)\n",
            "<ipython-input-56-108931f1cf20>:23: FutureWarning: The frame.append method is deprecated and will be removed from pandas in a future version. Use pandas.concat instead.\n",
            "  df = df.append(df_temp, ignore_index = True)\n",
            "<ipython-input-56-108931f1cf20>:23: FutureWarning: The frame.append method is deprecated and will be removed from pandas in a future version. Use pandas.concat instead.\n",
            "  df = df.append(df_temp, ignore_index = True)\n",
            "<ipython-input-56-108931f1cf20>:23: FutureWarning: The frame.append method is deprecated and will be removed from pandas in a future version. Use pandas.concat instead.\n",
            "  df = df.append(df_temp, ignore_index = True)\n",
            "<ipython-input-56-108931f1cf20>:23: FutureWarning: The frame.append method is deprecated and will be removed from pandas in a future version. Use pandas.concat instead.\n",
            "  df = df.append(df_temp, ignore_index = True)\n",
            "<ipython-input-56-108931f1cf20>:23: FutureWarning: The frame.append method is deprecated and will be removed from pandas in a future version. Use pandas.concat instead.\n",
            "  df = df.append(df_temp, ignore_index = True)\n",
            "<ipython-input-56-108931f1cf20>:23: FutureWarning: The frame.append method is deprecated and will be removed from pandas in a future version. Use pandas.concat instead.\n",
            "  df = df.append(df_temp, ignore_index = True)\n",
            "<ipython-input-56-108931f1cf20>:23: FutureWarning: The frame.append method is deprecated and will be removed from pandas in a future version. Use pandas.concat instead.\n",
            "  df = df.append(df_temp, ignore_index = True)\n",
            "<ipython-input-56-108931f1cf20>:23: FutureWarning: The frame.append method is deprecated and will be removed from pandas in a future version. Use pandas.concat instead.\n",
            "  df = df.append(df_temp, ignore_index = True)\n",
            "<ipython-input-56-108931f1cf20>:23: FutureWarning: The frame.append method is deprecated and will be removed from pandas in a future version. Use pandas.concat instead.\n",
            "  df = df.append(df_temp, ignore_index = True)\n",
            "<ipython-input-56-108931f1cf20>:23: FutureWarning: The frame.append method is deprecated and will be removed from pandas in a future version. Use pandas.concat instead.\n",
            "  df = df.append(df_temp, ignore_index = True)\n",
            "<ipython-input-56-108931f1cf20>:23: FutureWarning: The frame.append method is deprecated and will be removed from pandas in a future version. Use pandas.concat instead.\n",
            "  df = df.append(df_temp, ignore_index = True)\n",
            "<ipython-input-56-108931f1cf20>:23: FutureWarning: The frame.append method is deprecated and will be removed from pandas in a future version. Use pandas.concat instead.\n",
            "  df = df.append(df_temp, ignore_index = True)\n",
            "<ipython-input-56-108931f1cf20>:23: FutureWarning: The frame.append method is deprecated and will be removed from pandas in a future version. Use pandas.concat instead.\n",
            "  df = df.append(df_temp, ignore_index = True)\n",
            "<ipython-input-56-108931f1cf20>:23: FutureWarning: The frame.append method is deprecated and will be removed from pandas in a future version. Use pandas.concat instead.\n",
            "  df = df.append(df_temp, ignore_index = True)\n",
            "<ipython-input-56-108931f1cf20>:23: FutureWarning: The frame.append method is deprecated and will be removed from pandas in a future version. Use pandas.concat instead.\n",
            "  df = df.append(df_temp, ignore_index = True)\n",
            "<ipython-input-56-108931f1cf20>:23: FutureWarning: The frame.append method is deprecated and will be removed from pandas in a future version. Use pandas.concat instead.\n",
            "  df = df.append(df_temp, ignore_index = True)\n",
            "<ipython-input-56-108931f1cf20>:23: FutureWarning: The frame.append method is deprecated and will be removed from pandas in a future version. Use pandas.concat instead.\n",
            "  df = df.append(df_temp, ignore_index = True)\n",
            "<ipython-input-56-108931f1cf20>:23: FutureWarning: The frame.append method is deprecated and will be removed from pandas in a future version. Use pandas.concat instead.\n",
            "  df = df.append(df_temp, ignore_index = True)\n",
            "<ipython-input-56-108931f1cf20>:23: FutureWarning: The frame.append method is deprecated and will be removed from pandas in a future version. Use pandas.concat instead.\n",
            "  df = df.append(df_temp, ignore_index = True)\n",
            "<ipython-input-56-108931f1cf20>:23: FutureWarning: The frame.append method is deprecated and will be removed from pandas in a future version. Use pandas.concat instead.\n",
            "  df = df.append(df_temp, ignore_index = True)\n",
            "<ipython-input-56-108931f1cf20>:23: FutureWarning: The frame.append method is deprecated and will be removed from pandas in a future version. Use pandas.concat instead.\n",
            "  df = df.append(df_temp, ignore_index = True)\n",
            "<ipython-input-56-108931f1cf20>:23: FutureWarning: The frame.append method is deprecated and will be removed from pandas in a future version. Use pandas.concat instead.\n",
            "  df = df.append(df_temp, ignore_index = True)\n",
            "<ipython-input-56-108931f1cf20>:23: FutureWarning: The frame.append method is deprecated and will be removed from pandas in a future version. Use pandas.concat instead.\n",
            "  df = df.append(df_temp, ignore_index = True)\n",
            "<ipython-input-56-108931f1cf20>:23: FutureWarning: The frame.append method is deprecated and will be removed from pandas in a future version. Use pandas.concat instead.\n",
            "  df = df.append(df_temp, ignore_index = True)\n",
            "<ipython-input-56-108931f1cf20>:23: FutureWarning: The frame.append method is deprecated and will be removed from pandas in a future version. Use pandas.concat instead.\n",
            "  df = df.append(df_temp, ignore_index = True)\n",
            "<ipython-input-56-108931f1cf20>:23: FutureWarning: The frame.append method is deprecated and will be removed from pandas in a future version. Use pandas.concat instead.\n",
            "  df = df.append(df_temp, ignore_index = True)\n",
            "<ipython-input-56-108931f1cf20>:23: FutureWarning: The frame.append method is deprecated and will be removed from pandas in a future version. Use pandas.concat instead.\n",
            "  df = df.append(df_temp, ignore_index = True)\n",
            "<ipython-input-56-108931f1cf20>:23: FutureWarning: The frame.append method is deprecated and will be removed from pandas in a future version. Use pandas.concat instead.\n",
            "  df = df.append(df_temp, ignore_index = True)\n",
            "<ipython-input-56-108931f1cf20>:23: FutureWarning: The frame.append method is deprecated and will be removed from pandas in a future version. Use pandas.concat instead.\n",
            "  df = df.append(df_temp, ignore_index = True)\n",
            "<ipython-input-56-108931f1cf20>:23: FutureWarning: The frame.append method is deprecated and will be removed from pandas in a future version. Use pandas.concat instead.\n",
            "  df = df.append(df_temp, ignore_index = True)\n",
            "<ipython-input-56-108931f1cf20>:23: FutureWarning: The frame.append method is deprecated and will be removed from pandas in a future version. Use pandas.concat instead.\n",
            "  df = df.append(df_temp, ignore_index = True)\n",
            "<ipython-input-56-108931f1cf20>:23: FutureWarning: The frame.append method is deprecated and will be removed from pandas in a future version. Use pandas.concat instead.\n",
            "  df = df.append(df_temp, ignore_index = True)\n",
            "<ipython-input-56-108931f1cf20>:23: FutureWarning: The frame.append method is deprecated and will be removed from pandas in a future version. Use pandas.concat instead.\n",
            "  df = df.append(df_temp, ignore_index = True)\n",
            "<ipython-input-56-108931f1cf20>:23: FutureWarning: The frame.append method is deprecated and will be removed from pandas in a future version. Use pandas.concat instead.\n",
            "  df = df.append(df_temp, ignore_index = True)\n",
            "<ipython-input-56-108931f1cf20>:23: FutureWarning: The frame.append method is deprecated and will be removed from pandas in a future version. Use pandas.concat instead.\n",
            "  df = df.append(df_temp, ignore_index = True)\n",
            "<ipython-input-56-108931f1cf20>:23: FutureWarning: The frame.append method is deprecated and will be removed from pandas in a future version. Use pandas.concat instead.\n",
            "  df = df.append(df_temp, ignore_index = True)\n",
            "<ipython-input-56-108931f1cf20>:23: FutureWarning: The frame.append method is deprecated and will be removed from pandas in a future version. Use pandas.concat instead.\n",
            "  df = df.append(df_temp, ignore_index = True)\n",
            "<ipython-input-56-108931f1cf20>:23: FutureWarning: The frame.append method is deprecated and will be removed from pandas in a future version. Use pandas.concat instead.\n",
            "  df = df.append(df_temp, ignore_index = True)\n",
            "<ipython-input-56-108931f1cf20>:23: FutureWarning: The frame.append method is deprecated and will be removed from pandas in a future version. Use pandas.concat instead.\n",
            "  df = df.append(df_temp, ignore_index = True)\n",
            "<ipython-input-56-108931f1cf20>:23: FutureWarning: The frame.append method is deprecated and will be removed from pandas in a future version. Use pandas.concat instead.\n",
            "  df = df.append(df_temp, ignore_index = True)\n",
            "<ipython-input-56-108931f1cf20>:23: FutureWarning: The frame.append method is deprecated and will be removed from pandas in a future version. Use pandas.concat instead.\n",
            "  df = df.append(df_temp, ignore_index = True)\n",
            "<ipython-input-56-108931f1cf20>:23: FutureWarning: The frame.append method is deprecated and will be removed from pandas in a future version. Use pandas.concat instead.\n",
            "  df = df.append(df_temp, ignore_index = True)\n",
            "<ipython-input-56-108931f1cf20>:23: FutureWarning: The frame.append method is deprecated and will be removed from pandas in a future version. Use pandas.concat instead.\n",
            "  df = df.append(df_temp, ignore_index = True)\n",
            "<ipython-input-56-108931f1cf20>:23: FutureWarning: The frame.append method is deprecated and will be removed from pandas in a future version. Use pandas.concat instead.\n",
            "  df = df.append(df_temp, ignore_index = True)\n",
            "<ipython-input-56-108931f1cf20>:23: FutureWarning: The frame.append method is deprecated and will be removed from pandas in a future version. Use pandas.concat instead.\n",
            "  df = df.append(df_temp, ignore_index = True)\n",
            "<ipython-input-56-108931f1cf20>:23: FutureWarning: The frame.append method is deprecated and will be removed from pandas in a future version. Use pandas.concat instead.\n",
            "  df = df.append(df_temp, ignore_index = True)\n",
            "<ipython-input-56-108931f1cf20>:23: FutureWarning: The frame.append method is deprecated and will be removed from pandas in a future version. Use pandas.concat instead.\n",
            "  df = df.append(df_temp, ignore_index = True)\n",
            "<ipython-input-56-108931f1cf20>:23: FutureWarning: The frame.append method is deprecated and will be removed from pandas in a future version. Use pandas.concat instead.\n",
            "  df = df.append(df_temp, ignore_index = True)\n",
            "<ipython-input-56-108931f1cf20>:23: FutureWarning: The frame.append method is deprecated and will be removed from pandas in a future version. Use pandas.concat instead.\n",
            "  df = df.append(df_temp, ignore_index = True)\n",
            "<ipython-input-56-108931f1cf20>:23: FutureWarning: The frame.append method is deprecated and will be removed from pandas in a future version. Use pandas.concat instead.\n",
            "  df = df.append(df_temp, ignore_index = True)\n",
            "<ipython-input-56-108931f1cf20>:23: FutureWarning: The frame.append method is deprecated and will be removed from pandas in a future version. Use pandas.concat instead.\n",
            "  df = df.append(df_temp, ignore_index = True)\n",
            "<ipython-input-56-108931f1cf20>:23: FutureWarning: The frame.append method is deprecated and will be removed from pandas in a future version. Use pandas.concat instead.\n",
            "  df = df.append(df_temp, ignore_index = True)\n",
            "<ipython-input-56-108931f1cf20>:23: FutureWarning: The frame.append method is deprecated and will be removed from pandas in a future version. Use pandas.concat instead.\n",
            "  df = df.append(df_temp, ignore_index = True)\n",
            "<ipython-input-56-108931f1cf20>:23: FutureWarning: The frame.append method is deprecated and will be removed from pandas in a future version. Use pandas.concat instead.\n",
            "  df = df.append(df_temp, ignore_index = True)\n",
            "<ipython-input-56-108931f1cf20>:23: FutureWarning: The frame.append method is deprecated and will be removed from pandas in a future version. Use pandas.concat instead.\n",
            "  df = df.append(df_temp, ignore_index = True)\n",
            "<ipython-input-56-108931f1cf20>:23: FutureWarning: The frame.append method is deprecated and will be removed from pandas in a future version. Use pandas.concat instead.\n",
            "  df = df.append(df_temp, ignore_index = True)\n",
            "<ipython-input-56-108931f1cf20>:23: FutureWarning: The frame.append method is deprecated and will be removed from pandas in a future version. Use pandas.concat instead.\n",
            "  df = df.append(df_temp, ignore_index = True)\n",
            "<ipython-input-56-108931f1cf20>:23: FutureWarning: The frame.append method is deprecated and will be removed from pandas in a future version. Use pandas.concat instead.\n",
            "  df = df.append(df_temp, ignore_index = True)\n",
            "<ipython-input-56-108931f1cf20>:23: FutureWarning: The frame.append method is deprecated and will be removed from pandas in a future version. Use pandas.concat instead.\n",
            "  df = df.append(df_temp, ignore_index = True)\n",
            "<ipython-input-56-108931f1cf20>:23: FutureWarning: The frame.append method is deprecated and will be removed from pandas in a future version. Use pandas.concat instead.\n",
            "  df = df.append(df_temp, ignore_index = True)\n",
            "<ipython-input-56-108931f1cf20>:23: FutureWarning: The frame.append method is deprecated and will be removed from pandas in a future version. Use pandas.concat instead.\n",
            "  df = df.append(df_temp, ignore_index = True)\n",
            "<ipython-input-56-108931f1cf20>:23: FutureWarning: The frame.append method is deprecated and will be removed from pandas in a future version. Use pandas.concat instead.\n",
            "  df = df.append(df_temp, ignore_index = True)\n",
            "<ipython-input-56-108931f1cf20>:23: FutureWarning: The frame.append method is deprecated and will be removed from pandas in a future version. Use pandas.concat instead.\n",
            "  df = df.append(df_temp, ignore_index = True)\n",
            "<ipython-input-56-108931f1cf20>:23: FutureWarning: The frame.append method is deprecated and will be removed from pandas in a future version. Use pandas.concat instead.\n",
            "  df = df.append(df_temp, ignore_index = True)\n",
            "<ipython-input-56-108931f1cf20>:23: FutureWarning: The frame.append method is deprecated and will be removed from pandas in a future version. Use pandas.concat instead.\n",
            "  df = df.append(df_temp, ignore_index = True)\n",
            "<ipython-input-56-108931f1cf20>:23: FutureWarning: The frame.append method is deprecated and will be removed from pandas in a future version. Use pandas.concat instead.\n",
            "  df = df.append(df_temp, ignore_index = True)\n",
            "<ipython-input-56-108931f1cf20>:23: FutureWarning: The frame.append method is deprecated and will be removed from pandas in a future version. Use pandas.concat instead.\n",
            "  df = df.append(df_temp, ignore_index = True)\n",
            "<ipython-input-56-108931f1cf20>:23: FutureWarning: The frame.append method is deprecated and will be removed from pandas in a future version. Use pandas.concat instead.\n",
            "  df = df.append(df_temp, ignore_index = True)\n",
            "<ipython-input-56-108931f1cf20>:23: FutureWarning: The frame.append method is deprecated and will be removed from pandas in a future version. Use pandas.concat instead.\n",
            "  df = df.append(df_temp, ignore_index = True)\n",
            "<ipython-input-56-108931f1cf20>:23: FutureWarning: The frame.append method is deprecated and will be removed from pandas in a future version. Use pandas.concat instead.\n",
            "  df = df.append(df_temp, ignore_index = True)\n",
            "<ipython-input-56-108931f1cf20>:23: FutureWarning: The frame.append method is deprecated and will be removed from pandas in a future version. Use pandas.concat instead.\n",
            "  df = df.append(df_temp, ignore_index = True)\n",
            "<ipython-input-56-108931f1cf20>:23: FutureWarning: The frame.append method is deprecated and will be removed from pandas in a future version. Use pandas.concat instead.\n",
            "  df = df.append(df_temp, ignore_index = True)\n",
            "<ipython-input-56-108931f1cf20>:23: FutureWarning: The frame.append method is deprecated and will be removed from pandas in a future version. Use pandas.concat instead.\n",
            "  df = df.append(df_temp, ignore_index = True)\n",
            "<ipython-input-56-108931f1cf20>:23: FutureWarning: The frame.append method is deprecated and will be removed from pandas in a future version. Use pandas.concat instead.\n",
            "  df = df.append(df_temp, ignore_index = True)\n",
            "<ipython-input-56-108931f1cf20>:23: FutureWarning: The frame.append method is deprecated and will be removed from pandas in a future version. Use pandas.concat instead.\n",
            "  df = df.append(df_temp, ignore_index = True)\n",
            "<ipython-input-56-108931f1cf20>:23: FutureWarning: The frame.append method is deprecated and will be removed from pandas in a future version. Use pandas.concat instead.\n",
            "  df = df.append(df_temp, ignore_index = True)\n",
            "<ipython-input-56-108931f1cf20>:23: FutureWarning: The frame.append method is deprecated and will be removed from pandas in a future version. Use pandas.concat instead.\n",
            "  df = df.append(df_temp, ignore_index = True)\n",
            "<ipython-input-56-108931f1cf20>:23: FutureWarning: The frame.append method is deprecated and will be removed from pandas in a future version. Use pandas.concat instead.\n",
            "  df = df.append(df_temp, ignore_index = True)\n",
            "<ipython-input-56-108931f1cf20>:23: FutureWarning: The frame.append method is deprecated and will be removed from pandas in a future version. Use pandas.concat instead.\n",
            "  df = df.append(df_temp, ignore_index = True)\n",
            "<ipython-input-56-108931f1cf20>:23: FutureWarning: The frame.append method is deprecated and will be removed from pandas in a future version. Use pandas.concat instead.\n",
            "  df = df.append(df_temp, ignore_index = True)\n",
            "<ipython-input-56-108931f1cf20>:23: FutureWarning: The frame.append method is deprecated and will be removed from pandas in a future version. Use pandas.concat instead.\n",
            "  df = df.append(df_temp, ignore_index = True)\n",
            "<ipython-input-56-108931f1cf20>:23: FutureWarning: The frame.append method is deprecated and will be removed from pandas in a future version. Use pandas.concat instead.\n",
            "  df = df.append(df_temp, ignore_index = True)\n",
            "<ipython-input-56-108931f1cf20>:23: FutureWarning: The frame.append method is deprecated and will be removed from pandas in a future version. Use pandas.concat instead.\n",
            "  df = df.append(df_temp, ignore_index = True)\n",
            "<ipython-input-56-108931f1cf20>:23: FutureWarning: The frame.append method is deprecated and will be removed from pandas in a future version. Use pandas.concat instead.\n",
            "  df = df.append(df_temp, ignore_index = True)\n",
            "<ipython-input-56-108931f1cf20>:23: FutureWarning: The frame.append method is deprecated and will be removed from pandas in a future version. Use pandas.concat instead.\n",
            "  df = df.append(df_temp, ignore_index = True)\n",
            "<ipython-input-56-108931f1cf20>:23: FutureWarning: The frame.append method is deprecated and will be removed from pandas in a future version. Use pandas.concat instead.\n",
            "  df = df.append(df_temp, ignore_index = True)\n",
            "<ipython-input-56-108931f1cf20>:23: FutureWarning: The frame.append method is deprecated and will be removed from pandas in a future version. Use pandas.concat instead.\n",
            "  df = df.append(df_temp, ignore_index = True)\n",
            "<ipython-input-56-108931f1cf20>:23: FutureWarning: The frame.append method is deprecated and will be removed from pandas in a future version. Use pandas.concat instead.\n",
            "  df = df.append(df_temp, ignore_index = True)\n",
            "<ipython-input-56-108931f1cf20>:23: FutureWarning: The frame.append method is deprecated and will be removed from pandas in a future version. Use pandas.concat instead.\n",
            "  df = df.append(df_temp, ignore_index = True)\n",
            "<ipython-input-56-108931f1cf20>:23: FutureWarning: The frame.append method is deprecated and will be removed from pandas in a future version. Use pandas.concat instead.\n",
            "  df = df.append(df_temp, ignore_index = True)\n",
            "<ipython-input-56-108931f1cf20>:23: FutureWarning: The frame.append method is deprecated and will be removed from pandas in a future version. Use pandas.concat instead.\n",
            "  df = df.append(df_temp, ignore_index = True)\n",
            "<ipython-input-56-108931f1cf20>:23: FutureWarning: The frame.append method is deprecated and will be removed from pandas in a future version. Use pandas.concat instead.\n",
            "  df = df.append(df_temp, ignore_index = True)\n",
            "<ipython-input-56-108931f1cf20>:23: FutureWarning: The frame.append method is deprecated and will be removed from pandas in a future version. Use pandas.concat instead.\n",
            "  df = df.append(df_temp, ignore_index = True)\n",
            "<ipython-input-56-108931f1cf20>:23: FutureWarning: The frame.append method is deprecated and will be removed from pandas in a future version. Use pandas.concat instead.\n",
            "  df = df.append(df_temp, ignore_index = True)\n",
            "<ipython-input-56-108931f1cf20>:23: FutureWarning: The frame.append method is deprecated and will be removed from pandas in a future version. Use pandas.concat instead.\n",
            "  df = df.append(df_temp, ignore_index = True)\n",
            "<ipython-input-56-108931f1cf20>:23: FutureWarning: The frame.append method is deprecated and will be removed from pandas in a future version. Use pandas.concat instead.\n",
            "  df = df.append(df_temp, ignore_index = True)\n",
            "<ipython-input-56-108931f1cf20>:23: FutureWarning: The frame.append method is deprecated and will be removed from pandas in a future version. Use pandas.concat instead.\n",
            "  df = df.append(df_temp, ignore_index = True)\n",
            "<ipython-input-56-108931f1cf20>:23: FutureWarning: The frame.append method is deprecated and will be removed from pandas in a future version. Use pandas.concat instead.\n",
            "  df = df.append(df_temp, ignore_index = True)\n",
            "<ipython-input-56-108931f1cf20>:23: FutureWarning: The frame.append method is deprecated and will be removed from pandas in a future version. Use pandas.concat instead.\n",
            "  df = df.append(df_temp, ignore_index = True)\n",
            "<ipython-input-56-108931f1cf20>:23: FutureWarning: The frame.append method is deprecated and will be removed from pandas in a future version. Use pandas.concat instead.\n",
            "  df = df.append(df_temp, ignore_index = True)\n",
            "<ipython-input-56-108931f1cf20>:23: FutureWarning: The frame.append method is deprecated and will be removed from pandas in a future version. Use pandas.concat instead.\n",
            "  df = df.append(df_temp, ignore_index = True)\n",
            "<ipython-input-56-108931f1cf20>:23: FutureWarning: The frame.append method is deprecated and will be removed from pandas in a future version. Use pandas.concat instead.\n",
            "  df = df.append(df_temp, ignore_index = True)\n",
            "<ipython-input-56-108931f1cf20>:23: FutureWarning: The frame.append method is deprecated and will be removed from pandas in a future version. Use pandas.concat instead.\n",
            "  df = df.append(df_temp, ignore_index = True)\n",
            "<ipython-input-56-108931f1cf20>:23: FutureWarning: The frame.append method is deprecated and will be removed from pandas in a future version. Use pandas.concat instead.\n",
            "  df = df.append(df_temp, ignore_index = True)\n",
            "<ipython-input-56-108931f1cf20>:23: FutureWarning: The frame.append method is deprecated and will be removed from pandas in a future version. Use pandas.concat instead.\n",
            "  df = df.append(df_temp, ignore_index = True)\n",
            "<ipython-input-56-108931f1cf20>:23: FutureWarning: The frame.append method is deprecated and will be removed from pandas in a future version. Use pandas.concat instead.\n",
            "  df = df.append(df_temp, ignore_index = True)\n",
            "<ipython-input-56-108931f1cf20>:23: FutureWarning: The frame.append method is deprecated and will be removed from pandas in a future version. Use pandas.concat instead.\n",
            "  df = df.append(df_temp, ignore_index = True)\n",
            "<ipython-input-56-108931f1cf20>:23: FutureWarning: The frame.append method is deprecated and will be removed from pandas in a future version. Use pandas.concat instead.\n",
            "  df = df.append(df_temp, ignore_index = True)\n",
            "<ipython-input-56-108931f1cf20>:23: FutureWarning: The frame.append method is deprecated and will be removed from pandas in a future version. Use pandas.concat instead.\n",
            "  df = df.append(df_temp, ignore_index = True)\n",
            "<ipython-input-56-108931f1cf20>:23: FutureWarning: The frame.append method is deprecated and will be removed from pandas in a future version. Use pandas.concat instead.\n",
            "  df = df.append(df_temp, ignore_index = True)\n",
            "<ipython-input-56-108931f1cf20>:23: FutureWarning: The frame.append method is deprecated and will be removed from pandas in a future version. Use pandas.concat instead.\n",
            "  df = df.append(df_temp, ignore_index = True)\n",
            "<ipython-input-56-108931f1cf20>:23: FutureWarning: The frame.append method is deprecated and will be removed from pandas in a future version. Use pandas.concat instead.\n",
            "  df = df.append(df_temp, ignore_index = True)\n",
            "<ipython-input-56-108931f1cf20>:23: FutureWarning: The frame.append method is deprecated and will be removed from pandas in a future version. Use pandas.concat instead.\n",
            "  df = df.append(df_temp, ignore_index = True)\n",
            "<ipython-input-56-108931f1cf20>:23: FutureWarning: The frame.append method is deprecated and will be removed from pandas in a future version. Use pandas.concat instead.\n",
            "  df = df.append(df_temp, ignore_index = True)\n",
            "<ipython-input-56-108931f1cf20>:23: FutureWarning: The frame.append method is deprecated and will be removed from pandas in a future version. Use pandas.concat instead.\n",
            "  df = df.append(df_temp, ignore_index = True)\n",
            "<ipython-input-56-108931f1cf20>:23: FutureWarning: The frame.append method is deprecated and will be removed from pandas in a future version. Use pandas.concat instead.\n",
            "  df = df.append(df_temp, ignore_index = True)\n",
            "<ipython-input-56-108931f1cf20>:23: FutureWarning: The frame.append method is deprecated and will be removed from pandas in a future version. Use pandas.concat instead.\n",
            "  df = df.append(df_temp, ignore_index = True)\n",
            "<ipython-input-56-108931f1cf20>:23: FutureWarning: The frame.append method is deprecated and will be removed from pandas in a future version. Use pandas.concat instead.\n",
            "  df = df.append(df_temp, ignore_index = True)\n",
            "<ipython-input-56-108931f1cf20>:23: FutureWarning: The frame.append method is deprecated and will be removed from pandas in a future version. Use pandas.concat instead.\n",
            "  df = df.append(df_temp, ignore_index = True)\n",
            "<ipython-input-56-108931f1cf20>:23: FutureWarning: The frame.append method is deprecated and will be removed from pandas in a future version. Use pandas.concat instead.\n",
            "  df = df.append(df_temp, ignore_index = True)\n",
            "<ipython-input-56-108931f1cf20>:23: FutureWarning: The frame.append method is deprecated and will be removed from pandas in a future version. Use pandas.concat instead.\n",
            "  df = df.append(df_temp, ignore_index = True)\n",
            "<ipython-input-56-108931f1cf20>:23: FutureWarning: The frame.append method is deprecated and will be removed from pandas in a future version. Use pandas.concat instead.\n",
            "  df = df.append(df_temp, ignore_index = True)\n",
            "<ipython-input-56-108931f1cf20>:23: FutureWarning: The frame.append method is deprecated and will be removed from pandas in a future version. Use pandas.concat instead.\n",
            "  df = df.append(df_temp, ignore_index = True)\n",
            "<ipython-input-56-108931f1cf20>:23: FutureWarning: The frame.append method is deprecated and will be removed from pandas in a future version. Use pandas.concat instead.\n",
            "  df = df.append(df_temp, ignore_index = True)\n",
            "<ipython-input-56-108931f1cf20>:23: FutureWarning: The frame.append method is deprecated and will be removed from pandas in a future version. Use pandas.concat instead.\n",
            "  df = df.append(df_temp, ignore_index = True)\n",
            "<ipython-input-56-108931f1cf20>:23: FutureWarning: The frame.append method is deprecated and will be removed from pandas in a future version. Use pandas.concat instead.\n",
            "  df = df.append(df_temp, ignore_index = True)\n",
            "<ipython-input-56-108931f1cf20>:23: FutureWarning: The frame.append method is deprecated and will be removed from pandas in a future version. Use pandas.concat instead.\n",
            "  df = df.append(df_temp, ignore_index = True)\n",
            "<ipython-input-56-108931f1cf20>:23: FutureWarning: The frame.append method is deprecated and will be removed from pandas in a future version. Use pandas.concat instead.\n",
            "  df = df.append(df_temp, ignore_index = True)\n",
            "<ipython-input-56-108931f1cf20>:23: FutureWarning: The frame.append method is deprecated and will be removed from pandas in a future version. Use pandas.concat instead.\n",
            "  df = df.append(df_temp, ignore_index = True)\n",
            "<ipython-input-56-108931f1cf20>:23: FutureWarning: The frame.append method is deprecated and will be removed from pandas in a future version. Use pandas.concat instead.\n",
            "  df = df.append(df_temp, ignore_index = True)\n",
            "<ipython-input-56-108931f1cf20>:23: FutureWarning: The frame.append method is deprecated and will be removed from pandas in a future version. Use pandas.concat instead.\n",
            "  df = df.append(df_temp, ignore_index = True)\n",
            "<ipython-input-56-108931f1cf20>:23: FutureWarning: The frame.append method is deprecated and will be removed from pandas in a future version. Use pandas.concat instead.\n",
            "  df = df.append(df_temp, ignore_index = True)\n",
            "<ipython-input-56-108931f1cf20>:23: FutureWarning: The frame.append method is deprecated and will be removed from pandas in a future version. Use pandas.concat instead.\n",
            "  df = df.append(df_temp, ignore_index = True)\n",
            "<ipython-input-56-108931f1cf20>:23: FutureWarning: The frame.append method is deprecated and will be removed from pandas in a future version. Use pandas.concat instead.\n",
            "  df = df.append(df_temp, ignore_index = True)\n",
            "<ipython-input-56-108931f1cf20>:23: FutureWarning: The frame.append method is deprecated and will be removed from pandas in a future version. Use pandas.concat instead.\n",
            "  df = df.append(df_temp, ignore_index = True)\n",
            "<ipython-input-56-108931f1cf20>:23: FutureWarning: The frame.append method is deprecated and will be removed from pandas in a future version. Use pandas.concat instead.\n",
            "  df = df.append(df_temp, ignore_index = True)\n",
            "<ipython-input-56-108931f1cf20>:23: FutureWarning: The frame.append method is deprecated and will be removed from pandas in a future version. Use pandas.concat instead.\n",
            "  df = df.append(df_temp, ignore_index = True)\n",
            "<ipython-input-56-108931f1cf20>:23: FutureWarning: The frame.append method is deprecated and will be removed from pandas in a future version. Use pandas.concat instead.\n",
            "  df = df.append(df_temp, ignore_index = True)\n",
            "<ipython-input-56-108931f1cf20>:23: FutureWarning: The frame.append method is deprecated and will be removed from pandas in a future version. Use pandas.concat instead.\n",
            "  df = df.append(df_temp, ignore_index = True)\n",
            "<ipython-input-56-108931f1cf20>:23: FutureWarning: The frame.append method is deprecated and will be removed from pandas in a future version. Use pandas.concat instead.\n",
            "  df = df.append(df_temp, ignore_index = True)\n",
            "<ipython-input-56-108931f1cf20>:23: FutureWarning: The frame.append method is deprecated and will be removed from pandas in a future version. Use pandas.concat instead.\n",
            "  df = df.append(df_temp, ignore_index = True)\n",
            "<ipython-input-56-108931f1cf20>:23: FutureWarning: The frame.append method is deprecated and will be removed from pandas in a future version. Use pandas.concat instead.\n",
            "  df = df.append(df_temp, ignore_index = True)\n",
            "<ipython-input-56-108931f1cf20>:23: FutureWarning: The frame.append method is deprecated and will be removed from pandas in a future version. Use pandas.concat instead.\n",
            "  df = df.append(df_temp, ignore_index = True)\n",
            "<ipython-input-56-108931f1cf20>:23: FutureWarning: The frame.append method is deprecated and will be removed from pandas in a future version. Use pandas.concat instead.\n",
            "  df = df.append(df_temp, ignore_index = True)\n",
            "<ipython-input-56-108931f1cf20>:23: FutureWarning: The frame.append method is deprecated and will be removed from pandas in a future version. Use pandas.concat instead.\n",
            "  df = df.append(df_temp, ignore_index = True)\n",
            "<ipython-input-56-108931f1cf20>:23: FutureWarning: The frame.append method is deprecated and will be removed from pandas in a future version. Use pandas.concat instead.\n",
            "  df = df.append(df_temp, ignore_index = True)\n",
            "<ipython-input-56-108931f1cf20>:23: FutureWarning: The frame.append method is deprecated and will be removed from pandas in a future version. Use pandas.concat instead.\n",
            "  df = df.append(df_temp, ignore_index = True)\n",
            "<ipython-input-56-108931f1cf20>:23: FutureWarning: The frame.append method is deprecated and will be removed from pandas in a future version. Use pandas.concat instead.\n",
            "  df = df.append(df_temp, ignore_index = True)\n",
            "<ipython-input-56-108931f1cf20>:23: FutureWarning: The frame.append method is deprecated and will be removed from pandas in a future version. Use pandas.concat instead.\n",
            "  df = df.append(df_temp, ignore_index = True)\n",
            "<ipython-input-56-108931f1cf20>:23: FutureWarning: The frame.append method is deprecated and will be removed from pandas in a future version. Use pandas.concat instead.\n",
            "  df = df.append(df_temp, ignore_index = True)\n",
            "<ipython-input-56-108931f1cf20>:23: FutureWarning: The frame.append method is deprecated and will be removed from pandas in a future version. Use pandas.concat instead.\n",
            "  df = df.append(df_temp, ignore_index = True)\n",
            "<ipython-input-56-108931f1cf20>:23: FutureWarning: The frame.append method is deprecated and will be removed from pandas in a future version. Use pandas.concat instead.\n",
            "  df = df.append(df_temp, ignore_index = True)\n",
            "<ipython-input-56-108931f1cf20>:23: FutureWarning: The frame.append method is deprecated and will be removed from pandas in a future version. Use pandas.concat instead.\n",
            "  df = df.append(df_temp, ignore_index = True)\n",
            "<ipython-input-56-108931f1cf20>:23: FutureWarning: The frame.append method is deprecated and will be removed from pandas in a future version. Use pandas.concat instead.\n",
            "  df = df.append(df_temp, ignore_index = True)\n",
            "<ipython-input-56-108931f1cf20>:23: FutureWarning: The frame.append method is deprecated and will be removed from pandas in a future version. Use pandas.concat instead.\n",
            "  df = df.append(df_temp, ignore_index = True)\n",
            "<ipython-input-56-108931f1cf20>:23: FutureWarning: The frame.append method is deprecated and will be removed from pandas in a future version. Use pandas.concat instead.\n",
            "  df = df.append(df_temp, ignore_index = True)\n",
            "<ipython-input-56-108931f1cf20>:23: FutureWarning: The frame.append method is deprecated and will be removed from pandas in a future version. Use pandas.concat instead.\n",
            "  df = df.append(df_temp, ignore_index = True)\n",
            "<ipython-input-56-108931f1cf20>:23: FutureWarning: The frame.append method is deprecated and will be removed from pandas in a future version. Use pandas.concat instead.\n",
            "  df = df.append(df_temp, ignore_index = True)\n",
            "<ipython-input-56-108931f1cf20>:23: FutureWarning: The frame.append method is deprecated and will be removed from pandas in a future version. Use pandas.concat instead.\n",
            "  df = df.append(df_temp, ignore_index = True)\n",
            "<ipython-input-56-108931f1cf20>:23: FutureWarning: The frame.append method is deprecated and will be removed from pandas in a future version. Use pandas.concat instead.\n",
            "  df = df.append(df_temp, ignore_index = True)\n",
            "<ipython-input-56-108931f1cf20>:23: FutureWarning: The frame.append method is deprecated and will be removed from pandas in a future version. Use pandas.concat instead.\n",
            "  df = df.append(df_temp, ignore_index = True)\n",
            "<ipython-input-56-108931f1cf20>:23: FutureWarning: The frame.append method is deprecated and will be removed from pandas in a future version. Use pandas.concat instead.\n",
            "  df = df.append(df_temp, ignore_index = True)\n",
            "<ipython-input-56-108931f1cf20>:23: FutureWarning: The frame.append method is deprecated and will be removed from pandas in a future version. Use pandas.concat instead.\n",
            "  df = df.append(df_temp, ignore_index = True)\n",
            "<ipython-input-56-108931f1cf20>:23: FutureWarning: The frame.append method is deprecated and will be removed from pandas in a future version. Use pandas.concat instead.\n",
            "  df = df.append(df_temp, ignore_index = True)\n",
            "<ipython-input-56-108931f1cf20>:23: FutureWarning: The frame.append method is deprecated and will be removed from pandas in a future version. Use pandas.concat instead.\n",
            "  df = df.append(df_temp, ignore_index = True)\n",
            "<ipython-input-56-108931f1cf20>:23: FutureWarning: The frame.append method is deprecated and will be removed from pandas in a future version. Use pandas.concat instead.\n",
            "  df = df.append(df_temp, ignore_index = True)\n",
            "<ipython-input-56-108931f1cf20>:23: FutureWarning: The frame.append method is deprecated and will be removed from pandas in a future version. Use pandas.concat instead.\n",
            "  df = df.append(df_temp, ignore_index = True)\n",
            "<ipython-input-56-108931f1cf20>:23: FutureWarning: The frame.append method is deprecated and will be removed from pandas in a future version. Use pandas.concat instead.\n",
            "  df = df.append(df_temp, ignore_index = True)\n",
            "<ipython-input-56-108931f1cf20>:23: FutureWarning: The frame.append method is deprecated and will be removed from pandas in a future version. Use pandas.concat instead.\n",
            "  df = df.append(df_temp, ignore_index = True)\n",
            "<ipython-input-56-108931f1cf20>:23: FutureWarning: The frame.append method is deprecated and will be removed from pandas in a future version. Use pandas.concat instead.\n",
            "  df = df.append(df_temp, ignore_index = True)\n",
            "<ipython-input-56-108931f1cf20>:23: FutureWarning: The frame.append method is deprecated and will be removed from pandas in a future version. Use pandas.concat instead.\n",
            "  df = df.append(df_temp, ignore_index = True)\n",
            "<ipython-input-56-108931f1cf20>:23: FutureWarning: The frame.append method is deprecated and will be removed from pandas in a future version. Use pandas.concat instead.\n",
            "  df = df.append(df_temp, ignore_index = True)\n",
            "<ipython-input-56-108931f1cf20>:23: FutureWarning: The frame.append method is deprecated and will be removed from pandas in a future version. Use pandas.concat instead.\n",
            "  df = df.append(df_temp, ignore_index = True)\n",
            "<ipython-input-56-108931f1cf20>:23: FutureWarning: The frame.append method is deprecated and will be removed from pandas in a future version. Use pandas.concat instead.\n",
            "  df = df.append(df_temp, ignore_index = True)\n",
            "<ipython-input-56-108931f1cf20>:23: FutureWarning: The frame.append method is deprecated and will be removed from pandas in a future version. Use pandas.concat instead.\n",
            "  df = df.append(df_temp, ignore_index = True)\n",
            "<ipython-input-56-108931f1cf20>:23: FutureWarning: The frame.append method is deprecated and will be removed from pandas in a future version. Use pandas.concat instead.\n",
            "  df = df.append(df_temp, ignore_index = True)\n",
            "<ipython-input-56-108931f1cf20>:23: FutureWarning: The frame.append method is deprecated and will be removed from pandas in a future version. Use pandas.concat instead.\n",
            "  df = df.append(df_temp, ignore_index = True)\n",
            "<ipython-input-56-108931f1cf20>:23: FutureWarning: The frame.append method is deprecated and will be removed from pandas in a future version. Use pandas.concat instead.\n",
            "  df = df.append(df_temp, ignore_index = True)\n",
            "<ipython-input-56-108931f1cf20>:23: FutureWarning: The frame.append method is deprecated and will be removed from pandas in a future version. Use pandas.concat instead.\n",
            "  df = df.append(df_temp, ignore_index = True)\n",
            "<ipython-input-56-108931f1cf20>:23: FutureWarning: The frame.append method is deprecated and will be removed from pandas in a future version. Use pandas.concat instead.\n",
            "  df = df.append(df_temp, ignore_index = True)\n",
            "<ipython-input-56-108931f1cf20>:23: FutureWarning: The frame.append method is deprecated and will be removed from pandas in a future version. Use pandas.concat instead.\n",
            "  df = df.append(df_temp, ignore_index = True)\n",
            "<ipython-input-56-108931f1cf20>:23: FutureWarning: The frame.append method is deprecated and will be removed from pandas in a future version. Use pandas.concat instead.\n",
            "  df = df.append(df_temp, ignore_index = True)\n",
            "<ipython-input-56-108931f1cf20>:23: FutureWarning: The frame.append method is deprecated and will be removed from pandas in a future version. Use pandas.concat instead.\n",
            "  df = df.append(df_temp, ignore_index = True)\n",
            "<ipython-input-56-108931f1cf20>:23: FutureWarning: The frame.append method is deprecated and will be removed from pandas in a future version. Use pandas.concat instead.\n",
            "  df = df.append(df_temp, ignore_index = True)\n",
            "<ipython-input-56-108931f1cf20>:23: FutureWarning: The frame.append method is deprecated and will be removed from pandas in a future version. Use pandas.concat instead.\n",
            "  df = df.append(df_temp, ignore_index = True)\n",
            "<ipython-input-56-108931f1cf20>:23: FutureWarning: The frame.append method is deprecated and will be removed from pandas in a future version. Use pandas.concat instead.\n",
            "  df = df.append(df_temp, ignore_index = True)\n",
            "<ipython-input-56-108931f1cf20>:23: FutureWarning: The frame.append method is deprecated and will be removed from pandas in a future version. Use pandas.concat instead.\n",
            "  df = df.append(df_temp, ignore_index = True)\n",
            "<ipython-input-56-108931f1cf20>:23: FutureWarning: The frame.append method is deprecated and will be removed from pandas in a future version. Use pandas.concat instead.\n",
            "  df = df.append(df_temp, ignore_index = True)\n",
            "<ipython-input-56-108931f1cf20>:23: FutureWarning: The frame.append method is deprecated and will be removed from pandas in a future version. Use pandas.concat instead.\n",
            "  df = df.append(df_temp, ignore_index = True)\n",
            "<ipython-input-56-108931f1cf20>:23: FutureWarning: The frame.append method is deprecated and will be removed from pandas in a future version. Use pandas.concat instead.\n",
            "  df = df.append(df_temp, ignore_index = True)\n",
            "<ipython-input-56-108931f1cf20>:23: FutureWarning: The frame.append method is deprecated and will be removed from pandas in a future version. Use pandas.concat instead.\n",
            "  df = df.append(df_temp, ignore_index = True)\n",
            "<ipython-input-56-108931f1cf20>:23: FutureWarning: The frame.append method is deprecated and will be removed from pandas in a future version. Use pandas.concat instead.\n",
            "  df = df.append(df_temp, ignore_index = True)\n",
            "<ipython-input-56-108931f1cf20>:23: FutureWarning: The frame.append method is deprecated and will be removed from pandas in a future version. Use pandas.concat instead.\n",
            "  df = df.append(df_temp, ignore_index = True)\n",
            "<ipython-input-56-108931f1cf20>:23: FutureWarning: The frame.append method is deprecated and will be removed from pandas in a future version. Use pandas.concat instead.\n",
            "  df = df.append(df_temp, ignore_index = True)\n",
            "<ipython-input-56-108931f1cf20>:23: FutureWarning: The frame.append method is deprecated and will be removed from pandas in a future version. Use pandas.concat instead.\n",
            "  df = df.append(df_temp, ignore_index = True)\n",
            "<ipython-input-56-108931f1cf20>:23: FutureWarning: The frame.append method is deprecated and will be removed from pandas in a future version. Use pandas.concat instead.\n",
            "  df = df.append(df_temp, ignore_index = True)\n",
            "<ipython-input-56-108931f1cf20>:23: FutureWarning: The frame.append method is deprecated and will be removed from pandas in a future version. Use pandas.concat instead.\n",
            "  df = df.append(df_temp, ignore_index = True)\n",
            "<ipython-input-56-108931f1cf20>:23: FutureWarning: The frame.append method is deprecated and will be removed from pandas in a future version. Use pandas.concat instead.\n",
            "  df = df.append(df_temp, ignore_index = True)\n",
            "<ipython-input-56-108931f1cf20>:23: FutureWarning: The frame.append method is deprecated and will be removed from pandas in a future version. Use pandas.concat instead.\n",
            "  df = df.append(df_temp, ignore_index = True)\n",
            "<ipython-input-56-108931f1cf20>:23: FutureWarning: The frame.append method is deprecated and will be removed from pandas in a future version. Use pandas.concat instead.\n",
            "  df = df.append(df_temp, ignore_index = True)\n",
            "<ipython-input-56-108931f1cf20>:23: FutureWarning: The frame.append method is deprecated and will be removed from pandas in a future version. Use pandas.concat instead.\n",
            "  df = df.append(df_temp, ignore_index = True)\n",
            "<ipython-input-56-108931f1cf20>:23: FutureWarning: The frame.append method is deprecated and will be removed from pandas in a future version. Use pandas.concat instead.\n",
            "  df = df.append(df_temp, ignore_index = True)\n",
            "<ipython-input-56-108931f1cf20>:23: FutureWarning: The frame.append method is deprecated and will be removed from pandas in a future version. Use pandas.concat instead.\n",
            "  df = df.append(df_temp, ignore_index = True)\n",
            "<ipython-input-56-108931f1cf20>:23: FutureWarning: The frame.append method is deprecated and will be removed from pandas in a future version. Use pandas.concat instead.\n",
            "  df = df.append(df_temp, ignore_index = True)\n",
            "<ipython-input-56-108931f1cf20>:23: FutureWarning: The frame.append method is deprecated and will be removed from pandas in a future version. Use pandas.concat instead.\n",
            "  df = df.append(df_temp, ignore_index = True)\n",
            "<ipython-input-56-108931f1cf20>:23: FutureWarning: The frame.append method is deprecated and will be removed from pandas in a future version. Use pandas.concat instead.\n",
            "  df = df.append(df_temp, ignore_index = True)\n",
            "<ipython-input-56-108931f1cf20>:23: FutureWarning: The frame.append method is deprecated and will be removed from pandas in a future version. Use pandas.concat instead.\n",
            "  df = df.append(df_temp, ignore_index = True)\n",
            "<ipython-input-56-108931f1cf20>:23: FutureWarning: The frame.append method is deprecated and will be removed from pandas in a future version. Use pandas.concat instead.\n",
            "  df = df.append(df_temp, ignore_index = True)\n",
            "<ipython-input-56-108931f1cf20>:23: FutureWarning: The frame.append method is deprecated and will be removed from pandas in a future version. Use pandas.concat instead.\n",
            "  df = df.append(df_temp, ignore_index = True)\n",
            "<ipython-input-56-108931f1cf20>:23: FutureWarning: The frame.append method is deprecated and will be removed from pandas in a future version. Use pandas.concat instead.\n",
            "  df = df.append(df_temp, ignore_index = True)\n",
            "<ipython-input-56-108931f1cf20>:23: FutureWarning: The frame.append method is deprecated and will be removed from pandas in a future version. Use pandas.concat instead.\n",
            "  df = df.append(df_temp, ignore_index = True)\n",
            "<ipython-input-56-108931f1cf20>:23: FutureWarning: The frame.append method is deprecated and will be removed from pandas in a future version. Use pandas.concat instead.\n",
            "  df = df.append(df_temp, ignore_index = True)\n",
            "<ipython-input-56-108931f1cf20>:23: FutureWarning: The frame.append method is deprecated and will be removed from pandas in a future version. Use pandas.concat instead.\n",
            "  df = df.append(df_temp, ignore_index = True)\n",
            "<ipython-input-56-108931f1cf20>:23: FutureWarning: The frame.append method is deprecated and will be removed from pandas in a future version. Use pandas.concat instead.\n",
            "  df = df.append(df_temp, ignore_index = True)\n",
            "<ipython-input-56-108931f1cf20>:23: FutureWarning: The frame.append method is deprecated and will be removed from pandas in a future version. Use pandas.concat instead.\n",
            "  df = df.append(df_temp, ignore_index = True)\n",
            "<ipython-input-56-108931f1cf20>:23: FutureWarning: The frame.append method is deprecated and will be removed from pandas in a future version. Use pandas.concat instead.\n",
            "  df = df.append(df_temp, ignore_index = True)\n",
            "<ipython-input-56-108931f1cf20>:23: FutureWarning: The frame.append method is deprecated and will be removed from pandas in a future version. Use pandas.concat instead.\n",
            "  df = df.append(df_temp, ignore_index = True)\n",
            "<ipython-input-56-108931f1cf20>:23: FutureWarning: The frame.append method is deprecated and will be removed from pandas in a future version. Use pandas.concat instead.\n",
            "  df = df.append(df_temp, ignore_index = True)\n",
            "<ipython-input-56-108931f1cf20>:23: FutureWarning: The frame.append method is deprecated and will be removed from pandas in a future version. Use pandas.concat instead.\n",
            "  df = df.append(df_temp, ignore_index = True)\n",
            "<ipython-input-56-108931f1cf20>:23: FutureWarning: The frame.append method is deprecated and will be removed from pandas in a future version. Use pandas.concat instead.\n",
            "  df = df.append(df_temp, ignore_index = True)\n",
            "<ipython-input-56-108931f1cf20>:23: FutureWarning: The frame.append method is deprecated and will be removed from pandas in a future version. Use pandas.concat instead.\n",
            "  df = df.append(df_temp, ignore_index = True)\n",
            "<ipython-input-56-108931f1cf20>:23: FutureWarning: The frame.append method is deprecated and will be removed from pandas in a future version. Use pandas.concat instead.\n",
            "  df = df.append(df_temp, ignore_index = True)\n",
            "<ipython-input-56-108931f1cf20>:23: FutureWarning: The frame.append method is deprecated and will be removed from pandas in a future version. Use pandas.concat instead.\n",
            "  df = df.append(df_temp, ignore_index = True)\n",
            "<ipython-input-56-108931f1cf20>:23: FutureWarning: The frame.append method is deprecated and will be removed from pandas in a future version. Use pandas.concat instead.\n",
            "  df = df.append(df_temp, ignore_index = True)\n",
            "<ipython-input-56-108931f1cf20>:23: FutureWarning: The frame.append method is deprecated and will be removed from pandas in a future version. Use pandas.concat instead.\n",
            "  df = df.append(df_temp, ignore_index = True)\n",
            "<ipython-input-56-108931f1cf20>:23: FutureWarning: The frame.append method is deprecated and will be removed from pandas in a future version. Use pandas.concat instead.\n",
            "  df = df.append(df_temp, ignore_index = True)\n",
            "<ipython-input-56-108931f1cf20>:23: FutureWarning: The frame.append method is deprecated and will be removed from pandas in a future version. Use pandas.concat instead.\n",
            "  df = df.append(df_temp, ignore_index = True)\n",
            "<ipython-input-56-108931f1cf20>:23: FutureWarning: The frame.append method is deprecated and will be removed from pandas in a future version. Use pandas.concat instead.\n",
            "  df = df.append(df_temp, ignore_index = True)\n",
            "<ipython-input-56-108931f1cf20>:23: FutureWarning: The frame.append method is deprecated and will be removed from pandas in a future version. Use pandas.concat instead.\n",
            "  df = df.append(df_temp, ignore_index = True)\n",
            "<ipython-input-56-108931f1cf20>:23: FutureWarning: The frame.append method is deprecated and will be removed from pandas in a future version. Use pandas.concat instead.\n",
            "  df = df.append(df_temp, ignore_index = True)\n",
            "<ipython-input-56-108931f1cf20>:23: FutureWarning: The frame.append method is deprecated and will be removed from pandas in a future version. Use pandas.concat instead.\n",
            "  df = df.append(df_temp, ignore_index = True)\n",
            "<ipython-input-56-108931f1cf20>:23: FutureWarning: The frame.append method is deprecated and will be removed from pandas in a future version. Use pandas.concat instead.\n",
            "  df = df.append(df_temp, ignore_index = True)\n",
            "<ipython-input-56-108931f1cf20>:23: FutureWarning: The frame.append method is deprecated and will be removed from pandas in a future version. Use pandas.concat instead.\n",
            "  df = df.append(df_temp, ignore_index = True)\n",
            "<ipython-input-56-108931f1cf20>:23: FutureWarning: The frame.append method is deprecated and will be removed from pandas in a future version. Use pandas.concat instead.\n",
            "  df = df.append(df_temp, ignore_index = True)\n",
            "<ipython-input-56-108931f1cf20>:23: FutureWarning: The frame.append method is deprecated and will be removed from pandas in a future version. Use pandas.concat instead.\n",
            "  df = df.append(df_temp, ignore_index = True)\n",
            "<ipython-input-56-108931f1cf20>:23: FutureWarning: The frame.append method is deprecated and will be removed from pandas in a future version. Use pandas.concat instead.\n",
            "  df = df.append(df_temp, ignore_index = True)\n",
            "<ipython-input-56-108931f1cf20>:23: FutureWarning: The frame.append method is deprecated and will be removed from pandas in a future version. Use pandas.concat instead.\n",
            "  df = df.append(df_temp, ignore_index = True)\n",
            "<ipython-input-56-108931f1cf20>:23: FutureWarning: The frame.append method is deprecated and will be removed from pandas in a future version. Use pandas.concat instead.\n",
            "  df = df.append(df_temp, ignore_index = True)\n",
            "<ipython-input-56-108931f1cf20>:23: FutureWarning: The frame.append method is deprecated and will be removed from pandas in a future version. Use pandas.concat instead.\n",
            "  df = df.append(df_temp, ignore_index = True)\n",
            "<ipython-input-56-108931f1cf20>:23: FutureWarning: The frame.append method is deprecated and will be removed from pandas in a future version. Use pandas.concat instead.\n",
            "  df = df.append(df_temp, ignore_index = True)\n",
            "<ipython-input-56-108931f1cf20>:23: FutureWarning: The frame.append method is deprecated and will be removed from pandas in a future version. Use pandas.concat instead.\n",
            "  df = df.append(df_temp, ignore_index = True)\n",
            "<ipython-input-56-108931f1cf20>:23: FutureWarning: The frame.append method is deprecated and will be removed from pandas in a future version. Use pandas.concat instead.\n",
            "  df = df.append(df_temp, ignore_index = True)\n",
            "<ipython-input-56-108931f1cf20>:23: FutureWarning: The frame.append method is deprecated and will be removed from pandas in a future version. Use pandas.concat instead.\n",
            "  df = df.append(df_temp, ignore_index = True)\n",
            "<ipython-input-56-108931f1cf20>:23: FutureWarning: The frame.append method is deprecated and will be removed from pandas in a future version. Use pandas.concat instead.\n",
            "  df = df.append(df_temp, ignore_index = True)\n",
            "<ipython-input-56-108931f1cf20>:23: FutureWarning: The frame.append method is deprecated and will be removed from pandas in a future version. Use pandas.concat instead.\n",
            "  df = df.append(df_temp, ignore_index = True)\n",
            "<ipython-input-56-108931f1cf20>:23: FutureWarning: The frame.append method is deprecated and will be removed from pandas in a future version. Use pandas.concat instead.\n",
            "  df = df.append(df_temp, ignore_index = True)\n",
            "<ipython-input-56-108931f1cf20>:23: FutureWarning: The frame.append method is deprecated and will be removed from pandas in a future version. Use pandas.concat instead.\n",
            "  df = df.append(df_temp, ignore_index = True)\n",
            "<ipython-input-56-108931f1cf20>:23: FutureWarning: The frame.append method is deprecated and will be removed from pandas in a future version. Use pandas.concat instead.\n",
            "  df = df.append(df_temp, ignore_index = True)\n",
            "<ipython-input-56-108931f1cf20>:23: FutureWarning: The frame.append method is deprecated and will be removed from pandas in a future version. Use pandas.concat instead.\n",
            "  df = df.append(df_temp, ignore_index = True)\n",
            "<ipython-input-56-108931f1cf20>:23: FutureWarning: The frame.append method is deprecated and will be removed from pandas in a future version. Use pandas.concat instead.\n",
            "  df = df.append(df_temp, ignore_index = True)\n",
            "<ipython-input-56-108931f1cf20>:23: FutureWarning: The frame.append method is deprecated and will be removed from pandas in a future version. Use pandas.concat instead.\n",
            "  df = df.append(df_temp, ignore_index = True)\n",
            "<ipython-input-56-108931f1cf20>:23: FutureWarning: The frame.append method is deprecated and will be removed from pandas in a future version. Use pandas.concat instead.\n",
            "  df = df.append(df_temp, ignore_index = True)\n",
            "<ipython-input-56-108931f1cf20>:23: FutureWarning: The frame.append method is deprecated and will be removed from pandas in a future version. Use pandas.concat instead.\n",
            "  df = df.append(df_temp, ignore_index = True)\n",
            "<ipython-input-56-108931f1cf20>:23: FutureWarning: The frame.append method is deprecated and will be removed from pandas in a future version. Use pandas.concat instead.\n",
            "  df = df.append(df_temp, ignore_index = True)\n",
            "<ipython-input-56-108931f1cf20>:23: FutureWarning: The frame.append method is deprecated and will be removed from pandas in a future version. Use pandas.concat instead.\n",
            "  df = df.append(df_temp, ignore_index = True)\n",
            "<ipython-input-56-108931f1cf20>:23: FutureWarning: The frame.append method is deprecated and will be removed from pandas in a future version. Use pandas.concat instead.\n",
            "  df = df.append(df_temp, ignore_index = True)\n",
            "<ipython-input-56-108931f1cf20>:23: FutureWarning: The frame.append method is deprecated and will be removed from pandas in a future version. Use pandas.concat instead.\n",
            "  df = df.append(df_temp, ignore_index = True)\n",
            "<ipython-input-56-108931f1cf20>:23: FutureWarning: The frame.append method is deprecated and will be removed from pandas in a future version. Use pandas.concat instead.\n",
            "  df = df.append(df_temp, ignore_index = True)\n",
            "<ipython-input-56-108931f1cf20>:23: FutureWarning: The frame.append method is deprecated and will be removed from pandas in a future version. Use pandas.concat instead.\n",
            "  df = df.append(df_temp, ignore_index = True)\n",
            "<ipython-input-56-108931f1cf20>:23: FutureWarning: The frame.append method is deprecated and will be removed from pandas in a future version. Use pandas.concat instead.\n",
            "  df = df.append(df_temp, ignore_index = True)\n",
            "<ipython-input-56-108931f1cf20>:23: FutureWarning: The frame.append method is deprecated and will be removed from pandas in a future version. Use pandas.concat instead.\n",
            "  df = df.append(df_temp, ignore_index = True)\n",
            "<ipython-input-56-108931f1cf20>:23: FutureWarning: The frame.append method is deprecated and will be removed from pandas in a future version. Use pandas.concat instead.\n",
            "  df = df.append(df_temp, ignore_index = True)\n",
            "<ipython-input-56-108931f1cf20>:23: FutureWarning: The frame.append method is deprecated and will be removed from pandas in a future version. Use pandas.concat instead.\n",
            "  df = df.append(df_temp, ignore_index = True)\n",
            "<ipython-input-56-108931f1cf20>:23: FutureWarning: The frame.append method is deprecated and will be removed from pandas in a future version. Use pandas.concat instead.\n",
            "  df = df.append(df_temp, ignore_index = True)\n",
            "<ipython-input-56-108931f1cf20>:23: FutureWarning: The frame.append method is deprecated and will be removed from pandas in a future version. Use pandas.concat instead.\n",
            "  df = df.append(df_temp, ignore_index = True)\n",
            "<ipython-input-56-108931f1cf20>:23: FutureWarning: The frame.append method is deprecated and will be removed from pandas in a future version. Use pandas.concat instead.\n",
            "  df = df.append(df_temp, ignore_index = True)\n",
            "<ipython-input-56-108931f1cf20>:23: FutureWarning: The frame.append method is deprecated and will be removed from pandas in a future version. Use pandas.concat instead.\n",
            "  df = df.append(df_temp, ignore_index = True)\n",
            "<ipython-input-56-108931f1cf20>:23: FutureWarning: The frame.append method is deprecated and will be removed from pandas in a future version. Use pandas.concat instead.\n",
            "  df = df.append(df_temp, ignore_index = True)\n",
            "<ipython-input-56-108931f1cf20>:23: FutureWarning: The frame.append method is deprecated and will be removed from pandas in a future version. Use pandas.concat instead.\n",
            "  df = df.append(df_temp, ignore_index = True)\n",
            "<ipython-input-56-108931f1cf20>:23: FutureWarning: The frame.append method is deprecated and will be removed from pandas in a future version. Use pandas.concat instead.\n",
            "  df = df.append(df_temp, ignore_index = True)\n",
            "<ipython-input-56-108931f1cf20>:23: FutureWarning: The frame.append method is deprecated and will be removed from pandas in a future version. Use pandas.concat instead.\n",
            "  df = df.append(df_temp, ignore_index = True)\n",
            "<ipython-input-56-108931f1cf20>:23: FutureWarning: The frame.append method is deprecated and will be removed from pandas in a future version. Use pandas.concat instead.\n",
            "  df = df.append(df_temp, ignore_index = True)\n",
            "<ipython-input-56-108931f1cf20>:23: FutureWarning: The frame.append method is deprecated and will be removed from pandas in a future version. Use pandas.concat instead.\n",
            "  df = df.append(df_temp, ignore_index = True)\n",
            "<ipython-input-56-108931f1cf20>:23: FutureWarning: The frame.append method is deprecated and will be removed from pandas in a future version. Use pandas.concat instead.\n",
            "  df = df.append(df_temp, ignore_index = True)\n",
            "<ipython-input-56-108931f1cf20>:23: FutureWarning: The frame.append method is deprecated and will be removed from pandas in a future version. Use pandas.concat instead.\n",
            "  df = df.append(df_temp, ignore_index = True)\n",
            "<ipython-input-56-108931f1cf20>:23: FutureWarning: The frame.append method is deprecated and will be removed from pandas in a future version. Use pandas.concat instead.\n",
            "  df = df.append(df_temp, ignore_index = True)\n",
            "<ipython-input-56-108931f1cf20>:23: FutureWarning: The frame.append method is deprecated and will be removed from pandas in a future version. Use pandas.concat instead.\n",
            "  df = df.append(df_temp, ignore_index = True)\n",
            "<ipython-input-56-108931f1cf20>:23: FutureWarning: The frame.append method is deprecated and will be removed from pandas in a future version. Use pandas.concat instead.\n",
            "  df = df.append(df_temp, ignore_index = True)\n",
            "<ipython-input-56-108931f1cf20>:23: FutureWarning: The frame.append method is deprecated and will be removed from pandas in a future version. Use pandas.concat instead.\n",
            "  df = df.append(df_temp, ignore_index = True)\n",
            "<ipython-input-56-108931f1cf20>:23: FutureWarning: The frame.append method is deprecated and will be removed from pandas in a future version. Use pandas.concat instead.\n",
            "  df = df.append(df_temp, ignore_index = True)\n",
            "<ipython-input-56-108931f1cf20>:23: FutureWarning: The frame.append method is deprecated and will be removed from pandas in a future version. Use pandas.concat instead.\n",
            "  df = df.append(df_temp, ignore_index = True)\n",
            "<ipython-input-56-108931f1cf20>:23: FutureWarning: The frame.append method is deprecated and will be removed from pandas in a future version. Use pandas.concat instead.\n",
            "  df = df.append(df_temp, ignore_index = True)\n",
            "<ipython-input-56-108931f1cf20>:23: FutureWarning: The frame.append method is deprecated and will be removed from pandas in a future version. Use pandas.concat instead.\n",
            "  df = df.append(df_temp, ignore_index = True)\n",
            "<ipython-input-56-108931f1cf20>:23: FutureWarning: The frame.append method is deprecated and will be removed from pandas in a future version. Use pandas.concat instead.\n",
            "  df = df.append(df_temp, ignore_index = True)\n",
            "<ipython-input-56-108931f1cf20>:23: FutureWarning: The frame.append method is deprecated and will be removed from pandas in a future version. Use pandas.concat instead.\n",
            "  df = df.append(df_temp, ignore_index = True)\n",
            "<ipython-input-56-108931f1cf20>:23: FutureWarning: The frame.append method is deprecated and will be removed from pandas in a future version. Use pandas.concat instead.\n",
            "  df = df.append(df_temp, ignore_index = True)\n",
            "<ipython-input-56-108931f1cf20>:23: FutureWarning: The frame.append method is deprecated and will be removed from pandas in a future version. Use pandas.concat instead.\n",
            "  df = df.append(df_temp, ignore_index = True)\n",
            "<ipython-input-56-108931f1cf20>:23: FutureWarning: The frame.append method is deprecated and will be removed from pandas in a future version. Use pandas.concat instead.\n",
            "  df = df.append(df_temp, ignore_index = True)\n",
            "<ipython-input-56-108931f1cf20>:23: FutureWarning: The frame.append method is deprecated and will be removed from pandas in a future version. Use pandas.concat instead.\n",
            "  df = df.append(df_temp, ignore_index = True)\n",
            "<ipython-input-56-108931f1cf20>:23: FutureWarning: The frame.append method is deprecated and will be removed from pandas in a future version. Use pandas.concat instead.\n",
            "  df = df.append(df_temp, ignore_index = True)\n",
            "<ipython-input-56-108931f1cf20>:23: FutureWarning: The frame.append method is deprecated and will be removed from pandas in a future version. Use pandas.concat instead.\n",
            "  df = df.append(df_temp, ignore_index = True)\n",
            "<ipython-input-56-108931f1cf20>:23: FutureWarning: The frame.append method is deprecated and will be removed from pandas in a future version. Use pandas.concat instead.\n",
            "  df = df.append(df_temp, ignore_index = True)\n",
            "<ipython-input-56-108931f1cf20>:23: FutureWarning: The frame.append method is deprecated and will be removed from pandas in a future version. Use pandas.concat instead.\n",
            "  df = df.append(df_temp, ignore_index = True)\n",
            "<ipython-input-56-108931f1cf20>:23: FutureWarning: The frame.append method is deprecated and will be removed from pandas in a future version. Use pandas.concat instead.\n",
            "  df = df.append(df_temp, ignore_index = True)\n",
            "<ipython-input-56-108931f1cf20>:23: FutureWarning: The frame.append method is deprecated and will be removed from pandas in a future version. Use pandas.concat instead.\n",
            "  df = df.append(df_temp, ignore_index = True)\n",
            "<ipython-input-56-108931f1cf20>:23: FutureWarning: The frame.append method is deprecated and will be removed from pandas in a future version. Use pandas.concat instead.\n",
            "  df = df.append(df_temp, ignore_index = True)\n",
            "<ipython-input-56-108931f1cf20>:23: FutureWarning: The frame.append method is deprecated and will be removed from pandas in a future version. Use pandas.concat instead.\n",
            "  df = df.append(df_temp, ignore_index = True)\n",
            "<ipython-input-56-108931f1cf20>:23: FutureWarning: The frame.append method is deprecated and will be removed from pandas in a future version. Use pandas.concat instead.\n",
            "  df = df.append(df_temp, ignore_index = True)\n",
            "<ipython-input-56-108931f1cf20>:23: FutureWarning: The frame.append method is deprecated and will be removed from pandas in a future version. Use pandas.concat instead.\n",
            "  df = df.append(df_temp, ignore_index = True)\n",
            "<ipython-input-56-108931f1cf20>:23: FutureWarning: The frame.append method is deprecated and will be removed from pandas in a future version. Use pandas.concat instead.\n",
            "  df = df.append(df_temp, ignore_index = True)\n",
            "<ipython-input-56-108931f1cf20>:23: FutureWarning: The frame.append method is deprecated and will be removed from pandas in a future version. Use pandas.concat instead.\n",
            "  df = df.append(df_temp, ignore_index = True)\n",
            "<ipython-input-56-108931f1cf20>:23: FutureWarning: The frame.append method is deprecated and will be removed from pandas in a future version. Use pandas.concat instead.\n",
            "  df = df.append(df_temp, ignore_index = True)\n",
            "<ipython-input-56-108931f1cf20>:23: FutureWarning: The frame.append method is deprecated and will be removed from pandas in a future version. Use pandas.concat instead.\n",
            "  df = df.append(df_temp, ignore_index = True)\n",
            "<ipython-input-56-108931f1cf20>:23: FutureWarning: The frame.append method is deprecated and will be removed from pandas in a future version. Use pandas.concat instead.\n",
            "  df = df.append(df_temp, ignore_index = True)\n",
            "<ipython-input-56-108931f1cf20>:23: FutureWarning: The frame.append method is deprecated and will be removed from pandas in a future version. Use pandas.concat instead.\n",
            "  df = df.append(df_temp, ignore_index = True)\n",
            "<ipython-input-56-108931f1cf20>:23: FutureWarning: The frame.append method is deprecated and will be removed from pandas in a future version. Use pandas.concat instead.\n",
            "  df = df.append(df_temp, ignore_index = True)\n",
            "<ipython-input-56-108931f1cf20>:23: FutureWarning: The frame.append method is deprecated and will be removed from pandas in a future version. Use pandas.concat instead.\n",
            "  df = df.append(df_temp, ignore_index = True)\n",
            "<ipython-input-56-108931f1cf20>:23: FutureWarning: The frame.append method is deprecated and will be removed from pandas in a future version. Use pandas.concat instead.\n",
            "  df = df.append(df_temp, ignore_index = True)\n",
            "<ipython-input-56-108931f1cf20>:23: FutureWarning: The frame.append method is deprecated and will be removed from pandas in a future version. Use pandas.concat instead.\n",
            "  df = df.append(df_temp, ignore_index = True)\n",
            "<ipython-input-56-108931f1cf20>:23: FutureWarning: The frame.append method is deprecated and will be removed from pandas in a future version. Use pandas.concat instead.\n",
            "  df = df.append(df_temp, ignore_index = True)\n",
            "<ipython-input-56-108931f1cf20>:23: FutureWarning: The frame.append method is deprecated and will be removed from pandas in a future version. Use pandas.concat instead.\n",
            "  df = df.append(df_temp, ignore_index = True)\n",
            "<ipython-input-56-108931f1cf20>:23: FutureWarning: The frame.append method is deprecated and will be removed from pandas in a future version. Use pandas.concat instead.\n",
            "  df = df.append(df_temp, ignore_index = True)\n",
            "<ipython-input-56-108931f1cf20>:23: FutureWarning: The frame.append method is deprecated and will be removed from pandas in a future version. Use pandas.concat instead.\n",
            "  df = df.append(df_temp, ignore_index = True)\n",
            "<ipython-input-56-108931f1cf20>:23: FutureWarning: The frame.append method is deprecated and will be removed from pandas in a future version. Use pandas.concat instead.\n",
            "  df = df.append(df_temp, ignore_index = True)\n",
            "<ipython-input-56-108931f1cf20>:23: FutureWarning: The frame.append method is deprecated and will be removed from pandas in a future version. Use pandas.concat instead.\n",
            "  df = df.append(df_temp, ignore_index = True)\n",
            "<ipython-input-56-108931f1cf20>:23: FutureWarning: The frame.append method is deprecated and will be removed from pandas in a future version. Use pandas.concat instead.\n",
            "  df = df.append(df_temp, ignore_index = True)\n",
            "<ipython-input-56-108931f1cf20>:23: FutureWarning: The frame.append method is deprecated and will be removed from pandas in a future version. Use pandas.concat instead.\n",
            "  df = df.append(df_temp, ignore_index = True)\n",
            "<ipython-input-56-108931f1cf20>:23: FutureWarning: The frame.append method is deprecated and will be removed from pandas in a future version. Use pandas.concat instead.\n",
            "  df = df.append(df_temp, ignore_index = True)\n",
            "<ipython-input-56-108931f1cf20>:23: FutureWarning: The frame.append method is deprecated and will be removed from pandas in a future version. Use pandas.concat instead.\n",
            "  df = df.append(df_temp, ignore_index = True)\n",
            "<ipython-input-56-108931f1cf20>:23: FutureWarning: The frame.append method is deprecated and will be removed from pandas in a future version. Use pandas.concat instead.\n",
            "  df = df.append(df_temp, ignore_index = True)\n",
            "<ipython-input-56-108931f1cf20>:23: FutureWarning: The frame.append method is deprecated and will be removed from pandas in a future version. Use pandas.concat instead.\n",
            "  df = df.append(df_temp, ignore_index = True)\n",
            "<ipython-input-56-108931f1cf20>:23: FutureWarning: The frame.append method is deprecated and will be removed from pandas in a future version. Use pandas.concat instead.\n",
            "  df = df.append(df_temp, ignore_index = True)\n",
            "<ipython-input-56-108931f1cf20>:23: FutureWarning: The frame.append method is deprecated and will be removed from pandas in a future version. Use pandas.concat instead.\n",
            "  df = df.append(df_temp, ignore_index = True)\n",
            "<ipython-input-56-108931f1cf20>:23: FutureWarning: The frame.append method is deprecated and will be removed from pandas in a future version. Use pandas.concat instead.\n",
            "  df = df.append(df_temp, ignore_index = True)\n",
            "<ipython-input-56-108931f1cf20>:23: FutureWarning: The frame.append method is deprecated and will be removed from pandas in a future version. Use pandas.concat instead.\n",
            "  df = df.append(df_temp, ignore_index = True)\n",
            "<ipython-input-56-108931f1cf20>:23: FutureWarning: The frame.append method is deprecated and will be removed from pandas in a future version. Use pandas.concat instead.\n",
            "  df = df.append(df_temp, ignore_index = True)\n",
            "<ipython-input-56-108931f1cf20>:23: FutureWarning: The frame.append method is deprecated and will be removed from pandas in a future version. Use pandas.concat instead.\n",
            "  df = df.append(df_temp, ignore_index = True)\n",
            "<ipython-input-56-108931f1cf20>:23: FutureWarning: The frame.append method is deprecated and will be removed from pandas in a future version. Use pandas.concat instead.\n",
            "  df = df.append(df_temp, ignore_index = True)\n",
            "<ipython-input-56-108931f1cf20>:23: FutureWarning: The frame.append method is deprecated and will be removed from pandas in a future version. Use pandas.concat instead.\n",
            "  df = df.append(df_temp, ignore_index = True)\n",
            "<ipython-input-56-108931f1cf20>:23: FutureWarning: The frame.append method is deprecated and will be removed from pandas in a future version. Use pandas.concat instead.\n",
            "  df = df.append(df_temp, ignore_index = True)\n",
            "<ipython-input-56-108931f1cf20>:23: FutureWarning: The frame.append method is deprecated and will be removed from pandas in a future version. Use pandas.concat instead.\n",
            "  df = df.append(df_temp, ignore_index = True)\n",
            "<ipython-input-56-108931f1cf20>:23: FutureWarning: The frame.append method is deprecated and will be removed from pandas in a future version. Use pandas.concat instead.\n",
            "  df = df.append(df_temp, ignore_index = True)\n",
            "<ipython-input-56-108931f1cf20>:23: FutureWarning: The frame.append method is deprecated and will be removed from pandas in a future version. Use pandas.concat instead.\n",
            "  df = df.append(df_temp, ignore_index = True)\n",
            "<ipython-input-56-108931f1cf20>:23: FutureWarning: The frame.append method is deprecated and will be removed from pandas in a future version. Use pandas.concat instead.\n",
            "  df = df.append(df_temp, ignore_index = True)\n",
            "<ipython-input-56-108931f1cf20>:23: FutureWarning: The frame.append method is deprecated and will be removed from pandas in a future version. Use pandas.concat instead.\n",
            "  df = df.append(df_temp, ignore_index = True)\n",
            "<ipython-input-56-108931f1cf20>:23: FutureWarning: The frame.append method is deprecated and will be removed from pandas in a future version. Use pandas.concat instead.\n",
            "  df = df.append(df_temp, ignore_index = True)\n",
            "<ipython-input-56-108931f1cf20>:23: FutureWarning: The frame.append method is deprecated and will be removed from pandas in a future version. Use pandas.concat instead.\n",
            "  df = df.append(df_temp, ignore_index = True)\n",
            "<ipython-input-56-108931f1cf20>:23: FutureWarning: The frame.append method is deprecated and will be removed from pandas in a future version. Use pandas.concat instead.\n",
            "  df = df.append(df_temp, ignore_index = True)\n",
            "<ipython-input-56-108931f1cf20>:23: FutureWarning: The frame.append method is deprecated and will be removed from pandas in a future version. Use pandas.concat instead.\n",
            "  df = df.append(df_temp, ignore_index = True)\n",
            "<ipython-input-56-108931f1cf20>:23: FutureWarning: The frame.append method is deprecated and will be removed from pandas in a future version. Use pandas.concat instead.\n",
            "  df = df.append(df_temp, ignore_index = True)\n",
            "<ipython-input-56-108931f1cf20>:23: FutureWarning: The frame.append method is deprecated and will be removed from pandas in a future version. Use pandas.concat instead.\n",
            "  df = df.append(df_temp, ignore_index = True)\n",
            "<ipython-input-56-108931f1cf20>:23: FutureWarning: The frame.append method is deprecated and will be removed from pandas in a future version. Use pandas.concat instead.\n",
            "  df = df.append(df_temp, ignore_index = True)\n",
            "<ipython-input-56-108931f1cf20>:23: FutureWarning: The frame.append method is deprecated and will be removed from pandas in a future version. Use pandas.concat instead.\n",
            "  df = df.append(df_temp, ignore_index = True)\n",
            "<ipython-input-56-108931f1cf20>:23: FutureWarning: The frame.append method is deprecated and will be removed from pandas in a future version. Use pandas.concat instead.\n",
            "  df = df.append(df_temp, ignore_index = True)\n",
            "<ipython-input-56-108931f1cf20>:23: FutureWarning: The frame.append method is deprecated and will be removed from pandas in a future version. Use pandas.concat instead.\n",
            "  df = df.append(df_temp, ignore_index = True)\n",
            "<ipython-input-56-108931f1cf20>:23: FutureWarning: The frame.append method is deprecated and will be removed from pandas in a future version. Use pandas.concat instead.\n",
            "  df = df.append(df_temp, ignore_index = True)\n",
            "<ipython-input-56-108931f1cf20>:23: FutureWarning: The frame.append method is deprecated and will be removed from pandas in a future version. Use pandas.concat instead.\n",
            "  df = df.append(df_temp, ignore_index = True)\n",
            "<ipython-input-56-108931f1cf20>:23: FutureWarning: The frame.append method is deprecated and will be removed from pandas in a future version. Use pandas.concat instead.\n",
            "  df = df.append(df_temp, ignore_index = True)\n",
            "<ipython-input-56-108931f1cf20>:23: FutureWarning: The frame.append method is deprecated and will be removed from pandas in a future version. Use pandas.concat instead.\n",
            "  df = df.append(df_temp, ignore_index = True)\n",
            "<ipython-input-56-108931f1cf20>:23: FutureWarning: The frame.append method is deprecated and will be removed from pandas in a future version. Use pandas.concat instead.\n",
            "  df = df.append(df_temp, ignore_index = True)\n",
            "<ipython-input-56-108931f1cf20>:23: FutureWarning: The frame.append method is deprecated and will be removed from pandas in a future version. Use pandas.concat instead.\n",
            "  df = df.append(df_temp, ignore_index = True)\n",
            "<ipython-input-56-108931f1cf20>:23: FutureWarning: The frame.append method is deprecated and will be removed from pandas in a future version. Use pandas.concat instead.\n",
            "  df = df.append(df_temp, ignore_index = True)\n",
            "<ipython-input-56-108931f1cf20>:23: FutureWarning: The frame.append method is deprecated and will be removed from pandas in a future version. Use pandas.concat instead.\n",
            "  df = df.append(df_temp, ignore_index = True)\n",
            "<ipython-input-56-108931f1cf20>:23: FutureWarning: The frame.append method is deprecated and will be removed from pandas in a future version. Use pandas.concat instead.\n",
            "  df = df.append(df_temp, ignore_index = True)\n",
            "<ipython-input-56-108931f1cf20>:23: FutureWarning: The frame.append method is deprecated and will be removed from pandas in a future version. Use pandas.concat instead.\n",
            "  df = df.append(df_temp, ignore_index = True)\n",
            "<ipython-input-56-108931f1cf20>:23: FutureWarning: The frame.append method is deprecated and will be removed from pandas in a future version. Use pandas.concat instead.\n",
            "  df = df.append(df_temp, ignore_index = True)\n",
            "<ipython-input-56-108931f1cf20>:23: FutureWarning: The frame.append method is deprecated and will be removed from pandas in a future version. Use pandas.concat instead.\n",
            "  df = df.append(df_temp, ignore_index = True)\n",
            "<ipython-input-56-108931f1cf20>:23: FutureWarning: The frame.append method is deprecated and will be removed from pandas in a future version. Use pandas.concat instead.\n",
            "  df = df.append(df_temp, ignore_index = True)\n",
            "<ipython-input-56-108931f1cf20>:23: FutureWarning: The frame.append method is deprecated and will be removed from pandas in a future version. Use pandas.concat instead.\n",
            "  df = df.append(df_temp, ignore_index = True)\n",
            "<ipython-input-56-108931f1cf20>:23: FutureWarning: The frame.append method is deprecated and will be removed from pandas in a future version. Use pandas.concat instead.\n",
            "  df = df.append(df_temp, ignore_index = True)\n",
            "<ipython-input-56-108931f1cf20>:23: FutureWarning: The frame.append method is deprecated and will be removed from pandas in a future version. Use pandas.concat instead.\n",
            "  df = df.append(df_temp, ignore_index = True)\n",
            "<ipython-input-56-108931f1cf20>:23: FutureWarning: The frame.append method is deprecated and will be removed from pandas in a future version. Use pandas.concat instead.\n",
            "  df = df.append(df_temp, ignore_index = True)\n",
            "<ipython-input-56-108931f1cf20>:23: FutureWarning: The frame.append method is deprecated and will be removed from pandas in a future version. Use pandas.concat instead.\n",
            "  df = df.append(df_temp, ignore_index = True)\n",
            "<ipython-input-56-108931f1cf20>:23: FutureWarning: The frame.append method is deprecated and will be removed from pandas in a future version. Use pandas.concat instead.\n",
            "  df = df.append(df_temp, ignore_index = True)\n",
            "<ipython-input-56-108931f1cf20>:23: FutureWarning: The frame.append method is deprecated and will be removed from pandas in a future version. Use pandas.concat instead.\n",
            "  df = df.append(df_temp, ignore_index = True)\n",
            "<ipython-input-56-108931f1cf20>:23: FutureWarning: The frame.append method is deprecated and will be removed from pandas in a future version. Use pandas.concat instead.\n",
            "  df = df.append(df_temp, ignore_index = True)\n",
            "<ipython-input-56-108931f1cf20>:23: FutureWarning: The frame.append method is deprecated and will be removed from pandas in a future version. Use pandas.concat instead.\n",
            "  df = df.append(df_temp, ignore_index = True)\n",
            "<ipython-input-56-108931f1cf20>:23: FutureWarning: The frame.append method is deprecated and will be removed from pandas in a future version. Use pandas.concat instead.\n",
            "  df = df.append(df_temp, ignore_index = True)\n",
            "<ipython-input-56-108931f1cf20>:23: FutureWarning: The frame.append method is deprecated and will be removed from pandas in a future version. Use pandas.concat instead.\n",
            "  df = df.append(df_temp, ignore_index = True)\n",
            "<ipython-input-56-108931f1cf20>:23: FutureWarning: The frame.append method is deprecated and will be removed from pandas in a future version. Use pandas.concat instead.\n",
            "  df = df.append(df_temp, ignore_index = True)\n",
            "<ipython-input-56-108931f1cf20>:23: FutureWarning: The frame.append method is deprecated and will be removed from pandas in a future version. Use pandas.concat instead.\n",
            "  df = df.append(df_temp, ignore_index = True)\n",
            "<ipython-input-56-108931f1cf20>:23: FutureWarning: The frame.append method is deprecated and will be removed from pandas in a future version. Use pandas.concat instead.\n",
            "  df = df.append(df_temp, ignore_index = True)\n",
            "<ipython-input-56-108931f1cf20>:23: FutureWarning: The frame.append method is deprecated and will be removed from pandas in a future version. Use pandas.concat instead.\n",
            "  df = df.append(df_temp, ignore_index = True)\n",
            "<ipython-input-56-108931f1cf20>:23: FutureWarning: The frame.append method is deprecated and will be removed from pandas in a future version. Use pandas.concat instead.\n",
            "  df = df.append(df_temp, ignore_index = True)\n",
            "<ipython-input-56-108931f1cf20>:23: FutureWarning: The frame.append method is deprecated and will be removed from pandas in a future version. Use pandas.concat instead.\n",
            "  df = df.append(df_temp, ignore_index = True)\n",
            "<ipython-input-56-108931f1cf20>:23: FutureWarning: The frame.append method is deprecated and will be removed from pandas in a future version. Use pandas.concat instead.\n",
            "  df = df.append(df_temp, ignore_index = True)\n",
            "<ipython-input-56-108931f1cf20>:23: FutureWarning: The frame.append method is deprecated and will be removed from pandas in a future version. Use pandas.concat instead.\n",
            "  df = df.append(df_temp, ignore_index = True)\n",
            "<ipython-input-56-108931f1cf20>:23: FutureWarning: The frame.append method is deprecated and will be removed from pandas in a future version. Use pandas.concat instead.\n",
            "  df = df.append(df_temp, ignore_index = True)\n",
            "<ipython-input-56-108931f1cf20>:23: FutureWarning: The frame.append method is deprecated and will be removed from pandas in a future version. Use pandas.concat instead.\n",
            "  df = df.append(df_temp, ignore_index = True)\n",
            "<ipython-input-56-108931f1cf20>:23: FutureWarning: The frame.append method is deprecated and will be removed from pandas in a future version. Use pandas.concat instead.\n",
            "  df = df.append(df_temp, ignore_index = True)\n",
            "<ipython-input-56-108931f1cf20>:23: FutureWarning: The frame.append method is deprecated and will be removed from pandas in a future version. Use pandas.concat instead.\n",
            "  df = df.append(df_temp, ignore_index = True)\n",
            "<ipython-input-56-108931f1cf20>:23: FutureWarning: The frame.append method is deprecated and will be removed from pandas in a future version. Use pandas.concat instead.\n",
            "  df = df.append(df_temp, ignore_index = True)\n",
            "<ipython-input-56-108931f1cf20>:23: FutureWarning: The frame.append method is deprecated and will be removed from pandas in a future version. Use pandas.concat instead.\n",
            "  df = df.append(df_temp, ignore_index = True)\n",
            "<ipython-input-56-108931f1cf20>:23: FutureWarning: The frame.append method is deprecated and will be removed from pandas in a future version. Use pandas.concat instead.\n",
            "  df = df.append(df_temp, ignore_index = True)\n",
            "<ipython-input-56-108931f1cf20>:23: FutureWarning: The frame.append method is deprecated and will be removed from pandas in a future version. Use pandas.concat instead.\n",
            "  df = df.append(df_temp, ignore_index = True)\n",
            "<ipython-input-56-108931f1cf20>:23: FutureWarning: The frame.append method is deprecated and will be removed from pandas in a future version. Use pandas.concat instead.\n",
            "  df = df.append(df_temp, ignore_index = True)\n",
            "<ipython-input-56-108931f1cf20>:23: FutureWarning: The frame.append method is deprecated and will be removed from pandas in a future version. Use pandas.concat instead.\n",
            "  df = df.append(df_temp, ignore_index = True)\n",
            "<ipython-input-56-108931f1cf20>:23: FutureWarning: The frame.append method is deprecated and will be removed from pandas in a future version. Use pandas.concat instead.\n",
            "  df = df.append(df_temp, ignore_index = True)\n",
            "<ipython-input-56-108931f1cf20>:23: FutureWarning: The frame.append method is deprecated and will be removed from pandas in a future version. Use pandas.concat instead.\n",
            "  df = df.append(df_temp, ignore_index = True)\n",
            "<ipython-input-56-108931f1cf20>:23: FutureWarning: The frame.append method is deprecated and will be removed from pandas in a future version. Use pandas.concat instead.\n",
            "  df = df.append(df_temp, ignore_index = True)\n",
            "<ipython-input-56-108931f1cf20>:23: FutureWarning: The frame.append method is deprecated and will be removed from pandas in a future version. Use pandas.concat instead.\n",
            "  df = df.append(df_temp, ignore_index = True)\n",
            "<ipython-input-56-108931f1cf20>:23: FutureWarning: The frame.append method is deprecated and will be removed from pandas in a future version. Use pandas.concat instead.\n",
            "  df = df.append(df_temp, ignore_index = True)\n",
            "<ipython-input-56-108931f1cf20>:23: FutureWarning: The frame.append method is deprecated and will be removed from pandas in a future version. Use pandas.concat instead.\n",
            "  df = df.append(df_temp, ignore_index = True)\n",
            "<ipython-input-56-108931f1cf20>:23: FutureWarning: The frame.append method is deprecated and will be removed from pandas in a future version. Use pandas.concat instead.\n",
            "  df = df.append(df_temp, ignore_index = True)\n",
            "<ipython-input-56-108931f1cf20>:23: FutureWarning: The frame.append method is deprecated and will be removed from pandas in a future version. Use pandas.concat instead.\n",
            "  df = df.append(df_temp, ignore_index = True)\n",
            "<ipython-input-56-108931f1cf20>:23: FutureWarning: The frame.append method is deprecated and will be removed from pandas in a future version. Use pandas.concat instead.\n",
            "  df = df.append(df_temp, ignore_index = True)\n",
            "<ipython-input-56-108931f1cf20>:23: FutureWarning: The frame.append method is deprecated and will be removed from pandas in a future version. Use pandas.concat instead.\n",
            "  df = df.append(df_temp, ignore_index = True)\n",
            "<ipython-input-56-108931f1cf20>:23: FutureWarning: The frame.append method is deprecated and will be removed from pandas in a future version. Use pandas.concat instead.\n",
            "  df = df.append(df_temp, ignore_index = True)\n",
            "<ipython-input-56-108931f1cf20>:23: FutureWarning: The frame.append method is deprecated and will be removed from pandas in a future version. Use pandas.concat instead.\n",
            "  df = df.append(df_temp, ignore_index = True)\n",
            "<ipython-input-56-108931f1cf20>:23: FutureWarning: The frame.append method is deprecated and will be removed from pandas in a future version. Use pandas.concat instead.\n",
            "  df = df.append(df_temp, ignore_index = True)\n",
            "<ipython-input-56-108931f1cf20>:23: FutureWarning: The frame.append method is deprecated and will be removed from pandas in a future version. Use pandas.concat instead.\n",
            "  df = df.append(df_temp, ignore_index = True)\n",
            "<ipython-input-56-108931f1cf20>:23: FutureWarning: The frame.append method is deprecated and will be removed from pandas in a future version. Use pandas.concat instead.\n",
            "  df = df.append(df_temp, ignore_index = True)\n",
            "<ipython-input-56-108931f1cf20>:23: FutureWarning: The frame.append method is deprecated and will be removed from pandas in a future version. Use pandas.concat instead.\n",
            "  df = df.append(df_temp, ignore_index = True)\n",
            "<ipython-input-56-108931f1cf20>:23: FutureWarning: The frame.append method is deprecated and will be removed from pandas in a future version. Use pandas.concat instead.\n",
            "  df = df.append(df_temp, ignore_index = True)\n",
            "<ipython-input-56-108931f1cf20>:23: FutureWarning: The frame.append method is deprecated and will be removed from pandas in a future version. Use pandas.concat instead.\n",
            "  df = df.append(df_temp, ignore_index = True)\n",
            "<ipython-input-56-108931f1cf20>:23: FutureWarning: The frame.append method is deprecated and will be removed from pandas in a future version. Use pandas.concat instead.\n",
            "  df = df.append(df_temp, ignore_index = True)\n",
            "<ipython-input-56-108931f1cf20>:23: FutureWarning: The frame.append method is deprecated and will be removed from pandas in a future version. Use pandas.concat instead.\n",
            "  df = df.append(df_temp, ignore_index = True)\n",
            "<ipython-input-56-108931f1cf20>:23: FutureWarning: The frame.append method is deprecated and will be removed from pandas in a future version. Use pandas.concat instead.\n",
            "  df = df.append(df_temp, ignore_index = True)\n",
            "<ipython-input-56-108931f1cf20>:23: FutureWarning: The frame.append method is deprecated and will be removed from pandas in a future version. Use pandas.concat instead.\n",
            "  df = df.append(df_temp, ignore_index = True)\n",
            "<ipython-input-56-108931f1cf20>:23: FutureWarning: The frame.append method is deprecated and will be removed from pandas in a future version. Use pandas.concat instead.\n",
            "  df = df.append(df_temp, ignore_index = True)\n",
            "<ipython-input-56-108931f1cf20>:23: FutureWarning: The frame.append method is deprecated and will be removed from pandas in a future version. Use pandas.concat instead.\n",
            "  df = df.append(df_temp, ignore_index = True)\n",
            "<ipython-input-56-108931f1cf20>:23: FutureWarning: The frame.append method is deprecated and will be removed from pandas in a future version. Use pandas.concat instead.\n",
            "  df = df.append(df_temp, ignore_index = True)\n",
            "<ipython-input-56-108931f1cf20>:23: FutureWarning: The frame.append method is deprecated and will be removed from pandas in a future version. Use pandas.concat instead.\n",
            "  df = df.append(df_temp, ignore_index = True)\n",
            "<ipython-input-56-108931f1cf20>:23: FutureWarning: The frame.append method is deprecated and will be removed from pandas in a future version. Use pandas.concat instead.\n",
            "  df = df.append(df_temp, ignore_index = True)\n",
            "<ipython-input-56-108931f1cf20>:23: FutureWarning: The frame.append method is deprecated and will be removed from pandas in a future version. Use pandas.concat instead.\n",
            "  df = df.append(df_temp, ignore_index = True)\n",
            "<ipython-input-56-108931f1cf20>:23: FutureWarning: The frame.append method is deprecated and will be removed from pandas in a future version. Use pandas.concat instead.\n",
            "  df = df.append(df_temp, ignore_index = True)\n",
            "<ipython-input-56-108931f1cf20>:23: FutureWarning: The frame.append method is deprecated and will be removed from pandas in a future version. Use pandas.concat instead.\n",
            "  df = df.append(df_temp, ignore_index = True)\n",
            "<ipython-input-56-108931f1cf20>:23: FutureWarning: The frame.append method is deprecated and will be removed from pandas in a future version. Use pandas.concat instead.\n",
            "  df = df.append(df_temp, ignore_index = True)\n",
            "<ipython-input-56-108931f1cf20>:23: FutureWarning: The frame.append method is deprecated and will be removed from pandas in a future version. Use pandas.concat instead.\n",
            "  df = df.append(df_temp, ignore_index = True)\n",
            "<ipython-input-56-108931f1cf20>:23: FutureWarning: The frame.append method is deprecated and will be removed from pandas in a future version. Use pandas.concat instead.\n",
            "  df = df.append(df_temp, ignore_index = True)\n",
            "<ipython-input-56-108931f1cf20>:23: FutureWarning: The frame.append method is deprecated and will be removed from pandas in a future version. Use pandas.concat instead.\n",
            "  df = df.append(df_temp, ignore_index = True)\n",
            "<ipython-input-56-108931f1cf20>:23: FutureWarning: The frame.append method is deprecated and will be removed from pandas in a future version. Use pandas.concat instead.\n",
            "  df = df.append(df_temp, ignore_index = True)\n",
            "<ipython-input-56-108931f1cf20>:23: FutureWarning: The frame.append method is deprecated and will be removed from pandas in a future version. Use pandas.concat instead.\n",
            "  df = df.append(df_temp, ignore_index = True)\n",
            "<ipython-input-56-108931f1cf20>:23: FutureWarning: The frame.append method is deprecated and will be removed from pandas in a future version. Use pandas.concat instead.\n",
            "  df = df.append(df_temp, ignore_index = True)\n",
            "<ipython-input-56-108931f1cf20>:23: FutureWarning: The frame.append method is deprecated and will be removed from pandas in a future version. Use pandas.concat instead.\n",
            "  df = df.append(df_temp, ignore_index = True)\n",
            "<ipython-input-56-108931f1cf20>:23: FutureWarning: The frame.append method is deprecated and will be removed from pandas in a future version. Use pandas.concat instead.\n",
            "  df = df.append(df_temp, ignore_index = True)\n",
            "<ipython-input-56-108931f1cf20>:23: FutureWarning: The frame.append method is deprecated and will be removed from pandas in a future version. Use pandas.concat instead.\n",
            "  df = df.append(df_temp, ignore_index = True)\n",
            "<ipython-input-56-108931f1cf20>:23: FutureWarning: The frame.append method is deprecated and will be removed from pandas in a future version. Use pandas.concat instead.\n",
            "  df = df.append(df_temp, ignore_index = True)\n",
            "<ipython-input-56-108931f1cf20>:23: FutureWarning: The frame.append method is deprecated and will be removed from pandas in a future version. Use pandas.concat instead.\n",
            "  df = df.append(df_temp, ignore_index = True)\n",
            "<ipython-input-56-108931f1cf20>:23: FutureWarning: The frame.append method is deprecated and will be removed from pandas in a future version. Use pandas.concat instead.\n",
            "  df = df.append(df_temp, ignore_index = True)\n",
            "<ipython-input-56-108931f1cf20>:23: FutureWarning: The frame.append method is deprecated and will be removed from pandas in a future version. Use pandas.concat instead.\n",
            "  df = df.append(df_temp, ignore_index = True)\n",
            "<ipython-input-56-108931f1cf20>:23: FutureWarning: The frame.append method is deprecated and will be removed from pandas in a future version. Use pandas.concat instead.\n",
            "  df = df.append(df_temp, ignore_index = True)\n",
            "<ipython-input-56-108931f1cf20>:23: FutureWarning: The frame.append method is deprecated and will be removed from pandas in a future version. Use pandas.concat instead.\n",
            "  df = df.append(df_temp, ignore_index = True)\n",
            "<ipython-input-56-108931f1cf20>:23: FutureWarning: The frame.append method is deprecated and will be removed from pandas in a future version. Use pandas.concat instead.\n",
            "  df = df.append(df_temp, ignore_index = True)\n",
            "<ipython-input-56-108931f1cf20>:23: FutureWarning: The frame.append method is deprecated and will be removed from pandas in a future version. Use pandas.concat instead.\n",
            "  df = df.append(df_temp, ignore_index = True)\n",
            "<ipython-input-56-108931f1cf20>:23: FutureWarning: The frame.append method is deprecated and will be removed from pandas in a future version. Use pandas.concat instead.\n",
            "  df = df.append(df_temp, ignore_index = True)\n",
            "<ipython-input-56-108931f1cf20>:23: FutureWarning: The frame.append method is deprecated and will be removed from pandas in a future version. Use pandas.concat instead.\n",
            "  df = df.append(df_temp, ignore_index = True)\n",
            "<ipython-input-56-108931f1cf20>:23: FutureWarning: The frame.append method is deprecated and will be removed from pandas in a future version. Use pandas.concat instead.\n",
            "  df = df.append(df_temp, ignore_index = True)\n",
            "<ipython-input-56-108931f1cf20>:23: FutureWarning: The frame.append method is deprecated and will be removed from pandas in a future version. Use pandas.concat instead.\n",
            "  df = df.append(df_temp, ignore_index = True)\n",
            "<ipython-input-56-108931f1cf20>:23: FutureWarning: The frame.append method is deprecated and will be removed from pandas in a future version. Use pandas.concat instead.\n",
            "  df = df.append(df_temp, ignore_index = True)\n",
            "<ipython-input-56-108931f1cf20>:23: FutureWarning: The frame.append method is deprecated and will be removed from pandas in a future version. Use pandas.concat instead.\n",
            "  df = df.append(df_temp, ignore_index = True)\n",
            "<ipython-input-56-108931f1cf20>:23: FutureWarning: The frame.append method is deprecated and will be removed from pandas in a future version. Use pandas.concat instead.\n",
            "  df = df.append(df_temp, ignore_index = True)\n",
            "<ipython-input-56-108931f1cf20>:23: FutureWarning: The frame.append method is deprecated and will be removed from pandas in a future version. Use pandas.concat instead.\n",
            "  df = df.append(df_temp, ignore_index = True)\n",
            "<ipython-input-56-108931f1cf20>:23: FutureWarning: The frame.append method is deprecated and will be removed from pandas in a future version. Use pandas.concat instead.\n",
            "  df = df.append(df_temp, ignore_index = True)\n",
            "<ipython-input-56-108931f1cf20>:23: FutureWarning: The frame.append method is deprecated and will be removed from pandas in a future version. Use pandas.concat instead.\n",
            "  df = df.append(df_temp, ignore_index = True)\n",
            "<ipython-input-56-108931f1cf20>:23: FutureWarning: The frame.append method is deprecated and will be removed from pandas in a future version. Use pandas.concat instead.\n",
            "  df = df.append(df_temp, ignore_index = True)\n",
            "<ipython-input-56-108931f1cf20>:23: FutureWarning: The frame.append method is deprecated and will be removed from pandas in a future version. Use pandas.concat instead.\n",
            "  df = df.append(df_temp, ignore_index = True)\n",
            "<ipython-input-56-108931f1cf20>:23: FutureWarning: The frame.append method is deprecated and will be removed from pandas in a future version. Use pandas.concat instead.\n",
            "  df = df.append(df_temp, ignore_index = True)\n",
            "<ipython-input-56-108931f1cf20>:23: FutureWarning: The frame.append method is deprecated and will be removed from pandas in a future version. Use pandas.concat instead.\n",
            "  df = df.append(df_temp, ignore_index = True)\n",
            "<ipython-input-56-108931f1cf20>:23: FutureWarning: The frame.append method is deprecated and will be removed from pandas in a future version. Use pandas.concat instead.\n",
            "  df = df.append(df_temp, ignore_index = True)\n",
            "<ipython-input-56-108931f1cf20>:23: FutureWarning: The frame.append method is deprecated and will be removed from pandas in a future version. Use pandas.concat instead.\n",
            "  df = df.append(df_temp, ignore_index = True)\n",
            "<ipython-input-56-108931f1cf20>:23: FutureWarning: The frame.append method is deprecated and will be removed from pandas in a future version. Use pandas.concat instead.\n",
            "  df = df.append(df_temp, ignore_index = True)\n",
            "<ipython-input-56-108931f1cf20>:23: FutureWarning: The frame.append method is deprecated and will be removed from pandas in a future version. Use pandas.concat instead.\n",
            "  df = df.append(df_temp, ignore_index = True)\n",
            "<ipython-input-56-108931f1cf20>:23: FutureWarning: The frame.append method is deprecated and will be removed from pandas in a future version. Use pandas.concat instead.\n",
            "  df = df.append(df_temp, ignore_index = True)\n",
            "<ipython-input-56-108931f1cf20>:23: FutureWarning: The frame.append method is deprecated and will be removed from pandas in a future version. Use pandas.concat instead.\n",
            "  df = df.append(df_temp, ignore_index = True)\n",
            "<ipython-input-56-108931f1cf20>:23: FutureWarning: The frame.append method is deprecated and will be removed from pandas in a future version. Use pandas.concat instead.\n",
            "  df = df.append(df_temp, ignore_index = True)\n",
            "<ipython-input-56-108931f1cf20>:23: FutureWarning: The frame.append method is deprecated and will be removed from pandas in a future version. Use pandas.concat instead.\n",
            "  df = df.append(df_temp, ignore_index = True)\n",
            "<ipython-input-56-108931f1cf20>:23: FutureWarning: The frame.append method is deprecated and will be removed from pandas in a future version. Use pandas.concat instead.\n",
            "  df = df.append(df_temp, ignore_index = True)\n",
            "<ipython-input-56-108931f1cf20>:23: FutureWarning: The frame.append method is deprecated and will be removed from pandas in a future version. Use pandas.concat instead.\n",
            "  df = df.append(df_temp, ignore_index = True)\n",
            "<ipython-input-56-108931f1cf20>:23: FutureWarning: The frame.append method is deprecated and will be removed from pandas in a future version. Use pandas.concat instead.\n",
            "  df = df.append(df_temp, ignore_index = True)\n",
            "<ipython-input-56-108931f1cf20>:23: FutureWarning: The frame.append method is deprecated and will be removed from pandas in a future version. Use pandas.concat instead.\n",
            "  df = df.append(df_temp, ignore_index = True)\n",
            "<ipython-input-56-108931f1cf20>:23: FutureWarning: The frame.append method is deprecated and will be removed from pandas in a future version. Use pandas.concat instead.\n",
            "  df = df.append(df_temp, ignore_index = True)\n",
            "<ipython-input-56-108931f1cf20>:23: FutureWarning: The frame.append method is deprecated and will be removed from pandas in a future version. Use pandas.concat instead.\n",
            "  df = df.append(df_temp, ignore_index = True)\n",
            "<ipython-input-56-108931f1cf20>:23: FutureWarning: The frame.append method is deprecated and will be removed from pandas in a future version. Use pandas.concat instead.\n",
            "  df = df.append(df_temp, ignore_index = True)\n",
            "<ipython-input-56-108931f1cf20>:23: FutureWarning: The frame.append method is deprecated and will be removed from pandas in a future version. Use pandas.concat instead.\n",
            "  df = df.append(df_temp, ignore_index = True)\n",
            "<ipython-input-56-108931f1cf20>:23: FutureWarning: The frame.append method is deprecated and will be removed from pandas in a future version. Use pandas.concat instead.\n",
            "  df = df.append(df_temp, ignore_index = True)\n",
            "<ipython-input-56-108931f1cf20>:23: FutureWarning: The frame.append method is deprecated and will be removed from pandas in a future version. Use pandas.concat instead.\n",
            "  df = df.append(df_temp, ignore_index = True)\n",
            "<ipython-input-56-108931f1cf20>:23: FutureWarning: The frame.append method is deprecated and will be removed from pandas in a future version. Use pandas.concat instead.\n",
            "  df = df.append(df_temp, ignore_index = True)\n",
            "<ipython-input-56-108931f1cf20>:23: FutureWarning: The frame.append method is deprecated and will be removed from pandas in a future version. Use pandas.concat instead.\n",
            "  df = df.append(df_temp, ignore_index = True)\n",
            "<ipython-input-56-108931f1cf20>:23: FutureWarning: The frame.append method is deprecated and will be removed from pandas in a future version. Use pandas.concat instead.\n",
            "  df = df.append(df_temp, ignore_index = True)\n",
            "<ipython-input-56-108931f1cf20>:23: FutureWarning: The frame.append method is deprecated and will be removed from pandas in a future version. Use pandas.concat instead.\n",
            "  df = df.append(df_temp, ignore_index = True)\n",
            "<ipython-input-56-108931f1cf20>:23: FutureWarning: The frame.append method is deprecated and will be removed from pandas in a future version. Use pandas.concat instead.\n",
            "  df = df.append(df_temp, ignore_index = True)\n",
            "<ipython-input-56-108931f1cf20>:23: FutureWarning: The frame.append method is deprecated and will be removed from pandas in a future version. Use pandas.concat instead.\n",
            "  df = df.append(df_temp, ignore_index = True)\n",
            "<ipython-input-56-108931f1cf20>:23: FutureWarning: The frame.append method is deprecated and will be removed from pandas in a future version. Use pandas.concat instead.\n",
            "  df = df.append(df_temp, ignore_index = True)\n",
            "<ipython-input-56-108931f1cf20>:23: FutureWarning: The frame.append method is deprecated and will be removed from pandas in a future version. Use pandas.concat instead.\n",
            "  df = df.append(df_temp, ignore_index = True)\n",
            "<ipython-input-56-108931f1cf20>:23: FutureWarning: The frame.append method is deprecated and will be removed from pandas in a future version. Use pandas.concat instead.\n",
            "  df = df.append(df_temp, ignore_index = True)\n",
            "<ipython-input-56-108931f1cf20>:23: FutureWarning: The frame.append method is deprecated and will be removed from pandas in a future version. Use pandas.concat instead.\n",
            "  df = df.append(df_temp, ignore_index = True)\n",
            "<ipython-input-56-108931f1cf20>:23: FutureWarning: The frame.append method is deprecated and will be removed from pandas in a future version. Use pandas.concat instead.\n",
            "  df = df.append(df_temp, ignore_index = True)\n",
            "<ipython-input-56-108931f1cf20>:23: FutureWarning: The frame.append method is deprecated and will be removed from pandas in a future version. Use pandas.concat instead.\n",
            "  df = df.append(df_temp, ignore_index = True)\n",
            "<ipython-input-56-108931f1cf20>:23: FutureWarning: The frame.append method is deprecated and will be removed from pandas in a future version. Use pandas.concat instead.\n",
            "  df = df.append(df_temp, ignore_index = True)\n",
            "<ipython-input-56-108931f1cf20>:23: FutureWarning: The frame.append method is deprecated and will be removed from pandas in a future version. Use pandas.concat instead.\n",
            "  df = df.append(df_temp, ignore_index = True)\n",
            "<ipython-input-56-108931f1cf20>:23: FutureWarning: The frame.append method is deprecated and will be removed from pandas in a future version. Use pandas.concat instead.\n",
            "  df = df.append(df_temp, ignore_index = True)\n",
            "<ipython-input-56-108931f1cf20>:23: FutureWarning: The frame.append method is deprecated and will be removed from pandas in a future version. Use pandas.concat instead.\n",
            "  df = df.append(df_temp, ignore_index = True)\n",
            "<ipython-input-56-108931f1cf20>:23: FutureWarning: The frame.append method is deprecated and will be removed from pandas in a future version. Use pandas.concat instead.\n",
            "  df = df.append(df_temp, ignore_index = True)\n",
            "<ipython-input-56-108931f1cf20>:23: FutureWarning: The frame.append method is deprecated and will be removed from pandas in a future version. Use pandas.concat instead.\n",
            "  df = df.append(df_temp, ignore_index = True)\n",
            "<ipython-input-56-108931f1cf20>:23: FutureWarning: The frame.append method is deprecated and will be removed from pandas in a future version. Use pandas.concat instead.\n",
            "  df = df.append(df_temp, ignore_index = True)\n",
            "<ipython-input-56-108931f1cf20>:23: FutureWarning: The frame.append method is deprecated and will be removed from pandas in a future version. Use pandas.concat instead.\n",
            "  df = df.append(df_temp, ignore_index = True)\n",
            "<ipython-input-56-108931f1cf20>:23: FutureWarning: The frame.append method is deprecated and will be removed from pandas in a future version. Use pandas.concat instead.\n",
            "  df = df.append(df_temp, ignore_index = True)\n",
            "<ipython-input-56-108931f1cf20>:23: FutureWarning: The frame.append method is deprecated and will be removed from pandas in a future version. Use pandas.concat instead.\n",
            "  df = df.append(df_temp, ignore_index = True)\n",
            "<ipython-input-56-108931f1cf20>:23: FutureWarning: The frame.append method is deprecated and will be removed from pandas in a future version. Use pandas.concat instead.\n",
            "  df = df.append(df_temp, ignore_index = True)\n",
            "<ipython-input-56-108931f1cf20>:23: FutureWarning: The frame.append method is deprecated and will be removed from pandas in a future version. Use pandas.concat instead.\n",
            "  df = df.append(df_temp, ignore_index = True)\n",
            "<ipython-input-56-108931f1cf20>:23: FutureWarning: The frame.append method is deprecated and will be removed from pandas in a future version. Use pandas.concat instead.\n",
            "  df = df.append(df_temp, ignore_index = True)\n",
            "<ipython-input-56-108931f1cf20>:23: FutureWarning: The frame.append method is deprecated and will be removed from pandas in a future version. Use pandas.concat instead.\n",
            "  df = df.append(df_temp, ignore_index = True)\n",
            "<ipython-input-56-108931f1cf20>:23: FutureWarning: The frame.append method is deprecated and will be removed from pandas in a future version. Use pandas.concat instead.\n",
            "  df = df.append(df_temp, ignore_index = True)\n",
            "<ipython-input-56-108931f1cf20>:23: FutureWarning: The frame.append method is deprecated and will be removed from pandas in a future version. Use pandas.concat instead.\n",
            "  df = df.append(df_temp, ignore_index = True)\n",
            "<ipython-input-56-108931f1cf20>:23: FutureWarning: The frame.append method is deprecated and will be removed from pandas in a future version. Use pandas.concat instead.\n",
            "  df = df.append(df_temp, ignore_index = True)\n",
            "<ipython-input-56-108931f1cf20>:23: FutureWarning: The frame.append method is deprecated and will be removed from pandas in a future version. Use pandas.concat instead.\n",
            "  df = df.append(df_temp, ignore_index = True)\n",
            "<ipython-input-56-108931f1cf20>:23: FutureWarning: The frame.append method is deprecated and will be removed from pandas in a future version. Use pandas.concat instead.\n",
            "  df = df.append(df_temp, ignore_index = True)\n",
            "<ipython-input-56-108931f1cf20>:23: FutureWarning: The frame.append method is deprecated and will be removed from pandas in a future version. Use pandas.concat instead.\n",
            "  df = df.append(df_temp, ignore_index = True)\n",
            "<ipython-input-56-108931f1cf20>:23: FutureWarning: The frame.append method is deprecated and will be removed from pandas in a future version. Use pandas.concat instead.\n",
            "  df = df.append(df_temp, ignore_index = True)\n",
            "<ipython-input-56-108931f1cf20>:23: FutureWarning: The frame.append method is deprecated and will be removed from pandas in a future version. Use pandas.concat instead.\n",
            "  df = df.append(df_temp, ignore_index = True)\n",
            "<ipython-input-56-108931f1cf20>:23: FutureWarning: The frame.append method is deprecated and will be removed from pandas in a future version. Use pandas.concat instead.\n",
            "  df = df.append(df_temp, ignore_index = True)\n",
            "<ipython-input-56-108931f1cf20>:23: FutureWarning: The frame.append method is deprecated and will be removed from pandas in a future version. Use pandas.concat instead.\n",
            "  df = df.append(df_temp, ignore_index = True)\n",
            "<ipython-input-56-108931f1cf20>:23: FutureWarning: The frame.append method is deprecated and will be removed from pandas in a future version. Use pandas.concat instead.\n",
            "  df = df.append(df_temp, ignore_index = True)\n",
            "<ipython-input-56-108931f1cf20>:23: FutureWarning: The frame.append method is deprecated and will be removed from pandas in a future version. Use pandas.concat instead.\n",
            "  df = df.append(df_temp, ignore_index = True)\n",
            "<ipython-input-56-108931f1cf20>:23: FutureWarning: The frame.append method is deprecated and will be removed from pandas in a future version. Use pandas.concat instead.\n",
            "  df = df.append(df_temp, ignore_index = True)\n",
            "<ipython-input-56-108931f1cf20>:23: FutureWarning: The frame.append method is deprecated and will be removed from pandas in a future version. Use pandas.concat instead.\n",
            "  df = df.append(df_temp, ignore_index = True)\n",
            "<ipython-input-56-108931f1cf20>:23: FutureWarning: The frame.append method is deprecated and will be removed from pandas in a future version. Use pandas.concat instead.\n",
            "  df = df.append(df_temp, ignore_index = True)\n",
            "<ipython-input-56-108931f1cf20>:23: FutureWarning: The frame.append method is deprecated and will be removed from pandas in a future version. Use pandas.concat instead.\n",
            "  df = df.append(df_temp, ignore_index = True)\n",
            "<ipython-input-56-108931f1cf20>:23: FutureWarning: The frame.append method is deprecated and will be removed from pandas in a future version. Use pandas.concat instead.\n",
            "  df = df.append(df_temp, ignore_index = True)\n",
            "<ipython-input-56-108931f1cf20>:23: FutureWarning: The frame.append method is deprecated and will be removed from pandas in a future version. Use pandas.concat instead.\n",
            "  df = df.append(df_temp, ignore_index = True)\n",
            "<ipython-input-56-108931f1cf20>:23: FutureWarning: The frame.append method is deprecated and will be removed from pandas in a future version. Use pandas.concat instead.\n",
            "  df = df.append(df_temp, ignore_index = True)\n",
            "<ipython-input-56-108931f1cf20>:23: FutureWarning: The frame.append method is deprecated and will be removed from pandas in a future version. Use pandas.concat instead.\n",
            "  df = df.append(df_temp, ignore_index = True)\n",
            "<ipython-input-56-108931f1cf20>:23: FutureWarning: The frame.append method is deprecated and will be removed from pandas in a future version. Use pandas.concat instead.\n",
            "  df = df.append(df_temp, ignore_index = True)\n",
            "<ipython-input-56-108931f1cf20>:23: FutureWarning: The frame.append method is deprecated and will be removed from pandas in a future version. Use pandas.concat instead.\n",
            "  df = df.append(df_temp, ignore_index = True)\n",
            "<ipython-input-56-108931f1cf20>:23: FutureWarning: The frame.append method is deprecated and will be removed from pandas in a future version. Use pandas.concat instead.\n",
            "  df = df.append(df_temp, ignore_index = True)\n",
            "<ipython-input-56-108931f1cf20>:23: FutureWarning: The frame.append method is deprecated and will be removed from pandas in a future version. Use pandas.concat instead.\n",
            "  df = df.append(df_temp, ignore_index = True)\n",
            "<ipython-input-56-108931f1cf20>:23: FutureWarning: The frame.append method is deprecated and will be removed from pandas in a future version. Use pandas.concat instead.\n",
            "  df = df.append(df_temp, ignore_index = True)\n",
            "<ipython-input-56-108931f1cf20>:23: FutureWarning: The frame.append method is deprecated and will be removed from pandas in a future version. Use pandas.concat instead.\n",
            "  df = df.append(df_temp, ignore_index = True)\n",
            "<ipython-input-56-108931f1cf20>:23: FutureWarning: The frame.append method is deprecated and will be removed from pandas in a future version. Use pandas.concat instead.\n",
            "  df = df.append(df_temp, ignore_index = True)\n",
            "<ipython-input-56-108931f1cf20>:23: FutureWarning: The frame.append method is deprecated and will be removed from pandas in a future version. Use pandas.concat instead.\n",
            "  df = df.append(df_temp, ignore_index = True)\n",
            "<ipython-input-56-108931f1cf20>:23: FutureWarning: The frame.append method is deprecated and will be removed from pandas in a future version. Use pandas.concat instead.\n",
            "  df = df.append(df_temp, ignore_index = True)\n",
            "<ipython-input-56-108931f1cf20>:23: FutureWarning: The frame.append method is deprecated and will be removed from pandas in a future version. Use pandas.concat instead.\n",
            "  df = df.append(df_temp, ignore_index = True)\n",
            "<ipython-input-56-108931f1cf20>:23: FutureWarning: The frame.append method is deprecated and will be removed from pandas in a future version. Use pandas.concat instead.\n",
            "  df = df.append(df_temp, ignore_index = True)\n",
            "<ipython-input-56-108931f1cf20>:23: FutureWarning: The frame.append method is deprecated and will be removed from pandas in a future version. Use pandas.concat instead.\n",
            "  df = df.append(df_temp, ignore_index = True)\n",
            "<ipython-input-56-108931f1cf20>:23: FutureWarning: The frame.append method is deprecated and will be removed from pandas in a future version. Use pandas.concat instead.\n",
            "  df = df.append(df_temp, ignore_index = True)\n",
            "<ipython-input-56-108931f1cf20>:23: FutureWarning: The frame.append method is deprecated and will be removed from pandas in a future version. Use pandas.concat instead.\n",
            "  df = df.append(df_temp, ignore_index = True)\n",
            "<ipython-input-56-108931f1cf20>:23: FutureWarning: The frame.append method is deprecated and will be removed from pandas in a future version. Use pandas.concat instead.\n",
            "  df = df.append(df_temp, ignore_index = True)\n",
            "<ipython-input-56-108931f1cf20>:23: FutureWarning: The frame.append method is deprecated and will be removed from pandas in a future version. Use pandas.concat instead.\n",
            "  df = df.append(df_temp, ignore_index = True)\n",
            "<ipython-input-56-108931f1cf20>:23: FutureWarning: The frame.append method is deprecated and will be removed from pandas in a future version. Use pandas.concat instead.\n",
            "  df = df.append(df_temp, ignore_index = True)\n",
            "<ipython-input-56-108931f1cf20>:23: FutureWarning: The frame.append method is deprecated and will be removed from pandas in a future version. Use pandas.concat instead.\n",
            "  df = df.append(df_temp, ignore_index = True)\n",
            "<ipython-input-56-108931f1cf20>:23: FutureWarning: The frame.append method is deprecated and will be removed from pandas in a future version. Use pandas.concat instead.\n",
            "  df = df.append(df_temp, ignore_index = True)\n",
            "<ipython-input-56-108931f1cf20>:23: FutureWarning: The frame.append method is deprecated and will be removed from pandas in a future version. Use pandas.concat instead.\n",
            "  df = df.append(df_temp, ignore_index = True)\n",
            "<ipython-input-56-108931f1cf20>:23: FutureWarning: The frame.append method is deprecated and will be removed from pandas in a future version. Use pandas.concat instead.\n",
            "  df = df.append(df_temp, ignore_index = True)\n",
            "<ipython-input-56-108931f1cf20>:23: FutureWarning: The frame.append method is deprecated and will be removed from pandas in a future version. Use pandas.concat instead.\n",
            "  df = df.append(df_temp, ignore_index = True)\n",
            "<ipython-input-56-108931f1cf20>:23: FutureWarning: The frame.append method is deprecated and will be removed from pandas in a future version. Use pandas.concat instead.\n",
            "  df = df.append(df_temp, ignore_index = True)\n",
            "<ipython-input-56-108931f1cf20>:23: FutureWarning: The frame.append method is deprecated and will be removed from pandas in a future version. Use pandas.concat instead.\n",
            "  df = df.append(df_temp, ignore_index = True)\n",
            "<ipython-input-56-108931f1cf20>:23: FutureWarning: The frame.append method is deprecated and will be removed from pandas in a future version. Use pandas.concat instead.\n",
            "  df = df.append(df_temp, ignore_index = True)\n",
            "<ipython-input-56-108931f1cf20>:23: FutureWarning: The frame.append method is deprecated and will be removed from pandas in a future version. Use pandas.concat instead.\n",
            "  df = df.append(df_temp, ignore_index = True)\n",
            "<ipython-input-56-108931f1cf20>:23: FutureWarning: The frame.append method is deprecated and will be removed from pandas in a future version. Use pandas.concat instead.\n",
            "  df = df.append(df_temp, ignore_index = True)\n",
            "<ipython-input-56-108931f1cf20>:23: FutureWarning: The frame.append method is deprecated and will be removed from pandas in a future version. Use pandas.concat instead.\n",
            "  df = df.append(df_temp, ignore_index = True)\n",
            "<ipython-input-56-108931f1cf20>:23: FutureWarning: The frame.append method is deprecated and will be removed from pandas in a future version. Use pandas.concat instead.\n",
            "  df = df.append(df_temp, ignore_index = True)\n",
            "<ipython-input-56-108931f1cf20>:23: FutureWarning: The frame.append method is deprecated and will be removed from pandas in a future version. Use pandas.concat instead.\n",
            "  df = df.append(df_temp, ignore_index = True)\n",
            "<ipython-input-56-108931f1cf20>:23: FutureWarning: The frame.append method is deprecated and will be removed from pandas in a future version. Use pandas.concat instead.\n",
            "  df = df.append(df_temp, ignore_index = True)\n",
            "<ipython-input-56-108931f1cf20>:23: FutureWarning: The frame.append method is deprecated and will be removed from pandas in a future version. Use pandas.concat instead.\n",
            "  df = df.append(df_temp, ignore_index = True)\n",
            "<ipython-input-56-108931f1cf20>:23: FutureWarning: The frame.append method is deprecated and will be removed from pandas in a future version. Use pandas.concat instead.\n",
            "  df = df.append(df_temp, ignore_index = True)\n",
            "<ipython-input-56-108931f1cf20>:23: FutureWarning: The frame.append method is deprecated and will be removed from pandas in a future version. Use pandas.concat instead.\n",
            "  df = df.append(df_temp, ignore_index = True)\n",
            "<ipython-input-56-108931f1cf20>:23: FutureWarning: The frame.append method is deprecated and will be removed from pandas in a future version. Use pandas.concat instead.\n",
            "  df = df.append(df_temp, ignore_index = True)\n",
            "<ipython-input-56-108931f1cf20>:23: FutureWarning: The frame.append method is deprecated and will be removed from pandas in a future version. Use pandas.concat instead.\n",
            "  df = df.append(df_temp, ignore_index = True)\n",
            "<ipython-input-56-108931f1cf20>:23: FutureWarning: The frame.append method is deprecated and will be removed from pandas in a future version. Use pandas.concat instead.\n",
            "  df = df.append(df_temp, ignore_index = True)\n",
            "<ipython-input-56-108931f1cf20>:23: FutureWarning: The frame.append method is deprecated and will be removed from pandas in a future version. Use pandas.concat instead.\n",
            "  df = df.append(df_temp, ignore_index = True)\n",
            "<ipython-input-56-108931f1cf20>:23: FutureWarning: The frame.append method is deprecated and will be removed from pandas in a future version. Use pandas.concat instead.\n",
            "  df = df.append(df_temp, ignore_index = True)\n",
            "<ipython-input-56-108931f1cf20>:23: FutureWarning: The frame.append method is deprecated and will be removed from pandas in a future version. Use pandas.concat instead.\n",
            "  df = df.append(df_temp, ignore_index = True)\n",
            "<ipython-input-56-108931f1cf20>:23: FutureWarning: The frame.append method is deprecated and will be removed from pandas in a future version. Use pandas.concat instead.\n",
            "  df = df.append(df_temp, ignore_index = True)\n",
            "<ipython-input-56-108931f1cf20>:23: FutureWarning: The frame.append method is deprecated and will be removed from pandas in a future version. Use pandas.concat instead.\n",
            "  df = df.append(df_temp, ignore_index = True)\n",
            "<ipython-input-56-108931f1cf20>:23: FutureWarning: The frame.append method is deprecated and will be removed from pandas in a future version. Use pandas.concat instead.\n",
            "  df = df.append(df_temp, ignore_index = True)\n",
            "<ipython-input-56-108931f1cf20>:23: FutureWarning: The frame.append method is deprecated and will be removed from pandas in a future version. Use pandas.concat instead.\n",
            "  df = df.append(df_temp, ignore_index = True)\n",
            "<ipython-input-56-108931f1cf20>:23: FutureWarning: The frame.append method is deprecated and will be removed from pandas in a future version. Use pandas.concat instead.\n",
            "  df = df.append(df_temp, ignore_index = True)\n",
            "<ipython-input-56-108931f1cf20>:23: FutureWarning: The frame.append method is deprecated and will be removed from pandas in a future version. Use pandas.concat instead.\n",
            "  df = df.append(df_temp, ignore_index = True)\n",
            "<ipython-input-56-108931f1cf20>:23: FutureWarning: The frame.append method is deprecated and will be removed from pandas in a future version. Use pandas.concat instead.\n",
            "  df = df.append(df_temp, ignore_index = True)\n",
            "<ipython-input-56-108931f1cf20>:23: FutureWarning: The frame.append method is deprecated and will be removed from pandas in a future version. Use pandas.concat instead.\n",
            "  df = df.append(df_temp, ignore_index = True)\n",
            "<ipython-input-56-108931f1cf20>:23: FutureWarning: The frame.append method is deprecated and will be removed from pandas in a future version. Use pandas.concat instead.\n",
            "  df = df.append(df_temp, ignore_index = True)\n",
            "<ipython-input-56-108931f1cf20>:23: FutureWarning: The frame.append method is deprecated and will be removed from pandas in a future version. Use pandas.concat instead.\n",
            "  df = df.append(df_temp, ignore_index = True)\n",
            "<ipython-input-56-108931f1cf20>:23: FutureWarning: The frame.append method is deprecated and will be removed from pandas in a future version. Use pandas.concat instead.\n",
            "  df = df.append(df_temp, ignore_index = True)\n",
            "<ipython-input-56-108931f1cf20>:23: FutureWarning: The frame.append method is deprecated and will be removed from pandas in a future version. Use pandas.concat instead.\n",
            "  df = df.append(df_temp, ignore_index = True)\n",
            "<ipython-input-56-108931f1cf20>:23: FutureWarning: The frame.append method is deprecated and will be removed from pandas in a future version. Use pandas.concat instead.\n",
            "  df = df.append(df_temp, ignore_index = True)\n",
            "<ipython-input-56-108931f1cf20>:23: FutureWarning: The frame.append method is deprecated and will be removed from pandas in a future version. Use pandas.concat instead.\n",
            "  df = df.append(df_temp, ignore_index = True)\n",
            "<ipython-input-56-108931f1cf20>:23: FutureWarning: The frame.append method is deprecated and will be removed from pandas in a future version. Use pandas.concat instead.\n",
            "  df = df.append(df_temp, ignore_index = True)\n",
            "<ipython-input-56-108931f1cf20>:23: FutureWarning: The frame.append method is deprecated and will be removed from pandas in a future version. Use pandas.concat instead.\n",
            "  df = df.append(df_temp, ignore_index = True)\n",
            "<ipython-input-56-108931f1cf20>:23: FutureWarning: The frame.append method is deprecated and will be removed from pandas in a future version. Use pandas.concat instead.\n",
            "  df = df.append(df_temp, ignore_index = True)\n",
            "<ipython-input-56-108931f1cf20>:23: FutureWarning: The frame.append method is deprecated and will be removed from pandas in a future version. Use pandas.concat instead.\n",
            "  df = df.append(df_temp, ignore_index = True)\n",
            "<ipython-input-56-108931f1cf20>:23: FutureWarning: The frame.append method is deprecated and will be removed from pandas in a future version. Use pandas.concat instead.\n",
            "  df = df.append(df_temp, ignore_index = True)\n",
            "<ipython-input-56-108931f1cf20>:23: FutureWarning: The frame.append method is deprecated and will be removed from pandas in a future version. Use pandas.concat instead.\n",
            "  df = df.append(df_temp, ignore_index = True)\n",
            "<ipython-input-56-108931f1cf20>:23: FutureWarning: The frame.append method is deprecated and will be removed from pandas in a future version. Use pandas.concat instead.\n",
            "  df = df.append(df_temp, ignore_index = True)\n",
            "<ipython-input-56-108931f1cf20>:23: FutureWarning: The frame.append method is deprecated and will be removed from pandas in a future version. Use pandas.concat instead.\n",
            "  df = df.append(df_temp, ignore_index = True)\n",
            "<ipython-input-56-108931f1cf20>:23: FutureWarning: The frame.append method is deprecated and will be removed from pandas in a future version. Use pandas.concat instead.\n",
            "  df = df.append(df_temp, ignore_index = True)\n",
            "<ipython-input-56-108931f1cf20>:23: FutureWarning: The frame.append method is deprecated and will be removed from pandas in a future version. Use pandas.concat instead.\n",
            "  df = df.append(df_temp, ignore_index = True)\n",
            "<ipython-input-56-108931f1cf20>:23: FutureWarning: The frame.append method is deprecated and will be removed from pandas in a future version. Use pandas.concat instead.\n",
            "  df = df.append(df_temp, ignore_index = True)\n",
            "<ipython-input-56-108931f1cf20>:23: FutureWarning: The frame.append method is deprecated and will be removed from pandas in a future version. Use pandas.concat instead.\n",
            "  df = df.append(df_temp, ignore_index = True)\n",
            "<ipython-input-56-108931f1cf20>:23: FutureWarning: The frame.append method is deprecated and will be removed from pandas in a future version. Use pandas.concat instead.\n",
            "  df = df.append(df_temp, ignore_index = True)\n",
            "<ipython-input-56-108931f1cf20>:23: FutureWarning: The frame.append method is deprecated and will be removed from pandas in a future version. Use pandas.concat instead.\n",
            "  df = df.append(df_temp, ignore_index = True)\n",
            "<ipython-input-56-108931f1cf20>:23: FutureWarning: The frame.append method is deprecated and will be removed from pandas in a future version. Use pandas.concat instead.\n",
            "  df = df.append(df_temp, ignore_index = True)\n",
            "<ipython-input-56-108931f1cf20>:23: FutureWarning: The frame.append method is deprecated and will be removed from pandas in a future version. Use pandas.concat instead.\n",
            "  df = df.append(df_temp, ignore_index = True)\n",
            "<ipython-input-56-108931f1cf20>:23: FutureWarning: The frame.append method is deprecated and will be removed from pandas in a future version. Use pandas.concat instead.\n",
            "  df = df.append(df_temp, ignore_index = True)\n",
            "<ipython-input-56-108931f1cf20>:23: FutureWarning: The frame.append method is deprecated and will be removed from pandas in a future version. Use pandas.concat instead.\n",
            "  df = df.append(df_temp, ignore_index = True)\n",
            "<ipython-input-56-108931f1cf20>:23: FutureWarning: The frame.append method is deprecated and will be removed from pandas in a future version. Use pandas.concat instead.\n",
            "  df = df.append(df_temp, ignore_index = True)\n",
            "<ipython-input-56-108931f1cf20>:23: FutureWarning: The frame.append method is deprecated and will be removed from pandas in a future version. Use pandas.concat instead.\n",
            "  df = df.append(df_temp, ignore_index = True)\n",
            "<ipython-input-56-108931f1cf20>:23: FutureWarning: The frame.append method is deprecated and will be removed from pandas in a future version. Use pandas.concat instead.\n",
            "  df = df.append(df_temp, ignore_index = True)\n",
            "<ipython-input-56-108931f1cf20>:23: FutureWarning: The frame.append method is deprecated and will be removed from pandas in a future version. Use pandas.concat instead.\n",
            "  df = df.append(df_temp, ignore_index = True)\n",
            "<ipython-input-56-108931f1cf20>:23: FutureWarning: The frame.append method is deprecated and will be removed from pandas in a future version. Use pandas.concat instead.\n",
            "  df = df.append(df_temp, ignore_index = True)\n",
            "<ipython-input-56-108931f1cf20>:23: FutureWarning: The frame.append method is deprecated and will be removed from pandas in a future version. Use pandas.concat instead.\n",
            "  df = df.append(df_temp, ignore_index = True)\n",
            "<ipython-input-56-108931f1cf20>:23: FutureWarning: The frame.append method is deprecated and will be removed from pandas in a future version. Use pandas.concat instead.\n",
            "  df = df.append(df_temp, ignore_index = True)\n",
            "<ipython-input-56-108931f1cf20>:23: FutureWarning: The frame.append method is deprecated and will be removed from pandas in a future version. Use pandas.concat instead.\n",
            "  df = df.append(df_temp, ignore_index = True)\n",
            "<ipython-input-56-108931f1cf20>:23: FutureWarning: The frame.append method is deprecated and will be removed from pandas in a future version. Use pandas.concat instead.\n",
            "  df = df.append(df_temp, ignore_index = True)\n",
            "<ipython-input-56-108931f1cf20>:23: FutureWarning: The frame.append method is deprecated and will be removed from pandas in a future version. Use pandas.concat instead.\n",
            "  df = df.append(df_temp, ignore_index = True)\n",
            "<ipython-input-56-108931f1cf20>:23: FutureWarning: The frame.append method is deprecated and will be removed from pandas in a future version. Use pandas.concat instead.\n",
            "  df = df.append(df_temp, ignore_index = True)\n",
            "<ipython-input-56-108931f1cf20>:23: FutureWarning: The frame.append method is deprecated and will be removed from pandas in a future version. Use pandas.concat instead.\n",
            "  df = df.append(df_temp, ignore_index = True)\n",
            "<ipython-input-56-108931f1cf20>:23: FutureWarning: The frame.append method is deprecated and will be removed from pandas in a future version. Use pandas.concat instead.\n",
            "  df = df.append(df_temp, ignore_index = True)\n",
            "<ipython-input-56-108931f1cf20>:23: FutureWarning: The frame.append method is deprecated and will be removed from pandas in a future version. Use pandas.concat instead.\n",
            "  df = df.append(df_temp, ignore_index = True)\n",
            "<ipython-input-56-108931f1cf20>:23: FutureWarning: The frame.append method is deprecated and will be removed from pandas in a future version. Use pandas.concat instead.\n",
            "  df = df.append(df_temp, ignore_index = True)\n",
            "<ipython-input-56-108931f1cf20>:23: FutureWarning: The frame.append method is deprecated and will be removed from pandas in a future version. Use pandas.concat instead.\n",
            "  df = df.append(df_temp, ignore_index = True)\n",
            "<ipython-input-56-108931f1cf20>:23: FutureWarning: The frame.append method is deprecated and will be removed from pandas in a future version. Use pandas.concat instead.\n",
            "  df = df.append(df_temp, ignore_index = True)\n",
            "<ipython-input-56-108931f1cf20>:23: FutureWarning: The frame.append method is deprecated and will be removed from pandas in a future version. Use pandas.concat instead.\n",
            "  df = df.append(df_temp, ignore_index = True)\n",
            "<ipython-input-56-108931f1cf20>:23: FutureWarning: The frame.append method is deprecated and will be removed from pandas in a future version. Use pandas.concat instead.\n",
            "  df = df.append(df_temp, ignore_index = True)\n",
            "<ipython-input-56-108931f1cf20>:23: FutureWarning: The frame.append method is deprecated and will be removed from pandas in a future version. Use pandas.concat instead.\n",
            "  df = df.append(df_temp, ignore_index = True)\n",
            "<ipython-input-56-108931f1cf20>:23: FutureWarning: The frame.append method is deprecated and will be removed from pandas in a future version. Use pandas.concat instead.\n",
            "  df = df.append(df_temp, ignore_index = True)\n",
            "<ipython-input-56-108931f1cf20>:23: FutureWarning: The frame.append method is deprecated and will be removed from pandas in a future version. Use pandas.concat instead.\n",
            "  df = df.append(df_temp, ignore_index = True)\n",
            "<ipython-input-56-108931f1cf20>:23: FutureWarning: The frame.append method is deprecated and will be removed from pandas in a future version. Use pandas.concat instead.\n",
            "  df = df.append(df_temp, ignore_index = True)\n",
            "<ipython-input-56-108931f1cf20>:23: FutureWarning: The frame.append method is deprecated and will be removed from pandas in a future version. Use pandas.concat instead.\n",
            "  df = df.append(df_temp, ignore_index = True)\n",
            "<ipython-input-56-108931f1cf20>:23: FutureWarning: The frame.append method is deprecated and will be removed from pandas in a future version. Use pandas.concat instead.\n",
            "  df = df.append(df_temp, ignore_index = True)\n",
            "<ipython-input-56-108931f1cf20>:23: FutureWarning: The frame.append method is deprecated and will be removed from pandas in a future version. Use pandas.concat instead.\n",
            "  df = df.append(df_temp, ignore_index = True)\n",
            "<ipython-input-56-108931f1cf20>:23: FutureWarning: The frame.append method is deprecated and will be removed from pandas in a future version. Use pandas.concat instead.\n",
            "  df = df.append(df_temp, ignore_index = True)\n",
            "<ipython-input-56-108931f1cf20>:23: FutureWarning: The frame.append method is deprecated and will be removed from pandas in a future version. Use pandas.concat instead.\n",
            "  df = df.append(df_temp, ignore_index = True)\n",
            "<ipython-input-56-108931f1cf20>:23: FutureWarning: The frame.append method is deprecated and will be removed from pandas in a future version. Use pandas.concat instead.\n",
            "  df = df.append(df_temp, ignore_index = True)\n",
            "<ipython-input-56-108931f1cf20>:23: FutureWarning: The frame.append method is deprecated and will be removed from pandas in a future version. Use pandas.concat instead.\n",
            "  df = df.append(df_temp, ignore_index = True)\n",
            "<ipython-input-56-108931f1cf20>:23: FutureWarning: The frame.append method is deprecated and will be removed from pandas in a future version. Use pandas.concat instead.\n",
            "  df = df.append(df_temp, ignore_index = True)\n",
            "<ipython-input-56-108931f1cf20>:23: FutureWarning: The frame.append method is deprecated and will be removed from pandas in a future version. Use pandas.concat instead.\n",
            "  df = df.append(df_temp, ignore_index = True)\n",
            "<ipython-input-56-108931f1cf20>:23: FutureWarning: The frame.append method is deprecated and will be removed from pandas in a future version. Use pandas.concat instead.\n",
            "  df = df.append(df_temp, ignore_index = True)\n",
            "<ipython-input-56-108931f1cf20>:23: FutureWarning: The frame.append method is deprecated and will be removed from pandas in a future version. Use pandas.concat instead.\n",
            "  df = df.append(df_temp, ignore_index = True)\n",
            "<ipython-input-56-108931f1cf20>:23: FutureWarning: The frame.append method is deprecated and will be removed from pandas in a future version. Use pandas.concat instead.\n",
            "  df = df.append(df_temp, ignore_index = True)\n",
            "<ipython-input-56-108931f1cf20>:23: FutureWarning: The frame.append method is deprecated and will be removed from pandas in a future version. Use pandas.concat instead.\n",
            "  df = df.append(df_temp, ignore_index = True)\n",
            "<ipython-input-56-108931f1cf20>:23: FutureWarning: The frame.append method is deprecated and will be removed from pandas in a future version. Use pandas.concat instead.\n",
            "  df = df.append(df_temp, ignore_index = True)\n",
            "<ipython-input-56-108931f1cf20>:23: FutureWarning: The frame.append method is deprecated and will be removed from pandas in a future version. Use pandas.concat instead.\n",
            "  df = df.append(df_temp, ignore_index = True)\n",
            "<ipython-input-56-108931f1cf20>:23: FutureWarning: The frame.append method is deprecated and will be removed from pandas in a future version. Use pandas.concat instead.\n",
            "  df = df.append(df_temp, ignore_index = True)\n",
            "<ipython-input-56-108931f1cf20>:23: FutureWarning: The frame.append method is deprecated and will be removed from pandas in a future version. Use pandas.concat instead.\n",
            "  df = df.append(df_temp, ignore_index = True)\n",
            "<ipython-input-56-108931f1cf20>:23: FutureWarning: The frame.append method is deprecated and will be removed from pandas in a future version. Use pandas.concat instead.\n",
            "  df = df.append(df_temp, ignore_index = True)\n",
            "<ipython-input-56-108931f1cf20>:23: FutureWarning: The frame.append method is deprecated and will be removed from pandas in a future version. Use pandas.concat instead.\n",
            "  df = df.append(df_temp, ignore_index = True)\n",
            "<ipython-input-56-108931f1cf20>:23: FutureWarning: The frame.append method is deprecated and will be removed from pandas in a future version. Use pandas.concat instead.\n",
            "  df = df.append(df_temp, ignore_index = True)\n",
            "<ipython-input-56-108931f1cf20>:23: FutureWarning: The frame.append method is deprecated and will be removed from pandas in a future version. Use pandas.concat instead.\n",
            "  df = df.append(df_temp, ignore_index = True)\n",
            "<ipython-input-56-108931f1cf20>:23: FutureWarning: The frame.append method is deprecated and will be removed from pandas in a future version. Use pandas.concat instead.\n",
            "  df = df.append(df_temp, ignore_index = True)\n",
            "<ipython-input-56-108931f1cf20>:23: FutureWarning: The frame.append method is deprecated and will be removed from pandas in a future version. Use pandas.concat instead.\n",
            "  df = df.append(df_temp, ignore_index = True)\n",
            "<ipython-input-56-108931f1cf20>:23: FutureWarning: The frame.append method is deprecated and will be removed from pandas in a future version. Use pandas.concat instead.\n",
            "  df = df.append(df_temp, ignore_index = True)\n",
            "<ipython-input-56-108931f1cf20>:23: FutureWarning: The frame.append method is deprecated and will be removed from pandas in a future version. Use pandas.concat instead.\n",
            "  df = df.append(df_temp, ignore_index = True)\n",
            "<ipython-input-56-108931f1cf20>:23: FutureWarning: The frame.append method is deprecated and will be removed from pandas in a future version. Use pandas.concat instead.\n",
            "  df = df.append(df_temp, ignore_index = True)\n",
            "<ipython-input-56-108931f1cf20>:23: FutureWarning: The frame.append method is deprecated and will be removed from pandas in a future version. Use pandas.concat instead.\n",
            "  df = df.append(df_temp, ignore_index = True)\n",
            "<ipython-input-56-108931f1cf20>:23: FutureWarning: The frame.append method is deprecated and will be removed from pandas in a future version. Use pandas.concat instead.\n",
            "  df = df.append(df_temp, ignore_index = True)\n",
            "<ipython-input-56-108931f1cf20>:23: FutureWarning: The frame.append method is deprecated and will be removed from pandas in a future version. Use pandas.concat instead.\n",
            "  df = df.append(df_temp, ignore_index = True)\n",
            "<ipython-input-56-108931f1cf20>:23: FutureWarning: The frame.append method is deprecated and will be removed from pandas in a future version. Use pandas.concat instead.\n",
            "  df = df.append(df_temp, ignore_index = True)\n",
            "<ipython-input-56-108931f1cf20>:23: FutureWarning: The frame.append method is deprecated and will be removed from pandas in a future version. Use pandas.concat instead.\n",
            "  df = df.append(df_temp, ignore_index = True)\n",
            "<ipython-input-56-108931f1cf20>:23: FutureWarning: The frame.append method is deprecated and will be removed from pandas in a future version. Use pandas.concat instead.\n",
            "  df = df.append(df_temp, ignore_index = True)\n",
            "<ipython-input-56-108931f1cf20>:23: FutureWarning: The frame.append method is deprecated and will be removed from pandas in a future version. Use pandas.concat instead.\n",
            "  df = df.append(df_temp, ignore_index = True)\n",
            "<ipython-input-56-108931f1cf20>:23: FutureWarning: The frame.append method is deprecated and will be removed from pandas in a future version. Use pandas.concat instead.\n",
            "  df = df.append(df_temp, ignore_index = True)\n",
            "<ipython-input-56-108931f1cf20>:23: FutureWarning: The frame.append method is deprecated and will be removed from pandas in a future version. Use pandas.concat instead.\n",
            "  df = df.append(df_temp, ignore_index = True)\n",
            "<ipython-input-56-108931f1cf20>:23: FutureWarning: The frame.append method is deprecated and will be removed from pandas in a future version. Use pandas.concat instead.\n",
            "  df = df.append(df_temp, ignore_index = True)\n",
            "<ipython-input-56-108931f1cf20>:23: FutureWarning: The frame.append method is deprecated and will be removed from pandas in a future version. Use pandas.concat instead.\n",
            "  df = df.append(df_temp, ignore_index = True)\n",
            "<ipython-input-56-108931f1cf20>:23: FutureWarning: The frame.append method is deprecated and will be removed from pandas in a future version. Use pandas.concat instead.\n",
            "  df = df.append(df_temp, ignore_index = True)\n",
            "<ipython-input-56-108931f1cf20>:23: FutureWarning: The frame.append method is deprecated and will be removed from pandas in a future version. Use pandas.concat instead.\n",
            "  df = df.append(df_temp, ignore_index = True)\n",
            "<ipython-input-56-108931f1cf20>:23: FutureWarning: The frame.append method is deprecated and will be removed from pandas in a future version. Use pandas.concat instead.\n",
            "  df = df.append(df_temp, ignore_index = True)\n",
            "<ipython-input-56-108931f1cf20>:23: FutureWarning: The frame.append method is deprecated and will be removed from pandas in a future version. Use pandas.concat instead.\n",
            "  df = df.append(df_temp, ignore_index = True)\n",
            "<ipython-input-56-108931f1cf20>:23: FutureWarning: The frame.append method is deprecated and will be removed from pandas in a future version. Use pandas.concat instead.\n",
            "  df = df.append(df_temp, ignore_index = True)\n",
            "<ipython-input-56-108931f1cf20>:23: FutureWarning: The frame.append method is deprecated and will be removed from pandas in a future version. Use pandas.concat instead.\n",
            "  df = df.append(df_temp, ignore_index = True)\n",
            "<ipython-input-56-108931f1cf20>:23: FutureWarning: The frame.append method is deprecated and will be removed from pandas in a future version. Use pandas.concat instead.\n",
            "  df = df.append(df_temp, ignore_index = True)\n",
            "<ipython-input-56-108931f1cf20>:23: FutureWarning: The frame.append method is deprecated and will be removed from pandas in a future version. Use pandas.concat instead.\n",
            "  df = df.append(df_temp, ignore_index = True)\n",
            "<ipython-input-56-108931f1cf20>:23: FutureWarning: The frame.append method is deprecated and will be removed from pandas in a future version. Use pandas.concat instead.\n",
            "  df = df.append(df_temp, ignore_index = True)\n",
            "<ipython-input-56-108931f1cf20>:23: FutureWarning: The frame.append method is deprecated and will be removed from pandas in a future version. Use pandas.concat instead.\n",
            "  df = df.append(df_temp, ignore_index = True)\n",
            "<ipython-input-56-108931f1cf20>:23: FutureWarning: The frame.append method is deprecated and will be removed from pandas in a future version. Use pandas.concat instead.\n",
            "  df = df.append(df_temp, ignore_index = True)\n",
            "<ipython-input-56-108931f1cf20>:23: FutureWarning: The frame.append method is deprecated and will be removed from pandas in a future version. Use pandas.concat instead.\n",
            "  df = df.append(df_temp, ignore_index = True)\n",
            "<ipython-input-56-108931f1cf20>:23: FutureWarning: The frame.append method is deprecated and will be removed from pandas in a future version. Use pandas.concat instead.\n",
            "  df = df.append(df_temp, ignore_index = True)\n",
            "<ipython-input-56-108931f1cf20>:23: FutureWarning: The frame.append method is deprecated and will be removed from pandas in a future version. Use pandas.concat instead.\n",
            "  df = df.append(df_temp, ignore_index = True)\n",
            "<ipython-input-56-108931f1cf20>:23: FutureWarning: The frame.append method is deprecated and will be removed from pandas in a future version. Use pandas.concat instead.\n",
            "  df = df.append(df_temp, ignore_index = True)\n",
            "<ipython-input-56-108931f1cf20>:23: FutureWarning: The frame.append method is deprecated and will be removed from pandas in a future version. Use pandas.concat instead.\n",
            "  df = df.append(df_temp, ignore_index = True)\n",
            "<ipython-input-56-108931f1cf20>:23: FutureWarning: The frame.append method is deprecated and will be removed from pandas in a future version. Use pandas.concat instead.\n",
            "  df = df.append(df_temp, ignore_index = True)\n",
            "<ipython-input-56-108931f1cf20>:23: FutureWarning: The frame.append method is deprecated and will be removed from pandas in a future version. Use pandas.concat instead.\n",
            "  df = df.append(df_temp, ignore_index = True)\n",
            "<ipython-input-56-108931f1cf20>:23: FutureWarning: The frame.append method is deprecated and will be removed from pandas in a future version. Use pandas.concat instead.\n",
            "  df = df.append(df_temp, ignore_index = True)\n",
            "<ipython-input-56-108931f1cf20>:23: FutureWarning: The frame.append method is deprecated and will be removed from pandas in a future version. Use pandas.concat instead.\n",
            "  df = df.append(df_temp, ignore_index = True)\n",
            "<ipython-input-56-108931f1cf20>:23: FutureWarning: The frame.append method is deprecated and will be removed from pandas in a future version. Use pandas.concat instead.\n",
            "  df = df.append(df_temp, ignore_index = True)\n",
            "<ipython-input-56-108931f1cf20>:23: FutureWarning: The frame.append method is deprecated and will be removed from pandas in a future version. Use pandas.concat instead.\n",
            "  df = df.append(df_temp, ignore_index = True)\n",
            "<ipython-input-56-108931f1cf20>:23: FutureWarning: The frame.append method is deprecated and will be removed from pandas in a future version. Use pandas.concat instead.\n",
            "  df = df.append(df_temp, ignore_index = True)\n",
            "<ipython-input-56-108931f1cf20>:23: FutureWarning: The frame.append method is deprecated and will be removed from pandas in a future version. Use pandas.concat instead.\n",
            "  df = df.append(df_temp, ignore_index = True)\n",
            "<ipython-input-56-108931f1cf20>:23: FutureWarning: The frame.append method is deprecated and will be removed from pandas in a future version. Use pandas.concat instead.\n",
            "  df = df.append(df_temp, ignore_index = True)\n",
            "<ipython-input-56-108931f1cf20>:23: FutureWarning: The frame.append method is deprecated and will be removed from pandas in a future version. Use pandas.concat instead.\n",
            "  df = df.append(df_temp, ignore_index = True)\n",
            "<ipython-input-56-108931f1cf20>:23: FutureWarning: The frame.append method is deprecated and will be removed from pandas in a future version. Use pandas.concat instead.\n",
            "  df = df.append(df_temp, ignore_index = True)\n",
            "<ipython-input-56-108931f1cf20>:23: FutureWarning: The frame.append method is deprecated and will be removed from pandas in a future version. Use pandas.concat instead.\n",
            "  df = df.append(df_temp, ignore_index = True)\n",
            "<ipython-input-56-108931f1cf20>:23: FutureWarning: The frame.append method is deprecated and will be removed from pandas in a future version. Use pandas.concat instead.\n",
            "  df = df.append(df_temp, ignore_index = True)\n",
            "<ipython-input-56-108931f1cf20>:23: FutureWarning: The frame.append method is deprecated and will be removed from pandas in a future version. Use pandas.concat instead.\n",
            "  df = df.append(df_temp, ignore_index = True)\n",
            "<ipython-input-56-108931f1cf20>:23: FutureWarning: The frame.append method is deprecated and will be removed from pandas in a future version. Use pandas.concat instead.\n",
            "  df = df.append(df_temp, ignore_index = True)\n",
            "<ipython-input-56-108931f1cf20>:23: FutureWarning: The frame.append method is deprecated and will be removed from pandas in a future version. Use pandas.concat instead.\n",
            "  df = df.append(df_temp, ignore_index = True)\n",
            "<ipython-input-56-108931f1cf20>:23: FutureWarning: The frame.append method is deprecated and will be removed from pandas in a future version. Use pandas.concat instead.\n",
            "  df = df.append(df_temp, ignore_index = True)\n",
            "<ipython-input-56-108931f1cf20>:23: FutureWarning: The frame.append method is deprecated and will be removed from pandas in a future version. Use pandas.concat instead.\n",
            "  df = df.append(df_temp, ignore_index = True)\n",
            "<ipython-input-56-108931f1cf20>:23: FutureWarning: The frame.append method is deprecated and will be removed from pandas in a future version. Use pandas.concat instead.\n",
            "  df = df.append(df_temp, ignore_index = True)\n",
            "<ipython-input-56-108931f1cf20>:23: FutureWarning: The frame.append method is deprecated and will be removed from pandas in a future version. Use pandas.concat instead.\n",
            "  df = df.append(df_temp, ignore_index = True)\n",
            "<ipython-input-56-108931f1cf20>:23: FutureWarning: The frame.append method is deprecated and will be removed from pandas in a future version. Use pandas.concat instead.\n",
            "  df = df.append(df_temp, ignore_index = True)\n",
            "<ipython-input-56-108931f1cf20>:23: FutureWarning: The frame.append method is deprecated and will be removed from pandas in a future version. Use pandas.concat instead.\n",
            "  df = df.append(df_temp, ignore_index = True)\n",
            "<ipython-input-56-108931f1cf20>:23: FutureWarning: The frame.append method is deprecated and will be removed from pandas in a future version. Use pandas.concat instead.\n",
            "  df = df.append(df_temp, ignore_index = True)\n",
            "<ipython-input-56-108931f1cf20>:23: FutureWarning: The frame.append method is deprecated and will be removed from pandas in a future version. Use pandas.concat instead.\n",
            "  df = df.append(df_temp, ignore_index = True)\n",
            "<ipython-input-56-108931f1cf20>:23: FutureWarning: The frame.append method is deprecated and will be removed from pandas in a future version. Use pandas.concat instead.\n",
            "  df = df.append(df_temp, ignore_index = True)\n",
            "<ipython-input-56-108931f1cf20>:23: FutureWarning: The frame.append method is deprecated and will be removed from pandas in a future version. Use pandas.concat instead.\n",
            "  df = df.append(df_temp, ignore_index = True)\n",
            "<ipython-input-56-108931f1cf20>:23: FutureWarning: The frame.append method is deprecated and will be removed from pandas in a future version. Use pandas.concat instead.\n",
            "  df = df.append(df_temp, ignore_index = True)\n",
            "<ipython-input-56-108931f1cf20>:23: FutureWarning: The frame.append method is deprecated and will be removed from pandas in a future version. Use pandas.concat instead.\n",
            "  df = df.append(df_temp, ignore_index = True)\n",
            "<ipython-input-56-108931f1cf20>:23: FutureWarning: The frame.append method is deprecated and will be removed from pandas in a future version. Use pandas.concat instead.\n",
            "  df = df.append(df_temp, ignore_index = True)\n",
            "<ipython-input-56-108931f1cf20>:23: FutureWarning: The frame.append method is deprecated and will be removed from pandas in a future version. Use pandas.concat instead.\n",
            "  df = df.append(df_temp, ignore_index = True)\n",
            "<ipython-input-56-108931f1cf20>:23: FutureWarning: The frame.append method is deprecated and will be removed from pandas in a future version. Use pandas.concat instead.\n",
            "  df = df.append(df_temp, ignore_index = True)\n",
            "<ipython-input-56-108931f1cf20>:23: FutureWarning: The frame.append method is deprecated and will be removed from pandas in a future version. Use pandas.concat instead.\n",
            "  df = df.append(df_temp, ignore_index = True)\n",
            "<ipython-input-56-108931f1cf20>:23: FutureWarning: The frame.append method is deprecated and will be removed from pandas in a future version. Use pandas.concat instead.\n",
            "  df = df.append(df_temp, ignore_index = True)\n",
            "<ipython-input-56-108931f1cf20>:23: FutureWarning: The frame.append method is deprecated and will be removed from pandas in a future version. Use pandas.concat instead.\n",
            "  df = df.append(df_temp, ignore_index = True)\n",
            "<ipython-input-56-108931f1cf20>:23: FutureWarning: The frame.append method is deprecated and will be removed from pandas in a future version. Use pandas.concat instead.\n",
            "  df = df.append(df_temp, ignore_index = True)\n",
            "<ipython-input-56-108931f1cf20>:23: FutureWarning: The frame.append method is deprecated and will be removed from pandas in a future version. Use pandas.concat instead.\n",
            "  df = df.append(df_temp, ignore_index = True)\n",
            "<ipython-input-56-108931f1cf20>:23: FutureWarning: The frame.append method is deprecated and will be removed from pandas in a future version. Use pandas.concat instead.\n",
            "  df = df.append(df_temp, ignore_index = True)\n",
            "<ipython-input-56-108931f1cf20>:23: FutureWarning: The frame.append method is deprecated and will be removed from pandas in a future version. Use pandas.concat instead.\n",
            "  df = df.append(df_temp, ignore_index = True)\n",
            "<ipython-input-56-108931f1cf20>:23: FutureWarning: The frame.append method is deprecated and will be removed from pandas in a future version. Use pandas.concat instead.\n",
            "  df = df.append(df_temp, ignore_index = True)\n",
            "<ipython-input-56-108931f1cf20>:23: FutureWarning: The frame.append method is deprecated and will be removed from pandas in a future version. Use pandas.concat instead.\n",
            "  df = df.append(df_temp, ignore_index = True)\n",
            "<ipython-input-56-108931f1cf20>:23: FutureWarning: The frame.append method is deprecated and will be removed from pandas in a future version. Use pandas.concat instead.\n",
            "  df = df.append(df_temp, ignore_index = True)\n",
            "<ipython-input-56-108931f1cf20>:23: FutureWarning: The frame.append method is deprecated and will be removed from pandas in a future version. Use pandas.concat instead.\n",
            "  df = df.append(df_temp, ignore_index = True)\n",
            "<ipython-input-56-108931f1cf20>:23: FutureWarning: The frame.append method is deprecated and will be removed from pandas in a future version. Use pandas.concat instead.\n",
            "  df = df.append(df_temp, ignore_index = True)\n",
            "<ipython-input-56-108931f1cf20>:23: FutureWarning: The frame.append method is deprecated and will be removed from pandas in a future version. Use pandas.concat instead.\n",
            "  df = df.append(df_temp, ignore_index = True)\n",
            "<ipython-input-56-108931f1cf20>:23: FutureWarning: The frame.append method is deprecated and will be removed from pandas in a future version. Use pandas.concat instead.\n",
            "  df = df.append(df_temp, ignore_index = True)\n",
            "<ipython-input-56-108931f1cf20>:23: FutureWarning: The frame.append method is deprecated and will be removed from pandas in a future version. Use pandas.concat instead.\n",
            "  df = df.append(df_temp, ignore_index = True)\n",
            "<ipython-input-56-108931f1cf20>:23: FutureWarning: The frame.append method is deprecated and will be removed from pandas in a future version. Use pandas.concat instead.\n",
            "  df = df.append(df_temp, ignore_index = True)\n",
            "<ipython-input-56-108931f1cf20>:23: FutureWarning: The frame.append method is deprecated and will be removed from pandas in a future version. Use pandas.concat instead.\n",
            "  df = df.append(df_temp, ignore_index = True)\n",
            "<ipython-input-56-108931f1cf20>:23: FutureWarning: The frame.append method is deprecated and will be removed from pandas in a future version. Use pandas.concat instead.\n",
            "  df = df.append(df_temp, ignore_index = True)\n",
            "<ipython-input-56-108931f1cf20>:23: FutureWarning: The frame.append method is deprecated and will be removed from pandas in a future version. Use pandas.concat instead.\n",
            "  df = df.append(df_temp, ignore_index = True)\n",
            "<ipython-input-56-108931f1cf20>:23: FutureWarning: The frame.append method is deprecated and will be removed from pandas in a future version. Use pandas.concat instead.\n",
            "  df = df.append(df_temp, ignore_index = True)\n",
            "<ipython-input-56-108931f1cf20>:23: FutureWarning: The frame.append method is deprecated and will be removed from pandas in a future version. Use pandas.concat instead.\n",
            "  df = df.append(df_temp, ignore_index = True)\n",
            "<ipython-input-56-108931f1cf20>:23: FutureWarning: The frame.append method is deprecated and will be removed from pandas in a future version. Use pandas.concat instead.\n",
            "  df = df.append(df_temp, ignore_index = True)\n",
            "<ipython-input-56-108931f1cf20>:23: FutureWarning: The frame.append method is deprecated and will be removed from pandas in a future version. Use pandas.concat instead.\n",
            "  df = df.append(df_temp, ignore_index = True)\n",
            "<ipython-input-56-108931f1cf20>:23: FutureWarning: The frame.append method is deprecated and will be removed from pandas in a future version. Use pandas.concat instead.\n",
            "  df = df.append(df_temp, ignore_index = True)\n",
            "<ipython-input-56-108931f1cf20>:23: FutureWarning: The frame.append method is deprecated and will be removed from pandas in a future version. Use pandas.concat instead.\n",
            "  df = df.append(df_temp, ignore_index = True)\n",
            "<ipython-input-56-108931f1cf20>:23: FutureWarning: The frame.append method is deprecated and will be removed from pandas in a future version. Use pandas.concat instead.\n",
            "  df = df.append(df_temp, ignore_index = True)\n",
            "<ipython-input-56-108931f1cf20>:23: FutureWarning: The frame.append method is deprecated and will be removed from pandas in a future version. Use pandas.concat instead.\n",
            "  df = df.append(df_temp, ignore_index = True)\n",
            "<ipython-input-56-108931f1cf20>:23: FutureWarning: The frame.append method is deprecated and will be removed from pandas in a future version. Use pandas.concat instead.\n",
            "  df = df.append(df_temp, ignore_index = True)\n",
            "<ipython-input-56-108931f1cf20>:23: FutureWarning: The frame.append method is deprecated and will be removed from pandas in a future version. Use pandas.concat instead.\n",
            "  df = df.append(df_temp, ignore_index = True)\n",
            "<ipython-input-56-108931f1cf20>:23: FutureWarning: The frame.append method is deprecated and will be removed from pandas in a future version. Use pandas.concat instead.\n",
            "  df = df.append(df_temp, ignore_index = True)\n",
            "<ipython-input-56-108931f1cf20>:23: FutureWarning: The frame.append method is deprecated and will be removed from pandas in a future version. Use pandas.concat instead.\n",
            "  df = df.append(df_temp, ignore_index = True)\n",
            "<ipython-input-56-108931f1cf20>:23: FutureWarning: The frame.append method is deprecated and will be removed from pandas in a future version. Use pandas.concat instead.\n",
            "  df = df.append(df_temp, ignore_index = True)\n",
            "<ipython-input-56-108931f1cf20>:23: FutureWarning: The frame.append method is deprecated and will be removed from pandas in a future version. Use pandas.concat instead.\n",
            "  df = df.append(df_temp, ignore_index = True)\n",
            "<ipython-input-56-108931f1cf20>:23: FutureWarning: The frame.append method is deprecated and will be removed from pandas in a future version. Use pandas.concat instead.\n",
            "  df = df.append(df_temp, ignore_index = True)\n",
            "<ipython-input-56-108931f1cf20>:23: FutureWarning: The frame.append method is deprecated and will be removed from pandas in a future version. Use pandas.concat instead.\n",
            "  df = df.append(df_temp, ignore_index = True)\n",
            "<ipython-input-56-108931f1cf20>:23: FutureWarning: The frame.append method is deprecated and will be removed from pandas in a future version. Use pandas.concat instead.\n",
            "  df = df.append(df_temp, ignore_index = True)\n",
            "<ipython-input-56-108931f1cf20>:23: FutureWarning: The frame.append method is deprecated and will be removed from pandas in a future version. Use pandas.concat instead.\n",
            "  df = df.append(df_temp, ignore_index = True)\n",
            "<ipython-input-56-108931f1cf20>:23: FutureWarning: The frame.append method is deprecated and will be removed from pandas in a future version. Use pandas.concat instead.\n",
            "  df = df.append(df_temp, ignore_index = True)\n",
            "<ipython-input-56-108931f1cf20>:23: FutureWarning: The frame.append method is deprecated and will be removed from pandas in a future version. Use pandas.concat instead.\n",
            "  df = df.append(df_temp, ignore_index = True)\n",
            "<ipython-input-56-108931f1cf20>:23: FutureWarning: The frame.append method is deprecated and will be removed from pandas in a future version. Use pandas.concat instead.\n",
            "  df = df.append(df_temp, ignore_index = True)\n",
            "<ipython-input-56-108931f1cf20>:23: FutureWarning: The frame.append method is deprecated and will be removed from pandas in a future version. Use pandas.concat instead.\n",
            "  df = df.append(df_temp, ignore_index = True)\n",
            "<ipython-input-56-108931f1cf20>:23: FutureWarning: The frame.append method is deprecated and will be removed from pandas in a future version. Use pandas.concat instead.\n",
            "  df = df.append(df_temp, ignore_index = True)\n",
            "<ipython-input-56-108931f1cf20>:23: FutureWarning: The frame.append method is deprecated and will be removed from pandas in a future version. Use pandas.concat instead.\n",
            "  df = df.append(df_temp, ignore_index = True)\n",
            "<ipython-input-56-108931f1cf20>:23: FutureWarning: The frame.append method is deprecated and will be removed from pandas in a future version. Use pandas.concat instead.\n",
            "  df = df.append(df_temp, ignore_index = True)\n",
            "<ipython-input-56-108931f1cf20>:23: FutureWarning: The frame.append method is deprecated and will be removed from pandas in a future version. Use pandas.concat instead.\n",
            "  df = df.append(df_temp, ignore_index = True)\n",
            "<ipython-input-56-108931f1cf20>:23: FutureWarning: The frame.append method is deprecated and will be removed from pandas in a future version. Use pandas.concat instead.\n",
            "  df = df.append(df_temp, ignore_index = True)\n",
            "<ipython-input-56-108931f1cf20>:23: FutureWarning: The frame.append method is deprecated and will be removed from pandas in a future version. Use pandas.concat instead.\n",
            "  df = df.append(df_temp, ignore_index = True)\n",
            "<ipython-input-56-108931f1cf20>:23: FutureWarning: The frame.append method is deprecated and will be removed from pandas in a future version. Use pandas.concat instead.\n",
            "  df = df.append(df_temp, ignore_index = True)\n",
            "<ipython-input-56-108931f1cf20>:23: FutureWarning: The frame.append method is deprecated and will be removed from pandas in a future version. Use pandas.concat instead.\n",
            "  df = df.append(df_temp, ignore_index = True)\n",
            "<ipython-input-56-108931f1cf20>:23: FutureWarning: The frame.append method is deprecated and will be removed from pandas in a future version. Use pandas.concat instead.\n",
            "  df = df.append(df_temp, ignore_index = True)\n",
            "<ipython-input-56-108931f1cf20>:23: FutureWarning: The frame.append method is deprecated and will be removed from pandas in a future version. Use pandas.concat instead.\n",
            "  df = df.append(df_temp, ignore_index = True)\n",
            "<ipython-input-56-108931f1cf20>:23: FutureWarning: The frame.append method is deprecated and will be removed from pandas in a future version. Use pandas.concat instead.\n",
            "  df = df.append(df_temp, ignore_index = True)\n",
            "<ipython-input-56-108931f1cf20>:23: FutureWarning: The frame.append method is deprecated and will be removed from pandas in a future version. Use pandas.concat instead.\n",
            "  df = df.append(df_temp, ignore_index = True)\n",
            "<ipython-input-56-108931f1cf20>:23: FutureWarning: The frame.append method is deprecated and will be removed from pandas in a future version. Use pandas.concat instead.\n",
            "  df = df.append(df_temp, ignore_index = True)\n",
            "<ipython-input-56-108931f1cf20>:23: FutureWarning: The frame.append method is deprecated and will be removed from pandas in a future version. Use pandas.concat instead.\n",
            "  df = df.append(df_temp, ignore_index = True)\n",
            "<ipython-input-56-108931f1cf20>:23: FutureWarning: The frame.append method is deprecated and will be removed from pandas in a future version. Use pandas.concat instead.\n",
            "  df = df.append(df_temp, ignore_index = True)\n",
            "<ipython-input-56-108931f1cf20>:23: FutureWarning: The frame.append method is deprecated and will be removed from pandas in a future version. Use pandas.concat instead.\n",
            "  df = df.append(df_temp, ignore_index = True)\n",
            "<ipython-input-56-108931f1cf20>:23: FutureWarning: The frame.append method is deprecated and will be removed from pandas in a future version. Use pandas.concat instead.\n",
            "  df = df.append(df_temp, ignore_index = True)\n",
            "<ipython-input-56-108931f1cf20>:23: FutureWarning: The frame.append method is deprecated and will be removed from pandas in a future version. Use pandas.concat instead.\n",
            "  df = df.append(df_temp, ignore_index = True)\n",
            "<ipython-input-56-108931f1cf20>:23: FutureWarning: The frame.append method is deprecated and will be removed from pandas in a future version. Use pandas.concat instead.\n",
            "  df = df.append(df_temp, ignore_index = True)\n",
            "<ipython-input-56-108931f1cf20>:23: FutureWarning: The frame.append method is deprecated and will be removed from pandas in a future version. Use pandas.concat instead.\n",
            "  df = df.append(df_temp, ignore_index = True)\n",
            "<ipython-input-56-108931f1cf20>:23: FutureWarning: The frame.append method is deprecated and will be removed from pandas in a future version. Use pandas.concat instead.\n",
            "  df = df.append(df_temp, ignore_index = True)\n",
            "<ipython-input-56-108931f1cf20>:23: FutureWarning: The frame.append method is deprecated and will be removed from pandas in a future version. Use pandas.concat instead.\n",
            "  df = df.append(df_temp, ignore_index = True)\n",
            "<ipython-input-56-108931f1cf20>:23: FutureWarning: The frame.append method is deprecated and will be removed from pandas in a future version. Use pandas.concat instead.\n",
            "  df = df.append(df_temp, ignore_index = True)\n",
            "<ipython-input-56-108931f1cf20>:23: FutureWarning: The frame.append method is deprecated and will be removed from pandas in a future version. Use pandas.concat instead.\n",
            "  df = df.append(df_temp, ignore_index = True)\n",
            "<ipython-input-56-108931f1cf20>:23: FutureWarning: The frame.append method is deprecated and will be removed from pandas in a future version. Use pandas.concat instead.\n",
            "  df = df.append(df_temp, ignore_index = True)\n",
            "<ipython-input-56-108931f1cf20>:23: FutureWarning: The frame.append method is deprecated and will be removed from pandas in a future version. Use pandas.concat instead.\n",
            "  df = df.append(df_temp, ignore_index = True)\n",
            "<ipython-input-56-108931f1cf20>:23: FutureWarning: The frame.append method is deprecated and will be removed from pandas in a future version. Use pandas.concat instead.\n",
            "  df = df.append(df_temp, ignore_index = True)\n",
            "<ipython-input-56-108931f1cf20>:23: FutureWarning: The frame.append method is deprecated and will be removed from pandas in a future version. Use pandas.concat instead.\n",
            "  df = df.append(df_temp, ignore_index = True)\n",
            "<ipython-input-56-108931f1cf20>:23: FutureWarning: The frame.append method is deprecated and will be removed from pandas in a future version. Use pandas.concat instead.\n",
            "  df = df.append(df_temp, ignore_index = True)\n",
            "<ipython-input-56-108931f1cf20>:23: FutureWarning: The frame.append method is deprecated and will be removed from pandas in a future version. Use pandas.concat instead.\n",
            "  df = df.append(df_temp, ignore_index = True)\n",
            "<ipython-input-56-108931f1cf20>:23: FutureWarning: The frame.append method is deprecated and will be removed from pandas in a future version. Use pandas.concat instead.\n",
            "  df = df.append(df_temp, ignore_index = True)\n",
            "<ipython-input-56-108931f1cf20>:23: FutureWarning: The frame.append method is deprecated and will be removed from pandas in a future version. Use pandas.concat instead.\n",
            "  df = df.append(df_temp, ignore_index = True)\n",
            "<ipython-input-56-108931f1cf20>:23: FutureWarning: The frame.append method is deprecated and will be removed from pandas in a future version. Use pandas.concat instead.\n",
            "  df = df.append(df_temp, ignore_index = True)\n",
            "<ipython-input-56-108931f1cf20>:23: FutureWarning: The frame.append method is deprecated and will be removed from pandas in a future version. Use pandas.concat instead.\n",
            "  df = df.append(df_temp, ignore_index = True)\n",
            "<ipython-input-56-108931f1cf20>:23: FutureWarning: The frame.append method is deprecated and will be removed from pandas in a future version. Use pandas.concat instead.\n",
            "  df = df.append(df_temp, ignore_index = True)\n",
            "<ipython-input-56-108931f1cf20>:23: FutureWarning: The frame.append method is deprecated and will be removed from pandas in a future version. Use pandas.concat instead.\n",
            "  df = df.append(df_temp, ignore_index = True)\n",
            "<ipython-input-56-108931f1cf20>:23: FutureWarning: The frame.append method is deprecated and will be removed from pandas in a future version. Use pandas.concat instead.\n",
            "  df = df.append(df_temp, ignore_index = True)\n",
            "<ipython-input-56-108931f1cf20>:23: FutureWarning: The frame.append method is deprecated and will be removed from pandas in a future version. Use pandas.concat instead.\n",
            "  df = df.append(df_temp, ignore_index = True)\n",
            "<ipython-input-56-108931f1cf20>:23: FutureWarning: The frame.append method is deprecated and will be removed from pandas in a future version. Use pandas.concat instead.\n",
            "  df = df.append(df_temp, ignore_index = True)\n",
            "<ipython-input-56-108931f1cf20>:23: FutureWarning: The frame.append method is deprecated and will be removed from pandas in a future version. Use pandas.concat instead.\n",
            "  df = df.append(df_temp, ignore_index = True)\n",
            "<ipython-input-56-108931f1cf20>:23: FutureWarning: The frame.append method is deprecated and will be removed from pandas in a future version. Use pandas.concat instead.\n",
            "  df = df.append(df_temp, ignore_index = True)\n",
            "<ipython-input-56-108931f1cf20>:23: FutureWarning: The frame.append method is deprecated and will be removed from pandas in a future version. Use pandas.concat instead.\n",
            "  df = df.append(df_temp, ignore_index = True)\n",
            "<ipython-input-56-108931f1cf20>:23: FutureWarning: The frame.append method is deprecated and will be removed from pandas in a future version. Use pandas.concat instead.\n",
            "  df = df.append(df_temp, ignore_index = True)\n",
            "<ipython-input-56-108931f1cf20>:23: FutureWarning: The frame.append method is deprecated and will be removed from pandas in a future version. Use pandas.concat instead.\n",
            "  df = df.append(df_temp, ignore_index = True)\n",
            "<ipython-input-56-108931f1cf20>:23: FutureWarning: The frame.append method is deprecated and will be removed from pandas in a future version. Use pandas.concat instead.\n",
            "  df = df.append(df_temp, ignore_index = True)\n",
            "<ipython-input-56-108931f1cf20>:23: FutureWarning: The frame.append method is deprecated and will be removed from pandas in a future version. Use pandas.concat instead.\n",
            "  df = df.append(df_temp, ignore_index = True)\n",
            "<ipython-input-56-108931f1cf20>:23: FutureWarning: The frame.append method is deprecated and will be removed from pandas in a future version. Use pandas.concat instead.\n",
            "  df = df.append(df_temp, ignore_index = True)\n",
            "<ipython-input-56-108931f1cf20>:23: FutureWarning: The frame.append method is deprecated and will be removed from pandas in a future version. Use pandas.concat instead.\n",
            "  df = df.append(df_temp, ignore_index = True)\n",
            "<ipython-input-56-108931f1cf20>:23: FutureWarning: The frame.append method is deprecated and will be removed from pandas in a future version. Use pandas.concat instead.\n",
            "  df = df.append(df_temp, ignore_index = True)\n",
            "<ipython-input-56-108931f1cf20>:23: FutureWarning: The frame.append method is deprecated and will be removed from pandas in a future version. Use pandas.concat instead.\n",
            "  df = df.append(df_temp, ignore_index = True)\n",
            "<ipython-input-56-108931f1cf20>:23: FutureWarning: The frame.append method is deprecated and will be removed from pandas in a future version. Use pandas.concat instead.\n",
            "  df = df.append(df_temp, ignore_index = True)\n",
            "<ipython-input-56-108931f1cf20>:23: FutureWarning: The frame.append method is deprecated and will be removed from pandas in a future version. Use pandas.concat instead.\n",
            "  df = df.append(df_temp, ignore_index = True)\n",
            "<ipython-input-56-108931f1cf20>:23: FutureWarning: The frame.append method is deprecated and will be removed from pandas in a future version. Use pandas.concat instead.\n",
            "  df = df.append(df_temp, ignore_index = True)\n",
            "<ipython-input-56-108931f1cf20>:23: FutureWarning: The frame.append method is deprecated and will be removed from pandas in a future version. Use pandas.concat instead.\n",
            "  df = df.append(df_temp, ignore_index = True)\n",
            "<ipython-input-56-108931f1cf20>:23: FutureWarning: The frame.append method is deprecated and will be removed from pandas in a future version. Use pandas.concat instead.\n",
            "  df = df.append(df_temp, ignore_index = True)\n",
            "<ipython-input-56-108931f1cf20>:23: FutureWarning: The frame.append method is deprecated and will be removed from pandas in a future version. Use pandas.concat instead.\n",
            "  df = df.append(df_temp, ignore_index = True)\n",
            "<ipython-input-56-108931f1cf20>:23: FutureWarning: The frame.append method is deprecated and will be removed from pandas in a future version. Use pandas.concat instead.\n",
            "  df = df.append(df_temp, ignore_index = True)\n",
            "<ipython-input-56-108931f1cf20>:23: FutureWarning: The frame.append method is deprecated and will be removed from pandas in a future version. Use pandas.concat instead.\n",
            "  df = df.append(df_temp, ignore_index = True)\n",
            "<ipython-input-56-108931f1cf20>:23: FutureWarning: The frame.append method is deprecated and will be removed from pandas in a future version. Use pandas.concat instead.\n",
            "  df = df.append(df_temp, ignore_index = True)\n",
            "<ipython-input-56-108931f1cf20>:23: FutureWarning: The frame.append method is deprecated and will be removed from pandas in a future version. Use pandas.concat instead.\n",
            "  df = df.append(df_temp, ignore_index = True)\n",
            "<ipython-input-56-108931f1cf20>:23: FutureWarning: The frame.append method is deprecated and will be removed from pandas in a future version. Use pandas.concat instead.\n",
            "  df = df.append(df_temp, ignore_index = True)\n",
            "<ipython-input-56-108931f1cf20>:23: FutureWarning: The frame.append method is deprecated and will be removed from pandas in a future version. Use pandas.concat instead.\n",
            "  df = df.append(df_temp, ignore_index = True)\n",
            "<ipython-input-56-108931f1cf20>:23: FutureWarning: The frame.append method is deprecated and will be removed from pandas in a future version. Use pandas.concat instead.\n",
            "  df = df.append(df_temp, ignore_index = True)\n",
            "<ipython-input-56-108931f1cf20>:23: FutureWarning: The frame.append method is deprecated and will be removed from pandas in a future version. Use pandas.concat instead.\n",
            "  df = df.append(df_temp, ignore_index = True)\n",
            "<ipython-input-56-108931f1cf20>:23: FutureWarning: The frame.append method is deprecated and will be removed from pandas in a future version. Use pandas.concat instead.\n",
            "  df = df.append(df_temp, ignore_index = True)\n",
            "<ipython-input-56-108931f1cf20>:23: FutureWarning: The frame.append method is deprecated and will be removed from pandas in a future version. Use pandas.concat instead.\n",
            "  df = df.append(df_temp, ignore_index = True)\n",
            "<ipython-input-56-108931f1cf20>:23: FutureWarning: The frame.append method is deprecated and will be removed from pandas in a future version. Use pandas.concat instead.\n",
            "  df = df.append(df_temp, ignore_index = True)\n",
            "<ipython-input-56-108931f1cf20>:23: FutureWarning: The frame.append method is deprecated and will be removed from pandas in a future version. Use pandas.concat instead.\n",
            "  df = df.append(df_temp, ignore_index = True)\n",
            "<ipython-input-56-108931f1cf20>:23: FutureWarning: The frame.append method is deprecated and will be removed from pandas in a future version. Use pandas.concat instead.\n",
            "  df = df.append(df_temp, ignore_index = True)\n",
            "<ipython-input-56-108931f1cf20>:23: FutureWarning: The frame.append method is deprecated and will be removed from pandas in a future version. Use pandas.concat instead.\n",
            "  df = df.append(df_temp, ignore_index = True)\n",
            "<ipython-input-56-108931f1cf20>:23: FutureWarning: The frame.append method is deprecated and will be removed from pandas in a future version. Use pandas.concat instead.\n",
            "  df = df.append(df_temp, ignore_index = True)\n",
            "<ipython-input-56-108931f1cf20>:23: FutureWarning: The frame.append method is deprecated and will be removed from pandas in a future version. Use pandas.concat instead.\n",
            "  df = df.append(df_temp, ignore_index = True)\n",
            "<ipython-input-56-108931f1cf20>:23: FutureWarning: The frame.append method is deprecated and will be removed from pandas in a future version. Use pandas.concat instead.\n",
            "  df = df.append(df_temp, ignore_index = True)\n",
            "<ipython-input-56-108931f1cf20>:23: FutureWarning: The frame.append method is deprecated and will be removed from pandas in a future version. Use pandas.concat instead.\n",
            "  df = df.append(df_temp, ignore_index = True)\n",
            "<ipython-input-56-108931f1cf20>:23: FutureWarning: The frame.append method is deprecated and will be removed from pandas in a future version. Use pandas.concat instead.\n",
            "  df = df.append(df_temp, ignore_index = True)\n",
            "<ipython-input-56-108931f1cf20>:23: FutureWarning: The frame.append method is deprecated and will be removed from pandas in a future version. Use pandas.concat instead.\n",
            "  df = df.append(df_temp, ignore_index = True)\n",
            "<ipython-input-56-108931f1cf20>:23: FutureWarning: The frame.append method is deprecated and will be removed from pandas in a future version. Use pandas.concat instead.\n",
            "  df = df.append(df_temp, ignore_index = True)\n",
            "<ipython-input-56-108931f1cf20>:23: FutureWarning: The frame.append method is deprecated and will be removed from pandas in a future version. Use pandas.concat instead.\n",
            "  df = df.append(df_temp, ignore_index = True)\n",
            "<ipython-input-56-108931f1cf20>:23: FutureWarning: The frame.append method is deprecated and will be removed from pandas in a future version. Use pandas.concat instead.\n",
            "  df = df.append(df_temp, ignore_index = True)\n",
            "<ipython-input-56-108931f1cf20>:23: FutureWarning: The frame.append method is deprecated and will be removed from pandas in a future version. Use pandas.concat instead.\n",
            "  df = df.append(df_temp, ignore_index = True)\n",
            "<ipython-input-56-108931f1cf20>:23: FutureWarning: The frame.append method is deprecated and will be removed from pandas in a future version. Use pandas.concat instead.\n",
            "  df = df.append(df_temp, ignore_index = True)\n",
            "<ipython-input-56-108931f1cf20>:23: FutureWarning: The frame.append method is deprecated and will be removed from pandas in a future version. Use pandas.concat instead.\n",
            "  df = df.append(df_temp, ignore_index = True)\n",
            "<ipython-input-56-108931f1cf20>:23: FutureWarning: The frame.append method is deprecated and will be removed from pandas in a future version. Use pandas.concat instead.\n",
            "  df = df.append(df_temp, ignore_index = True)\n",
            "<ipython-input-56-108931f1cf20>:23: FutureWarning: The frame.append method is deprecated and will be removed from pandas in a future version. Use pandas.concat instead.\n",
            "  df = df.append(df_temp, ignore_index = True)\n",
            "<ipython-input-56-108931f1cf20>:23: FutureWarning: The frame.append method is deprecated and will be removed from pandas in a future version. Use pandas.concat instead.\n",
            "  df = df.append(df_temp, ignore_index = True)\n",
            "<ipython-input-56-108931f1cf20>:23: FutureWarning: The frame.append method is deprecated and will be removed from pandas in a future version. Use pandas.concat instead.\n",
            "  df = df.append(df_temp, ignore_index = True)\n",
            "<ipython-input-56-108931f1cf20>:23: FutureWarning: The frame.append method is deprecated and will be removed from pandas in a future version. Use pandas.concat instead.\n",
            "  df = df.append(df_temp, ignore_index = True)\n",
            "<ipython-input-56-108931f1cf20>:23: FutureWarning: The frame.append method is deprecated and will be removed from pandas in a future version. Use pandas.concat instead.\n",
            "  df = df.append(df_temp, ignore_index = True)\n",
            "<ipython-input-56-108931f1cf20>:23: FutureWarning: The frame.append method is deprecated and will be removed from pandas in a future version. Use pandas.concat instead.\n",
            "  df = df.append(df_temp, ignore_index = True)\n",
            "<ipython-input-56-108931f1cf20>:23: FutureWarning: The frame.append method is deprecated and will be removed from pandas in a future version. Use pandas.concat instead.\n",
            "  df = df.append(df_temp, ignore_index = True)\n",
            "<ipython-input-56-108931f1cf20>:23: FutureWarning: The frame.append method is deprecated and will be removed from pandas in a future version. Use pandas.concat instead.\n",
            "  df = df.append(df_temp, ignore_index = True)\n",
            "<ipython-input-56-108931f1cf20>:23: FutureWarning: The frame.append method is deprecated and will be removed from pandas in a future version. Use pandas.concat instead.\n",
            "  df = df.append(df_temp, ignore_index = True)\n",
            "<ipython-input-56-108931f1cf20>:23: FutureWarning: The frame.append method is deprecated and will be removed from pandas in a future version. Use pandas.concat instead.\n",
            "  df = df.append(df_temp, ignore_index = True)\n",
            "<ipython-input-56-108931f1cf20>:23: FutureWarning: The frame.append method is deprecated and will be removed from pandas in a future version. Use pandas.concat instead.\n",
            "  df = df.append(df_temp, ignore_index = True)\n",
            "<ipython-input-56-108931f1cf20>:23: FutureWarning: The frame.append method is deprecated and will be removed from pandas in a future version. Use pandas.concat instead.\n",
            "  df = df.append(df_temp, ignore_index = True)\n",
            "<ipython-input-56-108931f1cf20>:23: FutureWarning: The frame.append method is deprecated and will be removed from pandas in a future version. Use pandas.concat instead.\n",
            "  df = df.append(df_temp, ignore_index = True)\n",
            "<ipython-input-56-108931f1cf20>:23: FutureWarning: The frame.append method is deprecated and will be removed from pandas in a future version. Use pandas.concat instead.\n",
            "  df = df.append(df_temp, ignore_index = True)\n",
            "<ipython-input-56-108931f1cf20>:23: FutureWarning: The frame.append method is deprecated and will be removed from pandas in a future version. Use pandas.concat instead.\n",
            "  df = df.append(df_temp, ignore_index = True)\n",
            "<ipython-input-56-108931f1cf20>:23: FutureWarning: The frame.append method is deprecated and will be removed from pandas in a future version. Use pandas.concat instead.\n",
            "  df = df.append(df_temp, ignore_index = True)\n",
            "<ipython-input-56-108931f1cf20>:23: FutureWarning: The frame.append method is deprecated and will be removed from pandas in a future version. Use pandas.concat instead.\n",
            "  df = df.append(df_temp, ignore_index = True)\n",
            "<ipython-input-56-108931f1cf20>:23: FutureWarning: The frame.append method is deprecated and will be removed from pandas in a future version. Use pandas.concat instead.\n",
            "  df = df.append(df_temp, ignore_index = True)\n",
            "<ipython-input-56-108931f1cf20>:23: FutureWarning: The frame.append method is deprecated and will be removed from pandas in a future version. Use pandas.concat instead.\n",
            "  df = df.append(df_temp, ignore_index = True)\n",
            "<ipython-input-56-108931f1cf20>:23: FutureWarning: The frame.append method is deprecated and will be removed from pandas in a future version. Use pandas.concat instead.\n",
            "  df = df.append(df_temp, ignore_index = True)\n",
            "<ipython-input-56-108931f1cf20>:23: FutureWarning: The frame.append method is deprecated and will be removed from pandas in a future version. Use pandas.concat instead.\n",
            "  df = df.append(df_temp, ignore_index = True)\n",
            "<ipython-input-56-108931f1cf20>:23: FutureWarning: The frame.append method is deprecated and will be removed from pandas in a future version. Use pandas.concat instead.\n",
            "  df = df.append(df_temp, ignore_index = True)\n",
            "<ipython-input-56-108931f1cf20>:23: FutureWarning: The frame.append method is deprecated and will be removed from pandas in a future version. Use pandas.concat instead.\n",
            "  df = df.append(df_temp, ignore_index = True)\n",
            "<ipython-input-56-108931f1cf20>:23: FutureWarning: The frame.append method is deprecated and will be removed from pandas in a future version. Use pandas.concat instead.\n",
            "  df = df.append(df_temp, ignore_index = True)\n",
            "<ipython-input-56-108931f1cf20>:23: FutureWarning: The frame.append method is deprecated and will be removed from pandas in a future version. Use pandas.concat instead.\n",
            "  df = df.append(df_temp, ignore_index = True)\n",
            "<ipython-input-56-108931f1cf20>:23: FutureWarning: The frame.append method is deprecated and will be removed from pandas in a future version. Use pandas.concat instead.\n",
            "  df = df.append(df_temp, ignore_index = True)\n",
            "<ipython-input-56-108931f1cf20>:23: FutureWarning: The frame.append method is deprecated and will be removed from pandas in a future version. Use pandas.concat instead.\n",
            "  df = df.append(df_temp, ignore_index = True)\n",
            "<ipython-input-56-108931f1cf20>:23: FutureWarning: The frame.append method is deprecated and will be removed from pandas in a future version. Use pandas.concat instead.\n",
            "  df = df.append(df_temp, ignore_index = True)\n",
            "<ipython-input-56-108931f1cf20>:23: FutureWarning: The frame.append method is deprecated and will be removed from pandas in a future version. Use pandas.concat instead.\n",
            "  df = df.append(df_temp, ignore_index = True)\n",
            "<ipython-input-56-108931f1cf20>:23: FutureWarning: The frame.append method is deprecated and will be removed from pandas in a future version. Use pandas.concat instead.\n",
            "  df = df.append(df_temp, ignore_index = True)\n",
            "<ipython-input-56-108931f1cf20>:23: FutureWarning: The frame.append method is deprecated and will be removed from pandas in a future version. Use pandas.concat instead.\n",
            "  df = df.append(df_temp, ignore_index = True)\n",
            "<ipython-input-56-108931f1cf20>:23: FutureWarning: The frame.append method is deprecated and will be removed from pandas in a future version. Use pandas.concat instead.\n",
            "  df = df.append(df_temp, ignore_index = True)\n",
            "<ipython-input-56-108931f1cf20>:23: FutureWarning: The frame.append method is deprecated and will be removed from pandas in a future version. Use pandas.concat instead.\n",
            "  df = df.append(df_temp, ignore_index = True)\n",
            "<ipython-input-56-108931f1cf20>:23: FutureWarning: The frame.append method is deprecated and will be removed from pandas in a future version. Use pandas.concat instead.\n",
            "  df = df.append(df_temp, ignore_index = True)\n",
            "<ipython-input-56-108931f1cf20>:23: FutureWarning: The frame.append method is deprecated and will be removed from pandas in a future version. Use pandas.concat instead.\n",
            "  df = df.append(df_temp, ignore_index = True)\n",
            "<ipython-input-56-108931f1cf20>:23: FutureWarning: The frame.append method is deprecated and will be removed from pandas in a future version. Use pandas.concat instead.\n",
            "  df = df.append(df_temp, ignore_index = True)\n",
            "<ipython-input-56-108931f1cf20>:23: FutureWarning: The frame.append method is deprecated and will be removed from pandas in a future version. Use pandas.concat instead.\n",
            "  df = df.append(df_temp, ignore_index = True)\n",
            "<ipython-input-56-108931f1cf20>:23: FutureWarning: The frame.append method is deprecated and will be removed from pandas in a future version. Use pandas.concat instead.\n",
            "  df = df.append(df_temp, ignore_index = True)\n",
            "<ipython-input-56-108931f1cf20>:23: FutureWarning: The frame.append method is deprecated and will be removed from pandas in a future version. Use pandas.concat instead.\n",
            "  df = df.append(df_temp, ignore_index = True)\n",
            "<ipython-input-56-108931f1cf20>:23: FutureWarning: The frame.append method is deprecated and will be removed from pandas in a future version. Use pandas.concat instead.\n",
            "  df = df.append(df_temp, ignore_index = True)\n",
            "<ipython-input-56-108931f1cf20>:23: FutureWarning: The frame.append method is deprecated and will be removed from pandas in a future version. Use pandas.concat instead.\n",
            "  df = df.append(df_temp, ignore_index = True)\n",
            "<ipython-input-56-108931f1cf20>:23: FutureWarning: The frame.append method is deprecated and will be removed from pandas in a future version. Use pandas.concat instead.\n",
            "  df = df.append(df_temp, ignore_index = True)\n",
            "<ipython-input-56-108931f1cf20>:23: FutureWarning: The frame.append method is deprecated and will be removed from pandas in a future version. Use pandas.concat instead.\n",
            "  df = df.append(df_temp, ignore_index = True)\n",
            "<ipython-input-56-108931f1cf20>:23: FutureWarning: The frame.append method is deprecated and will be removed from pandas in a future version. Use pandas.concat instead.\n",
            "  df = df.append(df_temp, ignore_index = True)\n",
            "<ipython-input-56-108931f1cf20>:23: FutureWarning: The frame.append method is deprecated and will be removed from pandas in a future version. Use pandas.concat instead.\n",
            "  df = df.append(df_temp, ignore_index = True)\n",
            "<ipython-input-56-108931f1cf20>:23: FutureWarning: The frame.append method is deprecated and will be removed from pandas in a future version. Use pandas.concat instead.\n",
            "  df = df.append(df_temp, ignore_index = True)\n",
            "<ipython-input-56-108931f1cf20>:23: FutureWarning: The frame.append method is deprecated and will be removed from pandas in a future version. Use pandas.concat instead.\n",
            "  df = df.append(df_temp, ignore_index = True)\n",
            "<ipython-input-56-108931f1cf20>:23: FutureWarning: The frame.append method is deprecated and will be removed from pandas in a future version. Use pandas.concat instead.\n",
            "  df = df.append(df_temp, ignore_index = True)\n",
            "<ipython-input-56-108931f1cf20>:23: FutureWarning: The frame.append method is deprecated and will be removed from pandas in a future version. Use pandas.concat instead.\n",
            "  df = df.append(df_temp, ignore_index = True)\n",
            "<ipython-input-56-108931f1cf20>:23: FutureWarning: The frame.append method is deprecated and will be removed from pandas in a future version. Use pandas.concat instead.\n",
            "  df = df.append(df_temp, ignore_index = True)\n",
            "<ipython-input-56-108931f1cf20>:23: FutureWarning: The frame.append method is deprecated and will be removed from pandas in a future version. Use pandas.concat instead.\n",
            "  df = df.append(df_temp, ignore_index = True)\n",
            "<ipython-input-56-108931f1cf20>:23: FutureWarning: The frame.append method is deprecated and will be removed from pandas in a future version. Use pandas.concat instead.\n",
            "  df = df.append(df_temp, ignore_index = True)\n",
            "<ipython-input-56-108931f1cf20>:23: FutureWarning: The frame.append method is deprecated and will be removed from pandas in a future version. Use pandas.concat instead.\n",
            "  df = df.append(df_temp, ignore_index = True)\n",
            "<ipython-input-56-108931f1cf20>:23: FutureWarning: The frame.append method is deprecated and will be removed from pandas in a future version. Use pandas.concat instead.\n",
            "  df = df.append(df_temp, ignore_index = True)\n",
            "<ipython-input-56-108931f1cf20>:23: FutureWarning: The frame.append method is deprecated and will be removed from pandas in a future version. Use pandas.concat instead.\n",
            "  df = df.append(df_temp, ignore_index = True)\n",
            "<ipython-input-56-108931f1cf20>:23: FutureWarning: The frame.append method is deprecated and will be removed from pandas in a future version. Use pandas.concat instead.\n",
            "  df = df.append(df_temp, ignore_index = True)\n",
            "<ipython-input-56-108931f1cf20>:23: FutureWarning: The frame.append method is deprecated and will be removed from pandas in a future version. Use pandas.concat instead.\n",
            "  df = df.append(df_temp, ignore_index = True)\n",
            "<ipython-input-56-108931f1cf20>:23: FutureWarning: The frame.append method is deprecated and will be removed from pandas in a future version. Use pandas.concat instead.\n",
            "  df = df.append(df_temp, ignore_index = True)\n",
            "<ipython-input-56-108931f1cf20>:23: FutureWarning: The frame.append method is deprecated and will be removed from pandas in a future version. Use pandas.concat instead.\n",
            "  df = df.append(df_temp, ignore_index = True)\n",
            "<ipython-input-56-108931f1cf20>:23: FutureWarning: The frame.append method is deprecated and will be removed from pandas in a future version. Use pandas.concat instead.\n",
            "  df = df.append(df_temp, ignore_index = True)\n",
            "<ipython-input-56-108931f1cf20>:23: FutureWarning: The frame.append method is deprecated and will be removed from pandas in a future version. Use pandas.concat instead.\n",
            "  df = df.append(df_temp, ignore_index = True)\n",
            "<ipython-input-56-108931f1cf20>:23: FutureWarning: The frame.append method is deprecated and will be removed from pandas in a future version. Use pandas.concat instead.\n",
            "  df = df.append(df_temp, ignore_index = True)\n",
            "<ipython-input-56-108931f1cf20>:23: FutureWarning: The frame.append method is deprecated and will be removed from pandas in a future version. Use pandas.concat instead.\n",
            "  df = df.append(df_temp, ignore_index = True)\n",
            "<ipython-input-56-108931f1cf20>:23: FutureWarning: The frame.append method is deprecated and will be removed from pandas in a future version. Use pandas.concat instead.\n",
            "  df = df.append(df_temp, ignore_index = True)\n",
            "<ipython-input-56-108931f1cf20>:23: FutureWarning: The frame.append method is deprecated and will be removed from pandas in a future version. Use pandas.concat instead.\n",
            "  df = df.append(df_temp, ignore_index = True)\n",
            "<ipython-input-56-108931f1cf20>:23: FutureWarning: The frame.append method is deprecated and will be removed from pandas in a future version. Use pandas.concat instead.\n",
            "  df = df.append(df_temp, ignore_index = True)\n",
            "<ipython-input-56-108931f1cf20>:23: FutureWarning: The frame.append method is deprecated and will be removed from pandas in a future version. Use pandas.concat instead.\n",
            "  df = df.append(df_temp, ignore_index = True)\n",
            "<ipython-input-56-108931f1cf20>:23: FutureWarning: The frame.append method is deprecated and will be removed from pandas in a future version. Use pandas.concat instead.\n",
            "  df = df.append(df_temp, ignore_index = True)\n",
            "<ipython-input-56-108931f1cf20>:23: FutureWarning: The frame.append method is deprecated and will be removed from pandas in a future version. Use pandas.concat instead.\n",
            "  df = df.append(df_temp, ignore_index = True)\n",
            "<ipython-input-56-108931f1cf20>:23: FutureWarning: The frame.append method is deprecated and will be removed from pandas in a future version. Use pandas.concat instead.\n",
            "  df = df.append(df_temp, ignore_index = True)\n",
            "<ipython-input-56-108931f1cf20>:23: FutureWarning: The frame.append method is deprecated and will be removed from pandas in a future version. Use pandas.concat instead.\n",
            "  df = df.append(df_temp, ignore_index = True)\n",
            "<ipython-input-56-108931f1cf20>:23: FutureWarning: The frame.append method is deprecated and will be removed from pandas in a future version. Use pandas.concat instead.\n",
            "  df = df.append(df_temp, ignore_index = True)\n",
            "<ipython-input-56-108931f1cf20>:23: FutureWarning: The frame.append method is deprecated and will be removed from pandas in a future version. Use pandas.concat instead.\n",
            "  df = df.append(df_temp, ignore_index = True)\n",
            "<ipython-input-56-108931f1cf20>:23: FutureWarning: The frame.append method is deprecated and will be removed from pandas in a future version. Use pandas.concat instead.\n",
            "  df = df.append(df_temp, ignore_index = True)\n",
            "<ipython-input-56-108931f1cf20>:23: FutureWarning: The frame.append method is deprecated and will be removed from pandas in a future version. Use pandas.concat instead.\n",
            "  df = df.append(df_temp, ignore_index = True)\n",
            "<ipython-input-56-108931f1cf20>:23: FutureWarning: The frame.append method is deprecated and will be removed from pandas in a future version. Use pandas.concat instead.\n",
            "  df = df.append(df_temp, ignore_index = True)\n",
            "<ipython-input-56-108931f1cf20>:23: FutureWarning: The frame.append method is deprecated and will be removed from pandas in a future version. Use pandas.concat instead.\n",
            "  df = df.append(df_temp, ignore_index = True)\n",
            "<ipython-input-56-108931f1cf20>:23: FutureWarning: The frame.append method is deprecated and will be removed from pandas in a future version. Use pandas.concat instead.\n",
            "  df = df.append(df_temp, ignore_index = True)\n",
            "<ipython-input-56-108931f1cf20>:23: FutureWarning: The frame.append method is deprecated and will be removed from pandas in a future version. Use pandas.concat instead.\n",
            "  df = df.append(df_temp, ignore_index = True)\n",
            "<ipython-input-56-108931f1cf20>:23: FutureWarning: The frame.append method is deprecated and will be removed from pandas in a future version. Use pandas.concat instead.\n",
            "  df = df.append(df_temp, ignore_index = True)\n",
            "<ipython-input-56-108931f1cf20>:23: FutureWarning: The frame.append method is deprecated and will be removed from pandas in a future version. Use pandas.concat instead.\n",
            "  df = df.append(df_temp, ignore_index = True)\n",
            "<ipython-input-56-108931f1cf20>:23: FutureWarning: The frame.append method is deprecated and will be removed from pandas in a future version. Use pandas.concat instead.\n",
            "  df = df.append(df_temp, ignore_index = True)\n",
            "<ipython-input-56-108931f1cf20>:23: FutureWarning: The frame.append method is deprecated and will be removed from pandas in a future version. Use pandas.concat instead.\n",
            "  df = df.append(df_temp, ignore_index = True)\n",
            "<ipython-input-56-108931f1cf20>:23: FutureWarning: The frame.append method is deprecated and will be removed from pandas in a future version. Use pandas.concat instead.\n",
            "  df = df.append(df_temp, ignore_index = True)\n",
            "<ipython-input-56-108931f1cf20>:23: FutureWarning: The frame.append method is deprecated and will be removed from pandas in a future version. Use pandas.concat instead.\n",
            "  df = df.append(df_temp, ignore_index = True)\n",
            "<ipython-input-56-108931f1cf20>:23: FutureWarning: The frame.append method is deprecated and will be removed from pandas in a future version. Use pandas.concat instead.\n",
            "  df = df.append(df_temp, ignore_index = True)\n",
            "<ipython-input-56-108931f1cf20>:23: FutureWarning: The frame.append method is deprecated and will be removed from pandas in a future version. Use pandas.concat instead.\n",
            "  df = df.append(df_temp, ignore_index = True)\n",
            "<ipython-input-56-108931f1cf20>:23: FutureWarning: The frame.append method is deprecated and will be removed from pandas in a future version. Use pandas.concat instead.\n",
            "  df = df.append(df_temp, ignore_index = True)\n",
            "<ipython-input-56-108931f1cf20>:23: FutureWarning: The frame.append method is deprecated and will be removed from pandas in a future version. Use pandas.concat instead.\n",
            "  df = df.append(df_temp, ignore_index = True)\n",
            "<ipython-input-56-108931f1cf20>:23: FutureWarning: The frame.append method is deprecated and will be removed from pandas in a future version. Use pandas.concat instead.\n",
            "  df = df.append(df_temp, ignore_index = True)\n",
            "<ipython-input-56-108931f1cf20>:23: FutureWarning: The frame.append method is deprecated and will be removed from pandas in a future version. Use pandas.concat instead.\n",
            "  df = df.append(df_temp, ignore_index = True)\n",
            "<ipython-input-56-108931f1cf20>:23: FutureWarning: The frame.append method is deprecated and will be removed from pandas in a future version. Use pandas.concat instead.\n",
            "  df = df.append(df_temp, ignore_index = True)\n",
            "<ipython-input-56-108931f1cf20>:23: FutureWarning: The frame.append method is deprecated and will be removed from pandas in a future version. Use pandas.concat instead.\n",
            "  df = df.append(df_temp, ignore_index = True)\n",
            "<ipython-input-56-108931f1cf20>:23: FutureWarning: The frame.append method is deprecated and will be removed from pandas in a future version. Use pandas.concat instead.\n",
            "  df = df.append(df_temp, ignore_index = True)\n",
            "<ipython-input-56-108931f1cf20>:23: FutureWarning: The frame.append method is deprecated and will be removed from pandas in a future version. Use pandas.concat instead.\n",
            "  df = df.append(df_temp, ignore_index = True)\n",
            "<ipython-input-56-108931f1cf20>:23: FutureWarning: The frame.append method is deprecated and will be removed from pandas in a future version. Use pandas.concat instead.\n",
            "  df = df.append(df_temp, ignore_index = True)\n",
            "<ipython-input-56-108931f1cf20>:23: FutureWarning: The frame.append method is deprecated and will be removed from pandas in a future version. Use pandas.concat instead.\n",
            "  df = df.append(df_temp, ignore_index = True)\n",
            "<ipython-input-56-108931f1cf20>:23: FutureWarning: The frame.append method is deprecated and will be removed from pandas in a future version. Use pandas.concat instead.\n",
            "  df = df.append(df_temp, ignore_index = True)\n",
            "<ipython-input-56-108931f1cf20>:23: FutureWarning: The frame.append method is deprecated and will be removed from pandas in a future version. Use pandas.concat instead.\n",
            "  df = df.append(df_temp, ignore_index = True)\n",
            "<ipython-input-56-108931f1cf20>:23: FutureWarning: The frame.append method is deprecated and will be removed from pandas in a future version. Use pandas.concat instead.\n",
            "  df = df.append(df_temp, ignore_index = True)\n",
            "<ipython-input-56-108931f1cf20>:23: FutureWarning: The frame.append method is deprecated and will be removed from pandas in a future version. Use pandas.concat instead.\n",
            "  df = df.append(df_temp, ignore_index = True)\n",
            "<ipython-input-56-108931f1cf20>:23: FutureWarning: The frame.append method is deprecated and will be removed from pandas in a future version. Use pandas.concat instead.\n",
            "  df = df.append(df_temp, ignore_index = True)\n",
            "<ipython-input-56-108931f1cf20>:23: FutureWarning: The frame.append method is deprecated and will be removed from pandas in a future version. Use pandas.concat instead.\n",
            "  df = df.append(df_temp, ignore_index = True)\n",
            "<ipython-input-56-108931f1cf20>:23: FutureWarning: The frame.append method is deprecated and will be removed from pandas in a future version. Use pandas.concat instead.\n",
            "  df = df.append(df_temp, ignore_index = True)\n",
            "<ipython-input-56-108931f1cf20>:23: FutureWarning: The frame.append method is deprecated and will be removed from pandas in a future version. Use pandas.concat instead.\n",
            "  df = df.append(df_temp, ignore_index = True)\n",
            "<ipython-input-56-108931f1cf20>:23: FutureWarning: The frame.append method is deprecated and will be removed from pandas in a future version. Use pandas.concat instead.\n",
            "  df = df.append(df_temp, ignore_index = True)\n",
            "<ipython-input-56-108931f1cf20>:23: FutureWarning: The frame.append method is deprecated and will be removed from pandas in a future version. Use pandas.concat instead.\n",
            "  df = df.append(df_temp, ignore_index = True)\n",
            "<ipython-input-56-108931f1cf20>:23: FutureWarning: The frame.append method is deprecated and will be removed from pandas in a future version. Use pandas.concat instead.\n",
            "  df = df.append(df_temp, ignore_index = True)\n",
            "<ipython-input-56-108931f1cf20>:23: FutureWarning: The frame.append method is deprecated and will be removed from pandas in a future version. Use pandas.concat instead.\n",
            "  df = df.append(df_temp, ignore_index = True)\n",
            "<ipython-input-56-108931f1cf20>:23: FutureWarning: The frame.append method is deprecated and will be removed from pandas in a future version. Use pandas.concat instead.\n",
            "  df = df.append(df_temp, ignore_index = True)\n",
            "<ipython-input-56-108931f1cf20>:23: FutureWarning: The frame.append method is deprecated and will be removed from pandas in a future version. Use pandas.concat instead.\n",
            "  df = df.append(df_temp, ignore_index = True)\n",
            "<ipython-input-56-108931f1cf20>:23: FutureWarning: The frame.append method is deprecated and will be removed from pandas in a future version. Use pandas.concat instead.\n",
            "  df = df.append(df_temp, ignore_index = True)\n",
            "<ipython-input-56-108931f1cf20>:23: FutureWarning: The frame.append method is deprecated and will be removed from pandas in a future version. Use pandas.concat instead.\n",
            "  df = df.append(df_temp, ignore_index = True)\n",
            "<ipython-input-56-108931f1cf20>:23: FutureWarning: The frame.append method is deprecated and will be removed from pandas in a future version. Use pandas.concat instead.\n",
            "  df = df.append(df_temp, ignore_index = True)\n",
            "<ipython-input-56-108931f1cf20>:23: FutureWarning: The frame.append method is deprecated and will be removed from pandas in a future version. Use pandas.concat instead.\n",
            "  df = df.append(df_temp, ignore_index = True)\n",
            "<ipython-input-56-108931f1cf20>:23: FutureWarning: The frame.append method is deprecated and will be removed from pandas in a future version. Use pandas.concat instead.\n",
            "  df = df.append(df_temp, ignore_index = True)\n",
            "<ipython-input-56-108931f1cf20>:23: FutureWarning: The frame.append method is deprecated and will be removed from pandas in a future version. Use pandas.concat instead.\n",
            "  df = df.append(df_temp, ignore_index = True)\n",
            "<ipython-input-56-108931f1cf20>:23: FutureWarning: The frame.append method is deprecated and will be removed from pandas in a future version. Use pandas.concat instead.\n",
            "  df = df.append(df_temp, ignore_index = True)\n",
            "<ipython-input-56-108931f1cf20>:23: FutureWarning: The frame.append method is deprecated and will be removed from pandas in a future version. Use pandas.concat instead.\n",
            "  df = df.append(df_temp, ignore_index = True)\n",
            "<ipython-input-56-108931f1cf20>:23: FutureWarning: The frame.append method is deprecated and will be removed from pandas in a future version. Use pandas.concat instead.\n",
            "  df = df.append(df_temp, ignore_index = True)\n",
            "<ipython-input-56-108931f1cf20>:23: FutureWarning: The frame.append method is deprecated and will be removed from pandas in a future version. Use pandas.concat instead.\n",
            "  df = df.append(df_temp, ignore_index = True)\n",
            "<ipython-input-56-108931f1cf20>:23: FutureWarning: The frame.append method is deprecated and will be removed from pandas in a future version. Use pandas.concat instead.\n",
            "  df = df.append(df_temp, ignore_index = True)\n",
            "<ipython-input-56-108931f1cf20>:23: FutureWarning: The frame.append method is deprecated and will be removed from pandas in a future version. Use pandas.concat instead.\n",
            "  df = df.append(df_temp, ignore_index = True)\n",
            "<ipython-input-56-108931f1cf20>:23: FutureWarning: The frame.append method is deprecated and will be removed from pandas in a future version. Use pandas.concat instead.\n",
            "  df = df.append(df_temp, ignore_index = True)\n",
            "<ipython-input-56-108931f1cf20>:23: FutureWarning: The frame.append method is deprecated and will be removed from pandas in a future version. Use pandas.concat instead.\n",
            "  df = df.append(df_temp, ignore_index = True)\n",
            "<ipython-input-56-108931f1cf20>:23: FutureWarning: The frame.append method is deprecated and will be removed from pandas in a future version. Use pandas.concat instead.\n",
            "  df = df.append(df_temp, ignore_index = True)\n",
            "<ipython-input-56-108931f1cf20>:23: FutureWarning: The frame.append method is deprecated and will be removed from pandas in a future version. Use pandas.concat instead.\n",
            "  df = df.append(df_temp, ignore_index = True)\n",
            "<ipython-input-56-108931f1cf20>:23: FutureWarning: The frame.append method is deprecated and will be removed from pandas in a future version. Use pandas.concat instead.\n",
            "  df = df.append(df_temp, ignore_index = True)\n",
            "<ipython-input-56-108931f1cf20>:23: FutureWarning: The frame.append method is deprecated and will be removed from pandas in a future version. Use pandas.concat instead.\n",
            "  df = df.append(df_temp, ignore_index = True)\n",
            "<ipython-input-56-108931f1cf20>:23: FutureWarning: The frame.append method is deprecated and will be removed from pandas in a future version. Use pandas.concat instead.\n",
            "  df = df.append(df_temp, ignore_index = True)\n",
            "<ipython-input-56-108931f1cf20>:23: FutureWarning: The frame.append method is deprecated and will be removed from pandas in a future version. Use pandas.concat instead.\n",
            "  df = df.append(df_temp, ignore_index = True)\n",
            "<ipython-input-56-108931f1cf20>:23: FutureWarning: The frame.append method is deprecated and will be removed from pandas in a future version. Use pandas.concat instead.\n",
            "  df = df.append(df_temp, ignore_index = True)\n",
            "<ipython-input-56-108931f1cf20>:23: FutureWarning: The frame.append method is deprecated and will be removed from pandas in a future version. Use pandas.concat instead.\n",
            "  df = df.append(df_temp, ignore_index = True)\n",
            "<ipython-input-56-108931f1cf20>:23: FutureWarning: The frame.append method is deprecated and will be removed from pandas in a future version. Use pandas.concat instead.\n",
            "  df = df.append(df_temp, ignore_index = True)\n",
            "<ipython-input-56-108931f1cf20>:23: FutureWarning: The frame.append method is deprecated and will be removed from pandas in a future version. Use pandas.concat instead.\n",
            "  df = df.append(df_temp, ignore_index = True)\n",
            "<ipython-input-56-108931f1cf20>:23: FutureWarning: The frame.append method is deprecated and will be removed from pandas in a future version. Use pandas.concat instead.\n",
            "  df = df.append(df_temp, ignore_index = True)\n",
            "<ipython-input-56-108931f1cf20>:23: FutureWarning: The frame.append method is deprecated and will be removed from pandas in a future version. Use pandas.concat instead.\n",
            "  df = df.append(df_temp, ignore_index = True)\n",
            "<ipython-input-56-108931f1cf20>:23: FutureWarning: The frame.append method is deprecated and will be removed from pandas in a future version. Use pandas.concat instead.\n",
            "  df = df.append(df_temp, ignore_index = True)\n",
            "<ipython-input-56-108931f1cf20>:23: FutureWarning: The frame.append method is deprecated and will be removed from pandas in a future version. Use pandas.concat instead.\n",
            "  df = df.append(df_temp, ignore_index = True)\n",
            "<ipython-input-56-108931f1cf20>:23: FutureWarning: The frame.append method is deprecated and will be removed from pandas in a future version. Use pandas.concat instead.\n",
            "  df = df.append(df_temp, ignore_index = True)\n",
            "<ipython-input-56-108931f1cf20>:23: FutureWarning: The frame.append method is deprecated and will be removed from pandas in a future version. Use pandas.concat instead.\n",
            "  df = df.append(df_temp, ignore_index = True)\n",
            "<ipython-input-56-108931f1cf20>:23: FutureWarning: The frame.append method is deprecated and will be removed from pandas in a future version. Use pandas.concat instead.\n",
            "  df = df.append(df_temp, ignore_index = True)\n",
            "<ipython-input-56-108931f1cf20>:23: FutureWarning: The frame.append method is deprecated and will be removed from pandas in a future version. Use pandas.concat instead.\n",
            "  df = df.append(df_temp, ignore_index = True)\n",
            "<ipython-input-56-108931f1cf20>:23: FutureWarning: The frame.append method is deprecated and will be removed from pandas in a future version. Use pandas.concat instead.\n",
            "  df = df.append(df_temp, ignore_index = True)\n",
            "<ipython-input-56-108931f1cf20>:23: FutureWarning: The frame.append method is deprecated and will be removed from pandas in a future version. Use pandas.concat instead.\n",
            "  df = df.append(df_temp, ignore_index = True)\n",
            "<ipython-input-56-108931f1cf20>:23: FutureWarning: The frame.append method is deprecated and will be removed from pandas in a future version. Use pandas.concat instead.\n",
            "  df = df.append(df_temp, ignore_index = True)\n",
            "<ipython-input-56-108931f1cf20>:23: FutureWarning: The frame.append method is deprecated and will be removed from pandas in a future version. Use pandas.concat instead.\n",
            "  df = df.append(df_temp, ignore_index = True)\n",
            "<ipython-input-56-108931f1cf20>:23: FutureWarning: The frame.append method is deprecated and will be removed from pandas in a future version. Use pandas.concat instead.\n",
            "  df = df.append(df_temp, ignore_index = True)\n",
            "<ipython-input-56-108931f1cf20>:23: FutureWarning: The frame.append method is deprecated and will be removed from pandas in a future version. Use pandas.concat instead.\n",
            "  df = df.append(df_temp, ignore_index = True)\n",
            "<ipython-input-56-108931f1cf20>:23: FutureWarning: The frame.append method is deprecated and will be removed from pandas in a future version. Use pandas.concat instead.\n",
            "  df = df.append(df_temp, ignore_index = True)\n",
            "<ipython-input-56-108931f1cf20>:23: FutureWarning: The frame.append method is deprecated and will be removed from pandas in a future version. Use pandas.concat instead.\n",
            "  df = df.append(df_temp, ignore_index = True)\n",
            "<ipython-input-56-108931f1cf20>:23: FutureWarning: The frame.append method is deprecated and will be removed from pandas in a future version. Use pandas.concat instead.\n",
            "  df = df.append(df_temp, ignore_index = True)\n",
            "<ipython-input-56-108931f1cf20>:23: FutureWarning: The frame.append method is deprecated and will be removed from pandas in a future version. Use pandas.concat instead.\n",
            "  df = df.append(df_temp, ignore_index = True)\n",
            "<ipython-input-56-108931f1cf20>:23: FutureWarning: The frame.append method is deprecated and will be removed from pandas in a future version. Use pandas.concat instead.\n",
            "  df = df.append(df_temp, ignore_index = True)\n",
            "<ipython-input-56-108931f1cf20>:23: FutureWarning: The frame.append method is deprecated and will be removed from pandas in a future version. Use pandas.concat instead.\n",
            "  df = df.append(df_temp, ignore_index = True)\n",
            "<ipython-input-56-108931f1cf20>:23: FutureWarning: The frame.append method is deprecated and will be removed from pandas in a future version. Use pandas.concat instead.\n",
            "  df = df.append(df_temp, ignore_index = True)\n",
            "<ipython-input-56-108931f1cf20>:23: FutureWarning: The frame.append method is deprecated and will be removed from pandas in a future version. Use pandas.concat instead.\n",
            "  df = df.append(df_temp, ignore_index = True)\n",
            "<ipython-input-56-108931f1cf20>:23: FutureWarning: The frame.append method is deprecated and will be removed from pandas in a future version. Use pandas.concat instead.\n",
            "  df = df.append(df_temp, ignore_index = True)\n",
            "<ipython-input-56-108931f1cf20>:23: FutureWarning: The frame.append method is deprecated and will be removed from pandas in a future version. Use pandas.concat instead.\n",
            "  df = df.append(df_temp, ignore_index = True)\n",
            "<ipython-input-56-108931f1cf20>:23: FutureWarning: The frame.append method is deprecated and will be removed from pandas in a future version. Use pandas.concat instead.\n",
            "  df = df.append(df_temp, ignore_index = True)\n",
            "<ipython-input-56-108931f1cf20>:23: FutureWarning: The frame.append method is deprecated and will be removed from pandas in a future version. Use pandas.concat instead.\n",
            "  df = df.append(df_temp, ignore_index = True)\n",
            "<ipython-input-56-108931f1cf20>:23: FutureWarning: The frame.append method is deprecated and will be removed from pandas in a future version. Use pandas.concat instead.\n",
            "  df = df.append(df_temp, ignore_index = True)\n",
            "<ipython-input-56-108931f1cf20>:23: FutureWarning: The frame.append method is deprecated and will be removed from pandas in a future version. Use pandas.concat instead.\n",
            "  df = df.append(df_temp, ignore_index = True)\n",
            "<ipython-input-56-108931f1cf20>:23: FutureWarning: The frame.append method is deprecated and will be removed from pandas in a future version. Use pandas.concat instead.\n",
            "  df = df.append(df_temp, ignore_index = True)\n",
            "<ipython-input-56-108931f1cf20>:23: FutureWarning: The frame.append method is deprecated and will be removed from pandas in a future version. Use pandas.concat instead.\n",
            "  df = df.append(df_temp, ignore_index = True)\n",
            "<ipython-input-56-108931f1cf20>:23: FutureWarning: The frame.append method is deprecated and will be removed from pandas in a future version. Use pandas.concat instead.\n",
            "  df = df.append(df_temp, ignore_index = True)\n",
            "<ipython-input-56-108931f1cf20>:23: FutureWarning: The frame.append method is deprecated and will be removed from pandas in a future version. Use pandas.concat instead.\n",
            "  df = df.append(df_temp, ignore_index = True)\n",
            "<ipython-input-56-108931f1cf20>:23: FutureWarning: The frame.append method is deprecated and will be removed from pandas in a future version. Use pandas.concat instead.\n",
            "  df = df.append(df_temp, ignore_index = True)\n",
            "<ipython-input-56-108931f1cf20>:23: FutureWarning: The frame.append method is deprecated and will be removed from pandas in a future version. Use pandas.concat instead.\n",
            "  df = df.append(df_temp, ignore_index = True)\n",
            "<ipython-input-56-108931f1cf20>:23: FutureWarning: The frame.append method is deprecated and will be removed from pandas in a future version. Use pandas.concat instead.\n",
            "  df = df.append(df_temp, ignore_index = True)\n",
            "<ipython-input-56-108931f1cf20>:23: FutureWarning: The frame.append method is deprecated and will be removed from pandas in a future version. Use pandas.concat instead.\n",
            "  df = df.append(df_temp, ignore_index = True)\n",
            "<ipython-input-56-108931f1cf20>:23: FutureWarning: The frame.append method is deprecated and will be removed from pandas in a future version. Use pandas.concat instead.\n",
            "  df = df.append(df_temp, ignore_index = True)\n",
            "<ipython-input-56-108931f1cf20>:23: FutureWarning: The frame.append method is deprecated and will be removed from pandas in a future version. Use pandas.concat instead.\n",
            "  df = df.append(df_temp, ignore_index = True)\n",
            "<ipython-input-56-108931f1cf20>:23: FutureWarning: The frame.append method is deprecated and will be removed from pandas in a future version. Use pandas.concat instead.\n",
            "  df = df.append(df_temp, ignore_index = True)\n",
            "<ipython-input-56-108931f1cf20>:23: FutureWarning: The frame.append method is deprecated and will be removed from pandas in a future version. Use pandas.concat instead.\n",
            "  df = df.append(df_temp, ignore_index = True)\n",
            "<ipython-input-56-108931f1cf20>:23: FutureWarning: The frame.append method is deprecated and will be removed from pandas in a future version. Use pandas.concat instead.\n",
            "  df = df.append(df_temp, ignore_index = True)\n",
            "<ipython-input-56-108931f1cf20>:23: FutureWarning: The frame.append method is deprecated and will be removed from pandas in a future version. Use pandas.concat instead.\n",
            "  df = df.append(df_temp, ignore_index = True)\n",
            "<ipython-input-56-108931f1cf20>:23: FutureWarning: The frame.append method is deprecated and will be removed from pandas in a future version. Use pandas.concat instead.\n",
            "  df = df.append(df_temp, ignore_index = True)\n",
            "<ipython-input-56-108931f1cf20>:23: FutureWarning: The frame.append method is deprecated and will be removed from pandas in a future version. Use pandas.concat instead.\n",
            "  df = df.append(df_temp, ignore_index = True)\n",
            "<ipython-input-56-108931f1cf20>:23: FutureWarning: The frame.append method is deprecated and will be removed from pandas in a future version. Use pandas.concat instead.\n",
            "  df = df.append(df_temp, ignore_index = True)\n",
            "<ipython-input-56-108931f1cf20>:23: FutureWarning: The frame.append method is deprecated and will be removed from pandas in a future version. Use pandas.concat instead.\n",
            "  df = df.append(df_temp, ignore_index = True)\n",
            "<ipython-input-56-108931f1cf20>:23: FutureWarning: The frame.append method is deprecated and will be removed from pandas in a future version. Use pandas.concat instead.\n",
            "  df = df.append(df_temp, ignore_index = True)\n",
            "<ipython-input-56-108931f1cf20>:23: FutureWarning: The frame.append method is deprecated and will be removed from pandas in a future version. Use pandas.concat instead.\n",
            "  df = df.append(df_temp, ignore_index = True)\n",
            "<ipython-input-56-108931f1cf20>:23: FutureWarning: The frame.append method is deprecated and will be removed from pandas in a future version. Use pandas.concat instead.\n",
            "  df = df.append(df_temp, ignore_index = True)\n",
            "<ipython-input-56-108931f1cf20>:23: FutureWarning: The frame.append method is deprecated and will be removed from pandas in a future version. Use pandas.concat instead.\n",
            "  df = df.append(df_temp, ignore_index = True)\n",
            "<ipython-input-56-108931f1cf20>:23: FutureWarning: The frame.append method is deprecated and will be removed from pandas in a future version. Use pandas.concat instead.\n",
            "  df = df.append(df_temp, ignore_index = True)\n",
            "<ipython-input-56-108931f1cf20>:23: FutureWarning: The frame.append method is deprecated and will be removed from pandas in a future version. Use pandas.concat instead.\n",
            "  df = df.append(df_temp, ignore_index = True)\n",
            "<ipython-input-56-108931f1cf20>:23: FutureWarning: The frame.append method is deprecated and will be removed from pandas in a future version. Use pandas.concat instead.\n",
            "  df = df.append(df_temp, ignore_index = True)\n",
            "<ipython-input-56-108931f1cf20>:23: FutureWarning: The frame.append method is deprecated and will be removed from pandas in a future version. Use pandas.concat instead.\n",
            "  df = df.append(df_temp, ignore_index = True)\n",
            "<ipython-input-56-108931f1cf20>:23: FutureWarning: The frame.append method is deprecated and will be removed from pandas in a future version. Use pandas.concat instead.\n",
            "  df = df.append(df_temp, ignore_index = True)\n",
            "<ipython-input-56-108931f1cf20>:23: FutureWarning: The frame.append method is deprecated and will be removed from pandas in a future version. Use pandas.concat instead.\n",
            "  df = df.append(df_temp, ignore_index = True)\n",
            "<ipython-input-56-108931f1cf20>:23: FutureWarning: The frame.append method is deprecated and will be removed from pandas in a future version. Use pandas.concat instead.\n",
            "  df = df.append(df_temp, ignore_index = True)\n",
            "<ipython-input-56-108931f1cf20>:23: FutureWarning: The frame.append method is deprecated and will be removed from pandas in a future version. Use pandas.concat instead.\n",
            "  df = df.append(df_temp, ignore_index = True)\n",
            "<ipython-input-56-108931f1cf20>:23: FutureWarning: The frame.append method is deprecated and will be removed from pandas in a future version. Use pandas.concat instead.\n",
            "  df = df.append(df_temp, ignore_index = True)\n",
            "<ipython-input-56-108931f1cf20>:23: FutureWarning: The frame.append method is deprecated and will be removed from pandas in a future version. Use pandas.concat instead.\n",
            "  df = df.append(df_temp, ignore_index = True)\n",
            "<ipython-input-56-108931f1cf20>:23: FutureWarning: The frame.append method is deprecated and will be removed from pandas in a future version. Use pandas.concat instead.\n",
            "  df = df.append(df_temp, ignore_index = True)\n",
            "<ipython-input-56-108931f1cf20>:23: FutureWarning: The frame.append method is deprecated and will be removed from pandas in a future version. Use pandas.concat instead.\n",
            "  df = df.append(df_temp, ignore_index = True)\n",
            "<ipython-input-56-108931f1cf20>:23: FutureWarning: The frame.append method is deprecated and will be removed from pandas in a future version. Use pandas.concat instead.\n",
            "  df = df.append(df_temp, ignore_index = True)\n",
            "<ipython-input-56-108931f1cf20>:23: FutureWarning: The frame.append method is deprecated and will be removed from pandas in a future version. Use pandas.concat instead.\n",
            "  df = df.append(df_temp, ignore_index = True)\n",
            "<ipython-input-56-108931f1cf20>:23: FutureWarning: The frame.append method is deprecated and will be removed from pandas in a future version. Use pandas.concat instead.\n",
            "  df = df.append(df_temp, ignore_index = True)\n",
            "<ipython-input-56-108931f1cf20>:23: FutureWarning: The frame.append method is deprecated and will be removed from pandas in a future version. Use pandas.concat instead.\n",
            "  df = df.append(df_temp, ignore_index = True)\n",
            "<ipython-input-56-108931f1cf20>:23: FutureWarning: The frame.append method is deprecated and will be removed from pandas in a future version. Use pandas.concat instead.\n",
            "  df = df.append(df_temp, ignore_index = True)\n",
            "<ipython-input-56-108931f1cf20>:23: FutureWarning: The frame.append method is deprecated and will be removed from pandas in a future version. Use pandas.concat instead.\n",
            "  df = df.append(df_temp, ignore_index = True)\n",
            "<ipython-input-56-108931f1cf20>:23: FutureWarning: The frame.append method is deprecated and will be removed from pandas in a future version. Use pandas.concat instead.\n",
            "  df = df.append(df_temp, ignore_index = True)\n",
            "<ipython-input-56-108931f1cf20>:23: FutureWarning: The frame.append method is deprecated and will be removed from pandas in a future version. Use pandas.concat instead.\n",
            "  df = df.append(df_temp, ignore_index = True)\n",
            "<ipython-input-56-108931f1cf20>:23: FutureWarning: The frame.append method is deprecated and will be removed from pandas in a future version. Use pandas.concat instead.\n",
            "  df = df.append(df_temp, ignore_index = True)\n",
            "<ipython-input-56-108931f1cf20>:23: FutureWarning: The frame.append method is deprecated and will be removed from pandas in a future version. Use pandas.concat instead.\n",
            "  df = df.append(df_temp, ignore_index = True)\n",
            "<ipython-input-56-108931f1cf20>:23: FutureWarning: The frame.append method is deprecated and will be removed from pandas in a future version. Use pandas.concat instead.\n",
            "  df = df.append(df_temp, ignore_index = True)\n",
            "<ipython-input-56-108931f1cf20>:23: FutureWarning: The frame.append method is deprecated and will be removed from pandas in a future version. Use pandas.concat instead.\n",
            "  df = df.append(df_temp, ignore_index = True)\n",
            "<ipython-input-56-108931f1cf20>:23: FutureWarning: The frame.append method is deprecated and will be removed from pandas in a future version. Use pandas.concat instead.\n",
            "  df = df.append(df_temp, ignore_index = True)\n",
            "<ipython-input-56-108931f1cf20>:23: FutureWarning: The frame.append method is deprecated and will be removed from pandas in a future version. Use pandas.concat instead.\n",
            "  df = df.append(df_temp, ignore_index = True)\n",
            "<ipython-input-56-108931f1cf20>:23: FutureWarning: The frame.append method is deprecated and will be removed from pandas in a future version. Use pandas.concat instead.\n",
            "  df = df.append(df_temp, ignore_index = True)\n",
            "<ipython-input-56-108931f1cf20>:23: FutureWarning: The frame.append method is deprecated and will be removed from pandas in a future version. Use pandas.concat instead.\n",
            "  df = df.append(df_temp, ignore_index = True)\n",
            "<ipython-input-56-108931f1cf20>:23: FutureWarning: The frame.append method is deprecated and will be removed from pandas in a future version. Use pandas.concat instead.\n",
            "  df = df.append(df_temp, ignore_index = True)\n",
            "<ipython-input-56-108931f1cf20>:23: FutureWarning: The frame.append method is deprecated and will be removed from pandas in a future version. Use pandas.concat instead.\n",
            "  df = df.append(df_temp, ignore_index = True)\n",
            "<ipython-input-56-108931f1cf20>:23: FutureWarning: The frame.append method is deprecated and will be removed from pandas in a future version. Use pandas.concat instead.\n",
            "  df = df.append(df_temp, ignore_index = True)\n",
            "<ipython-input-56-108931f1cf20>:23: FutureWarning: The frame.append method is deprecated and will be removed from pandas in a future version. Use pandas.concat instead.\n",
            "  df = df.append(df_temp, ignore_index = True)\n",
            "<ipython-input-56-108931f1cf20>:23: FutureWarning: The frame.append method is deprecated and will be removed from pandas in a future version. Use pandas.concat instead.\n",
            "  df = df.append(df_temp, ignore_index = True)\n",
            "<ipython-input-56-108931f1cf20>:23: FutureWarning: The frame.append method is deprecated and will be removed from pandas in a future version. Use pandas.concat instead.\n",
            "  df = df.append(df_temp, ignore_index = True)\n",
            "<ipython-input-56-108931f1cf20>:23: FutureWarning: The frame.append method is deprecated and will be removed from pandas in a future version. Use pandas.concat instead.\n",
            "  df = df.append(df_temp, ignore_index = True)\n",
            "<ipython-input-56-108931f1cf20>:23: FutureWarning: The frame.append method is deprecated and will be removed from pandas in a future version. Use pandas.concat instead.\n",
            "  df = df.append(df_temp, ignore_index = True)\n",
            "<ipython-input-56-108931f1cf20>:23: FutureWarning: The frame.append method is deprecated and will be removed from pandas in a future version. Use pandas.concat instead.\n",
            "  df = df.append(df_temp, ignore_index = True)\n",
            "<ipython-input-56-108931f1cf20>:23: FutureWarning: The frame.append method is deprecated and will be removed from pandas in a future version. Use pandas.concat instead.\n",
            "  df = df.append(df_temp, ignore_index = True)\n",
            "<ipython-input-56-108931f1cf20>:23: FutureWarning: The frame.append method is deprecated and will be removed from pandas in a future version. Use pandas.concat instead.\n",
            "  df = df.append(df_temp, ignore_index = True)\n",
            "<ipython-input-56-108931f1cf20>:23: FutureWarning: The frame.append method is deprecated and will be removed from pandas in a future version. Use pandas.concat instead.\n",
            "  df = df.append(df_temp, ignore_index = True)\n",
            "<ipython-input-56-108931f1cf20>:23: FutureWarning: The frame.append method is deprecated and will be removed from pandas in a future version. Use pandas.concat instead.\n",
            "  df = df.append(df_temp, ignore_index = True)\n",
            "<ipython-input-56-108931f1cf20>:23: FutureWarning: The frame.append method is deprecated and will be removed from pandas in a future version. Use pandas.concat instead.\n",
            "  df = df.append(df_temp, ignore_index = True)\n",
            "<ipython-input-56-108931f1cf20>:23: FutureWarning: The frame.append method is deprecated and will be removed from pandas in a future version. Use pandas.concat instead.\n",
            "  df = df.append(df_temp, ignore_index = True)\n",
            "<ipython-input-56-108931f1cf20>:23: FutureWarning: The frame.append method is deprecated and will be removed from pandas in a future version. Use pandas.concat instead.\n",
            "  df = df.append(df_temp, ignore_index = True)\n",
            "<ipython-input-56-108931f1cf20>:23: FutureWarning: The frame.append method is deprecated and will be removed from pandas in a future version. Use pandas.concat instead.\n",
            "  df = df.append(df_temp, ignore_index = True)\n",
            "<ipython-input-56-108931f1cf20>:23: FutureWarning: The frame.append method is deprecated and will be removed from pandas in a future version. Use pandas.concat instead.\n",
            "  df = df.append(df_temp, ignore_index = True)\n",
            "<ipython-input-56-108931f1cf20>:23: FutureWarning: The frame.append method is deprecated and will be removed from pandas in a future version. Use pandas.concat instead.\n",
            "  df = df.append(df_temp, ignore_index = True)\n",
            "<ipython-input-56-108931f1cf20>:23: FutureWarning: The frame.append method is deprecated and will be removed from pandas in a future version. Use pandas.concat instead.\n",
            "  df = df.append(df_temp, ignore_index = True)\n",
            "<ipython-input-56-108931f1cf20>:23: FutureWarning: The frame.append method is deprecated and will be removed from pandas in a future version. Use pandas.concat instead.\n",
            "  df = df.append(df_temp, ignore_index = True)\n",
            "<ipython-input-56-108931f1cf20>:23: FutureWarning: The frame.append method is deprecated and will be removed from pandas in a future version. Use pandas.concat instead.\n",
            "  df = df.append(df_temp, ignore_index = True)\n",
            "<ipython-input-56-108931f1cf20>:23: FutureWarning: The frame.append method is deprecated and will be removed from pandas in a future version. Use pandas.concat instead.\n",
            "  df = df.append(df_temp, ignore_index = True)\n",
            "<ipython-input-56-108931f1cf20>:23: FutureWarning: The frame.append method is deprecated and will be removed from pandas in a future version. Use pandas.concat instead.\n",
            "  df = df.append(df_temp, ignore_index = True)\n",
            "<ipython-input-56-108931f1cf20>:23: FutureWarning: The frame.append method is deprecated and will be removed from pandas in a future version. Use pandas.concat instead.\n",
            "  df = df.append(df_temp, ignore_index = True)\n",
            "<ipython-input-56-108931f1cf20>:23: FutureWarning: The frame.append method is deprecated and will be removed from pandas in a future version. Use pandas.concat instead.\n",
            "  df = df.append(df_temp, ignore_index = True)\n",
            "<ipython-input-56-108931f1cf20>:23: FutureWarning: The frame.append method is deprecated and will be removed from pandas in a future version. Use pandas.concat instead.\n",
            "  df = df.append(df_temp, ignore_index = True)\n",
            "<ipython-input-56-108931f1cf20>:23: FutureWarning: The frame.append method is deprecated and will be removed from pandas in a future version. Use pandas.concat instead.\n",
            "  df = df.append(df_temp, ignore_index = True)\n",
            "<ipython-input-56-108931f1cf20>:23: FutureWarning: The frame.append method is deprecated and will be removed from pandas in a future version. Use pandas.concat instead.\n",
            "  df = df.append(df_temp, ignore_index = True)\n",
            "<ipython-input-56-108931f1cf20>:23: FutureWarning: The frame.append method is deprecated and will be removed from pandas in a future version. Use pandas.concat instead.\n",
            "  df = df.append(df_temp, ignore_index = True)\n",
            "<ipython-input-56-108931f1cf20>:23: FutureWarning: The frame.append method is deprecated and will be removed from pandas in a future version. Use pandas.concat instead.\n",
            "  df = df.append(df_temp, ignore_index = True)\n",
            "<ipython-input-56-108931f1cf20>:23: FutureWarning: The frame.append method is deprecated and will be removed from pandas in a future version. Use pandas.concat instead.\n",
            "  df = df.append(df_temp, ignore_index = True)\n",
            "<ipython-input-56-108931f1cf20>:23: FutureWarning: The frame.append method is deprecated and will be removed from pandas in a future version. Use pandas.concat instead.\n",
            "  df = df.append(df_temp, ignore_index = True)\n",
            "<ipython-input-56-108931f1cf20>:23: FutureWarning: The frame.append method is deprecated and will be removed from pandas in a future version. Use pandas.concat instead.\n",
            "  df = df.append(df_temp, ignore_index = True)\n",
            "<ipython-input-56-108931f1cf20>:23: FutureWarning: The frame.append method is deprecated and will be removed from pandas in a future version. Use pandas.concat instead.\n",
            "  df = df.append(df_temp, ignore_index = True)\n",
            "<ipython-input-56-108931f1cf20>:23: FutureWarning: The frame.append method is deprecated and will be removed from pandas in a future version. Use pandas.concat instead.\n",
            "  df = df.append(df_temp, ignore_index = True)\n",
            "<ipython-input-56-108931f1cf20>:23: FutureWarning: The frame.append method is deprecated and will be removed from pandas in a future version. Use pandas.concat instead.\n",
            "  df = df.append(df_temp, ignore_index = True)\n",
            "<ipython-input-56-108931f1cf20>:23: FutureWarning: The frame.append method is deprecated and will be removed from pandas in a future version. Use pandas.concat instead.\n",
            "  df = df.append(df_temp, ignore_index = True)\n",
            "<ipython-input-56-108931f1cf20>:23: FutureWarning: The frame.append method is deprecated and will be removed from pandas in a future version. Use pandas.concat instead.\n",
            "  df = df.append(df_temp, ignore_index = True)\n",
            "<ipython-input-56-108931f1cf20>:23: FutureWarning: The frame.append method is deprecated and will be removed from pandas in a future version. Use pandas.concat instead.\n",
            "  df = df.append(df_temp, ignore_index = True)\n",
            "<ipython-input-56-108931f1cf20>:23: FutureWarning: The frame.append method is deprecated and will be removed from pandas in a future version. Use pandas.concat instead.\n",
            "  df = df.append(df_temp, ignore_index = True)\n",
            "<ipython-input-56-108931f1cf20>:23: FutureWarning: The frame.append method is deprecated and will be removed from pandas in a future version. Use pandas.concat instead.\n",
            "  df = df.append(df_temp, ignore_index = True)\n",
            "<ipython-input-56-108931f1cf20>:23: FutureWarning: The frame.append method is deprecated and will be removed from pandas in a future version. Use pandas.concat instead.\n",
            "  df = df.append(df_temp, ignore_index = True)\n",
            "<ipython-input-56-108931f1cf20>:23: FutureWarning: The frame.append method is deprecated and will be removed from pandas in a future version. Use pandas.concat instead.\n",
            "  df = df.append(df_temp, ignore_index = True)\n",
            "<ipython-input-56-108931f1cf20>:23: FutureWarning: The frame.append method is deprecated and will be removed from pandas in a future version. Use pandas.concat instead.\n",
            "  df = df.append(df_temp, ignore_index = True)\n",
            "<ipython-input-56-108931f1cf20>:23: FutureWarning: The frame.append method is deprecated and will be removed from pandas in a future version. Use pandas.concat instead.\n",
            "  df = df.append(df_temp, ignore_index = True)\n",
            "<ipython-input-56-108931f1cf20>:23: FutureWarning: The frame.append method is deprecated and will be removed from pandas in a future version. Use pandas.concat instead.\n",
            "  df = df.append(df_temp, ignore_index = True)\n",
            "<ipython-input-56-108931f1cf20>:23: FutureWarning: The frame.append method is deprecated and will be removed from pandas in a future version. Use pandas.concat instead.\n",
            "  df = df.append(df_temp, ignore_index = True)\n",
            "<ipython-input-56-108931f1cf20>:23: FutureWarning: The frame.append method is deprecated and will be removed from pandas in a future version. Use pandas.concat instead.\n",
            "  df = df.append(df_temp, ignore_index = True)\n",
            "<ipython-input-56-108931f1cf20>:23: FutureWarning: The frame.append method is deprecated and will be removed from pandas in a future version. Use pandas.concat instead.\n",
            "  df = df.append(df_temp, ignore_index = True)\n",
            "<ipython-input-56-108931f1cf20>:23: FutureWarning: The frame.append method is deprecated and will be removed from pandas in a future version. Use pandas.concat instead.\n",
            "  df = df.append(df_temp, ignore_index = True)\n",
            "<ipython-input-56-108931f1cf20>:23: FutureWarning: The frame.append method is deprecated and will be removed from pandas in a future version. Use pandas.concat instead.\n",
            "  df = df.append(df_temp, ignore_index = True)\n",
            "<ipython-input-56-108931f1cf20>:23: FutureWarning: The frame.append method is deprecated and will be removed from pandas in a future version. Use pandas.concat instead.\n",
            "  df = df.append(df_temp, ignore_index = True)\n",
            "<ipython-input-56-108931f1cf20>:23: FutureWarning: The frame.append method is deprecated and will be removed from pandas in a future version. Use pandas.concat instead.\n",
            "  df = df.append(df_temp, ignore_index = True)\n",
            "<ipython-input-56-108931f1cf20>:23: FutureWarning: The frame.append method is deprecated and will be removed from pandas in a future version. Use pandas.concat instead.\n",
            "  df = df.append(df_temp, ignore_index = True)\n",
            "<ipython-input-56-108931f1cf20>:23: FutureWarning: The frame.append method is deprecated and will be removed from pandas in a future version. Use pandas.concat instead.\n",
            "  df = df.append(df_temp, ignore_index = True)\n",
            "<ipython-input-56-108931f1cf20>:23: FutureWarning: The frame.append method is deprecated and will be removed from pandas in a future version. Use pandas.concat instead.\n",
            "  df = df.append(df_temp, ignore_index = True)\n",
            "<ipython-input-56-108931f1cf20>:23: FutureWarning: The frame.append method is deprecated and will be removed from pandas in a future version. Use pandas.concat instead.\n",
            "  df = df.append(df_temp, ignore_index = True)\n",
            "<ipython-input-56-108931f1cf20>:23: FutureWarning: The frame.append method is deprecated and will be removed from pandas in a future version. Use pandas.concat instead.\n",
            "  df = df.append(df_temp, ignore_index = True)\n",
            "<ipython-input-56-108931f1cf20>:23: FutureWarning: The frame.append method is deprecated and will be removed from pandas in a future version. Use pandas.concat instead.\n",
            "  df = df.append(df_temp, ignore_index = True)\n",
            "<ipython-input-56-108931f1cf20>:23: FutureWarning: The frame.append method is deprecated and will be removed from pandas in a future version. Use pandas.concat instead.\n",
            "  df = df.append(df_temp, ignore_index = True)\n",
            "<ipython-input-56-108931f1cf20>:23: FutureWarning: The frame.append method is deprecated and will be removed from pandas in a future version. Use pandas.concat instead.\n",
            "  df = df.append(df_temp, ignore_index = True)\n",
            "<ipython-input-56-108931f1cf20>:23: FutureWarning: The frame.append method is deprecated and will be removed from pandas in a future version. Use pandas.concat instead.\n",
            "  df = df.append(df_temp, ignore_index = True)\n",
            "<ipython-input-56-108931f1cf20>:23: FutureWarning: The frame.append method is deprecated and will be removed from pandas in a future version. Use pandas.concat instead.\n",
            "  df = df.append(df_temp, ignore_index = True)\n",
            "<ipython-input-56-108931f1cf20>:23: FutureWarning: The frame.append method is deprecated and will be removed from pandas in a future version. Use pandas.concat instead.\n",
            "  df = df.append(df_temp, ignore_index = True)\n",
            "<ipython-input-56-108931f1cf20>:23: FutureWarning: The frame.append method is deprecated and will be removed from pandas in a future version. Use pandas.concat instead.\n",
            "  df = df.append(df_temp, ignore_index = True)\n",
            "<ipython-input-56-108931f1cf20>:23: FutureWarning: The frame.append method is deprecated and will be removed from pandas in a future version. Use pandas.concat instead.\n",
            "  df = df.append(df_temp, ignore_index = True)\n",
            "<ipython-input-56-108931f1cf20>:23: FutureWarning: The frame.append method is deprecated and will be removed from pandas in a future version. Use pandas.concat instead.\n",
            "  df = df.append(df_temp, ignore_index = True)\n",
            "<ipython-input-56-108931f1cf20>:23: FutureWarning: The frame.append method is deprecated and will be removed from pandas in a future version. Use pandas.concat instead.\n",
            "  df = df.append(df_temp, ignore_index = True)\n",
            "<ipython-input-56-108931f1cf20>:23: FutureWarning: The frame.append method is deprecated and will be removed from pandas in a future version. Use pandas.concat instead.\n",
            "  df = df.append(df_temp, ignore_index = True)\n",
            "<ipython-input-56-108931f1cf20>:23: FutureWarning: The frame.append method is deprecated and will be removed from pandas in a future version. Use pandas.concat instead.\n",
            "  df = df.append(df_temp, ignore_index = True)\n",
            "<ipython-input-56-108931f1cf20>:23: FutureWarning: The frame.append method is deprecated and will be removed from pandas in a future version. Use pandas.concat instead.\n",
            "  df = df.append(df_temp, ignore_index = True)\n",
            "<ipython-input-56-108931f1cf20>:23: FutureWarning: The frame.append method is deprecated and will be removed from pandas in a future version. Use pandas.concat instead.\n",
            "  df = df.append(df_temp, ignore_index = True)\n",
            "<ipython-input-56-108931f1cf20>:23: FutureWarning: The frame.append method is deprecated and will be removed from pandas in a future version. Use pandas.concat instead.\n",
            "  df = df.append(df_temp, ignore_index = True)\n",
            "<ipython-input-56-108931f1cf20>:23: FutureWarning: The frame.append method is deprecated and will be removed from pandas in a future version. Use pandas.concat instead.\n",
            "  df = df.append(df_temp, ignore_index = True)\n",
            "<ipython-input-56-108931f1cf20>:23: FutureWarning: The frame.append method is deprecated and will be removed from pandas in a future version. Use pandas.concat instead.\n",
            "  df = df.append(df_temp, ignore_index = True)\n",
            "<ipython-input-56-108931f1cf20>:23: FutureWarning: The frame.append method is deprecated and will be removed from pandas in a future version. Use pandas.concat instead.\n",
            "  df = df.append(df_temp, ignore_index = True)\n",
            "<ipython-input-56-108931f1cf20>:23: FutureWarning: The frame.append method is deprecated and will be removed from pandas in a future version. Use pandas.concat instead.\n",
            "  df = df.append(df_temp, ignore_index = True)\n",
            "<ipython-input-56-108931f1cf20>:23: FutureWarning: The frame.append method is deprecated and will be removed from pandas in a future version. Use pandas.concat instead.\n",
            "  df = df.append(df_temp, ignore_index = True)\n",
            "<ipython-input-56-108931f1cf20>:23: FutureWarning: The frame.append method is deprecated and will be removed from pandas in a future version. Use pandas.concat instead.\n",
            "  df = df.append(df_temp, ignore_index = True)\n",
            "<ipython-input-56-108931f1cf20>:23: FutureWarning: The frame.append method is deprecated and will be removed from pandas in a future version. Use pandas.concat instead.\n",
            "  df = df.append(df_temp, ignore_index = True)\n",
            "<ipython-input-56-108931f1cf20>:23: FutureWarning: The frame.append method is deprecated and will be removed from pandas in a future version. Use pandas.concat instead.\n",
            "  df = df.append(df_temp, ignore_index = True)\n",
            "<ipython-input-56-108931f1cf20>:23: FutureWarning: The frame.append method is deprecated and will be removed from pandas in a future version. Use pandas.concat instead.\n",
            "  df = df.append(df_temp, ignore_index = True)\n",
            "<ipython-input-56-108931f1cf20>:23: FutureWarning: The frame.append method is deprecated and will be removed from pandas in a future version. Use pandas.concat instead.\n",
            "  df = df.append(df_temp, ignore_index = True)\n",
            "<ipython-input-56-108931f1cf20>:23: FutureWarning: The frame.append method is deprecated and will be removed from pandas in a future version. Use pandas.concat instead.\n",
            "  df = df.append(df_temp, ignore_index = True)\n",
            "<ipython-input-56-108931f1cf20>:23: FutureWarning: The frame.append method is deprecated and will be removed from pandas in a future version. Use pandas.concat instead.\n",
            "  df = df.append(df_temp, ignore_index = True)\n",
            "<ipython-input-56-108931f1cf20>:23: FutureWarning: The frame.append method is deprecated and will be removed from pandas in a future version. Use pandas.concat instead.\n",
            "  df = df.append(df_temp, ignore_index = True)\n",
            "<ipython-input-56-108931f1cf20>:23: FutureWarning: The frame.append method is deprecated and will be removed from pandas in a future version. Use pandas.concat instead.\n",
            "  df = df.append(df_temp, ignore_index = True)\n",
            "<ipython-input-56-108931f1cf20>:23: FutureWarning: The frame.append method is deprecated and will be removed from pandas in a future version. Use pandas.concat instead.\n",
            "  df = df.append(df_temp, ignore_index = True)\n",
            "<ipython-input-56-108931f1cf20>:23: FutureWarning: The frame.append method is deprecated and will be removed from pandas in a future version. Use pandas.concat instead.\n",
            "  df = df.append(df_temp, ignore_index = True)\n",
            "<ipython-input-56-108931f1cf20>:23: FutureWarning: The frame.append method is deprecated and will be removed from pandas in a future version. Use pandas.concat instead.\n",
            "  df = df.append(df_temp, ignore_index = True)\n",
            "<ipython-input-56-108931f1cf20>:23: FutureWarning: The frame.append method is deprecated and will be removed from pandas in a future version. Use pandas.concat instead.\n",
            "  df = df.append(df_temp, ignore_index = True)\n",
            "<ipython-input-56-108931f1cf20>:23: FutureWarning: The frame.append method is deprecated and will be removed from pandas in a future version. Use pandas.concat instead.\n",
            "  df = df.append(df_temp, ignore_index = True)\n",
            "<ipython-input-56-108931f1cf20>:23: FutureWarning: The frame.append method is deprecated and will be removed from pandas in a future version. Use pandas.concat instead.\n",
            "  df = df.append(df_temp, ignore_index = True)\n",
            "<ipython-input-56-108931f1cf20>:23: FutureWarning: The frame.append method is deprecated and will be removed from pandas in a future version. Use pandas.concat instead.\n",
            "  df = df.append(df_temp, ignore_index = True)\n",
            "<ipython-input-56-108931f1cf20>:23: FutureWarning: The frame.append method is deprecated and will be removed from pandas in a future version. Use pandas.concat instead.\n",
            "  df = df.append(df_temp, ignore_index = True)\n",
            "<ipython-input-56-108931f1cf20>:23: FutureWarning: The frame.append method is deprecated and will be removed from pandas in a future version. Use pandas.concat instead.\n",
            "  df = df.append(df_temp, ignore_index = True)\n",
            "<ipython-input-56-108931f1cf20>:23: FutureWarning: The frame.append method is deprecated and will be removed from pandas in a future version. Use pandas.concat instead.\n",
            "  df = df.append(df_temp, ignore_index = True)\n",
            "<ipython-input-56-108931f1cf20>:23: FutureWarning: The frame.append method is deprecated and will be removed from pandas in a future version. Use pandas.concat instead.\n",
            "  df = df.append(df_temp, ignore_index = True)\n",
            "<ipython-input-56-108931f1cf20>:23: FutureWarning: The frame.append method is deprecated and will be removed from pandas in a future version. Use pandas.concat instead.\n",
            "  df = df.append(df_temp, ignore_index = True)\n",
            "<ipython-input-56-108931f1cf20>:23: FutureWarning: The frame.append method is deprecated and will be removed from pandas in a future version. Use pandas.concat instead.\n",
            "  df = df.append(df_temp, ignore_index = True)\n",
            "<ipython-input-56-108931f1cf20>:23: FutureWarning: The frame.append method is deprecated and will be removed from pandas in a future version. Use pandas.concat instead.\n",
            "  df = df.append(df_temp, ignore_index = True)\n",
            "<ipython-input-56-108931f1cf20>:23: FutureWarning: The frame.append method is deprecated and will be removed from pandas in a future version. Use pandas.concat instead.\n",
            "  df = df.append(df_temp, ignore_index = True)\n",
            "<ipython-input-56-108931f1cf20>:23: FutureWarning: The frame.append method is deprecated and will be removed from pandas in a future version. Use pandas.concat instead.\n",
            "  df = df.append(df_temp, ignore_index = True)\n",
            "<ipython-input-56-108931f1cf20>:23: FutureWarning: The frame.append method is deprecated and will be removed from pandas in a future version. Use pandas.concat instead.\n",
            "  df = df.append(df_temp, ignore_index = True)\n",
            "<ipython-input-56-108931f1cf20>:23: FutureWarning: The frame.append method is deprecated and will be removed from pandas in a future version. Use pandas.concat instead.\n",
            "  df = df.append(df_temp, ignore_index = True)\n",
            "<ipython-input-56-108931f1cf20>:23: FutureWarning: The frame.append method is deprecated and will be removed from pandas in a future version. Use pandas.concat instead.\n",
            "  df = df.append(df_temp, ignore_index = True)\n",
            "<ipython-input-56-108931f1cf20>:23: FutureWarning: The frame.append method is deprecated and will be removed from pandas in a future version. Use pandas.concat instead.\n",
            "  df = df.append(df_temp, ignore_index = True)\n",
            "<ipython-input-56-108931f1cf20>:23: FutureWarning: The frame.append method is deprecated and will be removed from pandas in a future version. Use pandas.concat instead.\n",
            "  df = df.append(df_temp, ignore_index = True)\n",
            "<ipython-input-56-108931f1cf20>:23: FutureWarning: The frame.append method is deprecated and will be removed from pandas in a future version. Use pandas.concat instead.\n",
            "  df = df.append(df_temp, ignore_index = True)\n",
            "<ipython-input-56-108931f1cf20>:23: FutureWarning: The frame.append method is deprecated and will be removed from pandas in a future version. Use pandas.concat instead.\n",
            "  df = df.append(df_temp, ignore_index = True)\n",
            "<ipython-input-56-108931f1cf20>:23: FutureWarning: The frame.append method is deprecated and will be removed from pandas in a future version. Use pandas.concat instead.\n",
            "  df = df.append(df_temp, ignore_index = True)\n",
            "<ipython-input-56-108931f1cf20>:23: FutureWarning: The frame.append method is deprecated and will be removed from pandas in a future version. Use pandas.concat instead.\n",
            "  df = df.append(df_temp, ignore_index = True)\n",
            "<ipython-input-56-108931f1cf20>:23: FutureWarning: The frame.append method is deprecated and will be removed from pandas in a future version. Use pandas.concat instead.\n",
            "  df = df.append(df_temp, ignore_index = True)\n",
            "<ipython-input-56-108931f1cf20>:23: FutureWarning: The frame.append method is deprecated and will be removed from pandas in a future version. Use pandas.concat instead.\n",
            "  df = df.append(df_temp, ignore_index = True)\n",
            "<ipython-input-56-108931f1cf20>:23: FutureWarning: The frame.append method is deprecated and will be removed from pandas in a future version. Use pandas.concat instead.\n",
            "  df = df.append(df_temp, ignore_index = True)\n",
            "<ipython-input-56-108931f1cf20>:23: FutureWarning: The frame.append method is deprecated and will be removed from pandas in a future version. Use pandas.concat instead.\n",
            "  df = df.append(df_temp, ignore_index = True)\n",
            "<ipython-input-56-108931f1cf20>:23: FutureWarning: The frame.append method is deprecated and will be removed from pandas in a future version. Use pandas.concat instead.\n",
            "  df = df.append(df_temp, ignore_index = True)\n",
            "<ipython-input-56-108931f1cf20>:23: FutureWarning: The frame.append method is deprecated and will be removed from pandas in a future version. Use pandas.concat instead.\n",
            "  df = df.append(df_temp, ignore_index = True)\n",
            "<ipython-input-56-108931f1cf20>:23: FutureWarning: The frame.append method is deprecated and will be removed from pandas in a future version. Use pandas.concat instead.\n",
            "  df = df.append(df_temp, ignore_index = True)\n",
            "<ipython-input-56-108931f1cf20>:23: FutureWarning: The frame.append method is deprecated and will be removed from pandas in a future version. Use pandas.concat instead.\n",
            "  df = df.append(df_temp, ignore_index = True)\n",
            "<ipython-input-56-108931f1cf20>:23: FutureWarning: The frame.append method is deprecated and will be removed from pandas in a future version. Use pandas.concat instead.\n",
            "  df = df.append(df_temp, ignore_index = True)\n",
            "<ipython-input-56-108931f1cf20>:23: FutureWarning: The frame.append method is deprecated and will be removed from pandas in a future version. Use pandas.concat instead.\n",
            "  df = df.append(df_temp, ignore_index = True)\n",
            "<ipython-input-56-108931f1cf20>:23: FutureWarning: The frame.append method is deprecated and will be removed from pandas in a future version. Use pandas.concat instead.\n",
            "  df = df.append(df_temp, ignore_index = True)\n",
            "<ipython-input-56-108931f1cf20>:23: FutureWarning: The frame.append method is deprecated and will be removed from pandas in a future version. Use pandas.concat instead.\n",
            "  df = df.append(df_temp, ignore_index = True)\n",
            "<ipython-input-56-108931f1cf20>:23: FutureWarning: The frame.append method is deprecated and will be removed from pandas in a future version. Use pandas.concat instead.\n",
            "  df = df.append(df_temp, ignore_index = True)\n",
            "<ipython-input-56-108931f1cf20>:23: FutureWarning: The frame.append method is deprecated and will be removed from pandas in a future version. Use pandas.concat instead.\n",
            "  df = df.append(df_temp, ignore_index = True)\n",
            "<ipython-input-56-108931f1cf20>:23: FutureWarning: The frame.append method is deprecated and will be removed from pandas in a future version. Use pandas.concat instead.\n",
            "  df = df.append(df_temp, ignore_index = True)\n",
            "<ipython-input-56-108931f1cf20>:23: FutureWarning: The frame.append method is deprecated and will be removed from pandas in a future version. Use pandas.concat instead.\n",
            "  df = df.append(df_temp, ignore_index = True)\n",
            "<ipython-input-56-108931f1cf20>:23: FutureWarning: The frame.append method is deprecated and will be removed from pandas in a future version. Use pandas.concat instead.\n",
            "  df = df.append(df_temp, ignore_index = True)\n",
            "<ipython-input-56-108931f1cf20>:23: FutureWarning: The frame.append method is deprecated and will be removed from pandas in a future version. Use pandas.concat instead.\n",
            "  df = df.append(df_temp, ignore_index = True)\n",
            "<ipython-input-56-108931f1cf20>:23: FutureWarning: The frame.append method is deprecated and will be removed from pandas in a future version. Use pandas.concat instead.\n",
            "  df = df.append(df_temp, ignore_index = True)\n",
            "<ipython-input-56-108931f1cf20>:23: FutureWarning: The frame.append method is deprecated and will be removed from pandas in a future version. Use pandas.concat instead.\n",
            "  df = df.append(df_temp, ignore_index = True)\n",
            "<ipython-input-56-108931f1cf20>:23: FutureWarning: The frame.append method is deprecated and will be removed from pandas in a future version. Use pandas.concat instead.\n",
            "  df = df.append(df_temp, ignore_index = True)\n",
            "<ipython-input-56-108931f1cf20>:23: FutureWarning: The frame.append method is deprecated and will be removed from pandas in a future version. Use pandas.concat instead.\n",
            "  df = df.append(df_temp, ignore_index = True)\n",
            "<ipython-input-56-108931f1cf20>:23: FutureWarning: The frame.append method is deprecated and will be removed from pandas in a future version. Use pandas.concat instead.\n",
            "  df = df.append(df_temp, ignore_index = True)\n",
            "<ipython-input-56-108931f1cf20>:23: FutureWarning: The frame.append method is deprecated and will be removed from pandas in a future version. Use pandas.concat instead.\n",
            "  df = df.append(df_temp, ignore_index = True)\n",
            "<ipython-input-56-108931f1cf20>:23: FutureWarning: The frame.append method is deprecated and will be removed from pandas in a future version. Use pandas.concat instead.\n",
            "  df = df.append(df_temp, ignore_index = True)\n",
            "<ipython-input-56-108931f1cf20>:23: FutureWarning: The frame.append method is deprecated and will be removed from pandas in a future version. Use pandas.concat instead.\n",
            "  df = df.append(df_temp, ignore_index = True)\n",
            "<ipython-input-56-108931f1cf20>:23: FutureWarning: The frame.append method is deprecated and will be removed from pandas in a future version. Use pandas.concat instead.\n",
            "  df = df.append(df_temp, ignore_index = True)\n",
            "<ipython-input-56-108931f1cf20>:23: FutureWarning: The frame.append method is deprecated and will be removed from pandas in a future version. Use pandas.concat instead.\n",
            "  df = df.append(df_temp, ignore_index = True)\n",
            "<ipython-input-56-108931f1cf20>:23: FutureWarning: The frame.append method is deprecated and will be removed from pandas in a future version. Use pandas.concat instead.\n",
            "  df = df.append(df_temp, ignore_index = True)\n",
            "<ipython-input-56-108931f1cf20>:23: FutureWarning: The frame.append method is deprecated and will be removed from pandas in a future version. Use pandas.concat instead.\n",
            "  df = df.append(df_temp, ignore_index = True)\n",
            "<ipython-input-56-108931f1cf20>:23: FutureWarning: The frame.append method is deprecated and will be removed from pandas in a future version. Use pandas.concat instead.\n",
            "  df = df.append(df_temp, ignore_index = True)\n",
            "<ipython-input-56-108931f1cf20>:23: FutureWarning: The frame.append method is deprecated and will be removed from pandas in a future version. Use pandas.concat instead.\n",
            "  df = df.append(df_temp, ignore_index = True)\n",
            "<ipython-input-56-108931f1cf20>:23: FutureWarning: The frame.append method is deprecated and will be removed from pandas in a future version. Use pandas.concat instead.\n",
            "  df = df.append(df_temp, ignore_index = True)\n",
            "<ipython-input-56-108931f1cf20>:23: FutureWarning: The frame.append method is deprecated and will be removed from pandas in a future version. Use pandas.concat instead.\n",
            "  df = df.append(df_temp, ignore_index = True)\n",
            "<ipython-input-56-108931f1cf20>:23: FutureWarning: The frame.append method is deprecated and will be removed from pandas in a future version. Use pandas.concat instead.\n",
            "  df = df.append(df_temp, ignore_index = True)\n",
            "<ipython-input-56-108931f1cf20>:23: FutureWarning: The frame.append method is deprecated and will be removed from pandas in a future version. Use pandas.concat instead.\n",
            "  df = df.append(df_temp, ignore_index = True)\n",
            "<ipython-input-56-108931f1cf20>:23: FutureWarning: The frame.append method is deprecated and will be removed from pandas in a future version. Use pandas.concat instead.\n",
            "  df = df.append(df_temp, ignore_index = True)\n",
            "<ipython-input-56-108931f1cf20>:23: FutureWarning: The frame.append method is deprecated and will be removed from pandas in a future version. Use pandas.concat instead.\n",
            "  df = df.append(df_temp, ignore_index = True)\n",
            "<ipython-input-56-108931f1cf20>:23: FutureWarning: The frame.append method is deprecated and will be removed from pandas in a future version. Use pandas.concat instead.\n",
            "  df = df.append(df_temp, ignore_index = True)\n",
            "<ipython-input-56-108931f1cf20>:23: FutureWarning: The frame.append method is deprecated and will be removed from pandas in a future version. Use pandas.concat instead.\n",
            "  df = df.append(df_temp, ignore_index = True)\n",
            "<ipython-input-56-108931f1cf20>:23: FutureWarning: The frame.append method is deprecated and will be removed from pandas in a future version. Use pandas.concat instead.\n",
            "  df = df.append(df_temp, ignore_index = True)\n",
            "<ipython-input-56-108931f1cf20>:23: FutureWarning: The frame.append method is deprecated and will be removed from pandas in a future version. Use pandas.concat instead.\n",
            "  df = df.append(df_temp, ignore_index = True)\n",
            "<ipython-input-56-108931f1cf20>:23: FutureWarning: The frame.append method is deprecated and will be removed from pandas in a future version. Use pandas.concat instead.\n",
            "  df = df.append(df_temp, ignore_index = True)\n",
            "<ipython-input-56-108931f1cf20>:23: FutureWarning: The frame.append method is deprecated and will be removed from pandas in a future version. Use pandas.concat instead.\n",
            "  df = df.append(df_temp, ignore_index = True)\n",
            "<ipython-input-56-108931f1cf20>:23: FutureWarning: The frame.append method is deprecated and will be removed from pandas in a future version. Use pandas.concat instead.\n",
            "  df = df.append(df_temp, ignore_index = True)\n",
            "<ipython-input-56-108931f1cf20>:23: FutureWarning: The frame.append method is deprecated and will be removed from pandas in a future version. Use pandas.concat instead.\n",
            "  df = df.append(df_temp, ignore_index = True)\n",
            "<ipython-input-56-108931f1cf20>:23: FutureWarning: The frame.append method is deprecated and will be removed from pandas in a future version. Use pandas.concat instead.\n",
            "  df = df.append(df_temp, ignore_index = True)\n",
            "<ipython-input-56-108931f1cf20>:23: FutureWarning: The frame.append method is deprecated and will be removed from pandas in a future version. Use pandas.concat instead.\n",
            "  df = df.append(df_temp, ignore_index = True)\n",
            "<ipython-input-56-108931f1cf20>:23: FutureWarning: The frame.append method is deprecated and will be removed from pandas in a future version. Use pandas.concat instead.\n",
            "  df = df.append(df_temp, ignore_index = True)\n",
            "<ipython-input-56-108931f1cf20>:23: FutureWarning: The frame.append method is deprecated and will be removed from pandas in a future version. Use pandas.concat instead.\n",
            "  df = df.append(df_temp, ignore_index = True)\n",
            "<ipython-input-56-108931f1cf20>:23: FutureWarning: The frame.append method is deprecated and will be removed from pandas in a future version. Use pandas.concat instead.\n",
            "  df = df.append(df_temp, ignore_index = True)\n",
            "<ipython-input-56-108931f1cf20>:23: FutureWarning: The frame.append method is deprecated and will be removed from pandas in a future version. Use pandas.concat instead.\n",
            "  df = df.append(df_temp, ignore_index = True)\n",
            "<ipython-input-56-108931f1cf20>:23: FutureWarning: The frame.append method is deprecated and will be removed from pandas in a future version. Use pandas.concat instead.\n",
            "  df = df.append(df_temp, ignore_index = True)\n",
            "<ipython-input-56-108931f1cf20>:23: FutureWarning: The frame.append method is deprecated and will be removed from pandas in a future version. Use pandas.concat instead.\n",
            "  df = df.append(df_temp, ignore_index = True)\n",
            "<ipython-input-56-108931f1cf20>:23: FutureWarning: The frame.append method is deprecated and will be removed from pandas in a future version. Use pandas.concat instead.\n",
            "  df = df.append(df_temp, ignore_index = True)\n",
            "<ipython-input-56-108931f1cf20>:23: FutureWarning: The frame.append method is deprecated and will be removed from pandas in a future version. Use pandas.concat instead.\n",
            "  df = df.append(df_temp, ignore_index = True)\n",
            "<ipython-input-56-108931f1cf20>:23: FutureWarning: The frame.append method is deprecated and will be removed from pandas in a future version. Use pandas.concat instead.\n",
            "  df = df.append(df_temp, ignore_index = True)\n",
            "<ipython-input-56-108931f1cf20>:23: FutureWarning: The frame.append method is deprecated and will be removed from pandas in a future version. Use pandas.concat instead.\n",
            "  df = df.append(df_temp, ignore_index = True)\n",
            "<ipython-input-56-108931f1cf20>:23: FutureWarning: The frame.append method is deprecated and will be removed from pandas in a future version. Use pandas.concat instead.\n",
            "  df = df.append(df_temp, ignore_index = True)\n",
            "<ipython-input-56-108931f1cf20>:23: FutureWarning: The frame.append method is deprecated and will be removed from pandas in a future version. Use pandas.concat instead.\n",
            "  df = df.append(df_temp, ignore_index = True)\n",
            "<ipython-input-56-108931f1cf20>:23: FutureWarning: The frame.append method is deprecated and will be removed from pandas in a future version. Use pandas.concat instead.\n",
            "  df = df.append(df_temp, ignore_index = True)\n",
            "<ipython-input-56-108931f1cf20>:23: FutureWarning: The frame.append method is deprecated and will be removed from pandas in a future version. Use pandas.concat instead.\n",
            "  df = df.append(df_temp, ignore_index = True)\n",
            "<ipython-input-56-108931f1cf20>:23: FutureWarning: The frame.append method is deprecated and will be removed from pandas in a future version. Use pandas.concat instead.\n",
            "  df = df.append(df_temp, ignore_index = True)\n",
            "<ipython-input-56-108931f1cf20>:23: FutureWarning: The frame.append method is deprecated and will be removed from pandas in a future version. Use pandas.concat instead.\n",
            "  df = df.append(df_temp, ignore_index = True)\n",
            "<ipython-input-56-108931f1cf20>:23: FutureWarning: The frame.append method is deprecated and will be removed from pandas in a future version. Use pandas.concat instead.\n",
            "  df = df.append(df_temp, ignore_index = True)\n",
            "<ipython-input-56-108931f1cf20>:23: FutureWarning: The frame.append method is deprecated and will be removed from pandas in a future version. Use pandas.concat instead.\n",
            "  df = df.append(df_temp, ignore_index = True)\n",
            "<ipython-input-56-108931f1cf20>:23: FutureWarning: The frame.append method is deprecated and will be removed from pandas in a future version. Use pandas.concat instead.\n",
            "  df = df.append(df_temp, ignore_index = True)\n",
            "<ipython-input-56-108931f1cf20>:23: FutureWarning: The frame.append method is deprecated and will be removed from pandas in a future version. Use pandas.concat instead.\n",
            "  df = df.append(df_temp, ignore_index = True)\n",
            "<ipython-input-56-108931f1cf20>:23: FutureWarning: The frame.append method is deprecated and will be removed from pandas in a future version. Use pandas.concat instead.\n",
            "  df = df.append(df_temp, ignore_index = True)\n",
            "<ipython-input-56-108931f1cf20>:23: FutureWarning: The frame.append method is deprecated and will be removed from pandas in a future version. Use pandas.concat instead.\n",
            "  df = df.append(df_temp, ignore_index = True)\n",
            "<ipython-input-56-108931f1cf20>:23: FutureWarning: The frame.append method is deprecated and will be removed from pandas in a future version. Use pandas.concat instead.\n",
            "  df = df.append(df_temp, ignore_index = True)\n",
            "<ipython-input-56-108931f1cf20>:23: FutureWarning: The frame.append method is deprecated and will be removed from pandas in a future version. Use pandas.concat instead.\n",
            "  df = df.append(df_temp, ignore_index = True)\n",
            "<ipython-input-56-108931f1cf20>:23: FutureWarning: The frame.append method is deprecated and will be removed from pandas in a future version. Use pandas.concat instead.\n",
            "  df = df.append(df_temp, ignore_index = True)\n",
            "<ipython-input-56-108931f1cf20>:23: FutureWarning: The frame.append method is deprecated and will be removed from pandas in a future version. Use pandas.concat instead.\n",
            "  df = df.append(df_temp, ignore_index = True)\n",
            "<ipython-input-56-108931f1cf20>:23: FutureWarning: The frame.append method is deprecated and will be removed from pandas in a future version. Use pandas.concat instead.\n",
            "  df = df.append(df_temp, ignore_index = True)\n",
            "<ipython-input-56-108931f1cf20>:23: FutureWarning: The frame.append method is deprecated and will be removed from pandas in a future version. Use pandas.concat instead.\n",
            "  df = df.append(df_temp, ignore_index = True)\n",
            "<ipython-input-56-108931f1cf20>:23: FutureWarning: The frame.append method is deprecated and will be removed from pandas in a future version. Use pandas.concat instead.\n",
            "  df = df.append(df_temp, ignore_index = True)\n",
            "<ipython-input-56-108931f1cf20>:23: FutureWarning: The frame.append method is deprecated and will be removed from pandas in a future version. Use pandas.concat instead.\n",
            "  df = df.append(df_temp, ignore_index = True)\n",
            "<ipython-input-56-108931f1cf20>:23: FutureWarning: The frame.append method is deprecated and will be removed from pandas in a future version. Use pandas.concat instead.\n",
            "  df = df.append(df_temp, ignore_index = True)\n",
            "<ipython-input-56-108931f1cf20>:23: FutureWarning: The frame.append method is deprecated and will be removed from pandas in a future version. Use pandas.concat instead.\n",
            "  df = df.append(df_temp, ignore_index = True)\n",
            "<ipython-input-56-108931f1cf20>:23: FutureWarning: The frame.append method is deprecated and will be removed from pandas in a future version. Use pandas.concat instead.\n",
            "  df = df.append(df_temp, ignore_index = True)\n",
            "<ipython-input-56-108931f1cf20>:23: FutureWarning: The frame.append method is deprecated and will be removed from pandas in a future version. Use pandas.concat instead.\n",
            "  df = df.append(df_temp, ignore_index = True)\n",
            "<ipython-input-56-108931f1cf20>:23: FutureWarning: The frame.append method is deprecated and will be removed from pandas in a future version. Use pandas.concat instead.\n",
            "  df = df.append(df_temp, ignore_index = True)\n",
            "<ipython-input-56-108931f1cf20>:23: FutureWarning: The frame.append method is deprecated and will be removed from pandas in a future version. Use pandas.concat instead.\n",
            "  df = df.append(df_temp, ignore_index = True)\n",
            "<ipython-input-56-108931f1cf20>:23: FutureWarning: The frame.append method is deprecated and will be removed from pandas in a future version. Use pandas.concat instead.\n",
            "  df = df.append(df_temp, ignore_index = True)\n",
            "<ipython-input-56-108931f1cf20>:23: FutureWarning: The frame.append method is deprecated and will be removed from pandas in a future version. Use pandas.concat instead.\n",
            "  df = df.append(df_temp, ignore_index = True)\n",
            "<ipython-input-56-108931f1cf20>:23: FutureWarning: The frame.append method is deprecated and will be removed from pandas in a future version. Use pandas.concat instead.\n",
            "  df = df.append(df_temp, ignore_index = True)\n",
            "<ipython-input-56-108931f1cf20>:23: FutureWarning: The frame.append method is deprecated and will be removed from pandas in a future version. Use pandas.concat instead.\n",
            "  df = df.append(df_temp, ignore_index = True)\n",
            "<ipython-input-56-108931f1cf20>:23: FutureWarning: The frame.append method is deprecated and will be removed from pandas in a future version. Use pandas.concat instead.\n",
            "  df = df.append(df_temp, ignore_index = True)\n",
            "<ipython-input-56-108931f1cf20>:23: FutureWarning: The frame.append method is deprecated and will be removed from pandas in a future version. Use pandas.concat instead.\n",
            "  df = df.append(df_temp, ignore_index = True)\n",
            "<ipython-input-56-108931f1cf20>:23: FutureWarning: The frame.append method is deprecated and will be removed from pandas in a future version. Use pandas.concat instead.\n",
            "  df = df.append(df_temp, ignore_index = True)\n",
            "<ipython-input-56-108931f1cf20>:23: FutureWarning: The frame.append method is deprecated and will be removed from pandas in a future version. Use pandas.concat instead.\n",
            "  df = df.append(df_temp, ignore_index = True)\n",
            "<ipython-input-56-108931f1cf20>:23: FutureWarning: The frame.append method is deprecated and will be removed from pandas in a future version. Use pandas.concat instead.\n",
            "  df = df.append(df_temp, ignore_index = True)\n",
            "<ipython-input-56-108931f1cf20>:23: FutureWarning: The frame.append method is deprecated and will be removed from pandas in a future version. Use pandas.concat instead.\n",
            "  df = df.append(df_temp, ignore_index = True)\n",
            "<ipython-input-56-108931f1cf20>:23: FutureWarning: The frame.append method is deprecated and will be removed from pandas in a future version. Use pandas.concat instead.\n",
            "  df = df.append(df_temp, ignore_index = True)\n",
            "<ipython-input-56-108931f1cf20>:23: FutureWarning: The frame.append method is deprecated and will be removed from pandas in a future version. Use pandas.concat instead.\n",
            "  df = df.append(df_temp, ignore_index = True)\n",
            "<ipython-input-56-108931f1cf20>:23: FutureWarning: The frame.append method is deprecated and will be removed from pandas in a future version. Use pandas.concat instead.\n",
            "  df = df.append(df_temp, ignore_index = True)\n",
            "<ipython-input-56-108931f1cf20>:23: FutureWarning: The frame.append method is deprecated and will be removed from pandas in a future version. Use pandas.concat instead.\n",
            "  df = df.append(df_temp, ignore_index = True)\n",
            "<ipython-input-56-108931f1cf20>:23: FutureWarning: The frame.append method is deprecated and will be removed from pandas in a future version. Use pandas.concat instead.\n",
            "  df = df.append(df_temp, ignore_index = True)\n",
            "<ipython-input-56-108931f1cf20>:23: FutureWarning: The frame.append method is deprecated and will be removed from pandas in a future version. Use pandas.concat instead.\n",
            "  df = df.append(df_temp, ignore_index = True)\n",
            "<ipython-input-56-108931f1cf20>:23: FutureWarning: The frame.append method is deprecated and will be removed from pandas in a future version. Use pandas.concat instead.\n",
            "  df = df.append(df_temp, ignore_index = True)\n",
            "<ipython-input-56-108931f1cf20>:23: FutureWarning: The frame.append method is deprecated and will be removed from pandas in a future version. Use pandas.concat instead.\n",
            "  df = df.append(df_temp, ignore_index = True)\n",
            "<ipython-input-56-108931f1cf20>:23: FutureWarning: The frame.append method is deprecated and will be removed from pandas in a future version. Use pandas.concat instead.\n",
            "  df = df.append(df_temp, ignore_index = True)\n",
            "<ipython-input-56-108931f1cf20>:23: FutureWarning: The frame.append method is deprecated and will be removed from pandas in a future version. Use pandas.concat instead.\n",
            "  df = df.append(df_temp, ignore_index = True)\n",
            "<ipython-input-56-108931f1cf20>:23: FutureWarning: The frame.append method is deprecated and will be removed from pandas in a future version. Use pandas.concat instead.\n",
            "  df = df.append(df_temp, ignore_index = True)\n",
            "<ipython-input-56-108931f1cf20>:23: FutureWarning: The frame.append method is deprecated and will be removed from pandas in a future version. Use pandas.concat instead.\n",
            "  df = df.append(df_temp, ignore_index = True)\n",
            "<ipython-input-56-108931f1cf20>:23: FutureWarning: The frame.append method is deprecated and will be removed from pandas in a future version. Use pandas.concat instead.\n",
            "  df = df.append(df_temp, ignore_index = True)\n",
            "<ipython-input-56-108931f1cf20>:23: FutureWarning: The frame.append method is deprecated and will be removed from pandas in a future version. Use pandas.concat instead.\n",
            "  df = df.append(df_temp, ignore_index = True)\n",
            "<ipython-input-56-108931f1cf20>:23: FutureWarning: The frame.append method is deprecated and will be removed from pandas in a future version. Use pandas.concat instead.\n",
            "  df = df.append(df_temp, ignore_index = True)\n",
            "<ipython-input-56-108931f1cf20>:23: FutureWarning: The frame.append method is deprecated and will be removed from pandas in a future version. Use pandas.concat instead.\n",
            "  df = df.append(df_temp, ignore_index = True)\n",
            "<ipython-input-56-108931f1cf20>:23: FutureWarning: The frame.append method is deprecated and will be removed from pandas in a future version. Use pandas.concat instead.\n",
            "  df = df.append(df_temp, ignore_index = True)\n",
            "<ipython-input-56-108931f1cf20>:23: FutureWarning: The frame.append method is deprecated and will be removed from pandas in a future version. Use pandas.concat instead.\n",
            "  df = df.append(df_temp, ignore_index = True)\n",
            "<ipython-input-56-108931f1cf20>:23: FutureWarning: The frame.append method is deprecated and will be removed from pandas in a future version. Use pandas.concat instead.\n",
            "  df = df.append(df_temp, ignore_index = True)\n",
            "<ipython-input-56-108931f1cf20>:23: FutureWarning: The frame.append method is deprecated and will be removed from pandas in a future version. Use pandas.concat instead.\n",
            "  df = df.append(df_temp, ignore_index = True)\n",
            "<ipython-input-56-108931f1cf20>:23: FutureWarning: The frame.append method is deprecated and will be removed from pandas in a future version. Use pandas.concat instead.\n",
            "  df = df.append(df_temp, ignore_index = True)\n",
            "<ipython-input-56-108931f1cf20>:23: FutureWarning: The frame.append method is deprecated and will be removed from pandas in a future version. Use pandas.concat instead.\n",
            "  df = df.append(df_temp, ignore_index = True)\n",
            "<ipython-input-56-108931f1cf20>:23: FutureWarning: The frame.append method is deprecated and will be removed from pandas in a future version. Use pandas.concat instead.\n",
            "  df = df.append(df_temp, ignore_index = True)\n",
            "<ipython-input-56-108931f1cf20>:23: FutureWarning: The frame.append method is deprecated and will be removed from pandas in a future version. Use pandas.concat instead.\n",
            "  df = df.append(df_temp, ignore_index = True)\n",
            "<ipython-input-56-108931f1cf20>:23: FutureWarning: The frame.append method is deprecated and will be removed from pandas in a future version. Use pandas.concat instead.\n",
            "  df = df.append(df_temp, ignore_index = True)\n",
            "<ipython-input-56-108931f1cf20>:23: FutureWarning: The frame.append method is deprecated and will be removed from pandas in a future version. Use pandas.concat instead.\n",
            "  df = df.append(df_temp, ignore_index = True)\n",
            "<ipython-input-56-108931f1cf20>:23: FutureWarning: The frame.append method is deprecated and will be removed from pandas in a future version. Use pandas.concat instead.\n",
            "  df = df.append(df_temp, ignore_index = True)\n",
            "<ipython-input-56-108931f1cf20>:23: FutureWarning: The frame.append method is deprecated and will be removed from pandas in a future version. Use pandas.concat instead.\n",
            "  df = df.append(df_temp, ignore_index = True)\n",
            "<ipython-input-56-108931f1cf20>:23: FutureWarning: The frame.append method is deprecated and will be removed from pandas in a future version. Use pandas.concat instead.\n",
            "  df = df.append(df_temp, ignore_index = True)\n",
            "<ipython-input-56-108931f1cf20>:23: FutureWarning: The frame.append method is deprecated and will be removed from pandas in a future version. Use pandas.concat instead.\n",
            "  df = df.append(df_temp, ignore_index = True)\n",
            "<ipython-input-56-108931f1cf20>:23: FutureWarning: The frame.append method is deprecated and will be removed from pandas in a future version. Use pandas.concat instead.\n",
            "  df = df.append(df_temp, ignore_index = True)\n",
            "<ipython-input-56-108931f1cf20>:23: FutureWarning: The frame.append method is deprecated and will be removed from pandas in a future version. Use pandas.concat instead.\n",
            "  df = df.append(df_temp, ignore_index = True)\n",
            "<ipython-input-56-108931f1cf20>:23: FutureWarning: The frame.append method is deprecated and will be removed from pandas in a future version. Use pandas.concat instead.\n",
            "  df = df.append(df_temp, ignore_index = True)\n",
            "<ipython-input-56-108931f1cf20>:23: FutureWarning: The frame.append method is deprecated and will be removed from pandas in a future version. Use pandas.concat instead.\n",
            "  df = df.append(df_temp, ignore_index = True)\n",
            "<ipython-input-56-108931f1cf20>:23: FutureWarning: The frame.append method is deprecated and will be removed from pandas in a future version. Use pandas.concat instead.\n",
            "  df = df.append(df_temp, ignore_index = True)\n",
            "<ipython-input-56-108931f1cf20>:23: FutureWarning: The frame.append method is deprecated and will be removed from pandas in a future version. Use pandas.concat instead.\n",
            "  df = df.append(df_temp, ignore_index = True)\n",
            "<ipython-input-56-108931f1cf20>:23: FutureWarning: The frame.append method is deprecated and will be removed from pandas in a future version. Use pandas.concat instead.\n",
            "  df = df.append(df_temp, ignore_index = True)\n",
            "<ipython-input-56-108931f1cf20>:23: FutureWarning: The frame.append method is deprecated and will be removed from pandas in a future version. Use pandas.concat instead.\n",
            "  df = df.append(df_temp, ignore_index = True)\n",
            "<ipython-input-56-108931f1cf20>:23: FutureWarning: The frame.append method is deprecated and will be removed from pandas in a future version. Use pandas.concat instead.\n",
            "  df = df.append(df_temp, ignore_index = True)\n",
            "<ipython-input-56-108931f1cf20>:23: FutureWarning: The frame.append method is deprecated and will be removed from pandas in a future version. Use pandas.concat instead.\n",
            "  df = df.append(df_temp, ignore_index = True)\n",
            "<ipython-input-56-108931f1cf20>:23: FutureWarning: The frame.append method is deprecated and will be removed from pandas in a future version. Use pandas.concat instead.\n",
            "  df = df.append(df_temp, ignore_index = True)\n",
            "<ipython-input-56-108931f1cf20>:23: FutureWarning: The frame.append method is deprecated and will be removed from pandas in a future version. Use pandas.concat instead.\n",
            "  df = df.append(df_temp, ignore_index = True)\n",
            "<ipython-input-56-108931f1cf20>:23: FutureWarning: The frame.append method is deprecated and will be removed from pandas in a future version. Use pandas.concat instead.\n",
            "  df = df.append(df_temp, ignore_index = True)\n",
            "<ipython-input-56-108931f1cf20>:23: FutureWarning: The frame.append method is deprecated and will be removed from pandas in a future version. Use pandas.concat instead.\n",
            "  df = df.append(df_temp, ignore_index = True)\n",
            "<ipython-input-56-108931f1cf20>:23: FutureWarning: The frame.append method is deprecated and will be removed from pandas in a future version. Use pandas.concat instead.\n",
            "  df = df.append(df_temp, ignore_index = True)\n",
            "<ipython-input-56-108931f1cf20>:23: FutureWarning: The frame.append method is deprecated and will be removed from pandas in a future version. Use pandas.concat instead.\n",
            "  df = df.append(df_temp, ignore_index = True)\n",
            "<ipython-input-56-108931f1cf20>:23: FutureWarning: The frame.append method is deprecated and will be removed from pandas in a future version. Use pandas.concat instead.\n",
            "  df = df.append(df_temp, ignore_index = True)\n",
            "<ipython-input-56-108931f1cf20>:23: FutureWarning: The frame.append method is deprecated and will be removed from pandas in a future version. Use pandas.concat instead.\n",
            "  df = df.append(df_temp, ignore_index = True)\n",
            "<ipython-input-56-108931f1cf20>:23: FutureWarning: The frame.append method is deprecated and will be removed from pandas in a future version. Use pandas.concat instead.\n",
            "  df = df.append(df_temp, ignore_index = True)\n",
            "<ipython-input-56-108931f1cf20>:23: FutureWarning: The frame.append method is deprecated and will be removed from pandas in a future version. Use pandas.concat instead.\n",
            "  df = df.append(df_temp, ignore_index = True)\n",
            "<ipython-input-56-108931f1cf20>:23: FutureWarning: The frame.append method is deprecated and will be removed from pandas in a future version. Use pandas.concat instead.\n",
            "  df = df.append(df_temp, ignore_index = True)\n",
            "<ipython-input-56-108931f1cf20>:23: FutureWarning: The frame.append method is deprecated and will be removed from pandas in a future version. Use pandas.concat instead.\n",
            "  df = df.append(df_temp, ignore_index = True)\n",
            "<ipython-input-56-108931f1cf20>:23: FutureWarning: The frame.append method is deprecated and will be removed from pandas in a future version. Use pandas.concat instead.\n",
            "  df = df.append(df_temp, ignore_index = True)\n",
            "<ipython-input-56-108931f1cf20>:23: FutureWarning: The frame.append method is deprecated and will be removed from pandas in a future version. Use pandas.concat instead.\n",
            "  df = df.append(df_temp, ignore_index = True)\n",
            "<ipython-input-56-108931f1cf20>:23: FutureWarning: The frame.append method is deprecated and will be removed from pandas in a future version. Use pandas.concat instead.\n",
            "  df = df.append(df_temp, ignore_index = True)\n",
            "<ipython-input-56-108931f1cf20>:23: FutureWarning: The frame.append method is deprecated and will be removed from pandas in a future version. Use pandas.concat instead.\n",
            "  df = df.append(df_temp, ignore_index = True)\n",
            "<ipython-input-56-108931f1cf20>:23: FutureWarning: The frame.append method is deprecated and will be removed from pandas in a future version. Use pandas.concat instead.\n",
            "  df = df.append(df_temp, ignore_index = True)\n",
            "<ipython-input-56-108931f1cf20>:23: FutureWarning: The frame.append method is deprecated and will be removed from pandas in a future version. Use pandas.concat instead.\n",
            "  df = df.append(df_temp, ignore_index = True)\n",
            "<ipython-input-56-108931f1cf20>:23: FutureWarning: The frame.append method is deprecated and will be removed from pandas in a future version. Use pandas.concat instead.\n",
            "  df = df.append(df_temp, ignore_index = True)\n",
            "<ipython-input-56-108931f1cf20>:23: FutureWarning: The frame.append method is deprecated and will be removed from pandas in a future version. Use pandas.concat instead.\n",
            "  df = df.append(df_temp, ignore_index = True)\n",
            "<ipython-input-56-108931f1cf20>:23: FutureWarning: The frame.append method is deprecated and will be removed from pandas in a future version. Use pandas.concat instead.\n",
            "  df = df.append(df_temp, ignore_index = True)\n",
            "<ipython-input-56-108931f1cf20>:23: FutureWarning: The frame.append method is deprecated and will be removed from pandas in a future version. Use pandas.concat instead.\n",
            "  df = df.append(df_temp, ignore_index = True)\n",
            "<ipython-input-56-108931f1cf20>:23: FutureWarning: The frame.append method is deprecated and will be removed from pandas in a future version. Use pandas.concat instead.\n",
            "  df = df.append(df_temp, ignore_index = True)\n",
            "<ipython-input-56-108931f1cf20>:23: FutureWarning: The frame.append method is deprecated and will be removed from pandas in a future version. Use pandas.concat instead.\n",
            "  df = df.append(df_temp, ignore_index = True)\n",
            "<ipython-input-56-108931f1cf20>:23: FutureWarning: The frame.append method is deprecated and will be removed from pandas in a future version. Use pandas.concat instead.\n",
            "  df = df.append(df_temp, ignore_index = True)\n",
            "<ipython-input-56-108931f1cf20>:23: FutureWarning: The frame.append method is deprecated and will be removed from pandas in a future version. Use pandas.concat instead.\n",
            "  df = df.append(df_temp, ignore_index = True)\n",
            "<ipython-input-56-108931f1cf20>:23: FutureWarning: The frame.append method is deprecated and will be removed from pandas in a future version. Use pandas.concat instead.\n",
            "  df = df.append(df_temp, ignore_index = True)\n",
            "<ipython-input-56-108931f1cf20>:23: FutureWarning: The frame.append method is deprecated and will be removed from pandas in a future version. Use pandas.concat instead.\n",
            "  df = df.append(df_temp, ignore_index = True)\n",
            "<ipython-input-56-108931f1cf20>:23: FutureWarning: The frame.append method is deprecated and will be removed from pandas in a future version. Use pandas.concat instead.\n",
            "  df = df.append(df_temp, ignore_index = True)\n",
            "<ipython-input-56-108931f1cf20>:23: FutureWarning: The frame.append method is deprecated and will be removed from pandas in a future version. Use pandas.concat instead.\n",
            "  df = df.append(df_temp, ignore_index = True)\n",
            "<ipython-input-56-108931f1cf20>:23: FutureWarning: The frame.append method is deprecated and will be removed from pandas in a future version. Use pandas.concat instead.\n",
            "  df = df.append(df_temp, ignore_index = True)\n",
            "<ipython-input-56-108931f1cf20>:23: FutureWarning: The frame.append method is deprecated and will be removed from pandas in a future version. Use pandas.concat instead.\n",
            "  df = df.append(df_temp, ignore_index = True)\n",
            "<ipython-input-56-108931f1cf20>:23: FutureWarning: The frame.append method is deprecated and will be removed from pandas in a future version. Use pandas.concat instead.\n",
            "  df = df.append(df_temp, ignore_index = True)\n",
            "<ipython-input-56-108931f1cf20>:23: FutureWarning: The frame.append method is deprecated and will be removed from pandas in a future version. Use pandas.concat instead.\n",
            "  df = df.append(df_temp, ignore_index = True)\n",
            "<ipython-input-56-108931f1cf20>:23: FutureWarning: The frame.append method is deprecated and will be removed from pandas in a future version. Use pandas.concat instead.\n",
            "  df = df.append(df_temp, ignore_index = True)\n",
            "<ipython-input-56-108931f1cf20>:23: FutureWarning: The frame.append method is deprecated and will be removed from pandas in a future version. Use pandas.concat instead.\n",
            "  df = df.append(df_temp, ignore_index = True)\n",
            "<ipython-input-56-108931f1cf20>:23: FutureWarning: The frame.append method is deprecated and will be removed from pandas in a future version. Use pandas.concat instead.\n",
            "  df = df.append(df_temp, ignore_index = True)\n",
            "<ipython-input-56-108931f1cf20>:23: FutureWarning: The frame.append method is deprecated and will be removed from pandas in a future version. Use pandas.concat instead.\n",
            "  df = df.append(df_temp, ignore_index = True)\n",
            "<ipython-input-56-108931f1cf20>:23: FutureWarning: The frame.append method is deprecated and will be removed from pandas in a future version. Use pandas.concat instead.\n",
            "  df = df.append(df_temp, ignore_index = True)\n",
            "<ipython-input-56-108931f1cf20>:23: FutureWarning: The frame.append method is deprecated and will be removed from pandas in a future version. Use pandas.concat instead.\n",
            "  df = df.append(df_temp, ignore_index = True)\n",
            "<ipython-input-56-108931f1cf20>:23: FutureWarning: The frame.append method is deprecated and will be removed from pandas in a future version. Use pandas.concat instead.\n",
            "  df = df.append(df_temp, ignore_index = True)\n",
            "<ipython-input-56-108931f1cf20>:23: FutureWarning: The frame.append method is deprecated and will be removed from pandas in a future version. Use pandas.concat instead.\n",
            "  df = df.append(df_temp, ignore_index = True)\n",
            "<ipython-input-56-108931f1cf20>:23: FutureWarning: The frame.append method is deprecated and will be removed from pandas in a future version. Use pandas.concat instead.\n",
            "  df = df.append(df_temp, ignore_index = True)\n",
            "<ipython-input-56-108931f1cf20>:23: FutureWarning: The frame.append method is deprecated and will be removed from pandas in a future version. Use pandas.concat instead.\n",
            "  df = df.append(df_temp, ignore_index = True)\n",
            "<ipython-input-56-108931f1cf20>:23: FutureWarning: The frame.append method is deprecated and will be removed from pandas in a future version. Use pandas.concat instead.\n",
            "  df = df.append(df_temp, ignore_index = True)\n",
            "<ipython-input-56-108931f1cf20>:23: FutureWarning: The frame.append method is deprecated and will be removed from pandas in a future version. Use pandas.concat instead.\n",
            "  df = df.append(df_temp, ignore_index = True)\n",
            "<ipython-input-56-108931f1cf20>:23: FutureWarning: The frame.append method is deprecated and will be removed from pandas in a future version. Use pandas.concat instead.\n",
            "  df = df.append(df_temp, ignore_index = True)\n",
            "<ipython-input-56-108931f1cf20>:23: FutureWarning: The frame.append method is deprecated and will be removed from pandas in a future version. Use pandas.concat instead.\n",
            "  df = df.append(df_temp, ignore_index = True)\n",
            "<ipython-input-56-108931f1cf20>:23: FutureWarning: The frame.append method is deprecated and will be removed from pandas in a future version. Use pandas.concat instead.\n",
            "  df = df.append(df_temp, ignore_index = True)\n",
            "<ipython-input-56-108931f1cf20>:23: FutureWarning: The frame.append method is deprecated and will be removed from pandas in a future version. Use pandas.concat instead.\n",
            "  df = df.append(df_temp, ignore_index = True)\n",
            "<ipython-input-56-108931f1cf20>:23: FutureWarning: The frame.append method is deprecated and will be removed from pandas in a future version. Use pandas.concat instead.\n",
            "  df = df.append(df_temp, ignore_index = True)\n",
            "<ipython-input-56-108931f1cf20>:23: FutureWarning: The frame.append method is deprecated and will be removed from pandas in a future version. Use pandas.concat instead.\n",
            "  df = df.append(df_temp, ignore_index = True)\n",
            "<ipython-input-56-108931f1cf20>:23: FutureWarning: The frame.append method is deprecated and will be removed from pandas in a future version. Use pandas.concat instead.\n",
            "  df = df.append(df_temp, ignore_index = True)\n",
            "<ipython-input-56-108931f1cf20>:23: FutureWarning: The frame.append method is deprecated and will be removed from pandas in a future version. Use pandas.concat instead.\n",
            "  df = df.append(df_temp, ignore_index = True)\n",
            "<ipython-input-56-108931f1cf20>:23: FutureWarning: The frame.append method is deprecated and will be removed from pandas in a future version. Use pandas.concat instead.\n",
            "  df = df.append(df_temp, ignore_index = True)\n",
            "<ipython-input-56-108931f1cf20>:23: FutureWarning: The frame.append method is deprecated and will be removed from pandas in a future version. Use pandas.concat instead.\n",
            "  df = df.append(df_temp, ignore_index = True)\n",
            "<ipython-input-56-108931f1cf20>:23: FutureWarning: The frame.append method is deprecated and will be removed from pandas in a future version. Use pandas.concat instead.\n",
            "  df = df.append(df_temp, ignore_index = True)\n",
            "<ipython-input-56-108931f1cf20>:23: FutureWarning: The frame.append method is deprecated and will be removed from pandas in a future version. Use pandas.concat instead.\n",
            "  df = df.append(df_temp, ignore_index = True)\n",
            "<ipython-input-56-108931f1cf20>:23: FutureWarning: The frame.append method is deprecated and will be removed from pandas in a future version. Use pandas.concat instead.\n",
            "  df = df.append(df_temp, ignore_index = True)\n",
            "<ipython-input-56-108931f1cf20>:23: FutureWarning: The frame.append method is deprecated and will be removed from pandas in a future version. Use pandas.concat instead.\n",
            "  df = df.append(df_temp, ignore_index = True)\n",
            "<ipython-input-56-108931f1cf20>:23: FutureWarning: The frame.append method is deprecated and will be removed from pandas in a future version. Use pandas.concat instead.\n",
            "  df = df.append(df_temp, ignore_index = True)\n",
            "<ipython-input-56-108931f1cf20>:23: FutureWarning: The frame.append method is deprecated and will be removed from pandas in a future version. Use pandas.concat instead.\n",
            "  df = df.append(df_temp, ignore_index = True)\n",
            "<ipython-input-56-108931f1cf20>:23: FutureWarning: The frame.append method is deprecated and will be removed from pandas in a future version. Use pandas.concat instead.\n",
            "  df = df.append(df_temp, ignore_index = True)\n",
            "<ipython-input-56-108931f1cf20>:23: FutureWarning: The frame.append method is deprecated and will be removed from pandas in a future version. Use pandas.concat instead.\n",
            "  df = df.append(df_temp, ignore_index = True)\n",
            "<ipython-input-56-108931f1cf20>:23: FutureWarning: The frame.append method is deprecated and will be removed from pandas in a future version. Use pandas.concat instead.\n",
            "  df = df.append(df_temp, ignore_index = True)\n",
            "<ipython-input-56-108931f1cf20>:23: FutureWarning: The frame.append method is deprecated and will be removed from pandas in a future version. Use pandas.concat instead.\n",
            "  df = df.append(df_temp, ignore_index = True)\n",
            "<ipython-input-56-108931f1cf20>:23: FutureWarning: The frame.append method is deprecated and will be removed from pandas in a future version. Use pandas.concat instead.\n",
            "  df = df.append(df_temp, ignore_index = True)\n",
            "<ipython-input-56-108931f1cf20>:23: FutureWarning: The frame.append method is deprecated and will be removed from pandas in a future version. Use pandas.concat instead.\n",
            "  df = df.append(df_temp, ignore_index = True)\n",
            "<ipython-input-56-108931f1cf20>:23: FutureWarning: The frame.append method is deprecated and will be removed from pandas in a future version. Use pandas.concat instead.\n",
            "  df = df.append(df_temp, ignore_index = True)\n",
            "<ipython-input-56-108931f1cf20>:23: FutureWarning: The frame.append method is deprecated and will be removed from pandas in a future version. Use pandas.concat instead.\n",
            "  df = df.append(df_temp, ignore_index = True)\n",
            "<ipython-input-56-108931f1cf20>:23: FutureWarning: The frame.append method is deprecated and will be removed from pandas in a future version. Use pandas.concat instead.\n",
            "  df = df.append(df_temp, ignore_index = True)\n",
            "<ipython-input-56-108931f1cf20>:23: FutureWarning: The frame.append method is deprecated and will be removed from pandas in a future version. Use pandas.concat instead.\n",
            "  df = df.append(df_temp, ignore_index = True)\n",
            "<ipython-input-56-108931f1cf20>:23: FutureWarning: The frame.append method is deprecated and will be removed from pandas in a future version. Use pandas.concat instead.\n",
            "  df = df.append(df_temp, ignore_index = True)\n",
            "<ipython-input-56-108931f1cf20>:23: FutureWarning: The frame.append method is deprecated and will be removed from pandas in a future version. Use pandas.concat instead.\n",
            "  df = df.append(df_temp, ignore_index = True)\n",
            "<ipython-input-56-108931f1cf20>:23: FutureWarning: The frame.append method is deprecated and will be removed from pandas in a future version. Use pandas.concat instead.\n",
            "  df = df.append(df_temp, ignore_index = True)\n",
            "<ipython-input-56-108931f1cf20>:23: FutureWarning: The frame.append method is deprecated and will be removed from pandas in a future version. Use pandas.concat instead.\n",
            "  df = df.append(df_temp, ignore_index = True)\n",
            "<ipython-input-56-108931f1cf20>:23: FutureWarning: The frame.append method is deprecated and will be removed from pandas in a future version. Use pandas.concat instead.\n",
            "  df = df.append(df_temp, ignore_index = True)\n",
            "<ipython-input-56-108931f1cf20>:23: FutureWarning: The frame.append method is deprecated and will be removed from pandas in a future version. Use pandas.concat instead.\n",
            "  df = df.append(df_temp, ignore_index = True)\n",
            "<ipython-input-56-108931f1cf20>:23: FutureWarning: The frame.append method is deprecated and will be removed from pandas in a future version. Use pandas.concat instead.\n",
            "  df = df.append(df_temp, ignore_index = True)\n",
            "<ipython-input-56-108931f1cf20>:23: FutureWarning: The frame.append method is deprecated and will be removed from pandas in a future version. Use pandas.concat instead.\n",
            "  df = df.append(df_temp, ignore_index = True)\n",
            "<ipython-input-56-108931f1cf20>:23: FutureWarning: The frame.append method is deprecated and will be removed from pandas in a future version. Use pandas.concat instead.\n",
            "  df = df.append(df_temp, ignore_index = True)\n",
            "<ipython-input-56-108931f1cf20>:23: FutureWarning: The frame.append method is deprecated and will be removed from pandas in a future version. Use pandas.concat instead.\n",
            "  df = df.append(df_temp, ignore_index = True)\n",
            "<ipython-input-56-108931f1cf20>:23: FutureWarning: The frame.append method is deprecated and will be removed from pandas in a future version. Use pandas.concat instead.\n",
            "  df = df.append(df_temp, ignore_index = True)\n",
            "<ipython-input-56-108931f1cf20>:23: FutureWarning: The frame.append method is deprecated and will be removed from pandas in a future version. Use pandas.concat instead.\n",
            "  df = df.append(df_temp, ignore_index = True)\n",
            "<ipython-input-56-108931f1cf20>:23: FutureWarning: The frame.append method is deprecated and will be removed from pandas in a future version. Use pandas.concat instead.\n",
            "  df = df.append(df_temp, ignore_index = True)\n",
            "<ipython-input-56-108931f1cf20>:23: FutureWarning: The frame.append method is deprecated and will be removed from pandas in a future version. Use pandas.concat instead.\n",
            "  df = df.append(df_temp, ignore_index = True)\n",
            "<ipython-input-56-108931f1cf20>:23: FutureWarning: The frame.append method is deprecated and will be removed from pandas in a future version. Use pandas.concat instead.\n",
            "  df = df.append(df_temp, ignore_index = True)\n",
            "<ipython-input-56-108931f1cf20>:23: FutureWarning: The frame.append method is deprecated and will be removed from pandas in a future version. Use pandas.concat instead.\n",
            "  df = df.append(df_temp, ignore_index = True)\n",
            "<ipython-input-56-108931f1cf20>:23: FutureWarning: The frame.append method is deprecated and will be removed from pandas in a future version. Use pandas.concat instead.\n",
            "  df = df.append(df_temp, ignore_index = True)\n",
            "<ipython-input-56-108931f1cf20>:23: FutureWarning: The frame.append method is deprecated and will be removed from pandas in a future version. Use pandas.concat instead.\n",
            "  df = df.append(df_temp, ignore_index = True)\n",
            "<ipython-input-56-108931f1cf20>:23: FutureWarning: The frame.append method is deprecated and will be removed from pandas in a future version. Use pandas.concat instead.\n",
            "  df = df.append(df_temp, ignore_index = True)\n",
            "<ipython-input-56-108931f1cf20>:23: FutureWarning: The frame.append method is deprecated and will be removed from pandas in a future version. Use pandas.concat instead.\n",
            "  df = df.append(df_temp, ignore_index = True)\n",
            "<ipython-input-56-108931f1cf20>:23: FutureWarning: The frame.append method is deprecated and will be removed from pandas in a future version. Use pandas.concat instead.\n",
            "  df = df.append(df_temp, ignore_index = True)\n",
            "<ipython-input-56-108931f1cf20>:23: FutureWarning: The frame.append method is deprecated and will be removed from pandas in a future version. Use pandas.concat instead.\n",
            "  df = df.append(df_temp, ignore_index = True)\n",
            "<ipython-input-56-108931f1cf20>:23: FutureWarning: The frame.append method is deprecated and will be removed from pandas in a future version. Use pandas.concat instead.\n",
            "  df = df.append(df_temp, ignore_index = True)\n",
            "<ipython-input-56-108931f1cf20>:23: FutureWarning: The frame.append method is deprecated and will be removed from pandas in a future version. Use pandas.concat instead.\n",
            "  df = df.append(df_temp, ignore_index = True)\n",
            "<ipython-input-56-108931f1cf20>:23: FutureWarning: The frame.append method is deprecated and will be removed from pandas in a future version. Use pandas.concat instead.\n",
            "  df = df.append(df_temp, ignore_index = True)\n",
            "<ipython-input-56-108931f1cf20>:23: FutureWarning: The frame.append method is deprecated and will be removed from pandas in a future version. Use pandas.concat instead.\n",
            "  df = df.append(df_temp, ignore_index = True)\n",
            "<ipython-input-56-108931f1cf20>:23: FutureWarning: The frame.append method is deprecated and will be removed from pandas in a future version. Use pandas.concat instead.\n",
            "  df = df.append(df_temp, ignore_index = True)\n",
            "<ipython-input-56-108931f1cf20>:23: FutureWarning: The frame.append method is deprecated and will be removed from pandas in a future version. Use pandas.concat instead.\n",
            "  df = df.append(df_temp, ignore_index = True)\n",
            "<ipython-input-56-108931f1cf20>:23: FutureWarning: The frame.append method is deprecated and will be removed from pandas in a future version. Use pandas.concat instead.\n",
            "  df = df.append(df_temp, ignore_index = True)\n",
            "<ipython-input-56-108931f1cf20>:23: FutureWarning: The frame.append method is deprecated and will be removed from pandas in a future version. Use pandas.concat instead.\n",
            "  df = df.append(df_temp, ignore_index = True)\n",
            "<ipython-input-56-108931f1cf20>:23: FutureWarning: The frame.append method is deprecated and will be removed from pandas in a future version. Use pandas.concat instead.\n",
            "  df = df.append(df_temp, ignore_index = True)\n",
            "<ipython-input-56-108931f1cf20>:23: FutureWarning: The frame.append method is deprecated and will be removed from pandas in a future version. Use pandas.concat instead.\n",
            "  df = df.append(df_temp, ignore_index = True)\n",
            "<ipython-input-56-108931f1cf20>:23: FutureWarning: The frame.append method is deprecated and will be removed from pandas in a future version. Use pandas.concat instead.\n",
            "  df = df.append(df_temp, ignore_index = True)\n",
            "<ipython-input-56-108931f1cf20>:23: FutureWarning: The frame.append method is deprecated and will be removed from pandas in a future version. Use pandas.concat instead.\n",
            "  df = df.append(df_temp, ignore_index = True)\n",
            "<ipython-input-56-108931f1cf20>:23: FutureWarning: The frame.append method is deprecated and will be removed from pandas in a future version. Use pandas.concat instead.\n",
            "  df = df.append(df_temp, ignore_index = True)\n",
            "<ipython-input-56-108931f1cf20>:23: FutureWarning: The frame.append method is deprecated and will be removed from pandas in a future version. Use pandas.concat instead.\n",
            "  df = df.append(df_temp, ignore_index = True)\n",
            "<ipython-input-56-108931f1cf20>:23: FutureWarning: The frame.append method is deprecated and will be removed from pandas in a future version. Use pandas.concat instead.\n",
            "  df = df.append(df_temp, ignore_index = True)\n",
            "<ipython-input-56-108931f1cf20>:23: FutureWarning: The frame.append method is deprecated and will be removed from pandas in a future version. Use pandas.concat instead.\n",
            "  df = df.append(df_temp, ignore_index = True)\n",
            "<ipython-input-56-108931f1cf20>:23: FutureWarning: The frame.append method is deprecated and will be removed from pandas in a future version. Use pandas.concat instead.\n",
            "  df = df.append(df_temp, ignore_index = True)\n",
            "<ipython-input-56-108931f1cf20>:23: FutureWarning: The frame.append method is deprecated and will be removed from pandas in a future version. Use pandas.concat instead.\n",
            "  df = df.append(df_temp, ignore_index = True)\n",
            "<ipython-input-56-108931f1cf20>:23: FutureWarning: The frame.append method is deprecated and will be removed from pandas in a future version. Use pandas.concat instead.\n",
            "  df = df.append(df_temp, ignore_index = True)\n",
            "<ipython-input-56-108931f1cf20>:23: FutureWarning: The frame.append method is deprecated and will be removed from pandas in a future version. Use pandas.concat instead.\n",
            "  df = df.append(df_temp, ignore_index = True)\n",
            "<ipython-input-56-108931f1cf20>:23: FutureWarning: The frame.append method is deprecated and will be removed from pandas in a future version. Use pandas.concat instead.\n",
            "  df = df.append(df_temp, ignore_index = True)\n",
            "<ipython-input-56-108931f1cf20>:23: FutureWarning: The frame.append method is deprecated and will be removed from pandas in a future version. Use pandas.concat instead.\n",
            "  df = df.append(df_temp, ignore_index = True)\n",
            "<ipython-input-56-108931f1cf20>:23: FutureWarning: The frame.append method is deprecated and will be removed from pandas in a future version. Use pandas.concat instead.\n",
            "  df = df.append(df_temp, ignore_index = True)\n",
            "<ipython-input-56-108931f1cf20>:23: FutureWarning: The frame.append method is deprecated and will be removed from pandas in a future version. Use pandas.concat instead.\n",
            "  df = df.append(df_temp, ignore_index = True)\n",
            "<ipython-input-56-108931f1cf20>:23: FutureWarning: The frame.append method is deprecated and will be removed from pandas in a future version. Use pandas.concat instead.\n",
            "  df = df.append(df_temp, ignore_index = True)\n",
            "<ipython-input-56-108931f1cf20>:23: FutureWarning: The frame.append method is deprecated and will be removed from pandas in a future version. Use pandas.concat instead.\n",
            "  df = df.append(df_temp, ignore_index = True)\n",
            "<ipython-input-56-108931f1cf20>:23: FutureWarning: The frame.append method is deprecated and will be removed from pandas in a future version. Use pandas.concat instead.\n",
            "  df = df.append(df_temp, ignore_index = True)\n",
            "<ipython-input-56-108931f1cf20>:23: FutureWarning: The frame.append method is deprecated and will be removed from pandas in a future version. Use pandas.concat instead.\n",
            "  df = df.append(df_temp, ignore_index = True)\n",
            "<ipython-input-56-108931f1cf20>:23: FutureWarning: The frame.append method is deprecated and will be removed from pandas in a future version. Use pandas.concat instead.\n",
            "  df = df.append(df_temp, ignore_index = True)\n",
            "<ipython-input-56-108931f1cf20>:23: FutureWarning: The frame.append method is deprecated and will be removed from pandas in a future version. Use pandas.concat instead.\n",
            "  df = df.append(df_temp, ignore_index = True)\n",
            "<ipython-input-56-108931f1cf20>:23: FutureWarning: The frame.append method is deprecated and will be removed from pandas in a future version. Use pandas.concat instead.\n",
            "  df = df.append(df_temp, ignore_index = True)\n",
            "<ipython-input-56-108931f1cf20>:23: FutureWarning: The frame.append method is deprecated and will be removed from pandas in a future version. Use pandas.concat instead.\n",
            "  df = df.append(df_temp, ignore_index = True)\n",
            "<ipython-input-56-108931f1cf20>:23: FutureWarning: The frame.append method is deprecated and will be removed from pandas in a future version. Use pandas.concat instead.\n",
            "  df = df.append(df_temp, ignore_index = True)\n",
            "<ipython-input-56-108931f1cf20>:23: FutureWarning: The frame.append method is deprecated and will be removed from pandas in a future version. Use pandas.concat instead.\n",
            "  df = df.append(df_temp, ignore_index = True)\n",
            "<ipython-input-56-108931f1cf20>:23: FutureWarning: The frame.append method is deprecated and will be removed from pandas in a future version. Use pandas.concat instead.\n",
            "  df = df.append(df_temp, ignore_index = True)\n",
            "<ipython-input-56-108931f1cf20>:23: FutureWarning: The frame.append method is deprecated and will be removed from pandas in a future version. Use pandas.concat instead.\n",
            "  df = df.append(df_temp, ignore_index = True)\n",
            "<ipython-input-56-108931f1cf20>:23: FutureWarning: The frame.append method is deprecated and will be removed from pandas in a future version. Use pandas.concat instead.\n",
            "  df = df.append(df_temp, ignore_index = True)\n",
            "<ipython-input-56-108931f1cf20>:23: FutureWarning: The frame.append method is deprecated and will be removed from pandas in a future version. Use pandas.concat instead.\n",
            "  df = df.append(df_temp, ignore_index = True)\n",
            "<ipython-input-56-108931f1cf20>:23: FutureWarning: The frame.append method is deprecated and will be removed from pandas in a future version. Use pandas.concat instead.\n",
            "  df = df.append(df_temp, ignore_index = True)\n",
            "<ipython-input-56-108931f1cf20>:23: FutureWarning: The frame.append method is deprecated and will be removed from pandas in a future version. Use pandas.concat instead.\n",
            "  df = df.append(df_temp, ignore_index = True)\n",
            "<ipython-input-56-108931f1cf20>:23: FutureWarning: The frame.append method is deprecated and will be removed from pandas in a future version. Use pandas.concat instead.\n",
            "  df = df.append(df_temp, ignore_index = True)\n",
            "<ipython-input-56-108931f1cf20>:23: FutureWarning: The frame.append method is deprecated and will be removed from pandas in a future version. Use pandas.concat instead.\n",
            "  df = df.append(df_temp, ignore_index = True)\n",
            "<ipython-input-56-108931f1cf20>:23: FutureWarning: The frame.append method is deprecated and will be removed from pandas in a future version. Use pandas.concat instead.\n",
            "  df = df.append(df_temp, ignore_index = True)\n",
            "<ipython-input-56-108931f1cf20>:23: FutureWarning: The frame.append method is deprecated and will be removed from pandas in a future version. Use pandas.concat instead.\n",
            "  df = df.append(df_temp, ignore_index = True)\n",
            "<ipython-input-56-108931f1cf20>:23: FutureWarning: The frame.append method is deprecated and will be removed from pandas in a future version. Use pandas.concat instead.\n",
            "  df = df.append(df_temp, ignore_index = True)\n",
            "<ipython-input-56-108931f1cf20>:23: FutureWarning: The frame.append method is deprecated and will be removed from pandas in a future version. Use pandas.concat instead.\n",
            "  df = df.append(df_temp, ignore_index = True)\n",
            "<ipython-input-56-108931f1cf20>:23: FutureWarning: The frame.append method is deprecated and will be removed from pandas in a future version. Use pandas.concat instead.\n",
            "  df = df.append(df_temp, ignore_index = True)\n",
            "<ipython-input-56-108931f1cf20>:23: FutureWarning: The frame.append method is deprecated and will be removed from pandas in a future version. Use pandas.concat instead.\n",
            "  df = df.append(df_temp, ignore_index = True)\n",
            "<ipython-input-56-108931f1cf20>:23: FutureWarning: The frame.append method is deprecated and will be removed from pandas in a future version. Use pandas.concat instead.\n",
            "  df = df.append(df_temp, ignore_index = True)\n",
            "<ipython-input-56-108931f1cf20>:23: FutureWarning: The frame.append method is deprecated and will be removed from pandas in a future version. Use pandas.concat instead.\n",
            "  df = df.append(df_temp, ignore_index = True)\n",
            "<ipython-input-56-108931f1cf20>:23: FutureWarning: The frame.append method is deprecated and will be removed from pandas in a future version. Use pandas.concat instead.\n",
            "  df = df.append(df_temp, ignore_index = True)\n",
            "<ipython-input-56-108931f1cf20>:23: FutureWarning: The frame.append method is deprecated and will be removed from pandas in a future version. Use pandas.concat instead.\n",
            "  df = df.append(df_temp, ignore_index = True)\n",
            "<ipython-input-56-108931f1cf20>:23: FutureWarning: The frame.append method is deprecated and will be removed from pandas in a future version. Use pandas.concat instead.\n",
            "  df = df.append(df_temp, ignore_index = True)\n",
            "<ipython-input-56-108931f1cf20>:23: FutureWarning: The frame.append method is deprecated and will be removed from pandas in a future version. Use pandas.concat instead.\n",
            "  df = df.append(df_temp, ignore_index = True)\n",
            "<ipython-input-56-108931f1cf20>:23: FutureWarning: The frame.append method is deprecated and will be removed from pandas in a future version. Use pandas.concat instead.\n",
            "  df = df.append(df_temp, ignore_index = True)\n",
            "<ipython-input-56-108931f1cf20>:23: FutureWarning: The frame.append method is deprecated and will be removed from pandas in a future version. Use pandas.concat instead.\n",
            "  df = df.append(df_temp, ignore_index = True)\n",
            "<ipython-input-56-108931f1cf20>:23: FutureWarning: The frame.append method is deprecated and will be removed from pandas in a future version. Use pandas.concat instead.\n",
            "  df = df.append(df_temp, ignore_index = True)\n",
            "<ipython-input-56-108931f1cf20>:23: FutureWarning: The frame.append method is deprecated and will be removed from pandas in a future version. Use pandas.concat instead.\n",
            "  df = df.append(df_temp, ignore_index = True)\n",
            "<ipython-input-56-108931f1cf20>:23: FutureWarning: The frame.append method is deprecated and will be removed from pandas in a future version. Use pandas.concat instead.\n",
            "  df = df.append(df_temp, ignore_index = True)\n",
            "<ipython-input-56-108931f1cf20>:23: FutureWarning: The frame.append method is deprecated and will be removed from pandas in a future version. Use pandas.concat instead.\n",
            "  df = df.append(df_temp, ignore_index = True)\n",
            "<ipython-input-56-108931f1cf20>:23: FutureWarning: The frame.append method is deprecated and will be removed from pandas in a future version. Use pandas.concat instead.\n",
            "  df = df.append(df_temp, ignore_index = True)\n",
            "<ipython-input-56-108931f1cf20>:23: FutureWarning: The frame.append method is deprecated and will be removed from pandas in a future version. Use pandas.concat instead.\n",
            "  df = df.append(df_temp, ignore_index = True)\n",
            "<ipython-input-56-108931f1cf20>:23: FutureWarning: The frame.append method is deprecated and will be removed from pandas in a future version. Use pandas.concat instead.\n",
            "  df = df.append(df_temp, ignore_index = True)\n",
            "<ipython-input-56-108931f1cf20>:23: FutureWarning: The frame.append method is deprecated and will be removed from pandas in a future version. Use pandas.concat instead.\n",
            "  df = df.append(df_temp, ignore_index = True)\n",
            "<ipython-input-56-108931f1cf20>:23: FutureWarning: The frame.append method is deprecated and will be removed from pandas in a future version. Use pandas.concat instead.\n",
            "  df = df.append(df_temp, ignore_index = True)\n",
            "<ipython-input-56-108931f1cf20>:23: FutureWarning: The frame.append method is deprecated and will be removed from pandas in a future version. Use pandas.concat instead.\n",
            "  df = df.append(df_temp, ignore_index = True)\n",
            "<ipython-input-56-108931f1cf20>:23: FutureWarning: The frame.append method is deprecated and will be removed from pandas in a future version. Use pandas.concat instead.\n",
            "  df = df.append(df_temp, ignore_index = True)\n",
            "<ipython-input-56-108931f1cf20>:23: FutureWarning: The frame.append method is deprecated and will be removed from pandas in a future version. Use pandas.concat instead.\n",
            "  df = df.append(df_temp, ignore_index = True)\n",
            "<ipython-input-56-108931f1cf20>:23: FutureWarning: The frame.append method is deprecated and will be removed from pandas in a future version. Use pandas.concat instead.\n",
            "  df = df.append(df_temp, ignore_index = True)\n",
            "<ipython-input-56-108931f1cf20>:23: FutureWarning: The frame.append method is deprecated and will be removed from pandas in a future version. Use pandas.concat instead.\n",
            "  df = df.append(df_temp, ignore_index = True)\n",
            "<ipython-input-56-108931f1cf20>:23: FutureWarning: The frame.append method is deprecated and will be removed from pandas in a future version. Use pandas.concat instead.\n",
            "  df = df.append(df_temp, ignore_index = True)\n",
            "<ipython-input-56-108931f1cf20>:23: FutureWarning: The frame.append method is deprecated and will be removed from pandas in a future version. Use pandas.concat instead.\n",
            "  df = df.append(df_temp, ignore_index = True)\n",
            "<ipython-input-56-108931f1cf20>:23: FutureWarning: The frame.append method is deprecated and will be removed from pandas in a future version. Use pandas.concat instead.\n",
            "  df = df.append(df_temp, ignore_index = True)\n",
            "<ipython-input-56-108931f1cf20>:23: FutureWarning: The frame.append method is deprecated and will be removed from pandas in a future version. Use pandas.concat instead.\n",
            "  df = df.append(df_temp, ignore_index = True)\n",
            "<ipython-input-56-108931f1cf20>:23: FutureWarning: The frame.append method is deprecated and will be removed from pandas in a future version. Use pandas.concat instead.\n",
            "  df = df.append(df_temp, ignore_index = True)\n",
            "<ipython-input-56-108931f1cf20>:23: FutureWarning: The frame.append method is deprecated and will be removed from pandas in a future version. Use pandas.concat instead.\n",
            "  df = df.append(df_temp, ignore_index = True)\n",
            "<ipython-input-56-108931f1cf20>:23: FutureWarning: The frame.append method is deprecated and will be removed from pandas in a future version. Use pandas.concat instead.\n",
            "  df = df.append(df_temp, ignore_index = True)\n",
            "<ipython-input-56-108931f1cf20>:23: FutureWarning: The frame.append method is deprecated and will be removed from pandas in a future version. Use pandas.concat instead.\n",
            "  df = df.append(df_temp, ignore_index = True)\n",
            "<ipython-input-56-108931f1cf20>:23: FutureWarning: The frame.append method is deprecated and will be removed from pandas in a future version. Use pandas.concat instead.\n",
            "  df = df.append(df_temp, ignore_index = True)\n",
            "<ipython-input-56-108931f1cf20>:23: FutureWarning: The frame.append method is deprecated and will be removed from pandas in a future version. Use pandas.concat instead.\n",
            "  df = df.append(df_temp, ignore_index = True)\n",
            "<ipython-input-56-108931f1cf20>:23: FutureWarning: The frame.append method is deprecated and will be removed from pandas in a future version. Use pandas.concat instead.\n",
            "  df = df.append(df_temp, ignore_index = True)\n",
            "<ipython-input-56-108931f1cf20>:23: FutureWarning: The frame.append method is deprecated and will be removed from pandas in a future version. Use pandas.concat instead.\n",
            "  df = df.append(df_temp, ignore_index = True)\n",
            "<ipython-input-56-108931f1cf20>:23: FutureWarning: The frame.append method is deprecated and will be removed from pandas in a future version. Use pandas.concat instead.\n",
            "  df = df.append(df_temp, ignore_index = True)\n",
            "<ipython-input-56-108931f1cf20>:23: FutureWarning: The frame.append method is deprecated and will be removed from pandas in a future version. Use pandas.concat instead.\n",
            "  df = df.append(df_temp, ignore_index = True)\n",
            "<ipython-input-56-108931f1cf20>:23: FutureWarning: The frame.append method is deprecated and will be removed from pandas in a future version. Use pandas.concat instead.\n",
            "  df = df.append(df_temp, ignore_index = True)\n",
            "<ipython-input-56-108931f1cf20>:23: FutureWarning: The frame.append method is deprecated and will be removed from pandas in a future version. Use pandas.concat instead.\n",
            "  df = df.append(df_temp, ignore_index = True)\n",
            "<ipython-input-56-108931f1cf20>:23: FutureWarning: The frame.append method is deprecated and will be removed from pandas in a future version. Use pandas.concat instead.\n",
            "  df = df.append(df_temp, ignore_index = True)\n",
            "<ipython-input-56-108931f1cf20>:23: FutureWarning: The frame.append method is deprecated and will be removed from pandas in a future version. Use pandas.concat instead.\n",
            "  df = df.append(df_temp, ignore_index = True)\n",
            "<ipython-input-56-108931f1cf20>:23: FutureWarning: The frame.append method is deprecated and will be removed from pandas in a future version. Use pandas.concat instead.\n",
            "  df = df.append(df_temp, ignore_index = True)\n",
            "<ipython-input-56-108931f1cf20>:23: FutureWarning: The frame.append method is deprecated and will be removed from pandas in a future version. Use pandas.concat instead.\n",
            "  df = df.append(df_temp, ignore_index = True)\n",
            "<ipython-input-56-108931f1cf20>:23: FutureWarning: The frame.append method is deprecated and will be removed from pandas in a future version. Use pandas.concat instead.\n",
            "  df = df.append(df_temp, ignore_index = True)\n",
            "<ipython-input-56-108931f1cf20>:23: FutureWarning: The frame.append method is deprecated and will be removed from pandas in a future version. Use pandas.concat instead.\n",
            "  df = df.append(df_temp, ignore_index = True)\n",
            "<ipython-input-56-108931f1cf20>:23: FutureWarning: The frame.append method is deprecated and will be removed from pandas in a future version. Use pandas.concat instead.\n",
            "  df = df.append(df_temp, ignore_index = True)\n",
            "<ipython-input-56-108931f1cf20>:23: FutureWarning: The frame.append method is deprecated and will be removed from pandas in a future version. Use pandas.concat instead.\n",
            "  df = df.append(df_temp, ignore_index = True)\n",
            "<ipython-input-56-108931f1cf20>:23: FutureWarning: The frame.append method is deprecated and will be removed from pandas in a future version. Use pandas.concat instead.\n",
            "  df = df.append(df_temp, ignore_index = True)\n",
            "<ipython-input-56-108931f1cf20>:23: FutureWarning: The frame.append method is deprecated and will be removed from pandas in a future version. Use pandas.concat instead.\n",
            "  df = df.append(df_temp, ignore_index = True)\n",
            "<ipython-input-56-108931f1cf20>:23: FutureWarning: The frame.append method is deprecated and will be removed from pandas in a future version. Use pandas.concat instead.\n",
            "  df = df.append(df_temp, ignore_index = True)\n",
            "<ipython-input-56-108931f1cf20>:23: FutureWarning: The frame.append method is deprecated and will be removed from pandas in a future version. Use pandas.concat instead.\n",
            "  df = df.append(df_temp, ignore_index = True)\n",
            "<ipython-input-56-108931f1cf20>:23: FutureWarning: The frame.append method is deprecated and will be removed from pandas in a future version. Use pandas.concat instead.\n",
            "  df = df.append(df_temp, ignore_index = True)\n",
            "<ipython-input-56-108931f1cf20>:23: FutureWarning: The frame.append method is deprecated and will be removed from pandas in a future version. Use pandas.concat instead.\n",
            "  df = df.append(df_temp, ignore_index = True)\n",
            "<ipython-input-56-108931f1cf20>:23: FutureWarning: The frame.append method is deprecated and will be removed from pandas in a future version. Use pandas.concat instead.\n",
            "  df = df.append(df_temp, ignore_index = True)\n",
            "<ipython-input-56-108931f1cf20>:23: FutureWarning: The frame.append method is deprecated and will be removed from pandas in a future version. Use pandas.concat instead.\n",
            "  df = df.append(df_temp, ignore_index = True)\n",
            "<ipython-input-56-108931f1cf20>:23: FutureWarning: The frame.append method is deprecated and will be removed from pandas in a future version. Use pandas.concat instead.\n",
            "  df = df.append(df_temp, ignore_index = True)\n",
            "<ipython-input-56-108931f1cf20>:23: FutureWarning: The frame.append method is deprecated and will be removed from pandas in a future version. Use pandas.concat instead.\n",
            "  df = df.append(df_temp, ignore_index = True)\n",
            "<ipython-input-56-108931f1cf20>:23: FutureWarning: The frame.append method is deprecated and will be removed from pandas in a future version. Use pandas.concat instead.\n",
            "  df = df.append(df_temp, ignore_index = True)\n",
            "<ipython-input-56-108931f1cf20>:23: FutureWarning: The frame.append method is deprecated and will be removed from pandas in a future version. Use pandas.concat instead.\n",
            "  df = df.append(df_temp, ignore_index = True)\n",
            "<ipython-input-56-108931f1cf20>:23: FutureWarning: The frame.append method is deprecated and will be removed from pandas in a future version. Use pandas.concat instead.\n",
            "  df = df.append(df_temp, ignore_index = True)\n",
            "<ipython-input-56-108931f1cf20>:23: FutureWarning: The frame.append method is deprecated and will be removed from pandas in a future version. Use pandas.concat instead.\n",
            "  df = df.append(df_temp, ignore_index = True)\n",
            "<ipython-input-56-108931f1cf20>:23: FutureWarning: The frame.append method is deprecated and will be removed from pandas in a future version. Use pandas.concat instead.\n",
            "  df = df.append(df_temp, ignore_index = True)\n",
            "<ipython-input-56-108931f1cf20>:23: FutureWarning: The frame.append method is deprecated and will be removed from pandas in a future version. Use pandas.concat instead.\n",
            "  df = df.append(df_temp, ignore_index = True)\n",
            "<ipython-input-56-108931f1cf20>:23: FutureWarning: The frame.append method is deprecated and will be removed from pandas in a future version. Use pandas.concat instead.\n",
            "  df = df.append(df_temp, ignore_index = True)\n",
            "<ipython-input-56-108931f1cf20>:23: FutureWarning: The frame.append method is deprecated and will be removed from pandas in a future version. Use pandas.concat instead.\n",
            "  df = df.append(df_temp, ignore_index = True)\n",
            "<ipython-input-56-108931f1cf20>:23: FutureWarning: The frame.append method is deprecated and will be removed from pandas in a future version. Use pandas.concat instead.\n",
            "  df = df.append(df_temp, ignore_index = True)\n",
            "<ipython-input-56-108931f1cf20>:23: FutureWarning: The frame.append method is deprecated and will be removed from pandas in a future version. Use pandas.concat instead.\n",
            "  df = df.append(df_temp, ignore_index = True)\n",
            "<ipython-input-56-108931f1cf20>:23: FutureWarning: The frame.append method is deprecated and will be removed from pandas in a future version. Use pandas.concat instead.\n",
            "  df = df.append(df_temp, ignore_index = True)\n",
            "<ipython-input-56-108931f1cf20>:23: FutureWarning: The frame.append method is deprecated and will be removed from pandas in a future version. Use pandas.concat instead.\n",
            "  df = df.append(df_temp, ignore_index = True)\n",
            "<ipython-input-56-108931f1cf20>:23: FutureWarning: The frame.append method is deprecated and will be removed from pandas in a future version. Use pandas.concat instead.\n",
            "  df = df.append(df_temp, ignore_index = True)\n",
            "<ipython-input-56-108931f1cf20>:23: FutureWarning: The frame.append method is deprecated and will be removed from pandas in a future version. Use pandas.concat instead.\n",
            "  df = df.append(df_temp, ignore_index = True)\n",
            "<ipython-input-56-108931f1cf20>:23: FutureWarning: The frame.append method is deprecated and will be removed from pandas in a future version. Use pandas.concat instead.\n",
            "  df = df.append(df_temp, ignore_index = True)\n",
            "<ipython-input-56-108931f1cf20>:23: FutureWarning: The frame.append method is deprecated and will be removed from pandas in a future version. Use pandas.concat instead.\n",
            "  df = df.append(df_temp, ignore_index = True)\n",
            "<ipython-input-56-108931f1cf20>:23: FutureWarning: The frame.append method is deprecated and will be removed from pandas in a future version. Use pandas.concat instead.\n",
            "  df = df.append(df_temp, ignore_index = True)\n",
            "<ipython-input-56-108931f1cf20>:23: FutureWarning: The frame.append method is deprecated and will be removed from pandas in a future version. Use pandas.concat instead.\n",
            "  df = df.append(df_temp, ignore_index = True)\n",
            "<ipython-input-56-108931f1cf20>:23: FutureWarning: The frame.append method is deprecated and will be removed from pandas in a future version. Use pandas.concat instead.\n",
            "  df = df.append(df_temp, ignore_index = True)\n",
            "<ipython-input-56-108931f1cf20>:23: FutureWarning: The frame.append method is deprecated and will be removed from pandas in a future version. Use pandas.concat instead.\n",
            "  df = df.append(df_temp, ignore_index = True)\n",
            "<ipython-input-56-108931f1cf20>:23: FutureWarning: The frame.append method is deprecated and will be removed from pandas in a future version. Use pandas.concat instead.\n",
            "  df = df.append(df_temp, ignore_index = True)\n",
            "<ipython-input-56-108931f1cf20>:23: FutureWarning: The frame.append method is deprecated and will be removed from pandas in a future version. Use pandas.concat instead.\n",
            "  df = df.append(df_temp, ignore_index = True)\n",
            "<ipython-input-56-108931f1cf20>:23: FutureWarning: The frame.append method is deprecated and will be removed from pandas in a future version. Use pandas.concat instead.\n",
            "  df = df.append(df_temp, ignore_index = True)\n",
            "<ipython-input-56-108931f1cf20>:23: FutureWarning: The frame.append method is deprecated and will be removed from pandas in a future version. Use pandas.concat instead.\n",
            "  df = df.append(df_temp, ignore_index = True)\n",
            "<ipython-input-56-108931f1cf20>:23: FutureWarning: The frame.append method is deprecated and will be removed from pandas in a future version. Use pandas.concat instead.\n",
            "  df = df.append(df_temp, ignore_index = True)\n",
            "<ipython-input-56-108931f1cf20>:23: FutureWarning: The frame.append method is deprecated and will be removed from pandas in a future version. Use pandas.concat instead.\n",
            "  df = df.append(df_temp, ignore_index = True)\n",
            "<ipython-input-56-108931f1cf20>:23: FutureWarning: The frame.append method is deprecated and will be removed from pandas in a future version. Use pandas.concat instead.\n",
            "  df = df.append(df_temp, ignore_index = True)\n",
            "<ipython-input-56-108931f1cf20>:23: FutureWarning: The frame.append method is deprecated and will be removed from pandas in a future version. Use pandas.concat instead.\n",
            "  df = df.append(df_temp, ignore_index = True)\n",
            "<ipython-input-56-108931f1cf20>:23: FutureWarning: The frame.append method is deprecated and will be removed from pandas in a future version. Use pandas.concat instead.\n",
            "  df = df.append(df_temp, ignore_index = True)\n",
            "<ipython-input-56-108931f1cf20>:23: FutureWarning: The frame.append method is deprecated and will be removed from pandas in a future version. Use pandas.concat instead.\n",
            "  df = df.append(df_temp, ignore_index = True)\n",
            "<ipython-input-56-108931f1cf20>:23: FutureWarning: The frame.append method is deprecated and will be removed from pandas in a future version. Use pandas.concat instead.\n",
            "  df = df.append(df_temp, ignore_index = True)\n",
            "<ipython-input-56-108931f1cf20>:23: FutureWarning: The frame.append method is deprecated and will be removed from pandas in a future version. Use pandas.concat instead.\n",
            "  df = df.append(df_temp, ignore_index = True)\n",
            "<ipython-input-56-108931f1cf20>:23: FutureWarning: The frame.append method is deprecated and will be removed from pandas in a future version. Use pandas.concat instead.\n",
            "  df = df.append(df_temp, ignore_index = True)\n",
            "<ipython-input-56-108931f1cf20>:23: FutureWarning: The frame.append method is deprecated and will be removed from pandas in a future version. Use pandas.concat instead.\n",
            "  df = df.append(df_temp, ignore_index = True)\n",
            "<ipython-input-56-108931f1cf20>:23: FutureWarning: The frame.append method is deprecated and will be removed from pandas in a future version. Use pandas.concat instead.\n",
            "  df = df.append(df_temp, ignore_index = True)\n",
            "<ipython-input-56-108931f1cf20>:23: FutureWarning: The frame.append method is deprecated and will be removed from pandas in a future version. Use pandas.concat instead.\n",
            "  df = df.append(df_temp, ignore_index = True)\n",
            "<ipython-input-56-108931f1cf20>:23: FutureWarning: The frame.append method is deprecated and will be removed from pandas in a future version. Use pandas.concat instead.\n",
            "  df = df.append(df_temp, ignore_index = True)\n",
            "<ipython-input-56-108931f1cf20>:23: FutureWarning: The frame.append method is deprecated and will be removed from pandas in a future version. Use pandas.concat instead.\n",
            "  df = df.append(df_temp, ignore_index = True)\n",
            "<ipython-input-56-108931f1cf20>:23: FutureWarning: The frame.append method is deprecated and will be removed from pandas in a future version. Use pandas.concat instead.\n",
            "  df = df.append(df_temp, ignore_index = True)\n",
            "<ipython-input-56-108931f1cf20>:23: FutureWarning: The frame.append method is deprecated and will be removed from pandas in a future version. Use pandas.concat instead.\n",
            "  df = df.append(df_temp, ignore_index = True)\n",
            "<ipython-input-56-108931f1cf20>:23: FutureWarning: The frame.append method is deprecated and will be removed from pandas in a future version. Use pandas.concat instead.\n",
            "  df = df.append(df_temp, ignore_index = True)\n",
            "<ipython-input-56-108931f1cf20>:23: FutureWarning: The frame.append method is deprecated and will be removed from pandas in a future version. Use pandas.concat instead.\n",
            "  df = df.append(df_temp, ignore_index = True)\n",
            "<ipython-input-56-108931f1cf20>:23: FutureWarning: The frame.append method is deprecated and will be removed from pandas in a future version. Use pandas.concat instead.\n",
            "  df = df.append(df_temp, ignore_index = True)\n",
            "<ipython-input-56-108931f1cf20>:23: FutureWarning: The frame.append method is deprecated and will be removed from pandas in a future version. Use pandas.concat instead.\n",
            "  df = df.append(df_temp, ignore_index = True)\n",
            "<ipython-input-56-108931f1cf20>:23: FutureWarning: The frame.append method is deprecated and will be removed from pandas in a future version. Use pandas.concat instead.\n",
            "  df = df.append(df_temp, ignore_index = True)\n",
            "<ipython-input-56-108931f1cf20>:23: FutureWarning: The frame.append method is deprecated and will be removed from pandas in a future version. Use pandas.concat instead.\n",
            "  df = df.append(df_temp, ignore_index = True)\n",
            "<ipython-input-56-108931f1cf20>:23: FutureWarning: The frame.append method is deprecated and will be removed from pandas in a future version. Use pandas.concat instead.\n",
            "  df = df.append(df_temp, ignore_index = True)\n",
            "<ipython-input-56-108931f1cf20>:23: FutureWarning: The frame.append method is deprecated and will be removed from pandas in a future version. Use pandas.concat instead.\n",
            "  df = df.append(df_temp, ignore_index = True)\n",
            "<ipython-input-56-108931f1cf20>:23: FutureWarning: The frame.append method is deprecated and will be removed from pandas in a future version. Use pandas.concat instead.\n",
            "  df = df.append(df_temp, ignore_index = True)\n",
            "<ipython-input-56-108931f1cf20>:23: FutureWarning: The frame.append method is deprecated and will be removed from pandas in a future version. Use pandas.concat instead.\n",
            "  df = df.append(df_temp, ignore_index = True)\n",
            "<ipython-input-56-108931f1cf20>:23: FutureWarning: The frame.append method is deprecated and will be removed from pandas in a future version. Use pandas.concat instead.\n",
            "  df = df.append(df_temp, ignore_index = True)\n",
            "<ipython-input-56-108931f1cf20>:23: FutureWarning: The frame.append method is deprecated and will be removed from pandas in a future version. Use pandas.concat instead.\n",
            "  df = df.append(df_temp, ignore_index = True)\n",
            "<ipython-input-56-108931f1cf20>:23: FutureWarning: The frame.append method is deprecated and will be removed from pandas in a future version. Use pandas.concat instead.\n",
            "  df = df.append(df_temp, ignore_index = True)\n",
            "<ipython-input-56-108931f1cf20>:23: FutureWarning: The frame.append method is deprecated and will be removed from pandas in a future version. Use pandas.concat instead.\n",
            "  df = df.append(df_temp, ignore_index = True)\n",
            "<ipython-input-56-108931f1cf20>:23: FutureWarning: The frame.append method is deprecated and will be removed from pandas in a future version. Use pandas.concat instead.\n",
            "  df = df.append(df_temp, ignore_index = True)\n",
            "<ipython-input-56-108931f1cf20>:23: FutureWarning: The frame.append method is deprecated and will be removed from pandas in a future version. Use pandas.concat instead.\n",
            "  df = df.append(df_temp, ignore_index = True)\n",
            "<ipython-input-56-108931f1cf20>:23: FutureWarning: The frame.append method is deprecated and will be removed from pandas in a future version. Use pandas.concat instead.\n",
            "  df = df.append(df_temp, ignore_index = True)\n",
            "<ipython-input-56-108931f1cf20>:23: FutureWarning: The frame.append method is deprecated and will be removed from pandas in a future version. Use pandas.concat instead.\n",
            "  df = df.append(df_temp, ignore_index = True)\n",
            "<ipython-input-56-108931f1cf20>:23: FutureWarning: The frame.append method is deprecated and will be removed from pandas in a future version. Use pandas.concat instead.\n",
            "  df = df.append(df_temp, ignore_index = True)\n",
            "<ipython-input-56-108931f1cf20>:23: FutureWarning: The frame.append method is deprecated and will be removed from pandas in a future version. Use pandas.concat instead.\n",
            "  df = df.append(df_temp, ignore_index = True)\n",
            "<ipython-input-56-108931f1cf20>:23: FutureWarning: The frame.append method is deprecated and will be removed from pandas in a future version. Use pandas.concat instead.\n",
            "  df = df.append(df_temp, ignore_index = True)\n",
            "<ipython-input-56-108931f1cf20>:23: FutureWarning: The frame.append method is deprecated and will be removed from pandas in a future version. Use pandas.concat instead.\n",
            "  df = df.append(df_temp, ignore_index = True)\n",
            "<ipython-input-56-108931f1cf20>:23: FutureWarning: The frame.append method is deprecated and will be removed from pandas in a future version. Use pandas.concat instead.\n",
            "  df = df.append(df_temp, ignore_index = True)\n",
            "<ipython-input-56-108931f1cf20>:23: FutureWarning: The frame.append method is deprecated and will be removed from pandas in a future version. Use pandas.concat instead.\n",
            "  df = df.append(df_temp, ignore_index = True)\n",
            "<ipython-input-56-108931f1cf20>:23: FutureWarning: The frame.append method is deprecated and will be removed from pandas in a future version. Use pandas.concat instead.\n",
            "  df = df.append(df_temp, ignore_index = True)\n",
            "<ipython-input-56-108931f1cf20>:23: FutureWarning: The frame.append method is deprecated and will be removed from pandas in a future version. Use pandas.concat instead.\n",
            "  df = df.append(df_temp, ignore_index = True)\n",
            "<ipython-input-56-108931f1cf20>:23: FutureWarning: The frame.append method is deprecated and will be removed from pandas in a future version. Use pandas.concat instead.\n",
            "  df = df.append(df_temp, ignore_index = True)\n",
            "<ipython-input-56-108931f1cf20>:23: FutureWarning: The frame.append method is deprecated and will be removed from pandas in a future version. Use pandas.concat instead.\n",
            "  df = df.append(df_temp, ignore_index = True)\n",
            "<ipython-input-56-108931f1cf20>:23: FutureWarning: The frame.append method is deprecated and will be removed from pandas in a future version. Use pandas.concat instead.\n",
            "  df = df.append(df_temp, ignore_index = True)\n",
            "<ipython-input-56-108931f1cf20>:23: FutureWarning: The frame.append method is deprecated and will be removed from pandas in a future version. Use pandas.concat instead.\n",
            "  df = df.append(df_temp, ignore_index = True)\n",
            "<ipython-input-56-108931f1cf20>:23: FutureWarning: The frame.append method is deprecated and will be removed from pandas in a future version. Use pandas.concat instead.\n",
            "  df = df.append(df_temp, ignore_index = True)\n",
            "<ipython-input-56-108931f1cf20>:23: FutureWarning: The frame.append method is deprecated and will be removed from pandas in a future version. Use pandas.concat instead.\n",
            "  df = df.append(df_temp, ignore_index = True)\n",
            "<ipython-input-56-108931f1cf20>:23: FutureWarning: The frame.append method is deprecated and will be removed from pandas in a future version. Use pandas.concat instead.\n",
            "  df = df.append(df_temp, ignore_index = True)\n",
            "<ipython-input-56-108931f1cf20>:23: FutureWarning: The frame.append method is deprecated and will be removed from pandas in a future version. Use pandas.concat instead.\n",
            "  df = df.append(df_temp, ignore_index = True)\n",
            "<ipython-input-56-108931f1cf20>:23: FutureWarning: The frame.append method is deprecated and will be removed from pandas in a future version. Use pandas.concat instead.\n",
            "  df = df.append(df_temp, ignore_index = True)\n",
            "<ipython-input-56-108931f1cf20>:23: FutureWarning: The frame.append method is deprecated and will be removed from pandas in a future version. Use pandas.concat instead.\n",
            "  df = df.append(df_temp, ignore_index = True)\n",
            "<ipython-input-56-108931f1cf20>:23: FutureWarning: The frame.append method is deprecated and will be removed from pandas in a future version. Use pandas.concat instead.\n",
            "  df = df.append(df_temp, ignore_index = True)\n",
            "<ipython-input-56-108931f1cf20>:23: FutureWarning: The frame.append method is deprecated and will be removed from pandas in a future version. Use pandas.concat instead.\n",
            "  df = df.append(df_temp, ignore_index = True)\n",
            "<ipython-input-56-108931f1cf20>:23: FutureWarning: The frame.append method is deprecated and will be removed from pandas in a future version. Use pandas.concat instead.\n",
            "  df = df.append(df_temp, ignore_index = True)\n",
            "<ipython-input-56-108931f1cf20>:23: FutureWarning: The frame.append method is deprecated and will be removed from pandas in a future version. Use pandas.concat instead.\n",
            "  df = df.append(df_temp, ignore_index = True)\n",
            "<ipython-input-56-108931f1cf20>:23: FutureWarning: The frame.append method is deprecated and will be removed from pandas in a future version. Use pandas.concat instead.\n",
            "  df = df.append(df_temp, ignore_index = True)\n",
            "<ipython-input-56-108931f1cf20>:23: FutureWarning: The frame.append method is deprecated and will be removed from pandas in a future version. Use pandas.concat instead.\n",
            "  df = df.append(df_temp, ignore_index = True)\n",
            "<ipython-input-56-108931f1cf20>:23: FutureWarning: The frame.append method is deprecated and will be removed from pandas in a future version. Use pandas.concat instead.\n",
            "  df = df.append(df_temp, ignore_index = True)\n",
            "<ipython-input-56-108931f1cf20>:23: FutureWarning: The frame.append method is deprecated and will be removed from pandas in a future version. Use pandas.concat instead.\n",
            "  df = df.append(df_temp, ignore_index = True)\n",
            "<ipython-input-56-108931f1cf20>:23: FutureWarning: The frame.append method is deprecated and will be removed from pandas in a future version. Use pandas.concat instead.\n",
            "  df = df.append(df_temp, ignore_index = True)\n",
            "<ipython-input-56-108931f1cf20>:23: FutureWarning: The frame.append method is deprecated and will be removed from pandas in a future version. Use pandas.concat instead.\n",
            "  df = df.append(df_temp, ignore_index = True)\n",
            "<ipython-input-56-108931f1cf20>:23: FutureWarning: The frame.append method is deprecated and will be removed from pandas in a future version. Use pandas.concat instead.\n",
            "  df = df.append(df_temp, ignore_index = True)\n",
            "<ipython-input-56-108931f1cf20>:23: FutureWarning: The frame.append method is deprecated and will be removed from pandas in a future version. Use pandas.concat instead.\n",
            "  df = df.append(df_temp, ignore_index = True)\n",
            "<ipython-input-56-108931f1cf20>:23: FutureWarning: The frame.append method is deprecated and will be removed from pandas in a future version. Use pandas.concat instead.\n",
            "  df = df.append(df_temp, ignore_index = True)\n",
            "<ipython-input-56-108931f1cf20>:23: FutureWarning: The frame.append method is deprecated and will be removed from pandas in a future version. Use pandas.concat instead.\n",
            "  df = df.append(df_temp, ignore_index = True)\n",
            "<ipython-input-56-108931f1cf20>:23: FutureWarning: The frame.append method is deprecated and will be removed from pandas in a future version. Use pandas.concat instead.\n",
            "  df = df.append(df_temp, ignore_index = True)\n",
            "<ipython-input-56-108931f1cf20>:23: FutureWarning: The frame.append method is deprecated and will be removed from pandas in a future version. Use pandas.concat instead.\n",
            "  df = df.append(df_temp, ignore_index = True)\n",
            "<ipython-input-56-108931f1cf20>:23: FutureWarning: The frame.append method is deprecated and will be removed from pandas in a future version. Use pandas.concat instead.\n",
            "  df = df.append(df_temp, ignore_index = True)\n",
            "<ipython-input-56-108931f1cf20>:23: FutureWarning: The frame.append method is deprecated and will be removed from pandas in a future version. Use pandas.concat instead.\n",
            "  df = df.append(df_temp, ignore_index = True)\n",
            "<ipython-input-56-108931f1cf20>:23: FutureWarning: The frame.append method is deprecated and will be removed from pandas in a future version. Use pandas.concat instead.\n",
            "  df = df.append(df_temp, ignore_index = True)\n",
            "<ipython-input-56-108931f1cf20>:23: FutureWarning: The frame.append method is deprecated and will be removed from pandas in a future version. Use pandas.concat instead.\n",
            "  df = df.append(df_temp, ignore_index = True)\n",
            "<ipython-input-56-108931f1cf20>:23: FutureWarning: The frame.append method is deprecated and will be removed from pandas in a future version. Use pandas.concat instead.\n",
            "  df = df.append(df_temp, ignore_index = True)\n",
            "<ipython-input-56-108931f1cf20>:23: FutureWarning: The frame.append method is deprecated and will be removed from pandas in a future version. Use pandas.concat instead.\n",
            "  df = df.append(df_temp, ignore_index = True)\n",
            "<ipython-input-56-108931f1cf20>:23: FutureWarning: The frame.append method is deprecated and will be removed from pandas in a future version. Use pandas.concat instead.\n",
            "  df = df.append(df_temp, ignore_index = True)\n",
            "<ipython-input-56-108931f1cf20>:23: FutureWarning: The frame.append method is deprecated and will be removed from pandas in a future version. Use pandas.concat instead.\n",
            "  df = df.append(df_temp, ignore_index = True)\n",
            "<ipython-input-56-108931f1cf20>:23: FutureWarning: The frame.append method is deprecated and will be removed from pandas in a future version. Use pandas.concat instead.\n",
            "  df = df.append(df_temp, ignore_index = True)\n",
            "<ipython-input-56-108931f1cf20>:23: FutureWarning: The frame.append method is deprecated and will be removed from pandas in a future version. Use pandas.concat instead.\n",
            "  df = df.append(df_temp, ignore_index = True)\n",
            "<ipython-input-56-108931f1cf20>:23: FutureWarning: The frame.append method is deprecated and will be removed from pandas in a future version. Use pandas.concat instead.\n",
            "  df = df.append(df_temp, ignore_index = True)\n",
            "<ipython-input-56-108931f1cf20>:23: FutureWarning: The frame.append method is deprecated and will be removed from pandas in a future version. Use pandas.concat instead.\n",
            "  df = df.append(df_temp, ignore_index = True)\n",
            "<ipython-input-56-108931f1cf20>:23: FutureWarning: The frame.append method is deprecated and will be removed from pandas in a future version. Use pandas.concat instead.\n",
            "  df = df.append(df_temp, ignore_index = True)\n",
            "<ipython-input-56-108931f1cf20>:23: FutureWarning: The frame.append method is deprecated and will be removed from pandas in a future version. Use pandas.concat instead.\n",
            "  df = df.append(df_temp, ignore_index = True)\n",
            "<ipython-input-56-108931f1cf20>:23: FutureWarning: The frame.append method is deprecated and will be removed from pandas in a future version. Use pandas.concat instead.\n",
            "  df = df.append(df_temp, ignore_index = True)\n",
            "<ipython-input-56-108931f1cf20>:23: FutureWarning: The frame.append method is deprecated and will be removed from pandas in a future version. Use pandas.concat instead.\n",
            "  df = df.append(df_temp, ignore_index = True)\n",
            "<ipython-input-56-108931f1cf20>:23: FutureWarning: The frame.append method is deprecated and will be removed from pandas in a future version. Use pandas.concat instead.\n",
            "  df = df.append(df_temp, ignore_index = True)\n",
            "<ipython-input-56-108931f1cf20>:23: FutureWarning: The frame.append method is deprecated and will be removed from pandas in a future version. Use pandas.concat instead.\n",
            "  df = df.append(df_temp, ignore_index = True)\n",
            "<ipython-input-56-108931f1cf20>:23: FutureWarning: The frame.append method is deprecated and will be removed from pandas in a future version. Use pandas.concat instead.\n",
            "  df = df.append(df_temp, ignore_index = True)\n",
            "<ipython-input-56-108931f1cf20>:23: FutureWarning: The frame.append method is deprecated and will be removed from pandas in a future version. Use pandas.concat instead.\n",
            "  df = df.append(df_temp, ignore_index = True)\n",
            "<ipython-input-56-108931f1cf20>:23: FutureWarning: The frame.append method is deprecated and will be removed from pandas in a future version. Use pandas.concat instead.\n",
            "  df = df.append(df_temp, ignore_index = True)\n",
            "<ipython-input-56-108931f1cf20>:23: FutureWarning: The frame.append method is deprecated and will be removed from pandas in a future version. Use pandas.concat instead.\n",
            "  df = df.append(df_temp, ignore_index = True)\n",
            "<ipython-input-56-108931f1cf20>:23: FutureWarning: The frame.append method is deprecated and will be removed from pandas in a future version. Use pandas.concat instead.\n",
            "  df = df.append(df_temp, ignore_index = True)\n",
            "<ipython-input-56-108931f1cf20>:23: FutureWarning: The frame.append method is deprecated and will be removed from pandas in a future version. Use pandas.concat instead.\n",
            "  df = df.append(df_temp, ignore_index = True)\n",
            "<ipython-input-56-108931f1cf20>:23: FutureWarning: The frame.append method is deprecated and will be removed from pandas in a future version. Use pandas.concat instead.\n",
            "  df = df.append(df_temp, ignore_index = True)\n",
            "<ipython-input-56-108931f1cf20>:23: FutureWarning: The frame.append method is deprecated and will be removed from pandas in a future version. Use pandas.concat instead.\n",
            "  df = df.append(df_temp, ignore_index = True)\n",
            "<ipython-input-56-108931f1cf20>:23: FutureWarning: The frame.append method is deprecated and will be removed from pandas in a future version. Use pandas.concat instead.\n",
            "  df = df.append(df_temp, ignore_index = True)\n",
            "<ipython-input-56-108931f1cf20>:23: FutureWarning: The frame.append method is deprecated and will be removed from pandas in a future version. Use pandas.concat instead.\n",
            "  df = df.append(df_temp, ignore_index = True)\n",
            "<ipython-input-56-108931f1cf20>:23: FutureWarning: The frame.append method is deprecated and will be removed from pandas in a future version. Use pandas.concat instead.\n",
            "  df = df.append(df_temp, ignore_index = True)\n",
            "<ipython-input-56-108931f1cf20>:23: FutureWarning: The frame.append method is deprecated and will be removed from pandas in a future version. Use pandas.concat instead.\n",
            "  df = df.append(df_temp, ignore_index = True)\n",
            "<ipython-input-56-108931f1cf20>:23: FutureWarning: The frame.append method is deprecated and will be removed from pandas in a future version. Use pandas.concat instead.\n",
            "  df = df.append(df_temp, ignore_index = True)\n",
            "<ipython-input-56-108931f1cf20>:23: FutureWarning: The frame.append method is deprecated and will be removed from pandas in a future version. Use pandas.concat instead.\n",
            "  df = df.append(df_temp, ignore_index = True)\n",
            "<ipython-input-56-108931f1cf20>:23: FutureWarning: The frame.append method is deprecated and will be removed from pandas in a future version. Use pandas.concat instead.\n",
            "  df = df.append(df_temp, ignore_index = True)\n",
            "<ipython-input-56-108931f1cf20>:23: FutureWarning: The frame.append method is deprecated and will be removed from pandas in a future version. Use pandas.concat instead.\n",
            "  df = df.append(df_temp, ignore_index = True)\n",
            "<ipython-input-56-108931f1cf20>:23: FutureWarning: The frame.append method is deprecated and will be removed from pandas in a future version. Use pandas.concat instead.\n",
            "  df = df.append(df_temp, ignore_index = True)\n",
            "<ipython-input-56-108931f1cf20>:23: FutureWarning: The frame.append method is deprecated and will be removed from pandas in a future version. Use pandas.concat instead.\n",
            "  df = df.append(df_temp, ignore_index = True)\n",
            "<ipython-input-56-108931f1cf20>:23: FutureWarning: The frame.append method is deprecated and will be removed from pandas in a future version. Use pandas.concat instead.\n",
            "  df = df.append(df_temp, ignore_index = True)\n",
            "<ipython-input-56-108931f1cf20>:23: FutureWarning: The frame.append method is deprecated and will be removed from pandas in a future version. Use pandas.concat instead.\n",
            "  df = df.append(df_temp, ignore_index = True)\n",
            "<ipython-input-56-108931f1cf20>:23: FutureWarning: The frame.append method is deprecated and will be removed from pandas in a future version. Use pandas.concat instead.\n",
            "  df = df.append(df_temp, ignore_index = True)\n",
            "<ipython-input-56-108931f1cf20>:23: FutureWarning: The frame.append method is deprecated and will be removed from pandas in a future version. Use pandas.concat instead.\n",
            "  df = df.append(df_temp, ignore_index = True)\n",
            "<ipython-input-56-108931f1cf20>:23: FutureWarning: The frame.append method is deprecated and will be removed from pandas in a future version. Use pandas.concat instead.\n",
            "  df = df.append(df_temp, ignore_index = True)\n",
            "<ipython-input-56-108931f1cf20>:23: FutureWarning: The frame.append method is deprecated and will be removed from pandas in a future version. Use pandas.concat instead.\n",
            "  df = df.append(df_temp, ignore_index = True)\n",
            "<ipython-input-56-108931f1cf20>:23: FutureWarning: The frame.append method is deprecated and will be removed from pandas in a future version. Use pandas.concat instead.\n",
            "  df = df.append(df_temp, ignore_index = True)\n",
            "<ipython-input-56-108931f1cf20>:23: FutureWarning: The frame.append method is deprecated and will be removed from pandas in a future version. Use pandas.concat instead.\n",
            "  df = df.append(df_temp, ignore_index = True)\n",
            "<ipython-input-56-108931f1cf20>:23: FutureWarning: The frame.append method is deprecated and will be removed from pandas in a future version. Use pandas.concat instead.\n",
            "  df = df.append(df_temp, ignore_index = True)\n",
            "<ipython-input-56-108931f1cf20>:23: FutureWarning: The frame.append method is deprecated and will be removed from pandas in a future version. Use pandas.concat instead.\n",
            "  df = df.append(df_temp, ignore_index = True)\n",
            "<ipython-input-56-108931f1cf20>:23: FutureWarning: The frame.append method is deprecated and will be removed from pandas in a future version. Use pandas.concat instead.\n",
            "  df = df.append(df_temp, ignore_index = True)\n",
            "<ipython-input-56-108931f1cf20>:23: FutureWarning: The frame.append method is deprecated and will be removed from pandas in a future version. Use pandas.concat instead.\n",
            "  df = df.append(df_temp, ignore_index = True)\n",
            "<ipython-input-56-108931f1cf20>:23: FutureWarning: The frame.append method is deprecated and will be removed from pandas in a future version. Use pandas.concat instead.\n",
            "  df = df.append(df_temp, ignore_index = True)\n",
            "<ipython-input-56-108931f1cf20>:23: FutureWarning: The frame.append method is deprecated and will be removed from pandas in a future version. Use pandas.concat instead.\n",
            "  df = df.append(df_temp, ignore_index = True)\n",
            "<ipython-input-56-108931f1cf20>:23: FutureWarning: The frame.append method is deprecated and will be removed from pandas in a future version. Use pandas.concat instead.\n",
            "  df = df.append(df_temp, ignore_index = True)\n",
            "<ipython-input-56-108931f1cf20>:23: FutureWarning: The frame.append method is deprecated and will be removed from pandas in a future version. Use pandas.concat instead.\n",
            "  df = df.append(df_temp, ignore_index = True)\n",
            "<ipython-input-56-108931f1cf20>:23: FutureWarning: The frame.append method is deprecated and will be removed from pandas in a future version. Use pandas.concat instead.\n",
            "  df = df.append(df_temp, ignore_index = True)\n",
            "<ipython-input-56-108931f1cf20>:23: FutureWarning: The frame.append method is deprecated and will be removed from pandas in a future version. Use pandas.concat instead.\n",
            "  df = df.append(df_temp, ignore_index = True)\n",
            "<ipython-input-56-108931f1cf20>:23: FutureWarning: The frame.append method is deprecated and will be removed from pandas in a future version. Use pandas.concat instead.\n",
            "  df = df.append(df_temp, ignore_index = True)\n",
            "<ipython-input-56-108931f1cf20>:23: FutureWarning: The frame.append method is deprecated and will be removed from pandas in a future version. Use pandas.concat instead.\n",
            "  df = df.append(df_temp, ignore_index = True)\n",
            "<ipython-input-56-108931f1cf20>:23: FutureWarning: The frame.append method is deprecated and will be removed from pandas in a future version. Use pandas.concat instead.\n",
            "  df = df.append(df_temp, ignore_index = True)\n",
            "<ipython-input-56-108931f1cf20>:23: FutureWarning: The frame.append method is deprecated and will be removed from pandas in a future version. Use pandas.concat instead.\n",
            "  df = df.append(df_temp, ignore_index = True)\n",
            "<ipython-input-56-108931f1cf20>:23: FutureWarning: The frame.append method is deprecated and will be removed from pandas in a future version. Use pandas.concat instead.\n",
            "  df = df.append(df_temp, ignore_index = True)\n",
            "<ipython-input-56-108931f1cf20>:23: FutureWarning: The frame.append method is deprecated and will be removed from pandas in a future version. Use pandas.concat instead.\n",
            "  df = df.append(df_temp, ignore_index = True)\n",
            "<ipython-input-56-108931f1cf20>:23: FutureWarning: The frame.append method is deprecated and will be removed from pandas in a future version. Use pandas.concat instead.\n",
            "  df = df.append(df_temp, ignore_index = True)\n",
            "<ipython-input-56-108931f1cf20>:23: FutureWarning: The frame.append method is deprecated and will be removed from pandas in a future version. Use pandas.concat instead.\n",
            "  df = df.append(df_temp, ignore_index = True)\n",
            "<ipython-input-56-108931f1cf20>:23: FutureWarning: The frame.append method is deprecated and will be removed from pandas in a future version. Use pandas.concat instead.\n",
            "  df = df.append(df_temp, ignore_index = True)\n",
            "<ipython-input-56-108931f1cf20>:23: FutureWarning: The frame.append method is deprecated and will be removed from pandas in a future version. Use pandas.concat instead.\n",
            "  df = df.append(df_temp, ignore_index = True)\n",
            "<ipython-input-56-108931f1cf20>:23: FutureWarning: The frame.append method is deprecated and will be removed from pandas in a future version. Use pandas.concat instead.\n",
            "  df = df.append(df_temp, ignore_index = True)\n",
            "<ipython-input-56-108931f1cf20>:23: FutureWarning: The frame.append method is deprecated and will be removed from pandas in a future version. Use pandas.concat instead.\n",
            "  df = df.append(df_temp, ignore_index = True)\n",
            "<ipython-input-56-108931f1cf20>:23: FutureWarning: The frame.append method is deprecated and will be removed from pandas in a future version. Use pandas.concat instead.\n",
            "  df = df.append(df_temp, ignore_index = True)\n",
            "<ipython-input-56-108931f1cf20>:23: FutureWarning: The frame.append method is deprecated and will be removed from pandas in a future version. Use pandas.concat instead.\n",
            "  df = df.append(df_temp, ignore_index = True)\n",
            "<ipython-input-56-108931f1cf20>:23: FutureWarning: The frame.append method is deprecated and will be removed from pandas in a future version. Use pandas.concat instead.\n",
            "  df = df.append(df_temp, ignore_index = True)\n",
            "<ipython-input-56-108931f1cf20>:23: FutureWarning: The frame.append method is deprecated and will be removed from pandas in a future version. Use pandas.concat instead.\n",
            "  df = df.append(df_temp, ignore_index = True)\n",
            "<ipython-input-56-108931f1cf20>:23: FutureWarning: The frame.append method is deprecated and will be removed from pandas in a future version. Use pandas.concat instead.\n",
            "  df = df.append(df_temp, ignore_index = True)\n",
            "<ipython-input-56-108931f1cf20>:23: FutureWarning: The frame.append method is deprecated and will be removed from pandas in a future version. Use pandas.concat instead.\n",
            "  df = df.append(df_temp, ignore_index = True)\n",
            "<ipython-input-56-108931f1cf20>:23: FutureWarning: The frame.append method is deprecated and will be removed from pandas in a future version. Use pandas.concat instead.\n",
            "  df = df.append(df_temp, ignore_index = True)\n",
            "<ipython-input-56-108931f1cf20>:23: FutureWarning: The frame.append method is deprecated and will be removed from pandas in a future version. Use pandas.concat instead.\n",
            "  df = df.append(df_temp, ignore_index = True)\n",
            "<ipython-input-56-108931f1cf20>:23: FutureWarning: The frame.append method is deprecated and will be removed from pandas in a future version. Use pandas.concat instead.\n",
            "  df = df.append(df_temp, ignore_index = True)\n",
            "<ipython-input-56-108931f1cf20>:23: FutureWarning: The frame.append method is deprecated and will be removed from pandas in a future version. Use pandas.concat instead.\n",
            "  df = df.append(df_temp, ignore_index = True)\n",
            "<ipython-input-56-108931f1cf20>:23: FutureWarning: The frame.append method is deprecated and will be removed from pandas in a future version. Use pandas.concat instead.\n",
            "  df = df.append(df_temp, ignore_index = True)\n",
            "<ipython-input-56-108931f1cf20>:23: FutureWarning: The frame.append method is deprecated and will be removed from pandas in a future version. Use pandas.concat instead.\n",
            "  df = df.append(df_temp, ignore_index = True)\n",
            "<ipython-input-56-108931f1cf20>:23: FutureWarning: The frame.append method is deprecated and will be removed from pandas in a future version. Use pandas.concat instead.\n",
            "  df = df.append(df_temp, ignore_index = True)\n",
            "<ipython-input-56-108931f1cf20>:23: FutureWarning: The frame.append method is deprecated and will be removed from pandas in a future version. Use pandas.concat instead.\n",
            "  df = df.append(df_temp, ignore_index = True)\n",
            "<ipython-input-56-108931f1cf20>:23: FutureWarning: The frame.append method is deprecated and will be removed from pandas in a future version. Use pandas.concat instead.\n",
            "  df = df.append(df_temp, ignore_index = True)\n",
            "<ipython-input-56-108931f1cf20>:23: FutureWarning: The frame.append method is deprecated and will be removed from pandas in a future version. Use pandas.concat instead.\n",
            "  df = df.append(df_temp, ignore_index = True)\n",
            "<ipython-input-56-108931f1cf20>:23: FutureWarning: The frame.append method is deprecated and will be removed from pandas in a future version. Use pandas.concat instead.\n",
            "  df = df.append(df_temp, ignore_index = True)\n",
            "<ipython-input-56-108931f1cf20>:23: FutureWarning: The frame.append method is deprecated and will be removed from pandas in a future version. Use pandas.concat instead.\n",
            "  df = df.append(df_temp, ignore_index = True)\n",
            "<ipython-input-56-108931f1cf20>:23: FutureWarning: The frame.append method is deprecated and will be removed from pandas in a future version. Use pandas.concat instead.\n",
            "  df = df.append(df_temp, ignore_index = True)\n",
            "<ipython-input-56-108931f1cf20>:23: FutureWarning: The frame.append method is deprecated and will be removed from pandas in a future version. Use pandas.concat instead.\n",
            "  df = df.append(df_temp, ignore_index = True)\n",
            "<ipython-input-56-108931f1cf20>:23: FutureWarning: The frame.append method is deprecated and will be removed from pandas in a future version. Use pandas.concat instead.\n",
            "  df = df.append(df_temp, ignore_index = True)\n",
            "<ipython-input-56-108931f1cf20>:23: FutureWarning: The frame.append method is deprecated and will be removed from pandas in a future version. Use pandas.concat instead.\n",
            "  df = df.append(df_temp, ignore_index = True)\n",
            "<ipython-input-56-108931f1cf20>:23: FutureWarning: The frame.append method is deprecated and will be removed from pandas in a future version. Use pandas.concat instead.\n",
            "  df = df.append(df_temp, ignore_index = True)\n",
            "<ipython-input-56-108931f1cf20>:23: FutureWarning: The frame.append method is deprecated and will be removed from pandas in a future version. Use pandas.concat instead.\n",
            "  df = df.append(df_temp, ignore_index = True)\n",
            "<ipython-input-56-108931f1cf20>:23: FutureWarning: The frame.append method is deprecated and will be removed from pandas in a future version. Use pandas.concat instead.\n",
            "  df = df.append(df_temp, ignore_index = True)\n",
            "<ipython-input-56-108931f1cf20>:23: FutureWarning: The frame.append method is deprecated and will be removed from pandas in a future version. Use pandas.concat instead.\n",
            "  df = df.append(df_temp, ignore_index = True)\n",
            "<ipython-input-56-108931f1cf20>:23: FutureWarning: The frame.append method is deprecated and will be removed from pandas in a future version. Use pandas.concat instead.\n",
            "  df = df.append(df_temp, ignore_index = True)\n",
            "<ipython-input-56-108931f1cf20>:23: FutureWarning: The frame.append method is deprecated and will be removed from pandas in a future version. Use pandas.concat instead.\n",
            "  df = df.append(df_temp, ignore_index = True)\n",
            "<ipython-input-56-108931f1cf20>:23: FutureWarning: The frame.append method is deprecated and will be removed from pandas in a future version. Use pandas.concat instead.\n",
            "  df = df.append(df_temp, ignore_index = True)\n",
            "<ipython-input-56-108931f1cf20>:23: FutureWarning: The frame.append method is deprecated and will be removed from pandas in a future version. Use pandas.concat instead.\n",
            "  df = df.append(df_temp, ignore_index = True)\n",
            "<ipython-input-56-108931f1cf20>:23: FutureWarning: The frame.append method is deprecated and will be removed from pandas in a future version. Use pandas.concat instead.\n",
            "  df = df.append(df_temp, ignore_index = True)\n",
            "<ipython-input-56-108931f1cf20>:23: FutureWarning: The frame.append method is deprecated and will be removed from pandas in a future version. Use pandas.concat instead.\n",
            "  df = df.append(df_temp, ignore_index = True)\n",
            "<ipython-input-56-108931f1cf20>:23: FutureWarning: The frame.append method is deprecated and will be removed from pandas in a future version. Use pandas.concat instead.\n",
            "  df = df.append(df_temp, ignore_index = True)\n",
            "<ipython-input-56-108931f1cf20>:23: FutureWarning: The frame.append method is deprecated and will be removed from pandas in a future version. Use pandas.concat instead.\n",
            "  df = df.append(df_temp, ignore_index = True)\n",
            "<ipython-input-56-108931f1cf20>:23: FutureWarning: The frame.append method is deprecated and will be removed from pandas in a future version. Use pandas.concat instead.\n",
            "  df = df.append(df_temp, ignore_index = True)\n",
            "<ipython-input-56-108931f1cf20>:23: FutureWarning: The frame.append method is deprecated and will be removed from pandas in a future version. Use pandas.concat instead.\n",
            "  df = df.append(df_temp, ignore_index = True)\n",
            "<ipython-input-56-108931f1cf20>:23: FutureWarning: The frame.append method is deprecated and will be removed from pandas in a future version. Use pandas.concat instead.\n",
            "  df = df.append(df_temp, ignore_index = True)\n",
            "<ipython-input-56-108931f1cf20>:23: FutureWarning: The frame.append method is deprecated and will be removed from pandas in a future version. Use pandas.concat instead.\n",
            "  df = df.append(df_temp, ignore_index = True)\n",
            "<ipython-input-56-108931f1cf20>:23: FutureWarning: The frame.append method is deprecated and will be removed from pandas in a future version. Use pandas.concat instead.\n",
            "  df = df.append(df_temp, ignore_index = True)\n",
            "<ipython-input-56-108931f1cf20>:23: FutureWarning: The frame.append method is deprecated and will be removed from pandas in a future version. Use pandas.concat instead.\n",
            "  df = df.append(df_temp, ignore_index = True)\n",
            "<ipython-input-56-108931f1cf20>:23: FutureWarning: The frame.append method is deprecated and will be removed from pandas in a future version. Use pandas.concat instead.\n",
            "  df = df.append(df_temp, ignore_index = True)\n",
            "<ipython-input-56-108931f1cf20>:23: FutureWarning: The frame.append method is deprecated and will be removed from pandas in a future version. Use pandas.concat instead.\n",
            "  df = df.append(df_temp, ignore_index = True)\n",
            "<ipython-input-56-108931f1cf20>:23: FutureWarning: The frame.append method is deprecated and will be removed from pandas in a future version. Use pandas.concat instead.\n",
            "  df = df.append(df_temp, ignore_index = True)\n",
            "<ipython-input-56-108931f1cf20>:23: FutureWarning: The frame.append method is deprecated and will be removed from pandas in a future version. Use pandas.concat instead.\n",
            "  df = df.append(df_temp, ignore_index = True)\n",
            "<ipython-input-56-108931f1cf20>:23: FutureWarning: The frame.append method is deprecated and will be removed from pandas in a future version. Use pandas.concat instead.\n",
            "  df = df.append(df_temp, ignore_index = True)\n",
            "<ipython-input-56-108931f1cf20>:23: FutureWarning: The frame.append method is deprecated and will be removed from pandas in a future version. Use pandas.concat instead.\n",
            "  df = df.append(df_temp, ignore_index = True)\n",
            "<ipython-input-56-108931f1cf20>:23: FutureWarning: The frame.append method is deprecated and will be removed from pandas in a future version. Use pandas.concat instead.\n",
            "  df = df.append(df_temp, ignore_index = True)\n",
            "<ipython-input-56-108931f1cf20>:23: FutureWarning: The frame.append method is deprecated and will be removed from pandas in a future version. Use pandas.concat instead.\n",
            "  df = df.append(df_temp, ignore_index = True)\n",
            "<ipython-input-56-108931f1cf20>:23: FutureWarning: The frame.append method is deprecated and will be removed from pandas in a future version. Use pandas.concat instead.\n",
            "  df = df.append(df_temp, ignore_index = True)\n",
            "<ipython-input-56-108931f1cf20>:23: FutureWarning: The frame.append method is deprecated and will be removed from pandas in a future version. Use pandas.concat instead.\n",
            "  df = df.append(df_temp, ignore_index = True)\n",
            "<ipython-input-56-108931f1cf20>:23: FutureWarning: The frame.append method is deprecated and will be removed from pandas in a future version. Use pandas.concat instead.\n",
            "  df = df.append(df_temp, ignore_index = True)\n",
            "<ipython-input-56-108931f1cf20>:23: FutureWarning: The frame.append method is deprecated and will be removed from pandas in a future version. Use pandas.concat instead.\n",
            "  df = df.append(df_temp, ignore_index = True)\n",
            "<ipython-input-56-108931f1cf20>:23: FutureWarning: The frame.append method is deprecated and will be removed from pandas in a future version. Use pandas.concat instead.\n",
            "  df = df.append(df_temp, ignore_index = True)\n",
            "<ipython-input-56-108931f1cf20>:23: FutureWarning: The frame.append method is deprecated and will be removed from pandas in a future version. Use pandas.concat instead.\n",
            "  df = df.append(df_temp, ignore_index = True)\n",
            "<ipython-input-56-108931f1cf20>:23: FutureWarning: The frame.append method is deprecated and will be removed from pandas in a future version. Use pandas.concat instead.\n",
            "  df = df.append(df_temp, ignore_index = True)\n",
            "<ipython-input-56-108931f1cf20>:23: FutureWarning: The frame.append method is deprecated and will be removed from pandas in a future version. Use pandas.concat instead.\n",
            "  df = df.append(df_temp, ignore_index = True)\n",
            "<ipython-input-56-108931f1cf20>:23: FutureWarning: The frame.append method is deprecated and will be removed from pandas in a future version. Use pandas.concat instead.\n",
            "  df = df.append(df_temp, ignore_index = True)\n",
            "<ipython-input-56-108931f1cf20>:23: FutureWarning: The frame.append method is deprecated and will be removed from pandas in a future version. Use pandas.concat instead.\n",
            "  df = df.append(df_temp, ignore_index = True)\n",
            "<ipython-input-56-108931f1cf20>:23: FutureWarning: The frame.append method is deprecated and will be removed from pandas in a future version. Use pandas.concat instead.\n",
            "  df = df.append(df_temp, ignore_index = True)\n",
            "<ipython-input-56-108931f1cf20>:23: FutureWarning: The frame.append method is deprecated and will be removed from pandas in a future version. Use pandas.concat instead.\n",
            "  df = df.append(df_temp, ignore_index = True)\n",
            "<ipython-input-56-108931f1cf20>:23: FutureWarning: The frame.append method is deprecated and will be removed from pandas in a future version. Use pandas.concat instead.\n",
            "  df = df.append(df_temp, ignore_index = True)\n",
            "<ipython-input-56-108931f1cf20>:23: FutureWarning: The frame.append method is deprecated and will be removed from pandas in a future version. Use pandas.concat instead.\n",
            "  df = df.append(df_temp, ignore_index = True)\n",
            "<ipython-input-56-108931f1cf20>:23: FutureWarning: The frame.append method is deprecated and will be removed from pandas in a future version. Use pandas.concat instead.\n",
            "  df = df.append(df_temp, ignore_index = True)\n",
            "<ipython-input-56-108931f1cf20>:23: FutureWarning: The frame.append method is deprecated and will be removed from pandas in a future version. Use pandas.concat instead.\n",
            "  df = df.append(df_temp, ignore_index = True)\n",
            "<ipython-input-56-108931f1cf20>:23: FutureWarning: The frame.append method is deprecated and will be removed from pandas in a future version. Use pandas.concat instead.\n",
            "  df = df.append(df_temp, ignore_index = True)\n",
            "<ipython-input-56-108931f1cf20>:23: FutureWarning: The frame.append method is deprecated and will be removed from pandas in a future version. Use pandas.concat instead.\n",
            "  df = df.append(df_temp, ignore_index = True)\n",
            "<ipython-input-56-108931f1cf20>:23: FutureWarning: The frame.append method is deprecated and will be removed from pandas in a future version. Use pandas.concat instead.\n",
            "  df = df.append(df_temp, ignore_index = True)\n",
            "<ipython-input-56-108931f1cf20>:23: FutureWarning: The frame.append method is deprecated and will be removed from pandas in a future version. Use pandas.concat instead.\n",
            "  df = df.append(df_temp, ignore_index = True)\n",
            "<ipython-input-56-108931f1cf20>:23: FutureWarning: The frame.append method is deprecated and will be removed from pandas in a future version. Use pandas.concat instead.\n",
            "  df = df.append(df_temp, ignore_index = True)\n",
            "<ipython-input-56-108931f1cf20>:23: FutureWarning: The frame.append method is deprecated and will be removed from pandas in a future version. Use pandas.concat instead.\n",
            "  df = df.append(df_temp, ignore_index = True)\n",
            "<ipython-input-56-108931f1cf20>:23: FutureWarning: The frame.append method is deprecated and will be removed from pandas in a future version. Use pandas.concat instead.\n",
            "  df = df.append(df_temp, ignore_index = True)\n",
            "<ipython-input-56-108931f1cf20>:23: FutureWarning: The frame.append method is deprecated and will be removed from pandas in a future version. Use pandas.concat instead.\n",
            "  df = df.append(df_temp, ignore_index = True)\n",
            "<ipython-input-56-108931f1cf20>:23: FutureWarning: The frame.append method is deprecated and will be removed from pandas in a future version. Use pandas.concat instead.\n",
            "  df = df.append(df_temp, ignore_index = True)\n",
            "<ipython-input-56-108931f1cf20>:23: FutureWarning: The frame.append method is deprecated and will be removed from pandas in a future version. Use pandas.concat instead.\n",
            "  df = df.append(df_temp, ignore_index = True)\n",
            "<ipython-input-56-108931f1cf20>:23: FutureWarning: The frame.append method is deprecated and will be removed from pandas in a future version. Use pandas.concat instead.\n",
            "  df = df.append(df_temp, ignore_index = True)\n",
            "<ipython-input-56-108931f1cf20>:23: FutureWarning: The frame.append method is deprecated and will be removed from pandas in a future version. Use pandas.concat instead.\n",
            "  df = df.append(df_temp, ignore_index = True)\n",
            "<ipython-input-56-108931f1cf20>:23: FutureWarning: The frame.append method is deprecated and will be removed from pandas in a future version. Use pandas.concat instead.\n",
            "  df = df.append(df_temp, ignore_index = True)\n",
            "<ipython-input-56-108931f1cf20>:23: FutureWarning: The frame.append method is deprecated and will be removed from pandas in a future version. Use pandas.concat instead.\n",
            "  df = df.append(df_temp, ignore_index = True)\n",
            "<ipython-input-56-108931f1cf20>:23: FutureWarning: The frame.append method is deprecated and will be removed from pandas in a future version. Use pandas.concat instead.\n",
            "  df = df.append(df_temp, ignore_index = True)\n",
            "<ipython-input-56-108931f1cf20>:23: FutureWarning: The frame.append method is deprecated and will be removed from pandas in a future version. Use pandas.concat instead.\n",
            "  df = df.append(df_temp, ignore_index = True)\n",
            "<ipython-input-56-108931f1cf20>:23: FutureWarning: The frame.append method is deprecated and will be removed from pandas in a future version. Use pandas.concat instead.\n",
            "  df = df.append(df_temp, ignore_index = True)\n",
            "<ipython-input-56-108931f1cf20>:23: FutureWarning: The frame.append method is deprecated and will be removed from pandas in a future version. Use pandas.concat instead.\n",
            "  df = df.append(df_temp, ignore_index = True)\n",
            "<ipython-input-56-108931f1cf20>:23: FutureWarning: The frame.append method is deprecated and will be removed from pandas in a future version. Use pandas.concat instead.\n",
            "  df = df.append(df_temp, ignore_index = True)\n",
            "<ipython-input-56-108931f1cf20>:23: FutureWarning: The frame.append method is deprecated and will be removed from pandas in a future version. Use pandas.concat instead.\n",
            "  df = df.append(df_temp, ignore_index = True)\n",
            "<ipython-input-56-108931f1cf20>:23: FutureWarning: The frame.append method is deprecated and will be removed from pandas in a future version. Use pandas.concat instead.\n",
            "  df = df.append(df_temp, ignore_index = True)\n",
            "<ipython-input-56-108931f1cf20>:23: FutureWarning: The frame.append method is deprecated and will be removed from pandas in a future version. Use pandas.concat instead.\n",
            "  df = df.append(df_temp, ignore_index = True)\n",
            "<ipython-input-56-108931f1cf20>:23: FutureWarning: The frame.append method is deprecated and will be removed from pandas in a future version. Use pandas.concat instead.\n",
            "  df = df.append(df_temp, ignore_index = True)\n",
            "<ipython-input-56-108931f1cf20>:23: FutureWarning: The frame.append method is deprecated and will be removed from pandas in a future version. Use pandas.concat instead.\n",
            "  df = df.append(df_temp, ignore_index = True)\n",
            "<ipython-input-56-108931f1cf20>:23: FutureWarning: The frame.append method is deprecated and will be removed from pandas in a future version. Use pandas.concat instead.\n",
            "  df = df.append(df_temp, ignore_index = True)\n",
            "<ipython-input-56-108931f1cf20>:23: FutureWarning: The frame.append method is deprecated and will be removed from pandas in a future version. Use pandas.concat instead.\n",
            "  df = df.append(df_temp, ignore_index = True)\n",
            "<ipython-input-56-108931f1cf20>:23: FutureWarning: The frame.append method is deprecated and will be removed from pandas in a future version. Use pandas.concat instead.\n",
            "  df = df.append(df_temp, ignore_index = True)\n",
            "<ipython-input-56-108931f1cf20>:23: FutureWarning: The frame.append method is deprecated and will be removed from pandas in a future version. Use pandas.concat instead.\n",
            "  df = df.append(df_temp, ignore_index = True)\n",
            "<ipython-input-56-108931f1cf20>:23: FutureWarning: The frame.append method is deprecated and will be removed from pandas in a future version. Use pandas.concat instead.\n",
            "  df = df.append(df_temp, ignore_index = True)\n",
            "<ipython-input-56-108931f1cf20>:23: FutureWarning: The frame.append method is deprecated and will be removed from pandas in a future version. Use pandas.concat instead.\n",
            "  df = df.append(df_temp, ignore_index = True)\n",
            "<ipython-input-56-108931f1cf20>:23: FutureWarning: The frame.append method is deprecated and will be removed from pandas in a future version. Use pandas.concat instead.\n",
            "  df = df.append(df_temp, ignore_index = True)\n",
            "<ipython-input-56-108931f1cf20>:23: FutureWarning: The frame.append method is deprecated and will be removed from pandas in a future version. Use pandas.concat instead.\n",
            "  df = df.append(df_temp, ignore_index = True)\n",
            "<ipython-input-56-108931f1cf20>:23: FutureWarning: The frame.append method is deprecated and will be removed from pandas in a future version. Use pandas.concat instead.\n",
            "  df = df.append(df_temp, ignore_index = True)\n",
            "<ipython-input-56-108931f1cf20>:23: FutureWarning: The frame.append method is deprecated and will be removed from pandas in a future version. Use pandas.concat instead.\n",
            "  df = df.append(df_temp, ignore_index = True)\n",
            "<ipython-input-56-108931f1cf20>:23: FutureWarning: The frame.append method is deprecated and will be removed from pandas in a future version. Use pandas.concat instead.\n",
            "  df = df.append(df_temp, ignore_index = True)\n",
            "<ipython-input-56-108931f1cf20>:23: FutureWarning: The frame.append method is deprecated and will be removed from pandas in a future version. Use pandas.concat instead.\n",
            "  df = df.append(df_temp, ignore_index = True)\n",
            "<ipython-input-56-108931f1cf20>:23: FutureWarning: The frame.append method is deprecated and will be removed from pandas in a future version. Use pandas.concat instead.\n",
            "  df = df.append(df_temp, ignore_index = True)\n",
            "<ipython-input-56-108931f1cf20>:23: FutureWarning: The frame.append method is deprecated and will be removed from pandas in a future version. Use pandas.concat instead.\n",
            "  df = df.append(df_temp, ignore_index = True)\n",
            "<ipython-input-56-108931f1cf20>:23: FutureWarning: The frame.append method is deprecated and will be removed from pandas in a future version. Use pandas.concat instead.\n",
            "  df = df.append(df_temp, ignore_index = True)\n",
            "<ipython-input-56-108931f1cf20>:23: FutureWarning: The frame.append method is deprecated and will be removed from pandas in a future version. Use pandas.concat instead.\n",
            "  df = df.append(df_temp, ignore_index = True)\n",
            "<ipython-input-56-108931f1cf20>:23: FutureWarning: The frame.append method is deprecated and will be removed from pandas in a future version. Use pandas.concat instead.\n",
            "  df = df.append(df_temp, ignore_index = True)\n",
            "<ipython-input-56-108931f1cf20>:23: FutureWarning: The frame.append method is deprecated and will be removed from pandas in a future version. Use pandas.concat instead.\n",
            "  df = df.append(df_temp, ignore_index = True)\n",
            "<ipython-input-56-108931f1cf20>:23: FutureWarning: The frame.append method is deprecated and will be removed from pandas in a future version. Use pandas.concat instead.\n",
            "  df = df.append(df_temp, ignore_index = True)\n",
            "<ipython-input-56-108931f1cf20>:23: FutureWarning: The frame.append method is deprecated and will be removed from pandas in a future version. Use pandas.concat instead.\n",
            "  df = df.append(df_temp, ignore_index = True)\n",
            "<ipython-input-56-108931f1cf20>:23: FutureWarning: The frame.append method is deprecated and will be removed from pandas in a future version. Use pandas.concat instead.\n",
            "  df = df.append(df_temp, ignore_index = True)\n",
            "<ipython-input-56-108931f1cf20>:23: FutureWarning: The frame.append method is deprecated and will be removed from pandas in a future version. Use pandas.concat instead.\n",
            "  df = df.append(df_temp, ignore_index = True)\n",
            "<ipython-input-56-108931f1cf20>:23: FutureWarning: The frame.append method is deprecated and will be removed from pandas in a future version. Use pandas.concat instead.\n",
            "  df = df.append(df_temp, ignore_index = True)\n",
            "<ipython-input-56-108931f1cf20>:23: FutureWarning: The frame.append method is deprecated and will be removed from pandas in a future version. Use pandas.concat instead.\n",
            "  df = df.append(df_temp, ignore_index = True)\n",
            "<ipython-input-56-108931f1cf20>:23: FutureWarning: The frame.append method is deprecated and will be removed from pandas in a future version. Use pandas.concat instead.\n",
            "  df = df.append(df_temp, ignore_index = True)\n",
            "<ipython-input-56-108931f1cf20>:23: FutureWarning: The frame.append method is deprecated and will be removed from pandas in a future version. Use pandas.concat instead.\n",
            "  df = df.append(df_temp, ignore_index = True)\n",
            "<ipython-input-56-108931f1cf20>:23: FutureWarning: The frame.append method is deprecated and will be removed from pandas in a future version. Use pandas.concat instead.\n",
            "  df = df.append(df_temp, ignore_index = True)\n",
            "<ipython-input-56-108931f1cf20>:23: FutureWarning: The frame.append method is deprecated and will be removed from pandas in a future version. Use pandas.concat instead.\n",
            "  df = df.append(df_temp, ignore_index = True)\n",
            "<ipython-input-56-108931f1cf20>:23: FutureWarning: The frame.append method is deprecated and will be removed from pandas in a future version. Use pandas.concat instead.\n",
            "  df = df.append(df_temp, ignore_index = True)\n",
            "<ipython-input-56-108931f1cf20>:23: FutureWarning: The frame.append method is deprecated and will be removed from pandas in a future version. Use pandas.concat instead.\n",
            "  df = df.append(df_temp, ignore_index = True)\n",
            "<ipython-input-56-108931f1cf20>:23: FutureWarning: The frame.append method is deprecated and will be removed from pandas in a future version. Use pandas.concat instead.\n",
            "  df = df.append(df_temp, ignore_index = True)\n",
            "<ipython-input-56-108931f1cf20>:23: FutureWarning: The frame.append method is deprecated and will be removed from pandas in a future version. Use pandas.concat instead.\n",
            "  df = df.append(df_temp, ignore_index = True)\n",
            "<ipython-input-56-108931f1cf20>:23: FutureWarning: The frame.append method is deprecated and will be removed from pandas in a future version. Use pandas.concat instead.\n",
            "  df = df.append(df_temp, ignore_index = True)\n",
            "<ipython-input-56-108931f1cf20>:23: FutureWarning: The frame.append method is deprecated and will be removed from pandas in a future version. Use pandas.concat instead.\n",
            "  df = df.append(df_temp, ignore_index = True)\n",
            "<ipython-input-56-108931f1cf20>:23: FutureWarning: The frame.append method is deprecated and will be removed from pandas in a future version. Use pandas.concat instead.\n",
            "  df = df.append(df_temp, ignore_index = True)\n",
            "<ipython-input-56-108931f1cf20>:23: FutureWarning: The frame.append method is deprecated and will be removed from pandas in a future version. Use pandas.concat instead.\n",
            "  df = df.append(df_temp, ignore_index = True)\n",
            "<ipython-input-56-108931f1cf20>:23: FutureWarning: The frame.append method is deprecated and will be removed from pandas in a future version. Use pandas.concat instead.\n",
            "  df = df.append(df_temp, ignore_index = True)\n",
            "<ipython-input-56-108931f1cf20>:23: FutureWarning: The frame.append method is deprecated and will be removed from pandas in a future version. Use pandas.concat instead.\n",
            "  df = df.append(df_temp, ignore_index = True)\n",
            "<ipython-input-56-108931f1cf20>:23: FutureWarning: The frame.append method is deprecated and will be removed from pandas in a future version. Use pandas.concat instead.\n",
            "  df = df.append(df_temp, ignore_index = True)\n",
            "<ipython-input-56-108931f1cf20>:23: FutureWarning: The frame.append method is deprecated and will be removed from pandas in a future version. Use pandas.concat instead.\n",
            "  df = df.append(df_temp, ignore_index = True)\n",
            "<ipython-input-56-108931f1cf20>:23: FutureWarning: The frame.append method is deprecated and will be removed from pandas in a future version. Use pandas.concat instead.\n",
            "  df = df.append(df_temp, ignore_index = True)\n",
            "<ipython-input-56-108931f1cf20>:23: FutureWarning: The frame.append method is deprecated and will be removed from pandas in a future version. Use pandas.concat instead.\n",
            "  df = df.append(df_temp, ignore_index = True)\n",
            "<ipython-input-56-108931f1cf20>:23: FutureWarning: The frame.append method is deprecated and will be removed from pandas in a future version. Use pandas.concat instead.\n",
            "  df = df.append(df_temp, ignore_index = True)\n",
            "<ipython-input-56-108931f1cf20>:23: FutureWarning: The frame.append method is deprecated and will be removed from pandas in a future version. Use pandas.concat instead.\n",
            "  df = df.append(df_temp, ignore_index = True)\n",
            "<ipython-input-56-108931f1cf20>:23: FutureWarning: The frame.append method is deprecated and will be removed from pandas in a future version. Use pandas.concat instead.\n",
            "  df = df.append(df_temp, ignore_index = True)\n",
            "<ipython-input-56-108931f1cf20>:23: FutureWarning: The frame.append method is deprecated and will be removed from pandas in a future version. Use pandas.concat instead.\n",
            "  df = df.append(df_temp, ignore_index = True)\n",
            "<ipython-input-56-108931f1cf20>:23: FutureWarning: The frame.append method is deprecated and will be removed from pandas in a future version. Use pandas.concat instead.\n",
            "  df = df.append(df_temp, ignore_index = True)\n",
            "<ipython-input-56-108931f1cf20>:23: FutureWarning: The frame.append method is deprecated and will be removed from pandas in a future version. Use pandas.concat instead.\n",
            "  df = df.append(df_temp, ignore_index = True)\n",
            "<ipython-input-56-108931f1cf20>:23: FutureWarning: The frame.append method is deprecated and will be removed from pandas in a future version. Use pandas.concat instead.\n",
            "  df = df.append(df_temp, ignore_index = True)\n",
            "<ipython-input-56-108931f1cf20>:23: FutureWarning: The frame.append method is deprecated and will be removed from pandas in a future version. Use pandas.concat instead.\n",
            "  df = df.append(df_temp, ignore_index = True)\n",
            "<ipython-input-56-108931f1cf20>:23: FutureWarning: The frame.append method is deprecated and will be removed from pandas in a future version. Use pandas.concat instead.\n",
            "  df = df.append(df_temp, ignore_index = True)\n",
            "<ipython-input-56-108931f1cf20>:23: FutureWarning: The frame.append method is deprecated and will be removed from pandas in a future version. Use pandas.concat instead.\n",
            "  df = df.append(df_temp, ignore_index = True)\n",
            "<ipython-input-56-108931f1cf20>:23: FutureWarning: The frame.append method is deprecated and will be removed from pandas in a future version. Use pandas.concat instead.\n",
            "  df = df.append(df_temp, ignore_index = True)\n",
            "<ipython-input-56-108931f1cf20>:23: FutureWarning: The frame.append method is deprecated and will be removed from pandas in a future version. Use pandas.concat instead.\n",
            "  df = df.append(df_temp, ignore_index = True)\n",
            "<ipython-input-56-108931f1cf20>:23: FutureWarning: The frame.append method is deprecated and will be removed from pandas in a future version. Use pandas.concat instead.\n",
            "  df = df.append(df_temp, ignore_index = True)\n",
            "<ipython-input-56-108931f1cf20>:23: FutureWarning: The frame.append method is deprecated and will be removed from pandas in a future version. Use pandas.concat instead.\n",
            "  df = df.append(df_temp, ignore_index = True)\n",
            "<ipython-input-56-108931f1cf20>:23: FutureWarning: The frame.append method is deprecated and will be removed from pandas in a future version. Use pandas.concat instead.\n",
            "  df = df.append(df_temp, ignore_index = True)\n",
            "<ipython-input-56-108931f1cf20>:23: FutureWarning: The frame.append method is deprecated and will be removed from pandas in a future version. Use pandas.concat instead.\n",
            "  df = df.append(df_temp, ignore_index = True)\n",
            "<ipython-input-56-108931f1cf20>:23: FutureWarning: The frame.append method is deprecated and will be removed from pandas in a future version. Use pandas.concat instead.\n",
            "  df = df.append(df_temp, ignore_index = True)\n",
            "<ipython-input-56-108931f1cf20>:23: FutureWarning: The frame.append method is deprecated and will be removed from pandas in a future version. Use pandas.concat instead.\n",
            "  df = df.append(df_temp, ignore_index = True)\n",
            "<ipython-input-56-108931f1cf20>:23: FutureWarning: The frame.append method is deprecated and will be removed from pandas in a future version. Use pandas.concat instead.\n",
            "  df = df.append(df_temp, ignore_index = True)\n",
            "<ipython-input-56-108931f1cf20>:23: FutureWarning: The frame.append method is deprecated and will be removed from pandas in a future version. Use pandas.concat instead.\n",
            "  df = df.append(df_temp, ignore_index = True)\n",
            "<ipython-input-56-108931f1cf20>:23: FutureWarning: The frame.append method is deprecated and will be removed from pandas in a future version. Use pandas.concat instead.\n",
            "  df = df.append(df_temp, ignore_index = True)\n",
            "<ipython-input-56-108931f1cf20>:23: FutureWarning: The frame.append method is deprecated and will be removed from pandas in a future version. Use pandas.concat instead.\n",
            "  df = df.append(df_temp, ignore_index = True)\n",
            "<ipython-input-56-108931f1cf20>:23: FutureWarning: The frame.append method is deprecated and will be removed from pandas in a future version. Use pandas.concat instead.\n",
            "  df = df.append(df_temp, ignore_index = True)\n",
            "<ipython-input-56-108931f1cf20>:23: FutureWarning: The frame.append method is deprecated and will be removed from pandas in a future version. Use pandas.concat instead.\n",
            "  df = df.append(df_temp, ignore_index = True)\n",
            "<ipython-input-56-108931f1cf20>:23: FutureWarning: The frame.append method is deprecated and will be removed from pandas in a future version. Use pandas.concat instead.\n",
            "  df = df.append(df_temp, ignore_index = True)\n",
            "<ipython-input-56-108931f1cf20>:23: FutureWarning: The frame.append method is deprecated and will be removed from pandas in a future version. Use pandas.concat instead.\n",
            "  df = df.append(df_temp, ignore_index = True)\n",
            "<ipython-input-56-108931f1cf20>:23: FutureWarning: The frame.append method is deprecated and will be removed from pandas in a future version. Use pandas.concat instead.\n",
            "  df = df.append(df_temp, ignore_index = True)\n",
            "<ipython-input-56-108931f1cf20>:23: FutureWarning: The frame.append method is deprecated and will be removed from pandas in a future version. Use pandas.concat instead.\n",
            "  df = df.append(df_temp, ignore_index = True)\n",
            "<ipython-input-56-108931f1cf20>:23: FutureWarning: The frame.append method is deprecated and will be removed from pandas in a future version. Use pandas.concat instead.\n",
            "  df = df.append(df_temp, ignore_index = True)\n",
            "<ipython-input-56-108931f1cf20>:23: FutureWarning: The frame.append method is deprecated and will be removed from pandas in a future version. Use pandas.concat instead.\n",
            "  df = df.append(df_temp, ignore_index = True)\n",
            "<ipython-input-56-108931f1cf20>:23: FutureWarning: The frame.append method is deprecated and will be removed from pandas in a future version. Use pandas.concat instead.\n",
            "  df = df.append(df_temp, ignore_index = True)\n",
            "<ipython-input-56-108931f1cf20>:23: FutureWarning: The frame.append method is deprecated and will be removed from pandas in a future version. Use pandas.concat instead.\n",
            "  df = df.append(df_temp, ignore_index = True)\n",
            "<ipython-input-56-108931f1cf20>:23: FutureWarning: The frame.append method is deprecated and will be removed from pandas in a future version. Use pandas.concat instead.\n",
            "  df = df.append(df_temp, ignore_index = True)\n",
            "<ipython-input-56-108931f1cf20>:23: FutureWarning: The frame.append method is deprecated and will be removed from pandas in a future version. Use pandas.concat instead.\n",
            "  df = df.append(df_temp, ignore_index = True)\n",
            "<ipython-input-56-108931f1cf20>:23: FutureWarning: The frame.append method is deprecated and will be removed from pandas in a future version. Use pandas.concat instead.\n",
            "  df = df.append(df_temp, ignore_index = True)\n",
            "<ipython-input-56-108931f1cf20>:23: FutureWarning: The frame.append method is deprecated and will be removed from pandas in a future version. Use pandas.concat instead.\n",
            "  df = df.append(df_temp, ignore_index = True)\n",
            "<ipython-input-56-108931f1cf20>:23: FutureWarning: The frame.append method is deprecated and will be removed from pandas in a future version. Use pandas.concat instead.\n",
            "  df = df.append(df_temp, ignore_index = True)\n",
            "<ipython-input-56-108931f1cf20>:23: FutureWarning: The frame.append method is deprecated and will be removed from pandas in a future version. Use pandas.concat instead.\n",
            "  df = df.append(df_temp, ignore_index = True)\n",
            "<ipython-input-56-108931f1cf20>:23: FutureWarning: The frame.append method is deprecated and will be removed from pandas in a future version. Use pandas.concat instead.\n",
            "  df = df.append(df_temp, ignore_index = True)\n",
            "<ipython-input-56-108931f1cf20>:23: FutureWarning: The frame.append method is deprecated and will be removed from pandas in a future version. Use pandas.concat instead.\n",
            "  df = df.append(df_temp, ignore_index = True)\n",
            "<ipython-input-56-108931f1cf20>:23: FutureWarning: The frame.append method is deprecated and will be removed from pandas in a future version. Use pandas.concat instead.\n",
            "  df = df.append(df_temp, ignore_index = True)\n",
            "<ipython-input-56-108931f1cf20>:23: FutureWarning: The frame.append method is deprecated and will be removed from pandas in a future version. Use pandas.concat instead.\n",
            "  df = df.append(df_temp, ignore_index = True)\n",
            "<ipython-input-56-108931f1cf20>:23: FutureWarning: The frame.append method is deprecated and will be removed from pandas in a future version. Use pandas.concat instead.\n",
            "  df = df.append(df_temp, ignore_index = True)\n",
            "<ipython-input-56-108931f1cf20>:23: FutureWarning: The frame.append method is deprecated and will be removed from pandas in a future version. Use pandas.concat instead.\n",
            "  df = df.append(df_temp, ignore_index = True)\n",
            "<ipython-input-56-108931f1cf20>:23: FutureWarning: The frame.append method is deprecated and will be removed from pandas in a future version. Use pandas.concat instead.\n",
            "  df = df.append(df_temp, ignore_index = True)\n",
            "<ipython-input-56-108931f1cf20>:23: FutureWarning: The frame.append method is deprecated and will be removed from pandas in a future version. Use pandas.concat instead.\n",
            "  df = df.append(df_temp, ignore_index = True)\n",
            "<ipython-input-56-108931f1cf20>:23: FutureWarning: The frame.append method is deprecated and will be removed from pandas in a future version. Use pandas.concat instead.\n",
            "  df = df.append(df_temp, ignore_index = True)\n",
            "<ipython-input-56-108931f1cf20>:23: FutureWarning: The frame.append method is deprecated and will be removed from pandas in a future version. Use pandas.concat instead.\n",
            "  df = df.append(df_temp, ignore_index = True)\n",
            "<ipython-input-56-108931f1cf20>:23: FutureWarning: The frame.append method is deprecated and will be removed from pandas in a future version. Use pandas.concat instead.\n",
            "  df = df.append(df_temp, ignore_index = True)\n",
            "<ipython-input-56-108931f1cf20>:23: FutureWarning: The frame.append method is deprecated and will be removed from pandas in a future version. Use pandas.concat instead.\n",
            "  df = df.append(df_temp, ignore_index = True)\n",
            "<ipython-input-56-108931f1cf20>:23: FutureWarning: The frame.append method is deprecated and will be removed from pandas in a future version. Use pandas.concat instead.\n",
            "  df = df.append(df_temp, ignore_index = True)\n",
            "<ipython-input-56-108931f1cf20>:23: FutureWarning: The frame.append method is deprecated and will be removed from pandas in a future version. Use pandas.concat instead.\n",
            "  df = df.append(df_temp, ignore_index = True)\n",
            "<ipython-input-56-108931f1cf20>:23: FutureWarning: The frame.append method is deprecated and will be removed from pandas in a future version. Use pandas.concat instead.\n",
            "  df = df.append(df_temp, ignore_index = True)\n",
            "<ipython-input-56-108931f1cf20>:23: FutureWarning: The frame.append method is deprecated and will be removed from pandas in a future version. Use pandas.concat instead.\n",
            "  df = df.append(df_temp, ignore_index = True)\n",
            "<ipython-input-56-108931f1cf20>:23: FutureWarning: The frame.append method is deprecated and will be removed from pandas in a future version. Use pandas.concat instead.\n",
            "  df = df.append(df_temp, ignore_index = True)\n",
            "<ipython-input-56-108931f1cf20>:23: FutureWarning: The frame.append method is deprecated and will be removed from pandas in a future version. Use pandas.concat instead.\n",
            "  df = df.append(df_temp, ignore_index = True)\n",
            "<ipython-input-56-108931f1cf20>:23: FutureWarning: The frame.append method is deprecated and will be removed from pandas in a future version. Use pandas.concat instead.\n",
            "  df = df.append(df_temp, ignore_index = True)\n",
            "<ipython-input-56-108931f1cf20>:23: FutureWarning: The frame.append method is deprecated and will be removed from pandas in a future version. Use pandas.concat instead.\n",
            "  df = df.append(df_temp, ignore_index = True)\n",
            "<ipython-input-56-108931f1cf20>:23: FutureWarning: The frame.append method is deprecated and will be removed from pandas in a future version. Use pandas.concat instead.\n",
            "  df = df.append(df_temp, ignore_index = True)\n",
            "<ipython-input-56-108931f1cf20>:23: FutureWarning: The frame.append method is deprecated and will be removed from pandas in a future version. Use pandas.concat instead.\n",
            "  df = df.append(df_temp, ignore_index = True)\n",
            "<ipython-input-56-108931f1cf20>:23: FutureWarning: The frame.append method is deprecated and will be removed from pandas in a future version. Use pandas.concat instead.\n",
            "  df = df.append(df_temp, ignore_index = True)\n",
            "<ipython-input-56-108931f1cf20>:23: FutureWarning: The frame.append method is deprecated and will be removed from pandas in a future version. Use pandas.concat instead.\n",
            "  df = df.append(df_temp, ignore_index = True)\n",
            "<ipython-input-56-108931f1cf20>:23: FutureWarning: The frame.append method is deprecated and will be removed from pandas in a future version. Use pandas.concat instead.\n",
            "  df = df.append(df_temp, ignore_index = True)\n",
            "<ipython-input-56-108931f1cf20>:23: FutureWarning: The frame.append method is deprecated and will be removed from pandas in a future version. Use pandas.concat instead.\n",
            "  df = df.append(df_temp, ignore_index = True)\n",
            "<ipython-input-56-108931f1cf20>:23: FutureWarning: The frame.append method is deprecated and will be removed from pandas in a future version. Use pandas.concat instead.\n",
            "  df = df.append(df_temp, ignore_index = True)\n",
            "<ipython-input-56-108931f1cf20>:23: FutureWarning: The frame.append method is deprecated and will be removed from pandas in a future version. Use pandas.concat instead.\n",
            "  df = df.append(df_temp, ignore_index = True)\n",
            "<ipython-input-56-108931f1cf20>:23: FutureWarning: The frame.append method is deprecated and will be removed from pandas in a future version. Use pandas.concat instead.\n",
            "  df = df.append(df_temp, ignore_index = True)\n",
            "<ipython-input-56-108931f1cf20>:23: FutureWarning: The frame.append method is deprecated and will be removed from pandas in a future version. Use pandas.concat instead.\n",
            "  df = df.append(df_temp, ignore_index = True)\n",
            "<ipython-input-56-108931f1cf20>:23: FutureWarning: The frame.append method is deprecated and will be removed from pandas in a future version. Use pandas.concat instead.\n",
            "  df = df.append(df_temp, ignore_index = True)\n",
            "<ipython-input-56-108931f1cf20>:23: FutureWarning: The frame.append method is deprecated and will be removed from pandas in a future version. Use pandas.concat instead.\n",
            "  df = df.append(df_temp, ignore_index = True)\n",
            "<ipython-input-56-108931f1cf20>:23: FutureWarning: The frame.append method is deprecated and will be removed from pandas in a future version. Use pandas.concat instead.\n",
            "  df = df.append(df_temp, ignore_index = True)\n",
            "<ipython-input-56-108931f1cf20>:23: FutureWarning: The frame.append method is deprecated and will be removed from pandas in a future version. Use pandas.concat instead.\n",
            "  df = df.append(df_temp, ignore_index = True)\n",
            "<ipython-input-56-108931f1cf20>:23: FutureWarning: The frame.append method is deprecated and will be removed from pandas in a future version. Use pandas.concat instead.\n",
            "  df = df.append(df_temp, ignore_index = True)\n",
            "<ipython-input-56-108931f1cf20>:23: FutureWarning: The frame.append method is deprecated and will be removed from pandas in a future version. Use pandas.concat instead.\n",
            "  df = df.append(df_temp, ignore_index = True)\n",
            "<ipython-input-56-108931f1cf20>:23: FutureWarning: The frame.append method is deprecated and will be removed from pandas in a future version. Use pandas.concat instead.\n",
            "  df = df.append(df_temp, ignore_index = True)\n",
            "<ipython-input-56-108931f1cf20>:23: FutureWarning: The frame.append method is deprecated and will be removed from pandas in a future version. Use pandas.concat instead.\n",
            "  df = df.append(df_temp, ignore_index = True)\n",
            "<ipython-input-56-108931f1cf20>:23: FutureWarning: The frame.append method is deprecated and will be removed from pandas in a future version. Use pandas.concat instead.\n",
            "  df = df.append(df_temp, ignore_index = True)\n",
            "<ipython-input-56-108931f1cf20>:23: FutureWarning: The frame.append method is deprecated and will be removed from pandas in a future version. Use pandas.concat instead.\n",
            "  df = df.append(df_temp, ignore_index = True)\n",
            "<ipython-input-56-108931f1cf20>:23: FutureWarning: The frame.append method is deprecated and will be removed from pandas in a future version. Use pandas.concat instead.\n",
            "  df = df.append(df_temp, ignore_index = True)\n",
            "<ipython-input-56-108931f1cf20>:23: FutureWarning: The frame.append method is deprecated and will be removed from pandas in a future version. Use pandas.concat instead.\n",
            "  df = df.append(df_temp, ignore_index = True)\n",
            "<ipython-input-56-108931f1cf20>:23: FutureWarning: The frame.append method is deprecated and will be removed from pandas in a future version. Use pandas.concat instead.\n",
            "  df = df.append(df_temp, ignore_index = True)\n",
            "<ipython-input-56-108931f1cf20>:23: FutureWarning: The frame.append method is deprecated and will be removed from pandas in a future version. Use pandas.concat instead.\n",
            "  df = df.append(df_temp, ignore_index = True)\n",
            "<ipython-input-56-108931f1cf20>:23: FutureWarning: The frame.append method is deprecated and will be removed from pandas in a future version. Use pandas.concat instead.\n",
            "  df = df.append(df_temp, ignore_index = True)\n",
            "<ipython-input-56-108931f1cf20>:23: FutureWarning: The frame.append method is deprecated and will be removed from pandas in a future version. Use pandas.concat instead.\n",
            "  df = df.append(df_temp, ignore_index = True)\n",
            "<ipython-input-56-108931f1cf20>:23: FutureWarning: The frame.append method is deprecated and will be removed from pandas in a future version. Use pandas.concat instead.\n",
            "  df = df.append(df_temp, ignore_index = True)\n",
            "<ipython-input-56-108931f1cf20>:23: FutureWarning: The frame.append method is deprecated and will be removed from pandas in a future version. Use pandas.concat instead.\n",
            "  df = df.append(df_temp, ignore_index = True)\n",
            "<ipython-input-56-108931f1cf20>:23: FutureWarning: The frame.append method is deprecated and will be removed from pandas in a future version. Use pandas.concat instead.\n",
            "  df = df.append(df_temp, ignore_index = True)\n",
            "<ipython-input-56-108931f1cf20>:23: FutureWarning: The frame.append method is deprecated and will be removed from pandas in a future version. Use pandas.concat instead.\n",
            "  df = df.append(df_temp, ignore_index = True)\n",
            "<ipython-input-56-108931f1cf20>:23: FutureWarning: The frame.append method is deprecated and will be removed from pandas in a future version. Use pandas.concat instead.\n",
            "  df = df.append(df_temp, ignore_index = True)\n",
            "<ipython-input-56-108931f1cf20>:23: FutureWarning: The frame.append method is deprecated and will be removed from pandas in a future version. Use pandas.concat instead.\n",
            "  df = df.append(df_temp, ignore_index = True)\n",
            "<ipython-input-56-108931f1cf20>:23: FutureWarning: The frame.append method is deprecated and will be removed from pandas in a future version. Use pandas.concat instead.\n",
            "  df = df.append(df_temp, ignore_index = True)\n",
            "<ipython-input-56-108931f1cf20>:23: FutureWarning: The frame.append method is deprecated and will be removed from pandas in a future version. Use pandas.concat instead.\n",
            "  df = df.append(df_temp, ignore_index = True)\n",
            "<ipython-input-56-108931f1cf20>:23: FutureWarning: The frame.append method is deprecated and will be removed from pandas in a future version. Use pandas.concat instead.\n",
            "  df = df.append(df_temp, ignore_index = True)\n",
            "<ipython-input-56-108931f1cf20>:23: FutureWarning: The frame.append method is deprecated and will be removed from pandas in a future version. Use pandas.concat instead.\n",
            "  df = df.append(df_temp, ignore_index = True)\n",
            "<ipython-input-56-108931f1cf20>:23: FutureWarning: The frame.append method is deprecated and will be removed from pandas in a future version. Use pandas.concat instead.\n",
            "  df = df.append(df_temp, ignore_index = True)\n",
            "<ipython-input-56-108931f1cf20>:23: FutureWarning: The frame.append method is deprecated and will be removed from pandas in a future version. Use pandas.concat instead.\n",
            "  df = df.append(df_temp, ignore_index = True)\n",
            "<ipython-input-56-108931f1cf20>:23: FutureWarning: The frame.append method is deprecated and will be removed from pandas in a future version. Use pandas.concat instead.\n",
            "  df = df.append(df_temp, ignore_index = True)\n",
            "<ipython-input-56-108931f1cf20>:23: FutureWarning: The frame.append method is deprecated and will be removed from pandas in a future version. Use pandas.concat instead.\n",
            "  df = df.append(df_temp, ignore_index = True)\n",
            "<ipython-input-56-108931f1cf20>:23: FutureWarning: The frame.append method is deprecated and will be removed from pandas in a future version. Use pandas.concat instead.\n",
            "  df = df.append(df_temp, ignore_index = True)\n",
            "<ipython-input-56-108931f1cf20>:23: FutureWarning: The frame.append method is deprecated and will be removed from pandas in a future version. Use pandas.concat instead.\n",
            "  df = df.append(df_temp, ignore_index = True)\n",
            "<ipython-input-56-108931f1cf20>:23: FutureWarning: The frame.append method is deprecated and will be removed from pandas in a future version. Use pandas.concat instead.\n",
            "  df = df.append(df_temp, ignore_index = True)\n",
            "<ipython-input-56-108931f1cf20>:23: FutureWarning: The frame.append method is deprecated and will be removed from pandas in a future version. Use pandas.concat instead.\n",
            "  df = df.append(df_temp, ignore_index = True)\n",
            "<ipython-input-56-108931f1cf20>:23: FutureWarning: The frame.append method is deprecated and will be removed from pandas in a future version. Use pandas.concat instead.\n",
            "  df = df.append(df_temp, ignore_index = True)\n",
            "<ipython-input-56-108931f1cf20>:23: FutureWarning: The frame.append method is deprecated and will be removed from pandas in a future version. Use pandas.concat instead.\n",
            "  df = df.append(df_temp, ignore_index = True)\n",
            "<ipython-input-56-108931f1cf20>:23: FutureWarning: The frame.append method is deprecated and will be removed from pandas in a future version. Use pandas.concat instead.\n",
            "  df = df.append(df_temp, ignore_index = True)\n",
            "<ipython-input-56-108931f1cf20>:23: FutureWarning: The frame.append method is deprecated and will be removed from pandas in a future version. Use pandas.concat instead.\n",
            "  df = df.append(df_temp, ignore_index = True)\n",
            "<ipython-input-56-108931f1cf20>:23: FutureWarning: The frame.append method is deprecated and will be removed from pandas in a future version. Use pandas.concat instead.\n",
            "  df = df.append(df_temp, ignore_index = True)\n",
            "<ipython-input-56-108931f1cf20>:23: FutureWarning: The frame.append method is deprecated and will be removed from pandas in a future version. Use pandas.concat instead.\n",
            "  df = df.append(df_temp, ignore_index = True)\n",
            "<ipython-input-56-108931f1cf20>:23: FutureWarning: The frame.append method is deprecated and will be removed from pandas in a future version. Use pandas.concat instead.\n",
            "  df = df.append(df_temp, ignore_index = True)\n",
            "<ipython-input-56-108931f1cf20>:23: FutureWarning: The frame.append method is deprecated and will be removed from pandas in a future version. Use pandas.concat instead.\n",
            "  df = df.append(df_temp, ignore_index = True)\n",
            "<ipython-input-56-108931f1cf20>:23: FutureWarning: The frame.append method is deprecated and will be removed from pandas in a future version. Use pandas.concat instead.\n",
            "  df = df.append(df_temp, ignore_index = True)\n",
            "<ipython-input-56-108931f1cf20>:23: FutureWarning: The frame.append method is deprecated and will be removed from pandas in a future version. Use pandas.concat instead.\n",
            "  df = df.append(df_temp, ignore_index = True)\n",
            "<ipython-input-56-108931f1cf20>:23: FutureWarning: The frame.append method is deprecated and will be removed from pandas in a future version. Use pandas.concat instead.\n",
            "  df = df.append(df_temp, ignore_index = True)\n",
            "<ipython-input-56-108931f1cf20>:23: FutureWarning: The frame.append method is deprecated and will be removed from pandas in a future version. Use pandas.concat instead.\n",
            "  df = df.append(df_temp, ignore_index = True)\n",
            "<ipython-input-56-108931f1cf20>:23: FutureWarning: The frame.append method is deprecated and will be removed from pandas in a future version. Use pandas.concat instead.\n",
            "  df = df.append(df_temp, ignore_index = True)\n",
            "<ipython-input-56-108931f1cf20>:23: FutureWarning: The frame.append method is deprecated and will be removed from pandas in a future version. Use pandas.concat instead.\n",
            "  df = df.append(df_temp, ignore_index = True)\n",
            "<ipython-input-56-108931f1cf20>:23: FutureWarning: The frame.append method is deprecated and will be removed from pandas in a future version. Use pandas.concat instead.\n",
            "  df = df.append(df_temp, ignore_index = True)\n",
            "<ipython-input-56-108931f1cf20>:23: FutureWarning: The frame.append method is deprecated and will be removed from pandas in a future version. Use pandas.concat instead.\n",
            "  df = df.append(df_temp, ignore_index = True)\n",
            "<ipython-input-56-108931f1cf20>:23: FutureWarning: The frame.append method is deprecated and will be removed from pandas in a future version. Use pandas.concat instead.\n",
            "  df = df.append(df_temp, ignore_index = True)\n",
            "<ipython-input-56-108931f1cf20>:23: FutureWarning: The frame.append method is deprecated and will be removed from pandas in a future version. Use pandas.concat instead.\n",
            "  df = df.append(df_temp, ignore_index = True)\n",
            "<ipython-input-56-108931f1cf20>:23: FutureWarning: The frame.append method is deprecated and will be removed from pandas in a future version. Use pandas.concat instead.\n",
            "  df = df.append(df_temp, ignore_index = True)\n",
            "<ipython-input-56-108931f1cf20>:23: FutureWarning: The frame.append method is deprecated and will be removed from pandas in a future version. Use pandas.concat instead.\n",
            "  df = df.append(df_temp, ignore_index = True)\n",
            "<ipython-input-56-108931f1cf20>:23: FutureWarning: The frame.append method is deprecated and will be removed from pandas in a future version. Use pandas.concat instead.\n",
            "  df = df.append(df_temp, ignore_index = True)\n",
            "<ipython-input-56-108931f1cf20>:23: FutureWarning: The frame.append method is deprecated and will be removed from pandas in a future version. Use pandas.concat instead.\n",
            "  df = df.append(df_temp, ignore_index = True)\n",
            "<ipython-input-56-108931f1cf20>:23: FutureWarning: The frame.append method is deprecated and will be removed from pandas in a future version. Use pandas.concat instead.\n",
            "  df = df.append(df_temp, ignore_index = True)\n",
            "<ipython-input-56-108931f1cf20>:23: FutureWarning: The frame.append method is deprecated and will be removed from pandas in a future version. Use pandas.concat instead.\n",
            "  df = df.append(df_temp, ignore_index = True)\n",
            "<ipython-input-56-108931f1cf20>:23: FutureWarning: The frame.append method is deprecated and will be removed from pandas in a future version. Use pandas.concat instead.\n",
            "  df = df.append(df_temp, ignore_index = True)\n",
            "<ipython-input-56-108931f1cf20>:23: FutureWarning: The frame.append method is deprecated and will be removed from pandas in a future version. Use pandas.concat instead.\n",
            "  df = df.append(df_temp, ignore_index = True)\n",
            "<ipython-input-56-108931f1cf20>:23: FutureWarning: The frame.append method is deprecated and will be removed from pandas in a future version. Use pandas.concat instead.\n",
            "  df = df.append(df_temp, ignore_index = True)\n",
            "<ipython-input-56-108931f1cf20>:23: FutureWarning: The frame.append method is deprecated and will be removed from pandas in a future version. Use pandas.concat instead.\n",
            "  df = df.append(df_temp, ignore_index = True)\n",
            "<ipython-input-56-108931f1cf20>:23: FutureWarning: The frame.append method is deprecated and will be removed from pandas in a future version. Use pandas.concat instead.\n",
            "  df = df.append(df_temp, ignore_index = True)\n",
            "<ipython-input-56-108931f1cf20>:23: FutureWarning: The frame.append method is deprecated and will be removed from pandas in a future version. Use pandas.concat instead.\n",
            "  df = df.append(df_temp, ignore_index = True)\n",
            "<ipython-input-56-108931f1cf20>:23: FutureWarning: The frame.append method is deprecated and will be removed from pandas in a future version. Use pandas.concat instead.\n",
            "  df = df.append(df_temp, ignore_index = True)\n",
            "<ipython-input-56-108931f1cf20>:23: FutureWarning: The frame.append method is deprecated and will be removed from pandas in a future version. Use pandas.concat instead.\n",
            "  df = df.append(df_temp, ignore_index = True)\n",
            "<ipython-input-56-108931f1cf20>:23: FutureWarning: The frame.append method is deprecated and will be removed from pandas in a future version. Use pandas.concat instead.\n",
            "  df = df.append(df_temp, ignore_index = True)\n",
            "<ipython-input-56-108931f1cf20>:23: FutureWarning: The frame.append method is deprecated and will be removed from pandas in a future version. Use pandas.concat instead.\n",
            "  df = df.append(df_temp, ignore_index = True)\n",
            "<ipython-input-56-108931f1cf20>:23: FutureWarning: The frame.append method is deprecated and will be removed from pandas in a future version. Use pandas.concat instead.\n",
            "  df = df.append(df_temp, ignore_index = True)\n",
            "<ipython-input-56-108931f1cf20>:23: FutureWarning: The frame.append method is deprecated and will be removed from pandas in a future version. Use pandas.concat instead.\n",
            "  df = df.append(df_temp, ignore_index = True)\n",
            "<ipython-input-56-108931f1cf20>:23: FutureWarning: The frame.append method is deprecated and will be removed from pandas in a future version. Use pandas.concat instead.\n",
            "  df = df.append(df_temp, ignore_index = True)\n",
            "<ipython-input-56-108931f1cf20>:23: FutureWarning: The frame.append method is deprecated and will be removed from pandas in a future version. Use pandas.concat instead.\n",
            "  df = df.append(df_temp, ignore_index = True)\n",
            "<ipython-input-56-108931f1cf20>:23: FutureWarning: The frame.append method is deprecated and will be removed from pandas in a future version. Use pandas.concat instead.\n",
            "  df = df.append(df_temp, ignore_index = True)\n",
            "<ipython-input-56-108931f1cf20>:23: FutureWarning: The frame.append method is deprecated and will be removed from pandas in a future version. Use pandas.concat instead.\n",
            "  df = df.append(df_temp, ignore_index = True)\n",
            "<ipython-input-56-108931f1cf20>:23: FutureWarning: The frame.append method is deprecated and will be removed from pandas in a future version. Use pandas.concat instead.\n",
            "  df = df.append(df_temp, ignore_index = True)\n",
            "<ipython-input-56-108931f1cf20>:23: FutureWarning: The frame.append method is deprecated and will be removed from pandas in a future version. Use pandas.concat instead.\n",
            "  df = df.append(df_temp, ignore_index = True)\n",
            "<ipython-input-56-108931f1cf20>:23: FutureWarning: The frame.append method is deprecated and will be removed from pandas in a future version. Use pandas.concat instead.\n",
            "  df = df.append(df_temp, ignore_index = True)\n",
            "<ipython-input-56-108931f1cf20>:23: FutureWarning: The frame.append method is deprecated and will be removed from pandas in a future version. Use pandas.concat instead.\n",
            "  df = df.append(df_temp, ignore_index = True)\n",
            "<ipython-input-56-108931f1cf20>:23: FutureWarning: The frame.append method is deprecated and will be removed from pandas in a future version. Use pandas.concat instead.\n",
            "  df = df.append(df_temp, ignore_index = True)\n",
            "<ipython-input-56-108931f1cf20>:23: FutureWarning: The frame.append method is deprecated and will be removed from pandas in a future version. Use pandas.concat instead.\n",
            "  df = df.append(df_temp, ignore_index = True)\n",
            "<ipython-input-56-108931f1cf20>:23: FutureWarning: The frame.append method is deprecated and will be removed from pandas in a future version. Use pandas.concat instead.\n",
            "  df = df.append(df_temp, ignore_index = True)\n",
            "<ipython-input-56-108931f1cf20>:23: FutureWarning: The frame.append method is deprecated and will be removed from pandas in a future version. Use pandas.concat instead.\n",
            "  df = df.append(df_temp, ignore_index = True)\n",
            "<ipython-input-56-108931f1cf20>:23: FutureWarning: The frame.append method is deprecated and will be removed from pandas in a future version. Use pandas.concat instead.\n",
            "  df = df.append(df_temp, ignore_index = True)\n",
            "<ipython-input-56-108931f1cf20>:23: FutureWarning: The frame.append method is deprecated and will be removed from pandas in a future version. Use pandas.concat instead.\n",
            "  df = df.append(df_temp, ignore_index = True)\n",
            "<ipython-input-56-108931f1cf20>:23: FutureWarning: The frame.append method is deprecated and will be removed from pandas in a future version. Use pandas.concat instead.\n",
            "  df = df.append(df_temp, ignore_index = True)\n",
            "<ipython-input-56-108931f1cf20>:23: FutureWarning: The frame.append method is deprecated and will be removed from pandas in a future version. Use pandas.concat instead.\n",
            "  df = df.append(df_temp, ignore_index = True)\n",
            "<ipython-input-56-108931f1cf20>:23: FutureWarning: The frame.append method is deprecated and will be removed from pandas in a future version. Use pandas.concat instead.\n",
            "  df = df.append(df_temp, ignore_index = True)\n",
            "<ipython-input-56-108931f1cf20>:23: FutureWarning: The frame.append method is deprecated and will be removed from pandas in a future version. Use pandas.concat instead.\n",
            "  df = df.append(df_temp, ignore_index = True)\n",
            "<ipython-input-56-108931f1cf20>:23: FutureWarning: The frame.append method is deprecated and will be removed from pandas in a future version. Use pandas.concat instead.\n",
            "  df = df.append(df_temp, ignore_index = True)\n",
            "<ipython-input-56-108931f1cf20>:23: FutureWarning: The frame.append method is deprecated and will be removed from pandas in a future version. Use pandas.concat instead.\n",
            "  df = df.append(df_temp, ignore_index = True)\n",
            "<ipython-input-56-108931f1cf20>:23: FutureWarning: The frame.append method is deprecated and will be removed from pandas in a future version. Use pandas.concat instead.\n",
            "  df = df.append(df_temp, ignore_index = True)\n",
            "<ipython-input-56-108931f1cf20>:23: FutureWarning: The frame.append method is deprecated and will be removed from pandas in a future version. Use pandas.concat instead.\n",
            "  df = df.append(df_temp, ignore_index = True)\n",
            "<ipython-input-56-108931f1cf20>:23: FutureWarning: The frame.append method is deprecated and will be removed from pandas in a future version. Use pandas.concat instead.\n",
            "  df = df.append(df_temp, ignore_index = True)\n",
            "<ipython-input-56-108931f1cf20>:23: FutureWarning: The frame.append method is deprecated and will be removed from pandas in a future version. Use pandas.concat instead.\n",
            "  df = df.append(df_temp, ignore_index = True)\n",
            "<ipython-input-56-108931f1cf20>:23: FutureWarning: The frame.append method is deprecated and will be removed from pandas in a future version. Use pandas.concat instead.\n",
            "  df = df.append(df_temp, ignore_index = True)\n",
            "<ipython-input-56-108931f1cf20>:23: FutureWarning: The frame.append method is deprecated and will be removed from pandas in a future version. Use pandas.concat instead.\n",
            "  df = df.append(df_temp, ignore_index = True)\n",
            "<ipython-input-56-108931f1cf20>:23: FutureWarning: The frame.append method is deprecated and will be removed from pandas in a future version. Use pandas.concat instead.\n",
            "  df = df.append(df_temp, ignore_index = True)\n",
            "<ipython-input-56-108931f1cf20>:23: FutureWarning: The frame.append method is deprecated and will be removed from pandas in a future version. Use pandas.concat instead.\n",
            "  df = df.append(df_temp, ignore_index = True)\n",
            "<ipython-input-56-108931f1cf20>:23: FutureWarning: The frame.append method is deprecated and will be removed from pandas in a future version. Use pandas.concat instead.\n",
            "  df = df.append(df_temp, ignore_index = True)\n",
            "<ipython-input-56-108931f1cf20>:23: FutureWarning: The frame.append method is deprecated and will be removed from pandas in a future version. Use pandas.concat instead.\n",
            "  df = df.append(df_temp, ignore_index = True)\n",
            "<ipython-input-56-108931f1cf20>:23: FutureWarning: The frame.append method is deprecated and will be removed from pandas in a future version. Use pandas.concat instead.\n",
            "  df = df.append(df_temp, ignore_index = True)\n",
            "<ipython-input-56-108931f1cf20>:23: FutureWarning: The frame.append method is deprecated and will be removed from pandas in a future version. Use pandas.concat instead.\n",
            "  df = df.append(df_temp, ignore_index = True)\n",
            "<ipython-input-56-108931f1cf20>:23: FutureWarning: The frame.append method is deprecated and will be removed from pandas in a future version. Use pandas.concat instead.\n",
            "  df = df.append(df_temp, ignore_index = True)\n",
            "<ipython-input-56-108931f1cf20>:23: FutureWarning: The frame.append method is deprecated and will be removed from pandas in a future version. Use pandas.concat instead.\n",
            "  df = df.append(df_temp, ignore_index = True)\n",
            "<ipython-input-56-108931f1cf20>:23: FutureWarning: The frame.append method is deprecated and will be removed from pandas in a future version. Use pandas.concat instead.\n",
            "  df = df.append(df_temp, ignore_index = True)\n",
            "<ipython-input-56-108931f1cf20>:23: FutureWarning: The frame.append method is deprecated and will be removed from pandas in a future version. Use pandas.concat instead.\n",
            "  df = df.append(df_temp, ignore_index = True)\n",
            "<ipython-input-56-108931f1cf20>:23: FutureWarning: The frame.append method is deprecated and will be removed from pandas in a future version. Use pandas.concat instead.\n",
            "  df = df.append(df_temp, ignore_index = True)\n",
            "<ipython-input-56-108931f1cf20>:23: FutureWarning: The frame.append method is deprecated and will be removed from pandas in a future version. Use pandas.concat instead.\n",
            "  df = df.append(df_temp, ignore_index = True)\n",
            "<ipython-input-56-108931f1cf20>:23: FutureWarning: The frame.append method is deprecated and will be removed from pandas in a future version. Use pandas.concat instead.\n",
            "  df = df.append(df_temp, ignore_index = True)\n",
            "<ipython-input-56-108931f1cf20>:23: FutureWarning: The frame.append method is deprecated and will be removed from pandas in a future version. Use pandas.concat instead.\n",
            "  df = df.append(df_temp, ignore_index = True)\n",
            "<ipython-input-56-108931f1cf20>:23: FutureWarning: The frame.append method is deprecated and will be removed from pandas in a future version. Use pandas.concat instead.\n",
            "  df = df.append(df_temp, ignore_index = True)\n",
            "<ipython-input-56-108931f1cf20>:23: FutureWarning: The frame.append method is deprecated and will be removed from pandas in a future version. Use pandas.concat instead.\n",
            "  df = df.append(df_temp, ignore_index = True)\n",
            "<ipython-input-56-108931f1cf20>:23: FutureWarning: The frame.append method is deprecated and will be removed from pandas in a future version. Use pandas.concat instead.\n",
            "  df = df.append(df_temp, ignore_index = True)\n",
            "<ipython-input-56-108931f1cf20>:23: FutureWarning: The frame.append method is deprecated and will be removed from pandas in a future version. Use pandas.concat instead.\n",
            "  df = df.append(df_temp, ignore_index = True)\n",
            "<ipython-input-56-108931f1cf20>:23: FutureWarning: The frame.append method is deprecated and will be removed from pandas in a future version. Use pandas.concat instead.\n",
            "  df = df.append(df_temp, ignore_index = True)\n",
            "<ipython-input-56-108931f1cf20>:23: FutureWarning: The frame.append method is deprecated and will be removed from pandas in a future version. Use pandas.concat instead.\n",
            "  df = df.append(df_temp, ignore_index = True)\n",
            "<ipython-input-56-108931f1cf20>:23: FutureWarning: The frame.append method is deprecated and will be removed from pandas in a future version. Use pandas.concat instead.\n",
            "  df = df.append(df_temp, ignore_index = True)\n",
            "<ipython-input-56-108931f1cf20>:23: FutureWarning: The frame.append method is deprecated and will be removed from pandas in a future version. Use pandas.concat instead.\n",
            "  df = df.append(df_temp, ignore_index = True)\n",
            "<ipython-input-56-108931f1cf20>:23: FutureWarning: The frame.append method is deprecated and will be removed from pandas in a future version. Use pandas.concat instead.\n",
            "  df = df.append(df_temp, ignore_index = True)\n",
            "<ipython-input-56-108931f1cf20>:23: FutureWarning: The frame.append method is deprecated and will be removed from pandas in a future version. Use pandas.concat instead.\n",
            "  df = df.append(df_temp, ignore_index = True)\n",
            "<ipython-input-56-108931f1cf20>:23: FutureWarning: The frame.append method is deprecated and will be removed from pandas in a future version. Use pandas.concat instead.\n",
            "  df = df.append(df_temp, ignore_index = True)\n",
            "<ipython-input-56-108931f1cf20>:23: FutureWarning: The frame.append method is deprecated and will be removed from pandas in a future version. Use pandas.concat instead.\n",
            "  df = df.append(df_temp, ignore_index = True)\n",
            "<ipython-input-56-108931f1cf20>:23: FutureWarning: The frame.append method is deprecated and will be removed from pandas in a future version. Use pandas.concat instead.\n",
            "  df = df.append(df_temp, ignore_index = True)\n",
            "<ipython-input-56-108931f1cf20>:23: FutureWarning: The frame.append method is deprecated and will be removed from pandas in a future version. Use pandas.concat instead.\n",
            "  df = df.append(df_temp, ignore_index = True)\n",
            "<ipython-input-56-108931f1cf20>:23: FutureWarning: The frame.append method is deprecated and will be removed from pandas in a future version. Use pandas.concat instead.\n",
            "  df = df.append(df_temp, ignore_index = True)\n",
            "<ipython-input-56-108931f1cf20>:23: FutureWarning: The frame.append method is deprecated and will be removed from pandas in a future version. Use pandas.concat instead.\n",
            "  df = df.append(df_temp, ignore_index = True)\n",
            "<ipython-input-56-108931f1cf20>:23: FutureWarning: The frame.append method is deprecated and will be removed from pandas in a future version. Use pandas.concat instead.\n",
            "  df = df.append(df_temp, ignore_index = True)\n",
            "<ipython-input-56-108931f1cf20>:23: FutureWarning: The frame.append method is deprecated and will be removed from pandas in a future version. Use pandas.concat instead.\n",
            "  df = df.append(df_temp, ignore_index = True)\n",
            "<ipython-input-56-108931f1cf20>:23: FutureWarning: The frame.append method is deprecated and will be removed from pandas in a future version. Use pandas.concat instead.\n",
            "  df = df.append(df_temp, ignore_index = True)\n",
            "<ipython-input-56-108931f1cf20>:23: FutureWarning: The frame.append method is deprecated and will be removed from pandas in a future version. Use pandas.concat instead.\n",
            "  df = df.append(df_temp, ignore_index = True)\n",
            "<ipython-input-56-108931f1cf20>:23: FutureWarning: The frame.append method is deprecated and will be removed from pandas in a future version. Use pandas.concat instead.\n",
            "  df = df.append(df_temp, ignore_index = True)\n",
            "<ipython-input-56-108931f1cf20>:23: FutureWarning: The frame.append method is deprecated and will be removed from pandas in a future version. Use pandas.concat instead.\n",
            "  df = df.append(df_temp, ignore_index = True)\n",
            "<ipython-input-56-108931f1cf20>:23: FutureWarning: The frame.append method is deprecated and will be removed from pandas in a future version. Use pandas.concat instead.\n",
            "  df = df.append(df_temp, ignore_index = True)\n",
            "<ipython-input-56-108931f1cf20>:23: FutureWarning: The frame.append method is deprecated and will be removed from pandas in a future version. Use pandas.concat instead.\n",
            "  df = df.append(df_temp, ignore_index = True)\n",
            "<ipython-input-56-108931f1cf20>:23: FutureWarning: The frame.append method is deprecated and will be removed from pandas in a future version. Use pandas.concat instead.\n",
            "  df = df.append(df_temp, ignore_index = True)\n",
            "<ipython-input-56-108931f1cf20>:23: FutureWarning: The frame.append method is deprecated and will be removed from pandas in a future version. Use pandas.concat instead.\n",
            "  df = df.append(df_temp, ignore_index = True)\n",
            "<ipython-input-56-108931f1cf20>:23: FutureWarning: The frame.append method is deprecated and will be removed from pandas in a future version. Use pandas.concat instead.\n",
            "  df = df.append(df_temp, ignore_index = True)\n",
            "<ipython-input-56-108931f1cf20>:23: FutureWarning: The frame.append method is deprecated and will be removed from pandas in a future version. Use pandas.concat instead.\n",
            "  df = df.append(df_temp, ignore_index = True)\n",
            "<ipython-input-56-108931f1cf20>:23: FutureWarning: The frame.append method is deprecated and will be removed from pandas in a future version. Use pandas.concat instead.\n",
            "  df = df.append(df_temp, ignore_index = True)\n",
            "<ipython-input-56-108931f1cf20>:23: FutureWarning: The frame.append method is deprecated and will be removed from pandas in a future version. Use pandas.concat instead.\n",
            "  df = df.append(df_temp, ignore_index = True)\n",
            "<ipython-input-56-108931f1cf20>:23: FutureWarning: The frame.append method is deprecated and will be removed from pandas in a future version. Use pandas.concat instead.\n",
            "  df = df.append(df_temp, ignore_index = True)\n",
            "<ipython-input-56-108931f1cf20>:23: FutureWarning: The frame.append method is deprecated and will be removed from pandas in a future version. Use pandas.concat instead.\n",
            "  df = df.append(df_temp, ignore_index = True)\n",
            "<ipython-input-56-108931f1cf20>:23: FutureWarning: The frame.append method is deprecated and will be removed from pandas in a future version. Use pandas.concat instead.\n",
            "  df = df.append(df_temp, ignore_index = True)\n",
            "<ipython-input-56-108931f1cf20>:23: FutureWarning: The frame.append method is deprecated and will be removed from pandas in a future version. Use pandas.concat instead.\n",
            "  df = df.append(df_temp, ignore_index = True)\n",
            "<ipython-input-56-108931f1cf20>:23: FutureWarning: The frame.append method is deprecated and will be removed from pandas in a future version. Use pandas.concat instead.\n",
            "  df = df.append(df_temp, ignore_index = True)\n",
            "<ipython-input-56-108931f1cf20>:23: FutureWarning: The frame.append method is deprecated and will be removed from pandas in a future version. Use pandas.concat instead.\n",
            "  df = df.append(df_temp, ignore_index = True)\n",
            "<ipython-input-56-108931f1cf20>:23: FutureWarning: The frame.append method is deprecated and will be removed from pandas in a future version. Use pandas.concat instead.\n",
            "  df = df.append(df_temp, ignore_index = True)\n",
            "<ipython-input-56-108931f1cf20>:23: FutureWarning: The frame.append method is deprecated and will be removed from pandas in a future version. Use pandas.concat instead.\n",
            "  df = df.append(df_temp, ignore_index = True)\n",
            "<ipython-input-56-108931f1cf20>:23: FutureWarning: The frame.append method is deprecated and will be removed from pandas in a future version. Use pandas.concat instead.\n",
            "  df = df.append(df_temp, ignore_index = True)\n",
            "<ipython-input-56-108931f1cf20>:23: FutureWarning: The frame.append method is deprecated and will be removed from pandas in a future version. Use pandas.concat instead.\n",
            "  df = df.append(df_temp, ignore_index = True)\n",
            "<ipython-input-56-108931f1cf20>:23: FutureWarning: The frame.append method is deprecated and will be removed from pandas in a future version. Use pandas.concat instead.\n",
            "  df = df.append(df_temp, ignore_index = True)\n",
            "<ipython-input-56-108931f1cf20>:23: FutureWarning: The frame.append method is deprecated and will be removed from pandas in a future version. Use pandas.concat instead.\n",
            "  df = df.append(df_temp, ignore_index = True)\n",
            "<ipython-input-56-108931f1cf20>:23: FutureWarning: The frame.append method is deprecated and will be removed from pandas in a future version. Use pandas.concat instead.\n",
            "  df = df.append(df_temp, ignore_index = True)\n",
            "<ipython-input-56-108931f1cf20>:23: FutureWarning: The frame.append method is deprecated and will be removed from pandas in a future version. Use pandas.concat instead.\n",
            "  df = df.append(df_temp, ignore_index = True)\n",
            "<ipython-input-56-108931f1cf20>:23: FutureWarning: The frame.append method is deprecated and will be removed from pandas in a future version. Use pandas.concat instead.\n",
            "  df = df.append(df_temp, ignore_index = True)\n",
            "<ipython-input-56-108931f1cf20>:23: FutureWarning: The frame.append method is deprecated and will be removed from pandas in a future version. Use pandas.concat instead.\n",
            "  df = df.append(df_temp, ignore_index = True)\n",
            "<ipython-input-56-108931f1cf20>:23: FutureWarning: The frame.append method is deprecated and will be removed from pandas in a future version. Use pandas.concat instead.\n",
            "  df = df.append(df_temp, ignore_index = True)\n",
            "<ipython-input-56-108931f1cf20>:23: FutureWarning: The frame.append method is deprecated and will be removed from pandas in a future version. Use pandas.concat instead.\n",
            "  df = df.append(df_temp, ignore_index = True)\n",
            "<ipython-input-56-108931f1cf20>:23: FutureWarning: The frame.append method is deprecated and will be removed from pandas in a future version. Use pandas.concat instead.\n",
            "  df = df.append(df_temp, ignore_index = True)\n",
            "<ipython-input-56-108931f1cf20>:23: FutureWarning: The frame.append method is deprecated and will be removed from pandas in a future version. Use pandas.concat instead.\n",
            "  df = df.append(df_temp, ignore_index = True)\n",
            "<ipython-input-56-108931f1cf20>:23: FutureWarning: The frame.append method is deprecated and will be removed from pandas in a future version. Use pandas.concat instead.\n",
            "  df = df.append(df_temp, ignore_index = True)\n",
            "<ipython-input-56-108931f1cf20>:23: FutureWarning: The frame.append method is deprecated and will be removed from pandas in a future version. Use pandas.concat instead.\n",
            "  df = df.append(df_temp, ignore_index = True)\n",
            "<ipython-input-56-108931f1cf20>:23: FutureWarning: The frame.append method is deprecated and will be removed from pandas in a future version. Use pandas.concat instead.\n",
            "  df = df.append(df_temp, ignore_index = True)\n",
            "<ipython-input-56-108931f1cf20>:23: FutureWarning: The frame.append method is deprecated and will be removed from pandas in a future version. Use pandas.concat instead.\n",
            "  df = df.append(df_temp, ignore_index = True)\n",
            "<ipython-input-56-108931f1cf20>:23: FutureWarning: The frame.append method is deprecated and will be removed from pandas in a future version. Use pandas.concat instead.\n",
            "  df = df.append(df_temp, ignore_index = True)\n",
            "<ipython-input-56-108931f1cf20>:23: FutureWarning: The frame.append method is deprecated and will be removed from pandas in a future version. Use pandas.concat instead.\n",
            "  df = df.append(df_temp, ignore_index = True)\n",
            "<ipython-input-56-108931f1cf20>:23: FutureWarning: The frame.append method is deprecated and will be removed from pandas in a future version. Use pandas.concat instead.\n",
            "  df = df.append(df_temp, ignore_index = True)\n",
            "<ipython-input-56-108931f1cf20>:23: FutureWarning: The frame.append method is deprecated and will be removed from pandas in a future version. Use pandas.concat instead.\n",
            "  df = df.append(df_temp, ignore_index = True)\n",
            "<ipython-input-56-108931f1cf20>:23: FutureWarning: The frame.append method is deprecated and will be removed from pandas in a future version. Use pandas.concat instead.\n",
            "  df = df.append(df_temp, ignore_index = True)\n",
            "<ipython-input-56-108931f1cf20>:23: FutureWarning: The frame.append method is deprecated and will be removed from pandas in a future version. Use pandas.concat instead.\n",
            "  df = df.append(df_temp, ignore_index = True)\n",
            "<ipython-input-56-108931f1cf20>:23: FutureWarning: The frame.append method is deprecated and will be removed from pandas in a future version. Use pandas.concat instead.\n",
            "  df = df.append(df_temp, ignore_index = True)\n",
            "<ipython-input-56-108931f1cf20>:23: FutureWarning: The frame.append method is deprecated and will be removed from pandas in a future version. Use pandas.concat instead.\n",
            "  df = df.append(df_temp, ignore_index = True)\n",
            "<ipython-input-56-108931f1cf20>:23: FutureWarning: The frame.append method is deprecated and will be removed from pandas in a future version. Use pandas.concat instead.\n",
            "  df = df.append(df_temp, ignore_index = True)\n",
            "<ipython-input-56-108931f1cf20>:23: FutureWarning: The frame.append method is deprecated and will be removed from pandas in a future version. Use pandas.concat instead.\n",
            "  df = df.append(df_temp, ignore_index = True)\n",
            "<ipython-input-56-108931f1cf20>:23: FutureWarning: The frame.append method is deprecated and will be removed from pandas in a future version. Use pandas.concat instead.\n",
            "  df = df.append(df_temp, ignore_index = True)\n",
            "<ipython-input-56-108931f1cf20>:23: FutureWarning: The frame.append method is deprecated and will be removed from pandas in a future version. Use pandas.concat instead.\n",
            "  df = df.append(df_temp, ignore_index = True)\n",
            "<ipython-input-56-108931f1cf20>:23: FutureWarning: The frame.append method is deprecated and will be removed from pandas in a future version. Use pandas.concat instead.\n",
            "  df = df.append(df_temp, ignore_index = True)\n",
            "<ipython-input-56-108931f1cf20>:23: FutureWarning: The frame.append method is deprecated and will be removed from pandas in a future version. Use pandas.concat instead.\n",
            "  df = df.append(df_temp, ignore_index = True)\n",
            "<ipython-input-56-108931f1cf20>:23: FutureWarning: The frame.append method is deprecated and will be removed from pandas in a future version. Use pandas.concat instead.\n",
            "  df = df.append(df_temp, ignore_index = True)\n",
            "<ipython-input-56-108931f1cf20>:23: FutureWarning: The frame.append method is deprecated and will be removed from pandas in a future version. Use pandas.concat instead.\n",
            "  df = df.append(df_temp, ignore_index = True)\n",
            "<ipython-input-56-108931f1cf20>:23: FutureWarning: The frame.append method is deprecated and will be removed from pandas in a future version. Use pandas.concat instead.\n",
            "  df = df.append(df_temp, ignore_index = True)\n",
            "<ipython-input-56-108931f1cf20>:23: FutureWarning: The frame.append method is deprecated and will be removed from pandas in a future version. Use pandas.concat instead.\n",
            "  df = df.append(df_temp, ignore_index = True)\n",
            "<ipython-input-56-108931f1cf20>:23: FutureWarning: The frame.append method is deprecated and will be removed from pandas in a future version. Use pandas.concat instead.\n",
            "  df = df.append(df_temp, ignore_index = True)\n",
            "<ipython-input-56-108931f1cf20>:23: FutureWarning: The frame.append method is deprecated and will be removed from pandas in a future version. Use pandas.concat instead.\n",
            "  df = df.append(df_temp, ignore_index = True)\n",
            "<ipython-input-56-108931f1cf20>:23: FutureWarning: The frame.append method is deprecated and will be removed from pandas in a future version. Use pandas.concat instead.\n",
            "  df = df.append(df_temp, ignore_index = True)\n",
            "<ipython-input-56-108931f1cf20>:23: FutureWarning: The frame.append method is deprecated and will be removed from pandas in a future version. Use pandas.concat instead.\n",
            "  df = df.append(df_temp, ignore_index = True)\n",
            "<ipython-input-56-108931f1cf20>:23: FutureWarning: The frame.append method is deprecated and will be removed from pandas in a future version. Use pandas.concat instead.\n",
            "  df = df.append(df_temp, ignore_index = True)\n",
            "<ipython-input-56-108931f1cf20>:23: FutureWarning: The frame.append method is deprecated and will be removed from pandas in a future version. Use pandas.concat instead.\n",
            "  df = df.append(df_temp, ignore_index = True)\n",
            "<ipython-input-56-108931f1cf20>:23: FutureWarning: The frame.append method is deprecated and will be removed from pandas in a future version. Use pandas.concat instead.\n",
            "  df = df.append(df_temp, ignore_index = True)\n",
            "<ipython-input-56-108931f1cf20>:23: FutureWarning: The frame.append method is deprecated and will be removed from pandas in a future version. Use pandas.concat instead.\n",
            "  df = df.append(df_temp, ignore_index = True)\n",
            "<ipython-input-56-108931f1cf20>:23: FutureWarning: The frame.append method is deprecated and will be removed from pandas in a future version. Use pandas.concat instead.\n",
            "  df = df.append(df_temp, ignore_index = True)\n",
            "<ipython-input-56-108931f1cf20>:23: FutureWarning: The frame.append method is deprecated and will be removed from pandas in a future version. Use pandas.concat instead.\n",
            "  df = df.append(df_temp, ignore_index = True)\n",
            "<ipython-input-56-108931f1cf20>:23: FutureWarning: The frame.append method is deprecated and will be removed from pandas in a future version. Use pandas.concat instead.\n",
            "  df = df.append(df_temp, ignore_index = True)\n",
            "<ipython-input-56-108931f1cf20>:23: FutureWarning: The frame.append method is deprecated and will be removed from pandas in a future version. Use pandas.concat instead.\n",
            "  df = df.append(df_temp, ignore_index = True)\n",
            "<ipython-input-56-108931f1cf20>:23: FutureWarning: The frame.append method is deprecated and will be removed from pandas in a future version. Use pandas.concat instead.\n",
            "  df = df.append(df_temp, ignore_index = True)\n",
            "<ipython-input-56-108931f1cf20>:23: FutureWarning: The frame.append method is deprecated and will be removed from pandas in a future version. Use pandas.concat instead.\n",
            "  df = df.append(df_temp, ignore_index = True)\n",
            "<ipython-input-56-108931f1cf20>:23: FutureWarning: The frame.append method is deprecated and will be removed from pandas in a future version. Use pandas.concat instead.\n",
            "  df = df.append(df_temp, ignore_index = True)\n",
            "<ipython-input-56-108931f1cf20>:23: FutureWarning: The frame.append method is deprecated and will be removed from pandas in a future version. Use pandas.concat instead.\n",
            "  df = df.append(df_temp, ignore_index = True)\n",
            "<ipython-input-56-108931f1cf20>:23: FutureWarning: The frame.append method is deprecated and will be removed from pandas in a future version. Use pandas.concat instead.\n",
            "  df = df.append(df_temp, ignore_index = True)\n",
            "<ipython-input-56-108931f1cf20>:23: FutureWarning: The frame.append method is deprecated and will be removed from pandas in a future version. Use pandas.concat instead.\n",
            "  df = df.append(df_temp, ignore_index = True)\n",
            "<ipython-input-56-108931f1cf20>:23: FutureWarning: The frame.append method is deprecated and will be removed from pandas in a future version. Use pandas.concat instead.\n",
            "  df = df.append(df_temp, ignore_index = True)\n",
            "<ipython-input-56-108931f1cf20>:23: FutureWarning: The frame.append method is deprecated and will be removed from pandas in a future version. Use pandas.concat instead.\n",
            "  df = df.append(df_temp, ignore_index = True)\n",
            "<ipython-input-56-108931f1cf20>:23: FutureWarning: The frame.append method is deprecated and will be removed from pandas in a future version. Use pandas.concat instead.\n",
            "  df = df.append(df_temp, ignore_index = True)\n",
            "<ipython-input-56-108931f1cf20>:23: FutureWarning: The frame.append method is deprecated and will be removed from pandas in a future version. Use pandas.concat instead.\n",
            "  df = df.append(df_temp, ignore_index = True)\n",
            "<ipython-input-56-108931f1cf20>:23: FutureWarning: The frame.append method is deprecated and will be removed from pandas in a future version. Use pandas.concat instead.\n",
            "  df = df.append(df_temp, ignore_index = True)\n",
            "<ipython-input-56-108931f1cf20>:23: FutureWarning: The frame.append method is deprecated and will be removed from pandas in a future version. Use pandas.concat instead.\n",
            "  df = df.append(df_temp, ignore_index = True)\n",
            "<ipython-input-56-108931f1cf20>:23: FutureWarning: The frame.append method is deprecated and will be removed from pandas in a future version. Use pandas.concat instead.\n",
            "  df = df.append(df_temp, ignore_index = True)\n",
            "<ipython-input-56-108931f1cf20>:23: FutureWarning: The frame.append method is deprecated and will be removed from pandas in a future version. Use pandas.concat instead.\n",
            "  df = df.append(df_temp, ignore_index = True)\n",
            "<ipython-input-56-108931f1cf20>:23: FutureWarning: The frame.append method is deprecated and will be removed from pandas in a future version. Use pandas.concat instead.\n",
            "  df = df.append(df_temp, ignore_index = True)\n",
            "<ipython-input-56-108931f1cf20>:23: FutureWarning: The frame.append method is deprecated and will be removed from pandas in a future version. Use pandas.concat instead.\n",
            "  df = df.append(df_temp, ignore_index = True)\n",
            "<ipython-input-56-108931f1cf20>:23: FutureWarning: The frame.append method is deprecated and will be removed from pandas in a future version. Use pandas.concat instead.\n",
            "  df = df.append(df_temp, ignore_index = True)\n",
            "<ipython-input-56-108931f1cf20>:23: FutureWarning: The frame.append method is deprecated and will be removed from pandas in a future version. Use pandas.concat instead.\n",
            "  df = df.append(df_temp, ignore_index = True)\n",
            "<ipython-input-56-108931f1cf20>:23: FutureWarning: The frame.append method is deprecated and will be removed from pandas in a future version. Use pandas.concat instead.\n",
            "  df = df.append(df_temp, ignore_index = True)\n",
            "<ipython-input-56-108931f1cf20>:23: FutureWarning: The frame.append method is deprecated and will be removed from pandas in a future version. Use pandas.concat instead.\n",
            "  df = df.append(df_temp, ignore_index = True)\n",
            "<ipython-input-56-108931f1cf20>:23: FutureWarning: The frame.append method is deprecated and will be removed from pandas in a future version. Use pandas.concat instead.\n",
            "  df = df.append(df_temp, ignore_index = True)\n",
            "<ipython-input-56-108931f1cf20>:23: FutureWarning: The frame.append method is deprecated and will be removed from pandas in a future version. Use pandas.concat instead.\n",
            "  df = df.append(df_temp, ignore_index = True)\n",
            "<ipython-input-56-108931f1cf20>:23: FutureWarning: The frame.append method is deprecated and will be removed from pandas in a future version. Use pandas.concat instead.\n",
            "  df = df.append(df_temp, ignore_index = True)\n",
            "<ipython-input-56-108931f1cf20>:23: FutureWarning: The frame.append method is deprecated and will be removed from pandas in a future version. Use pandas.concat instead.\n",
            "  df = df.append(df_temp, ignore_index = True)\n",
            "<ipython-input-56-108931f1cf20>:23: FutureWarning: The frame.append method is deprecated and will be removed from pandas in a future version. Use pandas.concat instead.\n",
            "  df = df.append(df_temp, ignore_index = True)\n",
            "<ipython-input-56-108931f1cf20>:23: FutureWarning: The frame.append method is deprecated and will be removed from pandas in a future version. Use pandas.concat instead.\n",
            "  df = df.append(df_temp, ignore_index = True)\n",
            "<ipython-input-56-108931f1cf20>:23: FutureWarning: The frame.append method is deprecated and will be removed from pandas in a future version. Use pandas.concat instead.\n",
            "  df = df.append(df_temp, ignore_index = True)\n",
            "<ipython-input-56-108931f1cf20>:23: FutureWarning: The frame.append method is deprecated and will be removed from pandas in a future version. Use pandas.concat instead.\n",
            "  df = df.append(df_temp, ignore_index = True)\n",
            "<ipython-input-56-108931f1cf20>:23: FutureWarning: The frame.append method is deprecated and will be removed from pandas in a future version. Use pandas.concat instead.\n",
            "  df = df.append(df_temp, ignore_index = True)\n",
            "<ipython-input-56-108931f1cf20>:23: FutureWarning: The frame.append method is deprecated and will be removed from pandas in a future version. Use pandas.concat instead.\n",
            "  df = df.append(df_temp, ignore_index = True)\n",
            "<ipython-input-56-108931f1cf20>:23: FutureWarning: The frame.append method is deprecated and will be removed from pandas in a future version. Use pandas.concat instead.\n",
            "  df = df.append(df_temp, ignore_index = True)\n",
            "<ipython-input-56-108931f1cf20>:23: FutureWarning: The frame.append method is deprecated and will be removed from pandas in a future version. Use pandas.concat instead.\n",
            "  df = df.append(df_temp, ignore_index = True)\n",
            "<ipython-input-56-108931f1cf20>:23: FutureWarning: The frame.append method is deprecated and will be removed from pandas in a future version. Use pandas.concat instead.\n",
            "  df = df.append(df_temp, ignore_index = True)\n",
            "<ipython-input-56-108931f1cf20>:23: FutureWarning: The frame.append method is deprecated and will be removed from pandas in a future version. Use pandas.concat instead.\n",
            "  df = df.append(df_temp, ignore_index = True)\n",
            "<ipython-input-56-108931f1cf20>:23: FutureWarning: The frame.append method is deprecated and will be removed from pandas in a future version. Use pandas.concat instead.\n",
            "  df = df.append(df_temp, ignore_index = True)\n",
            "<ipython-input-56-108931f1cf20>:23: FutureWarning: The frame.append method is deprecated and will be removed from pandas in a future version. Use pandas.concat instead.\n",
            "  df = df.append(df_temp, ignore_index = True)\n",
            "<ipython-input-56-108931f1cf20>:23: FutureWarning: The frame.append method is deprecated and will be removed from pandas in a future version. Use pandas.concat instead.\n",
            "  df = df.append(df_temp, ignore_index = True)\n",
            "<ipython-input-56-108931f1cf20>:23: FutureWarning: The frame.append method is deprecated and will be removed from pandas in a future version. Use pandas.concat instead.\n",
            "  df = df.append(df_temp, ignore_index = True)\n",
            "<ipython-input-56-108931f1cf20>:23: FutureWarning: The frame.append method is deprecated and will be removed from pandas in a future version. Use pandas.concat instead.\n",
            "  df = df.append(df_temp, ignore_index = True)\n",
            "<ipython-input-56-108931f1cf20>:23: FutureWarning: The frame.append method is deprecated and will be removed from pandas in a future version. Use pandas.concat instead.\n",
            "  df = df.append(df_temp, ignore_index = True)\n",
            "<ipython-input-56-108931f1cf20>:23: FutureWarning: The frame.append method is deprecated and will be removed from pandas in a future version. Use pandas.concat instead.\n",
            "  df = df.append(df_temp, ignore_index = True)\n",
            "<ipython-input-56-108931f1cf20>:23: FutureWarning: The frame.append method is deprecated and will be removed from pandas in a future version. Use pandas.concat instead.\n",
            "  df = df.append(df_temp, ignore_index = True)\n",
            "<ipython-input-56-108931f1cf20>:23: FutureWarning: The frame.append method is deprecated and will be removed from pandas in a future version. Use pandas.concat instead.\n",
            "  df = df.append(df_temp, ignore_index = True)\n",
            "<ipython-input-56-108931f1cf20>:23: FutureWarning: The frame.append method is deprecated and will be removed from pandas in a future version. Use pandas.concat instead.\n",
            "  df = df.append(df_temp, ignore_index = True)\n",
            "<ipython-input-56-108931f1cf20>:23: FutureWarning: The frame.append method is deprecated and will be removed from pandas in a future version. Use pandas.concat instead.\n",
            "  df = df.append(df_temp, ignore_index = True)\n",
            "<ipython-input-56-108931f1cf20>:23: FutureWarning: The frame.append method is deprecated and will be removed from pandas in a future version. Use pandas.concat instead.\n",
            "  df = df.append(df_temp, ignore_index = True)\n",
            "<ipython-input-56-108931f1cf20>:23: FutureWarning: The frame.append method is deprecated and will be removed from pandas in a future version. Use pandas.concat instead.\n",
            "  df = df.append(df_temp, ignore_index = True)\n",
            "<ipython-input-56-108931f1cf20>:23: FutureWarning: The frame.append method is deprecated and will be removed from pandas in a future version. Use pandas.concat instead.\n",
            "  df = df.append(df_temp, ignore_index = True)\n",
            "<ipython-input-56-108931f1cf20>:23: FutureWarning: The frame.append method is deprecated and will be removed from pandas in a future version. Use pandas.concat instead.\n",
            "  df = df.append(df_temp, ignore_index = True)\n",
            "<ipython-input-56-108931f1cf20>:23: FutureWarning: The frame.append method is deprecated and will be removed from pandas in a future version. Use pandas.concat instead.\n",
            "  df = df.append(df_temp, ignore_index = True)\n",
            "<ipython-input-56-108931f1cf20>:23: FutureWarning: The frame.append method is deprecated and will be removed from pandas in a future version. Use pandas.concat instead.\n",
            "  df = df.append(df_temp, ignore_index = True)\n",
            "<ipython-input-56-108931f1cf20>:23: FutureWarning: The frame.append method is deprecated and will be removed from pandas in a future version. Use pandas.concat instead.\n",
            "  df = df.append(df_temp, ignore_index = True)\n",
            "<ipython-input-56-108931f1cf20>:23: FutureWarning: The frame.append method is deprecated and will be removed from pandas in a future version. Use pandas.concat instead.\n",
            "  df = df.append(df_temp, ignore_index = True)\n",
            "<ipython-input-56-108931f1cf20>:23: FutureWarning: The frame.append method is deprecated and will be removed from pandas in a future version. Use pandas.concat instead.\n",
            "  df = df.append(df_temp, ignore_index = True)\n",
            "<ipython-input-56-108931f1cf20>:23: FutureWarning: The frame.append method is deprecated and will be removed from pandas in a future version. Use pandas.concat instead.\n",
            "  df = df.append(df_temp, ignore_index = True)\n",
            "<ipython-input-56-108931f1cf20>:23: FutureWarning: The frame.append method is deprecated and will be removed from pandas in a future version. Use pandas.concat instead.\n",
            "  df = df.append(df_temp, ignore_index = True)\n",
            "<ipython-input-56-108931f1cf20>:23: FutureWarning: The frame.append method is deprecated and will be removed from pandas in a future version. Use pandas.concat instead.\n",
            "  df = df.append(df_temp, ignore_index = True)\n",
            "<ipython-input-56-108931f1cf20>:23: FutureWarning: The frame.append method is deprecated and will be removed from pandas in a future version. Use pandas.concat instead.\n",
            "  df = df.append(df_temp, ignore_index = True)\n",
            "<ipython-input-56-108931f1cf20>:23: FutureWarning: The frame.append method is deprecated and will be removed from pandas in a future version. Use pandas.concat instead.\n",
            "  df = df.append(df_temp, ignore_index = True)\n",
            "<ipython-input-56-108931f1cf20>:23: FutureWarning: The frame.append method is deprecated and will be removed from pandas in a future version. Use pandas.concat instead.\n",
            "  df = df.append(df_temp, ignore_index = True)\n",
            "<ipython-input-56-108931f1cf20>:23: FutureWarning: The frame.append method is deprecated and will be removed from pandas in a future version. Use pandas.concat instead.\n",
            "  df = df.append(df_temp, ignore_index = True)\n",
            "<ipython-input-56-108931f1cf20>:23: FutureWarning: The frame.append method is deprecated and will be removed from pandas in a future version. Use pandas.concat instead.\n",
            "  df = df.append(df_temp, ignore_index = True)\n",
            "<ipython-input-56-108931f1cf20>:23: FutureWarning: The frame.append method is deprecated and will be removed from pandas in a future version. Use pandas.concat instead.\n",
            "  df = df.append(df_temp, ignore_index = True)\n",
            "<ipython-input-56-108931f1cf20>:23: FutureWarning: The frame.append method is deprecated and will be removed from pandas in a future version. Use pandas.concat instead.\n",
            "  df = df.append(df_temp, ignore_index = True)\n",
            "<ipython-input-56-108931f1cf20>:23: FutureWarning: The frame.append method is deprecated and will be removed from pandas in a future version. Use pandas.concat instead.\n",
            "  df = df.append(df_temp, ignore_index = True)\n",
            "<ipython-input-56-108931f1cf20>:23: FutureWarning: The frame.append method is deprecated and will be removed from pandas in a future version. Use pandas.concat instead.\n",
            "  df = df.append(df_temp, ignore_index = True)\n",
            "<ipython-input-56-108931f1cf20>:23: FutureWarning: The frame.append method is deprecated and will be removed from pandas in a future version. Use pandas.concat instead.\n",
            "  df = df.append(df_temp, ignore_index = True)\n",
            "<ipython-input-56-108931f1cf20>:23: FutureWarning: The frame.append method is deprecated and will be removed from pandas in a future version. Use pandas.concat instead.\n",
            "  df = df.append(df_temp, ignore_index = True)\n",
            "<ipython-input-56-108931f1cf20>:23: FutureWarning: The frame.append method is deprecated and will be removed from pandas in a future version. Use pandas.concat instead.\n",
            "  df = df.append(df_temp, ignore_index = True)\n",
            "<ipython-input-56-108931f1cf20>:23: FutureWarning: The frame.append method is deprecated and will be removed from pandas in a future version. Use pandas.concat instead.\n",
            "  df = df.append(df_temp, ignore_index = True)\n",
            "<ipython-input-56-108931f1cf20>:23: FutureWarning: The frame.append method is deprecated and will be removed from pandas in a future version. Use pandas.concat instead.\n",
            "  df = df.append(df_temp, ignore_index = True)\n",
            "<ipython-input-56-108931f1cf20>:23: FutureWarning: The frame.append method is deprecated and will be removed from pandas in a future version. Use pandas.concat instead.\n",
            "  df = df.append(df_temp, ignore_index = True)\n",
            "<ipython-input-56-108931f1cf20>:23: FutureWarning: The frame.append method is deprecated and will be removed from pandas in a future version. Use pandas.concat instead.\n",
            "  df = df.append(df_temp, ignore_index = True)\n",
            "<ipython-input-56-108931f1cf20>:23: FutureWarning: The frame.append method is deprecated and will be removed from pandas in a future version. Use pandas.concat instead.\n",
            "  df = df.append(df_temp, ignore_index = True)\n",
            "<ipython-input-56-108931f1cf20>:23: FutureWarning: The frame.append method is deprecated and will be removed from pandas in a future version. Use pandas.concat instead.\n",
            "  df = df.append(df_temp, ignore_index = True)\n",
            "<ipython-input-56-108931f1cf20>:23: FutureWarning: The frame.append method is deprecated and will be removed from pandas in a future version. Use pandas.concat instead.\n",
            "  df = df.append(df_temp, ignore_index = True)\n",
            "<ipython-input-56-108931f1cf20>:23: FutureWarning: The frame.append method is deprecated and will be removed from pandas in a future version. Use pandas.concat instead.\n",
            "  df = df.append(df_temp, ignore_index = True)\n",
            "<ipython-input-56-108931f1cf20>:23: FutureWarning: The frame.append method is deprecated and will be removed from pandas in a future version. Use pandas.concat instead.\n",
            "  df = df.append(df_temp, ignore_index = True)\n",
            "<ipython-input-56-108931f1cf20>:23: FutureWarning: The frame.append method is deprecated and will be removed from pandas in a future version. Use pandas.concat instead.\n",
            "  df = df.append(df_temp, ignore_index = True)\n",
            "<ipython-input-56-108931f1cf20>:23: FutureWarning: The frame.append method is deprecated and will be removed from pandas in a future version. Use pandas.concat instead.\n",
            "  df = df.append(df_temp, ignore_index = True)\n",
            "<ipython-input-56-108931f1cf20>:23: FutureWarning: The frame.append method is deprecated and will be removed from pandas in a future version. Use pandas.concat instead.\n",
            "  df = df.append(df_temp, ignore_index = True)\n",
            "<ipython-input-56-108931f1cf20>:23: FutureWarning: The frame.append method is deprecated and will be removed from pandas in a future version. Use pandas.concat instead.\n",
            "  df = df.append(df_temp, ignore_index = True)\n",
            "<ipython-input-56-108931f1cf20>:23: FutureWarning: The frame.append method is deprecated and will be removed from pandas in a future version. Use pandas.concat instead.\n",
            "  df = df.append(df_temp, ignore_index = True)\n",
            "<ipython-input-56-108931f1cf20>:23: FutureWarning: The frame.append method is deprecated and will be removed from pandas in a future version. Use pandas.concat instead.\n",
            "  df = df.append(df_temp, ignore_index = True)\n",
            "<ipython-input-56-108931f1cf20>:23: FutureWarning: The frame.append method is deprecated and will be removed from pandas in a future version. Use pandas.concat instead.\n",
            "  df = df.append(df_temp, ignore_index = True)\n",
            "<ipython-input-56-108931f1cf20>:23: FutureWarning: The frame.append method is deprecated and will be removed from pandas in a future version. Use pandas.concat instead.\n",
            "  df = df.append(df_temp, ignore_index = True)\n",
            "<ipython-input-56-108931f1cf20>:23: FutureWarning: The frame.append method is deprecated and will be removed from pandas in a future version. Use pandas.concat instead.\n",
            "  df = df.append(df_temp, ignore_index = True)\n",
            "<ipython-input-56-108931f1cf20>:23: FutureWarning: The frame.append method is deprecated and will be removed from pandas in a future version. Use pandas.concat instead.\n",
            "  df = df.append(df_temp, ignore_index = True)\n",
            "<ipython-input-56-108931f1cf20>:23: FutureWarning: The frame.append method is deprecated and will be removed from pandas in a future version. Use pandas.concat instead.\n",
            "  df = df.append(df_temp, ignore_index = True)\n",
            "<ipython-input-56-108931f1cf20>:23: FutureWarning: The frame.append method is deprecated and will be removed from pandas in a future version. Use pandas.concat instead.\n",
            "  df = df.append(df_temp, ignore_index = True)\n",
            "<ipython-input-56-108931f1cf20>:23: FutureWarning: The frame.append method is deprecated and will be removed from pandas in a future version. Use pandas.concat instead.\n",
            "  df = df.append(df_temp, ignore_index = True)\n",
            "<ipython-input-56-108931f1cf20>:23: FutureWarning: The frame.append method is deprecated and will be removed from pandas in a future version. Use pandas.concat instead.\n",
            "  df = df.append(df_temp, ignore_index = True)\n",
            "<ipython-input-56-108931f1cf20>:23: FutureWarning: The frame.append method is deprecated and will be removed from pandas in a future version. Use pandas.concat instead.\n",
            "  df = df.append(df_temp, ignore_index = True)\n",
            "<ipython-input-56-108931f1cf20>:23: FutureWarning: The frame.append method is deprecated and will be removed from pandas in a future version. Use pandas.concat instead.\n",
            "  df = df.append(df_temp, ignore_index = True)\n",
            "<ipython-input-56-108931f1cf20>:23: FutureWarning: The frame.append method is deprecated and will be removed from pandas in a future version. Use pandas.concat instead.\n",
            "  df = df.append(df_temp, ignore_index = True)\n",
            "<ipython-input-56-108931f1cf20>:23: FutureWarning: The frame.append method is deprecated and will be removed from pandas in a future version. Use pandas.concat instead.\n",
            "  df = df.append(df_temp, ignore_index = True)\n",
            "<ipython-input-56-108931f1cf20>:23: FutureWarning: The frame.append method is deprecated and will be removed from pandas in a future version. Use pandas.concat instead.\n",
            "  df = df.append(df_temp, ignore_index = True)\n",
            "<ipython-input-56-108931f1cf20>:23: FutureWarning: The frame.append method is deprecated and will be removed from pandas in a future version. Use pandas.concat instead.\n",
            "  df = df.append(df_temp, ignore_index = True)\n",
            "<ipython-input-56-108931f1cf20>:23: FutureWarning: The frame.append method is deprecated and will be removed from pandas in a future version. Use pandas.concat instead.\n",
            "  df = df.append(df_temp, ignore_index = True)\n",
            "<ipython-input-56-108931f1cf20>:23: FutureWarning: The frame.append method is deprecated and will be removed from pandas in a future version. Use pandas.concat instead.\n",
            "  df = df.append(df_temp, ignore_index = True)\n",
            "<ipython-input-56-108931f1cf20>:23: FutureWarning: The frame.append method is deprecated and will be removed from pandas in a future version. Use pandas.concat instead.\n",
            "  df = df.append(df_temp, ignore_index = True)\n",
            "<ipython-input-56-108931f1cf20>:23: FutureWarning: The frame.append method is deprecated and will be removed from pandas in a future version. Use pandas.concat instead.\n",
            "  df = df.append(df_temp, ignore_index = True)\n",
            "<ipython-input-56-108931f1cf20>:23: FutureWarning: The frame.append method is deprecated and will be removed from pandas in a future version. Use pandas.concat instead.\n",
            "  df = df.append(df_temp, ignore_index = True)\n",
            "<ipython-input-56-108931f1cf20>:23: FutureWarning: The frame.append method is deprecated and will be removed from pandas in a future version. Use pandas.concat instead.\n",
            "  df = df.append(df_temp, ignore_index = True)\n",
            "<ipython-input-56-108931f1cf20>:23: FutureWarning: The frame.append method is deprecated and will be removed from pandas in a future version. Use pandas.concat instead.\n",
            "  df = df.append(df_temp, ignore_index = True)\n",
            "<ipython-input-56-108931f1cf20>:23: FutureWarning: The frame.append method is deprecated and will be removed from pandas in a future version. Use pandas.concat instead.\n",
            "  df = df.append(df_temp, ignore_index = True)\n",
            "<ipython-input-56-108931f1cf20>:23: FutureWarning: The frame.append method is deprecated and will be removed from pandas in a future version. Use pandas.concat instead.\n",
            "  df = df.append(df_temp, ignore_index = True)\n",
            "<ipython-input-56-108931f1cf20>:23: FutureWarning: The frame.append method is deprecated and will be removed from pandas in a future version. Use pandas.concat instead.\n",
            "  df = df.append(df_temp, ignore_index = True)\n",
            "<ipython-input-56-108931f1cf20>:23: FutureWarning: The frame.append method is deprecated and will be removed from pandas in a future version. Use pandas.concat instead.\n",
            "  df = df.append(df_temp, ignore_index = True)\n",
            "<ipython-input-56-108931f1cf20>:23: FutureWarning: The frame.append method is deprecated and will be removed from pandas in a future version. Use pandas.concat instead.\n",
            "  df = df.append(df_temp, ignore_index = True)\n",
            "<ipython-input-56-108931f1cf20>:23: FutureWarning: The frame.append method is deprecated and will be removed from pandas in a future version. Use pandas.concat instead.\n",
            "  df = df.append(df_temp, ignore_index = True)\n",
            "<ipython-input-56-108931f1cf20>:23: FutureWarning: The frame.append method is deprecated and will be removed from pandas in a future version. Use pandas.concat instead.\n",
            "  df = df.append(df_temp, ignore_index = True)\n",
            "<ipython-input-56-108931f1cf20>:23: FutureWarning: The frame.append method is deprecated and will be removed from pandas in a future version. Use pandas.concat instead.\n",
            "  df = df.append(df_temp, ignore_index = True)\n",
            "<ipython-input-56-108931f1cf20>:23: FutureWarning: The frame.append method is deprecated and will be removed from pandas in a future version. Use pandas.concat instead.\n",
            "  df = df.append(df_temp, ignore_index = True)\n",
            "<ipython-input-56-108931f1cf20>:23: FutureWarning: The frame.append method is deprecated and will be removed from pandas in a future version. Use pandas.concat instead.\n",
            "  df = df.append(df_temp, ignore_index = True)\n",
            "<ipython-input-56-108931f1cf20>:23: FutureWarning: The frame.append method is deprecated and will be removed from pandas in a future version. Use pandas.concat instead.\n",
            "  df = df.append(df_temp, ignore_index = True)\n",
            "<ipython-input-56-108931f1cf20>:23: FutureWarning: The frame.append method is deprecated and will be removed from pandas in a future version. Use pandas.concat instead.\n",
            "  df = df.append(df_temp, ignore_index = True)\n",
            "<ipython-input-56-108931f1cf20>:23: FutureWarning: The frame.append method is deprecated and will be removed from pandas in a future version. Use pandas.concat instead.\n",
            "  df = df.append(df_temp, ignore_index = True)\n",
            "<ipython-input-56-108931f1cf20>:23: FutureWarning: The frame.append method is deprecated and will be removed from pandas in a future version. Use pandas.concat instead.\n",
            "  df = df.append(df_temp, ignore_index = True)\n",
            "<ipython-input-56-108931f1cf20>:23: FutureWarning: The frame.append method is deprecated and will be removed from pandas in a future version. Use pandas.concat instead.\n",
            "  df = df.append(df_temp, ignore_index = True)\n",
            "<ipython-input-56-108931f1cf20>:23: FutureWarning: The frame.append method is deprecated and will be removed from pandas in a future version. Use pandas.concat instead.\n",
            "  df = df.append(df_temp, ignore_index = True)\n",
            "<ipython-input-56-108931f1cf20>:23: FutureWarning: The frame.append method is deprecated and will be removed from pandas in a future version. Use pandas.concat instead.\n",
            "  df = df.append(df_temp, ignore_index = True)\n",
            "<ipython-input-56-108931f1cf20>:23: FutureWarning: The frame.append method is deprecated and will be removed from pandas in a future version. Use pandas.concat instead.\n",
            "  df = df.append(df_temp, ignore_index = True)\n",
            "<ipython-input-56-108931f1cf20>:23: FutureWarning: The frame.append method is deprecated and will be removed from pandas in a future version. Use pandas.concat instead.\n",
            "  df = df.append(df_temp, ignore_index = True)\n",
            "<ipython-input-56-108931f1cf20>:23: FutureWarning: The frame.append method is deprecated and will be removed from pandas in a future version. Use pandas.concat instead.\n",
            "  df = df.append(df_temp, ignore_index = True)\n",
            "<ipython-input-56-108931f1cf20>:23: FutureWarning: The frame.append method is deprecated and will be removed from pandas in a future version. Use pandas.concat instead.\n",
            "  df = df.append(df_temp, ignore_index = True)\n",
            "<ipython-input-56-108931f1cf20>:23: FutureWarning: The frame.append method is deprecated and will be removed from pandas in a future version. Use pandas.concat instead.\n",
            "  df = df.append(df_temp, ignore_index = True)\n",
            "<ipython-input-56-108931f1cf20>:23: FutureWarning: The frame.append method is deprecated and will be removed from pandas in a future version. Use pandas.concat instead.\n",
            "  df = df.append(df_temp, ignore_index = True)\n",
            "<ipython-input-56-108931f1cf20>:23: FutureWarning: The frame.append method is deprecated and will be removed from pandas in a future version. Use pandas.concat instead.\n",
            "  df = df.append(df_temp, ignore_index = True)\n",
            "<ipython-input-56-108931f1cf20>:23: FutureWarning: The frame.append method is deprecated and will be removed from pandas in a future version. Use pandas.concat instead.\n",
            "  df = df.append(df_temp, ignore_index = True)\n",
            "<ipython-input-56-108931f1cf20>:23: FutureWarning: The frame.append method is deprecated and will be removed from pandas in a future version. Use pandas.concat instead.\n",
            "  df = df.append(df_temp, ignore_index = True)\n",
            "<ipython-input-56-108931f1cf20>:23: FutureWarning: The frame.append method is deprecated and will be removed from pandas in a future version. Use pandas.concat instead.\n",
            "  df = df.append(df_temp, ignore_index = True)\n",
            "<ipython-input-56-108931f1cf20>:23: FutureWarning: The frame.append method is deprecated and will be removed from pandas in a future version. Use pandas.concat instead.\n",
            "  df = df.append(df_temp, ignore_index = True)\n",
            "<ipython-input-56-108931f1cf20>:23: FutureWarning: The frame.append method is deprecated and will be removed from pandas in a future version. Use pandas.concat instead.\n",
            "  df = df.append(df_temp, ignore_index = True)\n",
            "<ipython-input-56-108931f1cf20>:23: FutureWarning: The frame.append method is deprecated and will be removed from pandas in a future version. Use pandas.concat instead.\n",
            "  df = df.append(df_temp, ignore_index = True)\n",
            "<ipython-input-56-108931f1cf20>:23: FutureWarning: The frame.append method is deprecated and will be removed from pandas in a future version. Use pandas.concat instead.\n",
            "  df = df.append(df_temp, ignore_index = True)\n",
            "<ipython-input-56-108931f1cf20>:23: FutureWarning: The frame.append method is deprecated and will be removed from pandas in a future version. Use pandas.concat instead.\n",
            "  df = df.append(df_temp, ignore_index = True)\n",
            "<ipython-input-56-108931f1cf20>:23: FutureWarning: The frame.append method is deprecated and will be removed from pandas in a future version. Use pandas.concat instead.\n",
            "  df = df.append(df_temp, ignore_index = True)\n",
            "<ipython-input-56-108931f1cf20>:23: FutureWarning: The frame.append method is deprecated and will be removed from pandas in a future version. Use pandas.concat instead.\n",
            "  df = df.append(df_temp, ignore_index = True)\n",
            "<ipython-input-56-108931f1cf20>:23: FutureWarning: The frame.append method is deprecated and will be removed from pandas in a future version. Use pandas.concat instead.\n",
            "  df = df.append(df_temp, ignore_index = True)\n",
            "<ipython-input-56-108931f1cf20>:23: FutureWarning: The frame.append method is deprecated and will be removed from pandas in a future version. Use pandas.concat instead.\n",
            "  df = df.append(df_temp, ignore_index = True)\n",
            "<ipython-input-56-108931f1cf20>:23: FutureWarning: The frame.append method is deprecated and will be removed from pandas in a future version. Use pandas.concat instead.\n",
            "  df = df.append(df_temp, ignore_index = True)\n",
            "<ipython-input-56-108931f1cf20>:23: FutureWarning: The frame.append method is deprecated and will be removed from pandas in a future version. Use pandas.concat instead.\n",
            "  df = df.append(df_temp, ignore_index = True)\n",
            "<ipython-input-56-108931f1cf20>:23: FutureWarning: The frame.append method is deprecated and will be removed from pandas in a future version. Use pandas.concat instead.\n",
            "  df = df.append(df_temp, ignore_index = True)\n",
            "<ipython-input-56-108931f1cf20>:23: FutureWarning: The frame.append method is deprecated and will be removed from pandas in a future version. Use pandas.concat instead.\n",
            "  df = df.append(df_temp, ignore_index = True)\n",
            "<ipython-input-56-108931f1cf20>:23: FutureWarning: The frame.append method is deprecated and will be removed from pandas in a future version. Use pandas.concat instead.\n",
            "  df = df.append(df_temp, ignore_index = True)\n",
            "<ipython-input-56-108931f1cf20>:23: FutureWarning: The frame.append method is deprecated and will be removed from pandas in a future version. Use pandas.concat instead.\n",
            "  df = df.append(df_temp, ignore_index = True)\n",
            "<ipython-input-56-108931f1cf20>:23: FutureWarning: The frame.append method is deprecated and will be removed from pandas in a future version. Use pandas.concat instead.\n",
            "  df = df.append(df_temp, ignore_index = True)\n",
            "<ipython-input-56-108931f1cf20>:23: FutureWarning: The frame.append method is deprecated and will be removed from pandas in a future version. Use pandas.concat instead.\n",
            "  df = df.append(df_temp, ignore_index = True)\n",
            "<ipython-input-56-108931f1cf20>:23: FutureWarning: The frame.append method is deprecated and will be removed from pandas in a future version. Use pandas.concat instead.\n",
            "  df = df.append(df_temp, ignore_index = True)\n",
            "<ipython-input-56-108931f1cf20>:23: FutureWarning: The frame.append method is deprecated and will be removed from pandas in a future version. Use pandas.concat instead.\n",
            "  df = df.append(df_temp, ignore_index = True)\n",
            "<ipython-input-56-108931f1cf20>:23: FutureWarning: The frame.append method is deprecated and will be removed from pandas in a future version. Use pandas.concat instead.\n",
            "  df = df.append(df_temp, ignore_index = True)\n",
            "<ipython-input-56-108931f1cf20>:23: FutureWarning: The frame.append method is deprecated and will be removed from pandas in a future version. Use pandas.concat instead.\n",
            "  df = df.append(df_temp, ignore_index = True)\n",
            "<ipython-input-56-108931f1cf20>:23: FutureWarning: The frame.append method is deprecated and will be removed from pandas in a future version. Use pandas.concat instead.\n",
            "  df = df.append(df_temp, ignore_index = True)\n",
            "<ipython-input-56-108931f1cf20>:23: FutureWarning: The frame.append method is deprecated and will be removed from pandas in a future version. Use pandas.concat instead.\n",
            "  df = df.append(df_temp, ignore_index = True)\n",
            "<ipython-input-56-108931f1cf20>:23: FutureWarning: The frame.append method is deprecated and will be removed from pandas in a future version. Use pandas.concat instead.\n",
            "  df = df.append(df_temp, ignore_index = True)\n",
            "<ipython-input-56-108931f1cf20>:23: FutureWarning: The frame.append method is deprecated and will be removed from pandas in a future version. Use pandas.concat instead.\n",
            "  df = df.append(df_temp, ignore_index = True)\n",
            "<ipython-input-56-108931f1cf20>:23: FutureWarning: The frame.append method is deprecated and will be removed from pandas in a future version. Use pandas.concat instead.\n",
            "  df = df.append(df_temp, ignore_index = True)\n",
            "<ipython-input-56-108931f1cf20>:23: FutureWarning: The frame.append method is deprecated and will be removed from pandas in a future version. Use pandas.concat instead.\n",
            "  df = df.append(df_temp, ignore_index = True)\n",
            "<ipython-input-56-108931f1cf20>:23: FutureWarning: The frame.append method is deprecated and will be removed from pandas in a future version. Use pandas.concat instead.\n",
            "  df = df.append(df_temp, ignore_index = True)\n",
            "<ipython-input-56-108931f1cf20>:23: FutureWarning: The frame.append method is deprecated and will be removed from pandas in a future version. Use pandas.concat instead.\n",
            "  df = df.append(df_temp, ignore_index = True)\n",
            "<ipython-input-56-108931f1cf20>:23: FutureWarning: The frame.append method is deprecated and will be removed from pandas in a future version. Use pandas.concat instead.\n",
            "  df = df.append(df_temp, ignore_index = True)\n",
            "<ipython-input-56-108931f1cf20>:23: FutureWarning: The frame.append method is deprecated and will be removed from pandas in a future version. Use pandas.concat instead.\n",
            "  df = df.append(df_temp, ignore_index = True)\n",
            "<ipython-input-56-108931f1cf20>:23: FutureWarning: The frame.append method is deprecated and will be removed from pandas in a future version. Use pandas.concat instead.\n",
            "  df = df.append(df_temp, ignore_index = True)\n",
            "<ipython-input-56-108931f1cf20>:23: FutureWarning: The frame.append method is deprecated and will be removed from pandas in a future version. Use pandas.concat instead.\n",
            "  df = df.append(df_temp, ignore_index = True)\n",
            "<ipython-input-56-108931f1cf20>:23: FutureWarning: The frame.append method is deprecated and will be removed from pandas in a future version. Use pandas.concat instead.\n",
            "  df = df.append(df_temp, ignore_index = True)\n",
            "<ipython-input-56-108931f1cf20>:23: FutureWarning: The frame.append method is deprecated and will be removed from pandas in a future version. Use pandas.concat instead.\n",
            "  df = df.append(df_temp, ignore_index = True)\n",
            "<ipython-input-56-108931f1cf20>:23: FutureWarning: The frame.append method is deprecated and will be removed from pandas in a future version. Use pandas.concat instead.\n",
            "  df = df.append(df_temp, ignore_index = True)\n",
            "<ipython-input-56-108931f1cf20>:23: FutureWarning: The frame.append method is deprecated and will be removed from pandas in a future version. Use pandas.concat instead.\n",
            "  df = df.append(df_temp, ignore_index = True)\n",
            "<ipython-input-56-108931f1cf20>:23: FutureWarning: The frame.append method is deprecated and will be removed from pandas in a future version. Use pandas.concat instead.\n",
            "  df = df.append(df_temp, ignore_index = True)\n",
            "<ipython-input-56-108931f1cf20>:23: FutureWarning: The frame.append method is deprecated and will be removed from pandas in a future version. Use pandas.concat instead.\n",
            "  df = df.append(df_temp, ignore_index = True)\n",
            "<ipython-input-56-108931f1cf20>:23: FutureWarning: The frame.append method is deprecated and will be removed from pandas in a future version. Use pandas.concat instead.\n",
            "  df = df.append(df_temp, ignore_index = True)\n",
            "<ipython-input-56-108931f1cf20>:23: FutureWarning: The frame.append method is deprecated and will be removed from pandas in a future version. Use pandas.concat instead.\n",
            "  df = df.append(df_temp, ignore_index = True)\n",
            "<ipython-input-56-108931f1cf20>:23: FutureWarning: The frame.append method is deprecated and will be removed from pandas in a future version. Use pandas.concat instead.\n",
            "  df = df.append(df_temp, ignore_index = True)\n",
            "<ipython-input-56-108931f1cf20>:23: FutureWarning: The frame.append method is deprecated and will be removed from pandas in a future version. Use pandas.concat instead.\n",
            "  df = df.append(df_temp, ignore_index = True)\n",
            "<ipython-input-56-108931f1cf20>:23: FutureWarning: The frame.append method is deprecated and will be removed from pandas in a future version. Use pandas.concat instead.\n",
            "  df = df.append(df_temp, ignore_index = True)\n",
            "<ipython-input-56-108931f1cf20>:23: FutureWarning: The frame.append method is deprecated and will be removed from pandas in a future version. Use pandas.concat instead.\n",
            "  df = df.append(df_temp, ignore_index = True)\n",
            "<ipython-input-56-108931f1cf20>:23: FutureWarning: The frame.append method is deprecated and will be removed from pandas in a future version. Use pandas.concat instead.\n",
            "  df = df.append(df_temp, ignore_index = True)\n",
            "<ipython-input-56-108931f1cf20>:23: FutureWarning: The frame.append method is deprecated and will be removed from pandas in a future version. Use pandas.concat instead.\n",
            "  df = df.append(df_temp, ignore_index = True)\n",
            "<ipython-input-56-108931f1cf20>:23: FutureWarning: The frame.append method is deprecated and will be removed from pandas in a future version. Use pandas.concat instead.\n",
            "  df = df.append(df_temp, ignore_index = True)\n",
            "<ipython-input-56-108931f1cf20>:23: FutureWarning: The frame.append method is deprecated and will be removed from pandas in a future version. Use pandas.concat instead.\n",
            "  df = df.append(df_temp, ignore_index = True)\n",
            "<ipython-input-56-108931f1cf20>:23: FutureWarning: The frame.append method is deprecated and will be removed from pandas in a future version. Use pandas.concat instead.\n",
            "  df = df.append(df_temp, ignore_index = True)\n",
            "<ipython-input-56-108931f1cf20>:23: FutureWarning: The frame.append method is deprecated and will be removed from pandas in a future version. Use pandas.concat instead.\n",
            "  df = df.append(df_temp, ignore_index = True)\n",
            "<ipython-input-56-108931f1cf20>:23: FutureWarning: The frame.append method is deprecated and will be removed from pandas in a future version. Use pandas.concat instead.\n",
            "  df = df.append(df_temp, ignore_index = True)\n",
            "<ipython-input-56-108931f1cf20>:23: FutureWarning: The frame.append method is deprecated and will be removed from pandas in a future version. Use pandas.concat instead.\n",
            "  df = df.append(df_temp, ignore_index = True)\n",
            "<ipython-input-56-108931f1cf20>:23: FutureWarning: The frame.append method is deprecated and will be removed from pandas in a future version. Use pandas.concat instead.\n",
            "  df = df.append(df_temp, ignore_index = True)\n",
            "<ipython-input-56-108931f1cf20>:23: FutureWarning: The frame.append method is deprecated and will be removed from pandas in a future version. Use pandas.concat instead.\n",
            "  df = df.append(df_temp, ignore_index = True)\n",
            "<ipython-input-56-108931f1cf20>:23: FutureWarning: The frame.append method is deprecated and will be removed from pandas in a future version. Use pandas.concat instead.\n",
            "  df = df.append(df_temp, ignore_index = True)\n",
            "<ipython-input-56-108931f1cf20>:23: FutureWarning: The frame.append method is deprecated and will be removed from pandas in a future version. Use pandas.concat instead.\n",
            "  df = df.append(df_temp, ignore_index = True)\n",
            "<ipython-input-56-108931f1cf20>:23: FutureWarning: The frame.append method is deprecated and will be removed from pandas in a future version. Use pandas.concat instead.\n",
            "  df = df.append(df_temp, ignore_index = True)\n",
            "<ipython-input-56-108931f1cf20>:23: FutureWarning: The frame.append method is deprecated and will be removed from pandas in a future version. Use pandas.concat instead.\n",
            "  df = df.append(df_temp, ignore_index = True)\n",
            "<ipython-input-56-108931f1cf20>:23: FutureWarning: The frame.append method is deprecated and will be removed from pandas in a future version. Use pandas.concat instead.\n",
            "  df = df.append(df_temp, ignore_index = True)\n",
            "<ipython-input-56-108931f1cf20>:23: FutureWarning: The frame.append method is deprecated and will be removed from pandas in a future version. Use pandas.concat instead.\n",
            "  df = df.append(df_temp, ignore_index = True)\n",
            "<ipython-input-56-108931f1cf20>:23: FutureWarning: The frame.append method is deprecated and will be removed from pandas in a future version. Use pandas.concat instead.\n",
            "  df = df.append(df_temp, ignore_index = True)\n",
            "<ipython-input-56-108931f1cf20>:23: FutureWarning: The frame.append method is deprecated and will be removed from pandas in a future version. Use pandas.concat instead.\n",
            "  df = df.append(df_temp, ignore_index = True)\n",
            "<ipython-input-56-108931f1cf20>:23: FutureWarning: The frame.append method is deprecated and will be removed from pandas in a future version. Use pandas.concat instead.\n",
            "  df = df.append(df_temp, ignore_index = True)\n",
            "<ipython-input-56-108931f1cf20>:23: FutureWarning: The frame.append method is deprecated and will be removed from pandas in a future version. Use pandas.concat instead.\n",
            "  df = df.append(df_temp, ignore_index = True)\n",
            "<ipython-input-56-108931f1cf20>:23: FutureWarning: The frame.append method is deprecated and will be removed from pandas in a future version. Use pandas.concat instead.\n",
            "  df = df.append(df_temp, ignore_index = True)\n",
            "<ipython-input-56-108931f1cf20>:23: FutureWarning: The frame.append method is deprecated and will be removed from pandas in a future version. Use pandas.concat instead.\n",
            "  df = df.append(df_temp, ignore_index = True)\n",
            "<ipython-input-56-108931f1cf20>:23: FutureWarning: The frame.append method is deprecated and will be removed from pandas in a future version. Use pandas.concat instead.\n",
            "  df = df.append(df_temp, ignore_index = True)\n",
            "<ipython-input-56-108931f1cf20>:23: FutureWarning: The frame.append method is deprecated and will be removed from pandas in a future version. Use pandas.concat instead.\n",
            "  df = df.append(df_temp, ignore_index = True)\n",
            "<ipython-input-56-108931f1cf20>:23: FutureWarning: The frame.append method is deprecated and will be removed from pandas in a future version. Use pandas.concat instead.\n",
            "  df = df.append(df_temp, ignore_index = True)\n",
            "<ipython-input-56-108931f1cf20>:23: FutureWarning: The frame.append method is deprecated and will be removed from pandas in a future version. Use pandas.concat instead.\n",
            "  df = df.append(df_temp, ignore_index = True)\n",
            "<ipython-input-56-108931f1cf20>:23: FutureWarning: The frame.append method is deprecated and will be removed from pandas in a future version. Use pandas.concat instead.\n",
            "  df = df.append(df_temp, ignore_index = True)\n",
            "<ipython-input-56-108931f1cf20>:23: FutureWarning: The frame.append method is deprecated and will be removed from pandas in a future version. Use pandas.concat instead.\n",
            "  df = df.append(df_temp, ignore_index = True)\n",
            "<ipython-input-56-108931f1cf20>:23: FutureWarning: The frame.append method is deprecated and will be removed from pandas in a future version. Use pandas.concat instead.\n",
            "  df = df.append(df_temp, ignore_index = True)\n",
            "<ipython-input-56-108931f1cf20>:23: FutureWarning: The frame.append method is deprecated and will be removed from pandas in a future version. Use pandas.concat instead.\n",
            "  df = df.append(df_temp, ignore_index = True)\n",
            "<ipython-input-56-108931f1cf20>:23: FutureWarning: The frame.append method is deprecated and will be removed from pandas in a future version. Use pandas.concat instead.\n",
            "  df = df.append(df_temp, ignore_index = True)\n",
            "<ipython-input-56-108931f1cf20>:23: FutureWarning: The frame.append method is deprecated and will be removed from pandas in a future version. Use pandas.concat instead.\n",
            "  df = df.append(df_temp, ignore_index = True)\n",
            "<ipython-input-56-108931f1cf20>:23: FutureWarning: The frame.append method is deprecated and will be removed from pandas in a future version. Use pandas.concat instead.\n",
            "  df = df.append(df_temp, ignore_index = True)\n",
            "<ipython-input-56-108931f1cf20>:23: FutureWarning: The frame.append method is deprecated and will be removed from pandas in a future version. Use pandas.concat instead.\n",
            "  df = df.append(df_temp, ignore_index = True)\n",
            "<ipython-input-56-108931f1cf20>:23: FutureWarning: The frame.append method is deprecated and will be removed from pandas in a future version. Use pandas.concat instead.\n",
            "  df = df.append(df_temp, ignore_index = True)\n",
            "<ipython-input-56-108931f1cf20>:23: FutureWarning: The frame.append method is deprecated and will be removed from pandas in a future version. Use pandas.concat instead.\n",
            "  df = df.append(df_temp, ignore_index = True)\n",
            "<ipython-input-56-108931f1cf20>:23: FutureWarning: The frame.append method is deprecated and will be removed from pandas in a future version. Use pandas.concat instead.\n",
            "  df = df.append(df_temp, ignore_index = True)\n",
            "<ipython-input-56-108931f1cf20>:23: FutureWarning: The frame.append method is deprecated and will be removed from pandas in a future version. Use pandas.concat instead.\n",
            "  df = df.append(df_temp, ignore_index = True)\n",
            "<ipython-input-56-108931f1cf20>:23: FutureWarning: The frame.append method is deprecated and will be removed from pandas in a future version. Use pandas.concat instead.\n",
            "  df = df.append(df_temp, ignore_index = True)\n",
            "<ipython-input-56-108931f1cf20>:23: FutureWarning: The frame.append method is deprecated and will be removed from pandas in a future version. Use pandas.concat instead.\n",
            "  df = df.append(df_temp, ignore_index = True)\n",
            "<ipython-input-56-108931f1cf20>:23: FutureWarning: The frame.append method is deprecated and will be removed from pandas in a future version. Use pandas.concat instead.\n",
            "  df = df.append(df_temp, ignore_index = True)\n",
            "<ipython-input-56-108931f1cf20>:23: FutureWarning: The frame.append method is deprecated and will be removed from pandas in a future version. Use pandas.concat instead.\n",
            "  df = df.append(df_temp, ignore_index = True)\n",
            "<ipython-input-56-108931f1cf20>:23: FutureWarning: The frame.append method is deprecated and will be removed from pandas in a future version. Use pandas.concat instead.\n",
            "  df = df.append(df_temp, ignore_index = True)\n",
            "<ipython-input-56-108931f1cf20>:23: FutureWarning: The frame.append method is deprecated and will be removed from pandas in a future version. Use pandas.concat instead.\n",
            "  df = df.append(df_temp, ignore_index = True)\n",
            "<ipython-input-56-108931f1cf20>:23: FutureWarning: The frame.append method is deprecated and will be removed from pandas in a future version. Use pandas.concat instead.\n",
            "  df = df.append(df_temp, ignore_index = True)\n",
            "<ipython-input-56-108931f1cf20>:23: FutureWarning: The frame.append method is deprecated and will be removed from pandas in a future version. Use pandas.concat instead.\n",
            "  df = df.append(df_temp, ignore_index = True)\n",
            "<ipython-input-56-108931f1cf20>:23: FutureWarning: The frame.append method is deprecated and will be removed from pandas in a future version. Use pandas.concat instead.\n",
            "  df = df.append(df_temp, ignore_index = True)\n",
            "<ipython-input-56-108931f1cf20>:23: FutureWarning: The frame.append method is deprecated and will be removed from pandas in a future version. Use pandas.concat instead.\n",
            "  df = df.append(df_temp, ignore_index = True)\n",
            "<ipython-input-56-108931f1cf20>:23: FutureWarning: The frame.append method is deprecated and will be removed from pandas in a future version. Use pandas.concat instead.\n",
            "  df = df.append(df_temp, ignore_index = True)\n",
            "<ipython-input-56-108931f1cf20>:23: FutureWarning: The frame.append method is deprecated and will be removed from pandas in a future version. Use pandas.concat instead.\n",
            "  df = df.append(df_temp, ignore_index = True)\n",
            "<ipython-input-56-108931f1cf20>:23: FutureWarning: The frame.append method is deprecated and will be removed from pandas in a future version. Use pandas.concat instead.\n",
            "  df = df.append(df_temp, ignore_index = True)\n",
            "<ipython-input-56-108931f1cf20>:23: FutureWarning: The frame.append method is deprecated and will be removed from pandas in a future version. Use pandas.concat instead.\n",
            "  df = df.append(df_temp, ignore_index = True)\n",
            "<ipython-input-56-108931f1cf20>:23: FutureWarning: The frame.append method is deprecated and will be removed from pandas in a future version. Use pandas.concat instead.\n",
            "  df = df.append(df_temp, ignore_index = True)\n",
            "<ipython-input-56-108931f1cf20>:23: FutureWarning: The frame.append method is deprecated and will be removed from pandas in a future version. Use pandas.concat instead.\n",
            "  df = df.append(df_temp, ignore_index = True)\n",
            "<ipython-input-56-108931f1cf20>:23: FutureWarning: The frame.append method is deprecated and will be removed from pandas in a future version. Use pandas.concat instead.\n",
            "  df = df.append(df_temp, ignore_index = True)\n",
            "<ipython-input-56-108931f1cf20>:23: FutureWarning: The frame.append method is deprecated and will be removed from pandas in a future version. Use pandas.concat instead.\n",
            "  df = df.append(df_temp, ignore_index = True)\n",
            "<ipython-input-56-108931f1cf20>:23: FutureWarning: The frame.append method is deprecated and will be removed from pandas in a future version. Use pandas.concat instead.\n",
            "  df = df.append(df_temp, ignore_index = True)\n",
            "<ipython-input-56-108931f1cf20>:23: FutureWarning: The frame.append method is deprecated and will be removed from pandas in a future version. Use pandas.concat instead.\n",
            "  df = df.append(df_temp, ignore_index = True)\n",
            "<ipython-input-56-108931f1cf20>:23: FutureWarning: The frame.append method is deprecated and will be removed from pandas in a future version. Use pandas.concat instead.\n",
            "  df = df.append(df_temp, ignore_index = True)\n",
            "<ipython-input-56-108931f1cf20>:23: FutureWarning: The frame.append method is deprecated and will be removed from pandas in a future version. Use pandas.concat instead.\n",
            "  df = df.append(df_temp, ignore_index = True)\n",
            "<ipython-input-56-108931f1cf20>:23: FutureWarning: The frame.append method is deprecated and will be removed from pandas in a future version. Use pandas.concat instead.\n",
            "  df = df.append(df_temp, ignore_index = True)\n",
            "<ipython-input-56-108931f1cf20>:23: FutureWarning: The frame.append method is deprecated and will be removed from pandas in a future version. Use pandas.concat instead.\n",
            "  df = df.append(df_temp, ignore_index = True)\n",
            "<ipython-input-56-108931f1cf20>:23: FutureWarning: The frame.append method is deprecated and will be removed from pandas in a future version. Use pandas.concat instead.\n",
            "  df = df.append(df_temp, ignore_index = True)\n",
            "<ipython-input-56-108931f1cf20>:23: FutureWarning: The frame.append method is deprecated and will be removed from pandas in a future version. Use pandas.concat instead.\n",
            "  df = df.append(df_temp, ignore_index = True)\n",
            "<ipython-input-56-108931f1cf20>:23: FutureWarning: The frame.append method is deprecated and will be removed from pandas in a future version. Use pandas.concat instead.\n",
            "  df = df.append(df_temp, ignore_index = True)\n",
            "<ipython-input-56-108931f1cf20>:23: FutureWarning: The frame.append method is deprecated and will be removed from pandas in a future version. Use pandas.concat instead.\n",
            "  df = df.append(df_temp, ignore_index = True)\n",
            "<ipython-input-56-108931f1cf20>:23: FutureWarning: The frame.append method is deprecated and will be removed from pandas in a future version. Use pandas.concat instead.\n",
            "  df = df.append(df_temp, ignore_index = True)\n",
            "<ipython-input-56-108931f1cf20>:23: FutureWarning: The frame.append method is deprecated and will be removed from pandas in a future version. Use pandas.concat instead.\n",
            "  df = df.append(df_temp, ignore_index = True)\n",
            "<ipython-input-56-108931f1cf20>:23: FutureWarning: The frame.append method is deprecated and will be removed from pandas in a future version. Use pandas.concat instead.\n",
            "  df = df.append(df_temp, ignore_index = True)\n",
            "<ipython-input-56-108931f1cf20>:23: FutureWarning: The frame.append method is deprecated and will be removed from pandas in a future version. Use pandas.concat instead.\n",
            "  df = df.append(df_temp, ignore_index = True)\n",
            "<ipython-input-56-108931f1cf20>:23: FutureWarning: The frame.append method is deprecated and will be removed from pandas in a future version. Use pandas.concat instead.\n",
            "  df = df.append(df_temp, ignore_index = True)\n",
            "<ipython-input-56-108931f1cf20>:23: FutureWarning: The frame.append method is deprecated and will be removed from pandas in a future version. Use pandas.concat instead.\n",
            "  df = df.append(df_temp, ignore_index = True)\n",
            "<ipython-input-56-108931f1cf20>:23: FutureWarning: The frame.append method is deprecated and will be removed from pandas in a future version. Use pandas.concat instead.\n",
            "  df = df.append(df_temp, ignore_index = True)\n",
            "<ipython-input-56-108931f1cf20>:23: FutureWarning: The frame.append method is deprecated and will be removed from pandas in a future version. Use pandas.concat instead.\n",
            "  df = df.append(df_temp, ignore_index = True)\n",
            "<ipython-input-56-108931f1cf20>:23: FutureWarning: The frame.append method is deprecated and will be removed from pandas in a future version. Use pandas.concat instead.\n",
            "  df = df.append(df_temp, ignore_index = True)\n",
            "<ipython-input-56-108931f1cf20>:23: FutureWarning: The frame.append method is deprecated and will be removed from pandas in a future version. Use pandas.concat instead.\n",
            "  df = df.append(df_temp, ignore_index = True)\n",
            "<ipython-input-56-108931f1cf20>:23: FutureWarning: The frame.append method is deprecated and will be removed from pandas in a future version. Use pandas.concat instead.\n",
            "  df = df.append(df_temp, ignore_index = True)\n",
            "<ipython-input-56-108931f1cf20>:23: FutureWarning: The frame.append method is deprecated and will be removed from pandas in a future version. Use pandas.concat instead.\n",
            "  df = df.append(df_temp, ignore_index = True)\n",
            "<ipython-input-56-108931f1cf20>:23: FutureWarning: The frame.append method is deprecated and will be removed from pandas in a future version. Use pandas.concat instead.\n",
            "  df = df.append(df_temp, ignore_index = True)\n",
            "<ipython-input-56-108931f1cf20>:23: FutureWarning: The frame.append method is deprecated and will be removed from pandas in a future version. Use pandas.concat instead.\n",
            "  df = df.append(df_temp, ignore_index = True)\n",
            "<ipython-input-56-108931f1cf20>:23: FutureWarning: The frame.append method is deprecated and will be removed from pandas in a future version. Use pandas.concat instead.\n",
            "  df = df.append(df_temp, ignore_index = True)\n",
            "<ipython-input-56-108931f1cf20>:23: FutureWarning: The frame.append method is deprecated and will be removed from pandas in a future version. Use pandas.concat instead.\n",
            "  df = df.append(df_temp, ignore_index = True)\n",
            "<ipython-input-56-108931f1cf20>:23: FutureWarning: The frame.append method is deprecated and will be removed from pandas in a future version. Use pandas.concat instead.\n",
            "  df = df.append(df_temp, ignore_index = True)\n",
            "<ipython-input-56-108931f1cf20>:23: FutureWarning: The frame.append method is deprecated and will be removed from pandas in a future version. Use pandas.concat instead.\n",
            "  df = df.append(df_temp, ignore_index = True)\n",
            "<ipython-input-56-108931f1cf20>:23: FutureWarning: The frame.append method is deprecated and will be removed from pandas in a future version. Use pandas.concat instead.\n",
            "  df = df.append(df_temp, ignore_index = True)\n",
            "<ipython-input-56-108931f1cf20>:23: FutureWarning: The frame.append method is deprecated and will be removed from pandas in a future version. Use pandas.concat instead.\n",
            "  df = df.append(df_temp, ignore_index = True)\n",
            "<ipython-input-56-108931f1cf20>:23: FutureWarning: The frame.append method is deprecated and will be removed from pandas in a future version. Use pandas.concat instead.\n",
            "  df = df.append(df_temp, ignore_index = True)\n",
            "<ipython-input-56-108931f1cf20>:23: FutureWarning: The frame.append method is deprecated and will be removed from pandas in a future version. Use pandas.concat instead.\n",
            "  df = df.append(df_temp, ignore_index = True)\n",
            "<ipython-input-56-108931f1cf20>:23: FutureWarning: The frame.append method is deprecated and will be removed from pandas in a future version. Use pandas.concat instead.\n",
            "  df = df.append(df_temp, ignore_index = True)\n",
            "<ipython-input-56-108931f1cf20>:23: FutureWarning: The frame.append method is deprecated and will be removed from pandas in a future version. Use pandas.concat instead.\n",
            "  df = df.append(df_temp, ignore_index = True)\n",
            "<ipython-input-56-108931f1cf20>:23: FutureWarning: The frame.append method is deprecated and will be removed from pandas in a future version. Use pandas.concat instead.\n",
            "  df = df.append(df_temp, ignore_index = True)\n",
            "<ipython-input-56-108931f1cf20>:23: FutureWarning: The frame.append method is deprecated and will be removed from pandas in a future version. Use pandas.concat instead.\n",
            "  df = df.append(df_temp, ignore_index = True)\n",
            "<ipython-input-56-108931f1cf20>:23: FutureWarning: The frame.append method is deprecated and will be removed from pandas in a future version. Use pandas.concat instead.\n",
            "  df = df.append(df_temp, ignore_index = True)\n",
            "<ipython-input-56-108931f1cf20>:23: FutureWarning: The frame.append method is deprecated and will be removed from pandas in a future version. Use pandas.concat instead.\n",
            "  df = df.append(df_temp, ignore_index = True)\n",
            "<ipython-input-56-108931f1cf20>:23: FutureWarning: The frame.append method is deprecated and will be removed from pandas in a future version. Use pandas.concat instead.\n",
            "  df = df.append(df_temp, ignore_index = True)\n",
            "<ipython-input-56-108931f1cf20>:23: FutureWarning: The frame.append method is deprecated and will be removed from pandas in a future version. Use pandas.concat instead.\n",
            "  df = df.append(df_temp, ignore_index = True)\n",
            "<ipython-input-56-108931f1cf20>:23: FutureWarning: The frame.append method is deprecated and will be removed from pandas in a future version. Use pandas.concat instead.\n",
            "  df = df.append(df_temp, ignore_index = True)\n",
            "<ipython-input-56-108931f1cf20>:23: FutureWarning: The frame.append method is deprecated and will be removed from pandas in a future version. Use pandas.concat instead.\n",
            "  df = df.append(df_temp, ignore_index = True)\n",
            "<ipython-input-56-108931f1cf20>:23: FutureWarning: The frame.append method is deprecated and will be removed from pandas in a future version. Use pandas.concat instead.\n",
            "  df = df.append(df_temp, ignore_index = True)\n",
            "<ipython-input-56-108931f1cf20>:23: FutureWarning: The frame.append method is deprecated and will be removed from pandas in a future version. Use pandas.concat instead.\n",
            "  df = df.append(df_temp, ignore_index = True)\n",
            "<ipython-input-56-108931f1cf20>:23: FutureWarning: The frame.append method is deprecated and will be removed from pandas in a future version. Use pandas.concat instead.\n",
            "  df = df.append(df_temp, ignore_index = True)\n",
            "<ipython-input-56-108931f1cf20>:23: FutureWarning: The frame.append method is deprecated and will be removed from pandas in a future version. Use pandas.concat instead.\n",
            "  df = df.append(df_temp, ignore_index = True)\n",
            "<ipython-input-56-108931f1cf20>:23: FutureWarning: The frame.append method is deprecated and will be removed from pandas in a future version. Use pandas.concat instead.\n",
            "  df = df.append(df_temp, ignore_index = True)\n",
            "<ipython-input-56-108931f1cf20>:23: FutureWarning: The frame.append method is deprecated and will be removed from pandas in a future version. Use pandas.concat instead.\n",
            "  df = df.append(df_temp, ignore_index = True)\n",
            "<ipython-input-56-108931f1cf20>:23: FutureWarning: The frame.append method is deprecated and will be removed from pandas in a future version. Use pandas.concat instead.\n",
            "  df = df.append(df_temp, ignore_index = True)\n",
            "<ipython-input-56-108931f1cf20>:23: FutureWarning: The frame.append method is deprecated and will be removed from pandas in a future version. Use pandas.concat instead.\n",
            "  df = df.append(df_temp, ignore_index = True)\n",
            "<ipython-input-56-108931f1cf20>:23: FutureWarning: The frame.append method is deprecated and will be removed from pandas in a future version. Use pandas.concat instead.\n",
            "  df = df.append(df_temp, ignore_index = True)\n",
            "<ipython-input-56-108931f1cf20>:23: FutureWarning: The frame.append method is deprecated and will be removed from pandas in a future version. Use pandas.concat instead.\n",
            "  df = df.append(df_temp, ignore_index = True)\n",
            "<ipython-input-56-108931f1cf20>:23: FutureWarning: The frame.append method is deprecated and will be removed from pandas in a future version. Use pandas.concat instead.\n",
            "  df = df.append(df_temp, ignore_index = True)\n"
          ]
        }
      ],
      "source": [
        "import pandas as pd\n",
        "y_proba = final.cpu().numpy()\n",
        "\n",
        "resl = []\n",
        "for i in y_proba:\n",
        "    a = [x+1 for x in range(len(i)) if i[x] > 0.5]\n",
        "    for j in range(len(a)):\n",
        "        if a[j] >=12:\n",
        "            a[j] = a[j]+1\n",
        "    resl.append(a)\n",
        "test_pred = []\n",
        "for lis in resl:\n",
        "    a = [str(i) for i in lis]\n",
        "    test_pred.append(\" \".join(a))\n",
        "\n",
        "# make a csv file\n",
        "df = pd.DataFrame(columns=[\"ImageID\", \"Labels\"])\n",
        "\n",
        "# Creating the Second Dataframe using dictionary\n",
        "for index, value in enumerate(test_pred):\n",
        "    df_temp = pd.DataFrame({\"ImageID\":\"{}.jpg\".format(30000+index), \"Labels\":\" \".join([str(i) for i in [value]])}, index=[0])\n",
        "    # for appending df_temp at the end of df\n",
        "    df = df.append(df_temp, ignore_index = True)\n",
        "\n",
        "df.to_csv(\"Predicted_labels.csv\", index = False)"
      ]
    },
    {
      "cell_type": "code",
      "execution_count": 57,
      "metadata": {
        "execution": {
          "iopub.execute_input": "2023-05-01T06:45:45.948076Z",
          "iopub.status.busy": "2023-05-01T06:45:45.947142Z",
          "iopub.status.idle": "2023-05-01T06:45:45.960734Z",
          "shell.execute_reply": "2023-05-01T06:45:45.959545Z",
          "shell.execute_reply.started": "2023-05-01T06:45:45.948023Z"
        },
        "colab": {
          "base_uri": "https://localhost:8080/",
          "height": 423
        },
        "id": "CARGPsLLg_-y",
        "outputId": "a160aced-e296-46eb-dc3f-44c7084a749b"
      },
      "outputs": [
        {
          "output_type": "execute_result",
          "data": {
            "text/plain": [
              "        ImageID Labels\n",
              "0     30000.jpg      1\n",
              "1     30001.jpg    1 3\n",
              "2     30002.jpg      1\n",
              "3     30003.jpg      1\n",
              "4     30004.jpg      1\n",
              "...         ...    ...\n",
              "9995  39995.jpg      1\n",
              "9996  39996.jpg    3 4\n",
              "9997  39997.jpg      1\n",
              "9998  39998.jpg      1\n",
              "9999  39999.jpg      1\n",
              "\n",
              "[10000 rows x 2 columns]"
            ],
            "text/html": [
              "\n",
              "  <div id=\"df-7b9ec3a4-aa40-4588-abf0-bb7d5d68bb85\">\n",
              "    <div class=\"colab-df-container\">\n",
              "      <div>\n",
              "<style scoped>\n",
              "    .dataframe tbody tr th:only-of-type {\n",
              "        vertical-align: middle;\n",
              "    }\n",
              "\n",
              "    .dataframe tbody tr th {\n",
              "        vertical-align: top;\n",
              "    }\n",
              "\n",
              "    .dataframe thead th {\n",
              "        text-align: right;\n",
              "    }\n",
              "</style>\n",
              "<table border=\"1\" class=\"dataframe\">\n",
              "  <thead>\n",
              "    <tr style=\"text-align: right;\">\n",
              "      <th></th>\n",
              "      <th>ImageID</th>\n",
              "      <th>Labels</th>\n",
              "    </tr>\n",
              "  </thead>\n",
              "  <tbody>\n",
              "    <tr>\n",
              "      <th>0</th>\n",
              "      <td>30000.jpg</td>\n",
              "      <td>1</td>\n",
              "    </tr>\n",
              "    <tr>\n",
              "      <th>1</th>\n",
              "      <td>30001.jpg</td>\n",
              "      <td>1 3</td>\n",
              "    </tr>\n",
              "    <tr>\n",
              "      <th>2</th>\n",
              "      <td>30002.jpg</td>\n",
              "      <td>1</td>\n",
              "    </tr>\n",
              "    <tr>\n",
              "      <th>3</th>\n",
              "      <td>30003.jpg</td>\n",
              "      <td>1</td>\n",
              "    </tr>\n",
              "    <tr>\n",
              "      <th>4</th>\n",
              "      <td>30004.jpg</td>\n",
              "      <td>1</td>\n",
              "    </tr>\n",
              "    <tr>\n",
              "      <th>...</th>\n",
              "      <td>...</td>\n",
              "      <td>...</td>\n",
              "    </tr>\n",
              "    <tr>\n",
              "      <th>9995</th>\n",
              "      <td>39995.jpg</td>\n",
              "      <td>1</td>\n",
              "    </tr>\n",
              "    <tr>\n",
              "      <th>9996</th>\n",
              "      <td>39996.jpg</td>\n",
              "      <td>3 4</td>\n",
              "    </tr>\n",
              "    <tr>\n",
              "      <th>9997</th>\n",
              "      <td>39997.jpg</td>\n",
              "      <td>1</td>\n",
              "    </tr>\n",
              "    <tr>\n",
              "      <th>9998</th>\n",
              "      <td>39998.jpg</td>\n",
              "      <td>1</td>\n",
              "    </tr>\n",
              "    <tr>\n",
              "      <th>9999</th>\n",
              "      <td>39999.jpg</td>\n",
              "      <td>1</td>\n",
              "    </tr>\n",
              "  </tbody>\n",
              "</table>\n",
              "<p>10000 rows × 2 columns</p>\n",
              "</div>\n",
              "      <button class=\"colab-df-convert\" onclick=\"convertToInteractive('df-7b9ec3a4-aa40-4588-abf0-bb7d5d68bb85')\"\n",
              "              title=\"Convert this dataframe to an interactive table.\"\n",
              "              style=\"display:none;\">\n",
              "        \n",
              "  <svg xmlns=\"http://www.w3.org/2000/svg\" height=\"24px\"viewBox=\"0 0 24 24\"\n",
              "       width=\"24px\">\n",
              "    <path d=\"M0 0h24v24H0V0z\" fill=\"none\"/>\n",
              "    <path d=\"M18.56 5.44l.94 2.06.94-2.06 2.06-.94-2.06-.94-.94-2.06-.94 2.06-2.06.94zm-11 1L8.5 8.5l.94-2.06 2.06-.94-2.06-.94L8.5 2.5l-.94 2.06-2.06.94zm10 10l.94 2.06.94-2.06 2.06-.94-2.06-.94-.94-2.06-.94 2.06-2.06.94z\"/><path d=\"M17.41 7.96l-1.37-1.37c-.4-.4-.92-.59-1.43-.59-.52 0-1.04.2-1.43.59L10.3 9.45l-7.72 7.72c-.78.78-.78 2.05 0 2.83L4 21.41c.39.39.9.59 1.41.59.51 0 1.02-.2 1.41-.59l7.78-7.78 2.81-2.81c.8-.78.8-2.07 0-2.86zM5.41 20L4 18.59l7.72-7.72 1.47 1.35L5.41 20z\"/>\n",
              "  </svg>\n",
              "      </button>\n",
              "      \n",
              "  <style>\n",
              "    .colab-df-container {\n",
              "      display:flex;\n",
              "      flex-wrap:wrap;\n",
              "      gap: 12px;\n",
              "    }\n",
              "\n",
              "    .colab-df-convert {\n",
              "      background-color: #E8F0FE;\n",
              "      border: none;\n",
              "      border-radius: 50%;\n",
              "      cursor: pointer;\n",
              "      display: none;\n",
              "      fill: #1967D2;\n",
              "      height: 32px;\n",
              "      padding: 0 0 0 0;\n",
              "      width: 32px;\n",
              "    }\n",
              "\n",
              "    .colab-df-convert:hover {\n",
              "      background-color: #E2EBFA;\n",
              "      box-shadow: 0px 1px 2px rgba(60, 64, 67, 0.3), 0px 1px 3px 1px rgba(60, 64, 67, 0.15);\n",
              "      fill: #174EA6;\n",
              "    }\n",
              "\n",
              "    [theme=dark] .colab-df-convert {\n",
              "      background-color: #3B4455;\n",
              "      fill: #D2E3FC;\n",
              "    }\n",
              "\n",
              "    [theme=dark] .colab-df-convert:hover {\n",
              "      background-color: #434B5C;\n",
              "      box-shadow: 0px 1px 3px 1px rgba(0, 0, 0, 0.15);\n",
              "      filter: drop-shadow(0px 1px 2px rgba(0, 0, 0, 0.3));\n",
              "      fill: #FFFFFF;\n",
              "    }\n",
              "  </style>\n",
              "\n",
              "      <script>\n",
              "        const buttonEl =\n",
              "          document.querySelector('#df-7b9ec3a4-aa40-4588-abf0-bb7d5d68bb85 button.colab-df-convert');\n",
              "        buttonEl.style.display =\n",
              "          google.colab.kernel.accessAllowed ? 'block' : 'none';\n",
              "\n",
              "        async function convertToInteractive(key) {\n",
              "          const element = document.querySelector('#df-7b9ec3a4-aa40-4588-abf0-bb7d5d68bb85');\n",
              "          const dataTable =\n",
              "            await google.colab.kernel.invokeFunction('convertToInteractive',\n",
              "                                                     [key], {});\n",
              "          if (!dataTable) return;\n",
              "\n",
              "          const docLinkHtml = 'Like what you see? Visit the ' +\n",
              "            '<a target=\"_blank\" href=https://colab.research.google.com/notebooks/data_table.ipynb>data table notebook</a>'\n",
              "            + ' to learn more about interactive tables.';\n",
              "          element.innerHTML = '';\n",
              "          dataTable['output_type'] = 'display_data';\n",
              "          await google.colab.output.renderOutput(dataTable, element);\n",
              "          const docLink = document.createElement('div');\n",
              "          docLink.innerHTML = docLinkHtml;\n",
              "          element.appendChild(docLink);\n",
              "        }\n",
              "      </script>\n",
              "    </div>\n",
              "  </div>\n",
              "  "
            ]
          },
          "metadata": {},
          "execution_count": 57
        }
      ],
      "source": [
        "df"
      ]
    }
  ],
  "metadata": {
    "kernelspec": {
      "display_name": "Python 3",
      "language": "python",
      "name": "python3"
    },
    "language_info": {
      "codemirror_mode": {
        "name": "ipython",
        "version": 3
      },
      "file_extension": ".py",
      "mimetype": "text/x-python",
      "name": "python",
      "nbconvert_exporter": "python",
      "pygments_lexer": "ipython3",
      "version": "3.6.13"
    },
    "colab": {
      "provenance": [],
      "include_colab_link": true
    },
    "accelerator": "GPU",
    "gpuClass": "standard"
  },
  "nbformat": 4,
  "nbformat_minor": 0
}