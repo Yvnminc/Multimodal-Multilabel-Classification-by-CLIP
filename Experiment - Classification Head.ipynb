{
 "cells": [
  {
   "cell_type": "markdown",
   "id": "f3c7f38f",
   "metadata": {
    "colab_type": "text",
    "id": "view-in-github"
   },
   "source": [
    "<a href=\"https://colab.research.google.com/github/Yvnminc/COMP5329_A2/blob/main/Experiment_yann_MLP.ipynb\" target=\"_parent\"><img src=\"https://colab.research.google.com/assets/colab-badge.svg\" alt=\"Open In Colab\"/></a>"
   ]
  },
  {
   "cell_type": "code",
   "execution_count": 1,
   "id": "r7sDxb_OLIMK",
   "metadata": {
    "id": "r7sDxb_OLIMK"
   },
   "outputs": [],
   "source": [
    "# # Code to download file into Colaboratory:\n",
    "# !pip install -U -q PyDrive > /dev/null\n",
    "# !pip install torchmetrics > /dev/null\n",
    "# from pydrive.auth import GoogleAuth\n",
    "# import torch\n",
    "# dev = \"cuda\" if torch.cuda.is_available() else \"cpu\"\n",
    "# from pydrive.drive import GoogleDrive\n",
    "# from google.colab import auth\n",
    "# from oauth2client.client import GoogleCredentials\n",
    "# # Authenticate and create the PyDrive client.\n",
    "# auth.authenticate_user()\n",
    "# gauth = GoogleAuth()\n",
    "# gauth.credentials = GoogleCredentials.get_application_default()\n",
    "# drive = GoogleDrive(gauth)\n",
    "\n",
    "# #get the data from the drive\n",
    "# def get_feature(model = \"ViT-L/14@336px\"):\n",
    "#   id = '11yXddz5j-IDcH77wkMF7dW2JctRv7YN6'\n",
    "#   size = \"B\"\n",
    "\n",
    "#   if model == 'ViT-L/14@336px':\n",
    "#     id = '1P6CgrgiIACjnhtHsUwdY8qjZ-E3Vx_0x'\n",
    "#     size = \"L336\"\n",
    "#   elif model == 'ViT-L/14':\n",
    "#     id = '1DG4J-YF57ZsfXTzwg5EFfkzUmUFfr82h'\n",
    "#     size = \"L\"\n",
    "#   elif model == 'ViT-B/32':\n",
    "#     id = '11yXddz5j-IDcH77wkMF7dW2JctRv7YN6'\n",
    "#     size = \"B\"\n",
    "\n",
    "#   downloaded = drive.CreateFile({'id':id}) \n",
    "#   downloaded.GetContentFile('clip_features.zip')\n",
    "\n",
    "#   #get the data from the drive\n",
    "#   id = '1b-ujWaLM_jOzlRMbXVb9T-3oEibKQW1r'\n",
    "#   downloaded = drive.CreateFile({'id':id}) \n",
    "#   downloaded.GetContentFile('label_onehot_tensor.pt')\n",
    "\n",
    "#   !unzip clip_features.zip > /dev/null\n",
    "\n",
    "#   test_image_features = torch.load(f\"test_image_features_vit{size}.pt\")\n",
    "#   test_text_feature = torch.load(f\"test_text_feature_vit{size}.pt\")\n",
    "#   all_image_features = torch.load(f\"all_image_features_vit{size}.pt\")\n",
    "#   all_text_feature = torch.load(f\"all_text_feature_vit{size}.pt\")\n",
    "#   label_onehot_tensor = torch.load(f\"label_onehot_tensor.pt\")\n",
    "\n",
    "#   return all_image_features, all_text_feature, test_image_features, test_text_feature, label_onehot_tensor"
   ]
  },
  {
   "cell_type": "code",
   "execution_count": 2,
   "id": "vR5q9CT_LM8D",
   "metadata": {
    "id": "vR5q9CT_LM8D"
   },
   "outputs": [],
   "source": [
    "# all_image_features, all_text_feature, test_image_features, test_text_feature, label_onehot_tensor = get_feature()"
   ]
  },
  {
   "cell_type": "code",
   "execution_count": 3,
   "id": "t6rJyMCaLNeK",
   "metadata": {
    "id": "t6rJyMCaLNeK"
   },
   "outputs": [],
   "source": [
    "# import torch\n",
    "# dev = \"cuda\" if torch.cuda.is_available() else \"cpu\"\n",
    "# test_image_features = torch.load(\"test_image_features_vitL.pt\", map_location = torch.device(dev))\n",
    "# test_text_feature = torch.load(\"test_text_feature_vitL.pt\", map_location = torch.device(dev))\n",
    "# all_image_features = torch.load(\"all_image_features_vitL.pt\", map_location = torch.device(dev))\n",
    "# all_text_feature = torch.load(\"all_text_feature_vitL.pt\", map_location = torch.device(dev))\n",
    "# label_onehot_tensor = torch.load(\"label_onehot_tensor.pt\", map_location = torch.device(dev))"
   ]
  },
  {
   "cell_type": "code",
   "execution_count": 4,
   "id": "a1b966b3",
   "metadata": {
    "id": "a1b966b3"
   },
   "outputs": [],
   "source": [
    "import torch\n",
    "dev = \"cuda\" if torch.cuda.is_available() else \"cpu\"\n",
    "test_image_features = torch.load(\"features/test_image_features_vitL.pt\", map_location = torch.device(dev))\n",
    "test_text_feature = torch.load(\"features/test_text_feature_vitL.pt\", map_location = torch.device(dev))\n",
    "all_image_features = torch.load(\"features/all_image_features_vitL.pt\", map_location = torch.device(dev))\n",
    "all_text_feature = torch.load(\"features/all_text_feature_vitL.pt\", map_location = torch.device(dev))\n",
    "label_onehot_tensor = torch.load(\"features/label_onehot_tensor.pt\", map_location = torch.device(dev))"
   ]
  },
  {
   "cell_type": "code",
   "execution_count": 5,
   "id": "b5b99c23",
   "metadata": {
    "colab": {
     "base_uri": "https://localhost:8080/"
    },
    "id": "b5b99c23",
    "outputId": "89afe7d3-e717-4b78-c25a-de902a9be67b"
   },
   "outputs": [
    {
     "data": {
      "text/plain": [
       "torch.Size([10000, 768])"
      ]
     },
     "execution_count": 5,
     "metadata": {},
     "output_type": "execute_result"
    }
   ],
   "source": [
    "test_image_features.shape"
   ]
  },
  {
   "cell_type": "code",
   "execution_count": 6,
   "id": "bf0ca563",
   "metadata": {
    "id": "bf0ca563"
   },
   "outputs": [],
   "source": [
    "def add_weight_decay(model, weight_decay=1e-4, skip_list=()):\n",
    "    decay = []\n",
    "    no_decay = []\n",
    "    for name, param in model.named_parameters():\n",
    "        if not param.requires_grad:\n",
    "            continue  # frozen weights\n",
    "        if len(param.shape) == 1 or name.endswith(\".bias\") or name in skip_list:\n",
    "            no_decay.append(param)\n",
    "        else:\n",
    "            decay.append(param)\n",
    "    return [\n",
    "        {'params': no_decay, 'weight_decay': 0.},\n",
    "        {'params': decay, 'weight_decay': weight_decay}]"
   ]
  },
  {
   "cell_type": "code",
   "execution_count": 7,
   "id": "167db1be",
   "metadata": {
    "id": "167db1be"
   },
   "outputs": [],
   "source": [
    "import torch\n",
    "import torch.nn as nn\n",
    "\n",
    "\n",
    "class AsymmetricLoss(nn.Module):\n",
    "    def __init__(self, gamma_neg=4, gamma_pos=1, clip=0.05, eps=1e-8, disable_torch_grad_focal_loss=True):\n",
    "        super(AsymmetricLoss, self).__init__()\n",
    "\n",
    "        self.gamma_neg = gamma_neg\n",
    "        self.gamma_pos = gamma_pos\n",
    "        self.clip = clip\n",
    "        self.disable_torch_grad_focal_loss = disable_torch_grad_focal_loss\n",
    "        self.eps = eps\n",
    "\n",
    "    def forward(self, x, y):\n",
    "        \"\"\"\"\n",
    "        Parameters\n",
    "        ----------\n",
    "        x: input logits\n",
    "        y: targets (multi-label binarized vector)\n",
    "        \"\"\"\n",
    "\n",
    "        # Calculating Probabilities\n",
    "        \n",
    "        xs_pos = x\n",
    "        xs_neg = 1 - x\n",
    "\n",
    "        # Asymmetric Clipping\n",
    "        if self.clip is not None and self.clip > 0:\n",
    "            xs_neg = (xs_neg + self.clip).clamp(max=1)\n",
    "\n",
    "        # Basic CE calculation\n",
    "        los_pos = y * torch.log(xs_pos.clamp(min=self.eps))\n",
    "        los_neg = (1 - y) * torch.log(xs_neg.clamp(min=self.eps))\n",
    "        loss = los_pos + los_neg\n",
    "\n",
    "        # Asymmetric Focusing\n",
    "        if self.gamma_neg > 0 or self.gamma_pos > 0:\n",
    "            if self.disable_torch_grad_focal_loss:\n",
    "                torch.set_grad_enabled(False)\n",
    "            pt0 = xs_pos * y\n",
    "            pt1 = xs_neg * (1 - y)  # pt = p if t > 0 else 1-p\n",
    "            pt = pt0 + pt1\n",
    "            one_sided_gamma = self.gamma_pos * y + self.gamma_neg * (1 - y)\n",
    "            one_sided_w = torch.pow(1 - pt, one_sided_gamma)\n",
    "            if self.disable_torch_grad_focal_loss:\n",
    "                torch.set_grad_enabled(True)\n",
    "            loss *= one_sided_w\n",
    "\n",
    "        return -loss.sum()\n",
    "\n",
    "\n",
    "class AsymmetricLossOptimized(nn.Module):\n",
    "    ''' Notice - optimized version, minimizes memory allocation and gpu uploading,\n",
    "    favors inplace operations'''\n",
    "\n",
    "    def __init__(self, gamma_neg=4, gamma_pos=1, clip=0.05, eps=1e-8, disable_torch_grad_focal_loss=False):\n",
    "        super(AsymmetricLossOptimized, self).__init__()\n",
    "\n",
    "        self.gamma_neg = gamma_neg\n",
    "        self.gamma_pos = gamma_pos\n",
    "        self.clip = clip\n",
    "        self.disable_torch_grad_focal_loss = disable_torch_grad_focal_loss\n",
    "        self.eps = eps\n",
    "        # prevent memory allocation and gpu uploading every iteration, and encourages inplace operations\n",
    "        self.targets = self.anti_targets = self.xs_pos = self.xs_neg = self.asymmetric_w = self.loss = None\n",
    "\n",
    "    def forward(self, x, y):\n",
    "        \"\"\"\"\n",
    "        Parameters\n",
    "        ----------\n",
    "        x: input logits\n",
    "        y: targets (multi-label binarized vector)\n",
    "        \"\"\"\n",
    "\n",
    "        self.targets = y\n",
    "        self.anti_targets = 1 - y\n",
    "\n",
    "        # Calculating Probabilities\n",
    "        self.xs_pos = torch.sigmoid(x)\n",
    "        self.xs_neg = 1.0 - self.xs_pos\n",
    "\n",
    "        # Asymmetric Clipping\n",
    "        if self.clip is not None and self.clip > 0:\n",
    "            self.xs_neg.add_(self.clip).clamp_(max=1)\n",
    "\n",
    "        # Basic CE calculation\n",
    "        self.loss = self.targets * torch.log(self.xs_pos.clamp(min=self.eps))\n",
    "        self.loss.add_(self.anti_targets * torch.log(self.xs_neg.clamp(min=self.eps)))\n",
    "        \n",
    "        # Asymmetric Focusing\n",
    "        if self.gamma_neg > 0 or self.gamma_pos > 0:\n",
    "            if self.disable_torch_grad_focal_loss:\n",
    "                torch.set_grad_enabled(False)\n",
    "            self.xs_pos = self.xs_pos * self.targets\n",
    "            self.xs_neg = self.xs_neg * self.anti_targets\n",
    "            self.asymmetric_w = torch.pow(1 - self.xs_pos - self.xs_neg,\n",
    "                                          self.gamma_pos * self.targets + self.gamma_neg * self.anti_targets)\n",
    "            if self.disable_torch_grad_focal_loss:\n",
    "                torch.set_grad_enabled(True)\n",
    "            self.loss *= self.asymmetric_w\n",
    "\n",
    "        return -self.loss.sum()"
   ]
  },
  {
   "cell_type": "code",
   "execution_count": 8,
   "id": "6ce5204b",
   "metadata": {
    "id": "6ce5204b"
   },
   "outputs": [],
   "source": [
    "import numpy as np\n",
    "from tqdm import tqdm\n",
    "import torch.nn.functional as F\n",
    "from torchmetrics import F1Score\n",
    "from torch import optim\n",
    "from torch.cuda.amp import GradScaler, autocast\n",
    "\n",
    "from torch.utils.data import TensorDataset\n",
    "from torch.utils.data import DataLoader\n",
    "def Trainer(model, Data, epochs, epoch_step_1, epoch_step_2, lr = 1e-3):\n",
    "    torch.manual_seed(5329)\n",
    "    train_data = DataLoader(TensorDataset(Data[:25000], label_onehot_tensor[:25000]), batch_size=25000, shuffle = True)\n",
    "    val_data = DataLoader(TensorDataset(Data[25000:], label_onehot_tensor[25000:].to(torch.int32)), batch_size=5000, shuffle = False)\n",
    "    \n",
    "    # Change here to switch to the best setting\n",
    "    # train_data = DataLoader(TensorDataset(Data, label_onehot_tensor), batch_size=30000, shuffle = True)\n",
    "    \n",
    "    model = model.to(dev)\n",
    " \n",
    "    weight_decay = 2e-4\n",
    "    criterion = AsymmetricLoss(gamma_neg=0, gamma_pos=0, clip=0, disable_torch_grad_focal_loss=True)\n",
    "    parameters = add_weight_decay(model, weight_decay)\n",
    "    opti = optim.Adam(params=parameters, lr=lr, weight_decay=0)\n",
    "    scheduler = torch.optim.lr_scheduler.MultiStepLR(opti, milestones=[epoch_step_1,epoch_step_2], gamma = 0.1)\n",
    "    f1 = F1Score(task=\"multilabel\", num_labels = 18).to(dev)\n",
    "\n",
    "    epoch = epochs\n",
    "    train_loss = []\n",
    "    val_loss = []\n",
    "    f1_list = []\n",
    "    scaler = GradScaler()\n",
    "    \n",
    "    for epoch in tqdm(range(epoch), colour = 'GREEN'):\n",
    "        for data, label in train_data:   \n",
    "            data, label = data.to(dev), label.to(dev)\n",
    "\n",
    "            with autocast():  # mixed precision\n",
    "                output = model(data).float() \n",
    "\n",
    "            loss = criterion(output, label)\n",
    "            model.zero_grad()\n",
    "            \n",
    "            scaler.scale(loss).backward()\n",
    "            scaler.step(opti)\n",
    "            scaler.update()\n",
    "            \n",
    "        train_loss.append(loss.item())\n",
    "        \n",
    "        with torch.autograd.no_grad():\n",
    "            for data_val, label_val in val_data:\n",
    "                data_val, label_val = data_val.to(dev), label_val.to(dev)\n",
    "                predict = model(data_val)\n",
    "                f1_score = f1(predict, label_val)\n",
    "                v_loss = criterion(predict, label_val)\n",
    "            val_loss.append(v_loss.item())\n",
    "            f1_list.append(f1_score.item())\n",
    "        \n",
    "        # Comment the code below if you want to switch to the best settings (i.e., no validation data)\n",
    "        if epoch % 10 == 0:\n",
    "            print('Validation F1 in epoch{} : {:.4f}'.format(epoch, f1_score.item()))\n",
    "            print('Validation loss in epoch{} : {:.4f}'.format(epoch, v_loss.item()))\n",
    "    \n",
    "    return model, train_loss, val_loss, f1_list"
   ]
  },
  {
   "cell_type": "code",
   "execution_count": 9,
   "id": "d5005d30",
   "metadata": {
    "id": "d5005d30"
   },
   "outputs": [],
   "source": [
    "import torch.nn as nn\n",
    "import torch.nn.functional as F\n",
    "\n",
    "\n",
    "class SpatialGatingUnit(nn.Module):\n",
    "    def __init__(self, d_ffn):\n",
    "        super().__init__()\n",
    "        self.layer_norm = nn.LayerNorm(d_ffn)\n",
    "        self.fc = nn.Linear(d_ffn, d_ffn)\n",
    "        \n",
    "    def forward(self, x):\n",
    "        u = self.layer_norm(x)\n",
    "        g = torch.sigmoid(self.fc(u))\n",
    "        return x * g\n",
    "\n",
    "class gMLPBlock(nn.Module):\n",
    "    def __init__(self, d_model, d_ffn):\n",
    "        super().__init__()\n",
    "        self.fc1 = nn.Linear(d_model, d_ffn)\n",
    "        self.bn1 = nn.BatchNorm1d(d_ffn)\n",
    "        self.sgu = SpatialGatingUnit(d_ffn)\n",
    "        self.fc2 = nn.Linear(d_ffn, d_model)\n",
    "        self.dropout = nn.Dropout(p = 0.5)\n",
    "\n",
    "        # He initialization\n",
    "        nn.init.kaiming_normal_(self.fc1.weight, nonlinearity='relu')\n",
    "        nn.init.kaiming_normal_(self.fc2.weight, nonlinearity='relu')\n",
    "\n",
    "    def forward(self, x):\n",
    "        residual = x\n",
    "        x = self.fc1(x)\n",
    "        x = self.dropout(x)\n",
    "        x = self.bn1(x)\n",
    "        x = F.gelu(x)\n",
    "        x = self.sgu(x)\n",
    "        x = self.fc2(x)\n",
    "        return x + residual\n",
    "\n",
    "class Feature(nn.Module):\n",
    "    def __init__(self, gblock_bool = False):\n",
    "        super().__init__()\n",
    "        self.gblock_bool = gblock_bool\n",
    "        self.gblock1 = gMLPBlock(768, 768)\n",
    "        self.gblock2 = gMLPBlock(768, 768)\n",
    "        self.fc1 = nn.Linear(768, 2048)\n",
    "        self.fc2 = nn.Linear(2048, 18)\n",
    "        self.dropout = nn.Dropout(p = 0.5)\n",
    "\n",
    "    def forward(self, inputs):\n",
    "        if self.gblock_bool:\n",
    "            inputs = self.gblock1(inputs)\n",
    "            #inputs = self.gblock2(inputs)\n",
    "\n",
    "        inputs = F.gelu(self.fc1(inputs))\n",
    "        inputs = self.dropout(inputs)\n",
    "        inputs = torch.sigmoid(self.fc2(inputs))\n",
    "        return inputs\n",
    "\n",
    "class Decision(nn.Module):\n",
    "    def __init__(self):\n",
    "        super().__init__()\n",
    "        self.fc1 = nn.Linear(18, 1024)\n",
    "        self.fc2 = nn.Linear(1024, 512)\n",
    "        self.fc3 = nn.Linear(512, 18)\n",
    "\n",
    "    def forward(self, inputs):\n",
    "        tensor = F.gelu(self.fc1(inputs))\n",
    "        tensor = F.gelu(self.fc2(tensor))\n",
    "        tensor = torch.sigmoid(self.fc3(tensor))\n",
    "        return tensor"
   ]
  },
  {
   "cell_type": "code",
   "execution_count": 10,
   "id": "rREytmm6PTw-",
   "metadata": {
    "id": "rREytmm6PTw-"
   },
   "outputs": [],
   "source": [
    "class gMLP_feature(nn.Module):\n",
    "    def __init__(self):\n",
    "        super().__init__()\n",
    "        self.block1 = gMLPBlock(768, 768)\n",
    "        self.block2 = gMLPBlock(768, 768)\n",
    "        self.fc = nn.Linear(768, 18)\n",
    "\n",
    "    def forward(self, inputs):\n",
    "        tensor = self.block1(inputs)\n",
    "        tensor = self.block2(tensor)\n",
    "        tensor = torch.sigmoid(self.fc(tensor))\n",
    "        return tensor\n",
    "\n",
    "class gMLP_decision(nn.Module):\n",
    "    def __init__(self):\n",
    "        super().__init__()\n",
    "        self.block1 = gMLPBlock(18, 18)\n",
    "        self.block2 = gMLPBlock(18, 18)\n",
    "        self.fc = nn.Linear(18, 18)\n",
    "\n",
    "    def forward(self, inputs):\n",
    "        tensor = self.block1(inputs)\n",
    "        tensor = self.block2(tensor)\n",
    "        tensor = torch.sigmoid(self.fc(tensor))\n",
    "        return tensor"
   ]
  },
  {
   "cell_type": "markdown",
   "id": "c3be25a7",
   "metadata": {
    "id": "c3be25a7"
   },
   "source": [
    "## Case 1: Use only Image Features"
   ]
  },
  {
   "cell_type": "code",
   "execution_count": 11,
   "id": "2ede35dd",
   "metadata": {
    "colab": {
     "base_uri": "https://localhost:8080/"
    },
    "id": "2ede35dd",
    "outputId": "7c32cae9-619b-450d-911d-fc2e8a556919"
   },
   "outputs": [
    {
     "name": "stderr",
     "output_type": "stream",
     "text": [
      "  0%|\u001b[32m▍                                                                                 \u001b[0m| 1/200 [00:00<03:11,  1.04it/s]\u001b[0m"
     ]
    },
    {
     "name": "stdout",
     "output_type": "stream",
     "text": [
      "Validation F1 in epoch0 : 0.1648\n",
      "Validation loss in epoch0 : 61593.6016\n"
     ]
    },
    {
     "name": "stderr",
     "output_type": "stream",
     "text": [
      "  6%|\u001b[32m████▍                                                                            \u001b[0m| 11/200 [00:03<00:50,  3.75it/s]\u001b[0m"
     ]
    },
    {
     "name": "stdout",
     "output_type": "stream",
     "text": [
      "Validation F1 in epoch10 : 0.1631\n",
      "Validation loss in epoch10 : 61602.1875\n"
     ]
    },
    {
     "name": "stderr",
     "output_type": "stream",
     "text": [
      " 10%|\u001b[32m████████▌                                                                        \u001b[0m| 21/200 [00:06<00:48,  3.67it/s]\u001b[0m"
     ]
    },
    {
     "name": "stdout",
     "output_type": "stream",
     "text": [
      "Validation F1 in epoch20 : 0.6032\n",
      "Validation loss in epoch20 : 18728.2500\n"
     ]
    },
    {
     "name": "stderr",
     "output_type": "stream",
     "text": [
      " 16%|\u001b[32m████████████▌                                                                    \u001b[0m| 31/200 [00:09<00:47,  3.54it/s]\u001b[0m"
     ]
    },
    {
     "name": "stdout",
     "output_type": "stream",
     "text": [
      "Validation F1 in epoch30 : 0.7262\n",
      "Validation loss in epoch30 : 11977.9121\n"
     ]
    },
    {
     "name": "stderr",
     "output_type": "stream",
     "text": [
      " 20%|\u001b[32m████████████████▌                                                                \u001b[0m| 41/200 [00:12<00:44,  3.56it/s]\u001b[0m"
     ]
    },
    {
     "name": "stdout",
     "output_type": "stream",
     "text": [
      "Validation F1 in epoch40 : 0.7765\n",
      "Validation loss in epoch40 : 8983.5352\n"
     ]
    },
    {
     "name": "stderr",
     "output_type": "stream",
     "text": [
      " 26%|\u001b[32m████████████████████▋                                                            \u001b[0m| 51/200 [00:15<00:42,  3.51it/s]\u001b[0m"
     ]
    },
    {
     "name": "stdout",
     "output_type": "stream",
     "text": [
      "Validation F1 in epoch50 : 0.8159\n",
      "Validation loss in epoch50 : 7720.6489\n"
     ]
    },
    {
     "name": "stderr",
     "output_type": "stream",
     "text": [
      " 30%|\u001b[32m████████████████████████▋                                                        \u001b[0m| 61/200 [00:18<00:46,  2.97it/s]\u001b[0m"
     ]
    },
    {
     "name": "stdout",
     "output_type": "stream",
     "text": [
      "Validation F1 in epoch60 : 0.8295\n",
      "Validation loss in epoch60 : 7174.9043\n"
     ]
    },
    {
     "name": "stderr",
     "output_type": "stream",
     "text": [
      " 36%|\u001b[32m████████████████████████████▊                                                    \u001b[0m| 71/200 [00:21<00:36,  3.54it/s]\u001b[0m"
     ]
    },
    {
     "name": "stdout",
     "output_type": "stream",
     "text": [
      "Validation F1 in epoch70 : 0.8392\n",
      "Validation loss in epoch70 : 6840.6631\n"
     ]
    },
    {
     "name": "stderr",
     "output_type": "stream",
     "text": [
      " 40%|\u001b[32m████████████████████████████████▊                                                \u001b[0m| 81/200 [00:24<00:33,  3.51it/s]\u001b[0m"
     ]
    },
    {
     "name": "stdout",
     "output_type": "stream",
     "text": [
      "Validation F1 in epoch80 : 0.8424\n",
      "Validation loss in epoch80 : 6727.0674\n"
     ]
    },
    {
     "name": "stderr",
     "output_type": "stream",
     "text": [
      " 46%|\u001b[32m████████████████████████████████████▊                                            \u001b[0m| 91/200 [00:27<00:30,  3.62it/s]\u001b[0m"
     ]
    },
    {
     "name": "stdout",
     "output_type": "stream",
     "text": [
      "Validation F1 in epoch90 : 0.8439\n",
      "Validation loss in epoch90 : 6627.5703\n"
     ]
    },
    {
     "name": "stderr",
     "output_type": "stream",
     "text": [
      " 50%|\u001b[32m████████████████████████████████████████▍                                       \u001b[0m| 101/200 [00:30<00:27,  3.56it/s]\u001b[0m"
     ]
    },
    {
     "name": "stdout",
     "output_type": "stream",
     "text": [
      "Validation F1 in epoch100 : 0.8460\n",
      "Validation loss in epoch100 : 6544.0566\n"
     ]
    },
    {
     "name": "stderr",
     "output_type": "stream",
     "text": [
      " 56%|\u001b[32m████████████████████████████████████████████▍                                   \u001b[0m| 111/200 [00:33<00:26,  3.31it/s]\u001b[0m"
     ]
    },
    {
     "name": "stdout",
     "output_type": "stream",
     "text": [
      "Validation F1 in epoch110 : 0.8475\n",
      "Validation loss in epoch110 : 6500.1201\n"
     ]
    },
    {
     "name": "stderr",
     "output_type": "stream",
     "text": [
      " 60%|\u001b[32m████████████████████████████████████████████████▍                               \u001b[0m| 121/200 [00:35<00:23,  3.40it/s]\u001b[0m"
     ]
    },
    {
     "name": "stdout",
     "output_type": "stream",
     "text": [
      "Validation F1 in epoch120 : 0.8490\n",
      "Validation loss in epoch120 : 6451.8198\n"
     ]
    },
    {
     "name": "stderr",
     "output_type": "stream",
     "text": [
      " 66%|\u001b[32m████████████████████████████████████████████████████▍                           \u001b[0m| 131/200 [00:38<00:19,  3.48it/s]\u001b[0m"
     ]
    },
    {
     "name": "stdout",
     "output_type": "stream",
     "text": [
      "Validation F1 in epoch130 : 0.8500\n",
      "Validation loss in epoch130 : 6429.8315\n"
     ]
    },
    {
     "name": "stderr",
     "output_type": "stream",
     "text": [
      " 70%|\u001b[32m████████████████████████████████████████████████████████▍                       \u001b[0m| 141/200 [00:41<00:16,  3.67it/s]\u001b[0m"
     ]
    },
    {
     "name": "stdout",
     "output_type": "stream",
     "text": [
      "Validation F1 in epoch140 : 0.8519\n",
      "Validation loss in epoch140 : 6374.5894\n"
     ]
    },
    {
     "name": "stderr",
     "output_type": "stream",
     "text": [
      " 76%|\u001b[32m████████████████████████████████████████████████████████████▍                   \u001b[0m| 151/200 [00:44<00:14,  3.31it/s]\u001b[0m"
     ]
    },
    {
     "name": "stdout",
     "output_type": "stream",
     "text": [
      "Validation F1 in epoch150 : 0.8514\n",
      "Validation loss in epoch150 : 6398.9111\n"
     ]
    },
    {
     "name": "stderr",
     "output_type": "stream",
     "text": [
      " 80%|\u001b[32m████████████████████████████████████████████████████████████████▍               \u001b[0m| 161/200 [00:47<00:10,  3.58it/s]\u001b[0m"
     ]
    },
    {
     "name": "stdout",
     "output_type": "stream",
     "text": [
      "Validation F1 in epoch160 : 0.8525\n",
      "Validation loss in epoch160 : 6338.3447\n"
     ]
    },
    {
     "name": "stderr",
     "output_type": "stream",
     "text": [
      " 86%|\u001b[32m████████████████████████████████████████████████████████████████████▍           \u001b[0m| 171/200 [00:50<00:09,  3.16it/s]\u001b[0m"
     ]
    },
    {
     "name": "stdout",
     "output_type": "stream",
     "text": [
      "Validation F1 in epoch170 : 0.8529\n",
      "Validation loss in epoch170 : 6346.1064\n"
     ]
    },
    {
     "name": "stderr",
     "output_type": "stream",
     "text": [
      " 90%|\u001b[32m████████████████████████████████████████████████████████████████████████▍       \u001b[0m| 181/200 [00:53<00:05,  3.22it/s]\u001b[0m"
     ]
    },
    {
     "name": "stdout",
     "output_type": "stream",
     "text": [
      "Validation F1 in epoch180 : 0.8537\n",
      "Validation loss in epoch180 : 6368.2051\n"
     ]
    },
    {
     "name": "stderr",
     "output_type": "stream",
     "text": [
      " 96%|\u001b[32m████████████████████████████████████████████████████████████████████████████▍   \u001b[0m| 191/200 [00:56<00:02,  3.46it/s]\u001b[0m"
     ]
    },
    {
     "name": "stdout",
     "output_type": "stream",
     "text": [
      "Validation F1 in epoch190 : 0.8553\n",
      "Validation loss in epoch190 : 6344.4004\n"
     ]
    },
    {
     "name": "stderr",
     "output_type": "stream",
     "text": [
      "100%|\u001b[32m████████████████████████████████████████████████████████████████████████████████\u001b[0m| 200/200 [00:59<00:00,  3.37it/s]\u001b[0m\n"
     ]
    }
   ],
   "source": [
    "import os\n",
    "Net, train_image_loss, val_image_loss, f1_image_list = Trainer(Feature(), all_image_features, 200, 100, 150)\n",
    "Net.eval()\n",
    "with torch.autograd.no_grad():\n",
    "    img_train = Net(all_image_features.to(dev))\n",
    "    img_test = Net(test_image_features.to(dev))"
   ]
  },
  {
   "cell_type": "code",
   "execution_count": 12,
   "id": "gC7moOzLosQX",
   "metadata": {
    "colab": {
     "base_uri": "https://localhost:8080/"
    },
    "id": "gC7moOzLosQX",
    "outputId": "8dcf07c6-fd44-4ce6-f009-e6adf10c68a6"
   },
   "outputs": [
    {
     "name": "stderr",
     "output_type": "stream",
     "text": [
      "  0%|\u001b[32m▍                                                                                 \u001b[0m| 1/200 [00:00<01:09,  2.86it/s]\u001b[0m"
     ]
    },
    {
     "name": "stdout",
     "output_type": "stream",
     "text": [
      "Validation F1 in epoch0 : 0.1094\n",
      "Validation loss in epoch0 : 68824.4062\n"
     ]
    },
    {
     "name": "stderr",
     "output_type": "stream",
     "text": [
      "  6%|\u001b[32m████▍                                                                            \u001b[0m| 11/200 [00:03<00:57,  3.29it/s]\u001b[0m"
     ]
    },
    {
     "name": "stdout",
     "output_type": "stream",
     "text": [
      "Validation F1 in epoch10 : 0.1096\n",
      "Validation loss in epoch10 : 68857.9297\n"
     ]
    },
    {
     "name": "stderr",
     "output_type": "stream",
     "text": [
      " 10%|\u001b[32m████████▌                                                                        \u001b[0m| 21/200 [00:06<00:55,  3.20it/s]\u001b[0m"
     ]
    },
    {
     "name": "stdout",
     "output_type": "stream",
     "text": [
      "Validation F1 in epoch20 : 0.5953\n",
      "Validation loss in epoch20 : 15601.7090\n"
     ]
    },
    {
     "name": "stderr",
     "output_type": "stream",
     "text": [
      " 16%|\u001b[32m████████████▌                                                                    \u001b[0m| 31/200 [00:09<00:52,  3.23it/s]\u001b[0m"
     ]
    },
    {
     "name": "stdout",
     "output_type": "stream",
     "text": [
      "Validation F1 in epoch30 : 0.6437\n",
      "Validation loss in epoch30 : 13118.0537\n"
     ]
    },
    {
     "name": "stderr",
     "output_type": "stream",
     "text": [
      " 20%|\u001b[32m████████████████▌                                                                \u001b[0m| 41/200 [00:12<00:49,  3.19it/s]\u001b[0m"
     ]
    },
    {
     "name": "stdout",
     "output_type": "stream",
     "text": [
      "Validation F1 in epoch40 : 0.7745\n",
      "Validation loss in epoch40 : 9467.9541\n"
     ]
    },
    {
     "name": "stderr",
     "output_type": "stream",
     "text": [
      " 26%|\u001b[32m████████████████████▋                                                            \u001b[0m| 51/200 [00:16<00:47,  3.16it/s]\u001b[0m"
     ]
    },
    {
     "name": "stdout",
     "output_type": "stream",
     "text": [
      "Validation F1 in epoch50 : 0.8146\n",
      "Validation loss in epoch50 : 7772.9141\n"
     ]
    },
    {
     "name": "stderr",
     "output_type": "stream",
     "text": [
      " 30%|\u001b[32m████████████████████████▋                                                        \u001b[0m| 61/200 [00:19<00:45,  3.06it/s]\u001b[0m"
     ]
    },
    {
     "name": "stdout",
     "output_type": "stream",
     "text": [
      "Validation F1 in epoch60 : 0.8316\n",
      "Validation loss in epoch60 : 7085.8394\n"
     ]
    },
    {
     "name": "stderr",
     "output_type": "stream",
     "text": [
      " 36%|\u001b[32m████████████████████████████▊                                                    \u001b[0m| 71/200 [00:22<00:41,  3.13it/s]\u001b[0m"
     ]
    },
    {
     "name": "stdout",
     "output_type": "stream",
     "text": [
      "Validation F1 in epoch70 : 0.8373\n",
      "Validation loss in epoch70 : 6868.7432\n"
     ]
    },
    {
     "name": "stderr",
     "output_type": "stream",
     "text": [
      " 40%|\u001b[32m████████████████████████████████▊                                                \u001b[0m| 81/200 [00:25<00:36,  3.24it/s]\u001b[0m"
     ]
    },
    {
     "name": "stdout",
     "output_type": "stream",
     "text": [
      "Validation F1 in epoch80 : 0.8405\n",
      "Validation loss in epoch80 : 6701.0928\n"
     ]
    },
    {
     "name": "stderr",
     "output_type": "stream",
     "text": [
      " 46%|\u001b[32m████████████████████████████████████▊                                            \u001b[0m| 91/200 [00:28<00:33,  3.24it/s]\u001b[0m"
     ]
    },
    {
     "name": "stdout",
     "output_type": "stream",
     "text": [
      "Validation F1 in epoch90 : 0.8479\n",
      "Validation loss in epoch90 : 6580.7607\n"
     ]
    },
    {
     "name": "stderr",
     "output_type": "stream",
     "text": [
      " 50%|\u001b[32m████████████████████████████████████████▍                                       \u001b[0m| 101/200 [00:31<00:31,  3.19it/s]\u001b[0m"
     ]
    },
    {
     "name": "stdout",
     "output_type": "stream",
     "text": [
      "Validation F1 in epoch100 : 0.8479\n",
      "Validation loss in epoch100 : 6598.9258\n"
     ]
    },
    {
     "name": "stderr",
     "output_type": "stream",
     "text": [
      " 56%|\u001b[32m████████████████████████████████████████████▍                                   \u001b[0m| 111/200 [00:35<00:28,  3.10it/s]\u001b[0m"
     ]
    },
    {
     "name": "stdout",
     "output_type": "stream",
     "text": [
      "Validation F1 in epoch110 : 0.8471\n",
      "Validation loss in epoch110 : 6706.0889\n"
     ]
    },
    {
     "name": "stderr",
     "output_type": "stream",
     "text": [
      " 60%|\u001b[32m████████████████████████████████████████████████▍                               \u001b[0m| 121/200 [00:38<00:25,  3.11it/s]\u001b[0m"
     ]
    },
    {
     "name": "stdout",
     "output_type": "stream",
     "text": [
      "Validation F1 in epoch120 : 0.8499\n",
      "Validation loss in epoch120 : 6842.4126\n"
     ]
    },
    {
     "name": "stderr",
     "output_type": "stream",
     "text": [
      " 66%|\u001b[32m████████████████████████████████████████████████████▍                           \u001b[0m| 131/200 [00:41<00:22,  3.07it/s]\u001b[0m"
     ]
    },
    {
     "name": "stdout",
     "output_type": "stream",
     "text": [
      "Validation F1 in epoch130 : 0.8453\n",
      "Validation loss in epoch130 : 7080.1089\n"
     ]
    },
    {
     "name": "stderr",
     "output_type": "stream",
     "text": [
      " 70%|\u001b[32m████████████████████████████████████████████████████████▍                       \u001b[0m| 141/200 [00:44<00:19,  3.10it/s]\u001b[0m"
     ]
    },
    {
     "name": "stdout",
     "output_type": "stream",
     "text": [
      "Validation F1 in epoch140 : 0.8438\n",
      "Validation loss in epoch140 : 7555.4927\n"
     ]
    },
    {
     "name": "stderr",
     "output_type": "stream",
     "text": [
      " 76%|\u001b[32m████████████████████████████████████████████████████████████▍                   \u001b[0m| 151/200 [00:47<00:15,  3.20it/s]\u001b[0m"
     ]
    },
    {
     "name": "stdout",
     "output_type": "stream",
     "text": [
      "Validation F1 in epoch150 : 0.8411\n",
      "Validation loss in epoch150 : 8080.2549\n"
     ]
    },
    {
     "name": "stderr",
     "output_type": "stream",
     "text": [
      " 80%|\u001b[32m████████████████████████████████████████████████████████████████▍               \u001b[0m| 161/200 [00:51<00:12,  3.14it/s]\u001b[0m"
     ]
    },
    {
     "name": "stdout",
     "output_type": "stream",
     "text": [
      "Validation F1 in epoch160 : 0.8410\n",
      "Validation loss in epoch160 : 8479.0439\n"
     ]
    },
    {
     "name": "stderr",
     "output_type": "stream",
     "text": [
      " 86%|\u001b[32m████████████████████████████████████████████████████████████████████▍           \u001b[0m| 171/200 [00:54<00:09,  3.19it/s]\u001b[0m"
     ]
    },
    {
     "name": "stdout",
     "output_type": "stream",
     "text": [
      "Validation F1 in epoch170 : 0.8364\n",
      "Validation loss in epoch170 : 9208.4951\n"
     ]
    },
    {
     "name": "stderr",
     "output_type": "stream",
     "text": [
      " 90%|\u001b[32m████████████████████████████████████████████████████████████████████████▍       \u001b[0m| 181/200 [00:57<00:05,  3.17it/s]\u001b[0m"
     ]
    },
    {
     "name": "stdout",
     "output_type": "stream",
     "text": [
      "Validation F1 in epoch180 : 0.8371\n",
      "Validation loss in epoch180 : 9881.4375\n"
     ]
    },
    {
     "name": "stderr",
     "output_type": "stream",
     "text": [
      " 96%|\u001b[32m████████████████████████████████████████████████████████████████████████████▍   \u001b[0m| 191/200 [01:00<00:02,  3.15it/s]\u001b[0m"
     ]
    },
    {
     "name": "stdout",
     "output_type": "stream",
     "text": [
      "Validation F1 in epoch190 : 0.8358\n",
      "Validation loss in epoch190 : 10334.8652\n"
     ]
    },
    {
     "name": "stderr",
     "output_type": "stream",
     "text": [
      "100%|\u001b[32m████████████████████████████████████████████████████████████████████████████████\u001b[0m| 200/200 [01:03<00:00,  3.16it/s]\u001b[0m\n"
     ]
    }
   ],
   "source": [
    "import os\n",
    "Net, g_train_image_loss, g_val_image_loss, g_f1_image_list = Trainer(gMLP_feature(), all_image_features,  200, 100, 150)\n",
    "Net.eval()\n",
    "with torch.autograd.no_grad():\n",
    "    img_train = Net(all_image_features.to(dev))\n",
    "    img_test = Net(test_image_features.to(dev))"
   ]
  },
  {
   "cell_type": "code",
   "execution_count": 13,
   "id": "678b34b3",
   "metadata": {
    "colab": {
     "base_uri": "https://localhost:8080/",
     "height": 449
    },
    "id": "678b34b3",
    "outputId": "47ef64b9-5a6c-4a65-a162-94c26308523f"
   },
   "outputs": [
    {
     "data": {
      "image/png": "[encoded data removed]",
      "text/plain": [
       "<Figure size 640x480 with 1 Axes>"
      ]
     },
     "metadata": {},
     "output_type": "display_data"
    }
   ],
   "source": [
    "import matplotlib.pyplot as plt\n",
    "plt.plot(g_val_image_loss, label='gMLP loss')\n",
    "plt.plot(val_image_loss, label='MLP loss')\n",
    "plt.xlabel('Training Epoch')\n",
    "plt.ylabel('Loss')\n",
    "plt.legend()\n",
    "#plt.savefig('mlploss.png')\n",
    "plt.show()"
   ]
  },
  {
   "cell_type": "code",
   "execution_count": 14,
   "id": "cbd3c20b",
   "metadata": {},
   "outputs": [
    {
     "name": "stdout",
     "output_type": "stream",
     "text": [
      "0.8556700944900513\n",
      "0.8350638747215271\n"
     ]
    }
   ],
   "source": [
    "print(f1_image_list[-1])\n",
    "print(g_f1_image_list[-1])"
   ]
  },
  {
   "cell_type": "code",
   "execution_count": 16,
   "id": "62baebbe",
   "metadata": {
    "id": "62baebbe",
    "outputId": "0c1e5b81-feb5-4565-8b3f-cf4f470a70c1"
   },
   "outputs": [
    {
     "name": "stdout",
     "output_type": "stream",
     "text": [
      "Mean:  0.855337659517924 0.8350638747215271\n",
      "Std:  0.0008200910654700217 0.0\n"
     ]
    }
   ],
   "source": [
    "import numpy as np\n",
    "\n",
    "MLP = [0.8561336994171143, 0.8542091846466064, 0.8556700944900513]\n",
    "GMLP = [0.8350638747215271, 0.8350638747215271, 0.8350638747215271]\n",
    "\n",
    "print(\"Mean: \", np.mean(MLP), np.mean(GMLP))\n",
    "print('Std: ', np.std(MLP), np.std(GMLP))"
   ]
  }
 ],
 "metadata": {
  "accelerator": "GPU",
  "colab": {
   "gpuType": "T4",
   "include_colab_link": true,
   "provenance": []
  },
  "gpuClass": "standard",
  "kernelspec": {
   "display_name": "Python 3 (ipykernel)",
   "language": "python",
   "name": "python3"
  },
  "language_info": {
   "codemirror_mode": {
    "name": "ipython",
    "version": 3
   },
   "file_extension": ".py",
   "mimetype": "text/x-python",
   "name": "python",
   "nbconvert_exporter": "python",
   "pygments_lexer": "ipython3",
   "version": "3.10.11"
  }
 },
 "nbformat": 4,
 "nbformat_minor": 5
}
